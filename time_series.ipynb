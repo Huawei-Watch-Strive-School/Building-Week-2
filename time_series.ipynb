{
 "cells": [
  {
   "cell_type": "code",
   "execution_count": 11,
   "id": "985aaea4",
   "metadata": {
    "ExecuteTime": {
     "end_time": "2021-05-20T17:08:34.283474Z",
     "start_time": "2021-05-20T17:08:34.266577Z"
    }
   },
   "outputs": [],
   "source": [
    "import pandas as pd\n",
    "import numpy as np\n",
    "import random\n",
    "import pickle\n",
    "from time import time, sleep"
   ]
  },
  {
   "cell_type": "code",
   "execution_count": 6,
   "id": "e0c4fdb3",
   "metadata": {
    "ExecuteTime": {
     "end_time": "2021-05-20T17:05:43.786960Z",
     "start_time": "2021-05-20T17:05:43.719506Z"
    }
   },
   "outputs": [],
   "source": [
    "df = pd.read_csv(\"./times_series_test.csv\")"
   ]
  },
  {
   "cell_type": "code",
   "execution_count": 7,
   "id": "6d253f8d",
   "metadata": {
    "ExecuteTime": {
     "end_time": "2021-05-20T17:05:45.694049Z",
     "start_time": "2021-05-20T17:05:45.639388Z"
    }
   },
   "outputs": [
    {
     "data": {
      "text/html": [
       "<div>\n",
       "<style scoped>\n",
       "    .dataframe tbody tr th:only-of-type {\n",
       "        vertical-align: middle;\n",
       "    }\n",
       "\n",
       "    .dataframe tbody tr th {\n",
       "        vertical-align: top;\n",
       "    }\n",
       "\n",
       "    .dataframe thead th {\n",
       "        text-align: right;\n",
       "    }\n",
       "</style>\n",
       "<table border=\"1\" class=\"dataframe\">\n",
       "  <thead>\n",
       "    <tr style=\"text-align: right;\">\n",
       "      <th></th>\n",
       "      <th>android_sensor_gyroscope_mean</th>\n",
       "      <th>android_sensor_accelerometer_std</th>\n",
       "      <th>android_sensor_gyroscope_std</th>\n",
       "      <th>android_sensor_gyroscope_uncalibrated_mean</th>\n",
       "      <th>android_sensor_accelerometer_max</th>\n",
       "      <th>android_sensor_linear_acceleration_mean</th>\n",
       "      <th>android_sensor_rotation_vector_mean</th>\n",
       "      <th>android_sensor_rotation_vector_max</th>\n",
       "      <th>android_sensor_accelerometer_min</th>\n",
       "      <th>android_sensor_magnetic_field_uncalibrated_min</th>\n",
       "      <th>sound_min</th>\n",
       "      <th>target</th>\n",
       "      <th>user</th>\n",
       "    </tr>\n",
       "  </thead>\n",
       "  <tbody>\n",
       "    <tr>\n",
       "      <th>0</th>\n",
       "      <td>0.001651</td>\n",
       "      <td>0.014626</td>\n",
       "      <td>0.000737</td>\n",
       "      <td>0.016221</td>\n",
       "      <td>9.849411</td>\n",
       "      <td>0.020978</td>\n",
       "      <td>0.050413</td>\n",
       "      <td>0.056351</td>\n",
       "      <td>9.758895</td>\n",
       "      <td>51.199707</td>\n",
       "      <td>83.859708</td>\n",
       "      <td>Still</td>\n",
       "      <td>Luca</td>\n",
       "    </tr>\n",
       "    <tr>\n",
       "      <th>1</th>\n",
       "      <td>0.001525</td>\n",
       "      <td>0.011199</td>\n",
       "      <td>0.000713</td>\n",
       "      <td>0.016302</td>\n",
       "      <td>9.849262</td>\n",
       "      <td>0.034110</td>\n",
       "      <td>0.610456</td>\n",
       "      <td>0.610456</td>\n",
       "      <td>9.804817</td>\n",
       "      <td>55.501802</td>\n",
       "      <td>83.859708</td>\n",
       "      <td>Still</td>\n",
       "      <td>Luca</td>\n",
       "    </tr>\n",
       "    <tr>\n",
       "      <th>2</th>\n",
       "      <td>0.001669</td>\n",
       "      <td>0.013051</td>\n",
       "      <td>0.000686</td>\n",
       "      <td>0.015879</td>\n",
       "      <td>9.867058</td>\n",
       "      <td>0.016455</td>\n",
       "      <td>0.965332</td>\n",
       "      <td>0.965332</td>\n",
       "      <td>9.814482</td>\n",
       "      <td>21.466718</td>\n",
       "      <td>83.859708</td>\n",
       "      <td>Still</td>\n",
       "      <td>Luca</td>\n",
       "    </tr>\n",
       "    <tr>\n",
       "      <th>3</th>\n",
       "      <td>0.001690</td>\n",
       "      <td>0.023715</td>\n",
       "      <td>0.000791</td>\n",
       "      <td>0.016217</td>\n",
       "      <td>9.880349</td>\n",
       "      <td>0.031281</td>\n",
       "      <td>0.885837</td>\n",
       "      <td>0.885837</td>\n",
       "      <td>9.765504</td>\n",
       "      <td>45.736420</td>\n",
       "      <td>83.859708</td>\n",
       "      <td>Still</td>\n",
       "      <td>Luca</td>\n",
       "    </tr>\n",
       "    <tr>\n",
       "      <th>4</th>\n",
       "      <td>0.001625</td>\n",
       "      <td>0.016184</td>\n",
       "      <td>0.000731</td>\n",
       "      <td>0.016417</td>\n",
       "      <td>9.852852</td>\n",
       "      <td>0.021487</td>\n",
       "      <td>0.048799</td>\n",
       "      <td>0.054386</td>\n",
       "      <td>9.780049</td>\n",
       "      <td>51.270752</td>\n",
       "      <td>83.859708</td>\n",
       "      <td>Still</td>\n",
       "      <td>Luca</td>\n",
       "    </tr>\n",
       "  </tbody>\n",
       "</table>\n",
       "</div>"
      ],
      "text/plain": [
       "   android_sensor_gyroscope_mean  android_sensor_accelerometer_std  \\\n",
       "0                       0.001651                          0.014626   \n",
       "1                       0.001525                          0.011199   \n",
       "2                       0.001669                          0.013051   \n",
       "3                       0.001690                          0.023715   \n",
       "4                       0.001625                          0.016184   \n",
       "\n",
       "   android_sensor_gyroscope_std  android_sensor_gyroscope_uncalibrated_mean  \\\n",
       "0                      0.000737                                    0.016221   \n",
       "1                      0.000713                                    0.016302   \n",
       "2                      0.000686                                    0.015879   \n",
       "3                      0.000791                                    0.016217   \n",
       "4                      0.000731                                    0.016417   \n",
       "\n",
       "   android_sensor_accelerometer_max  android_sensor_linear_acceleration_mean  \\\n",
       "0                          9.849411                                 0.020978   \n",
       "1                          9.849262                                 0.034110   \n",
       "2                          9.867058                                 0.016455   \n",
       "3                          9.880349                                 0.031281   \n",
       "4                          9.852852                                 0.021487   \n",
       "\n",
       "   android_sensor_rotation_vector_mean  android_sensor_rotation_vector_max  \\\n",
       "0                             0.050413                            0.056351   \n",
       "1                             0.610456                            0.610456   \n",
       "2                             0.965332                            0.965332   \n",
       "3                             0.885837                            0.885837   \n",
       "4                             0.048799                            0.054386   \n",
       "\n",
       "   android_sensor_accelerometer_min  \\\n",
       "0                          9.758895   \n",
       "1                          9.804817   \n",
       "2                          9.814482   \n",
       "3                          9.765504   \n",
       "4                          9.780049   \n",
       "\n",
       "   android_sensor_magnetic_field_uncalibrated_min  sound_min target  user  \n",
       "0                                       51.199707  83.859708  Still  Luca  \n",
       "1                                       55.501802  83.859708  Still  Luca  \n",
       "2                                       21.466718  83.859708  Still  Luca  \n",
       "3                                       45.736420  83.859708  Still  Luca  \n",
       "4                                       51.270752  83.859708  Still  Luca  "
      ]
     },
     "execution_count": 7,
     "metadata": {},
     "output_type": "execute_result"
    }
   ],
   "source": [
    "df.head()"
   ]
  },
  {
   "cell_type": "code",
   "execution_count": 8,
   "id": "e627f72a",
   "metadata": {
    "ExecuteTime": {
     "end_time": "2021-05-20T17:05:51.865542Z",
     "start_time": "2021-05-20T17:05:51.846941Z"
    }
   },
   "outputs": [],
   "source": [
    "X_test = df.drop(['target', 'user'], axis = 1)"
   ]
  },
  {
   "cell_type": "code",
   "execution_count": 13,
   "id": "7f20c29d",
   "metadata": {
    "ExecuteTime": {
     "end_time": "2021-05-20T17:09:55.495452Z",
     "start_time": "2021-05-20T17:09:55.487429Z"
    }
   },
   "outputs": [],
   "source": [
    "Y_test = df.target.replace({'Still':0, 'Walking':1})"
   ]
  },
  {
   "cell_type": "code",
   "execution_count": 14,
   "id": "c7b01f42",
   "metadata": {
    "ExecuteTime": {
     "end_time": "2021-05-20T17:09:58.072791Z",
     "start_time": "2021-05-20T17:09:58.003548Z"
    }
   },
   "outputs": [
    {
     "name": "stdout",
     "output_type": "stream",
     "text": [
      "0.0\n"
     ]
    }
   ],
   "source": [
    "#load the model from disk\n",
    "loaded_model = pickle.load(open('finalized_model.sav', 'rb'))\n",
    "result = loaded_model.score(X_test, Y_test)\n",
    "print(result)"
   ]
  },
  {
   "cell_type": "code",
   "execution_count": null,
   "id": "4779630b",
   "metadata": {},
   "outputs": [],
   "source": [
    "predictions = []\n",
    "\n",
    "for row in range(df.shape[0]):\n",
    "    sleep(1)\n",
    "    pred = random.randrange(0,3)\n",
    "    #pred = model.predict(X_test)\n",
    "    if pred == 0:\n",
    "        pred.append(0)\n",
    "    elif pred == 1:\n",
    "        pred.append(1)\n",
    "    elif pred == 2:\n",
    "        pred.append(2)\n",
    "    elif pred == 3:\n",
    "        pred.append(3)\n",
    "        \n",
    "    if predictions == 5:\n",
    "        \n",
    "        still_cont  = 0\n",
    "        walk_cont  = 0\n",
    "        car_cont  = 0\n",
    "        bus_cont  = 0\n",
    "        \n",
    "        for p in predictions:\n",
    "            if p == 0:\n",
    "                still_cont += 1\n",
    "            elif p == 1:\n",
    "                walk_cont += 1\n",
    "            elif p == 2:\n",
    "                car_cont += 1\n",
    "            elif p == 3:\n",
    "                bus_cont += 1\n",
    "        \n",
    "        if still_cont >= 2:\n",
    "            print('You are currently in still position')\n",
    "        elif walk_cont >= 2:\n",
    "            print('You are currently walking')\n",
    "        elif car_cont >= 2:\n",
    "            print('You are currently in a car')\n",
    "        elif bus_cont >= 2:\n",
    "            print('You are currently in a bu')\n",
    "        \n",
    "        predictions.remove(predictions[0])\n",
    "        "
   ]
  }
 ],
 "metadata": {
  "kernelspec": {
   "display_name": "Python 3",
   "language": "python",
   "name": "python3"
  },
  "language_info": {
   "codemirror_mode": {
    "name": "ipython",
    "version": 3
   },
   "file_extension": ".py",
   "mimetype": "text/x-python",
   "name": "python",
   "nbconvert_exporter": "python",
   "pygments_lexer": "ipython3",
   "version": "3.8.8"
  }
 },
 "nbformat": 4,
 "nbformat_minor": 5
}
