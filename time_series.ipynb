{
 "cells": [
  {
   "cell_type": "code",
   "execution_count": 1,
   "id": "985aaea4",
   "metadata": {
    "ExecuteTime": {
     "end_time": "2021-05-20T22:39:05.432663Z",
     "start_time": "2021-05-20T22:39:05.184652Z"
    }
   },
   "outputs": [],
   "source": [
    "import pandas as pd\n",
    "import numpy as np\n",
    "import random\n",
    "import pickle\n",
    "from time import time, sleep"
   ]
  },
  {
   "cell_type": "code",
   "execution_count": 12,
   "id": "e0c4fdb3",
   "metadata": {
    "ExecuteTime": {
     "end_time": "2021-05-20T22:40:02.096984Z",
     "start_time": "2021-05-20T22:40:02.078538Z"
    }
   },
   "outputs": [],
   "source": [
    "df = pd.read_csv('./data/sample.csv')"
   ]
  },
  {
   "cell_type": "code",
   "execution_count": 13,
   "id": "6d253f8d",
   "metadata": {
    "ExecuteTime": {
     "end_time": "2021-05-20T22:40:03.523869Z",
     "start_time": "2021-05-20T22:40:03.478811Z"
    }
   },
   "outputs": [
    {
     "data": {
      "text/html": [
       "<div>\n",
       "<style scoped>\n",
       "    .dataframe tbody tr th:only-of-type {\n",
       "        vertical-align: middle;\n",
       "    }\n",
       "\n",
       "    .dataframe tbody tr th {\n",
       "        vertical-align: top;\n",
       "    }\n",
       "\n",
       "    .dataframe thead th {\n",
       "        text-align: right;\n",
       "    }\n",
       "</style>\n",
       "<table border=\"1\" class=\"dataframe\">\n",
       "  <thead>\n",
       "    <tr style=\"text-align: right;\">\n",
       "      <th></th>\n",
       "      <th>activityrecognition_1</th>\n",
       "      <th>android_sensor_accelerometer_mean</th>\n",
       "      <th>android_sensor_accelerometer_min</th>\n",
       "      <th>android_sensor_accelerometer_max</th>\n",
       "      <th>android_sensor_accelerometer_std</th>\n",
       "      <th>android_sensor_game_rotation_vector_mean</th>\n",
       "      <th>android_sensor_game_rotation_vector_min</th>\n",
       "      <th>android_sensor_game_rotation_vector_max</th>\n",
       "      <th>android_sensor_game_rotation_vector_std</th>\n",
       "      <th>android_sensor_gravity_mean</th>\n",
       "      <th>...</th>\n",
       "      <th>android_sensor_step_counter_min</th>\n",
       "      <th>android_sensor_step_counter_max</th>\n",
       "      <th>sound_mean</th>\n",
       "      <th>sound_min</th>\n",
       "      <th>sound_max</th>\n",
       "      <th>sound_std</th>\n",
       "      <th>speed_mean</th>\n",
       "      <th>speed_min</th>\n",
       "      <th>speed_max</th>\n",
       "      <th>target</th>\n",
       "    </tr>\n",
       "  </thead>\n",
       "  <tbody>\n",
       "    <tr>\n",
       "      <th>0</th>\n",
       "      <td>77.0</td>\n",
       "      <td>9.400688</td>\n",
       "      <td>9.374814</td>\n",
       "      <td>9.442395</td>\n",
       "      <td>0.021147</td>\n",
       "      <td>0.583520</td>\n",
       "      <td>0.583366</td>\n",
       "      <td>0.583649</td>\n",
       "      <td>0.000127</td>\n",
       "      <td>9.806650</td>\n",
       "      <td>...</td>\n",
       "      <td>NaN</td>\n",
       "      <td>NaN</td>\n",
       "      <td>45.889325</td>\n",
       "      <td>45.889325</td>\n",
       "      <td>45.889325</td>\n",
       "      <td>NaN</td>\n",
       "      <td>0.0</td>\n",
       "      <td>0.0</td>\n",
       "      <td>0.0</td>\n",
       "      <td>Still</td>\n",
       "    </tr>\n",
       "    <tr>\n",
       "      <th>1</th>\n",
       "      <td>77.0</td>\n",
       "      <td>9.386919</td>\n",
       "      <td>9.368177</td>\n",
       "      <td>9.405662</td>\n",
       "      <td>0.026505</td>\n",
       "      <td>0.583799</td>\n",
       "      <td>0.583551</td>\n",
       "      <td>0.584048</td>\n",
       "      <td>0.000352</td>\n",
       "      <td>9.806651</td>\n",
       "      <td>...</td>\n",
       "      <td>NaN</td>\n",
       "      <td>NaN</td>\n",
       "      <td>45.889325</td>\n",
       "      <td>45.889325</td>\n",
       "      <td>45.889325</td>\n",
       "      <td>NaN</td>\n",
       "      <td>0.0</td>\n",
       "      <td>0.0</td>\n",
       "      <td>0.0</td>\n",
       "      <td>Still</td>\n",
       "    </tr>\n",
       "    <tr>\n",
       "      <th>2</th>\n",
       "      <td>15.0</td>\n",
       "      <td>9.489538</td>\n",
       "      <td>9.403752</td>\n",
       "      <td>9.532847</td>\n",
       "      <td>0.041134</td>\n",
       "      <td>0.644381</td>\n",
       "      <td>0.643973</td>\n",
       "      <td>0.644789</td>\n",
       "      <td>0.000577</td>\n",
       "      <td>9.806650</td>\n",
       "      <td>...</td>\n",
       "      <td>NaN</td>\n",
       "      <td>NaN</td>\n",
       "      <td>56.028074</td>\n",
       "      <td>56.028074</td>\n",
       "      <td>56.028074</td>\n",
       "      <td>NaN</td>\n",
       "      <td>NaN</td>\n",
       "      <td>NaN</td>\n",
       "      <td>NaN</td>\n",
       "      <td>Still</td>\n",
       "    </tr>\n",
       "    <tr>\n",
       "      <th>3</th>\n",
       "      <td>77.0</td>\n",
       "      <td>9.398171</td>\n",
       "      <td>9.356409</td>\n",
       "      <td>9.421382</td>\n",
       "      <td>0.019715</td>\n",
       "      <td>0.579753</td>\n",
       "      <td>0.579613</td>\n",
       "      <td>0.579857</td>\n",
       "      <td>0.000102</td>\n",
       "      <td>9.806650</td>\n",
       "      <td>...</td>\n",
       "      <td>NaN</td>\n",
       "      <td>NaN</td>\n",
       "      <td>41.510939</td>\n",
       "      <td>41.510939</td>\n",
       "      <td>41.510939</td>\n",
       "      <td>NaN</td>\n",
       "      <td>0.0</td>\n",
       "      <td>0.0</td>\n",
       "      <td>0.0</td>\n",
       "      <td>Still</td>\n",
       "    </tr>\n",
       "    <tr>\n",
       "      <th>4</th>\n",
       "      <td>77.0</td>\n",
       "      <td>9.396438</td>\n",
       "      <td>9.356411</td>\n",
       "      <td>9.437865</td>\n",
       "      <td>0.033397</td>\n",
       "      <td>0.618250</td>\n",
       "      <td>0.618211</td>\n",
       "      <td>0.618290</td>\n",
       "      <td>0.000056</td>\n",
       "      <td>9.806650</td>\n",
       "      <td>...</td>\n",
       "      <td>NaN</td>\n",
       "      <td>NaN</td>\n",
       "      <td>NaN</td>\n",
       "      <td>NaN</td>\n",
       "      <td>NaN</td>\n",
       "      <td>NaN</td>\n",
       "      <td>0.0</td>\n",
       "      <td>0.0</td>\n",
       "      <td>0.0</td>\n",
       "      <td>Still</td>\n",
       "    </tr>\n",
       "  </tbody>\n",
       "</table>\n",
       "<p>5 rows × 59 columns</p>\n",
       "</div>"
      ],
      "text/plain": [
       "   activityrecognition_1  android_sensor_accelerometer_mean  \\\n",
       "0                   77.0                           9.400688   \n",
       "1                   77.0                           9.386919   \n",
       "2                   15.0                           9.489538   \n",
       "3                   77.0                           9.398171   \n",
       "4                   77.0                           9.396438   \n",
       "\n",
       "   android_sensor_accelerometer_min  android_sensor_accelerometer_max  \\\n",
       "0                          9.374814                          9.442395   \n",
       "1                          9.368177                          9.405662   \n",
       "2                          9.403752                          9.532847   \n",
       "3                          9.356409                          9.421382   \n",
       "4                          9.356411                          9.437865   \n",
       "\n",
       "   android_sensor_accelerometer_std  android_sensor_game_rotation_vector_mean  \\\n",
       "0                          0.021147                                  0.583520   \n",
       "1                          0.026505                                  0.583799   \n",
       "2                          0.041134                                  0.644381   \n",
       "3                          0.019715                                  0.579753   \n",
       "4                          0.033397                                  0.618250   \n",
       "\n",
       "   android_sensor_game_rotation_vector_min  \\\n",
       "0                                 0.583366   \n",
       "1                                 0.583551   \n",
       "2                                 0.643973   \n",
       "3                                 0.579613   \n",
       "4                                 0.618211   \n",
       "\n",
       "   android_sensor_game_rotation_vector_max  \\\n",
       "0                                 0.583649   \n",
       "1                                 0.584048   \n",
       "2                                 0.644789   \n",
       "3                                 0.579857   \n",
       "4                                 0.618290   \n",
       "\n",
       "   android_sensor_game_rotation_vector_std  android_sensor_gravity_mean  ...  \\\n",
       "0                                 0.000127                     9.806650  ...   \n",
       "1                                 0.000352                     9.806651  ...   \n",
       "2                                 0.000577                     9.806650  ...   \n",
       "3                                 0.000102                     9.806650  ...   \n",
       "4                                 0.000056                     9.806650  ...   \n",
       "\n",
       "   android_sensor_step_counter_min  android_sensor_step_counter_max  \\\n",
       "0                              NaN                              NaN   \n",
       "1                              NaN                              NaN   \n",
       "2                              NaN                              NaN   \n",
       "3                              NaN                              NaN   \n",
       "4                              NaN                              NaN   \n",
       "\n",
       "   sound_mean  sound_min  sound_max  sound_std  speed_mean  speed_min  \\\n",
       "0   45.889325  45.889325  45.889325        NaN         0.0        0.0   \n",
       "1   45.889325  45.889325  45.889325        NaN         0.0        0.0   \n",
       "2   56.028074  56.028074  56.028074        NaN         NaN        NaN   \n",
       "3   41.510939  41.510939  41.510939        NaN         0.0        0.0   \n",
       "4         NaN        NaN        NaN        NaN         0.0        0.0   \n",
       "\n",
       "   speed_max  target  \n",
       "0        0.0   Still  \n",
       "1        0.0   Still  \n",
       "2        NaN   Still  \n",
       "3        0.0   Still  \n",
       "4        0.0   Still  \n",
       "\n",
       "[5 rows x 59 columns]"
      ]
     },
     "execution_count": 13,
     "metadata": {},
     "output_type": "execute_result"
    }
   ],
   "source": [
    "df.head()"
   ]
  },
  {
   "cell_type": "code",
   "execution_count": 15,
   "id": "e627f72a",
   "metadata": {
    "ExecuteTime": {
     "end_time": "2021-05-20T22:40:34.414247Z",
     "start_time": "2021-05-20T22:40:34.409397Z"
    }
   },
   "outputs": [],
   "source": [
    "X_test = df.drop(['target'], axis = 1)"
   ]
  },
  {
   "cell_type": "code",
   "execution_count": 13,
   "id": "7f20c29d",
   "metadata": {
    "ExecuteTime": {
     "end_time": "2021-05-20T17:09:55.495452Z",
     "start_time": "2021-05-20T17:09:55.487429Z"
    }
   },
   "outputs": [],
   "source": [
    "Y_test = df.target.replace({'Still':0, 'Walking':1})"
   ]
  },
  {
   "cell_type": "code",
   "execution_count": 14,
   "id": "c7b01f42",
   "metadata": {
    "ExecuteTime": {
     "end_time": "2021-05-20T17:09:58.072791Z",
     "start_time": "2021-05-20T17:09:58.003548Z"
    }
   },
   "outputs": [
    {
     "name": "stdout",
     "output_type": "stream",
     "text": [
      "0.0\n"
     ]
    }
   ],
   "source": [
    "#load the model from disk\n",
    "loaded_model = pickle.load(open('finalized_model.sav', 'rb'))\n",
    "result = loaded_model.score(X_test, Y_test)\n",
    "print(result)"
   ]
  },
  {
   "cell_type": "code",
   "execution_count": null,
   "id": "4779630b",
   "metadata": {},
   "outputs": [],
   "source": [
    "predictions = []\n",
    "\n",
    "for row in range(df.shape[0]):\n",
    "    sleep(1)\n",
    "    pred = random.randrange(0,3)\n",
    "    #pred = model.predict(X_test)\n",
    "    if pred == 0:\n",
    "        pred.append(0)\n",
    "    elif pred == 1:\n",
    "        pred.append(1)\n",
    "    elif pred == 2:\n",
    "        pred.append(2)\n",
    "    elif pred == 3:\n",
    "        pred.append(3)\n",
    "        \n",
    "    if predictions == 5:\n",
    "        \n",
    "        still_cont  = 0\n",
    "        walk_cont  = 0\n",
    "        car_cont  = 0\n",
    "        bus_cont  = 0\n",
    "        \n",
    "        for p in predictions:\n",
    "            if p == 0:\n",
    "                still_cont += 1\n",
    "            elif p == 1:\n",
    "                walk_cont += 1\n",
    "            elif p == 2:\n",
    "                car_cont += 1\n",
    "            elif p == 3:\n",
    "                bus_cont += 1\n",
    "        \n",
    "        if still_cont >= 2:\n",
    "            print('You are currently in still position')\n",
    "        elif walk_cont >= 2:\n",
    "            print('You are currently walking')\n",
    "        elif car_cont >= 2:\n",
    "            print('You are currently in a car')\n",
    "        elif bus_cont >= 2:\n",
    "            print('You are currently in a bu')\n",
    "        \n",
    "        predictions.remove(predictions[0])\n",
    "        "
   ]
  }
 ],
 "metadata": {
  "hide_input": false,
  "kernelspec": {
   "display_name": "Python 3",
   "language": "python",
   "name": "python3"
  },
  "language_info": {
   "codemirror_mode": {
    "name": "ipython",
    "version": 3
   },
   "file_extension": ".py",
   "mimetype": "text/x-python",
   "name": "python",
   "nbconvert_exporter": "python",
   "pygments_lexer": "ipython3",
   "version": "3.8.2"
  },
  "toc": {
   "base_numbering": 1,
   "nav_menu": {},
   "number_sections": true,
   "sideBar": true,
   "skip_h1_title": false,
   "title_cell": "Table of Contents",
   "title_sidebar": "Contents",
   "toc_cell": false,
   "toc_position": {},
   "toc_section_display": true,
   "toc_window_display": false
  },
  "varInspector": {
   "cols": {
    "lenName": 16,
    "lenType": 16,
    "lenVar": 40
   },
   "kernels_config": {
    "python": {
     "delete_cmd_postfix": "",
     "delete_cmd_prefix": "del ",
     "library": "var_list.py",
     "varRefreshCmd": "print(var_dic_list())"
    },
    "r": {
     "delete_cmd_postfix": ") ",
     "delete_cmd_prefix": "rm(",
     "library": "var_list.r",
     "varRefreshCmd": "cat(var_dic_list()) "
    }
   },
   "types_to_exclude": [
    "module",
    "function",
    "builtin_function_or_method",
    "instance",
    "_Feature"
   ],
   "window_display": false
  }
 },
 "nbformat": 4,
 "nbformat_minor": 5
}
