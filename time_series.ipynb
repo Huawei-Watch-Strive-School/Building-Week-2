{
 "cells": [
  {
   "cell_type": "code",
   "execution_count": 1,
   "id": "985aaea4",
   "metadata": {
    "ExecuteTime": {
     "end_time": "2021-05-21T01:34:08.698136Z",
     "start_time": "2021-05-21T01:34:08.007548Z"
    }
   },
   "outputs": [],
   "source": [
    "import pandas as pd\n",
    "import numpy as np\n",
    "from time import time, sleep\n",
    "import joblib\n",
    "from sklearn.preprocessing import MinMaxScaler, Normalizer, PowerTransformer, QuantileTransformer, RobustScaler, StandardScaler, LabelEncoder, OneHotEncoder, OrdinalEncoder\n",
    "from sklearn.decomposition import PCA\n",
    "from sklearn.pipeline import Pipeline, make_pipeline\n",
    "from sklearn import set_config, impute, compose\n",
    "from sklearn.metrics import accuracy_score, balanced_accuracy_score, plot_confusion_matrix, roc_auc_score\n"
   ]
  },
  {
   "cell_type": "code",
   "execution_count": 3,
   "id": "80d55849",
   "metadata": {
    "ExecuteTime": {
     "end_time": "2021-05-21T01:34:11.265881Z",
     "start_time": "2021-05-21T01:34:11.187087Z"
    }
   },
   "outputs": [],
   "source": [
    "df = pd.read_csv('./data/sample.csv')\n",
    "X = df.drop('target', axis=1)\n",
    "y = df.target\n",
    "preprocessor = joblib.load('./model/preprocessor.x')\n",
    "model = joblib.load('./model/model.x')\n",
    "clf = Pipeline([('pre', preprocessor), ('classification', model)])"
   ]
  },
  {
   "cell_type": "code",
   "execution_count": 19,
   "id": "bf109665",
   "metadata": {
    "ExecuteTime": {
     "end_time": "2021-05-21T01:50:59.582029Z",
     "start_time": "2021-05-21T01:50:59.544644Z"
    }
   },
   "outputs": [
    {
     "name": "stdout",
     "output_type": "stream",
     "text": [
      "model score: 93.3\n"
     ]
    }
   ],
   "source": [
    "clf.predict(X)\n",
    "score=clf.score(X, y)*100\n",
    "print(\"model score: %.1f\" % score)"
   ]
  },
  {
   "cell_type": "code",
   "execution_count": 12,
   "id": "4779630b",
   "metadata": {
    "ExecuteTime": {
     "end_time": "2021-05-21T01:41:18.048330Z",
     "start_time": "2021-05-21T01:40:21.571391Z"
    }
   },
   "outputs": [
    {
     "name": "stdout",
     "output_type": "stream",
     "text": [
      "You are currently in still position\n",
      "You are currently in still position\n",
      "You are currently in still position\n",
      "You are currently in still position\n",
      "You are currently in still position\n",
      "You are currently in still position\n",
      "You are currently in still position\n",
      "You are currently in still position\n",
      "You are currently in a car\n",
      "You are currently in a car\n",
      "You are currently in a car\n",
      "You are currently in a car\n",
      "You are currently in a car\n",
      "You are currently in a car\n",
      "You are currently in a car\n",
      "You are currently in a car\n",
      "You are currently in a car\n",
      "You are currently in a car\n",
      "You are currently walking\n",
      "You are currently walking\n",
      "You are currently walking\n",
      "You are currently walking\n",
      "You are currently walking\n",
      "You are currently walking\n",
      "You are currently walking\n",
      "You are currently walking\n"
     ]
    }
   ],
   "source": [
    "predictions=[]\n",
    "for i in range(df.shape[0]):\n",
    "    x_test = df.drop('target', axis=1).values[i].reshape(1, -1)\n",
    "    x_test = pd.DataFrame(x_test, columns=df.drop('target', axis=1).columns)\n",
    "    sleep(1)\n",
    "    pred = clf.predict(x_test)\n",
    "    if pred == 'Car':\n",
    "        predictions.append('Car')\n",
    "    elif pred == 'Still':\n",
    "        predictions.append('Still')\n",
    "    elif pred == 'Walking':\n",
    "        predictions.append('Walking')\n",
    "\n",
    "    if len(predictions) == 5:\n",
    "        still_cont = 0\n",
    "        walk_cont = 0\n",
    "        car_cont = 0\n",
    "        sleep(1)\n",
    "        for p in predictions:\n",
    "            if p == 'Still':\n",
    "                still_cont += 1\n",
    "            elif p == 'Car':\n",
    "                car_cont += 1\n",
    "            elif p == 'Walking':\n",
    "                walk_cont += 1\n",
    "        if still_cont >= 3:\n",
    "            print('You are currently in still position')\n",
    "        elif walk_cont >= 3:\n",
    "            print('You are currently walking')\n",
    "        elif car_cont >= 3:\n",
    "            print('You are currently in a car')\n",
    "        predictions.remove(predictions[0])\n"
   ]
  }
 ],
 "metadata": {
  "hide_input": false,
  "kernelspec": {
   "display_name": "Python 3",
   "language": "python",
   "name": "python3"
  },
  "language_info": {
   "codemirror_mode": {
    "name": "ipython",
    "version": 3
   },
   "file_extension": ".py",
   "mimetype": "text/x-python",
   "name": "python",
   "nbconvert_exporter": "python",
   "pygments_lexer": "ipython3",
   "version": "3.8.2"
  },
  "toc": {
   "base_numbering": 1,
   "nav_menu": {},
   "number_sections": true,
   "sideBar": true,
   "skip_h1_title": false,
   "title_cell": "Table of Contents",
   "title_sidebar": "Contents",
   "toc_cell": false,
   "toc_position": {},
   "toc_section_display": true,
   "toc_window_display": false
  },
  "varInspector": {
   "cols": {
    "lenName": 16,
    "lenType": 16,
    "lenVar": 40
   },
   "kernels_config": {
    "python": {
     "delete_cmd_postfix": "",
     "delete_cmd_prefix": "del ",
     "library": "var_list.py",
     "varRefreshCmd": "print(var_dic_list())"
    },
    "r": {
     "delete_cmd_postfix": ") ",
     "delete_cmd_prefix": "rm(",
     "library": "var_list.r",
     "varRefreshCmd": "cat(var_dic_list()) "
    }
   },
   "types_to_exclude": [
    "module",
    "function",
    "builtin_function_or_method",
    "instance",
    "_Feature"
   ],
   "window_display": false
  }
 },
 "nbformat": 4,
 "nbformat_minor": 5
}
