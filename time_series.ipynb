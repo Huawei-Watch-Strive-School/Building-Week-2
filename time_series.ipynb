{
 "cells": [
  {
   "cell_type": "code",
   "execution_count": 1,
   "id": "985aaea4",
   "metadata": {
    "ExecuteTime": {
     "end_time": "2021-05-21T01:34:08.698136Z",
     "start_time": "2021-05-21T01:34:08.007548Z"
    }
   },
   "outputs": [],
   "source": [
    "import pandas as pd\n",
    "import numpy as np\n",
    "from time import time, sleep\n",
    "import joblib\n",
    "from sklearn.preprocessing import MinMaxScaler, Normalizer, PowerTransformer, QuantileTransformer, RobustScaler, StandardScaler, LabelEncoder, OneHotEncoder, OrdinalEncoder\n",
    "from sklearn.decomposition import PCA\n",
    "from sklearn.pipeline import Pipeline, make_pipeline\n",
    "from sklearn import set_config, impute, compose\n",
    "from sklearn.metrics import accuracy_score, balanced_accuracy_score, plot_confusion_matrix, roc_auc_score\n"
   ]
  },
  {
   "cell_type": "code",
   "execution_count": 2,
   "id": "e0c4fdb3",
   "metadata": {
    "ExecuteTime": {
     "end_time": "2021-05-21T01:34:09.303452Z",
     "start_time": "2021-05-21T01:34:09.281773Z"
    }
   },
   "outputs": [
    {
     "data": {
      "text/plain": [
       "(30, 59)"
      ]
     },
     "execution_count": 2,
     "metadata": {},
     "output_type": "execute_result"
    }
   ],
   "source": [
    "df = pd.read_csv('./data/sample.csv')\n",
    "df.shape"
   ]
  },
  {
   "cell_type": "code",
   "execution_count": 3,
   "id": "f1e41099",
   "metadata": {
    "ExecuteTime": {
     "end_time": "2021-05-21T01:34:11.265881Z",
     "start_time": "2021-05-21T01:34:11.187087Z"
    }
   },
   "outputs": [],
   "source": [
    "df = pd.read_csv('./data/sample.csv')\n",
    "X = df.drop('target', axis=1)\n",
    "y = df.target\n",
    "preprocessor = joblib.load('./model/preprocessor.x')\n",
    "model = joblib.load('./model/model.x')\n",
    "clf = Pipeline([('pre', preprocessor), ('classification', model)])"
   ]
  },
  {
   "cell_type": "code",
   "execution_count": null,
   "id": "e19691e3",
   "metadata": {
    "ExecuteTime": {
     "end_time": "2021-05-21T01:18:03.306218Z",
     "start_time": "2021-05-21T01:18:03.299986Z"
    }
   },
   "outputs": [],
   "source": [
    "X.shape"
   ]
  },
  {
   "cell_type": "code",
   "execution_count": null,
   "id": "4779630b",
   "metadata": {
    "ExecuteTime": {
     "start_time": "2021-05-21T01:35:07.777Z"
    }
   },
   "outputs": [
    {
     "name": "stdout",
     "output_type": "stream",
     "text": [
      "['Still', 'Still', 'Walking', 'Walking', 'Still']\n",
      "You are currently in still position\n"
     ]
    }
   ],
   "source": [
    "predictions=[]\n",
    "for i in range(df.shape[0]):\n",
    "    x_test = df.drop('target', axis=1).values[i].reshape(1, -1)\n",
    "    x_test = pd.DataFrame(x_test, columns=df.drop('target', axis=1).columns)\n",
    "    sleep(1)\n",
    "    pred = clf.predict(x_test)\n",
    "    if pred == 'Car':\n",
    "        predictions.append('Car')\n",
    "    elif pred == 'Still':\n",
    "        predictions.append('Still')\n",
    "    elif pred == 'Walking':\n",
    "        predictions.append('Walking')\n",
    "\n",
    "    if len(predictions) == 5:\n",
    "        still_cont = 0\n",
    "        walk_cont = 0\n",
    "        car_cont = 0\n",
    "        sleep(1)\n",
    "        for p in predictions:\n",
    "            if p == 'Still':\n",
    "                still_cont += 1\n",
    "            elif p == 'Car':\n",
    "                car_cont += 1\n",
    "            elif p == 'Walking':\n",
    "                walk_cont += 1\n",
    "        print(predictions)\n",
    "        if still_cont >= 3:\n",
    "            print('You are currently in still position')\n",
    "            continue\n",
    "        elif walk_cont >= 3:\n",
    "            print('You are currently walking')\n",
    "            continue\n",
    "        elif car_cont >= 3:\n",
    "            print('You are currently in a car')\n",
    "            continue\n",
    "        predictions.remove(predictions[0])\n"
   ]
  },
  {
   "cell_type": "code",
   "execution_count": null,
   "id": "4bb0ed8e",
   "metadata": {
    "ExecuteTime": {
     "end_time": "2021-05-21T01:10:31.111643Z",
     "start_time": "2021-05-21T01:10:31.106311Z"
    }
   },
   "outputs": [],
   "source": [
    "predictions"
   ]
  }
 ],
 "metadata": {
  "hide_input": false,
  "kernelspec": {
   "display_name": "Python 3",
   "language": "python",
   "name": "python3"
  },
  "language_info": {
   "codemirror_mode": {
    "name": "ipython",
    "version": 3
   },
   "file_extension": ".py",
   "mimetype": "text/x-python",
   "name": "python",
   "nbconvert_exporter": "python",
   "pygments_lexer": "ipython3",
   "version": "3.8.2"
  },
  "toc": {
   "base_numbering": 1,
   "nav_menu": {},
   "number_sections": true,
   "sideBar": true,
   "skip_h1_title": false,
   "title_cell": "Table of Contents",
   "title_sidebar": "Contents",
   "toc_cell": false,
   "toc_position": {},
   "toc_section_display": true,
   "toc_window_display": false
  },
  "varInspector": {
   "cols": {
    "lenName": 16,
    "lenType": 16,
    "lenVar": 40
   },
   "kernels_config": {
    "python": {
     "delete_cmd_postfix": "",
     "delete_cmd_prefix": "del ",
     "library": "var_list.py",
     "varRefreshCmd": "print(var_dic_list())"
    },
    "r": {
     "delete_cmd_postfix": ") ",
     "delete_cmd_prefix": "rm(",
     "library": "var_list.r",
     "varRefreshCmd": "cat(var_dic_list()) "
    }
   },
   "types_to_exclude": [
    "module",
    "function",
    "builtin_function_or_method",
    "instance",
    "_Feature"
   ],
   "window_display": false
  }
 },
 "nbformat": 4,
 "nbformat_minor": 5
}
