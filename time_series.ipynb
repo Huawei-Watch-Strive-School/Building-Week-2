{
 "cells": [
  {
   "cell_type": "code",
   "execution_count": 1,
   "id": "985aaea4",
   "metadata": {
    "ExecuteTime": {
     "end_time": "2021-05-21T00:29:35.951142Z",
     "start_time": "2021-05-21T00:29:35.308752Z"
    }
   },
   "outputs": [],
   "source": [
    "import pandas as pd\n",
    "import numpy as np\n",
    "from time import time, sleep\n",
    "import joblib\n",
    "from sklearn.preprocessing import MinMaxScaler, Normalizer, PowerTransformer, QuantileTransformer, RobustScaler, StandardScaler, LabelEncoder, OneHotEncoder, OrdinalEncoder\n",
    "from sklearn.decomposition import PCA\n",
    "from sklearn.pipeline import Pipeline, make_pipeline\n",
    "from sklearn import set_config, impute, compose\n",
    "from sklearn.metrics import accuracy_score, balanced_accuracy_score, plot_confusion_matrix, roc_auc_score\n"
   ]
  },
  {
   "cell_type": "code",
   "execution_count": 2,
   "id": "e0c4fdb3",
   "metadata": {
    "ExecuteTime": {
     "end_time": "2021-05-21T00:29:39.837219Z",
     "start_time": "2021-05-21T00:29:39.823527Z"
    }
   },
   "outputs": [],
   "source": [
    "df = pd.read_csv('./data/sample.csv')"
   ]
  },
  {
   "cell_type": "code",
   "execution_count": 3,
   "id": "6d253f8d",
   "metadata": {
    "ExecuteTime": {
     "end_time": "2021-05-21T00:29:41.616197Z",
     "start_time": "2021-05-21T00:29:41.578918Z"
    },
    "scrolled": true
   },
   "outputs": [
    {
     "data": {
      "text/html": [
       "<div>\n",
       "<style scoped>\n",
       "    .dataframe tbody tr th:only-of-type {\n",
       "        vertical-align: middle;\n",
       "    }\n",
       "\n",
       "    .dataframe tbody tr th {\n",
       "        vertical-align: top;\n",
       "    }\n",
       "\n",
       "    .dataframe thead th {\n",
       "        text-align: right;\n",
       "    }\n",
       "</style>\n",
       "<table border=\"1\" class=\"dataframe\">\n",
       "  <thead>\n",
       "    <tr style=\"text-align: right;\">\n",
       "      <th></th>\n",
       "      <th>activityrecognition_1</th>\n",
       "      <th>android_sensor_accelerometer_mean</th>\n",
       "      <th>android_sensor_accelerometer_min</th>\n",
       "      <th>android_sensor_accelerometer_max</th>\n",
       "      <th>android_sensor_accelerometer_std</th>\n",
       "      <th>android_sensor_game_rotation_vector_mean</th>\n",
       "      <th>android_sensor_game_rotation_vector_min</th>\n",
       "      <th>android_sensor_game_rotation_vector_max</th>\n",
       "      <th>android_sensor_game_rotation_vector_std</th>\n",
       "      <th>android_sensor_gravity_mean</th>\n",
       "      <th>...</th>\n",
       "      <th>android_sensor_step_counter_min</th>\n",
       "      <th>android_sensor_step_counter_max</th>\n",
       "      <th>sound_mean</th>\n",
       "      <th>sound_min</th>\n",
       "      <th>sound_max</th>\n",
       "      <th>sound_std</th>\n",
       "      <th>speed_mean</th>\n",
       "      <th>speed_min</th>\n",
       "      <th>speed_max</th>\n",
       "      <th>target</th>\n",
       "    </tr>\n",
       "  </thead>\n",
       "  <tbody>\n",
       "    <tr>\n",
       "      <th>0</th>\n",
       "      <td>100.0</td>\n",
       "      <td>9.450422</td>\n",
       "      <td>9.429991</td>\n",
       "      <td>9.469626</td>\n",
       "      <td>0.016203</td>\n",
       "      <td>0.813843</td>\n",
       "      <td>0.813843</td>\n",
       "      <td>0.813843</td>\n",
       "      <td>0.000801</td>\n",
       "      <td>9.806650</td>\n",
       "      <td>...</td>\n",
       "      <td>NaN</td>\n",
       "      <td>NaN</td>\n",
       "      <td>49.938593</td>\n",
       "      <td>49.938593</td>\n",
       "      <td>49.938593</td>\n",
       "      <td>12.131488</td>\n",
       "      <td>NaN</td>\n",
       "      <td>NaN</td>\n",
       "      <td>NaN</td>\n",
       "      <td>Still</td>\n",
       "    </tr>\n",
       "    <tr>\n",
       "      <th>1</th>\n",
       "      <td>15.0</td>\n",
       "      <td>9.476637</td>\n",
       "      <td>9.462833</td>\n",
       "      <td>9.498124</td>\n",
       "      <td>0.014979</td>\n",
       "      <td>0.642445</td>\n",
       "      <td>0.642445</td>\n",
       "      <td>0.642445</td>\n",
       "      <td>0.000292</td>\n",
       "      <td>9.806650</td>\n",
       "      <td>...</td>\n",
       "      <td>NaN</td>\n",
       "      <td>NaN</td>\n",
       "      <td>60.555144</td>\n",
       "      <td>60.555144</td>\n",
       "      <td>60.555144</td>\n",
       "      <td>NaN</td>\n",
       "      <td>NaN</td>\n",
       "      <td>NaN</td>\n",
       "      <td>NaN</td>\n",
       "      <td>Still</td>\n",
       "    </tr>\n",
       "    <tr>\n",
       "      <th>2</th>\n",
       "      <td>77.0</td>\n",
       "      <td>9.674269</td>\n",
       "      <td>9.134530</td>\n",
       "      <td>10.113713</td>\n",
       "      <td>0.350043</td>\n",
       "      <td>0.681375</td>\n",
       "      <td>0.615823</td>\n",
       "      <td>0.774514</td>\n",
       "      <td>0.082864</td>\n",
       "      <td>9.806651</td>\n",
       "      <td>...</td>\n",
       "      <td>NaN</td>\n",
       "      <td>NaN</td>\n",
       "      <td>49.855208</td>\n",
       "      <td>49.855208</td>\n",
       "      <td>49.855208</td>\n",
       "      <td>NaN</td>\n",
       "      <td>0.0</td>\n",
       "      <td>0.0</td>\n",
       "      <td>0.0</td>\n",
       "      <td>Still</td>\n",
       "    </tr>\n",
       "    <tr>\n",
       "      <th>3</th>\n",
       "      <td>15.0</td>\n",
       "      <td>9.489538</td>\n",
       "      <td>9.403752</td>\n",
       "      <td>9.532847</td>\n",
       "      <td>0.041134</td>\n",
       "      <td>0.644381</td>\n",
       "      <td>0.643973</td>\n",
       "      <td>0.644789</td>\n",
       "      <td>0.000577</td>\n",
       "      <td>9.806650</td>\n",
       "      <td>...</td>\n",
       "      <td>NaN</td>\n",
       "      <td>NaN</td>\n",
       "      <td>56.028074</td>\n",
       "      <td>56.028074</td>\n",
       "      <td>56.028074</td>\n",
       "      <td>NaN</td>\n",
       "      <td>NaN</td>\n",
       "      <td>NaN</td>\n",
       "      <td>NaN</td>\n",
       "      <td>Still</td>\n",
       "    </tr>\n",
       "    <tr>\n",
       "      <th>4</th>\n",
       "      <td>77.0</td>\n",
       "      <td>9.396438</td>\n",
       "      <td>9.356411</td>\n",
       "      <td>9.437865</td>\n",
       "      <td>0.033397</td>\n",
       "      <td>0.618250</td>\n",
       "      <td>0.618211</td>\n",
       "      <td>0.618290</td>\n",
       "      <td>0.000056</td>\n",
       "      <td>9.806650</td>\n",
       "      <td>...</td>\n",
       "      <td>NaN</td>\n",
       "      <td>NaN</td>\n",
       "      <td>NaN</td>\n",
       "      <td>NaN</td>\n",
       "      <td>NaN</td>\n",
       "      <td>NaN</td>\n",
       "      <td>0.0</td>\n",
       "      <td>0.0</td>\n",
       "      <td>0.0</td>\n",
       "      <td>Still</td>\n",
       "    </tr>\n",
       "  </tbody>\n",
       "</table>\n",
       "<p>5 rows × 59 columns</p>\n",
       "</div>"
      ],
      "text/plain": [
       "   activityrecognition_1  android_sensor_accelerometer_mean  \\\n",
       "0                  100.0                           9.450422   \n",
       "1                   15.0                           9.476637   \n",
       "2                   77.0                           9.674269   \n",
       "3                   15.0                           9.489538   \n",
       "4                   77.0                           9.396438   \n",
       "\n",
       "   android_sensor_accelerometer_min  android_sensor_accelerometer_max  \\\n",
       "0                          9.429991                          9.469626   \n",
       "1                          9.462833                          9.498124   \n",
       "2                          9.134530                         10.113713   \n",
       "3                          9.403752                          9.532847   \n",
       "4                          9.356411                          9.437865   \n",
       "\n",
       "   android_sensor_accelerometer_std  android_sensor_game_rotation_vector_mean  \\\n",
       "0                          0.016203                                  0.813843   \n",
       "1                          0.014979                                  0.642445   \n",
       "2                          0.350043                                  0.681375   \n",
       "3                          0.041134                                  0.644381   \n",
       "4                          0.033397                                  0.618250   \n",
       "\n",
       "   android_sensor_game_rotation_vector_min  \\\n",
       "0                                 0.813843   \n",
       "1                                 0.642445   \n",
       "2                                 0.615823   \n",
       "3                                 0.643973   \n",
       "4                                 0.618211   \n",
       "\n",
       "   android_sensor_game_rotation_vector_max  \\\n",
       "0                                 0.813843   \n",
       "1                                 0.642445   \n",
       "2                                 0.774514   \n",
       "3                                 0.644789   \n",
       "4                                 0.618290   \n",
       "\n",
       "   android_sensor_game_rotation_vector_std  android_sensor_gravity_mean  ...  \\\n",
       "0                                 0.000801                     9.806650  ...   \n",
       "1                                 0.000292                     9.806650  ...   \n",
       "2                                 0.082864                     9.806651  ...   \n",
       "3                                 0.000577                     9.806650  ...   \n",
       "4                                 0.000056                     9.806650  ...   \n",
       "\n",
       "   android_sensor_step_counter_min  android_sensor_step_counter_max  \\\n",
       "0                              NaN                              NaN   \n",
       "1                              NaN                              NaN   \n",
       "2                              NaN                              NaN   \n",
       "3                              NaN                              NaN   \n",
       "4                              NaN                              NaN   \n",
       "\n",
       "   sound_mean  sound_min  sound_max  sound_std  speed_mean  speed_min  \\\n",
       "0   49.938593  49.938593  49.938593  12.131488         NaN        NaN   \n",
       "1   60.555144  60.555144  60.555144        NaN         NaN        NaN   \n",
       "2   49.855208  49.855208  49.855208        NaN         0.0        0.0   \n",
       "3   56.028074  56.028074  56.028074        NaN         NaN        NaN   \n",
       "4         NaN        NaN        NaN        NaN         0.0        0.0   \n",
       "\n",
       "   speed_max  target  \n",
       "0        NaN   Still  \n",
       "1        NaN   Still  \n",
       "2        0.0   Still  \n",
       "3        NaN   Still  \n",
       "4        0.0   Still  \n",
       "\n",
       "[5 rows x 59 columns]"
      ]
     },
     "execution_count": 3,
     "metadata": {},
     "output_type": "execute_result"
    }
   ],
   "source": [
    "df.head()"
   ]
  },
  {
   "cell_type": "code",
   "execution_count": 4,
   "id": "3fce1363",
   "metadata": {
    "ExecuteTime": {
     "end_time": "2021-05-21T00:29:44.287454Z",
     "start_time": "2021-05-21T00:29:44.206081Z"
    }
   },
   "outputs": [],
   "source": [
    "df = pd.read_csv('./data/sample.csv')\n",
    "X = df.drop('target', axis=1)\n",
    "y = df.target\n",
    "preprocessor = joblib.load('./model/preprocessor.x')\n",
    "model = joblib.load('./model/model.x')\n",
    "clf = Pipeline([('pre', preprocessor), ('classification', model)])"
   ]
  },
  {
   "cell_type": "code",
   "execution_count": 9,
   "id": "bad4b30d",
   "metadata": {
    "ExecuteTime": {
     "end_time": "2021-05-21T00:30:53.004257Z",
     "start_time": "2021-05-21T00:30:52.989634Z"
    }
   },
   "outputs": [
    {
     "data": {
      "text/plain": [
       "59"
      ]
     },
     "execution_count": 9,
     "metadata": {},
     "output_type": "execute_result"
    }
   ],
   "source": [
    "len(df.values[1].tolist())"
   ]
  },
  {
   "cell_type": "code",
   "execution_count": null,
   "id": "b9ba5818",
   "metadata": {
    "ExecuteTime": {
     "end_time": "2021-05-21T00:03:34.306959Z",
     "start_time": "2021-05-21T00:03:34.297214Z"
    }
   },
   "outputs": [],
   "source": []
  },
  {
   "cell_type": "code",
   "execution_count": null,
   "id": "3b160b85",
   "metadata": {
    "ExecuteTime": {
     "end_time": "2021-05-21T00:08:01.267181Z",
     "start_time": "2021-05-21T00:08:01.232390Z"
    }
   },
   "outputs": [],
   "source": [
    "pred = clf.predict(X)\n",
    "pred"
   ]
  },
  {
   "cell_type": "code",
   "execution_count": null,
   "id": "33eabec3",
   "metadata": {
    "ExecuteTime": {
     "end_time": "2021-05-21T00:26:23.427117Z",
     "start_time": "2021-05-21T00:26:23.423580Z"
    }
   },
   "outputs": [],
   "source": [
    "x_test = df.values[0]\n",
    "print(x_test.T)"
   ]
  },
  {
   "cell_type": "code",
   "execution_count": null,
   "id": "f7a547cf",
   "metadata": {
    "ExecuteTime": {
     "end_time": "2021-05-21T00:27:56.227529Z",
     "start_time": "2021-05-21T00:27:56.216316Z"
    }
   },
   "outputs": [],
   "source": [
    "x_test.reshape[1,58]"
   ]
  },
  {
   "cell_type": "code",
   "execution_count": null,
   "id": "8fa7bc26",
   "metadata": {
    "ExecuteTime": {
     "end_time": "2021-05-21T00:29:06.302109Z",
     "start_time": "2021-05-21T00:29:06.291798Z"
    }
   },
   "outputs": [],
   "source": [
    "df.iloc[0,:]"
   ]
  },
  {
   "cell_type": "code",
   "execution_count": 12,
   "id": "c827107b",
   "metadata": {
    "ExecuteTime": {
     "end_time": "2021-05-21T00:33:04.151594Z",
     "start_time": "2021-05-21T00:33:03.127169Z"
    },
    "code_folding": []
   },
   "outputs": [
    {
     "name": "stdout",
     "output_type": "stream",
     "text": [
      "[100.0, 9.45042197668, 9.42999142324, 9.46962594912, 0.0162028875272, 0.813842766417, 0.813842766417, 0.813842766417, 0.00080078474257, 9.8066501188, 9.80664988911, 9.8066503434, 1.97763259098e-07, 0.00700059714772, 0.00180763521346, 0.0141716450494, 0.00361558205057, 0.00650734289923, 0.00236294558613, 0.0115015443682, 0.00300996609244, nan, nan, nan, nan, 0.0239194489377, 0.0239194489377, 0.0239194489377, 0.107289570093, 48.1444364123, 47.7550694469, 48.6866292937, 0.392291953869, 86.9837049933, 85.6803174885, 87.5653745546, 0.876605791857, 83.8857776808, 83.8503812132, 83.9122070378, 0.0262492033986, 1025.7063, 1025.7063, 1025.7063, 0.658596479972, 0.658414762427, 0.65880413864, 0.000195980012336, nan, nan, nan, 49.9385929615, 49.9385929615, 49.9385929615, 12.1314884142, nan, nan, nan, 'Still']\n"
     ]
    },
    {
     "ename": "ValueError",
     "evalue": "Expected 2D array, got 1D array instead:\narray=[100.0 9.45042197668 9.42999142324 9.46962594912 0.0162028875272\n 0.813842766417 0.813842766417 0.813842766417 0.00080078474257\n 9.8066501188 9.80664988911 9.8066503434 1.97763259098e-07\n 0.00700059714772 0.00180763521346 0.0141716450494 0.00361558205057\n 0.00650734289923 0.00236294558613 0.0115015443682 0.00300996609244 nan\n nan nan nan 0.0239194489377 0.0239194489377 0.0239194489377\n 0.107289570093 48.1444364123 47.7550694469 48.6866292937 0.392291953869\n 86.9837049933 85.6803174885 87.5653745546 0.876605791857 83.8857776808\n 83.8503812132 83.9122070378 0.0262492033986 1025.7063 1025.7063 1025.7063\n 0.658596479972 0.658414762427 0.65880413864 0.000195980012336 nan nan nan\n 49.9385929615 49.9385929615 49.9385929615 12.1314884142 nan nan nan\n 'Still'].\nReshape your data either using array.reshape(-1, 1) if your data has a single feature or array.reshape(1, -1) if it contains a single sample.",
     "output_type": "error",
     "traceback": [
      "\u001b[0;31m---------------------------------------------------------------------------\u001b[0m",
      "\u001b[0;31mValueError\u001b[0m                                Traceback (most recent call last)",
      "\u001b[0;32m<ipython-input-12-51c284e4b4bd>\u001b[0m in \u001b[0;36m<module>\u001b[0;34m\u001b[0m\n\u001b[1;32m      3\u001b[0m     \u001b[0mprint\u001b[0m\u001b[0;34m(\u001b[0m\u001b[0mx_test\u001b[0m\u001b[0;34m)\u001b[0m\u001b[0;34m\u001b[0m\u001b[0;34m\u001b[0m\u001b[0m\n\u001b[1;32m      4\u001b[0m     \u001b[0msleep\u001b[0m\u001b[0;34m(\u001b[0m\u001b[0;36m1\u001b[0m\u001b[0;34m)\u001b[0m\u001b[0;34m\u001b[0m\u001b[0;34m\u001b[0m\u001b[0m\n\u001b[0;32m----> 5\u001b[0;31m     \u001b[0mpred\u001b[0m \u001b[0;34m=\u001b[0m \u001b[0mclf\u001b[0m\u001b[0;34m.\u001b[0m\u001b[0mpredict\u001b[0m\u001b[0;34m(\u001b[0m\u001b[0mx_test\u001b[0m\u001b[0;34m)\u001b[0m\u001b[0;34m\u001b[0m\u001b[0;34m\u001b[0m\u001b[0m\n\u001b[0m",
      "\u001b[0;32m~/anaconda3/envs/aienv/lib/python3.8/site-packages/sklearn/utils/metaestimators.py\u001b[0m in \u001b[0;36m<lambda>\u001b[0;34m(*args, **kwargs)\u001b[0m\n\u001b[1;32m    118\u001b[0m \u001b[0;34m\u001b[0m\u001b[0m\n\u001b[1;32m    119\u001b[0m         \u001b[0;31m# lambda, but not partial, allows help() to work with update_wrapper\u001b[0m\u001b[0;34m\u001b[0m\u001b[0;34m\u001b[0m\u001b[0;34m\u001b[0m\u001b[0m\n\u001b[0;32m--> 120\u001b[0;31m         \u001b[0mout\u001b[0m \u001b[0;34m=\u001b[0m \u001b[0;32mlambda\u001b[0m \u001b[0;34m*\u001b[0m\u001b[0margs\u001b[0m\u001b[0;34m,\u001b[0m \u001b[0;34m**\u001b[0m\u001b[0mkwargs\u001b[0m\u001b[0;34m:\u001b[0m \u001b[0mself\u001b[0m\u001b[0;34m.\u001b[0m\u001b[0mfn\u001b[0m\u001b[0;34m(\u001b[0m\u001b[0mobj\u001b[0m\u001b[0;34m,\u001b[0m \u001b[0;34m*\u001b[0m\u001b[0margs\u001b[0m\u001b[0;34m,\u001b[0m \u001b[0;34m**\u001b[0m\u001b[0mkwargs\u001b[0m\u001b[0;34m)\u001b[0m\u001b[0;34m\u001b[0m\u001b[0;34m\u001b[0m\u001b[0m\n\u001b[0m\u001b[1;32m    121\u001b[0m         \u001b[0;31m# update the docstring of the returned function\u001b[0m\u001b[0;34m\u001b[0m\u001b[0;34m\u001b[0m\u001b[0;34m\u001b[0m\u001b[0m\n\u001b[1;32m    122\u001b[0m         \u001b[0mupdate_wrapper\u001b[0m\u001b[0;34m(\u001b[0m\u001b[0mout\u001b[0m\u001b[0;34m,\u001b[0m \u001b[0mself\u001b[0m\u001b[0;34m.\u001b[0m\u001b[0mfn\u001b[0m\u001b[0;34m)\u001b[0m\u001b[0;34m\u001b[0m\u001b[0;34m\u001b[0m\u001b[0m\n",
      "\u001b[0;32m~/anaconda3/envs/aienv/lib/python3.8/site-packages/sklearn/pipeline.py\u001b[0m in \u001b[0;36mpredict\u001b[0;34m(self, X, **predict_params)\u001b[0m\n\u001b[1;32m    416\u001b[0m         \u001b[0mXt\u001b[0m \u001b[0;34m=\u001b[0m \u001b[0mX\u001b[0m\u001b[0;34m\u001b[0m\u001b[0;34m\u001b[0m\u001b[0m\n\u001b[1;32m    417\u001b[0m         \u001b[0;32mfor\u001b[0m \u001b[0m_\u001b[0m\u001b[0;34m,\u001b[0m \u001b[0mname\u001b[0m\u001b[0;34m,\u001b[0m \u001b[0mtransform\u001b[0m \u001b[0;32min\u001b[0m \u001b[0mself\u001b[0m\u001b[0;34m.\u001b[0m\u001b[0m_iter\u001b[0m\u001b[0;34m(\u001b[0m\u001b[0mwith_final\u001b[0m\u001b[0;34m=\u001b[0m\u001b[0;32mFalse\u001b[0m\u001b[0;34m)\u001b[0m\u001b[0;34m:\u001b[0m\u001b[0;34m\u001b[0m\u001b[0;34m\u001b[0m\u001b[0m\n\u001b[0;32m--> 418\u001b[0;31m             \u001b[0mXt\u001b[0m \u001b[0;34m=\u001b[0m \u001b[0mtransform\u001b[0m\u001b[0;34m.\u001b[0m\u001b[0mtransform\u001b[0m\u001b[0;34m(\u001b[0m\u001b[0mXt\u001b[0m\u001b[0;34m)\u001b[0m\u001b[0;34m\u001b[0m\u001b[0;34m\u001b[0m\u001b[0m\n\u001b[0m\u001b[1;32m    419\u001b[0m         \u001b[0;32mreturn\u001b[0m \u001b[0mself\u001b[0m\u001b[0;34m.\u001b[0m\u001b[0msteps\u001b[0m\u001b[0;34m[\u001b[0m\u001b[0;34m-\u001b[0m\u001b[0;36m1\u001b[0m\u001b[0;34m]\u001b[0m\u001b[0;34m[\u001b[0m\u001b[0;34m-\u001b[0m\u001b[0;36m1\u001b[0m\u001b[0;34m]\u001b[0m\u001b[0;34m.\u001b[0m\u001b[0mpredict\u001b[0m\u001b[0;34m(\u001b[0m\u001b[0mXt\u001b[0m\u001b[0;34m,\u001b[0m \u001b[0;34m**\u001b[0m\u001b[0mpredict_params\u001b[0m\u001b[0;34m)\u001b[0m\u001b[0;34m\u001b[0m\u001b[0;34m\u001b[0m\u001b[0m\n\u001b[1;32m    420\u001b[0m \u001b[0;34m\u001b[0m\u001b[0m\n",
      "\u001b[0;32m~/anaconda3/envs/aienv/lib/python3.8/site-packages/sklearn/compose/_column_transformer.py\u001b[0m in \u001b[0;36mtransform\u001b[0;34m(self, X)\u001b[0m\n\u001b[1;32m    548\u001b[0m         \"\"\"\n\u001b[1;32m    549\u001b[0m         \u001b[0mcheck_is_fitted\u001b[0m\u001b[0;34m(\u001b[0m\u001b[0mself\u001b[0m\u001b[0;34m)\u001b[0m\u001b[0;34m\u001b[0m\u001b[0;34m\u001b[0m\u001b[0m\n\u001b[0;32m--> 550\u001b[0;31m         \u001b[0mX\u001b[0m \u001b[0;34m=\u001b[0m \u001b[0m_check_X\u001b[0m\u001b[0;34m(\u001b[0m\u001b[0mX\u001b[0m\u001b[0;34m)\u001b[0m\u001b[0;34m\u001b[0m\u001b[0;34m\u001b[0m\u001b[0m\n\u001b[0m\u001b[1;32m    551\u001b[0m         \u001b[0;32mif\u001b[0m \u001b[0mhasattr\u001b[0m\u001b[0;34m(\u001b[0m\u001b[0mX\u001b[0m\u001b[0;34m,\u001b[0m \u001b[0;34m\"columns\"\u001b[0m\u001b[0;34m)\u001b[0m\u001b[0;34m:\u001b[0m\u001b[0;34m\u001b[0m\u001b[0;34m\u001b[0m\u001b[0m\n\u001b[1;32m    552\u001b[0m             \u001b[0mX_feature_names\u001b[0m \u001b[0;34m=\u001b[0m \u001b[0mnp\u001b[0m\u001b[0;34m.\u001b[0m\u001b[0masarray\u001b[0m\u001b[0;34m(\u001b[0m\u001b[0mX\u001b[0m\u001b[0;34m.\u001b[0m\u001b[0mcolumns\u001b[0m\u001b[0;34m)\u001b[0m\u001b[0;34m\u001b[0m\u001b[0;34m\u001b[0m\u001b[0m\n",
      "\u001b[0;32m~/anaconda3/envs/aienv/lib/python3.8/site-packages/sklearn/compose/_column_transformer.py\u001b[0m in \u001b[0;36m_check_X\u001b[0;34m(X)\u001b[0m\n\u001b[1;32m    626\u001b[0m     \u001b[0;32mif\u001b[0m \u001b[0mhasattr\u001b[0m\u001b[0;34m(\u001b[0m\u001b[0mX\u001b[0m\u001b[0;34m,\u001b[0m \u001b[0;34m'__array__'\u001b[0m\u001b[0;34m)\u001b[0m \u001b[0;32mor\u001b[0m \u001b[0msparse\u001b[0m\u001b[0;34m.\u001b[0m\u001b[0missparse\u001b[0m\u001b[0;34m(\u001b[0m\u001b[0mX\u001b[0m\u001b[0;34m)\u001b[0m\u001b[0;34m:\u001b[0m\u001b[0;34m\u001b[0m\u001b[0;34m\u001b[0m\u001b[0m\n\u001b[1;32m    627\u001b[0m         \u001b[0;32mreturn\u001b[0m \u001b[0mX\u001b[0m\u001b[0;34m\u001b[0m\u001b[0;34m\u001b[0m\u001b[0m\n\u001b[0;32m--> 628\u001b[0;31m     \u001b[0;32mreturn\u001b[0m \u001b[0mcheck_array\u001b[0m\u001b[0;34m(\u001b[0m\u001b[0mX\u001b[0m\u001b[0;34m,\u001b[0m \u001b[0mforce_all_finite\u001b[0m\u001b[0;34m=\u001b[0m\u001b[0;34m'allow-nan'\u001b[0m\u001b[0;34m,\u001b[0m \u001b[0mdtype\u001b[0m\u001b[0;34m=\u001b[0m\u001b[0mobject\u001b[0m\u001b[0;34m)\u001b[0m\u001b[0;34m\u001b[0m\u001b[0;34m\u001b[0m\u001b[0m\n\u001b[0m\u001b[1;32m    629\u001b[0m \u001b[0;34m\u001b[0m\u001b[0m\n\u001b[1;32m    630\u001b[0m \u001b[0;34m\u001b[0m\u001b[0m\n",
      "\u001b[0;32m~/anaconda3/envs/aienv/lib/python3.8/site-packages/sklearn/utils/validation.py\u001b[0m in \u001b[0;36minner_f\u001b[0;34m(*args, **kwargs)\u001b[0m\n\u001b[1;32m     61\u001b[0m             \u001b[0mextra_args\u001b[0m \u001b[0;34m=\u001b[0m \u001b[0mlen\u001b[0m\u001b[0;34m(\u001b[0m\u001b[0margs\u001b[0m\u001b[0;34m)\u001b[0m \u001b[0;34m-\u001b[0m \u001b[0mlen\u001b[0m\u001b[0;34m(\u001b[0m\u001b[0mall_args\u001b[0m\u001b[0;34m)\u001b[0m\u001b[0;34m\u001b[0m\u001b[0;34m\u001b[0m\u001b[0m\n\u001b[1;32m     62\u001b[0m             \u001b[0;32mif\u001b[0m \u001b[0mextra_args\u001b[0m \u001b[0;34m<=\u001b[0m \u001b[0;36m0\u001b[0m\u001b[0;34m:\u001b[0m\u001b[0;34m\u001b[0m\u001b[0;34m\u001b[0m\u001b[0m\n\u001b[0;32m---> 63\u001b[0;31m                 \u001b[0;32mreturn\u001b[0m \u001b[0mf\u001b[0m\u001b[0;34m(\u001b[0m\u001b[0;34m*\u001b[0m\u001b[0margs\u001b[0m\u001b[0;34m,\u001b[0m \u001b[0;34m**\u001b[0m\u001b[0mkwargs\u001b[0m\u001b[0;34m)\u001b[0m\u001b[0;34m\u001b[0m\u001b[0;34m\u001b[0m\u001b[0m\n\u001b[0m\u001b[1;32m     64\u001b[0m \u001b[0;34m\u001b[0m\u001b[0m\n\u001b[1;32m     65\u001b[0m             \u001b[0;31m# extra_args > 0\u001b[0m\u001b[0;34m\u001b[0m\u001b[0;34m\u001b[0m\u001b[0;34m\u001b[0m\u001b[0m\n",
      "\u001b[0;32m~/anaconda3/envs/aienv/lib/python3.8/site-packages/sklearn/utils/validation.py\u001b[0m in \u001b[0;36mcheck_array\u001b[0;34m(array, accept_sparse, accept_large_sparse, dtype, order, copy, force_all_finite, ensure_2d, allow_nd, ensure_min_samples, ensure_min_features, estimator)\u001b[0m\n\u001b[1;32m    692\u001b[0m             \u001b[0;31m# If input is 1D raise error\u001b[0m\u001b[0;34m\u001b[0m\u001b[0;34m\u001b[0m\u001b[0;34m\u001b[0m\u001b[0m\n\u001b[1;32m    693\u001b[0m             \u001b[0;32mif\u001b[0m \u001b[0marray\u001b[0m\u001b[0;34m.\u001b[0m\u001b[0mndim\u001b[0m \u001b[0;34m==\u001b[0m \u001b[0;36m1\u001b[0m\u001b[0;34m:\u001b[0m\u001b[0;34m\u001b[0m\u001b[0;34m\u001b[0m\u001b[0m\n\u001b[0;32m--> 694\u001b[0;31m                 raise ValueError(\n\u001b[0m\u001b[1;32m    695\u001b[0m                     \u001b[0;34m\"Expected 2D array, got 1D array instead:\\narray={}.\\n\"\u001b[0m\u001b[0;34m\u001b[0m\u001b[0;34m\u001b[0m\u001b[0m\n\u001b[1;32m    696\u001b[0m                     \u001b[0;34m\"Reshape your data either using array.reshape(-1, 1) if \"\u001b[0m\u001b[0;34m\u001b[0m\u001b[0;34m\u001b[0m\u001b[0m\n",
      "\u001b[0;31mValueError\u001b[0m: Expected 2D array, got 1D array instead:\narray=[100.0 9.45042197668 9.42999142324 9.46962594912 0.0162028875272\n 0.813842766417 0.813842766417 0.813842766417 0.00080078474257\n 9.8066501188 9.80664988911 9.8066503434 1.97763259098e-07\n 0.00700059714772 0.00180763521346 0.0141716450494 0.00361558205057\n 0.00650734289923 0.00236294558613 0.0115015443682 0.00300996609244 nan\n nan nan nan 0.0239194489377 0.0239194489377 0.0239194489377\n 0.107289570093 48.1444364123 47.7550694469 48.6866292937 0.392291953869\n 86.9837049933 85.6803174885 87.5653745546 0.876605791857 83.8857776808\n 83.8503812132 83.9122070378 0.0262492033986 1025.7063 1025.7063 1025.7063\n 0.658596479972 0.658414762427 0.65880413864 0.000195980012336 nan nan nan\n 49.9385929615 49.9385929615 49.9385929615 12.1314884142 nan nan nan\n 'Still'].\nReshape your data either using array.reshape(-1, 1) if your data has a single feature or array.reshape(1, -1) if it contains a single sample."
     ]
    }
   ],
   "source": [
    "for i in range(0,15):\n",
    "    x_test = df.values[i].tolist()\n",
    "    print(x_test)\n",
    "    sleep(1)\n",
    "    pred = clf.predict(x_test)"
   ]
  },
  {
   "cell_type": "code",
   "execution_count": null,
   "id": "4779630b",
   "metadata": {},
   "outputs": [],
   "source": [
    "predictions = []\n",
    "\n",
    "for row in range(df.shape[0]):\n",
    "    sleep(1)\n",
    "    pred = random.randrange(0,3)\n",
    "    #pred = model.predict(X_test)\n",
    "    if pred == 0:\n",
    "        pred.append(0)\n",
    "    elif pred == 1:\n",
    "        pred.append(1)\n",
    "    elif pred == 2:\n",
    "        pred.append(2)\n",
    "    elif pred == 3:\n",
    "        pred.append(3)\n",
    "        \n",
    "    if predictions == 5:\n",
    "        \n",
    "        still_cont  = 0\n",
    "        walk_cont  = 0\n",
    "        car_cont  = 0\n",
    "        bus_cont  = 0\n",
    "        \n",
    "        for p in predictions:\n",
    "            if p == 0:\n",
    "                still_cont += 1\n",
    "            elif p == 1:\n",
    "                walk_cont += 1\n",
    "            elif p == 2:\n",
    "                car_cont += 1\n",
    "            elif p == 3:\n",
    "                bus_cont += 1\n",
    "        \n",
    "        if still_cont >= 2:\n",
    "            print('You are currently in still position')\n",
    "        elif walk_cont >= 2:\n",
    "            print('You are currently walking')\n",
    "        elif car_cont >= 2:\n",
    "            print('You are currently in a car')\n",
    "        elif bus_cont >= 2:\n",
    "            print('You are currently in a bu')\n",
    "        \n",
    "        predictions.remove(predictions[0])\n",
    "        "
   ]
  }
 ],
 "metadata": {
  "hide_input": false,
  "kernelspec": {
   "display_name": "Python 3",
   "language": "python",
   "name": "python3"
  },
  "language_info": {
   "codemirror_mode": {
    "name": "ipython",
    "version": 3
   },
   "file_extension": ".py",
   "mimetype": "text/x-python",
   "name": "python",
   "nbconvert_exporter": "python",
   "pygments_lexer": "ipython3",
   "version": "3.8.2"
  },
  "toc": {
   "base_numbering": 1,
   "nav_menu": {},
   "number_sections": true,
   "sideBar": true,
   "skip_h1_title": false,
   "title_cell": "Table of Contents",
   "title_sidebar": "Contents",
   "toc_cell": false,
   "toc_position": {},
   "toc_section_display": true,
   "toc_window_display": false
  },
  "varInspector": {
   "cols": {
    "lenName": 16,
    "lenType": 16,
    "lenVar": 40
   },
   "kernels_config": {
    "python": {
     "delete_cmd_postfix": "",
     "delete_cmd_prefix": "del ",
     "library": "var_list.py",
     "varRefreshCmd": "print(var_dic_list())"
    },
    "r": {
     "delete_cmd_postfix": ") ",
     "delete_cmd_prefix": "rm(",
     "library": "var_list.r",
     "varRefreshCmd": "cat(var_dic_list()) "
    }
   },
   "types_to_exclude": [
    "module",
    "function",
    "builtin_function_or_method",
    "instance",
    "_Feature"
   ],
   "window_display": false
  }
 },
 "nbformat": 4,
 "nbformat_minor": 5
}
