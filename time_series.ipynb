{
 "cells": [
  {
   "cell_type": "code",
   "execution_count": 1,
   "id": "985aaea4",
   "metadata": {
    "ExecuteTime": {
     "end_time": "2021-05-21T00:35:26.753955Z",
     "start_time": "2021-05-21T00:35:26.134082Z"
    }
   },
   "outputs": [],
   "source": [
    "import pandas as pd\n",
    "import numpy as np\n",
    "from time import time, sleep\n",
    "import joblib\n",
    "from sklearn.preprocessing import MinMaxScaler, Normalizer, PowerTransformer, QuantileTransformer, RobustScaler, StandardScaler, LabelEncoder, OneHotEncoder, OrdinalEncoder\n",
    "from sklearn.decomposition import PCA\n",
    "from sklearn.pipeline import Pipeline, make_pipeline\n",
    "from sklearn import set_config, impute, compose\n",
    "from sklearn.metrics import accuracy_score, balanced_accuracy_score, plot_confusion_matrix, roc_auc_score\n"
   ]
  },
  {
   "cell_type": "code",
   "execution_count": 3,
   "id": "e0c4fdb3",
   "metadata": {
    "ExecuteTime": {
     "end_time": "2021-05-21T00:35:57.508929Z",
     "start_time": "2021-05-21T00:35:57.473181Z"
    }
   },
   "outputs": [
    {
     "data": {
      "text/plain": [
       "(30, 59)"
      ]
     },
     "execution_count": 3,
     "metadata": {},
     "output_type": "execute_result"
    }
   ],
   "source": [
    "df = pd.read_csv('./data/sample.csv')\n",
    "df.shape"
   ]
  },
  {
   "cell_type": "code",
   "execution_count": 4,
   "id": "5cde35d4",
   "metadata": {
    "ExecuteTime": {
     "end_time": "2021-05-21T00:36:02.946081Z",
     "start_time": "2021-05-21T00:36:02.875683Z"
    }
   },
   "outputs": [],
   "source": [
    "df = pd.read_csv('./data/sample.csv')\n",
    "X = df.drop('target', axis=1)\n",
    "y = df.target\n",
    "preprocessor = joblib.load('./model/preprocessor.x')\n",
    "model = joblib.load('./model/model.x')\n",
    "clf = Pipeline([('pre', preprocessor), ('classification', model)])"
   ]
  },
  {
   "cell_type": "code",
   "execution_count": 5,
   "id": "afccd946",
   "metadata": {
    "ExecuteTime": {
     "end_time": "2021-05-21T00:36:17.170665Z",
     "start_time": "2021-05-21T00:36:17.166422Z"
    }
   },
   "outputs": [
    {
     "data": {
      "text/plain": [
       "(30, 58)"
      ]
     },
     "execution_count": 5,
     "metadata": {},
     "output_type": "execute_result"
    }
   ],
   "source": [
    "X.shape"
   ]
  },
  {
   "cell_type": "code",
   "execution_count": 10,
   "id": "224b96bc",
   "metadata": {
    "ExecuteTime": {
     "end_time": "2021-05-21T00:40:00.727146Z",
     "start_time": "2021-05-21T00:39:45.518832Z"
    },
    "code_folding": []
   },
   "outputs": [
    {
     "name": "stdout",
     "output_type": "stream",
     "text": [
      "['Still']\n",
      "['Still']\n",
      "['Walking']\n",
      "['Walking']\n",
      "['Still']\n",
      "['Still']\n",
      "['Still']\n",
      "['Still']\n",
      "['Still']\n",
      "['Still']\n",
      "['Car']\n",
      "['Car']\n",
      "['Car']\n",
      "['Car']\n",
      "['Car']\n"
     ]
    }
   ],
   "source": [
    "for i in range(0,15):\n",
    "    x_test = df.drop('target',axis=1).values[i].reshape(1, -1)\n",
    "    x_test=pd.DataFrame(x_test,columns=df.drop('target',axis=1).columns)\n",
    "    sleep(1)\n",
    "    pred = clf.predict(x_test)\n",
    " "
   ]
  },
  {
   "cell_type": "code",
   "execution_count": 22,
   "id": "4779630b",
   "metadata": {
    "ExecuteTime": {
     "end_time": "2021-05-21T01:04:52.378777Z",
     "start_time": "2021-05-21T01:04:52.204317Z"
    }
   },
   "outputs": [
    {
     "name": "stdout",
     "output_type": "stream",
     "text": [
      "You are currently in still position\n"
     ]
    }
   ],
   "source": [
    "predictions=[]\n",
    "for i in range(df.shape[0]):\n",
    "    x_test = df.drop('target', axis=1).values[i].reshape(1, -1)\n",
    "    x_test = pd.DataFrame(x_test, columns=df.drop('target', axis=1).columns)\n",
    "#     sleep(1)\n",
    "    pred = clf.predict(x_test)\n",
    "    if pred == 'Car':\n",
    "        predictions.append('Car')\n",
    "    elif pred == 'Still':\n",
    "        predictions.append('Still')\n",
    "    else :\n",
    "        predictions.append('Walking')\n",
    "    \n",
    "\n",
    "#     if len(predictions) == 5:\n",
    "#         still_cont = 0\n",
    "#         walk_cont = 0\n",
    "#         car_cont = 0\n",
    "\n",
    "#         for p in predictions:\n",
    "#             if p == 'Still':\n",
    "#                 still_cont += 1\n",
    "#             if p == 'Car':\n",
    "#                 walk_cont += 1\n",
    "#             if p == 'Walking':\n",
    "#                 car_cont += 1\n",
    "\n",
    "#         if still_cont >= 2:\n",
    "#             print('You are currently in still position')\n",
    "#             continue\n",
    "#         if walk_cont >= 2:\n",
    "#             print('You are currently walking')\n",
    "#             continue\n",
    "#         if car_cont >= 2:\n",
    "#             print('You are currently in a car')\n",
    "#             continue\n",
    "#     predictions.remove(predictions[0])"
   ]
  },
  {
   "cell_type": "code",
   "execution_count": 19,
   "id": "9f342ad8",
   "metadata": {
    "ExecuteTime": {
     "end_time": "2021-05-21T00:54:07.216488Z",
     "start_time": "2021-05-21T00:54:07.204130Z"
    }
   },
   "outputs": [
    {
     "data": {
      "text/plain": [
       "['Still',\n",
       " 'Still',\n",
       " 'Walking',\n",
       " 'Walking',\n",
       " 'Still',\n",
       " 'Still',\n",
       " 'Still',\n",
       " 'Still',\n",
       " 'Still',\n",
       " 'Still',\n",
       " 'Car',\n",
       " 'Car',\n",
       " 'Car',\n",
       " 'Car',\n",
       " 'Car',\n",
       " 'Car',\n",
       " 'Car',\n",
       " 'Car',\n",
       " 'Car',\n",
       " 'Car',\n",
       " 'Walking',\n",
       " 'Walking',\n",
       " 'Walking',\n",
       " 'Walking',\n",
       " 'Walking',\n",
       " 'Walking',\n",
       " 'Walking',\n",
       " 'Walking',\n",
       " 'Walking',\n",
       " 'Walking']"
      ]
     },
     "execution_count": 19,
     "metadata": {},
     "output_type": "execute_result"
    }
   ],
   "source": [
    "predictions"
   ]
  }
 ],
 "metadata": {
  "hide_input": false,
  "kernelspec": {
   "display_name": "Python 3",
   "language": "python",
   "name": "python3"
  },
  "language_info": {
   "codemirror_mode": {
    "name": "ipython",
    "version": 3
   },
   "file_extension": ".py",
   "mimetype": "text/x-python",
   "name": "python",
   "nbconvert_exporter": "python",
   "pygments_lexer": "ipython3",
   "version": "3.8.2"
  },
  "toc": {
   "base_numbering": 1,
   "nav_menu": {},
   "number_sections": true,
   "sideBar": true,
   "skip_h1_title": false,
   "title_cell": "Table of Contents",
   "title_sidebar": "Contents",
   "toc_cell": false,
   "toc_position": {},
   "toc_section_display": true,
   "toc_window_display": false
  },
  "varInspector": {
   "cols": {
    "lenName": 16,
    "lenType": 16,
    "lenVar": 40
   },
   "kernels_config": {
    "python": {
     "delete_cmd_postfix": "",
     "delete_cmd_prefix": "del ",
     "library": "var_list.py",
     "varRefreshCmd": "print(var_dic_list())"
    },
    "r": {
     "delete_cmd_postfix": ") ",
     "delete_cmd_prefix": "rm(",
     "library": "var_list.r",
     "varRefreshCmd": "cat(var_dic_list()) "
    }
   },
   "types_to_exclude": [
    "module",
    "function",
    "builtin_function_or_method",
    "instance",
    "_Feature"
   ],
   "window_display": false
  }
 },
 "nbformat": 4,
 "nbformat_minor": 5
}
