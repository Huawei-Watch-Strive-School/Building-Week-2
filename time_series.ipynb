{
 "cells": [
  {
   "cell_type": "code",
   "execution_count": 20,
   "id": "985aaea4",
   "metadata": {
    "ExecuteTime": {
     "end_time": "2021-05-21T00:02:47.511308Z",
     "start_time": "2021-05-21T00:02:46.981161Z"
    }
   },
   "outputs": [],
   "source": [
    "import pandas as pd\n",
    "import numpy as np\n",
    "from time import time, sleep\n",
    "import joblib\n",
    "from sklearn.preprocessing import MinMaxScaler, Normalizer, PowerTransformer, QuantileTransformer, RobustScaler, StandardScaler, LabelEncoder, OneHotEncoder, OrdinalEncoder\n",
    "from sklearn.decomposition import PCA\n",
    "from sklearn.pipeline import Pipeline, make_pipeline\n",
    "from sklearn import set_config, impute, compose\n",
    "from sklearn.metrics import accuracy_score, balanced_accuracy_score, plot_confusion_matrix, roc_auc_score\n"
   ]
  },
  {
   "cell_type": "code",
   "execution_count": 21,
   "id": "e0c4fdb3",
   "metadata": {
    "ExecuteTime": {
     "end_time": "2021-05-21T00:02:49.252434Z",
     "start_time": "2021-05-21T00:02:49.237114Z"
    }
   },
   "outputs": [],
   "source": [
    "df = pd.read_csv('./data/sample.csv')"
   ]
  },
  {
   "cell_type": "code",
   "execution_count": 18,
   "id": "6d253f8d",
   "metadata": {
    "ExecuteTime": {
     "end_time": "2021-05-21T00:01:23.880403Z",
     "start_time": "2021-05-21T00:01:23.841434Z"
    },
    "scrolled": true
   },
   "outputs": [
    {
     "data": {
      "text/html": [
       "<div>\n",
       "<style scoped>\n",
       "    .dataframe tbody tr th:only-of-type {\n",
       "        vertical-align: middle;\n",
       "    }\n",
       "\n",
       "    .dataframe tbody tr th {\n",
       "        vertical-align: top;\n",
       "    }\n",
       "\n",
       "    .dataframe thead th {\n",
       "        text-align: right;\n",
       "    }\n",
       "</style>\n",
       "<table border=\"1\" class=\"dataframe\">\n",
       "  <thead>\n",
       "    <tr style=\"text-align: right;\">\n",
       "      <th></th>\n",
       "      <th>activityrecognition_1</th>\n",
       "      <th>android_sensor_accelerometer_mean</th>\n",
       "      <th>android_sensor_accelerometer_min</th>\n",
       "      <th>android_sensor_accelerometer_max</th>\n",
       "      <th>android_sensor_accelerometer_std</th>\n",
       "      <th>android_sensor_game_rotation_vector_mean</th>\n",
       "      <th>android_sensor_game_rotation_vector_min</th>\n",
       "      <th>android_sensor_game_rotation_vector_max</th>\n",
       "      <th>android_sensor_game_rotation_vector_std</th>\n",
       "      <th>android_sensor_gravity_mean</th>\n",
       "      <th>...</th>\n",
       "      <th>android_sensor_step_counter_min</th>\n",
       "      <th>android_sensor_step_counter_max</th>\n",
       "      <th>sound_mean</th>\n",
       "      <th>sound_min</th>\n",
       "      <th>sound_max</th>\n",
       "      <th>sound_std</th>\n",
       "      <th>speed_mean</th>\n",
       "      <th>speed_min</th>\n",
       "      <th>speed_max</th>\n",
       "      <th>target</th>\n",
       "    </tr>\n",
       "  </thead>\n",
       "  <tbody>\n",
       "    <tr>\n",
       "      <th>0</th>\n",
       "      <td>100.0</td>\n",
       "      <td>9.450422</td>\n",
       "      <td>9.429991</td>\n",
       "      <td>9.469626</td>\n",
       "      <td>0.016203</td>\n",
       "      <td>0.813843</td>\n",
       "      <td>0.813843</td>\n",
       "      <td>0.813843</td>\n",
       "      <td>0.000801</td>\n",
       "      <td>9.806650</td>\n",
       "      <td>...</td>\n",
       "      <td>NaN</td>\n",
       "      <td>NaN</td>\n",
       "      <td>49.938593</td>\n",
       "      <td>49.938593</td>\n",
       "      <td>49.938593</td>\n",
       "      <td>12.131488</td>\n",
       "      <td>NaN</td>\n",
       "      <td>NaN</td>\n",
       "      <td>NaN</td>\n",
       "      <td>Still</td>\n",
       "    </tr>\n",
       "    <tr>\n",
       "      <th>1</th>\n",
       "      <td>15.0</td>\n",
       "      <td>9.476637</td>\n",
       "      <td>9.462833</td>\n",
       "      <td>9.498124</td>\n",
       "      <td>0.014979</td>\n",
       "      <td>0.642445</td>\n",
       "      <td>0.642445</td>\n",
       "      <td>0.642445</td>\n",
       "      <td>0.000292</td>\n",
       "      <td>9.806650</td>\n",
       "      <td>...</td>\n",
       "      <td>NaN</td>\n",
       "      <td>NaN</td>\n",
       "      <td>60.555144</td>\n",
       "      <td>60.555144</td>\n",
       "      <td>60.555144</td>\n",
       "      <td>NaN</td>\n",
       "      <td>NaN</td>\n",
       "      <td>NaN</td>\n",
       "      <td>NaN</td>\n",
       "      <td>Still</td>\n",
       "    </tr>\n",
       "    <tr>\n",
       "      <th>2</th>\n",
       "      <td>77.0</td>\n",
       "      <td>9.674269</td>\n",
       "      <td>9.134530</td>\n",
       "      <td>10.113713</td>\n",
       "      <td>0.350043</td>\n",
       "      <td>0.681375</td>\n",
       "      <td>0.615823</td>\n",
       "      <td>0.774514</td>\n",
       "      <td>0.082864</td>\n",
       "      <td>9.806651</td>\n",
       "      <td>...</td>\n",
       "      <td>NaN</td>\n",
       "      <td>NaN</td>\n",
       "      <td>49.855208</td>\n",
       "      <td>49.855208</td>\n",
       "      <td>49.855208</td>\n",
       "      <td>NaN</td>\n",
       "      <td>0.0</td>\n",
       "      <td>0.0</td>\n",
       "      <td>0.0</td>\n",
       "      <td>Still</td>\n",
       "    </tr>\n",
       "    <tr>\n",
       "      <th>3</th>\n",
       "      <td>15.0</td>\n",
       "      <td>9.489538</td>\n",
       "      <td>9.403752</td>\n",
       "      <td>9.532847</td>\n",
       "      <td>0.041134</td>\n",
       "      <td>0.644381</td>\n",
       "      <td>0.643973</td>\n",
       "      <td>0.644789</td>\n",
       "      <td>0.000577</td>\n",
       "      <td>9.806650</td>\n",
       "      <td>...</td>\n",
       "      <td>NaN</td>\n",
       "      <td>NaN</td>\n",
       "      <td>56.028074</td>\n",
       "      <td>56.028074</td>\n",
       "      <td>56.028074</td>\n",
       "      <td>NaN</td>\n",
       "      <td>NaN</td>\n",
       "      <td>NaN</td>\n",
       "      <td>NaN</td>\n",
       "      <td>Still</td>\n",
       "    </tr>\n",
       "    <tr>\n",
       "      <th>4</th>\n",
       "      <td>77.0</td>\n",
       "      <td>9.396438</td>\n",
       "      <td>9.356411</td>\n",
       "      <td>9.437865</td>\n",
       "      <td>0.033397</td>\n",
       "      <td>0.618250</td>\n",
       "      <td>0.618211</td>\n",
       "      <td>0.618290</td>\n",
       "      <td>0.000056</td>\n",
       "      <td>9.806650</td>\n",
       "      <td>...</td>\n",
       "      <td>NaN</td>\n",
       "      <td>NaN</td>\n",
       "      <td>NaN</td>\n",
       "      <td>NaN</td>\n",
       "      <td>NaN</td>\n",
       "      <td>NaN</td>\n",
       "      <td>0.0</td>\n",
       "      <td>0.0</td>\n",
       "      <td>0.0</td>\n",
       "      <td>Still</td>\n",
       "    </tr>\n",
       "  </tbody>\n",
       "</table>\n",
       "<p>5 rows × 59 columns</p>\n",
       "</div>"
      ],
      "text/plain": [
       "   activityrecognition_1  android_sensor_accelerometer_mean  \\\n",
       "0                  100.0                           9.450422   \n",
       "1                   15.0                           9.476637   \n",
       "2                   77.0                           9.674269   \n",
       "3                   15.0                           9.489538   \n",
       "4                   77.0                           9.396438   \n",
       "\n",
       "   android_sensor_accelerometer_min  android_sensor_accelerometer_max  \\\n",
       "0                          9.429991                          9.469626   \n",
       "1                          9.462833                          9.498124   \n",
       "2                          9.134530                         10.113713   \n",
       "3                          9.403752                          9.532847   \n",
       "4                          9.356411                          9.437865   \n",
       "\n",
       "   android_sensor_accelerometer_std  android_sensor_game_rotation_vector_mean  \\\n",
       "0                          0.016203                                  0.813843   \n",
       "1                          0.014979                                  0.642445   \n",
       "2                          0.350043                                  0.681375   \n",
       "3                          0.041134                                  0.644381   \n",
       "4                          0.033397                                  0.618250   \n",
       "\n",
       "   android_sensor_game_rotation_vector_min  \\\n",
       "0                                 0.813843   \n",
       "1                                 0.642445   \n",
       "2                                 0.615823   \n",
       "3                                 0.643973   \n",
       "4                                 0.618211   \n",
       "\n",
       "   android_sensor_game_rotation_vector_max  \\\n",
       "0                                 0.813843   \n",
       "1                                 0.642445   \n",
       "2                                 0.774514   \n",
       "3                                 0.644789   \n",
       "4                                 0.618290   \n",
       "\n",
       "   android_sensor_game_rotation_vector_std  android_sensor_gravity_mean  ...  \\\n",
       "0                                 0.000801                     9.806650  ...   \n",
       "1                                 0.000292                     9.806650  ...   \n",
       "2                                 0.082864                     9.806651  ...   \n",
       "3                                 0.000577                     9.806650  ...   \n",
       "4                                 0.000056                     9.806650  ...   \n",
       "\n",
       "   android_sensor_step_counter_min  android_sensor_step_counter_max  \\\n",
       "0                              NaN                              NaN   \n",
       "1                              NaN                              NaN   \n",
       "2                              NaN                              NaN   \n",
       "3                              NaN                              NaN   \n",
       "4                              NaN                              NaN   \n",
       "\n",
       "   sound_mean  sound_min  sound_max  sound_std  speed_mean  speed_min  \\\n",
       "0   49.938593  49.938593  49.938593  12.131488         NaN        NaN   \n",
       "1   60.555144  60.555144  60.555144        NaN         NaN        NaN   \n",
       "2   49.855208  49.855208  49.855208        NaN         0.0        0.0   \n",
       "3   56.028074  56.028074  56.028074        NaN         NaN        NaN   \n",
       "4         NaN        NaN        NaN        NaN         0.0        0.0   \n",
       "\n",
       "   speed_max  target  \n",
       "0        NaN   Still  \n",
       "1        NaN   Still  \n",
       "2        0.0   Still  \n",
       "3        NaN   Still  \n",
       "4        0.0   Still  \n",
       "\n",
       "[5 rows x 59 columns]"
      ]
     },
     "execution_count": 18,
     "metadata": {},
     "output_type": "execute_result"
    }
   ],
   "source": [
    "df.head()"
   ]
  },
  {
   "cell_type": "code",
   "execution_count": 42,
   "id": "628f0d19",
   "metadata": {
    "ExecuteTime": {
     "end_time": "2021-05-21T00:08:51.983865Z",
     "start_time": "2021-05-21T00:08:51.944181Z"
    }
   },
   "outputs": [],
   "source": [
    "df = pd.read_csv('./data/sample.csv')\n",
    "X = df.drop('target', axis=1)\n",
    "y = df.target\n",
    "preprocessor = joblib.load('./model/preprocessor.x')\n",
    "model = joblib.load('./model/model.x')\n",
    "clf = Pipeline([('pre', preprocessor), ('classification', model)])"
   ]
  },
  {
   "cell_type": "code",
   "execution_count": 47,
   "id": "805a10a9",
   "metadata": {
    "ExecuteTime": {
     "end_time": "2021-05-21T00:12:39.141249Z",
     "start_time": "2021-05-21T00:12:39.126603Z"
    }
   },
   "outputs": [
    {
     "ename": "ValueError",
     "evalue": "cannot reshape array of size 59 into shape (1,1)",
     "output_type": "error",
     "traceback": [
      "\u001b[0;31m---------------------------------------------------------------------------\u001b[0m",
      "\u001b[0;31mValueError\u001b[0m                                Traceback (most recent call last)",
      "\u001b[0;32m<ipython-input-47-050cec567d98>\u001b[0m in \u001b[0;36m<module>\u001b[0;34m\u001b[0m\n\u001b[0;32m----> 1\u001b[0;31m \u001b[0mx\u001b[0m\u001b[0;34m=\u001b[0m\u001b[0mpd\u001b[0m\u001b[0;34m.\u001b[0m\u001b[0mDataFrame\u001b[0m\u001b[0;34m(\u001b[0m\u001b[0mdf\u001b[0m\u001b[0;34m.\u001b[0m\u001b[0mvalues\u001b[0m\u001b[0;34m[\u001b[0m\u001b[0;36m0\u001b[0m\u001b[0;34m]\u001b[0m\u001b[0;34m.\u001b[0m\u001b[0mreshape\u001b[0m\u001b[0;34m(\u001b[0m\u001b[0;36m1\u001b[0m\u001b[0;34m,\u001b[0m\u001b[0;36m1\u001b[0m\u001b[0;34m)\u001b[0m\u001b[0;34m)\u001b[0m\u001b[0;34m\u001b[0m\u001b[0;34m\u001b[0m\u001b[0m\n\u001b[0m\u001b[1;32m      2\u001b[0m \u001b[0mx\u001b[0m\u001b[0;34m\u001b[0m\u001b[0;34m\u001b[0m\u001b[0m\n",
      "\u001b[0;31mValueError\u001b[0m: cannot reshape array of size 59 into shape (1,1)"
     ]
    }
   ],
   "source": [
    "x=pd.DataFrame(df.values[0].reshape(1,1))\n",
    "x"
   ]
  },
  {
   "cell_type": "code",
   "execution_count": 36,
   "id": "2ef50608",
   "metadata": {
    "ExecuteTime": {
     "end_time": "2021-05-21T00:07:09.543408Z",
     "start_time": "2021-05-21T00:07:09.536036Z"
    }
   },
   "outputs": [
    {
     "data": {
      "text/plain": [
       "array([15.0, 9.47663688025, 9.46283280063, 9.4981244796, 0.0149789242343,\n",
       "       0.64244529376, 0.64244529376, 0.64244529376, 0.000291594324873,\n",
       "       9.80665048412, 9.80665004959, 9.80665119344, 5.13458035659e-07,\n",
       "       0.0213256250094, 0.00285143454429, 0.0865453221587,\n",
       "       0.0259294873719, 0.0174743565851, 0.00522737683954,\n",
       "       0.0320500280031, 0.0124235467538, 47.0, 47.0, 47.0, nan,\n",
       "       0.031757495437, 0.022158292144, 0.0425670182455, 0.00936003518004,\n",
       "       38.2257266908, 38.2050837161, 38.2463696654, 0.0291935747178,\n",
       "       113.589698244, 111.760901294, 115.418495195, 2.58630945022,\n",
       "       313.2389685, 313.066516229, 313.392573198, 0.165590532577,\n",
       "       1020.679, 1020.679, 1020.679, 0.42599540484, 0.424685382041,\n",
       "       0.429888130976, 0.00193766758945, nan, nan, nan, 60.5551440938,\n",
       "       60.5551440938, 60.5551440938, nan, nan, nan, nan, 'Still'],\n",
       "      dtype=object)"
      ]
     },
     "execution_count": 36,
     "metadata": {},
     "output_type": "execute_result"
    }
   ],
   "source": [
    "df.values[1]"
   ]
  },
  {
   "cell_type": "code",
   "execution_count": 25,
   "id": "d7428005",
   "metadata": {
    "ExecuteTime": {
     "end_time": "2021-05-21T00:03:34.306959Z",
     "start_time": "2021-05-21T00:03:34.297214Z"
    }
   },
   "outputs": [
    {
     "data": {
      "text/plain": [
       "30"
      ]
     },
     "execution_count": 25,
     "metadata": {},
     "output_type": "execute_result"
    }
   ],
   "source": []
  },
  {
   "cell_type": "code",
   "execution_count": 39,
   "id": "f42f5995",
   "metadata": {
    "ExecuteTime": {
     "end_time": "2021-05-21T00:08:01.267181Z",
     "start_time": "2021-05-21T00:08:01.232390Z"
    }
   },
   "outputs": [
    {
     "ename": "ValueError",
     "evalue": "Specifying the columns using strings is only supported for pandas DataFrames",
     "output_type": "error",
     "traceback": [
      "\u001b[0;31m---------------------------------------------------------------------------\u001b[0m",
      "\u001b[0;31mEmpty\u001b[0m                                     Traceback (most recent call last)",
      "\u001b[0;32m~/anaconda3/envs/aienv/lib/python3.8/site-packages/joblib/parallel.py\u001b[0m in \u001b[0;36mdispatch_one_batch\u001b[0;34m(self, iterator)\u001b[0m\n\u001b[1;32m    819\u001b[0m             \u001b[0;32mtry\u001b[0m\u001b[0;34m:\u001b[0m\u001b[0;34m\u001b[0m\u001b[0;34m\u001b[0m\u001b[0m\n\u001b[0;32m--> 820\u001b[0;31m                 \u001b[0mtasks\u001b[0m \u001b[0;34m=\u001b[0m \u001b[0mself\u001b[0m\u001b[0;34m.\u001b[0m\u001b[0m_ready_batches\u001b[0m\u001b[0;34m.\u001b[0m\u001b[0mget\u001b[0m\u001b[0;34m(\u001b[0m\u001b[0mblock\u001b[0m\u001b[0;34m=\u001b[0m\u001b[0;32mFalse\u001b[0m\u001b[0;34m)\u001b[0m\u001b[0;34m\u001b[0m\u001b[0;34m\u001b[0m\u001b[0m\n\u001b[0m\u001b[1;32m    821\u001b[0m             \u001b[0;32mexcept\u001b[0m \u001b[0mqueue\u001b[0m\u001b[0;34m.\u001b[0m\u001b[0mEmpty\u001b[0m\u001b[0;34m:\u001b[0m\u001b[0;34m\u001b[0m\u001b[0;34m\u001b[0m\u001b[0m\n",
      "\u001b[0;32m~/anaconda3/envs/aienv/lib/python3.8/queue.py\u001b[0m in \u001b[0;36mget\u001b[0;34m(self, block, timeout)\u001b[0m\n\u001b[1;32m    166\u001b[0m                 \u001b[0;32mif\u001b[0m \u001b[0;32mnot\u001b[0m \u001b[0mself\u001b[0m\u001b[0;34m.\u001b[0m\u001b[0m_qsize\u001b[0m\u001b[0;34m(\u001b[0m\u001b[0;34m)\u001b[0m\u001b[0;34m:\u001b[0m\u001b[0;34m\u001b[0m\u001b[0;34m\u001b[0m\u001b[0m\n\u001b[0;32m--> 167\u001b[0;31m                     \u001b[0;32mraise\u001b[0m \u001b[0mEmpty\u001b[0m\u001b[0;34m\u001b[0m\u001b[0;34m\u001b[0m\u001b[0m\n\u001b[0m\u001b[1;32m    168\u001b[0m             \u001b[0;32melif\u001b[0m \u001b[0mtimeout\u001b[0m \u001b[0;32mis\u001b[0m \u001b[0;32mNone\u001b[0m\u001b[0;34m:\u001b[0m\u001b[0;34m\u001b[0m\u001b[0;34m\u001b[0m\u001b[0m\n",
      "\u001b[0;31mEmpty\u001b[0m: ",
      "\nDuring handling of the above exception, another exception occurred:\n",
      "\u001b[0;31mValueError\u001b[0m                                Traceback (most recent call last)",
      "\u001b[0;32m<ipython-input-39-e72cd4712763>\u001b[0m in \u001b[0;36m<module>\u001b[0;34m\u001b[0m\n\u001b[0;32m----> 1\u001b[0;31m \u001b[0mpred\u001b[0m \u001b[0;34m=\u001b[0m \u001b[0mclf\u001b[0m\u001b[0;34m.\u001b[0m\u001b[0mpredict\u001b[0m\u001b[0;34m(\u001b[0m\u001b[0mX\u001b[0m\u001b[0;34m)\u001b[0m\u001b[0;34m\u001b[0m\u001b[0;34m\u001b[0m\u001b[0m\n\u001b[0m\u001b[1;32m      2\u001b[0m \u001b[0mpred\u001b[0m\u001b[0;34m\u001b[0m\u001b[0;34m\u001b[0m\u001b[0m\n",
      "\u001b[0;32m~/anaconda3/envs/aienv/lib/python3.8/site-packages/sklearn/utils/metaestimators.py\u001b[0m in \u001b[0;36m<lambda>\u001b[0;34m(*args, **kwargs)\u001b[0m\n\u001b[1;32m    118\u001b[0m \u001b[0;34m\u001b[0m\u001b[0m\n\u001b[1;32m    119\u001b[0m         \u001b[0;31m# lambda, but not partial, allows help() to work with update_wrapper\u001b[0m\u001b[0;34m\u001b[0m\u001b[0;34m\u001b[0m\u001b[0;34m\u001b[0m\u001b[0m\n\u001b[0;32m--> 120\u001b[0;31m         \u001b[0mout\u001b[0m \u001b[0;34m=\u001b[0m \u001b[0;32mlambda\u001b[0m \u001b[0;34m*\u001b[0m\u001b[0margs\u001b[0m\u001b[0;34m,\u001b[0m \u001b[0;34m**\u001b[0m\u001b[0mkwargs\u001b[0m\u001b[0;34m:\u001b[0m \u001b[0mself\u001b[0m\u001b[0;34m.\u001b[0m\u001b[0mfn\u001b[0m\u001b[0;34m(\u001b[0m\u001b[0mobj\u001b[0m\u001b[0;34m,\u001b[0m \u001b[0;34m*\u001b[0m\u001b[0margs\u001b[0m\u001b[0;34m,\u001b[0m \u001b[0;34m**\u001b[0m\u001b[0mkwargs\u001b[0m\u001b[0;34m)\u001b[0m\u001b[0;34m\u001b[0m\u001b[0;34m\u001b[0m\u001b[0m\n\u001b[0m\u001b[1;32m    121\u001b[0m         \u001b[0;31m# update the docstring of the returned function\u001b[0m\u001b[0;34m\u001b[0m\u001b[0;34m\u001b[0m\u001b[0;34m\u001b[0m\u001b[0m\n\u001b[1;32m    122\u001b[0m         \u001b[0mupdate_wrapper\u001b[0m\u001b[0;34m(\u001b[0m\u001b[0mout\u001b[0m\u001b[0;34m,\u001b[0m \u001b[0mself\u001b[0m\u001b[0;34m.\u001b[0m\u001b[0mfn\u001b[0m\u001b[0;34m)\u001b[0m\u001b[0;34m\u001b[0m\u001b[0;34m\u001b[0m\u001b[0m\n",
      "\u001b[0;32m~/anaconda3/envs/aienv/lib/python3.8/site-packages/sklearn/pipeline.py\u001b[0m in \u001b[0;36mpredict\u001b[0;34m(self, X, **predict_params)\u001b[0m\n\u001b[1;32m    416\u001b[0m         \u001b[0mXt\u001b[0m \u001b[0;34m=\u001b[0m \u001b[0mX\u001b[0m\u001b[0;34m\u001b[0m\u001b[0;34m\u001b[0m\u001b[0m\n\u001b[1;32m    417\u001b[0m         \u001b[0;32mfor\u001b[0m \u001b[0m_\u001b[0m\u001b[0;34m,\u001b[0m \u001b[0mname\u001b[0m\u001b[0;34m,\u001b[0m \u001b[0mtransform\u001b[0m \u001b[0;32min\u001b[0m \u001b[0mself\u001b[0m\u001b[0;34m.\u001b[0m\u001b[0m_iter\u001b[0m\u001b[0;34m(\u001b[0m\u001b[0mwith_final\u001b[0m\u001b[0;34m=\u001b[0m\u001b[0;32mFalse\u001b[0m\u001b[0;34m)\u001b[0m\u001b[0;34m:\u001b[0m\u001b[0;34m\u001b[0m\u001b[0;34m\u001b[0m\u001b[0m\n\u001b[0;32m--> 418\u001b[0;31m             \u001b[0mXt\u001b[0m \u001b[0;34m=\u001b[0m \u001b[0mtransform\u001b[0m\u001b[0;34m.\u001b[0m\u001b[0mtransform\u001b[0m\u001b[0;34m(\u001b[0m\u001b[0mXt\u001b[0m\u001b[0;34m)\u001b[0m\u001b[0;34m\u001b[0m\u001b[0;34m\u001b[0m\u001b[0m\n\u001b[0m\u001b[1;32m    419\u001b[0m         \u001b[0;32mreturn\u001b[0m \u001b[0mself\u001b[0m\u001b[0;34m.\u001b[0m\u001b[0msteps\u001b[0m\u001b[0;34m[\u001b[0m\u001b[0;34m-\u001b[0m\u001b[0;36m1\u001b[0m\u001b[0;34m]\u001b[0m\u001b[0;34m[\u001b[0m\u001b[0;34m-\u001b[0m\u001b[0;36m1\u001b[0m\u001b[0;34m]\u001b[0m\u001b[0;34m.\u001b[0m\u001b[0mpredict\u001b[0m\u001b[0;34m(\u001b[0m\u001b[0mXt\u001b[0m\u001b[0;34m,\u001b[0m \u001b[0;34m**\u001b[0m\u001b[0mpredict_params\u001b[0m\u001b[0;34m)\u001b[0m\u001b[0;34m\u001b[0m\u001b[0;34m\u001b[0m\u001b[0m\n\u001b[1;32m    420\u001b[0m \u001b[0;34m\u001b[0m\u001b[0m\n",
      "\u001b[0;32m~/anaconda3/envs/aienv/lib/python3.8/site-packages/sklearn/compose/_column_transformer.py\u001b[0m in \u001b[0;36mtransform\u001b[0;34m(self, X)\u001b[0m\n\u001b[1;32m    562\u001b[0m                 \u001b[0;34m\"data given during fit.\"\u001b[0m\u001b[0;34m\u001b[0m\u001b[0;34m\u001b[0m\u001b[0m\n\u001b[1;32m    563\u001b[0m             )\n\u001b[0;32m--> 564\u001b[0;31m         \u001b[0mXs\u001b[0m \u001b[0;34m=\u001b[0m \u001b[0mself\u001b[0m\u001b[0;34m.\u001b[0m\u001b[0m_fit_transform\u001b[0m\u001b[0;34m(\u001b[0m\u001b[0mX\u001b[0m\u001b[0;34m,\u001b[0m \u001b[0;32mNone\u001b[0m\u001b[0;34m,\u001b[0m \u001b[0m_transform_one\u001b[0m\u001b[0;34m,\u001b[0m \u001b[0mfitted\u001b[0m\u001b[0;34m=\u001b[0m\u001b[0;32mTrue\u001b[0m\u001b[0;34m)\u001b[0m\u001b[0;34m\u001b[0m\u001b[0;34m\u001b[0m\u001b[0m\n\u001b[0m\u001b[1;32m    565\u001b[0m         \u001b[0mself\u001b[0m\u001b[0;34m.\u001b[0m\u001b[0m_validate_output\u001b[0m\u001b[0;34m(\u001b[0m\u001b[0mXs\u001b[0m\u001b[0;34m)\u001b[0m\u001b[0;34m\u001b[0m\u001b[0;34m\u001b[0m\u001b[0m\n\u001b[1;32m    566\u001b[0m \u001b[0;34m\u001b[0m\u001b[0m\n",
      "\u001b[0;32m~/anaconda3/envs/aienv/lib/python3.8/site-packages/sklearn/compose/_column_transformer.py\u001b[0m in \u001b[0;36m_fit_transform\u001b[0;34m(self, X, y, func, fitted)\u001b[0m\n\u001b[1;32m    432\u001b[0m             self._iter(fitted=fitted, replace_strings=True))\n\u001b[1;32m    433\u001b[0m         \u001b[0;32mtry\u001b[0m\u001b[0;34m:\u001b[0m\u001b[0;34m\u001b[0m\u001b[0;34m\u001b[0m\u001b[0m\n\u001b[0;32m--> 434\u001b[0;31m             return Parallel(n_jobs=self.n_jobs)(\n\u001b[0m\u001b[1;32m    435\u001b[0m                 delayed(func)(\n\u001b[1;32m    436\u001b[0m                     \u001b[0mtransformer\u001b[0m\u001b[0;34m=\u001b[0m\u001b[0mclone\u001b[0m\u001b[0;34m(\u001b[0m\u001b[0mtrans\u001b[0m\u001b[0;34m)\u001b[0m \u001b[0;32mif\u001b[0m \u001b[0;32mnot\u001b[0m \u001b[0mfitted\u001b[0m \u001b[0;32melse\u001b[0m \u001b[0mtrans\u001b[0m\u001b[0;34m,\u001b[0m\u001b[0;34m\u001b[0m\u001b[0;34m\u001b[0m\u001b[0m\n",
      "\u001b[0;32m~/anaconda3/envs/aienv/lib/python3.8/site-packages/joblib/parallel.py\u001b[0m in \u001b[0;36m__call__\u001b[0;34m(self, iterable)\u001b[0m\n\u001b[1;32m   1039\u001b[0m             \u001b[0;31m# remaining jobs.\u001b[0m\u001b[0;34m\u001b[0m\u001b[0;34m\u001b[0m\u001b[0;34m\u001b[0m\u001b[0m\n\u001b[1;32m   1040\u001b[0m             \u001b[0mself\u001b[0m\u001b[0;34m.\u001b[0m\u001b[0m_iterating\u001b[0m \u001b[0;34m=\u001b[0m \u001b[0;32mFalse\u001b[0m\u001b[0;34m\u001b[0m\u001b[0;34m\u001b[0m\u001b[0m\n\u001b[0;32m-> 1041\u001b[0;31m             \u001b[0;32mif\u001b[0m \u001b[0mself\u001b[0m\u001b[0;34m.\u001b[0m\u001b[0mdispatch_one_batch\u001b[0m\u001b[0;34m(\u001b[0m\u001b[0miterator\u001b[0m\u001b[0;34m)\u001b[0m\u001b[0;34m:\u001b[0m\u001b[0;34m\u001b[0m\u001b[0;34m\u001b[0m\u001b[0m\n\u001b[0m\u001b[1;32m   1042\u001b[0m                 \u001b[0mself\u001b[0m\u001b[0;34m.\u001b[0m\u001b[0m_iterating\u001b[0m \u001b[0;34m=\u001b[0m \u001b[0mself\u001b[0m\u001b[0;34m.\u001b[0m\u001b[0m_original_iterator\u001b[0m \u001b[0;32mis\u001b[0m \u001b[0;32mnot\u001b[0m \u001b[0;32mNone\u001b[0m\u001b[0;34m\u001b[0m\u001b[0;34m\u001b[0m\u001b[0m\n\u001b[1;32m   1043\u001b[0m \u001b[0;34m\u001b[0m\u001b[0m\n",
      "\u001b[0;32m~/anaconda3/envs/aienv/lib/python3.8/site-packages/joblib/parallel.py\u001b[0m in \u001b[0;36mdispatch_one_batch\u001b[0;34m(self, iterator)\u001b[0m\n\u001b[1;32m    829\u001b[0m                 \u001b[0mbig_batch_size\u001b[0m \u001b[0;34m=\u001b[0m \u001b[0mbatch_size\u001b[0m \u001b[0;34m*\u001b[0m \u001b[0mn_jobs\u001b[0m\u001b[0;34m\u001b[0m\u001b[0;34m\u001b[0m\u001b[0m\n\u001b[1;32m    830\u001b[0m \u001b[0;34m\u001b[0m\u001b[0m\n\u001b[0;32m--> 831\u001b[0;31m                 \u001b[0mislice\u001b[0m \u001b[0;34m=\u001b[0m \u001b[0mlist\u001b[0m\u001b[0;34m(\u001b[0m\u001b[0mitertools\u001b[0m\u001b[0;34m.\u001b[0m\u001b[0mislice\u001b[0m\u001b[0;34m(\u001b[0m\u001b[0miterator\u001b[0m\u001b[0;34m,\u001b[0m \u001b[0mbig_batch_size\u001b[0m\u001b[0;34m)\u001b[0m\u001b[0;34m)\u001b[0m\u001b[0;34m\u001b[0m\u001b[0;34m\u001b[0m\u001b[0m\n\u001b[0m\u001b[1;32m    832\u001b[0m                 \u001b[0;32mif\u001b[0m \u001b[0mlen\u001b[0m\u001b[0;34m(\u001b[0m\u001b[0mislice\u001b[0m\u001b[0;34m)\u001b[0m \u001b[0;34m==\u001b[0m \u001b[0;36m0\u001b[0m\u001b[0;34m:\u001b[0m\u001b[0;34m\u001b[0m\u001b[0;34m\u001b[0m\u001b[0m\n\u001b[1;32m    833\u001b[0m                     \u001b[0;32mreturn\u001b[0m \u001b[0;32mFalse\u001b[0m\u001b[0;34m\u001b[0m\u001b[0;34m\u001b[0m\u001b[0m\n",
      "\u001b[0;32m~/anaconda3/envs/aienv/lib/python3.8/site-packages/sklearn/compose/_column_transformer.py\u001b[0m in \u001b[0;36m<genexpr>\u001b[0;34m(.0)\u001b[0m\n\u001b[1;32m    435\u001b[0m                 delayed(func)(\n\u001b[1;32m    436\u001b[0m                     \u001b[0mtransformer\u001b[0m\u001b[0;34m=\u001b[0m\u001b[0mclone\u001b[0m\u001b[0;34m(\u001b[0m\u001b[0mtrans\u001b[0m\u001b[0;34m)\u001b[0m \u001b[0;32mif\u001b[0m \u001b[0;32mnot\u001b[0m \u001b[0mfitted\u001b[0m \u001b[0;32melse\u001b[0m \u001b[0mtrans\u001b[0m\u001b[0;34m,\u001b[0m\u001b[0;34m\u001b[0m\u001b[0;34m\u001b[0m\u001b[0m\n\u001b[0;32m--> 437\u001b[0;31m                     \u001b[0mX\u001b[0m\u001b[0;34m=\u001b[0m\u001b[0m_safe_indexing\u001b[0m\u001b[0;34m(\u001b[0m\u001b[0mX\u001b[0m\u001b[0;34m,\u001b[0m \u001b[0mcolumn\u001b[0m\u001b[0;34m,\u001b[0m \u001b[0maxis\u001b[0m\u001b[0;34m=\u001b[0m\u001b[0;36m1\u001b[0m\u001b[0;34m)\u001b[0m\u001b[0;34m,\u001b[0m\u001b[0;34m\u001b[0m\u001b[0;34m\u001b[0m\u001b[0m\n\u001b[0m\u001b[1;32m    438\u001b[0m                     \u001b[0my\u001b[0m\u001b[0;34m=\u001b[0m\u001b[0my\u001b[0m\u001b[0;34m,\u001b[0m\u001b[0;34m\u001b[0m\u001b[0;34m\u001b[0m\u001b[0m\n\u001b[1;32m    439\u001b[0m                     \u001b[0mweight\u001b[0m\u001b[0;34m=\u001b[0m\u001b[0mweight\u001b[0m\u001b[0;34m,\u001b[0m\u001b[0;34m\u001b[0m\u001b[0;34m\u001b[0m\u001b[0m\n",
      "\u001b[0;32m~/anaconda3/envs/aienv/lib/python3.8/site-packages/sklearn/utils/__init__.py\u001b[0m in \u001b[0;36m_safe_indexing\u001b[0;34m(X, indices, axis)\u001b[0m\n\u001b[1;32m    334\u001b[0m \u001b[0;34m\u001b[0m\u001b[0m\n\u001b[1;32m    335\u001b[0m     \u001b[0;32mif\u001b[0m \u001b[0maxis\u001b[0m \u001b[0;34m==\u001b[0m \u001b[0;36m1\u001b[0m \u001b[0;32mand\u001b[0m \u001b[0mindices_dtype\u001b[0m \u001b[0;34m==\u001b[0m \u001b[0;34m'str'\u001b[0m \u001b[0;32mand\u001b[0m \u001b[0;32mnot\u001b[0m \u001b[0mhasattr\u001b[0m\u001b[0;34m(\u001b[0m\u001b[0mX\u001b[0m\u001b[0;34m,\u001b[0m \u001b[0;34m'loc'\u001b[0m\u001b[0;34m)\u001b[0m\u001b[0;34m:\u001b[0m\u001b[0;34m\u001b[0m\u001b[0;34m\u001b[0m\u001b[0m\n\u001b[0;32m--> 336\u001b[0;31m         raise ValueError(\n\u001b[0m\u001b[1;32m    337\u001b[0m             \u001b[0;34m\"Specifying the columns using strings is only supported for \"\u001b[0m\u001b[0;34m\u001b[0m\u001b[0;34m\u001b[0m\u001b[0m\n\u001b[1;32m    338\u001b[0m             \u001b[0;34m\"pandas DataFrames\"\u001b[0m\u001b[0;34m\u001b[0m\u001b[0;34m\u001b[0m\u001b[0m\n",
      "\u001b[0;31mValueError\u001b[0m: Specifying the columns using strings is only supported for pandas DataFrames"
     ]
    }
   ],
   "source": [
    "pred = clf.predict(X)\n",
    "pred"
   ]
  },
  {
   "cell_type": "code",
   "execution_count": 57,
   "id": "8a17d85b",
   "metadata": {
    "ExecuteTime": {
     "end_time": "2021-05-21T00:26:23.427117Z",
     "start_time": "2021-05-21T00:26:23.423580Z"
    }
   },
   "outputs": [
    {
     "name": "stdout",
     "output_type": "stream",
     "text": [
      "[100.0 9.45042197668 9.42999142324 9.46962594912 0.0162028875272\n",
      " 0.813842766417 0.813842766417 0.813842766417 0.00080078474257\n",
      " 9.8066501188 9.80664988911 9.8066503434 1.97763259098e-07\n",
      " 0.00700059714772 0.00180763521346 0.0141716450494 0.00361558205057\n",
      " 0.00650734289923 0.00236294558613 0.0115015443682 0.00300996609244 nan\n",
      " nan nan nan 0.0239194489377 0.0239194489377 0.0239194489377\n",
      " 0.107289570093 48.1444364123 47.7550694469 48.6866292937 0.392291953869\n",
      " 86.9837049933 85.6803174885 87.5653745546 0.876605791857 83.8857776808\n",
      " 83.8503812132 83.9122070378 0.0262492033986 1025.7063 1025.7063 1025.7063\n",
      " 0.658596479972 0.658414762427 0.65880413864 0.000195980012336 nan nan nan\n",
      " 49.9385929615 49.9385929615 49.9385929615 12.1314884142 nan nan nan\n",
      " 'Still']\n"
     ]
    }
   ],
   "source": [
    "x_test = df.values[0]\n",
    "print(x_test.T)"
   ]
  },
  {
   "cell_type": "code",
   "execution_count": 64,
   "id": "bec74137",
   "metadata": {
    "ExecuteTime": {
     "end_time": "2021-05-21T00:27:56.227529Z",
     "start_time": "2021-05-21T00:27:56.216316Z"
    }
   },
   "outputs": [
    {
     "ename": "TypeError",
     "evalue": "'builtin_function_or_method' object is not subscriptable",
     "output_type": "error",
     "traceback": [
      "\u001b[0;31m---------------------------------------------------------------------------\u001b[0m",
      "\u001b[0;31mTypeError\u001b[0m                                 Traceback (most recent call last)",
      "\u001b[0;32m<ipython-input-64-c9bb5702bcc7>\u001b[0m in \u001b[0;36m<module>\u001b[0;34m\u001b[0m\n\u001b[0;32m----> 1\u001b[0;31m \u001b[0mx_test\u001b[0m\u001b[0;34m.\u001b[0m\u001b[0mreshape\u001b[0m\u001b[0;34m[\u001b[0m\u001b[0;36m1\u001b[0m\u001b[0;34m,\u001b[0m\u001b[0;36m58\u001b[0m\u001b[0;34m]\u001b[0m\u001b[0;34m\u001b[0m\u001b[0;34m\u001b[0m\u001b[0m\n\u001b[0m",
      "\u001b[0;31mTypeError\u001b[0m: 'builtin_function_or_method' object is not subscriptable"
     ]
    }
   ],
   "source": [
    "x_test.reshape[1,58]"
   ]
  },
  {
   "cell_type": "code",
   "execution_count": 66,
   "id": "8ed5b05b",
   "metadata": {
    "ExecuteTime": {
     "end_time": "2021-05-21T00:29:06.302109Z",
     "start_time": "2021-05-21T00:29:06.291798Z"
    }
   },
   "outputs": [
    {
     "data": {
      "text/plain": [
       "activityrecognition_1                                  100.0\n",
       "android_sensor_accelerometer_mean                   9.450422\n",
       "android_sensor_accelerometer_min                    9.429991\n",
       "android_sensor_accelerometer_max                    9.469626\n",
       "android_sensor_accelerometer_std                    0.016203\n",
       "android_sensor_game_rotation_vector_mean            0.813843\n",
       "android_sensor_game_rotation_vector_min             0.813843\n",
       "android_sensor_game_rotation_vector_max             0.813843\n",
       "android_sensor_game_rotation_vector_std             0.000801\n",
       "android_sensor_gravity_mean                          9.80665\n",
       "android_sensor_gravity_min                           9.80665\n",
       "android_sensor_gravity_max                           9.80665\n",
       "android_sensor_gravity_std                               0.0\n",
       "android_sensor_gyroscope_mean                       0.007001\n",
       "android_sensor_gyroscope_min                        0.001808\n",
       "android_sensor_gyroscope_max                        0.014172\n",
       "android_sensor_gyroscope_std                        0.003616\n",
       "android_sensor_gyroscope_uncalibrated_mean          0.006507\n",
       "android_sensor_gyroscope_uncalibrated_min           0.002363\n",
       "android_sensor_gyroscope_uncalibrated_max           0.011502\n",
       "android_sensor_gyroscope_uncalibrated_std            0.00301\n",
       "android_sensor_light_mean                                NaN\n",
       "android_sensor_light_min                                 NaN\n",
       "android_sensor_light_max                                 NaN\n",
       "android_sensor_light_std                                 NaN\n",
       "android_sensor_linear_acceleration_mean             0.023919\n",
       "android_sensor_linear_acceleration_min              0.023919\n",
       "android_sensor_linear_acceleration_max              0.023919\n",
       "android_sensor_linear_acceleration_std               0.10729\n",
       "android_sensor_magnetic_field_mean                 48.144436\n",
       "android_sensor_magnetic_field_min                  47.755069\n",
       "android_sensor_magnetic_field_max                  48.686629\n",
       "android_sensor_magnetic_field_std                   0.392292\n",
       "android_sensor_magnetic_field_uncalibrated_mean    86.983705\n",
       "android_sensor_magnetic_field_uncalibrated_min     85.680317\n",
       "android_sensor_magnetic_field_uncalibrated_max     87.565375\n",
       "android_sensor_magnetic_field_uncalibrated_std      0.876606\n",
       "android_sensor_orientation_mean                    83.885778\n",
       "android_sensor_orientation_min                     83.850381\n",
       "android_sensor_orientation_max                     83.912207\n",
       "android_sensor_orientation_std                      0.026249\n",
       "android_sensor_pressure_mean                       1025.7063\n",
       "android_sensor_pressure_min                        1025.7063\n",
       "android_sensor_pressure_max                        1025.7063\n",
       "android_sensor_rotation_vector_mean                 0.658596\n",
       "android_sensor_rotation_vector_min                  0.658415\n",
       "android_sensor_rotation_vector_max                  0.658804\n",
       "android_sensor_rotation_vector_std                  0.000196\n",
       "android_sensor_step_counter_mean                         NaN\n",
       "android_sensor_step_counter_min                          NaN\n",
       "android_sensor_step_counter_max                          NaN\n",
       "sound_mean                                         49.938593\n",
       "sound_min                                          49.938593\n",
       "sound_max                                          49.938593\n",
       "sound_std                                          12.131488\n",
       "speed_mean                                               NaN\n",
       "speed_min                                                NaN\n",
       "speed_max                                                NaN\n",
       "target                                                 Still\n",
       "Name: 0, dtype: object"
      ]
     },
     "execution_count": 66,
     "metadata": {},
     "output_type": "execute_result"
    }
   ],
   "source": [
    "df.iloc[0,:]"
   ]
  },
  {
   "cell_type": "code",
   "execution_count": 51,
   "id": "cec71948",
   "metadata": {
    "ExecuteTime": {
     "end_time": "2021-05-21T00:19:03.461006Z",
     "start_time": "2021-05-21T00:19:03.440642Z"
    }
   },
   "outputs": [
    {
     "name": "stdout",
     "output_type": "stream",
     "text": [
      "[100.0 9.45042197668 9.42999142324 9.46962594912 0.0162028875272\n",
      " 0.813842766417 0.813842766417 0.813842766417 0.00080078474257\n",
      " 9.8066501188 9.80664988911 9.8066503434 1.97763259098e-07\n",
      " 0.00700059714772 0.00180763521346 0.0141716450494 0.00361558205057\n",
      " 0.00650734289923 0.00236294558613 0.0115015443682 0.00300996609244 nan\n",
      " nan nan nan 0.0239194489377 0.0239194489377 0.0239194489377\n",
      " 0.107289570093 48.1444364123 47.7550694469 48.6866292937 0.392291953869\n",
      " 86.9837049933 85.6803174885 87.5653745546 0.876605791857 83.8857776808\n",
      " 83.8503812132 83.9122070378 0.0262492033986 1025.7063 1025.7063 1025.7063\n",
      " 0.658596479972 0.658414762427 0.65880413864 0.000195980012336 nan nan nan\n",
      " 49.9385929615 49.9385929615 49.9385929615 12.1314884142 nan nan nan\n",
      " 'Still']\n",
      "[100.0 9.45042197668 9.42999142324 9.46962594912 0.0162028875272\n",
      " 0.813842766417 0.813842766417 0.813842766417 0.00080078474257\n",
      " 9.8066501188 9.80664988911 9.8066503434 1.97763259098e-07\n",
      " 0.00700059714772 0.00180763521346 0.0141716450494 0.00361558205057\n",
      " 0.00650734289923 0.00236294558613 0.0115015443682 0.00300996609244 nan\n",
      " nan nan nan 0.0239194489377 0.0239194489377 0.0239194489377\n",
      " 0.107289570093 48.1444364123 47.7550694469 48.6866292937 0.392291953869\n",
      " 86.9837049933 85.6803174885 87.5653745546 0.876605791857 83.8857776808\n",
      " 83.8503812132 83.9122070378 0.0262492033986 1025.7063 1025.7063 1025.7063\n",
      " 0.658596479972 0.658414762427 0.65880413864 0.000195980012336 nan nan nan\n",
      " 49.9385929615 49.9385929615 49.9385929615 12.1314884142 nan nan nan\n",
      " 'Still']\n",
      "[100.0 9.45042197668 9.42999142324 9.46962594912 0.0162028875272\n",
      " 0.813842766417 0.813842766417 0.813842766417 0.00080078474257\n",
      " 9.8066501188 9.80664988911 9.8066503434 1.97763259098e-07\n",
      " 0.00700059714772 0.00180763521346 0.0141716450494 0.00361558205057\n",
      " 0.00650734289923 0.00236294558613 0.0115015443682 0.00300996609244 nan\n",
      " nan nan nan 0.0239194489377 0.0239194489377 0.0239194489377\n",
      " 0.107289570093 48.1444364123 47.7550694469 48.6866292937 0.392291953869\n",
      " 86.9837049933 85.6803174885 87.5653745546 0.876605791857 83.8857776808\n",
      " 83.8503812132 83.9122070378 0.0262492033986 1025.7063 1025.7063 1025.7063\n",
      " 0.658596479972 0.658414762427 0.65880413864 0.000195980012336 nan nan nan\n",
      " 49.9385929615 49.9385929615 49.9385929615 12.1314884142 nan nan nan\n",
      " 'Still']\n",
      "[100.0 9.45042197668 9.42999142324 9.46962594912 0.0162028875272\n",
      " 0.813842766417 0.813842766417 0.813842766417 0.00080078474257\n",
      " 9.8066501188 9.80664988911 9.8066503434 1.97763259098e-07\n",
      " 0.00700059714772 0.00180763521346 0.0141716450494 0.00361558205057\n",
      " 0.00650734289923 0.00236294558613 0.0115015443682 0.00300996609244 nan\n",
      " nan nan nan 0.0239194489377 0.0239194489377 0.0239194489377\n",
      " 0.107289570093 48.1444364123 47.7550694469 48.6866292937 0.392291953869\n",
      " 86.9837049933 85.6803174885 87.5653745546 0.876605791857 83.8857776808\n",
      " 83.8503812132 83.9122070378 0.0262492033986 1025.7063 1025.7063 1025.7063\n",
      " 0.658596479972 0.658414762427 0.65880413864 0.000195980012336 nan nan nan\n",
      " 49.9385929615 49.9385929615 49.9385929615 12.1314884142 nan nan nan\n",
      " 'Still']\n",
      "[100.0 9.45042197668 9.42999142324 9.46962594912 0.0162028875272\n",
      " 0.813842766417 0.813842766417 0.813842766417 0.00080078474257\n",
      " 9.8066501188 9.80664988911 9.8066503434 1.97763259098e-07\n",
      " 0.00700059714772 0.00180763521346 0.0141716450494 0.00361558205057\n",
      " 0.00650734289923 0.00236294558613 0.0115015443682 0.00300996609244 nan\n",
      " nan nan nan 0.0239194489377 0.0239194489377 0.0239194489377\n",
      " 0.107289570093 48.1444364123 47.7550694469 48.6866292937 0.392291953869\n",
      " 86.9837049933 85.6803174885 87.5653745546 0.876605791857 83.8857776808\n",
      " 83.8503812132 83.9122070378 0.0262492033986 1025.7063 1025.7063 1025.7063\n",
      " 0.658596479972 0.658414762427 0.65880413864 0.000195980012336 nan nan nan\n",
      " 49.9385929615 49.9385929615 49.9385929615 12.1314884142 nan nan nan\n",
      " 'Still']\n",
      "[100.0 9.45042197668 9.42999142324 9.46962594912 0.0162028875272\n",
      " 0.813842766417 0.813842766417 0.813842766417 0.00080078474257\n",
      " 9.8066501188 9.80664988911 9.8066503434 1.97763259098e-07\n",
      " 0.00700059714772 0.00180763521346 0.0141716450494 0.00361558205057\n",
      " 0.00650734289923 0.00236294558613 0.0115015443682 0.00300996609244 nan\n",
      " nan nan nan 0.0239194489377 0.0239194489377 0.0239194489377\n",
      " 0.107289570093 48.1444364123 47.7550694469 48.6866292937 0.392291953869\n",
      " 86.9837049933 85.6803174885 87.5653745546 0.876605791857 83.8857776808\n",
      " 83.8503812132 83.9122070378 0.0262492033986 1025.7063 1025.7063 1025.7063\n",
      " 0.658596479972 0.658414762427 0.65880413864 0.000195980012336 nan nan nan\n",
      " 49.9385929615 49.9385929615 49.9385929615 12.1314884142 nan nan nan\n",
      " 'Still']\n",
      "[100.0 9.45042197668 9.42999142324 9.46962594912 0.0162028875272\n",
      " 0.813842766417 0.813842766417 0.813842766417 0.00080078474257\n",
      " 9.8066501188 9.80664988911 9.8066503434 1.97763259098e-07\n",
      " 0.00700059714772 0.00180763521346 0.0141716450494 0.00361558205057\n",
      " 0.00650734289923 0.00236294558613 0.0115015443682 0.00300996609244 nan\n",
      " nan nan nan 0.0239194489377 0.0239194489377 0.0239194489377\n",
      " 0.107289570093 48.1444364123 47.7550694469 48.6866292937 0.392291953869\n",
      " 86.9837049933 85.6803174885 87.5653745546 0.876605791857 83.8857776808\n",
      " 83.8503812132 83.9122070378 0.0262492033986 1025.7063 1025.7063 1025.7063\n",
      " 0.658596479972 0.658414762427 0.65880413864 0.000195980012336 nan nan nan\n",
      " 49.9385929615 49.9385929615 49.9385929615 12.1314884142 nan nan nan\n",
      " 'Still']\n",
      "[100.0 9.45042197668 9.42999142324 9.46962594912 0.0162028875272\n",
      " 0.813842766417 0.813842766417 0.813842766417 0.00080078474257\n",
      " 9.8066501188 9.80664988911 9.8066503434 1.97763259098e-07\n",
      " 0.00700059714772 0.00180763521346 0.0141716450494 0.00361558205057\n",
      " 0.00650734289923 0.00236294558613 0.0115015443682 0.00300996609244 nan\n",
      " nan nan nan 0.0239194489377 0.0239194489377 0.0239194489377\n",
      " 0.107289570093 48.1444364123 47.7550694469 48.6866292937 0.392291953869\n",
      " 86.9837049933 85.6803174885 87.5653745546 0.876605791857 83.8857776808\n",
      " 83.8503812132 83.9122070378 0.0262492033986 1025.7063 1025.7063 1025.7063\n",
      " 0.658596479972 0.658414762427 0.65880413864 0.000195980012336 nan nan nan\n",
      " 49.9385929615 49.9385929615 49.9385929615 12.1314884142 nan nan nan\n",
      " 'Still']\n",
      "[100.0 9.45042197668 9.42999142324 9.46962594912 0.0162028875272\n",
      " 0.813842766417 0.813842766417 0.813842766417 0.00080078474257\n",
      " 9.8066501188 9.80664988911 9.8066503434 1.97763259098e-07\n",
      " 0.00700059714772 0.00180763521346 0.0141716450494 0.00361558205057\n",
      " 0.00650734289923 0.00236294558613 0.0115015443682 0.00300996609244 nan\n",
      " nan nan nan 0.0239194489377 0.0239194489377 0.0239194489377\n",
      " 0.107289570093 48.1444364123 47.7550694469 48.6866292937 0.392291953869\n",
      " 86.9837049933 85.6803174885 87.5653745546 0.876605791857 83.8857776808\n",
      " 83.8503812132 83.9122070378 0.0262492033986 1025.7063 1025.7063 1025.7063\n",
      " 0.658596479972 0.658414762427 0.65880413864 0.000195980012336 nan nan nan\n",
      " 49.9385929615 49.9385929615 49.9385929615 12.1314884142 nan nan nan\n",
      " 'Still']\n",
      "[100.0 9.45042197668 9.42999142324 9.46962594912 0.0162028875272\n",
      " 0.813842766417 0.813842766417 0.813842766417 0.00080078474257\n",
      " 9.8066501188 9.80664988911 9.8066503434 1.97763259098e-07\n",
      " 0.00700059714772 0.00180763521346 0.0141716450494 0.00361558205057\n",
      " 0.00650734289923 0.00236294558613 0.0115015443682 0.00300996609244 nan\n",
      " nan nan nan 0.0239194489377 0.0239194489377 0.0239194489377\n",
      " 0.107289570093 48.1444364123 47.7550694469 48.6866292937 0.392291953869\n",
      " 86.9837049933 85.6803174885 87.5653745546 0.876605791857 83.8857776808\n",
      " 83.8503812132 83.9122070378 0.0262492033986 1025.7063 1025.7063 1025.7063\n",
      " 0.658596479972 0.658414762427 0.65880413864 0.000195980012336 nan nan nan\n",
      " 49.9385929615 49.9385929615 49.9385929615 12.1314884142 nan nan nan\n",
      " 'Still']\n",
      "[100.0 9.45042197668 9.42999142324 9.46962594912 0.0162028875272\n",
      " 0.813842766417 0.813842766417 0.813842766417 0.00080078474257\n",
      " 9.8066501188 9.80664988911 9.8066503434 1.97763259098e-07\n",
      " 0.00700059714772 0.00180763521346 0.0141716450494 0.00361558205057\n",
      " 0.00650734289923 0.00236294558613 0.0115015443682 0.00300996609244 nan\n",
      " nan nan nan 0.0239194489377 0.0239194489377 0.0239194489377\n",
      " 0.107289570093 48.1444364123 47.7550694469 48.6866292937 0.392291953869\n",
      " 86.9837049933 85.6803174885 87.5653745546 0.876605791857 83.8857776808\n",
      " 83.8503812132 83.9122070378 0.0262492033986 1025.7063 1025.7063 1025.7063\n",
      " 0.658596479972 0.658414762427 0.65880413864 0.000195980012336 nan nan nan\n",
      " 49.9385929615 49.9385929615 49.9385929615 12.1314884142 nan nan nan\n",
      " 'Still']\n",
      "[100.0 9.45042197668 9.42999142324 9.46962594912 0.0162028875272\n",
      " 0.813842766417 0.813842766417 0.813842766417 0.00080078474257\n",
      " 9.8066501188 9.80664988911 9.8066503434 1.97763259098e-07\n",
      " 0.00700059714772 0.00180763521346 0.0141716450494 0.00361558205057\n",
      " 0.00650734289923 0.00236294558613 0.0115015443682 0.00300996609244 nan\n",
      " nan nan nan 0.0239194489377 0.0239194489377 0.0239194489377\n",
      " 0.107289570093 48.1444364123 47.7550694469 48.6866292937 0.392291953869\n",
      " 86.9837049933 85.6803174885 87.5653745546 0.876605791857 83.8857776808\n",
      " 83.8503812132 83.9122070378 0.0262492033986 1025.7063 1025.7063 1025.7063\n",
      " 0.658596479972 0.658414762427 0.65880413864 0.000195980012336 nan nan nan\n",
      " 49.9385929615 49.9385929615 49.9385929615 12.1314884142 nan nan nan\n",
      " 'Still']\n",
      "[100.0 9.45042197668 9.42999142324 9.46962594912 0.0162028875272\n",
      " 0.813842766417 0.813842766417 0.813842766417 0.00080078474257\n",
      " 9.8066501188 9.80664988911 9.8066503434 1.97763259098e-07\n",
      " 0.00700059714772 0.00180763521346 0.0141716450494 0.00361558205057\n",
      " 0.00650734289923 0.00236294558613 0.0115015443682 0.00300996609244 nan\n",
      " nan nan nan 0.0239194489377 0.0239194489377 0.0239194489377\n",
      " 0.107289570093 48.1444364123 47.7550694469 48.6866292937 0.392291953869\n",
      " 86.9837049933 85.6803174885 87.5653745546 0.876605791857 83.8857776808\n",
      " 83.8503812132 83.9122070378 0.0262492033986 1025.7063 1025.7063 1025.7063\n",
      " 0.658596479972 0.658414762427 0.65880413864 0.000195980012336 nan nan nan\n",
      " 49.9385929615 49.9385929615 49.9385929615 12.1314884142 nan nan nan\n",
      " 'Still']\n",
      "[100.0 9.45042197668 9.42999142324 9.46962594912 0.0162028875272\n",
      " 0.813842766417 0.813842766417 0.813842766417 0.00080078474257\n",
      " 9.8066501188 9.80664988911 9.8066503434 1.97763259098e-07\n",
      " 0.00700059714772 0.00180763521346 0.0141716450494 0.00361558205057\n",
      " 0.00650734289923 0.00236294558613 0.0115015443682 0.00300996609244 nan\n",
      " nan nan nan 0.0239194489377 0.0239194489377 0.0239194489377\n",
      " 0.107289570093 48.1444364123 47.7550694469 48.6866292937 0.392291953869\n",
      " 86.9837049933 85.6803174885 87.5653745546 0.876605791857 83.8857776808\n",
      " 83.8503812132 83.9122070378 0.0262492033986 1025.7063 1025.7063 1025.7063\n",
      " 0.658596479972 0.658414762427 0.65880413864 0.000195980012336 nan nan nan\n",
      " 49.9385929615 49.9385929615 49.9385929615 12.1314884142 nan nan nan\n",
      " 'Still']\n",
      "[100.0 9.45042197668 9.42999142324 9.46962594912 0.0162028875272\n",
      " 0.813842766417 0.813842766417 0.813842766417 0.00080078474257\n",
      " 9.8066501188 9.80664988911 9.8066503434 1.97763259098e-07\n",
      " 0.00700059714772 0.00180763521346 0.0141716450494 0.00361558205057\n",
      " 0.00650734289923 0.00236294558613 0.0115015443682 0.00300996609244 nan\n",
      " nan nan nan 0.0239194489377 0.0239194489377 0.0239194489377\n",
      " 0.107289570093 48.1444364123 47.7550694469 48.6866292937 0.392291953869\n",
      " 86.9837049933 85.6803174885 87.5653745546 0.876605791857 83.8857776808\n",
      " 83.8503812132 83.9122070378 0.0262492033986 1025.7063 1025.7063 1025.7063\n",
      " 0.658596479972 0.658414762427 0.65880413864 0.000195980012336 nan nan nan\n",
      " 49.9385929615 49.9385929615 49.9385929615 12.1314884142 nan nan nan\n",
      " 'Still']\n"
     ]
    }
   ],
   "source": [
    "for i in range(0,15):\n",
    "    x_test = df.values[0]\n",
    "    print(x_test.T)\n",
    "#     sleep(1)\n",
    "#     pred = clf.predict(x_test)"
   ]
  },
  {
   "cell_type": "code",
   "execution_count": null,
   "id": "4779630b",
   "metadata": {},
   "outputs": [],
   "source": [
    "predictions = []\n",
    "\n",
    "for row in range(df.shape[0]):\n",
    "    sleep(1)\n",
    "    pred = random.randrange(0,3)\n",
    "    #pred = model.predict(X_test)\n",
    "    if pred == 0:\n",
    "        pred.append(0)\n",
    "    elif pred == 1:\n",
    "        pred.append(1)\n",
    "    elif pred == 2:\n",
    "        pred.append(2)\n",
    "    elif pred == 3:\n",
    "        pred.append(3)\n",
    "        \n",
    "    if predictions == 5:\n",
    "        \n",
    "        still_cont  = 0\n",
    "        walk_cont  = 0\n",
    "        car_cont  = 0\n",
    "        bus_cont  = 0\n",
    "        \n",
    "        for p in predictions:\n",
    "            if p == 0:\n",
    "                still_cont += 1\n",
    "            elif p == 1:\n",
    "                walk_cont += 1\n",
    "            elif p == 2:\n",
    "                car_cont += 1\n",
    "            elif p == 3:\n",
    "                bus_cont += 1\n",
    "        \n",
    "        if still_cont >= 2:\n",
    "            print('You are currently in still position')\n",
    "        elif walk_cont >= 2:\n",
    "            print('You are currently walking')\n",
    "        elif car_cont >= 2:\n",
    "            print('You are currently in a car')\n",
    "        elif bus_cont >= 2:\n",
    "            print('You are currently in a bu')\n",
    "        \n",
    "        predictions.remove(predictions[0])\n",
    "        "
   ]
  }
 ],
 "metadata": {
  "hide_input": false,
  "kernelspec": {
   "display_name": "Python 3",
   "language": "python",
   "name": "python3"
  },
  "language_info": {
   "codemirror_mode": {
    "name": "ipython",
    "version": 3
   },
   "file_extension": ".py",
   "mimetype": "text/x-python",
   "name": "python",
   "nbconvert_exporter": "python",
   "pygments_lexer": "ipython3",
   "version": "3.8.2"
  },
  "toc": {
   "base_numbering": 1,
   "nav_menu": {},
   "number_sections": true,
   "sideBar": true,
   "skip_h1_title": false,
   "title_cell": "Table of Contents",
   "title_sidebar": "Contents",
   "toc_cell": false,
   "toc_position": {},
   "toc_section_display": true,
   "toc_window_display": false
  },
  "varInspector": {
   "cols": {
    "lenName": 16,
    "lenType": 16,
    "lenVar": 40
   },
   "kernels_config": {
    "python": {
     "delete_cmd_postfix": "",
     "delete_cmd_prefix": "del ",
     "library": "var_list.py",
     "varRefreshCmd": "print(var_dic_list())"
    },
    "r": {
     "delete_cmd_postfix": ") ",
     "delete_cmd_prefix": "rm(",
     "library": "var_list.r",
     "varRefreshCmd": "cat(var_dic_list()) "
    }
   },
   "types_to_exclude": [
    "module",
    "function",
    "builtin_function_or_method",
    "instance",
    "_Feature"
   ],
   "window_display": false
  }
 },
 "nbformat": 4,
 "nbformat_minor": 5
}
