{
 "cells": [
  {
   "cell_type": "code",
   "execution_count": 1,
   "id": "5308e7e2",
   "metadata": {
    "ExecuteTime": {
     "end_time": "2021-05-19T01:07:19.769075Z",
     "start_time": "2021-05-19T01:07:18.713192Z"
    }
   },
   "outputs": [
    {
     "name": "stdout",
     "output_type": "stream",
     "text": [
      "Pandas   1.2.4\n",
      "Sklearn  0.24.2\n"
     ]
    }
   ],
   "source": [
    "import time\n",
    "from IPython.display import clear_output\n",
    "import numpy    as np\n",
    "import pandas   as pd\n",
    "import matplotlib.pyplot as plt\n",
    "import seaborn as sns\n",
    "import plotly.express as px\n",
    "from sklearn.decomposition import PCA\n",
    "from sklearn.metrics import classification_report,confusion_matrix\n",
    "import sklearn\n",
    "from sklearn import pipeline  ,ensemble \n",
    "from sklearn.ensemble import RandomForestClassifier,GradientBoostingClassifier\n",
    "from sklearn.pipeline import Pipeline \n",
    "from sklearn import impute\n",
    "from sklearn import compose\n",
    "from sklearn.model_selection import train_test_split,cross_val_score\n",
    "from sklearn.metrics import accuracy_score, balanced_accuracy_score, plot_confusion_matrix,roc_auc_score\n",
    "from sklearn import set_config\n",
    "import warnings\n",
    "warnings.filterwarnings('ignore')\n",
    "\n",
    "from sklearn.preprocessing import MinMaxScaler,Normalizer,PowerTransformer,QuantileTransformer, RobustScaler,StandardScaler,LabelEncoder, OneHotEncoder,OrdinalEncoder\n",
    "from sklearn.tree          import DecisionTreeClassifier\n",
    "from sklearn.linear_model  import LogisticRegression    \n",
    "from sklearn.experimental  import enable_hist_gradient_boosting # Necesary for HistGradientBoostingClassifier\n",
    "from xgboost               import XGBClassifier\n",
    "from lightgbm              import LGBMClassifier\n",
    "# from catboost              import CatBoostClassifier\n",
    "from sklearn.neighbors import KNeighborsClassifier\n",
    "set_config(display='diagram') # Useful for display the pipeline\n",
    "print(\"Pandas  \", pd.__version__)\n",
    "print(\"Sklearn \", sklearn.__version__) # Try to use 0.24\n",
    "\n"
   ]
  },
  {
   "cell_type": "code",
   "execution_count": 2,
   "id": "dd742e52",
   "metadata": {
    "ExecuteTime": {
     "end_time": "2021-05-19T01:07:22.163610Z",
     "start_time": "2021-05-19T01:07:22.036035Z"
    }
   },
   "outputs": [
    {
     "data": {
      "text/html": [
       "<div>\n",
       "<style scoped>\n",
       "    .dataframe tbody tr th:only-of-type {\n",
       "        vertical-align: middle;\n",
       "    }\n",
       "\n",
       "    .dataframe tbody tr th {\n",
       "        vertical-align: top;\n",
       "    }\n",
       "\n",
       "    .dataframe thead th {\n",
       "        text-align: right;\n",
       "    }\n",
       "</style>\n",
       "<table border=\"1\" class=\"dataframe\">\n",
       "  <thead>\n",
       "    <tr style=\"text-align: right;\">\n",
       "      <th></th>\n",
       "      <th>id</th>\n",
       "      <th>time</th>\n",
       "      <th>activityrecognition#0</th>\n",
       "      <th>activityrecognition#1</th>\n",
       "      <th>android.sensor.accelerometer#mean</th>\n",
       "      <th>android.sensor.accelerometer#min</th>\n",
       "      <th>android.sensor.accelerometer#max</th>\n",
       "      <th>android.sensor.accelerometer#std</th>\n",
       "      <th>android.sensor.game_rotation_vector#mean</th>\n",
       "      <th>android.sensor.game_rotation_vector#min</th>\n",
       "      <th>...</th>\n",
       "      <th>sound#mean</th>\n",
       "      <th>sound#min</th>\n",
       "      <th>sound#max</th>\n",
       "      <th>sound#std</th>\n",
       "      <th>speed#mean</th>\n",
       "      <th>speed#min</th>\n",
       "      <th>speed#max</th>\n",
       "      <th>speed#std</th>\n",
       "      <th>target</th>\n",
       "      <th>user</th>\n",
       "    </tr>\n",
       "  </thead>\n",
       "  <tbody>\n",
       "    <tr>\n",
       "      <th>0</th>\n",
       "      <td>16170</td>\n",
       "      <td>78.0</td>\n",
       "      <td>NaN</td>\n",
       "      <td>100.0</td>\n",
       "      <td>9.811476</td>\n",
       "      <td>9.758895</td>\n",
       "      <td>9.849411</td>\n",
       "      <td>0.014626</td>\n",
       "      <td>0.029340</td>\n",
       "      <td>0.029014</td>\n",
       "      <td>...</td>\n",
       "      <td>NaN</td>\n",
       "      <td>NaN</td>\n",
       "      <td>NaN</td>\n",
       "      <td>NaN</td>\n",
       "      <td>0.000000</td>\n",
       "      <td>0.000000</td>\n",
       "      <td>0.000000</td>\n",
       "      <td>0.000000</td>\n",
       "      <td>Still</td>\n",
       "      <td>Luca</td>\n",
       "    </tr>\n",
       "    <tr>\n",
       "      <th>1</th>\n",
       "      <td>15871</td>\n",
       "      <td>145.0</td>\n",
       "      <td>NaN</td>\n",
       "      <td>100.0</td>\n",
       "      <td>9.939207</td>\n",
       "      <td>7.707437</td>\n",
       "      <td>17.146631</td>\n",
       "      <td>1.775944</td>\n",
       "      <td>0.999925</td>\n",
       "      <td>0.999903</td>\n",
       "      <td>...</td>\n",
       "      <td>89.200210</td>\n",
       "      <td>89.065143</td>\n",
       "      <td>89.335277</td>\n",
       "      <td>0.191013</td>\n",
       "      <td>16.539349</td>\n",
       "      <td>16.539349</td>\n",
       "      <td>16.539349</td>\n",
       "      <td>0.628595</td>\n",
       "      <td>Car</td>\n",
       "      <td>Luca</td>\n",
       "    </tr>\n",
       "    <tr>\n",
       "      <th>2</th>\n",
       "      <td>16811</td>\n",
       "      <td>150.0</td>\n",
       "      <td>NaN</td>\n",
       "      <td>100.0</td>\n",
       "      <td>9.827178</td>\n",
       "      <td>9.804817</td>\n",
       "      <td>9.849262</td>\n",
       "      <td>0.011199</td>\n",
       "      <td>0.665215</td>\n",
       "      <td>0.665213</td>\n",
       "      <td>...</td>\n",
       "      <td>NaN</td>\n",
       "      <td>NaN</td>\n",
       "      <td>NaN</td>\n",
       "      <td>NaN</td>\n",
       "      <td>0.000000</td>\n",
       "      <td>0.000000</td>\n",
       "      <td>0.000000</td>\n",
       "      <td>0.000000</td>\n",
       "      <td>Still</td>\n",
       "      <td>Luca</td>\n",
       "    </tr>\n",
       "    <tr>\n",
       "      <th>3</th>\n",
       "      <td>15831</td>\n",
       "      <td>105.0</td>\n",
       "      <td>NaN</td>\n",
       "      <td>77.0</td>\n",
       "      <td>9.673039</td>\n",
       "      <td>7.659674</td>\n",
       "      <td>12.304298</td>\n",
       "      <td>0.862553</td>\n",
       "      <td>0.996221</td>\n",
       "      <td>0.993781</td>\n",
       "      <td>...</td>\n",
       "      <td>87.470377</td>\n",
       "      <td>87.470377</td>\n",
       "      <td>87.470377</td>\n",
       "      <td>2.284186</td>\n",
       "      <td>17.739895</td>\n",
       "      <td>17.739895</td>\n",
       "      <td>17.739895</td>\n",
       "      <td>0.628595</td>\n",
       "      <td>Car</td>\n",
       "      <td>Luca</td>\n",
       "    </tr>\n",
       "    <tr>\n",
       "      <th>4</th>\n",
       "      <td>876</td>\n",
       "      <td>77.0</td>\n",
       "      <td>NaN</td>\n",
       "      <td>100.0</td>\n",
       "      <td>9.993466</td>\n",
       "      <td>8.965621</td>\n",
       "      <td>10.891645</td>\n",
       "      <td>0.504117</td>\n",
       "      <td>0.563792</td>\n",
       "      <td>0.521799</td>\n",
       "      <td>...</td>\n",
       "      <td>89.770732</td>\n",
       "      <td>89.770732</td>\n",
       "      <td>89.770732</td>\n",
       "      <td>0.006389</td>\n",
       "      <td>9.000000</td>\n",
       "      <td>9.000000</td>\n",
       "      <td>9.000000</td>\n",
       "      <td>NaN</td>\n",
       "      <td>Car</td>\n",
       "      <td>andrea</td>\n",
       "    </tr>\n",
       "  </tbody>\n",
       "</table>\n",
       "<p>5 rows × 70 columns</p>\n",
       "</div>"
      ],
      "text/plain": [
       "      id   time  activityrecognition#0  activityrecognition#1  \\\n",
       "0  16170   78.0                    NaN                  100.0   \n",
       "1  15871  145.0                    NaN                  100.0   \n",
       "2  16811  150.0                    NaN                  100.0   \n",
       "3  15831  105.0                    NaN                   77.0   \n",
       "4    876   77.0                    NaN                  100.0   \n",
       "\n",
       "   android.sensor.accelerometer#mean  android.sensor.accelerometer#min  \\\n",
       "0                           9.811476                          9.758895   \n",
       "1                           9.939207                          7.707437   \n",
       "2                           9.827178                          9.804817   \n",
       "3                           9.673039                          7.659674   \n",
       "4                           9.993466                          8.965621   \n",
       "\n",
       "   android.sensor.accelerometer#max  android.sensor.accelerometer#std  \\\n",
       "0                          9.849411                          0.014626   \n",
       "1                         17.146631                          1.775944   \n",
       "2                          9.849262                          0.011199   \n",
       "3                         12.304298                          0.862553   \n",
       "4                         10.891645                          0.504117   \n",
       "\n",
       "   android.sensor.game_rotation_vector#mean  \\\n",
       "0                                  0.029340   \n",
       "1                                  0.999925   \n",
       "2                                  0.665215   \n",
       "3                                  0.996221   \n",
       "4                                  0.563792   \n",
       "\n",
       "   android.sensor.game_rotation_vector#min  ...  sound#mean  sound#min  \\\n",
       "0                                 0.029014  ...         NaN        NaN   \n",
       "1                                 0.999903  ...   89.200210  89.065143   \n",
       "2                                 0.665213  ...         NaN        NaN   \n",
       "3                                 0.993781  ...   87.470377  87.470377   \n",
       "4                                 0.521799  ...   89.770732  89.770732   \n",
       "\n",
       "   sound#max  sound#std  speed#mean  speed#min  speed#max  speed#std  target  \\\n",
       "0        NaN        NaN    0.000000   0.000000   0.000000   0.000000   Still   \n",
       "1  89.335277   0.191013   16.539349  16.539349  16.539349   0.628595     Car   \n",
       "2        NaN        NaN    0.000000   0.000000   0.000000   0.000000   Still   \n",
       "3  87.470377   2.284186   17.739895  17.739895  17.739895   0.628595     Car   \n",
       "4  89.770732   0.006389    9.000000   9.000000   9.000000        NaN     Car   \n",
       "\n",
       "     user  \n",
       "0    Luca  \n",
       "1    Luca  \n",
       "2    Luca  \n",
       "3    Luca  \n",
       "4  andrea  \n",
       "\n",
       "[5 rows x 70 columns]"
      ]
     },
     "execution_count": 2,
     "metadata": {},
     "output_type": "execute_result"
    }
   ],
   "source": [
    "data = pd.read_csv('./data/data_5secondWindow .csv')\n",
    "data.head(5)"
   ]
  },
  {
   "cell_type": "code",
   "execution_count": 3,
   "id": "860f2d9c",
   "metadata": {
    "ExecuteTime": {
     "end_time": "2021-05-19T01:07:24.005353Z",
     "start_time": "2021-05-19T01:07:23.971801Z"
    }
   },
   "outputs": [],
   "source": [
    "def change_name(df):\n",
    "    column_names=[]\n",
    "    for i in df.columns:\n",
    "        k=i.replace('.','_').replace(\"#\",'_')\n",
    "        df.rename(columns = {i:k}, inplace = True)\n",
    "    return df\n",
    "data=change_name(data)"
   ]
  },
  {
   "cell_type": "markdown",
   "id": "4067c10d",
   "metadata": {},
   "source": [
    "# Create test data "
   ]
  },
  {
   "cell_type": "code",
   "execution_count": 4,
   "id": "cdd2c433",
   "metadata": {
    "ExecuteTime": {
     "end_time": "2021-05-19T01:07:25.163446Z",
     "start_time": "2021-05-19T01:07:25.118382Z"
    }
   },
   "outputs": [
    {
     "data": {
      "text/html": [
       "<div>\n",
       "<style scoped>\n",
       "    .dataframe tbody tr th:only-of-type {\n",
       "        vertical-align: middle;\n",
       "    }\n",
       "\n",
       "    .dataframe tbody tr th {\n",
       "        vertical-align: top;\n",
       "    }\n",
       "\n",
       "    .dataframe thead th {\n",
       "        text-align: right;\n",
       "    }\n",
       "</style>\n",
       "<table border=\"1\" class=\"dataframe\">\n",
       "  <thead>\n",
       "    <tr style=\"text-align: right;\">\n",
       "      <th></th>\n",
       "      <th>id</th>\n",
       "      <th>time</th>\n",
       "      <th>activityrecognition_0</th>\n",
       "      <th>activityrecognition_1</th>\n",
       "      <th>android_sensor_accelerometer_mean</th>\n",
       "      <th>android_sensor_accelerometer_min</th>\n",
       "      <th>android_sensor_accelerometer_max</th>\n",
       "      <th>android_sensor_accelerometer_std</th>\n",
       "      <th>android_sensor_game_rotation_vector_mean</th>\n",
       "      <th>android_sensor_game_rotation_vector_min</th>\n",
       "      <th>...</th>\n",
       "      <th>sound_mean</th>\n",
       "      <th>sound_min</th>\n",
       "      <th>sound_max</th>\n",
       "      <th>sound_std</th>\n",
       "      <th>speed_mean</th>\n",
       "      <th>speed_min</th>\n",
       "      <th>speed_max</th>\n",
       "      <th>speed_std</th>\n",
       "      <th>target</th>\n",
       "      <th>user</th>\n",
       "    </tr>\n",
       "  </thead>\n",
       "  <tbody>\n",
       "    <tr>\n",
       "      <th>33</th>\n",
       "      <td>19919</td>\n",
       "      <td>260.0</td>\n",
       "      <td>NaN</td>\n",
       "      <td>5.0</td>\n",
       "      <td>11.068949</td>\n",
       "      <td>9.764513</td>\n",
       "      <td>14.028126</td>\n",
       "      <td>1.283204</td>\n",
       "      <td>0.943836</td>\n",
       "      <td>0.936799</td>\n",
       "      <td>...</td>\n",
       "      <td>77.064227</td>\n",
       "      <td>77.064227</td>\n",
       "      <td>77.064227</td>\n",
       "      <td>4.549349</td>\n",
       "      <td>1.191050</td>\n",
       "      <td>1.191050</td>\n",
       "      <td>1.191050</td>\n",
       "      <td>NaN</td>\n",
       "      <td>Walking</td>\n",
       "      <td>Pierpaolo</td>\n",
       "    </tr>\n",
       "    <tr>\n",
       "      <th>54</th>\n",
       "      <td>19494</td>\n",
       "      <td>78.0</td>\n",
       "      <td>NaN</td>\n",
       "      <td>75.0</td>\n",
       "      <td>9.263056</td>\n",
       "      <td>8.712177</td>\n",
       "      <td>9.963264</td>\n",
       "      <td>0.361961</td>\n",
       "      <td>0.894102</td>\n",
       "      <td>0.894102</td>\n",
       "      <td>...</td>\n",
       "      <td>74.178611</td>\n",
       "      <td>74.178611</td>\n",
       "      <td>74.178611</td>\n",
       "      <td>0.149748</td>\n",
       "      <td>0.000000</td>\n",
       "      <td>0.000000</td>\n",
       "      <td>0.000000</td>\n",
       "      <td>NaN</td>\n",
       "      <td>Bus</td>\n",
       "      <td>Pierpaolo</td>\n",
       "    </tr>\n",
       "    <tr>\n",
       "      <th>102</th>\n",
       "      <td>20104</td>\n",
       "      <td>445.0</td>\n",
       "      <td>NaN</td>\n",
       "      <td>5.0</td>\n",
       "      <td>9.075213</td>\n",
       "      <td>9.012243</td>\n",
       "      <td>9.187340</td>\n",
       "      <td>0.070605</td>\n",
       "      <td>0.907671</td>\n",
       "      <td>0.905519</td>\n",
       "      <td>...</td>\n",
       "      <td>6.020600</td>\n",
       "      <td>6.020600</td>\n",
       "      <td>6.020600</td>\n",
       "      <td>0.000000</td>\n",
       "      <td>0.000000</td>\n",
       "      <td>0.000000</td>\n",
       "      <td>0.000000</td>\n",
       "      <td>0.0</td>\n",
       "      <td>Walking</td>\n",
       "      <td>Pierpaolo</td>\n",
       "    </tr>\n",
       "    <tr>\n",
       "      <th>121</th>\n",
       "      <td>19436</td>\n",
       "      <td>20.0</td>\n",
       "      <td>NaN</td>\n",
       "      <td>100.0</td>\n",
       "      <td>9.061146</td>\n",
       "      <td>8.246220</td>\n",
       "      <td>9.563967</td>\n",
       "      <td>0.451773</td>\n",
       "      <td>0.997597</td>\n",
       "      <td>0.997312</td>\n",
       "      <td>...</td>\n",
       "      <td>72.559600</td>\n",
       "      <td>72.559600</td>\n",
       "      <td>72.559600</td>\n",
       "      <td>NaN</td>\n",
       "      <td>7.800006</td>\n",
       "      <td>7.800006</td>\n",
       "      <td>7.800006</td>\n",
       "      <td>NaN</td>\n",
       "      <td>Bus</td>\n",
       "      <td>Pierpaolo</td>\n",
       "    </tr>\n",
       "    <tr>\n",
       "      <th>172</th>\n",
       "      <td>20245</td>\n",
       "      <td>6.0</td>\n",
       "      <td>NaN</td>\n",
       "      <td>100.0</td>\n",
       "      <td>10.335784</td>\n",
       "      <td>3.332163</td>\n",
       "      <td>17.743662</td>\n",
       "      <td>4.272022</td>\n",
       "      <td>0.991409</td>\n",
       "      <td>0.988798</td>\n",
       "      <td>...</td>\n",
       "      <td>73.702289</td>\n",
       "      <td>73.702289</td>\n",
       "      <td>73.702289</td>\n",
       "      <td>NaN</td>\n",
       "      <td>1.250000</td>\n",
       "      <td>1.250000</td>\n",
       "      <td>1.250000</td>\n",
       "      <td>NaN</td>\n",
       "      <td>Walking</td>\n",
       "      <td>Pierpaolo</td>\n",
       "    </tr>\n",
       "  </tbody>\n",
       "</table>\n",
       "<p>5 rows × 70 columns</p>\n",
       "</div>"
      ],
      "text/plain": [
       "        id   time  activityrecognition_0  activityrecognition_1  \\\n",
       "33   19919  260.0                    NaN                    5.0   \n",
       "54   19494   78.0                    NaN                   75.0   \n",
       "102  20104  445.0                    NaN                    5.0   \n",
       "121  19436   20.0                    NaN                  100.0   \n",
       "172  20245    6.0                    NaN                  100.0   \n",
       "\n",
       "     android_sensor_accelerometer_mean  android_sensor_accelerometer_min  \\\n",
       "33                           11.068949                          9.764513   \n",
       "54                            9.263056                          8.712177   \n",
       "102                           9.075213                          9.012243   \n",
       "121                           9.061146                          8.246220   \n",
       "172                          10.335784                          3.332163   \n",
       "\n",
       "     android_sensor_accelerometer_max  android_sensor_accelerometer_std  \\\n",
       "33                          14.028126                          1.283204   \n",
       "54                           9.963264                          0.361961   \n",
       "102                          9.187340                          0.070605   \n",
       "121                          9.563967                          0.451773   \n",
       "172                         17.743662                          4.272022   \n",
       "\n",
       "     android_sensor_game_rotation_vector_mean  \\\n",
       "33                                   0.943836   \n",
       "54                                   0.894102   \n",
       "102                                  0.907671   \n",
       "121                                  0.997597   \n",
       "172                                  0.991409   \n",
       "\n",
       "     android_sensor_game_rotation_vector_min  ...  sound_mean  sound_min  \\\n",
       "33                                  0.936799  ...   77.064227  77.064227   \n",
       "54                                  0.894102  ...   74.178611  74.178611   \n",
       "102                                 0.905519  ...    6.020600   6.020600   \n",
       "121                                 0.997312  ...   72.559600  72.559600   \n",
       "172                                 0.988798  ...   73.702289  73.702289   \n",
       "\n",
       "     sound_max  sound_std  speed_mean  speed_min  speed_max  speed_std  \\\n",
       "33   77.064227   4.549349    1.191050   1.191050   1.191050        NaN   \n",
       "54   74.178611   0.149748    0.000000   0.000000   0.000000        NaN   \n",
       "102   6.020600   0.000000    0.000000   0.000000   0.000000        0.0   \n",
       "121  72.559600        NaN    7.800006   7.800006   7.800006        NaN   \n",
       "172  73.702289        NaN    1.250000   1.250000   1.250000        NaN   \n",
       "\n",
       "      target       user  \n",
       "33   Walking  Pierpaolo  \n",
       "54       Bus  Pierpaolo  \n",
       "102  Walking  Pierpaolo  \n",
       "121      Bus  Pierpaolo  \n",
       "172  Walking  Pierpaolo  \n",
       "\n",
       "[5 rows x 70 columns]"
      ]
     },
     "execution_count": 4,
     "metadata": {},
     "output_type": "execute_result"
    }
   ],
   "source": [
    "# create test data from some user \n",
    "df=data.copy()\n",
    "user1=df[df['user']=='Pierpaolo']\n",
    "user2=df[df['user']=='IvanHeibi']\n",
    "user3=df[df['user']=='AndreaCarpineti']\n",
    "user4=df[df['user']=='Elena']\n",
    "users=[user1,user2,user3,user4]\n",
    "df_test=pd.concat(users)\n",
    "df_test.head(5)"
   ]
  },
  {
   "cell_type": "markdown",
   "id": "c46e9bc3",
   "metadata": {},
   "source": [
    "## Subtract test data from data "
   ]
  },
  {
   "cell_type": "code",
   "execution_count": 5,
   "id": "1b4b5e32",
   "metadata": {
    "ExecuteTime": {
     "end_time": "2021-05-19T01:07:26.897788Z",
     "start_time": "2021-05-19T01:07:26.761116Z"
    }
   },
   "outputs": [
    {
     "data": {
      "text/html": [
       "<div>\n",
       "<style scoped>\n",
       "    .dataframe tbody tr th:only-of-type {\n",
       "        vertical-align: middle;\n",
       "    }\n",
       "\n",
       "    .dataframe tbody tr th {\n",
       "        vertical-align: top;\n",
       "    }\n",
       "\n",
       "    .dataframe thead th {\n",
       "        text-align: right;\n",
       "    }\n",
       "</style>\n",
       "<table border=\"1\" class=\"dataframe\">\n",
       "  <thead>\n",
       "    <tr style=\"text-align: right;\">\n",
       "      <th></th>\n",
       "      <th>id</th>\n",
       "      <th>time</th>\n",
       "      <th>activityrecognition_0</th>\n",
       "      <th>activityrecognition_1</th>\n",
       "      <th>android_sensor_accelerometer_mean</th>\n",
       "      <th>android_sensor_accelerometer_min</th>\n",
       "      <th>android_sensor_accelerometer_max</th>\n",
       "      <th>android_sensor_accelerometer_std</th>\n",
       "      <th>android_sensor_game_rotation_vector_mean</th>\n",
       "      <th>android_sensor_game_rotation_vector_min</th>\n",
       "      <th>...</th>\n",
       "      <th>sound_mean</th>\n",
       "      <th>sound_min</th>\n",
       "      <th>sound_max</th>\n",
       "      <th>sound_std</th>\n",
       "      <th>speed_mean</th>\n",
       "      <th>speed_min</th>\n",
       "      <th>speed_max</th>\n",
       "      <th>speed_std</th>\n",
       "      <th>target</th>\n",
       "      <th>user</th>\n",
       "    </tr>\n",
       "  </thead>\n",
       "  <tbody>\n",
       "    <tr>\n",
       "      <th>0</th>\n",
       "      <td>16170</td>\n",
       "      <td>78.0</td>\n",
       "      <td>NaN</td>\n",
       "      <td>100.0</td>\n",
       "      <td>9.811476</td>\n",
       "      <td>9.758895</td>\n",
       "      <td>9.849411</td>\n",
       "      <td>0.014626</td>\n",
       "      <td>0.029340</td>\n",
       "      <td>0.029014</td>\n",
       "      <td>...</td>\n",
       "      <td>NaN</td>\n",
       "      <td>NaN</td>\n",
       "      <td>NaN</td>\n",
       "      <td>NaN</td>\n",
       "      <td>0.000000</td>\n",
       "      <td>0.000000</td>\n",
       "      <td>0.000000</td>\n",
       "      <td>0.000000</td>\n",
       "      <td>Still</td>\n",
       "      <td>Luca</td>\n",
       "    </tr>\n",
       "    <tr>\n",
       "      <th>1</th>\n",
       "      <td>15871</td>\n",
       "      <td>145.0</td>\n",
       "      <td>NaN</td>\n",
       "      <td>100.0</td>\n",
       "      <td>9.939207</td>\n",
       "      <td>7.707437</td>\n",
       "      <td>17.146631</td>\n",
       "      <td>1.775944</td>\n",
       "      <td>0.999925</td>\n",
       "      <td>0.999903</td>\n",
       "      <td>...</td>\n",
       "      <td>89.200210</td>\n",
       "      <td>89.065143</td>\n",
       "      <td>89.335277</td>\n",
       "      <td>0.191013</td>\n",
       "      <td>16.539349</td>\n",
       "      <td>16.539349</td>\n",
       "      <td>16.539349</td>\n",
       "      <td>0.628595</td>\n",
       "      <td>Car</td>\n",
       "      <td>Luca</td>\n",
       "    </tr>\n",
       "    <tr>\n",
       "      <th>2</th>\n",
       "      <td>16811</td>\n",
       "      <td>150.0</td>\n",
       "      <td>NaN</td>\n",
       "      <td>100.0</td>\n",
       "      <td>9.827178</td>\n",
       "      <td>9.804817</td>\n",
       "      <td>9.849262</td>\n",
       "      <td>0.011199</td>\n",
       "      <td>0.665215</td>\n",
       "      <td>0.665213</td>\n",
       "      <td>...</td>\n",
       "      <td>NaN</td>\n",
       "      <td>NaN</td>\n",
       "      <td>NaN</td>\n",
       "      <td>NaN</td>\n",
       "      <td>0.000000</td>\n",
       "      <td>0.000000</td>\n",
       "      <td>0.000000</td>\n",
       "      <td>0.000000</td>\n",
       "      <td>Still</td>\n",
       "      <td>Luca</td>\n",
       "    </tr>\n",
       "    <tr>\n",
       "      <th>3</th>\n",
       "      <td>15831</td>\n",
       "      <td>105.0</td>\n",
       "      <td>NaN</td>\n",
       "      <td>77.0</td>\n",
       "      <td>9.673039</td>\n",
       "      <td>7.659674</td>\n",
       "      <td>12.304298</td>\n",
       "      <td>0.862553</td>\n",
       "      <td>0.996221</td>\n",
       "      <td>0.993781</td>\n",
       "      <td>...</td>\n",
       "      <td>87.470377</td>\n",
       "      <td>87.470377</td>\n",
       "      <td>87.470377</td>\n",
       "      <td>2.284186</td>\n",
       "      <td>17.739895</td>\n",
       "      <td>17.739895</td>\n",
       "      <td>17.739895</td>\n",
       "      <td>0.628595</td>\n",
       "      <td>Car</td>\n",
       "      <td>Luca</td>\n",
       "    </tr>\n",
       "    <tr>\n",
       "      <th>4</th>\n",
       "      <td>876</td>\n",
       "      <td>77.0</td>\n",
       "      <td>NaN</td>\n",
       "      <td>100.0</td>\n",
       "      <td>9.993466</td>\n",
       "      <td>8.965621</td>\n",
       "      <td>10.891645</td>\n",
       "      <td>0.504117</td>\n",
       "      <td>0.563792</td>\n",
       "      <td>0.521799</td>\n",
       "      <td>...</td>\n",
       "      <td>89.770732</td>\n",
       "      <td>89.770732</td>\n",
       "      <td>89.770732</td>\n",
       "      <td>0.006389</td>\n",
       "      <td>9.000000</td>\n",
       "      <td>9.000000</td>\n",
       "      <td>9.000000</td>\n",
       "      <td>NaN</td>\n",
       "      <td>Car</td>\n",
       "      <td>andrea</td>\n",
       "    </tr>\n",
       "  </tbody>\n",
       "</table>\n",
       "<p>5 rows × 70 columns</p>\n",
       "</div>"
      ],
      "text/plain": [
       "      id   time  activityrecognition_0  activityrecognition_1  \\\n",
       "0  16170   78.0                    NaN                  100.0   \n",
       "1  15871  145.0                    NaN                  100.0   \n",
       "2  16811  150.0                    NaN                  100.0   \n",
       "3  15831  105.0                    NaN                   77.0   \n",
       "4    876   77.0                    NaN                  100.0   \n",
       "\n",
       "   android_sensor_accelerometer_mean  android_sensor_accelerometer_min  \\\n",
       "0                           9.811476                          9.758895   \n",
       "1                           9.939207                          7.707437   \n",
       "2                           9.827178                          9.804817   \n",
       "3                           9.673039                          7.659674   \n",
       "4                           9.993466                          8.965621   \n",
       "\n",
       "   android_sensor_accelerometer_max  android_sensor_accelerometer_std  \\\n",
       "0                          9.849411                          0.014626   \n",
       "1                         17.146631                          1.775944   \n",
       "2                          9.849262                          0.011199   \n",
       "3                         12.304298                          0.862553   \n",
       "4                         10.891645                          0.504117   \n",
       "\n",
       "   android_sensor_game_rotation_vector_mean  \\\n",
       "0                                  0.029340   \n",
       "1                                  0.999925   \n",
       "2                                  0.665215   \n",
       "3                                  0.996221   \n",
       "4                                  0.563792   \n",
       "\n",
       "   android_sensor_game_rotation_vector_min  ...  sound_mean  sound_min  \\\n",
       "0                                 0.029014  ...         NaN        NaN   \n",
       "1                                 0.999903  ...   89.200210  89.065143   \n",
       "2                                 0.665213  ...         NaN        NaN   \n",
       "3                                 0.993781  ...   87.470377  87.470377   \n",
       "4                                 0.521799  ...   89.770732  89.770732   \n",
       "\n",
       "   sound_max  sound_std  speed_mean  speed_min  speed_max  speed_std  target  \\\n",
       "0        NaN        NaN    0.000000   0.000000   0.000000   0.000000   Still   \n",
       "1  89.335277   0.191013   16.539349  16.539349  16.539349   0.628595     Car   \n",
       "2        NaN        NaN    0.000000   0.000000   0.000000   0.000000   Still   \n",
       "3  87.470377   2.284186   17.739895  17.739895  17.739895   0.628595     Car   \n",
       "4  89.770732   0.006389    9.000000   9.000000   9.000000        NaN     Car   \n",
       "\n",
       "     user  \n",
       "0    Luca  \n",
       "1    Luca  \n",
       "2    Luca  \n",
       "3    Luca  \n",
       "4  andrea  \n",
       "\n",
       "[5 rows x 70 columns]"
      ]
     },
     "execution_count": 5,
     "metadata": {},
     "output_type": "execute_result"
    }
   ],
   "source": [
    "df_train = df.merge(df_test, how='left', indicator=True)\n",
    "df_train = df_train[df_train['_merge'] == 'left_only']\n",
    "df_train=df_train.drop('_merge',axis=1)\n",
    "df_train.head(5)"
   ]
  },
  {
   "cell_type": "code",
   "execution_count": 6,
   "id": "2a05c6b6",
   "metadata": {
    "ExecuteTime": {
     "end_time": "2021-05-19T01:07:28.350200Z",
     "start_time": "2021-05-19T01:07:28.333948Z"
    }
   },
   "outputs": [
    {
     "name": "stdout",
     "output_type": "stream",
     "text": [
      "There are 11 columns with more than 75% missing values\n"
     ]
    }
   ],
   "source": [
    "\n",
    "train_missing = (df_train.isnull().sum() / len(df_train)).sort_values(ascending = False)\n",
    "test_missing = (df_test.isnull().sum() / len(df_test)).sort_values(ascending = False)\n",
    "\n",
    "train_missing = train_missing.index[train_missing > 0.75]\n",
    "test_missing = test_missing.index[test_missing > 0.75]\n",
    "\n",
    "all_missing = list(set(set(train_missing) | set(test_missing)))\n",
    "print('There are %d columns with more than 75%% missing values' % len(all_missing))"
   ]
  },
  {
   "cell_type": "code",
   "execution_count": 7,
   "id": "97d39e63",
   "metadata": {
    "ExecuteTime": {
     "end_time": "2021-05-19T01:07:30.041200Z",
     "start_time": "2021-05-19T01:07:30.033951Z"
    }
   },
   "outputs": [],
   "source": [
    "# Drop missing data \n",
    "df_train = df_train.drop(all_missing,axis=1)\n",
    "df_test  = df_test.drop(all_missing,axis=1)"
   ]
  },
  {
   "cell_type": "code",
   "execution_count": 9,
   "id": "42d50220",
   "metadata": {
    "ExecuteTime": {
     "end_time": "2021-05-19T01:07:33.075681Z",
     "start_time": "2021-05-19T01:07:33.071991Z"
    }
   },
   "outputs": [
    {
     "name": "stdout",
     "output_type": "stream",
     "text": [
      "(4985, 56)\n",
      "(908, 56)\n"
     ]
    }
   ],
   "source": [
    "print(df_train.shape)\n",
    "print(df_test.shape)"
   ]
  },
  {
   "cell_type": "markdown",
   "id": "a5ddd6a8",
   "metadata": {},
   "source": [
    "## drop id ,time, user columns"
   ]
  },
  {
   "cell_type": "code",
   "execution_count": 8,
   "id": "e4a14abd",
   "metadata": {
    "ExecuteTime": {
     "end_time": "2021-05-19T01:07:32.026126Z",
     "start_time": "2021-05-19T01:07:32.018865Z"
    }
   },
   "outputs": [],
   "source": [
    "unimp    = ['id','time','user']\n",
    "df_train = df_train.drop(unimp,axis=1)\n",
    "df_test  = df_test.drop(unimp,axis=1)"
   ]
  },
  {
   "cell_type": "code",
   "execution_count": 10,
   "id": "dd91db57",
   "metadata": {
    "ExecuteTime": {
     "end_time": "2021-05-19T01:07:35.029322Z",
     "start_time": "2021-05-19T01:07:35.023677Z"
    }
   },
   "outputs": [
    {
     "name": "stdout",
     "output_type": "stream",
     "text": [
      "(4985, 56)\n",
      "(908, 56)\n"
     ]
    }
   ],
   "source": [
    "print(df_train.shape)\n",
    "print(df_test.shape)"
   ]
  },
  {
   "cell_type": "code",
   "execution_count": 11,
   "id": "09cf027c",
   "metadata": {
    "ExecuteTime": {
     "end_time": "2021-05-19T01:07:36.315024Z",
     "start_time": "2021-05-19T01:07:36.309683Z"
    }
   },
   "outputs": [],
   "source": [
    "X=df_train.drop('target',axis=1)\n",
    "y=df_train.target\n",
    "X_test=df_test.drop('target',axis=1)\n",
    "y_test=df_test.target"
   ]
  },
  {
   "cell_type": "markdown",
   "id": "8cc5f3eb",
   "metadata": {},
   "source": [
    "# Pipeline "
   ]
  },
  {
   "cell_type": "code",
   "execution_count": 12,
   "id": "8b3bb03c",
   "metadata": {
    "ExecuteTime": {
     "end_time": "2021-05-19T01:07:37.731219Z",
     "start_time": "2021-05-19T01:07:37.723695Z"
    }
   },
   "outputs": [],
   "source": [
    "num_attribs=df_train.drop('target',axis=1).columns.to_list()\n",
    "num_pip=Pipeline([('imputer',impute.SimpleImputer(strategy='median')),\n",
    "                  ('scalar',MinMaxScaler()),\n",
    "                 ('PCA',PCA(n_components=12))])\n",
    "preprocessor=compose.ColumnTransformer([\n",
    "    ('num',num_pip,num_attribs)\n",
    "])"
   ]
  },
  {
   "cell_type": "code",
   "execution_count": 13,
   "id": "c0fa029f",
   "metadata": {
    "ExecuteTime": {
     "end_time": "2021-05-19T01:07:39.800780Z",
     "start_time": "2021-05-19T01:07:39.731648Z"
    }
   },
   "outputs": [
    {
     "data": {
      "text/html": [
       "<style>#sk-28754d9a-a47d-4a05-90ac-3acbb798c337 {color: black;background-color: white;}#sk-28754d9a-a47d-4a05-90ac-3acbb798c337 pre{padding: 0;}#sk-28754d9a-a47d-4a05-90ac-3acbb798c337 div.sk-toggleable {background-color: white;}#sk-28754d9a-a47d-4a05-90ac-3acbb798c337 label.sk-toggleable__label {cursor: pointer;display: block;width: 100%;margin-bottom: 0;padding: 0.2em 0.3em;box-sizing: border-box;text-align: center;}#sk-28754d9a-a47d-4a05-90ac-3acbb798c337 div.sk-toggleable__content {max-height: 0;max-width: 0;overflow: hidden;text-align: left;background-color: #f0f8ff;}#sk-28754d9a-a47d-4a05-90ac-3acbb798c337 div.sk-toggleable__content pre {margin: 0.2em;color: black;border-radius: 0.25em;background-color: #f0f8ff;}#sk-28754d9a-a47d-4a05-90ac-3acbb798c337 input.sk-toggleable__control:checked~div.sk-toggleable__content {max-height: 200px;max-width: 100%;overflow: auto;}#sk-28754d9a-a47d-4a05-90ac-3acbb798c337 div.sk-estimator input.sk-toggleable__control:checked~label.sk-toggleable__label {background-color: #d4ebff;}#sk-28754d9a-a47d-4a05-90ac-3acbb798c337 div.sk-label input.sk-toggleable__control:checked~label.sk-toggleable__label {background-color: #d4ebff;}#sk-28754d9a-a47d-4a05-90ac-3acbb798c337 input.sk-hidden--visually {border: 0;clip: rect(1px 1px 1px 1px);clip: rect(1px, 1px, 1px, 1px);height: 1px;margin: -1px;overflow: hidden;padding: 0;position: absolute;width: 1px;}#sk-28754d9a-a47d-4a05-90ac-3acbb798c337 div.sk-estimator {font-family: monospace;background-color: #f0f8ff;margin: 0.25em 0.25em;border: 1px dotted black;border-radius: 0.25em;box-sizing: border-box;}#sk-28754d9a-a47d-4a05-90ac-3acbb798c337 div.sk-estimator:hover {background-color: #d4ebff;}#sk-28754d9a-a47d-4a05-90ac-3acbb798c337 div.sk-parallel-item::after {content: \"\";width: 100%;border-bottom: 1px solid gray;flex-grow: 1;}#sk-28754d9a-a47d-4a05-90ac-3acbb798c337 div.sk-label:hover label.sk-toggleable__label {background-color: #d4ebff;}#sk-28754d9a-a47d-4a05-90ac-3acbb798c337 div.sk-serial::before {content: \"\";position: absolute;border-left: 1px solid gray;box-sizing: border-box;top: 2em;bottom: 0;left: 50%;}#sk-28754d9a-a47d-4a05-90ac-3acbb798c337 div.sk-serial {display: flex;flex-direction: column;align-items: center;background-color: white;}#sk-28754d9a-a47d-4a05-90ac-3acbb798c337 div.sk-item {z-index: 1;}#sk-28754d9a-a47d-4a05-90ac-3acbb798c337 div.sk-parallel {display: flex;align-items: stretch;justify-content: center;background-color: white;}#sk-28754d9a-a47d-4a05-90ac-3acbb798c337 div.sk-parallel-item {display: flex;flex-direction: column;position: relative;background-color: white;}#sk-28754d9a-a47d-4a05-90ac-3acbb798c337 div.sk-parallel-item:first-child::after {align-self: flex-end;width: 50%;}#sk-28754d9a-a47d-4a05-90ac-3acbb798c337 div.sk-parallel-item:last-child::after {align-self: flex-start;width: 50%;}#sk-28754d9a-a47d-4a05-90ac-3acbb798c337 div.sk-parallel-item:only-child::after {width: 0;}#sk-28754d9a-a47d-4a05-90ac-3acbb798c337 div.sk-dashed-wrapped {border: 1px dashed gray;margin: 0.2em;box-sizing: border-box;padding-bottom: 0.1em;background-color: white;position: relative;}#sk-28754d9a-a47d-4a05-90ac-3acbb798c337 div.sk-label label {font-family: monospace;font-weight: bold;background-color: white;display: inline-block;line-height: 1.2em;}#sk-28754d9a-a47d-4a05-90ac-3acbb798c337 div.sk-label-container {position: relative;z-index: 2;text-align: center;}#sk-28754d9a-a47d-4a05-90ac-3acbb798c337 div.sk-container {display: inline-block;position: relative;}</style><div id=\"sk-28754d9a-a47d-4a05-90ac-3acbb798c337\" class\"sk-top-container\"><div class=\"sk-container\"><div class=\"sk-item sk-dashed-wrapped\"><div class=\"sk-label-container\"><div class=\"sk-label sk-toggleable\"><input class=\"sk-toggleable__control sk-hidden--visually\" id=\"17aa8291-a399-4748-80bc-6b0bb3c2a1f2\" type=\"checkbox\" ><label class=\"sk-toggleable__label\" for=\"17aa8291-a399-4748-80bc-6b0bb3c2a1f2\">Pipeline</label><div class=\"sk-toggleable__content\"><pre>Pipeline(steps=[('columntransformer',\n",
       "                 ColumnTransformer(transformers=[('num',\n",
       "                                                  Pipeline(steps=[('imputer',\n",
       "                                                                   SimpleImputer(strategy='median')),\n",
       "                                                                  ('scalar',\n",
       "                                                                   MinMaxScaler()),\n",
       "                                                                  ('PCA',\n",
       "                                                                   PCA(n_components=12))]),\n",
       "                                                  ['activityrecognition_1',\n",
       "                                                   'android_sensor_accelerometer_mean',\n",
       "                                                   'android_sensor_accelerometer_min',\n",
       "                                                   'android_sensor_accelerometer_max',\n",
       "                                                   'android_sensor_accelerom...\n",
       "                                                   'android_sensor_light_min',\n",
       "                                                   'android_sensor_light_max',\n",
       "                                                   'android_sensor_light_std',\n",
       "                                                   'android_sensor_linear_acceleration_mean',\n",
       "                                                   'android_sensor_linear_acceleration_min',\n",
       "                                                   'android_sensor_linear_acceleration_max',\n",
       "                                                   'android_sensor_linear_acceleration_std',\n",
       "                                                   'android_sensor_magnetic_field_mean', ...])])),\n",
       "                ('gradientboostingclassifier', GradientBoostingClassifier())])</pre></div></div></div><div class=\"sk-serial\"><div class=\"sk-item sk-dashed-wrapped\"><div class=\"sk-label-container\"><div class=\"sk-label sk-toggleable\"><input class=\"sk-toggleable__control sk-hidden--visually\" id=\"d4cc1499-bef7-4ece-af60-94ee4543eed9\" type=\"checkbox\" ><label class=\"sk-toggleable__label\" for=\"d4cc1499-bef7-4ece-af60-94ee4543eed9\">columntransformer: ColumnTransformer</label><div class=\"sk-toggleable__content\"><pre>ColumnTransformer(transformers=[('num',\n",
       "                                 Pipeline(steps=[('imputer',\n",
       "                                                  SimpleImputer(strategy='median')),\n",
       "                                                 ('scalar', MinMaxScaler()),\n",
       "                                                 ('PCA',\n",
       "                                                  PCA(n_components=12))]),\n",
       "                                 ['activityrecognition_1',\n",
       "                                  'android_sensor_accelerometer_mean',\n",
       "                                  'android_sensor_accelerometer_min',\n",
       "                                  'android_sensor_accelerometer_max',\n",
       "                                  'android_sensor_accelerometer_std',\n",
       "                                  'android_sensor_game_rotati...\n",
       "                                  'android_sensor_gyroscope_uncalibrated_std',\n",
       "                                  'android_sensor_light_mean',\n",
       "                                  'android_sensor_light_min',\n",
       "                                  'android_sensor_light_max',\n",
       "                                  'android_sensor_light_std',\n",
       "                                  'android_sensor_linear_acceleration_mean',\n",
       "                                  'android_sensor_linear_acceleration_min',\n",
       "                                  'android_sensor_linear_acceleration_max',\n",
       "                                  'android_sensor_linear_acceleration_std',\n",
       "                                  'android_sensor_magnetic_field_mean', ...])])</pre></div></div></div><div class=\"sk-parallel\"><div class=\"sk-parallel-item\"><div class=\"sk-item\"><div class=\"sk-label-container\"><div class=\"sk-label sk-toggleable\"><input class=\"sk-toggleable__control sk-hidden--visually\" id=\"c9218b29-de19-41f2-bc9a-28f63e112d76\" type=\"checkbox\" ><label class=\"sk-toggleable__label\" for=\"c9218b29-de19-41f2-bc9a-28f63e112d76\">num</label><div class=\"sk-toggleable__content\"><pre>['activityrecognition_1', 'android_sensor_accelerometer_mean', 'android_sensor_accelerometer_min', 'android_sensor_accelerometer_max', 'android_sensor_accelerometer_std', 'android_sensor_game_rotation_vector_mean', 'android_sensor_game_rotation_vector_min', 'android_sensor_game_rotation_vector_max', 'android_sensor_game_rotation_vector_std', 'android_sensor_gravity_mean', 'android_sensor_gravity_min', 'android_sensor_gravity_max', 'android_sensor_gravity_std', 'android_sensor_gyroscope_mean', 'android_sensor_gyroscope_min', 'android_sensor_gyroscope_max', 'android_sensor_gyroscope_std', 'android_sensor_gyroscope_uncalibrated_mean', 'android_sensor_gyroscope_uncalibrated_min', 'android_sensor_gyroscope_uncalibrated_max', 'android_sensor_gyroscope_uncalibrated_std', 'android_sensor_light_mean', 'android_sensor_light_min', 'android_sensor_light_max', 'android_sensor_light_std', 'android_sensor_linear_acceleration_mean', 'android_sensor_linear_acceleration_min', 'android_sensor_linear_acceleration_max', 'android_sensor_linear_acceleration_std', 'android_sensor_magnetic_field_mean', 'android_sensor_magnetic_field_min', 'android_sensor_magnetic_field_max', 'android_sensor_magnetic_field_std', 'android_sensor_magnetic_field_uncalibrated_mean', 'android_sensor_magnetic_field_uncalibrated_min', 'android_sensor_magnetic_field_uncalibrated_max', 'android_sensor_magnetic_field_uncalibrated_std', 'android_sensor_orientation_mean', 'android_sensor_orientation_min', 'android_sensor_orientation_max', 'android_sensor_orientation_std', 'android_sensor_pressure_mean', 'android_sensor_pressure_min', 'android_sensor_pressure_max', 'android_sensor_rotation_vector_mean', 'android_sensor_rotation_vector_min', 'android_sensor_rotation_vector_max', 'android_sensor_rotation_vector_std', 'sound_mean', 'sound_min', 'sound_max', 'sound_std', 'speed_mean', 'speed_min', 'speed_max']</pre></div></div></div><div class=\"sk-serial\"><div class=\"sk-item\"><div class=\"sk-serial\"><div class=\"sk-item\"><div class=\"sk-estimator sk-toggleable\"><input class=\"sk-toggleable__control sk-hidden--visually\" id=\"c168bb7f-a67d-4207-b33e-77678cc60630\" type=\"checkbox\" ><label class=\"sk-toggleable__label\" for=\"c168bb7f-a67d-4207-b33e-77678cc60630\">SimpleImputer</label><div class=\"sk-toggleable__content\"><pre>SimpleImputer(strategy='median')</pre></div></div></div><div class=\"sk-item\"><div class=\"sk-estimator sk-toggleable\"><input class=\"sk-toggleable__control sk-hidden--visually\" id=\"1c75728c-5834-4f66-9240-c3f374682435\" type=\"checkbox\" ><label class=\"sk-toggleable__label\" for=\"1c75728c-5834-4f66-9240-c3f374682435\">MinMaxScaler</label><div class=\"sk-toggleable__content\"><pre>MinMaxScaler()</pre></div></div></div><div class=\"sk-item\"><div class=\"sk-estimator sk-toggleable\"><input class=\"sk-toggleable__control sk-hidden--visually\" id=\"716a2422-07ca-4940-8e75-594f23b14dcf\" type=\"checkbox\" ><label class=\"sk-toggleable__label\" for=\"716a2422-07ca-4940-8e75-594f23b14dcf\">PCA</label><div class=\"sk-toggleable__content\"><pre>PCA(n_components=12)</pre></div></div></div></div></div></div></div></div></div></div><div class=\"sk-item\"><div class=\"sk-estimator sk-toggleable\"><input class=\"sk-toggleable__control sk-hidden--visually\" id=\"c24dd5fc-3900-4934-ba32-5424d2796f9f\" type=\"checkbox\" ><label class=\"sk-toggleable__label\" for=\"c24dd5fc-3900-4934-ba32-5424d2796f9f\">GradientBoostingClassifier</label><div class=\"sk-toggleable__content\"><pre>GradientBoostingClassifier()</pre></div></div></div></div></div></div></div>"
      ],
      "text/plain": [
       "Pipeline(steps=[('columntransformer',\n",
       "                 ColumnTransformer(transformers=[('num',\n",
       "                                                  Pipeline(steps=[('imputer',\n",
       "                                                                   SimpleImputer(strategy='median')),\n",
       "                                                                  ('scalar',\n",
       "                                                                   MinMaxScaler()),\n",
       "                                                                  ('PCA',\n",
       "                                                                   PCA(n_components=12))]),\n",
       "                                                  ['activityrecognition_1',\n",
       "                                                   'android_sensor_accelerometer_mean',\n",
       "                                                   'android_sensor_accelerometer_min',\n",
       "                                                   'android_sensor_accelerometer_max',\n",
       "                                                   'android_sensor_accelerom...\n",
       "                                                   'android_sensor_light_min',\n",
       "                                                   'android_sensor_light_max',\n",
       "                                                   'android_sensor_light_std',\n",
       "                                                   'android_sensor_linear_acceleration_mean',\n",
       "                                                   'android_sensor_linear_acceleration_min',\n",
       "                                                   'android_sensor_linear_acceleration_max',\n",
       "                                                   'android_sensor_linear_acceleration_std',\n",
       "                                                   'android_sensor_magnetic_field_mean', ...])])),\n",
       "                ('gradientboostingclassifier', GradientBoostingClassifier())])"
      ]
     },
     "execution_count": 13,
     "metadata": {},
     "output_type": "execute_result"
    }
   ],
   "source": [
    "# pipeline for model\n",
    "classifier_models = {\n",
    "\"DecisionTreeClassifier\": DecisionTreeClassifier(),\n",
    "'KNeighborsClassifier':KNeighborsClassifier(),\n",
    "'LogisticRegression':LogisticRegression(),\n",
    "\"RandomForestClassifier\":RandomForestClassifier(),\n",
    "\"GradientBoostingClassifier\":GradientBoostingClassifier(),\n",
    "\"XGBClassifier\":XGBClassifier(),\n",
    "\"LGBMClassifier\":LGBMClassifier(),\n",
    "}\n",
    "# make pipline with  preprocessing \n",
    "classifier_models = {name: pipeline.make_pipeline(preprocessor, model) for name, model in classifier_models.items()}\n",
    "classifier_models[\"GradientBoostingClassifier\"]"
   ]
  },
  {
   "cell_type": "code",
   "execution_count": 28,
   "id": "1ff66da3",
   "metadata": {
    "ExecuteTime": {
     "end_time": "2021-05-19T01:10:39.732760Z",
     "start_time": "2021-05-19T01:10:29.225223Z"
    }
   },
   "outputs": [
    {
     "name": "stdout",
     "output_type": "stream",
     "text": [
      "[05:10:36] WARNING: ../src/learner.cc:1095: Starting in XGBoost 1.3.0, the default evaluation metric used with the objective 'multi:softprob' was changed from 'merror' to 'mlogloss'. Explicitly set eval_metric if you'd like to restore the old behavior.\n"
     ]
    },
    {
     "data": {
      "text/html": [
       "<style  type=\"text/css\" >\n",
       "#T_234bb_row0_col1{\n",
       "            width:  10em;\n",
       "             height:  80%;\n",
       "            background:  linear-gradient(90deg,#5fba7d 96.1%, transparent 96.1%);\n",
       "        }#T_234bb_row0_col2,#T_234bb_row2_col1{\n",
       "            width:  10em;\n",
       "             height:  80%;\n",
       "            background:  linear-gradient(90deg,#5fba7d 95.7%, transparent 95.7%);\n",
       "        }#T_234bb_row1_col1{\n",
       "            width:  10em;\n",
       "             height:  80%;\n",
       "            background:  linear-gradient(90deg,#5fba7d 95.9%, transparent 95.9%);\n",
       "        }#T_234bb_row1_col2{\n",
       "            width:  10em;\n",
       "             height:  80%;\n",
       "            background:  linear-gradient(90deg,#5fba7d 95.6%, transparent 95.6%);\n",
       "        }#T_234bb_row2_col2{\n",
       "            width:  10em;\n",
       "             height:  80%;\n",
       "            background:  linear-gradient(90deg,#5fba7d 95.3%, transparent 95.3%);\n",
       "        }#T_234bb_row3_col1,#T_234bb_row3_col2{\n",
       "            width:  10em;\n",
       "             height:  80%;\n",
       "            background:  linear-gradient(90deg,#5fba7d 94.4%, transparent 94.4%);\n",
       "        }#T_234bb_row4_col1{\n",
       "            width:  10em;\n",
       "             height:  80%;\n",
       "            background:  linear-gradient(90deg,#5fba7d 93.8%, transparent 93.8%);\n",
       "        }#T_234bb_row4_col2{\n",
       "            width:  10em;\n",
       "             height:  80%;\n",
       "            background:  linear-gradient(90deg,#5fba7d 93.5%, transparent 93.5%);\n",
       "        }#T_234bb_row5_col1{\n",
       "            width:  10em;\n",
       "             height:  80%;\n",
       "            background:  linear-gradient(90deg,#5fba7d 90.1%, transparent 90.1%);\n",
       "        }#T_234bb_row5_col2{\n",
       "            width:  10em;\n",
       "             height:  80%;\n",
       "            background:  linear-gradient(90deg,#5fba7d 89.9%, transparent 89.9%);\n",
       "        }#T_234bb_row6_col1{\n",
       "            width:  10em;\n",
       "             height:  80%;\n",
       "            background:  linear-gradient(90deg,#5fba7d 73.9%, transparent 73.9%);\n",
       "        }#T_234bb_row6_col2{\n",
       "            width:  10em;\n",
       "             height:  80%;\n",
       "            background:  linear-gradient(90deg,#5fba7d 74.9%, transparent 74.9%);\n",
       "        }</style><table id=\"T_234bb_\" ><thead>    <tr>        <th class=\"blank level0\" ></th>        <th class=\"col_heading level0 col0\" >Model</th>        <th class=\"col_heading level0 col1\" >Accuracy</th>        <th class=\"col_heading level0 col2\" >Bal Acc.</th>        <th class=\"col_heading level0 col3\" >Time</th>    </tr></thead><tbody>\n",
       "                <tr>\n",
       "                        <th id=\"T_234bb_level0_row0\" class=\"row_heading level0 row0\" >1</th>\n",
       "                        <td id=\"T_234bb_row0_col0\" class=\"data row0 col0\" >LGBMClassifier</td>\n",
       "                        <td id=\"T_234bb_row0_col1\" class=\"data row0 col1\" >96.138415</td>\n",
       "                        <td id=\"T_234bb_row0_col2\" class=\"data row0 col2\" >95.746435</td>\n",
       "                        <td id=\"T_234bb_row0_col3\" class=\"data row0 col3\" >0.997976</td>\n",
       "            </tr>\n",
       "            <tr>\n",
       "                        <th id=\"T_234bb_level0_row1\" class=\"row_heading level0 row1\" >2</th>\n",
       "                        <td id=\"T_234bb_row1_col0\" class=\"data row1 col0\" >XGBClassifier</td>\n",
       "                        <td id=\"T_234bb_row1_col1\" class=\"data row1 col1\" >95.887663</td>\n",
       "                        <td id=\"T_234bb_row1_col2\" class=\"data row1 col2\" >95.616522</td>\n",
       "                        <td id=\"T_234bb_row1_col3\" class=\"data row1 col3\" >2.065293</td>\n",
       "            </tr>\n",
       "            <tr>\n",
       "                        <th id=\"T_234bb_level0_row2\" class=\"row_heading level0 row2\" >3</th>\n",
       "                        <td id=\"T_234bb_row2_col0\" class=\"data row2 col0\" >RandomForestClassifier</td>\n",
       "                        <td id=\"T_234bb_row2_col1\" class=\"data row2 col1\" >95.687061</td>\n",
       "                        <td id=\"T_234bb_row2_col2\" class=\"data row2 col2\" >95.344613</td>\n",
       "                        <td id=\"T_234bb_row2_col3\" class=\"data row2 col3\" >0.880386</td>\n",
       "            </tr>\n",
       "            <tr>\n",
       "                        <th id=\"T_234bb_level0_row3\" class=\"row_heading level0 row3\" >4</th>\n",
       "                        <td id=\"T_234bb_row3_col0\" class=\"data row3 col0\" >KNeighborsClassifier</td>\n",
       "                        <td id=\"T_234bb_row3_col1\" class=\"data row3 col1\" >94.433300</td>\n",
       "                        <td id=\"T_234bb_row3_col2\" class=\"data row3 col2\" >94.408352</td>\n",
       "                        <td id=\"T_234bb_row3_col3\" class=\"data row3 col3\" >0.069052</td>\n",
       "            </tr>\n",
       "            <tr>\n",
       "                        <th id=\"T_234bb_level0_row4\" class=\"row_heading level0 row4\" >5</th>\n",
       "                        <td id=\"T_234bb_row4_col0\" class=\"data row4 col0\" >GradientBoostingClassifier</td>\n",
       "                        <td id=\"T_234bb_row4_col1\" class=\"data row4 col1\" >93.831494</td>\n",
       "                        <td id=\"T_234bb_row4_col2\" class=\"data row4 col2\" >93.489355</td>\n",
       "                        <td id=\"T_234bb_row4_col3\" class=\"data row4 col3\" >5.550231</td>\n",
       "            </tr>\n",
       "            <tr>\n",
       "                        <th id=\"T_234bb_level0_row5\" class=\"row_heading level0 row5\" >6</th>\n",
       "                        <td id=\"T_234bb_row5_col0\" class=\"data row5 col0\" >DecisionTreeClassifier</td>\n",
       "                        <td id=\"T_234bb_row5_col1\" class=\"data row5 col1\" >90.120361</td>\n",
       "                        <td id=\"T_234bb_row5_col2\" class=\"data row5 col2\" >89.891901</td>\n",
       "                        <td id=\"T_234bb_row5_col3\" class=\"data row5 col3\" >0.122440</td>\n",
       "            </tr>\n",
       "            <tr>\n",
       "                        <th id=\"T_234bb_level0_row6\" class=\"row_heading level0 row6\" >7</th>\n",
       "                        <td id=\"T_234bb_row6_col0\" class=\"data row6 col0\" >LogisticRegression</td>\n",
       "                        <td id=\"T_234bb_row6_col1\" class=\"data row6 col1\" >73.871615</td>\n",
       "                        <td id=\"T_234bb_row6_col2\" class=\"data row6 col2\" >74.937257</td>\n",
       "                        <td id=\"T_234bb_row6_col3\" class=\"data row6 col3\" >0.199365</td>\n",
       "            </tr>\n",
       "    </tbody></table>"
      ],
      "text/plain": [
       "<pandas.io.formats.style.Styler at 0x7fc755f1c550>"
      ]
     },
     "execution_count": 28,
     "metadata": {},
     "output_type": "execute_result"
    }
   ],
   "source": [
    "\n",
    "\n",
    "x_train, x_val, y_train, y_val = train_test_split(X, y,test_size=0.4,stratify = y,random_state=10 )\n",
    "results = pd.DataFrame({'Model': [], 'Accuracy': [], 'Bal Acc.': [],'Time': []})\n",
    "for model_name, model in classifier_models.items():\n",
    "    start_time = time.time()\n",
    "    model.fit(x_train, y_train)\n",
    "    total_time = time.time() - start_time\n",
    "    valid_pred = model.predict(x_val)\n",
    "    results = results.append({\"Model\":    model_name,\n",
    "                              \"Accuracy\": accuracy_score(y_val, valid_pred)*100,\n",
    "                              \"Bal Acc.\": balanced_accuracy_score(y_val, valid_pred)*100,\n",
    "                    \n",
    "                              \"Time\":     total_time},\n",
    "                              ignore_index=True)\n",
    "results_ord = results.sort_values(by=['Accuracy'], ascending=False, ignore_index=True)\n",
    "results_ord.index += 1 \n",
    "results_ord.style.bar(subset=['Accuracy', 'Bal Acc.'], vmin=0, vmax=100, color='#5fba7d')\n"
   ]
  },
  {
   "cell_type": "markdown",
   "id": "7984dc33",
   "metadata": {},
   "source": [
    "# Best model for test data  "
   ]
  },
  {
   "cell_type": "code",
   "execution_count": 16,
   "id": "427b646e",
   "metadata": {
    "ExecuteTime": {
     "end_time": "2021-05-19T01:08:24.581858Z",
     "start_time": "2021-05-19T01:08:24.576213Z"
    }
   },
   "outputs": [],
   "source": [
    "from sklearn.calibration import CalibratedClassifierCV"
   ]
  },
  {
   "cell_type": "code",
   "execution_count": 32,
   "id": "9f0b3867",
   "metadata": {
    "ExecuteTime": {
     "end_time": "2021-05-19T01:11:32.280928Z",
     "start_time": "2021-05-19T01:11:32.277564Z"
    }
   },
   "outputs": [],
   "source": [
    "best_model=CalibratedClassifierCV(base_estimator=XGBClassifier())\n",
    "model_name='CalibratedClassifierCV'"
   ]
  },
  {
   "cell_type": "code",
   "execution_count": 33,
   "id": "4340aea4",
   "metadata": {
    "ExecuteTime": {
     "end_time": "2021-05-19T01:11:34.741331Z",
     "start_time": "2021-05-19T01:11:34.738155Z"
    }
   },
   "outputs": [],
   "source": [
    "clf=Pipeline([('preprocess',preprocessor),('classification',best_model)])"
   ]
  },
  {
   "cell_type": "code",
   "execution_count": 38,
   "id": "eebe8765",
   "metadata": {
    "ExecuteTime": {
     "end_time": "2021-05-19T01:15:35.013063Z",
     "start_time": "2021-05-19T01:15:18.195134Z"
    }
   },
   "outputs": [
    {
     "name": "stdout",
     "output_type": "stream",
     "text": [
      "[05:15:30] WARNING: ../src/learner.cc:1095: Starting in XGBoost 1.3.0, the default evaluation metric used with the objective 'multi:softprob' was changed from 'merror' to 'mlogloss'. Explicitly set eval_metric if you'd like to restore the old behavior.\n"
     ]
    },
    {
     "data": {
      "text/html": [
       "<style  type=\"text/css\" >\n",
       "#T_13f84_row0_col1,#T_13f84_row1_col1,#T_13f84_row4_col2{\n",
       "            width:  10em;\n",
       "             height:  80%;\n",
       "            background:  linear-gradient(90deg,#5fba7d 44.7%, transparent 44.7%);\n",
       "        }#T_13f84_row0_col2{\n",
       "            width:  10em;\n",
       "             height:  80%;\n",
       "            background:  linear-gradient(90deg,#5fba7d 49.2%, transparent 49.2%);\n",
       "        }#T_13f84_row1_col2{\n",
       "            width:  10em;\n",
       "             height:  80%;\n",
       "            background:  linear-gradient(90deg,#5fba7d 51.5%, transparent 51.5%);\n",
       "        }#T_13f84_row2_col1{\n",
       "            width:  10em;\n",
       "             height:  80%;\n",
       "            background:  linear-gradient(90deg,#5fba7d 40.0%, transparent 40.0%);\n",
       "        }#T_13f84_row2_col2{\n",
       "            width:  10em;\n",
       "             height:  80%;\n",
       "            background:  linear-gradient(90deg,#5fba7d 49.6%, transparent 49.6%);\n",
       "        }#T_13f84_row3_col1{\n",
       "            width:  10em;\n",
       "             height:  80%;\n",
       "            background:  linear-gradient(90deg,#5fba7d 39.0%, transparent 39.0%);\n",
       "        }#T_13f84_row3_col2{\n",
       "            width:  10em;\n",
       "             height:  80%;\n",
       "            background:  linear-gradient(90deg,#5fba7d 41.9%, transparent 41.9%);\n",
       "        }#T_13f84_row4_col1{\n",
       "            width:  10em;\n",
       "             height:  80%;\n",
       "            background:  linear-gradient(90deg,#5fba7d 37.4%, transparent 37.4%);\n",
       "        }#T_13f84_row5_col1{\n",
       "            width:  10em;\n",
       "             height:  80%;\n",
       "            background:  linear-gradient(90deg,#5fba7d 36.0%, transparent 36.0%);\n",
       "        }#T_13f84_row5_col2{\n",
       "            width:  10em;\n",
       "             height:  80%;\n",
       "            background:  linear-gradient(90deg,#5fba7d 52.0%, transparent 52.0%);\n",
       "        }#T_13f84_row6_col1{\n",
       "            width:  10em;\n",
       "             height:  80%;\n",
       "            background:  linear-gradient(90deg,#5fba7d 31.7%, transparent 31.7%);\n",
       "        }#T_13f84_row6_col2{\n",
       "            width:  10em;\n",
       "             height:  80%;\n",
       "            background:  linear-gradient(90deg,#5fba7d 28.8%, transparent 28.8%);\n",
       "        }</style><table id=\"T_13f84_\" ><thead>    <tr>        <th class=\"blank level0\" ></th>        <th class=\"col_heading level0 col0\" >Model</th>        <th class=\"col_heading level0 col1\" >Accuracy</th>        <th class=\"col_heading level0 col2\" >Bal Acc.</th>        <th class=\"col_heading level0 col3\" >Time</th>    </tr></thead><tbody>\n",
       "                <tr>\n",
       "                        <th id=\"T_13f84_level0_row0\" class=\"row_heading level0 row0\" >1</th>\n",
       "                        <td id=\"T_13f84_row0_col0\" class=\"data row0 col0\" >GradientBoostingClassifier</td>\n",
       "                        <td id=\"T_13f84_row0_col1\" class=\"data row0 col1\" >44.713656</td>\n",
       "                        <td id=\"T_13f84_row0_col2\" class=\"data row0 col2\" >49.187624</td>\n",
       "                        <td id=\"T_13f84_row0_col3\" class=\"data row0 col3\" >9.560127</td>\n",
       "            </tr>\n",
       "            <tr>\n",
       "                        <th id=\"T_13f84_level0_row1\" class=\"row_heading level0 row1\" >2</th>\n",
       "                        <td id=\"T_13f84_row1_col0\" class=\"data row1 col0\" >XGBClassifier</td>\n",
       "                        <td id=\"T_13f84_row1_col1\" class=\"data row1 col1\" >44.713656</td>\n",
       "                        <td id=\"T_13f84_row1_col2\" class=\"data row1 col2\" >51.495509</td>\n",
       "                        <td id=\"T_13f84_row1_col3\" class=\"data row1 col3\" >3.401669</td>\n",
       "            </tr>\n",
       "            <tr>\n",
       "                        <th id=\"T_13f84_level0_row2\" class=\"row_heading level0 row2\" >3</th>\n",
       "                        <td id=\"T_13f84_row2_col0\" class=\"data row2 col0\" >LGBMClassifier</td>\n",
       "                        <td id=\"T_13f84_row2_col1\" class=\"data row2 col1\" >39.977974</td>\n",
       "                        <td id=\"T_13f84_row2_col2\" class=\"data row2 col2\" >49.591188</td>\n",
       "                        <td id=\"T_13f84_row2_col3\" class=\"data row2 col3\" >1.107100</td>\n",
       "            </tr>\n",
       "            <tr>\n",
       "                        <th id=\"T_13f84_level0_row3\" class=\"row_heading level0 row3\" >4</th>\n",
       "                        <td id=\"T_13f84_row3_col0\" class=\"data row3 col0\" >KNeighborsClassifier</td>\n",
       "                        <td id=\"T_13f84_row3_col1\" class=\"data row3 col1\" >38.986784</td>\n",
       "                        <td id=\"T_13f84_row3_col2\" class=\"data row3 col2\" >41.854042</td>\n",
       "                        <td id=\"T_13f84_row3_col3\" class=\"data row3 col3\" >0.132283</td>\n",
       "            </tr>\n",
       "            <tr>\n",
       "                        <th id=\"T_13f84_level0_row4\" class=\"row_heading level0 row4\" >5</th>\n",
       "                        <td id=\"T_13f84_row4_col0\" class=\"data row4 col0\" >RandomForestClassifier</td>\n",
       "                        <td id=\"T_13f84_row4_col1\" class=\"data row4 col1\" >37.444934</td>\n",
       "                        <td id=\"T_13f84_row4_col2\" class=\"data row4 col2\" >44.749290</td>\n",
       "                        <td id=\"T_13f84_row4_col3\" class=\"data row4 col3\" >1.386523</td>\n",
       "            </tr>\n",
       "            <tr>\n",
       "                        <th id=\"T_13f84_level0_row5\" class=\"row_heading level0 row5\" >6</th>\n",
       "                        <td id=\"T_13f84_row5_col0\" class=\"data row5 col0\" >LogisticRegression</td>\n",
       "                        <td id=\"T_13f84_row5_col1\" class=\"data row5 col1\" >36.013216</td>\n",
       "                        <td id=\"T_13f84_row5_col2\" class=\"data row5 col2\" >51.980448</td>\n",
       "                        <td id=\"T_13f84_row5_col3\" class=\"data row5 col3\" >0.545893</td>\n",
       "            </tr>\n",
       "            <tr>\n",
       "                        <th id=\"T_13f84_level0_row6\" class=\"row_heading level0 row6\" >7</th>\n",
       "                        <td id=\"T_13f84_row6_col0\" class=\"data row6 col0\" >DecisionTreeClassifier</td>\n",
       "                        <td id=\"T_13f84_row6_col1\" class=\"data row6 col1\" >31.718062</td>\n",
       "                        <td id=\"T_13f84_row6_col2\" class=\"data row6 col2\" >28.765215</td>\n",
       "                        <td id=\"T_13f84_row6_col3\" class=\"data row6 col3\" >0.249218</td>\n",
       "            </tr>\n",
       "    </tbody></table>"
      ],
      "text/plain": [
       "<pandas.io.formats.style.Styler at 0x7fc754290610>"
      ]
     },
     "execution_count": 38,
     "metadata": {},
     "output_type": "execute_result"
    }
   ],
   "source": [
    "\n",
    "result = pd.DataFrame({'Model': [], 'Accuracy': [], 'Bal Acc.': [],'Time': []})\n",
    "for model_name, model in classifier_models.items():\n",
    "    start_time = time.time()\n",
    "    model.fit(X, y)\n",
    "    total_time = time.time() - start_time\n",
    "    pred = model.predict(X_test)\n",
    "    result = result.append({\"Model\":    model_name,\n",
    "                              \"Accuracy\": accuracy_score(y_test, pred)*100,\n",
    "                              \"Bal Acc.\": balanced_accuracy_score(y_test, pred)*100,\n",
    "                              \"Time\":     total_time},\n",
    "                              ignore_index=True)\n",
    "result_ord = result.sort_values(by=['Accuracy'], ascending=False, ignore_index=True)\n",
    "result_ord.index += 1 \n",
    "result_ord.style.bar(subset=['Accuracy', 'Bal Acc.'], vmin=0, vmax=100, color='#5fba7d')\n"
   ]
  },
  {
   "cell_type": "code",
   "execution_count": 39,
   "id": "167236d4",
   "metadata": {
    "ExecuteTime": {
     "end_time": "2021-05-19T01:16:17.394315Z",
     "start_time": "2021-05-19T01:16:17.349114Z"
    }
   },
   "outputs": [
    {
     "name": "stdout",
     "output_type": "stream",
     "text": [
      "              precision    recall  f1-score   support\n",
      "\n",
      "         Bus       0.29      0.23      0.26       164\n",
      "         Car       0.08      0.59      0.14        34\n",
      "       Still       0.42      0.80      0.55        76\n",
      "       Train       0.28      0.49      0.35        86\n",
      "     Walking       0.91      0.37      0.53       548\n",
      "\n",
      "    accuracy                           0.40       908\n",
      "   macro avg       0.40      0.50      0.37       908\n",
      "weighted avg       0.67      0.40      0.45       908\n",
      "\n",
      "\n",
      "[[ 38  41  41  26  18]\n",
      " [  0  20   1  13   0]\n",
      " [  1   8  61   5   1]\n",
      " [ 28  16   0  42   0]\n",
      " [ 63 177  41  65 202]]\n"
     ]
    }
   ],
   "source": [
    "print(classification_report(y_test, pred))\n",
    "print()\n",
    "print(confusion_matrix(y_test, pred))"
   ]
  },
  {
   "cell_type": "markdown",
   "id": "7c2f168c",
   "metadata": {},
   "source": [
    "# tuning model "
   ]
  },
  {
   "cell_type": "code",
   "execution_count": null,
   "id": "d863596f",
   "metadata": {
    "ExecuteTime": {
     "end_time": "2021-05-19T00:48:52.772309Z",
     "start_time": "2021-05-19T00:48:52.768766Z"
    }
   },
   "outputs": [],
   "source": [
    "from sklearn.model_selection import GridSearchCV"
   ]
  },
  {
   "cell_type": "code",
   "execution_count": null,
   "id": "334d3734",
   "metadata": {
    "ExecuteTime": {
     "end_time": "2021-05-19T00:48:14.655207Z",
     "start_time": "2021-05-19T00:48:14.649744Z"
    }
   },
   "outputs": [],
   "source": [
    "\n",
    "k_range = list(range(1, 31))\n",
    "param_grid = dict(n_neighbors=k_range)             "
   ]
  },
  {
   "cell_type": "code",
   "execution_count": null,
   "id": "9f2ee4ef",
   "metadata": {
    "ExecuteTime": {
     "end_time": "2021-05-19T00:48:54.707818Z",
     "start_time": "2021-05-19T00:48:54.703055Z"
    }
   },
   "outputs": [],
   "source": [
    "# instantiate the grid\n",
    "grid = GridSearchCV(clf, param_grid, cv=2, scoring='accuracy')"
   ]
  },
  {
   "cell_type": "code",
   "execution_count": null,
   "id": "69e9484c",
   "metadata": {},
   "outputs": [],
   "source": [
    ">>> from sklearn.model_selection import GridSearchCV\n",
    " from sklearn.calibration import CalibratedClassifierCV\n",
    ">>> from sklearn.ensemble import RandomForestClassifier\n",
    ">>> from sklearn.datasets import make_moons\n",
    ">>> X, y = make_moons()\n",
    ">>> calibrated_forest = CalibratedClassifierCV(\n",
    "...    base_estimator=RandomForestClassifier(n_estimators=10))"
   ]
  },
  {
   "cell_type": "code",
   "execution_count": null,
   "id": "4ca87577",
   "metadata": {},
   "outputs": [],
   "source": []
  }
 ],
 "metadata": {
  "hide_input": false,
  "kernelspec": {
   "display_name": "Python 3",
   "language": "python",
   "name": "python3"
  },
  "language_info": {
   "codemirror_mode": {
    "name": "ipython",
    "version": 3
   },
   "file_extension": ".py",
   "mimetype": "text/x-python",
   "name": "python",
   "nbconvert_exporter": "python",
   "pygments_lexer": "ipython3",
   "version": "3.8.2"
  },
  "toc": {
   "base_numbering": 1,
   "nav_menu": {},
   "number_sections": true,
   "sideBar": true,
   "skip_h1_title": false,
   "title_cell": "Table of Contents",
   "title_sidebar": "Contents",
   "toc_cell": false,
   "toc_position": {},
   "toc_section_display": true,
   "toc_window_display": false
  },
  "varInspector": {
   "cols": {
    "lenName": 16,
    "lenType": 16,
    "lenVar": 40
   },
   "kernels_config": {
    "python": {
     "delete_cmd_postfix": "",
     "delete_cmd_prefix": "del ",
     "library": "var_list.py",
     "varRefreshCmd": "print(var_dic_list())"
    },
    "r": {
     "delete_cmd_postfix": ") ",
     "delete_cmd_prefix": "rm(",
     "library": "var_list.r",
     "varRefreshCmd": "cat(var_dic_list()) "
    }
   },
   "types_to_exclude": [
    "module",
    "function",
    "builtin_function_or_method",
    "instance",
    "_Feature"
   ],
   "window_display": false
  }
 },
 "nbformat": 4,
 "nbformat_minor": 5
}
