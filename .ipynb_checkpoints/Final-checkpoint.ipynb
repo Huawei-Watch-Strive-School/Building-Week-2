{
 "cells": [
  {
   "cell_type": "code",
   "execution_count": 1,
   "id": "1c774f0f",
   "metadata": {
    "ExecuteTime": {
     "end_time": "2021-05-19T11:31:33.135192Z",
     "start_time": "2021-05-19T11:31:31.009842Z"
    },
    "cell_id": "00000-8c7c8fca-1c70-4587-91f3-3db57bfd28d0",
    "deepnote_cell_type": "code",
    "deepnote_to_be_reexecuted": false,
    "execution_millis": 5,
    "execution_start": 1621413648486,
    "source_hash": "570c8184"
   },
   "outputs": [
    {
     "name": "stdout",
     "output_type": "stream",
     "text": [
      "Pandas   1.2.4\n",
      "Sklearn  0.24.2\n"
     ]
    }
   ],
   "source": [
    "import time\n",
    "from IPython.display import clear_output\n",
    "import numpy    as np\n",
    "import pandas   as pd\n",
    "from sklearn.decomposition import PCA\n",
    "from sklearn.metrics import classification_report,confusion_matrix\n",
    "from sklearn.ensemble import RandomForestClassifier,GradientBoostingClassifier\n",
    "from sklearn.pipeline import Pipeline ,make_pipeline\n",
    "from sklearn import impute\n",
    "from sklearn import compose\n",
    "from sklearn.model_selection import train_test_split,cross_val_score\n",
    "from sklearn.metrics import accuracy_score, balanced_accuracy_score, plot_confusion_matrix,roc_auc_score\n",
    "from sklearn import set_config\n",
    "import warnings\n",
    "warnings.filterwarnings('ignore')\n",
    "from sklearn.preprocessing import MinMaxScaler,Normalizer,PowerTransformer,QuantileTransformer, RobustScaler,StandardScaler,LabelEncoder, OneHotEncoder,OrdinalEncoder\n",
    "from sklearn.tree          import DecisionTreeClassifier\n",
    "from sklearn.linear_model  import LogisticRegression    \n",
    "from xgboost               import XGBClassifier\n",
    "from lightgbm              import LGBMClassifier\n",
    "from sklearn.neighbors import KNeighborsClassifier\n",
    "from sklearn.naive_bayes import GaussianNB\n",
    "import sklearn\n",
    "set_config(display='diagram') # Useful for display the pipeline\n",
    "print(\"Pandas  \", pd.__version__)\n",
    "print(\"Sklearn \", sklearn.__version__) # Try to use 0.24\n",
    "\n"
   ]
  },
  {
   "cell_type": "code",
   "execution_count": 4,
   "id": "341b1505",
   "metadata": {
    "ExecuteTime": {
     "end_time": "2021-05-19T01:07:22.163610Z",
     "start_time": "2021-05-19T01:07:22.036035Z"
    },
    "cell_id": "00001-06e6221d-0730-4e01-9045-bce276c93090",
    "deepnote_cell_type": "code",
    "deepnote_to_be_reexecuted": false,
    "execution_millis": 165,
    "execution_start": 1621413555476,
    "source_hash": "31454d99"
   },
   "outputs": [
    {
     "data": {
      "application/vnd.deepnote.dataframe.v2+json": {
       "column_count": 17,
       "columns": [
        {
         "dtype": "int64",
         "name": "id",
         "stats": {
          "histogram": [
           {
            "bin_end": 2469.5,
            "bin_start": 876,
            "count": 1
           },
           {
            "bin_end": 4063,
            "bin_start": 2469.5,
            "count": 0
           },
           {
            "bin_end": 5656.5,
            "bin_start": 4063,
            "count": 0
           },
           {
            "bin_end": 7250,
            "bin_start": 5656.5,
            "count": 0
           },
           {
            "bin_end": 8843.5,
            "bin_start": 7250,
            "count": 0
           },
           {
            "bin_end": 10437,
            "bin_start": 8843.5,
            "count": 0
           },
           {
            "bin_end": 12030.5,
            "bin_start": 10437,
            "count": 0
           },
           {
            "bin_end": 13624,
            "bin_start": 12030.5,
            "count": 0
           },
           {
            "bin_end": 15217.5,
            "bin_start": 13624,
            "count": 0
           },
           {
            "bin_end": 16811,
            "bin_start": 15217.5,
            "count": 4
           }
          ],
          "max": "16811",
          "min": "876",
          "nan_count": 0,
          "unique_count": 5
         }
        },
        {
         "dtype": "object",
         "name": "user",
         "stats": {
          "categories": [
           {
            "count": 4,
            "name": "Luca"
           },
           {
            "count": 1,
            "name": "andrea"
           }
          ],
          "nan_count": 0,
          "unique_count": 2
         }
        },
        {
         "dtype": "float64",
         "name": "android_sensor_gyroscope_mean",
         "stats": {
          "histogram": [
           {
            "bin_end": 0.019692364659799,
            "bin_start": 0.00152461653211,
            "count": 2
           },
           {
            "bin_end": 0.037860112787488,
            "bin_start": 0.019692364659799,
            "count": 2
           },
           {
            "bin_end": 0.056027860915177,
            "bin_start": 0.037860112787488,
            "count": 0
           },
           {
            "bin_end": 0.074195609042866,
            "bin_start": 0.056027860915177,
            "count": 0
           },
           {
            "bin_end": 0.092363357170555,
            "bin_start": 0.074195609042866,
            "count": 0
           },
           {
            "bin_end": 0.110531105298244,
            "bin_start": 0.092363357170555,
            "count": 0
           },
           {
            "bin_end": 0.12869885342593299,
            "bin_start": 0.110531105298244,
            "count": 0
           },
           {
            "bin_end": 0.146866601553622,
            "bin_start": 0.12869885342593299,
            "count": 0
           },
           {
            "bin_end": 0.165034349681311,
            "bin_start": 0.146866601553622,
            "count": 0
           },
           {
            "bin_end": 0.183202097809,
            "bin_start": 0.165034349681311,
            "count": 1
           }
          ],
          "max": "0.183202097809",
          "min": "0.00152461653211",
          "nan_count": 0,
          "unique_count": 5
         }
        },
        {
         "dtype": "float64",
         "name": "android_sensor_accelerometer_std",
         "stats": {
          "histogram": [
           {
            "bin_end": 0.18767362506253,
            "bin_start": 0.0111991059917,
            "count": 2
           },
           {
            "bin_end": 0.36414814413336,
            "bin_start": 0.18767362506253,
            "count": 0
           },
           {
            "bin_end": 0.5406226632041901,
            "bin_start": 0.36414814413336,
            "count": 1
           },
           {
            "bin_end": 0.7170971822750201,
            "bin_start": 0.5406226632041901,
            "count": 0
           },
           {
            "bin_end": 0.8935717013458501,
            "bin_start": 0.7170971822750201,
            "count": 1
           },
           {
            "bin_end": 1.07004622041668,
            "bin_start": 0.8935717013458501,
            "count": 0
           },
           {
            "bin_end": 1.24652073948751,
            "bin_start": 1.07004622041668,
            "count": 0
           },
           {
            "bin_end": 1.42299525855834,
            "bin_start": 1.24652073948751,
            "count": 0
           },
           {
            "bin_end": 1.5994697776291702,
            "bin_start": 1.42299525855834,
            "count": 0
           },
           {
            "bin_end": 1.7759442967,
            "bin_start": 1.5994697776291702,
            "count": 1
           }
          ],
          "max": "1.7759442967",
          "min": "0.0111991059917",
          "nan_count": 0,
          "unique_count": 5
         }
        },
        {
         "dtype": "float64",
         "name": "android_sensor_gyroscope_std",
         "stats": {
          "histogram": [
           {
            "bin_end": 0.0105233445143767,
            "bin_start": 0.000712700740663,
            "count": 2
           },
           {
            "bin_end": 0.0203339882880904,
            "bin_start": 0.0105233445143767,
            "count": 2
           },
           {
            "bin_end": 0.0301446320618041,
            "bin_start": 0.0203339882880904,
            "count": 0
           },
           {
            "bin_end": 0.0399552758355178,
            "bin_start": 0.0301446320618041,
            "count": 0
           },
           {
            "bin_end": 0.0497659196092315,
            "bin_start": 0.0399552758355178,
            "count": 0
           },
           {
            "bin_end": 0.0595765633829452,
            "bin_start": 0.0497659196092315,
            "count": 0
           },
           {
            "bin_end": 0.0693872071566589,
            "bin_start": 0.0595765633829452,
            "count": 0
           },
           {
            "bin_end": 0.0791978509303726,
            "bin_start": 0.0693872071566589,
            "count": 0
           },
           {
            "bin_end": 0.0890084947040863,
            "bin_start": 0.0791978509303726,
            "count": 0
           },
           {
            "bin_end": 0.0988191384778,
            "bin_start": 0.0890084947040863,
            "count": 1
           }
          ],
          "max": "0.0988191384778",
          "min": "0.000712700740663",
          "nan_count": 0,
          "unique_count": 5
         }
        },
        {
         "dtype": "float64",
         "name": "android_sensor_gyroscope_uncalibrated_mean",
         "stats": {
          "histogram": [
           {
            "bin_end": 0.04116444248034,
            "bin_start": 0.0162213599906,
            "count": 3
           },
           {
            "bin_end": 0.06610752497008,
            "bin_start": 0.04116444248034,
            "count": 1
           },
           {
            "bin_end": 0.09105060745982,
            "bin_start": 0.06610752497008,
            "count": 0
           },
           {
            "bin_end": 0.11599368994956,
            "bin_start": 0.09105060745982,
            "count": 0
           },
           {
            "bin_end": 0.1409367724393,
            "bin_start": 0.11599368994956,
            "count": 0
           },
           {
            "bin_end": 0.16587985492904,
            "bin_start": 0.1409367724393,
            "count": 0
           },
           {
            "bin_end": 0.19082293741878,
            "bin_start": 0.16587985492904,
            "count": 0
           },
           {
            "bin_end": 0.21576601990852,
            "bin_start": 0.19082293741878,
            "count": 0
           },
           {
            "bin_end": 0.24070910239826002,
            "bin_start": 0.21576601990852,
            "count": 0
           },
           {
            "bin_end": 0.265652184888,
            "bin_start": 0.24070910239826002,
            "count": 1
           }
          ],
          "max": "0.265652184888",
          "min": "0.0162213599906",
          "nan_count": 0,
          "unique_count": 5
         }
        },
        {
         "dtype": "float64",
         "name": "android_sensor_accelerometer_max",
         "stats": {
          "histogram": [
           {
            "bin_end": 10.578999020486,
            "bin_start": 9.84926211274,
            "count": 2
           },
           {
            "bin_end": 11.308735928232,
            "bin_start": 10.578999020486,
            "count": 1
           },
           {
            "bin_end": 12.038472835978,
            "bin_start": 11.308735928232,
            "count": 0
           },
           {
            "bin_end": 12.768209743724,
            "bin_start": 12.038472835978,
            "count": 1
           },
           {
            "bin_end": 13.49794665147,
            "bin_start": 12.768209743724,
            "count": 0
           },
           {
            "bin_end": 14.227683559216,
            "bin_start": 13.49794665147,
            "count": 0
           },
           {
            "bin_end": 14.957420466962,
            "bin_start": 14.227683559216,
            "count": 0
           },
           {
            "bin_end": 15.687157374708,
            "bin_start": 14.957420466962,
            "count": 0
           },
           {
            "bin_end": 16.416894282454003,
            "bin_start": 15.687157374708,
            "count": 0
           },
           {
            "bin_end": 17.1466311902,
            "bin_start": 16.416894282454003,
            "count": 1
           }
          ],
          "max": "17.1466311902",
          "min": "9.84926211274",
          "nan_count": 0,
          "unique_count": 5
         }
        },
        {
         "dtype": "float64",
         "name": "android_sensor_linear_acceleration_mean",
         "stats": {
          "histogram": [
           {
            "bin_end": 0.18471080473561002,
            "bin_start": 0.0209778383629,
            "count": 2
           },
           {
            "bin_end": 0.34844377110832003,
            "bin_start": 0.18471080473561002,
            "count": 0
           },
           {
            "bin_end": 0.51217673748103,
            "bin_start": 0.34844377110832003,
            "count": 0
           },
           {
            "bin_end": 0.67590970385374,
            "bin_start": 0.51217673748103,
            "count": 0
           },
           {
            "bin_end": 0.8396426702264501,
            "bin_start": 0.67590970385374,
            "count": 0
           },
           {
            "bin_end": 1.00337563659916,
            "bin_start": 0.8396426702264501,
            "count": 1
           },
           {
            "bin_end": 1.16710860297187,
            "bin_start": 1.00337563659916,
            "count": 0
           },
           {
            "bin_end": 1.33084156934458,
            "bin_start": 1.16710860297187,
            "count": 0
           },
           {
            "bin_end": 1.4945745357172902,
            "bin_start": 1.33084156934458,
            "count": 1
           },
           {
            "bin_end": 1.65830750209,
            "bin_start": 1.4945745357172902,
            "count": 1
           }
          ],
          "max": "1.65830750209",
          "min": "0.0209778383629",
          "nan_count": 0,
          "unique_count": 5
         }
        },
        {
         "dtype": "float64",
         "name": "speed_mean",
         "stats": {
          "histogram": [
           {
            "bin_end": 1.6303283250975626,
            "bin_start": 0.1803785331903315,
            "count": 2
           },
           {
            "bin_end": 3.0802781170047937,
            "bin_start": 1.6303283250975626,
            "count": 0
           },
           {
            "bin_end": 4.530227908912024,
            "bin_start": 3.0802781170047937,
            "count": 0
           },
           {
            "bin_end": 5.980177700819255,
            "bin_start": 4.530227908912024,
            "count": 0
           },
           {
            "bin_end": 7.430127492726487,
            "bin_start": 5.980177700819255,
            "count": 0
           },
           {
            "bin_end": 8.880077284633717,
            "bin_start": 7.430127492726487,
            "count": 0
           },
           {
            "bin_end": 10.330027076540949,
            "bin_start": 8.880077284633717,
            "count": 0
           },
           {
            "bin_end": 11.77997686844818,
            "bin_start": 10.330027076540949,
            "count": 0
           },
           {
            "bin_end": 13.229926660355412,
            "bin_start": 11.77997686844818,
            "count": 0
           },
           {
            "bin_end": 14.679876452262643,
            "bin_start": 13.229926660355412,
            "count": 3
           }
          ],
          "max": "14.679876452262643",
          "min": "0.1803785331903315",
          "nan_count": 0,
          "unique_count": 2
         }
        },
        {
         "dtype": "float64",
         "name": "android_sensor_rotation_vector_mean",
         "stats": {
          "histogram": [
           {
            "bin_end": 0.14536994911599999,
            "bin_start": 0.050413140269,
            "count": 1
           },
           {
            "bin_end": 0.24032675796300002,
            "bin_start": 0.14536994911599999,
            "count": 0
           },
           {
            "bin_end": 0.33528356681000004,
            "bin_start": 0.24032675796300002,
            "count": 1
           },
           {
            "bin_end": 0.430240375657,
            "bin_start": 0.33528356681000004,
            "count": 0
           },
           {
            "bin_end": 0.525197184504,
            "bin_start": 0.430240375657,
            "count": 0
           },
           {
            "bin_end": 0.6201539933510001,
            "bin_start": 0.525197184504,
            "count": 1
           },
           {
            "bin_end": 0.715110802198,
            "bin_start": 0.6201539933510001,
            "count": 0
           },
           {
            "bin_end": 0.810067611045,
            "bin_start": 0.715110802198,
            "count": 0
           },
           {
            "bin_end": 0.905024419892,
            "bin_start": 0.810067611045,
            "count": 0
           },
           {
            "bin_end": 0.999981228739,
            "bin_start": 0.905024419892,
            "count": 2
           }
          ],
          "max": "0.999981228739",
          "min": "0.050413140269",
          "nan_count": 0,
          "unique_count": 5
         }
        },
        {
         "dtype": "float64",
         "name": "android_sensor_rotation_vector_max",
         "stats": {
          "histogram": [
           {
            "bin_end": 0.15071615882803,
            "bin_start": 0.0563513538347,
            "count": 1
           },
           {
            "bin_end": 0.24508096382136,
            "bin_start": 0.15071615882803,
            "count": 0
           },
           {
            "bin_end": 0.33944576881469,
            "bin_start": 0.24508096382136,
            "count": 0
           },
           {
            "bin_end": 0.43381057380802,
            "bin_start": 0.33944576881469,
            "count": 1
           },
           {
            "bin_end": 0.52817537880135,
            "bin_start": 0.43381057380802,
            "count": 0
           },
           {
            "bin_end": 0.62254018379468,
            "bin_start": 0.52817537880135,
            "count": 1
           },
           {
            "bin_end": 0.71690498878801,
            "bin_start": 0.62254018379468,
            "count": 0
           },
           {
            "bin_end": 0.81126979378134,
            "bin_start": 0.71690498878801,
            "count": 0
           },
           {
            "bin_end": 0.90563459877467,
            "bin_start": 0.81126979378134,
            "count": 0
           },
           {
            "bin_end": 0.999999403768,
            "bin_start": 0.90563459877467,
            "count": 2
           }
          ],
          "max": "0.999999403768",
          "min": "0.0563513538347",
          "nan_count": 0,
          "unique_count": 5
         }
        },
        {
         "dtype": "float64",
         "name": "android_sensor_accelerometer_min",
         "stats": {
          "histogram": [
           {
            "bin_end": 7.874188068491,
            "bin_start": 7.65967372861,
            "count": 2
           },
           {
            "bin_end": 8.088702408371999,
            "bin_start": 7.874188068491,
            "count": 0
           },
           {
            "bin_end": 8.303216748253,
            "bin_start": 8.088702408371999,
            "count": 0
           },
           {
            "bin_end": 8.517731088134,
            "bin_start": 8.303216748253,
            "count": 0
           },
           {
            "bin_end": 8.732245428015,
            "bin_start": 8.517731088134,
            "count": 0
           },
           {
            "bin_end": 8.946759767896,
            "bin_start": 8.732245428015,
            "count": 0
           },
           {
            "bin_end": 9.161274107777,
            "bin_start": 8.946759767896,
            "count": 1
           },
           {
            "bin_end": 9.375788447658,
            "bin_start": 9.161274107777,
            "count": 0
           },
           {
            "bin_end": 9.590302787539,
            "bin_start": 9.375788447658,
            "count": 0
           },
           {
            "bin_end": 9.80481712742,
            "bin_start": 9.590302787539,
            "count": 2
           }
          ],
          "max": "9.80481712742",
          "min": "7.65967372861",
          "nan_count": 0,
          "unique_count": 5
         }
        },
        {
         "dtype": "float64",
         "name": "android_sensor_magnetic_field_uncalibrated_min",
         "stats": {
          "histogram": [
           {
            "bin_end": 61.75932743579,
            "bin_start": 51.1997072531,
            "count": 2
           },
           {
            "bin_end": 72.31894761848,
            "bin_start": 61.75932743579,
            "count": 0
           },
           {
            "bin_end": 82.87856780117,
            "bin_start": 72.31894761848,
            "count": 1
           },
           {
            "bin_end": 93.43818798386,
            "bin_start": 82.87856780117,
            "count": 0
           },
           {
            "bin_end": 103.99780816655,
            "bin_start": 93.43818798386,
            "count": 1
           },
           {
            "bin_end": 114.55742834924001,
            "bin_start": 103.99780816655,
            "count": 0
           },
           {
            "bin_end": 125.11704853193001,
            "bin_start": 114.55742834924001,
            "count": 0
           },
           {
            "bin_end": 135.67666871462,
            "bin_start": 125.11704853193001,
            "count": 0
           },
           {
            "bin_end": 146.23628889731,
            "bin_start": 135.67666871462,
            "count": 0
           },
           {
            "bin_end": 156.79590908,
            "bin_start": 146.23628889731,
            "count": 1
           }
          ],
          "max": "156.79590908",
          "min": "51.1997072531",
          "nan_count": 0,
          "unique_count": 5
         }
        },
        {
         "dtype": "float64",
         "name": "sound_min",
         "stats": {
          "histogram": [
           {
            "bin_end": 87.70041262106,
            "bin_start": 87.4703770994,
            "count": 1
           },
           {
            "bin_end": 87.93044814272,
            "bin_start": 87.70041262106,
            "count": 0
           },
           {
            "bin_end": 88.16048366438,
            "bin_start": 87.93044814272,
            "count": 0
           },
           {
            "bin_end": 88.39051918604,
            "bin_start": 88.16048366438,
            "count": 0
           },
           {
            "bin_end": 88.6205547077,
            "bin_start": 88.39051918604,
            "count": 0
           },
           {
            "bin_end": 88.85059022936,
            "bin_start": 88.6205547077,
            "count": 0
           },
           {
            "bin_end": 89.08062575102,
            "bin_start": 88.85059022936,
            "count": 1
           },
           {
            "bin_end": 89.31066127268,
            "bin_start": 89.08062575102,
            "count": 0
           },
           {
            "bin_end": 89.54069679434,
            "bin_start": 89.31066127268,
            "count": 0
           },
           {
            "bin_end": 89.770732316,
            "bin_start": 89.54069679434,
            "count": 1
           }
          ],
          "max": "89.770732316",
          "min": "87.4703770994",
          "nan_count": 2,
          "unique_count": 3
         }
        },
        {
         "dtype": "object",
         "name": "target",
         "stats": {
          "categories": [
           {
            "count": 3,
            "name": "Car"
           },
           {
            "count": 2,
            "name": "Still"
           }
          ],
          "nan_count": 0,
          "unique_count": 2
         }
        },
        {
         "dtype": "float64",
         "name": "acc_gyro",
         "stats": {
          "histogram": [
           {
            "bin_end": 0.005978438169580529,
            "bin_start": 8.32207627870112e-05,
            "count": 2
           },
           {
            "bin_end": 0.011873655576374048,
            "bin_start": 0.005978438169580529,
            "count": 0
           },
           {
            "bin_end": 0.01776887298316757,
            "bin_start": 0.011873655576374048,
            "count": 0
           },
           {
            "bin_end": 0.023664090389961086,
            "bin_start": 0.01776887298316757,
            "count": 0
           },
           {
            "bin_end": 0.029559307796754603,
            "bin_start": 0.023664090389961086,
            "count": 0
           },
           {
            "bin_end": 0.03545452520354812,
            "bin_start": 0.029559307796754603,
            "count": 0
           },
           {
            "bin_end": 0.04134974261034164,
            "bin_start": 0.03545452520354812,
            "count": 2
           },
           {
            "bin_end": 0.04724496001713516,
            "bin_start": 0.04134974261034164,
            "count": 0
           },
           {
            "bin_end": 0.053140177423928674,
            "bin_start": 0.04724496001713516,
            "count": 0
           },
           {
            "bin_end": 0.0590353948307222,
            "bin_start": 0.053140177423928674,
            "count": 1
           }
          ],
          "max": "0.0590353948307222",
          "min": "8.32207627870112e-05",
          "nan_count": 0,
          "unique_count": 5
         }
        },
        {
         "dtype": "float64",
         "name": "Lin_speed",
         "stats": {
          "histogram": [
           {
            "bin_end": 2.4377804815962105,
            "bin_start": 0.0037839517134037,
            "count": 2
           },
           {
            "bin_end": 4.8717770114790175,
            "bin_start": 2.4377804815962105,
            "count": 0
           },
           {
            "bin_end": 7.305773541361825,
            "bin_start": 4.8717770114790175,
            "count": 0
           },
           {
            "bin_end": 9.739770071244632,
            "bin_start": 7.305773541361825,
            "count": 0
           },
           {
            "bin_end": 12.173766601127438,
            "bin_start": 9.739770071244632,
            "count": 0
           },
           {
            "bin_end": 14.607763131010246,
            "bin_start": 12.173766601127438,
            "count": 1
           },
           {
            "bin_end": 17.041759660893053,
            "bin_start": 14.607763131010246,
            "count": 0
           },
           {
            "bin_end": 19.47575619077586,
            "bin_start": 17.041759660893053,
            "count": 0
           },
           {
            "bin_end": 21.90975272065867,
            "bin_start": 19.47575619077586,
            "count": 1
           },
           {
            "bin_end": 24.343749250541475,
            "bin_start": 21.90975272065867,
            "count": 1
           }
          ],
          "max": "24.343749250541475",
          "min": "0.0037839517134037",
          "nan_count": 0,
          "unique_count": 5
         }
        },
        {
         "dtype": "int64",
         "name": "_deepnote_index_column"
        }
       ],
       "row_count": 5,
       "rows_bottom": null,
       "rows_top": [
        {
         "Lin_speed": 0.0037839517134037,
         "_deepnote_index_column": 0,
         "acc_gyro": 8.32207627870112e-05,
         "android_sensor_accelerometer_max": 9.84941095639,
         "android_sensor_accelerometer_min": 9.75889547269,
         "android_sensor_accelerometer_std": 0.0146255073331,
         "android_sensor_gyroscope_mean": 0.00165077522136,
         "android_sensor_gyroscope_std": 0.000736963641413,
         "android_sensor_gyroscope_uncalibrated_mean": 0.0162213599906,
         "android_sensor_linear_acceleration_mean": 0.0209778383629,
         "android_sensor_magnetic_field_uncalibrated_min": 51.1997072531,
         "android_sensor_rotation_vector_max": 0.0563513538347,
         "android_sensor_rotation_vector_mean": 0.050413140269,
         "id": 16170,
         "sound_min": "nan",
         "speed_mean": 0.1803785331903315,
         "target": "Still",
         "user": "Luca"
        },
        {
         "Lin_speed": 12.906843654228528,
         "_deepnote_index_column": 1,
         "acc_gyro": 0.0363250323693368,
         "android_sensor_accelerometer_max": 17.1466311902,
         "android_sensor_accelerometer_min": 7.70743742161,
         "android_sensor_accelerometer_std": 1.7759442967,
         "android_sensor_gyroscope_mean": 0.0363257142488,
         "android_sensor_gyroscope_std": 0.0202897002181,
         "android_sensor_gyroscope_uncalibrated_mean": 0.0390225389502,
         "android_sensor_linear_acceleration_mean": 0.879220182554,
         "android_sensor_magnetic_field_uncalibrated_min": 82.4098901832,
         "android_sensor_rotation_vector_max": 0.999999403768,
         "android_sensor_rotation_vector_mean": 0.999981228739,
         "id": 15871,
         "sound_min": "89.06514335",
         "speed_mean": 14.679876452262643,
         "target": "Car",
         "user": "Luca"
        },
        {
         "Lin_speed": 0.0061527534607904,
         "_deepnote_index_column": 2,
         "acc_gyro": 0.0009307116463443,
         "android_sensor_accelerometer_max": 9.84926211274,
         "android_sensor_accelerometer_min": 9.80481712742,
         "android_sensor_accelerometer_std": 0.0111991059917,
         "android_sensor_gyroscope_mean": 0.00152461653211,
         "android_sensor_gyroscope_std": 0.000712700740663,
         "android_sensor_gyroscope_uncalibrated_mean": 0.016301566129,
         "android_sensor_linear_acceleration_mean": 0.0341102311454,
         "android_sensor_magnetic_field_uncalibrated_min": 55.5018017726,
         "android_sensor_rotation_vector_max": 0.610456220789,
         "android_sensor_rotation_vector_mean": 0.610456220789,
         "id": 16811,
         "sound_min": "nan",
         "speed_mean": 0.1803785331903315,
         "target": "Still",
         "user": "Luca"
        },
        {
         "Lin_speed": 21.848949429203184,
         "_deepnote_index_column": 3,
         "acc_gyro": 0.0363715273010514,
         "android_sensor_accelerometer_max": 12.3042975935,
         "android_sensor_accelerometer_min": 7.65967372861,
         "android_sensor_accelerometer_std": 0.862553258429,
         "android_sensor_gyroscope_mean": 0.0364403150565,
         "android_sensor_gyroscope_std": 0.0105527726211,
         "android_sensor_gyroscope_uncalibrated_mean": 0.0507587448203,
         "android_sensor_linear_acceleration_mean": 1.48836057989,
         "android_sensor_magnetic_field_uncalibrated_min": 95.6643091367,
         "android_sensor_rotation_vector_max": 0.998112317214,
         "android_sensor_rotation_vector_mean": 0.998112317214,
         "id": 15831,
         "sound_min": "87.4703770994",
         "speed_mean": 14.679876452262643,
         "target": "Car",
         "user": "Luca"
        },
        {
         "Lin_speed": 24.343749250541475,
         "_deepnote_index_column": 4,
         "acc_gyro": 0.0590353948307222,
         "android_sensor_accelerometer_max": 10.8916451194,
         "android_sensor_accelerometer_min": 8.96562096134,
         "android_sensor_accelerometer_std": 0.504117059576,
         "android_sensor_gyroscope_mean": 0.183202097809,
         "android_sensor_gyroscope_std": 0.0988191384778,
         "android_sensor_gyroscope_uncalibrated_mean": 0.265652184888,
         "android_sensor_linear_acceleration_mean": 1.65830750209,
         "android_sensor_magnetic_field_uncalibrated_min": 156.79590908,
         "android_sensor_rotation_vector_max": 0.378193174062,
         "android_sensor_rotation_vector_mean": 0.322241915004,
         "id": 876,
         "sound_min": "89.770732316",
         "speed_mean": 14.679876452262643,
         "target": "Car",
         "user": "andrea"
        }
       ]
      },
      "text/html": [
       "<div>\n",
       "<style scoped>\n",
       "    .dataframe tbody tr th:only-of-type {\n",
       "        vertical-align: middle;\n",
       "    }\n",
       "\n",
       "    .dataframe tbody tr th {\n",
       "        vertical-align: top;\n",
       "    }\n",
       "\n",
       "    .dataframe thead th {\n",
       "        text-align: right;\n",
       "    }\n",
       "</style>\n",
       "<table border=\"1\" class=\"dataframe\">\n",
       "  <thead>\n",
       "    <tr style=\"text-align: right;\">\n",
       "      <th></th>\n",
       "      <th>id</th>\n",
       "      <th>user</th>\n",
       "      <th>android_sensor_gyroscope_mean</th>\n",
       "      <th>android_sensor_accelerometer_std</th>\n",
       "      <th>android_sensor_gyroscope_std</th>\n",
       "      <th>android_sensor_gyroscope_uncalibrated_mean</th>\n",
       "      <th>android_sensor_accelerometer_max</th>\n",
       "      <th>android_sensor_linear_acceleration_mean</th>\n",
       "      <th>speed_mean</th>\n",
       "      <th>android_sensor_rotation_vector_mean</th>\n",
       "      <th>android_sensor_rotation_vector_max</th>\n",
       "      <th>android_sensor_accelerometer_min</th>\n",
       "      <th>android_sensor_magnetic_field_uncalibrated_min</th>\n",
       "      <th>sound_min</th>\n",
       "      <th>target</th>\n",
       "      <th>acc_gyro</th>\n",
       "      <th>Lin_speed</th>\n",
       "    </tr>\n",
       "  </thead>\n",
       "  <tbody>\n",
       "    <tr>\n",
       "      <th>0</th>\n",
       "      <td>16170</td>\n",
       "      <td>Luca</td>\n",
       "      <td>0.001651</td>\n",
       "      <td>0.014626</td>\n",
       "      <td>0.000737</td>\n",
       "      <td>0.016221</td>\n",
       "      <td>9.849411</td>\n",
       "      <td>0.020978</td>\n",
       "      <td>0.180379</td>\n",
       "      <td>0.050413</td>\n",
       "      <td>0.056351</td>\n",
       "      <td>9.758895</td>\n",
       "      <td>51.199707</td>\n",
       "      <td>NaN</td>\n",
       "      <td>Still</td>\n",
       "      <td>0.000083</td>\n",
       "      <td>0.003784</td>\n",
       "    </tr>\n",
       "    <tr>\n",
       "      <th>1</th>\n",
       "      <td>15871</td>\n",
       "      <td>Luca</td>\n",
       "      <td>0.036326</td>\n",
       "      <td>1.775944</td>\n",
       "      <td>0.020290</td>\n",
       "      <td>0.039023</td>\n",
       "      <td>17.146631</td>\n",
       "      <td>0.879220</td>\n",
       "      <td>14.679876</td>\n",
       "      <td>0.999981</td>\n",
       "      <td>0.999999</td>\n",
       "      <td>7.707437</td>\n",
       "      <td>82.409890</td>\n",
       "      <td>89.065143</td>\n",
       "      <td>Car</td>\n",
       "      <td>0.036325</td>\n",
       "      <td>12.906844</td>\n",
       "    </tr>\n",
       "    <tr>\n",
       "      <th>2</th>\n",
       "      <td>16811</td>\n",
       "      <td>Luca</td>\n",
       "      <td>0.001525</td>\n",
       "      <td>0.011199</td>\n",
       "      <td>0.000713</td>\n",
       "      <td>0.016302</td>\n",
       "      <td>9.849262</td>\n",
       "      <td>0.034110</td>\n",
       "      <td>0.180379</td>\n",
       "      <td>0.610456</td>\n",
       "      <td>0.610456</td>\n",
       "      <td>9.804817</td>\n",
       "      <td>55.501802</td>\n",
       "      <td>NaN</td>\n",
       "      <td>Still</td>\n",
       "      <td>0.000931</td>\n",
       "      <td>0.006153</td>\n",
       "    </tr>\n",
       "    <tr>\n",
       "      <th>3</th>\n",
       "      <td>15831</td>\n",
       "      <td>Luca</td>\n",
       "      <td>0.036440</td>\n",
       "      <td>0.862553</td>\n",
       "      <td>0.010553</td>\n",
       "      <td>0.050759</td>\n",
       "      <td>12.304298</td>\n",
       "      <td>1.488361</td>\n",
       "      <td>14.679876</td>\n",
       "      <td>0.998112</td>\n",
       "      <td>0.998112</td>\n",
       "      <td>7.659674</td>\n",
       "      <td>95.664309</td>\n",
       "      <td>87.470377</td>\n",
       "      <td>Car</td>\n",
       "      <td>0.036372</td>\n",
       "      <td>21.848949</td>\n",
       "    </tr>\n",
       "    <tr>\n",
       "      <th>4</th>\n",
       "      <td>876</td>\n",
       "      <td>andrea</td>\n",
       "      <td>0.183202</td>\n",
       "      <td>0.504117</td>\n",
       "      <td>0.098819</td>\n",
       "      <td>0.265652</td>\n",
       "      <td>10.891645</td>\n",
       "      <td>1.658308</td>\n",
       "      <td>14.679876</td>\n",
       "      <td>0.322242</td>\n",
       "      <td>0.378193</td>\n",
       "      <td>8.965621</td>\n",
       "      <td>156.795909</td>\n",
       "      <td>89.770732</td>\n",
       "      <td>Car</td>\n",
       "      <td>0.059035</td>\n",
       "      <td>24.343749</td>\n",
       "    </tr>\n",
       "  </tbody>\n",
       "</table>\n",
       "</div>"
      ],
      "text/plain": [
       "      id    user  android_sensor_gyroscope_mean  \\\n",
       "0  16170    Luca                       0.001651   \n",
       "1  15871    Luca                       0.036326   \n",
       "2  16811    Luca                       0.001525   \n",
       "3  15831    Luca                       0.036440   \n",
       "4    876  andrea                       0.183202   \n",
       "\n",
       "   android_sensor_accelerometer_std  android_sensor_gyroscope_std  \\\n",
       "0                          0.014626                      0.000737   \n",
       "1                          1.775944                      0.020290   \n",
       "2                          0.011199                      0.000713   \n",
       "3                          0.862553                      0.010553   \n",
       "4                          0.504117                      0.098819   \n",
       "\n",
       "   android_sensor_gyroscope_uncalibrated_mean  \\\n",
       "0                                    0.016221   \n",
       "1                                    0.039023   \n",
       "2                                    0.016302   \n",
       "3                                    0.050759   \n",
       "4                                    0.265652   \n",
       "\n",
       "   android_sensor_accelerometer_max  android_sensor_linear_acceleration_mean  \\\n",
       "0                          9.849411                                 0.020978   \n",
       "1                         17.146631                                 0.879220   \n",
       "2                          9.849262                                 0.034110   \n",
       "3                         12.304298                                 1.488361   \n",
       "4                         10.891645                                 1.658308   \n",
       "\n",
       "   speed_mean  android_sensor_rotation_vector_mean  \\\n",
       "0    0.180379                             0.050413   \n",
       "1   14.679876                             0.999981   \n",
       "2    0.180379                             0.610456   \n",
       "3   14.679876                             0.998112   \n",
       "4   14.679876                             0.322242   \n",
       "\n",
       "   android_sensor_rotation_vector_max  android_sensor_accelerometer_min  \\\n",
       "0                            0.056351                          9.758895   \n",
       "1                            0.999999                          7.707437   \n",
       "2                            0.610456                          9.804817   \n",
       "3                            0.998112                          7.659674   \n",
       "4                            0.378193                          8.965621   \n",
       "\n",
       "   android_sensor_magnetic_field_uncalibrated_min  sound_min target  acc_gyro  \\\n",
       "0                                       51.199707        NaN  Still  0.000083   \n",
       "1                                       82.409890  89.065143    Car  0.036325   \n",
       "2                                       55.501802        NaN  Still  0.000931   \n",
       "3                                       95.664309  87.470377    Car  0.036372   \n",
       "4                                      156.795909  89.770732    Car  0.059035   \n",
       "\n",
       "   Lin_speed  \n",
       "0   0.003784  \n",
       "1  12.906844  \n",
       "2   0.006153  \n",
       "3  21.848949  \n",
       "4  24.343749  "
      ]
     },
     "execution_count": 4,
     "metadata": {},
     "output_type": "execute_result"
    }
   ],
   "source": [
    "data = pd.read_csv('feature_eng.csv')\n",
    "data.head(5)"
   ]
  },
  {
   "cell_type": "markdown",
   "id": "be77317a",
   "metadata": {
    "cell_id": "00003-e5ab99da-fe36-44fe-9a13-cc69469addea",
    "deepnote_cell_type": "markdown"
   },
   "source": [
    "# Create test data "
   ]
  },
  {
   "cell_type": "code",
   "execution_count": 5,
   "id": "6807fe9b",
   "metadata": {
    "ExecuteTime": {
     "end_time": "2021-05-19T01:07:25.163446Z",
     "start_time": "2021-05-19T01:07:25.118382Z"
    },
    "cell_id": "00004-673f68c6-55b2-41ac-90a1-90f8c4713ada",
    "deepnote_cell_type": "code",
    "deepnote_to_be_reexecuted": false,
    "execution_millis": 116,
    "execution_start": 1621413569436,
    "source_hash": "d1d762a3"
   },
   "outputs": [
    {
     "data": {
      "application/vnd.deepnote.dataframe.v2+json": {
       "column_count": 17,
       "columns": [
        {
         "dtype": "int64",
         "name": "id",
         "stats": {
          "histogram": [
           {
            "bin_end": 19516.9,
            "bin_start": 19436,
            "count": 2
           },
           {
            "bin_end": 19597.8,
            "bin_start": 19516.9,
            "count": 0
           },
           {
            "bin_end": 19678.7,
            "bin_start": 19597.8,
            "count": 0
           },
           {
            "bin_end": 19759.6,
            "bin_start": 19678.7,
            "count": 0
           },
           {
            "bin_end": 19840.5,
            "bin_start": 19759.6,
            "count": 0
           },
           {
            "bin_end": 19921.4,
            "bin_start": 19840.5,
            "count": 1
           },
           {
            "bin_end": 20002.3,
            "bin_start": 19921.4,
            "count": 0
           },
           {
            "bin_end": 20083.2,
            "bin_start": 20002.3,
            "count": 0
           },
           {
            "bin_end": 20164.1,
            "bin_start": 20083.2,
            "count": 1
           },
           {
            "bin_end": 20245,
            "bin_start": 20164.1,
            "count": 1
           }
          ],
          "max": "20245",
          "min": "19436",
          "nan_count": 0,
          "unique_count": 5
         }
        },
        {
         "dtype": "object",
         "name": "user",
         "stats": {
          "categories": [
           {
            "count": 5,
            "name": "Pierpaolo"
           }
          ],
          "nan_count": 0,
          "unique_count": 1
         }
        },
        {
         "dtype": "float64",
         "name": "android_sensor_gyroscope_mean",
         "stats": {
          "histogram": [
           {
            "bin_end": 0.21396652291713997,
            "bin_start": 0.0450412859846,
            "count": 2
           },
           {
            "bin_end": 0.38289175984967994,
            "bin_start": 0.21396652291713997,
            "count": 0
           },
           {
            "bin_end": 0.5518169967822198,
            "bin_start": 0.38289175984967994,
            "count": 1
           },
           {
            "bin_end": 0.7207422337147599,
            "bin_start": 0.5518169967822198,
            "count": 1
           },
           {
            "bin_end": 0.8896674706472999,
            "bin_start": 0.7207422337147599,
            "count": 0
           },
           {
            "bin_end": 1.0585927075798396,
            "bin_start": 0.8896674706472999,
            "count": 0
           },
           {
            "bin_end": 1.2275179445123796,
            "bin_start": 1.0585927075798396,
            "count": 0
           },
           {
            "bin_end": 1.3964431814449196,
            "bin_start": 1.2275179445123796,
            "count": 0
           },
           {
            "bin_end": 1.5653684183774597,
            "bin_start": 1.3964431814449196,
            "count": 0
           },
           {
            "bin_end": 1.73429365531,
            "bin_start": 1.5653684183774597,
            "count": 1
           }
          ],
          "max": "1.73429365531",
          "min": "0.0450412859846",
          "nan_count": 0,
          "unique_count": 5
         }
        },
        {
         "dtype": "float64",
         "name": "android_sensor_accelerometer_std",
         "stats": {
          "histogram": [
           {
            "bin_end": 0.49074646275358,
            "bin_start": 0.0706047627162,
            "count": 3
           },
           {
            "bin_end": 0.91088816279096,
            "bin_start": 0.49074646275358,
            "count": 0
           },
           {
            "bin_end": 1.3310298628283401,
            "bin_start": 0.91088816279096,
            "count": 1
           },
           {
            "bin_end": 1.75117156286572,
            "bin_start": 1.3310298628283401,
            "count": 0
           },
           {
            "bin_end": 2.1713132629031,
            "bin_start": 1.75117156286572,
            "count": 0
           },
           {
            "bin_end": 2.59145496294048,
            "bin_start": 2.1713132629031,
            "count": 0
           },
           {
            "bin_end": 3.0115966629778597,
            "bin_start": 2.59145496294048,
            "count": 0
           },
           {
            "bin_end": 3.43173836301524,
            "bin_start": 3.0115966629778597,
            "count": 0
           },
           {
            "bin_end": 3.85188006305262,
            "bin_start": 3.43173836301524,
            "count": 0
           },
           {
            "bin_end": 4.27202176309,
            "bin_start": 3.85188006305262,
            "count": 1
           }
          ],
          "max": "4.27202176309",
          "min": "0.0706047627162",
          "nan_count": 0,
          "unique_count": 5
         }
        },
        {
         "dtype": "float64",
         "name": "android_sensor_gyroscope_std",
         "stats": {
          "histogram": [
           {
            "bin_end": 0.16465542229847,
            "bin_start": 0.0273672639483,
            "count": 3
           },
           {
            "bin_end": 0.30194358064864,
            "bin_start": 0.16465542229847,
            "count": 0
           },
           {
            "bin_end": 0.43923173899881,
            "bin_start": 0.30194358064864,
            "count": 0
           },
           {
            "bin_end": 0.57651989734898,
            "bin_start": 0.43923173899881,
            "count": 0
           },
           {
            "bin_end": 0.71380805569915,
            "bin_start": 0.57651989734898,
            "count": 1
           },
           {
            "bin_end": 0.85109621404932,
            "bin_start": 0.71380805569915,
            "count": 0
           },
           {
            "bin_end": 0.9883843723994901,
            "bin_start": 0.85109621404932,
            "count": 0
           },
           {
            "bin_end": 1.12567253074966,
            "bin_start": 0.9883843723994901,
            "count": 0
           },
           {
            "bin_end": 1.26296068909983,
            "bin_start": 1.12567253074966,
            "count": 0
           },
           {
            "bin_end": 1.40024884745,
            "bin_start": 1.26296068909983,
            "count": 1
           }
          ],
          "max": "1.40024884745",
          "min": "0.0273672639483",
          "nan_count": 0,
          "unique_count": 5
         }
        },
        {
         "dtype": "float64",
         "name": "android_sensor_gyroscope_uncalibrated_mean",
         "stats": {
          "histogram": [
           {
            "bin_end": 0.16793612700913,
            "bin_start": 0.0386439364457,
            "count": 2
           },
           {
            "bin_end": 0.29722831757256,
            "bin_start": 0.16793612700913,
            "count": 0
           },
           {
            "bin_end": 0.42652050813599,
            "bin_start": 0.29722831757256,
            "count": 1
           },
           {
            "bin_end": 0.55581269869942,
            "bin_start": 0.42652050813599,
            "count": 0
           },
           {
            "bin_end": 0.68510488926285,
            "bin_start": 0.55581269869942,
            "count": 0
           },
           {
            "bin_end": 0.81439707982628,
            "bin_start": 0.68510488926285,
            "count": 1
           },
           {
            "bin_end": 0.94368927038971,
            "bin_start": 0.81439707982628,
            "count": 0
           },
           {
            "bin_end": 1.07298146095314,
            "bin_start": 0.94368927038971,
            "count": 0
           },
           {
            "bin_end": 1.20227365151657,
            "bin_start": 1.07298146095314,
            "count": 0
           },
           {
            "bin_end": 1.33156584208,
            "bin_start": 1.20227365151657,
            "count": 1
           }
          ],
          "max": "1.33156584208",
          "min": "0.0386439364457",
          "nan_count": 0,
          "unique_count": 5
         }
        },
        {
         "dtype": "float64",
         "name": "android_sensor_accelerometer_max",
         "stats": {
          "histogram": [
           {
            "bin_end": 10.042972443705999,
            "bin_start": 9.18734022134,
            "count": 3
           },
           {
            "bin_end": 10.898604666072,
            "bin_start": 10.042972443705999,
            "count": 0
           },
           {
            "bin_end": 11.754236888438,
            "bin_start": 10.898604666072,
            "count": 0
           },
           {
            "bin_end": 12.609869110803999,
            "bin_start": 11.754236888438,
            "count": 0
           },
           {
            "bin_end": 13.46550133317,
            "bin_start": 12.609869110803999,
            "count": 0
           },
           {
            "bin_end": 14.321133555535999,
            "bin_start": 13.46550133317,
            "count": 1
           },
           {
            "bin_end": 15.176765777901998,
            "bin_start": 14.321133555535999,
            "count": 0
           },
           {
            "bin_end": 16.032398000268,
            "bin_start": 15.176765777901998,
            "count": 0
           },
           {
            "bin_end": 16.888030222634,
            "bin_start": 16.032398000268,
            "count": 0
           },
           {
            "bin_end": 17.743662445,
            "bin_start": 16.888030222634,
            "count": 1
           }
          ],
          "max": "17.743662445",
          "min": "9.18734022134",
          "nan_count": 0,
          "unique_count": 5
         }
        },
        {
         "dtype": "float64",
         "name": "android_sensor_linear_acceleration_mean",
         "stats": {
          "histogram": [
           {
            "bin_end": 1.6642388104761001,
            "bin_start": 0.868718940229,
            "count": 3
           },
           {
            "bin_end": 2.4597586807232,
            "bin_start": 1.6642388104761001,
            "count": 1
           },
           {
            "bin_end": 3.2552785509703,
            "bin_start": 2.4597586807232,
            "count": 0
           },
           {
            "bin_end": 4.0507984212174,
            "bin_start": 3.2552785509703,
            "count": 0
           },
           {
            "bin_end": 4.8463182914645,
            "bin_start": 4.0507984212174,
            "count": 0
           },
           {
            "bin_end": 5.6418381617116005,
            "bin_start": 4.8463182914645,
            "count": 0
           },
           {
            "bin_end": 6.4373580319587,
            "bin_start": 5.6418381617116005,
            "count": 0
           },
           {
            "bin_end": 7.2328779022058,
            "bin_start": 6.4373580319587,
            "count": 0
           },
           {
            "bin_end": 8.0283977724529,
            "bin_start": 7.2328779022058,
            "count": 0
           },
           {
            "bin_end": 8.8239176427,
            "bin_start": 8.0283977724529,
            "count": 1
           }
          ],
          "max": "8.8239176427",
          "min": "0.868718940229",
          "nan_count": 0,
          "unique_count": 5
         }
        },
        {
         "dtype": "float64",
         "name": "speed_mean",
         "stats": {
          "histogram": [
           {
            "bin_end": 1.5450404458768685,
            "bin_start": 1.1202056532480036,
            "count": 3
           },
           {
            "bin_end": 1.9698752385057334,
            "bin_start": 1.5450404458768685,
            "count": 0
           },
           {
            "bin_end": 2.3947100311345983,
            "bin_start": 1.9698752385057334,
            "count": 0
           },
           {
            "bin_end": 2.8195448237634633,
            "bin_start": 2.3947100311345983,
            "count": 0
           },
           {
            "bin_end": 3.244379616392328,
            "bin_start": 2.8195448237634633,
            "count": 0
           },
           {
            "bin_end": 3.669214409021193,
            "bin_start": 3.244379616392328,
            "count": 0
           },
           {
            "bin_end": 4.0940492016500585,
            "bin_start": 3.669214409021193,
            "count": 0
           },
           {
            "bin_end": 4.518883994278923,
            "bin_start": 4.0940492016500585,
            "count": 0
           },
           {
            "bin_end": 4.943718786907787,
            "bin_start": 4.518883994278923,
            "count": 0
           },
           {
            "bin_end": 5.368553579536653,
            "bin_start": 4.943718786907787,
            "count": 2
           }
          ],
          "max": "5.368553579536653",
          "min": "1.1202056532480036",
          "nan_count": 0,
          "unique_count": 2
         }
        },
        {
         "dtype": "float64",
         "name": "android_sensor_rotation_vector_mean",
         "stats": {
          "histogram": [
           {
            "bin_end": 0.8082004371482999,
            "bin_start": 0.787569832783,
            "count": 1
           },
           {
            "bin_end": 0.8288310415136,
            "bin_start": 0.8082004371482999,
            "count": 0
           },
           {
            "bin_end": 0.8494616458788999,
            "bin_start": 0.8288310415136,
            "count": 0
           },
           {
            "bin_end": 0.8700922502442,
            "bin_start": 0.8494616458788999,
            "count": 0
           },
           {
            "bin_end": 0.8907228546095,
            "bin_start": 0.8700922502442,
            "count": 0
           },
           {
            "bin_end": 0.9113534589748,
            "bin_start": 0.8907228546095,
            "count": 0
           },
           {
            "bin_end": 0.9319840633401,
            "bin_start": 0.9113534589748,
            "count": 0
           },
           {
            "bin_end": 0.9526146677053999,
            "bin_start": 0.9319840633401,
            "count": 0
           },
           {
            "bin_end": 0.9732452720707,
            "bin_start": 0.9526146677053999,
            "count": 1
           },
           {
            "bin_end": 0.993875876436,
            "bin_start": 0.9732452720707,
            "count": 3
           }
          ],
          "max": "0.993875876436",
          "min": "0.787569832783",
          "nan_count": 0,
          "unique_count": 5
         }
        },
        {
         "dtype": "float64",
         "name": "android_sensor_rotation_vector_max",
         "stats": {
          "histogram": [
           {
            "bin_end": 0.8221413739989,
            "bin_start": 0.80281077253,
            "count": 1
           },
           {
            "bin_end": 0.8414719754678,
            "bin_start": 0.8221413739989,
            "count": 0
           },
           {
            "bin_end": 0.8608025769367,
            "bin_start": 0.8414719754678,
            "count": 0
           },
           {
            "bin_end": 0.8801331784056,
            "bin_start": 0.8608025769367,
            "count": 0
           },
           {
            "bin_end": 0.8994637798745,
            "bin_start": 0.8801331784056,
            "count": 0
           },
           {
            "bin_end": 0.9187943813434,
            "bin_start": 0.8994637798745,
            "count": 0
           },
           {
            "bin_end": 0.9381249828123,
            "bin_start": 0.9187943813434,
            "count": 0
           },
           {
            "bin_end": 0.9574555842812,
            "bin_start": 0.9381249828123,
            "count": 1
           },
           {
            "bin_end": 0.9767861857501,
            "bin_start": 0.9574555842812,
            "count": 0
           },
           {
            "bin_end": 0.996116787219,
            "bin_start": 0.9767861857501,
            "count": 3
           }
          ],
          "max": "0.996116787219",
          "min": "0.80281077253",
          "nan_count": 0,
          "unique_count": 5
         }
        },
        {
         "dtype": "float64",
         "name": "android_sensor_accelerometer_min",
         "stats": {
          "histogram": [
           {
            "bin_end": 3.97539764824,
            "bin_start": 3.33216261865,
            "count": 1
           },
           {
            "bin_end": 4.61863267783,
            "bin_start": 3.97539764824,
            "count": 0
           },
           {
            "bin_end": 5.26186770742,
            "bin_start": 4.61863267783,
            "count": 0
           },
           {
            "bin_end": 5.90510273701,
            "bin_start": 5.26186770742,
            "count": 0
           },
           {
            "bin_end": 6.5483377665999996,
            "bin_start": 5.90510273701,
            "count": 0
           },
           {
            "bin_end": 7.19157279619,
            "bin_start": 6.5483377665999996,
            "count": 0
           },
           {
            "bin_end": 7.83480782578,
            "bin_start": 7.19157279619,
            "count": 0
           },
           {
            "bin_end": 8.47804285537,
            "bin_start": 7.83480782578,
            "count": 1
           },
           {
            "bin_end": 9.121277884960001,
            "bin_start": 8.47804285537,
            "count": 2
           },
           {
            "bin_end": 9.76451291455,
            "bin_start": 9.121277884960001,
            "count": 1
           }
          ],
          "max": "9.76451291455",
          "min": "3.33216261865",
          "nan_count": 0,
          "unique_count": 5
         }
        },
        {
         "dtype": "float64",
         "name": "android_sensor_magnetic_field_uncalibrated_min",
         "stats": {
          "histogram": [
           {
            "bin_end": 41.93612694895,
            "bin_start": 36.378865774,
            "count": 1
           },
           {
            "bin_end": 47.4933881239,
            "bin_start": 41.93612694895,
            "count": 0
           },
           {
            "bin_end": 53.050649298850004,
            "bin_start": 47.4933881239,
            "count": 0
           },
           {
            "bin_end": 58.607910473800004,
            "bin_start": 53.050649298850004,
            "count": 0
           },
           {
            "bin_end": 64.16517164875,
            "bin_start": 58.607910473800004,
            "count": 0
           },
           {
            "bin_end": 69.7224328237,
            "bin_start": 64.16517164875,
            "count": 0
           },
           {
            "bin_end": 75.27969399865,
            "bin_start": 69.7224328237,
            "count": 1
           },
           {
            "bin_end": 80.8369551736,
            "bin_start": 75.27969399865,
            "count": 1
           },
           {
            "bin_end": 86.39421634855,
            "bin_start": 80.8369551736,
            "count": 0
           },
           {
            "bin_end": 91.9514775235,
            "bin_start": 86.39421634855,
            "count": 2
           }
          ],
          "max": "91.9514775235",
          "min": "36.378865774",
          "nan_count": 0,
          "unique_count": 5
         }
        },
        {
         "dtype": "float64",
         "name": "sound_min",
         "stats": {
          "histogram": [
           {
            "bin_end": 13.124962590962,
            "bin_start": 6.02059991328,
            "count": 1
           },
           {
            "bin_end": 20.229325268644,
            "bin_start": 13.124962590962,
            "count": 0
           },
           {
            "bin_end": 27.333687946326002,
            "bin_start": 20.229325268644,
            "count": 0
           },
           {
            "bin_end": 34.438050624008,
            "bin_start": 27.333687946326002,
            "count": 0
           },
           {
            "bin_end": 41.542413301690004,
            "bin_start": 34.438050624008,
            "count": 0
           },
           {
            "bin_end": 48.646775979372,
            "bin_start": 41.542413301690004,
            "count": 0
           },
           {
            "bin_end": 55.75113865705401,
            "bin_start": 48.646775979372,
            "count": 0
           },
           {
            "bin_end": 62.855501334736005,
            "bin_start": 55.75113865705401,
            "count": 0
           },
           {
            "bin_end": 69.959864012418,
            "bin_start": 62.855501334736005,
            "count": 0
           },
           {
            "bin_end": 77.0642266901,
            "bin_start": 69.959864012418,
            "count": 4
           }
          ],
          "max": "77.0642266901",
          "min": "6.02059991328",
          "nan_count": 0,
          "unique_count": 5
         }
        },
        {
         "dtype": "object",
         "name": "target",
         "stats": {
          "categories": [
           {
            "count": 3,
            "name": "Walking"
           },
           {
            "count": 2,
            "name": "Bus"
           }
          ],
          "nan_count": 0,
          "unique_count": 2
         }
        },
        {
         "dtype": "float64",
         "name": "acc_gyro",
         "stats": {
          "histogram": [
           {
            "bin_end": 0.21123099098599302,
            "bin_start": 0.0447654475837488,
            "count": 2
           },
           {
            "bin_end": 0.37769653438823725,
            "bin_start": 0.21123099098599302,
            "count": 0
           },
           {
            "bin_end": 0.5441620777904815,
            "bin_start": 0.37769653438823725,
            "count": 1
           },
           {
            "bin_end": 0.7106276211927257,
            "bin_start": 0.5441620777904815,
            "count": 1
           },
           {
            "bin_end": 0.8770931645949699,
            "bin_start": 0.7106276211927257,
            "count": 0
           },
           {
            "bin_end": 1.0435587079972142,
            "bin_start": 0.8770931645949699,
            "count": 0
           },
           {
            "bin_end": 1.2100242513994586,
            "bin_start": 1.0435587079972142,
            "count": 0
           },
           {
            "bin_end": 1.3764897948017027,
            "bin_start": 1.2100242513994586,
            "count": 0
           },
           {
            "bin_end": 1.542955338203947,
            "bin_start": 1.3764897948017027,
            "count": 0
           },
           {
            "bin_end": 1.709420881606191,
            "bin_start": 1.542955338203947,
            "count": 1
           }
          ],
          "max": "1.709420881606191",
          "min": "0.0447654475837488",
          "nan_count": 0,
          "unique_count": 5
         }
        },
        {
         "dtype": "float64",
         "name": "Lin_speed",
         "stats": {
          "histogram": [
           {
            "bin_end": 1.86428972385006,
            "bin_start": 0.9731438679281404,
            "count": 1
           },
           {
            "bin_end": 2.7554355797719796,
            "bin_start": 1.86428972385006,
            "count": 1
           },
           {
            "bin_end": 3.646581435693899,
            "bin_start": 2.7554355797719796,
            "count": 0
           },
           {
            "bin_end": 4.537727291615819,
            "bin_start": 3.646581435693899,
            "count": 0
           },
           {
            "bin_end": 5.428873147537738,
            "bin_start": 4.537727291615819,
            "count": 2
           },
           {
            "bin_end": 6.320019003459658,
            "bin_start": 5.428873147537738,
            "count": 0
           },
           {
            "bin_end": 7.211164859381577,
            "bin_start": 6.320019003459658,
            "count": 0
           },
           {
            "bin_end": 8.102310715303497,
            "bin_start": 7.211164859381577,
            "count": 0
           },
           {
            "bin_end": 8.993456571225416,
            "bin_start": 8.102310715303497,
            "count": 0
           },
           {
            "bin_end": 9.884602427147335,
            "bin_start": 8.993456571225416,
            "count": 1
           }
          ],
          "max": "9.884602427147335",
          "min": "0.9731438679281404",
          "nan_count": 0,
          "unique_count": 5
         }
        },
        {
         "dtype": "int64",
         "name": "_deepnote_index_column"
        }
       ],
       "row_count": 5,
       "rows_bottom": null,
       "rows_top": [
        {
         "Lin_speed": 1.928226135888564,
         "_deepnote_index_column": 33,
         "acc_gyro": 0.5878300166120143,
         "android_sensor_accelerometer_max": 14.0281256028,
         "android_sensor_accelerometer_min": 9.76451291455,
         "android_sensor_accelerometer_std": 1.2832040781,
         "android_sensor_gyroscope_mean": 0.615398648401,
         "android_sensor_gyroscope_std": 0.655962204127,
         "android_sensor_gyroscope_uncalibrated_mean": 0.77845825456,
         "android_sensor_linear_acceleration_mean": 1.72131441249,
         "android_sensor_magnetic_field_uncalibrated_min": 36.378865774,
         "android_sensor_rotation_vector_max": 0.955201994901,
         "android_sensor_rotation_vector_mean": 0.955201994901,
         "id": 19919,
         "sound_min": 77.0642266901,
         "speed_mean": 1.1202056532480036,
         "target": "Walking",
         "user": "Pierpaolo"
        },
        {
         "Lin_speed": 5.144148600002478,
         "_deepnote_index_column": 54,
         "acc_gyro": 0.4404400615944729,
         "android_sensor_accelerometer_max": 9.96326427091,
         "android_sensor_accelerometer_min": 8.71217695924,
         "android_sensor_accelerometer_std": 0.361960582421,
         "android_sensor_gyroscope_mean": 0.447801623284,
         "android_sensor_gyroscope_std": 0.116563738283,
         "android_sensor_gyroscope_uncalibrated_mean": 0.334574278861,
         "android_sensor_linear_acceleration_mean": 0.958200104328,
         "android_sensor_magnetic_field_uncalibrated_min": 77.4960432458,
         "android_sensor_rotation_vector_max": 0.989575800266,
         "android_sensor_rotation_vector_mean": 0.983560663234,
         "id": 19494,
         "sound_min": 74.1786107161,
         "speed_mean": 5.368553579536653,
         "target": "Bus",
         "user": "Pierpaolo"
        },
        {
         "Lin_speed": 0.9731438679281404,
         "_deepnote_index_column": 102,
         "acc_gyro": 0.0547381105974022,
         "android_sensor_accelerometer_max": 9.18734022134,
         "android_sensor_accelerometer_min": 9.01224277385,
         "android_sensor_accelerometer_std": 0.0706047627162,
         "android_sensor_gyroscope_mean": 0.0695025486235,
         "android_sensor_gyroscope_std": 0.0481404948783,
         "android_sensor_gyroscope_uncalibrated_mean": 0.0786263322772,
         "android_sensor_linear_acceleration_mean": 0.868718940229,
         "android_sensor_magnetic_field_uncalibrated_min": 91.9514775235,
         "android_sensor_rotation_vector_max": 0.80281077253,
         "android_sensor_rotation_vector_mean": 0.787569832783,
         "id": 20104,
         "sound_min": 6.02059991328,
         "speed_mean": 1.1202056532480036,
         "target": "Walking",
         "user": "Pierpaolo"
        },
        {
         "Lin_speed": 5.143498661576877,
         "_deepnote_index_column": 121,
         "acc_gyro": 0.0447654475837488,
         "android_sensor_accelerometer_max": 9.56396733902,
         "android_sensor_accelerometer_min": 8.24622015153,
         "android_sensor_accelerometer_std": 0.451772842813,
         "android_sensor_gyroscope_mean": 0.0450412859846,
         "android_sensor_gyroscope_std": 0.0273672639483,
         "android_sensor_gyroscope_uncalibrated_mean": 0.0386439364457,
         "android_sensor_linear_acceleration_mean": 0.958079040355,
         "android_sensor_magnetic_field_uncalibrated_min": 70.4364463098,
         "android_sensor_rotation_vector_max": 0.996116787219,
         "android_sensor_rotation_vector_mean": 0.993875876436,
         "id": 19436,
         "sound_min": 72.5595997966,
         "speed_mean": 5.368553579536653,
         "target": "Bus",
         "user": "Pierpaolo"
        },
        {
         "Lin_speed": 9.884602427147335,
         "_deepnote_index_column": 172,
         "acc_gyro": 1.709420881606191,
         "android_sensor_accelerometer_max": 17.743662445,
         "android_sensor_accelerometer_min": 3.33216261865,
         "android_sensor_accelerometer_std": 4.27202176309,
         "android_sensor_gyroscope_mean": 1.73429365531,
         "android_sensor_gyroscope_std": 1.40024884745,
         "android_sensor_gyroscope_uncalibrated_mean": 1.33156584208,
         "android_sensor_linear_acceleration_mean": 8.8239176427,
         "android_sensor_magnetic_field_uncalibrated_min": 90.1187367796,
         "android_sensor_rotation_vector_max": 0.993053389134,
         "android_sensor_rotation_vector_mean": 0.98565826864,
         "id": 20245,
         "sound_min": 73.7022893809,
         "speed_mean": 1.1202056532480036,
         "target": "Walking",
         "user": "Pierpaolo"
        }
       ]
      },
      "text/html": [
       "<div>\n",
       "<style scoped>\n",
       "    .dataframe tbody tr th:only-of-type {\n",
       "        vertical-align: middle;\n",
       "    }\n",
       "\n",
       "    .dataframe tbody tr th {\n",
       "        vertical-align: top;\n",
       "    }\n",
       "\n",
       "    .dataframe thead th {\n",
       "        text-align: right;\n",
       "    }\n",
       "</style>\n",
       "<table border=\"1\" class=\"dataframe\">\n",
       "  <thead>\n",
       "    <tr style=\"text-align: right;\">\n",
       "      <th></th>\n",
       "      <th>id</th>\n",
       "      <th>user</th>\n",
       "      <th>android_sensor_gyroscope_mean</th>\n",
       "      <th>android_sensor_accelerometer_std</th>\n",
       "      <th>android_sensor_gyroscope_std</th>\n",
       "      <th>android_sensor_gyroscope_uncalibrated_mean</th>\n",
       "      <th>android_sensor_accelerometer_max</th>\n",
       "      <th>android_sensor_linear_acceleration_mean</th>\n",
       "      <th>speed_mean</th>\n",
       "      <th>android_sensor_rotation_vector_mean</th>\n",
       "      <th>android_sensor_rotation_vector_max</th>\n",
       "      <th>android_sensor_accelerometer_min</th>\n",
       "      <th>android_sensor_magnetic_field_uncalibrated_min</th>\n",
       "      <th>sound_min</th>\n",
       "      <th>target</th>\n",
       "      <th>acc_gyro</th>\n",
       "      <th>Lin_speed</th>\n",
       "    </tr>\n",
       "  </thead>\n",
       "  <tbody>\n",
       "    <tr>\n",
       "      <th>33</th>\n",
       "      <td>19919</td>\n",
       "      <td>Pierpaolo</td>\n",
       "      <td>0.615399</td>\n",
       "      <td>1.283204</td>\n",
       "      <td>0.655962</td>\n",
       "      <td>0.778458</td>\n",
       "      <td>14.028126</td>\n",
       "      <td>1.721314</td>\n",
       "      <td>1.120206</td>\n",
       "      <td>0.955202</td>\n",
       "      <td>0.955202</td>\n",
       "      <td>9.764513</td>\n",
       "      <td>36.378866</td>\n",
       "      <td>77.064227</td>\n",
       "      <td>Walking</td>\n",
       "      <td>0.587830</td>\n",
       "      <td>1.928226</td>\n",
       "    </tr>\n",
       "    <tr>\n",
       "      <th>54</th>\n",
       "      <td>19494</td>\n",
       "      <td>Pierpaolo</td>\n",
       "      <td>0.447802</td>\n",
       "      <td>0.361961</td>\n",
       "      <td>0.116564</td>\n",
       "      <td>0.334574</td>\n",
       "      <td>9.963264</td>\n",
       "      <td>0.958200</td>\n",
       "      <td>5.368554</td>\n",
       "      <td>0.983561</td>\n",
       "      <td>0.989576</td>\n",
       "      <td>8.712177</td>\n",
       "      <td>77.496043</td>\n",
       "      <td>74.178611</td>\n",
       "      <td>Bus</td>\n",
       "      <td>0.440440</td>\n",
       "      <td>5.144149</td>\n",
       "    </tr>\n",
       "    <tr>\n",
       "      <th>102</th>\n",
       "      <td>20104</td>\n",
       "      <td>Pierpaolo</td>\n",
       "      <td>0.069503</td>\n",
       "      <td>0.070605</td>\n",
       "      <td>0.048140</td>\n",
       "      <td>0.078626</td>\n",
       "      <td>9.187340</td>\n",
       "      <td>0.868719</td>\n",
       "      <td>1.120206</td>\n",
       "      <td>0.787570</td>\n",
       "      <td>0.802811</td>\n",
       "      <td>9.012243</td>\n",
       "      <td>91.951478</td>\n",
       "      <td>6.020600</td>\n",
       "      <td>Walking</td>\n",
       "      <td>0.054738</td>\n",
       "      <td>0.973144</td>\n",
       "    </tr>\n",
       "    <tr>\n",
       "      <th>121</th>\n",
       "      <td>19436</td>\n",
       "      <td>Pierpaolo</td>\n",
       "      <td>0.045041</td>\n",
       "      <td>0.451773</td>\n",
       "      <td>0.027367</td>\n",
       "      <td>0.038644</td>\n",
       "      <td>9.563967</td>\n",
       "      <td>0.958079</td>\n",
       "      <td>5.368554</td>\n",
       "      <td>0.993876</td>\n",
       "      <td>0.996117</td>\n",
       "      <td>8.246220</td>\n",
       "      <td>70.436446</td>\n",
       "      <td>72.559600</td>\n",
       "      <td>Bus</td>\n",
       "      <td>0.044765</td>\n",
       "      <td>5.143499</td>\n",
       "    </tr>\n",
       "    <tr>\n",
       "      <th>172</th>\n",
       "      <td>20245</td>\n",
       "      <td>Pierpaolo</td>\n",
       "      <td>1.734294</td>\n",
       "      <td>4.272022</td>\n",
       "      <td>1.400249</td>\n",
       "      <td>1.331566</td>\n",
       "      <td>17.743662</td>\n",
       "      <td>8.823918</td>\n",
       "      <td>1.120206</td>\n",
       "      <td>0.985658</td>\n",
       "      <td>0.993053</td>\n",
       "      <td>3.332163</td>\n",
       "      <td>90.118737</td>\n",
       "      <td>73.702289</td>\n",
       "      <td>Walking</td>\n",
       "      <td>1.709421</td>\n",
       "      <td>9.884602</td>\n",
       "    </tr>\n",
       "  </tbody>\n",
       "</table>\n",
       "</div>"
      ],
      "text/plain": [
       "        id       user  android_sensor_gyroscope_mean  \\\n",
       "33   19919  Pierpaolo                       0.615399   \n",
       "54   19494  Pierpaolo                       0.447802   \n",
       "102  20104  Pierpaolo                       0.069503   \n",
       "121  19436  Pierpaolo                       0.045041   \n",
       "172  20245  Pierpaolo                       1.734294   \n",
       "\n",
       "     android_sensor_accelerometer_std  android_sensor_gyroscope_std  \\\n",
       "33                           1.283204                      0.655962   \n",
       "54                           0.361961                      0.116564   \n",
       "102                          0.070605                      0.048140   \n",
       "121                          0.451773                      0.027367   \n",
       "172                          4.272022                      1.400249   \n",
       "\n",
       "     android_sensor_gyroscope_uncalibrated_mean  \\\n",
       "33                                     0.778458   \n",
       "54                                     0.334574   \n",
       "102                                    0.078626   \n",
       "121                                    0.038644   \n",
       "172                                    1.331566   \n",
       "\n",
       "     android_sensor_accelerometer_max  \\\n",
       "33                          14.028126   \n",
       "54                           9.963264   \n",
       "102                          9.187340   \n",
       "121                          9.563967   \n",
       "172                         17.743662   \n",
       "\n",
       "     android_sensor_linear_acceleration_mean  speed_mean  \\\n",
       "33                                  1.721314    1.120206   \n",
       "54                                  0.958200    5.368554   \n",
       "102                                 0.868719    1.120206   \n",
       "121                                 0.958079    5.368554   \n",
       "172                                 8.823918    1.120206   \n",
       "\n",
       "     android_sensor_rotation_vector_mean  android_sensor_rotation_vector_max  \\\n",
       "33                              0.955202                            0.955202   \n",
       "54                              0.983561                            0.989576   \n",
       "102                             0.787570                            0.802811   \n",
       "121                             0.993876                            0.996117   \n",
       "172                             0.985658                            0.993053   \n",
       "\n",
       "     android_sensor_accelerometer_min  \\\n",
       "33                           9.764513   \n",
       "54                           8.712177   \n",
       "102                          9.012243   \n",
       "121                          8.246220   \n",
       "172                          3.332163   \n",
       "\n",
       "     android_sensor_magnetic_field_uncalibrated_min  sound_min   target  \\\n",
       "33                                        36.378866  77.064227  Walking   \n",
       "54                                        77.496043  74.178611      Bus   \n",
       "102                                       91.951478   6.020600  Walking   \n",
       "121                                       70.436446  72.559600      Bus   \n",
       "172                                       90.118737  73.702289  Walking   \n",
       "\n",
       "     acc_gyro  Lin_speed  \n",
       "33   0.587830   1.928226  \n",
       "54   0.440440   5.144149  \n",
       "102  0.054738   0.973144  \n",
       "121  0.044765   5.143499  \n",
       "172  1.709421   9.884602  "
      ]
     },
     "execution_count": 5,
     "metadata": {},
     "output_type": "execute_result"
    }
   ],
   "source": [
    "# create test data from some user \n",
    "df=data.copy()\n",
    "user1=df[df['user']=='Pierpaolo']\n",
    "user2=df[df['user']=='IvanHeibi']\n",
    "user3=df[df['user']=='AndreaCarpineti']\n",
    "user4=df[df['user']=='Elena']\n",
    "users=[user1,user2,user3,user4]\n",
    "df_test=pd.concat(users)\n",
    "df_test.head(5)"
   ]
  },
  {
   "cell_type": "markdown",
   "id": "9a63a2a7",
   "metadata": {
    "cell_id": "00005-47202497-afc2-4356-824f-3bbd975e589c",
    "deepnote_cell_type": "markdown"
   },
   "source": [
    "## Subtract test data from data "
   ]
  },
  {
   "cell_type": "code",
   "execution_count": 6,
   "id": "7adda55e",
   "metadata": {
    "ExecuteTime": {
     "end_time": "2021-05-19T01:07:26.897788Z",
     "start_time": "2021-05-19T01:07:26.761116Z"
    },
    "cell_id": "00006-82751ddb-183c-49b1-9019-2563ba949634",
    "deepnote_cell_type": "code",
    "deepnote_to_be_reexecuted": false,
    "execution_millis": 244,
    "execution_start": 1621413573168,
    "source_hash": "23a3e567"
   },
   "outputs": [
    {
     "data": {
      "application/vnd.deepnote.dataframe.v2+json": {
       "column_count": 17,
       "columns": [
        {
         "dtype": "int64",
         "name": "id",
         "stats": {
          "histogram": [
           {
            "bin_end": 2469.5,
            "bin_start": 876,
            "count": 1
           },
           {
            "bin_end": 4063,
            "bin_start": 2469.5,
            "count": 0
           },
           {
            "bin_end": 5656.5,
            "bin_start": 4063,
            "count": 0
           },
           {
            "bin_end": 7250,
            "bin_start": 5656.5,
            "count": 0
           },
           {
            "bin_end": 8843.5,
            "bin_start": 7250,
            "count": 0
           },
           {
            "bin_end": 10437,
            "bin_start": 8843.5,
            "count": 0
           },
           {
            "bin_end": 12030.5,
            "bin_start": 10437,
            "count": 0
           },
           {
            "bin_end": 13624,
            "bin_start": 12030.5,
            "count": 0
           },
           {
            "bin_end": 15217.5,
            "bin_start": 13624,
            "count": 0
           },
           {
            "bin_end": 16811,
            "bin_start": 15217.5,
            "count": 4
           }
          ],
          "max": "16811",
          "min": "876",
          "nan_count": 0,
          "unique_count": 5
         }
        },
        {
         "dtype": "object",
         "name": "user",
         "stats": {
          "categories": [
           {
            "count": 4,
            "name": "Luca"
           },
           {
            "count": 1,
            "name": "andrea"
           }
          ],
          "nan_count": 0,
          "unique_count": 2
         }
        },
        {
         "dtype": "float64",
         "name": "android_sensor_gyroscope_mean",
         "stats": {
          "histogram": [
           {
            "bin_end": 0.019692364659799,
            "bin_start": 0.00152461653211,
            "count": 2
           },
           {
            "bin_end": 0.037860112787488,
            "bin_start": 0.019692364659799,
            "count": 2
           },
           {
            "bin_end": 0.056027860915177,
            "bin_start": 0.037860112787488,
            "count": 0
           },
           {
            "bin_end": 0.074195609042866,
            "bin_start": 0.056027860915177,
            "count": 0
           },
           {
            "bin_end": 0.092363357170555,
            "bin_start": 0.074195609042866,
            "count": 0
           },
           {
            "bin_end": 0.110531105298244,
            "bin_start": 0.092363357170555,
            "count": 0
           },
           {
            "bin_end": 0.12869885342593299,
            "bin_start": 0.110531105298244,
            "count": 0
           },
           {
            "bin_end": 0.146866601553622,
            "bin_start": 0.12869885342593299,
            "count": 0
           },
           {
            "bin_end": 0.165034349681311,
            "bin_start": 0.146866601553622,
            "count": 0
           },
           {
            "bin_end": 0.183202097809,
            "bin_start": 0.165034349681311,
            "count": 1
           }
          ],
          "max": "0.183202097809",
          "min": "0.00152461653211",
          "nan_count": 0,
          "unique_count": 5
         }
        },
        {
         "dtype": "float64",
         "name": "android_sensor_accelerometer_std",
         "stats": {
          "histogram": [
           {
            "bin_end": 0.18767362506253,
            "bin_start": 0.0111991059917,
            "count": 2
           },
           {
            "bin_end": 0.36414814413336,
            "bin_start": 0.18767362506253,
            "count": 0
           },
           {
            "bin_end": 0.5406226632041901,
            "bin_start": 0.36414814413336,
            "count": 1
           },
           {
            "bin_end": 0.7170971822750201,
            "bin_start": 0.5406226632041901,
            "count": 0
           },
           {
            "bin_end": 0.8935717013458501,
            "bin_start": 0.7170971822750201,
            "count": 1
           },
           {
            "bin_end": 1.07004622041668,
            "bin_start": 0.8935717013458501,
            "count": 0
           },
           {
            "bin_end": 1.24652073948751,
            "bin_start": 1.07004622041668,
            "count": 0
           },
           {
            "bin_end": 1.42299525855834,
            "bin_start": 1.24652073948751,
            "count": 0
           },
           {
            "bin_end": 1.5994697776291702,
            "bin_start": 1.42299525855834,
            "count": 0
           },
           {
            "bin_end": 1.7759442967,
            "bin_start": 1.5994697776291702,
            "count": 1
           }
          ],
          "max": "1.7759442967",
          "min": "0.0111991059917",
          "nan_count": 0,
          "unique_count": 5
         }
        },
        {
         "dtype": "float64",
         "name": "android_sensor_gyroscope_std",
         "stats": {
          "histogram": [
           {
            "bin_end": 0.0105233445143767,
            "bin_start": 0.000712700740663,
            "count": 2
           },
           {
            "bin_end": 0.0203339882880904,
            "bin_start": 0.0105233445143767,
            "count": 2
           },
           {
            "bin_end": 0.0301446320618041,
            "bin_start": 0.0203339882880904,
            "count": 0
           },
           {
            "bin_end": 0.0399552758355178,
            "bin_start": 0.0301446320618041,
            "count": 0
           },
           {
            "bin_end": 0.0497659196092315,
            "bin_start": 0.0399552758355178,
            "count": 0
           },
           {
            "bin_end": 0.0595765633829452,
            "bin_start": 0.0497659196092315,
            "count": 0
           },
           {
            "bin_end": 0.0693872071566589,
            "bin_start": 0.0595765633829452,
            "count": 0
           },
           {
            "bin_end": 0.0791978509303726,
            "bin_start": 0.0693872071566589,
            "count": 0
           },
           {
            "bin_end": 0.0890084947040863,
            "bin_start": 0.0791978509303726,
            "count": 0
           },
           {
            "bin_end": 0.0988191384778,
            "bin_start": 0.0890084947040863,
            "count": 1
           }
          ],
          "max": "0.0988191384778",
          "min": "0.000712700740663",
          "nan_count": 0,
          "unique_count": 5
         }
        },
        {
         "dtype": "float64",
         "name": "android_sensor_gyroscope_uncalibrated_mean",
         "stats": {
          "histogram": [
           {
            "bin_end": 0.04116444248034,
            "bin_start": 0.0162213599906,
            "count": 3
           },
           {
            "bin_end": 0.06610752497008,
            "bin_start": 0.04116444248034,
            "count": 1
           },
           {
            "bin_end": 0.09105060745982,
            "bin_start": 0.06610752497008,
            "count": 0
           },
           {
            "bin_end": 0.11599368994956,
            "bin_start": 0.09105060745982,
            "count": 0
           },
           {
            "bin_end": 0.1409367724393,
            "bin_start": 0.11599368994956,
            "count": 0
           },
           {
            "bin_end": 0.16587985492904,
            "bin_start": 0.1409367724393,
            "count": 0
           },
           {
            "bin_end": 0.19082293741878,
            "bin_start": 0.16587985492904,
            "count": 0
           },
           {
            "bin_end": 0.21576601990852,
            "bin_start": 0.19082293741878,
            "count": 0
           },
           {
            "bin_end": 0.24070910239826002,
            "bin_start": 0.21576601990852,
            "count": 0
           },
           {
            "bin_end": 0.265652184888,
            "bin_start": 0.24070910239826002,
            "count": 1
           }
          ],
          "max": "0.265652184888",
          "min": "0.0162213599906",
          "nan_count": 0,
          "unique_count": 5
         }
        },
        {
         "dtype": "float64",
         "name": "android_sensor_accelerometer_max",
         "stats": {
          "histogram": [
           {
            "bin_end": 10.578999020486,
            "bin_start": 9.84926211274,
            "count": 2
           },
           {
            "bin_end": 11.308735928232,
            "bin_start": 10.578999020486,
            "count": 1
           },
           {
            "bin_end": 12.038472835978,
            "bin_start": 11.308735928232,
            "count": 0
           },
           {
            "bin_end": 12.768209743724,
            "bin_start": 12.038472835978,
            "count": 1
           },
           {
            "bin_end": 13.49794665147,
            "bin_start": 12.768209743724,
            "count": 0
           },
           {
            "bin_end": 14.227683559216,
            "bin_start": 13.49794665147,
            "count": 0
           },
           {
            "bin_end": 14.957420466962,
            "bin_start": 14.227683559216,
            "count": 0
           },
           {
            "bin_end": 15.687157374708,
            "bin_start": 14.957420466962,
            "count": 0
           },
           {
            "bin_end": 16.416894282454003,
            "bin_start": 15.687157374708,
            "count": 0
           },
           {
            "bin_end": 17.1466311902,
            "bin_start": 16.416894282454003,
            "count": 1
           }
          ],
          "max": "17.1466311902",
          "min": "9.84926211274",
          "nan_count": 0,
          "unique_count": 5
         }
        },
        {
         "dtype": "float64",
         "name": "android_sensor_linear_acceleration_mean",
         "stats": {
          "histogram": [
           {
            "bin_end": 0.18471080473561002,
            "bin_start": 0.0209778383629,
            "count": 2
           },
           {
            "bin_end": 0.34844377110832003,
            "bin_start": 0.18471080473561002,
            "count": 0
           },
           {
            "bin_end": 0.51217673748103,
            "bin_start": 0.34844377110832003,
            "count": 0
           },
           {
            "bin_end": 0.67590970385374,
            "bin_start": 0.51217673748103,
            "count": 0
           },
           {
            "bin_end": 0.8396426702264501,
            "bin_start": 0.67590970385374,
            "count": 0
           },
           {
            "bin_end": 1.00337563659916,
            "bin_start": 0.8396426702264501,
            "count": 1
           },
           {
            "bin_end": 1.16710860297187,
            "bin_start": 1.00337563659916,
            "count": 0
           },
           {
            "bin_end": 1.33084156934458,
            "bin_start": 1.16710860297187,
            "count": 0
           },
           {
            "bin_end": 1.4945745357172902,
            "bin_start": 1.33084156934458,
            "count": 1
           },
           {
            "bin_end": 1.65830750209,
            "bin_start": 1.4945745357172902,
            "count": 1
           }
          ],
          "max": "1.65830750209",
          "min": "0.0209778383629",
          "nan_count": 0,
          "unique_count": 5
         }
        },
        {
         "dtype": "float64",
         "name": "speed_mean",
         "stats": {
          "histogram": [
           {
            "bin_end": 1.6303283250975626,
            "bin_start": 0.1803785331903315,
            "count": 2
           },
           {
            "bin_end": 3.0802781170047937,
            "bin_start": 1.6303283250975626,
            "count": 0
           },
           {
            "bin_end": 4.530227908912024,
            "bin_start": 3.0802781170047937,
            "count": 0
           },
           {
            "bin_end": 5.980177700819255,
            "bin_start": 4.530227908912024,
            "count": 0
           },
           {
            "bin_end": 7.430127492726487,
            "bin_start": 5.980177700819255,
            "count": 0
           },
           {
            "bin_end": 8.880077284633717,
            "bin_start": 7.430127492726487,
            "count": 0
           },
           {
            "bin_end": 10.330027076540949,
            "bin_start": 8.880077284633717,
            "count": 0
           },
           {
            "bin_end": 11.77997686844818,
            "bin_start": 10.330027076540949,
            "count": 0
           },
           {
            "bin_end": 13.229926660355412,
            "bin_start": 11.77997686844818,
            "count": 0
           },
           {
            "bin_end": 14.679876452262643,
            "bin_start": 13.229926660355412,
            "count": 3
           }
          ],
          "max": "14.679876452262643",
          "min": "0.1803785331903315",
          "nan_count": 0,
          "unique_count": 2
         }
        },
        {
         "dtype": "float64",
         "name": "android_sensor_rotation_vector_mean",
         "stats": {
          "histogram": [
           {
            "bin_end": 0.14536994911599999,
            "bin_start": 0.050413140269,
            "count": 1
           },
           {
            "bin_end": 0.24032675796300002,
            "bin_start": 0.14536994911599999,
            "count": 0
           },
           {
            "bin_end": 0.33528356681000004,
            "bin_start": 0.24032675796300002,
            "count": 1
           },
           {
            "bin_end": 0.430240375657,
            "bin_start": 0.33528356681000004,
            "count": 0
           },
           {
            "bin_end": 0.525197184504,
            "bin_start": 0.430240375657,
            "count": 0
           },
           {
            "bin_end": 0.6201539933510001,
            "bin_start": 0.525197184504,
            "count": 1
           },
           {
            "bin_end": 0.715110802198,
            "bin_start": 0.6201539933510001,
            "count": 0
           },
           {
            "bin_end": 0.810067611045,
            "bin_start": 0.715110802198,
            "count": 0
           },
           {
            "bin_end": 0.905024419892,
            "bin_start": 0.810067611045,
            "count": 0
           },
           {
            "bin_end": 0.999981228739,
            "bin_start": 0.905024419892,
            "count": 2
           }
          ],
          "max": "0.999981228739",
          "min": "0.050413140269",
          "nan_count": 0,
          "unique_count": 5
         }
        },
        {
         "dtype": "float64",
         "name": "android_sensor_rotation_vector_max",
         "stats": {
          "histogram": [
           {
            "bin_end": 0.15071615882803,
            "bin_start": 0.0563513538347,
            "count": 1
           },
           {
            "bin_end": 0.24508096382136,
            "bin_start": 0.15071615882803,
            "count": 0
           },
           {
            "bin_end": 0.33944576881469,
            "bin_start": 0.24508096382136,
            "count": 0
           },
           {
            "bin_end": 0.43381057380802,
            "bin_start": 0.33944576881469,
            "count": 1
           },
           {
            "bin_end": 0.52817537880135,
            "bin_start": 0.43381057380802,
            "count": 0
           },
           {
            "bin_end": 0.62254018379468,
            "bin_start": 0.52817537880135,
            "count": 1
           },
           {
            "bin_end": 0.71690498878801,
            "bin_start": 0.62254018379468,
            "count": 0
           },
           {
            "bin_end": 0.81126979378134,
            "bin_start": 0.71690498878801,
            "count": 0
           },
           {
            "bin_end": 0.90563459877467,
            "bin_start": 0.81126979378134,
            "count": 0
           },
           {
            "bin_end": 0.999999403768,
            "bin_start": 0.90563459877467,
            "count": 2
           }
          ],
          "max": "0.999999403768",
          "min": "0.0563513538347",
          "nan_count": 0,
          "unique_count": 5
         }
        },
        {
         "dtype": "float64",
         "name": "android_sensor_accelerometer_min",
         "stats": {
          "histogram": [
           {
            "bin_end": 7.874188068491,
            "bin_start": 7.65967372861,
            "count": 2
           },
           {
            "bin_end": 8.088702408371999,
            "bin_start": 7.874188068491,
            "count": 0
           },
           {
            "bin_end": 8.303216748253,
            "bin_start": 8.088702408371999,
            "count": 0
           },
           {
            "bin_end": 8.517731088134,
            "bin_start": 8.303216748253,
            "count": 0
           },
           {
            "bin_end": 8.732245428015,
            "bin_start": 8.517731088134,
            "count": 0
           },
           {
            "bin_end": 8.946759767896,
            "bin_start": 8.732245428015,
            "count": 0
           },
           {
            "bin_end": 9.161274107777,
            "bin_start": 8.946759767896,
            "count": 1
           },
           {
            "bin_end": 9.375788447658,
            "bin_start": 9.161274107777,
            "count": 0
           },
           {
            "bin_end": 9.590302787539,
            "bin_start": 9.375788447658,
            "count": 0
           },
           {
            "bin_end": 9.80481712742,
            "bin_start": 9.590302787539,
            "count": 2
           }
          ],
          "max": "9.80481712742",
          "min": "7.65967372861",
          "nan_count": 0,
          "unique_count": 5
         }
        },
        {
         "dtype": "float64",
         "name": "android_sensor_magnetic_field_uncalibrated_min",
         "stats": {
          "histogram": [
           {
            "bin_end": 61.75932743579,
            "bin_start": 51.1997072531,
            "count": 2
           },
           {
            "bin_end": 72.31894761848,
            "bin_start": 61.75932743579,
            "count": 0
           },
           {
            "bin_end": 82.87856780117,
            "bin_start": 72.31894761848,
            "count": 1
           },
           {
            "bin_end": 93.43818798386,
            "bin_start": 82.87856780117,
            "count": 0
           },
           {
            "bin_end": 103.99780816655,
            "bin_start": 93.43818798386,
            "count": 1
           },
           {
            "bin_end": 114.55742834924001,
            "bin_start": 103.99780816655,
            "count": 0
           },
           {
            "bin_end": 125.11704853193001,
            "bin_start": 114.55742834924001,
            "count": 0
           },
           {
            "bin_end": 135.67666871462,
            "bin_start": 125.11704853193001,
            "count": 0
           },
           {
            "bin_end": 146.23628889731,
            "bin_start": 135.67666871462,
            "count": 0
           },
           {
            "bin_end": 156.79590908,
            "bin_start": 146.23628889731,
            "count": 1
           }
          ],
          "max": "156.79590908",
          "min": "51.1997072531",
          "nan_count": 0,
          "unique_count": 5
         }
        },
        {
         "dtype": "float64",
         "name": "sound_min",
         "stats": {
          "histogram": [
           {
            "bin_end": 87.70041262106,
            "bin_start": 87.4703770994,
            "count": 1
           },
           {
            "bin_end": 87.93044814272,
            "bin_start": 87.70041262106,
            "count": 0
           },
           {
            "bin_end": 88.16048366438,
            "bin_start": 87.93044814272,
            "count": 0
           },
           {
            "bin_end": 88.39051918604,
            "bin_start": 88.16048366438,
            "count": 0
           },
           {
            "bin_end": 88.6205547077,
            "bin_start": 88.39051918604,
            "count": 0
           },
           {
            "bin_end": 88.85059022936,
            "bin_start": 88.6205547077,
            "count": 0
           },
           {
            "bin_end": 89.08062575102,
            "bin_start": 88.85059022936,
            "count": 1
           },
           {
            "bin_end": 89.31066127268,
            "bin_start": 89.08062575102,
            "count": 0
           },
           {
            "bin_end": 89.54069679434,
            "bin_start": 89.31066127268,
            "count": 0
           },
           {
            "bin_end": 89.770732316,
            "bin_start": 89.54069679434,
            "count": 1
           }
          ],
          "max": "89.770732316",
          "min": "87.4703770994",
          "nan_count": 2,
          "unique_count": 3
         }
        },
        {
         "dtype": "object",
         "name": "target",
         "stats": {
          "categories": [
           {
            "count": 3,
            "name": "Car"
           },
           {
            "count": 2,
            "name": "Still"
           }
          ],
          "nan_count": 0,
          "unique_count": 2
         }
        },
        {
         "dtype": "float64",
         "name": "acc_gyro",
         "stats": {
          "histogram": [
           {
            "bin_end": 0.005978438169580529,
            "bin_start": 8.32207627870112e-05,
            "count": 2
           },
           {
            "bin_end": 0.011873655576374048,
            "bin_start": 0.005978438169580529,
            "count": 0
           },
           {
            "bin_end": 0.01776887298316757,
            "bin_start": 0.011873655576374048,
            "count": 0
           },
           {
            "bin_end": 0.023664090389961086,
            "bin_start": 0.01776887298316757,
            "count": 0
           },
           {
            "bin_end": 0.029559307796754603,
            "bin_start": 0.023664090389961086,
            "count": 0
           },
           {
            "bin_end": 0.03545452520354812,
            "bin_start": 0.029559307796754603,
            "count": 0
           },
           {
            "bin_end": 0.04134974261034164,
            "bin_start": 0.03545452520354812,
            "count": 2
           },
           {
            "bin_end": 0.04724496001713516,
            "bin_start": 0.04134974261034164,
            "count": 0
           },
           {
            "bin_end": 0.053140177423928674,
            "bin_start": 0.04724496001713516,
            "count": 0
           },
           {
            "bin_end": 0.0590353948307222,
            "bin_start": 0.053140177423928674,
            "count": 1
           }
          ],
          "max": "0.0590353948307222",
          "min": "8.32207627870112e-05",
          "nan_count": 0,
          "unique_count": 5
         }
        },
        {
         "dtype": "float64",
         "name": "Lin_speed",
         "stats": {
          "histogram": [
           {
            "bin_end": 2.4377804815962105,
            "bin_start": 0.0037839517134037,
            "count": 2
           },
           {
            "bin_end": 4.8717770114790175,
            "bin_start": 2.4377804815962105,
            "count": 0
           },
           {
            "bin_end": 7.305773541361825,
            "bin_start": 4.8717770114790175,
            "count": 0
           },
           {
            "bin_end": 9.739770071244632,
            "bin_start": 7.305773541361825,
            "count": 0
           },
           {
            "bin_end": 12.173766601127438,
            "bin_start": 9.739770071244632,
            "count": 0
           },
           {
            "bin_end": 14.607763131010246,
            "bin_start": 12.173766601127438,
            "count": 1
           },
           {
            "bin_end": 17.041759660893053,
            "bin_start": 14.607763131010246,
            "count": 0
           },
           {
            "bin_end": 19.47575619077586,
            "bin_start": 17.041759660893053,
            "count": 0
           },
           {
            "bin_end": 21.90975272065867,
            "bin_start": 19.47575619077586,
            "count": 1
           },
           {
            "bin_end": 24.343749250541475,
            "bin_start": 21.90975272065867,
            "count": 1
           }
          ],
          "max": "24.343749250541475",
          "min": "0.0037839517134037",
          "nan_count": 0,
          "unique_count": 5
         }
        },
        {
         "dtype": "int64",
         "name": "_deepnote_index_column"
        }
       ],
       "row_count": 5,
       "rows_bottom": null,
       "rows_top": [
        {
         "Lin_speed": 0.0037839517134037,
         "_deepnote_index_column": 0,
         "acc_gyro": 8.32207627870112e-05,
         "android_sensor_accelerometer_max": 9.84941095639,
         "android_sensor_accelerometer_min": 9.75889547269,
         "android_sensor_accelerometer_std": 0.0146255073331,
         "android_sensor_gyroscope_mean": 0.00165077522136,
         "android_sensor_gyroscope_std": 0.000736963641413,
         "android_sensor_gyroscope_uncalibrated_mean": 0.0162213599906,
         "android_sensor_linear_acceleration_mean": 0.0209778383629,
         "android_sensor_magnetic_field_uncalibrated_min": 51.1997072531,
         "android_sensor_rotation_vector_max": 0.0563513538347,
         "android_sensor_rotation_vector_mean": 0.050413140269,
         "id": 16170,
         "sound_min": "nan",
         "speed_mean": 0.1803785331903315,
         "target": "Still",
         "user": "Luca"
        },
        {
         "Lin_speed": 12.906843654228528,
         "_deepnote_index_column": 1,
         "acc_gyro": 0.0363250323693368,
         "android_sensor_accelerometer_max": 17.1466311902,
         "android_sensor_accelerometer_min": 7.70743742161,
         "android_sensor_accelerometer_std": 1.7759442967,
         "android_sensor_gyroscope_mean": 0.0363257142488,
         "android_sensor_gyroscope_std": 0.0202897002181,
         "android_sensor_gyroscope_uncalibrated_mean": 0.0390225389502,
         "android_sensor_linear_acceleration_mean": 0.879220182554,
         "android_sensor_magnetic_field_uncalibrated_min": 82.4098901832,
         "android_sensor_rotation_vector_max": 0.999999403768,
         "android_sensor_rotation_vector_mean": 0.999981228739,
         "id": 15871,
         "sound_min": "89.06514335",
         "speed_mean": 14.679876452262643,
         "target": "Car",
         "user": "Luca"
        },
        {
         "Lin_speed": 0.0061527534607904,
         "_deepnote_index_column": 2,
         "acc_gyro": 0.0009307116463443,
         "android_sensor_accelerometer_max": 9.84926211274,
         "android_sensor_accelerometer_min": 9.80481712742,
         "android_sensor_accelerometer_std": 0.0111991059917,
         "android_sensor_gyroscope_mean": 0.00152461653211,
         "android_sensor_gyroscope_std": 0.000712700740663,
         "android_sensor_gyroscope_uncalibrated_mean": 0.016301566129,
         "android_sensor_linear_acceleration_mean": 0.0341102311454,
         "android_sensor_magnetic_field_uncalibrated_min": 55.5018017726,
         "android_sensor_rotation_vector_max": 0.610456220789,
         "android_sensor_rotation_vector_mean": 0.610456220789,
         "id": 16811,
         "sound_min": "nan",
         "speed_mean": 0.1803785331903315,
         "target": "Still",
         "user": "Luca"
        },
        {
         "Lin_speed": 21.848949429203184,
         "_deepnote_index_column": 3,
         "acc_gyro": 0.0363715273010514,
         "android_sensor_accelerometer_max": 12.3042975935,
         "android_sensor_accelerometer_min": 7.65967372861,
         "android_sensor_accelerometer_std": 0.862553258429,
         "android_sensor_gyroscope_mean": 0.0364403150565,
         "android_sensor_gyroscope_std": 0.0105527726211,
         "android_sensor_gyroscope_uncalibrated_mean": 0.0507587448203,
         "android_sensor_linear_acceleration_mean": 1.48836057989,
         "android_sensor_magnetic_field_uncalibrated_min": 95.6643091367,
         "android_sensor_rotation_vector_max": 0.998112317214,
         "android_sensor_rotation_vector_mean": 0.998112317214,
         "id": 15831,
         "sound_min": "87.4703770994",
         "speed_mean": 14.679876452262643,
         "target": "Car",
         "user": "Luca"
        },
        {
         "Lin_speed": 24.343749250541475,
         "_deepnote_index_column": 4,
         "acc_gyro": 0.0590353948307222,
         "android_sensor_accelerometer_max": 10.8916451194,
         "android_sensor_accelerometer_min": 8.96562096134,
         "android_sensor_accelerometer_std": 0.504117059576,
         "android_sensor_gyroscope_mean": 0.183202097809,
         "android_sensor_gyroscope_std": 0.0988191384778,
         "android_sensor_gyroscope_uncalibrated_mean": 0.265652184888,
         "android_sensor_linear_acceleration_mean": 1.65830750209,
         "android_sensor_magnetic_field_uncalibrated_min": 156.79590908,
         "android_sensor_rotation_vector_max": 0.378193174062,
         "android_sensor_rotation_vector_mean": 0.322241915004,
         "id": 876,
         "sound_min": "89.770732316",
         "speed_mean": 14.679876452262643,
         "target": "Car",
         "user": "andrea"
        }
       ]
      },
      "text/html": [
       "<div>\n",
       "<style scoped>\n",
       "    .dataframe tbody tr th:only-of-type {\n",
       "        vertical-align: middle;\n",
       "    }\n",
       "\n",
       "    .dataframe tbody tr th {\n",
       "        vertical-align: top;\n",
       "    }\n",
       "\n",
       "    .dataframe thead th {\n",
       "        text-align: right;\n",
       "    }\n",
       "</style>\n",
       "<table border=\"1\" class=\"dataframe\">\n",
       "  <thead>\n",
       "    <tr style=\"text-align: right;\">\n",
       "      <th></th>\n",
       "      <th>id</th>\n",
       "      <th>user</th>\n",
       "      <th>android_sensor_gyroscope_mean</th>\n",
       "      <th>android_sensor_accelerometer_std</th>\n",
       "      <th>android_sensor_gyroscope_std</th>\n",
       "      <th>android_sensor_gyroscope_uncalibrated_mean</th>\n",
       "      <th>android_sensor_accelerometer_max</th>\n",
       "      <th>android_sensor_linear_acceleration_mean</th>\n",
       "      <th>speed_mean</th>\n",
       "      <th>android_sensor_rotation_vector_mean</th>\n",
       "      <th>android_sensor_rotation_vector_max</th>\n",
       "      <th>android_sensor_accelerometer_min</th>\n",
       "      <th>android_sensor_magnetic_field_uncalibrated_min</th>\n",
       "      <th>sound_min</th>\n",
       "      <th>target</th>\n",
       "      <th>acc_gyro</th>\n",
       "      <th>Lin_speed</th>\n",
       "    </tr>\n",
       "  </thead>\n",
       "  <tbody>\n",
       "    <tr>\n",
       "      <th>0</th>\n",
       "      <td>16170</td>\n",
       "      <td>Luca</td>\n",
       "      <td>0.001651</td>\n",
       "      <td>0.014626</td>\n",
       "      <td>0.000737</td>\n",
       "      <td>0.016221</td>\n",
       "      <td>9.849411</td>\n",
       "      <td>0.020978</td>\n",
       "      <td>0.180379</td>\n",
       "      <td>0.050413</td>\n",
       "      <td>0.056351</td>\n",
       "      <td>9.758895</td>\n",
       "      <td>51.199707</td>\n",
       "      <td>NaN</td>\n",
       "      <td>Still</td>\n",
       "      <td>0.000083</td>\n",
       "      <td>0.003784</td>\n",
       "    </tr>\n",
       "    <tr>\n",
       "      <th>1</th>\n",
       "      <td>15871</td>\n",
       "      <td>Luca</td>\n",
       "      <td>0.036326</td>\n",
       "      <td>1.775944</td>\n",
       "      <td>0.020290</td>\n",
       "      <td>0.039023</td>\n",
       "      <td>17.146631</td>\n",
       "      <td>0.879220</td>\n",
       "      <td>14.679876</td>\n",
       "      <td>0.999981</td>\n",
       "      <td>0.999999</td>\n",
       "      <td>7.707437</td>\n",
       "      <td>82.409890</td>\n",
       "      <td>89.065143</td>\n",
       "      <td>Car</td>\n",
       "      <td>0.036325</td>\n",
       "      <td>12.906844</td>\n",
       "    </tr>\n",
       "    <tr>\n",
       "      <th>2</th>\n",
       "      <td>16811</td>\n",
       "      <td>Luca</td>\n",
       "      <td>0.001525</td>\n",
       "      <td>0.011199</td>\n",
       "      <td>0.000713</td>\n",
       "      <td>0.016302</td>\n",
       "      <td>9.849262</td>\n",
       "      <td>0.034110</td>\n",
       "      <td>0.180379</td>\n",
       "      <td>0.610456</td>\n",
       "      <td>0.610456</td>\n",
       "      <td>9.804817</td>\n",
       "      <td>55.501802</td>\n",
       "      <td>NaN</td>\n",
       "      <td>Still</td>\n",
       "      <td>0.000931</td>\n",
       "      <td>0.006153</td>\n",
       "    </tr>\n",
       "    <tr>\n",
       "      <th>3</th>\n",
       "      <td>15831</td>\n",
       "      <td>Luca</td>\n",
       "      <td>0.036440</td>\n",
       "      <td>0.862553</td>\n",
       "      <td>0.010553</td>\n",
       "      <td>0.050759</td>\n",
       "      <td>12.304298</td>\n",
       "      <td>1.488361</td>\n",
       "      <td>14.679876</td>\n",
       "      <td>0.998112</td>\n",
       "      <td>0.998112</td>\n",
       "      <td>7.659674</td>\n",
       "      <td>95.664309</td>\n",
       "      <td>87.470377</td>\n",
       "      <td>Car</td>\n",
       "      <td>0.036372</td>\n",
       "      <td>21.848949</td>\n",
       "    </tr>\n",
       "    <tr>\n",
       "      <th>4</th>\n",
       "      <td>876</td>\n",
       "      <td>andrea</td>\n",
       "      <td>0.183202</td>\n",
       "      <td>0.504117</td>\n",
       "      <td>0.098819</td>\n",
       "      <td>0.265652</td>\n",
       "      <td>10.891645</td>\n",
       "      <td>1.658308</td>\n",
       "      <td>14.679876</td>\n",
       "      <td>0.322242</td>\n",
       "      <td>0.378193</td>\n",
       "      <td>8.965621</td>\n",
       "      <td>156.795909</td>\n",
       "      <td>89.770732</td>\n",
       "      <td>Car</td>\n",
       "      <td>0.059035</td>\n",
       "      <td>24.343749</td>\n",
       "    </tr>\n",
       "  </tbody>\n",
       "</table>\n",
       "</div>"
      ],
      "text/plain": [
       "      id    user  android_sensor_gyroscope_mean  \\\n",
       "0  16170    Luca                       0.001651   \n",
       "1  15871    Luca                       0.036326   \n",
       "2  16811    Luca                       0.001525   \n",
       "3  15831    Luca                       0.036440   \n",
       "4    876  andrea                       0.183202   \n",
       "\n",
       "   android_sensor_accelerometer_std  android_sensor_gyroscope_std  \\\n",
       "0                          0.014626                      0.000737   \n",
       "1                          1.775944                      0.020290   \n",
       "2                          0.011199                      0.000713   \n",
       "3                          0.862553                      0.010553   \n",
       "4                          0.504117                      0.098819   \n",
       "\n",
       "   android_sensor_gyroscope_uncalibrated_mean  \\\n",
       "0                                    0.016221   \n",
       "1                                    0.039023   \n",
       "2                                    0.016302   \n",
       "3                                    0.050759   \n",
       "4                                    0.265652   \n",
       "\n",
       "   android_sensor_accelerometer_max  android_sensor_linear_acceleration_mean  \\\n",
       "0                          9.849411                                 0.020978   \n",
       "1                         17.146631                                 0.879220   \n",
       "2                          9.849262                                 0.034110   \n",
       "3                         12.304298                                 1.488361   \n",
       "4                         10.891645                                 1.658308   \n",
       "\n",
       "   speed_mean  android_sensor_rotation_vector_mean  \\\n",
       "0    0.180379                             0.050413   \n",
       "1   14.679876                             0.999981   \n",
       "2    0.180379                             0.610456   \n",
       "3   14.679876                             0.998112   \n",
       "4   14.679876                             0.322242   \n",
       "\n",
       "   android_sensor_rotation_vector_max  android_sensor_accelerometer_min  \\\n",
       "0                            0.056351                          9.758895   \n",
       "1                            0.999999                          7.707437   \n",
       "2                            0.610456                          9.804817   \n",
       "3                            0.998112                          7.659674   \n",
       "4                            0.378193                          8.965621   \n",
       "\n",
       "   android_sensor_magnetic_field_uncalibrated_min  sound_min target  acc_gyro  \\\n",
       "0                                       51.199707        NaN  Still  0.000083   \n",
       "1                                       82.409890  89.065143    Car  0.036325   \n",
       "2                                       55.501802        NaN  Still  0.000931   \n",
       "3                                       95.664309  87.470377    Car  0.036372   \n",
       "4                                      156.795909  89.770732    Car  0.059035   \n",
       "\n",
       "   Lin_speed  \n",
       "0   0.003784  \n",
       "1  12.906844  \n",
       "2   0.006153  \n",
       "3  21.848949  \n",
       "4  24.343749  "
      ]
     },
     "execution_count": 6,
     "metadata": {},
     "output_type": "execute_result"
    }
   ],
   "source": [
    "df_train = df.merge(df_test, how='left', indicator=True)\n",
    "df_train = df_train[df_train['_merge'] == 'left_only']\n",
    "df_train=df_train.drop('_merge',axis=1)\n",
    "df_train.head(5)"
   ]
  },
  {
   "cell_type": "code",
   "execution_count": 7,
   "id": "fc4ea9ed",
   "metadata": {
    "ExecuteTime": {
     "end_time": "2021-05-19T01:07:33.075681Z",
     "start_time": "2021-05-19T01:07:33.071991Z"
    },
    "cell_id": "00009-0d70d803-3143-4480-9a4e-f2a94e1e970c",
    "deepnote_cell_type": "code",
    "deepnote_to_be_reexecuted": false,
    "execution_millis": 21,
    "execution_start": 1621413585036,
    "source_hash": "f72c817d"
   },
   "outputs": [
    {
     "name": "stdout",
     "output_type": "stream",
     "text": [
      "(4985, 17)\n",
      "(908, 17)\n"
     ]
    }
   ],
   "source": [
    "print(df_train.shape)\n",
    "print(df_test.shape)"
   ]
  },
  {
   "cell_type": "markdown",
   "id": "42bdd9f0",
   "metadata": {
    "cell_id": "00010-2e02d6fa-4fc3-4b99-9575-91242ed9448b",
    "deepnote_cell_type": "markdown"
   },
   "source": [
    "## drop id ,time, user columns"
   ]
  },
  {
   "cell_type": "code",
   "execution_count": 8,
   "id": "f28ccc06",
   "metadata": {
    "ExecuteTime": {
     "end_time": "2021-05-19T01:07:32.026126Z",
     "start_time": "2021-05-19T01:07:32.018865Z"
    },
    "cell_id": "00011-54861700-319b-4d36-932c-c220912069f7",
    "deepnote_cell_type": "code",
    "deepnote_to_be_reexecuted": false,
    "execution_millis": 0,
    "execution_start": 1621413588029,
    "source_hash": "17352a22"
   },
   "outputs": [],
   "source": [
    "unimp    = ['id','user']\n",
    "df_train = df_train.drop(unimp,axis=1)\n",
    "df_test  = df_test.drop(unimp,axis=1)"
   ]
  },
  {
   "cell_type": "code",
   "execution_count": 10,
   "id": "ed481694",
   "metadata": {
    "cell_id": "00009-aa841b9d-ba02-4d48-af4d-6643e1832c79",
    "deepnote_cell_type": "code",
    "deepnote_to_be_reexecuted": false,
    "execution_millis": 3,
    "execution_start": 1621413604296,
    "source_hash": "f39bcc7b",
    "tags": []
   },
   "outputs": [],
   "source": [
    "df_train=df_train.drop('speed_mean',axis=1)\n",
    "df_test=df_test.drop('speed_mean',axis=1)"
   ]
  },
  {
   "cell_type": "code",
   "execution_count": 11,
   "id": "73de009c",
   "metadata": {
    "ExecuteTime": {
     "end_time": "2021-05-19T01:07:35.029322Z",
     "start_time": "2021-05-19T01:07:35.023677Z"
    },
    "cell_id": "00012-d0bf41ef-aa79-41f7-9c4d-e7c195432593",
    "deepnote_cell_type": "code",
    "deepnote_to_be_reexecuted": false,
    "execution_millis": 10,
    "execution_start": 1621413606677,
    "source_hash": "f72c817d"
   },
   "outputs": [
    {
     "name": "stdout",
     "output_type": "stream",
     "text": [
      "(4985, 14)\n",
      "(908, 14)\n"
     ]
    }
   ],
   "source": [
    "print(df_train.shape)\n",
    "print(df_test.shape)"
   ]
  },
  {
   "cell_type": "code",
   "execution_count": 12,
   "id": "00daf36c",
   "metadata": {
    "ExecuteTime": {
     "end_time": "2021-05-19T01:07:36.315024Z",
     "start_time": "2021-05-19T01:07:36.309683Z"
    },
    "cell_id": "00014-739c687f-8a17-4109-b725-39f731c97ffc",
    "deepnote_cell_type": "code",
    "deepnote_to_be_reexecuted": false,
    "execution_millis": 9,
    "execution_start": 1621413612666,
    "source_hash": "87e2a165"
   },
   "outputs": [],
   "source": [
    "X=df_train.drop('target',axis=1)\n",
    "y=df_train.target\n",
    "X_test=df_test.drop('target',axis=1)\n",
    "y_test=df_test.target"
   ]
  },
  {
   "cell_type": "markdown",
   "id": "8f307a4c",
   "metadata": {
    "cell_id": "00015-bf364553-c6b4-45e8-abcd-b7ac3e001671",
    "deepnote_cell_type": "markdown"
   },
   "source": [
    "# Pipeline "
   ]
  },
  {
   "cell_type": "code",
   "execution_count": 13,
   "id": "ecc45311",
   "metadata": {
    "ExecuteTime": {
     "end_time": "2021-05-19T01:07:37.731219Z",
     "start_time": "2021-05-19T01:07:37.723695Z"
    },
    "cell_id": "00016-e5f545c7-96b3-4abe-bb52-f939b9258cd9",
    "deepnote_cell_type": "code",
    "deepnote_to_be_reexecuted": false,
    "execution_millis": 1,
    "execution_start": 1621413615690,
    "source_hash": "c46b4aee"
   },
   "outputs": [],
   "source": [
    "num_attribs=df_train.drop('target',axis=1).columns.to_list()\n",
    "num_pip=Pipeline([('imputer',impute.SimpleImputer(strategy='median')),\n",
    "                  ('scalar',MinMaxScaler()),\n",
    "               ])  # ('PCA',PCA(n_components=12))\n",
    "preprocessor=compose.ColumnTransformer([\n",
    "    ('num',num_pip,num_attribs)\n",
    "])"
   ]
  },
  {
   "cell_type": "code",
   "execution_count": 71,
   "id": "c513fadf",
   "metadata": {
    "ExecuteTime": {
     "end_time": "2021-05-19T01:07:39.800780Z",
     "start_time": "2021-05-19T01:07:39.731648Z"
    },
    "cell_id": "00017-92beb382-8adc-4eec-8c37-8da7367daf18",
    "deepnote_cell_type": "code",
    "deepnote_to_be_reexecuted": false,
    "execution_millis": 100,
    "execution_start": 1621417526522,
    "source_hash": "5ce2e3a"
   },
   "outputs": [
    {
     "data": {
      "text/html": [
       "<style>#sk-faf0852b-5b7c-4393-8c82-0994bcdebb3b {color: black;background-color: white;}#sk-faf0852b-5b7c-4393-8c82-0994bcdebb3b pre{padding: 0;}#sk-faf0852b-5b7c-4393-8c82-0994bcdebb3b div.sk-toggleable {background-color: white;}#sk-faf0852b-5b7c-4393-8c82-0994bcdebb3b label.sk-toggleable__label {cursor: pointer;display: block;width: 100%;margin-bottom: 0;padding: 0.2em 0.3em;box-sizing: border-box;text-align: center;}#sk-faf0852b-5b7c-4393-8c82-0994bcdebb3b div.sk-toggleable__content {max-height: 0;max-width: 0;overflow: hidden;text-align: left;background-color: #f0f8ff;}#sk-faf0852b-5b7c-4393-8c82-0994bcdebb3b div.sk-toggleable__content pre {margin: 0.2em;color: black;border-radius: 0.25em;background-color: #f0f8ff;}#sk-faf0852b-5b7c-4393-8c82-0994bcdebb3b input.sk-toggleable__control:checked~div.sk-toggleable__content {max-height: 200px;max-width: 100%;overflow: auto;}#sk-faf0852b-5b7c-4393-8c82-0994bcdebb3b div.sk-estimator input.sk-toggleable__control:checked~label.sk-toggleable__label {background-color: #d4ebff;}#sk-faf0852b-5b7c-4393-8c82-0994bcdebb3b div.sk-label input.sk-toggleable__control:checked~label.sk-toggleable__label {background-color: #d4ebff;}#sk-faf0852b-5b7c-4393-8c82-0994bcdebb3b input.sk-hidden--visually {border: 0;clip: rect(1px 1px 1px 1px);clip: rect(1px, 1px, 1px, 1px);height: 1px;margin: -1px;overflow: hidden;padding: 0;position: absolute;width: 1px;}#sk-faf0852b-5b7c-4393-8c82-0994bcdebb3b div.sk-estimator {font-family: monospace;background-color: #f0f8ff;margin: 0.25em 0.25em;border: 1px dotted black;border-radius: 0.25em;box-sizing: border-box;}#sk-faf0852b-5b7c-4393-8c82-0994bcdebb3b div.sk-estimator:hover {background-color: #d4ebff;}#sk-faf0852b-5b7c-4393-8c82-0994bcdebb3b div.sk-parallel-item::after {content: \"\";width: 100%;border-bottom: 1px solid gray;flex-grow: 1;}#sk-faf0852b-5b7c-4393-8c82-0994bcdebb3b div.sk-label:hover label.sk-toggleable__label {background-color: #d4ebff;}#sk-faf0852b-5b7c-4393-8c82-0994bcdebb3b div.sk-serial::before {content: \"\";position: absolute;border-left: 1px solid gray;box-sizing: border-box;top: 2em;bottom: 0;left: 50%;}#sk-faf0852b-5b7c-4393-8c82-0994bcdebb3b div.sk-serial {display: flex;flex-direction: column;align-items: center;background-color: white;}#sk-faf0852b-5b7c-4393-8c82-0994bcdebb3b div.sk-item {z-index: 1;}#sk-faf0852b-5b7c-4393-8c82-0994bcdebb3b div.sk-parallel {display: flex;align-items: stretch;justify-content: center;background-color: white;}#sk-faf0852b-5b7c-4393-8c82-0994bcdebb3b div.sk-parallel-item {display: flex;flex-direction: column;position: relative;background-color: white;}#sk-faf0852b-5b7c-4393-8c82-0994bcdebb3b div.sk-parallel-item:first-child::after {align-self: flex-end;width: 50%;}#sk-faf0852b-5b7c-4393-8c82-0994bcdebb3b div.sk-parallel-item:last-child::after {align-self: flex-start;width: 50%;}#sk-faf0852b-5b7c-4393-8c82-0994bcdebb3b div.sk-parallel-item:only-child::after {width: 0;}#sk-faf0852b-5b7c-4393-8c82-0994bcdebb3b div.sk-dashed-wrapped {border: 1px dashed gray;margin: 0.2em;box-sizing: border-box;padding-bottom: 0.1em;background-color: white;position: relative;}#sk-faf0852b-5b7c-4393-8c82-0994bcdebb3b div.sk-label label {font-family: monospace;font-weight: bold;background-color: white;display: inline-block;line-height: 1.2em;}#sk-faf0852b-5b7c-4393-8c82-0994bcdebb3b div.sk-label-container {position: relative;z-index: 2;text-align: center;}#sk-faf0852b-5b7c-4393-8c82-0994bcdebb3b div.sk-container {display: inline-block;position: relative;}</style><div id=\"sk-faf0852b-5b7c-4393-8c82-0994bcdebb3b\" class\"sk-top-container\"><div class=\"sk-container\"><div class=\"sk-item sk-dashed-wrapped\"><div class=\"sk-label-container\"><div class=\"sk-label sk-toggleable\"><input class=\"sk-toggleable__control sk-hidden--visually\" id=\"d9c0177e-d1e7-4aa4-aacd-0fb7a43c1203\" type=\"checkbox\" ><label class=\"sk-toggleable__label\" for=\"d9c0177e-d1e7-4aa4-aacd-0fb7a43c1203\">Pipeline</label><div class=\"sk-toggleable__content\"><pre>Pipeline(steps=[('columntransformer',\n",
       "                 ColumnTransformer(transformers=[('num',\n",
       "                                                  Pipeline(steps=[('imputer',\n",
       "                                                                   SimpleImputer(strategy='median')),\n",
       "                                                                  ('scalar',\n",
       "                                                                   MinMaxScaler())]),\n",
       "                                                  ['android_sensor_gyroscope_mean',\n",
       "                                                   'android_sensor_accelerometer_std',\n",
       "                                                   'android_sensor_gyroscope_std',\n",
       "                                                   'android_sensor_gyroscope_uncalibrated_mean',\n",
       "                                                   'android_sensor_accelerometer_max',\n",
       "                                                   'android_sensor_linear_acceleration_mean',\n",
       "                                                   'android_sensor_rotation_vector_mean',\n",
       "                                                   'android_sensor_rotation_vector_max',\n",
       "                                                   'android_sensor_accelerometer_min',\n",
       "                                                   'android_sensor_magnetic_field_uncalibrated_min',\n",
       "                                                   'sound_min', 'acc_gyro',\n",
       "                                                   'Lin_speed'])])),\n",
       "                ('gradientboostingclassifier', GradientBoostingClassifier())])</pre></div></div></div><div class=\"sk-serial\"><div class=\"sk-item sk-dashed-wrapped\"><div class=\"sk-label-container\"><div class=\"sk-label sk-toggleable\"><input class=\"sk-toggleable__control sk-hidden--visually\" id=\"da97dee8-3249-49e9-acbb-cc2e3a7eaa0a\" type=\"checkbox\" ><label class=\"sk-toggleable__label\" for=\"da97dee8-3249-49e9-acbb-cc2e3a7eaa0a\">columntransformer: ColumnTransformer</label><div class=\"sk-toggleable__content\"><pre>ColumnTransformer(transformers=[('num',\n",
       "                                 Pipeline(steps=[('imputer',\n",
       "                                                  SimpleImputer(strategy='median')),\n",
       "                                                 ('scalar', MinMaxScaler())]),\n",
       "                                 ['android_sensor_gyroscope_mean',\n",
       "                                  'android_sensor_accelerometer_std',\n",
       "                                  'android_sensor_gyroscope_std',\n",
       "                                  'android_sensor_gyroscope_uncalibrated_mean',\n",
       "                                  'android_sensor_accelerometer_max',\n",
       "                                  'android_sensor_linear_acceleration_mean',\n",
       "                                  'android_sensor_rotation_vector_mean',\n",
       "                                  'android_sensor_rotation_vector_max',\n",
       "                                  'android_sensor_accelerometer_min',\n",
       "                                  'android_sensor_magnetic_field_uncalibrated_min',\n",
       "                                  'sound_min', 'acc_gyro', 'Lin_speed'])])</pre></div></div></div><div class=\"sk-parallel\"><div class=\"sk-parallel-item\"><div class=\"sk-item\"><div class=\"sk-label-container\"><div class=\"sk-label sk-toggleable\"><input class=\"sk-toggleable__control sk-hidden--visually\" id=\"cd84c4ba-0bf8-4192-b881-dca487042c5e\" type=\"checkbox\" ><label class=\"sk-toggleable__label\" for=\"cd84c4ba-0bf8-4192-b881-dca487042c5e\">num</label><div class=\"sk-toggleable__content\"><pre>['android_sensor_gyroscope_mean', 'android_sensor_accelerometer_std', 'android_sensor_gyroscope_std', 'android_sensor_gyroscope_uncalibrated_mean', 'android_sensor_accelerometer_max', 'android_sensor_linear_acceleration_mean', 'android_sensor_rotation_vector_mean', 'android_sensor_rotation_vector_max', 'android_sensor_accelerometer_min', 'android_sensor_magnetic_field_uncalibrated_min', 'sound_min', 'acc_gyro', 'Lin_speed']</pre></div></div></div><div class=\"sk-serial\"><div class=\"sk-item\"><div class=\"sk-serial\"><div class=\"sk-item\"><div class=\"sk-estimator sk-toggleable\"><input class=\"sk-toggleable__control sk-hidden--visually\" id=\"d49fa53b-21dd-4827-9678-eac06a04b632\" type=\"checkbox\" ><label class=\"sk-toggleable__label\" for=\"d49fa53b-21dd-4827-9678-eac06a04b632\">SimpleImputer</label><div class=\"sk-toggleable__content\"><pre>SimpleImputer(strategy='median')</pre></div></div></div><div class=\"sk-item\"><div class=\"sk-estimator sk-toggleable\"><input class=\"sk-toggleable__control sk-hidden--visually\" id=\"c2d7948c-e3b3-4de6-a825-535266a5b256\" type=\"checkbox\" ><label class=\"sk-toggleable__label\" for=\"c2d7948c-e3b3-4de6-a825-535266a5b256\">MinMaxScaler</label><div class=\"sk-toggleable__content\"><pre>MinMaxScaler()</pre></div></div></div></div></div></div></div></div></div></div><div class=\"sk-item\"><div class=\"sk-estimator sk-toggleable\"><input class=\"sk-toggleable__control sk-hidden--visually\" id=\"7a8fedbe-7eab-4e99-9d00-e2a7831fcfda\" type=\"checkbox\" ><label class=\"sk-toggleable__label\" for=\"7a8fedbe-7eab-4e99-9d00-e2a7831fcfda\">GradientBoostingClassifier</label><div class=\"sk-toggleable__content\"><pre>GradientBoostingClassifier()</pre></div></div></div></div></div></div></div>"
      ],
      "text/plain": [
       "Pipeline(steps=[('columntransformer',\n",
       "                 ColumnTransformer(transformers=[('num',\n",
       "                                                  Pipeline(steps=[('imputer',\n",
       "                                                                   SimpleImputer(strategy='median')),\n",
       "                                                                  ('scalar',\n",
       "                                                                   MinMaxScaler())]),\n",
       "                                                  ['android_sensor_gyroscope_mean',\n",
       "                                                   'android_sensor_accelerometer_std',\n",
       "                                                   'android_sensor_gyroscope_std',\n",
       "                                                   'android_sensor_gyroscope_uncalibrated_mean',\n",
       "                                                   'android_sensor_accelerometer_max',\n",
       "                                                   'android_sensor_linear_acceleration_mean',\n",
       "                                                   'android_sensor_rotation_vector_mean',\n",
       "                                                   'android_sensor_rotation_vector_max',\n",
       "                                                   'android_sensor_accelerometer_min',\n",
       "                                                   'android_sensor_magnetic_field_uncalibrated_min',\n",
       "                                                   'sound_min', 'acc_gyro',\n",
       "                                                   'Lin_speed'])])),\n",
       "                ('gradientboostingclassifier', GradientBoostingClassifier())])"
      ]
     },
     "execution_count": 71,
     "metadata": {},
     "output_type": "execute_result"
    }
   ],
   "source": [
    "# pipeline for model\n",
    "classifier_models = {\n",
    "\"DecisionTreeClassifier\": DecisionTreeClassifier(),\n",
    "'KNeighborsClassifier':KNeighborsClassifier(),\n",
    "'LogisticRegression':LogisticRegression(),\n",
    "\"RandomForestClassifier\":RandomForestClassifier(),\n",
    "\"GradientBoostingClassifier\":GradientBoostingClassifier(),\n",
    "\"XGBClassifier\":XGBClassifier(),\n",
    "\"LGBMClassifier\":LGBMClassifier(),\n",
    "'GaussianNB':GaussianNB(),\n",
    "\n",
    "}\n",
    "# make pipline with  preprocessing \n",
    "classifier_models = {name: make_pipeline(preprocessor, model) for name, model in classifier_models.items()}\n",
    "classifier_models[\"GradientBoostingClassifier\"]"
   ]
  },
  {
   "cell_type": "code",
   "execution_count": 17,
   "id": "cff2d247",
   "metadata": {
    "ExecuteTime": {
     "end_time": "2021-05-19T01:10:39.732760Z",
     "start_time": "2021-05-19T01:10:29.225223Z"
    },
    "cell_id": "00018-a223c62b-d005-4dca-9b28-e4a8facfdae7",
    "deepnote_cell_type": "code",
    "deepnote_to_be_reexecuted": false,
    "execution_millis": 44618,
    "execution_start": 1621413664253,
    "source_hash": "9af53d33"
   },
   "outputs": [
    {
     "name": "stdout",
     "output_type": "stream",
     "text": [
      "[08:41:29] WARNING: ../src/learner.cc:1095: Starting in XGBoost 1.3.0, the default evaluation metric used with the objective 'multi:softprob' was changed from 'merror' to 'mlogloss'. Explicitly set eval_metric if you'd like to restore the old behavior.\n"
     ]
    },
    {
     "data": {
      "text/html": [
       "<style  type=\"text/css\" >\n",
       "#T_a5127_row0_col1,#T_a5127_row0_col2{\n",
       "            width:  10em;\n",
       "             height:  80%;\n",
       "            background:  linear-gradient(90deg,#5fba7d 96.8%, transparent 96.8%);\n",
       "        }#T_a5127_row1_col1,#T_a5127_row1_col2{\n",
       "            width:  10em;\n",
       "             height:  80%;\n",
       "            background:  linear-gradient(90deg,#5fba7d 96.2%, transparent 96.2%);\n",
       "        }#T_a5127_row2_col1{\n",
       "            width:  10em;\n",
       "             height:  80%;\n",
       "            background:  linear-gradient(90deg,#5fba7d 95.7%, transparent 95.7%);\n",
       "        }#T_a5127_row2_col2{\n",
       "            width:  10em;\n",
       "             height:  80%;\n",
       "            background:  linear-gradient(90deg,#5fba7d 95.4%, transparent 95.4%);\n",
       "        }#T_a5127_row3_col1{\n",
       "            width:  10em;\n",
       "             height:  80%;\n",
       "            background:  linear-gradient(90deg,#5fba7d 94.6%, transparent 94.6%);\n",
       "        }#T_a5127_row3_col2,#T_a5127_row4_col2{\n",
       "            width:  10em;\n",
       "             height:  80%;\n",
       "            background:  linear-gradient(90deg,#5fba7d 94.5%, transparent 94.5%);\n",
       "        }#T_a5127_row4_col1{\n",
       "            width:  10em;\n",
       "             height:  80%;\n",
       "            background:  linear-gradient(90deg,#5fba7d 94.3%, transparent 94.3%);\n",
       "        }#T_a5127_row5_col1{\n",
       "            width:  10em;\n",
       "             height:  80%;\n",
       "            background:  linear-gradient(90deg,#5fba7d 87.1%, transparent 87.1%);\n",
       "        }#T_a5127_row5_col2{\n",
       "            width:  10em;\n",
       "             height:  80%;\n",
       "            background:  linear-gradient(90deg,#5fba7d 87.5%, transparent 87.5%);\n",
       "        }#T_a5127_row6_col1{\n",
       "            width:  10em;\n",
       "             height:  80%;\n",
       "            background:  linear-gradient(90deg,#5fba7d 68.7%, transparent 68.7%);\n",
       "        }#T_a5127_row6_col2{\n",
       "            width:  10em;\n",
       "             height:  80%;\n",
       "            background:  linear-gradient(90deg,#5fba7d 70.0%, transparent 70.0%);\n",
       "        }</style><table id=\"T_a5127_\" ><thead>    <tr>        <th class=\"blank level0\" ></th>        <th class=\"col_heading level0 col0\" >Model</th>        <th class=\"col_heading level0 col1\" >Accuracy</th>        <th class=\"col_heading level0 col2\" >Bal Acc.</th>        <th class=\"col_heading level0 col3\" >Time</th>    </tr></thead><tbody>\n",
       "                <tr>\n",
       "                        <th id=\"T_a5127_level0_row0\" class=\"row_heading level0 row0\" >1</th>\n",
       "                        <td id=\"T_a5127_row0_col0\" class=\"data row0 col0\" >LGBMClassifier</td>\n",
       "                        <td id=\"T_a5127_row0_col1\" class=\"data row0 col1\" >96.840522</td>\n",
       "                        <td id=\"T_a5127_row0_col2\" class=\"data row0 col2\" >96.798966</td>\n",
       "                        <td id=\"T_a5127_row0_col3\" class=\"data row0 col3\" >2.603030</td>\n",
       "            </tr>\n",
       "            <tr>\n",
       "                        <th id=\"T_a5127_level0_row1\" class=\"row_heading level0 row1\" >2</th>\n",
       "                        <td id=\"T_a5127_row1_col0\" class=\"data row1 col0\" >XGBClassifier</td>\n",
       "                        <td id=\"T_a5127_row1_col1\" class=\"data row1 col1\" >96.188566</td>\n",
       "                        <td id=\"T_a5127_row1_col2\" class=\"data row1 col2\" >96.225113</td>\n",
       "                        <td id=\"T_a5127_row1_col3\" class=\"data row1 col3\" >18.257550</td>\n",
       "            </tr>\n",
       "            <tr>\n",
       "                        <th id=\"T_a5127_level0_row2\" class=\"row_heading level0 row2\" >3</th>\n",
       "                        <td id=\"T_a5127_row2_col0\" class=\"data row2 col0\" >GradientBoostingClassifier</td>\n",
       "                        <td id=\"T_a5127_row2_col1\" class=\"data row2 col1\" >95.737212</td>\n",
       "                        <td id=\"T_a5127_row2_col2\" class=\"data row2 col2\" >95.369891</td>\n",
       "                        <td id=\"T_a5127_row2_col3\" class=\"data row2 col3\" >19.306484</td>\n",
       "            </tr>\n",
       "            <tr>\n",
       "                        <th id=\"T_a5127_level0_row3\" class=\"row_heading level0 row3\" >4</th>\n",
       "                        <td id=\"T_a5127_row3_col0\" class=\"data row3 col0\" >RandomForestClassifier</td>\n",
       "                        <td id=\"T_a5127_row3_col1\" class=\"data row3 col1\" >94.633902</td>\n",
       "                        <td id=\"T_a5127_row3_col2\" class=\"data row3 col2\" >94.458534</td>\n",
       "                        <td id=\"T_a5127_row3_col3\" class=\"data row3 col3\" >2.100041</td>\n",
       "            </tr>\n",
       "            <tr>\n",
       "                        <th id=\"T_a5127_level0_row4\" class=\"row_heading level0 row4\" >5</th>\n",
       "                        <td id=\"T_a5127_row4_col0\" class=\"data row4 col0\" >DecisionTreeClassifier</td>\n",
       "                        <td id=\"T_a5127_row4_col1\" class=\"data row4 col1\" >94.282849</td>\n",
       "                        <td id=\"T_a5127_row4_col2\" class=\"data row4 col2\" >94.533498</td>\n",
       "                        <td id=\"T_a5127_row4_col3\" class=\"data row4 col3\" >0.136627</td>\n",
       "            </tr>\n",
       "            <tr>\n",
       "                        <th id=\"T_a5127_level0_row5\" class=\"row_heading level0 row5\" >6</th>\n",
       "                        <td id=\"T_a5127_row5_col0\" class=\"data row5 col0\" >KNeighborsClassifier</td>\n",
       "                        <td id=\"T_a5127_row5_col1\" class=\"data row5 col1\" >87.061184</td>\n",
       "                        <td id=\"T_a5127_row5_col2\" class=\"data row5 col2\" >87.473061</td>\n",
       "                        <td id=\"T_a5127_row5_col3\" class=\"data row5 col3\" >0.047893</td>\n",
       "            </tr>\n",
       "            <tr>\n",
       "                        <th id=\"T_a5127_level0_row6\" class=\"row_heading level0 row6\" >7</th>\n",
       "                        <td id=\"T_a5127_row6_col0\" class=\"data row6 col0\" >LogisticRegression</td>\n",
       "                        <td id=\"T_a5127_row6_col1\" class=\"data row6 col1\" >68.706118</td>\n",
       "                        <td id=\"T_a5127_row6_col2\" class=\"data row6 col2\" >70.018030</td>\n",
       "                        <td id=\"T_a5127_row6_col3\" class=\"data row6 col3\" >0.525308</td>\n",
       "            </tr>\n",
       "    </tbody></table>"
      ],
      "text/plain": [
       "<pandas.io.formats.style.Styler at 0x7f02dfc8a710>"
      ]
     },
     "execution_count": 17,
     "metadata": {},
     "output_type": "execute_result"
    }
   ],
   "source": [
    "\n",
    "\n",
    "x_train, x_val, y_train, y_val = train_test_split(X, y,test_size=0.4,stratify = y,random_state=10 )\n",
    "results = pd.DataFrame({'Model': [], 'Accuracy': [], 'Bal Acc.': [],'Time': []})\n",
    "for model_name, model in classifier_models.items():\n",
    "    start_time = time.time()\n",
    "    model.fit(x_train, y_train)\n",
    "    total_time = time.time() - start_time\n",
    "    valid_pred = model.predict(x_val)\n",
    "    results = results.append({\"Model\":    model_name,\n",
    "                              \"Accuracy\": accuracy_score(y_val, valid_pred)*100,\n",
    "                              \"Bal Acc.\": balanced_accuracy_score(y_val, valid_pred)*100,\n",
    "                    \n",
    "                              \"Time\":     total_time},\n",
    "                              ignore_index=True)\n",
    "results_ord = results.sort_values(by=['Accuracy'], ascending=False, ignore_index=True)\n",
    "results_ord.index += 1 \n",
    "results_ord.style.bar(subset=['Accuracy', 'Bal Acc.'], vmin=0, vmax=100, color='#5fba7d')\n"
   ]
  },
  {
   "cell_type": "markdown",
   "id": "ff0e00aa",
   "metadata": {
    "cell_id": "00019-f27d4a7c-807c-40af-a2ec-086ee9c96b8a",
    "deepnote_cell_type": "markdown"
   },
   "source": [
    "# Best model for test data  "
   ]
  },
  {
   "cell_type": "code",
   "execution_count": 21,
   "id": "c6fea1f7",
   "metadata": {
    "ExecuteTime": {
     "end_time": "2021-05-19T01:11:32.280928Z",
     "start_time": "2021-05-19T01:11:32.277564Z"
    },
    "cell_id": "00021-ba896ca9-57d8-4edc-a023-b613bfc8d3dc",
    "deepnote_cell_type": "code",
    "deepnote_to_be_reexecuted": false,
    "execution_millis": 1,
    "execution_start": 1621413753530,
    "source_hash": "55e59264"
   },
   "outputs": [],
   "source": [
    "best_model=LGBMClassifier()\n",
    "name='LGBMClassifier'"
   ]
  },
  {
   "cell_type": "code",
   "execution_count": 20,
   "id": "9ff4a360",
   "metadata": {
    "ExecuteTime": {
     "end_time": "2021-05-19T01:11:34.741331Z",
     "start_time": "2021-05-19T01:11:34.738155Z"
    },
    "cell_id": "00022-3bd4bf33-bea3-41f7-be97-07d996302aa5",
    "deepnote_cell_type": "code",
    "deepnote_to_be_reexecuted": false,
    "execution_millis": 0,
    "execution_start": 1621413735197,
    "source_hash": "82d06185"
   },
   "outputs": [],
   "source": [
    "clf=Pipeline([('preprocess',preprocessor),('classification',best_model)])"
   ]
  },
  {
   "cell_type": "code",
   "execution_count": 73,
   "id": "f46aa7cd",
   "metadata": {
    "ExecuteTime": {
     "end_time": "2021-05-19T01:15:35.013063Z",
     "start_time": "2021-05-19T01:15:18.195134Z"
    },
    "cell_id": "00023-55ac1e59-0241-48dc-97aa-db64bdc9bc4b",
    "deepnote_cell_type": "code",
    "deepnote_to_be_reexecuted": false,
    "execution_millis": 177600,
    "execution_start": 1621417545124,
    "source_hash": "419bd42d"
   },
   "outputs": [
    {
     "name": "stdout",
     "output_type": "stream",
     "text": [
      "[09:46:22] WARNING: ../src/learner.cc:1095: Starting in XGBoost 1.3.0, the default evaluation metric used with the objective 'multi:softprob' was changed from 'merror' to 'mlogloss'. Explicitly set eval_metric if you'd like to restore the old behavior.\n"
     ]
    },
    {
     "data": {
      "text/html": [
       "<style  type=\"text/css\" >\n",
       "#T_d7841_row0_col1{\n",
       "            width:  10em;\n",
       "             height:  80%;\n",
       "            background:  linear-gradient(90deg,#5fba7d 83.8%, transparent 83.8%);\n",
       "        }#T_d7841_row0_col2{\n",
       "            width:  10em;\n",
       "             height:  80%;\n",
       "            background:  linear-gradient(90deg,#5fba7d 93.1%, transparent 93.1%);\n",
       "        }#T_d7841_row1_col1{\n",
       "            width:  10em;\n",
       "             height:  80%;\n",
       "            background:  linear-gradient(90deg,#5fba7d 76.2%, transparent 76.2%);\n",
       "        }#T_d7841_row1_col2{\n",
       "            width:  10em;\n",
       "             height:  80%;\n",
       "            background:  linear-gradient(90deg,#5fba7d 83.2%, transparent 83.2%);\n",
       "        }#T_d7841_row2_col1{\n",
       "            width:  10em;\n",
       "             height:  80%;\n",
       "            background:  linear-gradient(90deg,#5fba7d 72.9%, transparent 72.9%);\n",
       "        }#T_d7841_row2_col2{\n",
       "            width:  10em;\n",
       "             height:  80%;\n",
       "            background:  linear-gradient(90deg,#5fba7d 81.3%, transparent 81.3%);\n",
       "        }#T_d7841_row3_col1{\n",
       "            width:  10em;\n",
       "             height:  80%;\n",
       "            background:  linear-gradient(90deg,#5fba7d 70.8%, transparent 70.8%);\n",
       "        }#T_d7841_row3_col2{\n",
       "            width:  10em;\n",
       "             height:  80%;\n",
       "            background:  linear-gradient(90deg,#5fba7d 79.7%, transparent 79.7%);\n",
       "        }#T_d7841_row4_col1{\n",
       "            width:  10em;\n",
       "             height:  80%;\n",
       "            background:  linear-gradient(90deg,#5fba7d 64.6%, transparent 64.6%);\n",
       "        }#T_d7841_row4_col2{\n",
       "            width:  10em;\n",
       "             height:  80%;\n",
       "            background:  linear-gradient(90deg,#5fba7d 72.8%, transparent 72.8%);\n",
       "        }#T_d7841_row5_col1{\n",
       "            width:  10em;\n",
       "             height:  80%;\n",
       "            background:  linear-gradient(90deg,#5fba7d 47.1%, transparent 47.1%);\n",
       "        }#T_d7841_row5_col2{\n",
       "            width:  10em;\n",
       "             height:  80%;\n",
       "            background:  linear-gradient(90deg,#5fba7d 53.9%, transparent 53.9%);\n",
       "        }#T_d7841_row6_col1{\n",
       "            width:  10em;\n",
       "             height:  80%;\n",
       "            background:  linear-gradient(90deg,#5fba7d 41.5%, transparent 41.5%);\n",
       "        }#T_d7841_row6_col2{\n",
       "            width:  10em;\n",
       "             height:  80%;\n",
       "            background:  linear-gradient(90deg,#5fba7d 42.6%, transparent 42.6%);\n",
       "        }</style><table id=\"T_d7841_\" ><thead>    <tr>        <th class=\"blank level0\" ></th>        <th class=\"col_heading level0 col0\" >Model</th>        <th class=\"col_heading level0 col1\" >Accuracy</th>        <th class=\"col_heading level0 col2\" >Bal Acc.</th>        <th class=\"col_heading level0 col3\" >Time</th>    </tr></thead><tbody>\n",
       "                <tr>\n",
       "                        <th id=\"T_d7841_level0_row0\" class=\"row_heading level0 row0\" >1</th>\n",
       "                        <td id=\"T_d7841_row0_col0\" class=\"data row0 col0\" >LGBMClassifier</td>\n",
       "                        <td id=\"T_d7841_row0_col1\" class=\"data row0 col1\" >83.810573</td>\n",
       "                        <td id=\"T_d7841_row0_col2\" class=\"data row0 col2\" >93.101400</td>\n",
       "                        <td id=\"T_d7841_row0_col3\" class=\"data row0 col3\" >82.700469</td>\n",
       "            </tr>\n",
       "            <tr>\n",
       "                        <th id=\"T_d7841_level0_row1\" class=\"row_heading level0 row1\" >2</th>\n",
       "                        <td id=\"T_d7841_row1_col0\" class=\"data row1 col0\" >XGBClassifier</td>\n",
       "                        <td id=\"T_d7841_row1_col1\" class=\"data row1 col1\" >76.211454</td>\n",
       "                        <td id=\"T_d7841_row1_col2\" class=\"data row1 col2\" >83.216316</td>\n",
       "                        <td id=\"T_d7841_row1_col3\" class=\"data row1 col3\" >58.787852</td>\n",
       "            </tr>\n",
       "            <tr>\n",
       "                        <th id=\"T_d7841_level0_row2\" class=\"row_heading level0 row2\" >3</th>\n",
       "                        <td id=\"T_d7841_row2_col0\" class=\"data row2 col0\" >GradientBoostingClassifier</td>\n",
       "                        <td id=\"T_d7841_row2_col1\" class=\"data row2 col1\" >72.907489</td>\n",
       "                        <td id=\"T_d7841_row2_col2\" class=\"data row2 col2\" >81.327180</td>\n",
       "                        <td id=\"T_d7841_row2_col3\" class=\"data row2 col3\" >30.693632</td>\n",
       "            </tr>\n",
       "            <tr>\n",
       "                        <th id=\"T_d7841_level0_row3\" class=\"row_heading level0 row3\" >4</th>\n",
       "                        <td id=\"T_d7841_row3_col0\" class=\"data row3 col0\" >DecisionTreeClassifier</td>\n",
       "                        <td id=\"T_d7841_row3_col1\" class=\"data row3 col1\" >70.814978</td>\n",
       "                        <td id=\"T_d7841_row3_col2\" class=\"data row3 col2\" >79.672170</td>\n",
       "                        <td id=\"T_d7841_row3_col3\" class=\"data row3 col3\" >0.195260</td>\n",
       "            </tr>\n",
       "            <tr>\n",
       "                        <th id=\"T_d7841_level0_row4\" class=\"row_heading level0 row4\" >5</th>\n",
       "                        <td id=\"T_d7841_row4_col0\" class=\"data row4 col0\" >RandomForestClassifier</td>\n",
       "                        <td id=\"T_d7841_row4_col1\" class=\"data row4 col1\" >64.647577</td>\n",
       "                        <td id=\"T_d7841_row4_col2\" class=\"data row4 col2\" >72.793290</td>\n",
       "                        <td id=\"T_d7841_row4_col3\" class=\"data row4 col3\" >3.187413</td>\n",
       "            </tr>\n",
       "            <tr>\n",
       "                        <th id=\"T_d7841_level0_row5\" class=\"row_heading level0 row5\" >6</th>\n",
       "                        <td id=\"T_d7841_row5_col0\" class=\"data row5 col0\" >LogisticRegression</td>\n",
       "                        <td id=\"T_d7841_row5_col1\" class=\"data row5 col1\" >47.136564</td>\n",
       "                        <td id=\"T_d7841_row5_col2\" class=\"data row5 col2\" >53.901479</td>\n",
       "                        <td id=\"T_d7841_row5_col3\" class=\"data row5 col3\" >1.148883</td>\n",
       "            </tr>\n",
       "            <tr>\n",
       "                        <th id=\"T_d7841_level0_row6\" class=\"row_heading level0 row6\" >7</th>\n",
       "                        <td id=\"T_d7841_row6_col0\" class=\"data row6 col0\" >KNeighborsClassifier</td>\n",
       "                        <td id=\"T_d7841_row6_col1\" class=\"data row6 col1\" >41.519824</td>\n",
       "                        <td id=\"T_d7841_row6_col2\" class=\"data row6 col2\" >42.627665</td>\n",
       "                        <td id=\"T_d7841_row6_col3\" class=\"data row6 col3\" >0.073788</td>\n",
       "            </tr>\n",
       "    </tbody></table>"
      ],
      "text/plain": [
       "<pandas.io.formats.style.Styler at 0x7f02b786ed10>"
      ]
     },
     "execution_count": 73,
     "metadata": {},
     "output_type": "execute_result"
    }
   ],
   "source": [
    "\n",
    "test_result = pd.DataFrame({'Model': [], 'Accuracy': [], 'Bal Acc.': [],'Time': []})\n",
    "for model_name, model in classifier_models.items():\n",
    "    start_time = time.time()\n",
    "    model.fit(X, y)\n",
    "    total_time = time.time() - start_time\n",
    "    pred = model.predict(X_test)\n",
    "    test_result = test_result.append({\"Model\":    model_name,\n",
    "                              \"Accuracy\": accuracy_score(y_test, pred)*100,\n",
    "                              \"Bal Acc.\": balanced_accuracy_score(y_test, pred)*100,\n",
    "                              \"Time\":     total_time},\n",
    "                              ignore_index=True)\n",
    "test_result_ord = test_result.sort_values(by=['Accuracy'], ascending=False, ignore_index=True)\n",
    "test_result_ord.index += 1 \n",
    "test_result_ord.style.bar(subset=['Accuracy', 'Bal Acc.'], vmin=0, vmax=100, color='#5fba7d')\n"
   ]
  },
  {
   "cell_type": "code",
   "execution_count": 57,
   "id": "5a40e494",
   "metadata": {
    "ExecuteTime": {
     "end_time": "2021-05-19T01:16:17.394315Z",
     "start_time": "2021-05-19T01:16:17.349114Z"
    },
    "cell_id": "00024-be510553-ffa9-4232-9c75-cc78fefd53ae",
    "deepnote_cell_type": "code",
    "deepnote_to_be_reexecuted": false,
    "execution_millis": 32,
    "execution_start": 1621411498507,
    "source_hash": "807607c0"
   },
   "outputs": [
    {
     "name": "stdout",
     "output_type": "stream",
     "text": [
      "              precision    recall  f1-score   support\n",
      "\n",
      "         Bus       0.73      0.92      0.81       164\n",
      "         Car       0.44      1.00      0.61        34\n",
      "       Still       0.65      0.99      0.79        76\n",
      "       Train       1.00      0.99      0.99        86\n",
      "     Walking       0.99      0.76      0.86       548\n",
      "\n",
      "    accuracy                           0.84       908\n",
      "   macro avg       0.76      0.93      0.81       908\n",
      "weighted avg       0.89      0.84      0.85       908\n",
      "\n",
      "\n",
      "[[151   8   0   0   5]\n",
      " [  0  34   0   0   0]\n",
      " [  0   0  75   0   1]\n",
      " [  0   1   0  85   0]\n",
      " [ 57  35  40   0 416]]\n"
     ]
    }
   ],
   "source": [
    "print(classification_report(y_test, pred))\n",
    "print()\n",
    "print(confusion_matrix(y_test, pred))"
   ]
  },
  {
   "cell_type": "markdown",
   "id": "703b919e",
   "metadata": {
    "cell_id": "00025-04dcb31f-2c66-4c89-956a-0e50837401d2",
    "deepnote_cell_type": "text-cell-h1",
    "tags": []
   },
   "source": [
    "# Drop car  category "
   ]
  },
  {
   "cell_type": "code",
   "execution_count": 27,
   "id": "67678327",
   "metadata": {
    "cell_id": "00026-4e8ec8d9-73fe-4098-a104-b64f1b201dee",
    "deepnote_cell_type": "code",
    "deepnote_to_be_reexecuted": false,
    "execution_millis": 0,
    "execution_start": 1621414154518,
    "source_hash": "1307de0a",
    "tags": []
   },
   "outputs": [],
   "source": [
    "df_test_1   =df_test[df_test['target']!='Car']\n",
    "df_train_1  =df_train[df_train['target']!='Car']"
   ]
  },
  {
   "cell_type": "code",
   "execution_count": 28,
   "id": "6ccf49c5",
   "metadata": {
    "cell_id": "00027-6a8851e1-bdec-4889-941b-a4753e4207ed",
    "deepnote_cell_type": "code",
    "deepnote_to_be_reexecuted": false,
    "execution_millis": 15,
    "execution_start": 1621414157127,
    "source_hash": "946fc65d",
    "tags": []
   },
   "outputs": [
    {
     "name": "stdout",
     "output_type": "stream",
     "text": [
      "908\n",
      "(4985, 14)\n"
     ]
    }
   ],
   "source": [
    "print(df_test.shape[0])\n",
    "print(df_train.shape)"
   ]
  },
  {
   "cell_type": "markdown",
   "id": "6d999a5c",
   "metadata": {
    "cell_id": "00024-137a78bb-5756-467f-ad76-5bbfd5d04862",
    "deepnote_cell_type": "text-cell-h1",
    "tags": []
   },
   "source": [
    "# How much info reduced "
   ]
  },
  {
   "cell_type": "code",
   "execution_count": 32,
   "id": "08ab8be5",
   "metadata": {
    "cell_id": "00028-4a7805db-604d-4700-a90b-0bc2dbd69c7c",
    "deepnote_cell_type": "code",
    "deepnote_to_be_reexecuted": false,
    "execution_millis": 0,
    "execution_start": 1621414246188,
    "source_hash": "35b01305",
    "tags": []
   },
   "outputs": [
    {
     "name": "stdout",
     "output_type": "stream",
     "text": [
      " After drop Car category we  reduce \n",
      " test data 3.7444933920704813 % \n",
      " train data 22.988966900702096 %\n"
     ]
    }
   ],
   "source": [
    "print(f\" After drop Car category we  reduce \\n test data {100-df_test_1.shape[0]/df_test.shape[0]*100} % \\n train data {100-df_train_1.shape[0]/df_train.shape[0]*100} %\")"
   ]
  },
  {
   "cell_type": "code",
   "execution_count": 33,
   "id": "f65f29c9",
   "metadata": {
    "cell_id": "00029-c900fbeb-079d-40a0-a81f-d8dff5cd5a68",
    "deepnote_cell_type": "code",
    "deepnote_to_be_reexecuted": false,
    "execution_millis": 8,
    "execution_start": 1621414252239,
    "source_hash": "38cdb65c",
    "tags": []
   },
   "outputs": [
    {
     "name": "stdout",
     "output_type": "stream",
     "text": [
      "(3839, 14)\n",
      "(874, 14)\n"
     ]
    }
   ],
   "source": [
    "print(df_train_1.shape)\n",
    "print(df_test_1.shape)"
   ]
  },
  {
   "cell_type": "code",
   "execution_count": 34,
   "id": "e63b29b2",
   "metadata": {
    "cell_id": "00030-08ed8b21-f737-4e2d-90e4-bff9013a959c",
    "deepnote_cell_type": "code",
    "deepnote_to_be_reexecuted": false,
    "execution_millis": 5,
    "execution_start": 1621414258916,
    "source_hash": "917bd436",
    "tags": []
   },
   "outputs": [],
   "source": [
    "X_=df_train_1.drop('target',axis=1)\n",
    "y_=df_train_1.target\n",
    "X_test_=df_test_1.drop('target',axis=1)\n",
    "y_test_=df_test_1.target"
   ]
  },
  {
   "cell_type": "markdown",
   "id": "cb285e71",
   "metadata": {
    "cell_id": "00033-7cac29db-3436-4297-88eb-77d5b0a5b039",
    "deepnote_cell_type": "text-cell-h1",
    "tags": []
   },
   "source": [
    "# train data "
   ]
  },
  {
   "cell_type": "code",
   "execution_count": 38,
   "id": "11792314",
   "metadata": {
    "cell_id": "00034-ee0da9f9-3225-4109-baf7-3d8082760483",
    "deepnote_cell_type": "code",
    "deepnote_to_be_reexecuted": false,
    "execution_millis": 34209,
    "execution_start": 1621414428155,
    "source_hash": "28cdafb0",
    "tags": []
   },
   "outputs": [
    {
     "name": "stdout",
     "output_type": "stream",
     "text": [
      "[08:54:01] WARNING: ../src/learner.cc:1095: Starting in XGBoost 1.3.0, the default evaluation metric used with the objective 'multi:softprob' was changed from 'merror' to 'mlogloss'. Explicitly set eval_metric if you'd like to restore the old behavior.\n"
     ]
    },
    {
     "data": {
      "text/html": [
       "<style  type=\"text/css\" >\n",
       "#T_1f268_row0_col1{\n",
       "            width:  10em;\n",
       "             height:  80%;\n",
       "            background:  linear-gradient(90deg,#5fba7d 98.4%, transparent 98.4%);\n",
       "        }#T_1f268_row0_col2,#T_1f268_row1_col1,#T_1f268_row1_col2{\n",
       "            width:  10em;\n",
       "             height:  80%;\n",
       "            background:  linear-gradient(90deg,#5fba7d 98.3%, transparent 98.3%);\n",
       "        }#T_1f268_row2_col1{\n",
       "            width:  10em;\n",
       "             height:  80%;\n",
       "            background:  linear-gradient(90deg,#5fba7d 98.2%, transparent 98.2%);\n",
       "        }#T_1f268_row2_col2{\n",
       "            width:  10em;\n",
       "             height:  80%;\n",
       "            background:  linear-gradient(90deg,#5fba7d 98.0%, transparent 98.0%);\n",
       "        }#T_1f268_row3_col1,#T_1f268_row3_col2{\n",
       "            width:  10em;\n",
       "             height:  80%;\n",
       "            background:  linear-gradient(90deg,#5fba7d 97.3%, transparent 97.3%);\n",
       "        }#T_1f268_row4_col1,#T_1f268_row4_col2{\n",
       "            width:  10em;\n",
       "             height:  80%;\n",
       "            background:  linear-gradient(90deg,#5fba7d 96.7%, transparent 96.7%);\n",
       "        }#T_1f268_row5_col1{\n",
       "            width:  10em;\n",
       "             height:  80%;\n",
       "            background:  linear-gradient(90deg,#5fba7d 93.9%, transparent 93.9%);\n",
       "        }#T_1f268_row5_col2{\n",
       "            width:  10em;\n",
       "             height:  80%;\n",
       "            background:  linear-gradient(90deg,#5fba7d 94.0%, transparent 94.0%);\n",
       "        }#T_1f268_row6_col1{\n",
       "            width:  10em;\n",
       "             height:  80%;\n",
       "            background:  linear-gradient(90deg,#5fba7d 78.2%, transparent 78.2%);\n",
       "        }#T_1f268_row6_col2{\n",
       "            width:  10em;\n",
       "             height:  80%;\n",
       "            background:  linear-gradient(90deg,#5fba7d 79.2%, transparent 79.2%);\n",
       "        }</style><table id=\"T_1f268_\" ><thead>    <tr>        <th class=\"blank level0\" ></th>        <th class=\"col_heading level0 col0\" >Model</th>        <th class=\"col_heading level0 col1\" >Accuracy</th>        <th class=\"col_heading level0 col2\" >Bal Acc.</th>        <th class=\"col_heading level0 col3\" >Time</th>    </tr></thead><tbody>\n",
       "                <tr>\n",
       "                        <th id=\"T_1f268_level0_row0\" class=\"row_heading level0 row0\" >1</th>\n",
       "                        <td id=\"T_1f268_row0_col0\" class=\"data row0 col0\" >LGBMClassifier</td>\n",
       "                        <td id=\"T_1f268_row0_col1\" class=\"data row0 col1\" >98.372396</td>\n",
       "                        <td id=\"T_1f268_row0_col2\" class=\"data row0 col2\" >98.330783</td>\n",
       "                        <td id=\"T_1f268_row0_col3\" class=\"data row0 col3\" >3.926706</td>\n",
       "            </tr>\n",
       "            <tr>\n",
       "                        <th id=\"T_1f268_level0_row1\" class=\"row_heading level0 row1\" >2</th>\n",
       "                        <td id=\"T_1f268_row1_col0\" class=\"data row1 col0\" >XGBClassifier</td>\n",
       "                        <td id=\"T_1f268_row1_col1\" class=\"data row1 col1\" >98.307292</td>\n",
       "                        <td id=\"T_1f268_row1_col2\" class=\"data row1 col2\" >98.260990</td>\n",
       "                        <td id=\"T_1f268_row1_col3\" class=\"data row1 col3\" >16.964544</td>\n",
       "            </tr>\n",
       "            <tr>\n",
       "                        <th id=\"T_1f268_level0_row2\" class=\"row_heading level0 row2\" >3</th>\n",
       "                        <td id=\"T_1f268_row2_col0\" class=\"data row2 col0\" >GradientBoostingClassifier</td>\n",
       "                        <td id=\"T_1f268_row2_col1\" class=\"data row2 col1\" >98.177083</td>\n",
       "                        <td id=\"T_1f268_row2_col2\" class=\"data row2 col2\" >97.958423</td>\n",
       "                        <td id=\"T_1f268_row2_col3\" class=\"data row2 col3\" >10.439243</td>\n",
       "            </tr>\n",
       "            <tr>\n",
       "                        <th id=\"T_1f268_level0_row3\" class=\"row_heading level0 row3\" >4</th>\n",
       "                        <td id=\"T_1f268_row3_col0\" class=\"data row3 col0\" >RandomForestClassifier</td>\n",
       "                        <td id=\"T_1f268_row3_col1\" class=\"data row3 col1\" >97.330729</td>\n",
       "                        <td id=\"T_1f268_row3_col2\" class=\"data row3 col2\" >97.275189</td>\n",
       "                        <td id=\"T_1f268_row3_col3\" class=\"data row3 col3\" >1.441693</td>\n",
       "            </tr>\n",
       "            <tr>\n",
       "                        <th id=\"T_1f268_level0_row4\" class=\"row_heading level0 row4\" >5</th>\n",
       "                        <td id=\"T_1f268_row4_col0\" class=\"data row4 col0\" >DecisionTreeClassifier</td>\n",
       "                        <td id=\"T_1f268_row4_col1\" class=\"data row4 col1\" >96.744792</td>\n",
       "                        <td id=\"T_1f268_row4_col2\" class=\"data row4 col2\" >96.693791</td>\n",
       "                        <td id=\"T_1f268_row4_col3\" class=\"data row4 col3\" >0.104713</td>\n",
       "            </tr>\n",
       "            <tr>\n",
       "                        <th id=\"T_1f268_level0_row5\" class=\"row_heading level0 row5\" >6</th>\n",
       "                        <td id=\"T_1f268_row5_col0\" class=\"data row5 col0\" >KNeighborsClassifier</td>\n",
       "                        <td id=\"T_1f268_row5_col1\" class=\"data row5 col1\" >93.880208</td>\n",
       "                        <td id=\"T_1f268_row5_col2\" class=\"data row5 col2\" >94.015472</td>\n",
       "                        <td id=\"T_1f268_row5_col3\" class=\"data row5 col3\" >0.056704</td>\n",
       "            </tr>\n",
       "            <tr>\n",
       "                        <th id=\"T_1f268_level0_row6\" class=\"row_heading level0 row6\" >7</th>\n",
       "                        <td id=\"T_1f268_row6_col0\" class=\"data row6 col0\" >LogisticRegression</td>\n",
       "                        <td id=\"T_1f268_row6_col1\" class=\"data row6 col1\" >78.190104</td>\n",
       "                        <td id=\"T_1f268_row6_col2\" class=\"data row6 col2\" >79.199020</td>\n",
       "                        <td id=\"T_1f268_row6_col3\" class=\"data row6 col3\" >0.393040</td>\n",
       "            </tr>\n",
       "    </tbody></table>"
      ],
      "text/plain": [
       "<pandas.io.formats.style.Styler at 0x7f02d55f0b10>"
      ]
     },
     "execution_count": 38,
     "metadata": {},
     "output_type": "execute_result"
    }
   ],
   "source": [
    "x_train_, x_val_, y_train_, y_val_ = train_test_split(X_, y_,test_size=0.4,stratify = y_,random_state=10 )\n",
    "result_new = pd.DataFrame({'Model': [], 'Accuracy': [], 'Bal Acc.': [],'Time': []})\n",
    "for model_name, model in classifier_models.items():\n",
    "    start_time_ = time.time()\n",
    "    model.fit(x_train_, y_train_)\n",
    "    total_time_= time.time() - start_time_\n",
    "    valid_pred_new = model.predict(x_val_)\n",
    "    result_new = result_new.append({\"Model\":    model_name,\n",
    "                              \"Accuracy\": accuracy_score(y_val_, valid_pred_new)*100,\n",
    "                              \"Bal Acc.\": balanced_accuracy_score(y_val_, valid_pred_new)*100,\n",
    "                              \"Time\":     total_time_},\n",
    "                              ignore_index=True)\n",
    "result_new_ord = result_new.sort_values(by=['Accuracy'], ascending=False, ignore_index=True)\n",
    "result_new_ord.index += 1 \n",
    "result_new_ord.style.bar(subset=['Accuracy', 'Bal Acc.'], vmin=0, vmax=100, color='#5fba7d')"
   ]
  },
  {
   "cell_type": "markdown",
   "id": "d8b9e2e0",
   "metadata": {
    "cell_id": "00035-90357c0d-657a-4201-bd8f-293c0bab04ce",
    "deepnote_cell_type": "text-cell-h1",
    "tags": []
   },
   "source": [
    "# for test "
   ]
  },
  {
   "cell_type": "code",
   "execution_count": 40,
   "id": "6fc36b93",
   "metadata": {
    "cell_id": "00036-d9239013-4583-4475-83c6-33fae7438f84",
    "deepnote_cell_type": "code",
    "deepnote_to_be_reexecuted": false,
    "execution_millis": 26820,
    "execution_start": 1621414566433,
    "source_hash": "268c5720",
    "tags": []
   },
   "outputs": [
    {
     "name": "stdout",
     "output_type": "stream",
     "text": [
      "[08:56:20] WARNING: ../src/learner.cc:1095: Starting in XGBoost 1.3.0, the default evaluation metric used with the objective 'multi:softprob' was changed from 'merror' to 'mlogloss'. Explicitly set eval_metric if you'd like to restore the old behavior.\n"
     ]
    },
    {
     "data": {
      "text/html": [
       "<style  type=\"text/css\" >\n",
       "#T_a097e_row0_col1{\n",
       "            width:  10em;\n",
       "             height:  80%;\n",
       "            background:  linear-gradient(90deg,#5fba7d 86.7%, transparent 86.7%);\n",
       "        }#T_a097e_row0_col2{\n",
       "            width:  10em;\n",
       "             height:  80%;\n",
       "            background:  linear-gradient(90deg,#5fba7d 93.7%, transparent 93.7%);\n",
       "        }#T_a097e_row1_col1{\n",
       "            width:  10em;\n",
       "             height:  80%;\n",
       "            background:  linear-gradient(90deg,#5fba7d 85.9%, transparent 85.9%);\n",
       "        }#T_a097e_row1_col2{\n",
       "            width:  10em;\n",
       "             height:  80%;\n",
       "            background:  linear-gradient(90deg,#5fba7d 92.3%, transparent 92.3%);\n",
       "        }#T_a097e_row2_col1{\n",
       "            width:  10em;\n",
       "             height:  80%;\n",
       "            background:  linear-gradient(90deg,#5fba7d 80.9%, transparent 80.9%);\n",
       "        }#T_a097e_row2_col2{\n",
       "            width:  10em;\n",
       "             height:  80%;\n",
       "            background:  linear-gradient(90deg,#5fba7d 89.6%, transparent 89.6%);\n",
       "        }#T_a097e_row3_col1{\n",
       "            width:  10em;\n",
       "             height:  80%;\n",
       "            background:  linear-gradient(90deg,#5fba7d 68.3%, transparent 68.3%);\n",
       "        }#T_a097e_row3_col2{\n",
       "            width:  10em;\n",
       "             height:  80%;\n",
       "            background:  linear-gradient(90deg,#5fba7d 79.6%, transparent 79.6%);\n",
       "        }#T_a097e_row4_col1{\n",
       "            width:  10em;\n",
       "             height:  80%;\n",
       "            background:  linear-gradient(90deg,#5fba7d 65.7%, transparent 65.7%);\n",
       "        }#T_a097e_row4_col2{\n",
       "            width:  10em;\n",
       "             height:  80%;\n",
       "            background:  linear-gradient(90deg,#5fba7d 84.0%, transparent 84.0%);\n",
       "        }#T_a097e_row5_col1{\n",
       "            width:  10em;\n",
       "             height:  80%;\n",
       "            background:  linear-gradient(90deg,#5fba7d 53.9%, transparent 53.9%);\n",
       "        }#T_a097e_row5_col2{\n",
       "            width:  10em;\n",
       "             height:  80%;\n",
       "            background:  linear-gradient(90deg,#5fba7d 63.1%, transparent 63.1%);\n",
       "        }#T_a097e_row6_col1{\n",
       "            width:  10em;\n",
       "             height:  80%;\n",
       "            background:  linear-gradient(90deg,#5fba7d 51.3%, transparent 51.3%);\n",
       "        }#T_a097e_row6_col2{\n",
       "            width:  10em;\n",
       "             height:  80%;\n",
       "            background:  linear-gradient(90deg,#5fba7d 69.9%, transparent 69.9%);\n",
       "        }</style><table id=\"T_a097e_\" ><thead>    <tr>        <th class=\"blank level0\" ></th>        <th class=\"col_heading level0 col0\" >Model</th>        <th class=\"col_heading level0 col1\" >Accuracy</th>        <th class=\"col_heading level0 col2\" >Bal Acc.</th>        <th class=\"col_heading level0 col3\" >Time</th>    </tr></thead><tbody>\n",
       "                <tr>\n",
       "                        <th id=\"T_a097e_level0_row0\" class=\"row_heading level0 row0\" >1</th>\n",
       "                        <td id=\"T_a097e_row0_col0\" class=\"data row0 col0\" >LGBMClassifier</td>\n",
       "                        <td id=\"T_a097e_row0_col1\" class=\"data row0 col1\" >86.727689</td>\n",
       "                        <td id=\"T_a097e_row0_col2\" class=\"data row0 col2\" >93.676972</td>\n",
       "                        <td id=\"T_a097e_row0_col3\" class=\"data row0 col3\" >6.569595</td>\n",
       "            </tr>\n",
       "            <tr>\n",
       "                        <th id=\"T_a097e_level0_row1\" class=\"row_heading level0 row1\" >2</th>\n",
       "                        <td id=\"T_a097e_row1_col0\" class=\"data row1 col0\" >XGBClassifier</td>\n",
       "                        <td id=\"T_a097e_row1_col1\" class=\"data row1 col1\" >85.926773</td>\n",
       "                        <td id=\"T_a097e_row1_col2\" class=\"data row1 col2\" >92.289443</td>\n",
       "                        <td id=\"T_a097e_row1_col3\" class=\"data row1 col3\" >6.298155</td>\n",
       "            </tr>\n",
       "            <tr>\n",
       "                        <th id=\"T_a097e_level0_row2\" class=\"row_heading level0 row2\" >3</th>\n",
       "                        <td id=\"T_a097e_row2_col0\" class=\"data row2 col0\" >GradientBoostingClassifier</td>\n",
       "                        <td id=\"T_a097e_row2_col1\" class=\"data row2 col1\" >80.892449</td>\n",
       "                        <td id=\"T_a097e_row2_col2\" class=\"data row2 col2\" >89.641232</td>\n",
       "                        <td id=\"T_a097e_row2_col3\" class=\"data row2 col3\" >11.688740</td>\n",
       "            </tr>\n",
       "            <tr>\n",
       "                        <th id=\"T_a097e_level0_row3\" class=\"row_heading level0 row3\" >4</th>\n",
       "                        <td id=\"T_a097e_row3_col0\" class=\"data row3 col0\" >RandomForestClassifier</td>\n",
       "                        <td id=\"T_a097e_row3_col1\" class=\"data row3 col1\" >68.306636</td>\n",
       "                        <td id=\"T_a097e_row3_col2\" class=\"data row3 col2\" >79.639640</td>\n",
       "                        <td id=\"T_a097e_row3_col3\" class=\"data row3 col3\" >1.366956</td>\n",
       "            </tr>\n",
       "            <tr>\n",
       "                        <th id=\"T_a097e_level0_row4\" class=\"row_heading level0 row4\" >5</th>\n",
       "                        <td id=\"T_a097e_row4_col0\" class=\"data row4 col0\" >DecisionTreeClassifier</td>\n",
       "                        <td id=\"T_a097e_row4_col1\" class=\"data row4 col1\" >65.675057</td>\n",
       "                        <td id=\"T_a097e_row4_col2\" class=\"data row4 col2\" >84.000989</td>\n",
       "                        <td id=\"T_a097e_row4_col3\" class=\"data row4 col3\" >0.074600</td>\n",
       "            </tr>\n",
       "            <tr>\n",
       "                        <th id=\"T_a097e_level0_row5\" class=\"row_heading level0 row5\" >6</th>\n",
       "                        <td id=\"T_a097e_row5_col0\" class=\"data row5 col0\" >KNeighborsClassifier</td>\n",
       "                        <td id=\"T_a097e_row5_col1\" class=\"data row5 col1\" >53.890160</td>\n",
       "                        <td id=\"T_a097e_row5_col2\" class=\"data row5 col2\" >63.141572</td>\n",
       "                        <td id=\"T_a097e_row5_col3\" class=\"data row5 col3\" >0.028318</td>\n",
       "            </tr>\n",
       "            <tr>\n",
       "                        <th id=\"T_a097e_level0_row6\" class=\"row_heading level0 row6\" >7</th>\n",
       "                        <td id=\"T_a097e_row6_col0\" class=\"data row6 col0\" >LogisticRegression</td>\n",
       "                        <td id=\"T_a097e_row6_col1\" class=\"data row6 col1\" >51.258581</td>\n",
       "                        <td id=\"T_a097e_row6_col2\" class=\"data row6 col2\" >69.888403</td>\n",
       "                        <td id=\"T_a097e_row6_col3\" class=\"data row6 col3\" >0.359223</td>\n",
       "            </tr>\n",
       "    </tbody></table>"
      ],
      "text/plain": [
       "<pandas.io.formats.style.Styler at 0x7f02c73beb90>"
      ]
     },
     "execution_count": 40,
     "metadata": {},
     "output_type": "execute_result"
    }
   ],
   "source": [
    "\n",
    "test = pd.DataFrame({'Model': [], 'Accuracy': [], 'Bal Acc.': [],'Time': []})\n",
    "for model_name, model in classifier_models.items():\n",
    "    start_time_ = time.time()\n",
    "    model.fit(X_, y_)\n",
    "    total_time_ = time.time() - start_time_\n",
    "    pred_test = model.predict(X_test_)\n",
    "    test = test.append({\"Model\":    model_name,\n",
    "                              \"Accuracy\": accuracy_score(y_test_, pred_test)*100,\n",
    "                              \"Bal Acc.\": balanced_accuracy_score(y_test_, pred_test)*100,\n",
    "                              \"Time\":     total_time_},\n",
    "                              ignore_index=True)\n",
    "test_ord = test.sort_values(by=['Accuracy'], ascending=False, ignore_index=True)\n",
    "test_ord.index += 1 \n",
    "test_ord.style.bar(subset=['Accuracy', 'Bal Acc.'], vmin=0, vmax=100, color='#5fba7d')"
   ]
  },
  {
   "cell_type": "code",
   "execution_count": 41,
   "id": "46df424d",
   "metadata": {
    "cell_id": "00037-98f7624c-ea20-4943-856d-2e598eb50c70",
    "deepnote_cell_type": "code",
    "deepnote_to_be_reexecuted": false,
    "execution_millis": 72,
    "execution_start": 1621414613166,
    "source_hash": "48452361",
    "tags": []
   },
   "outputs": [
    {
     "name": "stdout",
     "output_type": "stream",
     "text": [
      "              precision    recall  f1-score   support\n",
      "\n",
      "         Bus       0.71      0.96      0.82       164\n",
      "       Still       0.61      0.99      0.76        76\n",
      "       Train       1.00      1.00      1.00        86\n",
      "     Walking       0.99      0.80      0.89       548\n",
      "\n",
      "    accuracy                           0.87       874\n",
      "   macro avg       0.83      0.94      0.87       874\n",
      "weighted avg       0.90      0.87      0.87       874\n",
      "\n",
      "\n",
      "[[157   1   0   6]\n",
      " [  1  75   0   0]\n",
      " [  0   0  86   0]\n",
      " [ 62  46   0 440]]\n"
     ]
    }
   ],
   "source": [
    "print(classification_report(y_test_, pred_test))\n",
    "print()\n",
    "print(confusion_matrix(y_test_, pred_test))"
   ]
  },
  {
   "cell_type": "markdown",
   "id": "0930e8bd",
   "metadata": {
    "cell_id": "00033-86daab12-348a-422f-9e2b-a9dea7d59a67",
    "deepnote_cell_type": "text-cell-h1",
    "tags": []
   },
   "source": [
    "# The best model and tuning  "
   ]
  },
  {
   "cell_type": "code",
   "execution_count": 64,
   "id": "480fe30d",
   "metadata": {
    "cell_id": "00034-d30ab5b2-cd6c-4722-9c97-29663db043ad",
    "deepnote_cell_type": "code",
    "deepnote_to_be_reexecuted": false,
    "execution_millis": 52,
    "execution_start": 1621417104768,
    "source_hash": "2c83289c",
    "tags": []
   },
   "outputs": [],
   "source": [
    "from catboost import CatBoostClassifier, Pool"
   ]
  },
  {
   "cell_type": "code",
   "execution_count": 96,
   "id": "453a4083",
   "metadata": {
    "cell_id": "00033-9613eac0-2346-48c0-aa16-526ca1a2eb4a",
    "deepnote_cell_type": "code",
    "deepnote_to_be_reexecuted": false,
    "execution_millis": 2,
    "execution_start": 1621421565186,
    "source_hash": "da0ee58b",
    "tags": []
   },
   "outputs": [],
   "source": [
    "from sklearn.model_selection import GridSearchCV,RandomizedSearchCV\n",
    "best_model=LGBMClassifier(boosting_type='gbdt', num_boost_round=2000, learning_rate=0.01)\n",
    "clf=Pipeline([('preprocess',preprocessor),('classification',best_model)])"
   ]
  },
  {
   "cell_type": "code",
   "execution_count": 101,
   "id": "cf8ea86b",
   "metadata": {
    "cell_id": "00036-f8044fff-4d29-45bd-8ff8-21846e0256f1",
    "deepnote_cell_type": "code",
    "deepnote_to_be_reexecuted": false,
    "execution_millis": 56,
    "execution_start": 1621422690558,
    "source_hash": "71b25ff3",
    "tags": []
   },
   "outputs": [
    {
     "name": "stdout",
     "output_type": "stream",
     "text": [
      "[LightGBM] [Warning] num_iterations is set=2000, num_boost_round=2000 will be ignored. Current value: num_iterations=2000\n",
      "[LightGBM] [Warning] num_iterations is set=2000, num_boost_round=2000 will be ignored. Current value: num_iterations=2000\n",
      "[LightGBM] [Warning] num_iterations is set=2000, num_boost_round=2000 will be ignored. Current value: num_iterations=2000\n",
      "[LightGBM] [Warning] num_iterations is set=2000, num_boost_round=2000 will be ignored. Current value: num_iterations=2000\n"
     ]
    }
   ],
   "source": [
    "best_parm={'boosting_type':['gbdt'],\n",
    "'num_leaves':[31],\n",
    "'max_depth':[- 1],\n",
    "'learning_rate':[0.1], \n",
    "'n_estimators':[100],\n",
    "'subsample_for_bin':[200000],\n",
    "'min_split_gain':[0.0],\n",
    "'min_child_weight':[0.001], \n",
    "'min_child_samples':[20],\n",
    "'subsample':[1.0],\n",
    "'subsample_freq':[0],\n",
    "'colsample_bytree':[1.0], \n",
    "'reg_alpha':[0.0],\n",
    "'reg_lambda':[0.0], \n",
    "'random_state':[None], \n",
    "'n_jobs':[- 1], \n",
    "'importance_type':['split']}\n",
    "gsearch = GridSearchCV(estimator=best_model, param_grid=best_parm)\n",
    "lgb_model = gsearch.fit(X_, y_)\n",
    "\n",
    "print(lgb_model.best_params_, lgb_model.best_score_)\n"
   ]
  },
  {
   "cell_type": "code",
   "execution_count": null,
   "id": "8d07215f",
   "metadata": {
    "cell_id": "00037-aa6a0661-0de3-4a51-9c7d-943c583bf6de",
    "deepnote_cell_type": "code",
    "tags": []
   },
   "outputs": [],
   "source": [
    "params = {\n",
    "'boosting_type': 'gbdt',\n",
    "'objective': 'multiclass',\n",
    "'metric': 'multi_logloss',\n",
    "'num_class':5,\n",
    "'max_depth':8,\n",
    "'num_leaves':200,\n",
    "'learning_rate': 0.05,\n",
    "'n_estimators':500\n",
    "}"
   ]
  },
  {
   "cell_type": "markdown",
   "id": "c1bbee38",
   "metadata": {
    "cell_id": "00037-e70c6258-4570-472e-8bf4-63f3ff95d82a",
    "deepnote_cell_type": "markdown",
    "tags": []
   },
   "source": [
    "# Other methods "
   ]
  },
  {
   "cell_type": "code",
   "execution_count": null,
   "id": "4aac4aab",
   "metadata": {
    "cell_id": "00037-7a05efdd-b501-4d42-befd-a080b34f4d43",
    "deepnote_cell_type": "code",
    "tags": []
   },
   "outputs": [],
   "source": [
    "from sklearn.calibration import CalibratedClassifierCV"
   ]
  },
  {
   "cell_type": "code",
   "execution_count": null,
   "id": "e139f4da",
   "metadata": {
    "cell_id": "00039-2b834df7-891b-498b-ab27-bda93dcfbaba",
    "deepnote_cell_type": "code",
    "tags": []
   },
   "outputs": [],
   "source": [
    "oth=Pipeline([('preprocess',preprocessor),('classification',GaussianNB())])"
   ]
  },
  {
   "cell_type": "code",
   "execution_count": null,
   "id": "cc25b971",
   "metadata": {
    "cell_id": "00039-d6a8eb4b-d580-445d-9240-d2166c9bd4c8",
    "deepnote_cell_type": "code",
    "tags": []
   },
   "outputs": [],
   "source": [
    "clf_isotonic = CalibratedClassifierCV(oth, cv=2, method='isotonic')\n",
    "clf_isotonic.fit(x_train_, y_train_, sample_weight=sw_train)\n",
    "prob_pos_isotonic = clf_isotonic.predict_proba(X_test_)[:, 1]\n"
   ]
  },
  {
   "cell_type": "code",
   "execution_count": null,
   "id": "c011dfa2",
   "metadata": {
    "cell_id": "00039-beeb8b56-6f31-4dc0-8697-bed86b06ca5d",
    "deepnote_cell_type": "code",
    "tags": []
   },
   "outputs": [],
   "source": [
    "# clf_isotonic_score = brier_score_loss(y_test, prob_pos_isotonic,\n",
    "#                                       sample_weight=sw_test)\n",
    "# print(\"With isotonic calibration: %1.3f\" % clf_isotonic_score"
   ]
  },
  {
   "cell_type": "markdown",
   "id": "8cd59e17",
   "metadata": {
    "created_in_deepnote_cell": true,
    "deepnote_cell_type": "markdown",
    "tags": []
   },
   "source": [
    "<a style='text-decoration:none;line-height:16px;display:flex;color:#5B5B62;padding:10px;justify-content:end;' href='https://deepnote.com?utm_source=created-in-deepnote-cell&projectId=3e7089f3-11a5-48ad-89c4-39a166311a14' target=\"_blank\">\n",
    "<img alt='Created in deepnote.com' style='display:inline;max-height:16px;margin:0px;margin-right:7.5px;' src='data:image/svg+xml;base64,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' > </img>\n",
    "Created in <span style='font-weight:600;margin-left:4px;'>Deepnote</span></a>"
   ]
  }
 ],
 "metadata": {
  "deepnote": {},
  "deepnote_execution_queue": [
   {
    "cellId": "00036-f8044fff-4d29-45bd-8ff8-21846e0256f1",
    "msgId": "a0eefad6-7bbd-4603-8fed-2940de8884ea",
    "sessionId": "a4c44e80-405a-43fc-968f-79577dc2c4bf"
   }
  ],
  "deepnote_notebook_id": "4d03dad0-0d4b-4262-80a0-cfac3bff1f59",
  "hide_input": false,
  "kernelspec": {
   "display_name": "Python 3",
   "language": "python",
   "name": "python3"
  },
  "language_info": {
   "codemirror_mode": {
    "name": "ipython",
    "version": 3
   },
   "file_extension": ".py",
   "mimetype": "text/x-python",
   "name": "python",
   "nbconvert_exporter": "python",
   "pygments_lexer": "ipython3",
   "version": "3.8.2"
  },
  "toc": {
   "base_numbering": 1,
   "nav_menu": {},
   "number_sections": true,
   "sideBar": true,
   "skip_h1_title": false,
   "title_cell": "Table of Contents",
   "title_sidebar": "Contents",
   "toc_cell": false,
   "toc_position": {},
   "toc_section_display": true,
   "toc_window_display": false
  },
  "varInspector": {
   "cols": {
    "lenName": 16,
    "lenType": 16,
    "lenVar": 40
   },
   "kernels_config": {
    "python": {
     "delete_cmd_postfix": "",
     "delete_cmd_prefix": "del ",
     "library": "var_list.py",
     "varRefreshCmd": "print(var_dic_list())"
    },
    "r": {
     "delete_cmd_postfix": ") ",
     "delete_cmd_prefix": "rm(",
     "library": "var_list.r",
     "varRefreshCmd": "cat(var_dic_list()) "
    }
   },
   "types_to_exclude": [
    "module",
    "function",
    "builtin_function_or_method",
    "instance",
    "_Feature"
   ],
   "window_display": false
  }
 },
 "nbformat": 4,
 "nbformat_minor": 5
}
