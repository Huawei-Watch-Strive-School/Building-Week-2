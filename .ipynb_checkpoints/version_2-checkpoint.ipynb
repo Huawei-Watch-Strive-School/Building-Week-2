{
 "cells": [
  {
   "cell_type": "code",
   "execution_count": 19,
   "id": "1c774f0f",
   "metadata": {
    "ExecuteTime": {
     "end_time": "2021-05-20T17:19:56.102329Z",
     "start_time": "2021-05-20T17:19:55.506763Z"
    },
    "cell_id": "00000-8c7c8fca-1c70-4587-91f3-3db57bfd28d0",
    "deepnote_cell_type": "code",
    "deepnote_to_be_reexecuted": false,
    "execution_millis": 5,
    "execution_start": 1621413648486,
    "source_hash": "570c8184"
   },
   "outputs": [
    {
     "name": "stdout",
     "output_type": "stream",
     "text": [
      "Pandas   1.2.4\n",
      "Sklearn  0.24.2\n"
     ]
    }
   ],
   "source": [
    "import time\n",
    "from IPython.display import clear_output\n",
    "import numpy    as np\n",
    "import pandas   as pd\n",
    "\n",
    "import optuna\n",
    "from random import shuffle\n",
    "from sklearn.decomposition import PCA\n",
    "from sklearn.metrics import classification_report,confusion_matrix\n",
    "from sklearn.ensemble import RandomForestClassifier,GradientBoostingClassifier\n",
    "from sklearn.pipeline import Pipeline ,make_pipeline\n",
    "from sklearn import impute\n",
    "from sklearn import compose\n",
    "from sklearn.model_selection import train_test_split,cross_val_score\n",
    "from sklearn.metrics import accuracy_score, balanced_accuracy_score, plot_confusion_matrix,roc_auc_score\n",
    "from sklearn import set_config\n",
    "import warnings\n",
    "warnings.filterwarnings('ignore')\n",
    "from sklearn.preprocessing import MinMaxScaler,Normalizer,PowerTransformer,QuantileTransformer, RobustScaler,StandardScaler,LabelEncoder, OneHotEncoder,OrdinalEncoder\n",
    "from sklearn.tree          import DecisionTreeClassifier\n",
    "from sklearn.linear_model  import LogisticRegression    \n",
    "from xgboost               import XGBClassifier\n",
    "from lightgbm              import LGBMClassifier\n",
    "from sklearn.neighbors import KNeighborsClassifier\n",
    "from sklearn.naive_bayes import GaussianNB\n",
    "import sklearn\n",
    "set_config(display='diagram') # Useful for display the pipeline\n",
    "print(\"Pandas  \", pd.__version__)\n",
    "print(\"Sklearn \", sklearn.__version__) # Try to use 0.24\n",
    "\n"
   ]
  },
  {
   "cell_type": "code",
   "execution_count": 3,
   "id": "341b1505",
   "metadata": {
    "ExecuteTime": {
     "end_time": "2021-05-20T17:16:46.939305Z",
     "start_time": "2021-05-20T17:16:46.821840Z"
    },
    "cell_id": "00001-06e6221d-0730-4e01-9045-bce276c93090",
    "deepnote_cell_type": "code",
    "deepnote_to_be_reexecuted": false,
    "execution_millis": 165,
    "execution_start": 1621413555476,
    "source_hash": "31454d99"
   },
   "outputs": [
    {
     "data": {
      "text/html": [
       "<div>\n",
       "<style scoped>\n",
       "    .dataframe tbody tr th:only-of-type {\n",
       "        vertical-align: middle;\n",
       "    }\n",
       "\n",
       "    .dataframe tbody tr th {\n",
       "        vertical-align: top;\n",
       "    }\n",
       "\n",
       "    .dataframe thead th {\n",
       "        text-align: right;\n",
       "    }\n",
       "</style>\n",
       "<table border=\"1\" class=\"dataframe\">\n",
       "  <thead>\n",
       "    <tr style=\"text-align: right;\">\n",
       "      <th></th>\n",
       "      <th>id</th>\n",
       "      <th>time</th>\n",
       "      <th>activityrecognition#0</th>\n",
       "      <th>activityrecognition#1</th>\n",
       "      <th>android.sensor.accelerometer#mean</th>\n",
       "      <th>android.sensor.accelerometer#min</th>\n",
       "      <th>android.sensor.accelerometer#max</th>\n",
       "      <th>android.sensor.accelerometer#std</th>\n",
       "      <th>android.sensor.game_rotation_vector#mean</th>\n",
       "      <th>android.sensor.game_rotation_vector#min</th>\n",
       "      <th>...</th>\n",
       "      <th>sound#mean</th>\n",
       "      <th>sound#min</th>\n",
       "      <th>sound#max</th>\n",
       "      <th>sound#std</th>\n",
       "      <th>speed#mean</th>\n",
       "      <th>speed#min</th>\n",
       "      <th>speed#max</th>\n",
       "      <th>speed#std</th>\n",
       "      <th>target</th>\n",
       "      <th>user</th>\n",
       "    </tr>\n",
       "  </thead>\n",
       "  <tbody>\n",
       "    <tr>\n",
       "      <th>0</th>\n",
       "      <td>16170</td>\n",
       "      <td>78.0</td>\n",
       "      <td>NaN</td>\n",
       "      <td>100.0</td>\n",
       "      <td>9.811476</td>\n",
       "      <td>9.758895</td>\n",
       "      <td>9.849411</td>\n",
       "      <td>0.014626</td>\n",
       "      <td>0.029340</td>\n",
       "      <td>0.029014</td>\n",
       "      <td>...</td>\n",
       "      <td>NaN</td>\n",
       "      <td>NaN</td>\n",
       "      <td>NaN</td>\n",
       "      <td>NaN</td>\n",
       "      <td>0.000000</td>\n",
       "      <td>0.000000</td>\n",
       "      <td>0.000000</td>\n",
       "      <td>0.000000</td>\n",
       "      <td>Still</td>\n",
       "      <td>Luca</td>\n",
       "    </tr>\n",
       "    <tr>\n",
       "      <th>1</th>\n",
       "      <td>15871</td>\n",
       "      <td>145.0</td>\n",
       "      <td>NaN</td>\n",
       "      <td>100.0</td>\n",
       "      <td>9.939207</td>\n",
       "      <td>7.707437</td>\n",
       "      <td>17.146631</td>\n",
       "      <td>1.775944</td>\n",
       "      <td>0.999925</td>\n",
       "      <td>0.999903</td>\n",
       "      <td>...</td>\n",
       "      <td>89.200210</td>\n",
       "      <td>89.065143</td>\n",
       "      <td>89.335277</td>\n",
       "      <td>0.191013</td>\n",
       "      <td>16.539349</td>\n",
       "      <td>16.539349</td>\n",
       "      <td>16.539349</td>\n",
       "      <td>0.628595</td>\n",
       "      <td>Car</td>\n",
       "      <td>Luca</td>\n",
       "    </tr>\n",
       "    <tr>\n",
       "      <th>2</th>\n",
       "      <td>16811</td>\n",
       "      <td>150.0</td>\n",
       "      <td>NaN</td>\n",
       "      <td>100.0</td>\n",
       "      <td>9.827178</td>\n",
       "      <td>9.804817</td>\n",
       "      <td>9.849262</td>\n",
       "      <td>0.011199</td>\n",
       "      <td>0.665215</td>\n",
       "      <td>0.665213</td>\n",
       "      <td>...</td>\n",
       "      <td>NaN</td>\n",
       "      <td>NaN</td>\n",
       "      <td>NaN</td>\n",
       "      <td>NaN</td>\n",
       "      <td>0.000000</td>\n",
       "      <td>0.000000</td>\n",
       "      <td>0.000000</td>\n",
       "      <td>0.000000</td>\n",
       "      <td>Still</td>\n",
       "      <td>Luca</td>\n",
       "    </tr>\n",
       "    <tr>\n",
       "      <th>3</th>\n",
       "      <td>15831</td>\n",
       "      <td>105.0</td>\n",
       "      <td>NaN</td>\n",
       "      <td>77.0</td>\n",
       "      <td>9.673039</td>\n",
       "      <td>7.659674</td>\n",
       "      <td>12.304298</td>\n",
       "      <td>0.862553</td>\n",
       "      <td>0.996221</td>\n",
       "      <td>0.993781</td>\n",
       "      <td>...</td>\n",
       "      <td>87.470377</td>\n",
       "      <td>87.470377</td>\n",
       "      <td>87.470377</td>\n",
       "      <td>2.284186</td>\n",
       "      <td>17.739895</td>\n",
       "      <td>17.739895</td>\n",
       "      <td>17.739895</td>\n",
       "      <td>0.628595</td>\n",
       "      <td>Car</td>\n",
       "      <td>Luca</td>\n",
       "    </tr>\n",
       "    <tr>\n",
       "      <th>4</th>\n",
       "      <td>876</td>\n",
       "      <td>77.0</td>\n",
       "      <td>NaN</td>\n",
       "      <td>100.0</td>\n",
       "      <td>9.993466</td>\n",
       "      <td>8.965621</td>\n",
       "      <td>10.891645</td>\n",
       "      <td>0.504117</td>\n",
       "      <td>0.563792</td>\n",
       "      <td>0.521799</td>\n",
       "      <td>...</td>\n",
       "      <td>89.770732</td>\n",
       "      <td>89.770732</td>\n",
       "      <td>89.770732</td>\n",
       "      <td>0.006389</td>\n",
       "      <td>9.000000</td>\n",
       "      <td>9.000000</td>\n",
       "      <td>9.000000</td>\n",
       "      <td>NaN</td>\n",
       "      <td>Car</td>\n",
       "      <td>andrea</td>\n",
       "    </tr>\n",
       "  </tbody>\n",
       "</table>\n",
       "<p>5 rows × 70 columns</p>\n",
       "</div>"
      ],
      "text/plain": [
       "      id   time  activityrecognition#0  activityrecognition#1  \\\n",
       "0  16170   78.0                    NaN                  100.0   \n",
       "1  15871  145.0                    NaN                  100.0   \n",
       "2  16811  150.0                    NaN                  100.0   \n",
       "3  15831  105.0                    NaN                   77.0   \n",
       "4    876   77.0                    NaN                  100.0   \n",
       "\n",
       "   android.sensor.accelerometer#mean  android.sensor.accelerometer#min  \\\n",
       "0                           9.811476                          9.758895   \n",
       "1                           9.939207                          7.707437   \n",
       "2                           9.827178                          9.804817   \n",
       "3                           9.673039                          7.659674   \n",
       "4                           9.993466                          8.965621   \n",
       "\n",
       "   android.sensor.accelerometer#max  android.sensor.accelerometer#std  \\\n",
       "0                          9.849411                          0.014626   \n",
       "1                         17.146631                          1.775944   \n",
       "2                          9.849262                          0.011199   \n",
       "3                         12.304298                          0.862553   \n",
       "4                         10.891645                          0.504117   \n",
       "\n",
       "   android.sensor.game_rotation_vector#mean  \\\n",
       "0                                  0.029340   \n",
       "1                                  0.999925   \n",
       "2                                  0.665215   \n",
       "3                                  0.996221   \n",
       "4                                  0.563792   \n",
       "\n",
       "   android.sensor.game_rotation_vector#min  ...  sound#mean  sound#min  \\\n",
       "0                                 0.029014  ...         NaN        NaN   \n",
       "1                                 0.999903  ...   89.200210  89.065143   \n",
       "2                                 0.665213  ...         NaN        NaN   \n",
       "3                                 0.993781  ...   87.470377  87.470377   \n",
       "4                                 0.521799  ...   89.770732  89.770732   \n",
       "\n",
       "   sound#max  sound#std  speed#mean  speed#min  speed#max  speed#std  target  \\\n",
       "0        NaN        NaN    0.000000   0.000000   0.000000   0.000000   Still   \n",
       "1  89.335277   0.191013   16.539349  16.539349  16.539349   0.628595     Car   \n",
       "2        NaN        NaN    0.000000   0.000000   0.000000   0.000000   Still   \n",
       "3  87.470377   2.284186   17.739895  17.739895  17.739895   0.628595     Car   \n",
       "4  89.770732   0.006389    9.000000   9.000000   9.000000        NaN     Car   \n",
       "\n",
       "     user  \n",
       "0    Luca  \n",
       "1    Luca  \n",
       "2    Luca  \n",
       "3    Luca  \n",
       "4  andrea  \n",
       "\n",
       "[5 rows x 70 columns]"
      ]
     },
     "execution_count": 3,
     "metadata": {},
     "output_type": "execute_result"
    }
   ],
   "source": [
    "data = pd.read_csv('./data/data_5secondWindow .csv')\n",
    "data.head(5)"
   ]
  },
  {
   "cell_type": "code",
   "execution_count": 4,
   "id": "725906f0",
   "metadata": {
    "ExecuteTime": {
     "end_time": "2021-05-20T17:16:50.017593Z",
     "start_time": "2021-05-20T17:16:49.724883Z"
    }
   },
   "outputs": [
    {
     "data": {
      "text/html": [
       "<div>\n",
       "<style scoped>\n",
       "    .dataframe tbody tr th:only-of-type {\n",
       "        vertical-align: middle;\n",
       "    }\n",
       "\n",
       "    .dataframe tbody tr th {\n",
       "        vertical-align: top;\n",
       "    }\n",
       "\n",
       "    .dataframe thead th {\n",
       "        text-align: right;\n",
       "    }\n",
       "</style>\n",
       "<table border=\"1\" class=\"dataframe\">\n",
       "  <thead>\n",
       "    <tr style=\"text-align: right;\">\n",
       "      <th></th>\n",
       "      <th>id</th>\n",
       "      <th>time</th>\n",
       "      <th>activityrecognition#0</th>\n",
       "      <th>activityrecognition#1</th>\n",
       "      <th>android.sensor.accelerometer#mean</th>\n",
       "      <th>android.sensor.accelerometer#min</th>\n",
       "      <th>android.sensor.accelerometer#max</th>\n",
       "      <th>android.sensor.accelerometer#std</th>\n",
       "      <th>android.sensor.game_rotation_vector#mean</th>\n",
       "      <th>android.sensor.game_rotation_vector#min</th>\n",
       "      <th>...</th>\n",
       "      <th>android.sensor.step_counter#max</th>\n",
       "      <th>android.sensor.step_counter#std</th>\n",
       "      <th>sound#mean</th>\n",
       "      <th>sound#min</th>\n",
       "      <th>sound#max</th>\n",
       "      <th>sound#std</th>\n",
       "      <th>speed#mean</th>\n",
       "      <th>speed#min</th>\n",
       "      <th>speed#max</th>\n",
       "      <th>speed#std</th>\n",
       "    </tr>\n",
       "  </thead>\n",
       "  <tbody>\n",
       "    <tr>\n",
       "      <th>count</th>\n",
       "      <td>5893.000000</td>\n",
       "      <td>5893.000000</td>\n",
       "      <td>0.0</td>\n",
       "      <td>5893.000000</td>\n",
       "      <td>5893.000000</td>\n",
       "      <td>5893.000000</td>\n",
       "      <td>5893.000000</td>\n",
       "      <td>5893.000000</td>\n",
       "      <td>5094.000000</td>\n",
       "      <td>5094.000000</td>\n",
       "      <td>...</td>\n",
       "      <td>1487.000000</td>\n",
       "      <td>232.000000</td>\n",
       "      <td>4899.000000</td>\n",
       "      <td>4899.000000</td>\n",
       "      <td>4899.000000</td>\n",
       "      <td>4062.000000</td>\n",
       "      <td>3520.000000</td>\n",
       "      <td>3520.000000</td>\n",
       "      <td>3520.000000</td>\n",
       "      <td>1318.000000</td>\n",
       "    </tr>\n",
       "    <tr>\n",
       "      <th>mean</th>\n",
       "      <td>10685.407263</td>\n",
       "      <td>117.731716</td>\n",
       "      <td>NaN</td>\n",
       "      <td>87.718310</td>\n",
       "      <td>10.007976</td>\n",
       "      <td>8.426262</td>\n",
       "      <td>12.247691</td>\n",
       "      <td>0.982987</td>\n",
       "      <td>0.759280</td>\n",
       "      <td>0.743872</td>\n",
       "      <td>...</td>\n",
       "      <td>10112.769334</td>\n",
       "      <td>2.959475</td>\n",
       "      <td>78.724855</td>\n",
       "      <td>78.451658</td>\n",
       "      <td>78.997213</td>\n",
       "      <td>1.913065</td>\n",
       "      <td>8.235254</td>\n",
       "      <td>8.216747</td>\n",
       "      <td>8.253528</td>\n",
       "      <td>0.236959</td>\n",
       "    </tr>\n",
       "    <tr>\n",
       "      <th>std</th>\n",
       "      <td>6921.229833</td>\n",
       "      <td>126.474151</td>\n",
       "      <td>NaN</td>\n",
       "      <td>24.562728</td>\n",
       "      <td>0.655949</td>\n",
       "      <td>1.783007</td>\n",
       "      <td>5.178436</td>\n",
       "      <td>1.505615</td>\n",
       "      <td>0.251174</td>\n",
       "      <td>0.255232</td>\n",
       "      <td>...</td>\n",
       "      <td>11067.568076</td>\n",
       "      <td>1.365350</td>\n",
       "      <td>14.025440</td>\n",
       "      <td>14.262912</td>\n",
       "      <td>13.889766</td>\n",
       "      <td>3.290193</td>\n",
       "      <td>11.870711</td>\n",
       "      <td>11.866102</td>\n",
       "      <td>11.877158</td>\n",
       "      <td>0.453205</td>\n",
       "    </tr>\n",
       "    <tr>\n",
       "      <th>min</th>\n",
       "      <td>0.000000</td>\n",
       "      <td>3.000000</td>\n",
       "      <td>NaN</td>\n",
       "      <td>3.000000</td>\n",
       "      <td>7.369055</td>\n",
       "      <td>0.337166</td>\n",
       "      <td>8.801019</td>\n",
       "      <td>0.001286</td>\n",
       "      <td>0.007770</td>\n",
       "      <td>0.007616</td>\n",
       "      <td>...</td>\n",
       "      <td>28.000000</td>\n",
       "      <td>1.414214</td>\n",
       "      <td>0.000000</td>\n",
       "      <td>0.000000</td>\n",
       "      <td>0.000000</td>\n",
       "      <td>0.000000</td>\n",
       "      <td>0.000000</td>\n",
       "      <td>0.000000</td>\n",
       "      <td>0.000000</td>\n",
       "      <td>0.000000</td>\n",
       "    </tr>\n",
       "    <tr>\n",
       "      <th>25%</th>\n",
       "      <td>4502.000000</td>\n",
       "      <td>31.000000</td>\n",
       "      <td>NaN</td>\n",
       "      <td>90.000000</td>\n",
       "      <td>9.737143</td>\n",
       "      <td>7.805295</td>\n",
       "      <td>10.015566</td>\n",
       "      <td>0.078055</td>\n",
       "      <td>0.640486</td>\n",
       "      <td>0.612155</td>\n",
       "      <td>...</td>\n",
       "      <td>1767.000000</td>\n",
       "      <td>1.414214</td>\n",
       "      <td>72.834623</td>\n",
       "      <td>72.233399</td>\n",
       "      <td>73.302235</td>\n",
       "      <td>0.034126</td>\n",
       "      <td>0.000431</td>\n",
       "      <td>0.000000</td>\n",
       "      <td>0.000431</td>\n",
       "      <td>0.000000</td>\n",
       "    </tr>\n",
       "    <tr>\n",
       "      <th>50%</th>\n",
       "      <td>10959.000000</td>\n",
       "      <td>70.000000</td>\n",
       "      <td>NaN</td>\n",
       "      <td>100.000000</td>\n",
       "      <td>9.850143</td>\n",
       "      <td>9.123124</td>\n",
       "      <td>10.602081</td>\n",
       "      <td>0.369163</td>\n",
       "      <td>0.840643</td>\n",
       "      <td>0.818037</td>\n",
       "      <td>...</td>\n",
       "      <td>6096.000000</td>\n",
       "      <td>3.027650</td>\n",
       "      <td>84.035672</td>\n",
       "      <td>83.859708</td>\n",
       "      <td>84.496874</td>\n",
       "      <td>0.806102</td>\n",
       "      <td>1.710000</td>\n",
       "      <td>1.700000</td>\n",
       "      <td>1.710000</td>\n",
       "      <td>0.018236</td>\n",
       "    </tr>\n",
       "    <tr>\n",
       "      <th>75%</th>\n",
       "      <td>17049.000000</td>\n",
       "      <td>152.000000</td>\n",
       "      <td>NaN</td>\n",
       "      <td>100.000000</td>\n",
       "      <td>10.078998</td>\n",
       "      <td>9.691731</td>\n",
       "      <td>12.291575</td>\n",
       "      <td>1.058376</td>\n",
       "      <td>0.963207</td>\n",
       "      <td>0.960858</td>\n",
       "      <td>...</td>\n",
       "      <td>12995.000000</td>\n",
       "      <td>3.593976</td>\n",
       "      <td>89.746162</td>\n",
       "      <td>89.743333</td>\n",
       "      <td>89.747576</td>\n",
       "      <td>2.253633</td>\n",
       "      <td>10.250000</td>\n",
       "      <td>10.250000</td>\n",
       "      <td>10.250000</td>\n",
       "      <td>0.252936</td>\n",
       "    </tr>\n",
       "    <tr>\n",
       "      <th>max</th>\n",
       "      <td>22045.000000</td>\n",
       "      <td>682.000000</td>\n",
       "      <td>NaN</td>\n",
       "      <td>100.000000</td>\n",
       "      <td>17.427391</td>\n",
       "      <td>12.115013</td>\n",
       "      <td>66.886376</td>\n",
       "      <td>12.879851</td>\n",
       "      <td>1.000000</td>\n",
       "      <td>1.000000</td>\n",
       "      <td>...</td>\n",
       "      <td>33355.000000</td>\n",
       "      <td>6.363961</td>\n",
       "      <td>90.308734</td>\n",
       "      <td>90.308734</td>\n",
       "      <td>90.308734</td>\n",
       "      <td>26.835546</td>\n",
       "      <td>51.360060</td>\n",
       "      <td>51.360060</td>\n",
       "      <td>51.360060</td>\n",
       "      <td>3.842801</td>\n",
       "    </tr>\n",
       "  </tbody>\n",
       "</table>\n",
       "<p>8 rows × 68 columns</p>\n",
       "</div>"
      ],
      "text/plain": [
       "                 id         time  activityrecognition#0  \\\n",
       "count   5893.000000  5893.000000                    0.0   \n",
       "mean   10685.407263   117.731716                    NaN   \n",
       "std     6921.229833   126.474151                    NaN   \n",
       "min        0.000000     3.000000                    NaN   \n",
       "25%     4502.000000    31.000000                    NaN   \n",
       "50%    10959.000000    70.000000                    NaN   \n",
       "75%    17049.000000   152.000000                    NaN   \n",
       "max    22045.000000   682.000000                    NaN   \n",
       "\n",
       "       activityrecognition#1  android.sensor.accelerometer#mean  \\\n",
       "count            5893.000000                        5893.000000   \n",
       "mean               87.718310                          10.007976   \n",
       "std                24.562728                           0.655949   \n",
       "min                 3.000000                           7.369055   \n",
       "25%                90.000000                           9.737143   \n",
       "50%               100.000000                           9.850143   \n",
       "75%               100.000000                          10.078998   \n",
       "max               100.000000                          17.427391   \n",
       "\n",
       "       android.sensor.accelerometer#min  android.sensor.accelerometer#max  \\\n",
       "count                       5893.000000                       5893.000000   \n",
       "mean                           8.426262                         12.247691   \n",
       "std                            1.783007                          5.178436   \n",
       "min                            0.337166                          8.801019   \n",
       "25%                            7.805295                         10.015566   \n",
       "50%                            9.123124                         10.602081   \n",
       "75%                            9.691731                         12.291575   \n",
       "max                           12.115013                         66.886376   \n",
       "\n",
       "       android.sensor.accelerometer#std  \\\n",
       "count                       5893.000000   \n",
       "mean                           0.982987   \n",
       "std                            1.505615   \n",
       "min                            0.001286   \n",
       "25%                            0.078055   \n",
       "50%                            0.369163   \n",
       "75%                            1.058376   \n",
       "max                           12.879851   \n",
       "\n",
       "       android.sensor.game_rotation_vector#mean  \\\n",
       "count                               5094.000000   \n",
       "mean                                   0.759280   \n",
       "std                                    0.251174   \n",
       "min                                    0.007770   \n",
       "25%                                    0.640486   \n",
       "50%                                    0.840643   \n",
       "75%                                    0.963207   \n",
       "max                                    1.000000   \n",
       "\n",
       "       android.sensor.game_rotation_vector#min  ...  \\\n",
       "count                              5094.000000  ...   \n",
       "mean                                  0.743872  ...   \n",
       "std                                   0.255232  ...   \n",
       "min                                   0.007616  ...   \n",
       "25%                                   0.612155  ...   \n",
       "50%                                   0.818037  ...   \n",
       "75%                                   0.960858  ...   \n",
       "max                                   1.000000  ...   \n",
       "\n",
       "       android.sensor.step_counter#max  android.sensor.step_counter#std  \\\n",
       "count                      1487.000000                       232.000000   \n",
       "mean                      10112.769334                         2.959475   \n",
       "std                       11067.568076                         1.365350   \n",
       "min                          28.000000                         1.414214   \n",
       "25%                        1767.000000                         1.414214   \n",
       "50%                        6096.000000                         3.027650   \n",
       "75%                       12995.000000                         3.593976   \n",
       "max                       33355.000000                         6.363961   \n",
       "\n",
       "        sound#mean    sound#min    sound#max    sound#std   speed#mean  \\\n",
       "count  4899.000000  4899.000000  4899.000000  4062.000000  3520.000000   \n",
       "mean     78.724855    78.451658    78.997213     1.913065     8.235254   \n",
       "std      14.025440    14.262912    13.889766     3.290193    11.870711   \n",
       "min       0.000000     0.000000     0.000000     0.000000     0.000000   \n",
       "25%      72.834623    72.233399    73.302235     0.034126     0.000431   \n",
       "50%      84.035672    83.859708    84.496874     0.806102     1.710000   \n",
       "75%      89.746162    89.743333    89.747576     2.253633    10.250000   \n",
       "max      90.308734    90.308734    90.308734    26.835546    51.360060   \n",
       "\n",
       "         speed#min    speed#max    speed#std  \n",
       "count  3520.000000  3520.000000  1318.000000  \n",
       "mean      8.216747     8.253528     0.236959  \n",
       "std      11.866102    11.877158     0.453205  \n",
       "min       0.000000     0.000000     0.000000  \n",
       "25%       0.000000     0.000431     0.000000  \n",
       "50%       1.700000     1.710000     0.018236  \n",
       "75%      10.250000    10.250000     0.252936  \n",
       "max      51.360060    51.360060     3.842801  \n",
       "\n",
       "[8 rows x 68 columns]"
      ]
     },
     "execution_count": 4,
     "metadata": {},
     "output_type": "execute_result"
    }
   ],
   "source": [
    "data.describe()"
   ]
  },
  {
   "cell_type": "code",
   "execution_count": 5,
   "id": "ca7d148f",
   "metadata": {
    "ExecuteTime": {
     "end_time": "2021-05-20T17:16:51.555961Z",
     "start_time": "2021-05-20T17:16:51.543740Z"
    }
   },
   "outputs": [
    {
     "data": {
      "text/plain": [
       "target\n",
       "Bus        1178\n",
       "Car        1180\n",
       "Still      1179\n",
       "Train      1179\n",
       "Walking    1177\n",
       "dtype: int64"
      ]
     },
     "execution_count": 5,
     "metadata": {},
     "output_type": "execute_result"
    }
   ],
   "source": [
    "data.groupby('target').size()"
   ]
  },
  {
   "cell_type": "code",
   "execution_count": 6,
   "id": "7dcbf042",
   "metadata": {
    "ExecuteTime": {
     "end_time": "2021-05-20T17:16:56.610375Z",
     "start_time": "2021-05-20T17:16:56.600497Z"
    }
   },
   "outputs": [],
   "source": [
    "data=data[data['target']!='Bus']\n",
    "data=data[data['target']!='Train']"
   ]
  },
  {
   "cell_type": "code",
   "execution_count": 7,
   "id": "7a624458",
   "metadata": {
    "ExecuteTime": {
     "end_time": "2021-05-20T17:16:58.071776Z",
     "start_time": "2021-05-20T17:16:58.042130Z"
    }
   },
   "outputs": [],
   "source": [
    "def change_name(df):\n",
    "    column_names=[]\n",
    "    for i in df.columns:\n",
    "        k=i.replace('.','_').replace(\"#\",'_')\n",
    "        df.rename(columns = {i:k}, inplace = True)\n",
    "    return df\n",
    "data=change_name(data)"
   ]
  },
  {
   "cell_type": "code",
   "execution_count": 8,
   "id": "283b2327",
   "metadata": {
    "ExecuteTime": {
     "end_time": "2021-05-20T17:17:00.121511Z",
     "start_time": "2021-05-20T17:17:00.117979Z"
    }
   },
   "outputs": [],
   "source": [
    "# create test data from some user \n",
    "def split_data(df):\n",
    "    l=df.user.unique().tolist()\n",
    "    # create random list of indi\n",
    "    shuffle(l)\n",
    "    train_user=l[2:]\n",
    "    test_user=l[:2]\n",
    "    # get splitting indicies\n",
    "#     train=data[data['user'].isin(train_user)]\n",
    "#     test = data[data['user'].isin(test_user)]\n",
    "    train=df[df['user']!='IvanHeibi']\n",
    "    test=df[df['user']=='IvanHeibi'] \n",
    "    return train, test"
   ]
  },
  {
   "cell_type": "code",
   "execution_count": 9,
   "id": "dca72c91",
   "metadata": {
    "ExecuteTime": {
     "end_time": "2021-05-20T17:17:01.821529Z",
     "start_time": "2021-05-20T17:17:01.811102Z"
    }
   },
   "outputs": [],
   "source": [
    "df_train,df_test=split_data(data)\n"
   ]
  },
  {
   "cell_type": "code",
   "execution_count": 10,
   "id": "01585afb",
   "metadata": {
    "ExecuteTime": {
     "end_time": "2021-05-20T17:17:03.786137Z",
     "start_time": "2021-05-20T17:17:03.770538Z"
    }
   },
   "outputs": [
    {
     "name": "stdout",
     "output_type": "stream",
     "text": [
      "There are 8 columns with more than 75% missing values\n"
     ]
    }
   ],
   "source": [
    "train_missing = (df_train.isnull().sum() / len(df_train)).sort_values(ascending = False)\n",
    "test_missing = (df_test.isnull().sum() / len(df_test)).sort_values(ascending = False)\n",
    "\n",
    "train_missing = train_missing.index[train_missing > 0.75]\n",
    "test_missing = test_missing.index[test_missing > 0.75]\n",
    "\n",
    "all_missing = list(set(set(train_missing) | set(test_missing)))\n",
    "print('There are %d columns with more than 75%% missing values' % len(all_missing))"
   ]
  },
  {
   "cell_type": "code",
   "execution_count": 11,
   "id": "bb7b0935",
   "metadata": {
    "ExecuteTime": {
     "end_time": "2021-05-20T17:17:06.573240Z",
     "start_time": "2021-05-20T17:17:06.568212Z"
    }
   },
   "outputs": [],
   "source": [
    "# Drop missing data \n",
    "df_train = df_train.drop(all_missing,axis=1)\n",
    "df_test  = df_test.drop(all_missing,axis=1)\n"
   ]
  },
  {
   "cell_type": "code",
   "execution_count": 12,
   "id": "f6a123ae",
   "metadata": {
    "ExecuteTime": {
     "end_time": "2021-05-20T17:17:08.228889Z",
     "start_time": "2021-05-20T17:17:08.217751Z"
    }
   },
   "outputs": [],
   "source": [
    "unimp    = ['id','user','time']\n",
    "df_train = df_train.drop(unimp,axis=1)\n",
    "df_test  = df_test.drop(unimp,axis=1)"
   ]
  },
  {
   "cell_type": "code",
   "execution_count": 13,
   "id": "9eb621de",
   "metadata": {
    "ExecuteTime": {
     "end_time": "2021-05-20T17:17:09.432019Z",
     "start_time": "2021-05-20T17:17:09.428029Z"
    }
   },
   "outputs": [
    {
     "name": "stdout",
     "output_type": "stream",
     "text": [
      "(3265, 59)\n",
      "(271, 59)\n"
     ]
    }
   ],
   "source": [
    "print(df_train.shape)\n",
    "print(df_test.shape)"
   ]
  },
  {
   "cell_type": "code",
   "execution_count": 14,
   "id": "39653391",
   "metadata": {
    "ExecuteTime": {
     "end_time": "2021-05-20T17:17:11.181740Z",
     "start_time": "2021-05-20T17:17:11.173177Z"
    }
   },
   "outputs": [],
   "source": [
    "X=df_train.drop('target',axis=1)\n",
    "y=df_train.target\n",
    "X_test=df_test.drop('target',axis=1)\n",
    "y_test=df_test.target"
   ]
  },
  {
   "cell_type": "code",
   "execution_count": 15,
   "id": "39edca24",
   "metadata": {
    "ExecuteTime": {
     "end_time": "2021-05-20T17:17:12.707621Z",
     "start_time": "2021-05-20T17:17:12.700275Z"
    }
   },
   "outputs": [],
   "source": [
    "# pipline and PcA\n",
    "# pca=PCA(n_components=15)\n",
    "# scaler=StandardScaler()\n",
    "# encoder = LabelEncoder()\n",
    "# onecoder=OneHotEncoder()\n",
    "num_var=X.columns.to_list()\n",
    "num_pip=Pipeline([('imputer',impute.SimpleImputer(strategy='median')),\n",
    "                  ('scalar',StandardScaler()),\n",
    "                 ('PCA' ,PCA(n_components=20)),\n",
    "               ]) \n",
    "preprocessor=compose.ColumnTransformer([\n",
    "    ('num',num_pip,num_var)\n",
    "])"
   ]
  },
  {
   "cell_type": "code",
   "execution_count": 16,
   "id": "d15d3b55",
   "metadata": {
    "ExecuteTime": {
     "end_time": "2021-05-20T17:17:14.171748Z",
     "start_time": "2021-05-20T17:17:14.166692Z"
    }
   },
   "outputs": [],
   "source": [
    "# X_sc=preprocessor.fit_transform(X)\n",
    "# X_test_sc=preprocessor.fit_transform(X_test)\n",
    "# X_sc = pd.DataFrame(X_sc, columns=X.columns)\n",
    "# X_test_sc = pd.DataFrame(X_test_sc, columns=X_test.columns)"
   ]
  },
  {
   "cell_type": "code",
   "execution_count": null,
   "id": "182957c3",
   "metadata": {
    "ExecuteTime": {
     "end_time": "2021-05-20T14:49:07.977762Z",
     "start_time": "2021-05-20T14:49:07.975390Z"
    }
   },
   "outputs": [],
   "source": [
    "# y_train = np.reshape(y_train, (y_train.shape[0]))\n",
    "# y_test = np.reshape(y_test, (y_test.shape[0]))"
   ]
  },
  {
   "cell_type": "code",
   "execution_count": 17,
   "id": "a03dae39",
   "metadata": {
    "ExecuteTime": {
     "end_time": "2021-05-20T17:17:15.539046Z",
     "start_time": "2021-05-20T17:17:15.474262Z"
    }
   },
   "outputs": [
    {
     "data": {
      "text/html": [
       "<style>#sk-c3018004-101f-41cf-9397-94ce5f87db54 {color: black;background-color: white;}#sk-c3018004-101f-41cf-9397-94ce5f87db54 pre{padding: 0;}#sk-c3018004-101f-41cf-9397-94ce5f87db54 div.sk-toggleable {background-color: white;}#sk-c3018004-101f-41cf-9397-94ce5f87db54 label.sk-toggleable__label {cursor: pointer;display: block;width: 100%;margin-bottom: 0;padding: 0.2em 0.3em;box-sizing: border-box;text-align: center;}#sk-c3018004-101f-41cf-9397-94ce5f87db54 div.sk-toggleable__content {max-height: 0;max-width: 0;overflow: hidden;text-align: left;background-color: #f0f8ff;}#sk-c3018004-101f-41cf-9397-94ce5f87db54 div.sk-toggleable__content pre {margin: 0.2em;color: black;border-radius: 0.25em;background-color: #f0f8ff;}#sk-c3018004-101f-41cf-9397-94ce5f87db54 input.sk-toggleable__control:checked~div.sk-toggleable__content {max-height: 200px;max-width: 100%;overflow: auto;}#sk-c3018004-101f-41cf-9397-94ce5f87db54 div.sk-estimator input.sk-toggleable__control:checked~label.sk-toggleable__label {background-color: #d4ebff;}#sk-c3018004-101f-41cf-9397-94ce5f87db54 div.sk-label input.sk-toggleable__control:checked~label.sk-toggleable__label {background-color: #d4ebff;}#sk-c3018004-101f-41cf-9397-94ce5f87db54 input.sk-hidden--visually {border: 0;clip: rect(1px 1px 1px 1px);clip: rect(1px, 1px, 1px, 1px);height: 1px;margin: -1px;overflow: hidden;padding: 0;position: absolute;width: 1px;}#sk-c3018004-101f-41cf-9397-94ce5f87db54 div.sk-estimator {font-family: monospace;background-color: #f0f8ff;margin: 0.25em 0.25em;border: 1px dotted black;border-radius: 0.25em;box-sizing: border-box;}#sk-c3018004-101f-41cf-9397-94ce5f87db54 div.sk-estimator:hover {background-color: #d4ebff;}#sk-c3018004-101f-41cf-9397-94ce5f87db54 div.sk-parallel-item::after {content: \"\";width: 100%;border-bottom: 1px solid gray;flex-grow: 1;}#sk-c3018004-101f-41cf-9397-94ce5f87db54 div.sk-label:hover label.sk-toggleable__label {background-color: #d4ebff;}#sk-c3018004-101f-41cf-9397-94ce5f87db54 div.sk-serial::before {content: \"\";position: absolute;border-left: 1px solid gray;box-sizing: border-box;top: 2em;bottom: 0;left: 50%;}#sk-c3018004-101f-41cf-9397-94ce5f87db54 div.sk-serial {display: flex;flex-direction: column;align-items: center;background-color: white;}#sk-c3018004-101f-41cf-9397-94ce5f87db54 div.sk-item {z-index: 1;}#sk-c3018004-101f-41cf-9397-94ce5f87db54 div.sk-parallel {display: flex;align-items: stretch;justify-content: center;background-color: white;}#sk-c3018004-101f-41cf-9397-94ce5f87db54 div.sk-parallel-item {display: flex;flex-direction: column;position: relative;background-color: white;}#sk-c3018004-101f-41cf-9397-94ce5f87db54 div.sk-parallel-item:first-child::after {align-self: flex-end;width: 50%;}#sk-c3018004-101f-41cf-9397-94ce5f87db54 div.sk-parallel-item:last-child::after {align-self: flex-start;width: 50%;}#sk-c3018004-101f-41cf-9397-94ce5f87db54 div.sk-parallel-item:only-child::after {width: 0;}#sk-c3018004-101f-41cf-9397-94ce5f87db54 div.sk-dashed-wrapped {border: 1px dashed gray;margin: 0.2em;box-sizing: border-box;padding-bottom: 0.1em;background-color: white;position: relative;}#sk-c3018004-101f-41cf-9397-94ce5f87db54 div.sk-label label {font-family: monospace;font-weight: bold;background-color: white;display: inline-block;line-height: 1.2em;}#sk-c3018004-101f-41cf-9397-94ce5f87db54 div.sk-label-container {position: relative;z-index: 2;text-align: center;}#sk-c3018004-101f-41cf-9397-94ce5f87db54 div.sk-container {display: inline-block;position: relative;}</style><div id=\"sk-c3018004-101f-41cf-9397-94ce5f87db54\" class\"sk-top-container\"><div class=\"sk-container\"><div class=\"sk-item sk-dashed-wrapped\"><div class=\"sk-label-container\"><div class=\"sk-label sk-toggleable\"><input class=\"sk-toggleable__control sk-hidden--visually\" id=\"3599a1f5-ee9d-4f30-afe1-77b81e73d03e\" type=\"checkbox\" ><label class=\"sk-toggleable__label\" for=\"3599a1f5-ee9d-4f30-afe1-77b81e73d03e\">Pipeline</label><div class=\"sk-toggleable__content\"><pre>Pipeline(steps=[('columntransformer',\n",
       "                 ColumnTransformer(transformers=[('num',\n",
       "                                                  Pipeline(steps=[('imputer',\n",
       "                                                                   SimpleImputer(strategy='median')),\n",
       "                                                                  ('scalar',\n",
       "                                                                   StandardScaler()),\n",
       "                                                                  ('PCA',\n",
       "                                                                   PCA(n_components=20))]),\n",
       "                                                  ['activityrecognition_1',\n",
       "                                                   'android_sensor_accelerometer_mean',\n",
       "                                                   'android_sensor_accelerometer_min',\n",
       "                                                   'android_sensor_accelerometer_max',\n",
       "                                                   'android_sensor_acceler...\n",
       "                                                   'android_sensor_light_min',\n",
       "                                                   'android_sensor_light_max',\n",
       "                                                   'android_sensor_light_std',\n",
       "                                                   'android_sensor_linear_acceleration_mean',\n",
       "                                                   'android_sensor_linear_acceleration_min',\n",
       "                                                   'android_sensor_linear_acceleration_max',\n",
       "                                                   'android_sensor_linear_acceleration_std',\n",
       "                                                   'android_sensor_magnetic_field_mean', ...])])),\n",
       "                ('gradientboostingclassifier', GradientBoostingClassifier())])</pre></div></div></div><div class=\"sk-serial\"><div class=\"sk-item sk-dashed-wrapped\"><div class=\"sk-label-container\"><div class=\"sk-label sk-toggleable\"><input class=\"sk-toggleable__control sk-hidden--visually\" id=\"bd460512-0713-4c3c-9572-a99652b8ec48\" type=\"checkbox\" ><label class=\"sk-toggleable__label\" for=\"bd460512-0713-4c3c-9572-a99652b8ec48\">columntransformer: ColumnTransformer</label><div class=\"sk-toggleable__content\"><pre>ColumnTransformer(transformers=[('num',\n",
       "                                 Pipeline(steps=[('imputer',\n",
       "                                                  SimpleImputer(strategy='median')),\n",
       "                                                 ('scalar', StandardScaler()),\n",
       "                                                 ('PCA',\n",
       "                                                  PCA(n_components=20))]),\n",
       "                                 ['activityrecognition_1',\n",
       "                                  'android_sensor_accelerometer_mean',\n",
       "                                  'android_sensor_accelerometer_min',\n",
       "                                  'android_sensor_accelerometer_max',\n",
       "                                  'android_sensor_accelerometer_std',\n",
       "                                  'android_sensor_game_rota...\n",
       "                                  'android_sensor_gyroscope_uncalibrated_std',\n",
       "                                  'android_sensor_light_mean',\n",
       "                                  'android_sensor_light_min',\n",
       "                                  'android_sensor_light_max',\n",
       "                                  'android_sensor_light_std',\n",
       "                                  'android_sensor_linear_acceleration_mean',\n",
       "                                  'android_sensor_linear_acceleration_min',\n",
       "                                  'android_sensor_linear_acceleration_max',\n",
       "                                  'android_sensor_linear_acceleration_std',\n",
       "                                  'android_sensor_magnetic_field_mean', ...])])</pre></div></div></div><div class=\"sk-parallel\"><div class=\"sk-parallel-item\"><div class=\"sk-item\"><div class=\"sk-label-container\"><div class=\"sk-label sk-toggleable\"><input class=\"sk-toggleable__control sk-hidden--visually\" id=\"3d47bc0e-32e2-48e6-820e-aa40611b0750\" type=\"checkbox\" ><label class=\"sk-toggleable__label\" for=\"3d47bc0e-32e2-48e6-820e-aa40611b0750\">num</label><div class=\"sk-toggleable__content\"><pre>['activityrecognition_1', 'android_sensor_accelerometer_mean', 'android_sensor_accelerometer_min', 'android_sensor_accelerometer_max', 'android_sensor_accelerometer_std', 'android_sensor_game_rotation_vector_mean', 'android_sensor_game_rotation_vector_min', 'android_sensor_game_rotation_vector_max', 'android_sensor_game_rotation_vector_std', 'android_sensor_gravity_mean', 'android_sensor_gravity_min', 'android_sensor_gravity_max', 'android_sensor_gravity_std', 'android_sensor_gyroscope_mean', 'android_sensor_gyroscope_min', 'android_sensor_gyroscope_max', 'android_sensor_gyroscope_std', 'android_sensor_gyroscope_uncalibrated_mean', 'android_sensor_gyroscope_uncalibrated_min', 'android_sensor_gyroscope_uncalibrated_max', 'android_sensor_gyroscope_uncalibrated_std', 'android_sensor_light_mean', 'android_sensor_light_min', 'android_sensor_light_max', 'android_sensor_light_std', 'android_sensor_linear_acceleration_mean', 'android_sensor_linear_acceleration_min', 'android_sensor_linear_acceleration_max', 'android_sensor_linear_acceleration_std', 'android_sensor_magnetic_field_mean', 'android_sensor_magnetic_field_min', 'android_sensor_magnetic_field_max', 'android_sensor_magnetic_field_std', 'android_sensor_magnetic_field_uncalibrated_mean', 'android_sensor_magnetic_field_uncalibrated_min', 'android_sensor_magnetic_field_uncalibrated_max', 'android_sensor_magnetic_field_uncalibrated_std', 'android_sensor_orientation_mean', 'android_sensor_orientation_min', 'android_sensor_orientation_max', 'android_sensor_orientation_std', 'android_sensor_pressure_mean', 'android_sensor_pressure_min', 'android_sensor_pressure_max', 'android_sensor_rotation_vector_mean', 'android_sensor_rotation_vector_min', 'android_sensor_rotation_vector_max', 'android_sensor_rotation_vector_std', 'android_sensor_step_counter_mean', 'android_sensor_step_counter_min', 'android_sensor_step_counter_max', 'sound_mean', 'sound_min', 'sound_max', 'sound_std', 'speed_mean', 'speed_min', 'speed_max']</pre></div></div></div><div class=\"sk-serial\"><div class=\"sk-item\"><div class=\"sk-serial\"><div class=\"sk-item\"><div class=\"sk-estimator sk-toggleable\"><input class=\"sk-toggleable__control sk-hidden--visually\" id=\"c7768358-9ac1-4454-b8d4-0c40a39bdcb2\" type=\"checkbox\" ><label class=\"sk-toggleable__label\" for=\"c7768358-9ac1-4454-b8d4-0c40a39bdcb2\">SimpleImputer</label><div class=\"sk-toggleable__content\"><pre>SimpleImputer(strategy='median')</pre></div></div></div><div class=\"sk-item\"><div class=\"sk-estimator sk-toggleable\"><input class=\"sk-toggleable__control sk-hidden--visually\" id=\"90da93e3-d09f-4972-8ad7-e1af5086c9c8\" type=\"checkbox\" ><label class=\"sk-toggleable__label\" for=\"90da93e3-d09f-4972-8ad7-e1af5086c9c8\">StandardScaler</label><div class=\"sk-toggleable__content\"><pre>StandardScaler()</pre></div></div></div><div class=\"sk-item\"><div class=\"sk-estimator sk-toggleable\"><input class=\"sk-toggleable__control sk-hidden--visually\" id=\"8f25eecb-b301-4e32-a875-5fc0a786c289\" type=\"checkbox\" ><label class=\"sk-toggleable__label\" for=\"8f25eecb-b301-4e32-a875-5fc0a786c289\">PCA</label><div class=\"sk-toggleable__content\"><pre>PCA(n_components=20)</pre></div></div></div></div></div></div></div></div></div></div><div class=\"sk-item\"><div class=\"sk-estimator sk-toggleable\"><input class=\"sk-toggleable__control sk-hidden--visually\" id=\"814ed8ab-2bfb-48ee-bb75-ae1df72388f6\" type=\"checkbox\" ><label class=\"sk-toggleable__label\" for=\"814ed8ab-2bfb-48ee-bb75-ae1df72388f6\">GradientBoostingClassifier</label><div class=\"sk-toggleable__content\"><pre>GradientBoostingClassifier()</pre></div></div></div></div></div></div></div>"
      ],
      "text/plain": [
       "Pipeline(steps=[('columntransformer',\n",
       "                 ColumnTransformer(transformers=[('num',\n",
       "                                                  Pipeline(steps=[('imputer',\n",
       "                                                                   SimpleImputer(strategy='median')),\n",
       "                                                                  ('scalar',\n",
       "                                                                   StandardScaler()),\n",
       "                                                                  ('PCA',\n",
       "                                                                   PCA(n_components=20))]),\n",
       "                                                  ['activityrecognition_1',\n",
       "                                                   'android_sensor_accelerometer_mean',\n",
       "                                                   'android_sensor_accelerometer_min',\n",
       "                                                   'android_sensor_accelerometer_max',\n",
       "                                                   'android_sensor_acceler...\n",
       "                                                   'android_sensor_light_min',\n",
       "                                                   'android_sensor_light_max',\n",
       "                                                   'android_sensor_light_std',\n",
       "                                                   'android_sensor_linear_acceleration_mean',\n",
       "                                                   'android_sensor_linear_acceleration_min',\n",
       "                                                   'android_sensor_linear_acceleration_max',\n",
       "                                                   'android_sensor_linear_acceleration_std',\n",
       "                                                   'android_sensor_magnetic_field_mean', ...])])),\n",
       "                ('gradientboostingclassifier', GradientBoostingClassifier())])"
      ]
     },
     "execution_count": 17,
     "metadata": {},
     "output_type": "execute_result"
    }
   ],
   "source": [
    "models = {\n",
    "\"DecisionTreeClassifier\": DecisionTreeClassifier(),\n",
    "'KNeighborsClassifier':KNeighborsClassifier(6),\n",
    "'LogisticRegression':LogisticRegression(),\n",
    "\"RandomForestClassifier\":RandomForestClassifier(),\n",
    "\"GradientBoostingClassifier\":GradientBoostingClassifier(),\n",
    "\"XGBClassifier\":XGBClassifier(),\n",
    "\"LGBMClassifier\":LGBMClassifier(),\n",
    "'GaussianNB':GaussianNB(),\n",
    "\n",
    "}\n",
    "# make pipline with  preprocessing \n",
    "classifiers = {name:make_pipeline(preprocessor, model) for name, model in models.items()}\n",
    "classifiers[\"GradientBoostingClassifier\"]"
   ]
  },
  {
   "cell_type": "code",
   "execution_count": 18,
   "id": "fe97feec",
   "metadata": {
    "ExecuteTime": {
     "end_time": "2021-05-20T17:17:28.437312Z",
     "start_time": "2021-05-20T17:17:18.487822Z"
    }
   },
   "outputs": [
    {
     "name": "stdout",
     "output_type": "stream",
     "text": [
      "[21:17:25] WARNING: ../src/learner.cc:1095: Starting in XGBoost 1.3.0, the default evaluation metric used with the objective 'multi:softprob' was changed from 'merror' to 'mlogloss'. Explicitly set eval_metric if you'd like to restore the old behavior.\n"
     ]
    },
    {
     "data": {
      "text/html": [
       "<style  type=\"text/css\" >\n",
       "#T_01c38_row0_col1,#T_01c38_row0_col2{\n",
       "            width:  10em;\n",
       "             height:  80%;\n",
       "            background:  linear-gradient(90deg,#5fba7d 98.8%, transparent 98.8%);\n",
       "        }#T_01c38_row1_col1,#T_01c38_row1_col2{\n",
       "            width:  10em;\n",
       "             height:  80%;\n",
       "            background:  linear-gradient(90deg,#5fba7d 98.5%, transparent 98.5%);\n",
       "        }#T_01c38_row2_col1{\n",
       "            width:  10em;\n",
       "             height:  80%;\n",
       "            background:  linear-gradient(90deg,#5fba7d 97.9%, transparent 97.9%);\n",
       "        }#T_01c38_row2_col2{\n",
       "            width:  10em;\n",
       "             height:  80%;\n",
       "            background:  linear-gradient(90deg,#5fba7d 97.8%, transparent 97.8%);\n",
       "        }#T_01c38_row3_col1,#T_01c38_row3_col2{\n",
       "            width:  10em;\n",
       "             height:  80%;\n",
       "            background:  linear-gradient(90deg,#5fba7d 97.7%, transparent 97.7%);\n",
       "        }#T_01c38_row4_col1{\n",
       "            width:  10em;\n",
       "             height:  80%;\n",
       "            background:  linear-gradient(90deg,#5fba7d 97.1%, transparent 97.1%);\n",
       "        }#T_01c38_row4_col2{\n",
       "            width:  10em;\n",
       "             height:  80%;\n",
       "            background:  linear-gradient(90deg,#5fba7d 97.0%, transparent 97.0%);\n",
       "        }#T_01c38_row5_col1{\n",
       "            width:  10em;\n",
       "             height:  80%;\n",
       "            background:  linear-gradient(90deg,#5fba7d 94.8%, transparent 94.8%);\n",
       "        }#T_01c38_row5_col2{\n",
       "            width:  10em;\n",
       "             height:  80%;\n",
       "            background:  linear-gradient(90deg,#5fba7d 94.7%, transparent 94.7%);\n",
       "        }#T_01c38_row6_col1{\n",
       "            width:  10em;\n",
       "             height:  80%;\n",
       "            background:  linear-gradient(90deg,#5fba7d 92.2%, transparent 92.2%);\n",
       "        }#T_01c38_row6_col2{\n",
       "            width:  10em;\n",
       "             height:  80%;\n",
       "            background:  linear-gradient(90deg,#5fba7d 92.3%, transparent 92.3%);\n",
       "        }#T_01c38_row7_col1{\n",
       "            width:  10em;\n",
       "             height:  80%;\n",
       "            background:  linear-gradient(90deg,#5fba7d 79.8%, transparent 79.8%);\n",
       "        }#T_01c38_row7_col2{\n",
       "            width:  10em;\n",
       "             height:  80%;\n",
       "            background:  linear-gradient(90deg,#5fba7d 80.4%, transparent 80.4%);\n",
       "        }</style><table id=\"T_01c38_\" ><thead>    <tr>        <th class=\"blank level0\" ></th>        <th class=\"col_heading level0 col0\" >Model</th>        <th class=\"col_heading level0 col1\" >Accuracy</th>        <th class=\"col_heading level0 col2\" >Bal Acc.</th>        <th class=\"col_heading level0 col3\" >Time</th>    </tr></thead><tbody>\n",
       "                <tr>\n",
       "                        <th id=\"T_01c38_level0_row0\" class=\"row_heading level0 row0\" >1</th>\n",
       "                        <td id=\"T_01c38_row0_col0\" class=\"data row0 col0\" >LGBMClassifier</td>\n",
       "                        <td id=\"T_01c38_row0_col1\" class=\"data row0 col1\" >98.774885</td>\n",
       "                        <td id=\"T_01c38_row0_col2\" class=\"data row0 col2\" >98.752779</td>\n",
       "                        <td id=\"T_01c38_row0_col3\" class=\"data row0 col3\" >0.791448</td>\n",
       "            </tr>\n",
       "            <tr>\n",
       "                        <th id=\"T_01c38_level0_row1\" class=\"row_heading level0 row1\" >2</th>\n",
       "                        <td id=\"T_01c38_row1_col0\" class=\"data row1 col0\" >XGBClassifier</td>\n",
       "                        <td id=\"T_01c38_row1_col1\" class=\"data row1 col1\" >98.468606</td>\n",
       "                        <td id=\"T_01c38_row1_col2\" class=\"data row1 col2\" >98.468522</td>\n",
       "                        <td id=\"T_01c38_row1_col3\" class=\"data row1 col3\" >1.446500</td>\n",
       "            </tr>\n",
       "            <tr>\n",
       "                        <th id=\"T_01c38_level0_row2\" class=\"row_heading level0 row2\" >3</th>\n",
       "                        <td id=\"T_01c38_row2_col0\" class=\"data row2 col0\" >GradientBoostingClassifier</td>\n",
       "                        <td id=\"T_01c38_row2_col1\" class=\"data row2 col1\" >97.856049</td>\n",
       "                        <td id=\"T_01c38_row2_col2\" class=\"data row2 col2\" >97.799144</td>\n",
       "                        <td id=\"T_01c38_row2_col3\" class=\"data row2 col3\" >4.975165</td>\n",
       "            </tr>\n",
       "            <tr>\n",
       "                        <th id=\"T_01c38_level0_row3\" class=\"row_heading level0 row3\" >4</th>\n",
       "                        <td id=\"T_01c38_row3_col0\" class=\"data row3 col0\" >RandomForestClassifier</td>\n",
       "                        <td id=\"T_01c38_row3_col1\" class=\"data row3 col1\" >97.702910</td>\n",
       "                        <td id=\"T_01c38_row3_col2\" class=\"data row3 col2\" >97.711507</td>\n",
       "                        <td id=\"T_01c38_row3_col3\" class=\"data row3 col3\" >1.156874</td>\n",
       "            </tr>\n",
       "            <tr>\n",
       "                        <th id=\"T_01c38_level0_row4\" class=\"row_heading level0 row4\" >5</th>\n",
       "                        <td id=\"T_01c38_row4_col0\" class=\"data row4 col0\" >KNeighborsClassifier</td>\n",
       "                        <td id=\"T_01c38_row4_col1\" class=\"data row4 col1\" >97.090352</td>\n",
       "                        <td id=\"T_01c38_row4_col2\" class=\"data row4 col2\" >97.009752</td>\n",
       "                        <td id=\"T_01c38_row4_col3\" class=\"data row4 col3\" >0.079536</td>\n",
       "            </tr>\n",
       "            <tr>\n",
       "                        <th id=\"T_01c38_level0_row5\" class=\"row_heading level0 row5\" >6</th>\n",
       "                        <td id=\"T_01c38_row5_col0\" class=\"data row5 col0\" >DecisionTreeClassifier</td>\n",
       "                        <td id=\"T_01c38_row5_col1\" class=\"data row5 col1\" >94.793262</td>\n",
       "                        <td id=\"T_01c38_row5_col2\" class=\"data row5 col2\" >94.732455</td>\n",
       "                        <td id=\"T_01c38_row5_col3\" class=\"data row5 col3\" >0.395184</td>\n",
       "            </tr>\n",
       "            <tr>\n",
       "                        <th id=\"T_01c38_level0_row6\" class=\"row_heading level0 row6\" >7</th>\n",
       "                        <td id=\"T_01c38_row6_col0\" class=\"data row6 col0\" >LogisticRegression</td>\n",
       "                        <td id=\"T_01c38_row6_col1\" class=\"data row6 col1\" >92.189893</td>\n",
       "                        <td id=\"T_01c38_row6_col2\" class=\"data row6 col2\" >92.332787</td>\n",
       "                        <td id=\"T_01c38_row6_col3\" class=\"data row6 col3\" >0.294550</td>\n",
       "            </tr>\n",
       "            <tr>\n",
       "                        <th id=\"T_01c38_level0_row7\" class=\"row_heading level0 row7\" >8</th>\n",
       "                        <td id=\"T_01c38_row7_col0\" class=\"data row7 col0\" >GaussianNB</td>\n",
       "                        <td id=\"T_01c38_row7_col1\" class=\"data row7 col1\" >79.785605</td>\n",
       "                        <td id=\"T_01c38_row7_col2\" class=\"data row7 col2\" >80.417301</td>\n",
       "                        <td id=\"T_01c38_row7_col3\" class=\"data row7 col3\" >0.085150</td>\n",
       "            </tr>\n",
       "    </tbody></table>"
      ],
      "text/plain": [
       "<pandas.io.formats.style.Styler at 0x7fb9e80fdc10>"
      ]
     },
     "execution_count": 18,
     "metadata": {},
     "output_type": "execute_result"
    }
   ],
   "source": [
    "x_train, x_val, y_train, y_val = train_test_split(X, y,test_size=0.2,stratify = y,random_state=10 )\n",
    "results = pd.DataFrame({'Model': [], 'Accuracy': [], 'Bal Acc.': [],'Time': []})\n",
    "for  name ,model in classifiers.items():\n",
    "    start_time = time.time()\n",
    "    model.fit(x_train, y_train)\n",
    "    total_time = time.time() - start_time\n",
    "    valid_pred = model.predict(x_val)\n",
    "    results = results.append({\"Model\":    name,\n",
    "                              \"Accuracy\": accuracy_score(y_val, valid_pred)*100,\n",
    "                              \"Bal Acc.\": balanced_accuracy_score(y_val, valid_pred)*100,\n",
    "                    \n",
    "                              \"Time\":     total_time},\n",
    "                              ignore_index=True)\n",
    "results_ord = results.sort_values(by=['Accuracy'], ascending=False, ignore_index=True)\n",
    "results_ord.index += 1 \n",
    "results_ord.style.bar(subset=['Accuracy', 'Bal Acc.'], vmin=0, vmax=100, color='#5fba7d')"
   ]
  },
  {
   "cell_type": "code",
   "execution_count": 22,
   "id": "52a07025",
   "metadata": {
    "ExecuteTime": {
     "end_time": "2021-05-20T17:23:22.549909Z",
     "start_time": "2021-05-20T17:23:22.545678Z"
    }
   },
   "outputs": [],
   "source": [
    "best_model=LGBMClassifier(max_depth= 28\n",
    ", n_estimators= 388, num_leaves=70,min_data_in_leaf=104,learning_rate= 0.03432830269529964)\n",
    "name='LGBMClassifier'\n",
    "clf=Pipeline([('pre',preprocessor),('classification',best_model)])\n",
    "# 'boosting_type': 'gbdt', 'max_depth': 28, 'n_estimators': 388, 'learning_rate': 0.03432830269529964, 'min_data_in_leaf': 104"
   ]
  },
  {
   "cell_type": "code",
   "execution_count": 23,
   "id": "2435f442",
   "metadata": {
    "ExecuteTime": {
     "end_time": "2021-05-20T17:23:30.018630Z",
     "start_time": "2021-05-20T17:23:23.460026Z"
    }
   },
   "outputs": [
    {
     "name": "stdout",
     "output_type": "stream",
     "text": [
      "[LightGBM] [Warning] min_data_in_leaf is set=104, min_child_samples=20 will be ignored. Current value: min_data_in_leaf=104\n"
     ]
    },
    {
     "data": {
      "text/html": [
       "<style  type=\"text/css\" >\n",
       "#T_c2a32_row0_col1{\n",
       "            width:  10em;\n",
       "             height:  80%;\n",
       "            background:  linear-gradient(90deg,#5fba7d 97.0%, transparent 97.0%);\n",
       "        }#T_c2a32_row0_col2{\n",
       "            width:  10em;\n",
       "             height:  80%;\n",
       "            background:  linear-gradient(90deg,#5fba7d 95.0%, transparent 95.0%);\n",
       "        }</style><table id=\"T_c2a32_\" ><thead>    <tr>        <th class=\"blank level0\" ></th>        <th class=\"col_heading level0 col0\" >Model</th>        <th class=\"col_heading level0 col1\" >Accuracy</th>        <th class=\"col_heading level0 col2\" >Bal Acc.</th>        <th class=\"col_heading level0 col3\" >Time</th>    </tr></thead><tbody>\n",
       "                <tr>\n",
       "                        <th id=\"T_c2a32_level0_row0\" class=\"row_heading level0 row0\" >1</th>\n",
       "                        <td id=\"T_c2a32_row0_col0\" class=\"data row0 col0\" >LGBMClassifier</td>\n",
       "                        <td id=\"T_c2a32_row0_col1\" class=\"data row0 col1\" >97.047970</td>\n",
       "                        <td id=\"T_c2a32_row0_col2\" class=\"data row0 col2\" >94.962963</td>\n",
       "                        <td id=\"T_c2a32_row0_col3\" class=\"data row0 col3\" >6.525897</td>\n",
       "            </tr>\n",
       "    </tbody></table>"
      ],
      "text/plain": [
       "<pandas.io.formats.style.Styler at 0x7fb9e813b430>"
      ]
     },
     "execution_count": 23,
     "metadata": {},
     "output_type": "execute_result"
    }
   ],
   "source": [
    "test_result = pd.DataFrame({'Model': [], 'Accuracy': [], 'Bal Acc.': [],'Time': []})\n",
    "start_time = time.time()\n",
    "best_model.fit(X, y)\n",
    "total_time = time.time() - start_time\n",
    "pred = best_model.predict(X_test)\n",
    "test_result = test_result.append({\"Model\":    name,\n",
    "                          \"Accuracy\": accuracy_score(y_test, pred)*100,\n",
    "                          \"Bal Acc.\": balanced_accuracy_score(y_test, pred)*100,\n",
    "                          \"Time\":     total_time},\n",
    "                          ignore_index=True)\n",
    "test_result_ord = test_result.sort_values(by=['Accuracy'], ascending=False, ignore_index=True)\n",
    "test_result_ord.index += 1 \n",
    "test_result_ord.style.bar(subset=['Accuracy', 'Bal Acc.'], vmin=0, vmax=100, color='#5fba7d')\n"
   ]
  },
  {
   "cell_type": "code",
   "execution_count": 24,
   "id": "a90ffaf9",
   "metadata": {
    "ExecuteTime": {
     "end_time": "2021-05-20T17:23:34.287542Z",
     "start_time": "2021-05-20T17:23:34.261957Z"
    }
   },
   "outputs": [
    {
     "name": "stdout",
     "output_type": "stream",
     "text": [
      "              precision    recall  f1-score   support\n",
      "\n",
      "         Car       0.76      1.00      0.86        16\n",
      "       Still       0.93      0.87      0.90        30\n",
      "     Walking       1.00      0.98      0.99       225\n",
      "\n",
      "    accuracy                           0.97       271\n",
      "   macro avg       0.90      0.95      0.92       271\n",
      "weighted avg       0.97      0.97      0.97       271\n",
      "\n",
      "\n",
      "[[ 16   0   0]\n",
      " [  3  26   1]\n",
      " [  2   2 221]]\n"
     ]
    }
   ],
   "source": [
    "print(classification_report(y_test, pred))\n",
    "print()\n",
    "print(confusion_matrix(y_test, pred))"
   ]
  },
  {
   "cell_type": "markdown",
   "id": "c1bbee38",
   "metadata": {
    "cell_id": "00037-e70c6258-4570-472e-8bf4-63f3ff95d82a",
    "deepnote_cell_type": "markdown",
    "tags": []
   },
   "source": [
    "# Optuna find best parameter for selected model"
   ]
  },
  {
   "cell_type": "code",
   "execution_count": 21,
   "id": "cc25b971",
   "metadata": {
    "ExecuteTime": {
     "end_time": "2021-05-20T17:21:40.568026Z",
     "start_time": "2021-05-20T17:20:59.248883Z"
    },
    "cell_id": "00039-d6a8eb4b-d580-445d-9240-d2166c9bd4c8",
    "deepnote_cell_type": "code",
    "tags": []
   },
   "outputs": [
    {
     "name": "stderr",
     "output_type": "stream",
     "text": [
      "\u001b[32m[I 2021-05-20 21:20:59,255]\u001b[0m A new study created in memory with name: no-name-6b416c91-72e9-48e7-81ac-714bf11a9017\u001b[0m\n",
      "\u001b[32m[I 2021-05-20 21:21:03,937]\u001b[0m Trial 0 finished with value: 0.9871359175942269 and parameters: {'boosting_type': 'gbdt', 'max_depth': 3, 'n_estimators': 430, 'learning_rate': 0.020367654182066063, 'min_data_in_leaf': 34}. Best is trial 0 with value: 0.9871359175942269.\u001b[0m\n",
      "\u001b[32m[I 2021-05-20 21:21:08,488]\u001b[0m Trial 1 finished with value: 0.9871359175942269 and parameters: {'boosting_type': 'gbdt', 'max_depth': 11, 'n_estimators': 418, 'learning_rate': 0.02205023517208185, 'min_data_in_leaf': 158}. Best is trial 0 with value: 0.9871359175942269.\u001b[0m\n",
      "\u001b[32m[I 2021-05-20 21:21:09,752]\u001b[0m Trial 2 finished with value: 0.9742723980284091 and parameters: {'boosting_type': 'gbdt', 'max_depth': 28, 'n_estimators': 346, 'learning_rate': 0.05215184146682336, 'min_data_in_leaf': 420}. Best is trial 0 with value: 0.9871359175942269.\u001b[0m\n",
      "\u001b[32m[I 2021-05-20 21:21:10,319]\u001b[0m Trial 3 finished with value: 0.919446345592738 and parameters: {'boosting_type': 'gbdt', 'max_depth': 1, 'n_estimators': 184, 'learning_rate': 0.017422182759569825, 'min_data_in_leaf': 260}. Best is trial 0 with value: 0.9871359175942269.\u001b[0m\n",
      "\u001b[33m[W 2021-05-20 21:21:10,474]\u001b[0m Trial 4 failed, because the objective function returned nan.\u001b[0m\n",
      "\u001b[33m[W 2021-05-20 21:21:10,623]\u001b[0m Trial 5 failed, because the objective function returned nan.\u001b[0m\n",
      "\u001b[33m[W 2021-05-20 21:21:10,773]\u001b[0m Trial 6 failed, because the objective function returned nan.\u001b[0m\n",
      "\u001b[32m[I 2021-05-20 21:21:17,653]\u001b[0m Trial 7 finished with value: 0.9889735900483893 and parameters: {'boosting_type': 'gbdt', 'max_depth': 28, 'n_estimators': 388, 'learning_rate': 0.03432830269529964, 'min_data_in_leaf': 104}. Best is trial 7 with value: 0.9889735900483893.\u001b[0m\n",
      "\u001b[33m[W 2021-05-20 21:21:17,800]\u001b[0m Trial 8 failed, because the objective function returned nan.\u001b[0m\n",
      "\u001b[33m[W 2021-05-20 21:21:17,944]\u001b[0m Trial 9 failed, because the objective function returned nan.\u001b[0m\n",
      "\u001b[33m[W 2021-05-20 21:21:18,095]\u001b[0m Trial 10 failed, because the objective function returned nan.\u001b[0m\n",
      "\u001b[32m[I 2021-05-20 21:21:19,917]\u001b[0m Trial 11 finished with value: 0.9865233601095061 and parameters: {'boosting_type': 'gbdt', 'max_depth': 16, 'n_estimators': 418, 'learning_rate': 0.0973887818494973, 'min_data_in_leaf': 311}. Best is trial 7 with value: 0.9889735900483893.\u001b[0m\n",
      "\u001b[32m[I 2021-05-20 21:21:21,350]\u001b[0m Trial 12 finished with value: 0.9415001035625518 and parameters: {'boosting_type': 'gbdt', 'max_depth': 31, 'n_estimators': 216, 'learning_rate': 0.010234873471938744, 'min_data_in_leaf': 249}. Best is trial 7 with value: 0.9889735900483893.\u001b[0m\n",
      "\u001b[33m[W 2021-05-20 21:21:21,499]\u001b[0m Trial 13 failed, because the objective function returned nan.\u001b[0m\n",
      "\u001b[32m[I 2021-05-20 21:21:23,923]\u001b[0m Trial 14 finished with value: 0.9748851431264484 and parameters: {'boosting_type': 'gbdt', 'max_depth': 26, 'n_estimators': 262, 'learning_rate': 0.013847012439580537, 'min_data_in_leaf': 161}. Best is trial 7 with value: 0.9889735900483893.\u001b[0m\n",
      "\u001b[33m[W 2021-05-20 21:21:24,069]\u001b[0m Trial 15 failed, because the objective function returned nan.\u001b[0m\n",
      "\u001b[32m[I 2021-05-20 21:21:24,954]\u001b[0m Trial 16 finished with value: 0.949464288930514 and parameters: {'boosting_type': 'gbdt', 'max_depth': 7, 'n_estimators': 147, 'learning_rate': 0.0183462376191984, 'min_data_in_leaf': 254}. Best is trial 7 with value: 0.9889735900483893.\u001b[0m\n",
      "\u001b[33m[W 2021-05-20 21:21:25,008]\u001b[0m Trial 17 failed, because the objective function returned nan.\u001b[0m\n",
      "\u001b[33m[W 2021-05-20 21:21:25,179]\u001b[0m Trial 18 failed, because the objective function returned nan.\u001b[0m\n",
      "\u001b[32m[I 2021-05-20 21:21:27,615]\u001b[0m Trial 19 finished with value: 0.988054284788012 and parameters: {'boosting_type': 'gbdt', 'max_depth': 17, 'n_estimators': 376, 'learning_rate': 0.09120996276785259, 'min_data_in_leaf': 215}. Best is trial 7 with value: 0.9889735900483893.\u001b[0m\n",
      "\u001b[33m[W 2021-05-20 21:21:27,792]\u001b[0m Trial 20 failed, because the objective function returned nan.\u001b[0m\n",
      "\u001b[33m[W 2021-05-20 21:21:27,950]\u001b[0m Trial 21 failed, because the objective function returned nan.\u001b[0m\n",
      "\u001b[33m[W 2021-05-20 21:21:28,111]\u001b[0m Trial 22 failed, because the objective function returned nan.\u001b[0m\n",
      "\u001b[33m[W 2021-05-20 21:21:28,272]\u001b[0m Trial 23 failed, because the objective function returned nan.\u001b[0m\n",
      "\u001b[33m[W 2021-05-20 21:21:28,433]\u001b[0m Trial 24 failed, because the objective function returned nan.\u001b[0m\n",
      "\u001b[33m[W 2021-05-20 21:21:28,595]\u001b[0m Trial 25 failed, because the objective function returned nan.\u001b[0m\n",
      "\u001b[33m[W 2021-05-20 21:21:28,756]\u001b[0m Trial 26 failed, because the objective function returned nan.\u001b[0m\n",
      "\u001b[33m[W 2021-05-20 21:21:28,916]\u001b[0m Trial 27 failed, because the objective function returned nan.\u001b[0m\n",
      "\u001b[33m[W 2021-05-20 21:21:29,083]\u001b[0m Trial 28 failed, because the objective function returned nan.\u001b[0m\n",
      "\u001b[33m[W 2021-05-20 21:21:29,250]\u001b[0m Trial 29 failed, because the objective function returned nan.\u001b[0m\n",
      "\u001b[33m[W 2021-05-20 21:21:29,413]\u001b[0m Trial 30 failed, because the objective function returned nan.\u001b[0m\n",
      "\u001b[33m[W 2021-05-20 21:21:29,575]\u001b[0m Trial 31 failed, because the objective function returned nan.\u001b[0m\n",
      "\u001b[33m[W 2021-05-20 21:21:29,742]\u001b[0m Trial 32 failed, because the objective function returned nan.\u001b[0m\n",
      "\u001b[33m[W 2021-05-20 21:21:29,895]\u001b[0m Trial 33 failed, because the objective function returned nan.\u001b[0m\n",
      "\u001b[33m[W 2021-05-20 21:21:30,062]\u001b[0m Trial 34 failed, because the objective function returned nan.\u001b[0m\n",
      "\u001b[33m[W 2021-05-20 21:21:30,122]\u001b[0m Trial 35 failed, because the objective function returned nan.\u001b[0m\n",
      "\u001b[33m[W 2021-05-20 21:21:30,294]\u001b[0m Trial 36 failed, because the objective function returned nan.\u001b[0m\n",
      "\u001b[33m[W 2021-05-20 21:21:30,459]\u001b[0m Trial 37 failed, because the objective function returned nan.\u001b[0m\n",
      "\u001b[33m[W 2021-05-20 21:21:30,620]\u001b[0m Trial 38 failed, because the objective function returned nan.\u001b[0m\n",
      "\u001b[33m[W 2021-05-20 21:21:30,786]\u001b[0m Trial 39 failed, because the objective function returned nan.\u001b[0m\n",
      "\u001b[33m[W 2021-05-20 21:21:30,941]\u001b[0m Trial 40 failed, because the objective function returned nan.\u001b[0m\n",
      "\u001b[33m[W 2021-05-20 21:21:31,108]\u001b[0m Trial 41 failed, because the objective function returned nan.\u001b[0m\n",
      "\u001b[33m[W 2021-05-20 21:21:31,268]\u001b[0m Trial 42 failed, because the objective function returned nan.\u001b[0m\n",
      "\u001b[33m[W 2021-05-20 21:21:31,428]\u001b[0m Trial 43 failed, because the objective function returned nan.\u001b[0m\n",
      "\u001b[33m[W 2021-05-20 21:21:31,596]\u001b[0m Trial 44 failed, because the objective function returned nan.\u001b[0m\n",
      "\u001b[33m[W 2021-05-20 21:21:31,660]\u001b[0m Trial 45 failed, because the objective function returned nan.\u001b[0m\n",
      "\u001b[33m[W 2021-05-20 21:21:31,826]\u001b[0m Trial 46 failed, because the objective function returned nan.\u001b[0m\n",
      "\u001b[33m[W 2021-05-20 21:21:31,982]\u001b[0m Trial 47 failed, because the objective function returned nan.\u001b[0m\n",
      "\u001b[33m[W 2021-05-20 21:21:32,153]\u001b[0m Trial 48 failed, because the objective function returned nan.\u001b[0m\n",
      "\u001b[33m[W 2021-05-20 21:21:32,343]\u001b[0m Trial 49 failed, because the objective function returned nan.\u001b[0m\n",
      "\u001b[33m[W 2021-05-20 21:21:32,518]\u001b[0m Trial 50 failed, because the objective function returned nan.\u001b[0m\n",
      "\u001b[33m[W 2021-05-20 21:21:32,677]\u001b[0m Trial 51 failed, because the objective function returned nan.\u001b[0m\n",
      "\u001b[33m[W 2021-05-20 21:21:32,862]\u001b[0m Trial 52 failed, because the objective function returned nan.\u001b[0m\n",
      "\u001b[33m[W 2021-05-20 21:21:33,026]\u001b[0m Trial 53 failed, because the objective function returned nan.\u001b[0m\n",
      "\u001b[33m[W 2021-05-20 21:21:33,203]\u001b[0m Trial 54 failed, because the objective function returned nan.\u001b[0m\n",
      "\u001b[33m[W 2021-05-20 21:21:33,373]\u001b[0m Trial 55 failed, because the objective function returned nan.\u001b[0m\n",
      "\u001b[33m[W 2021-05-20 21:21:33,530]\u001b[0m Trial 56 failed, because the objective function returned nan.\u001b[0m\n",
      "\u001b[33m[W 2021-05-20 21:21:33,711]\u001b[0m Trial 57 failed, because the objective function returned nan.\u001b[0m\n",
      "\u001b[33m[W 2021-05-20 21:21:33,883]\u001b[0m Trial 58 failed, because the objective function returned nan.\u001b[0m\n",
      "\u001b[33m[W 2021-05-20 21:21:34,042]\u001b[0m Trial 59 failed, because the objective function returned nan.\u001b[0m\n",
      "\u001b[33m[W 2021-05-20 21:21:34,202]\u001b[0m Trial 60 failed, because the objective function returned nan.\u001b[0m\n",
      "\u001b[33m[W 2021-05-20 21:21:34,361]\u001b[0m Trial 61 failed, because the objective function returned nan.\u001b[0m\n"
     ]
    },
    {
     "name": "stderr",
     "output_type": "stream",
     "text": [
      "\u001b[33m[W 2021-05-20 21:21:34,522]\u001b[0m Trial 62 failed, because the objective function returned nan.\u001b[0m\n",
      "\u001b[33m[W 2021-05-20 21:21:34,679]\u001b[0m Trial 63 failed, because the objective function returned nan.\u001b[0m\n",
      "\u001b[33m[W 2021-05-20 21:21:34,839]\u001b[0m Trial 64 failed, because the objective function returned nan.\u001b[0m\n",
      "\u001b[33m[W 2021-05-20 21:21:35,002]\u001b[0m Trial 65 failed, because the objective function returned nan.\u001b[0m\n",
      "\u001b[33m[W 2021-05-20 21:21:35,176]\u001b[0m Trial 66 failed, because the objective function returned nan.\u001b[0m\n",
      "\u001b[33m[W 2021-05-20 21:21:35,333]\u001b[0m Trial 67 failed, because the objective function returned nan.\u001b[0m\n",
      "\u001b[33m[W 2021-05-20 21:21:35,492]\u001b[0m Trial 68 failed, because the objective function returned nan.\u001b[0m\n",
      "\u001b[33m[W 2021-05-20 21:21:35,651]\u001b[0m Trial 69 failed, because the objective function returned nan.\u001b[0m\n",
      "\u001b[33m[W 2021-05-20 21:21:35,817]\u001b[0m Trial 70 failed, because the objective function returned nan.\u001b[0m\n",
      "\u001b[33m[W 2021-05-20 21:21:35,975]\u001b[0m Trial 71 failed, because the objective function returned nan.\u001b[0m\n",
      "\u001b[33m[W 2021-05-20 21:21:36,149]\u001b[0m Trial 72 failed, because the objective function returned nan.\u001b[0m\n",
      "\u001b[33m[W 2021-05-20 21:21:36,318]\u001b[0m Trial 73 failed, because the objective function returned nan.\u001b[0m\n",
      "\u001b[33m[W 2021-05-20 21:21:36,487]\u001b[0m Trial 74 failed, because the objective function returned nan.\u001b[0m\n",
      "\u001b[33m[W 2021-05-20 21:21:36,659]\u001b[0m Trial 75 failed, because the objective function returned nan.\u001b[0m\n",
      "\u001b[33m[W 2021-05-20 21:21:36,827]\u001b[0m Trial 76 failed, because the objective function returned nan.\u001b[0m\n",
      "\u001b[33m[W 2021-05-20 21:21:36,994]\u001b[0m Trial 77 failed, because the objective function returned nan.\u001b[0m\n",
      "\u001b[33m[W 2021-05-20 21:21:37,165]\u001b[0m Trial 78 failed, because the objective function returned nan.\u001b[0m\n",
      "\u001b[33m[W 2021-05-20 21:21:37,326]\u001b[0m Trial 79 failed, because the objective function returned nan.\u001b[0m\n",
      "\u001b[33m[W 2021-05-20 21:21:37,488]\u001b[0m Trial 80 failed, because the objective function returned nan.\u001b[0m\n",
      "\u001b[33m[W 2021-05-20 21:21:37,646]\u001b[0m Trial 81 failed, because the objective function returned nan.\u001b[0m\n",
      "\u001b[33m[W 2021-05-20 21:21:37,813]\u001b[0m Trial 82 failed, because the objective function returned nan.\u001b[0m\n",
      "\u001b[33m[W 2021-05-20 21:21:37,975]\u001b[0m Trial 83 failed, because the objective function returned nan.\u001b[0m\n",
      "\u001b[33m[W 2021-05-20 21:21:38,145]\u001b[0m Trial 84 failed, because the objective function returned nan.\u001b[0m\n",
      "\u001b[33m[W 2021-05-20 21:21:38,313]\u001b[0m Trial 85 failed, because the objective function returned nan.\u001b[0m\n",
      "\u001b[33m[W 2021-05-20 21:21:38,475]\u001b[0m Trial 86 failed, because the objective function returned nan.\u001b[0m\n",
      "\u001b[33m[W 2021-05-20 21:21:38,642]\u001b[0m Trial 87 failed, because the objective function returned nan.\u001b[0m\n",
      "\u001b[33m[W 2021-05-20 21:21:38,804]\u001b[0m Trial 88 failed, because the objective function returned nan.\u001b[0m\n",
      "\u001b[33m[W 2021-05-20 21:21:38,969]\u001b[0m Trial 89 failed, because the objective function returned nan.\u001b[0m\n",
      "\u001b[33m[W 2021-05-20 21:21:39,132]\u001b[0m Trial 90 failed, because the objective function returned nan.\u001b[0m\n",
      "\u001b[33m[W 2021-05-20 21:21:39,306]\u001b[0m Trial 91 failed, because the objective function returned nan.\u001b[0m\n",
      "\u001b[33m[W 2021-05-20 21:21:39,468]\u001b[0m Trial 92 failed, because the objective function returned nan.\u001b[0m\n",
      "\u001b[33m[W 2021-05-20 21:21:39,636]\u001b[0m Trial 93 failed, because the objective function returned nan.\u001b[0m\n",
      "\u001b[33m[W 2021-05-20 21:21:39,815]\u001b[0m Trial 94 failed, because the objective function returned nan.\u001b[0m\n",
      "\u001b[33m[W 2021-05-20 21:21:39,976]\u001b[0m Trial 95 failed, because the objective function returned nan.\u001b[0m\n",
      "\u001b[33m[W 2021-05-20 21:21:40,053]\u001b[0m Trial 96 failed, because the objective function returned nan.\u001b[0m\n",
      "\u001b[33m[W 2021-05-20 21:21:40,232]\u001b[0m Trial 97 failed, because the objective function returned nan.\u001b[0m\n",
      "\u001b[33m[W 2021-05-20 21:21:40,391]\u001b[0m Trial 98 failed, because the objective function returned nan.\u001b[0m\n",
      "\u001b[33m[W 2021-05-20 21:21:40,562]\u001b[0m Trial 99 failed, because the objective function returned nan.\u001b[0m\n"
     ]
    },
    {
     "name": "stdout",
     "output_type": "stream",
     "text": [
      "Accuracy: 0.9889735900483893\n",
      "Best hyperparameters: {'boosting_type': 'gbdt', 'max_depth': 28, 'n_estimators': 388, 'learning_rate': 0.03432830269529964, 'min_data_in_leaf': 104}\n"
     ]
    }
   ],
   "source": [
    "\n",
    "def objective(trial):\n",
    "\n",
    "    boosting_type = trial.suggest_categorical(\"boosting_type\", [\"gbdt\", \"rf\"])\n",
    "    max_depth = trial.suggest_int('max_depth', 1, 32)\n",
    "    n_estimators = trial.suggest_int(\"n_estimators\", 100,500)\n",
    "    learning_rate=trial.suggest_float(\"learning_rate\", 0.001,0.1)\n",
    "    min_data_in_leaf= trial.suggest_int(\"min_data_in_leaf\", 10,500)\n",
    "    \n",
    "    lg_lgbm = LGBMClassifier( boosting_type=boosting_type, max_depth=max_depth, \n",
    "            n_estimators=n_estimators,learning_rate=learning_rate,min_data_in_leaf=min_data_in_leaf\n",
    "        )\n",
    "\n",
    "    score = cross_val_score(lg_lgbm, X,y, n_jobs=-1, cv=2)\n",
    "    accuracy = score.mean()\n",
    "    return accuracy\n",
    "\n",
    "study = optuna.create_study(direction=\"maximize\")\n",
    "study.optimize(objective, n_trials=100)\n",
    "\n",
    "trial = study.best_trial\n",
    "print('Accuracy: {}'.format(trial.value))\n",
    "print(\"Best hyperparameters: {}\".format(trial.params))\n"
   ]
  }
 ],
 "metadata": {
  "deepnote": {},
  "deepnote_execution_queue": [
   {
    "cellId": "00036-f8044fff-4d29-45bd-8ff8-21846e0256f1",
    "msgId": "a0eefad6-7bbd-4603-8fed-2940de8884ea",
    "sessionId": "a4c44e80-405a-43fc-968f-79577dc2c4bf"
   }
  ],
  "deepnote_notebook_id": "4d03dad0-0d4b-4262-80a0-cfac3bff1f59",
  "hide_input": false,
  "kernelspec": {
   "display_name": "Python 3",
   "language": "python",
   "name": "python3"
  },
  "language_info": {
   "codemirror_mode": {
    "name": "ipython",
    "version": 3
   },
   "file_extension": ".py",
   "mimetype": "text/x-python",
   "name": "python",
   "nbconvert_exporter": "python",
   "pygments_lexer": "ipython3",
   "version": "3.8.2"
  },
  "toc": {
   "base_numbering": 1,
   "nav_menu": {},
   "number_sections": true,
   "sideBar": true,
   "skip_h1_title": false,
   "title_cell": "Table of Contents",
   "title_sidebar": "Contents",
   "toc_cell": false,
   "toc_position": {},
   "toc_section_display": true,
   "toc_window_display": false
  },
  "varInspector": {
   "cols": {
    "lenName": 16,
    "lenType": 16,
    "lenVar": 40
   },
   "kernels_config": {
    "python": {
     "delete_cmd_postfix": "",
     "delete_cmd_prefix": "del ",
     "library": "var_list.py",
     "varRefreshCmd": "print(var_dic_list())"
    },
    "r": {
     "delete_cmd_postfix": ") ",
     "delete_cmd_prefix": "rm(",
     "library": "var_list.r",
     "varRefreshCmd": "cat(var_dic_list()) "
    }
   },
   "types_to_exclude": [
    "module",
    "function",
    "builtin_function_or_method",
    "instance",
    "_Feature"
   ],
   "window_display": false
  }
 },
 "nbformat": 4,
 "nbformat_minor": 5
}
