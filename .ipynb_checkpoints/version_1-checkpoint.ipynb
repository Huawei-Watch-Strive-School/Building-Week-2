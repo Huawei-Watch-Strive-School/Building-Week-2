{
 "cells": [
  {
   "cell_type": "code",
   "execution_count": 1,
   "id": "1c774f0f",
   "metadata": {
    "ExecuteTime": {
     "end_time": "2021-05-20T22:23:48.648405Z",
     "start_time": "2021-05-20T22:23:47.352436Z"
    },
    "cell_id": "00000-8c7c8fca-1c70-4587-91f3-3db57bfd28d0",
    "deepnote_cell_type": "code",
    "deepnote_to_be_reexecuted": false,
    "execution_millis": 5,
    "execution_start": 1621413648486,
    "source_hash": "570c8184"
   },
   "outputs": [
    {
     "name": "stdout",
     "output_type": "stream",
     "text": [
      "Pandas   1.2.4\n",
      "Sklearn  0.24.2\n"
     ]
    }
   ],
   "source": [
    "import time\n",
    "from IPython.display import clear_output\n",
    "import numpy    as np\n",
    "import pandas   as pd\n",
    "import joblib\n",
    "import optuna\n",
    "from random import shuffle\n",
    "from sklearn.decomposition import PCA\n",
    "from sklearn.metrics import classification_report,confusion_matrix\n",
    "from sklearn.ensemble import RandomForestClassifier,GradientBoostingClassifier\n",
    "from sklearn.pipeline import Pipeline ,make_pipeline\n",
    "from sklearn import impute, compose,set_config\n",
    "from sklearn.model_selection import train_test_split,cross_val_score\n",
    "from sklearn.metrics import accuracy_score, balanced_accuracy_score, plot_confusion_matrix,roc_auc_score\n",
    "import warnings\n",
    "warnings.filterwarnings('ignore')\n",
    "from sklearn.preprocessing import MinMaxScaler,Normalizer,PowerTransformer,QuantileTransformer, RobustScaler,StandardScaler,LabelEncoder, OneHotEncoder,OrdinalEncoder\n",
    "from sklearn.tree          import DecisionTreeClassifier\n",
    "from sklearn.linear_model  import LogisticRegression    \n",
    "from xgboost               import XGBClassifier\n",
    "from lightgbm              import LGBMClassifier\n",
    "from sklearn.neighbors import KNeighborsClassifier\n",
    "from sklearn.naive_bayes import GaussianNB\n",
    "import sklearn\n",
    "set_config(display='diagram') # Useful for display the pipeline\n",
    "print(\"Pandas  \", pd.__version__)\n",
    "print(\"Sklearn \", sklearn.__version__) # Try to use 0.24\n",
    "\n"
   ]
  },
  {
   "cell_type": "code",
   "execution_count": null,
   "id": "341b1505",
   "metadata": {
    "ExecuteTime": {
     "end_time": "2021-05-20T21:58:15.877856Z",
     "start_time": "2021-05-20T21:58:15.780313Z"
    },
    "cell_id": "00001-06e6221d-0730-4e01-9045-bce276c93090",
    "deepnote_cell_type": "code",
    "deepnote_to_be_reexecuted": false,
    "execution_millis": 165,
    "execution_start": 1621413555476,
    "source_hash": "31454d99"
   },
   "outputs": [],
   "source": [
    "data = pd.read_csv('./data/data_5secondWindow .csv')\n",
    "data.head(5)"
   ]
  },
  {
   "cell_type": "code",
   "execution_count": null,
   "id": "725906f0",
   "metadata": {
    "ExecuteTime": {
     "end_time": "2021-05-20T21:58:18.928742Z",
     "start_time": "2021-05-20T21:58:18.721132Z"
    }
   },
   "outputs": [],
   "source": [
    "data.describe()"
   ]
  },
  {
   "cell_type": "code",
   "execution_count": null,
   "id": "ca7d148f",
   "metadata": {
    "ExecuteTime": {
     "end_time": "2021-05-20T21:58:21.074750Z",
     "start_time": "2021-05-20T21:58:21.065171Z"
    }
   },
   "outputs": [],
   "source": [
    "data.groupby('target').size()"
   ]
  },
  {
   "cell_type": "code",
   "execution_count": null,
   "id": "7dcbf042",
   "metadata": {
    "ExecuteTime": {
     "end_time": "2021-05-20T21:58:22.985744Z",
     "start_time": "2021-05-20T21:58:22.975226Z"
    }
   },
   "outputs": [],
   "source": [
    "data=data[data['target']!='Bus']\n",
    "data=data[data['target']!='Train']"
   ]
  },
  {
   "cell_type": "code",
   "execution_count": null,
   "id": "7a624458",
   "metadata": {
    "ExecuteTime": {
     "end_time": "2021-05-20T21:58:26.743871Z",
     "start_time": "2021-05-20T21:58:26.705371Z"
    }
   },
   "outputs": [],
   "source": [
    "def change_name(df):\n",
    "    column_names=[]\n",
    "    for i in df.columns:\n",
    "        k=i.replace('.','_').replace(\"#\",'_')\n",
    "        df.rename(columns = {i:k}, inplace = True)\n",
    "    return df\n",
    "data=change_name(data)"
   ]
  },
  {
   "cell_type": "code",
   "execution_count": null,
   "id": "283b2327",
   "metadata": {
    "ExecuteTime": {
     "end_time": "2021-05-20T21:58:28.495587Z",
     "start_time": "2021-05-20T21:58:28.489858Z"
    },
    "code_folding": []
   },
   "outputs": [],
   "source": [
    "# create test data from some user \n",
    "def split_data(df):\n",
    "    l=df.user.unique().tolist()\n",
    "#     # create random list of indi\n",
    "#     shuffle(l)\n",
    "    train_user=l[2:]\n",
    "    test_user=l[:2]\n",
    "    # get splitting indicies\n",
    "#     train=data[data['user'].isin(train_user)]\n",
    "#     test = data[data['user'].isin(test_user)]\n",
    "    train=df[df['user']!='IvanHeibi']\n",
    "    test=df[df['user']=='IvanHeibi'] \n",
    "    return train, test"
   ]
  },
  {
   "cell_type": "code",
   "execution_count": null,
   "id": "dca72c91",
   "metadata": {
    "ExecuteTime": {
     "end_time": "2021-05-20T21:58:30.004426Z",
     "start_time": "2021-05-20T21:58:29.993029Z"
    }
   },
   "outputs": [],
   "source": [
    "df_train,df_test=split_data(data)\n"
   ]
  },
  {
   "cell_type": "code",
   "execution_count": null,
   "id": "24fbadc6",
   "metadata": {
    "ExecuteTime": {
     "end_time": "2021-05-20T21:58:31.541587Z",
     "start_time": "2021-05-20T21:58:31.529934Z"
    }
   },
   "outputs": [],
   "source": [
    "def clean_data(df_train,df_test):\n",
    "    unimp    = ['id','user','time']\n",
    "    df_train = df_train.drop(unimp,axis=1)\n",
    "    df_test  = df_test.drop(unimp,axis=1)\n",
    "    train_missing = (df_train.isnull().sum() / len(df_train)).sort_values(ascending = False)\n",
    "    test_missing = (df_test.isnull().sum() / len(df_test)).sort_values(ascending = False)\n",
    "\n",
    "    train_missing = train_missing.index[train_missing > 0.75]\n",
    "    test_missing = test_missing.index[test_missing > 0.75]\n",
    "\n",
    "    all_missing = list(set(set(train_missing) | set(test_missing)))\n",
    "    df_train = df_train.drop(all_missing,axis=1)\n",
    "    df_test  = df_test.drop(all_missing,axis=1)\n",
    "    return df_train,df_test"
   ]
  },
  {
   "cell_type": "code",
   "execution_count": null,
   "id": "15c52e32",
   "metadata": {
    "ExecuteTime": {
     "end_time": "2021-05-20T21:58:33.141542Z",
     "start_time": "2021-05-20T21:58:33.125970Z"
    }
   },
   "outputs": [],
   "source": [
    " df_train,df_test=clean_data(df_train,df_test)"
   ]
  },
  {
   "cell_type": "code",
   "execution_count": null,
   "id": "58209a82",
   "metadata": {},
   "outputs": [],
   "source": []
  },
  {
   "cell_type": "code",
   "execution_count": null,
   "id": "e7319a91",
   "metadata": {
    "ExecuteTime": {
     "end_time": "2021-05-20T21:58:34.682651Z",
     "start_time": "2021-05-20T21:58:34.669638Z"
    }
   },
   "outputs": [],
   "source": [
    "d1=df_test[df_test['target']=='Still']\n",
    "d2=df_test[df_test['target']=='Car']\n",
    "d3=df_test[df_test['target']=='Walking']\n",
    "d1_=d1.sample(5)\n",
    "d2_=d2.sample(5)\n",
    "d3_=d3.sample(5)\n",
    "sample=pd.concat([d1_,d2_,d3])\n",
    "# df_test.to_csv('sample1.csv',index=False)"
   ]
  },
  {
   "cell_type": "code",
   "execution_count": null,
   "id": "a0744f89",
   "metadata": {
    "ExecuteTime": {
     "end_time": "2021-05-20T21:58:36.382973Z",
     "start_time": "2021-05-20T21:58:36.352436Z"
    }
   },
   "outputs": [],
   "source": [
    "df_test.to_csv('sample1.csv',index=False)"
   ]
  },
  {
   "cell_type": "code",
   "execution_count": null,
   "id": "9eb621de",
   "metadata": {
    "ExecuteTime": {
     "end_time": "2021-05-20T21:58:37.938349Z",
     "start_time": "2021-05-20T21:58:37.933972Z"
    }
   },
   "outputs": [],
   "source": [
    "print(df_train.shape)\n",
    "print(df_test.shape)"
   ]
  },
  {
   "cell_type": "code",
   "execution_count": null,
   "id": "39653391",
   "metadata": {
    "ExecuteTime": {
     "end_time": "2021-05-20T21:58:39.559248Z",
     "start_time": "2021-05-20T21:58:39.554670Z"
    }
   },
   "outputs": [],
   "source": [
    "X=df_train.drop('target',axis=1)\n",
    "y=df_train.target\n",
    "X_test=df_test.drop('target',axis=1)\n",
    "y_test=df_test.target"
   ]
  },
  {
   "cell_type": "markdown",
   "id": "7197c022",
   "metadata": {},
   "source": [
    "# Create pipeline"
   ]
  },
  {
   "cell_type": "code",
   "execution_count": null,
   "id": "39edca24",
   "metadata": {
    "ExecuteTime": {
     "end_time": "2021-05-20T21:58:41.445587Z",
     "start_time": "2021-05-20T21:58:41.428181Z"
    },
    "code_folding": []
   },
   "outputs": [],
   "source": [
    "num_var=X.columns.to_list()\n",
    "num_pip=Pipeline([('imputer',impute.SimpleImputer(strategy='median')),\n",
    "                  ('scalar',MinMaxScaler(feature_range=(0,20))),\n",
    "#                  ('PCA' ,PCA(n_components=20)),\n",
    "               ]) \n",
    "preprocessor=compose.ColumnTransformer([\n",
    "    ('num',num_pip,num_var)\n",
    "], remainder='drop')\n",
    "preprocessor"
   ]
  },
  {
   "cell_type": "code",
   "execution_count": null,
   "id": "a03dae39",
   "metadata": {
    "ExecuteTime": {
     "end_time": "2021-05-20T21:58:44.647537Z",
     "start_time": "2021-05-20T21:58:44.591586Z"
    }
   },
   "outputs": [],
   "source": [
    "models = {\n",
    "\"DecisionTreeClassifier\": DecisionTreeClassifier(),\n",
    "'KNeighborsClassifier':KNeighborsClassifier(6),\n",
    "'LogisticRegression':LogisticRegression(),\n",
    "\"RandomForestClassifier\":RandomForestClassifier(),\n",
    "\"GradientBoostingClassifier\":GradientBoostingClassifier(),\n",
    "\"XGBClassifier\":XGBClassifier(),\n",
    "\"LGBMClassifier\":LGBMClassifier(),\n",
    "'GaussianNB':GaussianNB(),\n",
    "\n",
    "}\n",
    "# make pipline with  preprocessing \n",
    "classifiers = {name:make_pipeline(preprocessor, model) for name, model in models.items()}\n",
    "classifiers[\"LGBMClassifier\"]"
   ]
  },
  {
   "cell_type": "markdown",
   "id": "5ff93d31",
   "metadata": {},
   "source": [
    "# Check model "
   ]
  },
  {
   "cell_type": "code",
   "execution_count": null,
   "id": "fe97feec",
   "metadata": {
    "ExecuteTime": {
     "end_time": "2021-05-20T21:59:01.768244Z",
     "start_time": "2021-05-20T21:58:47.798892Z"
    }
   },
   "outputs": [],
   "source": [
    "x_train, x_val, y_train, y_val = train_test_split(X, y,test_size=0.2,stratify = y,random_state=10 )\n",
    "results = pd.DataFrame({'Model': [], 'Accuracy': [], 'Bal Acc.': [],'Time': []})\n",
    "for  name ,model in classifiers.items():\n",
    "    start_time = time.time()\n",
    "    model.fit(x_train, y_train)\n",
    "    total_time = time.time() - start_time\n",
    "    valid_pred = model.predict(x_val)\n",
    "    results = results.append({\"Model\":    name,\n",
    "                              \"Accuracy\": accuracy_score(y_val, valid_pred)*100,\n",
    "                              \"Bal Acc.\": balanced_accuracy_score(y_val, valid_pred)*100,\n",
    "                              \"Time\":     total_time},\n",
    "                              ignore_index=True)\n",
    "    \n",
    "results_ord = results.sort_values(by=['Accuracy'], ascending=False, ignore_index=True)\n",
    "results_ord.index += 1 \n",
    "results_ord.style.bar(subset=['Accuracy', 'Bal Acc.'], vmin=0, vmax=100, color='#5fba7d')"
   ]
  },
  {
   "cell_type": "markdown",
   "id": "8b6a08c4",
   "metadata": {
    "ExecuteTime": {
     "end_time": "2021-05-20T20:35:04.273287Z",
     "start_time": "2021-05-20T20:35:04.267869Z"
    }
   },
   "source": [
    "\n",
    "# best model  with optuna parameters"
   ]
  },
  {
   "cell_type": "code",
   "execution_count": null,
   "id": "2435f442",
   "metadata": {
    "ExecuteTime": {
     "end_time": "2021-05-20T22:01:34.173058Z",
     "start_time": "2021-05-20T22:01:32.733822Z"
    }
   },
   "outputs": [],
   "source": [
    "best_model=LGBMClassifier(max_depth= 5,n_estimators= 270, num_leaves=20,min_data_in_leaf=80,learning_rate= 0.069)\n",
    "name='LGBMClassifier'\n",
    "clf=Pipeline([('pre',preprocessor),('classification',best_model)])\n",
    "test_result = pd.DataFrame({'Model': [], 'Accuracy': [], 'Bal Acc.': [],'Time': []})\n",
    "start_time = time.time()\n",
    "clf.fit(X, y)\n",
    "total_time = time.time() - start_time\n",
    "pred = clf.predict(X_test)\n",
    "test_result = test_result.append({\"Model\":    name,\n",
    "                          \"Accuracy\": accuracy_score(y_test, pred)*100,\n",
    "                          \"Bal Acc.\": balanced_accuracy_score(y_test, pred)*100,\n",
    "                          \"Time\":     total_time},\n",
    "                          ignore_index=True)\n",
    "test_result_ord = test_result.sort_values(by=['Accuracy'], ascending=False, ignore_index=True)\n",
    "test_result_ord.index += 1 \n",
    "test_result_ord.style.bar(subset=['Accuracy', 'Bal Acc.'], vmin=0, vmax=100, color='#5fba7d')\n"
   ]
  },
  {
   "cell_type": "code",
   "execution_count": null,
   "id": "a90ffaf9",
   "metadata": {
    "ExecuteTime": {
     "end_time": "2021-05-20T22:01:38.162051Z",
     "start_time": "2021-05-20T22:01:38.145679Z"
    }
   },
   "outputs": [],
   "source": [
    "print(classification_report(y_test, pred))\n",
    "print()\n",
    "print(confusion_matrix(y_test, pred))"
   ]
  },
  {
   "cell_type": "markdown",
   "id": "c1bbee38",
   "metadata": {
    "cell_id": "00037-e70c6258-4570-472e-8bf4-63f3ff95d82a",
    "deepnote_cell_type": "markdown",
    "tags": []
   },
   "source": [
    "# Optuna find best parameter for selected model"
   ]
  },
  {
   "cell_type": "code",
   "execution_count": null,
   "id": "cc25b971",
   "metadata": {
    "ExecuteTime": {
     "end_time": "2021-05-20T19:37:21.883124Z",
     "start_time": "2021-05-20T19:36:35.027877Z"
    },
    "cell_id": "00039-d6a8eb4b-d580-445d-9240-d2166c9bd4c8",
    "code_folding": [],
    "deepnote_cell_type": "code",
    "tags": []
   },
   "outputs": [],
   "source": [
    "def objective(trial):\n",
    "\n",
    "    boosting_type = trial.suggest_categorical(\"boosting_type\", [\"gbdt\", \"rf\"])\n",
    "    max_depth = trial.suggest_int('max_depth', 1, 32)\n",
    "    n_estimators = trial.suggest_int(\"n_estimators\", 100,500)\n",
    "    learning_rate=trial.suggest_float(\"learning_rate\", 0.001,0.1)\n",
    "    min_data_in_leaf= trial.suggest_int(\"min_data_in_leaf\", 10,500)\n",
    "    \n",
    "    lg_lgbm = LGBMClassifier( boosting_type=boosting_type, max_depth=max_depth, \n",
    "            n_estimators=n_estimators,learning_rate=learning_rate,min_data_in_leaf=min_data_in_leaf\n",
    "        )\n",
    "\n",
    "    score = cross_val_score(lg_lgbm, X,y, n_jobs=-1, cv=2)\n",
    "    accuracy = score.mean()\n",
    "    return accuracy\n",
    "\n",
    "study = optuna.create_study(direction=\"maximize\")\n",
    "study.optimize(objective, n_trials=100)\n",
    "\n",
    "trial = study.best_trial\n",
    "print('Accuracy: {}'.format(trial.value))\n",
    "print(\"Best hyperparameters: {}\".format(trial.params))"
   ]
  },
  {
   "cell_type": "markdown",
   "id": "186b0b33",
   "metadata": {},
   "source": [
    "# Save model and preprocessor "
   ]
  },
  {
   "cell_type": "code",
   "execution_count": 38,
   "id": "fe0c02c8",
   "metadata": {
    "ExecuteTime": {
     "end_time": "2021-05-20T22:04:25.685805Z",
     "start_time": "2021-05-20T22:04:24.246235Z"
    }
   },
   "outputs": [
    {
     "name": "stdout",
     "output_type": "stream",
     "text": [
      "[LightGBM] [Warning] min_data_in_leaf is set=80, min_child_samples=20 will be ignored. Current value: min_data_in_leaf=80\n"
     ]
    },
    {
     "data": {
      "text/plain": [
       "['preprocessor1.x']"
      ]
     },
     "execution_count": 38,
     "metadata": {},
     "output_type": "execute_result"
    }
   ],
   "source": [
    "best_model.fit(X_,y)\n",
    "joblib.dump(best_model, 'model1.x')\n",
    "joblib.dump(preprocessor, 'preprocessor1.x')"
   ]
  }
 ],
 "metadata": {
  "deepnote": {},
  "deepnote_execution_queue": [
   {
    "cellId": "00036-f8044fff-4d29-45bd-8ff8-21846e0256f1",
    "msgId": "a0eefad6-7bbd-4603-8fed-2940de8884ea",
    "sessionId": "a4c44e80-405a-43fc-968f-79577dc2c4bf"
   }
  ],
  "deepnote_notebook_id": "4d03dad0-0d4b-4262-80a0-cfac3bff1f59",
  "hide_input": false,
  "kernelspec": {
   "display_name": "Python 3",
   "language": "python",
   "name": "python3"
  },
  "language_info": {
   "codemirror_mode": {
    "name": "ipython",
    "version": 3
   },
   "file_extension": ".py",
   "mimetype": "text/x-python",
   "name": "python",
   "nbconvert_exporter": "python",
   "pygments_lexer": "ipython3",
   "version": "3.8.2"
  },
  "toc": {
   "base_numbering": 1,
   "nav_menu": {},
   "number_sections": true,
   "sideBar": true,
   "skip_h1_title": false,
   "title_cell": "Table of Contents",
   "title_sidebar": "Contents",
   "toc_cell": false,
   "toc_position": {},
   "toc_section_display": true,
   "toc_window_display": false
  },
  "varInspector": {
   "cols": {
    "lenName": 16,
    "lenType": 16,
    "lenVar": 40
   },
   "kernels_config": {
    "python": {
     "delete_cmd_postfix": "",
     "delete_cmd_prefix": "del ",
     "library": "var_list.py",
     "varRefreshCmd": "print(var_dic_list())"
    },
    "r": {
     "delete_cmd_postfix": ") ",
     "delete_cmd_prefix": "rm(",
     "library": "var_list.r",
     "varRefreshCmd": "cat(var_dic_list()) "
    }
   },
   "types_to_exclude": [
    "module",
    "function",
    "builtin_function_or_method",
    "instance",
    "_Feature"
   ],
   "window_display": false
  }
 },
 "nbformat": 4,
 "nbformat_minor": 5
}
