{
 "cells": [
  {
   "cell_type": "code",
   "execution_count": 1,
   "metadata": {
    "cell_id": "00000-6fcfefb4-3b68-4f39-8aec-22f2cce90337",
    "deepnote_cell_type": "code",
    "deepnote_to_be_reexecuted": false,
    "execution_millis": 1563,
    "execution_start": 1621258545606,
    "source_hash": "ee75e217",
    "tags": []
   },
   "outputs": [
    {
     "name": "stdout",
     "output_type": "stream",
     "text": [
      "Pandas   1.2.4\n",
      "Sklearn  0.24.2\n"
     ]
    }
   ],
   "source": [
    "import time\n",
    "from IPython.display import clear_output\n",
    "import numpy    as np\n",
    "import pandas   as pd\n",
    "import matplotlib.pyplot as plt\n",
    "import seaborn as sns\n",
    "import plotly.express as px\n"
   ]
  },
  {
   "cell_type": "markdown",
   "metadata": {
    "cell_id": "00001-11a0c280-7932-4a0a-bed0-c25148be1f47",
    "deepnote_cell_type": "text-cell-h1",
    "tags": []
   },
   "source": [
    "#  Plan"
   ]
  },
  {
   "cell_type": "markdown",
   "metadata": {
    "cell_id": "00002-97cd1fb9-7c21-4923-ae9a-b6debab228c7",
    "deepnote_cell_type": "markdown",
    "tags": []
   },
   "source": [
    "\n",
    "Monday\n",
    "\tPlan, make some preliminary analysis, check for the fastest achievements you can get today. This is already your second build week, you don’t need a given plan: you want to learn how to define your own!\n",
    " \n",
    " \n",
    "Tuesday\n",
    "\tExecute your plan. \n"
   ]
  },
  {
   "cell_type": "code",
   "execution_count": 7,
   "metadata": {
    "cell_id": "00004-b307e19c-d9bf-4471-af24-118a5bca3f39",
    "deepnote_cell_type": "code",
    "deepnote_to_be_reexecuted": false,
    "execution_millis": 69,
    "execution_start": 1621258855284,
    "source_hash": "c27bf9b0",
    "tags": []
   },
   "outputs": [],
   "source": [
    "data = pd.read_csv('dataset_5secondWindow.csv')"
   ]
  },
  {
   "cell_type": "markdown",
   "metadata": {
    "cell_id": "00005-2231bbd4-e469-46c4-a3aa-758c38efc2f0",
    "deepnote_cell_type": "text-cell-h1",
    "tags": []
   },
   "source": [
    "# Feature  analysis"
   ]
  },
  {
   "cell_type": "code",
   "execution_count": 3,
   "metadata": {
    "cell_id": "00004-7f1a0cf9-1ff1-4e1a-98b3-c145cde89f22",
    "deepnote_cell_type": "code",
    "deepnote_to_be_reexecuted": false,
    "execution_millis": 9,
    "execution_start": 1621258557613,
    "source_hash": "14f60b8f",
    "tags": []
   },
   "outputs": [
    {
     "data": {
      "text/plain": [
       "(5893, 70)"
      ]
     },
     "execution_count": 3,
     "metadata": {},
     "output_type": "execute_result"
    }
   ],
   "source": [
    "data.shape"
   ]
  },
  {
   "cell_type": "code",
   "execution_count": null,
   "metadata": {
    "cell_id": "00007-77e502ae-0ba1-4ede-93ba-a497a14d7d15",
    "deepnote_cell_type": "code",
    "deepnote_to_be_reexecuted": false,
    "execution_millis": 20,
    "execution_start": 1621257875249,
    "source_hash": "de1e323c",
    "tags": []
   },
   "outputs": [
    {
     "name": "stdout",
     "output_type": "stream",
     "text": [
      "<class 'pandas.core.frame.DataFrame'>\n",
      "RangeIndex: 5893 entries, 0 to 5892\n",
      "Data columns (total 70 columns):\n",
      " #   Column                                           Non-Null Count  Dtype  \n",
      "---  ------                                           --------------  -----  \n",
      " 0   id                                               5893 non-null   int64  \n",
      " 1   time                                             5893 non-null   float64\n",
      " 2   activityrecognition#0                            0 non-null      float64\n",
      " 3   activityrecognition#1                            5893 non-null   float64\n",
      " 4   android.sensor.accelerometer#mean                5893 non-null   float64\n",
      " 5   android.sensor.accelerometer#min                 5893 non-null   float64\n",
      " 6   android.sensor.accelerometer#max                 5893 non-null   float64\n",
      " 7   android.sensor.accelerometer#std                 5893 non-null   float64\n",
      " 8   android.sensor.game_rotation_vector#mean         5094 non-null   float64\n",
      " 9   android.sensor.game_rotation_vector#min          5094 non-null   float64\n",
      " 10  android.sensor.game_rotation_vector#max          5094 non-null   float64\n",
      " 11  android.sensor.game_rotation_vector#std          5093 non-null   float64\n",
      " 12  android.sensor.gravity#mean                      5396 non-null   float64\n",
      " 13  android.sensor.gravity#min                       5396 non-null   float64\n",
      " 14  android.sensor.gravity#max                       5396 non-null   float64\n",
      " 15  android.sensor.gravity#std                       5356 non-null   float64\n",
      " 16  android.sensor.gyroscope#mean                    5173 non-null   float64\n",
      " 17  android.sensor.gyroscope#min                     5173 non-null   float64\n",
      " 18  android.sensor.gyroscope#max                     5173 non-null   float64\n",
      " 19  android.sensor.gyroscope#std                     5172 non-null   float64\n",
      " 20  android.sensor.gyroscope_uncalibrated#mean       5094 non-null   float64\n",
      " 21  android.sensor.gyroscope_uncalibrated#min        5094 non-null   float64\n",
      " 22  android.sensor.gyroscope_uncalibrated#max        5094 non-null   float64\n",
      " 23  android.sensor.gyroscope_uncalibrated#std        5094 non-null   float64\n",
      " 24  android.sensor.light#mean                        4381 non-null   float64\n",
      " 25  android.sensor.light#min                         4381 non-null   float64\n",
      " 26  android.sensor.light#max                         4381 non-null   float64\n",
      " 27  android.sensor.light#std                         2124 non-null   float64\n",
      " 28  android.sensor.linear_acceleration#mean          5399 non-null   float64\n",
      " 29  android.sensor.linear_acceleration#min           5399 non-null   float64\n",
      " 30  android.sensor.linear_acceleration#max           5399 non-null   float64\n",
      " 31  android.sensor.linear_acceleration#std           5370 non-null   float64\n",
      " 32  android.sensor.magnetic_field#mean               5400 non-null   float64\n",
      " 33  android.sensor.magnetic_field#min                5400 non-null   float64\n",
      " 34  android.sensor.magnetic_field#max                5400 non-null   float64\n",
      " 35  android.sensor.magnetic_field#std                5383 non-null   float64\n",
      " 36  android.sensor.magnetic_field_uncalibrated#mean  5094 non-null   float64\n",
      " 37  android.sensor.magnetic_field_uncalibrated#min   5094 non-null   float64\n",
      " 38  android.sensor.magnetic_field_uncalibrated#max   5094 non-null   float64\n",
      " 39  android.sensor.magnetic_field_uncalibrated#std   5087 non-null   float64\n",
      " 40  android.sensor.orientation#mean                  5396 non-null   float64\n",
      " 41  android.sensor.orientation#min                   5396 non-null   float64\n",
      " 42  android.sensor.orientation#max                   5396 non-null   float64\n",
      " 43  android.sensor.orientation#std                   5373 non-null   float64\n",
      " 44  android.sensor.pressure#mean                     1918 non-null   float64\n",
      " 45  android.sensor.pressure#min                      1918 non-null   float64\n",
      " 46  android.sensor.pressure#max                      1918 non-null   float64\n",
      " 47  android.sensor.pressure#std                      1128 non-null   float64\n",
      " 48  android.sensor.proximity#mean                    1119 non-null   float64\n",
      " 49  android.sensor.proximity#min                     1119 non-null   float64\n",
      " 50  android.sensor.proximity#max                     1119 non-null   float64\n",
      " 51  android.sensor.proximity#std                     283 non-null    float64\n",
      " 52  android.sensor.rotation_vector#mean              5172 non-null   float64\n",
      " 53  android.sensor.rotation_vector#min               5172 non-null   float64\n",
      " 54  android.sensor.rotation_vector#max               5172 non-null   float64\n",
      " 55  android.sensor.rotation_vector#std               5163 non-null   float64\n",
      " 56  android.sensor.step_counter#mean                 1487 non-null   float64\n",
      " 57  android.sensor.step_counter#min                  1487 non-null   float64\n",
      " 58  android.sensor.step_counter#max                  1487 non-null   float64\n",
      " 59  android.sensor.step_counter#std                  232 non-null    float64\n",
      " 60  sound#mean                                       4899 non-null   float64\n",
      " 61  sound#min                                        4899 non-null   float64\n",
      " 62  sound#max                                        4899 non-null   float64\n",
      " 63  sound#std                                        4062 non-null   float64\n",
      " 64  speed#mean                                       3520 non-null   float64\n",
      " 65  speed#min                                        3520 non-null   float64\n",
      " 66  speed#max                                        3520 non-null   float64\n",
      " 67  speed#std                                        1318 non-null   float64\n",
      " 68  target                                           5893 non-null   object \n",
      " 69  user                                             5893 non-null   object \n",
      "dtypes: float64(67), int64(1), object(2)\n",
      "memory usage: 3.1+ MB\n"
     ]
    }
   ],
   "source": [
    "data.info()"
   ]
  },
  {
   "cell_type": "code",
   "execution_count": 11,
   "metadata": {
    "cell_id": "00007-87cc1aca-129e-4590-b83f-c5069419ed18",
    "deepnote_cell_type": "code",
    "deepnote_to_be_reexecuted": false,
    "execution_millis": 14,
    "execution_start": 1621258991122,
    "source_hash": "c5c5536b",
    "tags": []
   },
   "outputs": [
    {
     "name": "stdout",
     "output_type": "stream",
     "text": [
      "5893\n"
     ]
    },
    {
     "data": {
      "text/plain": [
       "id                                      0\n",
       "time                                    0\n",
       "activityrecognition_0                5893\n",
       "activityrecognition_1                   0\n",
       "android_sensor_accelerometer_mean       0\n",
       "                                     ... \n",
       "speed_min                            2373\n",
       "speed_max                            2373\n",
       "speed_std                            4575\n",
       "target                                  0\n",
       "user                                    0\n",
       "Length: 70, dtype: int64"
      ]
     },
     "execution_count": 11,
     "metadata": {},
     "output_type": "execute_result"
    }
   ],
   "source": [
    "print(len(data))\n",
    "data.isna().sum()\n"
   ]
  },
  {
   "cell_type": "code",
   "execution_count": null,
   "metadata": {
    "cell_id": "00009-06c1cb4d-aa13-4dfc-a1e3-b289d1478bf7",
    "deepnote_cell_type": "code",
    "deepnote_to_be_reexecuted": false,
    "execution_millis": 6,
    "execution_start": 1621257460866,
    "source_hash": "6721c649",
    "tags": []
   },
   "outputs": [
    {
     "data": {
      "text/plain": [
       "id                                     0.000000\n",
       "time                                   0.000000\n",
       "activityrecognition#0                100.000000\n",
       "activityrecognition#1                  0.000000\n",
       "android.sensor.accelerometer#mean      0.000000\n",
       "                                        ...    \n",
       "speed#min                             40.268115\n",
       "speed#max                             40.268115\n",
       "speed#std                             77.634482\n",
       "target                                 0.000000\n",
       "user                                   0.000000\n",
       "Length: 70, dtype: float64"
      ]
     },
     "execution_count": 9,
     "metadata": {},
     "output_type": "execute_result"
    }
   ],
   "source": [
    "data.isnull().sum() * 100 / len(data)"
   ]
  },
  {
   "cell_type": "code",
   "execution_count": 5,
   "metadata": {
    "cell_id": "00011-590c0503-f5d5-4c40-8e3b-7a8798e437fb",
    "deepnote_cell_type": "code",
    "deepnote_to_be_reexecuted": false,
    "execution_millis": 2,
    "execution_start": 1621258848886,
    "source_hash": "9d1358bb",
    "tags": []
   },
   "outputs": [],
   "source": [
    "# change name of columns \n",
    "def change_name(df):\n",
    "    column_names=[]\n",
    "    for i in df.columns:\n",
    "        k=i.replace('.','_').replace(\"#\",'_')\n",
    "        df.rename(columns = {i:k}, inplace = True)\n",
    "    return df"
   ]
  },
  {
   "cell_type": "code",
   "execution_count": 9,
   "metadata": {
    "cell_id": "00011-859e2389-971b-4651-af05-c362ef7a985c",
    "deepnote_cell_type": "code",
    "deepnote_to_be_reexecuted": false,
    "execution_millis": 246,
    "execution_start": 1621258867837,
    "source_hash": "d687e919",
    "tags": []
   },
   "outputs": [
    {
     "data": {
      "application/vnd.deepnote.dataframe.v2+json": {
       "column_count": 70,
       "columns": [
        {
         "dtype": "int64",
         "name": "id",
         "stats": {
          "histogram": [
           {
            "bin_end": 2469.5,
            "bin_start": 876,
            "count": 1
           },
           {
            "bin_end": 4063,
            "bin_start": 2469.5,
            "count": 0
           },
           {
            "bin_end": 5656.5,
            "bin_start": 4063,
            "count": 0
           },
           {
            "bin_end": 7250,
            "bin_start": 5656.5,
            "count": 0
           },
           {
            "bin_end": 8843.5,
            "bin_start": 7250,
            "count": 0
           },
           {
            "bin_end": 10437,
            "bin_start": 8843.5,
            "count": 0
           },
           {
            "bin_end": 12030.5,
            "bin_start": 10437,
            "count": 0
           },
           {
            "bin_end": 13624,
            "bin_start": 12030.5,
            "count": 0
           },
           {
            "bin_end": 15217.5,
            "bin_start": 13624,
            "count": 0
           },
           {
            "bin_end": 16811,
            "bin_start": 15217.5,
            "count": 4
           }
          ],
          "max": "16811",
          "min": "876",
          "nan_count": 0,
          "unique_count": 5
         }
        },
        {
         "dtype": "float64",
         "name": "time",
         "stats": {
          "histogram": [
           {
            "bin_end": 84.3,
            "bin_start": 77,
            "count": 2
           },
           {
            "bin_end": 91.6,
            "bin_start": 84.3,
            "count": 0
           },
           {
            "bin_end": 98.9,
            "bin_start": 91.6,
            "count": 0
           },
           {
            "bin_end": 106.2,
            "bin_start": 98.9,
            "count": 1
           },
           {
            "bin_end": 113.5,
            "bin_start": 106.2,
            "count": 0
           },
           {
            "bin_end": 120.8,
            "bin_start": 113.5,
            "count": 0
           },
           {
            "bin_end": 128.1,
            "bin_start": 120.8,
            "count": 0
           },
           {
            "bin_end": 135.4,
            "bin_start": 128.1,
            "count": 0
           },
           {
            "bin_end": 142.7,
            "bin_start": 135.4,
            "count": 0
           },
           {
            "bin_end": 150,
            "bin_start": 142.7,
            "count": 2
           }
          ],
          "max": "150.0",
          "min": "77.0",
          "nan_count": 0,
          "unique_count": 5
         }
        },
        {
         "dtype": "float64",
         "name": "activityrecognition_0",
         "stats": {
          "histogram": [
           {
            "bin_end": 0.1,
            "bin_start": 0,
            "count": 0
           },
           {
            "bin_end": 0.2,
            "bin_start": 0.1,
            "count": 0
           },
           {
            "bin_end": 0.30000000000000004,
            "bin_start": 0.2,
            "count": 0
           },
           {
            "bin_end": 0.4,
            "bin_start": 0.30000000000000004,
            "count": 0
           },
           {
            "bin_end": 0.5,
            "bin_start": 0.4,
            "count": 0
           },
           {
            "bin_end": 0.6000000000000001,
            "bin_start": 0.5,
            "count": 0
           },
           {
            "bin_end": 0.7000000000000001,
            "bin_start": 0.6000000000000001,
            "count": 0
           },
           {
            "bin_end": 0.8,
            "bin_start": 0.7000000000000001,
            "count": 0
           },
           {
            "bin_end": 0.9,
            "bin_start": 0.8,
            "count": 0
           },
           {
            "bin_end": 1,
            "bin_start": 0.9,
            "count": 0
           }
          ],
          "max": null,
          "min": null,
          "nan_count": 5,
          "unique_count": 0
         }
        },
        {
         "dtype": "float64",
         "name": "activityrecognition_1",
         "stats": {
          "histogram": [
           {
            "bin_end": 79.3,
            "bin_start": 77,
            "count": 1
           },
           {
            "bin_end": 81.6,
            "bin_start": 79.3,
            "count": 0
           },
           {
            "bin_end": 83.9,
            "bin_start": 81.6,
            "count": 0
           },
           {
            "bin_end": 86.2,
            "bin_start": 83.9,
            "count": 0
           },
           {
            "bin_end": 88.5,
            "bin_start": 86.2,
            "count": 0
           },
           {
            "bin_end": 90.8,
            "bin_start": 88.5,
            "count": 0
           },
           {
            "bin_end": 93.1,
            "bin_start": 90.8,
            "count": 0
           },
           {
            "bin_end": 95.4,
            "bin_start": 93.1,
            "count": 0
           },
           {
            "bin_end": 97.7,
            "bin_start": 95.4,
            "count": 0
           },
           {
            "bin_end": 100,
            "bin_start": 97.7,
            "count": 4
           }
          ],
          "max": "100.0",
          "min": "77.0",
          "nan_count": 0,
          "unique_count": 2
         }
        },
        {
         "dtype": "float64",
         "name": "android_sensor_accelerometer_mean",
         "stats": {
          "histogram": [
           {
            "bin_end": 9.705081834106,
            "bin_start": 9.67303911332,
            "count": 1
           },
           {
            "bin_end": 9.737124554892,
            "bin_start": 9.705081834106,
            "count": 0
           },
           {
            "bin_end": 9.769167275677999,
            "bin_start": 9.737124554892,
            "count": 0
           },
           {
            "bin_end": 9.801209996464,
            "bin_start": 9.769167275677999,
            "count": 0
           },
           {
            "bin_end": 9.83325271725,
            "bin_start": 9.801209996464,
            "count": 2
           },
           {
            "bin_end": 9.865295438036,
            "bin_start": 9.83325271725,
            "count": 0
           },
           {
            "bin_end": 9.897338158822,
            "bin_start": 9.865295438036,
            "count": 0
           },
           {
            "bin_end": 9.929380879607999,
            "bin_start": 9.897338158822,
            "count": 0
           },
           {
            "bin_end": 9.961423600394,
            "bin_start": 9.929380879607999,
            "count": 1
           },
           {
            "bin_end": 9.99346632118,
            "bin_start": 9.961423600394,
            "count": 1
           }
          ],
          "max": "9.99346632118",
          "min": "9.67303911332",
          "nan_count": 0,
          "unique_count": 5
         }
        },
        {
         "dtype": "float64",
         "name": "android_sensor_accelerometer_min",
         "stats": {
          "histogram": [
           {
            "bin_end": 7.874188068491,
            "bin_start": 7.65967372861,
            "count": 2
           },
           {
            "bin_end": 8.088702408371999,
            "bin_start": 7.874188068491,
            "count": 0
           },
           {
            "bin_end": 8.303216748253,
            "bin_start": 8.088702408371999,
            "count": 0
           },
           {
            "bin_end": 8.517731088134,
            "bin_start": 8.303216748253,
            "count": 0
           },
           {
            "bin_end": 8.732245428015,
            "bin_start": 8.517731088134,
            "count": 0
           },
           {
            "bin_end": 8.946759767896,
            "bin_start": 8.732245428015,
            "count": 0
           },
           {
            "bin_end": 9.161274107777,
            "bin_start": 8.946759767896,
            "count": 1
           },
           {
            "bin_end": 9.375788447658,
            "bin_start": 9.161274107777,
            "count": 0
           },
           {
            "bin_end": 9.590302787539,
            "bin_start": 9.375788447658,
            "count": 0
           },
           {
            "bin_end": 9.80481712742,
            "bin_start": 9.590302787539,
            "count": 2
           }
          ],
          "max": "9.80481712742",
          "min": "7.65967372861",
          "nan_count": 0,
          "unique_count": 5
         }
        },
        {
         "dtype": "float64",
         "name": "android_sensor_accelerometer_max",
         "stats": {
          "histogram": [
           {
            "bin_end": 10.578999020486,
            "bin_start": 9.84926211274,
            "count": 2
           },
           {
            "bin_end": 11.308735928232,
            "bin_start": 10.578999020486,
            "count": 1
           },
           {
            "bin_end": 12.038472835978,
            "bin_start": 11.308735928232,
            "count": 0
           },
           {
            "bin_end": 12.768209743724,
            "bin_start": 12.038472835978,
            "count": 1
           },
           {
            "bin_end": 13.49794665147,
            "bin_start": 12.768209743724,
            "count": 0
           },
           {
            "bin_end": 14.227683559216,
            "bin_start": 13.49794665147,
            "count": 0
           },
           {
            "bin_end": 14.957420466962,
            "bin_start": 14.227683559216,
            "count": 0
           },
           {
            "bin_end": 15.687157374708,
            "bin_start": 14.957420466962,
            "count": 0
           },
           {
            "bin_end": 16.416894282454003,
            "bin_start": 15.687157374708,
            "count": 0
           },
           {
            "bin_end": 17.1466311902,
            "bin_start": 16.416894282454003,
            "count": 1
           }
          ],
          "max": "17.1466311902",
          "min": "9.84926211274",
          "nan_count": 0,
          "unique_count": 5
         }
        },
        {
         "dtype": "float64",
         "name": "android_sensor_accelerometer_std",
         "stats": {
          "histogram": [
           {
            "bin_end": 0.18767362506253,
            "bin_start": 0.0111991059917,
            "count": 2
           },
           {
            "bin_end": 0.36414814413336,
            "bin_start": 0.18767362506253,
            "count": 0
           },
           {
            "bin_end": 0.5406226632041901,
            "bin_start": 0.36414814413336,
            "count": 1
           },
           {
            "bin_end": 0.7170971822750201,
            "bin_start": 0.5406226632041901,
            "count": 0
           },
           {
            "bin_end": 0.8935717013458501,
            "bin_start": 0.7170971822750201,
            "count": 1
           },
           {
            "bin_end": 1.07004622041668,
            "bin_start": 0.8935717013458501,
            "count": 0
           },
           {
            "bin_end": 1.24652073948751,
            "bin_start": 1.07004622041668,
            "count": 0
           },
           {
            "bin_end": 1.42299525855834,
            "bin_start": 1.24652073948751,
            "count": 0
           },
           {
            "bin_end": 1.5994697776291702,
            "bin_start": 1.42299525855834,
            "count": 0
           },
           {
            "bin_end": 1.7759442967,
            "bin_start": 1.5994697776291702,
            "count": 1
           }
          ],
          "max": "1.7759442967",
          "min": "0.0111991059917",
          "nan_count": 0,
          "unique_count": 5
         }
        },
        {
         "dtype": "float64",
         "name": "android_sensor_game_rotation_vector_mean",
         "stats": {
          "histogram": [
           {
            "bin_end": 0.12639888370363,
            "bin_start": 0.0293404701347,
            "count": 1
           },
           {
            "bin_end": 0.22345729727256,
            "bin_start": 0.12639888370363,
            "count": 0
           },
           {
            "bin_end": 0.32051571084149,
            "bin_start": 0.22345729727256,
            "count": 0
           },
           {
            "bin_end": 0.41757412441041997,
            "bin_start": 0.32051571084149,
            "count": 0
           },
           {
            "bin_end": 0.5146325379793499,
            "bin_start": 0.41757412441041997,
            "count": 0
           },
           {
            "bin_end": 0.61169095154828,
            "bin_start": 0.5146325379793499,
            "count": 1
           },
           {
            "bin_end": 0.70874936511721,
            "bin_start": 0.61169095154828,
            "count": 1
           },
           {
            "bin_end": 0.80580777868614,
            "bin_start": 0.70874936511721,
            "count": 0
           },
           {
            "bin_end": 0.9028661922550699,
            "bin_start": 0.80580777868614,
            "count": 0
           },
           {
            "bin_end": 0.999924605824,
            "bin_start": 0.9028661922550699,
            "count": 2
           }
          ],
          "max": "0.999924605824",
          "min": "0.0293404701347",
          "nan_count": 0,
          "unique_count": 5
         }
        },
        {
         "dtype": "float64",
         "name": "android_sensor_game_rotation_vector_min",
         "stats": {
          "histogram": [
           {
            "bin_end": 0.12610309730098002,
            "bin_start": 0.0290141820322,
            "count": 1
           },
           {
            "bin_end": 0.22319201256976,
            "bin_start": 0.12610309730098002,
            "count": 0
           },
           {
            "bin_end": 0.32028092783854006,
            "bin_start": 0.22319201256976,
            "count": 0
           },
           {
            "bin_end": 0.41736984310732006,
            "bin_start": 0.32028092783854006,
            "count": 0
           },
           {
            "bin_end": 0.5144587583761,
            "bin_start": 0.41736984310732006,
            "count": 0
           },
           {
            "bin_end": 0.61154767364488,
            "bin_start": 0.5144587583761,
            "count": 1
           },
           {
            "bin_end": 0.70863658891366,
            "bin_start": 0.61154767364488,
            "count": 1
           },
           {
            "bin_end": 0.80572550418244,
            "bin_start": 0.70863658891366,
            "count": 0
           },
           {
            "bin_end": 0.9028144194512201,
            "bin_start": 0.80572550418244,
            "count": 0
           },
           {
            "bin_end": 0.99990333472,
            "bin_start": 0.9028144194512201,
            "count": 2
           }
          ],
          "max": "0.99990333472",
          "min": "0.0290141820322",
          "nan_count": 0,
          "unique_count": 5
         }
        },
        {
         "dtype": "float64",
         "name": "android_sensor_game_rotation_vector_max",
         "stats": {
          "histogram": [
           {
            "bin_end": 0.12656837218494,
            "bin_start": 0.0295264272136,
            "count": 1
           },
           {
            "bin_end": 0.22361031715628,
            "bin_start": 0.12656837218494,
            "count": 0
           },
           {
            "bin_end": 0.32065226212762,
            "bin_start": 0.22361031715628,
            "count": 0
           },
           {
            "bin_end": 0.41769420709896,
            "bin_start": 0.32065226212762,
            "count": 0
           },
           {
            "bin_end": 0.5147361520703,
            "bin_start": 0.41769420709896,
            "count": 0
           },
           {
            "bin_end": 0.61177809704164,
            "bin_start": 0.5147361520703,
            "count": 0
           },
           {
            "bin_end": 0.70882004201298,
            "bin_start": 0.61177809704164,
            "count": 2
           },
           {
            "bin_end": 0.80586198698432,
            "bin_start": 0.70882004201298,
            "count": 0
           },
           {
            "bin_end": 0.90290393195566,
            "bin_start": 0.80586198698432,
            "count": 0
           },
           {
            "bin_end": 0.999945876927,
            "bin_start": 0.90290393195566,
            "count": 2
           }
          ],
          "max": "0.999945876927",
          "min": "0.0295264272136",
          "nan_count": 0,
          "unique_count": 5
         }
        },
        {
         "dtype": "float64",
         "name": "android_sensor_game_rotation_vector_std",
         "stats": {
          "histogram": [
           {
            "bin_end": 0.006482784706869208,
            "bin_start": 3.96835608801e-06,
            "count": 4
           },
           {
            "bin_end": 0.012961601057650407,
            "bin_start": 0.006482784706869208,
            "count": 0
           },
           {
            "bin_end": 0.019440417408431606,
            "bin_start": 0.012961601057650407,
            "count": 0
           },
           {
            "bin_end": 0.025919233759212804,
            "bin_start": 0.019440417408431606,
            "count": 0
           },
           {
            "bin_end": 0.032398050109994005,
            "bin_start": 0.025919233759212804,
            "count": 0
           },
           {
            "bin_end": 0.038876866460775206,
            "bin_start": 0.032398050109994005,
            "count": 0
           },
           {
            "bin_end": 0.0453556828115564,
            "bin_start": 0.038876866460775206,
            "count": 0
           },
           {
            "bin_end": 0.0518344991623376,
            "bin_start": 0.0453556828115564,
            "count": 0
           },
           {
            "bin_end": 0.0583133155131188,
            "bin_start": 0.0518344991623376,
            "count": 0
           },
           {
            "bin_end": 0.0647921318639,
            "bin_start": 0.0583133155131188,
            "count": 1
           }
          ],
          "max": "0.0647921318639",
          "min": "3.96835608801e-06",
          "nan_count": 0,
          "unique_count": 5
         }
        },
        {
         "dtype": "float64",
         "name": "android_sensor_gravity_mean",
         "stats": {
          "histogram": [
           {
            "bin_end": 9.806626579363,
            "bin_start": 9.80662395218,
            "count": 1
           },
           {
            "bin_end": 9.806629206546,
            "bin_start": 9.806626579363,
            "count": 0
           },
           {
            "bin_end": 9.806631833729,
            "bin_start": 9.806629206546,
            "count": 0
           },
           {
            "bin_end": 9.806634460912,
            "bin_start": 9.806631833729,
            "count": 0
           },
           {
            "bin_end": 9.806637088095,
            "bin_start": 9.806634460912,
            "count": 0
           },
           {
            "bin_end": 9.806639715278,
            "bin_start": 9.806637088095,
            "count": 1
           },
           {
            "bin_end": 9.806642342461,
            "bin_start": 9.806639715278,
            "count": 0
           },
           {
            "bin_end": 9.806644969644,
            "bin_start": 9.806642342461,
            "count": 0
           },
           {
            "bin_end": 9.806647596827,
            "bin_start": 9.806644969644,
            "count": 0
           },
           {
            "bin_end": 9.80665022401,
            "bin_start": 9.806647596827,
            "count": 3
           }
          ],
          "max": "9.80665022401",
          "min": "9.80662395218",
          "nan_count": 0,
          "unique_count": 5
         }
        },
        {
         "dtype": "float64",
         "name": "android_sensor_gravity_min",
         "stats": {
          "histogram": [
           {
            "bin_end": 9.806626559411,
            "bin_start": 9.80662395218,
            "count": 1
           },
           {
            "bin_end": 9.806629166642,
            "bin_start": 9.806626559411,
            "count": 0
           },
           {
            "bin_end": 9.806631773873,
            "bin_start": 9.806629166642,
            "count": 0
           },
           {
            "bin_end": 9.806634381104,
            "bin_start": 9.806631773873,
            "count": 0
           },
           {
            "bin_end": 9.806636988335,
            "bin_start": 9.806634381104,
            "count": 0
           },
           {
            "bin_end": 9.806639595566,
            "bin_start": 9.806636988335,
            "count": 1
           },
           {
            "bin_end": 9.806642202797,
            "bin_start": 9.806639595566,
            "count": 0
           },
           {
            "bin_end": 9.806644810028,
            "bin_start": 9.806642202797,
            "count": 0
           },
           {
            "bin_end": 9.806647417259,
            "bin_start": 9.806644810028,
            "count": 0
           },
           {
            "bin_end": 9.80665002449,
            "bin_start": 9.806647417259,
            "count": 3
           }
          ],
          "max": "9.80665002449",
          "min": "9.80662395218",
          "nan_count": 0,
          "unique_count": 5
         }
        },
        {
         "dtype": "float64",
         "name": "android_sensor_gravity_max",
         "stats": {
          "histogram": [
           {
            "bin_end": 9.806626658234,
            "bin_start": 9.80662395218,
            "count": 1
           },
           {
            "bin_end": 9.806629364288,
            "bin_start": 9.806626658234,
            "count": 0
           },
           {
            "bin_end": 9.806632070342001,
            "bin_start": 9.806629364288,
            "count": 0
           },
           {
            "bin_end": 9.806634776396,
            "bin_start": 9.806632070342001,
            "count": 0
           },
           {
            "bin_end": 9.80663748245,
            "bin_start": 9.806634776396,
            "count": 0
           },
           {
            "bin_end": 9.806640188504,
            "bin_start": 9.80663748245,
            "count": 1
           },
           {
            "bin_end": 9.806642894558,
            "bin_start": 9.806640188504,
            "count": 0
           },
           {
            "bin_end": 9.806645600612,
            "bin_start": 9.806642894558,
            "count": 0
           },
           {
            "bin_end": 9.806648306666,
            "bin_start": 9.806645600612,
            "count": 0
           },
           {
            "bin_end": 9.80665101272,
            "bin_start": 9.806648306666,
            "count": 3
           }
          ],
          "max": "9.80665101272",
          "min": "9.80662395218",
          "nan_count": 0,
          "unique_count": 5
         }
        },
        {
         "dtype": "float64",
         "name": "android_sensor_gravity_std",
         "stats": {
          "histogram": [
           {
            "bin_end": 4.5005508409249997e-07,
            "bin_start": 2.64443011405e-07,
            "count": 2
           },
           {
            "bin_end": 6.3566715678e-07,
            "bin_start": 4.5005508409249997e-07,
            "count": 1
           },
           {
            "bin_end": 8.212792294674999e-07,
            "bin_start": 6.3566715678e-07,
            "count": 1
           },
           {
            "bin_end": 1.0068913021549999e-06,
            "bin_start": 8.212792294674999e-07,
            "count": 0
           },
           {
            "bin_end": 1.1925033748424998e-06,
            "bin_start": 1.0068913021549999e-06,
            "count": 0
           },
           {
            "bin_end": 1.37811544753e-06,
            "bin_start": 1.1925033748424998e-06,
            "count": 0
           },
           {
            "bin_end": 1.5637275202174999e-06,
            "bin_start": 1.37811544753e-06,
            "count": 0
           },
           {
            "bin_end": 1.7493395929049998e-06,
            "bin_start": 1.5637275202174999e-06,
            "count": 0
           },
           {
            "bin_end": 1.9349516655925e-06,
            "bin_start": 1.7493395929049998e-06,
            "count": 0
           },
           {
            "bin_end": 2.12056373828e-06,
            "bin_start": 1.9349516655925e-06,
            "count": 1
           }
          ],
          "max": "2.12056373828e-06",
          "min": "2.64443011405e-07",
          "nan_count": 0,
          "unique_count": 5
         }
        },
        {
         "dtype": "float64",
         "name": "android_sensor_gyroscope_mean",
         "stats": {
          "histogram": [
           {
            "bin_end": 0.019692364659799,
            "bin_start": 0.00152461653211,
            "count": 2
           },
           {
            "bin_end": 0.037860112787488,
            "bin_start": 0.019692364659799,
            "count": 2
           },
           {
            "bin_end": 0.056027860915177,
            "bin_start": 0.037860112787488,
            "count": 0
           },
           {
            "bin_end": 0.074195609042866,
            "bin_start": 0.056027860915177,
            "count": 0
           },
           {
            "bin_end": 0.092363357170555,
            "bin_start": 0.074195609042866,
            "count": 0
           },
           {
            "bin_end": 0.110531105298244,
            "bin_start": 0.092363357170555,
            "count": 0
           },
           {
            "bin_end": 0.12869885342593299,
            "bin_start": 0.110531105298244,
            "count": 0
           },
           {
            "bin_end": 0.146866601553622,
            "bin_start": 0.12869885342593299,
            "count": 0
           },
           {
            "bin_end": 0.165034349681311,
            "bin_start": 0.146866601553622,
            "count": 0
           },
           {
            "bin_end": 0.183202097809,
            "bin_start": 0.165034349681311,
            "count": 1
           }
          ],
          "max": "0.183202097809",
          "min": "0.00152461653211",
          "nan_count": 0,
          "unique_count": 5
         }
        },
        {
         "dtype": "float64",
         "name": "android_sensor_gyroscope_min",
         "stats": {
          "histogram": [
           {
            "bin_end": 0.00206668572373,
            "bin_start": 0,
            "count": 2
           },
           {
            "bin_end": 0.00413337144746,
            "bin_start": 0.00206668572373,
            "count": 0
           },
           {
            "bin_end": 0.00620005717119,
            "bin_start": 0.00413337144746,
            "count": 0
           },
           {
            "bin_end": 0.00826674289492,
            "bin_start": 0.00620005717119,
            "count": 0
           },
           {
            "bin_end": 0.01033342861865,
            "bin_start": 0.00826674289492,
            "count": 0
           },
           {
            "bin_end": 0.01240011434238,
            "bin_start": 0.01033342861865,
            "count": 1
           },
           {
            "bin_end": 0.01446680006611,
            "bin_start": 0.01240011434238,
            "count": 0
           },
           {
            "bin_end": 0.01653348578984,
            "bin_start": 0.01446680006611,
            "count": 0
           },
           {
            "bin_end": 0.018600171513569998,
            "bin_start": 0.01653348578984,
            "count": 0
           },
           {
            "bin_end": 0.0206668572373,
            "bin_start": 0.018600171513569998,
            "count": 2
           }
          ],
          "max": "0.0206668572373",
          "min": "0.0",
          "nan_count": 0,
          "unique_count": 4
         }
        },
        {
         "dtype": "float64",
         "name": "android_sensor_gyroscope_max",
         "stats": {
          "histogram": [
           {
            "bin_end": 0.04043592569269,
            "bin_start": 0.0026093544661,
            "count": 2
           },
           {
            "bin_end": 0.07826249691928,
            "bin_start": 0.04043592569269,
            "count": 2
           },
           {
            "bin_end": 0.11608906814587,
            "bin_start": 0.07826249691928,
            "count": 0
           },
           {
            "bin_end": 0.15391563937246,
            "bin_start": 0.11608906814587,
            "count": 0
           },
           {
            "bin_end": 0.19174221059905,
            "bin_start": 0.15391563937246,
            "count": 0
           },
           {
            "bin_end": 0.22956878182564,
            "bin_start": 0.19174221059905,
            "count": 0
           },
           {
            "bin_end": 0.26739535305223,
            "bin_start": 0.22956878182564,
            "count": 0
           },
           {
            "bin_end": 0.30522192427882,
            "bin_start": 0.26739535305223,
            "count": 0
           },
           {
            "bin_end": 0.34304849550541,
            "bin_start": 0.30522192427882,
            "count": 0
           },
           {
            "bin_end": 0.380875066732,
            "bin_start": 0.34304849550541,
            "count": 1
           }
          ],
          "max": "0.380875066732",
          "min": "0.0026093544661",
          "nan_count": 0,
          "unique_count": 5
         }
        },
        {
         "dtype": "float64",
         "name": "android_sensor_gyroscope_std",
         "stats": {
          "histogram": [
           {
            "bin_end": 0.0105233445143767,
            "bin_start": 0.000712700740663,
            "count": 2
           },
           {
            "bin_end": 0.0203339882880904,
            "bin_start": 0.0105233445143767,
            "count": 2
           },
           {
            "bin_end": 0.0301446320618041,
            "bin_start": 0.0203339882880904,
            "count": 0
           },
           {
            "bin_end": 0.0399552758355178,
            "bin_start": 0.0301446320618041,
            "count": 0
           },
           {
            "bin_end": 0.0497659196092315,
            "bin_start": 0.0399552758355178,
            "count": 0
           },
           {
            "bin_end": 0.0595765633829452,
            "bin_start": 0.0497659196092315,
            "count": 0
           },
           {
            "bin_end": 0.0693872071566589,
            "bin_start": 0.0595765633829452,
            "count": 0
           },
           {
            "bin_end": 0.0791978509303726,
            "bin_start": 0.0693872071566589,
            "count": 0
           },
           {
            "bin_end": 0.0890084947040863,
            "bin_start": 0.0791978509303726,
            "count": 0
           },
           {
            "bin_end": 0.0988191384778,
            "bin_start": 0.0890084947040863,
            "count": 1
           }
          ],
          "max": "0.0988191384778",
          "min": "0.000712700740663",
          "nan_count": 0,
          "unique_count": 5
         }
        },
        {
         "dtype": "float64",
         "name": "android_sensor_gyroscope_uncalibrated_mean",
         "stats": {
          "histogram": [
           {
            "bin_end": 0.04116444248034,
            "bin_start": 0.0162213599906,
            "count": 3
           },
           {
            "bin_end": 0.06610752497008,
            "bin_start": 0.04116444248034,
            "count": 1
           },
           {
            "bin_end": 0.09105060745982,
            "bin_start": 0.06610752497008,
            "count": 0
           },
           {
            "bin_end": 0.11599368994956,
            "bin_start": 0.09105060745982,
            "count": 0
           },
           {
            "bin_end": 0.1409367724393,
            "bin_start": 0.11599368994956,
            "count": 0
           },
           {
            "bin_end": 0.16587985492904,
            "bin_start": 0.1409367724393,
            "count": 0
           },
           {
            "bin_end": 0.19082293741878,
            "bin_start": 0.16587985492904,
            "count": 0
           },
           {
            "bin_end": 0.21576601990852,
            "bin_start": 0.19082293741878,
            "count": 0
           },
           {
            "bin_end": 0.24070910239826002,
            "bin_start": 0.21576601990852,
            "count": 0
           },
           {
            "bin_end": 0.265652184888,
            "bin_start": 0.24070910239826002,
            "count": 1
           }
          ],
          "max": "0.265652184888",
          "min": "0.0162213599906",
          "nan_count": 0,
          "unique_count": 5
         }
        },
        {
         "dtype": "float64",
         "name": "android_sensor_gyroscope_uncalibrated_min",
         "stats": {
          "histogram": [
           {
            "bin_end": 0.02683994701523,
            "bin_start": 0.0141323301437,
            "count": 4
           },
           {
            "bin_end": 0.03954756388676,
            "bin_start": 0.02683994701523,
            "count": 0
           },
           {
            "bin_end": 0.052255180758290005,
            "bin_start": 0.03954756388676,
            "count": 0
           },
           {
            "bin_end": 0.06496279762982,
            "bin_start": 0.052255180758290005,
            "count": 0
           },
           {
            "bin_end": 0.07767041450135,
            "bin_start": 0.06496279762982,
            "count": 0
           },
           {
            "bin_end": 0.09037803137288,
            "bin_start": 0.07767041450135,
            "count": 0
           },
           {
            "bin_end": 0.10308564824441,
            "bin_start": 0.09037803137288,
            "count": 0
           },
           {
            "bin_end": 0.11579326511594,
            "bin_start": 0.10308564824441,
            "count": 0
           },
           {
            "bin_end": 0.12850088198747,
            "bin_start": 0.11579326511594,
            "count": 0
           },
           {
            "bin_end": 0.141208498859,
            "bin_start": 0.12850088198747,
            "count": 1
           }
          ],
          "max": "0.141208498859",
          "min": "0.0141323301437",
          "nan_count": 0,
          "unique_count": 5
         }
        },
        {
         "dtype": "float64",
         "name": "android_sensor_gyroscope_uncalibrated_max",
         "stats": {
          "histogram": [
           {
            "bin_end": 0.046938517179040004,
            "bin_start": 0.0173739375996,
            "count": 2
           },
           {
            "bin_end": 0.07650309675848001,
            "bin_start": 0.046938517179040004,
            "count": 0
           },
           {
            "bin_end": 0.10606767633792001,
            "bin_start": 0.07650309675848001,
            "count": 2
           },
           {
            "bin_end": 0.13563225591736,
            "bin_start": 0.10606767633792001,
            "count": 0
           },
           {
            "bin_end": 0.16519683549680003,
            "bin_start": 0.13563225591736,
            "count": 0
           },
           {
            "bin_end": 0.19476141507624,
            "bin_start": 0.16519683549680003,
            "count": 0
           },
           {
            "bin_end": 0.22432599465568004,
            "bin_start": 0.19476141507624,
            "count": 0
           },
           {
            "bin_end": 0.25389057423512,
            "bin_start": 0.22432599465568004,
            "count": 0
           },
           {
            "bin_end": 0.28345515381456005,
            "bin_start": 0.25389057423512,
            "count": 0
           },
           {
            "bin_end": 0.313019733394,
            "bin_start": 0.28345515381456005,
            "count": 1
           }
          ],
          "max": "0.313019733394",
          "min": "0.0173739375996",
          "nan_count": 0,
          "unique_count": 5
         }
        },
        {
         "dtype": "float64",
         "name": "android_sensor_gyroscope_uncalibrated_std",
         "stats": {
          "histogram": [
           {
            "bin_end": 0.009105839884134501,
            "bin_start": 0.000875953734805,
            "count": 2
           },
           {
            "bin_end": 0.017335726033464,
            "bin_start": 0.009105839884134501,
            "count": 0
           },
           {
            "bin_end": 0.025565612182793504,
            "bin_start": 0.017335726033464,
            "count": 2
           },
           {
            "bin_end": 0.033795498332123,
            "bin_start": 0.025565612182793504,
            "count": 0
           },
           {
            "bin_end": 0.0420253844814525,
            "bin_start": 0.033795498332123,
            "count": 0
           },
           {
            "bin_end": 0.05025527063078201,
            "bin_start": 0.0420253844814525,
            "count": 0
           },
           {
            "bin_end": 0.05848515678011151,
            "bin_start": 0.05025527063078201,
            "count": 0
           },
           {
            "bin_end": 0.066715042929441,
            "bin_start": 0.05848515678011151,
            "count": 0
           },
           {
            "bin_end": 0.0749449290787705,
            "bin_start": 0.066715042929441,
            "count": 0
           },
           {
            "bin_end": 0.0831748152281,
            "bin_start": 0.0749449290787705,
            "count": 1
           }
          ],
          "max": "0.0831748152281",
          "min": "0.000875953734805",
          "nan_count": 0,
          "unique_count": 5
         }
        },
        {
         "dtype": "float64",
         "name": "android_sensor_light_mean",
         "stats": {
          "histogram": [
           {
            "bin_end": 3,
            "bin_start": 0,
            "count": 4
           },
           {
            "bin_end": 6,
            "bin_start": 3,
            "count": 0
           },
           {
            "bin_end": 9,
            "bin_start": 6,
            "count": 0
           },
           {
            "bin_end": 12,
            "bin_start": 9,
            "count": 0
           },
           {
            "bin_end": 15,
            "bin_start": 12,
            "count": 0
           },
           {
            "bin_end": 18,
            "bin_start": 15,
            "count": 0
           },
           {
            "bin_end": 21,
            "bin_start": 18,
            "count": 0
           },
           {
            "bin_end": 24,
            "bin_start": 21,
            "count": 0
           },
           {
            "bin_end": 27,
            "bin_start": 24,
            "count": 0
           },
           {
            "bin_end": 30,
            "bin_start": 27,
            "count": 1
           }
          ],
          "max": "30.0",
          "min": "0.0",
          "nan_count": 0,
          "unique_count": 3
         }
        },
        {
         "dtype": "float64",
         "name": "android_sensor_light_min",
         "stats": {
          "histogram": [
           {
            "bin_end": 3,
            "bin_start": 0,
            "count": 4
           },
           {
            "bin_end": 6,
            "bin_start": 3,
            "count": 0
           },
           {
            "bin_end": 9,
            "bin_start": 6,
            "count": 0
           },
           {
            "bin_end": 12,
            "bin_start": 9,
            "count": 0
           },
           {
            "bin_end": 15,
            "bin_start": 12,
            "count": 0
           },
           {
            "bin_end": 18,
            "bin_start": 15,
            "count": 0
           },
           {
            "bin_end": 21,
            "bin_start": 18,
            "count": 0
           },
           {
            "bin_end": 24,
            "bin_start": 21,
            "count": 0
           },
           {
            "bin_end": 27,
            "bin_start": 24,
            "count": 0
           },
           {
            "bin_end": 30,
            "bin_start": 27,
            "count": 1
           }
          ],
          "max": "30.0",
          "min": "0.0",
          "nan_count": 0,
          "unique_count": 3
         }
        },
        {
         "dtype": "float64",
         "name": "android_sensor_light_max",
         "stats": {
          "histogram": [
           {
            "bin_end": 3,
            "bin_start": 0,
            "count": 4
           },
           {
            "bin_end": 6,
            "bin_start": 3,
            "count": 0
           },
           {
            "bin_end": 9,
            "bin_start": 6,
            "count": 0
           },
           {
            "bin_end": 12,
            "bin_start": 9,
            "count": 0
           },
           {
            "bin_end": 15,
            "bin_start": 12,
            "count": 0
           },
           {
            "bin_end": 18,
            "bin_start": 15,
            "count": 0
           },
           {
            "bin_end": 21,
            "bin_start": 18,
            "count": 0
           },
           {
            "bin_end": 24,
            "bin_start": 21,
            "count": 0
           },
           {
            "bin_end": 27,
            "bin_start": 24,
            "count": 0
           },
           {
            "bin_end": 30,
            "bin_start": 27,
            "count": 1
           }
          ],
          "max": "30.0",
          "min": "0.0",
          "nan_count": 0,
          "unique_count": 3
         }
        },
        {
         "dtype": "float64",
         "name": "android_sensor_light_std",
         "stats": {
          "histogram": [
           {
            "bin_end": 3.95979797464,
            "bin_start": 0,
            "count": 2
           },
           {
            "bin_end": 7.91959594928,
            "bin_start": 3.95979797464,
            "count": 0
           },
           {
            "bin_end": 11.879393923919999,
            "bin_start": 7.91959594928,
            "count": 0
           },
           {
            "bin_end": 15.83919189856,
            "bin_start": 11.879393923919999,
            "count": 0
           },
           {
            "bin_end": 19.7989898732,
            "bin_start": 15.83919189856,
            "count": 0
           },
           {
            "bin_end": 23.758787847839997,
            "bin_start": 19.7989898732,
            "count": 0
           },
           {
            "bin_end": 27.718585822479998,
            "bin_start": 23.758787847839997,
            "count": 0
           },
           {
            "bin_end": 31.67838379712,
            "bin_start": 27.718585822479998,
            "count": 0
           },
           {
            "bin_end": 35.638181771759996,
            "bin_start": 31.67838379712,
            "count": 0
           },
           {
            "bin_end": 39.5979797464,
            "bin_start": 35.638181771759996,
            "count": 1
           }
          ],
          "max": "39.5979797464",
          "min": "0.0",
          "nan_count": 2,
          "unique_count": 3
         }
        },
        {
         "dtype": "float64",
         "name": "android_sensor_linear_acceleration_mean",
         "stats": {
          "histogram": [
           {
            "bin_end": 0.18471080473561002,
            "bin_start": 0.0209778383629,
            "count": 2
           },
           {
            "bin_end": 0.34844377110832003,
            "bin_start": 0.18471080473561002,
            "count": 0
           },
           {
            "bin_end": 0.51217673748103,
            "bin_start": 0.34844377110832003,
            "count": 0
           },
           {
            "bin_end": 0.67590970385374,
            "bin_start": 0.51217673748103,
            "count": 0
           },
           {
            "bin_end": 0.8396426702264501,
            "bin_start": 0.67590970385374,
            "count": 0
           },
           {
            "bin_end": 1.00337563659916,
            "bin_start": 0.8396426702264501,
            "count": 1
           },
           {
            "bin_end": 1.16710860297187,
            "bin_start": 1.00337563659916,
            "count": 0
           },
           {
            "bin_end": 1.33084156934458,
            "bin_start": 1.16710860297187,
            "count": 0
           },
           {
            "bin_end": 1.4945745357172902,
            "bin_start": 1.33084156934458,
            "count": 1
           },
           {
            "bin_end": 1.65830750209,
            "bin_start": 1.4945745357172902,
            "count": 1
           }
          ],
          "max": "1.65830750209",
          "min": "0.0209778383629",
          "nan_count": 0,
          "unique_count": 5
         }
        },
        {
         "dtype": "float64",
         "name": "android_sensor_linear_acceleration_min",
         "stats": {
          "histogram": [
           {
            "bin_end": 0.06635752499738101,
            "bin_start": 0.00249536633909,
            "count": 2
           },
           {
            "bin_end": 0.13021968365567202,
            "bin_start": 0.06635752499738101,
            "count": 0
           },
           {
            "bin_end": 0.19408184231396303,
            "bin_start": 0.13021968365567202,
            "count": 0
           },
           {
            "bin_end": 0.257944000972254,
            "bin_start": 0.19408184231396303,
            "count": 0
           },
           {
            "bin_end": 0.32180615963054504,
            "bin_start": 0.257944000972254,
            "count": 0
           },
           {
            "bin_end": 0.385668318288836,
            "bin_start": 0.32180615963054504,
            "count": 1
           },
           {
            "bin_end": 0.449530476947127,
            "bin_start": 0.385668318288836,
            "count": 0
           },
           {
            "bin_end": 0.513392635605418,
            "bin_start": 0.449530476947127,
            "count": 0
           },
           {
            "bin_end": 0.5772547942637091,
            "bin_start": 0.513392635605418,
            "count": 1
           },
           {
            "bin_end": 0.641116952922,
            "bin_start": 0.5772547942637091,
            "count": 1
           }
          ],
          "max": "0.641116952922",
          "min": "0.00249536633909",
          "nan_count": 0,
          "unique_count": 5
         }
        },
        {
         "dtype": "float64",
         "name": "android_sensor_linear_acceleration_max",
         "stats": {
          "histogram": [
           {
            "bin_end": 0.31785972514428,
            "bin_start": 0.0425113257492,
            "count": 2
           },
           {
            "bin_end": 0.59320812453936,
            "bin_start": 0.31785972514428,
            "count": 0
           },
           {
            "bin_end": 0.8685565239344399,
            "bin_start": 0.59320812453936,
            "count": 0
           },
           {
            "bin_end": 1.14390492332952,
            "bin_start": 0.8685565239344399,
            "count": 0
           },
           {
            "bin_end": 1.4192533227246,
            "bin_start": 1.14390492332952,
            "count": 1
           },
           {
            "bin_end": 1.6946017221196799,
            "bin_start": 1.4192533227246,
            "count": 0
           },
           {
            "bin_end": 1.96995012151476,
            "bin_start": 1.6946017221196799,
            "count": 0
           },
           {
            "bin_end": 2.2452985209098397,
            "bin_start": 1.96995012151476,
            "count": 0
           },
           {
            "bin_end": 2.5206469203049195,
            "bin_start": 2.2452985209098397,
            "count": 1
           },
           {
            "bin_end": 2.7959953197,
            "bin_start": 2.5206469203049195,
            "count": 1
           }
          ],
          "max": "2.7959953197",
          "min": "0.0425113257492",
          "nan_count": 0,
          "unique_count": 5
         }
        },
        {
         "dtype": "float64",
         "name": "android_sensor_linear_acceleration_std",
         "stats": {
          "histogram": [
           {
            "bin_end": 0.12216276452421998,
            "bin_start": 0.0110446872158,
            "count": 2
           },
           {
            "bin_end": 0.23328084183263997,
            "bin_start": 0.12216276452421998,
            "count": 0
           },
           {
            "bin_end": 0.3443989191410599,
            "bin_start": 0.23328084183263997,
            "count": 1
           },
           {
            "bin_end": 0.4555169964494799,
            "bin_start": 0.3443989191410599,
            "count": 0
           },
           {
            "bin_end": 0.5666350737578999,
            "bin_start": 0.4555169964494799,
            "count": 0
           },
           {
            "bin_end": 0.6777531510663198,
            "bin_start": 0.5666350737578999,
            "count": 0
           },
           {
            "bin_end": 0.7888712283747399,
            "bin_start": 0.6777531510663198,
            "count": 0
           },
           {
            "bin_end": 0.8999893056831598,
            "bin_start": 0.7888712283747399,
            "count": 0
           },
           {
            "bin_end": 1.01110738299158,
            "bin_start": 0.8999893056831598,
            "count": 1
           },
           {
            "bin_end": 1.1222254603,
            "bin_start": 1.01110738299158,
            "count": 1
           }
          ],
          "max": "1.1222254603",
          "min": "0.0110446872158",
          "nan_count": 0,
          "unique_count": 5
         }
        },
        {
         "dtype": "float64",
         "name": "android_sensor_magnetic_field_mean",
         "stats": {
          "histogram": [
           {
            "bin_end": 34.25373062397,
            "bin_start": 29.3512875433,
            "count": 2
           },
           {
            "bin_end": 39.15617370464,
            "bin_start": 34.25373062397,
            "count": 1
           },
           {
            "bin_end": 44.058616785309994,
            "bin_start": 39.15617370464,
            "count": 0
           },
           {
            "bin_end": 48.96105986598,
            "bin_start": 44.058616785309994,
            "count": 0
           },
           {
            "bin_end": 53.86350294665,
            "bin_start": 48.96105986598,
            "count": 0
           },
           {
            "bin_end": 58.76594602732,
            "bin_start": 53.86350294665,
            "count": 1
           },
           {
            "bin_end": 63.668389107989995,
            "bin_start": 58.76594602732,
            "count": 0
           },
           {
            "bin_end": 68.57083218865999,
            "bin_start": 63.668389107989995,
            "count": 0
           },
           {
            "bin_end": 73.47327526932999,
            "bin_start": 68.57083218865999,
            "count": 0
           },
           {
            "bin_end": 78.37571835,
            "bin_start": 73.47327526932999,
            "count": 1
           }
          ],
          "max": "78.37571835",
          "min": "29.3512875433",
          "nan_count": 0,
          "unique_count": 5
         }
        },
        {
         "dtype": "float64",
         "name": "android_sensor_magnetic_field_min",
         "stats": {
          "histogram": [
           {
            "bin_end": 33.00958071458,
            "bin_start": 28.1725051708,
            "count": 2
           },
           {
            "bin_end": 37.84665625836,
            "bin_start": 33.00958071458,
            "count": 1
           },
           {
            "bin_end": 42.68373180214,
            "bin_start": 37.84665625836,
            "count": 0
           },
           {
            "bin_end": 47.52080734592,
            "bin_start": 42.68373180214,
            "count": 0
           },
           {
            "bin_end": 52.357882889699994,
            "bin_start": 47.52080734592,
            "count": 0
           },
           {
            "bin_end": 57.19495843348,
            "bin_start": 52.357882889699994,
            "count": 1
           },
           {
            "bin_end": 62.03203397725999,
            "bin_start": 57.19495843348,
            "count": 0
           },
           {
            "bin_end": 66.86910952104,
            "bin_start": 62.03203397725999,
            "count": 0
           },
           {
            "bin_end": 71.70618506482,
            "bin_start": 66.86910952104,
            "count": 0
           },
           {
            "bin_end": 76.5432606086,
            "bin_start": 71.70618506482,
            "count": 1
           }
          ],
          "max": "76.5432606086",
          "min": "28.1725051708",
          "nan_count": 0,
          "unique_count": 5
         }
        },
        {
         "dtype": "float64",
         "name": "android_sensor_magnetic_field_max",
         "stats": {
          "histogram": [
           {
            "bin_end": 34.96185192977,
            "bin_start": 30.0383088738,
            "count": 2
           },
           {
            "bin_end": 39.88539498574,
            "bin_start": 34.96185192977,
            "count": 1
           },
           {
            "bin_end": 44.80893804170999,
            "bin_start": 39.88539498574,
            "count": 0
           },
           {
            "bin_end": 49.732481097679994,
            "bin_start": 44.80893804170999,
            "count": 0
           },
           {
            "bin_end": 54.656024153649994,
            "bin_start": 49.732481097679994,
            "count": 0
           },
           {
            "bin_end": 59.579567209619995,
            "bin_start": 54.656024153649994,
            "count": 1
           },
           {
            "bin_end": 64.50311026559,
            "bin_start": 59.579567209619995,
            "count": 0
           },
           {
            "bin_end": 69.42665332156,
            "bin_start": 64.50311026559,
            "count": 0
           },
           {
            "bin_end": 74.35019637753,
            "bin_start": 69.42665332156,
            "count": 0
           },
           {
            "bin_end": 79.2737394335,
            "bin_start": 74.35019637753,
            "count": 1
           }
          ],
          "max": "79.2737394335",
          "min": "30.0383088738",
          "nan_count": 0,
          "unique_count": 5
         }
        },
        {
         "dtype": "float64",
         "name": "android_sensor_magnetic_field_std",
         "stats": {
          "histogram": [
           {
            "bin_end": 0.2282022839501,
            "bin_start": 0.130851298779,
            "count": 2
           },
           {
            "bin_end": 0.3255532691212,
            "bin_start": 0.2282022839501,
            "count": 0
           },
           {
            "bin_end": 0.42290425429230005,
            "bin_start": 0.3255532691212,
            "count": 0
           },
           {
            "bin_end": 0.5202552394634,
            "bin_start": 0.42290425429230005,
            "count": 1
           },
           {
            "bin_end": 0.6176062246345,
            "bin_start": 0.5202552394634,
            "count": 0
           },
           {
            "bin_end": 0.7149572098056001,
            "bin_start": 0.6176062246345,
            "count": 0
           },
           {
            "bin_end": 0.8123081949767,
            "bin_start": 0.7149572098056001,
            "count": 0
           },
           {
            "bin_end": 0.9096591801478,
            "bin_start": 0.8123081949767,
            "count": 0
           },
           {
            "bin_end": 1.0070101653188999,
            "bin_start": 0.9096591801478,
            "count": 1
           },
           {
            "bin_end": 1.10436115049,
            "bin_start": 1.0070101653188999,
            "count": 1
           }
          ],
          "max": "1.10436115049",
          "min": "0.130851298779",
          "nan_count": 0,
          "unique_count": 5
         }
        },
        {
         "dtype": "float64",
         "name": "android_sensor_magnetic_field_uncalibrated_mean",
         "stats": {
          "histogram": [
           {
            "bin_end": 61.97013106416,
            "bin_start": 51.3635659024,
            "count": 2
           },
           {
            "bin_end": 72.57669622592,
            "bin_start": 61.97013106416,
            "count": 0
           },
           {
            "bin_end": 83.18326138768,
            "bin_start": 72.57669622592,
            "count": 1
           },
           {
            "bin_end": 93.78982654944,
            "bin_start": 83.18326138768,
            "count": 0
           },
           {
            "bin_end": 104.39639171120001,
            "bin_start": 93.78982654944,
            "count": 1
           },
           {
            "bin_end": 115.00295687296,
            "bin_start": 104.39639171120001,
            "count": 0
           },
           {
            "bin_end": 125.60952203472,
            "bin_start": 115.00295687296,
            "count": 0
           },
           {
            "bin_end": 136.21608719648,
            "bin_start": 125.60952203472,
            "count": 0
           },
           {
            "bin_end": 146.82265235824002,
            "bin_start": 136.21608719648,
            "count": 0
           },
           {
            "bin_end": 157.42921752,
            "bin_start": 146.82265235824002,
            "count": 1
           }
          ],
          "max": "157.42921752",
          "min": "51.3635659024",
          "nan_count": 0,
          "unique_count": 5
         }
        },
        {
         "dtype": "float64",
         "name": "android_sensor_magnetic_field_uncalibrated_min",
         "stats": {
          "histogram": [
           {
            "bin_end": 61.75932743579,
            "bin_start": 51.1997072531,
            "count": 2
           },
           {
            "bin_end": 72.31894761848,
            "bin_start": 61.75932743579,
            "count": 0
           },
           {
            "bin_end": 82.87856780117,
            "bin_start": 72.31894761848,
            "count": 1
           },
           {
            "bin_end": 93.43818798386,
            "bin_start": 82.87856780117,
            "count": 0
           },
           {
            "bin_end": 103.99780816655,
            "bin_start": 93.43818798386,
            "count": 1
           },
           {
            "bin_end": 114.55742834924001,
            "bin_start": 103.99780816655,
            "count": 0
           },
           {
            "bin_end": 125.11704853193001,
            "bin_start": 114.55742834924001,
            "count": 0
           },
           {
            "bin_end": 135.67666871462,
            "bin_start": 125.11704853193001,
            "count": 0
           },
           {
            "bin_end": 146.23628889731,
            "bin_start": 135.67666871462,
            "count": 0
           },
           {
            "bin_end": 156.79590908,
            "bin_start": 146.23628889731,
            "count": 1
           }
          ],
          "max": "156.79590908",
          "min": "51.1997072531",
          "nan_count": 0,
          "unique_count": 5
         }
        },
        {
         "dtype": "float64",
         "name": "android_sensor_magnetic_field_uncalibrated_max",
         "stats": {
          "histogram": [
           {
            "bin_end": 62.19154013647,
            "bin_start": 51.5392083783,
            "count": 2
           },
           {
            "bin_end": 72.84387189464,
            "bin_start": 62.19154013647,
            "count": 0
           },
           {
            "bin_end": 83.49620365281,
            "bin_start": 72.84387189464,
            "count": 1
           },
           {
            "bin_end": 94.14853541098,
            "bin_start": 83.49620365281,
            "count": 0
           },
           {
            "bin_end": 104.80086716915,
            "bin_start": 94.14853541098,
            "count": 1
           },
           {
            "bin_end": 115.45319892731999,
            "bin_start": 104.80086716915,
            "count": 0
           },
           {
            "bin_end": 126.10553068549,
            "bin_start": 115.45319892731999,
            "count": 0
           },
           {
            "bin_end": 136.75786244365997,
            "bin_start": 126.10553068549,
            "count": 0
           },
           {
            "bin_end": 147.41019420183,
            "bin_start": 136.75786244365997,
            "count": 0
           },
           {
            "bin_end": 158.06252596,
            "bin_start": 147.41019420183,
            "count": 1
           }
          ],
          "max": "158.06252596",
          "min": "51.5392083783",
          "nan_count": 0,
          "unique_count": 5
         }
        },
        {
         "dtype": "float64",
         "name": "android_sensor_magnetic_field_uncalibrated_std",
         "stats": {
          "histogram": [
           {
            "bin_end": 0.16237267158330002,
            "bin_start": 0.08089925898,
            "count": 3
           },
           {
            "bin_end": 0.24384608418660003,
            "bin_start": 0.16237267158330002,
            "count": 0
           },
           {
            "bin_end": 0.3253194967899,
            "bin_start": 0.24384608418660003,
            "count": 0
           },
           {
            "bin_end": 0.40679290939320006,
            "bin_start": 0.3253194967899,
            "count": 0
           },
           {
            "bin_end": 0.48826632199650005,
            "bin_start": 0.40679290939320006,
            "count": 0
           },
           {
            "bin_end": 0.5697397345998001,
            "bin_start": 0.48826632199650005,
            "count": 1
           },
           {
            "bin_end": 0.6512131472031002,
            "bin_start": 0.5697397345998001,
            "count": 0
           },
           {
            "bin_end": 0.7326865598064001,
            "bin_start": 0.6512131472031002,
            "count": 0
           },
           {
            "bin_end": 0.8141599724097002,
            "bin_start": 0.7326865598064001,
            "count": 0
           },
           {
            "bin_end": 0.895633385013,
            "bin_start": 0.8141599724097002,
            "count": 1
           }
          ],
          "max": "0.895633385013",
          "min": "0.08089925898",
          "nan_count": 0,
          "unique_count": 5
         }
        },
        {
         "dtype": "float64",
         "name": "android_sensor_orientation_mean",
         "stats": {
          "histogram": [
           {
            "bin_end": 104.63299177176,
            "bin_start": 74.7526531434,
            "count": 1
           },
           {
            "bin_end": 134.51333040012,
            "bin_start": 104.63299177176,
            "count": 0
           },
           {
            "bin_end": 164.39366902848002,
            "bin_start": 134.51333040012,
            "count": 0
           },
           {
            "bin_end": 194.27400765684,
            "bin_start": 164.39366902848002,
            "count": 1
           },
           {
            "bin_end": 224.1543462852,
            "bin_start": 194.27400765684,
            "count": 0
           },
           {
            "bin_end": 254.03468491356,
            "bin_start": 224.1543462852,
            "count": 0
           },
           {
            "bin_end": 283.91502354192,
            "bin_start": 254.03468491356,
            "count": 0
           },
           {
            "bin_end": 313.79536217028,
            "bin_start": 283.91502354192,
            "count": 0
           },
           {
            "bin_end": 343.67570079864,
            "bin_start": 313.79536217028,
            "count": 1
           },
           {
            "bin_end": 373.556039427,
            "bin_start": 343.67570079864,
            "count": 2
           }
          ],
          "max": "373.556039427",
          "min": "74.7526531434",
          "nan_count": 0,
          "unique_count": 5
         }
        },
        {
         "dtype": "float64",
         "name": "android_sensor_orientation_min",
         "stats": {
          "histogram": [
           {
            "bin_end": 68.26819940760001,
            "bin_start": 35.864971592,
            "count": 1
           },
           {
            "bin_end": 100.6714272232,
            "bin_start": 68.26819940760001,
            "count": 1
           },
           {
            "bin_end": 133.07465503880002,
            "bin_start": 100.6714272232,
            "count": 0
           },
           {
            "bin_end": 165.47788285439998,
            "bin_start": 133.07465503880002,
            "count": 0
           },
           {
            "bin_end": 197.88111067,
            "bin_start": 165.47788285439998,
            "count": 0
           },
           {
            "bin_end": 230.28433848560002,
            "bin_start": 197.88111067,
            "count": 0
           },
           {
            "bin_end": 262.6875663012,
            "bin_start": 230.28433848560002,
            "count": 0
           },
           {
            "bin_end": 295.0907941168,
            "bin_start": 262.6875663012,
            "count": 0
           },
           {
            "bin_end": 327.4940219324,
            "bin_start": 295.0907941168,
            "count": 0
           },
           {
            "bin_end": 359.897249748,
            "bin_start": 327.4940219324,
            "count": 3
           }
          ],
          "max": "359.897249748",
          "min": "35.864971592",
          "nan_count": 0,
          "unique_count": 5
         }
        },
        {
         "dtype": "float64",
         "name": "android_sensor_orientation_max",
         "stats": {
          "histogram": [
           {
            "bin_end": 107.44889099004999,
            "bin_start": 75.2685742895,
            "count": 1
           },
           {
            "bin_end": 139.62920769059997,
            "bin_start": 107.44889099004999,
            "count": 0
           },
           {
            "bin_end": 171.80952439114998,
            "bin_start": 139.62920769059997,
            "count": 0
           },
           {
            "bin_end": 203.9898410917,
            "bin_start": 171.80952439114998,
            "count": 0
           },
           {
            "bin_end": 236.17015779225,
            "bin_start": 203.9898410917,
            "count": 0
           },
           {
            "bin_end": 268.35047449279995,
            "bin_start": 236.17015779225,
            "count": 0
           },
           {
            "bin_end": 300.53079119334996,
            "bin_start": 268.35047449279995,
            "count": 0
           },
           {
            "bin_end": 332.71110789389996,
            "bin_start": 300.53079119334996,
            "count": 0
           },
           {
            "bin_end": 364.89142459445,
            "bin_start": 332.71110789389996,
            "count": 3
           },
           {
            "bin_end": 397.071741295,
            "bin_start": 364.89142459445,
            "count": 1
           }
          ],
          "max": "397.071741295",
          "min": "75.2685742895",
          "nan_count": 0,
          "unique_count": 5
         }
        },
        {
         "dtype": "float64",
         "name": "android_sensor_orientation_std",
         "stats": {
          "histogram": [
           {
            "bin_end": 18.39405416573,
            "bin_start": 0.2456763287,
            "count": 4
           },
           {
            "bin_end": 36.54243200276,
            "bin_start": 18.39405416573,
            "count": 0
           },
           {
            "bin_end": 54.690809839790006,
            "bin_start": 36.54243200276,
            "count": 0
           },
           {
            "bin_end": 72.83918767682,
            "bin_start": 54.690809839790006,
            "count": 0
           },
           {
            "bin_end": 90.98756551385,
            "bin_start": 72.83918767682,
            "count": 0
           },
           {
            "bin_end": 109.13594335088001,
            "bin_start": 90.98756551385,
            "count": 0
           },
           {
            "bin_end": 127.28432118791001,
            "bin_start": 109.13594335088001,
            "count": 0
           },
           {
            "bin_end": 145.43269902494,
            "bin_start": 127.28432118791001,
            "count": 0
           },
           {
            "bin_end": 163.58107686197002,
            "bin_start": 145.43269902494,
            "count": 0
           },
           {
            "bin_end": 181.729454699,
            "bin_start": 163.58107686197002,
            "count": 1
           }
          ],
          "max": "181.729454699",
          "min": "0.2456763287",
          "nan_count": 0,
          "unique_count": 5
         }
        },
        {
         "dtype": "float64",
         "name": "android_sensor_pressure_mean",
         "stats": {
          "histogram": [
           {
            "bin_end": 1004.508700666,
            "bin_start": 1004.09026074,
            "count": 1
           },
           {
            "bin_end": 1004.927140592,
            "bin_start": 1004.508700666,
            "count": 0
           },
           {
            "bin_end": 1005.345580518,
            "bin_start": 1004.927140592,
            "count": 0
           },
           {
            "bin_end": 1005.764020444,
            "bin_start": 1005.345580518,
            "count": 0
           },
           {
            "bin_end": 1006.18246037,
            "bin_start": 1005.764020444,
            "count": 1
           },
           {
            "bin_end": 1006.600900296,
            "bin_start": 1006.18246037,
            "count": 0
           },
           {
            "bin_end": 1007.019340222,
            "bin_start": 1006.600900296,
            "count": 1
           },
           {
            "bin_end": 1007.437780148,
            "bin_start": 1007.019340222,
            "count": 0
           },
           {
            "bin_end": 1007.856220074,
            "bin_start": 1007.437780148,
            "count": 0
           },
           {
            "bin_end": 1008.27466,
            "bin_start": 1007.856220074,
            "count": 1
           }
          ],
          "max": "1008.27466",
          "min": "1004.09026074",
          "nan_count": 1,
          "unique_count": 4
         }
        },
        {
         "dtype": "float64",
         "name": "android_sensor_pressure_min",
         "stats": {
          "histogram": [
           {
            "bin_end": 1004.477326,
            "bin_start": 1004.0554,
            "count": 1
           },
           {
            "bin_end": 1004.8992519999999,
            "bin_start": 1004.477326,
            "count": 0
           },
           {
            "bin_end": 1005.321178,
            "bin_start": 1004.8992519999999,
            "count": 0
           },
           {
            "bin_end": 1005.743104,
            "bin_start": 1005.321178,
            "count": 0
           },
           {
            "bin_end": 1006.16503,
            "bin_start": 1005.743104,
            "count": 1
           },
           {
            "bin_end": 1006.586956,
            "bin_start": 1006.16503,
            "count": 0
           },
           {
            "bin_end": 1007.008882,
            "bin_start": 1006.586956,
            "count": 1
           },
           {
            "bin_end": 1007.4308080000001,
            "bin_start": 1007.008882,
            "count": 0
           },
           {
            "bin_end": 1007.852734,
            "bin_start": 1007.4308080000001,
            "count": 0
           },
           {
            "bin_end": 1008.27466,
            "bin_start": 1007.852734,
            "count": 1
           }
          ],
          "max": "1008.27466",
          "min": "1004.0554",
          "nan_count": 1,
          "unique_count": 4
         }
        },
        {
         "dtype": "float64",
         "name": "android_sensor_pressure_max",
         "stats": {
          "histogram": [
           {
            "bin_end": 1004.5425759999999,
            "bin_start": 1004.1279,
            "count": 1
           },
           {
            "bin_end": 1004.9572519999999,
            "bin_start": 1004.5425759999999,
            "count": 0
           },
           {
            "bin_end": 1005.371928,
            "bin_start": 1004.9572519999999,
            "count": 0
           },
           {
            "bin_end": 1005.786604,
            "bin_start": 1005.371928,
            "count": 0
           },
           {
            "bin_end": 1006.20128,
            "bin_start": 1005.786604,
            "count": 1
           },
           {
            "bin_end": 1006.615956,
            "bin_start": 1006.20128,
            "count": 0
           },
           {
            "bin_end": 1007.030632,
            "bin_start": 1006.615956,
            "count": 1
           },
           {
            "bin_end": 1007.4453080000001,
            "bin_start": 1007.030632,
            "count": 0
           },
           {
            "bin_end": 1007.859984,
            "bin_start": 1007.4453080000001,
            "count": 0
           },
           {
            "bin_end": 1008.27466,
            "bin_start": 1007.859984,
            "count": 1
           }
          ],
          "max": "1008.27466",
          "min": "1004.1279",
          "nan_count": 1,
          "unique_count": 4
         }
        },
        {
         "dtype": "float64",
         "name": "android_sensor_pressure_std",
         "stats": {
          "histogram": [
           {
            "bin_end": -0.38258423593720003,
            "bin_start": -0.4825842359372,
            "count": 0
           },
           {
            "bin_end": -0.2825842359372,
            "bin_start": -0.38258423593720003,
            "count": 0
           },
           {
            "bin_end": -0.18258423593719997,
            "bin_start": -0.2825842359372,
            "count": 0
           },
           {
            "bin_end": -0.08258423593719999,
            "bin_start": -0.18258423593719997,
            "count": 0
           },
           {
            "bin_end": 0.017415764062799988,
            "bin_start": -0.08258423593719999,
            "count": 0
           },
           {
            "bin_end": 0.11741576406280008,
            "bin_start": 0.017415764062799988,
            "count": 1
           },
           {
            "bin_end": 0.21741576406280005,
            "bin_start": 0.11741576406280008,
            "count": 0
           },
           {
            "bin_end": 0.31741576406280003,
            "bin_start": 0.21741576406280005,
            "count": 0
           },
           {
            "bin_end": 0.4174157640628,
            "bin_start": 0.31741576406280003,
            "count": 0
           },
           {
            "bin_end": 0.5174157640628,
            "bin_start": 0.4174157640628,
            "count": 0
           }
          ],
          "max": "0.0174157640628",
          "min": "0.0174157640628",
          "nan_count": 4,
          "unique_count": 1
         }
        },
        {
         "dtype": "float64",
         "name": "android_sensor_proximity_mean",
         "stats": {
          "histogram": [
           {
            "bin_end": 7.6,
            "bin_start": 7.5,
            "count": 0
           },
           {
            "bin_end": 7.7,
            "bin_start": 7.6,
            "count": 0
           },
           {
            "bin_end": 7.8,
            "bin_start": 7.7,
            "count": 0
           },
           {
            "bin_end": 7.9,
            "bin_start": 7.8,
            "count": 0
           },
           {
            "bin_end": 8,
            "bin_start": 7.9,
            "count": 0
           },
           {
            "bin_end": 8.1,
            "bin_start": 8,
            "count": 2
           },
           {
            "bin_end": 8.2,
            "bin_start": 8.1,
            "count": 0
           },
           {
            "bin_end": 8.3,
            "bin_start": 8.2,
            "count": 0
           },
           {
            "bin_end": 8.4,
            "bin_start": 8.3,
            "count": 0
           },
           {
            "bin_end": 8.5,
            "bin_start": 8.4,
            "count": 0
           }
          ],
          "max": "8.0",
          "min": "8.0",
          "nan_count": 3,
          "unique_count": 1
         }
        },
        {
         "dtype": "float64",
         "name": "android_sensor_proximity_min",
         "stats": {
          "histogram": [
           {
            "bin_end": 7.6,
            "bin_start": 7.5,
            "count": 0
           },
           {
            "bin_end": 7.7,
            "bin_start": 7.6,
            "count": 0
           },
           {
            "bin_end": 7.8,
            "bin_start": 7.7,
            "count": 0
           },
           {
            "bin_end": 7.9,
            "bin_start": 7.8,
            "count": 0
           },
           {
            "bin_end": 8,
            "bin_start": 7.9,
            "count": 0
           },
           {
            "bin_end": 8.1,
            "bin_start": 8,
            "count": 2
           },
           {
            "bin_end": 8.2,
            "bin_start": 8.1,
            "count": 0
           },
           {
            "bin_end": 8.3,
            "bin_start": 8.2,
            "count": 0
           },
           {
            "bin_end": 8.4,
            "bin_start": 8.3,
            "count": 0
           },
           {
            "bin_end": 8.5,
            "bin_start": 8.4,
            "count": 0
           }
          ],
          "max": "8.0",
          "min": "8.0",
          "nan_count": 3,
          "unique_count": 1
         }
        },
        {
         "dtype": "float64",
         "name": "android_sensor_proximity_max",
         "stats": {
          "histogram": [
           {
            "bin_end": 7.6,
            "bin_start": 7.5,
            "count": 0
           },
           {
            "bin_end": 7.7,
            "bin_start": 7.6,
            "count": 0
           },
           {
            "bin_end": 7.8,
            "bin_start": 7.7,
            "count": 0
           },
           {
            "bin_end": 7.9,
            "bin_start": 7.8,
            "count": 0
           },
           {
            "bin_end": 8,
            "bin_start": 7.9,
            "count": 0
           },
           {
            "bin_end": 8.1,
            "bin_start": 8,
            "count": 2
           },
           {
            "bin_end": 8.2,
            "bin_start": 8.1,
            "count": 0
           },
           {
            "bin_end": 8.3,
            "bin_start": 8.2,
            "count": 0
           },
           {
            "bin_end": 8.4,
            "bin_start": 8.3,
            "count": 0
           },
           {
            "bin_end": 8.5,
            "bin_start": 8.4,
            "count": 0
           }
          ],
          "max": "8.0",
          "min": "8.0",
          "nan_count": 3,
          "unique_count": 1
         }
        },
        {
         "dtype": "float64",
         "name": "android_sensor_proximity_std",
         "stats": {
          "histogram": [
           {
            "bin_end": 0.1,
            "bin_start": 0,
            "count": 0
           },
           {
            "bin_end": 0.2,
            "bin_start": 0.1,
            "count": 0
           },
           {
            "bin_end": 0.30000000000000004,
            "bin_start": 0.2,
            "count": 0
           },
           {
            "bin_end": 0.4,
            "bin_start": 0.30000000000000004,
            "count": 0
           },
           {
            "bin_end": 0.5,
            "bin_start": 0.4,
            "count": 0
           },
           {
            "bin_end": 0.6000000000000001,
            "bin_start": 0.5,
            "count": 0
           },
           {
            "bin_end": 0.7000000000000001,
            "bin_start": 0.6000000000000001,
            "count": 0
           },
           {
            "bin_end": 0.8,
            "bin_start": 0.7000000000000001,
            "count": 0
           },
           {
            "bin_end": 0.9,
            "bin_start": 0.8,
            "count": 0
           },
           {
            "bin_end": 1,
            "bin_start": 0.9,
            "count": 0
           }
          ],
          "max": null,
          "min": null,
          "nan_count": 5,
          "unique_count": 0
         }
        },
        {
         "dtype": "float64",
         "name": "android_sensor_rotation_vector_mean",
         "stats": {
          "histogram": [
           {
            "bin_end": 0.14536994911599999,
            "bin_start": 0.050413140269,
            "count": 1
           },
           {
            "bin_end": 0.24032675796300002,
            "bin_start": 0.14536994911599999,
            "count": 0
           },
           {
            "bin_end": 0.33528356681000004,
            "bin_start": 0.24032675796300002,
            "count": 1
           },
           {
            "bin_end": 0.430240375657,
            "bin_start": 0.33528356681000004,
            "count": 0
           },
           {
            "bin_end": 0.525197184504,
            "bin_start": 0.430240375657,
            "count": 0
           },
           {
            "bin_end": 0.6201539933510001,
            "bin_start": 0.525197184504,
            "count": 1
           },
           {
            "bin_end": 0.715110802198,
            "bin_start": 0.6201539933510001,
            "count": 0
           },
           {
            "bin_end": 0.810067611045,
            "bin_start": 0.715110802198,
            "count": 0
           },
           {
            "bin_end": 0.905024419892,
            "bin_start": 0.810067611045,
            "count": 0
           },
           {
            "bin_end": 0.999981228739,
            "bin_start": 0.905024419892,
            "count": 2
           }
          ],
          "max": "0.999981228739",
          "min": "0.050413140269",
          "nan_count": 0,
          "unique_count": 5
         }
        },
        {
         "dtype": "float64",
         "name": "android_sensor_rotation_vector_min",
         "stats": {
          "histogram": [
           {
            "bin_end": 0.14029574870094,
            "bin_start": 0.0447771592556,
            "count": 1
           },
           {
            "bin_end": 0.23581433814628,
            "bin_start": 0.14029574870094,
            "count": 0
           },
           {
            "bin_end": 0.33133292759162003,
            "bin_start": 0.23581433814628,
            "count": 1
           },
           {
            "bin_end": 0.42685151703696,
            "bin_start": 0.33133292759162003,
            "count": 0
           },
           {
            "bin_end": 0.5223701064823,
            "bin_start": 0.42685151703696,
            "count": 0
           },
           {
            "bin_end": 0.6178886959276401,
            "bin_start": 0.5223701064823,
            "count": 1
           },
           {
            "bin_end": 0.71340728537298,
            "bin_start": 0.6178886959276401,
            "count": 0
           },
           {
            "bin_end": 0.80892587481832,
            "bin_start": 0.71340728537298,
            "count": 0
           },
           {
            "bin_end": 0.90444446426366,
            "bin_start": 0.80892587481832,
            "count": 0
           },
           {
            "bin_end": 0.999963053709,
            "bin_start": 0.90444446426366,
            "count": 2
           }
          ],
          "max": "0.999963053709",
          "min": "0.0447771592556",
          "nan_count": 0,
          "unique_count": 5
         }
        },
        {
         "dtype": "float64",
         "name": "android_sensor_rotation_vector_max",
         "stats": {
          "histogram": [
           {
            "bin_end": 0.15071615882803,
            "bin_start": 0.0563513538347,
            "count": 1
           },
           {
            "bin_end": 0.24508096382136,
            "bin_start": 0.15071615882803,
            "count": 0
           },
           {
            "bin_end": 0.33944576881469,
            "bin_start": 0.24508096382136,
            "count": 0
           },
           {
            "bin_end": 0.43381057380802,
            "bin_start": 0.33944576881469,
            "count": 1
           },
           {
            "bin_end": 0.52817537880135,
            "bin_start": 0.43381057380802,
            "count": 0
           },
           {
            "bin_end": 0.62254018379468,
            "bin_start": 0.52817537880135,
            "count": 1
           },
           {
            "bin_end": 0.71690498878801,
            "bin_start": 0.62254018379468,
            "count": 0
           },
           {
            "bin_end": 0.81126979378134,
            "bin_start": 0.71690498878801,
            "count": 0
           },
           {
            "bin_end": 0.90563459877467,
            "bin_start": 0.81126979378134,
            "count": 0
           },
           {
            "bin_end": 0.999999403768,
            "bin_start": 0.90563459877467,
            "count": 2
           }
          ],
          "max": "0.999999403768",
          "min": "0.0563513538347",
          "nan_count": 0,
          "unique_count": 5
         }
        },
        {
         "dtype": "float64",
         "name": "android_sensor_rotation_vector_std",
         "stats": {
          "histogram": [
           {
            "bin_end": 0.00258391827615386,
            "bin_start": 2.57033732154e-05,
            "count": 2
           },
           {
            "bin_end": 0.005142133179092319,
            "bin_start": 0.00258391827615386,
            "count": 1
           },
           {
            "bin_end": 0.007700348082030779,
            "bin_start": 0.005142133179092319,
            "count": 0
           },
           {
            "bin_end": 0.010258562984969239,
            "bin_start": 0.007700348082030779,
            "count": 0
           },
           {
            "bin_end": 0.012816777887907698,
            "bin_start": 0.010258562984969239,
            "count": 1
           },
           {
            "bin_end": 0.015374992790846158,
            "bin_start": 0.012816777887907698,
            "count": 0
           },
           {
            "bin_end": 0.01793320769378462,
            "bin_start": 0.015374992790846158,
            "count": 0
           },
           {
            "bin_end": 0.02049142259672308,
            "bin_start": 0.01793320769378462,
            "count": 0
           },
           {
            "bin_end": 0.02304963749966154,
            "bin_start": 0.02049142259672308,
            "count": 0
           },
           {
            "bin_end": 0.0256078524026,
            "bin_start": 0.02304963749966154,
            "count": 1
           }
          ],
          "max": "0.0256078524026",
          "min": "2.57033732154e-05",
          "nan_count": 0,
          "unique_count": 5
         }
        },
        {
         "dtype": "float64",
         "name": "android_sensor_step_counter_mean",
         "stats": {
          "histogram": [
           {
            "bin_end": 28965.6,
            "bin_start": 28965.5,
            "count": 0
           },
           {
            "bin_end": 28965.7,
            "bin_start": 28965.6,
            "count": 0
           },
           {
            "bin_end": 28965.8,
            "bin_start": 28965.7,
            "count": 0
           },
           {
            "bin_end": 28965.9,
            "bin_start": 28965.8,
            "count": 0
           },
           {
            "bin_end": 28966,
            "bin_start": 28965.9,
            "count": 0
           },
           {
            "bin_end": 28966.1,
            "bin_start": 28966,
            "count": 1
           },
           {
            "bin_end": 28966.2,
            "bin_start": 28966.1,
            "count": 0
           },
           {
            "bin_end": 28966.3,
            "bin_start": 28966.2,
            "count": 0
           },
           {
            "bin_end": 28966.4,
            "bin_start": 28966.3,
            "count": 0
           },
           {
            "bin_end": 28966.5,
            "bin_start": 28966.4,
            "count": 0
           }
          ],
          "max": "28966.0",
          "min": "28966.0",
          "nan_count": 4,
          "unique_count": 1
         }
        },
        {
         "dtype": "float64",
         "name": "android_sensor_step_counter_min",
         "stats": {
          "histogram": [
           {
            "bin_end": 28965.6,
            "bin_start": 28965.5,
            "count": 0
           },
           {
            "bin_end": 28965.7,
            "bin_start": 28965.6,
            "count": 0
           },
           {
            "bin_end": 28965.8,
            "bin_start": 28965.7,
            "count": 0
           },
           {
            "bin_end": 28965.9,
            "bin_start": 28965.8,
            "count": 0
           },
           {
            "bin_end": 28966,
            "bin_start": 28965.9,
            "count": 0
           },
           {
            "bin_end": 28966.1,
            "bin_start": 28966,
            "count": 1
           },
           {
            "bin_end": 28966.2,
            "bin_start": 28966.1,
            "count": 0
           },
           {
            "bin_end": 28966.3,
            "bin_start": 28966.2,
            "count": 0
           },
           {
            "bin_end": 28966.4,
            "bin_start": 28966.3,
            "count": 0
           },
           {
            "bin_end": 28966.5,
            "bin_start": 28966.4,
            "count": 0
           }
          ],
          "max": "28966.0",
          "min": "28966.0",
          "nan_count": 4,
          "unique_count": 1
         }
        },
        {
         "dtype": "float64",
         "name": "android_sensor_step_counter_max",
         "stats": {
          "histogram": [
           {
            "bin_end": 28965.6,
            "bin_start": 28965.5,
            "count": 0
           },
           {
            "bin_end": 28965.7,
            "bin_start": 28965.6,
            "count": 0
           },
           {
            "bin_end": 28965.8,
            "bin_start": 28965.7,
            "count": 0
           },
           {
            "bin_end": 28965.9,
            "bin_start": 28965.8,
            "count": 0
           },
           {
            "bin_end": 28966,
            "bin_start": 28965.9,
            "count": 0
           },
           {
            "bin_end": 28966.1,
            "bin_start": 28966,
            "count": 1
           },
           {
            "bin_end": 28966.2,
            "bin_start": 28966.1,
            "count": 0
           },
           {
            "bin_end": 28966.3,
            "bin_start": 28966.2,
            "count": 0
           },
           {
            "bin_end": 28966.4,
            "bin_start": 28966.3,
            "count": 0
           },
           {
            "bin_end": 28966.5,
            "bin_start": 28966.4,
            "count": 0
           }
          ],
          "max": "28966.0",
          "min": "28966.0",
          "nan_count": 4,
          "unique_count": 1
         }
        },
        {
         "dtype": "float64",
         "name": "android_sensor_step_counter_std",
         "stats": {
          "histogram": [
           {
            "bin_end": 0.1,
            "bin_start": 0,
            "count": 0
           },
           {
            "bin_end": 0.2,
            "bin_start": 0.1,
            "count": 0
           },
           {
            "bin_end": 0.30000000000000004,
            "bin_start": 0.2,
            "count": 0
           },
           {
            "bin_end": 0.4,
            "bin_start": 0.30000000000000004,
            "count": 0
           },
           {
            "bin_end": 0.5,
            "bin_start": 0.4,
            "count": 0
           },
           {
            "bin_end": 0.6000000000000001,
            "bin_start": 0.5,
            "count": 0
           },
           {
            "bin_end": 0.7000000000000001,
            "bin_start": 0.6000000000000001,
            "count": 0
           },
           {
            "bin_end": 0.8,
            "bin_start": 0.7000000000000001,
            "count": 0
           },
           {
            "bin_end": 0.9,
            "bin_start": 0.8,
            "count": 0
           },
           {
            "bin_end": 1,
            "bin_start": 0.9,
            "count": 0
           }
          ],
          "max": null,
          "min": null,
          "nan_count": 5,
          "unique_count": 0
         }
        },
        {
         "dtype": "float64",
         "name": "sound_mean",
         "stats": {
          "histogram": [
           {
            "bin_end": 87.70041262106,
            "bin_start": 87.4703770994,
            "count": 1
           },
           {
            "bin_end": 87.93044814272,
            "bin_start": 87.70041262106,
            "count": 0
           },
           {
            "bin_end": 88.16048366438,
            "bin_start": 87.93044814272,
            "count": 0
           },
           {
            "bin_end": 88.39051918604,
            "bin_start": 88.16048366438,
            "count": 0
           },
           {
            "bin_end": 88.6205547077,
            "bin_start": 88.39051918604,
            "count": 0
           },
           {
            "bin_end": 88.85059022936,
            "bin_start": 88.6205547077,
            "count": 0
           },
           {
            "bin_end": 89.08062575102,
            "bin_start": 88.85059022936,
            "count": 0
           },
           {
            "bin_end": 89.31066127268,
            "bin_start": 89.08062575102,
            "count": 1
           },
           {
            "bin_end": 89.54069679434,
            "bin_start": 89.31066127268,
            "count": 0
           },
           {
            "bin_end": 89.770732316,
            "bin_start": 89.54069679434,
            "count": 1
           }
          ],
          "max": "89.770732316",
          "min": "87.4703770994",
          "nan_count": 2,
          "unique_count": 3
         }
        },
        {
         "dtype": "float64",
         "name": "sound_min",
         "stats": {
          "histogram": [
           {
            "bin_end": 87.70041262106,
            "bin_start": 87.4703770994,
            "count": 1
           },
           {
            "bin_end": 87.93044814272,
            "bin_start": 87.70041262106,
            "count": 0
           },
           {
            "bin_end": 88.16048366438,
            "bin_start": 87.93044814272,
            "count": 0
           },
           {
            "bin_end": 88.39051918604,
            "bin_start": 88.16048366438,
            "count": 0
           },
           {
            "bin_end": 88.6205547077,
            "bin_start": 88.39051918604,
            "count": 0
           },
           {
            "bin_end": 88.85059022936,
            "bin_start": 88.6205547077,
            "count": 0
           },
           {
            "bin_end": 89.08062575102,
            "bin_start": 88.85059022936,
            "count": 1
           },
           {
            "bin_end": 89.31066127268,
            "bin_start": 89.08062575102,
            "count": 0
           },
           {
            "bin_end": 89.54069679434,
            "bin_start": 89.31066127268,
            "count": 0
           },
           {
            "bin_end": 89.770732316,
            "bin_start": 89.54069679434,
            "count": 1
           }
          ],
          "max": "89.770732316",
          "min": "87.4703770994",
          "nan_count": 2,
          "unique_count": 3
         }
        },
        {
         "dtype": "float64",
         "name": "sound_max",
         "stats": {
          "histogram": [
           {
            "bin_end": 87.70041262106,
            "bin_start": 87.4703770994,
            "count": 1
           },
           {
            "bin_end": 87.93044814272,
            "bin_start": 87.70041262106,
            "count": 0
           },
           {
            "bin_end": 88.16048366438,
            "bin_start": 87.93044814272,
            "count": 0
           },
           {
            "bin_end": 88.39051918604,
            "bin_start": 88.16048366438,
            "count": 0
           },
           {
            "bin_end": 88.6205547077,
            "bin_start": 88.39051918604,
            "count": 0
           },
           {
            "bin_end": 88.85059022936,
            "bin_start": 88.6205547077,
            "count": 0
           },
           {
            "bin_end": 89.08062575102,
            "bin_start": 88.85059022936,
            "count": 0
           },
           {
            "bin_end": 89.31066127268,
            "bin_start": 89.08062575102,
            "count": 0
           },
           {
            "bin_end": 89.54069679434,
            "bin_start": 89.31066127268,
            "count": 1
           },
           {
            "bin_end": 89.770732316,
            "bin_start": 89.54069679434,
            "count": 1
           }
          ],
          "max": "89.770732316",
          "min": "87.4703770994",
          "nan_count": 2,
          "unique_count": 3
         }
        },
        {
         "dtype": "float64",
         "name": "sound_std",
         "stats": {
          "histogram": [
           {
            "bin_end": 0.23416894782185704,
            "bin_start": 0.00638923521873,
            "count": 2
           },
           {
            "bin_end": 0.4619486604249841,
            "bin_start": 0.23416894782185704,
            "count": 0
           },
           {
            "bin_end": 0.6897283730281112,
            "bin_start": 0.4619486604249841,
            "count": 0
           },
           {
            "bin_end": 0.9175080856312382,
            "bin_start": 0.6897283730281112,
            "count": 0
           },
           {
            "bin_end": 1.1452877982343652,
            "bin_start": 0.9175080856312382,
            "count": 0
           },
           {
            "bin_end": 1.3730675108374923,
            "bin_start": 1.1452877982343652,
            "count": 0
           },
           {
            "bin_end": 1.6008472234406192,
            "bin_start": 1.3730675108374923,
            "count": 0
           },
           {
            "bin_end": 1.8286269360437464,
            "bin_start": 1.6008472234406192,
            "count": 0
           },
           {
            "bin_end": 2.056406648646873,
            "bin_start": 1.8286269360437464,
            "count": 0
           },
           {
            "bin_end": 2.28418636125,
            "bin_start": 2.056406648646873,
            "count": 1
           }
          ],
          "max": "2.28418636125",
          "min": "0.00638923521873",
          "nan_count": 2,
          "unique_count": 3
         }
        },
        {
         "dtype": "float64",
         "name": "speed_mean",
         "stats": {
          "histogram": [
           {
            "bin_end": 1.7739895,
            "bin_start": 0,
            "count": 2
           },
           {
            "bin_end": 3.547979,
            "bin_start": 1.7739895,
            "count": 0
           },
           {
            "bin_end": 5.3219685000000005,
            "bin_start": 3.547979,
            "count": 0
           },
           {
            "bin_end": 7.095958,
            "bin_start": 5.3219685000000005,
            "count": 0
           },
           {
            "bin_end": 8.8699475,
            "bin_start": 7.095958,
            "count": 0
           },
           {
            "bin_end": 10.643937000000001,
            "bin_start": 8.8699475,
            "count": 1
           },
           {
            "bin_end": 12.4179265,
            "bin_start": 10.643937000000001,
            "count": 0
           },
           {
            "bin_end": 14.191916,
            "bin_start": 12.4179265,
            "count": 0
           },
           {
            "bin_end": 15.965905500000002,
            "bin_start": 14.191916,
            "count": 0
           },
           {
            "bin_end": 17.739895,
            "bin_start": 15.965905500000002,
            "count": 2
           }
          ],
          "max": "17.739895",
          "min": "0.0",
          "nan_count": 0,
          "unique_count": 4
         }
        },
        {
         "dtype": "float64",
         "name": "speed_min",
         "stats": {
          "histogram": [
           {
            "bin_end": 1.7739895,
            "bin_start": 0,
            "count": 2
           },
           {
            "bin_end": 3.547979,
            "bin_start": 1.7739895,
            "count": 0
           },
           {
            "bin_end": 5.3219685000000005,
            "bin_start": 3.547979,
            "count": 0
           },
           {
            "bin_end": 7.095958,
            "bin_start": 5.3219685000000005,
            "count": 0
           },
           {
            "bin_end": 8.8699475,
            "bin_start": 7.095958,
            "count": 0
           },
           {
            "bin_end": 10.643937000000001,
            "bin_start": 8.8699475,
            "count": 1
           },
           {
            "bin_end": 12.4179265,
            "bin_start": 10.643937000000001,
            "count": 0
           },
           {
            "bin_end": 14.191916,
            "bin_start": 12.4179265,
            "count": 0
           },
           {
            "bin_end": 15.965905500000002,
            "bin_start": 14.191916,
            "count": 0
           },
           {
            "bin_end": 17.739895,
            "bin_start": 15.965905500000002,
            "count": 2
           }
          ],
          "max": "17.739895",
          "min": "0.0",
          "nan_count": 0,
          "unique_count": 4
         }
        },
        {
         "dtype": "float64",
         "name": "speed_max",
         "stats": {
          "histogram": [
           {
            "bin_end": 1.7739895,
            "bin_start": 0,
            "count": 2
           },
           {
            "bin_end": 3.547979,
            "bin_start": 1.7739895,
            "count": 0
           },
           {
            "bin_end": 5.3219685000000005,
            "bin_start": 3.547979,
            "count": 0
           },
           {
            "bin_end": 7.095958,
            "bin_start": 5.3219685000000005,
            "count": 0
           },
           {
            "bin_end": 8.8699475,
            "bin_start": 7.095958,
            "count": 0
           },
           {
            "bin_end": 10.643937000000001,
            "bin_start": 8.8699475,
            "count": 1
           },
           {
            "bin_end": 12.4179265,
            "bin_start": 10.643937000000001,
            "count": 0
           },
           {
            "bin_end": 14.191916,
            "bin_start": 12.4179265,
            "count": 0
           },
           {
            "bin_end": 15.965905500000002,
            "bin_start": 14.191916,
            "count": 0
           },
           {
            "bin_end": 17.739895,
            "bin_start": 15.965905500000002,
            "count": 2
           }
          ],
          "max": "17.739895",
          "min": "0.0",
          "nan_count": 0,
          "unique_count": 4
         }
        },
        {
         "dtype": "float64",
         "name": "speed_std",
         "stats": {
          "histogram": [
           {
            "bin_end": 0.0628594593951,
            "bin_start": 0,
            "count": 2
           },
           {
            "bin_end": 0.1257189187902,
            "bin_start": 0.0628594593951,
            "count": 0
           },
           {
            "bin_end": 0.1885783781853,
            "bin_start": 0.1257189187902,
            "count": 0
           },
           {
            "bin_end": 0.2514378375804,
            "bin_start": 0.1885783781853,
            "count": 0
           },
           {
            "bin_end": 0.3142972969755,
            "bin_start": 0.2514378375804,
            "count": 0
           },
           {
            "bin_end": 0.3771567563706,
            "bin_start": 0.3142972969755,
            "count": 0
           },
           {
            "bin_end": 0.4400162157657,
            "bin_start": 0.3771567563706,
            "count": 0
           },
           {
            "bin_end": 0.5028756751608,
            "bin_start": 0.4400162157657,
            "count": 0
           },
           {
            "bin_end": 0.5657351345559,
            "bin_start": 0.5028756751608,
            "count": 0
           },
           {
            "bin_end": 0.628594593951,
            "bin_start": 0.5657351345559,
            "count": 2
           }
          ],
          "max": "0.628594593951",
          "min": "0.0",
          "nan_count": 1,
          "unique_count": 2
         }
        },
        {
         "dtype": "object",
         "name": "target",
         "stats": {
          "categories": [
           {
            "count": 3,
            "name": "Car"
           },
           {
            "count": 2,
            "name": "Still"
           }
          ],
          "nan_count": 0,
          "unique_count": 2
         }
        },
        {
         "dtype": "object",
         "name": "user",
         "stats": {
          "categories": [
           {
            "count": 4,
            "name": "Luca"
           },
           {
            "count": 1,
            "name": "andrea"
           }
          ],
          "nan_count": 0,
          "unique_count": 2
         }
        },
        {
         "dtype": "int64",
         "name": "_deepnote_index_column"
        }
       ],
       "row_count": 5,
       "rows_bottom": null,
       "rows_top": [
        {
         "_deepnote_index_column": 0,
         "activityrecognition_0": "nan",
         "activityrecognition_1": 100,
         "android_sensor_accelerometer_max": 9.84941095639,
         "android_sensor_accelerometer_mean": 9.81147629156,
         "android_sensor_accelerometer_min": 9.75889547269,
         "android_sensor_accelerometer_std": 0.0146255073331,
         "android_sensor_game_rotation_vector_max": 0.0295264272136,
         "android_sensor_game_rotation_vector_mean": 0.0293404701347,
         "android_sensor_game_rotation_vector_min": 0.0290141820322,
         "android_sensor_game_rotation_vector_std": 0.00011870091454,
         "android_sensor_gravity_max": 9.80665101272,
         "android_sensor_gravity_mean": 9.80665014968,
         "android_sensor_gravity_min": 9.80664908184,
         "android_sensor_gravity_std": 4.78069230071e-07,
         "android_sensor_gyroscope_max": 0.00353308255853,
         "android_sensor_gyroscope_mean": 0.00165077522136,
         "android_sensor_gyroscope_min": 0,
         "android_sensor_gyroscope_std": 0.000736963641413,
         "android_sensor_gyroscope_uncalibrated_max": 0.0186953157594,
         "android_sensor_gyroscope_uncalibrated_mean": 0.0162213599906,
         "android_sensor_gyroscope_uncalibrated_min": 0.0141724221314,
         "android_sensor_gyroscope_uncalibrated_std": 0.000981864545925,
         "android_sensor_light_max": 0,
         "android_sensor_light_mean": 0,
         "android_sensor_light_min": 0,
         "android_sensor_light_std": "0.0",
         "android_sensor_linear_acceleration_max": 0.0524095823954,
         "android_sensor_linear_acceleration_mean": 0.0209778383629,
         "android_sensor_linear_acceleration_min": 0.00249536633909,
         "android_sensor_linear_acceleration_std": 0.0110446872158,
         "android_sensor_magnetic_field_max": 57.5759501429,
         "android_sensor_magnetic_field_mean": 57.0996378983,
         "android_sensor_magnetic_field_min": 56.6903871922,
         "android_sensor_magnetic_field_std": 0.177548772376,
         "android_sensor_magnetic_field_uncalibrated_max": 51.5392083783,
         "android_sensor_magnetic_field_uncalibrated_mean": 51.3635659024,
         "android_sensor_magnetic_field_uncalibrated_min": 51.1997072531,
         "android_sensor_magnetic_field_uncalibrated_std": 0.08089925898,
         "android_sensor_orientation_max": 354.942707018,
         "android_sensor_orientation_mean": 354.286933099,
         "android_sensor_orientation_min": 353.598334711,
         "android_sensor_orientation_std": 0.2456763287,
         "android_sensor_pressure_max": "1004.1279",
         "android_sensor_pressure_mean": "1004.09026074",
         "android_sensor_pressure_min": "1004.0554",
         "android_sensor_pressure_std": "0.0174157640628",
         "android_sensor_proximity_max": "8.0",
         "android_sensor_proximity_mean": "8.0",
         "android_sensor_proximity_min": "8.0",
         "android_sensor_proximity_std": "nan",
         "android_sensor_rotation_vector_max": 0.0563513538347,
         "android_sensor_rotation_vector_mean": 0.050413140269,
         "android_sensor_rotation_vector_min": 0.0447771592556,
         "android_sensor_rotation_vector_std": 0.00210922613983,
         "android_sensor_step_counter_max": "28966.0",
         "android_sensor_step_counter_mean": "28966.0",
         "android_sensor_step_counter_min": "28966.0",
         "android_sensor_step_counter_std": "nan",
         "id": 16170,
         "sound_max": "nan",
         "sound_mean": "nan",
         "sound_min": "nan",
         "sound_std": "nan",
         "speed_max": 0,
         "speed_mean": 0,
         "speed_min": 0,
         "speed_std": "0.0",
         "target": "Still",
         "time": 78,
         "user": "Luca"
        },
        {
         "_deepnote_index_column": 1,
         "activityrecognition_0": "nan",
         "activityrecognition_1": 100,
         "android_sensor_accelerometer_max": 17.1466311902,
         "android_sensor_accelerometer_mean": 9.93920678262,
         "android_sensor_accelerometer_min": 7.70743742161,
         "android_sensor_accelerometer_std": 1.7759442967,
         "android_sensor_game_rotation_vector_max": 0.999945876927,
         "android_sensor_game_rotation_vector_mean": 0.999924605824,
         "android_sensor_game_rotation_vector_min": 0.99990333472,
         "android_sensor_game_rotation_vector_std": 3.00818830563e-05,
         "android_sensor_gravity_max": 9.80662395218,
         "android_sensor_gravity_mean": 9.80662395218,
         "android_sensor_gravity_min": 9.80662395218,
         "android_sensor_gravity_std": 6.47497680352e-07,
         "android_sensor_gyroscope_max": 0.0593878960242,
         "android_sensor_gyroscope_mean": 0.0363257142488,
         "android_sensor_gyroscope_min": 0.0116693879272,
         "android_sensor_gyroscope_std": 0.0202897002181,
         "android_sensor_gyroscope_uncalibrated_max": 0.0854936945061,
         "android_sensor_gyroscope_uncalibrated_mean": 0.0390225389502,
         "android_sensor_gyroscope_uncalibrated_min": 0.0141323301437,
         "android_sensor_gyroscope_uncalibrated_std": 0.01862939992,
         "android_sensor_light_max": 0,
         "android_sensor_light_mean": 0,
         "android_sensor_light_min": 0,
         "android_sensor_light_std": "nan",
         "android_sensor_linear_acceleration_max": 1.18580992175,
         "android_sensor_linear_acceleration_mean": 0.879220182554,
         "android_sensor_linear_acceleration_min": 0.641116952922,
         "android_sensor_linear_acceleration_std": 0.278729993124,
         "android_sensor_magnetic_field_max": 30.3860165208,
         "android_sensor_magnetic_field_mean": 29.3512875433,
         "android_sensor_magnetic_field_min": 28.1725051708,
         "android_sensor_magnetic_field_std": 0.921547089535,
         "android_sensor_magnetic_field_uncalibrated_max": 83.1256301799,
         "android_sensor_magnetic_field_uncalibrated_mean": 82.7677601815,
         "android_sensor_magnetic_field_uncalibrated_min": 82.4098901832,
         "android_sensor_magnetic_field_uncalibrated_std": 0.506104605233,
         "android_sensor_orientation_max": 339.108607447,
         "android_sensor_orientation_mean": 332.695576665,
         "android_sensor_orientation_min": 330.461053684,
         "android_sensor_orientation_std": 1.70581619737,
         "android_sensor_pressure_max": "1008.27466",
         "android_sensor_pressure_mean": "1008.27466",
         "android_sensor_pressure_min": "1008.27466",
         "android_sensor_pressure_std": "nan",
         "android_sensor_proximity_max": "nan",
         "android_sensor_proximity_mean": "nan",
         "android_sensor_proximity_min": "nan",
         "android_sensor_proximity_std": "nan",
         "android_sensor_rotation_vector_max": 0.999999403768,
         "android_sensor_rotation_vector_mean": 0.999981228739,
         "android_sensor_rotation_vector_min": 0.999963053709,
         "android_sensor_rotation_vector_std": 2.57033732154e-05,
         "android_sensor_step_counter_max": "nan",
         "android_sensor_step_counter_mean": "nan",
         "android_sensor_step_counter_min": "nan",
         "android_sensor_step_counter_std": "nan",
         "id": 15871,
         "sound_max": "89.3352770319",
         "sound_mean": "89.200210191",
         "sound_min": "89.06514335",
         "sound_std": "0.191013358299",
         "speed_max": 16.539349,
         "speed_mean": 16.539349,
         "speed_min": 16.539349,
         "speed_std": "0.628594593951",
         "target": "Car",
         "time": 145,
         "user": "Luca"
        },
        {
         "_deepnote_index_column": 2,
         "activityrecognition_0": "nan",
         "activityrecognition_1": 100,
         "android_sensor_accelerometer_max": 9.84926211274,
         "android_sensor_accelerometer_mean": 9.82717783631,
         "android_sensor_accelerometer_min": 9.80481712742,
         "android_sensor_accelerometer_std": 0.0111991059917,
         "android_sensor_game_rotation_vector_max": 0.665218212919,
         "android_sensor_game_rotation_vector_mean": 0.665215406868,
         "android_sensor_game_rotation_vector_min": 0.665212600816,
         "android_sensor_game_rotation_vector_std": 3.96835608801e-06,
         "android_sensor_gravity_max": 9.80665042352,
         "android_sensor_gravity_mean": 9.80665022401,
         "android_sensor_gravity_min": 9.80665002449,
         "android_sensor_gravity_std": 2.82156820261e-07,
         "android_sensor_gyroscope_max": 0.0026093544661,
         "android_sensor_gyroscope_mean": 0.00152461653211,
         "android_sensor_gyroscope_min": 0,
         "android_sensor_gyroscope_std": 0.000712700740663,
         "android_sensor_gyroscope_uncalibrated_max": 0.0173739375996,
         "android_sensor_gyroscope_uncalibrated_mean": 0.016301566129,
         "android_sensor_gyroscope_uncalibrated_min": 0.0146449655465,
         "android_sensor_gyroscope_uncalibrated_std": 0.000875953734805,
         "android_sensor_light_max": 2,
         "android_sensor_light_mean": 2,
         "android_sensor_light_min": 2,
         "android_sensor_light_std": "0.707106781187",
         "android_sensor_linear_acceleration_max": 0.0425113257492,
         "android_sensor_linear_acceleration_mean": 0.0341102311454,
         "android_sensor_linear_acceleration_min": 0.0257091365417,
         "android_sensor_linear_acceleration_std": 0.0118809419274,
         "android_sensor_magnetic_field_max": 30.0383088738,
         "android_sensor_magnetic_field_mean": 29.904926993,
         "android_sensor_magnetic_field_min": 29.7417215373,
         "android_sensor_magnetic_field_std": 0.130851298779,
         "android_sensor_magnetic_field_uncalibrated_max": 55.8685063341,
         "android_sensor_magnetic_field_uncalibrated_mean": 55.6957163835,
         "android_sensor_magnetic_field_uncalibrated_min": 55.5018017726,
         "android_sensor_magnetic_field_uncalibrated_std": 0.128945251661,
         "android_sensor_orientation_max": 75.2685742895,
         "android_sensor_orientation_mean": 74.7526531434,
         "android_sensor_orientation_min": 73.2234934719,
         "android_sensor_orientation_std": 0.413704157311,
         "android_sensor_pressure_max": "1005.97754",
         "android_sensor_pressure_mean": "1005.97754",
         "android_sensor_pressure_min": "1005.97754",
         "android_sensor_pressure_std": "nan",
         "android_sensor_proximity_max": "8.0",
         "android_sensor_proximity_mean": "8.0",
         "android_sensor_proximity_min": "8.0",
         "android_sensor_proximity_std": "nan",
         "android_sensor_rotation_vector_max": 0.610456220789,
         "android_sensor_rotation_vector_mean": 0.610456220789,
         "android_sensor_rotation_vector_min": 0.610456220789,
         "android_sensor_rotation_vector_std": 0.0113123358202,
         "android_sensor_step_counter_max": "nan",
         "android_sensor_step_counter_mean": "nan",
         "android_sensor_step_counter_min": "nan",
         "android_sensor_step_counter_std": "nan",
         "id": 16811,
         "sound_max": "nan",
         "sound_mean": "nan",
         "sound_min": "nan",
         "sound_std": "nan",
         "speed_max": 0,
         "speed_mean": 0,
         "speed_min": 0,
         "speed_std": "0.0",
         "target": "Still",
         "time": 150,
         "user": "Luca"
        },
        {
         "_deepnote_index_column": 3,
         "activityrecognition_0": "nan",
         "activityrecognition_1": 77,
         "android_sensor_accelerometer_max": 12.3042975935,
         "android_sensor_accelerometer_mean": 9.67303911332,
         "android_sensor_accelerometer_min": 7.65967372861,
         "android_sensor_accelerometer_std": 0.862553258429,
         "android_sensor_game_rotation_vector_max": 0.99866095183,
         "android_sensor_game_rotation_vector_mean": 0.996220934012,
         "android_sensor_game_rotation_vector_min": 0.993780916194,
         "android_sensor_game_rotation_vector_std": 0.00345070629065,
         "android_sensor_gravity_max": 9.80663764374,
         "android_sensor_gravity_mean": 9.80663764374,
         "android_sensor_gravity_min": 9.80663764374,
         "android_sensor_gravity_std": 2.12056373828e-06,
         "android_sensor_gyroscope_max": 0.0525122451551,
         "android_sensor_gyroscope_mean": 0.0364403150565,
         "android_sensor_gyroscope_min": 0.0204630617713,
         "android_sensor_gyroscope_std": 0.0105527726211,
         "android_sensor_gyroscope_uncalibrated_max": 0.0818868991653,
         "android_sensor_gyroscope_uncalibrated_mean": 0.0507587448203,
         "android_sensor_gyroscope_uncalibrated_min": 0.0247315778968,
         "android_sensor_gyroscope_uncalibrated_std": 0.018036503333,
         "android_sensor_light_max": 0,
         "android_sensor_light_mean": 0,
         "android_sensor_light_min": 0,
         "android_sensor_light_std": "nan",
         "android_sensor_linear_acceleration_max": 2.41587896373,
         "android_sensor_linear_acceleration_mean": 1.48836057989,
         "android_sensor_linear_acceleration_min": 0.575910313171,
         "android_sensor_linear_acceleration_std": 0.920076869003,
         "android_sensor_magnetic_field_max": 38.1472167058,
         "android_sensor_magnetic_field_mean": 37.8364706079,
         "android_sensor_magnetic_field_min": 37.52572451,
         "android_sensor_magnetic_field_std": 0.439461346105,
         "android_sensor_magnetic_field_uncalibrated_max": 95.8233321243,
         "android_sensor_magnetic_field_uncalibrated_mean": 95.7438206305,
         "android_sensor_magnetic_field_uncalibrated_min": 95.6643091367,
         "android_sensor_magnetic_field_uncalibrated_std": 0.112446232897,
         "android_sensor_orientation_max": 397.071741295,
         "android_sensor_orientation_mean": 373.556039427,
         "android_sensor_orientation_min": 359.897249748,
         "android_sensor_orientation_std": 8.87001056741,
         "android_sensor_pressure_max": "1006.95044",
         "android_sensor_pressure_mean": "1006.95044",
         "android_sensor_pressure_min": "1006.95044",
         "android_sensor_pressure_std": "nan",
         "android_sensor_proximity_max": "nan",
         "android_sensor_proximity_mean": "nan",
         "android_sensor_proximity_min": "nan",
         "android_sensor_proximity_std": "nan",
         "android_sensor_rotation_vector_max": 0.998112317214,
         "android_sensor_rotation_vector_mean": 0.998112317214,
         "android_sensor_rotation_vector_min": 0.998112317214,
         "android_sensor_rotation_vector_std": 0.00278751762314,
         "android_sensor_step_counter_max": "nan",
         "android_sensor_step_counter_mean": "nan",
         "android_sensor_step_counter_min": "nan",
         "android_sensor_step_counter_std": "nan",
         "id": 15831,
         "sound_max": "87.4703770994",
         "sound_mean": "87.4703770994",
         "sound_min": "87.4703770994",
         "sound_std": "2.28418636125",
         "speed_max": 17.739895,
         "speed_mean": 17.739895,
         "speed_min": 17.739895,
         "speed_std": "0.628594593951",
         "target": "Car",
         "time": 105,
         "user": "Luca"
        },
        {
         "_deepnote_index_column": 4,
         "activityrecognition_0": "nan",
         "activityrecognition_1": 100,
         "android_sensor_accelerometer_max": 10.8916451194,
         "android_sensor_accelerometer_mean": 9.99346632118,
         "android_sensor_accelerometer_min": 8.96562096134,
         "android_sensor_accelerometer_std": 0.504117059576,
         "android_sensor_game_rotation_vector_max": 0.672663744621,
         "android_sensor_game_rotation_vector_mean": 0.563791884308,
         "android_sensor_game_rotation_vector_min": 0.521799103987,
         "android_sensor_game_rotation_vector_std": 0.0647921318639,
         "android_sensor_gravity_max": 9.80665053121,
         "android_sensor_gravity_mean": 9.8066501563,
         "android_sensor_gravity_min": 9.80664966214,
         "android_sensor_gravity_std": 2.64443011405e-07,
         "android_sensor_gyroscope_max": 0.380875066732,
         "android_sensor_gyroscope_mean": 0.183202097809,
         "android_sensor_gyroscope_min": 0.0206668572373,
         "android_sensor_gyroscope_std": 0.0988191384778,
         "android_sensor_gyroscope_uncalibrated_max": 0.313019733394,
         "android_sensor_gyroscope_uncalibrated_mean": 0.265652184888,
         "android_sensor_gyroscope_uncalibrated_min": 0.141208498859,
         "android_sensor_gyroscope_uncalibrated_std": 0.0831748152281,
         "android_sensor_light_max": 30,
         "android_sensor_light_mean": 30,
         "android_sensor_light_min": 30,
         "android_sensor_light_std": "39.5979797464",
         "android_sensor_linear_acceleration_max": 2.7959953197,
         "android_sensor_linear_acceleration_mean": 1.65830750209,
         "android_sensor_linear_acceleration_min": 0.379803005713,
         "android_sensor_linear_acceleration_std": 1.1222254603,
         "android_sensor_magnetic_field_max": 79.2737394335,
         "android_sensor_magnetic_field_mean": 78.37571835,
         "android_sensor_magnetic_field_min": 76.5432606086,
         "android_sensor_magnetic_field_std": 1.10436115049,
         "android_sensor_magnetic_field_uncalibrated_max": 158.06252596,
         "android_sensor_magnetic_field_uncalibrated_mean": 157.42921752,
         "android_sensor_magnetic_field_uncalibrated_min": 156.79590908,
         "android_sensor_magnetic_field_uncalibrated_std": 0.895633385013,
         "android_sensor_orientation_max": 360.560467727,
         "android_sensor_orientation_mean": 193.201458416,
         "android_sensor_orientation_min": 35.864971592,
         "android_sensor_orientation_std": 181.729454699,
         "android_sensor_pressure_max": "nan",
         "android_sensor_pressure_mean": "nan",
         "android_sensor_pressure_min": "nan",
         "android_sensor_pressure_std": "nan",
         "android_sensor_proximity_max": "nan",
         "android_sensor_proximity_mean": "nan",
         "android_sensor_proximity_min": "nan",
         "android_sensor_proximity_std": "nan",
         "android_sensor_rotation_vector_max": 0.378193174062,
         "android_sensor_rotation_vector_mean": 0.322241915004,
         "android_sensor_rotation_vector_min": 0.308054844036,
         "android_sensor_rotation_vector_std": 0.0256078524026,
         "android_sensor_step_counter_max": "nan",
         "android_sensor_step_counter_mean": "nan",
         "android_sensor_step_counter_min": "nan",
         "android_sensor_step_counter_std": "nan",
         "id": 876,
         "sound_max": "89.770732316",
         "sound_mean": "89.770732316",
         "sound_min": "89.770732316",
         "sound_std": "0.00638923521873",
         "speed_max": 9,
         "speed_mean": 9,
         "speed_min": 9,
         "speed_std": "nan",
         "target": "Car",
         "time": 77,
         "user": "andrea"
        }
       ]
      },
      "text/html": [
       "<div>\n",
       "<style scoped>\n",
       "    .dataframe tbody tr th:only-of-type {\n",
       "        vertical-align: middle;\n",
       "    }\n",
       "\n",
       "    .dataframe tbody tr th {\n",
       "        vertical-align: top;\n",
       "    }\n",
       "\n",
       "    .dataframe thead th {\n",
       "        text-align: right;\n",
       "    }\n",
       "</style>\n",
       "<table border=\"1\" class=\"dataframe\">\n",
       "  <thead>\n",
       "    <tr style=\"text-align: right;\">\n",
       "      <th></th>\n",
       "      <th>id</th>\n",
       "      <th>time</th>\n",
       "      <th>activityrecognition_0</th>\n",
       "      <th>activityrecognition_1</th>\n",
       "      <th>android_sensor_accelerometer_mean</th>\n",
       "      <th>android_sensor_accelerometer_min</th>\n",
       "      <th>android_sensor_accelerometer_max</th>\n",
       "      <th>android_sensor_accelerometer_std</th>\n",
       "      <th>android_sensor_game_rotation_vector_mean</th>\n",
       "      <th>android_sensor_game_rotation_vector_min</th>\n",
       "      <th>...</th>\n",
       "      <th>sound_mean</th>\n",
       "      <th>sound_min</th>\n",
       "      <th>sound_max</th>\n",
       "      <th>sound_std</th>\n",
       "      <th>speed_mean</th>\n",
       "      <th>speed_min</th>\n",
       "      <th>speed_max</th>\n",
       "      <th>speed_std</th>\n",
       "      <th>target</th>\n",
       "      <th>user</th>\n",
       "    </tr>\n",
       "  </thead>\n",
       "  <tbody>\n",
       "    <tr>\n",
       "      <th>0</th>\n",
       "      <td>16170</td>\n",
       "      <td>78.0</td>\n",
       "      <td>NaN</td>\n",
       "      <td>100.0</td>\n",
       "      <td>9.811476</td>\n",
       "      <td>9.758895</td>\n",
       "      <td>9.849411</td>\n",
       "      <td>0.014626</td>\n",
       "      <td>0.029340</td>\n",
       "      <td>0.029014</td>\n",
       "      <td>...</td>\n",
       "      <td>NaN</td>\n",
       "      <td>NaN</td>\n",
       "      <td>NaN</td>\n",
       "      <td>NaN</td>\n",
       "      <td>0.000000</td>\n",
       "      <td>0.000000</td>\n",
       "      <td>0.000000</td>\n",
       "      <td>0.000000</td>\n",
       "      <td>Still</td>\n",
       "      <td>Luca</td>\n",
       "    </tr>\n",
       "    <tr>\n",
       "      <th>1</th>\n",
       "      <td>15871</td>\n",
       "      <td>145.0</td>\n",
       "      <td>NaN</td>\n",
       "      <td>100.0</td>\n",
       "      <td>9.939207</td>\n",
       "      <td>7.707437</td>\n",
       "      <td>17.146631</td>\n",
       "      <td>1.775944</td>\n",
       "      <td>0.999925</td>\n",
       "      <td>0.999903</td>\n",
       "      <td>...</td>\n",
       "      <td>89.200210</td>\n",
       "      <td>89.065143</td>\n",
       "      <td>89.335277</td>\n",
       "      <td>0.191013</td>\n",
       "      <td>16.539349</td>\n",
       "      <td>16.539349</td>\n",
       "      <td>16.539349</td>\n",
       "      <td>0.628595</td>\n",
       "      <td>Car</td>\n",
       "      <td>Luca</td>\n",
       "    </tr>\n",
       "    <tr>\n",
       "      <th>2</th>\n",
       "      <td>16811</td>\n",
       "      <td>150.0</td>\n",
       "      <td>NaN</td>\n",
       "      <td>100.0</td>\n",
       "      <td>9.827178</td>\n",
       "      <td>9.804817</td>\n",
       "      <td>9.849262</td>\n",
       "      <td>0.011199</td>\n",
       "      <td>0.665215</td>\n",
       "      <td>0.665213</td>\n",
       "      <td>...</td>\n",
       "      <td>NaN</td>\n",
       "      <td>NaN</td>\n",
       "      <td>NaN</td>\n",
       "      <td>NaN</td>\n",
       "      <td>0.000000</td>\n",
       "      <td>0.000000</td>\n",
       "      <td>0.000000</td>\n",
       "      <td>0.000000</td>\n",
       "      <td>Still</td>\n",
       "      <td>Luca</td>\n",
       "    </tr>\n",
       "    <tr>\n",
       "      <th>3</th>\n",
       "      <td>15831</td>\n",
       "      <td>105.0</td>\n",
       "      <td>NaN</td>\n",
       "      <td>77.0</td>\n",
       "      <td>9.673039</td>\n",
       "      <td>7.659674</td>\n",
       "      <td>12.304298</td>\n",
       "      <td>0.862553</td>\n",
       "      <td>0.996221</td>\n",
       "      <td>0.993781</td>\n",
       "      <td>...</td>\n",
       "      <td>87.470377</td>\n",
       "      <td>87.470377</td>\n",
       "      <td>87.470377</td>\n",
       "      <td>2.284186</td>\n",
       "      <td>17.739895</td>\n",
       "      <td>17.739895</td>\n",
       "      <td>17.739895</td>\n",
       "      <td>0.628595</td>\n",
       "      <td>Car</td>\n",
       "      <td>Luca</td>\n",
       "    </tr>\n",
       "    <tr>\n",
       "      <th>4</th>\n",
       "      <td>876</td>\n",
       "      <td>77.0</td>\n",
       "      <td>NaN</td>\n",
       "      <td>100.0</td>\n",
       "      <td>9.993466</td>\n",
       "      <td>8.965621</td>\n",
       "      <td>10.891645</td>\n",
       "      <td>0.504117</td>\n",
       "      <td>0.563792</td>\n",
       "      <td>0.521799</td>\n",
       "      <td>...</td>\n",
       "      <td>89.770732</td>\n",
       "      <td>89.770732</td>\n",
       "      <td>89.770732</td>\n",
       "      <td>0.006389</td>\n",
       "      <td>9.000000</td>\n",
       "      <td>9.000000</td>\n",
       "      <td>9.000000</td>\n",
       "      <td>NaN</td>\n",
       "      <td>Car</td>\n",
       "      <td>andrea</td>\n",
       "    </tr>\n",
       "  </tbody>\n",
       "</table>\n",
       "<p>5 rows × 70 columns</p>\n",
       "</div>"
      ],
      "text/plain": [
       "      id   time  activityrecognition_0  activityrecognition_1  \\\n",
       "0  16170   78.0                    NaN                  100.0   \n",
       "1  15871  145.0                    NaN                  100.0   \n",
       "2  16811  150.0                    NaN                  100.0   \n",
       "3  15831  105.0                    NaN                   77.0   \n",
       "4    876   77.0                    NaN                  100.0   \n",
       "\n",
       "   android_sensor_accelerometer_mean  android_sensor_accelerometer_min  \\\n",
       "0                           9.811476                          9.758895   \n",
       "1                           9.939207                          7.707437   \n",
       "2                           9.827178                          9.804817   \n",
       "3                           9.673039                          7.659674   \n",
       "4                           9.993466                          8.965621   \n",
       "\n",
       "   android_sensor_accelerometer_max  android_sensor_accelerometer_std  \\\n",
       "0                          9.849411                          0.014626   \n",
       "1                         17.146631                          1.775944   \n",
       "2                          9.849262                          0.011199   \n",
       "3                         12.304298                          0.862553   \n",
       "4                         10.891645                          0.504117   \n",
       "\n",
       "   android_sensor_game_rotation_vector_mean  \\\n",
       "0                                  0.029340   \n",
       "1                                  0.999925   \n",
       "2                                  0.665215   \n",
       "3                                  0.996221   \n",
       "4                                  0.563792   \n",
       "\n",
       "   android_sensor_game_rotation_vector_min  ...  sound_mean  sound_min  \\\n",
       "0                                 0.029014  ...         NaN        NaN   \n",
       "1                                 0.999903  ...   89.200210  89.065143   \n",
       "2                                 0.665213  ...         NaN        NaN   \n",
       "3                                 0.993781  ...   87.470377  87.470377   \n",
       "4                                 0.521799  ...   89.770732  89.770732   \n",
       "\n",
       "   sound_max  sound_std  speed_mean  speed_min  speed_max  speed_std  target  \\\n",
       "0        NaN        NaN    0.000000   0.000000   0.000000   0.000000   Still   \n",
       "1  89.335277   0.191013   16.539349  16.539349  16.539349   0.628595     Car   \n",
       "2        NaN        NaN    0.000000   0.000000   0.000000   0.000000   Still   \n",
       "3  87.470377   2.284186   17.739895  17.739895  17.739895   0.628595     Car   \n",
       "4  89.770732   0.006389    9.000000   9.000000   9.000000        NaN     Car   \n",
       "\n",
       "     user  \n",
       "0    Luca  \n",
       "1    Luca  \n",
       "2    Luca  \n",
       "3    Luca  \n",
       "4  andrea  \n",
       "\n",
       "[5 rows x 70 columns]"
      ]
     },
     "execution_count": 9,
     "metadata": {},
     "output_type": "execute_result"
    }
   ],
   "source": [
    "df=change_name(data)\n",
    "df.head()"
   ]
  },
  {
   "cell_type": "code",
   "execution_count": 79,
   "metadata": {
    "cell_id": "00011-fe3695df-f640-4e0b-9d02-d0f409533ca3",
    "deepnote_cell_type": "code",
    "deepnote_to_be_reexecuted": false,
    "execution_millis": 0,
    "execution_start": 1621269299996,
    "source_hash": "19fb96a3",
    "tags": []
   },
   "outputs": [],
   "source": [
    "# feature form graphext (for car, walking and still)\n",
    "features=[\n",
    "'id',    \n",
    "'user',\n",
    "'android_sensor_gyroscope_mean',\n",
    "'android_sensor_accelerometer_std',\n",
    "'android_sensor_gyroscope_std',\n",
    "'android_sensor_gyroscope_uncalibrated_mean',\n",
    "'android_sensor_accelerometer_max',\n",
    "'android_sensor_linear_acceleration_mean',\n",
    "'speed_mean',\n",
    "'android_sensor_rotation_vector_mean',\n",
    "'android_sensor_rotation_vector_max',\n",
    "'android_sensor_accelerometer_min',\n",
    "'android_sensor_magnetic_field_uncalibrated_min',\n",
    "'sound_min',\n",
    "'target'\n",
    "]"
   ]
  },
  {
   "cell_type": "code",
   "execution_count": 80,
   "metadata": {
    "cell_id": "00013-a82a1d8f-7c86-4cf9-b211-a9a2cade2477",
    "deepnote_cell_type": "code",
    "deepnote_to_be_reexecuted": false,
    "execution_millis": 5,
    "execution_start": 1621269300286,
    "source_hash": "41aa3bbe",
    "tags": []
   },
   "outputs": [],
   "source": [
    "new_df = df[features]"
   ]
  },
  {
   "cell_type": "code",
   "execution_count": 81,
   "metadata": {
    "cell_id": "00013-0c722400-c134-4588-904c-b43c0b0c7197",
    "deepnote_cell_type": "code",
    "deepnote_to_be_reexecuted": false,
    "execution_millis": 153,
    "execution_start": 1621269300507,
    "source_hash": "c3b9e2a7",
    "tags": []
   },
   "outputs": [
    {
     "data": {
      "application/vnd.deepnote.dataframe.v2+json": {
       "column_count": 13,
       "columns": [
        {
         "dtype": "float64",
         "name": "id",
         "stats": {
          "histogram": [
           {
            "bin_end": 2204.5,
            "bin_start": 0,
            "count": 1
           },
           {
            "bin_end": 4409,
            "bin_start": 2204.5,
            "count": 0
           },
           {
            "bin_end": 6613.5,
            "bin_start": 4409,
            "count": 2
           },
           {
            "bin_end": 8818,
            "bin_start": 6613.5,
            "count": 1
           },
           {
            "bin_end": 11022.5,
            "bin_start": 8818,
            "count": 2
           },
           {
            "bin_end": 13227,
            "bin_start": 11022.5,
            "count": 0
           },
           {
            "bin_end": 15431.5,
            "bin_start": 13227,
            "count": 0
           },
           {
            "bin_end": 17636,
            "bin_start": 15431.5,
            "count": 1
           },
           {
            "bin_end": 19840.5,
            "bin_start": 17636,
            "count": 0
           },
           {
            "bin_end": 22045,
            "bin_start": 19840.5,
            "count": 1
           }
          ],
          "max": "22045.0",
          "min": "0.0",
          "nan_count": 0,
          "unique_count": 8
         }
        },
        {
         "dtype": "float64",
         "name": "android_sensor_gyroscope_mean",
         "stats": {
          "histogram": [
           {
            "bin_end": 517.3,
            "bin_start": 0,
            "count": 7
           },
           {
            "bin_end": 1034.6,
            "bin_start": 517.3,
            "count": 0
           },
           {
            "bin_end": 1551.8999999999999,
            "bin_start": 1034.6,
            "count": 0
           },
           {
            "bin_end": 2069.2,
            "bin_start": 1551.8999999999999,
            "count": 0
           },
           {
            "bin_end": 2586.5,
            "bin_start": 2069.2,
            "count": 0
           },
           {
            "bin_end": 3103.7999999999997,
            "bin_start": 2586.5,
            "count": 0
           },
           {
            "bin_end": 3621.0999999999995,
            "bin_start": 3103.7999999999997,
            "count": 0
           },
           {
            "bin_end": 4138.4,
            "bin_start": 3621.0999999999995,
            "count": 0
           },
           {
            "bin_end": 4655.7,
            "bin_start": 4138.4,
            "count": 0
           },
           {
            "bin_end": 5173,
            "bin_start": 4655.7,
            "count": 1
           }
          ],
          "max": "5173.0",
          "min": "0.0",
          "nan_count": 0,
          "unique_count": 8
         }
        },
        {
         "dtype": "float64",
         "name": "android_sensor_accelerometer_std",
         "stats": {
          "histogram": [
           {
            "bin_end": 589.30115752884,
            "bin_start": 0.00128614315565,
            "count": 7
           },
           {
            "bin_end": 1178.6010289145242,
            "bin_start": 589.30115752884,
            "count": 0
           },
           {
            "bin_end": 1767.9009003002086,
            "bin_start": 1178.6010289145242,
            "count": 0
           },
           {
            "bin_end": 2357.200771685893,
            "bin_start": 1767.9009003002086,
            "count": 0
           },
           {
            "bin_end": 2946.500643071577,
            "bin_start": 2357.200771685893,
            "count": 0
           },
           {
            "bin_end": 3535.8005144572617,
            "bin_start": 2946.500643071577,
            "count": 0
           },
           {
            "bin_end": 4125.100385842947,
            "bin_start": 3535.8005144572617,
            "count": 0
           },
           {
            "bin_end": 4714.400257228631,
            "bin_start": 4125.100385842947,
            "count": 0
           },
           {
            "bin_end": 5303.700128614315,
            "bin_start": 4714.400257228631,
            "count": 0
           },
           {
            "bin_end": 5893,
            "bin_start": 5303.700128614315,
            "count": 1
           }
          ],
          "max": "5893.0",
          "min": "0.00128614315565",
          "nan_count": 0,
          "unique_count": 8
         }
        },
        {
         "dtype": "float64",
         "name": "android_sensor_gyroscope_std",
         "stats": {
          "histogram": [
           {
            "bin_end": 517.2,
            "bin_start": 0,
            "count": 7
           },
           {
            "bin_end": 1034.4,
            "bin_start": 517.2,
            "count": 0
           },
           {
            "bin_end": 1551.6000000000001,
            "bin_start": 1034.4,
            "count": 0
           },
           {
            "bin_end": 2068.8,
            "bin_start": 1551.6000000000001,
            "count": 0
           },
           {
            "bin_end": 2586,
            "bin_start": 2068.8,
            "count": 0
           },
           {
            "bin_end": 3103.2000000000003,
            "bin_start": 2586,
            "count": 0
           },
           {
            "bin_end": 3620.4000000000005,
            "bin_start": 3103.2000000000003,
            "count": 0
           },
           {
            "bin_end": 4137.6,
            "bin_start": 3620.4000000000005,
            "count": 0
           },
           {
            "bin_end": 4654.8,
            "bin_start": 4137.6,
            "count": 0
           },
           {
            "bin_end": 5172,
            "bin_start": 4654.8,
            "count": 1
           }
          ],
          "max": "5172.0",
          "min": "0.0",
          "nan_count": 0,
          "unique_count": 8
         }
        },
        {
         "dtype": "float64",
         "name": "android_sensor_gyroscope_uncalibrated_mean",
         "stats": {
          "histogram": [
           {
            "bin_end": 509.40104134945886,
            "bin_start": 0.00115705495425,
            "count": 7
           },
           {
            "bin_end": 1018.8009256439634,
            "bin_start": 509.40104134945886,
            "count": 0
           },
           {
            "bin_end": 1528.2008099384682,
            "bin_start": 1018.8009256439634,
            "count": 0
           },
           {
            "bin_end": 2037.6006942329727,
            "bin_start": 1528.2008099384682,
            "count": 0
           },
           {
            "bin_end": 2547.000578527477,
            "bin_start": 2037.6006942329727,
            "count": 0
           },
           {
            "bin_end": 3056.400462821982,
            "bin_start": 2547.000578527477,
            "count": 0
           },
           {
            "bin_end": 3565.800347116486,
            "bin_start": 3056.400462821982,
            "count": 0
           },
           {
            "bin_end": 4075.200231410991,
            "bin_start": 3565.800347116486,
            "count": 0
           },
           {
            "bin_end": 4584.600115705495,
            "bin_start": 4075.200231410991,
            "count": 0
           },
           {
            "bin_end": 5094,
            "bin_start": 4584.600115705495,
            "count": 1
           }
          ],
          "max": "5094.0",
          "min": "0.00115705495425",
          "nan_count": 0,
          "unique_count": 8
         }
        },
        {
         "dtype": "float64",
         "name": "android_sensor_accelerometer_max",
         "stats": {
          "histogram": [
           {
            "bin_end": 593.9605920994463,
            "bin_start": 5.178435666051567,
            "count": 7
           },
           {
            "bin_end": 1182.7427485328412,
            "bin_start": 593.9605920994463,
            "count": 0
           },
           {
            "bin_end": 1771.524904966236,
            "bin_start": 1182.7427485328412,
            "count": 0
           },
           {
            "bin_end": 2360.3070613996306,
            "bin_start": 1771.524904966236,
            "count": 0
           },
           {
            "bin_end": 2949.0892178330255,
            "bin_start": 2360.3070613996306,
            "count": 0
           },
           {
            "bin_end": 3537.87137426642,
            "bin_start": 2949.0892178330255,
            "count": 0
           },
           {
            "bin_end": 4126.653530699816,
            "bin_start": 3537.87137426642,
            "count": 0
           },
           {
            "bin_end": 4715.43568713321,
            "bin_start": 4126.653530699816,
            "count": 0
           },
           {
            "bin_end": 5304.217843566605,
            "bin_start": 4715.43568713321,
            "count": 0
           },
           {
            "bin_end": 5893,
            "bin_start": 5304.217843566605,
            "count": 1
           }
          ],
          "max": "5893.0",
          "min": "5.178435666051567",
          "nan_count": 0,
          "unique_count": 8
         }
        },
        {
         "dtype": "float64",
         "name": "android_sensor_linear_acceleration_mean",
         "stats": {
          "histogram": [
           {
            "bin_end": 539.9007421590126,
            "bin_start": 0.000824621125124,
            "count": 7
           },
           {
            "bin_end": 1079.8006596968999,
            "bin_start": 539.9007421590126,
            "count": 0
           },
           {
            "bin_end": 1619.7005772347873,
            "bin_start": 1079.8006596968999,
            "count": 0
           },
           {
            "bin_end": 2159.6004947726747,
            "bin_start": 1619.7005772347873,
            "count": 0
           },
           {
            "bin_end": 2699.5004123105623,
            "bin_start": 2159.6004947726747,
            "count": 0
           },
           {
            "bin_end": 3239.4003298484495,
            "bin_start": 2699.5004123105623,
            "count": 0
           },
           {
            "bin_end": 3779.3002473863367,
            "bin_start": 3239.4003298484495,
            "count": 0
           },
           {
            "bin_end": 4319.200164924225,
            "bin_start": 3779.3002473863367,
            "count": 0
           },
           {
            "bin_end": 4859.100082462112,
            "bin_start": 4319.200164924225,
            "count": 0
           },
           {
            "bin_end": 5399,
            "bin_start": 4859.100082462112,
            "count": 1
           }
          ],
          "max": "5399.0",
          "min": "0.000824621125124",
          "nan_count": 0,
          "unique_count": 8
         }
        },
        {
         "dtype": "float64",
         "name": "speed_mean",
         "stats": {
          "histogram": [
           {
            "bin_end": 352,
            "bin_start": 0,
            "count": 7
           },
           {
            "bin_end": 704,
            "bin_start": 352,
            "count": 0
           },
           {
            "bin_end": 1056,
            "bin_start": 704,
            "count": 0
           },
           {
            "bin_end": 1408,
            "bin_start": 1056,
            "count": 0
           },
           {
            "bin_end": 1760,
            "bin_start": 1408,
            "count": 0
           },
           {
            "bin_end": 2112,
            "bin_start": 1760,
            "count": 0
           },
           {
            "bin_end": 2464,
            "bin_start": 2112,
            "count": 0
           },
           {
            "bin_end": 2816,
            "bin_start": 2464,
            "count": 0
           },
           {
            "bin_end": 3168,
            "bin_start": 2816,
            "count": 0
           },
           {
            "bin_end": 3520,
            "bin_start": 3168,
            "count": 1
           }
          ],
          "max": "3520.0",
          "min": "0.0",
          "nan_count": 0,
          "unique_count": 8
         }
        },
        {
         "dtype": "float64",
         "name": "android_sensor_rotation_vector_mean",
         "stats": {
          "histogram": [
           {
            "bin_end": 517.2183146853803,
            "bin_start": 0.0203496504225,
            "count": 7
           },
           {
            "bin_end": 1034.416279720338,
            "bin_start": 517.2183146853803,
            "count": 0
           },
           {
            "bin_end": 1551.6142447552959,
            "bin_start": 1034.416279720338,
            "count": 0
           },
           {
            "bin_end": 2068.8122097902533,
            "bin_start": 1551.6142447552959,
            "count": 0
           },
           {
            "bin_end": 2586.010174825211,
            "bin_start": 2068.8122097902533,
            "count": 0
           },
           {
            "bin_end": 3103.208139860169,
            "bin_start": 2586.010174825211,
            "count": 0
           },
           {
            "bin_end": 3620.4061048951266,
            "bin_start": 3103.208139860169,
            "count": 0
           },
           {
            "bin_end": 4137.604069930085,
            "bin_start": 3620.4061048951266,
            "count": 0
           },
           {
            "bin_end": 4654.802034965042,
            "bin_start": 4137.604069930085,
            "count": 0
           },
           {
            "bin_end": 5172,
            "bin_start": 4654.802034965042,
            "count": 1
           }
          ],
          "max": "5172.0",
          "min": "0.0203496504225",
          "nan_count": 0,
          "unique_count": 8
         }
        },
        {
         "dtype": "float64",
         "name": "android_sensor_rotation_vector_max",
         "stats": {
          "histogram": [
           {
            "bin_end": 517.2279650557917,
            "bin_start": 0.0310722842131,
            "count": 7
           },
           {
            "bin_end": 1034.4248578273703,
            "bin_start": 517.2279650557917,
            "count": 0
           },
           {
            "bin_end": 1551.621750598949,
            "bin_start": 1034.4248578273703,
            "count": 0
           },
           {
            "bin_end": 2068.8186433705278,
            "bin_start": 1551.621750598949,
            "count": 0
           },
           {
            "bin_end": 2586.0155361421066,
            "bin_start": 2068.8186433705278,
            "count": 0
           },
           {
            "bin_end": 3103.212428913685,
            "bin_start": 2586.0155361421066,
            "count": 0
           },
           {
            "bin_end": 3620.4093216852634,
            "bin_start": 3103.212428913685,
            "count": 0
           },
           {
            "bin_end": 4137.606214456842,
            "bin_start": 3620.4093216852634,
            "count": 0
           },
           {
            "bin_end": 4654.803107228421,
            "bin_start": 4137.606214456842,
            "count": 0
           },
           {
            "bin_end": 5172,
            "bin_start": 4654.803107228421,
            "count": 1
           }
          ],
          "max": "5172.0",
          "min": "0.0310722842131",
          "nan_count": 0,
          "unique_count": 8
         }
        },
        {
         "dtype": "float64",
         "name": "android_sensor_accelerometer_min",
         "stats": {
          "histogram": [
           {
            "bin_end": 589.603449556222,
            "bin_start": 0.33716617358,
            "count": 7
           },
           {
            "bin_end": 1178.869732938864,
            "bin_start": 589.603449556222,
            "count": 0
           },
           {
            "bin_end": 1768.1360163215058,
            "bin_start": 1178.869732938864,
            "count": 0
           },
           {
            "bin_end": 2357.402299704148,
            "bin_start": 1768.1360163215058,
            "count": 0
           },
           {
            "bin_end": 2946.66858308679,
            "bin_start": 2357.402299704148,
            "count": 0
           },
           {
            "bin_end": 3535.9348664694317,
            "bin_start": 2946.66858308679,
            "count": 0
           },
           {
            "bin_end": 4125.201149852074,
            "bin_start": 3535.9348664694317,
            "count": 0
           },
           {
            "bin_end": 4714.467433234716,
            "bin_start": 4125.201149852074,
            "count": 0
           },
           {
            "bin_end": 5303.7337166173575,
            "bin_start": 4714.467433234716,
            "count": 0
           },
           {
            "bin_end": 5893,
            "bin_start": 5303.7337166173575,
            "count": 1
           }
          ],
          "max": "5893.0",
          "min": "0.33716617358",
          "nan_count": 0,
          "unique_count": 8
         }
        },
        {
         "dtype": "float64",
         "name": "android_sensor_magnetic_field_uncalibrated_min",
         "stats": {
          "histogram": [
           {
            "bin_end": 524.0005419402,
            "bin_start": 16.222824378,
            "count": 6
           },
           {
            "bin_end": 1031.7782595024,
            "bin_start": 524.0005419402,
            "count": 1
           },
           {
            "bin_end": 1539.5559770646,
            "bin_start": 1031.7782595024,
            "count": 0
           },
           {
            "bin_end": 2047.3336946268,
            "bin_start": 1539.5559770646,
            "count": 0
           },
           {
            "bin_end": 2555.111412189,
            "bin_start": 2047.3336946268,
            "count": 0
           },
           {
            "bin_end": 3062.8891297512,
            "bin_start": 2555.111412189,
            "count": 0
           },
           {
            "bin_end": 3570.6668473134,
            "bin_start": 3062.8891297512,
            "count": 0
           },
           {
            "bin_end": 4078.4445648756,
            "bin_start": 3570.6668473134,
            "count": 0
           },
           {
            "bin_end": 4586.2222824378,
            "bin_start": 4078.4445648756,
            "count": 0
           },
           {
            "bin_end": 5094,
            "bin_start": 4586.2222824378,
            "count": 1
           }
          ],
          "max": "5094.0",
          "min": "16.222824378",
          "nan_count": 0,
          "unique_count": 8
         }
        },
        {
         "dtype": "float64",
         "name": "sound_min",
         "stats": {
          "histogram": [
           {
            "bin_end": 489.9,
            "bin_start": 0,
            "count": 7
           },
           {
            "bin_end": 979.8,
            "bin_start": 489.9,
            "count": 0
           },
           {
            "bin_end": 1469.6999999999998,
            "bin_start": 979.8,
            "count": 0
           },
           {
            "bin_end": 1959.6,
            "bin_start": 1469.6999999999998,
            "count": 0
           },
           {
            "bin_end": 2449.5,
            "bin_start": 1959.6,
            "count": 0
           },
           {
            "bin_end": 2939.3999999999996,
            "bin_start": 2449.5,
            "count": 0
           },
           {
            "bin_end": 3429.2999999999997,
            "bin_start": 2939.3999999999996,
            "count": 0
           },
           {
            "bin_end": 3919.2,
            "bin_start": 3429.2999999999997,
            "count": 0
           },
           {
            "bin_end": 4409.099999999999,
            "bin_start": 3919.2,
            "count": 0
           },
           {
            "bin_end": 4899,
            "bin_start": 4409.099999999999,
            "count": 1
           }
          ],
          "max": "4899.0",
          "min": "0.0",
          "nan_count": 0,
          "unique_count": 8
         }
        },
        {
         "dtype": "object",
         "name": "_deepnote_index_column"
        }
       ],
       "row_count": 8,
       "rows_bottom": null,
       "rows_top": [
        {
         "_deepnote_index_column": "count",
         "android_sensor_accelerometer_max": 5893,
         "android_sensor_accelerometer_min": 5893,
         "android_sensor_accelerometer_std": 5893,
         "android_sensor_gyroscope_mean": 5173,
         "android_sensor_gyroscope_std": 5172,
         "android_sensor_gyroscope_uncalibrated_mean": 5094,
         "android_sensor_linear_acceleration_mean": 5399,
         "android_sensor_magnetic_field_uncalibrated_min": 5094,
         "android_sensor_rotation_vector_max": 5172,
         "android_sensor_rotation_vector_mean": 5172,
         "id": 5893,
         "sound_min": 4899,
         "speed_mean": 3520
        },
        {
         "_deepnote_index_column": "mean",
         "android_sensor_accelerometer_max": 12.247691241151308,
         "android_sensor_accelerometer_min": 8.426262092182213,
         "android_sensor_accelerometer_std": 0.9829867120540425,
         "android_sensor_gyroscope_mean": 0.31253628332942285,
         "android_sensor_gyroscope_std": 0.18990341907290723,
         "android_sensor_gyroscope_uncalibrated_mean": 0.31280685696353117,
         "android_sensor_linear_acceleration_mean": 1.315970583117608,
         "android_sensor_magnetic_field_uncalibrated_min": 136.95589564081374,
         "android_sensor_rotation_vector_max": 0.77899965329584,
         "android_sensor_rotation_vector_mean": 0.7659315870899981,
         "id": 10685.407262854234,
         "sound_min": 78.45165828874045,
         "speed_mean": 8.235253551707677
        },
        {
         "_deepnote_index_column": "std",
         "android_sensor_accelerometer_max": 5.178435666051567,
         "android_sensor_accelerometer_min": 1.7830070294838105,
         "android_sensor_accelerometer_std": 1.505614772237705,
         "android_sensor_gyroscope_mean": 0.5545853952639238,
         "android_sensor_gyroscope_std": 0.34290108666247626,
         "android_sensor_gyroscope_uncalibrated_mean": 0.5379246566688233,
         "android_sensor_linear_acceleration_mean": 2.065444145647968,
         "android_sensor_magnetic_field_uncalibrated_min": 70.76499200604277,
         "android_sensor_rotation_vector_max": 0.2628807411805591,
         "android_sensor_rotation_vector_mean": 0.2633926241346347,
         "id": 6921.229832934336,
         "sound_min": 14.26291231312708,
         "speed_mean": 11.87071055917704
        },
        {
         "_deepnote_index_column": "min",
         "android_sensor_accelerometer_max": 8.80101887039,
         "android_sensor_accelerometer_min": 0.33716617358,
         "android_sensor_accelerometer_std": 0.00128614315565,
         "android_sensor_gyroscope_mean": 0,
         "android_sensor_gyroscope_std": 0,
         "android_sensor_gyroscope_uncalibrated_mean": 0.00115705495425,
         "android_sensor_linear_acceleration_mean": 0.000824621125124,
         "android_sensor_magnetic_field_uncalibrated_min": 16.222824378,
         "android_sensor_rotation_vector_max": 0.0310722842131,
         "android_sensor_rotation_vector_mean": 0.0203496504225,
         "id": 0,
         "sound_min": 0,
         "speed_mean": 0
        },
        {
         "_deepnote_index_column": "25%",
         "android_sensor_accelerometer_max": 10.0155664108,
         "android_sensor_accelerometer_min": 7.80529491413,
         "android_sensor_accelerometer_std": 0.0780548606047,
         "android_sensor_gyroscope_mean": 0.015823955936,
         "android_sensor_gyroscope_std": 0.0075520377537975,
         "android_sensor_gyroscope_uncalibrated_mean": 0.038872602883299995,
         "android_sensor_linear_acceleration_mean": 0.101898258454,
         "android_sensor_magnetic_field_uncalibrated_min": 86.491724203125,
         "android_sensor_rotation_vector_max": 0.6661050350337501,
         "android_sensor_rotation_vector_mean": 0.651735059317,
         "id": 4502,
         "sound_min": 72.23339899195,
         "speed_mean": 0.00043136541
        },
        {
         "_deepnote_index_column": "50%",
         "android_sensor_accelerometer_max": 10.6020812187,
         "android_sensor_accelerometer_min": 9.12312384027,
         "android_sensor_accelerometer_std": 0.369163322387,
         "android_sensor_gyroscope_mean": 0.0533659932669,
         "android_sensor_gyroscope_std": 0.028407765068000003,
         "android_sensor_gyroscope_uncalibrated_mean": 0.0608950914993,
         "android_sensor_linear_acceleration_mean": 0.471369557719,
         "android_sensor_magnetic_field_uncalibrated_min": 134.1981302005,
         "android_sensor_rotation_vector_max": 0.9047355955709999,
         "android_sensor_rotation_vector_mean": 0.880361441911,
         "id": 10959,
         "sound_min": 83.8597075819,
         "speed_mean": 1.71
        },
        {
         "_deepnote_index_column": "75%",
         "android_sensor_accelerometer_max": 12.2915753577,
         "android_sensor_accelerometer_min": 9.69173082456,
         "android_sensor_accelerometer_std": 1.05837600859,
         "android_sensor_gyroscope_mean": 0.256314926915,
         "android_sensor_gyroscope_std": 0.17716351922,
         "android_sensor_gyroscope_uncalibrated_mean": 0.256837798369,
         "android_sensor_linear_acceleration_mean": 1.3889895667049998,
         "android_sensor_magnetic_field_uncalibrated_min": 160.1692314185,
         "android_sensor_rotation_vector_max": 0.9823423519707501,
         "android_sensor_rotation_vector_mean": 0.9723329635690001,
         "id": 17049,
         "sound_min": 89.7433333471,
         "speed_mean": 10.25
        },
        {
         "_deepnote_index_column": "max",
         "android_sensor_accelerometer_max": 66.8863758417,
         "android_sensor_accelerometer_min": 12.1150128555,
         "android_sensor_accelerometer_std": 12.8798505901,
         "android_sensor_gyroscope_mean": 5.66215327195,
         "android_sensor_gyroscope_std": 4.98089199121,
         "android_sensor_gyroscope_uncalibrated_mean": 3.86319387457,
         "android_sensor_linear_acceleration_mean": 23.1108418208,
         "android_sensor_magnetic_field_uncalibrated_min": 527.049731999,
         "android_sensor_rotation_vector_max": 0.999999999979,
         "android_sensor_rotation_vector_mean": 0.999999593198,
         "id": 22045,
         "sound_min": 90.3087336228,
         "speed_mean": 51.36006
        }
       ]
      },
      "text/html": [
       "<div>\n",
       "<style scoped>\n",
       "    .dataframe tbody tr th:only-of-type {\n",
       "        vertical-align: middle;\n",
       "    }\n",
       "\n",
       "    .dataframe tbody tr th {\n",
       "        vertical-align: top;\n",
       "    }\n",
       "\n",
       "    .dataframe thead th {\n",
       "        text-align: right;\n",
       "    }\n",
       "</style>\n",
       "<table border=\"1\" class=\"dataframe\">\n",
       "  <thead>\n",
       "    <tr style=\"text-align: right;\">\n",
       "      <th></th>\n",
       "      <th>id</th>\n",
       "      <th>android_sensor_gyroscope_mean</th>\n",
       "      <th>android_sensor_accelerometer_std</th>\n",
       "      <th>android_sensor_gyroscope_std</th>\n",
       "      <th>android_sensor_gyroscope_uncalibrated_mean</th>\n",
       "      <th>android_sensor_accelerometer_max</th>\n",
       "      <th>android_sensor_linear_acceleration_mean</th>\n",
       "      <th>speed_mean</th>\n",
       "      <th>android_sensor_rotation_vector_mean</th>\n",
       "      <th>android_sensor_rotation_vector_max</th>\n",
       "      <th>android_sensor_accelerometer_min</th>\n",
       "      <th>android_sensor_magnetic_field_uncalibrated_min</th>\n",
       "      <th>sound_min</th>\n",
       "    </tr>\n",
       "  </thead>\n",
       "  <tbody>\n",
       "    <tr>\n",
       "      <th>count</th>\n",
       "      <td>5893.000000</td>\n",
       "      <td>5173.000000</td>\n",
       "      <td>5893.000000</td>\n",
       "      <td>5172.000000</td>\n",
       "      <td>5094.000000</td>\n",
       "      <td>5893.000000</td>\n",
       "      <td>5399.000000</td>\n",
       "      <td>3520.000000</td>\n",
       "      <td>5172.000000</td>\n",
       "      <td>5172.000000</td>\n",
       "      <td>5893.000000</td>\n",
       "      <td>5094.000000</td>\n",
       "      <td>4899.000000</td>\n",
       "    </tr>\n",
       "    <tr>\n",
       "      <th>mean</th>\n",
       "      <td>10685.407263</td>\n",
       "      <td>0.312536</td>\n",
       "      <td>0.982987</td>\n",
       "      <td>0.189903</td>\n",
       "      <td>0.312807</td>\n",
       "      <td>12.247691</td>\n",
       "      <td>1.315971</td>\n",
       "      <td>8.235254</td>\n",
       "      <td>0.765932</td>\n",
       "      <td>0.779000</td>\n",
       "      <td>8.426262</td>\n",
       "      <td>136.955896</td>\n",
       "      <td>78.451658</td>\n",
       "    </tr>\n",
       "    <tr>\n",
       "      <th>std</th>\n",
       "      <td>6921.229833</td>\n",
       "      <td>0.554585</td>\n",
       "      <td>1.505615</td>\n",
       "      <td>0.342901</td>\n",
       "      <td>0.537925</td>\n",
       "      <td>5.178436</td>\n",
       "      <td>2.065444</td>\n",
       "      <td>11.870711</td>\n",
       "      <td>0.263393</td>\n",
       "      <td>0.262881</td>\n",
       "      <td>1.783007</td>\n",
       "      <td>70.764992</td>\n",
       "      <td>14.262912</td>\n",
       "    </tr>\n",
       "    <tr>\n",
       "      <th>min</th>\n",
       "      <td>0.000000</td>\n",
       "      <td>0.000000</td>\n",
       "      <td>0.001286</td>\n",
       "      <td>0.000000</td>\n",
       "      <td>0.001157</td>\n",
       "      <td>8.801019</td>\n",
       "      <td>0.000825</td>\n",
       "      <td>0.000000</td>\n",
       "      <td>0.020350</td>\n",
       "      <td>0.031072</td>\n",
       "      <td>0.337166</td>\n",
       "      <td>16.222824</td>\n",
       "      <td>0.000000</td>\n",
       "    </tr>\n",
       "    <tr>\n",
       "      <th>25%</th>\n",
       "      <td>4502.000000</td>\n",
       "      <td>0.015824</td>\n",
       "      <td>0.078055</td>\n",
       "      <td>0.007552</td>\n",
       "      <td>0.038873</td>\n",
       "      <td>10.015566</td>\n",
       "      <td>0.101898</td>\n",
       "      <td>0.000431</td>\n",
       "      <td>0.651735</td>\n",
       "      <td>0.666105</td>\n",
       "      <td>7.805295</td>\n",
       "      <td>86.491724</td>\n",
       "      <td>72.233399</td>\n",
       "    </tr>\n",
       "    <tr>\n",
       "      <th>50%</th>\n",
       "      <td>10959.000000</td>\n",
       "      <td>0.053366</td>\n",
       "      <td>0.369163</td>\n",
       "      <td>0.028408</td>\n",
       "      <td>0.060895</td>\n",
       "      <td>10.602081</td>\n",
       "      <td>0.471370</td>\n",
       "      <td>1.710000</td>\n",
       "      <td>0.880361</td>\n",
       "      <td>0.904736</td>\n",
       "      <td>9.123124</td>\n",
       "      <td>134.198130</td>\n",
       "      <td>83.859708</td>\n",
       "    </tr>\n",
       "    <tr>\n",
       "      <th>75%</th>\n",
       "      <td>17049.000000</td>\n",
       "      <td>0.256315</td>\n",
       "      <td>1.058376</td>\n",
       "      <td>0.177164</td>\n",
       "      <td>0.256838</td>\n",
       "      <td>12.291575</td>\n",
       "      <td>1.388990</td>\n",
       "      <td>10.250000</td>\n",
       "      <td>0.972333</td>\n",
       "      <td>0.982342</td>\n",
       "      <td>9.691731</td>\n",
       "      <td>160.169231</td>\n",
       "      <td>89.743333</td>\n",
       "    </tr>\n",
       "    <tr>\n",
       "      <th>max</th>\n",
       "      <td>22045.000000</td>\n",
       "      <td>5.662153</td>\n",
       "      <td>12.879851</td>\n",
       "      <td>4.980892</td>\n",
       "      <td>3.863194</td>\n",
       "      <td>66.886376</td>\n",
       "      <td>23.110842</td>\n",
       "      <td>51.360060</td>\n",
       "      <td>1.000000</td>\n",
       "      <td>1.000000</td>\n",
       "      <td>12.115013</td>\n",
       "      <td>527.049732</td>\n",
       "      <td>90.308734</td>\n",
       "    </tr>\n",
       "  </tbody>\n",
       "</table>\n",
       "</div>"
      ],
      "text/plain": [
       "                 id  android_sensor_gyroscope_mean  \\\n",
       "count   5893.000000                    5173.000000   \n",
       "mean   10685.407263                       0.312536   \n",
       "std     6921.229833                       0.554585   \n",
       "min        0.000000                       0.000000   \n",
       "25%     4502.000000                       0.015824   \n",
       "50%    10959.000000                       0.053366   \n",
       "75%    17049.000000                       0.256315   \n",
       "max    22045.000000                       5.662153   \n",
       "\n",
       "       android_sensor_accelerometer_std  android_sensor_gyroscope_std  \\\n",
       "count                       5893.000000                   5172.000000   \n",
       "mean                           0.982987                      0.189903   \n",
       "std                            1.505615                      0.342901   \n",
       "min                            0.001286                      0.000000   \n",
       "25%                            0.078055                      0.007552   \n",
       "50%                            0.369163                      0.028408   \n",
       "75%                            1.058376                      0.177164   \n",
       "max                           12.879851                      4.980892   \n",
       "\n",
       "       android_sensor_gyroscope_uncalibrated_mean  \\\n",
       "count                                 5094.000000   \n",
       "mean                                     0.312807   \n",
       "std                                      0.537925   \n",
       "min                                      0.001157   \n",
       "25%                                      0.038873   \n",
       "50%                                      0.060895   \n",
       "75%                                      0.256838   \n",
       "max                                      3.863194   \n",
       "\n",
       "       android_sensor_accelerometer_max  \\\n",
       "count                       5893.000000   \n",
       "mean                          12.247691   \n",
       "std                            5.178436   \n",
       "min                            8.801019   \n",
       "25%                           10.015566   \n",
       "50%                           10.602081   \n",
       "75%                           12.291575   \n",
       "max                           66.886376   \n",
       "\n",
       "       android_sensor_linear_acceleration_mean   speed_mean  \\\n",
       "count                              5399.000000  3520.000000   \n",
       "mean                                  1.315971     8.235254   \n",
       "std                                   2.065444    11.870711   \n",
       "min                                   0.000825     0.000000   \n",
       "25%                                   0.101898     0.000431   \n",
       "50%                                   0.471370     1.710000   \n",
       "75%                                   1.388990    10.250000   \n",
       "max                                  23.110842    51.360060   \n",
       "\n",
       "       android_sensor_rotation_vector_mean  \\\n",
       "count                          5172.000000   \n",
       "mean                              0.765932   \n",
       "std                               0.263393   \n",
       "min                               0.020350   \n",
       "25%                               0.651735   \n",
       "50%                               0.880361   \n",
       "75%                               0.972333   \n",
       "max                               1.000000   \n",
       "\n",
       "       android_sensor_rotation_vector_max  android_sensor_accelerometer_min  \\\n",
       "count                         5172.000000                       5893.000000   \n",
       "mean                             0.779000                          8.426262   \n",
       "std                              0.262881                          1.783007   \n",
       "min                              0.031072                          0.337166   \n",
       "25%                              0.666105                          7.805295   \n",
       "50%                              0.904736                          9.123124   \n",
       "75%                              0.982342                          9.691731   \n",
       "max                              1.000000                         12.115013   \n",
       "\n",
       "       android_sensor_magnetic_field_uncalibrated_min    sound_min  \n",
       "count                                     5094.000000  4899.000000  \n",
       "mean                                       136.955896    78.451658  \n",
       "std                                         70.764992    14.262912  \n",
       "min                                         16.222824     0.000000  \n",
       "25%                                         86.491724    72.233399  \n",
       "50%                                        134.198130    83.859708  \n",
       "75%                                        160.169231    89.743333  \n",
       "max                                        527.049732    90.308734  "
      ]
     },
     "execution_count": 81,
     "metadata": {},
     "output_type": "execute_result"
    }
   ],
   "source": [
    "new_df.describe()"
   ]
  },
  {
   "cell_type": "code",
   "execution_count": 82,
   "metadata": {
    "cell_id": "00013-30c5edba-8962-4ce3-a8aa-2bb23d5f6676",
    "deepnote_cell_type": "code",
    "deepnote_to_be_reexecuted": false,
    "execution_millis": 8,
    "execution_start": 1621269300758,
    "source_hash": "71e9418d",
    "tags": []
   },
   "outputs": [
    {
     "name": "stdout",
     "output_type": "stream",
     "text": [
      "5893\n"
     ]
    },
    {
     "data": {
      "text/plain": [
       "id                                                   0\n",
       "user                                                 0\n",
       "android_sensor_gyroscope_mean                      720\n",
       "android_sensor_accelerometer_std                     0\n",
       "android_sensor_gyroscope_std                       721\n",
       "android_sensor_gyroscope_uncalibrated_mean         799\n",
       "android_sensor_accelerometer_max                     0\n",
       "android_sensor_linear_acceleration_mean            494\n",
       "speed_mean                                        2373\n",
       "android_sensor_rotation_vector_mean                721\n",
       "android_sensor_rotation_vector_max                 721\n",
       "android_sensor_accelerometer_min                     0\n",
       "android_sensor_magnetic_field_uncalibrated_min     799\n",
       "sound_min                                          994\n",
       "target                                               0\n",
       "dtype: int64"
      ]
     },
     "execution_count": 82,
     "metadata": {},
     "output_type": "execute_result"
    }
   ],
   "source": [
    "#checking nan values for selected features\n",
    "print(len(new_df))\n",
    "new_df.isna().sum()\n"
   ]
  },
  {
   "cell_type": "code",
   "execution_count": 83,
   "metadata": {
    "cell_id": "00015-4da1e544-8d98-47f0-ba9b-55e83c506dc1",
    "deepnote_cell_type": "code",
    "deepnote_to_be_reexecuted": false,
    "execution_millis": 24,
    "execution_start": 1621269301075,
    "source_hash": "f991ebbd",
    "tags": []
   },
   "outputs": [
    {
     "data": {
      "text/plain": [
       "id                                                  0\n",
       "user                                                0\n",
       "android_sensor_gyroscope_mean                     720\n",
       "android_sensor_accelerometer_std                    0\n",
       "android_sensor_gyroscope_std                      721\n",
       "android_sensor_gyroscope_uncalibrated_mean        799\n",
       "android_sensor_accelerometer_max                    0\n",
       "android_sensor_linear_acceleration_mean           494\n",
       "speed_mean                                          0\n",
       "android_sensor_rotation_vector_mean               721\n",
       "android_sensor_rotation_vector_max                721\n",
       "android_sensor_accelerometer_min                    0\n",
       "android_sensor_magnetic_field_uncalibrated_min    799\n",
       "sound_min                                         994\n",
       "target                                              0\n",
       "dtype: int64"
      ]
     },
     "execution_count": 83,
     "metadata": {},
     "output_type": "execute_result"
    }
   ],
   "source": [
    "new_df['speed_mean']=new_df.groupby('target')['speed_mean'].transform(\"mean\")\n",
    "new_df.isna().sum()"
   ]
  },
  {
   "cell_type": "code",
   "execution_count": 84,
   "metadata": {
    "cell_id": "00018-7c8f8b80-8ac1-45a0-85d0-15905271fd3b",
    "deepnote_cell_type": "code",
    "deepnote_to_be_reexecuted": false,
    "execution_millis": 116,
    "execution_start": 1621269301190,
    "source_hash": "c3b9e2a7",
    "tags": []
   },
   "outputs": [
    {
     "data": {
      "application/vnd.deepnote.dataframe.v2+json": {
       "column_count": 13,
       "columns": [
        {
         "dtype": "float64",
         "name": "id",
         "stats": {
          "histogram": [
           {
            "bin_end": 2204.5,
            "bin_start": 0,
            "count": 1
           },
           {
            "bin_end": 4409,
            "bin_start": 2204.5,
            "count": 0
           },
           {
            "bin_end": 6613.5,
            "bin_start": 4409,
            "count": 2
           },
           {
            "bin_end": 8818,
            "bin_start": 6613.5,
            "count": 1
           },
           {
            "bin_end": 11022.5,
            "bin_start": 8818,
            "count": 2
           },
           {
            "bin_end": 13227,
            "bin_start": 11022.5,
            "count": 0
           },
           {
            "bin_end": 15431.5,
            "bin_start": 13227,
            "count": 0
           },
           {
            "bin_end": 17636,
            "bin_start": 15431.5,
            "count": 1
           },
           {
            "bin_end": 19840.5,
            "bin_start": 17636,
            "count": 0
           },
           {
            "bin_end": 22045,
            "bin_start": 19840.5,
            "count": 1
           }
          ],
          "max": "22045.0",
          "min": "0.0",
          "nan_count": 0,
          "unique_count": 8
         }
        },
        {
         "dtype": "float64",
         "name": "android_sensor_gyroscope_mean",
         "stats": {
          "histogram": [
           {
            "bin_end": 517.3,
            "bin_start": 0,
            "count": 7
           },
           {
            "bin_end": 1034.6,
            "bin_start": 517.3,
            "count": 0
           },
           {
            "bin_end": 1551.8999999999999,
            "bin_start": 1034.6,
            "count": 0
           },
           {
            "bin_end": 2069.2,
            "bin_start": 1551.8999999999999,
            "count": 0
           },
           {
            "bin_end": 2586.5,
            "bin_start": 2069.2,
            "count": 0
           },
           {
            "bin_end": 3103.7999999999997,
            "bin_start": 2586.5,
            "count": 0
           },
           {
            "bin_end": 3621.0999999999995,
            "bin_start": 3103.7999999999997,
            "count": 0
           },
           {
            "bin_end": 4138.4,
            "bin_start": 3621.0999999999995,
            "count": 0
           },
           {
            "bin_end": 4655.7,
            "bin_start": 4138.4,
            "count": 0
           },
           {
            "bin_end": 5173,
            "bin_start": 4655.7,
            "count": 1
           }
          ],
          "max": "5173.0",
          "min": "0.0",
          "nan_count": 0,
          "unique_count": 8
         }
        },
        {
         "dtype": "float64",
         "name": "android_sensor_accelerometer_std",
         "stats": {
          "histogram": [
           {
            "bin_end": 589.30115752884,
            "bin_start": 0.00128614315565,
            "count": 7
           },
           {
            "bin_end": 1178.6010289145242,
            "bin_start": 589.30115752884,
            "count": 0
           },
           {
            "bin_end": 1767.9009003002086,
            "bin_start": 1178.6010289145242,
            "count": 0
           },
           {
            "bin_end": 2357.200771685893,
            "bin_start": 1767.9009003002086,
            "count": 0
           },
           {
            "bin_end": 2946.500643071577,
            "bin_start": 2357.200771685893,
            "count": 0
           },
           {
            "bin_end": 3535.8005144572617,
            "bin_start": 2946.500643071577,
            "count": 0
           },
           {
            "bin_end": 4125.100385842947,
            "bin_start": 3535.8005144572617,
            "count": 0
           },
           {
            "bin_end": 4714.400257228631,
            "bin_start": 4125.100385842947,
            "count": 0
           },
           {
            "bin_end": 5303.700128614315,
            "bin_start": 4714.400257228631,
            "count": 0
           },
           {
            "bin_end": 5893,
            "bin_start": 5303.700128614315,
            "count": 1
           }
          ],
          "max": "5893.0",
          "min": "0.00128614315565",
          "nan_count": 0,
          "unique_count": 8
         }
        },
        {
         "dtype": "float64",
         "name": "android_sensor_gyroscope_std",
         "stats": {
          "histogram": [
           {
            "bin_end": 517.2,
            "bin_start": 0,
            "count": 7
           },
           {
            "bin_end": 1034.4,
            "bin_start": 517.2,
            "count": 0
           },
           {
            "bin_end": 1551.6000000000001,
            "bin_start": 1034.4,
            "count": 0
           },
           {
            "bin_end": 2068.8,
            "bin_start": 1551.6000000000001,
            "count": 0
           },
           {
            "bin_end": 2586,
            "bin_start": 2068.8,
            "count": 0
           },
           {
            "bin_end": 3103.2000000000003,
            "bin_start": 2586,
            "count": 0
           },
           {
            "bin_end": 3620.4000000000005,
            "bin_start": 3103.2000000000003,
            "count": 0
           },
           {
            "bin_end": 4137.6,
            "bin_start": 3620.4000000000005,
            "count": 0
           },
           {
            "bin_end": 4654.8,
            "bin_start": 4137.6,
            "count": 0
           },
           {
            "bin_end": 5172,
            "bin_start": 4654.8,
            "count": 1
           }
          ],
          "max": "5172.0",
          "min": "0.0",
          "nan_count": 0,
          "unique_count": 8
         }
        },
        {
         "dtype": "float64",
         "name": "android_sensor_gyroscope_uncalibrated_mean",
         "stats": {
          "histogram": [
           {
            "bin_end": 509.40104134945886,
            "bin_start": 0.00115705495425,
            "count": 7
           },
           {
            "bin_end": 1018.8009256439634,
            "bin_start": 509.40104134945886,
            "count": 0
           },
           {
            "bin_end": 1528.2008099384682,
            "bin_start": 1018.8009256439634,
            "count": 0
           },
           {
            "bin_end": 2037.6006942329727,
            "bin_start": 1528.2008099384682,
            "count": 0
           },
           {
            "bin_end": 2547.000578527477,
            "bin_start": 2037.6006942329727,
            "count": 0
           },
           {
            "bin_end": 3056.400462821982,
            "bin_start": 2547.000578527477,
            "count": 0
           },
           {
            "bin_end": 3565.800347116486,
            "bin_start": 3056.400462821982,
            "count": 0
           },
           {
            "bin_end": 4075.200231410991,
            "bin_start": 3565.800347116486,
            "count": 0
           },
           {
            "bin_end": 4584.600115705495,
            "bin_start": 4075.200231410991,
            "count": 0
           },
           {
            "bin_end": 5094,
            "bin_start": 4584.600115705495,
            "count": 1
           }
          ],
          "max": "5094.0",
          "min": "0.00115705495425",
          "nan_count": 0,
          "unique_count": 8
         }
        },
        {
         "dtype": "float64",
         "name": "android_sensor_accelerometer_max",
         "stats": {
          "histogram": [
           {
            "bin_end": 593.9605920994463,
            "bin_start": 5.178435666051567,
            "count": 7
           },
           {
            "bin_end": 1182.7427485328412,
            "bin_start": 593.9605920994463,
            "count": 0
           },
           {
            "bin_end": 1771.524904966236,
            "bin_start": 1182.7427485328412,
            "count": 0
           },
           {
            "bin_end": 2360.3070613996306,
            "bin_start": 1771.524904966236,
            "count": 0
           },
           {
            "bin_end": 2949.0892178330255,
            "bin_start": 2360.3070613996306,
            "count": 0
           },
           {
            "bin_end": 3537.87137426642,
            "bin_start": 2949.0892178330255,
            "count": 0
           },
           {
            "bin_end": 4126.653530699816,
            "bin_start": 3537.87137426642,
            "count": 0
           },
           {
            "bin_end": 4715.43568713321,
            "bin_start": 4126.653530699816,
            "count": 0
           },
           {
            "bin_end": 5304.217843566605,
            "bin_start": 4715.43568713321,
            "count": 0
           },
           {
            "bin_end": 5893,
            "bin_start": 5304.217843566605,
            "count": 1
           }
          ],
          "max": "5893.0",
          "min": "5.178435666051567",
          "nan_count": 0,
          "unique_count": 8
         }
        },
        {
         "dtype": "float64",
         "name": "android_sensor_linear_acceleration_mean",
         "stats": {
          "histogram": [
           {
            "bin_end": 539.9007421590126,
            "bin_start": 0.000824621125124,
            "count": 7
           },
           {
            "bin_end": 1079.8006596968999,
            "bin_start": 539.9007421590126,
            "count": 0
           },
           {
            "bin_end": 1619.7005772347873,
            "bin_start": 1079.8006596968999,
            "count": 0
           },
           {
            "bin_end": 2159.6004947726747,
            "bin_start": 1619.7005772347873,
            "count": 0
           },
           {
            "bin_end": 2699.5004123105623,
            "bin_start": 2159.6004947726747,
            "count": 0
           },
           {
            "bin_end": 3239.4003298484495,
            "bin_start": 2699.5004123105623,
            "count": 0
           },
           {
            "bin_end": 3779.3002473863367,
            "bin_start": 3239.4003298484495,
            "count": 0
           },
           {
            "bin_end": 4319.200164924225,
            "bin_start": 3779.3002473863367,
            "count": 0
           },
           {
            "bin_end": 4859.100082462112,
            "bin_start": 4319.200164924225,
            "count": 0
           },
           {
            "bin_end": 5399,
            "bin_start": 4859.100082462112,
            "count": 1
           }
          ],
          "max": "5399.0",
          "min": "0.000824621125124",
          "nan_count": 0,
          "unique_count": 8
         }
        },
        {
         "dtype": "float64",
         "name": "speed_mean",
         "stats": {
          "histogram": [
           {
            "bin_end": 589.4623406798713,
            "bin_start": 0.1803785331903315,
            "count": 7
           },
           {
            "bin_end": 1178.7443028265523,
            "bin_start": 589.4623406798713,
            "count": 0
           },
           {
            "bin_end": 1768.026264973233,
            "bin_start": 1178.7443028265523,
            "count": 0
           },
           {
            "bin_end": 2357.308227119914,
            "bin_start": 1768.026264973233,
            "count": 0
           },
           {
            "bin_end": 2946.590189266595,
            "bin_start": 2357.308227119914,
            "count": 0
           },
           {
            "bin_end": 3535.872151413276,
            "bin_start": 2946.590189266595,
            "count": 0
           },
           {
            "bin_end": 4125.154113559957,
            "bin_start": 3535.872151413276,
            "count": 0
           },
           {
            "bin_end": 4714.436075706638,
            "bin_start": 4125.154113559957,
            "count": 0
           },
           {
            "bin_end": 5303.7180378533185,
            "bin_start": 4714.436075706638,
            "count": 0
           },
           {
            "bin_end": 5893,
            "bin_start": 5303.7180378533185,
            "count": 1
           }
          ],
          "max": "5893.0",
          "min": "0.1803785331903315",
          "nan_count": 0,
          "unique_count": 8
         }
        },
        {
         "dtype": "float64",
         "name": "android_sensor_rotation_vector_mean",
         "stats": {
          "histogram": [
           {
            "bin_end": 517.2183146853803,
            "bin_start": 0.0203496504225,
            "count": 7
           },
           {
            "bin_end": 1034.416279720338,
            "bin_start": 517.2183146853803,
            "count": 0
           },
           {
            "bin_end": 1551.6142447552959,
            "bin_start": 1034.416279720338,
            "count": 0
           },
           {
            "bin_end": 2068.8122097902533,
            "bin_start": 1551.6142447552959,
            "count": 0
           },
           {
            "bin_end": 2586.010174825211,
            "bin_start": 2068.8122097902533,
            "count": 0
           },
           {
            "bin_end": 3103.208139860169,
            "bin_start": 2586.010174825211,
            "count": 0
           },
           {
            "bin_end": 3620.4061048951266,
            "bin_start": 3103.208139860169,
            "count": 0
           },
           {
            "bin_end": 4137.604069930085,
            "bin_start": 3620.4061048951266,
            "count": 0
           },
           {
            "bin_end": 4654.802034965042,
            "bin_start": 4137.604069930085,
            "count": 0
           },
           {
            "bin_end": 5172,
            "bin_start": 4654.802034965042,
            "count": 1
           }
          ],
          "max": "5172.0",
          "min": "0.0203496504225",
          "nan_count": 0,
          "unique_count": 8
         }
        },
        {
         "dtype": "float64",
         "name": "android_sensor_rotation_vector_max",
         "stats": {
          "histogram": [
           {
            "bin_end": 517.2279650557917,
            "bin_start": 0.0310722842131,
            "count": 7
           },
           {
            "bin_end": 1034.4248578273703,
            "bin_start": 517.2279650557917,
            "count": 0
           },
           {
            "bin_end": 1551.621750598949,
            "bin_start": 1034.4248578273703,
            "count": 0
           },
           {
            "bin_end": 2068.8186433705278,
            "bin_start": 1551.621750598949,
            "count": 0
           },
           {
            "bin_end": 2586.0155361421066,
            "bin_start": 2068.8186433705278,
            "count": 0
           },
           {
            "bin_end": 3103.212428913685,
            "bin_start": 2586.0155361421066,
            "count": 0
           },
           {
            "bin_end": 3620.4093216852634,
            "bin_start": 3103.212428913685,
            "count": 0
           },
           {
            "bin_end": 4137.606214456842,
            "bin_start": 3620.4093216852634,
            "count": 0
           },
           {
            "bin_end": 4654.803107228421,
            "bin_start": 4137.606214456842,
            "count": 0
           },
           {
            "bin_end": 5172,
            "bin_start": 4654.803107228421,
            "count": 1
           }
          ],
          "max": "5172.0",
          "min": "0.0310722842131",
          "nan_count": 0,
          "unique_count": 8
         }
        },
        {
         "dtype": "float64",
         "name": "android_sensor_accelerometer_min",
         "stats": {
          "histogram": [
           {
            "bin_end": 589.603449556222,
            "bin_start": 0.33716617358,
            "count": 7
           },
           {
            "bin_end": 1178.869732938864,
            "bin_start": 589.603449556222,
            "count": 0
           },
           {
            "bin_end": 1768.1360163215058,
            "bin_start": 1178.869732938864,
            "count": 0
           },
           {
            "bin_end": 2357.402299704148,
            "bin_start": 1768.1360163215058,
            "count": 0
           },
           {
            "bin_end": 2946.66858308679,
            "bin_start": 2357.402299704148,
            "count": 0
           },
           {
            "bin_end": 3535.9348664694317,
            "bin_start": 2946.66858308679,
            "count": 0
           },
           {
            "bin_end": 4125.201149852074,
            "bin_start": 3535.9348664694317,
            "count": 0
           },
           {
            "bin_end": 4714.467433234716,
            "bin_start": 4125.201149852074,
            "count": 0
           },
           {
            "bin_end": 5303.7337166173575,
            "bin_start": 4714.467433234716,
            "count": 0
           },
           {
            "bin_end": 5893,
            "bin_start": 5303.7337166173575,
            "count": 1
           }
          ],
          "max": "5893.0",
          "min": "0.33716617358",
          "nan_count": 0,
          "unique_count": 8
         }
        },
        {
         "dtype": "float64",
         "name": "android_sensor_magnetic_field_uncalibrated_min",
         "stats": {
          "histogram": [
           {
            "bin_end": 524.0005419402,
            "bin_start": 16.222824378,
            "count": 6
           },
           {
            "bin_end": 1031.7782595024,
            "bin_start": 524.0005419402,
            "count": 1
           },
           {
            "bin_end": 1539.5559770646,
            "bin_start": 1031.7782595024,
            "count": 0
           },
           {
            "bin_end": 2047.3336946268,
            "bin_start": 1539.5559770646,
            "count": 0
           },
           {
            "bin_end": 2555.111412189,
            "bin_start": 2047.3336946268,
            "count": 0
           },
           {
            "bin_end": 3062.8891297512,
            "bin_start": 2555.111412189,
            "count": 0
           },
           {
            "bin_end": 3570.6668473134,
            "bin_start": 3062.8891297512,
            "count": 0
           },
           {
            "bin_end": 4078.4445648756,
            "bin_start": 3570.6668473134,
            "count": 0
           },
           {
            "bin_end": 4586.2222824378,
            "bin_start": 4078.4445648756,
            "count": 0
           },
           {
            "bin_end": 5094,
            "bin_start": 4586.2222824378,
            "count": 1
           }
          ],
          "max": "5094.0",
          "min": "16.222824378",
          "nan_count": 0,
          "unique_count": 8
         }
        },
        {
         "dtype": "float64",
         "name": "sound_min",
         "stats": {
          "histogram": [
           {
            "bin_end": 489.9,
            "bin_start": 0,
            "count": 7
           },
           {
            "bin_end": 979.8,
            "bin_start": 489.9,
            "count": 0
           },
           {
            "bin_end": 1469.6999999999998,
            "bin_start": 979.8,
            "count": 0
           },
           {
            "bin_end": 1959.6,
            "bin_start": 1469.6999999999998,
            "count": 0
           },
           {
            "bin_end": 2449.5,
            "bin_start": 1959.6,
            "count": 0
           },
           {
            "bin_end": 2939.3999999999996,
            "bin_start": 2449.5,
            "count": 0
           },
           {
            "bin_end": 3429.2999999999997,
            "bin_start": 2939.3999999999996,
            "count": 0
           },
           {
            "bin_end": 3919.2,
            "bin_start": 3429.2999999999997,
            "count": 0
           },
           {
            "bin_end": 4409.099999999999,
            "bin_start": 3919.2,
            "count": 0
           },
           {
            "bin_end": 4899,
            "bin_start": 4409.099999999999,
            "count": 1
           }
          ],
          "max": "4899.0",
          "min": "0.0",
          "nan_count": 0,
          "unique_count": 8
         }
        },
        {
         "dtype": "object",
         "name": "_deepnote_index_column"
        }
       ],
       "row_count": 8,
       "rows_bottom": null,
       "rows_top": [
        {
         "_deepnote_index_column": "count",
         "android_sensor_accelerometer_max": 5893,
         "android_sensor_accelerometer_min": 5893,
         "android_sensor_accelerometer_std": 5893,
         "android_sensor_gyroscope_mean": 5173,
         "android_sensor_gyroscope_std": 5172,
         "android_sensor_gyroscope_uncalibrated_mean": 5094,
         "android_sensor_linear_acceleration_mean": 5399,
         "android_sensor_magnetic_field_uncalibrated_min": 5094,
         "android_sensor_rotation_vector_max": 5172,
         "android_sensor_rotation_vector_mean": 5172,
         "id": 5893,
         "sound_min": 4899,
         "speed_mean": 5893
        },
        {
         "_deepnote_index_column": "mean",
         "android_sensor_accelerometer_max": 12.247691241151308,
         "android_sensor_accelerometer_min": 8.426262092182213,
         "android_sensor_accelerometer_std": 0.9829867120540425,
         "android_sensor_gyroscope_mean": 0.31253628332942285,
         "android_sensor_gyroscope_std": 0.18990341907290723,
         "android_sensor_gyroscope_uncalibrated_mean": 0.31280685696353117,
         "android_sensor_linear_acceleration_mean": 1.315970583117608,
         "android_sensor_magnetic_field_uncalibrated_min": 136.95589564081374,
         "android_sensor_rotation_vector_max": 0.77899965329584,
         "android_sensor_rotation_vector_mean": 0.7659315870899981,
         "id": 10685.407262854234,
         "sound_min": 78.45165828874045,
         "speed_mean": 11.219236153432245
        },
        {
         "_deepnote_index_column": "std",
         "android_sensor_accelerometer_max": 5.178435666051567,
         "android_sensor_accelerometer_min": 1.7830070294838105,
         "android_sensor_accelerometer_std": 1.505614772237705,
         "android_sensor_gyroscope_mean": 0.5545853952639238,
         "android_sensor_gyroscope_std": 0.34290108666247626,
         "android_sensor_gyroscope_uncalibrated_mean": 0.5379246566688233,
         "android_sensor_linear_acceleration_mean": 2.065444145647968,
         "android_sensor_magnetic_field_uncalibrated_min": 70.76499200604277,
         "android_sensor_rotation_vector_max": 0.2628807411805591,
         "android_sensor_rotation_vector_mean": 0.2633926241346347,
         "id": 6921.229832934336,
         "sound_min": 14.26291231312708,
         "speed_mean": 12.827053060715528
        },
        {
         "_deepnote_index_column": "min",
         "android_sensor_accelerometer_max": 8.80101887039,
         "android_sensor_accelerometer_min": 0.33716617358,
         "android_sensor_accelerometer_std": 0.00128614315565,
         "android_sensor_gyroscope_mean": 0,
         "android_sensor_gyroscope_std": 0,
         "android_sensor_gyroscope_uncalibrated_mean": 0.00115705495425,
         "android_sensor_linear_acceleration_mean": 0.000824621125124,
         "android_sensor_magnetic_field_uncalibrated_min": 16.222824378,
         "android_sensor_rotation_vector_max": 0.0310722842131,
         "android_sensor_rotation_vector_mean": 0.0203496504225,
         "id": 0,
         "sound_min": 0,
         "speed_mean": 0.1803785331903315
        },
        {
         "_deepnote_index_column": "25%",
         "android_sensor_accelerometer_max": 10.0155664108,
         "android_sensor_accelerometer_min": 7.80529491413,
         "android_sensor_accelerometer_std": 0.0780548606047,
         "android_sensor_gyroscope_mean": 0.015823955936,
         "android_sensor_gyroscope_std": 0.0075520377537975,
         "android_sensor_gyroscope_uncalibrated_mean": 0.038872602883299995,
         "android_sensor_linear_acceleration_mean": 0.101898258454,
         "android_sensor_magnetic_field_uncalibrated_min": 86.491724203125,
         "android_sensor_rotation_vector_max": 0.6661050350337501,
         "android_sensor_rotation_vector_mean": 0.651735059317,
         "id": 4502,
         "sound_min": 72.23339899195,
         "speed_mean": 1.1202056532480036
        },
        {
         "_deepnote_index_column": "50%",
         "android_sensor_accelerometer_max": 10.6020812187,
         "android_sensor_accelerometer_min": 9.12312384027,
         "android_sensor_accelerometer_std": 0.369163322387,
         "android_sensor_gyroscope_mean": 0.0533659932669,
         "android_sensor_gyroscope_std": 0.028407765068000003,
         "android_sensor_gyroscope_uncalibrated_mean": 0.0608950914993,
         "android_sensor_linear_acceleration_mean": 0.471369557719,
         "android_sensor_magnetic_field_uncalibrated_min": 134.1981302005,
         "android_sensor_rotation_vector_max": 0.9047355955709999,
         "android_sensor_rotation_vector_mean": 0.880361441911,
         "id": 10959,
         "sound_min": 83.8597075819,
         "speed_mean": 5.368553579536653
        },
        {
         "_deepnote_index_column": "75%",
         "android_sensor_accelerometer_max": 12.2915753577,
         "android_sensor_accelerometer_min": 9.69173082456,
         "android_sensor_accelerometer_std": 1.05837600859,
         "android_sensor_gyroscope_mean": 0.256314926915,
         "android_sensor_gyroscope_std": 0.17716351922,
         "android_sensor_gyroscope_uncalibrated_mean": 0.256837798369,
         "android_sensor_linear_acceleration_mean": 1.3889895667049998,
         "android_sensor_magnetic_field_uncalibrated_min": 160.1692314185,
         "android_sensor_rotation_vector_max": 0.9823423519707501,
         "android_sensor_rotation_vector_mean": 0.9723329635690001,
         "id": 17049,
         "sound_min": 89.7433333471,
         "speed_mean": 14.679876452262643
        },
        {
         "_deepnote_index_column": "max",
         "android_sensor_accelerometer_max": 66.8863758417,
         "android_sensor_accelerometer_min": 12.1150128555,
         "android_sensor_accelerometer_std": 12.8798505901,
         "android_sensor_gyroscope_mean": 5.66215327195,
         "android_sensor_gyroscope_std": 4.98089199121,
         "android_sensor_gyroscope_uncalibrated_mean": 3.86319387457,
         "android_sensor_linear_acceleration_mean": 23.1108418208,
         "android_sensor_magnetic_field_uncalibrated_min": 527.049731999,
         "android_sensor_rotation_vector_max": 0.999999999979,
         "android_sensor_rotation_vector_mean": 0.999999593198,
         "id": 22045,
         "sound_min": 90.3087336228,
         "speed_mean": 34.72213738533318
        }
       ]
      },
      "text/html": [
       "<div>\n",
       "<style scoped>\n",
       "    .dataframe tbody tr th:only-of-type {\n",
       "        vertical-align: middle;\n",
       "    }\n",
       "\n",
       "    .dataframe tbody tr th {\n",
       "        vertical-align: top;\n",
       "    }\n",
       "\n",
       "    .dataframe thead th {\n",
       "        text-align: right;\n",
       "    }\n",
       "</style>\n",
       "<table border=\"1\" class=\"dataframe\">\n",
       "  <thead>\n",
       "    <tr style=\"text-align: right;\">\n",
       "      <th></th>\n",
       "      <th>id</th>\n",
       "      <th>android_sensor_gyroscope_mean</th>\n",
       "      <th>android_sensor_accelerometer_std</th>\n",
       "      <th>android_sensor_gyroscope_std</th>\n",
       "      <th>android_sensor_gyroscope_uncalibrated_mean</th>\n",
       "      <th>android_sensor_accelerometer_max</th>\n",
       "      <th>android_sensor_linear_acceleration_mean</th>\n",
       "      <th>speed_mean</th>\n",
       "      <th>android_sensor_rotation_vector_mean</th>\n",
       "      <th>android_sensor_rotation_vector_max</th>\n",
       "      <th>android_sensor_accelerometer_min</th>\n",
       "      <th>android_sensor_magnetic_field_uncalibrated_min</th>\n",
       "      <th>sound_min</th>\n",
       "    </tr>\n",
       "  </thead>\n",
       "  <tbody>\n",
       "    <tr>\n",
       "      <th>count</th>\n",
       "      <td>5893.000000</td>\n",
       "      <td>5173.000000</td>\n",
       "      <td>5893.000000</td>\n",
       "      <td>5172.000000</td>\n",
       "      <td>5094.000000</td>\n",
       "      <td>5893.000000</td>\n",
       "      <td>5399.000000</td>\n",
       "      <td>5893.000000</td>\n",
       "      <td>5172.000000</td>\n",
       "      <td>5172.000000</td>\n",
       "      <td>5893.000000</td>\n",
       "      <td>5094.000000</td>\n",
       "      <td>4899.000000</td>\n",
       "    </tr>\n",
       "    <tr>\n",
       "      <th>mean</th>\n",
       "      <td>10685.407263</td>\n",
       "      <td>0.312536</td>\n",
       "      <td>0.982987</td>\n",
       "      <td>0.189903</td>\n",
       "      <td>0.312807</td>\n",
       "      <td>12.247691</td>\n",
       "      <td>1.315971</td>\n",
       "      <td>11.219236</td>\n",
       "      <td>0.765932</td>\n",
       "      <td>0.779000</td>\n",
       "      <td>8.426262</td>\n",
       "      <td>136.955896</td>\n",
       "      <td>78.451658</td>\n",
       "    </tr>\n",
       "    <tr>\n",
       "      <th>std</th>\n",
       "      <td>6921.229833</td>\n",
       "      <td>0.554585</td>\n",
       "      <td>1.505615</td>\n",
       "      <td>0.342901</td>\n",
       "      <td>0.537925</td>\n",
       "      <td>5.178436</td>\n",
       "      <td>2.065444</td>\n",
       "      <td>12.827053</td>\n",
       "      <td>0.263393</td>\n",
       "      <td>0.262881</td>\n",
       "      <td>1.783007</td>\n",
       "      <td>70.764992</td>\n",
       "      <td>14.262912</td>\n",
       "    </tr>\n",
       "    <tr>\n",
       "      <th>min</th>\n",
       "      <td>0.000000</td>\n",
       "      <td>0.000000</td>\n",
       "      <td>0.001286</td>\n",
       "      <td>0.000000</td>\n",
       "      <td>0.001157</td>\n",
       "      <td>8.801019</td>\n",
       "      <td>0.000825</td>\n",
       "      <td>0.180379</td>\n",
       "      <td>0.020350</td>\n",
       "      <td>0.031072</td>\n",
       "      <td>0.337166</td>\n",
       "      <td>16.222824</td>\n",
       "      <td>0.000000</td>\n",
       "    </tr>\n",
       "    <tr>\n",
       "      <th>25%</th>\n",
       "      <td>4502.000000</td>\n",
       "      <td>0.015824</td>\n",
       "      <td>0.078055</td>\n",
       "      <td>0.007552</td>\n",
       "      <td>0.038873</td>\n",
       "      <td>10.015566</td>\n",
       "      <td>0.101898</td>\n",
       "      <td>1.120206</td>\n",
       "      <td>0.651735</td>\n",
       "      <td>0.666105</td>\n",
       "      <td>7.805295</td>\n",
       "      <td>86.491724</td>\n",
       "      <td>72.233399</td>\n",
       "    </tr>\n",
       "    <tr>\n",
       "      <th>50%</th>\n",
       "      <td>10959.000000</td>\n",
       "      <td>0.053366</td>\n",
       "      <td>0.369163</td>\n",
       "      <td>0.028408</td>\n",
       "      <td>0.060895</td>\n",
       "      <td>10.602081</td>\n",
       "      <td>0.471370</td>\n",
       "      <td>5.368554</td>\n",
       "      <td>0.880361</td>\n",
       "      <td>0.904736</td>\n",
       "      <td>9.123124</td>\n",
       "      <td>134.198130</td>\n",
       "      <td>83.859708</td>\n",
       "    </tr>\n",
       "    <tr>\n",
       "      <th>75%</th>\n",
       "      <td>17049.000000</td>\n",
       "      <td>0.256315</td>\n",
       "      <td>1.058376</td>\n",
       "      <td>0.177164</td>\n",
       "      <td>0.256838</td>\n",
       "      <td>12.291575</td>\n",
       "      <td>1.388990</td>\n",
       "      <td>14.679876</td>\n",
       "      <td>0.972333</td>\n",
       "      <td>0.982342</td>\n",
       "      <td>9.691731</td>\n",
       "      <td>160.169231</td>\n",
       "      <td>89.743333</td>\n",
       "    </tr>\n",
       "    <tr>\n",
       "      <th>max</th>\n",
       "      <td>22045.000000</td>\n",
       "      <td>5.662153</td>\n",
       "      <td>12.879851</td>\n",
       "      <td>4.980892</td>\n",
       "      <td>3.863194</td>\n",
       "      <td>66.886376</td>\n",
       "      <td>23.110842</td>\n",
       "      <td>34.722137</td>\n",
       "      <td>1.000000</td>\n",
       "      <td>1.000000</td>\n",
       "      <td>12.115013</td>\n",
       "      <td>527.049732</td>\n",
       "      <td>90.308734</td>\n",
       "    </tr>\n",
       "  </tbody>\n",
       "</table>\n",
       "</div>"
      ],
      "text/plain": [
       "                 id  android_sensor_gyroscope_mean  \\\n",
       "count   5893.000000                    5173.000000   \n",
       "mean   10685.407263                       0.312536   \n",
       "std     6921.229833                       0.554585   \n",
       "min        0.000000                       0.000000   \n",
       "25%     4502.000000                       0.015824   \n",
       "50%    10959.000000                       0.053366   \n",
       "75%    17049.000000                       0.256315   \n",
       "max    22045.000000                       5.662153   \n",
       "\n",
       "       android_sensor_accelerometer_std  android_sensor_gyroscope_std  \\\n",
       "count                       5893.000000                   5172.000000   \n",
       "mean                           0.982987                      0.189903   \n",
       "std                            1.505615                      0.342901   \n",
       "min                            0.001286                      0.000000   \n",
       "25%                            0.078055                      0.007552   \n",
       "50%                            0.369163                      0.028408   \n",
       "75%                            1.058376                      0.177164   \n",
       "max                           12.879851                      4.980892   \n",
       "\n",
       "       android_sensor_gyroscope_uncalibrated_mean  \\\n",
       "count                                 5094.000000   \n",
       "mean                                     0.312807   \n",
       "std                                      0.537925   \n",
       "min                                      0.001157   \n",
       "25%                                      0.038873   \n",
       "50%                                      0.060895   \n",
       "75%                                      0.256838   \n",
       "max                                      3.863194   \n",
       "\n",
       "       android_sensor_accelerometer_max  \\\n",
       "count                       5893.000000   \n",
       "mean                          12.247691   \n",
       "std                            5.178436   \n",
       "min                            8.801019   \n",
       "25%                           10.015566   \n",
       "50%                           10.602081   \n",
       "75%                           12.291575   \n",
       "max                           66.886376   \n",
       "\n",
       "       android_sensor_linear_acceleration_mean   speed_mean  \\\n",
       "count                              5399.000000  5893.000000   \n",
       "mean                                  1.315971    11.219236   \n",
       "std                                   2.065444    12.827053   \n",
       "min                                   0.000825     0.180379   \n",
       "25%                                   0.101898     1.120206   \n",
       "50%                                   0.471370     5.368554   \n",
       "75%                                   1.388990    14.679876   \n",
       "max                                  23.110842    34.722137   \n",
       "\n",
       "       android_sensor_rotation_vector_mean  \\\n",
       "count                          5172.000000   \n",
       "mean                              0.765932   \n",
       "std                               0.263393   \n",
       "min                               0.020350   \n",
       "25%                               0.651735   \n",
       "50%                               0.880361   \n",
       "75%                               0.972333   \n",
       "max                               1.000000   \n",
       "\n",
       "       android_sensor_rotation_vector_max  android_sensor_accelerometer_min  \\\n",
       "count                         5172.000000                       5893.000000   \n",
       "mean                             0.779000                          8.426262   \n",
       "std                              0.262881                          1.783007   \n",
       "min                              0.031072                          0.337166   \n",
       "25%                              0.666105                          7.805295   \n",
       "50%                              0.904736                          9.123124   \n",
       "75%                              0.982342                          9.691731   \n",
       "max                              1.000000                         12.115013   \n",
       "\n",
       "       android_sensor_magnetic_field_uncalibrated_min    sound_min  \n",
       "count                                     5094.000000  4899.000000  \n",
       "mean                                       136.955896    78.451658  \n",
       "std                                         70.764992    14.262912  \n",
       "min                                         16.222824     0.000000  \n",
       "25%                                         86.491724    72.233399  \n",
       "50%                                        134.198130    83.859708  \n",
       "75%                                        160.169231    89.743333  \n",
       "max                                        527.049732    90.308734  "
      ]
     },
     "execution_count": 84,
     "metadata": {},
     "output_type": "execute_result"
    }
   ],
   "source": [
    "new_df.describe()"
   ]
  },
  {
   "cell_type": "markdown",
   "metadata": {
    "cell_id": "00018-5f8b2ad5-4791-40e3-9062-c58a76666adb",
    "deepnote_cell_type": "text-cell-h1",
    "tags": []
   },
   "source": [
    "# Find the best values for missing data "
   ]
  },
  {
   "cell_type": "code",
   "execution_count": 85,
   "metadata": {
    "cell_id": "00018-f29e079b-cf02-4767-ad2e-ec32ddde9ece",
    "deepnote_cell_type": "code",
    "deepnote_to_be_reexecuted": false,
    "execution_millis": 434,
    "execution_start": 1621269301648,
    "source_hash": "c085b6ba",
    "tags": []
   },
   "outputs": [
    {
     "data": {
      "application/vnd.deepnote.dataframe.v2+json": {
       "column_count": 70,
       "columns": [
        {
         "dtype": "int64",
         "name": "id",
         "stats": {
          "histogram": [
           {
            "bin_end": 2469.5,
            "bin_start": 876,
            "count": 1
           },
           {
            "bin_end": 4063,
            "bin_start": 2469.5,
            "count": 0
           },
           {
            "bin_end": 5656.5,
            "bin_start": 4063,
            "count": 0
           },
           {
            "bin_end": 7250,
            "bin_start": 5656.5,
            "count": 0
           },
           {
            "bin_end": 8843.5,
            "bin_start": 7250,
            "count": 0
           },
           {
            "bin_end": 10437,
            "bin_start": 8843.5,
            "count": 0
           },
           {
            "bin_end": 12030.5,
            "bin_start": 10437,
            "count": 0
           },
           {
            "bin_end": 13624,
            "bin_start": 12030.5,
            "count": 0
           },
           {
            "bin_end": 15217.5,
            "bin_start": 13624,
            "count": 0
           },
           {
            "bin_end": 16811,
            "bin_start": 15217.5,
            "count": 4
           }
          ],
          "max": "16811",
          "min": "876",
          "nan_count": 0,
          "unique_count": 5
         }
        },
        {
         "dtype": "float64",
         "name": "time",
         "stats": {
          "histogram": [
           {
            "bin_end": 84.3,
            "bin_start": 77,
            "count": 2
           },
           {
            "bin_end": 91.6,
            "bin_start": 84.3,
            "count": 0
           },
           {
            "bin_end": 98.9,
            "bin_start": 91.6,
            "count": 0
           },
           {
            "bin_end": 106.2,
            "bin_start": 98.9,
            "count": 1
           },
           {
            "bin_end": 113.5,
            "bin_start": 106.2,
            "count": 0
           },
           {
            "bin_end": 120.8,
            "bin_start": 113.5,
            "count": 0
           },
           {
            "bin_end": 128.1,
            "bin_start": 120.8,
            "count": 0
           },
           {
            "bin_end": 135.4,
            "bin_start": 128.1,
            "count": 0
           },
           {
            "bin_end": 142.7,
            "bin_start": 135.4,
            "count": 0
           },
           {
            "bin_end": 150,
            "bin_start": 142.7,
            "count": 2
           }
          ],
          "max": "150.0",
          "min": "77.0",
          "nan_count": 0,
          "unique_count": 5
         }
        },
        {
         "dtype": "float64",
         "name": "activityrecognition_0",
         "stats": {
          "histogram": [
           {
            "bin_end": 0.1,
            "bin_start": 0,
            "count": 0
           },
           {
            "bin_end": 0.2,
            "bin_start": 0.1,
            "count": 0
           },
           {
            "bin_end": 0.30000000000000004,
            "bin_start": 0.2,
            "count": 0
           },
           {
            "bin_end": 0.4,
            "bin_start": 0.30000000000000004,
            "count": 0
           },
           {
            "bin_end": 0.5,
            "bin_start": 0.4,
            "count": 0
           },
           {
            "bin_end": 0.6000000000000001,
            "bin_start": 0.5,
            "count": 0
           },
           {
            "bin_end": 0.7000000000000001,
            "bin_start": 0.6000000000000001,
            "count": 0
           },
           {
            "bin_end": 0.8,
            "bin_start": 0.7000000000000001,
            "count": 0
           },
           {
            "bin_end": 0.9,
            "bin_start": 0.8,
            "count": 0
           },
           {
            "bin_end": 1,
            "bin_start": 0.9,
            "count": 0
           }
          ],
          "max": null,
          "min": null,
          "nan_count": 5,
          "unique_count": 0
         }
        },
        {
         "dtype": "float64",
         "name": "activityrecognition_1",
         "stats": {
          "histogram": [
           {
            "bin_end": 79.3,
            "bin_start": 77,
            "count": 1
           },
           {
            "bin_end": 81.6,
            "bin_start": 79.3,
            "count": 0
           },
           {
            "bin_end": 83.9,
            "bin_start": 81.6,
            "count": 0
           },
           {
            "bin_end": 86.2,
            "bin_start": 83.9,
            "count": 0
           },
           {
            "bin_end": 88.5,
            "bin_start": 86.2,
            "count": 0
           },
           {
            "bin_end": 90.8,
            "bin_start": 88.5,
            "count": 0
           },
           {
            "bin_end": 93.1,
            "bin_start": 90.8,
            "count": 0
           },
           {
            "bin_end": 95.4,
            "bin_start": 93.1,
            "count": 0
           },
           {
            "bin_end": 97.7,
            "bin_start": 95.4,
            "count": 0
           },
           {
            "bin_end": 100,
            "bin_start": 97.7,
            "count": 4
           }
          ],
          "max": "100.0",
          "min": "77.0",
          "nan_count": 0,
          "unique_count": 2
         }
        },
        {
         "dtype": "float64",
         "name": "android_sensor_accelerometer_mean",
         "stats": {
          "histogram": [
           {
            "bin_end": 9.705081834106,
            "bin_start": 9.67303911332,
            "count": 1
           },
           {
            "bin_end": 9.737124554892,
            "bin_start": 9.705081834106,
            "count": 0
           },
           {
            "bin_end": 9.769167275677999,
            "bin_start": 9.737124554892,
            "count": 0
           },
           {
            "bin_end": 9.801209996464,
            "bin_start": 9.769167275677999,
            "count": 0
           },
           {
            "bin_end": 9.83325271725,
            "bin_start": 9.801209996464,
            "count": 2
           },
           {
            "bin_end": 9.865295438036,
            "bin_start": 9.83325271725,
            "count": 0
           },
           {
            "bin_end": 9.897338158822,
            "bin_start": 9.865295438036,
            "count": 0
           },
           {
            "bin_end": 9.929380879607999,
            "bin_start": 9.897338158822,
            "count": 0
           },
           {
            "bin_end": 9.961423600394,
            "bin_start": 9.929380879607999,
            "count": 1
           },
           {
            "bin_end": 9.99346632118,
            "bin_start": 9.961423600394,
            "count": 1
           }
          ],
          "max": "9.99346632118",
          "min": "9.67303911332",
          "nan_count": 0,
          "unique_count": 5
         }
        },
        {
         "dtype": "float64",
         "name": "android_sensor_accelerometer_min",
         "stats": {
          "histogram": [
           {
            "bin_end": 7.874188068491,
            "bin_start": 7.65967372861,
            "count": 2
           },
           {
            "bin_end": 8.088702408371999,
            "bin_start": 7.874188068491,
            "count": 0
           },
           {
            "bin_end": 8.303216748253,
            "bin_start": 8.088702408371999,
            "count": 0
           },
           {
            "bin_end": 8.517731088134,
            "bin_start": 8.303216748253,
            "count": 0
           },
           {
            "bin_end": 8.732245428015,
            "bin_start": 8.517731088134,
            "count": 0
           },
           {
            "bin_end": 8.946759767896,
            "bin_start": 8.732245428015,
            "count": 0
           },
           {
            "bin_end": 9.161274107777,
            "bin_start": 8.946759767896,
            "count": 1
           },
           {
            "bin_end": 9.375788447658,
            "bin_start": 9.161274107777,
            "count": 0
           },
           {
            "bin_end": 9.590302787539,
            "bin_start": 9.375788447658,
            "count": 0
           },
           {
            "bin_end": 9.80481712742,
            "bin_start": 9.590302787539,
            "count": 2
           }
          ],
          "max": "9.80481712742",
          "min": "7.65967372861",
          "nan_count": 0,
          "unique_count": 5
         }
        },
        {
         "dtype": "float64",
         "name": "android_sensor_accelerometer_max",
         "stats": {
          "histogram": [
           {
            "bin_end": 10.578999020486,
            "bin_start": 9.84926211274,
            "count": 2
           },
           {
            "bin_end": 11.308735928232,
            "bin_start": 10.578999020486,
            "count": 1
           },
           {
            "bin_end": 12.038472835978,
            "bin_start": 11.308735928232,
            "count": 0
           },
           {
            "bin_end": 12.768209743724,
            "bin_start": 12.038472835978,
            "count": 1
           },
           {
            "bin_end": 13.49794665147,
            "bin_start": 12.768209743724,
            "count": 0
           },
           {
            "bin_end": 14.227683559216,
            "bin_start": 13.49794665147,
            "count": 0
           },
           {
            "bin_end": 14.957420466962,
            "bin_start": 14.227683559216,
            "count": 0
           },
           {
            "bin_end": 15.687157374708,
            "bin_start": 14.957420466962,
            "count": 0
           },
           {
            "bin_end": 16.416894282454003,
            "bin_start": 15.687157374708,
            "count": 0
           },
           {
            "bin_end": 17.1466311902,
            "bin_start": 16.416894282454003,
            "count": 1
           }
          ],
          "max": "17.1466311902",
          "min": "9.84926211274",
          "nan_count": 0,
          "unique_count": 5
         }
        },
        {
         "dtype": "float64",
         "name": "android_sensor_accelerometer_std",
         "stats": {
          "histogram": [
           {
            "bin_end": 0.18767362506253,
            "bin_start": 0.0111991059917,
            "count": 2
           },
           {
            "bin_end": 0.36414814413336,
            "bin_start": 0.18767362506253,
            "count": 0
           },
           {
            "bin_end": 0.5406226632041901,
            "bin_start": 0.36414814413336,
            "count": 1
           },
           {
            "bin_end": 0.7170971822750201,
            "bin_start": 0.5406226632041901,
            "count": 0
           },
           {
            "bin_end": 0.8935717013458501,
            "bin_start": 0.7170971822750201,
            "count": 1
           },
           {
            "bin_end": 1.07004622041668,
            "bin_start": 0.8935717013458501,
            "count": 0
           },
           {
            "bin_end": 1.24652073948751,
            "bin_start": 1.07004622041668,
            "count": 0
           },
           {
            "bin_end": 1.42299525855834,
            "bin_start": 1.24652073948751,
            "count": 0
           },
           {
            "bin_end": 1.5994697776291702,
            "bin_start": 1.42299525855834,
            "count": 0
           },
           {
            "bin_end": 1.7759442967,
            "bin_start": 1.5994697776291702,
            "count": 1
           }
          ],
          "max": "1.7759442967",
          "min": "0.0111991059917",
          "nan_count": 0,
          "unique_count": 5
         }
        },
        {
         "dtype": "float64",
         "name": "android_sensor_game_rotation_vector_mean",
         "stats": {
          "histogram": [
           {
            "bin_end": 0.12639888370363,
            "bin_start": 0.0293404701347,
            "count": 1
           },
           {
            "bin_end": 0.22345729727256,
            "bin_start": 0.12639888370363,
            "count": 0
           },
           {
            "bin_end": 0.32051571084149,
            "bin_start": 0.22345729727256,
            "count": 0
           },
           {
            "bin_end": 0.41757412441041997,
            "bin_start": 0.32051571084149,
            "count": 0
           },
           {
            "bin_end": 0.5146325379793499,
            "bin_start": 0.41757412441041997,
            "count": 0
           },
           {
            "bin_end": 0.61169095154828,
            "bin_start": 0.5146325379793499,
            "count": 1
           },
           {
            "bin_end": 0.70874936511721,
            "bin_start": 0.61169095154828,
            "count": 1
           },
           {
            "bin_end": 0.80580777868614,
            "bin_start": 0.70874936511721,
            "count": 0
           },
           {
            "bin_end": 0.9028661922550699,
            "bin_start": 0.80580777868614,
            "count": 0
           },
           {
            "bin_end": 0.999924605824,
            "bin_start": 0.9028661922550699,
            "count": 2
           }
          ],
          "max": "0.999924605824",
          "min": "0.0293404701347",
          "nan_count": 0,
          "unique_count": 5
         }
        },
        {
         "dtype": "float64",
         "name": "android_sensor_game_rotation_vector_min",
         "stats": {
          "histogram": [
           {
            "bin_end": 0.12610309730098002,
            "bin_start": 0.0290141820322,
            "count": 1
           },
           {
            "bin_end": 0.22319201256976,
            "bin_start": 0.12610309730098002,
            "count": 0
           },
           {
            "bin_end": 0.32028092783854006,
            "bin_start": 0.22319201256976,
            "count": 0
           },
           {
            "bin_end": 0.41736984310732006,
            "bin_start": 0.32028092783854006,
            "count": 0
           },
           {
            "bin_end": 0.5144587583761,
            "bin_start": 0.41736984310732006,
            "count": 0
           },
           {
            "bin_end": 0.61154767364488,
            "bin_start": 0.5144587583761,
            "count": 1
           },
           {
            "bin_end": 0.70863658891366,
            "bin_start": 0.61154767364488,
            "count": 1
           },
           {
            "bin_end": 0.80572550418244,
            "bin_start": 0.70863658891366,
            "count": 0
           },
           {
            "bin_end": 0.9028144194512201,
            "bin_start": 0.80572550418244,
            "count": 0
           },
           {
            "bin_end": 0.99990333472,
            "bin_start": 0.9028144194512201,
            "count": 2
           }
          ],
          "max": "0.99990333472",
          "min": "0.0290141820322",
          "nan_count": 0,
          "unique_count": 5
         }
        },
        {
         "dtype": "float64",
         "name": "android_sensor_game_rotation_vector_max",
         "stats": {
          "histogram": [
           {
            "bin_end": 0.12656837218494,
            "bin_start": 0.0295264272136,
            "count": 1
           },
           {
            "bin_end": 0.22361031715628,
            "bin_start": 0.12656837218494,
            "count": 0
           },
           {
            "bin_end": 0.32065226212762,
            "bin_start": 0.22361031715628,
            "count": 0
           },
           {
            "bin_end": 0.41769420709896,
            "bin_start": 0.32065226212762,
            "count": 0
           },
           {
            "bin_end": 0.5147361520703,
            "bin_start": 0.41769420709896,
            "count": 0
           },
           {
            "bin_end": 0.61177809704164,
            "bin_start": 0.5147361520703,
            "count": 0
           },
           {
            "bin_end": 0.70882004201298,
            "bin_start": 0.61177809704164,
            "count": 2
           },
           {
            "bin_end": 0.80586198698432,
            "bin_start": 0.70882004201298,
            "count": 0
           },
           {
            "bin_end": 0.90290393195566,
            "bin_start": 0.80586198698432,
            "count": 0
           },
           {
            "bin_end": 0.999945876927,
            "bin_start": 0.90290393195566,
            "count": 2
           }
          ],
          "max": "0.999945876927",
          "min": "0.0295264272136",
          "nan_count": 0,
          "unique_count": 5
         }
        },
        {
         "dtype": "float64",
         "name": "android_sensor_game_rotation_vector_std",
         "stats": {
          "histogram": [
           {
            "bin_end": 0.006482784706869208,
            "bin_start": 3.96835608801e-06,
            "count": 4
           },
           {
            "bin_end": 0.012961601057650407,
            "bin_start": 0.006482784706869208,
            "count": 0
           },
           {
            "bin_end": 0.019440417408431606,
            "bin_start": 0.012961601057650407,
            "count": 0
           },
           {
            "bin_end": 0.025919233759212804,
            "bin_start": 0.019440417408431606,
            "count": 0
           },
           {
            "bin_end": 0.032398050109994005,
            "bin_start": 0.025919233759212804,
            "count": 0
           },
           {
            "bin_end": 0.038876866460775206,
            "bin_start": 0.032398050109994005,
            "count": 0
           },
           {
            "bin_end": 0.0453556828115564,
            "bin_start": 0.038876866460775206,
            "count": 0
           },
           {
            "bin_end": 0.0518344991623376,
            "bin_start": 0.0453556828115564,
            "count": 0
           },
           {
            "bin_end": 0.0583133155131188,
            "bin_start": 0.0518344991623376,
            "count": 0
           },
           {
            "bin_end": 0.0647921318639,
            "bin_start": 0.0583133155131188,
            "count": 1
           }
          ],
          "max": "0.0647921318639",
          "min": "3.96835608801e-06",
          "nan_count": 0,
          "unique_count": 5
         }
        },
        {
         "dtype": "float64",
         "name": "android_sensor_gravity_mean",
         "stats": {
          "histogram": [
           {
            "bin_end": 9.806626579363,
            "bin_start": 9.80662395218,
            "count": 1
           },
           {
            "bin_end": 9.806629206546,
            "bin_start": 9.806626579363,
            "count": 0
           },
           {
            "bin_end": 9.806631833729,
            "bin_start": 9.806629206546,
            "count": 0
           },
           {
            "bin_end": 9.806634460912,
            "bin_start": 9.806631833729,
            "count": 0
           },
           {
            "bin_end": 9.806637088095,
            "bin_start": 9.806634460912,
            "count": 0
           },
           {
            "bin_end": 9.806639715278,
            "bin_start": 9.806637088095,
            "count": 1
           },
           {
            "bin_end": 9.806642342461,
            "bin_start": 9.806639715278,
            "count": 0
           },
           {
            "bin_end": 9.806644969644,
            "bin_start": 9.806642342461,
            "count": 0
           },
           {
            "bin_end": 9.806647596827,
            "bin_start": 9.806644969644,
            "count": 0
           },
           {
            "bin_end": 9.80665022401,
            "bin_start": 9.806647596827,
            "count": 3
           }
          ],
          "max": "9.80665022401",
          "min": "9.80662395218",
          "nan_count": 0,
          "unique_count": 5
         }
        },
        {
         "dtype": "float64",
         "name": "android_sensor_gravity_min",
         "stats": {
          "histogram": [
           {
            "bin_end": 9.806626559411,
            "bin_start": 9.80662395218,
            "count": 1
           },
           {
            "bin_end": 9.806629166642,
            "bin_start": 9.806626559411,
            "count": 0
           },
           {
            "bin_end": 9.806631773873,
            "bin_start": 9.806629166642,
            "count": 0
           },
           {
            "bin_end": 9.806634381104,
            "bin_start": 9.806631773873,
            "count": 0
           },
           {
            "bin_end": 9.806636988335,
            "bin_start": 9.806634381104,
            "count": 0
           },
           {
            "bin_end": 9.806639595566,
            "bin_start": 9.806636988335,
            "count": 1
           },
           {
            "bin_end": 9.806642202797,
            "bin_start": 9.806639595566,
            "count": 0
           },
           {
            "bin_end": 9.806644810028,
            "bin_start": 9.806642202797,
            "count": 0
           },
           {
            "bin_end": 9.806647417259,
            "bin_start": 9.806644810028,
            "count": 0
           },
           {
            "bin_end": 9.80665002449,
            "bin_start": 9.806647417259,
            "count": 3
           }
          ],
          "max": "9.80665002449",
          "min": "9.80662395218",
          "nan_count": 0,
          "unique_count": 5
         }
        },
        {
         "dtype": "float64",
         "name": "android_sensor_gravity_max",
         "stats": {
          "histogram": [
           {
            "bin_end": 9.806626658234,
            "bin_start": 9.80662395218,
            "count": 1
           },
           {
            "bin_end": 9.806629364288,
            "bin_start": 9.806626658234,
            "count": 0
           },
           {
            "bin_end": 9.806632070342001,
            "bin_start": 9.806629364288,
            "count": 0
           },
           {
            "bin_end": 9.806634776396,
            "bin_start": 9.806632070342001,
            "count": 0
           },
           {
            "bin_end": 9.80663748245,
            "bin_start": 9.806634776396,
            "count": 0
           },
           {
            "bin_end": 9.806640188504,
            "bin_start": 9.80663748245,
            "count": 1
           },
           {
            "bin_end": 9.806642894558,
            "bin_start": 9.806640188504,
            "count": 0
           },
           {
            "bin_end": 9.806645600612,
            "bin_start": 9.806642894558,
            "count": 0
           },
           {
            "bin_end": 9.806648306666,
            "bin_start": 9.806645600612,
            "count": 0
           },
           {
            "bin_end": 9.80665101272,
            "bin_start": 9.806648306666,
            "count": 3
           }
          ],
          "max": "9.80665101272",
          "min": "9.80662395218",
          "nan_count": 0,
          "unique_count": 5
         }
        },
        {
         "dtype": "float64",
         "name": "android_sensor_gravity_std",
         "stats": {
          "histogram": [
           {
            "bin_end": 4.5005508409249997e-07,
            "bin_start": 2.64443011405e-07,
            "count": 2
           },
           {
            "bin_end": 6.3566715678e-07,
            "bin_start": 4.5005508409249997e-07,
            "count": 1
           },
           {
            "bin_end": 8.212792294674999e-07,
            "bin_start": 6.3566715678e-07,
            "count": 1
           },
           {
            "bin_end": 1.0068913021549999e-06,
            "bin_start": 8.212792294674999e-07,
            "count": 0
           },
           {
            "bin_end": 1.1925033748424998e-06,
            "bin_start": 1.0068913021549999e-06,
            "count": 0
           },
           {
            "bin_end": 1.37811544753e-06,
            "bin_start": 1.1925033748424998e-06,
            "count": 0
           },
           {
            "bin_end": 1.5637275202174999e-06,
            "bin_start": 1.37811544753e-06,
            "count": 0
           },
           {
            "bin_end": 1.7493395929049998e-06,
            "bin_start": 1.5637275202174999e-06,
            "count": 0
           },
           {
            "bin_end": 1.9349516655925e-06,
            "bin_start": 1.7493395929049998e-06,
            "count": 0
           },
           {
            "bin_end": 2.12056373828e-06,
            "bin_start": 1.9349516655925e-06,
            "count": 1
           }
          ],
          "max": "2.12056373828e-06",
          "min": "2.64443011405e-07",
          "nan_count": 0,
          "unique_count": 5
         }
        },
        {
         "dtype": "float64",
         "name": "android_sensor_gyroscope_mean",
         "stats": {
          "histogram": [
           {
            "bin_end": 0.019692364659799,
            "bin_start": 0.00152461653211,
            "count": 2
           },
           {
            "bin_end": 0.037860112787488,
            "bin_start": 0.019692364659799,
            "count": 2
           },
           {
            "bin_end": 0.056027860915177,
            "bin_start": 0.037860112787488,
            "count": 0
           },
           {
            "bin_end": 0.074195609042866,
            "bin_start": 0.056027860915177,
            "count": 0
           },
           {
            "bin_end": 0.092363357170555,
            "bin_start": 0.074195609042866,
            "count": 0
           },
           {
            "bin_end": 0.110531105298244,
            "bin_start": 0.092363357170555,
            "count": 0
           },
           {
            "bin_end": 0.12869885342593299,
            "bin_start": 0.110531105298244,
            "count": 0
           },
           {
            "bin_end": 0.146866601553622,
            "bin_start": 0.12869885342593299,
            "count": 0
           },
           {
            "bin_end": 0.165034349681311,
            "bin_start": 0.146866601553622,
            "count": 0
           },
           {
            "bin_end": 0.183202097809,
            "bin_start": 0.165034349681311,
            "count": 1
           }
          ],
          "max": "0.183202097809",
          "min": "0.00152461653211",
          "nan_count": 0,
          "unique_count": 5
         }
        },
        {
         "dtype": "float64",
         "name": "android_sensor_gyroscope_min",
         "stats": {
          "histogram": [
           {
            "bin_end": 0.00206668572373,
            "bin_start": 0,
            "count": 2
           },
           {
            "bin_end": 0.00413337144746,
            "bin_start": 0.00206668572373,
            "count": 0
           },
           {
            "bin_end": 0.00620005717119,
            "bin_start": 0.00413337144746,
            "count": 0
           },
           {
            "bin_end": 0.00826674289492,
            "bin_start": 0.00620005717119,
            "count": 0
           },
           {
            "bin_end": 0.01033342861865,
            "bin_start": 0.00826674289492,
            "count": 0
           },
           {
            "bin_end": 0.01240011434238,
            "bin_start": 0.01033342861865,
            "count": 1
           },
           {
            "bin_end": 0.01446680006611,
            "bin_start": 0.01240011434238,
            "count": 0
           },
           {
            "bin_end": 0.01653348578984,
            "bin_start": 0.01446680006611,
            "count": 0
           },
           {
            "bin_end": 0.018600171513569998,
            "bin_start": 0.01653348578984,
            "count": 0
           },
           {
            "bin_end": 0.0206668572373,
            "bin_start": 0.018600171513569998,
            "count": 2
           }
          ],
          "max": "0.0206668572373",
          "min": "0.0",
          "nan_count": 0,
          "unique_count": 4
         }
        },
        {
         "dtype": "float64",
         "name": "android_sensor_gyroscope_max",
         "stats": {
          "histogram": [
           {
            "bin_end": 0.04043592569269,
            "bin_start": 0.0026093544661,
            "count": 2
           },
           {
            "bin_end": 0.07826249691928,
            "bin_start": 0.04043592569269,
            "count": 2
           },
           {
            "bin_end": 0.11608906814587,
            "bin_start": 0.07826249691928,
            "count": 0
           },
           {
            "bin_end": 0.15391563937246,
            "bin_start": 0.11608906814587,
            "count": 0
           },
           {
            "bin_end": 0.19174221059905,
            "bin_start": 0.15391563937246,
            "count": 0
           },
           {
            "bin_end": 0.22956878182564,
            "bin_start": 0.19174221059905,
            "count": 0
           },
           {
            "bin_end": 0.26739535305223,
            "bin_start": 0.22956878182564,
            "count": 0
           },
           {
            "bin_end": 0.30522192427882,
            "bin_start": 0.26739535305223,
            "count": 0
           },
           {
            "bin_end": 0.34304849550541,
            "bin_start": 0.30522192427882,
            "count": 0
           },
           {
            "bin_end": 0.380875066732,
            "bin_start": 0.34304849550541,
            "count": 1
           }
          ],
          "max": "0.380875066732",
          "min": "0.0026093544661",
          "nan_count": 0,
          "unique_count": 5
         }
        },
        {
         "dtype": "float64",
         "name": "android_sensor_gyroscope_std",
         "stats": {
          "histogram": [
           {
            "bin_end": 0.0105233445143767,
            "bin_start": 0.000712700740663,
            "count": 2
           },
           {
            "bin_end": 0.0203339882880904,
            "bin_start": 0.0105233445143767,
            "count": 2
           },
           {
            "bin_end": 0.0301446320618041,
            "bin_start": 0.0203339882880904,
            "count": 0
           },
           {
            "bin_end": 0.0399552758355178,
            "bin_start": 0.0301446320618041,
            "count": 0
           },
           {
            "bin_end": 0.0497659196092315,
            "bin_start": 0.0399552758355178,
            "count": 0
           },
           {
            "bin_end": 0.0595765633829452,
            "bin_start": 0.0497659196092315,
            "count": 0
           },
           {
            "bin_end": 0.0693872071566589,
            "bin_start": 0.0595765633829452,
            "count": 0
           },
           {
            "bin_end": 0.0791978509303726,
            "bin_start": 0.0693872071566589,
            "count": 0
           },
           {
            "bin_end": 0.0890084947040863,
            "bin_start": 0.0791978509303726,
            "count": 0
           },
           {
            "bin_end": 0.0988191384778,
            "bin_start": 0.0890084947040863,
            "count": 1
           }
          ],
          "max": "0.0988191384778",
          "min": "0.000712700740663",
          "nan_count": 0,
          "unique_count": 5
         }
        },
        {
         "dtype": "float64",
         "name": "android_sensor_gyroscope_uncalibrated_mean",
         "stats": {
          "histogram": [
           {
            "bin_end": 0.04116444248034,
            "bin_start": 0.0162213599906,
            "count": 3
           },
           {
            "bin_end": 0.06610752497008,
            "bin_start": 0.04116444248034,
            "count": 1
           },
           {
            "bin_end": 0.09105060745982,
            "bin_start": 0.06610752497008,
            "count": 0
           },
           {
            "bin_end": 0.11599368994956,
            "bin_start": 0.09105060745982,
            "count": 0
           },
           {
            "bin_end": 0.1409367724393,
            "bin_start": 0.11599368994956,
            "count": 0
           },
           {
            "bin_end": 0.16587985492904,
            "bin_start": 0.1409367724393,
            "count": 0
           },
           {
            "bin_end": 0.19082293741878,
            "bin_start": 0.16587985492904,
            "count": 0
           },
           {
            "bin_end": 0.21576601990852,
            "bin_start": 0.19082293741878,
            "count": 0
           },
           {
            "bin_end": 0.24070910239826002,
            "bin_start": 0.21576601990852,
            "count": 0
           },
           {
            "bin_end": 0.265652184888,
            "bin_start": 0.24070910239826002,
            "count": 1
           }
          ],
          "max": "0.265652184888",
          "min": "0.0162213599906",
          "nan_count": 0,
          "unique_count": 5
         }
        },
        {
         "dtype": "float64",
         "name": "android_sensor_gyroscope_uncalibrated_min",
         "stats": {
          "histogram": [
           {
            "bin_end": 0.02683994701523,
            "bin_start": 0.0141323301437,
            "count": 4
           },
           {
            "bin_end": 0.03954756388676,
            "bin_start": 0.02683994701523,
            "count": 0
           },
           {
            "bin_end": 0.052255180758290005,
            "bin_start": 0.03954756388676,
            "count": 0
           },
           {
            "bin_end": 0.06496279762982,
            "bin_start": 0.052255180758290005,
            "count": 0
           },
           {
            "bin_end": 0.07767041450135,
            "bin_start": 0.06496279762982,
            "count": 0
           },
           {
            "bin_end": 0.09037803137288,
            "bin_start": 0.07767041450135,
            "count": 0
           },
           {
            "bin_end": 0.10308564824441,
            "bin_start": 0.09037803137288,
            "count": 0
           },
           {
            "bin_end": 0.11579326511594,
            "bin_start": 0.10308564824441,
            "count": 0
           },
           {
            "bin_end": 0.12850088198747,
            "bin_start": 0.11579326511594,
            "count": 0
           },
           {
            "bin_end": 0.141208498859,
            "bin_start": 0.12850088198747,
            "count": 1
           }
          ],
          "max": "0.141208498859",
          "min": "0.0141323301437",
          "nan_count": 0,
          "unique_count": 5
         }
        },
        {
         "dtype": "float64",
         "name": "android_sensor_gyroscope_uncalibrated_max",
         "stats": {
          "histogram": [
           {
            "bin_end": 0.046938517179040004,
            "bin_start": 0.0173739375996,
            "count": 2
           },
           {
            "bin_end": 0.07650309675848001,
            "bin_start": 0.046938517179040004,
            "count": 0
           },
           {
            "bin_end": 0.10606767633792001,
            "bin_start": 0.07650309675848001,
            "count": 2
           },
           {
            "bin_end": 0.13563225591736,
            "bin_start": 0.10606767633792001,
            "count": 0
           },
           {
            "bin_end": 0.16519683549680003,
            "bin_start": 0.13563225591736,
            "count": 0
           },
           {
            "bin_end": 0.19476141507624,
            "bin_start": 0.16519683549680003,
            "count": 0
           },
           {
            "bin_end": 0.22432599465568004,
            "bin_start": 0.19476141507624,
            "count": 0
           },
           {
            "bin_end": 0.25389057423512,
            "bin_start": 0.22432599465568004,
            "count": 0
           },
           {
            "bin_end": 0.28345515381456005,
            "bin_start": 0.25389057423512,
            "count": 0
           },
           {
            "bin_end": 0.313019733394,
            "bin_start": 0.28345515381456005,
            "count": 1
           }
          ],
          "max": "0.313019733394",
          "min": "0.0173739375996",
          "nan_count": 0,
          "unique_count": 5
         }
        },
        {
         "dtype": "float64",
         "name": "android_sensor_gyroscope_uncalibrated_std",
         "stats": {
          "histogram": [
           {
            "bin_end": 0.009105839884134501,
            "bin_start": 0.000875953734805,
            "count": 2
           },
           {
            "bin_end": 0.017335726033464,
            "bin_start": 0.009105839884134501,
            "count": 0
           },
           {
            "bin_end": 0.025565612182793504,
            "bin_start": 0.017335726033464,
            "count": 2
           },
           {
            "bin_end": 0.033795498332123,
            "bin_start": 0.025565612182793504,
            "count": 0
           },
           {
            "bin_end": 0.0420253844814525,
            "bin_start": 0.033795498332123,
            "count": 0
           },
           {
            "bin_end": 0.05025527063078201,
            "bin_start": 0.0420253844814525,
            "count": 0
           },
           {
            "bin_end": 0.05848515678011151,
            "bin_start": 0.05025527063078201,
            "count": 0
           },
           {
            "bin_end": 0.066715042929441,
            "bin_start": 0.05848515678011151,
            "count": 0
           },
           {
            "bin_end": 0.0749449290787705,
            "bin_start": 0.066715042929441,
            "count": 0
           },
           {
            "bin_end": 0.0831748152281,
            "bin_start": 0.0749449290787705,
            "count": 1
           }
          ],
          "max": "0.0831748152281",
          "min": "0.000875953734805",
          "nan_count": 0,
          "unique_count": 5
         }
        },
        {
         "dtype": "float64",
         "name": "android_sensor_light_mean",
         "stats": {
          "histogram": [
           {
            "bin_end": 3,
            "bin_start": 0,
            "count": 4
           },
           {
            "bin_end": 6,
            "bin_start": 3,
            "count": 0
           },
           {
            "bin_end": 9,
            "bin_start": 6,
            "count": 0
           },
           {
            "bin_end": 12,
            "bin_start": 9,
            "count": 0
           },
           {
            "bin_end": 15,
            "bin_start": 12,
            "count": 0
           },
           {
            "bin_end": 18,
            "bin_start": 15,
            "count": 0
           },
           {
            "bin_end": 21,
            "bin_start": 18,
            "count": 0
           },
           {
            "bin_end": 24,
            "bin_start": 21,
            "count": 0
           },
           {
            "bin_end": 27,
            "bin_start": 24,
            "count": 0
           },
           {
            "bin_end": 30,
            "bin_start": 27,
            "count": 1
           }
          ],
          "max": "30.0",
          "min": "0.0",
          "nan_count": 0,
          "unique_count": 3
         }
        },
        {
         "dtype": "float64",
         "name": "android_sensor_light_min",
         "stats": {
          "histogram": [
           {
            "bin_end": 3,
            "bin_start": 0,
            "count": 4
           },
           {
            "bin_end": 6,
            "bin_start": 3,
            "count": 0
           },
           {
            "bin_end": 9,
            "bin_start": 6,
            "count": 0
           },
           {
            "bin_end": 12,
            "bin_start": 9,
            "count": 0
           },
           {
            "bin_end": 15,
            "bin_start": 12,
            "count": 0
           },
           {
            "bin_end": 18,
            "bin_start": 15,
            "count": 0
           },
           {
            "bin_end": 21,
            "bin_start": 18,
            "count": 0
           },
           {
            "bin_end": 24,
            "bin_start": 21,
            "count": 0
           },
           {
            "bin_end": 27,
            "bin_start": 24,
            "count": 0
           },
           {
            "bin_end": 30,
            "bin_start": 27,
            "count": 1
           }
          ],
          "max": "30.0",
          "min": "0.0",
          "nan_count": 0,
          "unique_count": 3
         }
        },
        {
         "dtype": "float64",
         "name": "android_sensor_light_max",
         "stats": {
          "histogram": [
           {
            "bin_end": 3,
            "bin_start": 0,
            "count": 4
           },
           {
            "bin_end": 6,
            "bin_start": 3,
            "count": 0
           },
           {
            "bin_end": 9,
            "bin_start": 6,
            "count": 0
           },
           {
            "bin_end": 12,
            "bin_start": 9,
            "count": 0
           },
           {
            "bin_end": 15,
            "bin_start": 12,
            "count": 0
           },
           {
            "bin_end": 18,
            "bin_start": 15,
            "count": 0
           },
           {
            "bin_end": 21,
            "bin_start": 18,
            "count": 0
           },
           {
            "bin_end": 24,
            "bin_start": 21,
            "count": 0
           },
           {
            "bin_end": 27,
            "bin_start": 24,
            "count": 0
           },
           {
            "bin_end": 30,
            "bin_start": 27,
            "count": 1
           }
          ],
          "max": "30.0",
          "min": "0.0",
          "nan_count": 0,
          "unique_count": 3
         }
        },
        {
         "dtype": "float64",
         "name": "android_sensor_light_std",
         "stats": {
          "histogram": [
           {
            "bin_end": 3.95979797464,
            "bin_start": 0,
            "count": 2
           },
           {
            "bin_end": 7.91959594928,
            "bin_start": 3.95979797464,
            "count": 0
           },
           {
            "bin_end": 11.879393923919999,
            "bin_start": 7.91959594928,
            "count": 0
           },
           {
            "bin_end": 15.83919189856,
            "bin_start": 11.879393923919999,
            "count": 0
           },
           {
            "bin_end": 19.7989898732,
            "bin_start": 15.83919189856,
            "count": 0
           },
           {
            "bin_end": 23.758787847839997,
            "bin_start": 19.7989898732,
            "count": 0
           },
           {
            "bin_end": 27.718585822479998,
            "bin_start": 23.758787847839997,
            "count": 0
           },
           {
            "bin_end": 31.67838379712,
            "bin_start": 27.718585822479998,
            "count": 0
           },
           {
            "bin_end": 35.638181771759996,
            "bin_start": 31.67838379712,
            "count": 0
           },
           {
            "bin_end": 39.5979797464,
            "bin_start": 35.638181771759996,
            "count": 1
           }
          ],
          "max": "39.5979797464",
          "min": "0.0",
          "nan_count": 2,
          "unique_count": 3
         }
        },
        {
         "dtype": "float64",
         "name": "android_sensor_linear_acceleration_mean",
         "stats": {
          "histogram": [
           {
            "bin_end": 0.18471080473561002,
            "bin_start": 0.0209778383629,
            "count": 2
           },
           {
            "bin_end": 0.34844377110832003,
            "bin_start": 0.18471080473561002,
            "count": 0
           },
           {
            "bin_end": 0.51217673748103,
            "bin_start": 0.34844377110832003,
            "count": 0
           },
           {
            "bin_end": 0.67590970385374,
            "bin_start": 0.51217673748103,
            "count": 0
           },
           {
            "bin_end": 0.8396426702264501,
            "bin_start": 0.67590970385374,
            "count": 0
           },
           {
            "bin_end": 1.00337563659916,
            "bin_start": 0.8396426702264501,
            "count": 1
           },
           {
            "bin_end": 1.16710860297187,
            "bin_start": 1.00337563659916,
            "count": 0
           },
           {
            "bin_end": 1.33084156934458,
            "bin_start": 1.16710860297187,
            "count": 0
           },
           {
            "bin_end": 1.4945745357172902,
            "bin_start": 1.33084156934458,
            "count": 1
           },
           {
            "bin_end": 1.65830750209,
            "bin_start": 1.4945745357172902,
            "count": 1
           }
          ],
          "max": "1.65830750209",
          "min": "0.0209778383629",
          "nan_count": 0,
          "unique_count": 5
         }
        },
        {
         "dtype": "float64",
         "name": "android_sensor_linear_acceleration_min",
         "stats": {
          "histogram": [
           {
            "bin_end": 0.06635752499738101,
            "bin_start": 0.00249536633909,
            "count": 2
           },
           {
            "bin_end": 0.13021968365567202,
            "bin_start": 0.06635752499738101,
            "count": 0
           },
           {
            "bin_end": 0.19408184231396303,
            "bin_start": 0.13021968365567202,
            "count": 0
           },
           {
            "bin_end": 0.257944000972254,
            "bin_start": 0.19408184231396303,
            "count": 0
           },
           {
            "bin_end": 0.32180615963054504,
            "bin_start": 0.257944000972254,
            "count": 0
           },
           {
            "bin_end": 0.385668318288836,
            "bin_start": 0.32180615963054504,
            "count": 1
           },
           {
            "bin_end": 0.449530476947127,
            "bin_start": 0.385668318288836,
            "count": 0
           },
           {
            "bin_end": 0.513392635605418,
            "bin_start": 0.449530476947127,
            "count": 0
           },
           {
            "bin_end": 0.5772547942637091,
            "bin_start": 0.513392635605418,
            "count": 1
           },
           {
            "bin_end": 0.641116952922,
            "bin_start": 0.5772547942637091,
            "count": 1
           }
          ],
          "max": "0.641116952922",
          "min": "0.00249536633909",
          "nan_count": 0,
          "unique_count": 5
         }
        },
        {
         "dtype": "float64",
         "name": "android_sensor_linear_acceleration_max",
         "stats": {
          "histogram": [
           {
            "bin_end": 0.31785972514428,
            "bin_start": 0.0425113257492,
            "count": 2
           },
           {
            "bin_end": 0.59320812453936,
            "bin_start": 0.31785972514428,
            "count": 0
           },
           {
            "bin_end": 0.8685565239344399,
            "bin_start": 0.59320812453936,
            "count": 0
           },
           {
            "bin_end": 1.14390492332952,
            "bin_start": 0.8685565239344399,
            "count": 0
           },
           {
            "bin_end": 1.4192533227246,
            "bin_start": 1.14390492332952,
            "count": 1
           },
           {
            "bin_end": 1.6946017221196799,
            "bin_start": 1.4192533227246,
            "count": 0
           },
           {
            "bin_end": 1.96995012151476,
            "bin_start": 1.6946017221196799,
            "count": 0
           },
           {
            "bin_end": 2.2452985209098397,
            "bin_start": 1.96995012151476,
            "count": 0
           },
           {
            "bin_end": 2.5206469203049195,
            "bin_start": 2.2452985209098397,
            "count": 1
           },
           {
            "bin_end": 2.7959953197,
            "bin_start": 2.5206469203049195,
            "count": 1
           }
          ],
          "max": "2.7959953197",
          "min": "0.0425113257492",
          "nan_count": 0,
          "unique_count": 5
         }
        },
        {
         "dtype": "float64",
         "name": "android_sensor_linear_acceleration_std",
         "stats": {
          "histogram": [
           {
            "bin_end": 0.12216276452421998,
            "bin_start": 0.0110446872158,
            "count": 2
           },
           {
            "bin_end": 0.23328084183263997,
            "bin_start": 0.12216276452421998,
            "count": 0
           },
           {
            "bin_end": 0.3443989191410599,
            "bin_start": 0.23328084183263997,
            "count": 1
           },
           {
            "bin_end": 0.4555169964494799,
            "bin_start": 0.3443989191410599,
            "count": 0
           },
           {
            "bin_end": 0.5666350737578999,
            "bin_start": 0.4555169964494799,
            "count": 0
           },
           {
            "bin_end": 0.6777531510663198,
            "bin_start": 0.5666350737578999,
            "count": 0
           },
           {
            "bin_end": 0.7888712283747399,
            "bin_start": 0.6777531510663198,
            "count": 0
           },
           {
            "bin_end": 0.8999893056831598,
            "bin_start": 0.7888712283747399,
            "count": 0
           },
           {
            "bin_end": 1.01110738299158,
            "bin_start": 0.8999893056831598,
            "count": 1
           },
           {
            "bin_end": 1.1222254603,
            "bin_start": 1.01110738299158,
            "count": 1
           }
          ],
          "max": "1.1222254603",
          "min": "0.0110446872158",
          "nan_count": 0,
          "unique_count": 5
         }
        },
        {
         "dtype": "float64",
         "name": "android_sensor_magnetic_field_mean",
         "stats": {
          "histogram": [
           {
            "bin_end": 34.25373062397,
            "bin_start": 29.3512875433,
            "count": 2
           },
           {
            "bin_end": 39.15617370464,
            "bin_start": 34.25373062397,
            "count": 1
           },
           {
            "bin_end": 44.058616785309994,
            "bin_start": 39.15617370464,
            "count": 0
           },
           {
            "bin_end": 48.96105986598,
            "bin_start": 44.058616785309994,
            "count": 0
           },
           {
            "bin_end": 53.86350294665,
            "bin_start": 48.96105986598,
            "count": 0
           },
           {
            "bin_end": 58.76594602732,
            "bin_start": 53.86350294665,
            "count": 1
           },
           {
            "bin_end": 63.668389107989995,
            "bin_start": 58.76594602732,
            "count": 0
           },
           {
            "bin_end": 68.57083218865999,
            "bin_start": 63.668389107989995,
            "count": 0
           },
           {
            "bin_end": 73.47327526932999,
            "bin_start": 68.57083218865999,
            "count": 0
           },
           {
            "bin_end": 78.37571835,
            "bin_start": 73.47327526932999,
            "count": 1
           }
          ],
          "max": "78.37571835",
          "min": "29.3512875433",
          "nan_count": 0,
          "unique_count": 5
         }
        },
        {
         "dtype": "float64",
         "name": "android_sensor_magnetic_field_min",
         "stats": {
          "histogram": [
           {
            "bin_end": 33.00958071458,
            "bin_start": 28.1725051708,
            "count": 2
           },
           {
            "bin_end": 37.84665625836,
            "bin_start": 33.00958071458,
            "count": 1
           },
           {
            "bin_end": 42.68373180214,
            "bin_start": 37.84665625836,
            "count": 0
           },
           {
            "bin_end": 47.52080734592,
            "bin_start": 42.68373180214,
            "count": 0
           },
           {
            "bin_end": 52.357882889699994,
            "bin_start": 47.52080734592,
            "count": 0
           },
           {
            "bin_end": 57.19495843348,
            "bin_start": 52.357882889699994,
            "count": 1
           },
           {
            "bin_end": 62.03203397725999,
            "bin_start": 57.19495843348,
            "count": 0
           },
           {
            "bin_end": 66.86910952104,
            "bin_start": 62.03203397725999,
            "count": 0
           },
           {
            "bin_end": 71.70618506482,
            "bin_start": 66.86910952104,
            "count": 0
           },
           {
            "bin_end": 76.5432606086,
            "bin_start": 71.70618506482,
            "count": 1
           }
          ],
          "max": "76.5432606086",
          "min": "28.1725051708",
          "nan_count": 0,
          "unique_count": 5
         }
        },
        {
         "dtype": "float64",
         "name": "android_sensor_magnetic_field_max",
         "stats": {
          "histogram": [
           {
            "bin_end": 34.96185192977,
            "bin_start": 30.0383088738,
            "count": 2
           },
           {
            "bin_end": 39.88539498574,
            "bin_start": 34.96185192977,
            "count": 1
           },
           {
            "bin_end": 44.80893804170999,
            "bin_start": 39.88539498574,
            "count": 0
           },
           {
            "bin_end": 49.732481097679994,
            "bin_start": 44.80893804170999,
            "count": 0
           },
           {
            "bin_end": 54.656024153649994,
            "bin_start": 49.732481097679994,
            "count": 0
           },
           {
            "bin_end": 59.579567209619995,
            "bin_start": 54.656024153649994,
            "count": 1
           },
           {
            "bin_end": 64.50311026559,
            "bin_start": 59.579567209619995,
            "count": 0
           },
           {
            "bin_end": 69.42665332156,
            "bin_start": 64.50311026559,
            "count": 0
           },
           {
            "bin_end": 74.35019637753,
            "bin_start": 69.42665332156,
            "count": 0
           },
           {
            "bin_end": 79.2737394335,
            "bin_start": 74.35019637753,
            "count": 1
           }
          ],
          "max": "79.2737394335",
          "min": "30.0383088738",
          "nan_count": 0,
          "unique_count": 5
         }
        },
        {
         "dtype": "float64",
         "name": "android_sensor_magnetic_field_std",
         "stats": {
          "histogram": [
           {
            "bin_end": 0.2282022839501,
            "bin_start": 0.130851298779,
            "count": 2
           },
           {
            "bin_end": 0.3255532691212,
            "bin_start": 0.2282022839501,
            "count": 0
           },
           {
            "bin_end": 0.42290425429230005,
            "bin_start": 0.3255532691212,
            "count": 0
           },
           {
            "bin_end": 0.5202552394634,
            "bin_start": 0.42290425429230005,
            "count": 1
           },
           {
            "bin_end": 0.6176062246345,
            "bin_start": 0.5202552394634,
            "count": 0
           },
           {
            "bin_end": 0.7149572098056001,
            "bin_start": 0.6176062246345,
            "count": 0
           },
           {
            "bin_end": 0.8123081949767,
            "bin_start": 0.7149572098056001,
            "count": 0
           },
           {
            "bin_end": 0.9096591801478,
            "bin_start": 0.8123081949767,
            "count": 0
           },
           {
            "bin_end": 1.0070101653188999,
            "bin_start": 0.9096591801478,
            "count": 1
           },
           {
            "bin_end": 1.10436115049,
            "bin_start": 1.0070101653188999,
            "count": 1
           }
          ],
          "max": "1.10436115049",
          "min": "0.130851298779",
          "nan_count": 0,
          "unique_count": 5
         }
        },
        {
         "dtype": "float64",
         "name": "android_sensor_magnetic_field_uncalibrated_mean",
         "stats": {
          "histogram": [
           {
            "bin_end": 61.97013106416,
            "bin_start": 51.3635659024,
            "count": 2
           },
           {
            "bin_end": 72.57669622592,
            "bin_start": 61.97013106416,
            "count": 0
           },
           {
            "bin_end": 83.18326138768,
            "bin_start": 72.57669622592,
            "count": 1
           },
           {
            "bin_end": 93.78982654944,
            "bin_start": 83.18326138768,
            "count": 0
           },
           {
            "bin_end": 104.39639171120001,
            "bin_start": 93.78982654944,
            "count": 1
           },
           {
            "bin_end": 115.00295687296,
            "bin_start": 104.39639171120001,
            "count": 0
           },
           {
            "bin_end": 125.60952203472,
            "bin_start": 115.00295687296,
            "count": 0
           },
           {
            "bin_end": 136.21608719648,
            "bin_start": 125.60952203472,
            "count": 0
           },
           {
            "bin_end": 146.82265235824002,
            "bin_start": 136.21608719648,
            "count": 0
           },
           {
            "bin_end": 157.42921752,
            "bin_start": 146.82265235824002,
            "count": 1
           }
          ],
          "max": "157.42921752",
          "min": "51.3635659024",
          "nan_count": 0,
          "unique_count": 5
         }
        },
        {
         "dtype": "float64",
         "name": "android_sensor_magnetic_field_uncalibrated_min",
         "stats": {
          "histogram": [
           {
            "bin_end": 61.75932743579,
            "bin_start": 51.1997072531,
            "count": 2
           },
           {
            "bin_end": 72.31894761848,
            "bin_start": 61.75932743579,
            "count": 0
           },
           {
            "bin_end": 82.87856780117,
            "bin_start": 72.31894761848,
            "count": 1
           },
           {
            "bin_end": 93.43818798386,
            "bin_start": 82.87856780117,
            "count": 0
           },
           {
            "bin_end": 103.99780816655,
            "bin_start": 93.43818798386,
            "count": 1
           },
           {
            "bin_end": 114.55742834924001,
            "bin_start": 103.99780816655,
            "count": 0
           },
           {
            "bin_end": 125.11704853193001,
            "bin_start": 114.55742834924001,
            "count": 0
           },
           {
            "bin_end": 135.67666871462,
            "bin_start": 125.11704853193001,
            "count": 0
           },
           {
            "bin_end": 146.23628889731,
            "bin_start": 135.67666871462,
            "count": 0
           },
           {
            "bin_end": 156.79590908,
            "bin_start": 146.23628889731,
            "count": 1
           }
          ],
          "max": "156.79590908",
          "min": "51.1997072531",
          "nan_count": 0,
          "unique_count": 5
         }
        },
        {
         "dtype": "float64",
         "name": "android_sensor_magnetic_field_uncalibrated_max",
         "stats": {
          "histogram": [
           {
            "bin_end": 62.19154013647,
            "bin_start": 51.5392083783,
            "count": 2
           },
           {
            "bin_end": 72.84387189464,
            "bin_start": 62.19154013647,
            "count": 0
           },
           {
            "bin_end": 83.49620365281,
            "bin_start": 72.84387189464,
            "count": 1
           },
           {
            "bin_end": 94.14853541098,
            "bin_start": 83.49620365281,
            "count": 0
           },
           {
            "bin_end": 104.80086716915,
            "bin_start": 94.14853541098,
            "count": 1
           },
           {
            "bin_end": 115.45319892731999,
            "bin_start": 104.80086716915,
            "count": 0
           },
           {
            "bin_end": 126.10553068549,
            "bin_start": 115.45319892731999,
            "count": 0
           },
           {
            "bin_end": 136.75786244365997,
            "bin_start": 126.10553068549,
            "count": 0
           },
           {
            "bin_end": 147.41019420183,
            "bin_start": 136.75786244365997,
            "count": 0
           },
           {
            "bin_end": 158.06252596,
            "bin_start": 147.41019420183,
            "count": 1
           }
          ],
          "max": "158.06252596",
          "min": "51.5392083783",
          "nan_count": 0,
          "unique_count": 5
         }
        },
        {
         "dtype": "float64",
         "name": "android_sensor_magnetic_field_uncalibrated_std",
         "stats": {
          "histogram": [
           {
            "bin_end": 0.16237267158330002,
            "bin_start": 0.08089925898,
            "count": 3
           },
           {
            "bin_end": 0.24384608418660003,
            "bin_start": 0.16237267158330002,
            "count": 0
           },
           {
            "bin_end": 0.3253194967899,
            "bin_start": 0.24384608418660003,
            "count": 0
           },
           {
            "bin_end": 0.40679290939320006,
            "bin_start": 0.3253194967899,
            "count": 0
           },
           {
            "bin_end": 0.48826632199650005,
            "bin_start": 0.40679290939320006,
            "count": 0
           },
           {
            "bin_end": 0.5697397345998001,
            "bin_start": 0.48826632199650005,
            "count": 1
           },
           {
            "bin_end": 0.6512131472031002,
            "bin_start": 0.5697397345998001,
            "count": 0
           },
           {
            "bin_end": 0.7326865598064001,
            "bin_start": 0.6512131472031002,
            "count": 0
           },
           {
            "bin_end": 0.8141599724097002,
            "bin_start": 0.7326865598064001,
            "count": 0
           },
           {
            "bin_end": 0.895633385013,
            "bin_start": 0.8141599724097002,
            "count": 1
           }
          ],
          "max": "0.895633385013",
          "min": "0.08089925898",
          "nan_count": 0,
          "unique_count": 5
         }
        },
        {
         "dtype": "float64",
         "name": "android_sensor_orientation_mean",
         "stats": {
          "histogram": [
           {
            "bin_end": 104.63299177176,
            "bin_start": 74.7526531434,
            "count": 1
           },
           {
            "bin_end": 134.51333040012,
            "bin_start": 104.63299177176,
            "count": 0
           },
           {
            "bin_end": 164.39366902848002,
            "bin_start": 134.51333040012,
            "count": 0
           },
           {
            "bin_end": 194.27400765684,
            "bin_start": 164.39366902848002,
            "count": 1
           },
           {
            "bin_end": 224.1543462852,
            "bin_start": 194.27400765684,
            "count": 0
           },
           {
            "bin_end": 254.03468491356,
            "bin_start": 224.1543462852,
            "count": 0
           },
           {
            "bin_end": 283.91502354192,
            "bin_start": 254.03468491356,
            "count": 0
           },
           {
            "bin_end": 313.79536217028,
            "bin_start": 283.91502354192,
            "count": 0
           },
           {
            "bin_end": 343.67570079864,
            "bin_start": 313.79536217028,
            "count": 1
           },
           {
            "bin_end": 373.556039427,
            "bin_start": 343.67570079864,
            "count": 2
           }
          ],
          "max": "373.556039427",
          "min": "74.7526531434",
          "nan_count": 0,
          "unique_count": 5
         }
        },
        {
         "dtype": "float64",
         "name": "android_sensor_orientation_min",
         "stats": {
          "histogram": [
           {
            "bin_end": 68.26819940760001,
            "bin_start": 35.864971592,
            "count": 1
           },
           {
            "bin_end": 100.6714272232,
            "bin_start": 68.26819940760001,
            "count": 1
           },
           {
            "bin_end": 133.07465503880002,
            "bin_start": 100.6714272232,
            "count": 0
           },
           {
            "bin_end": 165.47788285439998,
            "bin_start": 133.07465503880002,
            "count": 0
           },
           {
            "bin_end": 197.88111067,
            "bin_start": 165.47788285439998,
            "count": 0
           },
           {
            "bin_end": 230.28433848560002,
            "bin_start": 197.88111067,
            "count": 0
           },
           {
            "bin_end": 262.6875663012,
            "bin_start": 230.28433848560002,
            "count": 0
           },
           {
            "bin_end": 295.0907941168,
            "bin_start": 262.6875663012,
            "count": 0
           },
           {
            "bin_end": 327.4940219324,
            "bin_start": 295.0907941168,
            "count": 0
           },
           {
            "bin_end": 359.897249748,
            "bin_start": 327.4940219324,
            "count": 3
           }
          ],
          "max": "359.897249748",
          "min": "35.864971592",
          "nan_count": 0,
          "unique_count": 5
         }
        },
        {
         "dtype": "float64",
         "name": "android_sensor_orientation_max",
         "stats": {
          "histogram": [
           {
            "bin_end": 107.44889099004999,
            "bin_start": 75.2685742895,
            "count": 1
           },
           {
            "bin_end": 139.62920769059997,
            "bin_start": 107.44889099004999,
            "count": 0
           },
           {
            "bin_end": 171.80952439114998,
            "bin_start": 139.62920769059997,
            "count": 0
           },
           {
            "bin_end": 203.9898410917,
            "bin_start": 171.80952439114998,
            "count": 0
           },
           {
            "bin_end": 236.17015779225,
            "bin_start": 203.9898410917,
            "count": 0
           },
           {
            "bin_end": 268.35047449279995,
            "bin_start": 236.17015779225,
            "count": 0
           },
           {
            "bin_end": 300.53079119334996,
            "bin_start": 268.35047449279995,
            "count": 0
           },
           {
            "bin_end": 332.71110789389996,
            "bin_start": 300.53079119334996,
            "count": 0
           },
           {
            "bin_end": 364.89142459445,
            "bin_start": 332.71110789389996,
            "count": 3
           },
           {
            "bin_end": 397.071741295,
            "bin_start": 364.89142459445,
            "count": 1
           }
          ],
          "max": "397.071741295",
          "min": "75.2685742895",
          "nan_count": 0,
          "unique_count": 5
         }
        },
        {
         "dtype": "float64",
         "name": "android_sensor_orientation_std",
         "stats": {
          "histogram": [
           {
            "bin_end": 18.39405416573,
            "bin_start": 0.2456763287,
            "count": 4
           },
           {
            "bin_end": 36.54243200276,
            "bin_start": 18.39405416573,
            "count": 0
           },
           {
            "bin_end": 54.690809839790006,
            "bin_start": 36.54243200276,
            "count": 0
           },
           {
            "bin_end": 72.83918767682,
            "bin_start": 54.690809839790006,
            "count": 0
           },
           {
            "bin_end": 90.98756551385,
            "bin_start": 72.83918767682,
            "count": 0
           },
           {
            "bin_end": 109.13594335088001,
            "bin_start": 90.98756551385,
            "count": 0
           },
           {
            "bin_end": 127.28432118791001,
            "bin_start": 109.13594335088001,
            "count": 0
           },
           {
            "bin_end": 145.43269902494,
            "bin_start": 127.28432118791001,
            "count": 0
           },
           {
            "bin_end": 163.58107686197002,
            "bin_start": 145.43269902494,
            "count": 0
           },
           {
            "bin_end": 181.729454699,
            "bin_start": 163.58107686197002,
            "count": 1
           }
          ],
          "max": "181.729454699",
          "min": "0.2456763287",
          "nan_count": 0,
          "unique_count": 5
         }
        },
        {
         "dtype": "float64",
         "name": "android_sensor_pressure_mean",
         "stats": {
          "histogram": [
           {
            "bin_end": 1004.508700666,
            "bin_start": 1004.09026074,
            "count": 1
           },
           {
            "bin_end": 1004.927140592,
            "bin_start": 1004.508700666,
            "count": 0
           },
           {
            "bin_end": 1005.345580518,
            "bin_start": 1004.927140592,
            "count": 0
           },
           {
            "bin_end": 1005.764020444,
            "bin_start": 1005.345580518,
            "count": 0
           },
           {
            "bin_end": 1006.18246037,
            "bin_start": 1005.764020444,
            "count": 1
           },
           {
            "bin_end": 1006.600900296,
            "bin_start": 1006.18246037,
            "count": 0
           },
           {
            "bin_end": 1007.019340222,
            "bin_start": 1006.600900296,
            "count": 1
           },
           {
            "bin_end": 1007.437780148,
            "bin_start": 1007.019340222,
            "count": 0
           },
           {
            "bin_end": 1007.856220074,
            "bin_start": 1007.437780148,
            "count": 0
           },
           {
            "bin_end": 1008.27466,
            "bin_start": 1007.856220074,
            "count": 1
           }
          ],
          "max": "1008.27466",
          "min": "1004.09026074",
          "nan_count": 1,
          "unique_count": 4
         }
        },
        {
         "dtype": "float64",
         "name": "android_sensor_pressure_min",
         "stats": {
          "histogram": [
           {
            "bin_end": 1004.477326,
            "bin_start": 1004.0554,
            "count": 1
           },
           {
            "bin_end": 1004.8992519999999,
            "bin_start": 1004.477326,
            "count": 0
           },
           {
            "bin_end": 1005.321178,
            "bin_start": 1004.8992519999999,
            "count": 0
           },
           {
            "bin_end": 1005.743104,
            "bin_start": 1005.321178,
            "count": 0
           },
           {
            "bin_end": 1006.16503,
            "bin_start": 1005.743104,
            "count": 1
           },
           {
            "bin_end": 1006.586956,
            "bin_start": 1006.16503,
            "count": 0
           },
           {
            "bin_end": 1007.008882,
            "bin_start": 1006.586956,
            "count": 1
           },
           {
            "bin_end": 1007.4308080000001,
            "bin_start": 1007.008882,
            "count": 0
           },
           {
            "bin_end": 1007.852734,
            "bin_start": 1007.4308080000001,
            "count": 0
           },
           {
            "bin_end": 1008.27466,
            "bin_start": 1007.852734,
            "count": 1
           }
          ],
          "max": "1008.27466",
          "min": "1004.0554",
          "nan_count": 1,
          "unique_count": 4
         }
        },
        {
         "dtype": "float64",
         "name": "android_sensor_pressure_max",
         "stats": {
          "histogram": [
           {
            "bin_end": 1004.5425759999999,
            "bin_start": 1004.1279,
            "count": 1
           },
           {
            "bin_end": 1004.9572519999999,
            "bin_start": 1004.5425759999999,
            "count": 0
           },
           {
            "bin_end": 1005.371928,
            "bin_start": 1004.9572519999999,
            "count": 0
           },
           {
            "bin_end": 1005.786604,
            "bin_start": 1005.371928,
            "count": 0
           },
           {
            "bin_end": 1006.20128,
            "bin_start": 1005.786604,
            "count": 1
           },
           {
            "bin_end": 1006.615956,
            "bin_start": 1006.20128,
            "count": 0
           },
           {
            "bin_end": 1007.030632,
            "bin_start": 1006.615956,
            "count": 1
           },
           {
            "bin_end": 1007.4453080000001,
            "bin_start": 1007.030632,
            "count": 0
           },
           {
            "bin_end": 1007.859984,
            "bin_start": 1007.4453080000001,
            "count": 0
           },
           {
            "bin_end": 1008.27466,
            "bin_start": 1007.859984,
            "count": 1
           }
          ],
          "max": "1008.27466",
          "min": "1004.1279",
          "nan_count": 1,
          "unique_count": 4
         }
        },
        {
         "dtype": "float64",
         "name": "android_sensor_pressure_std",
         "stats": {
          "histogram": [
           {
            "bin_end": -0.38258423593720003,
            "bin_start": -0.4825842359372,
            "count": 0
           },
           {
            "bin_end": -0.2825842359372,
            "bin_start": -0.38258423593720003,
            "count": 0
           },
           {
            "bin_end": -0.18258423593719997,
            "bin_start": -0.2825842359372,
            "count": 0
           },
           {
            "bin_end": -0.08258423593719999,
            "bin_start": -0.18258423593719997,
            "count": 0
           },
           {
            "bin_end": 0.017415764062799988,
            "bin_start": -0.08258423593719999,
            "count": 0
           },
           {
            "bin_end": 0.11741576406280008,
            "bin_start": 0.017415764062799988,
            "count": 1
           },
           {
            "bin_end": 0.21741576406280005,
            "bin_start": 0.11741576406280008,
            "count": 0
           },
           {
            "bin_end": 0.31741576406280003,
            "bin_start": 0.21741576406280005,
            "count": 0
           },
           {
            "bin_end": 0.4174157640628,
            "bin_start": 0.31741576406280003,
            "count": 0
           },
           {
            "bin_end": 0.5174157640628,
            "bin_start": 0.4174157640628,
            "count": 0
           }
          ],
          "max": "0.0174157640628",
          "min": "0.0174157640628",
          "nan_count": 4,
          "unique_count": 1
         }
        },
        {
         "dtype": "float64",
         "name": "android_sensor_proximity_mean",
         "stats": {
          "histogram": [
           {
            "bin_end": 7.6,
            "bin_start": 7.5,
            "count": 0
           },
           {
            "bin_end": 7.7,
            "bin_start": 7.6,
            "count": 0
           },
           {
            "bin_end": 7.8,
            "bin_start": 7.7,
            "count": 0
           },
           {
            "bin_end": 7.9,
            "bin_start": 7.8,
            "count": 0
           },
           {
            "bin_end": 8,
            "bin_start": 7.9,
            "count": 0
           },
           {
            "bin_end": 8.1,
            "bin_start": 8,
            "count": 2
           },
           {
            "bin_end": 8.2,
            "bin_start": 8.1,
            "count": 0
           },
           {
            "bin_end": 8.3,
            "bin_start": 8.2,
            "count": 0
           },
           {
            "bin_end": 8.4,
            "bin_start": 8.3,
            "count": 0
           },
           {
            "bin_end": 8.5,
            "bin_start": 8.4,
            "count": 0
           }
          ],
          "max": "8.0",
          "min": "8.0",
          "nan_count": 3,
          "unique_count": 1
         }
        },
        {
         "dtype": "float64",
         "name": "android_sensor_proximity_min",
         "stats": {
          "histogram": [
           {
            "bin_end": 7.6,
            "bin_start": 7.5,
            "count": 0
           },
           {
            "bin_end": 7.7,
            "bin_start": 7.6,
            "count": 0
           },
           {
            "bin_end": 7.8,
            "bin_start": 7.7,
            "count": 0
           },
           {
            "bin_end": 7.9,
            "bin_start": 7.8,
            "count": 0
           },
           {
            "bin_end": 8,
            "bin_start": 7.9,
            "count": 0
           },
           {
            "bin_end": 8.1,
            "bin_start": 8,
            "count": 2
           },
           {
            "bin_end": 8.2,
            "bin_start": 8.1,
            "count": 0
           },
           {
            "bin_end": 8.3,
            "bin_start": 8.2,
            "count": 0
           },
           {
            "bin_end": 8.4,
            "bin_start": 8.3,
            "count": 0
           },
           {
            "bin_end": 8.5,
            "bin_start": 8.4,
            "count": 0
           }
          ],
          "max": "8.0",
          "min": "8.0",
          "nan_count": 3,
          "unique_count": 1
         }
        },
        {
         "dtype": "float64",
         "name": "android_sensor_proximity_max",
         "stats": {
          "histogram": [
           {
            "bin_end": 7.6,
            "bin_start": 7.5,
            "count": 0
           },
           {
            "bin_end": 7.7,
            "bin_start": 7.6,
            "count": 0
           },
           {
            "bin_end": 7.8,
            "bin_start": 7.7,
            "count": 0
           },
           {
            "bin_end": 7.9,
            "bin_start": 7.8,
            "count": 0
           },
           {
            "bin_end": 8,
            "bin_start": 7.9,
            "count": 0
           },
           {
            "bin_end": 8.1,
            "bin_start": 8,
            "count": 2
           },
           {
            "bin_end": 8.2,
            "bin_start": 8.1,
            "count": 0
           },
           {
            "bin_end": 8.3,
            "bin_start": 8.2,
            "count": 0
           },
           {
            "bin_end": 8.4,
            "bin_start": 8.3,
            "count": 0
           },
           {
            "bin_end": 8.5,
            "bin_start": 8.4,
            "count": 0
           }
          ],
          "max": "8.0",
          "min": "8.0",
          "nan_count": 3,
          "unique_count": 1
         }
        },
        {
         "dtype": "float64",
         "name": "android_sensor_proximity_std",
         "stats": {
          "histogram": [
           {
            "bin_end": 0.1,
            "bin_start": 0,
            "count": 0
           },
           {
            "bin_end": 0.2,
            "bin_start": 0.1,
            "count": 0
           },
           {
            "bin_end": 0.30000000000000004,
            "bin_start": 0.2,
            "count": 0
           },
           {
            "bin_end": 0.4,
            "bin_start": 0.30000000000000004,
            "count": 0
           },
           {
            "bin_end": 0.5,
            "bin_start": 0.4,
            "count": 0
           },
           {
            "bin_end": 0.6000000000000001,
            "bin_start": 0.5,
            "count": 0
           },
           {
            "bin_end": 0.7000000000000001,
            "bin_start": 0.6000000000000001,
            "count": 0
           },
           {
            "bin_end": 0.8,
            "bin_start": 0.7000000000000001,
            "count": 0
           },
           {
            "bin_end": 0.9,
            "bin_start": 0.8,
            "count": 0
           },
           {
            "bin_end": 1,
            "bin_start": 0.9,
            "count": 0
           }
          ],
          "max": null,
          "min": null,
          "nan_count": 5,
          "unique_count": 0
         }
        },
        {
         "dtype": "float64",
         "name": "android_sensor_rotation_vector_mean",
         "stats": {
          "histogram": [
           {
            "bin_end": 0.14536994911599999,
            "bin_start": 0.050413140269,
            "count": 1
           },
           {
            "bin_end": 0.24032675796300002,
            "bin_start": 0.14536994911599999,
            "count": 0
           },
           {
            "bin_end": 0.33528356681000004,
            "bin_start": 0.24032675796300002,
            "count": 1
           },
           {
            "bin_end": 0.430240375657,
            "bin_start": 0.33528356681000004,
            "count": 0
           },
           {
            "bin_end": 0.525197184504,
            "bin_start": 0.430240375657,
            "count": 0
           },
           {
            "bin_end": 0.6201539933510001,
            "bin_start": 0.525197184504,
            "count": 1
           },
           {
            "bin_end": 0.715110802198,
            "bin_start": 0.6201539933510001,
            "count": 0
           },
           {
            "bin_end": 0.810067611045,
            "bin_start": 0.715110802198,
            "count": 0
           },
           {
            "bin_end": 0.905024419892,
            "bin_start": 0.810067611045,
            "count": 0
           },
           {
            "bin_end": 0.999981228739,
            "bin_start": 0.905024419892,
            "count": 2
           }
          ],
          "max": "0.999981228739",
          "min": "0.050413140269",
          "nan_count": 0,
          "unique_count": 5
         }
        },
        {
         "dtype": "float64",
         "name": "android_sensor_rotation_vector_min",
         "stats": {
          "histogram": [
           {
            "bin_end": 0.14029574870094,
            "bin_start": 0.0447771592556,
            "count": 1
           },
           {
            "bin_end": 0.23581433814628,
            "bin_start": 0.14029574870094,
            "count": 0
           },
           {
            "bin_end": 0.33133292759162003,
            "bin_start": 0.23581433814628,
            "count": 1
           },
           {
            "bin_end": 0.42685151703696,
            "bin_start": 0.33133292759162003,
            "count": 0
           },
           {
            "bin_end": 0.5223701064823,
            "bin_start": 0.42685151703696,
            "count": 0
           },
           {
            "bin_end": 0.6178886959276401,
            "bin_start": 0.5223701064823,
            "count": 1
           },
           {
            "bin_end": 0.71340728537298,
            "bin_start": 0.6178886959276401,
            "count": 0
           },
           {
            "bin_end": 0.80892587481832,
            "bin_start": 0.71340728537298,
            "count": 0
           },
           {
            "bin_end": 0.90444446426366,
            "bin_start": 0.80892587481832,
            "count": 0
           },
           {
            "bin_end": 0.999963053709,
            "bin_start": 0.90444446426366,
            "count": 2
           }
          ],
          "max": "0.999963053709",
          "min": "0.0447771592556",
          "nan_count": 0,
          "unique_count": 5
         }
        },
        {
         "dtype": "float64",
         "name": "android_sensor_rotation_vector_max",
         "stats": {
          "histogram": [
           {
            "bin_end": 0.15071615882803,
            "bin_start": 0.0563513538347,
            "count": 1
           },
           {
            "bin_end": 0.24508096382136,
            "bin_start": 0.15071615882803,
            "count": 0
           },
           {
            "bin_end": 0.33944576881469,
            "bin_start": 0.24508096382136,
            "count": 0
           },
           {
            "bin_end": 0.43381057380802,
            "bin_start": 0.33944576881469,
            "count": 1
           },
           {
            "bin_end": 0.52817537880135,
            "bin_start": 0.43381057380802,
            "count": 0
           },
           {
            "bin_end": 0.62254018379468,
            "bin_start": 0.52817537880135,
            "count": 1
           },
           {
            "bin_end": 0.71690498878801,
            "bin_start": 0.62254018379468,
            "count": 0
           },
           {
            "bin_end": 0.81126979378134,
            "bin_start": 0.71690498878801,
            "count": 0
           },
           {
            "bin_end": 0.90563459877467,
            "bin_start": 0.81126979378134,
            "count": 0
           },
           {
            "bin_end": 0.999999403768,
            "bin_start": 0.90563459877467,
            "count": 2
           }
          ],
          "max": "0.999999403768",
          "min": "0.0563513538347",
          "nan_count": 0,
          "unique_count": 5
         }
        },
        {
         "dtype": "float64",
         "name": "android_sensor_rotation_vector_std",
         "stats": {
          "histogram": [
           {
            "bin_end": 0.00258391827615386,
            "bin_start": 2.57033732154e-05,
            "count": 2
           },
           {
            "bin_end": 0.005142133179092319,
            "bin_start": 0.00258391827615386,
            "count": 1
           },
           {
            "bin_end": 0.007700348082030779,
            "bin_start": 0.005142133179092319,
            "count": 0
           },
           {
            "bin_end": 0.010258562984969239,
            "bin_start": 0.007700348082030779,
            "count": 0
           },
           {
            "bin_end": 0.012816777887907698,
            "bin_start": 0.010258562984969239,
            "count": 1
           },
           {
            "bin_end": 0.015374992790846158,
            "bin_start": 0.012816777887907698,
            "count": 0
           },
           {
            "bin_end": 0.01793320769378462,
            "bin_start": 0.015374992790846158,
            "count": 0
           },
           {
            "bin_end": 0.02049142259672308,
            "bin_start": 0.01793320769378462,
            "count": 0
           },
           {
            "bin_end": 0.02304963749966154,
            "bin_start": 0.02049142259672308,
            "count": 0
           },
           {
            "bin_end": 0.0256078524026,
            "bin_start": 0.02304963749966154,
            "count": 1
           }
          ],
          "max": "0.0256078524026",
          "min": "2.57033732154e-05",
          "nan_count": 0,
          "unique_count": 5
         }
        },
        {
         "dtype": "float64",
         "name": "android_sensor_step_counter_mean",
         "stats": {
          "histogram": [
           {
            "bin_end": 28965.6,
            "bin_start": 28965.5,
            "count": 0
           },
           {
            "bin_end": 28965.7,
            "bin_start": 28965.6,
            "count": 0
           },
           {
            "bin_end": 28965.8,
            "bin_start": 28965.7,
            "count": 0
           },
           {
            "bin_end": 28965.9,
            "bin_start": 28965.8,
            "count": 0
           },
           {
            "bin_end": 28966,
            "bin_start": 28965.9,
            "count": 0
           },
           {
            "bin_end": 28966.1,
            "bin_start": 28966,
            "count": 1
           },
           {
            "bin_end": 28966.2,
            "bin_start": 28966.1,
            "count": 0
           },
           {
            "bin_end": 28966.3,
            "bin_start": 28966.2,
            "count": 0
           },
           {
            "bin_end": 28966.4,
            "bin_start": 28966.3,
            "count": 0
           },
           {
            "bin_end": 28966.5,
            "bin_start": 28966.4,
            "count": 0
           }
          ],
          "max": "28966.0",
          "min": "28966.0",
          "nan_count": 4,
          "unique_count": 1
         }
        },
        {
         "dtype": "float64",
         "name": "android_sensor_step_counter_min",
         "stats": {
          "histogram": [
           {
            "bin_end": 28965.6,
            "bin_start": 28965.5,
            "count": 0
           },
           {
            "bin_end": 28965.7,
            "bin_start": 28965.6,
            "count": 0
           },
           {
            "bin_end": 28965.8,
            "bin_start": 28965.7,
            "count": 0
           },
           {
            "bin_end": 28965.9,
            "bin_start": 28965.8,
            "count": 0
           },
           {
            "bin_end": 28966,
            "bin_start": 28965.9,
            "count": 0
           },
           {
            "bin_end": 28966.1,
            "bin_start": 28966,
            "count": 1
           },
           {
            "bin_end": 28966.2,
            "bin_start": 28966.1,
            "count": 0
           },
           {
            "bin_end": 28966.3,
            "bin_start": 28966.2,
            "count": 0
           },
           {
            "bin_end": 28966.4,
            "bin_start": 28966.3,
            "count": 0
           },
           {
            "bin_end": 28966.5,
            "bin_start": 28966.4,
            "count": 0
           }
          ],
          "max": "28966.0",
          "min": "28966.0",
          "nan_count": 4,
          "unique_count": 1
         }
        },
        {
         "dtype": "float64",
         "name": "android_sensor_step_counter_max",
         "stats": {
          "histogram": [
           {
            "bin_end": 28965.6,
            "bin_start": 28965.5,
            "count": 0
           },
           {
            "bin_end": 28965.7,
            "bin_start": 28965.6,
            "count": 0
           },
           {
            "bin_end": 28965.8,
            "bin_start": 28965.7,
            "count": 0
           },
           {
            "bin_end": 28965.9,
            "bin_start": 28965.8,
            "count": 0
           },
           {
            "bin_end": 28966,
            "bin_start": 28965.9,
            "count": 0
           },
           {
            "bin_end": 28966.1,
            "bin_start": 28966,
            "count": 1
           },
           {
            "bin_end": 28966.2,
            "bin_start": 28966.1,
            "count": 0
           },
           {
            "bin_end": 28966.3,
            "bin_start": 28966.2,
            "count": 0
           },
           {
            "bin_end": 28966.4,
            "bin_start": 28966.3,
            "count": 0
           },
           {
            "bin_end": 28966.5,
            "bin_start": 28966.4,
            "count": 0
           }
          ],
          "max": "28966.0",
          "min": "28966.0",
          "nan_count": 4,
          "unique_count": 1
         }
        },
        {
         "dtype": "float64",
         "name": "android_sensor_step_counter_std",
         "stats": {
          "histogram": [
           {
            "bin_end": 0.1,
            "bin_start": 0,
            "count": 0
           },
           {
            "bin_end": 0.2,
            "bin_start": 0.1,
            "count": 0
           },
           {
            "bin_end": 0.30000000000000004,
            "bin_start": 0.2,
            "count": 0
           },
           {
            "bin_end": 0.4,
            "bin_start": 0.30000000000000004,
            "count": 0
           },
           {
            "bin_end": 0.5,
            "bin_start": 0.4,
            "count": 0
           },
           {
            "bin_end": 0.6000000000000001,
            "bin_start": 0.5,
            "count": 0
           },
           {
            "bin_end": 0.7000000000000001,
            "bin_start": 0.6000000000000001,
            "count": 0
           },
           {
            "bin_end": 0.8,
            "bin_start": 0.7000000000000001,
            "count": 0
           },
           {
            "bin_end": 0.9,
            "bin_start": 0.8,
            "count": 0
           },
           {
            "bin_end": 1,
            "bin_start": 0.9,
            "count": 0
           }
          ],
          "max": null,
          "min": null,
          "nan_count": 5,
          "unique_count": 0
         }
        },
        {
         "dtype": "float64",
         "name": "sound_mean",
         "stats": {
          "histogram": [
           {
            "bin_end": 87.70041262106,
            "bin_start": 87.4703770994,
            "count": 1
           },
           {
            "bin_end": 87.93044814272,
            "bin_start": 87.70041262106,
            "count": 0
           },
           {
            "bin_end": 88.16048366438,
            "bin_start": 87.93044814272,
            "count": 0
           },
           {
            "bin_end": 88.39051918604,
            "bin_start": 88.16048366438,
            "count": 0
           },
           {
            "bin_end": 88.6205547077,
            "bin_start": 88.39051918604,
            "count": 0
           },
           {
            "bin_end": 88.85059022936,
            "bin_start": 88.6205547077,
            "count": 0
           },
           {
            "bin_end": 89.08062575102,
            "bin_start": 88.85059022936,
            "count": 0
           },
           {
            "bin_end": 89.31066127268,
            "bin_start": 89.08062575102,
            "count": 1
           },
           {
            "bin_end": 89.54069679434,
            "bin_start": 89.31066127268,
            "count": 0
           },
           {
            "bin_end": 89.770732316,
            "bin_start": 89.54069679434,
            "count": 1
           }
          ],
          "max": "89.770732316",
          "min": "87.4703770994",
          "nan_count": 2,
          "unique_count": 3
         }
        },
        {
         "dtype": "float64",
         "name": "sound_min",
         "stats": {
          "histogram": [
           {
            "bin_end": 87.70041262106,
            "bin_start": 87.4703770994,
            "count": 1
           },
           {
            "bin_end": 87.93044814272,
            "bin_start": 87.70041262106,
            "count": 0
           },
           {
            "bin_end": 88.16048366438,
            "bin_start": 87.93044814272,
            "count": 0
           },
           {
            "bin_end": 88.39051918604,
            "bin_start": 88.16048366438,
            "count": 0
           },
           {
            "bin_end": 88.6205547077,
            "bin_start": 88.39051918604,
            "count": 0
           },
           {
            "bin_end": 88.85059022936,
            "bin_start": 88.6205547077,
            "count": 0
           },
           {
            "bin_end": 89.08062575102,
            "bin_start": 88.85059022936,
            "count": 1
           },
           {
            "bin_end": 89.31066127268,
            "bin_start": 89.08062575102,
            "count": 0
           },
           {
            "bin_end": 89.54069679434,
            "bin_start": 89.31066127268,
            "count": 0
           },
           {
            "bin_end": 89.770732316,
            "bin_start": 89.54069679434,
            "count": 1
           }
          ],
          "max": "89.770732316",
          "min": "87.4703770994",
          "nan_count": 2,
          "unique_count": 3
         }
        },
        {
         "dtype": "float64",
         "name": "sound_max",
         "stats": {
          "histogram": [
           {
            "bin_end": 87.70041262106,
            "bin_start": 87.4703770994,
            "count": 1
           },
           {
            "bin_end": 87.93044814272,
            "bin_start": 87.70041262106,
            "count": 0
           },
           {
            "bin_end": 88.16048366438,
            "bin_start": 87.93044814272,
            "count": 0
           },
           {
            "bin_end": 88.39051918604,
            "bin_start": 88.16048366438,
            "count": 0
           },
           {
            "bin_end": 88.6205547077,
            "bin_start": 88.39051918604,
            "count": 0
           },
           {
            "bin_end": 88.85059022936,
            "bin_start": 88.6205547077,
            "count": 0
           },
           {
            "bin_end": 89.08062575102,
            "bin_start": 88.85059022936,
            "count": 0
           },
           {
            "bin_end": 89.31066127268,
            "bin_start": 89.08062575102,
            "count": 0
           },
           {
            "bin_end": 89.54069679434,
            "bin_start": 89.31066127268,
            "count": 1
           },
           {
            "bin_end": 89.770732316,
            "bin_start": 89.54069679434,
            "count": 1
           }
          ],
          "max": "89.770732316",
          "min": "87.4703770994",
          "nan_count": 2,
          "unique_count": 3
         }
        },
        {
         "dtype": "float64",
         "name": "sound_std",
         "stats": {
          "histogram": [
           {
            "bin_end": 0.23416894782185704,
            "bin_start": 0.00638923521873,
            "count": 2
           },
           {
            "bin_end": 0.4619486604249841,
            "bin_start": 0.23416894782185704,
            "count": 0
           },
           {
            "bin_end": 0.6897283730281112,
            "bin_start": 0.4619486604249841,
            "count": 0
           },
           {
            "bin_end": 0.9175080856312382,
            "bin_start": 0.6897283730281112,
            "count": 0
           },
           {
            "bin_end": 1.1452877982343652,
            "bin_start": 0.9175080856312382,
            "count": 0
           },
           {
            "bin_end": 1.3730675108374923,
            "bin_start": 1.1452877982343652,
            "count": 0
           },
           {
            "bin_end": 1.6008472234406192,
            "bin_start": 1.3730675108374923,
            "count": 0
           },
           {
            "bin_end": 1.8286269360437464,
            "bin_start": 1.6008472234406192,
            "count": 0
           },
           {
            "bin_end": 2.056406648646873,
            "bin_start": 1.8286269360437464,
            "count": 0
           },
           {
            "bin_end": 2.28418636125,
            "bin_start": 2.056406648646873,
            "count": 1
           }
          ],
          "max": "2.28418636125",
          "min": "0.00638923521873",
          "nan_count": 2,
          "unique_count": 3
         }
        },
        {
         "dtype": "float64",
         "name": "speed_mean",
         "stats": {
          "histogram": [
           {
            "bin_end": 1.7739895,
            "bin_start": 0,
            "count": 2
           },
           {
            "bin_end": 3.547979,
            "bin_start": 1.7739895,
            "count": 0
           },
           {
            "bin_end": 5.3219685000000005,
            "bin_start": 3.547979,
            "count": 0
           },
           {
            "bin_end": 7.095958,
            "bin_start": 5.3219685000000005,
            "count": 0
           },
           {
            "bin_end": 8.8699475,
            "bin_start": 7.095958,
            "count": 0
           },
           {
            "bin_end": 10.643937000000001,
            "bin_start": 8.8699475,
            "count": 1
           },
           {
            "bin_end": 12.4179265,
            "bin_start": 10.643937000000001,
            "count": 0
           },
           {
            "bin_end": 14.191916,
            "bin_start": 12.4179265,
            "count": 0
           },
           {
            "bin_end": 15.965905500000002,
            "bin_start": 14.191916,
            "count": 0
           },
           {
            "bin_end": 17.739895,
            "bin_start": 15.965905500000002,
            "count": 2
           }
          ],
          "max": "17.739895",
          "min": "0.0",
          "nan_count": 0,
          "unique_count": 4
         }
        },
        {
         "dtype": "float64",
         "name": "speed_min",
         "stats": {
          "histogram": [
           {
            "bin_end": 1.7739895,
            "bin_start": 0,
            "count": 2
           },
           {
            "bin_end": 3.547979,
            "bin_start": 1.7739895,
            "count": 0
           },
           {
            "bin_end": 5.3219685000000005,
            "bin_start": 3.547979,
            "count": 0
           },
           {
            "bin_end": 7.095958,
            "bin_start": 5.3219685000000005,
            "count": 0
           },
           {
            "bin_end": 8.8699475,
            "bin_start": 7.095958,
            "count": 0
           },
           {
            "bin_end": 10.643937000000001,
            "bin_start": 8.8699475,
            "count": 1
           },
           {
            "bin_end": 12.4179265,
            "bin_start": 10.643937000000001,
            "count": 0
           },
           {
            "bin_end": 14.191916,
            "bin_start": 12.4179265,
            "count": 0
           },
           {
            "bin_end": 15.965905500000002,
            "bin_start": 14.191916,
            "count": 0
           },
           {
            "bin_end": 17.739895,
            "bin_start": 15.965905500000002,
            "count": 2
           }
          ],
          "max": "17.739895",
          "min": "0.0",
          "nan_count": 0,
          "unique_count": 4
         }
        },
        {
         "dtype": "float64",
         "name": "speed_max",
         "stats": {
          "histogram": [
           {
            "bin_end": 1.7739895,
            "bin_start": 0,
            "count": 2
           },
           {
            "bin_end": 3.547979,
            "bin_start": 1.7739895,
            "count": 0
           },
           {
            "bin_end": 5.3219685000000005,
            "bin_start": 3.547979,
            "count": 0
           },
           {
            "bin_end": 7.095958,
            "bin_start": 5.3219685000000005,
            "count": 0
           },
           {
            "bin_end": 8.8699475,
            "bin_start": 7.095958,
            "count": 0
           },
           {
            "bin_end": 10.643937000000001,
            "bin_start": 8.8699475,
            "count": 1
           },
           {
            "bin_end": 12.4179265,
            "bin_start": 10.643937000000001,
            "count": 0
           },
           {
            "bin_end": 14.191916,
            "bin_start": 12.4179265,
            "count": 0
           },
           {
            "bin_end": 15.965905500000002,
            "bin_start": 14.191916,
            "count": 0
           },
           {
            "bin_end": 17.739895,
            "bin_start": 15.965905500000002,
            "count": 2
           }
          ],
          "max": "17.739895",
          "min": "0.0",
          "nan_count": 0,
          "unique_count": 4
         }
        },
        {
         "dtype": "float64",
         "name": "speed_std",
         "stats": {
          "histogram": [
           {
            "bin_end": 0.0628594593951,
            "bin_start": 0,
            "count": 2
           },
           {
            "bin_end": 0.1257189187902,
            "bin_start": 0.0628594593951,
            "count": 0
           },
           {
            "bin_end": 0.1885783781853,
            "bin_start": 0.1257189187902,
            "count": 0
           },
           {
            "bin_end": 0.2514378375804,
            "bin_start": 0.1885783781853,
            "count": 0
           },
           {
            "bin_end": 0.3142972969755,
            "bin_start": 0.2514378375804,
            "count": 0
           },
           {
            "bin_end": 0.3771567563706,
            "bin_start": 0.3142972969755,
            "count": 0
           },
           {
            "bin_end": 0.4400162157657,
            "bin_start": 0.3771567563706,
            "count": 0
           },
           {
            "bin_end": 0.5028756751608,
            "bin_start": 0.4400162157657,
            "count": 0
           },
           {
            "bin_end": 0.5657351345559,
            "bin_start": 0.5028756751608,
            "count": 0
           },
           {
            "bin_end": 0.628594593951,
            "bin_start": 0.5657351345559,
            "count": 2
           }
          ],
          "max": "0.628594593951",
          "min": "0.0",
          "nan_count": 1,
          "unique_count": 2
         }
        },
        {
         "dtype": "object",
         "name": "target",
         "stats": {
          "categories": [
           {
            "count": 3,
            "name": "Car"
           },
           {
            "count": 2,
            "name": "Still"
           }
          ],
          "nan_count": 0,
          "unique_count": 2
         }
        },
        {
         "dtype": "object",
         "name": "user",
         "stats": {
          "categories": [
           {
            "count": 4,
            "name": "Luca"
           },
           {
            "count": 1,
            "name": "andrea"
           }
          ],
          "nan_count": 0,
          "unique_count": 2
         }
        },
        {
         "dtype": "int64",
         "name": "_deepnote_index_column"
        }
       ],
       "row_count": 5,
       "rows_bottom": null,
       "rows_top": [
        {
         "_deepnote_index_column": 0,
         "activityrecognition_0": "nan",
         "activityrecognition_1": 100,
         "android_sensor_accelerometer_max": 9.84941095639,
         "android_sensor_accelerometer_mean": 9.81147629156,
         "android_sensor_accelerometer_min": 9.75889547269,
         "android_sensor_accelerometer_std": 0.0146255073331,
         "android_sensor_game_rotation_vector_max": 0.0295264272136,
         "android_sensor_game_rotation_vector_mean": 0.0293404701347,
         "android_sensor_game_rotation_vector_min": 0.0290141820322,
         "android_sensor_game_rotation_vector_std": 0.00011870091454,
         "android_sensor_gravity_max": 9.80665101272,
         "android_sensor_gravity_mean": 9.80665014968,
         "android_sensor_gravity_min": 9.80664908184,
         "android_sensor_gravity_std": 4.78069230071e-07,
         "android_sensor_gyroscope_max": 0.00353308255853,
         "android_sensor_gyroscope_mean": 0.00165077522136,
         "android_sensor_gyroscope_min": 0,
         "android_sensor_gyroscope_std": 0.000736963641413,
         "android_sensor_gyroscope_uncalibrated_max": 0.0186953157594,
         "android_sensor_gyroscope_uncalibrated_mean": 0.0162213599906,
         "android_sensor_gyroscope_uncalibrated_min": 0.0141724221314,
         "android_sensor_gyroscope_uncalibrated_std": 0.000981864545925,
         "android_sensor_light_max": 0,
         "android_sensor_light_mean": 0,
         "android_sensor_light_min": 0,
         "android_sensor_light_std": "0.0",
         "android_sensor_linear_acceleration_max": 0.0524095823954,
         "android_sensor_linear_acceleration_mean": 0.0209778383629,
         "android_sensor_linear_acceleration_min": 0.00249536633909,
         "android_sensor_linear_acceleration_std": 0.0110446872158,
         "android_sensor_magnetic_field_max": 57.5759501429,
         "android_sensor_magnetic_field_mean": 57.0996378983,
         "android_sensor_magnetic_field_min": 56.6903871922,
         "android_sensor_magnetic_field_std": 0.177548772376,
         "android_sensor_magnetic_field_uncalibrated_max": 51.5392083783,
         "android_sensor_magnetic_field_uncalibrated_mean": 51.3635659024,
         "android_sensor_magnetic_field_uncalibrated_min": 51.1997072531,
         "android_sensor_magnetic_field_uncalibrated_std": 0.08089925898,
         "android_sensor_orientation_max": 354.942707018,
         "android_sensor_orientation_mean": 354.286933099,
         "android_sensor_orientation_min": 353.598334711,
         "android_sensor_orientation_std": 0.2456763287,
         "android_sensor_pressure_max": "1004.1279",
         "android_sensor_pressure_mean": "1004.09026074",
         "android_sensor_pressure_min": "1004.0554",
         "android_sensor_pressure_std": "0.0174157640628",
         "android_sensor_proximity_max": "8.0",
         "android_sensor_proximity_mean": "8.0",
         "android_sensor_proximity_min": "8.0",
         "android_sensor_proximity_std": "nan",
         "android_sensor_rotation_vector_max": 0.0563513538347,
         "android_sensor_rotation_vector_mean": 0.050413140269,
         "android_sensor_rotation_vector_min": 0.0447771592556,
         "android_sensor_rotation_vector_std": 0.00210922613983,
         "android_sensor_step_counter_max": "28966.0",
         "android_sensor_step_counter_mean": "28966.0",
         "android_sensor_step_counter_min": "28966.0",
         "android_sensor_step_counter_std": "nan",
         "id": 16170,
         "sound_max": "nan",
         "sound_mean": "nan",
         "sound_min": "nan",
         "sound_std": "nan",
         "speed_max": 0,
         "speed_mean": 0,
         "speed_min": 0,
         "speed_std": "0.0",
         "target": "Still",
         "time": 78,
         "user": "Luca"
        },
        {
         "_deepnote_index_column": 1,
         "activityrecognition_0": "nan",
         "activityrecognition_1": 100,
         "android_sensor_accelerometer_max": 17.1466311902,
         "android_sensor_accelerometer_mean": 9.93920678262,
         "android_sensor_accelerometer_min": 7.70743742161,
         "android_sensor_accelerometer_std": 1.7759442967,
         "android_sensor_game_rotation_vector_max": 0.999945876927,
         "android_sensor_game_rotation_vector_mean": 0.999924605824,
         "android_sensor_game_rotation_vector_min": 0.99990333472,
         "android_sensor_game_rotation_vector_std": 3.00818830563e-05,
         "android_sensor_gravity_max": 9.80662395218,
         "android_sensor_gravity_mean": 9.80662395218,
         "android_sensor_gravity_min": 9.80662395218,
         "android_sensor_gravity_std": 6.47497680352e-07,
         "android_sensor_gyroscope_max": 0.0593878960242,
         "android_sensor_gyroscope_mean": 0.0363257142488,
         "android_sensor_gyroscope_min": 0.0116693879272,
         "android_sensor_gyroscope_std": 0.0202897002181,
         "android_sensor_gyroscope_uncalibrated_max": 0.0854936945061,
         "android_sensor_gyroscope_uncalibrated_mean": 0.0390225389502,
         "android_sensor_gyroscope_uncalibrated_min": 0.0141323301437,
         "android_sensor_gyroscope_uncalibrated_std": 0.01862939992,
         "android_sensor_light_max": 0,
         "android_sensor_light_mean": 0,
         "android_sensor_light_min": 0,
         "android_sensor_light_std": "nan",
         "android_sensor_linear_acceleration_max": 1.18580992175,
         "android_sensor_linear_acceleration_mean": 0.879220182554,
         "android_sensor_linear_acceleration_min": 0.641116952922,
         "android_sensor_linear_acceleration_std": 0.278729993124,
         "android_sensor_magnetic_field_max": 30.3860165208,
         "android_sensor_magnetic_field_mean": 29.3512875433,
         "android_sensor_magnetic_field_min": 28.1725051708,
         "android_sensor_magnetic_field_std": 0.921547089535,
         "android_sensor_magnetic_field_uncalibrated_max": 83.1256301799,
         "android_sensor_magnetic_field_uncalibrated_mean": 82.7677601815,
         "android_sensor_magnetic_field_uncalibrated_min": 82.4098901832,
         "android_sensor_magnetic_field_uncalibrated_std": 0.506104605233,
         "android_sensor_orientation_max": 339.108607447,
         "android_sensor_orientation_mean": 332.695576665,
         "android_sensor_orientation_min": 330.461053684,
         "android_sensor_orientation_std": 1.70581619737,
         "android_sensor_pressure_max": "1008.27466",
         "android_sensor_pressure_mean": "1008.27466",
         "android_sensor_pressure_min": "1008.27466",
         "android_sensor_pressure_std": "nan",
         "android_sensor_proximity_max": "nan",
         "android_sensor_proximity_mean": "nan",
         "android_sensor_proximity_min": "nan",
         "android_sensor_proximity_std": "nan",
         "android_sensor_rotation_vector_max": 0.999999403768,
         "android_sensor_rotation_vector_mean": 0.999981228739,
         "android_sensor_rotation_vector_min": 0.999963053709,
         "android_sensor_rotation_vector_std": 2.57033732154e-05,
         "android_sensor_step_counter_max": "nan",
         "android_sensor_step_counter_mean": "nan",
         "android_sensor_step_counter_min": "nan",
         "android_sensor_step_counter_std": "nan",
         "id": 15871,
         "sound_max": "89.3352770319",
         "sound_mean": "89.200210191",
         "sound_min": "89.06514335",
         "sound_std": "0.191013358299",
         "speed_max": 16.539349,
         "speed_mean": 16.539349,
         "speed_min": 16.539349,
         "speed_std": "0.628594593951",
         "target": "Car",
         "time": 145,
         "user": "Luca"
        },
        {
         "_deepnote_index_column": 2,
         "activityrecognition_0": "nan",
         "activityrecognition_1": 100,
         "android_sensor_accelerometer_max": 9.84926211274,
         "android_sensor_accelerometer_mean": 9.82717783631,
         "android_sensor_accelerometer_min": 9.80481712742,
         "android_sensor_accelerometer_std": 0.0111991059917,
         "android_sensor_game_rotation_vector_max": 0.665218212919,
         "android_sensor_game_rotation_vector_mean": 0.665215406868,
         "android_sensor_game_rotation_vector_min": 0.665212600816,
         "android_sensor_game_rotation_vector_std": 3.96835608801e-06,
         "android_sensor_gravity_max": 9.80665042352,
         "android_sensor_gravity_mean": 9.80665022401,
         "android_sensor_gravity_min": 9.80665002449,
         "android_sensor_gravity_std": 2.82156820261e-07,
         "android_sensor_gyroscope_max": 0.0026093544661,
         "android_sensor_gyroscope_mean": 0.00152461653211,
         "android_sensor_gyroscope_min": 0,
         "android_sensor_gyroscope_std": 0.000712700740663,
         "android_sensor_gyroscope_uncalibrated_max": 0.0173739375996,
         "android_sensor_gyroscope_uncalibrated_mean": 0.016301566129,
         "android_sensor_gyroscope_uncalibrated_min": 0.0146449655465,
         "android_sensor_gyroscope_uncalibrated_std": 0.000875953734805,
         "android_sensor_light_max": 2,
         "android_sensor_light_mean": 2,
         "android_sensor_light_min": 2,
         "android_sensor_light_std": "0.707106781187",
         "android_sensor_linear_acceleration_max": 0.0425113257492,
         "android_sensor_linear_acceleration_mean": 0.0341102311454,
         "android_sensor_linear_acceleration_min": 0.0257091365417,
         "android_sensor_linear_acceleration_std": 0.0118809419274,
         "android_sensor_magnetic_field_max": 30.0383088738,
         "android_sensor_magnetic_field_mean": 29.904926993,
         "android_sensor_magnetic_field_min": 29.7417215373,
         "android_sensor_magnetic_field_std": 0.130851298779,
         "android_sensor_magnetic_field_uncalibrated_max": 55.8685063341,
         "android_sensor_magnetic_field_uncalibrated_mean": 55.6957163835,
         "android_sensor_magnetic_field_uncalibrated_min": 55.5018017726,
         "android_sensor_magnetic_field_uncalibrated_std": 0.128945251661,
         "android_sensor_orientation_max": 75.2685742895,
         "android_sensor_orientation_mean": 74.7526531434,
         "android_sensor_orientation_min": 73.2234934719,
         "android_sensor_orientation_std": 0.413704157311,
         "android_sensor_pressure_max": "1005.97754",
         "android_sensor_pressure_mean": "1005.97754",
         "android_sensor_pressure_min": "1005.97754",
         "android_sensor_pressure_std": "nan",
         "android_sensor_proximity_max": "8.0",
         "android_sensor_proximity_mean": "8.0",
         "android_sensor_proximity_min": "8.0",
         "android_sensor_proximity_std": "nan",
         "android_sensor_rotation_vector_max": 0.610456220789,
         "android_sensor_rotation_vector_mean": 0.610456220789,
         "android_sensor_rotation_vector_min": 0.610456220789,
         "android_sensor_rotation_vector_std": 0.0113123358202,
         "android_sensor_step_counter_max": "nan",
         "android_sensor_step_counter_mean": "nan",
         "android_sensor_step_counter_min": "nan",
         "android_sensor_step_counter_std": "nan",
         "id": 16811,
         "sound_max": "nan",
         "sound_mean": "nan",
         "sound_min": "nan",
         "sound_std": "nan",
         "speed_max": 0,
         "speed_mean": 0,
         "speed_min": 0,
         "speed_std": "0.0",
         "target": "Still",
         "time": 150,
         "user": "Luca"
        },
        {
         "_deepnote_index_column": 3,
         "activityrecognition_0": "nan",
         "activityrecognition_1": 77,
         "android_sensor_accelerometer_max": 12.3042975935,
         "android_sensor_accelerometer_mean": 9.67303911332,
         "android_sensor_accelerometer_min": 7.65967372861,
         "android_sensor_accelerometer_std": 0.862553258429,
         "android_sensor_game_rotation_vector_max": 0.99866095183,
         "android_sensor_game_rotation_vector_mean": 0.996220934012,
         "android_sensor_game_rotation_vector_min": 0.993780916194,
         "android_sensor_game_rotation_vector_std": 0.00345070629065,
         "android_sensor_gravity_max": 9.80663764374,
         "android_sensor_gravity_mean": 9.80663764374,
         "android_sensor_gravity_min": 9.80663764374,
         "android_sensor_gravity_std": 2.12056373828e-06,
         "android_sensor_gyroscope_max": 0.0525122451551,
         "android_sensor_gyroscope_mean": 0.0364403150565,
         "android_sensor_gyroscope_min": 0.0204630617713,
         "android_sensor_gyroscope_std": 0.0105527726211,
         "android_sensor_gyroscope_uncalibrated_max": 0.0818868991653,
         "android_sensor_gyroscope_uncalibrated_mean": 0.0507587448203,
         "android_sensor_gyroscope_uncalibrated_min": 0.0247315778968,
         "android_sensor_gyroscope_uncalibrated_std": 0.018036503333,
         "android_sensor_light_max": 0,
         "android_sensor_light_mean": 0,
         "android_sensor_light_min": 0,
         "android_sensor_light_std": "nan",
         "android_sensor_linear_acceleration_max": 2.41587896373,
         "android_sensor_linear_acceleration_mean": 1.48836057989,
         "android_sensor_linear_acceleration_min": 0.575910313171,
         "android_sensor_linear_acceleration_std": 0.920076869003,
         "android_sensor_magnetic_field_max": 38.1472167058,
         "android_sensor_magnetic_field_mean": 37.8364706079,
         "android_sensor_magnetic_field_min": 37.52572451,
         "android_sensor_magnetic_field_std": 0.439461346105,
         "android_sensor_magnetic_field_uncalibrated_max": 95.8233321243,
         "android_sensor_magnetic_field_uncalibrated_mean": 95.7438206305,
         "android_sensor_magnetic_field_uncalibrated_min": 95.6643091367,
         "android_sensor_magnetic_field_uncalibrated_std": 0.112446232897,
         "android_sensor_orientation_max": 397.071741295,
         "android_sensor_orientation_mean": 373.556039427,
         "android_sensor_orientation_min": 359.897249748,
         "android_sensor_orientation_std": 8.87001056741,
         "android_sensor_pressure_max": "1006.95044",
         "android_sensor_pressure_mean": "1006.95044",
         "android_sensor_pressure_min": "1006.95044",
         "android_sensor_pressure_std": "nan",
         "android_sensor_proximity_max": "nan",
         "android_sensor_proximity_mean": "nan",
         "android_sensor_proximity_min": "nan",
         "android_sensor_proximity_std": "nan",
         "android_sensor_rotation_vector_max": 0.998112317214,
         "android_sensor_rotation_vector_mean": 0.998112317214,
         "android_sensor_rotation_vector_min": 0.998112317214,
         "android_sensor_rotation_vector_std": 0.00278751762314,
         "android_sensor_step_counter_max": "nan",
         "android_sensor_step_counter_mean": "nan",
         "android_sensor_step_counter_min": "nan",
         "android_sensor_step_counter_std": "nan",
         "id": 15831,
         "sound_max": "87.4703770994",
         "sound_mean": "87.4703770994",
         "sound_min": "87.4703770994",
         "sound_std": "2.28418636125",
         "speed_max": 17.739895,
         "speed_mean": 17.739895,
         "speed_min": 17.739895,
         "speed_std": "0.628594593951",
         "target": "Car",
         "time": 105,
         "user": "Luca"
        },
        {
         "_deepnote_index_column": 4,
         "activityrecognition_0": "nan",
         "activityrecognition_1": 100,
         "android_sensor_accelerometer_max": 10.8916451194,
         "android_sensor_accelerometer_mean": 9.99346632118,
         "android_sensor_accelerometer_min": 8.96562096134,
         "android_sensor_accelerometer_std": 0.504117059576,
         "android_sensor_game_rotation_vector_max": 0.672663744621,
         "android_sensor_game_rotation_vector_mean": 0.563791884308,
         "android_sensor_game_rotation_vector_min": 0.521799103987,
         "android_sensor_game_rotation_vector_std": 0.0647921318639,
         "android_sensor_gravity_max": 9.80665053121,
         "android_sensor_gravity_mean": 9.8066501563,
         "android_sensor_gravity_min": 9.80664966214,
         "android_sensor_gravity_std": 2.64443011405e-07,
         "android_sensor_gyroscope_max": 0.380875066732,
         "android_sensor_gyroscope_mean": 0.183202097809,
         "android_sensor_gyroscope_min": 0.0206668572373,
         "android_sensor_gyroscope_std": 0.0988191384778,
         "android_sensor_gyroscope_uncalibrated_max": 0.313019733394,
         "android_sensor_gyroscope_uncalibrated_mean": 0.265652184888,
         "android_sensor_gyroscope_uncalibrated_min": 0.141208498859,
         "android_sensor_gyroscope_uncalibrated_std": 0.0831748152281,
         "android_sensor_light_max": 30,
         "android_sensor_light_mean": 30,
         "android_sensor_light_min": 30,
         "android_sensor_light_std": "39.5979797464",
         "android_sensor_linear_acceleration_max": 2.7959953197,
         "android_sensor_linear_acceleration_mean": 1.65830750209,
         "android_sensor_linear_acceleration_min": 0.379803005713,
         "android_sensor_linear_acceleration_std": 1.1222254603,
         "android_sensor_magnetic_field_max": 79.2737394335,
         "android_sensor_magnetic_field_mean": 78.37571835,
         "android_sensor_magnetic_field_min": 76.5432606086,
         "android_sensor_magnetic_field_std": 1.10436115049,
         "android_sensor_magnetic_field_uncalibrated_max": 158.06252596,
         "android_sensor_magnetic_field_uncalibrated_mean": 157.42921752,
         "android_sensor_magnetic_field_uncalibrated_min": 156.79590908,
         "android_sensor_magnetic_field_uncalibrated_std": 0.895633385013,
         "android_sensor_orientation_max": 360.560467727,
         "android_sensor_orientation_mean": 193.201458416,
         "android_sensor_orientation_min": 35.864971592,
         "android_sensor_orientation_std": 181.729454699,
         "android_sensor_pressure_max": "nan",
         "android_sensor_pressure_mean": "nan",
         "android_sensor_pressure_min": "nan",
         "android_sensor_pressure_std": "nan",
         "android_sensor_proximity_max": "nan",
         "android_sensor_proximity_mean": "nan",
         "android_sensor_proximity_min": "nan",
         "android_sensor_proximity_std": "nan",
         "android_sensor_rotation_vector_max": 0.378193174062,
         "android_sensor_rotation_vector_mean": 0.322241915004,
         "android_sensor_rotation_vector_min": 0.308054844036,
         "android_sensor_rotation_vector_std": 0.0256078524026,
         "android_sensor_step_counter_max": "nan",
         "android_sensor_step_counter_mean": "nan",
         "android_sensor_step_counter_min": "nan",
         "android_sensor_step_counter_std": "nan",
         "id": 876,
         "sound_max": "89.770732316",
         "sound_mean": "89.770732316",
         "sound_min": "89.770732316",
         "sound_std": "0.00638923521873",
         "speed_max": 9,
         "speed_mean": 9,
         "speed_min": 9,
         "speed_std": "nan",
         "target": "Car",
         "time": 77,
         "user": "andrea"
        }
       ]
      },
      "text/html": [
       "<div>\n",
       "<style scoped>\n",
       "    .dataframe tbody tr th:only-of-type {\n",
       "        vertical-align: middle;\n",
       "    }\n",
       "\n",
       "    .dataframe tbody tr th {\n",
       "        vertical-align: top;\n",
       "    }\n",
       "\n",
       "    .dataframe thead th {\n",
       "        text-align: right;\n",
       "    }\n",
       "</style>\n",
       "<table border=\"1\" class=\"dataframe\">\n",
       "  <thead>\n",
       "    <tr style=\"text-align: right;\">\n",
       "      <th></th>\n",
       "      <th>id</th>\n",
       "      <th>time</th>\n",
       "      <th>activityrecognition_0</th>\n",
       "      <th>activityrecognition_1</th>\n",
       "      <th>android_sensor_accelerometer_mean</th>\n",
       "      <th>android_sensor_accelerometer_min</th>\n",
       "      <th>android_sensor_accelerometer_max</th>\n",
       "      <th>android_sensor_accelerometer_std</th>\n",
       "      <th>android_sensor_game_rotation_vector_mean</th>\n",
       "      <th>android_sensor_game_rotation_vector_min</th>\n",
       "      <th>...</th>\n",
       "      <th>sound_mean</th>\n",
       "      <th>sound_min</th>\n",
       "      <th>sound_max</th>\n",
       "      <th>sound_std</th>\n",
       "      <th>speed_mean</th>\n",
       "      <th>speed_min</th>\n",
       "      <th>speed_max</th>\n",
       "      <th>speed_std</th>\n",
       "      <th>target</th>\n",
       "      <th>user</th>\n",
       "    </tr>\n",
       "  </thead>\n",
       "  <tbody>\n",
       "    <tr>\n",
       "      <th>0</th>\n",
       "      <td>16170</td>\n",
       "      <td>78.0</td>\n",
       "      <td>NaN</td>\n",
       "      <td>100.0</td>\n",
       "      <td>9.811476</td>\n",
       "      <td>9.758895</td>\n",
       "      <td>9.849411</td>\n",
       "      <td>0.014626</td>\n",
       "      <td>0.029340</td>\n",
       "      <td>0.029014</td>\n",
       "      <td>...</td>\n",
       "      <td>NaN</td>\n",
       "      <td>NaN</td>\n",
       "      <td>NaN</td>\n",
       "      <td>NaN</td>\n",
       "      <td>0.000000</td>\n",
       "      <td>0.000000</td>\n",
       "      <td>0.000000</td>\n",
       "      <td>0.000000</td>\n",
       "      <td>Still</td>\n",
       "      <td>Luca</td>\n",
       "    </tr>\n",
       "    <tr>\n",
       "      <th>1</th>\n",
       "      <td>15871</td>\n",
       "      <td>145.0</td>\n",
       "      <td>NaN</td>\n",
       "      <td>100.0</td>\n",
       "      <td>9.939207</td>\n",
       "      <td>7.707437</td>\n",
       "      <td>17.146631</td>\n",
       "      <td>1.775944</td>\n",
       "      <td>0.999925</td>\n",
       "      <td>0.999903</td>\n",
       "      <td>...</td>\n",
       "      <td>89.200210</td>\n",
       "      <td>89.065143</td>\n",
       "      <td>89.335277</td>\n",
       "      <td>0.191013</td>\n",
       "      <td>16.539349</td>\n",
       "      <td>16.539349</td>\n",
       "      <td>16.539349</td>\n",
       "      <td>0.628595</td>\n",
       "      <td>Car</td>\n",
       "      <td>Luca</td>\n",
       "    </tr>\n",
       "    <tr>\n",
       "      <th>2</th>\n",
       "      <td>16811</td>\n",
       "      <td>150.0</td>\n",
       "      <td>NaN</td>\n",
       "      <td>100.0</td>\n",
       "      <td>9.827178</td>\n",
       "      <td>9.804817</td>\n",
       "      <td>9.849262</td>\n",
       "      <td>0.011199</td>\n",
       "      <td>0.665215</td>\n",
       "      <td>0.665213</td>\n",
       "      <td>...</td>\n",
       "      <td>NaN</td>\n",
       "      <td>NaN</td>\n",
       "      <td>NaN</td>\n",
       "      <td>NaN</td>\n",
       "      <td>0.000000</td>\n",
       "      <td>0.000000</td>\n",
       "      <td>0.000000</td>\n",
       "      <td>0.000000</td>\n",
       "      <td>Still</td>\n",
       "      <td>Luca</td>\n",
       "    </tr>\n",
       "    <tr>\n",
       "      <th>3</th>\n",
       "      <td>15831</td>\n",
       "      <td>105.0</td>\n",
       "      <td>NaN</td>\n",
       "      <td>77.0</td>\n",
       "      <td>9.673039</td>\n",
       "      <td>7.659674</td>\n",
       "      <td>12.304298</td>\n",
       "      <td>0.862553</td>\n",
       "      <td>0.996221</td>\n",
       "      <td>0.993781</td>\n",
       "      <td>...</td>\n",
       "      <td>87.470377</td>\n",
       "      <td>87.470377</td>\n",
       "      <td>87.470377</td>\n",
       "      <td>2.284186</td>\n",
       "      <td>17.739895</td>\n",
       "      <td>17.739895</td>\n",
       "      <td>17.739895</td>\n",
       "      <td>0.628595</td>\n",
       "      <td>Car</td>\n",
       "      <td>Luca</td>\n",
       "    </tr>\n",
       "    <tr>\n",
       "      <th>4</th>\n",
       "      <td>876</td>\n",
       "      <td>77.0</td>\n",
       "      <td>NaN</td>\n",
       "      <td>100.0</td>\n",
       "      <td>9.993466</td>\n",
       "      <td>8.965621</td>\n",
       "      <td>10.891645</td>\n",
       "      <td>0.504117</td>\n",
       "      <td>0.563792</td>\n",
       "      <td>0.521799</td>\n",
       "      <td>...</td>\n",
       "      <td>89.770732</td>\n",
       "      <td>89.770732</td>\n",
       "      <td>89.770732</td>\n",
       "      <td>0.006389</td>\n",
       "      <td>9.000000</td>\n",
       "      <td>9.000000</td>\n",
       "      <td>9.000000</td>\n",
       "      <td>NaN</td>\n",
       "      <td>Car</td>\n",
       "      <td>andrea</td>\n",
       "    </tr>\n",
       "  </tbody>\n",
       "</table>\n",
       "<p>5 rows × 70 columns</p>\n",
       "</div>"
      ],
      "text/plain": [
       "      id   time  activityrecognition_0  activityrecognition_1  \\\n",
       "0  16170   78.0                    NaN                  100.0   \n",
       "1  15871  145.0                    NaN                  100.0   \n",
       "2  16811  150.0                    NaN                  100.0   \n",
       "3  15831  105.0                    NaN                   77.0   \n",
       "4    876   77.0                    NaN                  100.0   \n",
       "\n",
       "   android_sensor_accelerometer_mean  android_sensor_accelerometer_min  \\\n",
       "0                           9.811476                          9.758895   \n",
       "1                           9.939207                          7.707437   \n",
       "2                           9.827178                          9.804817   \n",
       "3                           9.673039                          7.659674   \n",
       "4                           9.993466                          8.965621   \n",
       "\n",
       "   android_sensor_accelerometer_max  android_sensor_accelerometer_std  \\\n",
       "0                          9.849411                          0.014626   \n",
       "1                         17.146631                          1.775944   \n",
       "2                          9.849262                          0.011199   \n",
       "3                         12.304298                          0.862553   \n",
       "4                         10.891645                          0.504117   \n",
       "\n",
       "   android_sensor_game_rotation_vector_mean  \\\n",
       "0                                  0.029340   \n",
       "1                                  0.999925   \n",
       "2                                  0.665215   \n",
       "3                                  0.996221   \n",
       "4                                  0.563792   \n",
       "\n",
       "   android_sensor_game_rotation_vector_min  ...  sound_mean  sound_min  \\\n",
       "0                                 0.029014  ...         NaN        NaN   \n",
       "1                                 0.999903  ...   89.200210  89.065143   \n",
       "2                                 0.665213  ...         NaN        NaN   \n",
       "3                                 0.993781  ...   87.470377  87.470377   \n",
       "4                                 0.521799  ...   89.770732  89.770732   \n",
       "\n",
       "   sound_max  sound_std  speed_mean  speed_min  speed_max  speed_std  target  \\\n",
       "0        NaN        NaN    0.000000   0.000000   0.000000   0.000000   Still   \n",
       "1  89.335277   0.191013   16.539349  16.539349  16.539349   0.628595     Car   \n",
       "2        NaN        NaN    0.000000   0.000000   0.000000   0.000000   Still   \n",
       "3  87.470377   2.284186   17.739895  17.739895  17.739895   0.628595     Car   \n",
       "4  89.770732   0.006389    9.000000   9.000000   9.000000        NaN     Car   \n",
       "\n",
       "     user  \n",
       "0    Luca  \n",
       "1    Luca  \n",
       "2    Luca  \n",
       "3    Luca  \n",
       "4  andrea  \n",
       "\n",
       "[5 rows x 70 columns]"
      ]
     },
     "execution_count": 85,
     "metadata": {},
     "output_type": "execute_result"
    }
   ],
   "source": [
    "df.head()"
   ]
  },
  {
   "cell_type": "code",
   "execution_count": 86,
   "metadata": {
    "cell_id": "00018-029d0f66-0265-4208-81bb-7f4d74bb816a",
    "deepnote_cell_type": "code",
    "deepnote_to_be_reexecuted": false,
    "execution_millis": 1,
    "execution_start": 1621269302068,
    "source_hash": "6418aa50",
    "tags": []
   },
   "outputs": [],
   "source": [
    "test=df.sample(150)"
   ]
  },
  {
   "cell_type": "code",
   "execution_count": 87,
   "metadata": {
    "cell_id": "00020-3ab0302a-c0dc-4ef9-84e3-a7654f89943d",
    "deepnote_cell_type": "code",
    "deepnote_to_be_reexecuted": false,
    "execution_millis": 562,
    "execution_start": 1621269302730,
    "source_hash": "9782bf47",
    "tags": []
   },
   "outputs": [
    {
     "data": {
      "application/vnd.deepnote.dataframe.v2+json": {
       "column_count": 68,
       "columns": [
        {
         "dtype": "float64",
         "name": "id",
         "stats": {
          "histogram": [
           {
            "bin_end": 2224.8,
            "bin_start": 28,
            "count": 2
           },
           {
            "bin_end": 4421.6,
            "bin_start": 2224.8,
            "count": 0
           },
           {
            "bin_end": 6618.400000000001,
            "bin_start": 4421.6,
            "count": 1
           },
           {
            "bin_end": 8815.2,
            "bin_start": 6618.400000000001,
            "count": 1
           },
           {
            "bin_end": 11012,
            "bin_start": 8815.2,
            "count": 1
           },
           {
            "bin_end": 13208.800000000001,
            "bin_start": 11012,
            "count": 1
           },
           {
            "bin_end": 15405.600000000002,
            "bin_start": 13208.800000000001,
            "count": 0
           },
           {
            "bin_end": 17602.4,
            "bin_start": 15405.600000000002,
            "count": 1
           },
           {
            "bin_end": 19799.2,
            "bin_start": 17602.4,
            "count": 0
           },
           {
            "bin_end": 21996,
            "bin_start": 19799.2,
            "count": 1
           }
          ],
          "max": "21996.0",
          "min": "28.0",
          "nan_count": 0,
          "unique_count": 8
         }
        },
        {
         "dtype": "float64",
         "name": "time",
         "stats": {
          "histogram": [
           {
            "bin_end": 70.3,
            "bin_start": 5,
            "count": 2
           },
           {
            "bin_end": 135.6,
            "bin_start": 70.3,
            "count": 3
           },
           {
            "bin_end": 200.89999999999998,
            "bin_start": 135.6,
            "count": 2
           },
           {
            "bin_end": 266.2,
            "bin_start": 200.89999999999998,
            "count": 0
           },
           {
            "bin_end": 331.5,
            "bin_start": 266.2,
            "count": 0
           },
           {
            "bin_end": 396.79999999999995,
            "bin_start": 331.5,
            "count": 0
           },
           {
            "bin_end": 462.09999999999997,
            "bin_start": 396.79999999999995,
            "count": 0
           },
           {
            "bin_end": 527.4,
            "bin_start": 462.09999999999997,
            "count": 0
           },
           {
            "bin_end": 592.6999999999999,
            "bin_start": 527.4,
            "count": 0
           },
           {
            "bin_end": 658,
            "bin_start": 592.6999999999999,
            "count": 1
           }
          ],
          "max": "658.0",
          "min": "5.0",
          "nan_count": 0,
          "unique_count": 8
         }
        },
        {
         "dtype": "float64",
         "name": "activityrecognition_0",
         "stats": {
          "histogram": [
           {
            "bin_end": -0.4,
            "bin_start": -0.5,
            "count": 0
           },
           {
            "bin_end": -0.3,
            "bin_start": -0.4,
            "count": 0
           },
           {
            "bin_end": -0.19999999999999996,
            "bin_start": -0.3,
            "count": 0
           },
           {
            "bin_end": -0.09999999999999998,
            "bin_start": -0.19999999999999996,
            "count": 0
           },
           {
            "bin_end": 0,
            "bin_start": -0.09999999999999998,
            "count": 0
           },
           {
            "bin_end": 0.10000000000000009,
            "bin_start": 0,
            "count": 1
           },
           {
            "bin_end": 0.20000000000000007,
            "bin_start": 0.10000000000000009,
            "count": 0
           },
           {
            "bin_end": 0.30000000000000004,
            "bin_start": 0.20000000000000007,
            "count": 0
           },
           {
            "bin_end": 0.4,
            "bin_start": 0.30000000000000004,
            "count": 0
           },
           {
            "bin_end": 0.5,
            "bin_start": 0.4,
            "count": 0
           }
          ],
          "max": "0.0",
          "min": "0.0",
          "nan_count": 7,
          "unique_count": 1
         }
        },
        {
         "dtype": "float64",
         "name": "activityrecognition_1",
         "stats": {
          "histogram": [
           {
            "bin_end": 19.5,
            "bin_start": 5,
            "count": 1
           },
           {
            "bin_end": 34,
            "bin_start": 19.5,
            "count": 1
           },
           {
            "bin_end": 48.5,
            "bin_start": 34,
            "count": 0
           },
           {
            "bin_end": 63,
            "bin_start": 48.5,
            "count": 0
           },
           {
            "bin_end": 77.5,
            "bin_start": 63,
            "count": 0
           },
           {
            "bin_end": 92,
            "bin_start": 77.5,
            "count": 1
           },
           {
            "bin_end": 106.5,
            "bin_start": 92,
            "count": 4
           },
           {
            "bin_end": 121,
            "bin_start": 106.5,
            "count": 0
           },
           {
            "bin_end": 135.5,
            "bin_start": 121,
            "count": 0
           },
           {
            "bin_end": 150,
            "bin_start": 135.5,
            "count": 1
           }
          ],
          "max": "150.0",
          "min": "5.0",
          "nan_count": 0,
          "unique_count": 5
         }
        },
        {
         "dtype": "float64",
         "name": "android_sensor_accelerometer_mean",
         "stats": {
          "histogram": [
           {
            "bin_end": 15.592666333401237,
            "bin_start": 0.6585181482235974,
            "count": 7
           },
           {
            "bin_end": 30.526814518578874,
            "bin_start": 15.592666333401237,
            "count": 0
           },
           {
            "bin_end": 45.460962703756515,
            "bin_start": 30.526814518578874,
            "count": 0
           },
           {
            "bin_end": 60.395110888934155,
            "bin_start": 45.460962703756515,
            "count": 0
           },
           {
            "bin_end": 75.32925907411179,
            "bin_start": 60.395110888934155,
            "count": 0
           },
           {
            "bin_end": 90.26340725928942,
            "bin_start": 75.32925907411179,
            "count": 0
           },
           {
            "bin_end": 105.19755544446707,
            "bin_start": 90.26340725928942,
            "count": 0
           },
           {
            "bin_end": 120.1317036296447,
            "bin_start": 105.19755544446707,
            "count": 0
           },
           {
            "bin_end": 135.06585181482237,
            "bin_start": 120.1317036296447,
            "count": 0
           },
           {
            "bin_end": 150,
            "bin_start": 135.06585181482237,
            "count": 1
           }
          ],
          "max": "150.0",
          "min": "0.6585181482235974",
          "nan_count": 0,
          "unique_count": 8
         }
        },
        {
         "dtype": "float64",
         "name": "android_sensor_accelerometer_min",
         "stats": {
          "histogram": [
           {
            "bin_end": 16.073166661062,
            "bin_start": 1.19240740118,
            "count": 7
           },
           {
            "bin_end": 30.953925920944002,
            "bin_start": 16.073166661062,
            "count": 0
           },
           {
            "bin_end": 45.83468518082601,
            "bin_start": 30.953925920944002,
            "count": 0
           },
           {
            "bin_end": 60.715444440708005,
            "bin_start": 45.83468518082601,
            "count": 0
           },
           {
            "bin_end": 75.59620370059001,
            "bin_start": 60.715444440708005,
            "count": 0
           },
           {
            "bin_end": 90.47696296047202,
            "bin_start": 75.59620370059001,
            "count": 0
           },
           {
            "bin_end": 105.35772222035402,
            "bin_start": 90.47696296047202,
            "count": 0
           },
           {
            "bin_end": 120.23848148023602,
            "bin_start": 105.35772222035402,
            "count": 0
           },
           {
            "bin_end": 135.11924074011802,
            "bin_start": 120.23848148023602,
            "count": 0
           },
           {
            "bin_end": 150,
            "bin_start": 135.11924074011802,
            "count": 1
           }
          ],
          "max": "150.0",
          "min": "1.19240740118",
          "nan_count": 0,
          "unique_count": 8
         }
        },
        {
         "dtype": "float64",
         "name": "android_sensor_accelerometer_max",
         "stats": {
          "histogram": [
           {
            "bin_end": 20.227132995884784,
            "bin_start": 5.807925550983092,
            "count": 6
           },
           {
            "bin_end": 34.646340440786474,
            "bin_start": 20.227132995884784,
            "count": 0
           },
           {
            "bin_end": 49.06554788568817,
            "bin_start": 34.646340440786474,
            "count": 0
           },
           {
            "bin_end": 63.484755330589856,
            "bin_start": 49.06554788568817,
            "count": 1
           },
           {
            "bin_end": 77.90396277549154,
            "bin_start": 63.484755330589856,
            "count": 0
           },
           {
            "bin_end": 92.32317022039324,
            "bin_start": 77.90396277549154,
            "count": 0
           },
           {
            "bin_end": 106.74237766529492,
            "bin_start": 92.32317022039324,
            "count": 0
           },
           {
            "bin_end": 121.16158511019661,
            "bin_start": 106.74237766529492,
            "count": 0
           },
           {
            "bin_end": 135.58079255509833,
            "bin_start": 121.16158511019661,
            "count": 0
           },
           {
            "bin_end": 150,
            "bin_start": 135.58079255509833,
            "count": 1
           }
          ],
          "max": "150.0",
          "min": "5.807925550983092",
          "nan_count": 0,
          "unique_count": 8
         }
        },
        {
         "dtype": "float64",
         "name": "android_sensor_accelerometer_std",
         "stats": {
          "histogram": [
           {
            "bin_end": 15.008457692923988,
            "bin_start": 0.00939743658221,
            "count": 7
           },
           {
            "bin_end": 30.007517949265765,
            "bin_start": 15.008457692923988,
            "count": 0
           },
           {
            "bin_end": 45.006578205607546,
            "bin_start": 30.007517949265765,
            "count": 0
           },
           {
            "bin_end": 60.005638461949324,
            "bin_start": 45.006578205607546,
            "count": 0
           },
           {
            "bin_end": 75.0046987182911,
            "bin_start": 60.005638461949324,
            "count": 0
           },
           {
            "bin_end": 90.00375897463287,
            "bin_start": 75.0046987182911,
            "count": 0
           },
           {
            "bin_end": 105.00281923097465,
            "bin_start": 90.00375897463287,
            "count": 0
           },
           {
            "bin_end": 120.00187948731643,
            "bin_start": 105.00281923097465,
            "count": 0
           },
           {
            "bin_end": 135.00093974365822,
            "bin_start": 120.00187948731643,
            "count": 0
           },
           {
            "bin_end": 150,
            "bin_start": 135.00093974365822,
            "count": 1
           }
          ],
          "max": "150.0",
          "min": "0.00939743658221",
          "nan_count": 0,
          "unique_count": 8
         }
        },
        {
         "dtype": "float64",
         "name": "android_sensor_game_rotation_vector_mean",
         "stats": {
          "histogram": [
           {
            "bin_end": 13.223241686351399,
            "bin_start": 0.025824095946,
            "count": 7
           },
           {
            "bin_end": 26.420659276756798,
            "bin_start": 13.223241686351399,
            "count": 0
           },
           {
            "bin_end": 39.618076867162195,
            "bin_start": 26.420659276756798,
            "count": 0
           },
           {
            "bin_end": 52.815494457567596,
            "bin_start": 39.618076867162195,
            "count": 0
           },
           {
            "bin_end": 66.012912047973,
            "bin_start": 52.815494457567596,
            "count": 0
           },
           {
            "bin_end": 79.2103296383784,
            "bin_start": 66.012912047973,
            "count": 0
           },
           {
            "bin_end": 92.4077472287838,
            "bin_start": 79.2103296383784,
            "count": 0
           },
           {
            "bin_end": 105.6051648191892,
            "bin_start": 92.4077472287838,
            "count": 0
           },
           {
            "bin_end": 118.80258240959459,
            "bin_start": 105.6051648191892,
            "count": 0
           },
           {
            "bin_end": 132,
            "bin_start": 118.80258240959459,
            "count": 1
           }
          ],
          "max": "132.0",
          "min": "0.025824095946",
          "nan_count": 0,
          "unique_count": 8
         }
        },
        {
         "dtype": "float64",
         "name": "android_sensor_game_rotation_vector_min",
         "stats": {
          "histogram": [
           {
            "bin_end": 13.22255216480163,
            "bin_start": 0.0250579608907,
            "count": 7
           },
           {
            "bin_end": 26.42004636871256,
            "bin_start": 13.22255216480163,
            "count": 0
           },
           {
            "bin_end": 39.61754057262349,
            "bin_start": 26.42004636871256,
            "count": 0
           },
           {
            "bin_end": 52.81503477653442,
            "bin_start": 39.61754057262349,
            "count": 0
           },
           {
            "bin_end": 66.01252898044535,
            "bin_start": 52.81503477653442,
            "count": 0
           },
           {
            "bin_end": 79.21002318435629,
            "bin_start": 66.01252898044535,
            "count": 0
           },
           {
            "bin_end": 92.40751738826721,
            "bin_start": 79.21002318435629,
            "count": 0
           },
           {
            "bin_end": 105.60501159217814,
            "bin_start": 92.40751738826721,
            "count": 0
           },
           {
            "bin_end": 118.80250579608908,
            "bin_start": 105.60501159217814,
            "count": 0
           },
           {
            "bin_end": 132,
            "bin_start": 118.80250579608908,
            "count": 1
           }
          ],
          "max": "132.0",
          "min": "0.0250579608907",
          "nan_count": 0,
          "unique_count": 8
         }
        },
        {
         "dtype": "float64",
         "name": "android_sensor_game_rotation_vector_max",
         "stats": {
          "histogram": [
           {
            "bin_end": 13.22418086929761,
            "bin_start": 0.0268676325529,
            "count": 7
           },
           {
            "bin_end": 26.42149410604232,
            "bin_start": 13.22418086929761,
            "count": 0
           },
           {
            "bin_end": 39.61880734278703,
            "bin_start": 26.42149410604232,
            "count": 0
           },
           {
            "bin_end": 52.81612057953174,
            "bin_start": 39.61880734278703,
            "count": 0
           },
           {
            "bin_end": 66.01343381627645,
            "bin_start": 52.81612057953174,
            "count": 0
           },
           {
            "bin_end": 79.21074705302115,
            "bin_start": 66.01343381627645,
            "count": 0
           },
           {
            "bin_end": 92.40806028976587,
            "bin_start": 79.21074705302115,
            "count": 0
           },
           {
            "bin_end": 105.60537352651058,
            "bin_start": 92.40806028976587,
            "count": 0
           },
           {
            "bin_end": 118.80268676325528,
            "bin_start": 105.60537352651058,
            "count": 0
           },
           {
            "bin_end": 132,
            "bin_start": 118.80268676325528,
            "count": 1
           }
          ],
          "max": "132.0",
          "min": "0.0268676325529",
          "nan_count": 0,
          "unique_count": 8
         }
        },
        {
         "dtype": "float64",
         "name": "android_sensor_game_rotation_vector_std",
         "stats": {
          "histogram": [
           {
            "bin_end": 13.2,
            "bin_start": 0,
            "count": 7
           },
           {
            "bin_end": 26.4,
            "bin_start": 13.2,
            "count": 0
           },
           {
            "bin_end": 39.599999999999994,
            "bin_start": 26.4,
            "count": 0
           },
           {
            "bin_end": 52.8,
            "bin_start": 39.599999999999994,
            "count": 0
           },
           {
            "bin_end": 66,
            "bin_start": 52.8,
            "count": 0
           },
           {
            "bin_end": 79.19999999999999,
            "bin_start": 66,
            "count": 0
           },
           {
            "bin_end": 92.39999999999999,
            "bin_start": 79.19999999999999,
            "count": 0
           },
           {
            "bin_end": 105.6,
            "bin_start": 92.39999999999999,
            "count": 0
           },
           {
            "bin_end": 118.8,
            "bin_start": 105.6,
            "count": 0
           },
           {
            "bin_end": 132,
            "bin_start": 118.8,
            "count": 1
           }
          ],
          "max": "132.0",
          "min": "0.0",
          "nan_count": 0,
          "unique_count": 8
         }
        },
        {
         "dtype": "float64",
         "name": "android_sensor_gravity_mean",
         "stats": {
          "histogram": [
           {
            "bin_end": 13.901708192649503,
            "bin_start": 0.001897991832780606,
            "count": 7
           },
           {
            "bin_end": 27.801518393466225,
            "bin_start": 13.901708192649503,
            "count": 0
           },
           {
            "bin_end": 41.70132859428294,
            "bin_start": 27.801518393466225,
            "count": 0
           },
           {
            "bin_end": 55.601138795099665,
            "bin_start": 41.70132859428294,
            "count": 0
           },
           {
            "bin_end": 69.50094899591639,
            "bin_start": 55.601138795099665,
            "count": 0
           },
           {
            "bin_end": 83.4007591967331,
            "bin_start": 69.50094899591639,
            "count": 0
           },
           {
            "bin_end": 97.30056939754984,
            "bin_start": 83.4007591967331,
            "count": 0
           },
           {
            "bin_end": 111.20037959836655,
            "bin_start": 97.30056939754984,
            "count": 0
           },
           {
            "bin_end": 125.10018979918327,
            "bin_start": 111.20037959836655,
            "count": 0
           },
           {
            "bin_end": 139,
            "bin_start": 125.10018979918327,
            "count": 1
           }
          ],
          "max": "139.0",
          "min": "0.001897991832780606",
          "nan_count": 0,
          "unique_count": 8
         }
        },
        {
         "dtype": "float64",
         "name": "android_sensor_gravity_min",
         "stats": {
          "histogram": [
           {
            "bin_end": 13.901750398612132,
            "bin_start": 0.0019448873468127128,
            "count": 7
           },
           {
            "bin_end": 27.80155590987745,
            "bin_start": 13.901750398612132,
            "count": 0
           },
           {
            "bin_end": 41.701361421142764,
            "bin_start": 27.80155590987745,
            "count": 0
           },
           {
            "bin_end": 55.601166932408084,
            "bin_start": 41.701361421142764,
            "count": 0
           },
           {
            "bin_end": 69.5009724436734,
            "bin_start": 55.601166932408084,
            "count": 0
           },
           {
            "bin_end": 83.40077795493872,
            "bin_start": 69.5009724436734,
            "count": 0
           },
           {
            "bin_end": 97.30058346620405,
            "bin_start": 83.40077795493872,
            "count": 0
           },
           {
            "bin_end": 111.20038897746936,
            "bin_start": 97.30058346620405,
            "count": 0
           },
           {
            "bin_end": 125.10019448873467,
            "bin_start": 111.20038897746936,
            "count": 0
           },
           {
            "bin_end": 139,
            "bin_start": 125.10019448873467,
            "count": 1
           }
          ],
          "max": "139.0",
          "min": "0.0019448873468127128",
          "nan_count": 0,
          "unique_count": 8
         }
        },
        {
         "dtype": "float64",
         "name": "android_sensor_gravity_max",
         "stats": {
          "histogram": [
           {
            "bin_end": 13.901674387679616,
            "bin_start": 0.0018604307551298657,
            "count": 7
           },
           {
            "bin_end": 27.801488344604103,
            "bin_start": 13.901674387679616,
            "count": 0
           },
           {
            "bin_end": 41.701302301528585,
            "bin_start": 27.801488344604103,
            "count": 0
           },
           {
            "bin_end": 55.601116258453075,
            "bin_start": 41.701302301528585,
            "count": 0
           },
           {
            "bin_end": 69.50093021537756,
            "bin_start": 55.601116258453075,
            "count": 0
           },
           {
            "bin_end": 83.40074417230204,
            "bin_start": 69.50093021537756,
            "count": 0
           },
           {
            "bin_end": 97.30055812922653,
            "bin_start": 83.40074417230204,
            "count": 0
           },
           {
            "bin_end": 111.20037208615102,
            "bin_start": 97.30055812922653,
            "count": 0
           },
           {
            "bin_end": 125.10018604307551,
            "bin_start": 111.20037208615102,
            "count": 0
           },
           {
            "bin_end": 139,
            "bin_start": 125.10018604307551,
            "count": 1
           }
          ],
          "max": "139.0",
          "min": "0.0018604307551298657",
          "nan_count": 0,
          "unique_count": 8
         }
        },
        {
         "dtype": "float64",
         "name": "android_sensor_gravity_std",
         "stats": {
          "histogram": [
           {
            "bin_end": 13.800000003264712,
            "bin_start": 3.62745745959e-09,
            "count": 7
           },
           {
            "bin_end": 27.600000002901968,
            "bin_start": 13.800000003264712,
            "count": 0
           },
           {
            "bin_end": 41.40000000253922,
            "bin_start": 27.600000002901968,
            "count": 0
           },
           {
            "bin_end": 55.20000000217647,
            "bin_start": 41.40000000253922,
            "count": 0
           },
           {
            "bin_end": 69.00000000181373,
            "bin_start": 55.20000000217647,
            "count": 0
           },
           {
            "bin_end": 82.800000001451,
            "bin_start": 69.00000000181373,
            "count": 0
           },
           {
            "bin_end": 96.60000000108825,
            "bin_start": 82.800000001451,
            "count": 0
           },
           {
            "bin_end": 110.4000000007255,
            "bin_start": 96.60000000108825,
            "count": 0
           },
           {
            "bin_end": 124.20000000036275,
            "bin_start": 110.4000000007255,
            "count": 0
           },
           {
            "bin_end": 138,
            "bin_start": 124.20000000036275,
            "count": 1
           }
          ],
          "max": "138.0",
          "min": "3.62745745959e-09",
          "nan_count": 0,
          "unique_count": 8
         }
        },
        {
         "dtype": "float64",
         "name": "android_sensor_gyroscope_mean",
         "stats": {
          "histogram": [
           {
            "bin_end": 13.30109955745,
            "bin_start": 0.0012217305,
            "count": 7
           },
           {
            "bin_end": 26.6009773844,
            "bin_start": 13.30109955745,
            "count": 0
           },
           {
            "bin_end": 39.90085521135,
            "bin_start": 26.6009773844,
            "count": 0
           },
           {
            "bin_end": 53.2007330383,
            "bin_start": 39.90085521135,
            "count": 0
           },
           {
            "bin_end": 66.50061086525001,
            "bin_start": 53.2007330383,
            "count": 0
           },
           {
            "bin_end": 79.8004886922,
            "bin_start": 66.50061086525001,
            "count": 0
           },
           {
            "bin_end": 93.10036651915001,
            "bin_start": 79.8004886922,
            "count": 0
           },
           {
            "bin_end": 106.40024434610001,
            "bin_start": 93.10036651915001,
            "count": 0
           },
           {
            "bin_end": 119.70012217305,
            "bin_start": 106.40024434610001,
            "count": 0
           },
           {
            "bin_end": 133,
            "bin_start": 119.70012217305,
            "count": 1
           }
          ],
          "max": "133.0",
          "min": "0.0012217305",
          "nan_count": 0,
          "unique_count": 8
         }
        },
        {
         "dtype": "float64",
         "name": "android_sensor_gyroscope_min",
         "stats": {
          "histogram": [
           {
            "bin_end": 13.3,
            "bin_start": 0,
            "count": 7
           },
           {
            "bin_end": 26.6,
            "bin_start": 13.3,
            "count": 0
           },
           {
            "bin_end": 39.900000000000006,
            "bin_start": 26.6,
            "count": 0
           },
           {
            "bin_end": 53.2,
            "bin_start": 39.900000000000006,
            "count": 0
           },
           {
            "bin_end": 66.5,
            "bin_start": 53.2,
            "count": 0
           },
           {
            "bin_end": 79.80000000000001,
            "bin_start": 66.5,
            "count": 0
           },
           {
            "bin_end": 93.10000000000001,
            "bin_start": 79.80000000000001,
            "count": 0
           },
           {
            "bin_end": 106.4,
            "bin_start": 93.10000000000001,
            "count": 0
           },
           {
            "bin_end": 119.7,
            "bin_start": 106.4,
            "count": 0
           },
           {
            "bin_end": 133,
            "bin_start": 119.7,
            "count": 1
           }
          ],
          "max": "133.0",
          "min": "0.0",
          "nan_count": 0,
          "unique_count": 8
         }
        },
        {
         "dtype": "float64",
         "name": "android_sensor_gyroscope_max",
         "stats": {
          "histogram": [
           {
            "bin_end": 13.30109955745,
            "bin_start": 0.0012217305,
            "count": 7
           },
           {
            "bin_end": 26.6009773844,
            "bin_start": 13.30109955745,
            "count": 0
           },
           {
            "bin_end": 39.90085521135,
            "bin_start": 26.6009773844,
            "count": 0
           },
           {
            "bin_end": 53.2007330383,
            "bin_start": 39.90085521135,
            "count": 0
           },
           {
            "bin_end": 66.50061086525001,
            "bin_start": 53.2007330383,
            "count": 0
           },
           {
            "bin_end": 79.8004886922,
            "bin_start": 66.50061086525001,
            "count": 0
           },
           {
            "bin_end": 93.10036651915001,
            "bin_start": 79.8004886922,
            "count": 0
           },
           {
            "bin_end": 106.40024434610001,
            "bin_start": 93.10036651915001,
            "count": 0
           },
           {
            "bin_end": 119.70012217305,
            "bin_start": 106.40024434610001,
            "count": 0
           },
           {
            "bin_end": 133,
            "bin_start": 119.70012217305,
            "count": 1
           }
          ],
          "max": "133.0",
          "min": "0.0012217305",
          "nan_count": 0,
          "unique_count": 8
         }
        },
        {
         "dtype": "float64",
         "name": "android_sensor_gyroscope_std",
         "stats": {
          "histogram": [
           {
            "bin_end": 13.300371874681037,
            "bin_start": 0.000413194090042,
            "count": 7
           },
           {
            "bin_end": 26.600330555272034,
            "bin_start": 13.300371874681037,
            "count": 0
           },
           {
            "bin_end": 39.90028923586303,
            "bin_start": 26.600330555272034,
            "count": 0
           },
           {
            "bin_end": 53.200247916454025,
            "bin_start": 39.90028923586303,
            "count": 0
           },
           {
            "bin_end": 66.50020659704502,
            "bin_start": 53.200247916454025,
            "count": 0
           },
           {
            "bin_end": 79.80016527763601,
            "bin_start": 66.50020659704502,
            "count": 0
           },
           {
            "bin_end": 93.10012395822702,
            "bin_start": 79.80016527763601,
            "count": 0
           },
           {
            "bin_end": 106.400082638818,
            "bin_start": 93.10012395822702,
            "count": 0
           },
           {
            "bin_end": 119.700041319409,
            "bin_start": 106.400082638818,
            "count": 0
           },
           {
            "bin_end": 133,
            "bin_start": 119.700041319409,
            "count": 1
           }
          ],
          "max": "133.0",
          "min": "0.000413194090042",
          "nan_count": 0,
          "unique_count": 8
         }
        },
        {
         "dtype": "float64",
         "name": "android_sensor_gyroscope_uncalibrated_mean",
         "stats": {
          "histogram": [
           {
            "bin_end": 13.207082287896124,
            "bin_start": 0.00786920877347,
            "count": 7
           },
           {
            "bin_end": 26.406295367018778,
            "bin_start": 13.207082287896124,
            "count": 0
           },
           {
            "bin_end": 39.60550844614143,
            "bin_start": 26.406295367018778,
            "count": 0
           },
           {
            "bin_end": 52.804721525264085,
            "bin_start": 39.60550844614143,
            "count": 0
           },
           {
            "bin_end": 66.00393460438674,
            "bin_start": 52.804721525264085,
            "count": 0
           },
           {
            "bin_end": 79.20314768350939,
            "bin_start": 66.00393460438674,
            "count": 0
           },
           {
            "bin_end": 92.40236076263204,
            "bin_start": 79.20314768350939,
            "count": 0
           },
           {
            "bin_end": 105.6015738417547,
            "bin_start": 92.40236076263204,
            "count": 0
           },
           {
            "bin_end": 118.80078692087736,
            "bin_start": 105.6015738417547,
            "count": 0
           },
           {
            "bin_end": 132,
            "bin_start": 118.80078692087736,
            "count": 1
           }
          ],
          "max": "132.0",
          "min": "0.00786920877347",
          "nan_count": 0,
          "unique_count": 8
         }
        },
        {
         "dtype": "float64",
         "name": "android_sensor_gyroscope_uncalibrated_min",
         "stats": {
          "histogram": [
           {
            "bin_end": 13.201660583013751,
            "bin_start": 0.0018450922375,
            "count": 7
           },
           {
            "bin_end": 26.40147607379,
            "bin_start": 13.201660583013751,
            "count": 0
           },
           {
            "bin_end": 39.60129156456625,
            "bin_start": 26.40147607379,
            "count": 0
           },
           {
            "bin_end": 52.801107055342506,
            "bin_start": 39.60129156456625,
            "count": 0
           },
           {
            "bin_end": 66.00092254611876,
            "bin_start": 52.801107055342506,
            "count": 0
           },
           {
            "bin_end": 79.200738036895,
            "bin_start": 66.00092254611876,
            "count": 0
           },
           {
            "bin_end": 92.40055352767126,
            "bin_start": 79.200738036895,
            "count": 0
           },
           {
            "bin_end": 105.60036901844751,
            "bin_start": 92.40055352767126,
            "count": 0
           },
           {
            "bin_end": 118.80018450922375,
            "bin_start": 105.60036901844751,
            "count": 0
           },
           {
            "bin_end": 132,
            "bin_start": 118.80018450922375,
            "count": 1
           }
          ],
          "max": "132.0",
          "min": "0.0018450922375",
          "nan_count": 0,
          "unique_count": 8
         }
        },
        {
         "dtype": "float64",
         "name": "android_sensor_gyroscope_uncalibrated_max",
         "stats": {
          "histogram": [
           {
            "bin_end": 13.21166219225559,
            "bin_start": 0.0129579913951,
            "count": 7
           },
           {
            "bin_end": 26.41036639311608,
            "bin_start": 13.21166219225559,
            "count": 0
           },
           {
            "bin_end": 39.60907059397657,
            "bin_start": 26.41036639311608,
            "count": 0
           },
           {
            "bin_end": 52.80777479483706,
            "bin_start": 39.60907059397657,
            "count": 0
           },
           {
            "bin_end": 66.00647899569755,
            "bin_start": 52.80777479483706,
            "count": 0
           },
           {
            "bin_end": 79.20518319655804,
            "bin_start": 66.00647899569755,
            "count": 0
           },
           {
            "bin_end": 92.40388739741853,
            "bin_start": 79.20518319655804,
            "count": 0
           },
           {
            "bin_end": 105.60259159827902,
            "bin_start": 92.40388739741853,
            "count": 0
           },
           {
            "bin_end": 118.80129579913951,
            "bin_start": 105.60259159827902,
            "count": 0
           },
           {
            "bin_end": 132,
            "bin_start": 118.80129579913951,
            "count": 1
           }
          ],
          "max": "132.0",
          "min": "0.0129579913951",
          "nan_count": 0,
          "unique_count": 8
         }
        },
        {
         "dtype": "float64",
         "name": "android_sensor_gyroscope_uncalibrated_std",
         "stats": {
          "histogram": [
           {
            "bin_end": 13.20043639026568,
            "bin_start": 0.000484878072976,
            "count": 7
           },
           {
            "bin_end": 26.40038790245838,
            "bin_start": 13.20043639026568,
            "count": 0
           },
           {
            "bin_end": 39.60033941465108,
            "bin_start": 26.40038790245838,
            "count": 0
           },
           {
            "bin_end": 52.800290926843786,
            "bin_start": 39.60033941465108,
            "count": 0
           },
           {
            "bin_end": 66.0002424390365,
            "bin_start": 52.800290926843786,
            "count": 0
           },
           {
            "bin_end": 79.2001939512292,
            "bin_start": 66.0002424390365,
            "count": 0
           },
           {
            "bin_end": 92.40014546342191,
            "bin_start": 79.2001939512292,
            "count": 0
           },
           {
            "bin_end": 105.6000969756146,
            "bin_start": 92.40014546342191,
            "count": 0
           },
           {
            "bin_end": 118.8000484878073,
            "bin_start": 105.6000969756146,
            "count": 0
           },
           {
            "bin_end": 132,
            "bin_start": 118.8000484878073,
            "count": 1
           }
          ],
          "max": "132.0",
          "min": "0.000484878072976",
          "nan_count": 0,
          "unique_count": 8
         }
        },
        {
         "dtype": "float64",
         "name": "android_sensor_light_mean",
         "stats": {
          "histogram": [
           {
            "bin_end": 424.3,
            "bin_start": 0,
            "count": 6
           },
           {
            "bin_end": 848.6,
            "bin_start": 424.3,
            "count": 1
           },
           {
            "bin_end": 1272.9,
            "bin_start": 848.6,
            "count": 0
           },
           {
            "bin_end": 1697.2,
            "bin_start": 1272.9,
            "count": 0
           },
           {
            "bin_end": 2121.5,
            "bin_start": 1697.2,
            "count": 0
           },
           {
            "bin_end": 2545.8,
            "bin_start": 2121.5,
            "count": 0
           },
           {
            "bin_end": 2970.1,
            "bin_start": 2545.8,
            "count": 0
           },
           {
            "bin_end": 3394.4,
            "bin_start": 2970.1,
            "count": 0
           },
           {
            "bin_end": 3818.7000000000003,
            "bin_start": 3394.4,
            "count": 0
           },
           {
            "bin_end": 4243,
            "bin_start": 3818.7000000000003,
            "count": 1
           }
          ],
          "max": "4243.0",
          "min": "0.0",
          "nan_count": 0,
          "unique_count": 8
         }
        },
        {
         "dtype": "float64",
         "name": "android_sensor_light_min",
         "stats": {
          "histogram": [
           {
            "bin_end": 424.3,
            "bin_start": 0,
            "count": 6
           },
           {
            "bin_end": 848.6,
            "bin_start": 424.3,
            "count": 1
           },
           {
            "bin_end": 1272.9,
            "bin_start": 848.6,
            "count": 0
           },
           {
            "bin_end": 1697.2,
            "bin_start": 1272.9,
            "count": 0
           },
           {
            "bin_end": 2121.5,
            "bin_start": 1697.2,
            "count": 0
           },
           {
            "bin_end": 2545.8,
            "bin_start": 2121.5,
            "count": 0
           },
           {
            "bin_end": 2970.1,
            "bin_start": 2545.8,
            "count": 0
           },
           {
            "bin_end": 3394.4,
            "bin_start": 2970.1,
            "count": 0
           },
           {
            "bin_end": 3818.7000000000003,
            "bin_start": 3394.4,
            "count": 0
           },
           {
            "bin_end": 4243,
            "bin_start": 3818.7000000000003,
            "count": 1
           }
          ],
          "max": "4243.0",
          "min": "0.0",
          "nan_count": 0,
          "unique_count": 8
         }
        },
        {
         "dtype": "float64",
         "name": "android_sensor_light_max",
         "stats": {
          "histogram": [
           {
            "bin_end": 424.3,
            "bin_start": 0,
            "count": 6
           },
           {
            "bin_end": 848.6,
            "bin_start": 424.3,
            "count": 1
           },
           {
            "bin_end": 1272.9,
            "bin_start": 848.6,
            "count": 0
           },
           {
            "bin_end": 1697.2,
            "bin_start": 1272.9,
            "count": 0
           },
           {
            "bin_end": 2121.5,
            "bin_start": 1697.2,
            "count": 0
           },
           {
            "bin_end": 2545.8,
            "bin_start": 2121.5,
            "count": 0
           },
           {
            "bin_end": 2970.1,
            "bin_start": 2545.8,
            "count": 0
           },
           {
            "bin_end": 3394.4,
            "bin_start": 2970.1,
            "count": 0
           },
           {
            "bin_end": 3818.7000000000003,
            "bin_start": 3394.4,
            "count": 0
           },
           {
            "bin_end": 4243,
            "bin_start": 3818.7000000000003,
            "count": 1
           }
          ],
          "max": "4243.0",
          "min": "0.0",
          "nan_count": 0,
          "unique_count": 8
         }
        },
        {
         "dtype": "float64",
         "name": "android_sensor_light_std",
         "stats": {
          "histogram": [
           {
            "bin_end": 38.7947958151,
            "bin_start": 0,
            "count": 5
           },
           {
            "bin_end": 77.5895916302,
            "bin_start": 38.7947958151,
            "count": 2
           },
           {
            "bin_end": 116.3843874453,
            "bin_start": 77.5895916302,
            "count": 0
           },
           {
            "bin_end": 155.1791832604,
            "bin_start": 116.3843874453,
            "count": 0
           },
           {
            "bin_end": 193.9739790755,
            "bin_start": 155.1791832604,
            "count": 0
           },
           {
            "bin_end": 232.7687748906,
            "bin_start": 193.9739790755,
            "count": 0
           },
           {
            "bin_end": 271.56357070570004,
            "bin_start": 232.7687748906,
            "count": 0
           },
           {
            "bin_end": 310.3583665208,
            "bin_start": 271.56357070570004,
            "count": 0
           },
           {
            "bin_end": 349.1531623359,
            "bin_start": 310.3583665208,
            "count": 0
           },
           {
            "bin_end": 387.947958151,
            "bin_start": 349.1531623359,
            "count": 1
           }
          ],
          "max": "387.947958151",
          "min": "0.0",
          "nan_count": 0,
          "unique_count": 7
         }
        },
        {
         "dtype": "float64",
         "name": "android_sensor_linear_acceleration_mean",
         "stats": {
          "histogram": [
           {
            "bin_end": 13.910963019656979,
            "bin_start": 0.0121811329522,
            "count": 7
           },
           {
            "bin_end": 27.809744906361757,
            "bin_start": 13.910963019656979,
            "count": 0
           },
           {
            "bin_end": 41.70852679306653,
            "bin_start": 27.809744906361757,
            "count": 0
           },
           {
            "bin_end": 55.607308679771315,
            "bin_start": 41.70852679306653,
            "count": 0
           },
           {
            "bin_end": 69.50609056647609,
            "bin_start": 55.607308679771315,
            "count": 0
           },
           {
            "bin_end": 83.40487245318086,
            "bin_start": 69.50609056647609,
            "count": 0
           },
           {
            "bin_end": 97.30365433988564,
            "bin_start": 83.40487245318086,
            "count": 0
           },
           {
            "bin_end": 111.20243622659042,
            "bin_start": 97.30365433988564,
            "count": 0
           },
           {
            "bin_end": 125.1012181132952,
            "bin_start": 111.20243622659042,
            "count": 0
           },
           {
            "bin_end": 139,
            "bin_start": 125.1012181132952,
            "count": 1
           }
          ],
          "max": "139.0",
          "min": "0.0121811329522",
          "nan_count": 0,
          "unique_count": 8
         }
        },
        {
         "dtype": "float64",
         "name": "android_sensor_linear_acceleration_min",
         "stats": {
          "histogram": [
           {
            "bin_end": 13.90094978777804,
            "bin_start": 0.00105531975338,
            "count": 7
           },
           {
            "bin_end": 27.8008442558027,
            "bin_start": 13.90094978777804,
            "count": 0
           },
           {
            "bin_end": 41.70073872382736,
            "bin_start": 27.8008442558027,
            "count": 0
           },
           {
            "bin_end": 55.60063319185202,
            "bin_start": 41.70073872382736,
            "count": 0
           },
           {
            "bin_end": 69.50052765987668,
            "bin_start": 55.60063319185202,
            "count": 0
           },
           {
            "bin_end": 83.40042212790134,
            "bin_start": 69.50052765987668,
            "count": 0
           },
           {
            "bin_end": 97.300316595926,
            "bin_start": 83.40042212790134,
            "count": 0
           },
           {
            "bin_end": 111.20021106395066,
            "bin_start": 97.300316595926,
            "count": 0
           },
           {
            "bin_end": 125.10010553197532,
            "bin_start": 111.20021106395066,
            "count": 0
           },
           {
            "bin_end": 139,
            "bin_start": 125.10010553197532,
            "count": 1
           }
          ],
          "max": "139.0",
          "min": "0.00105531975338",
          "nan_count": 0,
          "unique_count": 8
         }
        },
        {
         "dtype": "float64",
         "name": "android_sensor_linear_acceleration_max",
         "stats": {
          "histogram": [
           {
            "bin_end": 13.910963019656979,
            "bin_start": 0.0121811329522,
            "count": 6
           },
           {
            "bin_end": 27.809744906361757,
            "bin_start": 13.910963019656979,
            "count": 0
           },
           {
            "bin_end": 41.70852679306653,
            "bin_start": 27.809744906361757,
            "count": 0
           },
           {
            "bin_end": 55.607308679771315,
            "bin_start": 41.70852679306653,
            "count": 1
           },
           {
            "bin_end": 69.50609056647609,
            "bin_start": 55.607308679771315,
            "count": 0
           },
           {
            "bin_end": 83.40487245318086,
            "bin_start": 69.50609056647609,
            "count": 0
           },
           {
            "bin_end": 97.30365433988564,
            "bin_start": 83.40487245318086,
            "count": 0
           },
           {
            "bin_end": 111.20243622659042,
            "bin_start": 97.30365433988564,
            "count": 0
           },
           {
            "bin_end": 125.1012181132952,
            "bin_start": 111.20243622659042,
            "count": 0
           },
           {
            "bin_end": 139,
            "bin_start": 125.1012181132952,
            "count": 1
           }
          ],
          "max": "139.0",
          "min": "0.0121811329522",
          "nan_count": 0,
          "unique_count": 8
         }
        },
        {
         "dtype": "float64",
         "name": "android_sensor_linear_acceleration_std",
         "stats": {
          "histogram": [
           {
            "bin_end": 13.800653358991028,
            "bin_start": 0.000725954434475,
            "count": 7
           },
           {
            "bin_end": 27.60058076354758,
            "bin_start": 13.800653358991028,
            "count": 0
           },
           {
            "bin_end": 41.400508168104125,
            "bin_start": 27.60058076354758,
            "count": 0
           },
           {
            "bin_end": 55.20043557266068,
            "bin_start": 41.400508168104125,
            "count": 0
           },
           {
            "bin_end": 69.00036297721724,
            "bin_start": 55.20043557266068,
            "count": 0
           },
           {
            "bin_end": 82.80029038177378,
            "bin_start": 69.00036297721724,
            "count": 0
           },
           {
            "bin_end": 96.60021778633033,
            "bin_start": 82.80029038177378,
            "count": 0
           },
           {
            "bin_end": 110.40014519088689,
            "bin_start": 96.60021778633033,
            "count": 0
           },
           {
            "bin_end": 124.20007259544344,
            "bin_start": 110.40014519088689,
            "count": 0
           },
           {
            "bin_end": 138,
            "bin_start": 124.20007259544344,
            "count": 1
           }
          ],
          "max": "138.0",
          "min": "0.000725954434475",
          "nan_count": 0,
          "unique_count": 8
         }
        },
        {
         "dtype": "float64",
         "name": "android_sensor_magnetic_field_mean",
         "stats": {
          "histogram": [
           {
            "bin_end": 26.548862187158,
            "bin_start": 7.99523222362,
            "count": 1
           },
           {
            "bin_end": 45.102492150696,
            "bin_start": 26.548862187158,
            "count": 3
           },
           {
            "bin_end": 63.656122114234,
            "bin_start": 45.102492150696,
            "count": 2
           },
           {
            "bin_end": 82.20975207777201,
            "bin_start": 63.656122114234,
            "count": 0
           },
           {
            "bin_end": 100.76338204131,
            "bin_start": 82.20975207777201,
            "count": 0
           },
           {
            "bin_end": 119.31701200484801,
            "bin_start": 100.76338204131,
            "count": 0
           },
           {
            "bin_end": 137.870641968386,
            "bin_start": 119.31701200484801,
            "count": 0
           },
           {
            "bin_end": 156.424271931924,
            "bin_start": 137.870641968386,
            "count": 1
           },
           {
            "bin_end": 174.97790189546203,
            "bin_start": 156.424271931924,
            "count": 0
           },
           {
            "bin_end": 193.531531859,
            "bin_start": 174.97790189546203,
            "count": 1
           }
          ],
          "max": "193.531531859",
          "min": "7.99523222362",
          "nan_count": 0,
          "unique_count": 8
         }
        },
        {
         "dtype": "float64",
         "name": "android_sensor_magnetic_field_min",
         "stats": {
          "histogram": [
           {
            "bin_end": 23.382865511832,
            "bin_start": 4.54035644548,
            "count": 1
           },
           {
            "bin_end": 42.225374578184,
            "bin_start": 23.382865511832,
            "count": 3
           },
           {
            "bin_end": 61.067883644536,
            "bin_start": 42.225374578184,
            "count": 2
           },
           {
            "bin_end": 79.910392710888,
            "bin_start": 61.067883644536,
            "count": 0
           },
           {
            "bin_end": 98.75290177724,
            "bin_start": 79.910392710888,
            "count": 0
           },
           {
            "bin_end": 117.595410843592,
            "bin_start": 98.75290177724,
            "count": 0
           },
           {
            "bin_end": 136.43791990994401,
            "bin_start": 117.595410843592,
            "count": 0
           },
           {
            "bin_end": 155.280428976296,
            "bin_start": 136.43791990994401,
            "count": 1
           },
           {
            "bin_end": 174.122938042648,
            "bin_start": 155.280428976296,
            "count": 0
           },
           {
            "bin_end": 192.965447109,
            "bin_start": 174.122938042648,
            "count": 1
           }
          ],
          "max": "192.965447109",
          "min": "4.54035644548",
          "nan_count": 0,
          "unique_count": 8
         }
        },
        {
         "dtype": "float64",
         "name": "android_sensor_magnetic_field_max",
         "stats": {
          "histogram": [
           {
            "bin_end": 29.512511825460003,
            "bin_start": 11.2451725414,
            "count": 1
           },
           {
            "bin_end": 47.77985110952,
            "bin_start": 29.512511825460003,
            "count": 3
           },
           {
            "bin_end": 66.04719039358,
            "bin_start": 47.77985110952,
            "count": 2
           },
           {
            "bin_end": 84.31452967764,
            "bin_start": 66.04719039358,
            "count": 0
           },
           {
            "bin_end": 102.5818689617,
            "bin_start": 84.31452967764,
            "count": 0
           },
           {
            "bin_end": 120.84920824576,
            "bin_start": 102.5818689617,
            "count": 0
           },
           {
            "bin_end": 139.11654752982,
            "bin_start": 120.84920824576,
            "count": 1
           },
           {
            "bin_end": 157.38388681388,
            "bin_start": 139.11654752982,
            "count": 0
           },
           {
            "bin_end": 175.65122609794,
            "bin_start": 157.38388681388,
            "count": 0
           },
           {
            "bin_end": 193.918565382,
            "bin_start": 175.65122609794,
            "count": 1
           }
          ],
          "max": "193.918565382",
          "min": "11.2451725414",
          "nan_count": 0,
          "unique_count": 8
         }
        },
        {
         "dtype": "float64",
         "name": "android_sensor_magnetic_field_std",
         "stats": {
          "histogram": [
           {
            "bin_end": 13.706422783886163,
            "bin_start": 0.00713642654018,
            "count": 7
           },
           {
            "bin_end": 27.405709141232144,
            "bin_start": 13.706422783886163,
            "count": 0
           },
           {
            "bin_end": 41.10499549857813,
            "bin_start": 27.405709141232144,
            "count": 0
           },
           {
            "bin_end": 54.80428185592411,
            "bin_start": 41.10499549857813,
            "count": 0
           },
           {
            "bin_end": 68.5035682132701,
            "bin_start": 54.80428185592411,
            "count": 0
           },
           {
            "bin_end": 82.20285457061608,
            "bin_start": 68.5035682132701,
            "count": 0
           },
           {
            "bin_end": 95.90214092796207,
            "bin_start": 82.20285457061608,
            "count": 0
           },
           {
            "bin_end": 109.60142728530805,
            "bin_start": 95.90214092796207,
            "count": 0
           },
           {
            "bin_end": 123.30071364265403,
            "bin_start": 109.60142728530805,
            "count": 0
           },
           {
            "bin_end": 137,
            "bin_start": 123.30071364265403,
            "count": 1
           }
          ],
          "max": "137.0",
          "min": "0.00713642654018",
          "nan_count": 0,
          "unique_count": 8
         }
        },
        {
         "dtype": "float64",
         "name": "android_sensor_magnetic_field_uncalibrated_mean",
         "stats": {
          "histogram": [
           {
            "bin_end": 57.185323464460005,
            "bin_start": 17.0374283374,
            "count": 1
           },
           {
            "bin_end": 97.33321859152001,
            "bin_start": 57.185323464460005,
            "count": 2
           },
           {
            "bin_end": 137.48111371858002,
            "bin_start": 97.33321859152001,
            "count": 3
           },
           {
            "bin_end": 177.62900884564002,
            "bin_start": 137.48111371858002,
            "count": 1
           },
           {
            "bin_end": 217.7769039727,
            "bin_start": 177.62900884564002,
            "count": 0
           },
           {
            "bin_end": 257.92479909976004,
            "bin_start": 217.7769039727,
            "count": 0
           },
           {
            "bin_end": 298.07269422682003,
            "bin_start": 257.92479909976004,
            "count": 0
           },
           {
            "bin_end": 338.22058935388003,
            "bin_start": 298.07269422682003,
            "count": 0
           },
           {
            "bin_end": 378.36848448094,
            "bin_start": 338.22058935388003,
            "count": 0
           },
           {
            "bin_end": 418.516379608,
            "bin_start": 378.36848448094,
            "count": 1
           }
          ],
          "max": "418.516379608",
          "min": "17.0374283374",
          "nan_count": 0,
          "unique_count": 8
         }
        },
        {
         "dtype": "float64",
         "name": "android_sensor_magnetic_field_uncalibrated_min",
         "stats": {
          "histogram": [
           {
            "bin_end": 57.09169709869,
            "bin_start": 16.9333990421,
            "count": 1
           },
           {
            "bin_end": 97.24999515528,
            "bin_start": 57.09169709869,
            "count": 2
           },
           {
            "bin_end": 137.40829321187,
            "bin_start": 97.24999515528,
            "count": 3
           },
           {
            "bin_end": 177.56659126846,
            "bin_start": 137.40829321187,
            "count": 1
           },
           {
            "bin_end": 217.72488932505001,
            "bin_start": 177.56659126846,
            "count": 0
           },
           {
            "bin_end": 257.88318738163997,
            "bin_start": 217.72488932505001,
            "count": 0
           },
           {
            "bin_end": 298.04148543823,
            "bin_start": 257.88318738163997,
            "count": 0
           },
           {
            "bin_end": 338.19978349482,
            "bin_start": 298.04148543823,
            "count": 0
           },
           {
            "bin_end": 378.35808155141,
            "bin_start": 338.19978349482,
            "count": 0
           },
           {
            "bin_end": 418.516379608,
            "bin_start": 378.35808155141,
            "count": 1
           }
          ],
          "max": "418.516379608",
          "min": "16.9333990421",
          "nan_count": 0,
          "unique_count": 8
         }
        },
        {
         "dtype": "float64",
         "name": "android_sensor_magnetic_field_uncalibrated_max",
         "stats": {
          "histogram": [
           {
            "bin_end": 57.214508788210004,
            "bin_start": 17.0698564749,
            "count": 1
           },
           {
            "bin_end": 97.35916110152002,
            "bin_start": 57.214508788210004,
            "count": 2
           },
           {
            "bin_end": 137.50381341483,
            "bin_start": 97.35916110152002,
            "count": 2
           },
           {
            "bin_end": 177.64846572814002,
            "bin_start": 137.50381341483,
            "count": 2
           },
           {
            "bin_end": 217.79311804145004,
            "bin_start": 177.64846572814002,
            "count": 0
           },
           {
            "bin_end": 257.93777035476,
            "bin_start": 217.79311804145004,
            "count": 0
           },
           {
            "bin_end": 298.08242266807,
            "bin_start": 257.93777035476,
            "count": 0
           },
           {
            "bin_end": 338.22707498138004,
            "bin_start": 298.08242266807,
            "count": 0
           },
           {
            "bin_end": 378.37172729469006,
            "bin_start": 338.22707498138004,
            "count": 0
           },
           {
            "bin_end": 418.516379608,
            "bin_start": 378.37172729469006,
            "count": 1
           }
          ],
          "max": "418.516379608",
          "min": "17.0698564749",
          "nan_count": 0,
          "unique_count": 8
         }
        },
        {
         "dtype": "float64",
         "name": "android_sensor_magnetic_field_uncalibrated_std",
         "stats": {
          "histogram": [
           {
            "bin_end": 13.227816245733058,
            "bin_start": 0.0309069397034,
            "count": 6
           },
           {
            "bin_end": 26.424725551762716,
            "bin_start": 13.227816245733058,
            "count": 1
           },
           {
            "bin_end": 39.62163485779237,
            "bin_start": 26.424725551762716,
            "count": 0
           },
           {
            "bin_end": 52.81854416382203,
            "bin_start": 39.62163485779237,
            "count": 0
           },
           {
            "bin_end": 66.01545346985169,
            "bin_start": 52.81854416382203,
            "count": 0
           },
           {
            "bin_end": 79.21236277588135,
            "bin_start": 66.01545346985169,
            "count": 0
           },
           {
            "bin_end": 92.40927208191101,
            "bin_start": 79.21236277588135,
            "count": 0
           },
           {
            "bin_end": 105.60618138794067,
            "bin_start": 92.40927208191101,
            "count": 0
           },
           {
            "bin_end": 118.80309069397032,
            "bin_start": 105.60618138794067,
            "count": 0
           },
           {
            "bin_end": 132,
            "bin_start": 118.80309069397032,
            "count": 1
           }
          ],
          "max": "132.0",
          "min": "0.0309069397034",
          "nan_count": 0,
          "unique_count": 8
         }
        },
        {
         "dtype": "float64",
         "name": "android_sensor_orientation_mean",
         "stats": {
          "histogram": [
           {
            "bin_end": 60.36219419494,
            "bin_start": 22.3059653756,
            "count": 1
           },
           {
            "bin_end": 98.41842301428,
            "bin_start": 60.36219419494,
            "count": 1
           },
           {
            "bin_end": 136.47465183362002,
            "bin_start": 98.41842301428,
            "count": 0
           },
           {
            "bin_end": 174.53088065296,
            "bin_start": 136.47465183362002,
            "count": 2
           },
           {
            "bin_end": 212.5871094723,
            "bin_start": 174.53088065296,
            "count": 1
           },
           {
            "bin_end": 250.64333829164002,
            "bin_start": 212.5871094723,
            "count": 1
           },
           {
            "bin_end": 288.69956711098,
            "bin_start": 250.64333829164002,
            "count": 0
           },
           {
            "bin_end": 326.75579593032,
            "bin_start": 288.69956711098,
            "count": 1
           },
           {
            "bin_end": 364.81202474966,
            "bin_start": 326.75579593032,
            "count": 0
           },
           {
            "bin_end": 402.868253569,
            "bin_start": 364.81202474966,
            "count": 1
           }
          ],
          "max": "402.868253569",
          "min": "22.3059653756",
          "nan_count": 0,
          "unique_count": 8
         }
        },
        {
         "dtype": "float64",
         "name": "android_sensor_orientation_min",
         "stats": {
          "histogram": [
           {
            "bin_end": 59.43030504571,
            "bin_start": 21.3064492689,
            "count": 1
           },
           {
            "bin_end": 97.55416082252,
            "bin_start": 59.43030504571,
            "count": 1
           },
           {
            "bin_end": 135.67801659933002,
            "bin_start": 97.55416082252,
            "count": 1
           },
           {
            "bin_end": 173.80187237614,
            "bin_start": 135.67801659933002,
            "count": 1
           },
           {
            "bin_end": 211.92572815295,
            "bin_start": 173.80187237614,
            "count": 2
           },
           {
            "bin_end": 250.04958392976002,
            "bin_start": 211.92572815295,
            "count": 0
           },
           {
            "bin_end": 288.17343970657004,
            "bin_start": 250.04958392976002,
            "count": 1
           },
           {
            "bin_end": 326.29729548338,
            "bin_start": 288.17343970657004,
            "count": 0
           },
           {
            "bin_end": 364.42115126019,
            "bin_start": 326.29729548338,
            "count": 0
           },
           {
            "bin_end": 402.545007037,
            "bin_start": 364.42115126019,
            "count": 1
           }
          ],
          "max": "402.545007037",
          "min": "21.3064492689",
          "nan_count": 0,
          "unique_count": 8
         }
        },
        {
         "dtype": "float64",
         "name": "android_sensor_orientation_max",
         "stats": {
          "histogram": [
           {
            "bin_end": 60.388107265239995,
            "bin_start": 22.3059653756,
            "count": 1
           },
           {
            "bin_end": 98.47024915488,
            "bin_start": 60.388107265239995,
            "count": 1
           },
           {
            "bin_end": 136.55239104452,
            "bin_start": 98.47024915488,
            "count": 0
           },
           {
            "bin_end": 174.63453293416,
            "bin_start": 136.55239104452,
            "count": 2
           },
           {
            "bin_end": 212.71667482380002,
            "bin_start": 174.63453293416,
            "count": 0
           },
           {
            "bin_end": 250.79881671344,
            "bin_start": 212.71667482380002,
            "count": 2
           },
           {
            "bin_end": 288.88095860308,
            "bin_start": 250.79881671344,
            "count": 0
           },
           {
            "bin_end": 326.96310049272,
            "bin_start": 288.88095860308,
            "count": 1
           },
           {
            "bin_end": 365.04524238236,
            "bin_start": 326.96310049272,
            "count": 0
           },
           {
            "bin_end": 403.127384272,
            "bin_start": 365.04524238236,
            "count": 1
           }
          ],
          "max": "403.127384272",
          "min": "22.3059653756",
          "nan_count": 0,
          "unique_count": 8
         }
        },
        {
         "dtype": "float64",
         "name": "android_sensor_orientation_std",
         "stats": {
          "histogram": [
           {
            "bin_end": 17.121055548950643,
            "bin_start": 1.64865007168e-05,
            "count": 5
           },
           {
            "bin_end": 34.242094611400574,
            "bin_start": 17.121055548950643,
            "count": 1
           },
           {
            "bin_end": 51.363133673850506,
            "bin_start": 34.242094611400574,
            "count": 0
           },
           {
            "bin_end": 68.48417273630042,
            "bin_start": 51.363133673850506,
            "count": 0
           },
           {
            "bin_end": 85.60521179875035,
            "bin_start": 68.48417273630042,
            "count": 0
           },
           {
            "bin_end": 102.72625086120028,
            "bin_start": 85.60521179875035,
            "count": 0
           },
           {
            "bin_end": 119.84728992365021,
            "bin_start": 102.72625086120028,
            "count": 0
           },
           {
            "bin_end": 136.96832898610015,
            "bin_start": 119.84728992365021,
            "count": 0
           },
           {
            "bin_end": 154.08936804855009,
            "bin_start": 136.96832898610015,
            "count": 1
           },
           {
            "bin_end": 171.210407111,
            "bin_start": 154.08936804855009,
            "count": 1
           }
          ],
          "max": "171.210407111",
          "min": "1.64865007168e-05",
          "nan_count": 0,
          "unique_count": 8
         }
        },
        {
         "dtype": "float64",
         "name": "android_sensor_pressure_mean",
         "stats": {
          "histogram": [
           {
            "bin_end": 117.70029336163199,
            "bin_start": 14.21611484625776,
            "count": 2
           },
           {
            "bin_end": 221.18447187700622,
            "bin_start": 117.70029336163199,
            "count": 0
           },
           {
            "bin_end": 324.66865039238047,
            "bin_start": 221.18447187700622,
            "count": 0
           },
           {
            "bin_end": 428.15282890775467,
            "bin_start": 324.66865039238047,
            "count": 0
           },
           {
            "bin_end": 531.6370074231288,
            "bin_start": 428.15282890775467,
            "count": 0
           },
           {
            "bin_end": 635.1211859385031,
            "bin_start": 531.6370074231288,
            "count": 0
           },
           {
            "bin_end": 738.6053644538773,
            "bin_start": 635.1211859385031,
            "count": 0
           },
           {
            "bin_end": 842.0895429692515,
            "bin_start": 738.6053644538773,
            "count": 0
           },
           {
            "bin_end": 945.5737214846257,
            "bin_start": 842.0895429692515,
            "count": 0
           },
           {
            "bin_end": 1049.0579,
            "bin_start": 945.5737214846257,
            "count": 6
           }
          ],
          "max": "1049.0579",
          "min": "14.21611484625776",
          "nan_count": 0,
          "unique_count": 8
         }
        },
        {
         "dtype": "float64",
         "name": "android_sensor_pressure_min",
         "stats": {
          "histogram": [
           {
            "bin_end": 117.70662225805307,
            "bin_start": 14.223146953392309,
            "count": 2
           },
           {
            "bin_end": 221.19009756271382,
            "bin_start": 117.70662225805307,
            "count": 0
           },
           {
            "bin_end": 324.67357286737456,
            "bin_start": 221.19009756271382,
            "count": 0
           },
           {
            "bin_end": 428.15704817203533,
            "bin_start": 324.67357286737456,
            "count": 0
           },
           {
            "bin_end": 531.6405234766961,
            "bin_start": 428.15704817203533,
            "count": 0
           },
           {
            "bin_end": 635.1239987813568,
            "bin_start": 531.6405234766961,
            "count": 0
           },
           {
            "bin_end": 738.6074740860176,
            "bin_start": 635.1239987813568,
            "count": 0
           },
           {
            "bin_end": 842.0909493906784,
            "bin_start": 738.6074740860176,
            "count": 0
           },
           {
            "bin_end": 945.5744246953391,
            "bin_start": 842.0909493906784,
            "count": 0
           },
           {
            "bin_end": 1049.0579,
            "bin_start": 945.5744246953391,
            "count": 6
           }
          ],
          "max": "1049.0579",
          "min": "14.223146953392309",
          "nan_count": 0,
          "unique_count": 8
         }
        },
        {
         "dtype": "float64",
         "name": "android_sensor_pressure_max",
         "stats": {
          "histogram": [
           {
            "bin_end": 117.69560859682967,
            "bin_start": 14.210909552032957,
            "count": 2
           },
           {
            "bin_end": 221.18030764162637,
            "bin_start": 117.69560859682967,
            "count": 0
           },
           {
            "bin_end": 324.6650066864231,
            "bin_start": 221.18030764162637,
            "count": 0
           },
           {
            "bin_end": 428.1497057312198,
            "bin_start": 324.6650066864231,
            "count": 0
           },
           {
            "bin_end": 531.6344047760165,
            "bin_start": 428.1497057312198,
            "count": 0
           },
           {
            "bin_end": 635.1191038208133,
            "bin_start": 531.6344047760165,
            "count": 0
           },
           {
            "bin_end": 738.60380286561,
            "bin_start": 635.1191038208133,
            "count": 0
           },
           {
            "bin_end": 842.0885019104066,
            "bin_start": 738.60380286561,
            "count": 0
           },
           {
            "bin_end": 945.5732009552033,
            "bin_start": 842.0885019104066,
            "count": 0
           },
           {
            "bin_end": 1049.0579,
            "bin_start": 945.5732009552033,
            "count": 6
           }
          ],
          "max": "1049.0579",
          "min": "14.210909552032957",
          "nan_count": 0,
          "unique_count": 8
         }
        },
        {
         "dtype": "float64",
         "name": "android_sensor_pressure_std",
         "stats": {
          "histogram": [
           {
            "bin_end": 3.200954594154656,
            "bin_start": 0.00106066017184,
            "count": 7
           },
           {
            "bin_end": 6.400848528137471,
            "bin_start": 3.200954594154656,
            "count": 0
           },
           {
            "bin_end": 9.600742462120287,
            "bin_start": 6.400848528137471,
            "count": 0
           },
           {
            "bin_end": 12.800636396103103,
            "bin_start": 9.600742462120287,
            "count": 0
           },
           {
            "bin_end": 16.00053033008592,
            "bin_start": 12.800636396103103,
            "count": 0
           },
           {
            "bin_end": 19.200424264068737,
            "bin_start": 16.00053033008592,
            "count": 0
           },
           {
            "bin_end": 22.400318198051554,
            "bin_start": 19.200424264068737,
            "count": 0
           },
           {
            "bin_end": 25.60021213203437,
            "bin_start": 22.400318198051554,
            "count": 0
           },
           {
            "bin_end": 28.800106066017182,
            "bin_start": 25.60021213203437,
            "count": 0
           },
           {
            "bin_end": 32,
            "bin_start": 28.800106066017182,
            "count": 1
           }
          ],
          "max": "32.0",
          "min": "0.00106066017184",
          "nan_count": 0,
          "unique_count": 8
         }
        },
        {
         "dtype": "float64",
         "name": "android_sensor_proximity_mean",
         "stats": {
          "histogram": [
           {
            "bin_end": 2.9,
            "bin_start": 0,
            "count": 2
           },
           {
            "bin_end": 5.8,
            "bin_start": 2.9,
            "count": 3
           },
           {
            "bin_end": 8.7,
            "bin_start": 5.8,
            "count": 1
           },
           {
            "bin_end": 11.6,
            "bin_start": 8.7,
            "count": 1
           },
           {
            "bin_end": 14.5,
            "bin_start": 11.6,
            "count": 0
           },
           {
            "bin_end": 17.4,
            "bin_start": 14.5,
            "count": 0
           },
           {
            "bin_end": 20.3,
            "bin_start": 17.4,
            "count": 0
           },
           {
            "bin_end": 23.2,
            "bin_start": 20.3,
            "count": 0
           },
           {
            "bin_end": 26.099999999999998,
            "bin_start": 23.2,
            "count": 0
           },
           {
            "bin_end": 29,
            "bin_start": 26.099999999999998,
            "count": 1
           }
          ],
          "max": "29.0",
          "min": "0.0",
          "nan_count": 0,
          "unique_count": 7
         }
        },
        {
         "dtype": "float64",
         "name": "android_sensor_proximity_min",
         "stats": {
          "histogram": [
           {
            "bin_end": 2.9,
            "bin_start": 0,
            "count": 2
           },
           {
            "bin_end": 5.8,
            "bin_start": 2.9,
            "count": 3
           },
           {
            "bin_end": 8.7,
            "bin_start": 5.8,
            "count": 1
           },
           {
            "bin_end": 11.6,
            "bin_start": 8.7,
            "count": 1
           },
           {
            "bin_end": 14.5,
            "bin_start": 11.6,
            "count": 0
           },
           {
            "bin_end": 17.4,
            "bin_start": 14.5,
            "count": 0
           },
           {
            "bin_end": 20.3,
            "bin_start": 17.4,
            "count": 0
           },
           {
            "bin_end": 23.2,
            "bin_start": 20.3,
            "count": 0
           },
           {
            "bin_end": 26.099999999999998,
            "bin_start": 23.2,
            "count": 0
           },
           {
            "bin_end": 29,
            "bin_start": 26.099999999999998,
            "count": 1
           }
          ],
          "max": "29.0",
          "min": "0.0",
          "nan_count": 0,
          "unique_count": 7
         }
        },
        {
         "dtype": "float64",
         "name": "android_sensor_proximity_max",
         "stats": {
          "histogram": [
           {
            "bin_end": 2.9,
            "bin_start": 0,
            "count": 2
           },
           {
            "bin_end": 5.8,
            "bin_start": 2.9,
            "count": 2
           },
           {
            "bin_end": 8.7,
            "bin_start": 5.8,
            "count": 2
           },
           {
            "bin_end": 11.6,
            "bin_start": 8.7,
            "count": 1
           },
           {
            "bin_end": 14.5,
            "bin_start": 11.6,
            "count": 0
           },
           {
            "bin_end": 17.4,
            "bin_start": 14.5,
            "count": 0
           },
           {
            "bin_end": 20.3,
            "bin_start": 17.4,
            "count": 0
           },
           {
            "bin_end": 23.2,
            "bin_start": 20.3,
            "count": 0
           },
           {
            "bin_end": 26.099999999999998,
            "bin_start": 23.2,
            "count": 0
           },
           {
            "bin_end": 29,
            "bin_start": 26.099999999999998,
            "count": 1
           }
          ],
          "max": "29.0",
          "min": "0.0",
          "nan_count": 0,
          "unique_count": 6
         }
        },
        {
         "dtype": "float64",
         "name": "android_sensor_proximity_std",
         "stats": {
          "histogram": [
           {
            "bin_end": 0.7,
            "bin_start": 0,
            "count": 1
           },
           {
            "bin_end": 1.4,
            "bin_start": 0.7,
            "count": 0
           },
           {
            "bin_end": 2.0999999999999996,
            "bin_start": 1.4,
            "count": 0
           },
           {
            "bin_end": 2.8,
            "bin_start": 2.0999999999999996,
            "count": 2
           },
           {
            "bin_end": 3.5,
            "bin_start": 2.8,
            "count": 0
           },
           {
            "bin_end": 4.199999999999999,
            "bin_start": 3.5,
            "count": 1
           },
           {
            "bin_end": 4.8999999999999995,
            "bin_start": 4.199999999999999,
            "count": 1
           },
           {
            "bin_end": 5.6,
            "bin_start": 4.8999999999999995,
            "count": 1
           },
           {
            "bin_end": 6.3,
            "bin_start": 5.6,
            "count": 1
           },
           {
            "bin_end": 7,
            "bin_start": 6.3,
            "count": 1
           }
          ],
          "max": "7.0",
          "min": "0.0",
          "nan_count": 0,
          "unique_count": 8
         }
        },
        {
         "dtype": "float64",
         "name": "android_sensor_rotation_vector_mean",
         "stats": {
          "histogram": [
           {
            "bin_end": 13.34480853388444,
            "bin_start": 0.0497872598716,
            "count": 7
           },
           {
            "bin_end": 26.63982980789728,
            "bin_start": 13.34480853388444,
            "count": 0
           },
           {
            "bin_end": 39.93485108191012,
            "bin_start": 26.63982980789728,
            "count": 0
           },
           {
            "bin_end": 53.22987235592296,
            "bin_start": 39.93485108191012,
            "count": 0
           },
           {
            "bin_end": 66.52489362993579,
            "bin_start": 53.22987235592296,
            "count": 0
           },
           {
            "bin_end": 79.81991490394863,
            "bin_start": 66.52489362993579,
            "count": 0
           },
           {
            "bin_end": 93.11493617796147,
            "bin_start": 79.81991490394863,
            "count": 0
           },
           {
            "bin_end": 106.40995745197431,
            "bin_start": 93.11493617796147,
            "count": 0
           },
           {
            "bin_end": 119.70497872598715,
            "bin_start": 106.40995745197431,
            "count": 0
           },
           {
            "bin_end": 133,
            "bin_start": 119.70497872598715,
            "count": 1
           }
          ],
          "max": "133.0",
          "min": "0.0497872598716",
          "nan_count": 0,
          "unique_count": 8
         }
        },
        {
         "dtype": "float64",
         "name": "android_sensor_rotation_vector_min",
         "stats": {
          "histogram": [
           {
            "bin_end": 13.3394470778131,
            "bin_start": 0.043830086459,
            "count": 7
           },
           {
            "bin_end": 26.6350640691672,
            "bin_start": 13.3394470778131,
            "count": 0
           },
           {
            "bin_end": 39.9306810605213,
            "bin_start": 26.6350640691672,
            "count": 0
           },
           {
            "bin_end": 53.2262980518754,
            "bin_start": 39.9306810605213,
            "count": 0
           },
           {
            "bin_end": 66.5219150432295,
            "bin_start": 53.2262980518754,
            "count": 0
           },
           {
            "bin_end": 79.81753203458359,
            "bin_start": 66.5219150432295,
            "count": 0
           },
           {
            "bin_end": 93.1131490259377,
            "bin_start": 79.81753203458359,
            "count": 0
           },
           {
            "bin_end": 106.4087660172918,
            "bin_start": 93.1131490259377,
            "count": 0
           },
           {
            "bin_end": 119.70438300864589,
            "bin_start": 106.4087660172918,
            "count": 0
           },
           {
            "bin_end": 133,
            "bin_start": 119.70438300864589,
            "count": 1
           }
          ],
          "max": "133.0",
          "min": "0.043830086459",
          "nan_count": 0,
          "unique_count": 8
         }
        },
        {
         "dtype": "float64",
         "name": "android_sensor_rotation_vector_max",
         "stats": {
          "histogram": [
           {
            "bin_end": 13.348765069994679,
            "bin_start": 0.0541834111052,
            "count": 7
           },
           {
            "bin_end": 26.643346728884158,
            "bin_start": 13.348765069994679,
            "count": 0
           },
           {
            "bin_end": 39.93792838777364,
            "bin_start": 26.643346728884158,
            "count": 0
           },
           {
            "bin_end": 53.232510046663116,
            "bin_start": 39.93792838777364,
            "count": 0
           },
           {
            "bin_end": 66.52709170555259,
            "bin_start": 53.232510046663116,
            "count": 0
           },
           {
            "bin_end": 79.82167336444208,
            "bin_start": 66.52709170555259,
            "count": 0
           },
           {
            "bin_end": 93.11625502333155,
            "bin_start": 79.82167336444208,
            "count": 0
           },
           {
            "bin_end": 106.41083668222103,
            "bin_start": 93.11625502333155,
            "count": 0
           },
           {
            "bin_end": 119.70541834111052,
            "bin_start": 106.41083668222103,
            "count": 0
           },
           {
            "bin_end": 133,
            "bin_start": 119.70541834111052,
            "count": 1
           }
          ],
          "max": "133.0",
          "min": "0.0541834111052",
          "nan_count": 0,
          "unique_count": 8
         }
        },
        {
         "dtype": "float64",
         "name": "android_sensor_rotation_vector_std",
         "stats": {
          "histogram": [
           {
            "bin_end": 13.300000086458189,
            "bin_start": 9.60646549004e-08,
            "count": 7
           },
           {
            "bin_end": 26.600000076851725,
            "bin_start": 13.300000086458189,
            "count": 0
           },
           {
            "bin_end": 39.90000006724526,
            "bin_start": 26.600000076851725,
            "count": 0
           },
           {
            "bin_end": 53.20000005763879,
            "bin_start": 39.90000006724526,
            "count": 0
           },
           {
            "bin_end": 66.50000004803232,
            "bin_start": 53.20000005763879,
            "count": 0
           },
           {
            "bin_end": 79.80000003842586,
            "bin_start": 66.50000004803232,
            "count": 0
           },
           {
            "bin_end": 93.1000000288194,
            "bin_start": 79.80000003842586,
            "count": 0
           },
           {
            "bin_end": 106.40000001921292,
            "bin_start": 93.1000000288194,
            "count": 0
           },
           {
            "bin_end": 119.70000000960646,
            "bin_start": 106.40000001921292,
            "count": 0
           },
           {
            "bin_end": 133,
            "bin_start": 119.70000000960646,
            "count": 1
           }
          ],
          "max": "133.0",
          "min": "9.60646549004e-08",
          "nan_count": 0,
          "unique_count": 8
         }
        },
        {
         "dtype": "float64",
         "name": "android_sensor_step_counter_mean",
         "stats": {
          "histogram": [
           {
            "bin_end": 3367.35,
            "bin_start": 37,
            "count": 3
           },
           {
            "bin_end": 6697.7,
            "bin_start": 3367.35,
            "count": 1
           },
           {
            "bin_end": 10028.05,
            "bin_start": 6697.7,
            "count": 1
           },
           {
            "bin_end": 13358.4,
            "bin_start": 10028.05,
            "count": 2
           },
           {
            "bin_end": 16688.75,
            "bin_start": 13358.4,
            "count": 0
           },
           {
            "bin_end": 20019.1,
            "bin_start": 16688.75,
            "count": 0
           },
           {
            "bin_end": 23349.45,
            "bin_start": 20019.1,
            "count": 0
           },
           {
            "bin_end": 26679.8,
            "bin_start": 23349.45,
            "count": 0
           },
           {
            "bin_end": 30010.149999999998,
            "bin_start": 26679.8,
            "count": 0
           },
           {
            "bin_end": 33340.5,
            "bin_start": 30010.149999999998,
            "count": 1
           }
          ],
          "max": "33340.5",
          "min": "37.0",
          "nan_count": 0,
          "unique_count": 8
         }
        },
        {
         "dtype": "float64",
         "name": "android_sensor_step_counter_min",
         "stats": {
          "histogram": [
           {
            "bin_end": 3366.9,
            "bin_start": 37,
            "count": 3
           },
           {
            "bin_end": 6696.8,
            "bin_start": 3366.9,
            "count": 1
           },
           {
            "bin_end": 10026.7,
            "bin_start": 6696.8,
            "count": 1
           },
           {
            "bin_end": 13356.6,
            "bin_start": 10026.7,
            "count": 2
           },
           {
            "bin_end": 16686.5,
            "bin_start": 13356.6,
            "count": 0
           },
           {
            "bin_end": 20016.4,
            "bin_start": 16686.5,
            "count": 0
           },
           {
            "bin_end": 23346.3,
            "bin_start": 20016.4,
            "count": 0
           },
           {
            "bin_end": 26676.2,
            "bin_start": 23346.3,
            "count": 0
           },
           {
            "bin_end": 30006.100000000002,
            "bin_start": 26676.2,
            "count": 0
           },
           {
            "bin_end": 33336,
            "bin_start": 30006.100000000002,
            "count": 1
           }
          ],
          "max": "33336.0",
          "min": "37.0",
          "nan_count": 0,
          "unique_count": 8
         }
        },
        {
         "dtype": "float64",
         "name": "android_sensor_step_counter_max",
         "stats": {
          "histogram": [
           {
            "bin_end": 3367.8,
            "bin_start": 37,
            "count": 3
           },
           {
            "bin_end": 6698.6,
            "bin_start": 3367.8,
            "count": 1
           },
           {
            "bin_end": 10029.400000000001,
            "bin_start": 6698.6,
            "count": 1
           },
           {
            "bin_end": 13360.2,
            "bin_start": 10029.400000000001,
            "count": 2
           },
           {
            "bin_end": 16691,
            "bin_start": 13360.2,
            "count": 0
           },
           {
            "bin_end": 20021.800000000003,
            "bin_start": 16691,
            "count": 0
           },
           {
            "bin_end": 23352.600000000002,
            "bin_start": 20021.800000000003,
            "count": 0
           },
           {
            "bin_end": 26683.4,
            "bin_start": 23352.600000000002,
            "count": 0
           },
           {
            "bin_end": 30014.2,
            "bin_start": 26683.4,
            "count": 0
           },
           {
            "bin_end": 33345,
            "bin_start": 30014.2,
            "count": 1
           }
          ],
          "max": "33345.0",
          "min": "37.0",
          "nan_count": 0,
          "unique_count": 8
         }
        },
        {
         "dtype": "float64",
         "name": "android_sensor_step_counter_std",
         "stats": {
          "histogram": [
           {
            "bin_end": 1.972792206133,
            "bin_start": 1.41421356237,
            "count": 2
           },
           {
            "bin_end": 2.531370849896,
            "bin_start": 1.972792206133,
            "count": 0
           },
           {
            "bin_end": 3.089949493659,
            "bin_start": 2.531370849896,
            "count": 2
           },
           {
            "bin_end": 3.648528137422,
            "bin_start": 3.089949493659,
            "count": 1
           },
           {
            "bin_end": 4.207106781185001,
            "bin_start": 3.648528137422,
            "count": 0
           },
           {
            "bin_end": 4.765685424948,
            "bin_start": 4.207106781185001,
            "count": 1
           },
           {
            "bin_end": 5.324264068711001,
            "bin_start": 4.765685424948,
            "count": 0
           },
           {
            "bin_end": 5.882842712474,
            "bin_start": 5.324264068711001,
            "count": 1
           },
           {
            "bin_end": 6.441421356237001,
            "bin_start": 5.882842712474,
            "count": 0
           },
           {
            "bin_end": 7,
            "bin_start": 6.441421356237001,
            "count": 1
           }
          ],
          "max": "7.0",
          "min": "1.41421356237",
          "nan_count": 0,
          "unique_count": 8
         }
        },
        {
         "dtype": "float64",
         "name": "sound_mean",
         "stats": {
          "histogram": [
           {
            "bin_end": 25.33927571474362,
            "bin_start": 14.932528571937357,
            "count": 2
           },
           {
            "bin_end": 35.74602285754989,
            "bin_start": 25.33927571474362,
            "count": 0
           },
           {
            "bin_end": 46.15277000035615,
            "bin_start": 35.74602285754989,
            "count": 0
           },
           {
            "bin_end": 56.55951714316241,
            "bin_start": 46.15277000035615,
            "count": 0
           },
           {
            "bin_end": 66.96626428596868,
            "bin_start": 56.55951714316241,
            "count": 0
           },
           {
            "bin_end": 77.37301142877494,
            "bin_start": 66.96626428596868,
            "count": 1
           },
           {
            "bin_end": 87.7797585715812,
            "bin_start": 77.37301142877494,
            "count": 2
           },
           {
            "bin_end": 98.18650571438747,
            "bin_start": 87.7797585715812,
            "count": 2
           },
           {
            "bin_end": 108.59325285719373,
            "bin_start": 98.18650571438747,
            "count": 0
           },
           {
            "bin_end": 119,
            "bin_start": 108.59325285719373,
            "count": 1
           }
          ],
          "max": "119.0",
          "min": "14.932528571937357",
          "nan_count": 0,
          "unique_count": 8
         }
        },
        {
         "dtype": "float64",
         "name": "sound_min",
         "stats": {
          "histogram": [
           {
            "bin_end": 25.551451920816845,
            "bin_start": 15.168279912018718,
            "count": 2
           },
           {
            "bin_end": 35.93462392961497,
            "bin_start": 25.551451920816845,
            "count": 0
           },
           {
            "bin_end": 46.317795938413106,
            "bin_start": 35.93462392961497,
            "count": 0
           },
           {
            "bin_end": 56.70096794721123,
            "bin_start": 46.317795938413106,
            "count": 0
           },
           {
            "bin_end": 67.08413995600935,
            "bin_start": 56.70096794721123,
            "count": 0
           },
           {
            "bin_end": 77.4673119648075,
            "bin_start": 67.08413995600935,
            "count": 1
           },
           {
            "bin_end": 87.85048397360562,
            "bin_start": 77.4673119648075,
            "count": 2
           },
           {
            "bin_end": 98.23365598240375,
            "bin_start": 87.85048397360562,
            "count": 2
           },
           {
            "bin_end": 108.61682799120187,
            "bin_start": 98.23365598240375,
            "count": 0
           },
           {
            "bin_end": 119,
            "bin_start": 108.61682799120187,
            "count": 1
           }
          ],
          "max": "119.0",
          "min": "15.168279912018718",
          "nan_count": 0,
          "unique_count": 8
         }
        },
        {
         "dtype": "float64",
         "name": "sound_max",
         "stats": {
          "histogram": [
           {
            "bin_end": 25.31767624063957,
            "bin_start": 14.908529156266189,
            "count": 2
           },
           {
            "bin_end": 35.72682332501295,
            "bin_start": 25.31767624063957,
            "count": 0
           },
           {
            "bin_end": 46.13597040938634,
            "bin_start": 35.72682332501295,
            "count": 0
           },
           {
            "bin_end": 56.54511749375972,
            "bin_start": 46.13597040938634,
            "count": 0
           },
           {
            "bin_end": 66.95426457813309,
            "bin_start": 56.54511749375972,
            "count": 0
           },
           {
            "bin_end": 77.36341166250648,
            "bin_start": 66.95426457813309,
            "count": 1
           },
           {
            "bin_end": 87.77255874687985,
            "bin_start": 77.36341166250648,
            "count": 2
           },
           {
            "bin_end": 98.18170583125324,
            "bin_start": 87.77255874687985,
            "count": 2
           },
           {
            "bin_end": 108.59085291562663,
            "bin_start": 98.18170583125324,
            "count": 0
           },
           {
            "bin_end": 119,
            "bin_start": 108.59085291562663,
            "count": 1
           }
          ],
          "max": "119.0",
          "min": "14.908529156266189",
          "nan_count": 0,
          "unique_count": 8
         }
        },
        {
         "dtype": "float64",
         "name": "sound_std",
         "stats": {
          "histogram": [
           {
            "bin_end": 9.901257287920199,
            "bin_start": 0.001396986578,
            "count": 6
           },
           {
            "bin_end": 19.8011175892624,
            "bin_start": 9.901257287920199,
            "count": 0
           },
           {
            "bin_end": 29.700977890604598,
            "bin_start": 19.8011175892624,
            "count": 1
           },
           {
            "bin_end": 39.6008381919468,
            "bin_start": 29.700977890604598,
            "count": 0
           },
           {
            "bin_end": 49.500698493289,
            "bin_start": 39.6008381919468,
            "count": 0
           },
           {
            "bin_end": 59.400558794631195,
            "bin_start": 49.500698493289,
            "count": 0
           },
           {
            "bin_end": 69.3004190959734,
            "bin_start": 59.400558794631195,
            "count": 0
           },
           {
            "bin_end": 79.2002793973156,
            "bin_start": 69.3004190959734,
            "count": 0
           },
           {
            "bin_end": 89.1001396986578,
            "bin_start": 79.2002793973156,
            "count": 0
           },
           {
            "bin_end": 99,
            "bin_start": 89.1001396986578,
            "count": 1
           }
          ],
          "max": "99.0",
          "min": "0.001396986578",
          "nan_count": 0,
          "unique_count": 8
         }
        },
        {
         "dtype": "float64",
         "name": "speed_mean",
         "stats": {
          "histogram": [
           {
            "bin_end": 9.3,
            "bin_start": 0,
            "count": 5
           },
           {
            "bin_end": 18.6,
            "bin_start": 9.3,
            "count": 1
           },
           {
            "bin_end": 27.900000000000002,
            "bin_start": 18.6,
            "count": 0
           },
           {
            "bin_end": 37.2,
            "bin_start": 27.900000000000002,
            "count": 0
           },
           {
            "bin_end": 46.5,
            "bin_start": 37.2,
            "count": 0
           },
           {
            "bin_end": 55.800000000000004,
            "bin_start": 46.5,
            "count": 1
           },
           {
            "bin_end": 65.10000000000001,
            "bin_start": 55.800000000000004,
            "count": 0
           },
           {
            "bin_end": 74.4,
            "bin_start": 65.10000000000001,
            "count": 0
           },
           {
            "bin_end": 83.7,
            "bin_start": 74.4,
            "count": 0
           },
           {
            "bin_end": 93,
            "bin_start": 83.7,
            "count": 1
           }
          ],
          "max": "93.0",
          "min": "0.0",
          "nan_count": 0,
          "unique_count": 7
         }
        },
        {
         "dtype": "float64",
         "name": "speed_min",
         "stats": {
          "histogram": [
           {
            "bin_end": 9.3,
            "bin_start": 0,
            "count": 5
           },
           {
            "bin_end": 18.6,
            "bin_start": 9.3,
            "count": 1
           },
           {
            "bin_end": 27.900000000000002,
            "bin_start": 18.6,
            "count": 0
           },
           {
            "bin_end": 37.2,
            "bin_start": 27.900000000000002,
            "count": 0
           },
           {
            "bin_end": 46.5,
            "bin_start": 37.2,
            "count": 0
           },
           {
            "bin_end": 55.800000000000004,
            "bin_start": 46.5,
            "count": 1
           },
           {
            "bin_end": 65.10000000000001,
            "bin_start": 55.800000000000004,
            "count": 0
           },
           {
            "bin_end": 74.4,
            "bin_start": 65.10000000000001,
            "count": 0
           },
           {
            "bin_end": 83.7,
            "bin_start": 74.4,
            "count": 0
           },
           {
            "bin_end": 93,
            "bin_start": 83.7,
            "count": 1
           }
          ],
          "max": "93.0",
          "min": "0.0",
          "nan_count": 0,
          "unique_count": 7
         }
        },
        {
         "dtype": "float64",
         "name": "speed_max",
         "stats": {
          "histogram": [
           {
            "bin_end": 9.3,
            "bin_start": 0,
            "count": 5
           },
           {
            "bin_end": 18.6,
            "bin_start": 9.3,
            "count": 1
           },
           {
            "bin_end": 27.900000000000002,
            "bin_start": 18.6,
            "count": 0
           },
           {
            "bin_end": 37.2,
            "bin_start": 27.900000000000002,
            "count": 0
           },
           {
            "bin_end": 46.5,
            "bin_start": 37.2,
            "count": 0
           },
           {
            "bin_end": 55.800000000000004,
            "bin_start": 46.5,
            "count": 1
           },
           {
            "bin_end": 65.10000000000001,
            "bin_start": 55.800000000000004,
            "count": 0
           },
           {
            "bin_end": 74.4,
            "bin_start": 65.10000000000001,
            "count": 0
           },
           {
            "bin_end": 83.7,
            "bin_start": 74.4,
            "count": 0
           },
           {
            "bin_end": 93,
            "bin_start": 83.7,
            "count": 1
           }
          ],
          "max": "93.0",
          "min": "0.0",
          "nan_count": 0,
          "unique_count": 7
         }
        },
        {
         "dtype": "float64",
         "name": "speed_std",
         "stats": {
          "histogram": [
           {
            "bin_end": 3.7,
            "bin_start": 0,
            "count": 7
           },
           {
            "bin_end": 7.4,
            "bin_start": 3.7,
            "count": 0
           },
           {
            "bin_end": 11.100000000000001,
            "bin_start": 7.4,
            "count": 0
           },
           {
            "bin_end": 14.8,
            "bin_start": 11.100000000000001,
            "count": 0
           },
           {
            "bin_end": 18.5,
            "bin_start": 14.8,
            "count": 0
           },
           {
            "bin_end": 22.200000000000003,
            "bin_start": 18.5,
            "count": 0
           },
           {
            "bin_end": 25.900000000000002,
            "bin_start": 22.200000000000003,
            "count": 0
           },
           {
            "bin_end": 29.6,
            "bin_start": 25.900000000000002,
            "count": 0
           },
           {
            "bin_end": 33.300000000000004,
            "bin_start": 29.6,
            "count": 0
           },
           {
            "bin_end": 37,
            "bin_start": 33.300000000000004,
            "count": 1
           }
          ],
          "max": "37.0",
          "min": "0.0",
          "nan_count": 0,
          "unique_count": 6
         }
        },
        {
         "dtype": "object",
         "name": "_deepnote_index_column"
        }
       ],
       "row_count": 8,
       "rows_bottom": null,
       "rows_top": [
        {
         "_deepnote_index_column": "count",
         "activityrecognition_0": "0.0",
         "activityrecognition_1": 150,
         "android_sensor_accelerometer_max": 150,
         "android_sensor_accelerometer_mean": 150,
         "android_sensor_accelerometer_min": 150,
         "android_sensor_accelerometer_std": 150,
         "android_sensor_game_rotation_vector_max": 132,
         "android_sensor_game_rotation_vector_mean": 132,
         "android_sensor_game_rotation_vector_min": 132,
         "android_sensor_game_rotation_vector_std": 132,
         "android_sensor_gravity_max": 139,
         "android_sensor_gravity_mean": 139,
         "android_sensor_gravity_min": 139,
         "android_sensor_gravity_std": 138,
         "android_sensor_gyroscope_max": 133,
         "android_sensor_gyroscope_mean": 133,
         "android_sensor_gyroscope_min": 133,
         "android_sensor_gyroscope_std": 133,
         "android_sensor_gyroscope_uncalibrated_max": 132,
         "android_sensor_gyroscope_uncalibrated_mean": 132,
         "android_sensor_gyroscope_uncalibrated_min": 132,
         "android_sensor_gyroscope_uncalibrated_std": 132,
         "android_sensor_light_max": 111,
         "android_sensor_light_mean": 111,
         "android_sensor_light_min": 111,
         "android_sensor_light_std": 53,
         "android_sensor_linear_acceleration_max": 139,
         "android_sensor_linear_acceleration_mean": 139,
         "android_sensor_linear_acceleration_min": 139,
         "android_sensor_linear_acceleration_std": 138,
         "android_sensor_magnetic_field_max": 139,
         "android_sensor_magnetic_field_mean": 139,
         "android_sensor_magnetic_field_min": 139,
         "android_sensor_magnetic_field_std": 137,
         "android_sensor_magnetic_field_uncalibrated_max": 132,
         "android_sensor_magnetic_field_uncalibrated_mean": 132,
         "android_sensor_magnetic_field_uncalibrated_min": 132,
         "android_sensor_magnetic_field_uncalibrated_std": 132,
         "android_sensor_orientation_max": 139,
         "android_sensor_orientation_mean": 139,
         "android_sensor_orientation_min": 139,
         "android_sensor_orientation_std": 139,
         "android_sensor_pressure_max": 51,
         "android_sensor_pressure_mean": 51,
         "android_sensor_pressure_min": 51,
         "android_sensor_pressure_std": 32,
         "android_sensor_proximity_max": 29,
         "android_sensor_proximity_mean": 29,
         "android_sensor_proximity_min": 29,
         "android_sensor_proximity_std": 7,
         "android_sensor_rotation_vector_max": 133,
         "android_sensor_rotation_vector_mean": 133,
         "android_sensor_rotation_vector_min": 133,
         "android_sensor_rotation_vector_std": 133,
         "android_sensor_step_counter_max": 37,
         "android_sensor_step_counter_mean": 37,
         "android_sensor_step_counter_min": 37,
         "android_sensor_step_counter_std": 7,
         "id": 150,
         "sound_max": 119,
         "sound_mean": 119,
         "sound_min": 119,
         "sound_std": 99,
         "speed_max": 93,
         "speed_mean": 93,
         "speed_min": 93,
         "speed_std": 37,
         "time": 150
        },
        {
         "_deepnote_index_column": "mean",
         "activityrecognition_0": "nan",
         "activityrecognition_1": 91.03333333333333,
         "android_sensor_accelerometer_max": 12.412859826964398,
         "android_sensor_accelerometer_mean": 9.967001719172867,
         "android_sensor_accelerometer_min": 8.385486055002065,
         "android_sensor_accelerometer_std": 1.0066740761397848,
         "android_sensor_game_rotation_vector_max": 0.7303706126877895,
         "android_sensor_game_rotation_vector_mean": 0.7168752168731469,
         "android_sensor_game_rotation_vector_min": 0.6970410664361704,
         "android_sensor_game_rotation_vector_std": 0.011870799320569168,
         "android_sensor_gravity_max": 9.806402213936188,
         "android_sensor_gravity_mean": 9.806388598224387,
         "android_sensor_gravity_min": 9.806374884539784,
         "android_sensor_gravity_std": 7.88324730712382e-05,
         "android_sensor_gyroscope_max": 0.7822339312356608,
         "android_sensor_gyroscope_mean": 0.33301905637038165,
         "android_sensor_gyroscope_min": 0.08082524821193225,
         "android_sensor_gyroscope_std": 0.19701196124248507,
         "android_sensor_gyroscope_uncalibrated_max": 0.5993558181378463,
         "android_sensor_gyroscope_uncalibrated_mean": 0.3137529310452232,
         "android_sensor_gyroscope_uncalibrated_min": 0.1146023693177009,
         "android_sensor_gyroscope_uncalibrated_std": 0.17175509012869036,
         "android_sensor_light_max": 227.5472972972973,
         "android_sensor_light_mean": 214.90598932260963,
         "android_sensor_light_min": 208.13288288288288,
         "android_sensor_light_std": 15.580878749241586,
         "android_sensor_linear_acceleration_max": 2.494104403575954,
         "android_sensor_linear_acceleration_mean": 1.3193786531629978,
         "android_sensor_linear_acceleration_min": 0.7383188452160678,
         "android_sensor_linear_acceleration_std": 0.6702294639534366,
         "android_sensor_magnetic_field_max": 56.388490986866906,
         "android_sensor_magnetic_field_mean": 54.600495368664895,
         "android_sensor_magnetic_field_min": 52.711095361509926,
         "android_sensor_magnetic_field_std": 1.5648765531833866,
         "android_sensor_magnetic_field_uncalibrated_max": 137.8430533273841,
         "android_sensor_magnetic_field_uncalibrated_mean": 136.45079176820985,
         "android_sensor_magnetic_field_uncalibrated_min": 134.89714053354245,
         "android_sensor_magnetic_field_uncalibrated_std": 2.0332539380778076,
         "android_sensor_orientation_max": 229.08370045212376,
         "android_sensor_orientation_mean": 216.71506579162235,
         "android_sensor_orientation_min": 202.488723522882,
         "android_sensor_orientation_std": 13.560042057119711,
         "android_sensor_pressure_max": 1017.0970250980391,
         "android_sensor_pressure_mean": 1017.0848446931373,
         "android_sensor_pressure_min": 1017.0703856862746,
         "android_sensor_pressure_std": 0.01909156653175406,
         "android_sensor_proximity_max": 5.551724137931035,
         "android_sensor_proximity_mean": 4.90804597701138,
         "android_sensor_proximity_min": 4.172413793103448,
         "android_sensor_proximity_std": 3.5957307085057137,
         "android_sensor_rotation_vector_max": 0.7928161874255392,
         "android_sensor_rotation_vector_mean": 0.7777775195974881,
         "android_sensor_rotation_vector_min": 0.7596041781579196,
         "android_sensor_rotation_vector_std": 0.014108787620397684,
         "android_sensor_step_counter_max": 10005.45945945946,
         "android_sensor_step_counter_mean": 10005.033783783783,
         "android_sensor_step_counter_min": 10004.54054054054,
         "android_sensor_step_counter_std": 3.4869578882914287,
         "id": 10866.293333333333,
         "sound_max": 79.33587450002017,
         "sound_mean": 79.05023784881597,
         "sound_min": 78.76594047892354,
         "sound_std": 2.1118811784429017,
         "speed_max": 6.349366956715055,
         "speed_mean": 6.331091910155914,
         "speed_min": 6.311982786822581,
         "speed_std": 0.1384018063723165,
         "time": 123.04666666666667
        },
        {
         "_deepnote_index_column": "std",
         "activityrecognition_0": "nan",
         "activityrecognition_1": 21.564143948938924,
         "android_sensor_accelerometer_max": 5.807925550983092,
         "android_sensor_accelerometer_mean": 0.6585181482235974,
         "android_sensor_accelerometer_min": 1.9693627413187305,
         "android_sensor_accelerometer_std": 1.696881801808877,
         "android_sensor_game_rotation_vector_max": 0.28384282753774676,
         "android_sensor_game_rotation_vector_mean": 0.28126151975707103,
         "android_sensor_game_rotation_vector_min": 0.284938369621536,
         "android_sensor_game_rotation_vector_std": 0.024304781931650532,
         "android_sensor_gravity_max": 0.0018604307551298657,
         "android_sensor_gravity_mean": 0.001897991832780606,
         "android_sensor_gravity_min": 0.0019448873468127128,
         "android_sensor_gravity_std": 0.00043820333071878067,
         "android_sensor_gyroscope_max": 1.405038564301968,
         "android_sensor_gyroscope_mean": 0.5959999219332025,
         "android_sensor_gyroscope_min": 0.1444532467750376,
         "android_sensor_gyroscope_std": 0.33238888342501316,
         "android_sensor_gyroscope_uncalibrated_max": 1.1269994888904393,
         "android_sensor_gyroscope_uncalibrated_mean": 0.5623582867369527,
         "android_sensor_gyroscope_uncalibrated_min": 0.1721530384396236,
         "android_sensor_gyroscope_uncalibrated_std": 0.3047671129370519,
         "android_sensor_light_max": 731.3556281624567,
         "android_sensor_light_mean": 704.2342541305666,
         "android_sensor_light_min": 696.5512173378173,
         "android_sensor_light_std": 58.8624297139886,
         "android_sensor_linear_acceleration_max": 6.097004774486112,
         "android_sensor_linear_acceleration_mean": 2.0388660806877477,
         "android_sensor_linear_acceleration_min": 1.0689367003502286,
         "android_sensor_linear_acceleration_std": 1.289767760132111,
         "android_sensor_magnetic_field_max": 34.409891065450886,
         "android_sensor_magnetic_field_mean": 34.328794945472275,
         "android_sensor_magnetic_field_min": 34.047751130458224,
         "android_sensor_magnetic_field_std": 1.7860820019683177,
         "android_sensor_magnetic_field_uncalibrated_max": 67.74027919238145,
         "android_sensor_magnetic_field_uncalibrated_mean": 67.60717588482444,
         "android_sensor_magnetic_field_uncalibrated_min": 67.68451613580402,
         "android_sensor_magnetic_field_uncalibrated_std": 2.759148327851533,
         "android_sensor_orientation_max": 97.67129646067501,
         "android_sensor_orientation_mean": 90.9277866815391,
         "android_sensor_orientation_min": 94.48470289534848,
         "android_sensor_orientation_std": 32.41469001758001,
         "android_sensor_pressure_max": 14.210909552032957,
         "android_sensor_pressure_mean": 14.21611484625776,
         "android_sensor_pressure_min": 14.223146953392309,
         "android_sensor_pressure_std": 0.021918253189821185,
         "android_sensor_proximity_max": 3.6212291411357604,
         "android_sensor_proximity_mean": 3.458250488651012,
         "android_sensor_proximity_min": 3.9466890781771697,
         "android_sensor_proximity_std": 2.499834817989383,
         "android_sensor_rotation_vector_max": 0.2531558654849064,
         "android_sensor_rotation_vector_mean": 0.2505472191448525,
         "android_sensor_rotation_vector_min": 0.25599816165964207,
         "android_sensor_rotation_vector_std": 0.02911096354152786,
         "android_sensor_step_counter_max": 12115.201827077039,
         "android_sensor_step_counter_mean": 12114.538739121443,
         "android_sensor_step_counter_min": 12113.858642055375,
         "android_sensor_step_counter_std": 1.4223145923121625,
         "id": 6954.896878065052,
         "sound_max": 14.908529156266189,
         "sound_mean": 14.932528571937357,
         "sound_min": 15.168279912018718,
         "sound_std": 3.846731948119904,
         "speed_max": 10.84115603391301,
         "speed_mean": 10.818909036284769,
         "speed_min": 10.799823408062034,
         "speed_std": 0.35442098824276624,
         "time": 132.0181163420596
        },
        {
         "_deepnote_index_column": "min",
         "activityrecognition_0": "nan",
         "activityrecognition_1": 5,
         "android_sensor_accelerometer_max": 9.30891404535,
         "android_sensor_accelerometer_mean": 8.9113302057,
         "android_sensor_accelerometer_min": 1.19240740118,
         "android_sensor_accelerometer_std": 0.00939743658221,
         "android_sensor_game_rotation_vector_max": 0.0268676325529,
         "android_sensor_game_rotation_vector_mean": 0.025824095946,
         "android_sensor_game_rotation_vector_min": 0.0250579608907,
         "android_sensor_game_rotation_vector_std": 0,
         "android_sensor_gravity_max": 9.79292576497,
         "android_sensor_gravity_mean": 9.79292576497,
         "android_sensor_gravity_min": 9.79292576497,
         "android_sensor_gravity_std": 3.62745745959e-09,
         "android_sensor_gyroscope_max": 0.0012217305,
         "android_sensor_gyroscope_mean": 0.0012217305,
         "android_sensor_gyroscope_min": 0,
         "android_sensor_gyroscope_std": 0.000413194090042,
         "android_sensor_gyroscope_uncalibrated_max": 0.0129579913951,
         "android_sensor_gyroscope_uncalibrated_mean": 0.00786920877347,
         "android_sensor_gyroscope_uncalibrated_min": 0.0018450922375,
         "android_sensor_gyroscope_uncalibrated_std": 0.000484878072976,
         "android_sensor_light_max": 0,
         "android_sensor_light_mean": 0,
         "android_sensor_light_min": 0,
         "android_sensor_light_std": 0,
         "android_sensor_linear_acceleration_max": 0.0121811329522,
         "android_sensor_linear_acceleration_mean": 0.0121811329522,
         "android_sensor_linear_acceleration_min": 0.00105531975338,
         "android_sensor_linear_acceleration_std": 0.000725954434475,
         "android_sensor_magnetic_field_max": 11.2451725414,
         "android_sensor_magnetic_field_mean": 7.99523222362,
         "android_sensor_magnetic_field_min": 4.54035644548,
         "android_sensor_magnetic_field_std": 0.00713642654018,
         "android_sensor_magnetic_field_uncalibrated_max": 17.0698564749,
         "android_sensor_magnetic_field_uncalibrated_mean": 17.0374283374,
         "android_sensor_magnetic_field_uncalibrated_min": 16.9333990421,
         "android_sensor_magnetic_field_uncalibrated_std": 0.0309069397034,
         "android_sensor_orientation_max": 22.3059653756,
         "android_sensor_orientation_mean": 22.3059653756,
         "android_sensor_orientation_min": 21.3064492689,
         "android_sensor_orientation_std": 1.64865007168e-05,
         "android_sensor_pressure_max": 991.9529,
         "android_sensor_pressure_mean": 991.94985,
         "android_sensor_pressure_min": 991.9468,
         "android_sensor_pressure_std": 0.00106066017184,
         "android_sensor_proximity_max": 0,
         "android_sensor_proximity_mean": 0,
         "android_sensor_proximity_min": 0,
         "android_sensor_proximity_std": 0,
         "android_sensor_rotation_vector_max": 0.0541834111052,
         "android_sensor_rotation_vector_mean": 0.0497872598716,
         "android_sensor_rotation_vector_min": 0.043830086459,
         "android_sensor_rotation_vector_std": 9.60646549004e-08,
         "android_sensor_step_counter_max": 149,
         "android_sensor_step_counter_mean": 149,
         "android_sensor_step_counter_min": 149,
         "android_sensor_step_counter_std": 1.41421356237,
         "id": 28,
         "sound_max": 16.9019608003,
         "sound_mean": 16.9019608003,
         "sound_min": 16.9019608003,
         "sound_std": 0.001396986578,
         "speed_max": 0,
         "speed_mean": 0,
         "speed_min": 0,
         "speed_std": 0,
         "time": 5
        },
        {
         "_deepnote_index_column": "25%",
         "activityrecognition_0": "nan",
         "activityrecognition_1": 100,
         "android_sensor_accelerometer_max": 9.958908809875,
         "android_sensor_accelerometer_mean": 9.7421905732825,
         "android_sensor_accelerometer_min": 7.91517572646,
         "android_sensor_accelerometer_std": 0.058280069810175,
         "android_sensor_game_rotation_vector_max": 0.592135596522,
         "android_sensor_game_rotation_vector_mean": 0.581952852789,
         "android_sensor_game_rotation_vector_min": 0.5492322903125,
         "android_sensor_game_rotation_vector_std": 0.000198198229619,
         "android_sensor_gravity_max": 9.806648559934999,
         "android_sensor_gravity_mean": 9.80664672519,
         "android_sensor_gravity_min": 9.806645752400001,
         "android_sensor_gravity_std": 3.136993617115e-07,
         "android_sensor_gyroscope_max": 0.0253343425976,
         "android_sensor_gyroscope_mean": 0.0118938847531,
         "android_sensor_gyroscope_min": 0.00285832599679,
         "android_sensor_gyroscope_std": 0.00666807866151,
         "android_sensor_gyroscope_uncalibrated_max": 0.04987115422525,
         "android_sensor_gyroscope_uncalibrated_mean": 0.03660384582395,
         "android_sensor_gyroscope_uncalibrated_min": 0.021893386627450002,
         "android_sensor_gyroscope_uncalibrated_std": 0.0063336788395525,
         "android_sensor_light_max": 5,
         "android_sensor_light_mean": 4,
         "android_sensor_light_min": 3,
         "android_sensor_light_std": 0,
         "android_sensor_linear_acceleration_max": 0.08850341069595,
         "android_sensor_linear_acceleration_mean": 0.06868207656190001,
         "android_sensor_linear_acceleration_min": 0.0420500019351,
         "android_sensor_linear_acceleration_std": 0.024893589434375002,
         "android_sensor_magnetic_field_max": 39.43952581995,
         "android_sensor_magnetic_field_mean": 36.0391005253,
         "android_sensor_magnetic_field_min": 34.6324653345,
         "android_sensor_magnetic_field_std": 0.6005482825,
         "android_sensor_magnetic_field_uncalibrated_max": 91.540186821425,
         "android_sensor_magnetic_field_uncalibrated_mean": 87.607653707425,
         "android_sensor_magnetic_field_uncalibrated_min": 82.59995231869999,
         "android_sensor_magnetic_field_uncalibrated_std": 0.49869212664525,
         "android_sensor_orientation_max": 164.4802621755,
         "android_sensor_orientation_mean": 156.12836120050002,
         "android_sensor_orientation_min": 133.2489725505,
         "android_sensor_orientation_std": 0.2511955927195,
         "android_sensor_pressure_max": 1005.84752,
         "android_sensor_pressure_mean": 1005.827624285,
         "android_sensor_pressure_min": 1005.80982,
         "android_sensor_pressure_std": 0.007603165664685,
         "android_sensor_proximity_max": 0,
         "android_sensor_proximity_mean": 0,
         "android_sensor_proximity_min": 0,
         "android_sensor_proximity_std": 2.30940107676,
         "android_sensor_rotation_vector_max": 0.672039908374,
         "android_sensor_rotation_vector_mean": 0.662667254813,
         "android_sensor_rotation_vector_min": 0.637105874528,
         "android_sensor_rotation_vector_std": 0.000436209240485,
         "android_sensor_step_counter_max": 1174,
         "android_sensor_step_counter_mean": 1174,
         "android_sensor_step_counter_min": 1174,
         "android_sensor_step_counter_std": 2.8831315708150003,
         "id": 4625.5,
         "sound_max": 74.20822085685,
         "sound_mean": 73.8360800368,
         "sound_min": 73.8130991875,
         "sound_std": 0.042411091297099995,
         "speed_max": 0,
         "speed_mean": 0,
         "speed_min": 0,
         "speed_std": 0,
         "time": 31.5
        },
        {
         "_deepnote_index_column": "50%",
         "activityrecognition_0": "nan",
         "activityrecognition_1": 100,
         "android_sensor_accelerometer_max": 10.39070027795,
         "android_sensor_accelerometer_mean": 9.842358240595,
         "android_sensor_accelerometer_min": 9.11079942153,
         "android_sensor_accelerometer_std": 0.28406081653750004,
         "android_sensor_game_rotation_vector_max": 0.82994388718,
         "android_sensor_game_rotation_vector_mean": 0.8068657028595,
         "android_sensor_game_rotation_vector_min": 0.7794689713455001,
         "android_sensor_game_rotation_vector_std": 0.00165751352525,
         "android_sensor_gravity_max": 9.80665046535,
         "android_sensor_gravity_mean": 9.80665006586,
         "android_sensor_gravity_min": 9.80664945583,
         "android_sensor_gravity_std": 4.363765154955e-07,
         "android_sensor_gyroscope_max": 0.127189129888,
         "android_sensor_gyroscope_mean": 0.0515766460253,
         "android_sensor_gyroscope_min": 0.0142124005513,
         "android_sensor_gyroscope_std": 0.038130724088,
         "android_sensor_gyroscope_uncalibrated_max": 0.08757488681799999,
         "android_sensor_gyroscope_uncalibrated_mean": 0.05687992335455,
         "android_sensor_gyroscope_uncalibrated_min": 0.037620640346050005,
         "android_sensor_gyroscope_uncalibrated_std": 0.017078312377100002,
         "android_sensor_light_max": 14,
         "android_sensor_light_mean": 13,
         "android_sensor_light_min": 13,
         "android_sensor_light_std": 0.707106781187,
         "android_sensor_linear_acceleration_max": 0.38488376636,
         "android_sensor_linear_acceleration_mean": 0.303549916483,
         "android_sensor_linear_acceleration_min": 0.247689555102,
         "android_sensor_linear_acceleration_std": 0.12709515403,
         "android_sensor_magnetic_field_max": 45.1293713257,
         "android_sensor_magnetic_field_mean": 43.5265078217,
         "android_sensor_magnetic_field_min": 42.0785111607,
         "android_sensor_magnetic_field_std": 1.00103544243,
         "android_sensor_magnetic_field_uncalibrated_max": 133.1941569165,
         "android_sensor_magnetic_field_uncalibrated_mean": 131.9713067655,
         "android_sensor_magnetic_field_uncalibrated_min": 130.8782162685,
         "android_sensor_magnetic_field_uncalibrated_std": 1.125435250115,
         "android_sensor_orientation_max": 216.890201477,
         "android_sensor_orientation_mean": 206.864069637,
         "android_sensor_orientation_min": 199.763356173,
         "android_sensor_orientation_std": 1.02234400197,
         "android_sensor_pressure_max": 1011.0933,
         "android_sensor_pressure_mean": 1011.06792,
         "android_sensor_pressure_min": 1011.04254,
         "android_sensor_pressure_std": 0.014611352288550001,
         "android_sensor_proximity_max": 8,
         "android_sensor_proximity_mean": 5,
         "android_sensor_proximity_min": 5,
         "android_sensor_proximity_std": 4.61880215352,
         "android_sensor_rotation_vector_max": 0.925901917216,
         "android_sensor_rotation_vector_mean": 0.867410168076,
         "android_sensor_rotation_vector_min": 0.84969159205,
         "android_sensor_rotation_vector_std": 0.00260293562976,
         "android_sensor_step_counter_max": 3644,
         "android_sensor_step_counter_mean": 3644,
         "android_sensor_step_counter_min": 3644,
         "android_sensor_step_counter_std": 3.0276503541,
         "id": 11062.5,
         "sound_max": 85.2414242523,
         "sound_mean": 84.5644129774,
         "sound_min": 84.5644129774,
         "sound_std": 1.00661125342,
         "speed_max": 1.25,
         "speed_mean": 1.25,
         "speed_min": 1.25,
         "speed_std": 0,
         "time": 71
        },
        {
         "_deepnote_index_column": "75%",
         "activityrecognition_0": "nan",
         "activityrecognition_1": 100,
         "android_sensor_accelerometer_max": 12.126512615574999,
         "android_sensor_accelerometer_mean": 10.0087674069,
         "android_sensor_accelerometer_min": 9.69186126508,
         "android_sensor_accelerometer_std": 1.1048782609625,
         "android_sensor_game_rotation_vector_max": 0.960711270082,
         "android_sensor_game_rotation_vector_mean": 0.94642754072975,
         "android_sensor_game_rotation_vector_min": 0.9409061138445,
         "android_sensor_game_rotation_vector_std": 0.0084920053877575,
         "android_sensor_gravity_max": 9.80665084183,
         "android_sensor_gravity_mean": 9.80665021549,
         "android_sensor_gravity_min": 9.80664978161,
         "android_sensor_gravity_std": 1.208320660365e-06,
         "android_sensor_gyroscope_max": 0.598667651536,
         "android_sensor_gyroscope_mean": 0.262231974187,
         "android_sensor_gyroscope_min": 0.0731663249748,
         "android_sensor_gyroscope_std": 0.177300965546,
         "android_sensor_gyroscope_uncalibrated_max": 0.47818892598375,
         "android_sensor_gyroscope_uncalibrated_mean": 0.25335279221775,
         "android_sensor_gyroscope_uncalibrated_min": 0.12340047421474999,
         "android_sensor_gyroscope_uncalibrated_std": 0.15840929402550002,
         "android_sensor_light_max": 84,
         "android_sensor_light_mean": 80.5,
         "android_sensor_light_min": 80.5,
         "android_sensor_light_std": 4.94974746831,
         "android_sensor_linear_acceleration_max": 2.21872191016,
         "android_sensor_linear_acceleration_mean": 1.7251896526950001,
         "android_sensor_linear_acceleration_min": 1.052494174195,
         "android_sensor_linear_acceleration_std": 0.84944844816,
         "android_sensor_magnetic_field_max": 57.5467484052,
         "android_sensor_magnetic_field_mean": 56.81321840705,
         "android_sensor_magnetic_field_min": 55.348088688299995,
         "android_sensor_magnetic_field_std": 1.85735664224,
         "android_sensor_magnetic_field_uncalibrated_max": 162.38018199525,
         "android_sensor_magnetic_field_uncalibrated_mean": 159.65707147400002,
         "android_sensor_magnetic_field_uncalibrated_min": 159.55192265875,
         "android_sensor_magnetic_field_uncalibrated_std": 2.2655639473374998,
         "android_sensor_orientation_max": 315.356494516,
         "android_sensor_orientation_mean": 289.152474692,
         "android_sensor_orientation_min": 282.7791077485,
         "android_sensor_orientation_std": 7.222588179080001,
         "android_sensor_pressure_max": 1024.0824499999999,
         "android_sensor_pressure_mean": 1024.074725,
         "android_sensor_pressure_min": 1024.067,
         "android_sensor_pressure_std": 0.023925155477799998,
         "android_sensor_proximity_max": 8,
         "android_sensor_proximity_mean": 8,
         "android_sensor_proximity_min": 8,
         "android_sensor_proximity_std": 5.137828201505,
         "android_sensor_rotation_vector_max": 0.986594005364,
         "android_sensor_rotation_vector_mean": 0.973743959511,
         "android_sensor_rotation_vector_min": 0.971732082451,
         "android_sensor_rotation_vector_std": 0.0121096178399,
         "android_sensor_step_counter_max": 12995,
         "android_sensor_step_counter_mean": 12992.25,
         "android_sensor_step_counter_min": 12987,
         "android_sensor_step_counter_std": 4.271861955225,
         "id": 17537,
         "sound_max": 89.7471517857,
         "sound_mean": 89.7420601596,
         "sound_min": 89.74163571919999,
         "sound_std": 2.139862075745,
         "speed_max": 8,
         "speed_mean": 8,
         "speed_min": 8,
         "speed_std": 0.0632643589772,
         "time": 156.75
        },
        {
         "_deepnote_index_column": "max",
         "activityrecognition_0": "nan",
         "activityrecognition_1": 100,
         "android_sensor_accelerometer_max": 52.084251989,
         "android_sensor_accelerometer_mean": 13.2431973342,
         "android_sensor_accelerometer_min": 10.1928288439,
         "android_sensor_accelerometer_std": 9.02840951104,
         "android_sensor_game_rotation_vector_max": 0.999999425408,
         "android_sensor_game_rotation_vector_mean": 0.999406077716,
         "android_sensor_game_rotation_vector_min": 0.999007378839,
         "android_sensor_game_rotation_vector_std": 0.139201902343,
         "android_sensor_gravity_max": 9.81308059014,
         "android_sensor_gravity_mean": 9.81308059014,
         "android_sensor_gravity_min": 9.81308059014,
         "android_sensor_gravity_std": 0.00368244623624,
         "android_sensor_gyroscope_max": 5.86091048251,
         "android_sensor_gyroscope_mean": 2.66375608475,
         "android_sensor_gyroscope_min": 0.635638053278,
         "android_sensor_gyroscope_std": 1.20763260788,
         "android_sensor_gyroscope_uncalibrated_max": 5.85399449165,
         "android_sensor_gyroscope_uncalibrated_mean": 2.66785950685,
         "android_sensor_gyroscope_uncalibrated_min": 0.859727149359,
         "android_sensor_gyroscope_uncalibrated_std": 1.30687933917,
         "android_sensor_light_max": 4243,
         "android_sensor_light_mean": 4243,
         "android_sensor_light_min": 4243,
         "android_sensor_light_std": 387.947958151,
         "android_sensor_linear_acceleration_max": 42.8960089099,
         "android_sensor_linear_acceleration_mean": 9.82051946408,
         "android_sensor_linear_acceleration_min": 6.01552308798,
         "android_sensor_linear_acceleration_std": 7.41930960103,
         "android_sensor_magnetic_field_max": 193.918565382,
         "android_sensor_magnetic_field_mean": 193.531531859,
         "android_sensor_magnetic_field_min": 192.965447109,
         "android_sensor_magnetic_field_std": 12.2972458205,
         "android_sensor_magnetic_field_uncalibrated_max": 418.516379608,
         "android_sensor_magnetic_field_uncalibrated_mean": 418.516379608,
         "android_sensor_magnetic_field_uncalibrated_min": 418.516379608,
         "android_sensor_magnetic_field_uncalibrated_std": 15.7760497662,
         "android_sensor_orientation_max": 403.127384272,
         "android_sensor_orientation_mean": 402.868253569,
         "android_sensor_orientation_min": 402.545007037,
         "android_sensor_orientation_std": 171.210407111,
         "android_sensor_pressure_max": 1049.0579,
         "android_sensor_pressure_mean": 1049.0579,
         "android_sensor_pressure_min": 1049.0579,
         "android_sensor_pressure_std": 0.123870168185,
         "android_sensor_proximity_max": 9,
         "android_sensor_proximity_mean": 9,
         "android_sensor_proximity_min": 9,
         "android_sensor_proximity_std": 5.65685424949,
         "android_sensor_rotation_vector_max": 0.999999613914,
         "android_sensor_rotation_vector_mean": 0.99996965749,
         "android_sensor_rotation_vector_min": 0.99996965749,
         "android_sensor_rotation_vector_std": 0.158763313109,
         "android_sensor_step_counter_max": 33345,
         "android_sensor_step_counter_mean": 33340.5,
         "android_sensor_step_counter_min": 33336,
         "android_sensor_step_counter_std": 5.65685424949,
         "id": 21996,
         "sound_max": 90.3087336228,
         "sound_mean": 90.3087336228,
         "sound_min": 90.3087336228,
         "sound_std": 26.8355456884,
         "speed_max": 48.25,
         "speed_mean": 48,
         "speed_min": 47.75,
         "speed_std": 1.60323628646,
         "time": 658
        }
       ]
      },
      "text/html": [
       "<div>\n",
       "<style scoped>\n",
       "    .dataframe tbody tr th:only-of-type {\n",
       "        vertical-align: middle;\n",
       "    }\n",
       "\n",
       "    .dataframe tbody tr th {\n",
       "        vertical-align: top;\n",
       "    }\n",
       "\n",
       "    .dataframe thead th {\n",
       "        text-align: right;\n",
       "    }\n",
       "</style>\n",
       "<table border=\"1\" class=\"dataframe\">\n",
       "  <thead>\n",
       "    <tr style=\"text-align: right;\">\n",
       "      <th></th>\n",
       "      <th>id</th>\n",
       "      <th>time</th>\n",
       "      <th>activityrecognition_0</th>\n",
       "      <th>activityrecognition_1</th>\n",
       "      <th>android_sensor_accelerometer_mean</th>\n",
       "      <th>android_sensor_accelerometer_min</th>\n",
       "      <th>android_sensor_accelerometer_max</th>\n",
       "      <th>android_sensor_accelerometer_std</th>\n",
       "      <th>android_sensor_game_rotation_vector_mean</th>\n",
       "      <th>android_sensor_game_rotation_vector_min</th>\n",
       "      <th>...</th>\n",
       "      <th>android_sensor_step_counter_max</th>\n",
       "      <th>android_sensor_step_counter_std</th>\n",
       "      <th>sound_mean</th>\n",
       "      <th>sound_min</th>\n",
       "      <th>sound_max</th>\n",
       "      <th>sound_std</th>\n",
       "      <th>speed_mean</th>\n",
       "      <th>speed_min</th>\n",
       "      <th>speed_max</th>\n",
       "      <th>speed_std</th>\n",
       "    </tr>\n",
       "  </thead>\n",
       "  <tbody>\n",
       "    <tr>\n",
       "      <th>count</th>\n",
       "      <td>150.000000</td>\n",
       "      <td>150.000000</td>\n",
       "      <td>0.0</td>\n",
       "      <td>150.000000</td>\n",
       "      <td>150.000000</td>\n",
       "      <td>150.000000</td>\n",
       "      <td>150.000000</td>\n",
       "      <td>150.000000</td>\n",
       "      <td>132.000000</td>\n",
       "      <td>132.000000</td>\n",
       "      <td>...</td>\n",
       "      <td>37.000000</td>\n",
       "      <td>7.000000</td>\n",
       "      <td>119.000000</td>\n",
       "      <td>119.000000</td>\n",
       "      <td>119.000000</td>\n",
       "      <td>99.000000</td>\n",
       "      <td>93.000000</td>\n",
       "      <td>93.000000</td>\n",
       "      <td>93.000000</td>\n",
       "      <td>37.000000</td>\n",
       "    </tr>\n",
       "    <tr>\n",
       "      <th>mean</th>\n",
       "      <td>10866.293333</td>\n",
       "      <td>123.046667</td>\n",
       "      <td>NaN</td>\n",
       "      <td>91.033333</td>\n",
       "      <td>9.967002</td>\n",
       "      <td>8.385486</td>\n",
       "      <td>12.412860</td>\n",
       "      <td>1.006674</td>\n",
       "      <td>0.716875</td>\n",
       "      <td>0.697041</td>\n",
       "      <td>...</td>\n",
       "      <td>10005.459459</td>\n",
       "      <td>3.486958</td>\n",
       "      <td>79.050238</td>\n",
       "      <td>78.765940</td>\n",
       "      <td>79.335875</td>\n",
       "      <td>2.111881</td>\n",
       "      <td>6.331092</td>\n",
       "      <td>6.311983</td>\n",
       "      <td>6.349367</td>\n",
       "      <td>0.138402</td>\n",
       "    </tr>\n",
       "    <tr>\n",
       "      <th>std</th>\n",
       "      <td>6954.896878</td>\n",
       "      <td>132.018116</td>\n",
       "      <td>NaN</td>\n",
       "      <td>21.564144</td>\n",
       "      <td>0.658518</td>\n",
       "      <td>1.969363</td>\n",
       "      <td>5.807926</td>\n",
       "      <td>1.696882</td>\n",
       "      <td>0.281262</td>\n",
       "      <td>0.284938</td>\n",
       "      <td>...</td>\n",
       "      <td>12115.201827</td>\n",
       "      <td>1.422315</td>\n",
       "      <td>14.932529</td>\n",
       "      <td>15.168280</td>\n",
       "      <td>14.908529</td>\n",
       "      <td>3.846732</td>\n",
       "      <td>10.818909</td>\n",
       "      <td>10.799823</td>\n",
       "      <td>10.841156</td>\n",
       "      <td>0.354421</td>\n",
       "    </tr>\n",
       "    <tr>\n",
       "      <th>min</th>\n",
       "      <td>28.000000</td>\n",
       "      <td>5.000000</td>\n",
       "      <td>NaN</td>\n",
       "      <td>5.000000</td>\n",
       "      <td>8.911330</td>\n",
       "      <td>1.192407</td>\n",
       "      <td>9.308914</td>\n",
       "      <td>0.009397</td>\n",
       "      <td>0.025824</td>\n",
       "      <td>0.025058</td>\n",
       "      <td>...</td>\n",
       "      <td>149.000000</td>\n",
       "      <td>1.414214</td>\n",
       "      <td>16.901961</td>\n",
       "      <td>16.901961</td>\n",
       "      <td>16.901961</td>\n",
       "      <td>0.001397</td>\n",
       "      <td>0.000000</td>\n",
       "      <td>0.000000</td>\n",
       "      <td>0.000000</td>\n",
       "      <td>0.000000</td>\n",
       "    </tr>\n",
       "    <tr>\n",
       "      <th>25%</th>\n",
       "      <td>4625.500000</td>\n",
       "      <td>31.500000</td>\n",
       "      <td>NaN</td>\n",
       "      <td>100.000000</td>\n",
       "      <td>9.742191</td>\n",
       "      <td>7.915176</td>\n",
       "      <td>9.958909</td>\n",
       "      <td>0.058280</td>\n",
       "      <td>0.581953</td>\n",
       "      <td>0.549232</td>\n",
       "      <td>...</td>\n",
       "      <td>1174.000000</td>\n",
       "      <td>2.883132</td>\n",
       "      <td>73.836080</td>\n",
       "      <td>73.813099</td>\n",
       "      <td>74.208221</td>\n",
       "      <td>0.042411</td>\n",
       "      <td>0.000000</td>\n",
       "      <td>0.000000</td>\n",
       "      <td>0.000000</td>\n",
       "      <td>0.000000</td>\n",
       "    </tr>\n",
       "    <tr>\n",
       "      <th>50%</th>\n",
       "      <td>11062.500000</td>\n",
       "      <td>71.000000</td>\n",
       "      <td>NaN</td>\n",
       "      <td>100.000000</td>\n",
       "      <td>9.842358</td>\n",
       "      <td>9.110799</td>\n",
       "      <td>10.390700</td>\n",
       "      <td>0.284061</td>\n",
       "      <td>0.806866</td>\n",
       "      <td>0.779469</td>\n",
       "      <td>...</td>\n",
       "      <td>3644.000000</td>\n",
       "      <td>3.027650</td>\n",
       "      <td>84.564413</td>\n",
       "      <td>84.564413</td>\n",
       "      <td>85.241424</td>\n",
       "      <td>1.006611</td>\n",
       "      <td>1.250000</td>\n",
       "      <td>1.250000</td>\n",
       "      <td>1.250000</td>\n",
       "      <td>0.000000</td>\n",
       "    </tr>\n",
       "    <tr>\n",
       "      <th>75%</th>\n",
       "      <td>17537.000000</td>\n",
       "      <td>156.750000</td>\n",
       "      <td>NaN</td>\n",
       "      <td>100.000000</td>\n",
       "      <td>10.008767</td>\n",
       "      <td>9.691861</td>\n",
       "      <td>12.126513</td>\n",
       "      <td>1.104878</td>\n",
       "      <td>0.946428</td>\n",
       "      <td>0.940906</td>\n",
       "      <td>...</td>\n",
       "      <td>12995.000000</td>\n",
       "      <td>4.271862</td>\n",
       "      <td>89.742060</td>\n",
       "      <td>89.741636</td>\n",
       "      <td>89.747152</td>\n",
       "      <td>2.139862</td>\n",
       "      <td>8.000000</td>\n",
       "      <td>8.000000</td>\n",
       "      <td>8.000000</td>\n",
       "      <td>0.063264</td>\n",
       "    </tr>\n",
       "    <tr>\n",
       "      <th>max</th>\n",
       "      <td>21996.000000</td>\n",
       "      <td>658.000000</td>\n",
       "      <td>NaN</td>\n",
       "      <td>100.000000</td>\n",
       "      <td>13.243197</td>\n",
       "      <td>10.192829</td>\n",
       "      <td>52.084252</td>\n",
       "      <td>9.028410</td>\n",
       "      <td>0.999406</td>\n",
       "      <td>0.999007</td>\n",
       "      <td>...</td>\n",
       "      <td>33345.000000</td>\n",
       "      <td>5.656854</td>\n",
       "      <td>90.308734</td>\n",
       "      <td>90.308734</td>\n",
       "      <td>90.308734</td>\n",
       "      <td>26.835546</td>\n",
       "      <td>48.000000</td>\n",
       "      <td>47.750000</td>\n",
       "      <td>48.250000</td>\n",
       "      <td>1.603236</td>\n",
       "    </tr>\n",
       "  </tbody>\n",
       "</table>\n",
       "<p>8 rows × 68 columns</p>\n",
       "</div>"
      ],
      "text/plain": [
       "                 id        time  activityrecognition_0  activityrecognition_1  \\\n",
       "count    150.000000  150.000000                    0.0             150.000000   \n",
       "mean   10866.293333  123.046667                    NaN              91.033333   \n",
       "std     6954.896878  132.018116                    NaN              21.564144   \n",
       "min       28.000000    5.000000                    NaN               5.000000   \n",
       "25%     4625.500000   31.500000                    NaN             100.000000   \n",
       "50%    11062.500000   71.000000                    NaN             100.000000   \n",
       "75%    17537.000000  156.750000                    NaN             100.000000   \n",
       "max    21996.000000  658.000000                    NaN             100.000000   \n",
       "\n",
       "       android_sensor_accelerometer_mean  android_sensor_accelerometer_min  \\\n",
       "count                         150.000000                        150.000000   \n",
       "mean                            9.967002                          8.385486   \n",
       "std                             0.658518                          1.969363   \n",
       "min                             8.911330                          1.192407   \n",
       "25%                             9.742191                          7.915176   \n",
       "50%                             9.842358                          9.110799   \n",
       "75%                            10.008767                          9.691861   \n",
       "max                            13.243197                         10.192829   \n",
       "\n",
       "       android_sensor_accelerometer_max  android_sensor_accelerometer_std  \\\n",
       "count                        150.000000                        150.000000   \n",
       "mean                          12.412860                          1.006674   \n",
       "std                            5.807926                          1.696882   \n",
       "min                            9.308914                          0.009397   \n",
       "25%                            9.958909                          0.058280   \n",
       "50%                           10.390700                          0.284061   \n",
       "75%                           12.126513                          1.104878   \n",
       "max                           52.084252                          9.028410   \n",
       "\n",
       "       android_sensor_game_rotation_vector_mean  \\\n",
       "count                                132.000000   \n",
       "mean                                   0.716875   \n",
       "std                                    0.281262   \n",
       "min                                    0.025824   \n",
       "25%                                    0.581953   \n",
       "50%                                    0.806866   \n",
       "75%                                    0.946428   \n",
       "max                                    0.999406   \n",
       "\n",
       "       android_sensor_game_rotation_vector_min  ...  \\\n",
       "count                               132.000000  ...   \n",
       "mean                                  0.697041  ...   \n",
       "std                                   0.284938  ...   \n",
       "min                                   0.025058  ...   \n",
       "25%                                   0.549232  ...   \n",
       "50%                                   0.779469  ...   \n",
       "75%                                   0.940906  ...   \n",
       "max                                   0.999007  ...   \n",
       "\n",
       "       android_sensor_step_counter_max  android_sensor_step_counter_std  \\\n",
       "count                        37.000000                         7.000000   \n",
       "mean                      10005.459459                         3.486958   \n",
       "std                       12115.201827                         1.422315   \n",
       "min                         149.000000                         1.414214   \n",
       "25%                        1174.000000                         2.883132   \n",
       "50%                        3644.000000                         3.027650   \n",
       "75%                       12995.000000                         4.271862   \n",
       "max                       33345.000000                         5.656854   \n",
       "\n",
       "       sound_mean   sound_min   sound_max  sound_std  speed_mean  speed_min  \\\n",
       "count  119.000000  119.000000  119.000000  99.000000   93.000000  93.000000   \n",
       "mean    79.050238   78.765940   79.335875   2.111881    6.331092   6.311983   \n",
       "std     14.932529   15.168280   14.908529   3.846732   10.818909  10.799823   \n",
       "min     16.901961   16.901961   16.901961   0.001397    0.000000   0.000000   \n",
       "25%     73.836080   73.813099   74.208221   0.042411    0.000000   0.000000   \n",
       "50%     84.564413   84.564413   85.241424   1.006611    1.250000   1.250000   \n",
       "75%     89.742060   89.741636   89.747152   2.139862    8.000000   8.000000   \n",
       "max     90.308734   90.308734   90.308734  26.835546   48.000000  47.750000   \n",
       "\n",
       "       speed_max  speed_std  \n",
       "count  93.000000  37.000000  \n",
       "mean    6.349367   0.138402  \n",
       "std    10.841156   0.354421  \n",
       "min     0.000000   0.000000  \n",
       "25%     0.000000   0.000000  \n",
       "50%     1.250000   0.000000  \n",
       "75%     8.000000   0.063264  \n",
       "max    48.250000   1.603236  \n",
       "\n",
       "[8 rows x 68 columns]"
      ]
     },
     "execution_count": 87,
     "metadata": {},
     "output_type": "execute_result"
    }
   ],
   "source": [
    "test.describe()"
   ]
  },
  {
   "cell_type": "code",
   "execution_count": 88,
   "metadata": {
    "cell_id": "00021-4b5183bc-2b0d-42cb-b151-0931353b2a3e",
    "deepnote_cell_type": "code",
    "deepnote_to_be_reexecuted": false,
    "execution_millis": 731,
    "execution_start": 1621269303423,
    "source_hash": "9782bf47",
    "tags": []
   },
   "outputs": [
    {
     "data": {
      "application/vnd.deepnote.dataframe.v2+json": {
       "column_count": 68,
       "columns": [
        {
         "dtype": "float64",
         "name": "id",
         "stats": {
          "histogram": [
           {
            "bin_end": 2224.8,
            "bin_start": 28,
            "count": 2
           },
           {
            "bin_end": 4421.6,
            "bin_start": 2224.8,
            "count": 0
           },
           {
            "bin_end": 6618.400000000001,
            "bin_start": 4421.6,
            "count": 1
           },
           {
            "bin_end": 8815.2,
            "bin_start": 6618.400000000001,
            "count": 1
           },
           {
            "bin_end": 11012,
            "bin_start": 8815.2,
            "count": 1
           },
           {
            "bin_end": 13208.800000000001,
            "bin_start": 11012,
            "count": 1
           },
           {
            "bin_end": 15405.600000000002,
            "bin_start": 13208.800000000001,
            "count": 0
           },
           {
            "bin_end": 17602.4,
            "bin_start": 15405.600000000002,
            "count": 1
           },
           {
            "bin_end": 19799.2,
            "bin_start": 17602.4,
            "count": 0
           },
           {
            "bin_end": 21996,
            "bin_start": 19799.2,
            "count": 1
           }
          ],
          "max": "21996.0",
          "min": "28.0",
          "nan_count": 0,
          "unique_count": 8
         }
        },
        {
         "dtype": "float64",
         "name": "time",
         "stats": {
          "histogram": [
           {
            "bin_end": 70.3,
            "bin_start": 5,
            "count": 2
           },
           {
            "bin_end": 135.6,
            "bin_start": 70.3,
            "count": 3
           },
           {
            "bin_end": 200.89999999999998,
            "bin_start": 135.6,
            "count": 2
           },
           {
            "bin_end": 266.2,
            "bin_start": 200.89999999999998,
            "count": 0
           },
           {
            "bin_end": 331.5,
            "bin_start": 266.2,
            "count": 0
           },
           {
            "bin_end": 396.79999999999995,
            "bin_start": 331.5,
            "count": 0
           },
           {
            "bin_end": 462.09999999999997,
            "bin_start": 396.79999999999995,
            "count": 0
           },
           {
            "bin_end": 527.4,
            "bin_start": 462.09999999999997,
            "count": 0
           },
           {
            "bin_end": 592.6999999999999,
            "bin_start": 527.4,
            "count": 0
           },
           {
            "bin_end": 658,
            "bin_start": 592.6999999999999,
            "count": 1
           }
          ],
          "max": "658.0",
          "min": "5.0",
          "nan_count": 0,
          "unique_count": 8
         }
        },
        {
         "dtype": "float64",
         "name": "activityrecognition_0",
         "stats": {
          "histogram": [
           {
            "bin_end": -0.4,
            "bin_start": -0.5,
            "count": 0
           },
           {
            "bin_end": -0.3,
            "bin_start": -0.4,
            "count": 0
           },
           {
            "bin_end": -0.19999999999999996,
            "bin_start": -0.3,
            "count": 0
           },
           {
            "bin_end": -0.09999999999999998,
            "bin_start": -0.19999999999999996,
            "count": 0
           },
           {
            "bin_end": 0,
            "bin_start": -0.09999999999999998,
            "count": 0
           },
           {
            "bin_end": 0.10000000000000009,
            "bin_start": 0,
            "count": 1
           },
           {
            "bin_end": 0.20000000000000007,
            "bin_start": 0.10000000000000009,
            "count": 0
           },
           {
            "bin_end": 0.30000000000000004,
            "bin_start": 0.20000000000000007,
            "count": 0
           },
           {
            "bin_end": 0.4,
            "bin_start": 0.30000000000000004,
            "count": 0
           },
           {
            "bin_end": 0.5,
            "bin_start": 0.4,
            "count": 0
           }
          ],
          "max": "0.0",
          "min": "0.0",
          "nan_count": 7,
          "unique_count": 1
         }
        },
        {
         "dtype": "float64",
         "name": "activityrecognition_1",
         "stats": {
          "histogram": [
           {
            "bin_end": 19.5,
            "bin_start": 5,
            "count": 1
           },
           {
            "bin_end": 34,
            "bin_start": 19.5,
            "count": 1
           },
           {
            "bin_end": 48.5,
            "bin_start": 34,
            "count": 0
           },
           {
            "bin_end": 63,
            "bin_start": 48.5,
            "count": 0
           },
           {
            "bin_end": 77.5,
            "bin_start": 63,
            "count": 0
           },
           {
            "bin_end": 92,
            "bin_start": 77.5,
            "count": 1
           },
           {
            "bin_end": 106.5,
            "bin_start": 92,
            "count": 4
           },
           {
            "bin_end": 121,
            "bin_start": 106.5,
            "count": 0
           },
           {
            "bin_end": 135.5,
            "bin_start": 121,
            "count": 0
           },
           {
            "bin_end": 150,
            "bin_start": 135.5,
            "count": 1
           }
          ],
          "max": "150.0",
          "min": "5.0",
          "nan_count": 0,
          "unique_count": 5
         }
        },
        {
         "dtype": "float64",
         "name": "android_sensor_accelerometer_mean",
         "stats": {
          "histogram": [
           {
            "bin_end": 15.592666333401237,
            "bin_start": 0.6585181482235974,
            "count": 7
           },
           {
            "bin_end": 30.526814518578874,
            "bin_start": 15.592666333401237,
            "count": 0
           },
           {
            "bin_end": 45.460962703756515,
            "bin_start": 30.526814518578874,
            "count": 0
           },
           {
            "bin_end": 60.395110888934155,
            "bin_start": 45.460962703756515,
            "count": 0
           },
           {
            "bin_end": 75.32925907411179,
            "bin_start": 60.395110888934155,
            "count": 0
           },
           {
            "bin_end": 90.26340725928942,
            "bin_start": 75.32925907411179,
            "count": 0
           },
           {
            "bin_end": 105.19755544446707,
            "bin_start": 90.26340725928942,
            "count": 0
           },
           {
            "bin_end": 120.1317036296447,
            "bin_start": 105.19755544446707,
            "count": 0
           },
           {
            "bin_end": 135.06585181482237,
            "bin_start": 120.1317036296447,
            "count": 0
           },
           {
            "bin_end": 150,
            "bin_start": 135.06585181482237,
            "count": 1
           }
          ],
          "max": "150.0",
          "min": "0.6585181482235974",
          "nan_count": 0,
          "unique_count": 8
         }
        },
        {
         "dtype": "float64",
         "name": "android_sensor_accelerometer_min",
         "stats": {
          "histogram": [
           {
            "bin_end": 16.073166661062,
            "bin_start": 1.19240740118,
            "count": 7
           },
           {
            "bin_end": 30.953925920944002,
            "bin_start": 16.073166661062,
            "count": 0
           },
           {
            "bin_end": 45.83468518082601,
            "bin_start": 30.953925920944002,
            "count": 0
           },
           {
            "bin_end": 60.715444440708005,
            "bin_start": 45.83468518082601,
            "count": 0
           },
           {
            "bin_end": 75.59620370059001,
            "bin_start": 60.715444440708005,
            "count": 0
           },
           {
            "bin_end": 90.47696296047202,
            "bin_start": 75.59620370059001,
            "count": 0
           },
           {
            "bin_end": 105.35772222035402,
            "bin_start": 90.47696296047202,
            "count": 0
           },
           {
            "bin_end": 120.23848148023602,
            "bin_start": 105.35772222035402,
            "count": 0
           },
           {
            "bin_end": 135.11924074011802,
            "bin_start": 120.23848148023602,
            "count": 0
           },
           {
            "bin_end": 150,
            "bin_start": 135.11924074011802,
            "count": 1
           }
          ],
          "max": "150.0",
          "min": "1.19240740118",
          "nan_count": 0,
          "unique_count": 8
         }
        },
        {
         "dtype": "float64",
         "name": "android_sensor_accelerometer_max",
         "stats": {
          "histogram": [
           {
            "bin_end": 20.227132995884784,
            "bin_start": 5.807925550983092,
            "count": 6
           },
           {
            "bin_end": 34.646340440786474,
            "bin_start": 20.227132995884784,
            "count": 0
           },
           {
            "bin_end": 49.06554788568817,
            "bin_start": 34.646340440786474,
            "count": 0
           },
           {
            "bin_end": 63.484755330589856,
            "bin_start": 49.06554788568817,
            "count": 1
           },
           {
            "bin_end": 77.90396277549154,
            "bin_start": 63.484755330589856,
            "count": 0
           },
           {
            "bin_end": 92.32317022039324,
            "bin_start": 77.90396277549154,
            "count": 0
           },
           {
            "bin_end": 106.74237766529492,
            "bin_start": 92.32317022039324,
            "count": 0
           },
           {
            "bin_end": 121.16158511019661,
            "bin_start": 106.74237766529492,
            "count": 0
           },
           {
            "bin_end": 135.58079255509833,
            "bin_start": 121.16158511019661,
            "count": 0
           },
           {
            "bin_end": 150,
            "bin_start": 135.58079255509833,
            "count": 1
           }
          ],
          "max": "150.0",
          "min": "5.807925550983092",
          "nan_count": 0,
          "unique_count": 8
         }
        },
        {
         "dtype": "float64",
         "name": "android_sensor_accelerometer_std",
         "stats": {
          "histogram": [
           {
            "bin_end": 15.008457692923988,
            "bin_start": 0.00939743658221,
            "count": 7
           },
           {
            "bin_end": 30.007517949265765,
            "bin_start": 15.008457692923988,
            "count": 0
           },
           {
            "bin_end": 45.006578205607546,
            "bin_start": 30.007517949265765,
            "count": 0
           },
           {
            "bin_end": 60.005638461949324,
            "bin_start": 45.006578205607546,
            "count": 0
           },
           {
            "bin_end": 75.0046987182911,
            "bin_start": 60.005638461949324,
            "count": 0
           },
           {
            "bin_end": 90.00375897463287,
            "bin_start": 75.0046987182911,
            "count": 0
           },
           {
            "bin_end": 105.00281923097465,
            "bin_start": 90.00375897463287,
            "count": 0
           },
           {
            "bin_end": 120.00187948731643,
            "bin_start": 105.00281923097465,
            "count": 0
           },
           {
            "bin_end": 135.00093974365822,
            "bin_start": 120.00187948731643,
            "count": 0
           },
           {
            "bin_end": 150,
            "bin_start": 135.00093974365822,
            "count": 1
           }
          ],
          "max": "150.0",
          "min": "0.00939743658221",
          "nan_count": 0,
          "unique_count": 8
         }
        },
        {
         "dtype": "float64",
         "name": "android_sensor_game_rotation_vector_mean",
         "stats": {
          "histogram": [
           {
            "bin_end": 13.223241686351399,
            "bin_start": 0.025824095946,
            "count": 7
           },
           {
            "bin_end": 26.420659276756798,
            "bin_start": 13.223241686351399,
            "count": 0
           },
           {
            "bin_end": 39.618076867162195,
            "bin_start": 26.420659276756798,
            "count": 0
           },
           {
            "bin_end": 52.815494457567596,
            "bin_start": 39.618076867162195,
            "count": 0
           },
           {
            "bin_end": 66.012912047973,
            "bin_start": 52.815494457567596,
            "count": 0
           },
           {
            "bin_end": 79.2103296383784,
            "bin_start": 66.012912047973,
            "count": 0
           },
           {
            "bin_end": 92.4077472287838,
            "bin_start": 79.2103296383784,
            "count": 0
           },
           {
            "bin_end": 105.6051648191892,
            "bin_start": 92.4077472287838,
            "count": 0
           },
           {
            "bin_end": 118.80258240959459,
            "bin_start": 105.6051648191892,
            "count": 0
           },
           {
            "bin_end": 132,
            "bin_start": 118.80258240959459,
            "count": 1
           }
          ],
          "max": "132.0",
          "min": "0.025824095946",
          "nan_count": 0,
          "unique_count": 8
         }
        },
        {
         "dtype": "float64",
         "name": "android_sensor_game_rotation_vector_min",
         "stats": {
          "histogram": [
           {
            "bin_end": 13.22255216480163,
            "bin_start": 0.0250579608907,
            "count": 7
           },
           {
            "bin_end": 26.42004636871256,
            "bin_start": 13.22255216480163,
            "count": 0
           },
           {
            "bin_end": 39.61754057262349,
            "bin_start": 26.42004636871256,
            "count": 0
           },
           {
            "bin_end": 52.81503477653442,
            "bin_start": 39.61754057262349,
            "count": 0
           },
           {
            "bin_end": 66.01252898044535,
            "bin_start": 52.81503477653442,
            "count": 0
           },
           {
            "bin_end": 79.21002318435629,
            "bin_start": 66.01252898044535,
            "count": 0
           },
           {
            "bin_end": 92.40751738826721,
            "bin_start": 79.21002318435629,
            "count": 0
           },
           {
            "bin_end": 105.60501159217814,
            "bin_start": 92.40751738826721,
            "count": 0
           },
           {
            "bin_end": 118.80250579608908,
            "bin_start": 105.60501159217814,
            "count": 0
           },
           {
            "bin_end": 132,
            "bin_start": 118.80250579608908,
            "count": 1
           }
          ],
          "max": "132.0",
          "min": "0.0250579608907",
          "nan_count": 0,
          "unique_count": 8
         }
        },
        {
         "dtype": "float64",
         "name": "android_sensor_game_rotation_vector_max",
         "stats": {
          "histogram": [
           {
            "bin_end": 13.22418086929761,
            "bin_start": 0.0268676325529,
            "count": 7
           },
           {
            "bin_end": 26.42149410604232,
            "bin_start": 13.22418086929761,
            "count": 0
           },
           {
            "bin_end": 39.61880734278703,
            "bin_start": 26.42149410604232,
            "count": 0
           },
           {
            "bin_end": 52.81612057953174,
            "bin_start": 39.61880734278703,
            "count": 0
           },
           {
            "bin_end": 66.01343381627645,
            "bin_start": 52.81612057953174,
            "count": 0
           },
           {
            "bin_end": 79.21074705302115,
            "bin_start": 66.01343381627645,
            "count": 0
           },
           {
            "bin_end": 92.40806028976587,
            "bin_start": 79.21074705302115,
            "count": 0
           },
           {
            "bin_end": 105.60537352651058,
            "bin_start": 92.40806028976587,
            "count": 0
           },
           {
            "bin_end": 118.80268676325528,
            "bin_start": 105.60537352651058,
            "count": 0
           },
           {
            "bin_end": 132,
            "bin_start": 118.80268676325528,
            "count": 1
           }
          ],
          "max": "132.0",
          "min": "0.0268676325529",
          "nan_count": 0,
          "unique_count": 8
         }
        },
        {
         "dtype": "float64",
         "name": "android_sensor_game_rotation_vector_std",
         "stats": {
          "histogram": [
           {
            "bin_end": 13.2,
            "bin_start": 0,
            "count": 7
           },
           {
            "bin_end": 26.4,
            "bin_start": 13.2,
            "count": 0
           },
           {
            "bin_end": 39.599999999999994,
            "bin_start": 26.4,
            "count": 0
           },
           {
            "bin_end": 52.8,
            "bin_start": 39.599999999999994,
            "count": 0
           },
           {
            "bin_end": 66,
            "bin_start": 52.8,
            "count": 0
           },
           {
            "bin_end": 79.19999999999999,
            "bin_start": 66,
            "count": 0
           },
           {
            "bin_end": 92.39999999999999,
            "bin_start": 79.19999999999999,
            "count": 0
           },
           {
            "bin_end": 105.6,
            "bin_start": 92.39999999999999,
            "count": 0
           },
           {
            "bin_end": 118.8,
            "bin_start": 105.6,
            "count": 0
           },
           {
            "bin_end": 132,
            "bin_start": 118.8,
            "count": 1
           }
          ],
          "max": "132.0",
          "min": "0.0",
          "nan_count": 0,
          "unique_count": 8
         }
        },
        {
         "dtype": "float64",
         "name": "android_sensor_gravity_mean",
         "stats": {
          "histogram": [
           {
            "bin_end": 13.901708192649503,
            "bin_start": 0.001897991832780606,
            "count": 7
           },
           {
            "bin_end": 27.801518393466225,
            "bin_start": 13.901708192649503,
            "count": 0
           },
           {
            "bin_end": 41.70132859428294,
            "bin_start": 27.801518393466225,
            "count": 0
           },
           {
            "bin_end": 55.601138795099665,
            "bin_start": 41.70132859428294,
            "count": 0
           },
           {
            "bin_end": 69.50094899591639,
            "bin_start": 55.601138795099665,
            "count": 0
           },
           {
            "bin_end": 83.4007591967331,
            "bin_start": 69.50094899591639,
            "count": 0
           },
           {
            "bin_end": 97.30056939754984,
            "bin_start": 83.4007591967331,
            "count": 0
           },
           {
            "bin_end": 111.20037959836655,
            "bin_start": 97.30056939754984,
            "count": 0
           },
           {
            "bin_end": 125.10018979918327,
            "bin_start": 111.20037959836655,
            "count": 0
           },
           {
            "bin_end": 139,
            "bin_start": 125.10018979918327,
            "count": 1
           }
          ],
          "max": "139.0",
          "min": "0.001897991832780606",
          "nan_count": 0,
          "unique_count": 8
         }
        },
        {
         "dtype": "float64",
         "name": "android_sensor_gravity_min",
         "stats": {
          "histogram": [
           {
            "bin_end": 13.901750398612132,
            "bin_start": 0.0019448873468127128,
            "count": 7
           },
           {
            "bin_end": 27.80155590987745,
            "bin_start": 13.901750398612132,
            "count": 0
           },
           {
            "bin_end": 41.701361421142764,
            "bin_start": 27.80155590987745,
            "count": 0
           },
           {
            "bin_end": 55.601166932408084,
            "bin_start": 41.701361421142764,
            "count": 0
           },
           {
            "bin_end": 69.5009724436734,
            "bin_start": 55.601166932408084,
            "count": 0
           },
           {
            "bin_end": 83.40077795493872,
            "bin_start": 69.5009724436734,
            "count": 0
           },
           {
            "bin_end": 97.30058346620405,
            "bin_start": 83.40077795493872,
            "count": 0
           },
           {
            "bin_end": 111.20038897746936,
            "bin_start": 97.30058346620405,
            "count": 0
           },
           {
            "bin_end": 125.10019448873467,
            "bin_start": 111.20038897746936,
            "count": 0
           },
           {
            "bin_end": 139,
            "bin_start": 125.10019448873467,
            "count": 1
           }
          ],
          "max": "139.0",
          "min": "0.0019448873468127128",
          "nan_count": 0,
          "unique_count": 8
         }
        },
        {
         "dtype": "float64",
         "name": "android_sensor_gravity_max",
         "stats": {
          "histogram": [
           {
            "bin_end": 13.901674387679616,
            "bin_start": 0.0018604307551298657,
            "count": 7
           },
           {
            "bin_end": 27.801488344604103,
            "bin_start": 13.901674387679616,
            "count": 0
           },
           {
            "bin_end": 41.701302301528585,
            "bin_start": 27.801488344604103,
            "count": 0
           },
           {
            "bin_end": 55.601116258453075,
            "bin_start": 41.701302301528585,
            "count": 0
           },
           {
            "bin_end": 69.50093021537756,
            "bin_start": 55.601116258453075,
            "count": 0
           },
           {
            "bin_end": 83.40074417230204,
            "bin_start": 69.50093021537756,
            "count": 0
           },
           {
            "bin_end": 97.30055812922653,
            "bin_start": 83.40074417230204,
            "count": 0
           },
           {
            "bin_end": 111.20037208615102,
            "bin_start": 97.30055812922653,
            "count": 0
           },
           {
            "bin_end": 125.10018604307551,
            "bin_start": 111.20037208615102,
            "count": 0
           },
           {
            "bin_end": 139,
            "bin_start": 125.10018604307551,
            "count": 1
           }
          ],
          "max": "139.0",
          "min": "0.0018604307551298657",
          "nan_count": 0,
          "unique_count": 8
         }
        },
        {
         "dtype": "float64",
         "name": "android_sensor_gravity_std",
         "stats": {
          "histogram": [
           {
            "bin_end": 13.800000003264712,
            "bin_start": 3.62745745959e-09,
            "count": 7
           },
           {
            "bin_end": 27.600000002901968,
            "bin_start": 13.800000003264712,
            "count": 0
           },
           {
            "bin_end": 41.40000000253922,
            "bin_start": 27.600000002901968,
            "count": 0
           },
           {
            "bin_end": 55.20000000217647,
            "bin_start": 41.40000000253922,
            "count": 0
           },
           {
            "bin_end": 69.00000000181373,
            "bin_start": 55.20000000217647,
            "count": 0
           },
           {
            "bin_end": 82.800000001451,
            "bin_start": 69.00000000181373,
            "count": 0
           },
           {
            "bin_end": 96.60000000108825,
            "bin_start": 82.800000001451,
            "count": 0
           },
           {
            "bin_end": 110.4000000007255,
            "bin_start": 96.60000000108825,
            "count": 0
           },
           {
            "bin_end": 124.20000000036275,
            "bin_start": 110.4000000007255,
            "count": 0
           },
           {
            "bin_end": 138,
            "bin_start": 124.20000000036275,
            "count": 1
           }
          ],
          "max": "138.0",
          "min": "3.62745745959e-09",
          "nan_count": 0,
          "unique_count": 8
         }
        },
        {
         "dtype": "float64",
         "name": "android_sensor_gyroscope_mean",
         "stats": {
          "histogram": [
           {
            "bin_end": 13.30109955745,
            "bin_start": 0.0012217305,
            "count": 7
           },
           {
            "bin_end": 26.6009773844,
            "bin_start": 13.30109955745,
            "count": 0
           },
           {
            "bin_end": 39.90085521135,
            "bin_start": 26.6009773844,
            "count": 0
           },
           {
            "bin_end": 53.2007330383,
            "bin_start": 39.90085521135,
            "count": 0
           },
           {
            "bin_end": 66.50061086525001,
            "bin_start": 53.2007330383,
            "count": 0
           },
           {
            "bin_end": 79.8004886922,
            "bin_start": 66.50061086525001,
            "count": 0
           },
           {
            "bin_end": 93.10036651915001,
            "bin_start": 79.8004886922,
            "count": 0
           },
           {
            "bin_end": 106.40024434610001,
            "bin_start": 93.10036651915001,
            "count": 0
           },
           {
            "bin_end": 119.70012217305,
            "bin_start": 106.40024434610001,
            "count": 0
           },
           {
            "bin_end": 133,
            "bin_start": 119.70012217305,
            "count": 1
           }
          ],
          "max": "133.0",
          "min": "0.0012217305",
          "nan_count": 0,
          "unique_count": 8
         }
        },
        {
         "dtype": "float64",
         "name": "android_sensor_gyroscope_min",
         "stats": {
          "histogram": [
           {
            "bin_end": 13.3,
            "bin_start": 0,
            "count": 7
           },
           {
            "bin_end": 26.6,
            "bin_start": 13.3,
            "count": 0
           },
           {
            "bin_end": 39.900000000000006,
            "bin_start": 26.6,
            "count": 0
           },
           {
            "bin_end": 53.2,
            "bin_start": 39.900000000000006,
            "count": 0
           },
           {
            "bin_end": 66.5,
            "bin_start": 53.2,
            "count": 0
           },
           {
            "bin_end": 79.80000000000001,
            "bin_start": 66.5,
            "count": 0
           },
           {
            "bin_end": 93.10000000000001,
            "bin_start": 79.80000000000001,
            "count": 0
           },
           {
            "bin_end": 106.4,
            "bin_start": 93.10000000000001,
            "count": 0
           },
           {
            "bin_end": 119.7,
            "bin_start": 106.4,
            "count": 0
           },
           {
            "bin_end": 133,
            "bin_start": 119.7,
            "count": 1
           }
          ],
          "max": "133.0",
          "min": "0.0",
          "nan_count": 0,
          "unique_count": 8
         }
        },
        {
         "dtype": "float64",
         "name": "android_sensor_gyroscope_max",
         "stats": {
          "histogram": [
           {
            "bin_end": 13.30109955745,
            "bin_start": 0.0012217305,
            "count": 7
           },
           {
            "bin_end": 26.6009773844,
            "bin_start": 13.30109955745,
            "count": 0
           },
           {
            "bin_end": 39.90085521135,
            "bin_start": 26.6009773844,
            "count": 0
           },
           {
            "bin_end": 53.2007330383,
            "bin_start": 39.90085521135,
            "count": 0
           },
           {
            "bin_end": 66.50061086525001,
            "bin_start": 53.2007330383,
            "count": 0
           },
           {
            "bin_end": 79.8004886922,
            "bin_start": 66.50061086525001,
            "count": 0
           },
           {
            "bin_end": 93.10036651915001,
            "bin_start": 79.8004886922,
            "count": 0
           },
           {
            "bin_end": 106.40024434610001,
            "bin_start": 93.10036651915001,
            "count": 0
           },
           {
            "bin_end": 119.70012217305,
            "bin_start": 106.40024434610001,
            "count": 0
           },
           {
            "bin_end": 133,
            "bin_start": 119.70012217305,
            "count": 1
           }
          ],
          "max": "133.0",
          "min": "0.0012217305",
          "nan_count": 0,
          "unique_count": 8
         }
        },
        {
         "dtype": "float64",
         "name": "android_sensor_gyroscope_std",
         "stats": {
          "histogram": [
           {
            "bin_end": 13.300371874681037,
            "bin_start": 0.000413194090042,
            "count": 7
           },
           {
            "bin_end": 26.600330555272034,
            "bin_start": 13.300371874681037,
            "count": 0
           },
           {
            "bin_end": 39.90028923586303,
            "bin_start": 26.600330555272034,
            "count": 0
           },
           {
            "bin_end": 53.200247916454025,
            "bin_start": 39.90028923586303,
            "count": 0
           },
           {
            "bin_end": 66.50020659704502,
            "bin_start": 53.200247916454025,
            "count": 0
           },
           {
            "bin_end": 79.80016527763601,
            "bin_start": 66.50020659704502,
            "count": 0
           },
           {
            "bin_end": 93.10012395822702,
            "bin_start": 79.80016527763601,
            "count": 0
           },
           {
            "bin_end": 106.400082638818,
            "bin_start": 93.10012395822702,
            "count": 0
           },
           {
            "bin_end": 119.700041319409,
            "bin_start": 106.400082638818,
            "count": 0
           },
           {
            "bin_end": 133,
            "bin_start": 119.700041319409,
            "count": 1
           }
          ],
          "max": "133.0",
          "min": "0.000413194090042",
          "nan_count": 0,
          "unique_count": 8
         }
        },
        {
         "dtype": "float64",
         "name": "android_sensor_gyroscope_uncalibrated_mean",
         "stats": {
          "histogram": [
           {
            "bin_end": 13.207082287896124,
            "bin_start": 0.00786920877347,
            "count": 7
           },
           {
            "bin_end": 26.406295367018778,
            "bin_start": 13.207082287896124,
            "count": 0
           },
           {
            "bin_end": 39.60550844614143,
            "bin_start": 26.406295367018778,
            "count": 0
           },
           {
            "bin_end": 52.804721525264085,
            "bin_start": 39.60550844614143,
            "count": 0
           },
           {
            "bin_end": 66.00393460438674,
            "bin_start": 52.804721525264085,
            "count": 0
           },
           {
            "bin_end": 79.20314768350939,
            "bin_start": 66.00393460438674,
            "count": 0
           },
           {
            "bin_end": 92.40236076263204,
            "bin_start": 79.20314768350939,
            "count": 0
           },
           {
            "bin_end": 105.6015738417547,
            "bin_start": 92.40236076263204,
            "count": 0
           },
           {
            "bin_end": 118.80078692087736,
            "bin_start": 105.6015738417547,
            "count": 0
           },
           {
            "bin_end": 132,
            "bin_start": 118.80078692087736,
            "count": 1
           }
          ],
          "max": "132.0",
          "min": "0.00786920877347",
          "nan_count": 0,
          "unique_count": 8
         }
        },
        {
         "dtype": "float64",
         "name": "android_sensor_gyroscope_uncalibrated_min",
         "stats": {
          "histogram": [
           {
            "bin_end": 13.201660583013751,
            "bin_start": 0.0018450922375,
            "count": 7
           },
           {
            "bin_end": 26.40147607379,
            "bin_start": 13.201660583013751,
            "count": 0
           },
           {
            "bin_end": 39.60129156456625,
            "bin_start": 26.40147607379,
            "count": 0
           },
           {
            "bin_end": 52.801107055342506,
            "bin_start": 39.60129156456625,
            "count": 0
           },
           {
            "bin_end": 66.00092254611876,
            "bin_start": 52.801107055342506,
            "count": 0
           },
           {
            "bin_end": 79.200738036895,
            "bin_start": 66.00092254611876,
            "count": 0
           },
           {
            "bin_end": 92.40055352767126,
            "bin_start": 79.200738036895,
            "count": 0
           },
           {
            "bin_end": 105.60036901844751,
            "bin_start": 92.40055352767126,
            "count": 0
           },
           {
            "bin_end": 118.80018450922375,
            "bin_start": 105.60036901844751,
            "count": 0
           },
           {
            "bin_end": 132,
            "bin_start": 118.80018450922375,
            "count": 1
           }
          ],
          "max": "132.0",
          "min": "0.0018450922375",
          "nan_count": 0,
          "unique_count": 8
         }
        },
        {
         "dtype": "float64",
         "name": "android_sensor_gyroscope_uncalibrated_max",
         "stats": {
          "histogram": [
           {
            "bin_end": 13.21166219225559,
            "bin_start": 0.0129579913951,
            "count": 7
           },
           {
            "bin_end": 26.41036639311608,
            "bin_start": 13.21166219225559,
            "count": 0
           },
           {
            "bin_end": 39.60907059397657,
            "bin_start": 26.41036639311608,
            "count": 0
           },
           {
            "bin_end": 52.80777479483706,
            "bin_start": 39.60907059397657,
            "count": 0
           },
           {
            "bin_end": 66.00647899569755,
            "bin_start": 52.80777479483706,
            "count": 0
           },
           {
            "bin_end": 79.20518319655804,
            "bin_start": 66.00647899569755,
            "count": 0
           },
           {
            "bin_end": 92.40388739741853,
            "bin_start": 79.20518319655804,
            "count": 0
           },
           {
            "bin_end": 105.60259159827902,
            "bin_start": 92.40388739741853,
            "count": 0
           },
           {
            "bin_end": 118.80129579913951,
            "bin_start": 105.60259159827902,
            "count": 0
           },
           {
            "bin_end": 132,
            "bin_start": 118.80129579913951,
            "count": 1
           }
          ],
          "max": "132.0",
          "min": "0.0129579913951",
          "nan_count": 0,
          "unique_count": 8
         }
        },
        {
         "dtype": "float64",
         "name": "android_sensor_gyroscope_uncalibrated_std",
         "stats": {
          "histogram": [
           {
            "bin_end": 13.20043639026568,
            "bin_start": 0.000484878072976,
            "count": 7
           },
           {
            "bin_end": 26.40038790245838,
            "bin_start": 13.20043639026568,
            "count": 0
           },
           {
            "bin_end": 39.60033941465108,
            "bin_start": 26.40038790245838,
            "count": 0
           },
           {
            "bin_end": 52.800290926843786,
            "bin_start": 39.60033941465108,
            "count": 0
           },
           {
            "bin_end": 66.0002424390365,
            "bin_start": 52.800290926843786,
            "count": 0
           },
           {
            "bin_end": 79.2001939512292,
            "bin_start": 66.0002424390365,
            "count": 0
           },
           {
            "bin_end": 92.40014546342191,
            "bin_start": 79.2001939512292,
            "count": 0
           },
           {
            "bin_end": 105.6000969756146,
            "bin_start": 92.40014546342191,
            "count": 0
           },
           {
            "bin_end": 118.8000484878073,
            "bin_start": 105.6000969756146,
            "count": 0
           },
           {
            "bin_end": 132,
            "bin_start": 118.8000484878073,
            "count": 1
           }
          ],
          "max": "132.0",
          "min": "0.000484878072976",
          "nan_count": 0,
          "unique_count": 8
         }
        },
        {
         "dtype": "float64",
         "name": "android_sensor_light_mean",
         "stats": {
          "histogram": [
           {
            "bin_end": 424.3,
            "bin_start": 0,
            "count": 6
           },
           {
            "bin_end": 848.6,
            "bin_start": 424.3,
            "count": 1
           },
           {
            "bin_end": 1272.9,
            "bin_start": 848.6,
            "count": 0
           },
           {
            "bin_end": 1697.2,
            "bin_start": 1272.9,
            "count": 0
           },
           {
            "bin_end": 2121.5,
            "bin_start": 1697.2,
            "count": 0
           },
           {
            "bin_end": 2545.8,
            "bin_start": 2121.5,
            "count": 0
           },
           {
            "bin_end": 2970.1,
            "bin_start": 2545.8,
            "count": 0
           },
           {
            "bin_end": 3394.4,
            "bin_start": 2970.1,
            "count": 0
           },
           {
            "bin_end": 3818.7000000000003,
            "bin_start": 3394.4,
            "count": 0
           },
           {
            "bin_end": 4243,
            "bin_start": 3818.7000000000003,
            "count": 1
           }
          ],
          "max": "4243.0",
          "min": "0.0",
          "nan_count": 0,
          "unique_count": 8
         }
        },
        {
         "dtype": "float64",
         "name": "android_sensor_light_min",
         "stats": {
          "histogram": [
           {
            "bin_end": 424.3,
            "bin_start": 0,
            "count": 6
           },
           {
            "bin_end": 848.6,
            "bin_start": 424.3,
            "count": 1
           },
           {
            "bin_end": 1272.9,
            "bin_start": 848.6,
            "count": 0
           },
           {
            "bin_end": 1697.2,
            "bin_start": 1272.9,
            "count": 0
           },
           {
            "bin_end": 2121.5,
            "bin_start": 1697.2,
            "count": 0
           },
           {
            "bin_end": 2545.8,
            "bin_start": 2121.5,
            "count": 0
           },
           {
            "bin_end": 2970.1,
            "bin_start": 2545.8,
            "count": 0
           },
           {
            "bin_end": 3394.4,
            "bin_start": 2970.1,
            "count": 0
           },
           {
            "bin_end": 3818.7000000000003,
            "bin_start": 3394.4,
            "count": 0
           },
           {
            "bin_end": 4243,
            "bin_start": 3818.7000000000003,
            "count": 1
           }
          ],
          "max": "4243.0",
          "min": "0.0",
          "nan_count": 0,
          "unique_count": 8
         }
        },
        {
         "dtype": "float64",
         "name": "android_sensor_light_max",
         "stats": {
          "histogram": [
           {
            "bin_end": 424.3,
            "bin_start": 0,
            "count": 6
           },
           {
            "bin_end": 848.6,
            "bin_start": 424.3,
            "count": 1
           },
           {
            "bin_end": 1272.9,
            "bin_start": 848.6,
            "count": 0
           },
           {
            "bin_end": 1697.2,
            "bin_start": 1272.9,
            "count": 0
           },
           {
            "bin_end": 2121.5,
            "bin_start": 1697.2,
            "count": 0
           },
           {
            "bin_end": 2545.8,
            "bin_start": 2121.5,
            "count": 0
           },
           {
            "bin_end": 2970.1,
            "bin_start": 2545.8,
            "count": 0
           },
           {
            "bin_end": 3394.4,
            "bin_start": 2970.1,
            "count": 0
           },
           {
            "bin_end": 3818.7000000000003,
            "bin_start": 3394.4,
            "count": 0
           },
           {
            "bin_end": 4243,
            "bin_start": 3818.7000000000003,
            "count": 1
           }
          ],
          "max": "4243.0",
          "min": "0.0",
          "nan_count": 0,
          "unique_count": 8
         }
        },
        {
         "dtype": "float64",
         "name": "android_sensor_light_std",
         "stats": {
          "histogram": [
           {
            "bin_end": 38.7947958151,
            "bin_start": 0,
            "count": 5
           },
           {
            "bin_end": 77.5895916302,
            "bin_start": 38.7947958151,
            "count": 2
           },
           {
            "bin_end": 116.3843874453,
            "bin_start": 77.5895916302,
            "count": 0
           },
           {
            "bin_end": 155.1791832604,
            "bin_start": 116.3843874453,
            "count": 0
           },
           {
            "bin_end": 193.9739790755,
            "bin_start": 155.1791832604,
            "count": 0
           },
           {
            "bin_end": 232.7687748906,
            "bin_start": 193.9739790755,
            "count": 0
           },
           {
            "bin_end": 271.56357070570004,
            "bin_start": 232.7687748906,
            "count": 0
           },
           {
            "bin_end": 310.3583665208,
            "bin_start": 271.56357070570004,
            "count": 0
           },
           {
            "bin_end": 349.1531623359,
            "bin_start": 310.3583665208,
            "count": 0
           },
           {
            "bin_end": 387.947958151,
            "bin_start": 349.1531623359,
            "count": 1
           }
          ],
          "max": "387.947958151",
          "min": "0.0",
          "nan_count": 0,
          "unique_count": 7
         }
        },
        {
         "dtype": "float64",
         "name": "android_sensor_linear_acceleration_mean",
         "stats": {
          "histogram": [
           {
            "bin_end": 13.910963019656979,
            "bin_start": 0.0121811329522,
            "count": 7
           },
           {
            "bin_end": 27.809744906361757,
            "bin_start": 13.910963019656979,
            "count": 0
           },
           {
            "bin_end": 41.70852679306653,
            "bin_start": 27.809744906361757,
            "count": 0
           },
           {
            "bin_end": 55.607308679771315,
            "bin_start": 41.70852679306653,
            "count": 0
           },
           {
            "bin_end": 69.50609056647609,
            "bin_start": 55.607308679771315,
            "count": 0
           },
           {
            "bin_end": 83.40487245318086,
            "bin_start": 69.50609056647609,
            "count": 0
           },
           {
            "bin_end": 97.30365433988564,
            "bin_start": 83.40487245318086,
            "count": 0
           },
           {
            "bin_end": 111.20243622659042,
            "bin_start": 97.30365433988564,
            "count": 0
           },
           {
            "bin_end": 125.1012181132952,
            "bin_start": 111.20243622659042,
            "count": 0
           },
           {
            "bin_end": 139,
            "bin_start": 125.1012181132952,
            "count": 1
           }
          ],
          "max": "139.0",
          "min": "0.0121811329522",
          "nan_count": 0,
          "unique_count": 8
         }
        },
        {
         "dtype": "float64",
         "name": "android_sensor_linear_acceleration_min",
         "stats": {
          "histogram": [
           {
            "bin_end": 13.90094978777804,
            "bin_start": 0.00105531975338,
            "count": 7
           },
           {
            "bin_end": 27.8008442558027,
            "bin_start": 13.90094978777804,
            "count": 0
           },
           {
            "bin_end": 41.70073872382736,
            "bin_start": 27.8008442558027,
            "count": 0
           },
           {
            "bin_end": 55.60063319185202,
            "bin_start": 41.70073872382736,
            "count": 0
           },
           {
            "bin_end": 69.50052765987668,
            "bin_start": 55.60063319185202,
            "count": 0
           },
           {
            "bin_end": 83.40042212790134,
            "bin_start": 69.50052765987668,
            "count": 0
           },
           {
            "bin_end": 97.300316595926,
            "bin_start": 83.40042212790134,
            "count": 0
           },
           {
            "bin_end": 111.20021106395066,
            "bin_start": 97.300316595926,
            "count": 0
           },
           {
            "bin_end": 125.10010553197532,
            "bin_start": 111.20021106395066,
            "count": 0
           },
           {
            "bin_end": 139,
            "bin_start": 125.10010553197532,
            "count": 1
           }
          ],
          "max": "139.0",
          "min": "0.00105531975338",
          "nan_count": 0,
          "unique_count": 8
         }
        },
        {
         "dtype": "float64",
         "name": "android_sensor_linear_acceleration_max",
         "stats": {
          "histogram": [
           {
            "bin_end": 13.910963019656979,
            "bin_start": 0.0121811329522,
            "count": 6
           },
           {
            "bin_end": 27.809744906361757,
            "bin_start": 13.910963019656979,
            "count": 0
           },
           {
            "bin_end": 41.70852679306653,
            "bin_start": 27.809744906361757,
            "count": 0
           },
           {
            "bin_end": 55.607308679771315,
            "bin_start": 41.70852679306653,
            "count": 1
           },
           {
            "bin_end": 69.50609056647609,
            "bin_start": 55.607308679771315,
            "count": 0
           },
           {
            "bin_end": 83.40487245318086,
            "bin_start": 69.50609056647609,
            "count": 0
           },
           {
            "bin_end": 97.30365433988564,
            "bin_start": 83.40487245318086,
            "count": 0
           },
           {
            "bin_end": 111.20243622659042,
            "bin_start": 97.30365433988564,
            "count": 0
           },
           {
            "bin_end": 125.1012181132952,
            "bin_start": 111.20243622659042,
            "count": 0
           },
           {
            "bin_end": 139,
            "bin_start": 125.1012181132952,
            "count": 1
           }
          ],
          "max": "139.0",
          "min": "0.0121811329522",
          "nan_count": 0,
          "unique_count": 8
         }
        },
        {
         "dtype": "float64",
         "name": "android_sensor_linear_acceleration_std",
         "stats": {
          "histogram": [
           {
            "bin_end": 13.800653358991028,
            "bin_start": 0.000725954434475,
            "count": 7
           },
           {
            "bin_end": 27.60058076354758,
            "bin_start": 13.800653358991028,
            "count": 0
           },
           {
            "bin_end": 41.400508168104125,
            "bin_start": 27.60058076354758,
            "count": 0
           },
           {
            "bin_end": 55.20043557266068,
            "bin_start": 41.400508168104125,
            "count": 0
           },
           {
            "bin_end": 69.00036297721724,
            "bin_start": 55.20043557266068,
            "count": 0
           },
           {
            "bin_end": 82.80029038177378,
            "bin_start": 69.00036297721724,
            "count": 0
           },
           {
            "bin_end": 96.60021778633033,
            "bin_start": 82.80029038177378,
            "count": 0
           },
           {
            "bin_end": 110.40014519088689,
            "bin_start": 96.60021778633033,
            "count": 0
           },
           {
            "bin_end": 124.20007259544344,
            "bin_start": 110.40014519088689,
            "count": 0
           },
           {
            "bin_end": 138,
            "bin_start": 124.20007259544344,
            "count": 1
           }
          ],
          "max": "138.0",
          "min": "0.000725954434475",
          "nan_count": 0,
          "unique_count": 8
         }
        },
        {
         "dtype": "float64",
         "name": "android_sensor_magnetic_field_mean",
         "stats": {
          "histogram": [
           {
            "bin_end": 26.548862187158,
            "bin_start": 7.99523222362,
            "count": 1
           },
           {
            "bin_end": 45.102492150696,
            "bin_start": 26.548862187158,
            "count": 3
           },
           {
            "bin_end": 63.656122114234,
            "bin_start": 45.102492150696,
            "count": 2
           },
           {
            "bin_end": 82.20975207777201,
            "bin_start": 63.656122114234,
            "count": 0
           },
           {
            "bin_end": 100.76338204131,
            "bin_start": 82.20975207777201,
            "count": 0
           },
           {
            "bin_end": 119.31701200484801,
            "bin_start": 100.76338204131,
            "count": 0
           },
           {
            "bin_end": 137.870641968386,
            "bin_start": 119.31701200484801,
            "count": 0
           },
           {
            "bin_end": 156.424271931924,
            "bin_start": 137.870641968386,
            "count": 1
           },
           {
            "bin_end": 174.97790189546203,
            "bin_start": 156.424271931924,
            "count": 0
           },
           {
            "bin_end": 193.531531859,
            "bin_start": 174.97790189546203,
            "count": 1
           }
          ],
          "max": "193.531531859",
          "min": "7.99523222362",
          "nan_count": 0,
          "unique_count": 8
         }
        },
        {
         "dtype": "float64",
         "name": "android_sensor_magnetic_field_min",
         "stats": {
          "histogram": [
           {
            "bin_end": 23.382865511832,
            "bin_start": 4.54035644548,
            "count": 1
           },
           {
            "bin_end": 42.225374578184,
            "bin_start": 23.382865511832,
            "count": 3
           },
           {
            "bin_end": 61.067883644536,
            "bin_start": 42.225374578184,
            "count": 2
           },
           {
            "bin_end": 79.910392710888,
            "bin_start": 61.067883644536,
            "count": 0
           },
           {
            "bin_end": 98.75290177724,
            "bin_start": 79.910392710888,
            "count": 0
           },
           {
            "bin_end": 117.595410843592,
            "bin_start": 98.75290177724,
            "count": 0
           },
           {
            "bin_end": 136.43791990994401,
            "bin_start": 117.595410843592,
            "count": 0
           },
           {
            "bin_end": 155.280428976296,
            "bin_start": 136.43791990994401,
            "count": 1
           },
           {
            "bin_end": 174.122938042648,
            "bin_start": 155.280428976296,
            "count": 0
           },
           {
            "bin_end": 192.965447109,
            "bin_start": 174.122938042648,
            "count": 1
           }
          ],
          "max": "192.965447109",
          "min": "4.54035644548",
          "nan_count": 0,
          "unique_count": 8
         }
        },
        {
         "dtype": "float64",
         "name": "android_sensor_magnetic_field_max",
         "stats": {
          "histogram": [
           {
            "bin_end": 29.512511825460003,
            "bin_start": 11.2451725414,
            "count": 1
           },
           {
            "bin_end": 47.77985110952,
            "bin_start": 29.512511825460003,
            "count": 3
           },
           {
            "bin_end": 66.04719039358,
            "bin_start": 47.77985110952,
            "count": 2
           },
           {
            "bin_end": 84.31452967764,
            "bin_start": 66.04719039358,
            "count": 0
           },
           {
            "bin_end": 102.5818689617,
            "bin_start": 84.31452967764,
            "count": 0
           },
           {
            "bin_end": 120.84920824576,
            "bin_start": 102.5818689617,
            "count": 0
           },
           {
            "bin_end": 139.11654752982,
            "bin_start": 120.84920824576,
            "count": 1
           },
           {
            "bin_end": 157.38388681388,
            "bin_start": 139.11654752982,
            "count": 0
           },
           {
            "bin_end": 175.65122609794,
            "bin_start": 157.38388681388,
            "count": 0
           },
           {
            "bin_end": 193.918565382,
            "bin_start": 175.65122609794,
            "count": 1
           }
          ],
          "max": "193.918565382",
          "min": "11.2451725414",
          "nan_count": 0,
          "unique_count": 8
         }
        },
        {
         "dtype": "float64",
         "name": "android_sensor_magnetic_field_std",
         "stats": {
          "histogram": [
           {
            "bin_end": 13.706422783886163,
            "bin_start": 0.00713642654018,
            "count": 7
           },
           {
            "bin_end": 27.405709141232144,
            "bin_start": 13.706422783886163,
            "count": 0
           },
           {
            "bin_end": 41.10499549857813,
            "bin_start": 27.405709141232144,
            "count": 0
           },
           {
            "bin_end": 54.80428185592411,
            "bin_start": 41.10499549857813,
            "count": 0
           },
           {
            "bin_end": 68.5035682132701,
            "bin_start": 54.80428185592411,
            "count": 0
           },
           {
            "bin_end": 82.20285457061608,
            "bin_start": 68.5035682132701,
            "count": 0
           },
           {
            "bin_end": 95.90214092796207,
            "bin_start": 82.20285457061608,
            "count": 0
           },
           {
            "bin_end": 109.60142728530805,
            "bin_start": 95.90214092796207,
            "count": 0
           },
           {
            "bin_end": 123.30071364265403,
            "bin_start": 109.60142728530805,
            "count": 0
           },
           {
            "bin_end": 137,
            "bin_start": 123.30071364265403,
            "count": 1
           }
          ],
          "max": "137.0",
          "min": "0.00713642654018",
          "nan_count": 0,
          "unique_count": 8
         }
        },
        {
         "dtype": "float64",
         "name": "android_sensor_magnetic_field_uncalibrated_mean",
         "stats": {
          "histogram": [
           {
            "bin_end": 57.185323464460005,
            "bin_start": 17.0374283374,
            "count": 1
           },
           {
            "bin_end": 97.33321859152001,
            "bin_start": 57.185323464460005,
            "count": 2
           },
           {
            "bin_end": 137.48111371858002,
            "bin_start": 97.33321859152001,
            "count": 3
           },
           {
            "bin_end": 177.62900884564002,
            "bin_start": 137.48111371858002,
            "count": 1
           },
           {
            "bin_end": 217.7769039727,
            "bin_start": 177.62900884564002,
            "count": 0
           },
           {
            "bin_end": 257.92479909976004,
            "bin_start": 217.7769039727,
            "count": 0
           },
           {
            "bin_end": 298.07269422682003,
            "bin_start": 257.92479909976004,
            "count": 0
           },
           {
            "bin_end": 338.22058935388003,
            "bin_start": 298.07269422682003,
            "count": 0
           },
           {
            "bin_end": 378.36848448094,
            "bin_start": 338.22058935388003,
            "count": 0
           },
           {
            "bin_end": 418.516379608,
            "bin_start": 378.36848448094,
            "count": 1
           }
          ],
          "max": "418.516379608",
          "min": "17.0374283374",
          "nan_count": 0,
          "unique_count": 8
         }
        },
        {
         "dtype": "float64",
         "name": "android_sensor_magnetic_field_uncalibrated_min",
         "stats": {
          "histogram": [
           {
            "bin_end": 57.09169709869,
            "bin_start": 16.9333990421,
            "count": 1
           },
           {
            "bin_end": 97.24999515528,
            "bin_start": 57.09169709869,
            "count": 2
           },
           {
            "bin_end": 137.40829321187,
            "bin_start": 97.24999515528,
            "count": 3
           },
           {
            "bin_end": 177.56659126846,
            "bin_start": 137.40829321187,
            "count": 1
           },
           {
            "bin_end": 217.72488932505001,
            "bin_start": 177.56659126846,
            "count": 0
           },
           {
            "bin_end": 257.88318738163997,
            "bin_start": 217.72488932505001,
            "count": 0
           },
           {
            "bin_end": 298.04148543823,
            "bin_start": 257.88318738163997,
            "count": 0
           },
           {
            "bin_end": 338.19978349482,
            "bin_start": 298.04148543823,
            "count": 0
           },
           {
            "bin_end": 378.35808155141,
            "bin_start": 338.19978349482,
            "count": 0
           },
           {
            "bin_end": 418.516379608,
            "bin_start": 378.35808155141,
            "count": 1
           }
          ],
          "max": "418.516379608",
          "min": "16.9333990421",
          "nan_count": 0,
          "unique_count": 8
         }
        },
        {
         "dtype": "float64",
         "name": "android_sensor_magnetic_field_uncalibrated_max",
         "stats": {
          "histogram": [
           {
            "bin_end": 57.214508788210004,
            "bin_start": 17.0698564749,
            "count": 1
           },
           {
            "bin_end": 97.35916110152002,
            "bin_start": 57.214508788210004,
            "count": 2
           },
           {
            "bin_end": 137.50381341483,
            "bin_start": 97.35916110152002,
            "count": 2
           },
           {
            "bin_end": 177.64846572814002,
            "bin_start": 137.50381341483,
            "count": 2
           },
           {
            "bin_end": 217.79311804145004,
            "bin_start": 177.64846572814002,
            "count": 0
           },
           {
            "bin_end": 257.93777035476,
            "bin_start": 217.79311804145004,
            "count": 0
           },
           {
            "bin_end": 298.08242266807,
            "bin_start": 257.93777035476,
            "count": 0
           },
           {
            "bin_end": 338.22707498138004,
            "bin_start": 298.08242266807,
            "count": 0
           },
           {
            "bin_end": 378.37172729469006,
            "bin_start": 338.22707498138004,
            "count": 0
           },
           {
            "bin_end": 418.516379608,
            "bin_start": 378.37172729469006,
            "count": 1
           }
          ],
          "max": "418.516379608",
          "min": "17.0698564749",
          "nan_count": 0,
          "unique_count": 8
         }
        },
        {
         "dtype": "float64",
         "name": "android_sensor_magnetic_field_uncalibrated_std",
         "stats": {
          "histogram": [
           {
            "bin_end": 13.227816245733058,
            "bin_start": 0.0309069397034,
            "count": 6
           },
           {
            "bin_end": 26.424725551762716,
            "bin_start": 13.227816245733058,
            "count": 1
           },
           {
            "bin_end": 39.62163485779237,
            "bin_start": 26.424725551762716,
            "count": 0
           },
           {
            "bin_end": 52.81854416382203,
            "bin_start": 39.62163485779237,
            "count": 0
           },
           {
            "bin_end": 66.01545346985169,
            "bin_start": 52.81854416382203,
            "count": 0
           },
           {
            "bin_end": 79.21236277588135,
            "bin_start": 66.01545346985169,
            "count": 0
           },
           {
            "bin_end": 92.40927208191101,
            "bin_start": 79.21236277588135,
            "count": 0
           },
           {
            "bin_end": 105.60618138794067,
            "bin_start": 92.40927208191101,
            "count": 0
           },
           {
            "bin_end": 118.80309069397032,
            "bin_start": 105.60618138794067,
            "count": 0
           },
           {
            "bin_end": 132,
            "bin_start": 118.80309069397032,
            "count": 1
           }
          ],
          "max": "132.0",
          "min": "0.0309069397034",
          "nan_count": 0,
          "unique_count": 8
         }
        },
        {
         "dtype": "float64",
         "name": "android_sensor_orientation_mean",
         "stats": {
          "histogram": [
           {
            "bin_end": 60.36219419494,
            "bin_start": 22.3059653756,
            "count": 1
           },
           {
            "bin_end": 98.41842301428,
            "bin_start": 60.36219419494,
            "count": 1
           },
           {
            "bin_end": 136.47465183362002,
            "bin_start": 98.41842301428,
            "count": 0
           },
           {
            "bin_end": 174.53088065296,
            "bin_start": 136.47465183362002,
            "count": 2
           },
           {
            "bin_end": 212.5871094723,
            "bin_start": 174.53088065296,
            "count": 1
           },
           {
            "bin_end": 250.64333829164002,
            "bin_start": 212.5871094723,
            "count": 1
           },
           {
            "bin_end": 288.69956711098,
            "bin_start": 250.64333829164002,
            "count": 0
           },
           {
            "bin_end": 326.75579593032,
            "bin_start": 288.69956711098,
            "count": 1
           },
           {
            "bin_end": 364.81202474966,
            "bin_start": 326.75579593032,
            "count": 0
           },
           {
            "bin_end": 402.868253569,
            "bin_start": 364.81202474966,
            "count": 1
           }
          ],
          "max": "402.868253569",
          "min": "22.3059653756",
          "nan_count": 0,
          "unique_count": 8
         }
        },
        {
         "dtype": "float64",
         "name": "android_sensor_orientation_min",
         "stats": {
          "histogram": [
           {
            "bin_end": 59.43030504571,
            "bin_start": 21.3064492689,
            "count": 1
           },
           {
            "bin_end": 97.55416082252,
            "bin_start": 59.43030504571,
            "count": 1
           },
           {
            "bin_end": 135.67801659933002,
            "bin_start": 97.55416082252,
            "count": 1
           },
           {
            "bin_end": 173.80187237614,
            "bin_start": 135.67801659933002,
            "count": 1
           },
           {
            "bin_end": 211.92572815295,
            "bin_start": 173.80187237614,
            "count": 2
           },
           {
            "bin_end": 250.04958392976002,
            "bin_start": 211.92572815295,
            "count": 0
           },
           {
            "bin_end": 288.17343970657004,
            "bin_start": 250.04958392976002,
            "count": 1
           },
           {
            "bin_end": 326.29729548338,
            "bin_start": 288.17343970657004,
            "count": 0
           },
           {
            "bin_end": 364.42115126019,
            "bin_start": 326.29729548338,
            "count": 0
           },
           {
            "bin_end": 402.545007037,
            "bin_start": 364.42115126019,
            "count": 1
           }
          ],
          "max": "402.545007037",
          "min": "21.3064492689",
          "nan_count": 0,
          "unique_count": 8
         }
        },
        {
         "dtype": "float64",
         "name": "android_sensor_orientation_max",
         "stats": {
          "histogram": [
           {
            "bin_end": 60.388107265239995,
            "bin_start": 22.3059653756,
            "count": 1
           },
           {
            "bin_end": 98.47024915488,
            "bin_start": 60.388107265239995,
            "count": 1
           },
           {
            "bin_end": 136.55239104452,
            "bin_start": 98.47024915488,
            "count": 0
           },
           {
            "bin_end": 174.63453293416,
            "bin_start": 136.55239104452,
            "count": 2
           },
           {
            "bin_end": 212.71667482380002,
            "bin_start": 174.63453293416,
            "count": 0
           },
           {
            "bin_end": 250.79881671344,
            "bin_start": 212.71667482380002,
            "count": 2
           },
           {
            "bin_end": 288.88095860308,
            "bin_start": 250.79881671344,
            "count": 0
           },
           {
            "bin_end": 326.96310049272,
            "bin_start": 288.88095860308,
            "count": 1
           },
           {
            "bin_end": 365.04524238236,
            "bin_start": 326.96310049272,
            "count": 0
           },
           {
            "bin_end": 403.127384272,
            "bin_start": 365.04524238236,
            "count": 1
           }
          ],
          "max": "403.127384272",
          "min": "22.3059653756",
          "nan_count": 0,
          "unique_count": 8
         }
        },
        {
         "dtype": "float64",
         "name": "android_sensor_orientation_std",
         "stats": {
          "histogram": [
           {
            "bin_end": 17.121055548950643,
            "bin_start": 1.64865007168e-05,
            "count": 5
           },
           {
            "bin_end": 34.242094611400574,
            "bin_start": 17.121055548950643,
            "count": 1
           },
           {
            "bin_end": 51.363133673850506,
            "bin_start": 34.242094611400574,
            "count": 0
           },
           {
            "bin_end": 68.48417273630042,
            "bin_start": 51.363133673850506,
            "count": 0
           },
           {
            "bin_end": 85.60521179875035,
            "bin_start": 68.48417273630042,
            "count": 0
           },
           {
            "bin_end": 102.72625086120028,
            "bin_start": 85.60521179875035,
            "count": 0
           },
           {
            "bin_end": 119.84728992365021,
            "bin_start": 102.72625086120028,
            "count": 0
           },
           {
            "bin_end": 136.96832898610015,
            "bin_start": 119.84728992365021,
            "count": 0
           },
           {
            "bin_end": 154.08936804855009,
            "bin_start": 136.96832898610015,
            "count": 1
           },
           {
            "bin_end": 171.210407111,
            "bin_start": 154.08936804855009,
            "count": 1
           }
          ],
          "max": "171.210407111",
          "min": "1.64865007168e-05",
          "nan_count": 0,
          "unique_count": 8
         }
        },
        {
         "dtype": "float64",
         "name": "android_sensor_pressure_mean",
         "stats": {
          "histogram": [
           {
            "bin_end": 117.70029336163199,
            "bin_start": 14.21611484625776,
            "count": 2
           },
           {
            "bin_end": 221.18447187700622,
            "bin_start": 117.70029336163199,
            "count": 0
           },
           {
            "bin_end": 324.66865039238047,
            "bin_start": 221.18447187700622,
            "count": 0
           },
           {
            "bin_end": 428.15282890775467,
            "bin_start": 324.66865039238047,
            "count": 0
           },
           {
            "bin_end": 531.6370074231288,
            "bin_start": 428.15282890775467,
            "count": 0
           },
           {
            "bin_end": 635.1211859385031,
            "bin_start": 531.6370074231288,
            "count": 0
           },
           {
            "bin_end": 738.6053644538773,
            "bin_start": 635.1211859385031,
            "count": 0
           },
           {
            "bin_end": 842.0895429692515,
            "bin_start": 738.6053644538773,
            "count": 0
           },
           {
            "bin_end": 945.5737214846257,
            "bin_start": 842.0895429692515,
            "count": 0
           },
           {
            "bin_end": 1049.0579,
            "bin_start": 945.5737214846257,
            "count": 6
           }
          ],
          "max": "1049.0579",
          "min": "14.21611484625776",
          "nan_count": 0,
          "unique_count": 8
         }
        },
        {
         "dtype": "float64",
         "name": "android_sensor_pressure_min",
         "stats": {
          "histogram": [
           {
            "bin_end": 117.70662225805307,
            "bin_start": 14.223146953392309,
            "count": 2
           },
           {
            "bin_end": 221.19009756271382,
            "bin_start": 117.70662225805307,
            "count": 0
           },
           {
            "bin_end": 324.67357286737456,
            "bin_start": 221.19009756271382,
            "count": 0
           },
           {
            "bin_end": 428.15704817203533,
            "bin_start": 324.67357286737456,
            "count": 0
           },
           {
            "bin_end": 531.6405234766961,
            "bin_start": 428.15704817203533,
            "count": 0
           },
           {
            "bin_end": 635.1239987813568,
            "bin_start": 531.6405234766961,
            "count": 0
           },
           {
            "bin_end": 738.6074740860176,
            "bin_start": 635.1239987813568,
            "count": 0
           },
           {
            "bin_end": 842.0909493906784,
            "bin_start": 738.6074740860176,
            "count": 0
           },
           {
            "bin_end": 945.5744246953391,
            "bin_start": 842.0909493906784,
            "count": 0
           },
           {
            "bin_end": 1049.0579,
            "bin_start": 945.5744246953391,
            "count": 6
           }
          ],
          "max": "1049.0579",
          "min": "14.223146953392309",
          "nan_count": 0,
          "unique_count": 8
         }
        },
        {
         "dtype": "float64",
         "name": "android_sensor_pressure_max",
         "stats": {
          "histogram": [
           {
            "bin_end": 117.69560859682967,
            "bin_start": 14.210909552032957,
            "count": 2
           },
           {
            "bin_end": 221.18030764162637,
            "bin_start": 117.69560859682967,
            "count": 0
           },
           {
            "bin_end": 324.6650066864231,
            "bin_start": 221.18030764162637,
            "count": 0
           },
           {
            "bin_end": 428.1497057312198,
            "bin_start": 324.6650066864231,
            "count": 0
           },
           {
            "bin_end": 531.6344047760165,
            "bin_start": 428.1497057312198,
            "count": 0
           },
           {
            "bin_end": 635.1191038208133,
            "bin_start": 531.6344047760165,
            "count": 0
           },
           {
            "bin_end": 738.60380286561,
            "bin_start": 635.1191038208133,
            "count": 0
           },
           {
            "bin_end": 842.0885019104066,
            "bin_start": 738.60380286561,
            "count": 0
           },
           {
            "bin_end": 945.5732009552033,
            "bin_start": 842.0885019104066,
            "count": 0
           },
           {
            "bin_end": 1049.0579,
            "bin_start": 945.5732009552033,
            "count": 6
           }
          ],
          "max": "1049.0579",
          "min": "14.210909552032957",
          "nan_count": 0,
          "unique_count": 8
         }
        },
        {
         "dtype": "float64",
         "name": "android_sensor_pressure_std",
         "stats": {
          "histogram": [
           {
            "bin_end": 3.200954594154656,
            "bin_start": 0.00106066017184,
            "count": 7
           },
           {
            "bin_end": 6.400848528137471,
            "bin_start": 3.200954594154656,
            "count": 0
           },
           {
            "bin_end": 9.600742462120287,
            "bin_start": 6.400848528137471,
            "count": 0
           },
           {
            "bin_end": 12.800636396103103,
            "bin_start": 9.600742462120287,
            "count": 0
           },
           {
            "bin_end": 16.00053033008592,
            "bin_start": 12.800636396103103,
            "count": 0
           },
           {
            "bin_end": 19.200424264068737,
            "bin_start": 16.00053033008592,
            "count": 0
           },
           {
            "bin_end": 22.400318198051554,
            "bin_start": 19.200424264068737,
            "count": 0
           },
           {
            "bin_end": 25.60021213203437,
            "bin_start": 22.400318198051554,
            "count": 0
           },
           {
            "bin_end": 28.800106066017182,
            "bin_start": 25.60021213203437,
            "count": 0
           },
           {
            "bin_end": 32,
            "bin_start": 28.800106066017182,
            "count": 1
           }
          ],
          "max": "32.0",
          "min": "0.00106066017184",
          "nan_count": 0,
          "unique_count": 8
         }
        },
        {
         "dtype": "float64",
         "name": "android_sensor_proximity_mean",
         "stats": {
          "histogram": [
           {
            "bin_end": 2.9,
            "bin_start": 0,
            "count": 2
           },
           {
            "bin_end": 5.8,
            "bin_start": 2.9,
            "count": 3
           },
           {
            "bin_end": 8.7,
            "bin_start": 5.8,
            "count": 1
           },
           {
            "bin_end": 11.6,
            "bin_start": 8.7,
            "count": 1
           },
           {
            "bin_end": 14.5,
            "bin_start": 11.6,
            "count": 0
           },
           {
            "bin_end": 17.4,
            "bin_start": 14.5,
            "count": 0
           },
           {
            "bin_end": 20.3,
            "bin_start": 17.4,
            "count": 0
           },
           {
            "bin_end": 23.2,
            "bin_start": 20.3,
            "count": 0
           },
           {
            "bin_end": 26.099999999999998,
            "bin_start": 23.2,
            "count": 0
           },
           {
            "bin_end": 29,
            "bin_start": 26.099999999999998,
            "count": 1
           }
          ],
          "max": "29.0",
          "min": "0.0",
          "nan_count": 0,
          "unique_count": 7
         }
        },
        {
         "dtype": "float64",
         "name": "android_sensor_proximity_min",
         "stats": {
          "histogram": [
           {
            "bin_end": 2.9,
            "bin_start": 0,
            "count": 2
           },
           {
            "bin_end": 5.8,
            "bin_start": 2.9,
            "count": 3
           },
           {
            "bin_end": 8.7,
            "bin_start": 5.8,
            "count": 1
           },
           {
            "bin_end": 11.6,
            "bin_start": 8.7,
            "count": 1
           },
           {
            "bin_end": 14.5,
            "bin_start": 11.6,
            "count": 0
           },
           {
            "bin_end": 17.4,
            "bin_start": 14.5,
            "count": 0
           },
           {
            "bin_end": 20.3,
            "bin_start": 17.4,
            "count": 0
           },
           {
            "bin_end": 23.2,
            "bin_start": 20.3,
            "count": 0
           },
           {
            "bin_end": 26.099999999999998,
            "bin_start": 23.2,
            "count": 0
           },
           {
            "bin_end": 29,
            "bin_start": 26.099999999999998,
            "count": 1
           }
          ],
          "max": "29.0",
          "min": "0.0",
          "nan_count": 0,
          "unique_count": 7
         }
        },
        {
         "dtype": "float64",
         "name": "android_sensor_proximity_max",
         "stats": {
          "histogram": [
           {
            "bin_end": 2.9,
            "bin_start": 0,
            "count": 2
           },
           {
            "bin_end": 5.8,
            "bin_start": 2.9,
            "count": 2
           },
           {
            "bin_end": 8.7,
            "bin_start": 5.8,
            "count": 2
           },
           {
            "bin_end": 11.6,
            "bin_start": 8.7,
            "count": 1
           },
           {
            "bin_end": 14.5,
            "bin_start": 11.6,
            "count": 0
           },
           {
            "bin_end": 17.4,
            "bin_start": 14.5,
            "count": 0
           },
           {
            "bin_end": 20.3,
            "bin_start": 17.4,
            "count": 0
           },
           {
            "bin_end": 23.2,
            "bin_start": 20.3,
            "count": 0
           },
           {
            "bin_end": 26.099999999999998,
            "bin_start": 23.2,
            "count": 0
           },
           {
            "bin_end": 29,
            "bin_start": 26.099999999999998,
            "count": 1
           }
          ],
          "max": "29.0",
          "min": "0.0",
          "nan_count": 0,
          "unique_count": 6
         }
        },
        {
         "dtype": "float64",
         "name": "android_sensor_proximity_std",
         "stats": {
          "histogram": [
           {
            "bin_end": 0.7,
            "bin_start": 0,
            "count": 1
           },
           {
            "bin_end": 1.4,
            "bin_start": 0.7,
            "count": 0
           },
           {
            "bin_end": 2.0999999999999996,
            "bin_start": 1.4,
            "count": 0
           },
           {
            "bin_end": 2.8,
            "bin_start": 2.0999999999999996,
            "count": 2
           },
           {
            "bin_end": 3.5,
            "bin_start": 2.8,
            "count": 0
           },
           {
            "bin_end": 4.199999999999999,
            "bin_start": 3.5,
            "count": 1
           },
           {
            "bin_end": 4.8999999999999995,
            "bin_start": 4.199999999999999,
            "count": 1
           },
           {
            "bin_end": 5.6,
            "bin_start": 4.8999999999999995,
            "count": 1
           },
           {
            "bin_end": 6.3,
            "bin_start": 5.6,
            "count": 1
           },
           {
            "bin_end": 7,
            "bin_start": 6.3,
            "count": 1
           }
          ],
          "max": "7.0",
          "min": "0.0",
          "nan_count": 0,
          "unique_count": 8
         }
        },
        {
         "dtype": "float64",
         "name": "android_sensor_rotation_vector_mean",
         "stats": {
          "histogram": [
           {
            "bin_end": 13.34480853388444,
            "bin_start": 0.0497872598716,
            "count": 7
           },
           {
            "bin_end": 26.63982980789728,
            "bin_start": 13.34480853388444,
            "count": 0
           },
           {
            "bin_end": 39.93485108191012,
            "bin_start": 26.63982980789728,
            "count": 0
           },
           {
            "bin_end": 53.22987235592296,
            "bin_start": 39.93485108191012,
            "count": 0
           },
           {
            "bin_end": 66.52489362993579,
            "bin_start": 53.22987235592296,
            "count": 0
           },
           {
            "bin_end": 79.81991490394863,
            "bin_start": 66.52489362993579,
            "count": 0
           },
           {
            "bin_end": 93.11493617796147,
            "bin_start": 79.81991490394863,
            "count": 0
           },
           {
            "bin_end": 106.40995745197431,
            "bin_start": 93.11493617796147,
            "count": 0
           },
           {
            "bin_end": 119.70497872598715,
            "bin_start": 106.40995745197431,
            "count": 0
           },
           {
            "bin_end": 133,
            "bin_start": 119.70497872598715,
            "count": 1
           }
          ],
          "max": "133.0",
          "min": "0.0497872598716",
          "nan_count": 0,
          "unique_count": 8
         }
        },
        {
         "dtype": "float64",
         "name": "android_sensor_rotation_vector_min",
         "stats": {
          "histogram": [
           {
            "bin_end": 13.3394470778131,
            "bin_start": 0.043830086459,
            "count": 7
           },
           {
            "bin_end": 26.6350640691672,
            "bin_start": 13.3394470778131,
            "count": 0
           },
           {
            "bin_end": 39.9306810605213,
            "bin_start": 26.6350640691672,
            "count": 0
           },
           {
            "bin_end": 53.2262980518754,
            "bin_start": 39.9306810605213,
            "count": 0
           },
           {
            "bin_end": 66.5219150432295,
            "bin_start": 53.2262980518754,
            "count": 0
           },
           {
            "bin_end": 79.81753203458359,
            "bin_start": 66.5219150432295,
            "count": 0
           },
           {
            "bin_end": 93.1131490259377,
            "bin_start": 79.81753203458359,
            "count": 0
           },
           {
            "bin_end": 106.4087660172918,
            "bin_start": 93.1131490259377,
            "count": 0
           },
           {
            "bin_end": 119.70438300864589,
            "bin_start": 106.4087660172918,
            "count": 0
           },
           {
            "bin_end": 133,
            "bin_start": 119.70438300864589,
            "count": 1
           }
          ],
          "max": "133.0",
          "min": "0.043830086459",
          "nan_count": 0,
          "unique_count": 8
         }
        },
        {
         "dtype": "float64",
         "name": "android_sensor_rotation_vector_max",
         "stats": {
          "histogram": [
           {
            "bin_end": 13.348765069994679,
            "bin_start": 0.0541834111052,
            "count": 7
           },
           {
            "bin_end": 26.643346728884158,
            "bin_start": 13.348765069994679,
            "count": 0
           },
           {
            "bin_end": 39.93792838777364,
            "bin_start": 26.643346728884158,
            "count": 0
           },
           {
            "bin_end": 53.232510046663116,
            "bin_start": 39.93792838777364,
            "count": 0
           },
           {
            "bin_end": 66.52709170555259,
            "bin_start": 53.232510046663116,
            "count": 0
           },
           {
            "bin_end": 79.82167336444208,
            "bin_start": 66.52709170555259,
            "count": 0
           },
           {
            "bin_end": 93.11625502333155,
            "bin_start": 79.82167336444208,
            "count": 0
           },
           {
            "bin_end": 106.41083668222103,
            "bin_start": 93.11625502333155,
            "count": 0
           },
           {
            "bin_end": 119.70541834111052,
            "bin_start": 106.41083668222103,
            "count": 0
           },
           {
            "bin_end": 133,
            "bin_start": 119.70541834111052,
            "count": 1
           }
          ],
          "max": "133.0",
          "min": "0.0541834111052",
          "nan_count": 0,
          "unique_count": 8
         }
        },
        {
         "dtype": "float64",
         "name": "android_sensor_rotation_vector_std",
         "stats": {
          "histogram": [
           {
            "bin_end": 13.300000086458189,
            "bin_start": 9.60646549004e-08,
            "count": 7
           },
           {
            "bin_end": 26.600000076851725,
            "bin_start": 13.300000086458189,
            "count": 0
           },
           {
            "bin_end": 39.90000006724526,
            "bin_start": 26.600000076851725,
            "count": 0
           },
           {
            "bin_end": 53.20000005763879,
            "bin_start": 39.90000006724526,
            "count": 0
           },
           {
            "bin_end": 66.50000004803232,
            "bin_start": 53.20000005763879,
            "count": 0
           },
           {
            "bin_end": 79.80000003842586,
            "bin_start": 66.50000004803232,
            "count": 0
           },
           {
            "bin_end": 93.1000000288194,
            "bin_start": 79.80000003842586,
            "count": 0
           },
           {
            "bin_end": 106.40000001921292,
            "bin_start": 93.1000000288194,
            "count": 0
           },
           {
            "bin_end": 119.70000000960646,
            "bin_start": 106.40000001921292,
            "count": 0
           },
           {
            "bin_end": 133,
            "bin_start": 119.70000000960646,
            "count": 1
           }
          ],
          "max": "133.0",
          "min": "9.60646549004e-08",
          "nan_count": 0,
          "unique_count": 8
         }
        },
        {
         "dtype": "float64",
         "name": "android_sensor_step_counter_mean",
         "stats": {
          "histogram": [
           {
            "bin_end": 3367.35,
            "bin_start": 37,
            "count": 3
           },
           {
            "bin_end": 6697.7,
            "bin_start": 3367.35,
            "count": 1
           },
           {
            "bin_end": 10028.05,
            "bin_start": 6697.7,
            "count": 1
           },
           {
            "bin_end": 13358.4,
            "bin_start": 10028.05,
            "count": 2
           },
           {
            "bin_end": 16688.75,
            "bin_start": 13358.4,
            "count": 0
           },
           {
            "bin_end": 20019.1,
            "bin_start": 16688.75,
            "count": 0
           },
           {
            "bin_end": 23349.45,
            "bin_start": 20019.1,
            "count": 0
           },
           {
            "bin_end": 26679.8,
            "bin_start": 23349.45,
            "count": 0
           },
           {
            "bin_end": 30010.149999999998,
            "bin_start": 26679.8,
            "count": 0
           },
           {
            "bin_end": 33340.5,
            "bin_start": 30010.149999999998,
            "count": 1
           }
          ],
          "max": "33340.5",
          "min": "37.0",
          "nan_count": 0,
          "unique_count": 8
         }
        },
        {
         "dtype": "float64",
         "name": "android_sensor_step_counter_min",
         "stats": {
          "histogram": [
           {
            "bin_end": 3366.9,
            "bin_start": 37,
            "count": 3
           },
           {
            "bin_end": 6696.8,
            "bin_start": 3366.9,
            "count": 1
           },
           {
            "bin_end": 10026.7,
            "bin_start": 6696.8,
            "count": 1
           },
           {
            "bin_end": 13356.6,
            "bin_start": 10026.7,
            "count": 2
           },
           {
            "bin_end": 16686.5,
            "bin_start": 13356.6,
            "count": 0
           },
           {
            "bin_end": 20016.4,
            "bin_start": 16686.5,
            "count": 0
           },
           {
            "bin_end": 23346.3,
            "bin_start": 20016.4,
            "count": 0
           },
           {
            "bin_end": 26676.2,
            "bin_start": 23346.3,
            "count": 0
           },
           {
            "bin_end": 30006.100000000002,
            "bin_start": 26676.2,
            "count": 0
           },
           {
            "bin_end": 33336,
            "bin_start": 30006.100000000002,
            "count": 1
           }
          ],
          "max": "33336.0",
          "min": "37.0",
          "nan_count": 0,
          "unique_count": 8
         }
        },
        {
         "dtype": "float64",
         "name": "android_sensor_step_counter_max",
         "stats": {
          "histogram": [
           {
            "bin_end": 3367.8,
            "bin_start": 37,
            "count": 3
           },
           {
            "bin_end": 6698.6,
            "bin_start": 3367.8,
            "count": 1
           },
           {
            "bin_end": 10029.400000000001,
            "bin_start": 6698.6,
            "count": 1
           },
           {
            "bin_end": 13360.2,
            "bin_start": 10029.400000000001,
            "count": 2
           },
           {
            "bin_end": 16691,
            "bin_start": 13360.2,
            "count": 0
           },
           {
            "bin_end": 20021.800000000003,
            "bin_start": 16691,
            "count": 0
           },
           {
            "bin_end": 23352.600000000002,
            "bin_start": 20021.800000000003,
            "count": 0
           },
           {
            "bin_end": 26683.4,
            "bin_start": 23352.600000000002,
            "count": 0
           },
           {
            "bin_end": 30014.2,
            "bin_start": 26683.4,
            "count": 0
           },
           {
            "bin_end": 33345,
            "bin_start": 30014.2,
            "count": 1
           }
          ],
          "max": "33345.0",
          "min": "37.0",
          "nan_count": 0,
          "unique_count": 8
         }
        },
        {
         "dtype": "float64",
         "name": "android_sensor_step_counter_std",
         "stats": {
          "histogram": [
           {
            "bin_end": 1.972792206133,
            "bin_start": 1.41421356237,
            "count": 2
           },
           {
            "bin_end": 2.531370849896,
            "bin_start": 1.972792206133,
            "count": 0
           },
           {
            "bin_end": 3.089949493659,
            "bin_start": 2.531370849896,
            "count": 2
           },
           {
            "bin_end": 3.648528137422,
            "bin_start": 3.089949493659,
            "count": 1
           },
           {
            "bin_end": 4.207106781185001,
            "bin_start": 3.648528137422,
            "count": 0
           },
           {
            "bin_end": 4.765685424948,
            "bin_start": 4.207106781185001,
            "count": 1
           },
           {
            "bin_end": 5.324264068711001,
            "bin_start": 4.765685424948,
            "count": 0
           },
           {
            "bin_end": 5.882842712474,
            "bin_start": 5.324264068711001,
            "count": 1
           },
           {
            "bin_end": 6.441421356237001,
            "bin_start": 5.882842712474,
            "count": 0
           },
           {
            "bin_end": 7,
            "bin_start": 6.441421356237001,
            "count": 1
           }
          ],
          "max": "7.0",
          "min": "1.41421356237",
          "nan_count": 0,
          "unique_count": 8
         }
        },
        {
         "dtype": "float64",
         "name": "sound_mean",
         "stats": {
          "histogram": [
           {
            "bin_end": 25.33927571474362,
            "bin_start": 14.932528571937357,
            "count": 2
           },
           {
            "bin_end": 35.74602285754989,
            "bin_start": 25.33927571474362,
            "count": 0
           },
           {
            "bin_end": 46.15277000035615,
            "bin_start": 35.74602285754989,
            "count": 0
           },
           {
            "bin_end": 56.55951714316241,
            "bin_start": 46.15277000035615,
            "count": 0
           },
           {
            "bin_end": 66.96626428596868,
            "bin_start": 56.55951714316241,
            "count": 0
           },
           {
            "bin_end": 77.37301142877494,
            "bin_start": 66.96626428596868,
            "count": 1
           },
           {
            "bin_end": 87.7797585715812,
            "bin_start": 77.37301142877494,
            "count": 2
           },
           {
            "bin_end": 98.18650571438747,
            "bin_start": 87.7797585715812,
            "count": 2
           },
           {
            "bin_end": 108.59325285719373,
            "bin_start": 98.18650571438747,
            "count": 0
           },
           {
            "bin_end": 119,
            "bin_start": 108.59325285719373,
            "count": 1
           }
          ],
          "max": "119.0",
          "min": "14.932528571937357",
          "nan_count": 0,
          "unique_count": 8
         }
        },
        {
         "dtype": "float64",
         "name": "sound_min",
         "stats": {
          "histogram": [
           {
            "bin_end": 25.551451920816845,
            "bin_start": 15.168279912018718,
            "count": 2
           },
           {
            "bin_end": 35.93462392961497,
            "bin_start": 25.551451920816845,
            "count": 0
           },
           {
            "bin_end": 46.317795938413106,
            "bin_start": 35.93462392961497,
            "count": 0
           },
           {
            "bin_end": 56.70096794721123,
            "bin_start": 46.317795938413106,
            "count": 0
           },
           {
            "bin_end": 67.08413995600935,
            "bin_start": 56.70096794721123,
            "count": 0
           },
           {
            "bin_end": 77.4673119648075,
            "bin_start": 67.08413995600935,
            "count": 1
           },
           {
            "bin_end": 87.85048397360562,
            "bin_start": 77.4673119648075,
            "count": 2
           },
           {
            "bin_end": 98.23365598240375,
            "bin_start": 87.85048397360562,
            "count": 2
           },
           {
            "bin_end": 108.61682799120187,
            "bin_start": 98.23365598240375,
            "count": 0
           },
           {
            "bin_end": 119,
            "bin_start": 108.61682799120187,
            "count": 1
           }
          ],
          "max": "119.0",
          "min": "15.168279912018718",
          "nan_count": 0,
          "unique_count": 8
         }
        },
        {
         "dtype": "float64",
         "name": "sound_max",
         "stats": {
          "histogram": [
           {
            "bin_end": 25.31767624063957,
            "bin_start": 14.908529156266189,
            "count": 2
           },
           {
            "bin_end": 35.72682332501295,
            "bin_start": 25.31767624063957,
            "count": 0
           },
           {
            "bin_end": 46.13597040938634,
            "bin_start": 35.72682332501295,
            "count": 0
           },
           {
            "bin_end": 56.54511749375972,
            "bin_start": 46.13597040938634,
            "count": 0
           },
           {
            "bin_end": 66.95426457813309,
            "bin_start": 56.54511749375972,
            "count": 0
           },
           {
            "bin_end": 77.36341166250648,
            "bin_start": 66.95426457813309,
            "count": 1
           },
           {
            "bin_end": 87.77255874687985,
            "bin_start": 77.36341166250648,
            "count": 2
           },
           {
            "bin_end": 98.18170583125324,
            "bin_start": 87.77255874687985,
            "count": 2
           },
           {
            "bin_end": 108.59085291562663,
            "bin_start": 98.18170583125324,
            "count": 0
           },
           {
            "bin_end": 119,
            "bin_start": 108.59085291562663,
            "count": 1
           }
          ],
          "max": "119.0",
          "min": "14.908529156266189",
          "nan_count": 0,
          "unique_count": 8
         }
        },
        {
         "dtype": "float64",
         "name": "sound_std",
         "stats": {
          "histogram": [
           {
            "bin_end": 9.901257287920199,
            "bin_start": 0.001396986578,
            "count": 6
           },
           {
            "bin_end": 19.8011175892624,
            "bin_start": 9.901257287920199,
            "count": 0
           },
           {
            "bin_end": 29.700977890604598,
            "bin_start": 19.8011175892624,
            "count": 1
           },
           {
            "bin_end": 39.6008381919468,
            "bin_start": 29.700977890604598,
            "count": 0
           },
           {
            "bin_end": 49.500698493289,
            "bin_start": 39.6008381919468,
            "count": 0
           },
           {
            "bin_end": 59.400558794631195,
            "bin_start": 49.500698493289,
            "count": 0
           },
           {
            "bin_end": 69.3004190959734,
            "bin_start": 59.400558794631195,
            "count": 0
           },
           {
            "bin_end": 79.2002793973156,
            "bin_start": 69.3004190959734,
            "count": 0
           },
           {
            "bin_end": 89.1001396986578,
            "bin_start": 79.2002793973156,
            "count": 0
           },
           {
            "bin_end": 99,
            "bin_start": 89.1001396986578,
            "count": 1
           }
          ],
          "max": "99.0",
          "min": "0.001396986578",
          "nan_count": 0,
          "unique_count": 8
         }
        },
        {
         "dtype": "float64",
         "name": "speed_mean",
         "stats": {
          "histogram": [
           {
            "bin_end": 9.3,
            "bin_start": 0,
            "count": 5
           },
           {
            "bin_end": 18.6,
            "bin_start": 9.3,
            "count": 1
           },
           {
            "bin_end": 27.900000000000002,
            "bin_start": 18.6,
            "count": 0
           },
           {
            "bin_end": 37.2,
            "bin_start": 27.900000000000002,
            "count": 0
           },
           {
            "bin_end": 46.5,
            "bin_start": 37.2,
            "count": 0
           },
           {
            "bin_end": 55.800000000000004,
            "bin_start": 46.5,
            "count": 1
           },
           {
            "bin_end": 65.10000000000001,
            "bin_start": 55.800000000000004,
            "count": 0
           },
           {
            "bin_end": 74.4,
            "bin_start": 65.10000000000001,
            "count": 0
           },
           {
            "bin_end": 83.7,
            "bin_start": 74.4,
            "count": 0
           },
           {
            "bin_end": 93,
            "bin_start": 83.7,
            "count": 1
           }
          ],
          "max": "93.0",
          "min": "0.0",
          "nan_count": 0,
          "unique_count": 7
         }
        },
        {
         "dtype": "float64",
         "name": "speed_min",
         "stats": {
          "histogram": [
           {
            "bin_end": 9.3,
            "bin_start": 0,
            "count": 5
           },
           {
            "bin_end": 18.6,
            "bin_start": 9.3,
            "count": 1
           },
           {
            "bin_end": 27.900000000000002,
            "bin_start": 18.6,
            "count": 0
           },
           {
            "bin_end": 37.2,
            "bin_start": 27.900000000000002,
            "count": 0
           },
           {
            "bin_end": 46.5,
            "bin_start": 37.2,
            "count": 0
           },
           {
            "bin_end": 55.800000000000004,
            "bin_start": 46.5,
            "count": 1
           },
           {
            "bin_end": 65.10000000000001,
            "bin_start": 55.800000000000004,
            "count": 0
           },
           {
            "bin_end": 74.4,
            "bin_start": 65.10000000000001,
            "count": 0
           },
           {
            "bin_end": 83.7,
            "bin_start": 74.4,
            "count": 0
           },
           {
            "bin_end": 93,
            "bin_start": 83.7,
            "count": 1
           }
          ],
          "max": "93.0",
          "min": "0.0",
          "nan_count": 0,
          "unique_count": 7
         }
        },
        {
         "dtype": "float64",
         "name": "speed_max",
         "stats": {
          "histogram": [
           {
            "bin_end": 9.3,
            "bin_start": 0,
            "count": 5
           },
           {
            "bin_end": 18.6,
            "bin_start": 9.3,
            "count": 1
           },
           {
            "bin_end": 27.900000000000002,
            "bin_start": 18.6,
            "count": 0
           },
           {
            "bin_end": 37.2,
            "bin_start": 27.900000000000002,
            "count": 0
           },
           {
            "bin_end": 46.5,
            "bin_start": 37.2,
            "count": 0
           },
           {
            "bin_end": 55.800000000000004,
            "bin_start": 46.5,
            "count": 1
           },
           {
            "bin_end": 65.10000000000001,
            "bin_start": 55.800000000000004,
            "count": 0
           },
           {
            "bin_end": 74.4,
            "bin_start": 65.10000000000001,
            "count": 0
           },
           {
            "bin_end": 83.7,
            "bin_start": 74.4,
            "count": 0
           },
           {
            "bin_end": 93,
            "bin_start": 83.7,
            "count": 1
           }
          ],
          "max": "93.0",
          "min": "0.0",
          "nan_count": 0,
          "unique_count": 7
         }
        },
        {
         "dtype": "float64",
         "name": "speed_std",
         "stats": {
          "histogram": [
           {
            "bin_end": 3.7,
            "bin_start": 0,
            "count": 7
           },
           {
            "bin_end": 7.4,
            "bin_start": 3.7,
            "count": 0
           },
           {
            "bin_end": 11.100000000000001,
            "bin_start": 7.4,
            "count": 0
           },
           {
            "bin_end": 14.8,
            "bin_start": 11.100000000000001,
            "count": 0
           },
           {
            "bin_end": 18.5,
            "bin_start": 14.8,
            "count": 0
           },
           {
            "bin_end": 22.200000000000003,
            "bin_start": 18.5,
            "count": 0
           },
           {
            "bin_end": 25.900000000000002,
            "bin_start": 22.200000000000003,
            "count": 0
           },
           {
            "bin_end": 29.6,
            "bin_start": 25.900000000000002,
            "count": 0
           },
           {
            "bin_end": 33.300000000000004,
            "bin_start": 29.6,
            "count": 0
           },
           {
            "bin_end": 37,
            "bin_start": 33.300000000000004,
            "count": 1
           }
          ],
          "max": "37.0",
          "min": "0.0",
          "nan_count": 0,
          "unique_count": 6
         }
        },
        {
         "dtype": "object",
         "name": "_deepnote_index_column"
        }
       ],
       "row_count": 8,
       "rows_bottom": null,
       "rows_top": [
        {
         "_deepnote_index_column": "count",
         "activityrecognition_0": "0.0",
         "activityrecognition_1": 150,
         "android_sensor_accelerometer_max": 150,
         "android_sensor_accelerometer_mean": 150,
         "android_sensor_accelerometer_min": 150,
         "android_sensor_accelerometer_std": 150,
         "android_sensor_game_rotation_vector_max": 132,
         "android_sensor_game_rotation_vector_mean": 132,
         "android_sensor_game_rotation_vector_min": 132,
         "android_sensor_game_rotation_vector_std": 132,
         "android_sensor_gravity_max": 139,
         "android_sensor_gravity_mean": 139,
         "android_sensor_gravity_min": 139,
         "android_sensor_gravity_std": 138,
         "android_sensor_gyroscope_max": 133,
         "android_sensor_gyroscope_mean": 133,
         "android_sensor_gyroscope_min": 133,
         "android_sensor_gyroscope_std": 133,
         "android_sensor_gyroscope_uncalibrated_max": 132,
         "android_sensor_gyroscope_uncalibrated_mean": 132,
         "android_sensor_gyroscope_uncalibrated_min": 132,
         "android_sensor_gyroscope_uncalibrated_std": 132,
         "android_sensor_light_max": 111,
         "android_sensor_light_mean": 111,
         "android_sensor_light_min": 111,
         "android_sensor_light_std": 53,
         "android_sensor_linear_acceleration_max": 139,
         "android_sensor_linear_acceleration_mean": 139,
         "android_sensor_linear_acceleration_min": 139,
         "android_sensor_linear_acceleration_std": 138,
         "android_sensor_magnetic_field_max": 139,
         "android_sensor_magnetic_field_mean": 139,
         "android_sensor_magnetic_field_min": 139,
         "android_sensor_magnetic_field_std": 137,
         "android_sensor_magnetic_field_uncalibrated_max": 132,
         "android_sensor_magnetic_field_uncalibrated_mean": 132,
         "android_sensor_magnetic_field_uncalibrated_min": 132,
         "android_sensor_magnetic_field_uncalibrated_std": 132,
         "android_sensor_orientation_max": 139,
         "android_sensor_orientation_mean": 139,
         "android_sensor_orientation_min": 139,
         "android_sensor_orientation_std": 139,
         "android_sensor_pressure_max": 51,
         "android_sensor_pressure_mean": 51,
         "android_sensor_pressure_min": 51,
         "android_sensor_pressure_std": 32,
         "android_sensor_proximity_max": 29,
         "android_sensor_proximity_mean": 29,
         "android_sensor_proximity_min": 29,
         "android_sensor_proximity_std": 7,
         "android_sensor_rotation_vector_max": 133,
         "android_sensor_rotation_vector_mean": 133,
         "android_sensor_rotation_vector_min": 133,
         "android_sensor_rotation_vector_std": 133,
         "android_sensor_step_counter_max": 37,
         "android_sensor_step_counter_mean": 37,
         "android_sensor_step_counter_min": 37,
         "android_sensor_step_counter_std": 7,
         "id": 150,
         "sound_max": 119,
         "sound_mean": 119,
         "sound_min": 119,
         "sound_std": 99,
         "speed_max": 93,
         "speed_mean": 93,
         "speed_min": 93,
         "speed_std": 37,
         "time": 150
        },
        {
         "_deepnote_index_column": "mean",
         "activityrecognition_0": "nan",
         "activityrecognition_1": 91.03333333333333,
         "android_sensor_accelerometer_max": 12.412859826964398,
         "android_sensor_accelerometer_mean": 9.967001719172867,
         "android_sensor_accelerometer_min": 8.385486055002065,
         "android_sensor_accelerometer_std": 1.0066740761397848,
         "android_sensor_game_rotation_vector_max": 0.7303706126877895,
         "android_sensor_game_rotation_vector_mean": 0.7168752168731469,
         "android_sensor_game_rotation_vector_min": 0.6970410664361704,
         "android_sensor_game_rotation_vector_std": 0.011870799320569168,
         "android_sensor_gravity_max": 9.806402213936188,
         "android_sensor_gravity_mean": 9.806388598224387,
         "android_sensor_gravity_min": 9.806374884539784,
         "android_sensor_gravity_std": 7.88324730712382e-05,
         "android_sensor_gyroscope_max": 0.7822339312356608,
         "android_sensor_gyroscope_mean": 0.33301905637038165,
         "android_sensor_gyroscope_min": 0.08082524821193225,
         "android_sensor_gyroscope_std": 0.19701196124248507,
         "android_sensor_gyroscope_uncalibrated_max": 0.5993558181378463,
         "android_sensor_gyroscope_uncalibrated_mean": 0.3137529310452232,
         "android_sensor_gyroscope_uncalibrated_min": 0.1146023693177009,
         "android_sensor_gyroscope_uncalibrated_std": 0.17175509012869036,
         "android_sensor_light_max": 227.5472972972973,
         "android_sensor_light_mean": 214.90598932260963,
         "android_sensor_light_min": 208.13288288288288,
         "android_sensor_light_std": 15.580878749241586,
         "android_sensor_linear_acceleration_max": 2.494104403575954,
         "android_sensor_linear_acceleration_mean": 1.3193786531629978,
         "android_sensor_linear_acceleration_min": 0.7383188452160678,
         "android_sensor_linear_acceleration_std": 0.6702294639534366,
         "android_sensor_magnetic_field_max": 56.388490986866906,
         "android_sensor_magnetic_field_mean": 54.600495368664895,
         "android_sensor_magnetic_field_min": 52.711095361509926,
         "android_sensor_magnetic_field_std": 1.5648765531833866,
         "android_sensor_magnetic_field_uncalibrated_max": 137.8430533273841,
         "android_sensor_magnetic_field_uncalibrated_mean": 136.45079176820985,
         "android_sensor_magnetic_field_uncalibrated_min": 134.89714053354245,
         "android_sensor_magnetic_field_uncalibrated_std": 2.0332539380778076,
         "android_sensor_orientation_max": 229.08370045212376,
         "android_sensor_orientation_mean": 216.71506579162235,
         "android_sensor_orientation_min": 202.488723522882,
         "android_sensor_orientation_std": 13.560042057119711,
         "android_sensor_pressure_max": 1017.0970250980391,
         "android_sensor_pressure_mean": 1017.0848446931373,
         "android_sensor_pressure_min": 1017.0703856862746,
         "android_sensor_pressure_std": 0.01909156653175406,
         "android_sensor_proximity_max": 5.551724137931035,
         "android_sensor_proximity_mean": 4.90804597701138,
         "android_sensor_proximity_min": 4.172413793103448,
         "android_sensor_proximity_std": 3.5957307085057137,
         "android_sensor_rotation_vector_max": 0.7928161874255392,
         "android_sensor_rotation_vector_mean": 0.7777775195974881,
         "android_sensor_rotation_vector_min": 0.7596041781579196,
         "android_sensor_rotation_vector_std": 0.014108787620397684,
         "android_sensor_step_counter_max": 10005.45945945946,
         "android_sensor_step_counter_mean": 10005.033783783783,
         "android_sensor_step_counter_min": 10004.54054054054,
         "android_sensor_step_counter_std": 3.4869578882914287,
         "id": 10866.293333333333,
         "sound_max": 79.33587450002017,
         "sound_mean": 79.05023784881597,
         "sound_min": 78.76594047892354,
         "sound_std": 2.1118811784429017,
         "speed_max": 6.349366956715055,
         "speed_mean": 6.331091910155914,
         "speed_min": 6.311982786822581,
         "speed_std": 0.1384018063723165,
         "time": 123.04666666666667
        },
        {
         "_deepnote_index_column": "std",
         "activityrecognition_0": "nan",
         "activityrecognition_1": 21.564143948938924,
         "android_sensor_accelerometer_max": 5.807925550983092,
         "android_sensor_accelerometer_mean": 0.6585181482235974,
         "android_sensor_accelerometer_min": 1.9693627413187305,
         "android_sensor_accelerometer_std": 1.696881801808877,
         "android_sensor_game_rotation_vector_max": 0.28384282753774676,
         "android_sensor_game_rotation_vector_mean": 0.28126151975707103,
         "android_sensor_game_rotation_vector_min": 0.284938369621536,
         "android_sensor_game_rotation_vector_std": 0.024304781931650532,
         "android_sensor_gravity_max": 0.0018604307551298657,
         "android_sensor_gravity_mean": 0.001897991832780606,
         "android_sensor_gravity_min": 0.0019448873468127128,
         "android_sensor_gravity_std": 0.00043820333071878067,
         "android_sensor_gyroscope_max": 1.405038564301968,
         "android_sensor_gyroscope_mean": 0.5959999219332025,
         "android_sensor_gyroscope_min": 0.1444532467750376,
         "android_sensor_gyroscope_std": 0.33238888342501316,
         "android_sensor_gyroscope_uncalibrated_max": 1.1269994888904393,
         "android_sensor_gyroscope_uncalibrated_mean": 0.5623582867369527,
         "android_sensor_gyroscope_uncalibrated_min": 0.1721530384396236,
         "android_sensor_gyroscope_uncalibrated_std": 0.3047671129370519,
         "android_sensor_light_max": 731.3556281624567,
         "android_sensor_light_mean": 704.2342541305666,
         "android_sensor_light_min": 696.5512173378173,
         "android_sensor_light_std": 58.8624297139886,
         "android_sensor_linear_acceleration_max": 6.097004774486112,
         "android_sensor_linear_acceleration_mean": 2.0388660806877477,
         "android_sensor_linear_acceleration_min": 1.0689367003502286,
         "android_sensor_linear_acceleration_std": 1.289767760132111,
         "android_sensor_magnetic_field_max": 34.409891065450886,
         "android_sensor_magnetic_field_mean": 34.328794945472275,
         "android_sensor_magnetic_field_min": 34.047751130458224,
         "android_sensor_magnetic_field_std": 1.7860820019683177,
         "android_sensor_magnetic_field_uncalibrated_max": 67.74027919238145,
         "android_sensor_magnetic_field_uncalibrated_mean": 67.60717588482444,
         "android_sensor_magnetic_field_uncalibrated_min": 67.68451613580402,
         "android_sensor_magnetic_field_uncalibrated_std": 2.759148327851533,
         "android_sensor_orientation_max": 97.67129646067501,
         "android_sensor_orientation_mean": 90.9277866815391,
         "android_sensor_orientation_min": 94.48470289534848,
         "android_sensor_orientation_std": 32.41469001758001,
         "android_sensor_pressure_max": 14.210909552032957,
         "android_sensor_pressure_mean": 14.21611484625776,
         "android_sensor_pressure_min": 14.223146953392309,
         "android_sensor_pressure_std": 0.021918253189821185,
         "android_sensor_proximity_max": 3.6212291411357604,
         "android_sensor_proximity_mean": 3.458250488651012,
         "android_sensor_proximity_min": 3.9466890781771697,
         "android_sensor_proximity_std": 2.499834817989383,
         "android_sensor_rotation_vector_max": 0.2531558654849064,
         "android_sensor_rotation_vector_mean": 0.2505472191448525,
         "android_sensor_rotation_vector_min": 0.25599816165964207,
         "android_sensor_rotation_vector_std": 0.02911096354152786,
         "android_sensor_step_counter_max": 12115.201827077039,
         "android_sensor_step_counter_mean": 12114.538739121443,
         "android_sensor_step_counter_min": 12113.858642055375,
         "android_sensor_step_counter_std": 1.4223145923121625,
         "id": 6954.896878065052,
         "sound_max": 14.908529156266189,
         "sound_mean": 14.932528571937357,
         "sound_min": 15.168279912018718,
         "sound_std": 3.846731948119904,
         "speed_max": 10.84115603391301,
         "speed_mean": 10.818909036284769,
         "speed_min": 10.799823408062034,
         "speed_std": 0.35442098824276624,
         "time": 132.0181163420596
        },
        {
         "_deepnote_index_column": "min",
         "activityrecognition_0": "nan",
         "activityrecognition_1": 5,
         "android_sensor_accelerometer_max": 9.30891404535,
         "android_sensor_accelerometer_mean": 8.9113302057,
         "android_sensor_accelerometer_min": 1.19240740118,
         "android_sensor_accelerometer_std": 0.00939743658221,
         "android_sensor_game_rotation_vector_max": 0.0268676325529,
         "android_sensor_game_rotation_vector_mean": 0.025824095946,
         "android_sensor_game_rotation_vector_min": 0.0250579608907,
         "android_sensor_game_rotation_vector_std": 0,
         "android_sensor_gravity_max": 9.79292576497,
         "android_sensor_gravity_mean": 9.79292576497,
         "android_sensor_gravity_min": 9.79292576497,
         "android_sensor_gravity_std": 3.62745745959e-09,
         "android_sensor_gyroscope_max": 0.0012217305,
         "android_sensor_gyroscope_mean": 0.0012217305,
         "android_sensor_gyroscope_min": 0,
         "android_sensor_gyroscope_std": 0.000413194090042,
         "android_sensor_gyroscope_uncalibrated_max": 0.0129579913951,
         "android_sensor_gyroscope_uncalibrated_mean": 0.00786920877347,
         "android_sensor_gyroscope_uncalibrated_min": 0.0018450922375,
         "android_sensor_gyroscope_uncalibrated_std": 0.000484878072976,
         "android_sensor_light_max": 0,
         "android_sensor_light_mean": 0,
         "android_sensor_light_min": 0,
         "android_sensor_light_std": 0,
         "android_sensor_linear_acceleration_max": 0.0121811329522,
         "android_sensor_linear_acceleration_mean": 0.0121811329522,
         "android_sensor_linear_acceleration_min": 0.00105531975338,
         "android_sensor_linear_acceleration_std": 0.000725954434475,
         "android_sensor_magnetic_field_max": 11.2451725414,
         "android_sensor_magnetic_field_mean": 7.99523222362,
         "android_sensor_magnetic_field_min": 4.54035644548,
         "android_sensor_magnetic_field_std": 0.00713642654018,
         "android_sensor_magnetic_field_uncalibrated_max": 17.0698564749,
         "android_sensor_magnetic_field_uncalibrated_mean": 17.0374283374,
         "android_sensor_magnetic_field_uncalibrated_min": 16.9333990421,
         "android_sensor_magnetic_field_uncalibrated_std": 0.0309069397034,
         "android_sensor_orientation_max": 22.3059653756,
         "android_sensor_orientation_mean": 22.3059653756,
         "android_sensor_orientation_min": 21.3064492689,
         "android_sensor_orientation_std": 1.64865007168e-05,
         "android_sensor_pressure_max": 991.9529,
         "android_sensor_pressure_mean": 991.94985,
         "android_sensor_pressure_min": 991.9468,
         "android_sensor_pressure_std": 0.00106066017184,
         "android_sensor_proximity_max": 0,
         "android_sensor_proximity_mean": 0,
         "android_sensor_proximity_min": 0,
         "android_sensor_proximity_std": 0,
         "android_sensor_rotation_vector_max": 0.0541834111052,
         "android_sensor_rotation_vector_mean": 0.0497872598716,
         "android_sensor_rotation_vector_min": 0.043830086459,
         "android_sensor_rotation_vector_std": 9.60646549004e-08,
         "android_sensor_step_counter_max": 149,
         "android_sensor_step_counter_mean": 149,
         "android_sensor_step_counter_min": 149,
         "android_sensor_step_counter_std": 1.41421356237,
         "id": 28,
         "sound_max": 16.9019608003,
         "sound_mean": 16.9019608003,
         "sound_min": 16.9019608003,
         "sound_std": 0.001396986578,
         "speed_max": 0,
         "speed_mean": 0,
         "speed_min": 0,
         "speed_std": 0,
         "time": 5
        },
        {
         "_deepnote_index_column": "25%",
         "activityrecognition_0": "nan",
         "activityrecognition_1": 100,
         "android_sensor_accelerometer_max": 9.958908809875,
         "android_sensor_accelerometer_mean": 9.7421905732825,
         "android_sensor_accelerometer_min": 7.91517572646,
         "android_sensor_accelerometer_std": 0.058280069810175,
         "android_sensor_game_rotation_vector_max": 0.592135596522,
         "android_sensor_game_rotation_vector_mean": 0.581952852789,
         "android_sensor_game_rotation_vector_min": 0.5492322903125,
         "android_sensor_game_rotation_vector_std": 0.000198198229619,
         "android_sensor_gravity_max": 9.806648559934999,
         "android_sensor_gravity_mean": 9.80664672519,
         "android_sensor_gravity_min": 9.806645752400001,
         "android_sensor_gravity_std": 3.136993617115e-07,
         "android_sensor_gyroscope_max": 0.0253343425976,
         "android_sensor_gyroscope_mean": 0.0118938847531,
         "android_sensor_gyroscope_min": 0.00285832599679,
         "android_sensor_gyroscope_std": 0.00666807866151,
         "android_sensor_gyroscope_uncalibrated_max": 0.04987115422525,
         "android_sensor_gyroscope_uncalibrated_mean": 0.03660384582395,
         "android_sensor_gyroscope_uncalibrated_min": 0.021893386627450002,
         "android_sensor_gyroscope_uncalibrated_std": 0.0063336788395525,
         "android_sensor_light_max": 5,
         "android_sensor_light_mean": 4,
         "android_sensor_light_min": 3,
         "android_sensor_light_std": 0,
         "android_sensor_linear_acceleration_max": 0.08850341069595,
         "android_sensor_linear_acceleration_mean": 0.06868207656190001,
         "android_sensor_linear_acceleration_min": 0.0420500019351,
         "android_sensor_linear_acceleration_std": 0.024893589434375002,
         "android_sensor_magnetic_field_max": 39.43952581995,
         "android_sensor_magnetic_field_mean": 36.0391005253,
         "android_sensor_magnetic_field_min": 34.6324653345,
         "android_sensor_magnetic_field_std": 0.6005482825,
         "android_sensor_magnetic_field_uncalibrated_max": 91.540186821425,
         "android_sensor_magnetic_field_uncalibrated_mean": 87.607653707425,
         "android_sensor_magnetic_field_uncalibrated_min": 82.59995231869999,
         "android_sensor_magnetic_field_uncalibrated_std": 0.49869212664525,
         "android_sensor_orientation_max": 164.4802621755,
         "android_sensor_orientation_mean": 156.12836120050002,
         "android_sensor_orientation_min": 133.2489725505,
         "android_sensor_orientation_std": 0.2511955927195,
         "android_sensor_pressure_max": 1005.84752,
         "android_sensor_pressure_mean": 1005.827624285,
         "android_sensor_pressure_min": 1005.80982,
         "android_sensor_pressure_std": 0.007603165664685,
         "android_sensor_proximity_max": 0,
         "android_sensor_proximity_mean": 0,
         "android_sensor_proximity_min": 0,
         "android_sensor_proximity_std": 2.30940107676,
         "android_sensor_rotation_vector_max": 0.672039908374,
         "android_sensor_rotation_vector_mean": 0.662667254813,
         "android_sensor_rotation_vector_min": 0.637105874528,
         "android_sensor_rotation_vector_std": 0.000436209240485,
         "android_sensor_step_counter_max": 1174,
         "android_sensor_step_counter_mean": 1174,
         "android_sensor_step_counter_min": 1174,
         "android_sensor_step_counter_std": 2.8831315708150003,
         "id": 4625.5,
         "sound_max": 74.20822085685,
         "sound_mean": 73.8360800368,
         "sound_min": 73.8130991875,
         "sound_std": 0.042411091297099995,
         "speed_max": 0,
         "speed_mean": 0,
         "speed_min": 0,
         "speed_std": 0,
         "time": 31.5
        },
        {
         "_deepnote_index_column": "50%",
         "activityrecognition_0": "nan",
         "activityrecognition_1": 100,
         "android_sensor_accelerometer_max": 10.39070027795,
         "android_sensor_accelerometer_mean": 9.842358240595,
         "android_sensor_accelerometer_min": 9.11079942153,
         "android_sensor_accelerometer_std": 0.28406081653750004,
         "android_sensor_game_rotation_vector_max": 0.82994388718,
         "android_sensor_game_rotation_vector_mean": 0.8068657028595,
         "android_sensor_game_rotation_vector_min": 0.7794689713455001,
         "android_sensor_game_rotation_vector_std": 0.00165751352525,
         "android_sensor_gravity_max": 9.80665046535,
         "android_sensor_gravity_mean": 9.80665006586,
         "android_sensor_gravity_min": 9.80664945583,
         "android_sensor_gravity_std": 4.363765154955e-07,
         "android_sensor_gyroscope_max": 0.127189129888,
         "android_sensor_gyroscope_mean": 0.0515766460253,
         "android_sensor_gyroscope_min": 0.0142124005513,
         "android_sensor_gyroscope_std": 0.038130724088,
         "android_sensor_gyroscope_uncalibrated_max": 0.08757488681799999,
         "android_sensor_gyroscope_uncalibrated_mean": 0.05687992335455,
         "android_sensor_gyroscope_uncalibrated_min": 0.037620640346050005,
         "android_sensor_gyroscope_uncalibrated_std": 0.017078312377100002,
         "android_sensor_light_max": 14,
         "android_sensor_light_mean": 13,
         "android_sensor_light_min": 13,
         "android_sensor_light_std": 0.707106781187,
         "android_sensor_linear_acceleration_max": 0.38488376636,
         "android_sensor_linear_acceleration_mean": 0.303549916483,
         "android_sensor_linear_acceleration_min": 0.247689555102,
         "android_sensor_linear_acceleration_std": 0.12709515403,
         "android_sensor_magnetic_field_max": 45.1293713257,
         "android_sensor_magnetic_field_mean": 43.5265078217,
         "android_sensor_magnetic_field_min": 42.0785111607,
         "android_sensor_magnetic_field_std": 1.00103544243,
         "android_sensor_magnetic_field_uncalibrated_max": 133.1941569165,
         "android_sensor_magnetic_field_uncalibrated_mean": 131.9713067655,
         "android_sensor_magnetic_field_uncalibrated_min": 130.8782162685,
         "android_sensor_magnetic_field_uncalibrated_std": 1.125435250115,
         "android_sensor_orientation_max": 216.890201477,
         "android_sensor_orientation_mean": 206.864069637,
         "android_sensor_orientation_min": 199.763356173,
         "android_sensor_orientation_std": 1.02234400197,
         "android_sensor_pressure_max": 1011.0933,
         "android_sensor_pressure_mean": 1011.06792,
         "android_sensor_pressure_min": 1011.04254,
         "android_sensor_pressure_std": 0.014611352288550001,
         "android_sensor_proximity_max": 8,
         "android_sensor_proximity_mean": 5,
         "android_sensor_proximity_min": 5,
         "android_sensor_proximity_std": 4.61880215352,
         "android_sensor_rotation_vector_max": 0.925901917216,
         "android_sensor_rotation_vector_mean": 0.867410168076,
         "android_sensor_rotation_vector_min": 0.84969159205,
         "android_sensor_rotation_vector_std": 0.00260293562976,
         "android_sensor_step_counter_max": 3644,
         "android_sensor_step_counter_mean": 3644,
         "android_sensor_step_counter_min": 3644,
         "android_sensor_step_counter_std": 3.0276503541,
         "id": 11062.5,
         "sound_max": 85.2414242523,
         "sound_mean": 84.5644129774,
         "sound_min": 84.5644129774,
         "sound_std": 1.00661125342,
         "speed_max": 1.25,
         "speed_mean": 1.25,
         "speed_min": 1.25,
         "speed_std": 0,
         "time": 71
        },
        {
         "_deepnote_index_column": "75%",
         "activityrecognition_0": "nan",
         "activityrecognition_1": 100,
         "android_sensor_accelerometer_max": 12.126512615574999,
         "android_sensor_accelerometer_mean": 10.0087674069,
         "android_sensor_accelerometer_min": 9.69186126508,
         "android_sensor_accelerometer_std": 1.1048782609625,
         "android_sensor_game_rotation_vector_max": 0.960711270082,
         "android_sensor_game_rotation_vector_mean": 0.94642754072975,
         "android_sensor_game_rotation_vector_min": 0.9409061138445,
         "android_sensor_game_rotation_vector_std": 0.0084920053877575,
         "android_sensor_gravity_max": 9.80665084183,
         "android_sensor_gravity_mean": 9.80665021549,
         "android_sensor_gravity_min": 9.80664978161,
         "android_sensor_gravity_std": 1.208320660365e-06,
         "android_sensor_gyroscope_max": 0.598667651536,
         "android_sensor_gyroscope_mean": 0.262231974187,
         "android_sensor_gyroscope_min": 0.0731663249748,
         "android_sensor_gyroscope_std": 0.177300965546,
         "android_sensor_gyroscope_uncalibrated_max": 0.47818892598375,
         "android_sensor_gyroscope_uncalibrated_mean": 0.25335279221775,
         "android_sensor_gyroscope_uncalibrated_min": 0.12340047421474999,
         "android_sensor_gyroscope_uncalibrated_std": 0.15840929402550002,
         "android_sensor_light_max": 84,
         "android_sensor_light_mean": 80.5,
         "android_sensor_light_min": 80.5,
         "android_sensor_light_std": 4.94974746831,
         "android_sensor_linear_acceleration_max": 2.21872191016,
         "android_sensor_linear_acceleration_mean": 1.7251896526950001,
         "android_sensor_linear_acceleration_min": 1.052494174195,
         "android_sensor_linear_acceleration_std": 0.84944844816,
         "android_sensor_magnetic_field_max": 57.5467484052,
         "android_sensor_magnetic_field_mean": 56.81321840705,
         "android_sensor_magnetic_field_min": 55.348088688299995,
         "android_sensor_magnetic_field_std": 1.85735664224,
         "android_sensor_magnetic_field_uncalibrated_max": 162.38018199525,
         "android_sensor_magnetic_field_uncalibrated_mean": 159.65707147400002,
         "android_sensor_magnetic_field_uncalibrated_min": 159.55192265875,
         "android_sensor_magnetic_field_uncalibrated_std": 2.2655639473374998,
         "android_sensor_orientation_max": 315.356494516,
         "android_sensor_orientation_mean": 289.152474692,
         "android_sensor_orientation_min": 282.7791077485,
         "android_sensor_orientation_std": 7.222588179080001,
         "android_sensor_pressure_max": 1024.0824499999999,
         "android_sensor_pressure_mean": 1024.074725,
         "android_sensor_pressure_min": 1024.067,
         "android_sensor_pressure_std": 0.023925155477799998,
         "android_sensor_proximity_max": 8,
         "android_sensor_proximity_mean": 8,
         "android_sensor_proximity_min": 8,
         "android_sensor_proximity_std": 5.137828201505,
         "android_sensor_rotation_vector_max": 0.986594005364,
         "android_sensor_rotation_vector_mean": 0.973743959511,
         "android_sensor_rotation_vector_min": 0.971732082451,
         "android_sensor_rotation_vector_std": 0.0121096178399,
         "android_sensor_step_counter_max": 12995,
         "android_sensor_step_counter_mean": 12992.25,
         "android_sensor_step_counter_min": 12987,
         "android_sensor_step_counter_std": 4.271861955225,
         "id": 17537,
         "sound_max": 89.7471517857,
         "sound_mean": 89.7420601596,
         "sound_min": 89.74163571919999,
         "sound_std": 2.139862075745,
         "speed_max": 8,
         "speed_mean": 8,
         "speed_min": 8,
         "speed_std": 0.0632643589772,
         "time": 156.75
        },
        {
         "_deepnote_index_column": "max",
         "activityrecognition_0": "nan",
         "activityrecognition_1": 100,
         "android_sensor_accelerometer_max": 52.084251989,
         "android_sensor_accelerometer_mean": 13.2431973342,
         "android_sensor_accelerometer_min": 10.1928288439,
         "android_sensor_accelerometer_std": 9.02840951104,
         "android_sensor_game_rotation_vector_max": 0.999999425408,
         "android_sensor_game_rotation_vector_mean": 0.999406077716,
         "android_sensor_game_rotation_vector_min": 0.999007378839,
         "android_sensor_game_rotation_vector_std": 0.139201902343,
         "android_sensor_gravity_max": 9.81308059014,
         "android_sensor_gravity_mean": 9.81308059014,
         "android_sensor_gravity_min": 9.81308059014,
         "android_sensor_gravity_std": 0.00368244623624,
         "android_sensor_gyroscope_max": 5.86091048251,
         "android_sensor_gyroscope_mean": 2.66375608475,
         "android_sensor_gyroscope_min": 0.635638053278,
         "android_sensor_gyroscope_std": 1.20763260788,
         "android_sensor_gyroscope_uncalibrated_max": 5.85399449165,
         "android_sensor_gyroscope_uncalibrated_mean": 2.66785950685,
         "android_sensor_gyroscope_uncalibrated_min": 0.859727149359,
         "android_sensor_gyroscope_uncalibrated_std": 1.30687933917,
         "android_sensor_light_max": 4243,
         "android_sensor_light_mean": 4243,
         "android_sensor_light_min": 4243,
         "android_sensor_light_std": 387.947958151,
         "android_sensor_linear_acceleration_max": 42.8960089099,
         "android_sensor_linear_acceleration_mean": 9.82051946408,
         "android_sensor_linear_acceleration_min": 6.01552308798,
         "android_sensor_linear_acceleration_std": 7.41930960103,
         "android_sensor_magnetic_field_max": 193.918565382,
         "android_sensor_magnetic_field_mean": 193.531531859,
         "android_sensor_magnetic_field_min": 192.965447109,
         "android_sensor_magnetic_field_std": 12.2972458205,
         "android_sensor_magnetic_field_uncalibrated_max": 418.516379608,
         "android_sensor_magnetic_field_uncalibrated_mean": 418.516379608,
         "android_sensor_magnetic_field_uncalibrated_min": 418.516379608,
         "android_sensor_magnetic_field_uncalibrated_std": 15.7760497662,
         "android_sensor_orientation_max": 403.127384272,
         "android_sensor_orientation_mean": 402.868253569,
         "android_sensor_orientation_min": 402.545007037,
         "android_sensor_orientation_std": 171.210407111,
         "android_sensor_pressure_max": 1049.0579,
         "android_sensor_pressure_mean": 1049.0579,
         "android_sensor_pressure_min": 1049.0579,
         "android_sensor_pressure_std": 0.123870168185,
         "android_sensor_proximity_max": 9,
         "android_sensor_proximity_mean": 9,
         "android_sensor_proximity_min": 9,
         "android_sensor_proximity_std": 5.65685424949,
         "android_sensor_rotation_vector_max": 0.999999613914,
         "android_sensor_rotation_vector_mean": 0.99996965749,
         "android_sensor_rotation_vector_min": 0.99996965749,
         "android_sensor_rotation_vector_std": 0.158763313109,
         "android_sensor_step_counter_max": 33345,
         "android_sensor_step_counter_mean": 33340.5,
         "android_sensor_step_counter_min": 33336,
         "android_sensor_step_counter_std": 5.65685424949,
         "id": 21996,
         "sound_max": 90.3087336228,
         "sound_mean": 90.3087336228,
         "sound_min": 90.3087336228,
         "sound_std": 26.8355456884,
         "speed_max": 48.25,
         "speed_mean": 48,
         "speed_min": 47.75,
         "speed_std": 1.60323628646,
         "time": 658
        }
       ]
      },
      "text/html": [
       "<div>\n",
       "<style scoped>\n",
       "    .dataframe tbody tr th:only-of-type {\n",
       "        vertical-align: middle;\n",
       "    }\n",
       "\n",
       "    .dataframe tbody tr th {\n",
       "        vertical-align: top;\n",
       "    }\n",
       "\n",
       "    .dataframe thead th {\n",
       "        text-align: right;\n",
       "    }\n",
       "</style>\n",
       "<table border=\"1\" class=\"dataframe\">\n",
       "  <thead>\n",
       "    <tr style=\"text-align: right;\">\n",
       "      <th></th>\n",
       "      <th>id</th>\n",
       "      <th>time</th>\n",
       "      <th>activityrecognition_0</th>\n",
       "      <th>activityrecognition_1</th>\n",
       "      <th>android_sensor_accelerometer_mean</th>\n",
       "      <th>android_sensor_accelerometer_min</th>\n",
       "      <th>android_sensor_accelerometer_max</th>\n",
       "      <th>android_sensor_accelerometer_std</th>\n",
       "      <th>android_sensor_game_rotation_vector_mean</th>\n",
       "      <th>android_sensor_game_rotation_vector_min</th>\n",
       "      <th>...</th>\n",
       "      <th>android_sensor_step_counter_max</th>\n",
       "      <th>android_sensor_step_counter_std</th>\n",
       "      <th>sound_mean</th>\n",
       "      <th>sound_min</th>\n",
       "      <th>sound_max</th>\n",
       "      <th>sound_std</th>\n",
       "      <th>speed_mean</th>\n",
       "      <th>speed_min</th>\n",
       "      <th>speed_max</th>\n",
       "      <th>speed_std</th>\n",
       "    </tr>\n",
       "  </thead>\n",
       "  <tbody>\n",
       "    <tr>\n",
       "      <th>count</th>\n",
       "      <td>150.000000</td>\n",
       "      <td>150.000000</td>\n",
       "      <td>0.0</td>\n",
       "      <td>150.000000</td>\n",
       "      <td>150.000000</td>\n",
       "      <td>150.000000</td>\n",
       "      <td>150.000000</td>\n",
       "      <td>150.000000</td>\n",
       "      <td>132.000000</td>\n",
       "      <td>132.000000</td>\n",
       "      <td>...</td>\n",
       "      <td>37.000000</td>\n",
       "      <td>7.000000</td>\n",
       "      <td>119.000000</td>\n",
       "      <td>119.000000</td>\n",
       "      <td>119.000000</td>\n",
       "      <td>99.000000</td>\n",
       "      <td>93.000000</td>\n",
       "      <td>93.000000</td>\n",
       "      <td>93.000000</td>\n",
       "      <td>37.000000</td>\n",
       "    </tr>\n",
       "    <tr>\n",
       "      <th>mean</th>\n",
       "      <td>10866.293333</td>\n",
       "      <td>123.046667</td>\n",
       "      <td>NaN</td>\n",
       "      <td>91.033333</td>\n",
       "      <td>9.967002</td>\n",
       "      <td>8.385486</td>\n",
       "      <td>12.412860</td>\n",
       "      <td>1.006674</td>\n",
       "      <td>0.716875</td>\n",
       "      <td>0.697041</td>\n",
       "      <td>...</td>\n",
       "      <td>10005.459459</td>\n",
       "      <td>3.486958</td>\n",
       "      <td>79.050238</td>\n",
       "      <td>78.765940</td>\n",
       "      <td>79.335875</td>\n",
       "      <td>2.111881</td>\n",
       "      <td>6.331092</td>\n",
       "      <td>6.311983</td>\n",
       "      <td>6.349367</td>\n",
       "      <td>0.138402</td>\n",
       "    </tr>\n",
       "    <tr>\n",
       "      <th>std</th>\n",
       "      <td>6954.896878</td>\n",
       "      <td>132.018116</td>\n",
       "      <td>NaN</td>\n",
       "      <td>21.564144</td>\n",
       "      <td>0.658518</td>\n",
       "      <td>1.969363</td>\n",
       "      <td>5.807926</td>\n",
       "      <td>1.696882</td>\n",
       "      <td>0.281262</td>\n",
       "      <td>0.284938</td>\n",
       "      <td>...</td>\n",
       "      <td>12115.201827</td>\n",
       "      <td>1.422315</td>\n",
       "      <td>14.932529</td>\n",
       "      <td>15.168280</td>\n",
       "      <td>14.908529</td>\n",
       "      <td>3.846732</td>\n",
       "      <td>10.818909</td>\n",
       "      <td>10.799823</td>\n",
       "      <td>10.841156</td>\n",
       "      <td>0.354421</td>\n",
       "    </tr>\n",
       "    <tr>\n",
       "      <th>min</th>\n",
       "      <td>28.000000</td>\n",
       "      <td>5.000000</td>\n",
       "      <td>NaN</td>\n",
       "      <td>5.000000</td>\n",
       "      <td>8.911330</td>\n",
       "      <td>1.192407</td>\n",
       "      <td>9.308914</td>\n",
       "      <td>0.009397</td>\n",
       "      <td>0.025824</td>\n",
       "      <td>0.025058</td>\n",
       "      <td>...</td>\n",
       "      <td>149.000000</td>\n",
       "      <td>1.414214</td>\n",
       "      <td>16.901961</td>\n",
       "      <td>16.901961</td>\n",
       "      <td>16.901961</td>\n",
       "      <td>0.001397</td>\n",
       "      <td>0.000000</td>\n",
       "      <td>0.000000</td>\n",
       "      <td>0.000000</td>\n",
       "      <td>0.000000</td>\n",
       "    </tr>\n",
       "    <tr>\n",
       "      <th>25%</th>\n",
       "      <td>4625.500000</td>\n",
       "      <td>31.500000</td>\n",
       "      <td>NaN</td>\n",
       "      <td>100.000000</td>\n",
       "      <td>9.742191</td>\n",
       "      <td>7.915176</td>\n",
       "      <td>9.958909</td>\n",
       "      <td>0.058280</td>\n",
       "      <td>0.581953</td>\n",
       "      <td>0.549232</td>\n",
       "      <td>...</td>\n",
       "      <td>1174.000000</td>\n",
       "      <td>2.883132</td>\n",
       "      <td>73.836080</td>\n",
       "      <td>73.813099</td>\n",
       "      <td>74.208221</td>\n",
       "      <td>0.042411</td>\n",
       "      <td>0.000000</td>\n",
       "      <td>0.000000</td>\n",
       "      <td>0.000000</td>\n",
       "      <td>0.000000</td>\n",
       "    </tr>\n",
       "    <tr>\n",
       "      <th>50%</th>\n",
       "      <td>11062.500000</td>\n",
       "      <td>71.000000</td>\n",
       "      <td>NaN</td>\n",
       "      <td>100.000000</td>\n",
       "      <td>9.842358</td>\n",
       "      <td>9.110799</td>\n",
       "      <td>10.390700</td>\n",
       "      <td>0.284061</td>\n",
       "      <td>0.806866</td>\n",
       "      <td>0.779469</td>\n",
       "      <td>...</td>\n",
       "      <td>3644.000000</td>\n",
       "      <td>3.027650</td>\n",
       "      <td>84.564413</td>\n",
       "      <td>84.564413</td>\n",
       "      <td>85.241424</td>\n",
       "      <td>1.006611</td>\n",
       "      <td>1.250000</td>\n",
       "      <td>1.250000</td>\n",
       "      <td>1.250000</td>\n",
       "      <td>0.000000</td>\n",
       "    </tr>\n",
       "    <tr>\n",
       "      <th>75%</th>\n",
       "      <td>17537.000000</td>\n",
       "      <td>156.750000</td>\n",
       "      <td>NaN</td>\n",
       "      <td>100.000000</td>\n",
       "      <td>10.008767</td>\n",
       "      <td>9.691861</td>\n",
       "      <td>12.126513</td>\n",
       "      <td>1.104878</td>\n",
       "      <td>0.946428</td>\n",
       "      <td>0.940906</td>\n",
       "      <td>...</td>\n",
       "      <td>12995.000000</td>\n",
       "      <td>4.271862</td>\n",
       "      <td>89.742060</td>\n",
       "      <td>89.741636</td>\n",
       "      <td>89.747152</td>\n",
       "      <td>2.139862</td>\n",
       "      <td>8.000000</td>\n",
       "      <td>8.000000</td>\n",
       "      <td>8.000000</td>\n",
       "      <td>0.063264</td>\n",
       "    </tr>\n",
       "    <tr>\n",
       "      <th>max</th>\n",
       "      <td>21996.000000</td>\n",
       "      <td>658.000000</td>\n",
       "      <td>NaN</td>\n",
       "      <td>100.000000</td>\n",
       "      <td>13.243197</td>\n",
       "      <td>10.192829</td>\n",
       "      <td>52.084252</td>\n",
       "      <td>9.028410</td>\n",
       "      <td>0.999406</td>\n",
       "      <td>0.999007</td>\n",
       "      <td>...</td>\n",
       "      <td>33345.000000</td>\n",
       "      <td>5.656854</td>\n",
       "      <td>90.308734</td>\n",
       "      <td>90.308734</td>\n",
       "      <td>90.308734</td>\n",
       "      <td>26.835546</td>\n",
       "      <td>48.000000</td>\n",
       "      <td>47.750000</td>\n",
       "      <td>48.250000</td>\n",
       "      <td>1.603236</td>\n",
       "    </tr>\n",
       "  </tbody>\n",
       "</table>\n",
       "<p>8 rows × 68 columns</p>\n",
       "</div>"
      ],
      "text/plain": [
       "                 id        time  activityrecognition_0  activityrecognition_1  \\\n",
       "count    150.000000  150.000000                    0.0             150.000000   \n",
       "mean   10866.293333  123.046667                    NaN              91.033333   \n",
       "std     6954.896878  132.018116                    NaN              21.564144   \n",
       "min       28.000000    5.000000                    NaN               5.000000   \n",
       "25%     4625.500000   31.500000                    NaN             100.000000   \n",
       "50%    11062.500000   71.000000                    NaN             100.000000   \n",
       "75%    17537.000000  156.750000                    NaN             100.000000   \n",
       "max    21996.000000  658.000000                    NaN             100.000000   \n",
       "\n",
       "       android_sensor_accelerometer_mean  android_sensor_accelerometer_min  \\\n",
       "count                         150.000000                        150.000000   \n",
       "mean                            9.967002                          8.385486   \n",
       "std                             0.658518                          1.969363   \n",
       "min                             8.911330                          1.192407   \n",
       "25%                             9.742191                          7.915176   \n",
       "50%                             9.842358                          9.110799   \n",
       "75%                            10.008767                          9.691861   \n",
       "max                            13.243197                         10.192829   \n",
       "\n",
       "       android_sensor_accelerometer_max  android_sensor_accelerometer_std  \\\n",
       "count                        150.000000                        150.000000   \n",
       "mean                          12.412860                          1.006674   \n",
       "std                            5.807926                          1.696882   \n",
       "min                            9.308914                          0.009397   \n",
       "25%                            9.958909                          0.058280   \n",
       "50%                           10.390700                          0.284061   \n",
       "75%                           12.126513                          1.104878   \n",
       "max                           52.084252                          9.028410   \n",
       "\n",
       "       android_sensor_game_rotation_vector_mean  \\\n",
       "count                                132.000000   \n",
       "mean                                   0.716875   \n",
       "std                                    0.281262   \n",
       "min                                    0.025824   \n",
       "25%                                    0.581953   \n",
       "50%                                    0.806866   \n",
       "75%                                    0.946428   \n",
       "max                                    0.999406   \n",
       "\n",
       "       android_sensor_game_rotation_vector_min  ...  \\\n",
       "count                               132.000000  ...   \n",
       "mean                                  0.697041  ...   \n",
       "std                                   0.284938  ...   \n",
       "min                                   0.025058  ...   \n",
       "25%                                   0.549232  ...   \n",
       "50%                                   0.779469  ...   \n",
       "75%                                   0.940906  ...   \n",
       "max                                   0.999007  ...   \n",
       "\n",
       "       android_sensor_step_counter_max  android_sensor_step_counter_std  \\\n",
       "count                        37.000000                         7.000000   \n",
       "mean                      10005.459459                         3.486958   \n",
       "std                       12115.201827                         1.422315   \n",
       "min                         149.000000                         1.414214   \n",
       "25%                        1174.000000                         2.883132   \n",
       "50%                        3644.000000                         3.027650   \n",
       "75%                       12995.000000                         4.271862   \n",
       "max                       33345.000000                         5.656854   \n",
       "\n",
       "       sound_mean   sound_min   sound_max  sound_std  speed_mean  speed_min  \\\n",
       "count  119.000000  119.000000  119.000000  99.000000   93.000000  93.000000   \n",
       "mean    79.050238   78.765940   79.335875   2.111881    6.331092   6.311983   \n",
       "std     14.932529   15.168280   14.908529   3.846732   10.818909  10.799823   \n",
       "min     16.901961   16.901961   16.901961   0.001397    0.000000   0.000000   \n",
       "25%     73.836080   73.813099   74.208221   0.042411    0.000000   0.000000   \n",
       "50%     84.564413   84.564413   85.241424   1.006611    1.250000   1.250000   \n",
       "75%     89.742060   89.741636   89.747152   2.139862    8.000000   8.000000   \n",
       "max     90.308734   90.308734   90.308734  26.835546   48.000000  47.750000   \n",
       "\n",
       "       speed_max  speed_std  \n",
       "count  93.000000  37.000000  \n",
       "mean    6.349367   0.138402  \n",
       "std    10.841156   0.354421  \n",
       "min     0.000000   0.000000  \n",
       "25%     0.000000   0.000000  \n",
       "50%     1.250000   0.000000  \n",
       "75%     8.000000   0.063264  \n",
       "max    48.250000   1.603236  \n",
       "\n",
       "[8 rows x 68 columns]"
      ]
     },
     "execution_count": 88,
     "metadata": {},
     "output_type": "execute_result"
    }
   ],
   "source": [
    "test.describe()"
   ]
  },
  {
   "cell_type": "code",
   "execution_count": 89,
   "metadata": {
    "cell_id": "00022-e8a67eb4-5c8f-432d-b247-a0c236c3861a",
    "deepnote_cell_type": "code",
    "deepnote_to_be_reexecuted": false,
    "execution_millis": 47,
    "execution_start": 1621269304175,
    "source_hash": "907b736e",
    "tags": []
   },
   "outputs": [
    {
     "data": {
      "text/plain": [
       "855     30.048038\n",
       "4783     1.010432\n",
       "3810     5.887235\n",
       "4184    30.048038\n",
       "848      5.887235\n",
       "          ...    \n",
       "199      0.227463\n",
       "4389     8.536573\n",
       "60       0.227463\n",
       "1997     1.010432\n",
       "1028     5.887235\n",
       "Name: speed_mean, Length: 150, dtype: float64"
      ]
     },
     "execution_count": 89,
     "metadata": {},
     "output_type": "execute_result"
    }
   ],
   "source": [
    "test.groupby('target')['speed_mean'].transform(\"mean\")"
   ]
  },
  {
   "cell_type": "markdown",
   "metadata": {
    "cell_id": "00023-cf5df3cc-679c-4439-86c6-292260de0ada",
    "deepnote_cell_type": "text-cell-h2",
    "tags": []
   },
   "source": [
    "## Save dataframe"
   ]
  },
  {
   "cell_type": "code",
   "execution_count": 90,
   "metadata": {
    "cell_id": "00023-9409f471-8260-4dcd-97d5-625ccc82e673",
    "deepnote_cell_type": "code",
    "deepnote_to_be_reexecuted": false,
    "execution_millis": 261,
    "execution_start": 1621269305615,
    "source_hash": "e3c860e0",
    "tags": []
   },
   "outputs": [],
   "source": [
    "new_df.to_csv('data_selected_feature.csv', index = False)"
   ]
  },
  {
   "cell_type": "code",
   "execution_count": null,
   "metadata": {
    "cell_id": "00025-0144c452-7cf6-494f-882a-e3e045c0a842",
    "deepnote_cell_type": "code",
    "tags": []
   },
   "outputs": [],
   "source": []
  },
  {
   "cell_type": "markdown",
   "metadata": {
    "created_in_deepnote_cell": true,
    "deepnote_cell_type": "markdown",
    "tags": []
   },
   "source": [
    "<a style='text-decoration:none;line-height:16px;display:flex;color:#5B5B62;padding:10px;justify-content:end;' href='https://deepnote.com?utm_source=created-in-deepnote-cell&projectId=3e7089f3-11a5-48ad-89c4-39a166311a14' target=\"_blank\">\n",
    "<img alt='Created in deepnote.com' style='display:inline;max-height:16px;margin:0px;margin-right:7.5px;' src='data:image/svg+xml;base64,PD94bWwgdmVyc2lvbj0iMS4wIiBlbmNvZGluZz0iVVRGLTgiPz4KPHN2ZyB3aWR0aD0iODBweCIgaGVpZ2h0PSI4MHB4IiB2aWV3Qm94PSIwIDAgODAgODAiIHZlcnNpb249IjEuMSIgeG1sbnM9Imh0dHA6Ly93d3cudzMub3JnLzIwMDAvc3ZnIiB4bWxuczp4bGluaz0iaHR0cDovL3d3dy53My5vcmcvMTk5OS94bGluayI+CiAgICA8IS0tIEdlbmVyYXRvcjogU2tldGNoIDU0LjEgKDc2NDkwKSAtIGh0dHBzOi8vc2tldGNoYXBwLmNvbSAtLT4KICAgIDx0aXRsZT5Hcm91cCAzPC90aXRsZT4KICAgIDxkZXNjPkNyZWF0ZWQgd2l0aCBTa2V0Y2guPC9kZXNjPgogICAgPGcgaWQ9IkxhbmRpbmciIHN0cm9rZT0ibm9uZSIgc3Ryb2tlLXdpZHRoPSIxIiBmaWxsPSJub25lIiBmaWxsLXJ1bGU9ImV2ZW5vZGQiPgogICAgICAgIDxnIGlkPSJBcnRib2FyZCIgdHJhbnNmb3JtPSJ0cmFuc2xhdGUoLTEyMzUuMDAwMDAwLCAtNzkuMDAwMDAwKSI+CiAgICAgICAgICAgIDxnIGlkPSJHcm91cC0zIiB0cmFuc2Zvcm09InRyYW5zbGF0ZSgxMjM1LjAwMDAwMCwgNzkuMDAwMDAwKSI+CiAgICAgICAgICAgICAgICA8cG9seWdvbiBpZD0iUGF0aC0yMCIgZmlsbD0iIzAyNjVCNCIgcG9pbnRzPSIyLjM3NjIzNzYyIDgwIDM4LjA0NzY2NjcgODAgNTcuODIxNzgyMiA3My44MDU3NTkyIDU3LjgyMTc4MjIgMzIuNzU5MjczOSAzOS4xNDAyMjc4IDMxLjY4MzE2ODMiPjwvcG9seWdvbj4KICAgICAgICAgICAgICAgIDxwYXRoIGQ9Ik0zNS4wMDc3MTgsODAgQzQyLjkwNjIwMDcsNzYuNDU0OTM1OCA0Ny41NjQ5MTY3LDcxLjU0MjI2NzEgNDguOTgzODY2LDY1LjI2MTk5MzkgQzUxLjExMjI4OTksNTUuODQxNTg0MiA0MS42NzcxNzk1LDQ5LjIxMjIyODQgMjUuNjIzOTg0Niw0OS4yMTIyMjg0IEMyNS40ODQ5Mjg5LDQ5LjEyNjg0NDggMjkuODI2MTI5Niw0My4yODM4MjQ4IDM4LjY0NzU4NjksMzEuNjgzMTY4MyBMNzIuODcxMjg3MSwzMi41NTQ0MjUgTDY1LjI4MDk3Myw2Ny42NzYzNDIxIEw1MS4xMTIyODk5LDc3LjM3NjE0NCBMMzUuMDA3NzE4LDgwIFoiIGlkPSJQYXRoLTIyIiBmaWxsPSIjMDAyODY4Ij48L3BhdGg+CiAgICAgICAgICAgICAgICA8cGF0aCBkPSJNMCwzNy43MzA0NDA1IEwyNy4xMTQ1MzcsMC4yNTcxMTE0MzYgQzYyLjM3MTUxMjMsLTEuOTkwNzE3MDEgODAsMTAuNTAwMzkyNyA4MCwzNy43MzA0NDA1IEM4MCw2NC45NjA0ODgyIDY0Ljc3NjUwMzgsNzkuMDUwMzQxNCAzNC4zMjk1MTEzLDgwIEM0Ny4wNTUzNDg5LDc3LjU2NzA4MDggNTMuNDE4MjY3Nyw3MC4zMTM2MTAzIDUzLjQxODI2NzcsNTguMjM5NTg4NSBDNTMuNDE4MjY3Nyw0MC4xMjg1NTU3IDM2LjMwMzk1NDQsMzcuNzMwNDQwNSAyNS4yMjc0MTcsMzcuNzMwNDQwNSBDMTcuODQzMDU4NiwzNy43MzA0NDA1IDkuNDMzOTE5NjYsMzcuNzMwNDQwNSAwLDM3LjczMDQ0MDUgWiIgaWQ9IlBhdGgtMTkiIGZpbGw9IiMzNzkzRUYiPjwvcGF0aD4KICAgICAgICAgICAgPC9nPgogICAgICAgIDwvZz4KICAgIDwvZz4KPC9zdmc+' > </img>\n",
    "Created in <span style='font-weight:600;margin-left:4px;'>Deepnote</span></a>"
   ]
  }
 ],
 "metadata": {
  "deepnote": {
   "is_reactive": false
  },
  "deepnote_execution_queue": [],
  "deepnote_notebook_id": "21b9b746-6fc2-4f38-a514-a5c2e6b4b403",
  "hide_input": false,
  "kernelspec": {
   "display_name": "Python 3",
   "language": "python",
   "name": "python3"
  },
  "language_info": {
   "codemirror_mode": {
    "name": "ipython",
    "version": 3
   },
   "file_extension": ".py",
   "mimetype": "text/x-python",
   "name": "python",
   "nbconvert_exporter": "python",
   "pygments_lexer": "ipython3",
   "version": "3.8.2"
  },
  "toc": {
   "base_numbering": 1,
   "nav_menu": {},
   "number_sections": true,
   "sideBar": true,
   "skip_h1_title": false,
   "title_cell": "Table of Contents",
   "title_sidebar": "Contents",
   "toc_cell": false,
   "toc_position": {},
   "toc_section_display": true,
   "toc_window_display": false
  },
  "varInspector": {
   "cols": {
    "lenName": 16,
    "lenType": 16,
    "lenVar": 40
   },
   "kernels_config": {
    "python": {
     "delete_cmd_postfix": "",
     "delete_cmd_prefix": "del ",
     "library": "var_list.py",
     "varRefreshCmd": "print(var_dic_list())"
    },
    "r": {
     "delete_cmd_postfix": ") ",
     "delete_cmd_prefix": "rm(",
     "library": "var_list.r",
     "varRefreshCmd": "cat(var_dic_list()) "
    }
   },
   "types_to_exclude": [
    "module",
    "function",
    "builtin_function_or_method",
    "instance",
    "_Feature"
   ],
   "window_display": false
  }
 },
 "nbformat": 4,
 "nbformat_minor": 2
}
