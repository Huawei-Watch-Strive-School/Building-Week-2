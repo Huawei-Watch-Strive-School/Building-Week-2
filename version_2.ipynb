{
 "cells": [
  {
   "cell_type": "code",
   "execution_count": 1,
   "id": "1c774f0f",
   "metadata": {
    "ExecuteTime": {
     "end_time": "2021-05-21T02:09:08.600897Z",
     "start_time": "2021-05-21T02:09:07.044740Z"
    },
    "cell_id": "00000-8c7c8fca-1c70-4587-91f3-3db57bfd28d0",
    "deepnote_cell_type": "code",
    "deepnote_to_be_reexecuted": false,
    "execution_millis": 5,
    "execution_start": 1621413648486,
    "source_hash": "570c8184"
   },
   "outputs": [
    {
     "name": "stdout",
     "output_type": "stream",
     "text": [
      "Pandas   1.2.4\n",
      "Sklearn  0.24.2\n"
     ]
    }
   ],
   "source": [
    "import time\n",
    "from IPython.display import clear_output\n",
    "import numpy    as np\n",
    "import pandas   as pd\n",
    "\n",
    "import optuna\n",
    "from random import shuffle\n",
    "from sklearn.decomposition import PCA\n",
    "from sklearn.metrics import classification_report,confusion_matrix\n",
    "from sklearn.ensemble import RandomForestClassifier,GradientBoostingClassifier\n",
    "from sklearn.pipeline import Pipeline ,make_pipeline\n",
    "from sklearn import impute\n",
    "from sklearn import compose\n",
    "from sklearn.model_selection import train_test_split,cross_val_score\n",
    "from sklearn.metrics import accuracy_score, balanced_accuracy_score, plot_confusion_matrix,roc_auc_score\n",
    "from sklearn import set_config\n",
    "import warnings\n",
    "warnings.filterwarnings('ignore')\n",
    "from sklearn.preprocessing import MinMaxScaler,Normalizer,PowerTransformer,QuantileTransformer, RobustScaler,StandardScaler,LabelEncoder, OneHotEncoder,OrdinalEncoder\n",
    "from sklearn.tree          import DecisionTreeClassifier\n",
    "from sklearn.linear_model  import LogisticRegression    \n",
    "from xgboost               import XGBClassifier\n",
    "from lightgbm              import LGBMClassifier\n",
    "from sklearn.neighbors import KNeighborsClassifier\n",
    "from sklearn.naive_bayes import GaussianNB\n",
    "import sklearn\n",
    "set_config(display='diagram') # Useful for display the pipeline\n",
    "print(\"Pandas  \", pd.__version__)\n",
    "print(\"Sklearn \", sklearn.__version__) # Try to use 0.24\n",
    "\n"
   ]
  },
  {
   "cell_type": "code",
   "execution_count": 11,
   "id": "341b1505",
   "metadata": {
    "ExecuteTime": {
     "end_time": "2021-05-21T02:11:06.942889Z",
     "start_time": "2021-05-21T02:11:06.863660Z"
    },
    "cell_id": "00001-06e6221d-0730-4e01-9045-bce276c93090",
    "deepnote_cell_type": "code",
    "deepnote_to_be_reexecuted": false,
    "execution_millis": 165,
    "execution_start": 1621413555476,
    "source_hash": "31454d99"
   },
   "outputs": [],
   "source": [
    "data = pd.read_csv('./data/data_5secondWindow .csv')"
   ]
  },
  {
   "cell_type": "code",
   "execution_count": null,
   "id": "725906f0",
   "metadata": {
    "ExecuteTime": {
     "end_time": "2021-05-20T19:03:16.813469Z",
     "start_time": "2021-05-20T19:03:16.517158Z"
    },
    "scrolled": true
   },
   "outputs": [],
   "source": [
    "data.describe()"
   ]
  },
  {
   "cell_type": "code",
   "execution_count": null,
   "id": "95ab423d",
   "metadata": {
    "ExecuteTime": {
     "end_time": "2021-05-20T17:52:24.050518Z",
     "start_time": "2021-05-20T17:52:24.037100Z"
    }
   },
   "outputs": [],
   "source": [
    "data.groupby('target').size()"
   ]
  },
  {
   "cell_type": "code",
   "execution_count": 12,
   "id": "f2aa5eda",
   "metadata": {
    "ExecuteTime": {
     "end_time": "2021-05-21T02:11:10.452175Z",
     "start_time": "2021-05-21T02:11:10.417722Z"
    }
   },
   "outputs": [],
   "source": [
    "def change_name(df):\n",
    "    column_names=[]\n",
    "    for i in df.columns:\n",
    "        k=i.replace('.','_').replace(\"#\",'_')\n",
    "        df.rename(columns = {i:k}, inplace = True)\n",
    "    return df\n",
    "data=change_name(data)"
   ]
  },
  {
   "cell_type": "code",
   "execution_count": 19,
   "id": "a75d4c9a",
   "metadata": {
    "ExecuteTime": {
     "end_time": "2021-05-21T02:11:49.884457Z",
     "start_time": "2021-05-21T02:11:49.875169Z"
    }
   },
   "outputs": [],
   "source": [
    "data=data[data['target']!='Bus']\n",
    "data=data[data['target']!='Train']"
   ]
  },
  {
   "cell_type": "code",
   "execution_count": null,
   "id": "ac49865e",
   "metadata": {
    "ExecuteTime": {
     "end_time": "2021-05-20T19:03:22.367323Z",
     "start_time": "2021-05-20T19:03:22.360386Z"
    }
   },
   "outputs": [],
   "source": [
    "features=['android_sensor_gyroscope_mean',\n",
    "'android_sensor_accelerometer_std',\n",
    "'android_sensor_gyroscope_uncalibrated_mean',\n",
    "'android_sensor_linear_acceleration_mean',\n",
    "'android_sensor_gyroscope_uncalibrated_max',\n",
    "'android_sensor_gyroscope_max',\n",
    "'speed_max'  ,  \n",
    "'android_sensor_rotation_vector_mean'   ,\n",
    "'android_sensor_accelerometer_min',\n",
    "'android_sensor_magnetic_field_uncalibrated_min',\n",
    "'sound_min',\n",
    "'target',\n",
    "'user']"
   ]
  },
  {
   "cell_type": "code",
   "execution_count": null,
   "id": "75d8f22d",
   "metadata": {
    "ExecuteTime": {
     "end_time": "2021-05-20T19:03:25.132308Z",
     "start_time": "2021-05-20T19:03:25.126648Z"
    }
   },
   "outputs": [],
   "source": [
    "# data=data[features]"
   ]
  },
  {
   "cell_type": "code",
   "execution_count": 20,
   "id": "283b2327",
   "metadata": {
    "ExecuteTime": {
     "end_time": "2021-05-21T02:11:51.854088Z",
     "start_time": "2021-05-21T02:11:51.849741Z"
    }
   },
   "outputs": [],
   "source": [
    "# create test data from some user \n",
    "def split_data(df):\n",
    "    l=df.user.unique().tolist()\n",
    "    # create random list of indi\n",
    "    shuffle(l)\n",
    "    train_user=l[2:]\n",
    "    test_user=l[:2]\n",
    "    # get splitting indicies\n",
    "#     train=data[data['user'].isin(train_user)]\n",
    "#     test = data[data['user'].isin(test_user)]\n",
    "    train=df[df['user']!='IvanHeibi']\n",
    "    test=df[df['user']=='IvanHeibi'] \n",
    "    return train, test"
   ]
  },
  {
   "cell_type": "code",
   "execution_count": 21,
   "id": "dca72c91",
   "metadata": {
    "ExecuteTime": {
     "end_time": "2021-05-21T02:11:53.812325Z",
     "start_time": "2021-05-21T02:11:53.803223Z"
    }
   },
   "outputs": [],
   "source": [
    "df_train,df_test=split_data(data)\n"
   ]
  },
  {
   "cell_type": "code",
   "execution_count": 22,
   "id": "01585afb",
   "metadata": {
    "ExecuteTime": {
     "end_time": "2021-05-21T02:11:54.549163Z",
     "start_time": "2021-05-21T02:11:54.533470Z"
    }
   },
   "outputs": [
    {
     "name": "stdout",
     "output_type": "stream",
     "text": [
      "There are 8 columns with more than 75% missing values\n"
     ]
    }
   ],
   "source": [
    "train_missing = (df_train.isnull().sum() / len(df_train)).sort_values(ascending = False)\n",
    "test_missing = (df_test.isnull().sum() / len(df_test)).sort_values(ascending = False)\n",
    "\n",
    "train_missing = train_missing.index[train_missing > 0.75]\n",
    "test_missing = test_missing.index[test_missing > 0.75]\n",
    "\n",
    "all_missing = list(set(set(train_missing) | set(test_missing)))\n",
    "print('There are %d columns with more than 75%% missing values' % len(all_missing))"
   ]
  },
  {
   "cell_type": "code",
   "execution_count": 23,
   "id": "bb7b0935",
   "metadata": {
    "ExecuteTime": {
     "end_time": "2021-05-21T02:11:56.117817Z",
     "start_time": "2021-05-21T02:11:56.109429Z"
    }
   },
   "outputs": [],
   "source": [
    "# Drop missing data \n",
    "df_train = df_train.drop(all_missing,axis=1)\n",
    "df_test  = df_test.drop(all_missing,axis=1)\n"
   ]
  },
  {
   "cell_type": "code",
   "execution_count": 24,
   "id": "f6a123ae",
   "metadata": {
    "ExecuteTime": {
     "end_time": "2021-05-21T02:11:57.458963Z",
     "start_time": "2021-05-21T02:11:57.452343Z"
    }
   },
   "outputs": [],
   "source": [
    "unimp    = ['user','id','time']\n",
    "df_train = df_train.drop(unimp,axis=1)\n",
    "df_test  = df_test.drop(unimp,axis=1)"
   ]
  },
  {
   "cell_type": "code",
   "execution_count": 25,
   "id": "9eb621de",
   "metadata": {
    "ExecuteTime": {
     "end_time": "2021-05-21T02:11:58.693054Z",
     "start_time": "2021-05-21T02:11:58.688948Z"
    }
   },
   "outputs": [
    {
     "name": "stdout",
     "output_type": "stream",
     "text": [
      "(3265, 59)\n",
      "(271, 59)\n"
     ]
    }
   ],
   "source": [
    "print(df_train.shape)\n",
    "print(df_test.shape)"
   ]
  },
  {
   "cell_type": "code",
   "execution_count": 26,
   "id": "39653391",
   "metadata": {
    "ExecuteTime": {
     "end_time": "2021-05-21T02:12:00.102620Z",
     "start_time": "2021-05-21T02:12:00.090785Z"
    }
   },
   "outputs": [],
   "source": [
    "X=df_train.drop('target',axis=1)\n",
    "y=df_train.target\n",
    "X_test=df_test.drop('target',axis=1)\n",
    "y_test=df_test.target"
   ]
  },
  {
   "cell_type": "code",
   "execution_count": 27,
   "id": "39edca24",
   "metadata": {
    "ExecuteTime": {
     "end_time": "2021-05-21T02:12:01.379149Z",
     "start_time": "2021-05-21T02:12:01.375178Z"
    },
    "code_folding": []
   },
   "outputs": [],
   "source": [
    "# pipline and PcA\n",
    "# pca=PCA(n_components=15)\n",
    "# scaler=StandardScaler()\n",
    "# encoder = LabelEncoder()\n",
    "# onecoder=OneHotEncoder()\n",
    "num_var=X.columns.to_list()\n",
    "num_pip=Pipeline([('imputer',impute.SimpleImputer(strategy='mean')),\n",
    "                   ('scalar',MinMaxScaler(feature_range=(0,20))),\n",
    "                   ('PCA' ,PCA(n_components = 'mle' , svd_solver = 'full'))\n",
    "               ]) \n",
    "preprocessor=compose.ColumnTransformer([\n",
    "    ('num',num_pip,num_var)\n",
    "])"
   ]
  },
  {
   "cell_type": "code",
   "execution_count": null,
   "id": "d15d3b55",
   "metadata": {
    "ExecuteTime": {
     "end_time": "2021-05-20T17:17:14.171748Z",
     "start_time": "2021-05-20T17:17:14.166692Z"
    }
   },
   "outputs": [],
   "source": [
    "# X_sc=preprocessor.fit_transform(X)\n",
    "# X_test_sc=preprocessor.fit_transform(X_test)\n",
    "# X_sc = pd.DataFrame(X_sc, columns=X.columns)\n",
    "# X_test_sc = pd.DataFrame(X_test_sc, columns=X_test.columns)"
   ]
  },
  {
   "cell_type": "code",
   "execution_count": null,
   "id": "182957c3",
   "metadata": {
    "ExecuteTime": {
     "end_time": "2021-05-20T14:49:07.977762Z",
     "start_time": "2021-05-20T14:49:07.975390Z"
    }
   },
   "outputs": [],
   "source": [
    "# y_train = np.reshape(y_train, (y_train.shape[0]))\n",
    "# y_test = np.reshape(y_test, (y_test.shape[0]))"
   ]
  },
  {
   "cell_type": "code",
   "execution_count": 28,
   "id": "a03dae39",
   "metadata": {
    "ExecuteTime": {
     "end_time": "2021-05-21T02:12:04.685223Z",
     "start_time": "2021-05-21T02:12:04.624345Z"
    }
   },
   "outputs": [
    {
     "data": {
      "text/html": [
       "<style>#sk-67959d5b-4d34-45b2-920f-3ddfea3970f0 {color: black;background-color: white;}#sk-67959d5b-4d34-45b2-920f-3ddfea3970f0 pre{padding: 0;}#sk-67959d5b-4d34-45b2-920f-3ddfea3970f0 div.sk-toggleable {background-color: white;}#sk-67959d5b-4d34-45b2-920f-3ddfea3970f0 label.sk-toggleable__label {cursor: pointer;display: block;width: 100%;margin-bottom: 0;padding: 0.2em 0.3em;box-sizing: border-box;text-align: center;}#sk-67959d5b-4d34-45b2-920f-3ddfea3970f0 div.sk-toggleable__content {max-height: 0;max-width: 0;overflow: hidden;text-align: left;background-color: #f0f8ff;}#sk-67959d5b-4d34-45b2-920f-3ddfea3970f0 div.sk-toggleable__content pre {margin: 0.2em;color: black;border-radius: 0.25em;background-color: #f0f8ff;}#sk-67959d5b-4d34-45b2-920f-3ddfea3970f0 input.sk-toggleable__control:checked~div.sk-toggleable__content {max-height: 200px;max-width: 100%;overflow: auto;}#sk-67959d5b-4d34-45b2-920f-3ddfea3970f0 div.sk-estimator input.sk-toggleable__control:checked~label.sk-toggleable__label {background-color: #d4ebff;}#sk-67959d5b-4d34-45b2-920f-3ddfea3970f0 div.sk-label input.sk-toggleable__control:checked~label.sk-toggleable__label {background-color: #d4ebff;}#sk-67959d5b-4d34-45b2-920f-3ddfea3970f0 input.sk-hidden--visually {border: 0;clip: rect(1px 1px 1px 1px);clip: rect(1px, 1px, 1px, 1px);height: 1px;margin: -1px;overflow: hidden;padding: 0;position: absolute;width: 1px;}#sk-67959d5b-4d34-45b2-920f-3ddfea3970f0 div.sk-estimator {font-family: monospace;background-color: #f0f8ff;margin: 0.25em 0.25em;border: 1px dotted black;border-radius: 0.25em;box-sizing: border-box;}#sk-67959d5b-4d34-45b2-920f-3ddfea3970f0 div.sk-estimator:hover {background-color: #d4ebff;}#sk-67959d5b-4d34-45b2-920f-3ddfea3970f0 div.sk-parallel-item::after {content: \"\";width: 100%;border-bottom: 1px solid gray;flex-grow: 1;}#sk-67959d5b-4d34-45b2-920f-3ddfea3970f0 div.sk-label:hover label.sk-toggleable__label {background-color: #d4ebff;}#sk-67959d5b-4d34-45b2-920f-3ddfea3970f0 div.sk-serial::before {content: \"\";position: absolute;border-left: 1px solid gray;box-sizing: border-box;top: 2em;bottom: 0;left: 50%;}#sk-67959d5b-4d34-45b2-920f-3ddfea3970f0 div.sk-serial {display: flex;flex-direction: column;align-items: center;background-color: white;}#sk-67959d5b-4d34-45b2-920f-3ddfea3970f0 div.sk-item {z-index: 1;}#sk-67959d5b-4d34-45b2-920f-3ddfea3970f0 div.sk-parallel {display: flex;align-items: stretch;justify-content: center;background-color: white;}#sk-67959d5b-4d34-45b2-920f-3ddfea3970f0 div.sk-parallel-item {display: flex;flex-direction: column;position: relative;background-color: white;}#sk-67959d5b-4d34-45b2-920f-3ddfea3970f0 div.sk-parallel-item:first-child::after {align-self: flex-end;width: 50%;}#sk-67959d5b-4d34-45b2-920f-3ddfea3970f0 div.sk-parallel-item:last-child::after {align-self: flex-start;width: 50%;}#sk-67959d5b-4d34-45b2-920f-3ddfea3970f0 div.sk-parallel-item:only-child::after {width: 0;}#sk-67959d5b-4d34-45b2-920f-3ddfea3970f0 div.sk-dashed-wrapped {border: 1px dashed gray;margin: 0.2em;box-sizing: border-box;padding-bottom: 0.1em;background-color: white;position: relative;}#sk-67959d5b-4d34-45b2-920f-3ddfea3970f0 div.sk-label label {font-family: monospace;font-weight: bold;background-color: white;display: inline-block;line-height: 1.2em;}#sk-67959d5b-4d34-45b2-920f-3ddfea3970f0 div.sk-label-container {position: relative;z-index: 2;text-align: center;}#sk-67959d5b-4d34-45b2-920f-3ddfea3970f0 div.sk-container {display: inline-block;position: relative;}</style><div id=\"sk-67959d5b-4d34-45b2-920f-3ddfea3970f0\" class\"sk-top-container\"><div class=\"sk-container\"><div class=\"sk-item sk-dashed-wrapped\"><div class=\"sk-label-container\"><div class=\"sk-label sk-toggleable\"><input class=\"sk-toggleable__control sk-hidden--visually\" id=\"cc561131-04ed-4a2f-b25f-a87a5becded8\" type=\"checkbox\" ><label class=\"sk-toggleable__label\" for=\"cc561131-04ed-4a2f-b25f-a87a5becded8\">Pipeline</label><div class=\"sk-toggleable__content\"><pre>Pipeline(steps=[('columntransformer',\n",
       "                 ColumnTransformer(transformers=[('num',\n",
       "                                                  Pipeline(steps=[('imputer',\n",
       "                                                                   SimpleImputer()),\n",
       "                                                                  ('scalar',\n",
       "                                                                   MinMaxScaler(feature_range=(0,\n",
       "                                                                                               20))),\n",
       "                                                                  ('PCA',\n",
       "                                                                   PCA(n_components='mle',\n",
       "                                                                       svd_solver='full'))]),\n",
       "                                                  ['activityrecognition_1',\n",
       "                                                   'android_sensor_accelerometer_mean',\n",
       "                                                   'android_sensor_accelerometer_min',\n",
       "                                                   'android_sensor_accelerometer_max',\n",
       "                                                   '...\n",
       "                                                   'android_sensor_light_min',\n",
       "                                                   'android_sensor_light_max',\n",
       "                                                   'android_sensor_light_std',\n",
       "                                                   'android_sensor_linear_acceleration_mean',\n",
       "                                                   'android_sensor_linear_acceleration_min',\n",
       "                                                   'android_sensor_linear_acceleration_max',\n",
       "                                                   'android_sensor_linear_acceleration_std',\n",
       "                                                   'android_sensor_magnetic_field_mean', ...])])),\n",
       "                ('gradientboostingclassifier', GradientBoostingClassifier())])</pre></div></div></div><div class=\"sk-serial\"><div class=\"sk-item sk-dashed-wrapped\"><div class=\"sk-label-container\"><div class=\"sk-label sk-toggleable\"><input class=\"sk-toggleable__control sk-hidden--visually\" id=\"a8e23454-3e77-4286-b136-4b59cc55c96b\" type=\"checkbox\" ><label class=\"sk-toggleable__label\" for=\"a8e23454-3e77-4286-b136-4b59cc55c96b\">columntransformer: ColumnTransformer</label><div class=\"sk-toggleable__content\"><pre>ColumnTransformer(transformers=[('num',\n",
       "                                 Pipeline(steps=[('imputer', SimpleImputer()),\n",
       "                                                 ('scalar',\n",
       "                                                  MinMaxScaler(feature_range=(0,\n",
       "                                                                              20))),\n",
       "                                                 ('PCA',\n",
       "                                                  PCA(n_components='mle',\n",
       "                                                      svd_solver='full'))]),\n",
       "                                 ['activityrecognition_1',\n",
       "                                  'android_sensor_accelerometer_mean',\n",
       "                                  'android_sensor_accelerometer_min',\n",
       "                                  'android_sensor_accelerometer_max',\n",
       "                                  'android_sensor_accelerometer_std',\n",
       "                                  'an...\n",
       "                                  'android_sensor_gyroscope_uncalibrated_std',\n",
       "                                  'android_sensor_light_mean',\n",
       "                                  'android_sensor_light_min',\n",
       "                                  'android_sensor_light_max',\n",
       "                                  'android_sensor_light_std',\n",
       "                                  'android_sensor_linear_acceleration_mean',\n",
       "                                  'android_sensor_linear_acceleration_min',\n",
       "                                  'android_sensor_linear_acceleration_max',\n",
       "                                  'android_sensor_linear_acceleration_std',\n",
       "                                  'android_sensor_magnetic_field_mean', ...])])</pre></div></div></div><div class=\"sk-parallel\"><div class=\"sk-parallel-item\"><div class=\"sk-item\"><div class=\"sk-label-container\"><div class=\"sk-label sk-toggleable\"><input class=\"sk-toggleable__control sk-hidden--visually\" id=\"03cfbb55-435e-4dfd-8be5-240743c93b49\" type=\"checkbox\" ><label class=\"sk-toggleable__label\" for=\"03cfbb55-435e-4dfd-8be5-240743c93b49\">num</label><div class=\"sk-toggleable__content\"><pre>['activityrecognition_1', 'android_sensor_accelerometer_mean', 'android_sensor_accelerometer_min', 'android_sensor_accelerometer_max', 'android_sensor_accelerometer_std', 'android_sensor_game_rotation_vector_mean', 'android_sensor_game_rotation_vector_min', 'android_sensor_game_rotation_vector_max', 'android_sensor_game_rotation_vector_std', 'android_sensor_gravity_mean', 'android_sensor_gravity_min', 'android_sensor_gravity_max', 'android_sensor_gravity_std', 'android_sensor_gyroscope_mean', 'android_sensor_gyroscope_min', 'android_sensor_gyroscope_max', 'android_sensor_gyroscope_std', 'android_sensor_gyroscope_uncalibrated_mean', 'android_sensor_gyroscope_uncalibrated_min', 'android_sensor_gyroscope_uncalibrated_max', 'android_sensor_gyroscope_uncalibrated_std', 'android_sensor_light_mean', 'android_sensor_light_min', 'android_sensor_light_max', 'android_sensor_light_std', 'android_sensor_linear_acceleration_mean', 'android_sensor_linear_acceleration_min', 'android_sensor_linear_acceleration_max', 'android_sensor_linear_acceleration_std', 'android_sensor_magnetic_field_mean', 'android_sensor_magnetic_field_min', 'android_sensor_magnetic_field_max', 'android_sensor_magnetic_field_std', 'android_sensor_magnetic_field_uncalibrated_mean', 'android_sensor_magnetic_field_uncalibrated_min', 'android_sensor_magnetic_field_uncalibrated_max', 'android_sensor_magnetic_field_uncalibrated_std', 'android_sensor_orientation_mean', 'android_sensor_orientation_min', 'android_sensor_orientation_max', 'android_sensor_orientation_std', 'android_sensor_pressure_mean', 'android_sensor_pressure_min', 'android_sensor_pressure_max', 'android_sensor_rotation_vector_mean', 'android_sensor_rotation_vector_min', 'android_sensor_rotation_vector_max', 'android_sensor_rotation_vector_std', 'android_sensor_step_counter_mean', 'android_sensor_step_counter_min', 'android_sensor_step_counter_max', 'sound_mean', 'sound_min', 'sound_max', 'sound_std', 'speed_mean', 'speed_min', 'speed_max']</pre></div></div></div><div class=\"sk-serial\"><div class=\"sk-item\"><div class=\"sk-serial\"><div class=\"sk-item\"><div class=\"sk-estimator sk-toggleable\"><input class=\"sk-toggleable__control sk-hidden--visually\" id=\"483692f4-16e2-448c-a2c6-67b707ce0dfd\" type=\"checkbox\" ><label class=\"sk-toggleable__label\" for=\"483692f4-16e2-448c-a2c6-67b707ce0dfd\">SimpleImputer</label><div class=\"sk-toggleable__content\"><pre>SimpleImputer()</pre></div></div></div><div class=\"sk-item\"><div class=\"sk-estimator sk-toggleable\"><input class=\"sk-toggleable__control sk-hidden--visually\" id=\"10ae7f28-a188-4029-885f-be30ed20a73d\" type=\"checkbox\" ><label class=\"sk-toggleable__label\" for=\"10ae7f28-a188-4029-885f-be30ed20a73d\">MinMaxScaler</label><div class=\"sk-toggleable__content\"><pre>MinMaxScaler(feature_range=(0, 20))</pre></div></div></div><div class=\"sk-item\"><div class=\"sk-estimator sk-toggleable\"><input class=\"sk-toggleable__control sk-hidden--visually\" id=\"e979fd8c-f017-4cc7-9463-4f4fd907a197\" type=\"checkbox\" ><label class=\"sk-toggleable__label\" for=\"e979fd8c-f017-4cc7-9463-4f4fd907a197\">PCA</label><div class=\"sk-toggleable__content\"><pre>PCA(n_components='mle', svd_solver='full')</pre></div></div></div></div></div></div></div></div></div></div><div class=\"sk-item\"><div class=\"sk-estimator sk-toggleable\"><input class=\"sk-toggleable__control sk-hidden--visually\" id=\"3e9f1610-6654-4a93-8ed2-fdaf0463c5c7\" type=\"checkbox\" ><label class=\"sk-toggleable__label\" for=\"3e9f1610-6654-4a93-8ed2-fdaf0463c5c7\">GradientBoostingClassifier</label><div class=\"sk-toggleable__content\"><pre>GradientBoostingClassifier()</pre></div></div></div></div></div></div></div>"
      ],
      "text/plain": [
       "Pipeline(steps=[('columntransformer',\n",
       "                 ColumnTransformer(transformers=[('num',\n",
       "                                                  Pipeline(steps=[('imputer',\n",
       "                                                                   SimpleImputer()),\n",
       "                                                                  ('scalar',\n",
       "                                                                   MinMaxScaler(feature_range=(0,\n",
       "                                                                                               20))),\n",
       "                                                                  ('PCA',\n",
       "                                                                   PCA(n_components='mle',\n",
       "                                                                       svd_solver='full'))]),\n",
       "                                                  ['activityrecognition_1',\n",
       "                                                   'android_sensor_accelerometer_mean',\n",
       "                                                   'android_sensor_accelerometer_min',\n",
       "                                                   'android_sensor_accelerometer_max',\n",
       "                                                   '...\n",
       "                                                   'android_sensor_light_min',\n",
       "                                                   'android_sensor_light_max',\n",
       "                                                   'android_sensor_light_std',\n",
       "                                                   'android_sensor_linear_acceleration_mean',\n",
       "                                                   'android_sensor_linear_acceleration_min',\n",
       "                                                   'android_sensor_linear_acceleration_max',\n",
       "                                                   'android_sensor_linear_acceleration_std',\n",
       "                                                   'android_sensor_magnetic_field_mean', ...])])),\n",
       "                ('gradientboostingclassifier', GradientBoostingClassifier())])"
      ]
     },
     "execution_count": 28,
     "metadata": {},
     "output_type": "execute_result"
    }
   ],
   "source": [
    "models = {\n",
    "\"DecisionTreeClassifier\": DecisionTreeClassifier(),\n",
    "'KNeighborsClassifier':KNeighborsClassifier(6),\n",
    "'LogisticRegression':LogisticRegression(),\n",
    "\"RandomForestClassifier\":RandomForestClassifier(),\n",
    "\"GradientBoostingClassifier\":GradientBoostingClassifier(),\n",
    "\"XGBClassifier\":XGBClassifier(),\n",
    "\"LGBMClassifier\":LGBMClassifier(),\n",
    "'GaussianNB':GaussianNB(),\n",
    "\n",
    "}\n",
    "# make pipline with  preprocessing \n",
    "classifiers = {name:make_pipeline(preprocessor, model) for name, model in models.items()}\n",
    "classifiers[\"GradientBoostingClassifier\"]"
   ]
  },
  {
   "cell_type": "code",
   "execution_count": null,
   "id": "fe97feec",
   "metadata": {
    "ExecuteTime": {
     "end_time": "2021-05-21T02:03:47.531414Z",
     "start_time": "2021-05-21T02:03:03.166640Z"
    }
   },
   "outputs": [],
   "source": [
    "x_train, x_val, y_train, y_val = train_test_split(X, y,test_size=0.2,stratify = y,random_state=10 )\n",
    "results = pd.DataFrame({'Model': [], 'Accuracy': [], 'Bal Acc.': [],'Time': []})\n",
    "for  name ,model in classifiers.items():\n",
    "    start_time = time.time()\n",
    "    model.fit(x_train, y_train)\n",
    "    total_time = time.time() - start_time\n",
    "    valid_pred = model.predict(x_val)\n",
    "    results = results.append({\"Model\":    name,\n",
    "                              \"Accuracy\": accuracy_score(y_val, valid_pred)*100,\n",
    "                              \"Bal Acc.\": balanced_accuracy_score(y_val, valid_pred)*100,\n",
    "                    \n",
    "                              \"Time\":     total_time},\n",
    "                              ignore_index=True)\n",
    "results_ord = results.sort_values(by=['Accuracy'], ascending=False, ignore_index=True)\n",
    "results_ord.index += 1 \n",
    "results_ord.style.bar(subset=['Accuracy', 'Bal Acc.'], vmin=0, vmax=100, color='#5fba7d')"
   ]
  },
  {
   "cell_type": "code",
   "execution_count": null,
   "id": "52a07025",
   "metadata": {
    "ExecuteTime": {
     "end_time": "2021-05-21T02:08:02.753452Z",
     "start_time": "2021-05-21T02:08:02.746615Z"
    }
   },
   "outputs": [],
   "source": [
    "best_model=LGBMClassifier(max_depth= 28\n",
    ", n_estimators= 300, num_leaves=70,min_data_in_leaf=110,learning_rate= 0.069)\n",
    "name='LGBMClassifier'\n",
    "clf=Pipeline([('pre',preprocessor),('classification',best_model)])\n",
    "# 'boosting_type': 'gbdt', 'max_depth': 28, 'n_estimators': 388, 'learning_rate': 0.03432830269529964, 'min_data_in_leaf': 104"
   ]
  },
  {
   "cell_type": "code",
   "execution_count": null,
   "id": "2435f442",
   "metadata": {
    "ExecuteTime": {
     "end_time": "2021-05-21T02:08:23.849469Z",
     "start_time": "2021-05-21T02:08:03.811918Z"
    }
   },
   "outputs": [],
   "source": [
    "test_result = pd.DataFrame({'Model': [], 'Accuracy': [], 'Bal Acc.': [],'Time': []})\n",
    "start_time = time.time()\n",
    "best_model.fit(X, y)\n",
    "total_time = time.time() - start_time\n",
    "pred = best_model.predict(X_test)\n",
    "test_result = test_result.append({\"Model\":    name,\n",
    "                          \"Accuracy\": accuracy_score(y_test, pred)*100,\n",
    "                          \"Bal Acc.\": balanced_accuracy_score(y_test, pred)*100,\n",
    "                          \"Time\":     total_time},\n",
    "                          ignore_index=True)\n",
    "test_result_ord = test_result.sort_values(by=['Accuracy'], ascending=False, ignore_index=True)\n",
    "test_result_ord.index += 1 \n",
    "test_result_ord.style.bar(subset=['Accuracy', 'Bal Acc.'], vmin=0, vmax=100, color='#5fba7d')\n"
   ]
  },
  {
   "cell_type": "code",
   "execution_count": null,
   "id": "a90ffaf9",
   "metadata": {
    "ExecuteTime": {
     "end_time": "2021-05-20T19:05:55.237704Z",
     "start_time": "2021-05-20T19:05:55.209610Z"
    }
   },
   "outputs": [],
   "source": [
    "print(classification_report(y_test, pred))\n",
    "print()\n",
    "print(confusion_matrix(y_test, pred))"
   ]
  },
  {
   "cell_type": "markdown",
   "id": "c1bbee38",
   "metadata": {
    "cell_id": "00037-e70c6258-4570-472e-8bf4-63f3ff95d82a",
    "deepnote_cell_type": "markdown",
    "tags": []
   },
   "source": [
    "# Optuna find best parameter for selected model"
   ]
  },
  {
   "cell_type": "code",
   "execution_count": null,
   "id": "cc25b971",
   "metadata": {
    "ExecuteTime": {
     "end_time": "2021-05-20T17:21:40.568026Z",
     "start_time": "2021-05-20T17:20:59.248883Z"
    },
    "cell_id": "00039-d6a8eb4b-d580-445d-9240-d2166c9bd4c8",
    "deepnote_cell_type": "code",
    "tags": []
   },
   "outputs": [],
   "source": [
    "\n",
    "def objective(trial):\n",
    "\n",
    "    boosting_type = trial.suggest_categorical(\"boosting_type\", [\"gbdt\", \"rf\"])\n",
    "    max_depth = trial.suggest_int('max_depth', 1, 32)\n",
    "    n_estimators = trial.suggest_int(\"n_estimators\", 100,500)\n",
    "    learning_rate=trial.suggest_float(\"learning_rate\", 0.001,0.1)\n",
    "    min_data_in_leaf= trial.suggest_int(\"min_data_in_leaf\", 10,500)\n",
    "    \n",
    "    lg_lgbm = LGBMClassifier( boosting_type=boosting_type, max_depth=max_depth, \n",
    "            n_estimators=n_estimators,learning_rate=learning_rate,min_data_in_leaf=min_data_in_leaf\n",
    "        )\n",
    "\n",
    "    score = cross_val_score(lg_lgbm, X,y, n_jobs=-1, cv=2)\n",
    "    accuracy = score.mean()\n",
    "    return accuracy\n",
    "\n",
    "study = optuna.create_study(direction=\"maximize\")\n",
    "study.optimize(objective, n_trials=100)\n",
    "\n",
    "trial = study.best_trial\n",
    "print('Accuracy: {}'.format(trial.value))\n",
    "print(\"Best hyperparameters: {}\".format(trial.params))\n"
   ]
  }
 ],
 "metadata": {
  "deepnote": {},
  "deepnote_execution_queue": [
   {
    "cellId": "00036-f8044fff-4d29-45bd-8ff8-21846e0256f1",
    "msgId": "a0eefad6-7bbd-4603-8fed-2940de8884ea",
    "sessionId": "a4c44e80-405a-43fc-968f-79577dc2c4bf"
   }
  ],
  "deepnote_notebook_id": "4d03dad0-0d4b-4262-80a0-cfac3bff1f59",
  "hide_input": false,
  "kernelspec": {
   "display_name": "Python 3",
   "language": "python",
   "name": "python3"
  },
  "language_info": {
   "codemirror_mode": {
    "name": "ipython",
    "version": 3
   },
   "file_extension": ".py",
   "mimetype": "text/x-python",
   "name": "python",
   "nbconvert_exporter": "python",
   "pygments_lexer": "ipython3",
   "version": "3.8.2"
  },
  "toc": {
   "base_numbering": 1,
   "nav_menu": {},
   "number_sections": true,
   "sideBar": true,
   "skip_h1_title": false,
   "title_cell": "Table of Contents",
   "title_sidebar": "Contents",
   "toc_cell": false,
   "toc_position": {},
   "toc_section_display": true,
   "toc_window_display": false
  },
  "varInspector": {
   "cols": {
    "lenName": 16,
    "lenType": 16,
    "lenVar": 40
   },
   "kernels_config": {
    "python": {
     "delete_cmd_postfix": "",
     "delete_cmd_prefix": "del ",
     "library": "var_list.py",
     "varRefreshCmd": "print(var_dic_list())"
    },
    "r": {
     "delete_cmd_postfix": ") ",
     "delete_cmd_prefix": "rm(",
     "library": "var_list.r",
     "varRefreshCmd": "cat(var_dic_list()) "
    }
   },
   "types_to_exclude": [
    "module",
    "function",
    "builtin_function_or_method",
    "instance",
    "_Feature"
   ],
   "window_display": false
  }
 },
 "nbformat": 4,
 "nbformat_minor": 5
}
