{
 "cells": [
  {
   "cell_type": "code",
   "execution_count": 1,
   "id": "1c774f0f",
   "metadata": {
    "ExecuteTime": {
     "end_time": "2021-05-21T02:41:25.757891Z",
     "start_time": "2021-05-21T02:41:24.149086Z"
    },
    "cell_id": "00000-8c7c8fca-1c70-4587-91f3-3db57bfd28d0",
    "deepnote_cell_type": "code",
    "deepnote_to_be_reexecuted": false,
    "execution_millis": 5,
    "execution_start": 1621413648486,
    "source_hash": "570c8184"
   },
   "outputs": [
    {
     "name": "stdout",
     "output_type": "stream",
     "text": [
      "Pandas   1.2.4\n",
      "Sklearn  0.24.2\n"
     ]
    }
   ],
   "source": [
    "import time\n",
    "from IPython.display import clear_output\n",
    "import numpy    as np\n",
    "import pandas   as pd\n",
    "\n",
    "import optuna\n",
    "from random import shuffle\n",
    "from sklearn.decomposition import PCA\n",
    "from sklearn.metrics import classification_report,confusion_matrix\n",
    "from sklearn.ensemble import RandomForestClassifier,GradientBoostingClassifier\n",
    "from sklearn.pipeline import Pipeline ,make_pipeline\n",
    "from sklearn import impute\n",
    "from sklearn import compose\n",
    "from sklearn.model_selection import train_test_split,cross_val_score\n",
    "from sklearn.metrics import accuracy_score, balanced_accuracy_score, plot_confusion_matrix,roc_auc_score\n",
    "from sklearn import set_config\n",
    "import warnings\n",
    "warnings.filterwarnings('ignore')\n",
    "from sklearn.preprocessing import MinMaxScaler,Normalizer,PowerTransformer,QuantileTransformer, RobustScaler,StandardScaler,LabelEncoder, OneHotEncoder,OrdinalEncoder\n",
    "from sklearn.tree          import DecisionTreeClassifier\n",
    "from sklearn.linear_model  import LogisticRegression    \n",
    "from xgboost               import XGBClassifier\n",
    "from lightgbm              import LGBMClassifier\n",
    "from sklearn.neighbors import KNeighborsClassifier\n",
    "from sklearn.naive_bayes import GaussianNB\n",
    "import sklearn\n",
    "set_config(display='diagram') # Useful for display the pipeline\n",
    "print(\"Pandas  \", pd.__version__)\n",
    "print(\"Sklearn \", sklearn.__version__) # Try to use 0.24\n",
    "\n"
   ]
  },
  {
   "cell_type": "code",
   "execution_count": 2,
   "id": "341b1505",
   "metadata": {
    "ExecuteTime": {
     "end_time": "2021-05-21T02:41:26.752314Z",
     "start_time": "2021-05-21T02:41:26.664814Z"
    },
    "cell_id": "00001-06e6221d-0730-4e01-9045-bce276c93090",
    "deepnote_cell_type": "code",
    "deepnote_to_be_reexecuted": false,
    "execution_millis": 165,
    "execution_start": 1621413555476,
    "source_hash": "31454d99"
   },
   "outputs": [],
   "source": [
    "data = pd.read_csv('./data/data_5secondWindow .csv')"
   ]
  },
  {
   "cell_type": "code",
   "execution_count": null,
   "id": "725906f0",
   "metadata": {
    "ExecuteTime": {
     "end_time": "2021-05-20T19:03:16.813469Z",
     "start_time": "2021-05-20T19:03:16.517158Z"
    },
    "scrolled": true
   },
   "outputs": [],
   "source": [
    "data.describe()"
   ]
  },
  {
   "cell_type": "code",
   "execution_count": null,
   "id": "95ab423d",
   "metadata": {
    "ExecuteTime": {
     "end_time": "2021-05-20T17:52:24.050518Z",
     "start_time": "2021-05-20T17:52:24.037100Z"
    }
   },
   "outputs": [],
   "source": [
    "data.groupby('target').size()"
   ]
  },
  {
   "cell_type": "code",
   "execution_count": 3,
   "id": "f2aa5eda",
   "metadata": {
    "ExecuteTime": {
     "end_time": "2021-05-21T02:41:28.784482Z",
     "start_time": "2021-05-21T02:41:28.747610Z"
    }
   },
   "outputs": [],
   "source": [
    "def change_name(df):\n",
    "    column_names=[]\n",
    "    for i in df.columns:\n",
    "        k=i.replace('.','_').replace(\"#\",'_')\n",
    "        df.rename(columns = {i:k}, inplace = True)\n",
    "    return df\n",
    "data=change_name(data)"
   ]
  },
  {
   "cell_type": "code",
   "execution_count": null,
   "id": "a75d4c9a",
   "metadata": {
    "ExecuteTime": {
     "end_time": "2021-05-21T02:11:49.884457Z",
     "start_time": "2021-05-21T02:11:49.875169Z"
    }
   },
   "outputs": [],
   "source": [
    "data=data[data['target']!='Bus']\n",
    "data=data[data['target']!='Train']"
   ]
  },
  {
   "cell_type": "code",
   "execution_count": null,
   "id": "ac49865e",
   "metadata": {
    "ExecuteTime": {
     "end_time": "2021-05-20T19:03:22.367323Z",
     "start_time": "2021-05-20T19:03:22.360386Z"
    }
   },
   "outputs": [],
   "source": [
    "features=['android_sensor_gyroscope_mean',\n",
    "'android_sensor_accelerometer_std',\n",
    "'android_sensor_gyroscope_uncalibrated_mean',\n",
    "'android_sensor_linear_acceleration_mean',\n",
    "'android_sensor_gyroscope_uncalibrated_max',\n",
    "'android_sensor_gyroscope_max',\n",
    "'speed_max'  ,  \n",
    "'android_sensor_rotation_vector_mean'   ,\n",
    "'android_sensor_accelerometer_min',\n",
    "'android_sensor_magnetic_field_uncalibrated_min',\n",
    "'sound_min',\n",
    "'target',\n",
    "'user']"
   ]
  },
  {
   "cell_type": "code",
   "execution_count": null,
   "id": "75d8f22d",
   "metadata": {
    "ExecuteTime": {
     "end_time": "2021-05-20T19:03:25.132308Z",
     "start_time": "2021-05-20T19:03:25.126648Z"
    }
   },
   "outputs": [],
   "source": [
    "# data=data[features]"
   ]
  },
  {
   "cell_type": "code",
   "execution_count": 4,
   "id": "283b2327",
   "metadata": {
    "ExecuteTime": {
     "end_time": "2021-05-21T02:41:32.773656Z",
     "start_time": "2021-05-21T02:41:32.768548Z"
    }
   },
   "outputs": [],
   "source": [
    "# create test data from some user \n",
    "def split_data(df):\n",
    "    l=df.user.unique().tolist()\n",
    "    # create random list of indi\n",
    "    shuffle(l)\n",
    "    train_user=l[2:]\n",
    "    test_user=l[:2]\n",
    "    # get splitting indicies\n",
    "#     train=data[data['user'].isin(train_user)]\n",
    "#     test = data[data['user'].isin(test_user)]\n",
    "    train=df[df['user']!='IvanHeibi']\n",
    "    test=df[df['user']=='IvanHeibi'] \n",
    "    return train, test"
   ]
  },
  {
   "cell_type": "code",
   "execution_count": 5,
   "id": "dca72c91",
   "metadata": {
    "ExecuteTime": {
     "end_time": "2021-05-21T02:41:34.694858Z",
     "start_time": "2021-05-21T02:41:34.679299Z"
    }
   },
   "outputs": [],
   "source": [
    "df_train,df_test=split_data(data)\n"
   ]
  },
  {
   "cell_type": "code",
   "execution_count": 6,
   "id": "01585afb",
   "metadata": {
    "ExecuteTime": {
     "end_time": "2021-05-21T02:41:35.585590Z",
     "start_time": "2021-05-21T02:41:35.568924Z"
    }
   },
   "outputs": [
    {
     "name": "stdout",
     "output_type": "stream",
     "text": [
      "There are 11 columns with more than 75% missing values\n"
     ]
    }
   ],
   "source": [
    "train_missing = (df_train.isnull().sum() / len(df_train)).sort_values(ascending = False)\n",
    "test_missing = (df_test.isnull().sum() / len(df_test)).sort_values(ascending = False)\n",
    "\n",
    "train_missing = train_missing.index[train_missing > 0.75]\n",
    "test_missing = test_missing.index[test_missing > 0.75]\n",
    "\n",
    "all_missing = list(set(set(train_missing) | set(test_missing)))\n",
    "print('There are %d columns with more than 75%% missing values' % len(all_missing))"
   ]
  },
  {
   "cell_type": "code",
   "execution_count": 7,
   "id": "bb7b0935",
   "metadata": {
    "ExecuteTime": {
     "end_time": "2021-05-21T02:41:37.055481Z",
     "start_time": "2021-05-21T02:41:37.047323Z"
    }
   },
   "outputs": [],
   "source": [
    "# Drop missing data \n",
    "df_train = df_train.drop(all_missing,axis=1)\n",
    "df_test  = df_test.drop(all_missing,axis=1)\n"
   ]
  },
  {
   "cell_type": "code",
   "execution_count": 8,
   "id": "f6a123ae",
   "metadata": {
    "ExecuteTime": {
     "end_time": "2021-05-21T02:41:38.415066Z",
     "start_time": "2021-05-21T02:41:38.403007Z"
    }
   },
   "outputs": [],
   "source": [
    "unimp    = ['user','id','time']\n",
    "df_train = df_train.drop(unimp,axis=1)\n",
    "df_test  = df_test.drop(unimp,axis=1)"
   ]
  },
  {
   "cell_type": "code",
   "execution_count": 9,
   "id": "9eb621de",
   "metadata": {
    "ExecuteTime": {
     "end_time": "2021-05-21T02:41:39.313325Z",
     "start_time": "2021-05-21T02:41:39.304843Z"
    }
   },
   "outputs": [
    {
     "name": "stdout",
     "output_type": "stream",
     "text": [
      "(5622, 56)\n",
      "(271, 56)\n"
     ]
    }
   ],
   "source": [
    "print(df_train.shape)\n",
    "print(df_test.shape)"
   ]
  },
  {
   "cell_type": "code",
   "execution_count": 10,
   "id": "39653391",
   "metadata": {
    "ExecuteTime": {
     "end_time": "2021-05-21T02:41:40.424819Z",
     "start_time": "2021-05-21T02:41:40.416802Z"
    }
   },
   "outputs": [],
   "source": [
    "X=df_train.drop('target',axis=1)\n",
    "y=df_train.target\n",
    "X_test=df_test.drop('target',axis=1)\n",
    "y_test=df_test.target"
   ]
  },
  {
   "cell_type": "code",
   "execution_count": 11,
   "id": "39edca24",
   "metadata": {
    "ExecuteTime": {
     "end_time": "2021-05-21T02:41:41.697687Z",
     "start_time": "2021-05-21T02:41:41.691505Z"
    },
    "code_folding": []
   },
   "outputs": [],
   "source": [
    "# pipline and PcA\n",
    "# pca=PCA(n_components=15)\n",
    "# scaler=StandardScaler()\n",
    "# encoder = LabelEncoder()\n",
    "# onecoder=OneHotEncoder()\n",
    "num_var=X.columns.to_list()\n",
    "num_pip=Pipeline([('imputer',impute.SimpleImputer(strategy='median')),\n",
    "                   ('scalar',MinMaxScaler(feature_range=(0,10))),\n",
    "                   ('PCA' ,PCA(n_components = 'mle' , svd_solver = 'full'))\n",
    "               ]) \n",
    "preprocessor=compose.ColumnTransformer([\n",
    "    ('num',num_pip,num_var)\n",
    "])"
   ]
  },
  {
   "cell_type": "code",
   "execution_count": null,
   "id": "d15d3b55",
   "metadata": {
    "ExecuteTime": {
     "end_time": "2021-05-20T17:17:14.171748Z",
     "start_time": "2021-05-20T17:17:14.166692Z"
    }
   },
   "outputs": [],
   "source": [
    "# X_sc=preprocessor.fit_transform(X)\n",
    "# X_test_sc=preprocessor.fit_transform(X_test)\n",
    "# X_sc = pd.DataFrame(X_sc, columns=X.columns)\n",
    "# X_test_sc = pd.DataFrame(X_test_sc, columns=X_test.columns)"
   ]
  },
  {
   "cell_type": "code",
   "execution_count": null,
   "id": "182957c3",
   "metadata": {
    "ExecuteTime": {
     "end_time": "2021-05-20T14:49:07.977762Z",
     "start_time": "2021-05-20T14:49:07.975390Z"
    }
   },
   "outputs": [],
   "source": [
    "# y_train = np.reshape(y_train, (y_train.shape[0]))\n",
    "# y_test = np.reshape(y_test, (y_test.shape[0]))"
   ]
  },
  {
   "cell_type": "code",
   "execution_count": null,
   "id": "a03dae39",
   "metadata": {
    "ExecuteTime": {
     "end_time": "2021-05-21T02:40:34.791442Z",
     "start_time": "2021-05-21T02:40:34.783642Z"
    }
   },
   "outputs": [],
   "source": [
    "models = {\n",
    "\"DecisionTreeClassifier\": DecisionTreeClassifier(),\n",
    "'KNeighborsClassifier':KNeighborsClassifier(6),\n",
    "'LogisticRegression':LogisticRegression(),\n",
    "\"RandomForestClassifier\":RandomForestClassifier(),\n",
    "\"GradientBoostingClassifier\":GradientBoostingClassifier(),\n",
    "\"XGBClassifier\":XGBClassifier(),\n",
    "\"LGBMClassifier\":LGBMClassifier(),\n",
    "'GaussianNB':GaussianNB(),\n",
    "\n",
    "}\n",
    "# make pipline with  preprocessing \n",
    "classifiers = {name:make_pipeline(preprocessor, model) for name, model in models.items()}\n",
    "classifiers[\"GradientBoostingClassifier\"]"
   ]
  },
  {
   "cell_type": "code",
   "execution_count": null,
   "id": "fe97feec",
   "metadata": {
    "ExecuteTime": {
     "end_time": "2021-05-21T02:12:28.428838Z",
     "start_time": "2021-05-21T02:12:06.978403Z"
    }
   },
   "outputs": [],
   "source": [
    "x_train, x_val, y_train, y_val = train_test_split(X, y,test_size=0.2,stratify = y,random_state=10 )\n",
    "results = pd.DataFrame({'Model': [], 'Accuracy': [], 'Bal Acc.': [],'Time': []})\n",
    "for  name ,model in classifiers.items():\n",
    "    start_time = time.time()\n",
    "    model.fit(x_train, y_train)\n",
    "    total_time = time.time() - start_time\n",
    "    valid_pred = model.predict(x_val)\n",
    "    results = results.append({\"Model\":    name,\n",
    "                              \"Accuracy\": accuracy_score(y_val, valid_pred)*100,\n",
    "                              \"Bal Acc.\": balanced_accuracy_score(y_val, valid_pred)*100,\n",
    "                    \n",
    "                              \"Time\":     total_time},\n",
    "                              ignore_index=True)\n",
    "results_ord = results.sort_values(by=['Accuracy'], ascending=False, ignore_index=True)\n",
    "results_ord.index += 1 \n",
    "results_ord.style.bar(subset=['Accuracy', 'Bal Acc.'], vmin=0, vmax=100, color='#5fba7d')"
   ]
  },
  {
   "cell_type": "code",
   "execution_count": 12,
   "id": "52a07025",
   "metadata": {
    "ExecuteTime": {
     "end_time": "2021-05-21T02:41:47.101476Z",
     "start_time": "2021-05-21T02:41:47.096554Z"
    }
   },
   "outputs": [],
   "source": [
    "best_model=LGBMClassifier(max_depth= 28\n",
    ", n_estimators= 300, num_leaves=70,min_data_in_leaf=110,learning_rate= 0.069)\n",
    "name='LGBMClassifier'\n",
    "clf=Pipeline([('classification',best_model)])\n",
    "# 'boosting_type': 'gbdt', 'max_depth': 28, 'n_estimators': 388, 'learning_rate': 0.03432830269529964, 'min_data_in_leaf': 104"
   ]
  },
  {
   "cell_type": "code",
   "execution_count": 13,
   "id": "2435f442",
   "metadata": {
    "ExecuteTime": {
     "end_time": "2021-05-21T02:41:56.658972Z",
     "start_time": "2021-05-21T02:41:48.496979Z"
    }
   },
   "outputs": [
    {
     "name": "stdout",
     "output_type": "stream",
     "text": [
      "[LightGBM] [Warning] min_data_in_leaf is set=110, min_child_samples=20 will be ignored. Current value: min_data_in_leaf=110\n"
     ]
    },
    {
     "data": {
      "text/html": [
       "<style  type=\"text/css\" >\n",
       "#T_30cbd_row0_col1{\n",
       "            width:  10em;\n",
       "             height:  80%;\n",
       "            background:  linear-gradient(90deg,#5fba7d 83.0%, transparent 83.0%);\n",
       "        }#T_30cbd_row0_col2{\n",
       "            width:  10em;\n",
       "             height:  80%;\n",
       "            background:  linear-gradient(90deg,#5fba7d 50.7%, transparent 50.7%);\n",
       "        }</style><table id=\"T_30cbd_\" ><thead>    <tr>        <th class=\"blank level0\" ></th>        <th class=\"col_heading level0 col0\" >Model</th>        <th class=\"col_heading level0 col1\" >Accuracy</th>        <th class=\"col_heading level0 col2\" >Bal Acc.</th>        <th class=\"col_heading level0 col3\" >Time</th>    </tr></thead><tbody>\n",
       "                <tr>\n",
       "                        <th id=\"T_30cbd_level0_row0\" class=\"row_heading level0 row0\" >1</th>\n",
       "                        <td id=\"T_30cbd_row0_col0\" class=\"data row0 col0\" >LGBMClassifier</td>\n",
       "                        <td id=\"T_30cbd_row0_col1\" class=\"data row0 col1\" >83.025830</td>\n",
       "                        <td id=\"T_30cbd_row0_col2\" class=\"data row0 col2\" >50.740741</td>\n",
       "                        <td id=\"T_30cbd_row0_col3\" class=\"data row0 col3\" >8.095942</td>\n",
       "            </tr>\n",
       "    </tbody></table>"
      ],
      "text/plain": [
       "<pandas.io.formats.style.Styler at 0x7f9189601130>"
      ]
     },
     "execution_count": 13,
     "metadata": {},
     "output_type": "execute_result"
    }
   ],
   "source": [
    "test_result = pd.DataFrame({'Model': [], 'Accuracy': [], 'Bal Acc.': [],'Time': []})\n",
    "start_time = time.time()\n",
    "best_model.fit(X, y)\n",
    "total_time = time.time() - start_time\n",
    "pred = best_model.predict(X_test)\n",
    "test_result = test_result.append({\"Model\":    name,\n",
    "                          \"Accuracy\": accuracy_score(y_test, pred)*100,\n",
    "                          \"Bal Acc.\": balanced_accuracy_score(y_test, pred)*100,\n",
    "                          \"Time\":     total_time},\n",
    "                          ignore_index=True)\n",
    "test_result_ord = test_result.sort_values(by=['Accuracy'], ascending=False, ignore_index=True)\n",
    "test_result_ord.index += 1 \n",
    "test_result_ord.style.bar(subset=['Accuracy', 'Bal Acc.'], vmin=0, vmax=100, color='#5fba7d')\n"
   ]
  },
  {
   "cell_type": "code",
   "execution_count": 14,
   "id": "a90ffaf9",
   "metadata": {
    "ExecuteTime": {
     "end_time": "2021-05-21T02:42:02.629455Z",
     "start_time": "2021-05-21T02:42:02.606831Z"
    }
   },
   "outputs": [
    {
     "name": "stdout",
     "output_type": "stream",
     "text": [
      "              precision    recall  f1-score   support\n",
      "\n",
      "         Bus       0.00      0.00      0.00         0\n",
      "         Car       0.89      0.50      0.64        16\n",
      "       Still       1.00      0.07      0.12        30\n",
      "       Train       0.00      0.00      0.00         0\n",
      "     Walking       1.00      0.96      0.98       225\n",
      "\n",
      "    accuracy                           0.83       271\n",
      "   macro avg       0.58      0.30      0.35       271\n",
      "weighted avg       0.99      0.83      0.86       271\n",
      "\n",
      "\n",
      "[[  0   0   0   0   0]\n",
      " [  5   8   0   3   0]\n",
      " [  1   0   2  26   1]\n",
      " [  0   0   0   0   0]\n",
      " [  2   1   0   7 215]]\n"
     ]
    }
   ],
   "source": [
    "print(classification_report(y_test, pred))\n",
    "print()\n",
    "print(confusion_matrix(y_test, pred))"
   ]
  },
  {
   "cell_type": "markdown",
   "id": "c1bbee38",
   "metadata": {
    "cell_id": "00037-e70c6258-4570-472e-8bf4-63f3ff95d82a",
    "deepnote_cell_type": "markdown",
    "tags": []
   },
   "source": [
    "# Optuna find best parameter for selected model"
   ]
  },
  {
   "cell_type": "code",
   "execution_count": null,
   "id": "cc25b971",
   "metadata": {
    "ExecuteTime": {
     "end_time": "2021-05-21T02:24:49.724830Z",
     "start_time": "2021-05-21T02:14:11.168300Z"
    },
    "cell_id": "00039-d6a8eb4b-d580-445d-9240-d2166c9bd4c8",
    "deepnote_cell_type": "code",
    "tags": []
   },
   "outputs": [],
   "source": [
    "\n",
    "def objective(trial):\n",
    "\n",
    "    boosting_type = trial.suggest_categorical(\"boosting_type\", [\"gbdt\", \"rf\"])\n",
    "    max_depth = trial.suggest_int('max_depth', 1, 32)\n",
    "    n_estimators = trial.suggest_int(\"n_estimators\", 100,500)\n",
    "    learning_rate=trial.suggest_float(\"learning_rate\", 0.001,0.1)\n",
    "    min_data_in_leaf= trial.suggest_int(\"min_data_in_leaf\", 10,500)\n",
    "    \n",
    "    lg_lgbm = XGBClassifier( boosting_type=boosting_type, max_depth=max_depth, \n",
    "            n_estimators=n_estimators,learning_rate=learning_rate,min_data_in_leaf=min_data_in_leaf\n",
    "        )\n",
    "\n",
    "    score = cross_val_score(lg_lgbm, X,y, n_jobs=-1, cv=2)\n",
    "    accuracy = score.mean()\n",
    "    return accuracy\n",
    "\n",
    "study = optuna.create_study(direction=\"maximize\")\n",
    "study.optimize(objective, n_trials=100)\n",
    "\n",
    "trial = study.best_trial\n",
    "print('Accuracy: {}'.format(trial.value))\n",
    "print(\"Best hyperparameters: {}\".format(trial.params))\n"
   ]
  }
 ],
 "metadata": {
  "deepnote": {},
  "deepnote_execution_queue": [
   {
    "cellId": "00036-f8044fff-4d29-45bd-8ff8-21846e0256f1",
    "msgId": "a0eefad6-7bbd-4603-8fed-2940de8884ea",
    "sessionId": "a4c44e80-405a-43fc-968f-79577dc2c4bf"
   }
  ],
  "deepnote_notebook_id": "4d03dad0-0d4b-4262-80a0-cfac3bff1f59",
  "hide_input": false,
  "kernelspec": {
   "display_name": "Python 3",
   "language": "python",
   "name": "python3"
  },
  "language_info": {
   "codemirror_mode": {
    "name": "ipython",
    "version": 3
   },
   "file_extension": ".py",
   "mimetype": "text/x-python",
   "name": "python",
   "nbconvert_exporter": "python",
   "pygments_lexer": "ipython3",
   "version": "3.8.2"
  },
  "toc": {
   "base_numbering": 1,
   "nav_menu": {},
   "number_sections": true,
   "sideBar": true,
   "skip_h1_title": false,
   "title_cell": "Table of Contents",
   "title_sidebar": "Contents",
   "toc_cell": false,
   "toc_position": {},
   "toc_section_display": true,
   "toc_window_display": false
  },
  "varInspector": {
   "cols": {
    "lenName": 16,
    "lenType": 16,
    "lenVar": 40
   },
   "kernels_config": {
    "python": {
     "delete_cmd_postfix": "",
     "delete_cmd_prefix": "del ",
     "library": "var_list.py",
     "varRefreshCmd": "print(var_dic_list())"
    },
    "r": {
     "delete_cmd_postfix": ") ",
     "delete_cmd_prefix": "rm(",
     "library": "var_list.r",
     "varRefreshCmd": "cat(var_dic_list()) "
    }
   },
   "types_to_exclude": [
    "module",
    "function",
    "builtin_function_or_method",
    "instance",
    "_Feature"
   ],
   "window_display": false
  }
 },
 "nbformat": 4,
 "nbformat_minor": 5
}
