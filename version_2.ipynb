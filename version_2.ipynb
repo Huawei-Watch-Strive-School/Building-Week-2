{
 "cells": [
  {
   "cell_type": "code",
   "execution_count": 1,
   "id": "1c774f0f",
   "metadata": {
    "ExecuteTime": {
     "end_time": "2021-05-21T02:09:08.600897Z",
     "start_time": "2021-05-21T02:09:07.044740Z"
    },
    "cell_id": "00000-8c7c8fca-1c70-4587-91f3-3db57bfd28d0",
    "deepnote_cell_type": "code",
    "deepnote_to_be_reexecuted": false,
    "execution_millis": 5,
    "execution_start": 1621413648486,
    "source_hash": "570c8184"
   },
   "outputs": [
    {
     "name": "stdout",
     "output_type": "stream",
     "text": [
      "Pandas   1.2.4\n",
      "Sklearn  0.24.2\n"
     ]
    }
   ],
   "source": [
    "import time\n",
    "from IPython.display import clear_output\n",
    "import numpy    as np\n",
    "import pandas   as pd\n",
    "\n",
    "import optuna\n",
    "from random import shuffle\n",
    "from sklearn.decomposition import PCA\n",
    "from sklearn.metrics import classification_report,confusion_matrix\n",
    "from sklearn.ensemble import RandomForestClassifier,GradientBoostingClassifier\n",
    "from sklearn.pipeline import Pipeline ,make_pipeline\n",
    "from sklearn import impute\n",
    "from sklearn import compose\n",
    "from sklearn.model_selection import train_test_split,cross_val_score\n",
    "from sklearn.metrics import accuracy_score, balanced_accuracy_score, plot_confusion_matrix,roc_auc_score\n",
    "from sklearn import set_config\n",
    "import warnings\n",
    "warnings.filterwarnings('ignore')\n",
    "from sklearn.preprocessing import MinMaxScaler,Normalizer,PowerTransformer,QuantileTransformer, RobustScaler,StandardScaler,LabelEncoder, OneHotEncoder,OrdinalEncoder\n",
    "from sklearn.tree          import DecisionTreeClassifier\n",
    "from sklearn.linear_model  import LogisticRegression    \n",
    "from xgboost               import XGBClassifier\n",
    "from lightgbm              import LGBMClassifier\n",
    "from sklearn.neighbors import KNeighborsClassifier\n",
    "from sklearn.naive_bayes import GaussianNB\n",
    "import sklearn\n",
    "set_config(display='diagram') # Useful for display the pipeline\n",
    "print(\"Pandas  \", pd.__version__)\n",
    "print(\"Sklearn \", sklearn.__version__) # Try to use 0.24\n",
    "\n"
   ]
  },
  {
   "cell_type": "code",
   "execution_count": 11,
   "id": "341b1505",
   "metadata": {
    "ExecuteTime": {
     "end_time": "2021-05-21T02:11:06.942889Z",
     "start_time": "2021-05-21T02:11:06.863660Z"
    },
    "cell_id": "00001-06e6221d-0730-4e01-9045-bce276c93090",
    "deepnote_cell_type": "code",
    "deepnote_to_be_reexecuted": false,
    "execution_millis": 165,
    "execution_start": 1621413555476,
    "source_hash": "31454d99"
   },
   "outputs": [],
   "source": [
    "data = pd.read_csv('./data/data_5secondWindow .csv')"
   ]
  },
  {
   "cell_type": "code",
   "execution_count": null,
   "id": "725906f0",
   "metadata": {
    "ExecuteTime": {
     "end_time": "2021-05-20T19:03:16.813469Z",
     "start_time": "2021-05-20T19:03:16.517158Z"
    },
    "scrolled": true
   },
   "outputs": [],
   "source": [
    "data.describe()"
   ]
  },
  {
   "cell_type": "code",
   "execution_count": null,
   "id": "95ab423d",
   "metadata": {
    "ExecuteTime": {
     "end_time": "2021-05-20T17:52:24.050518Z",
     "start_time": "2021-05-20T17:52:24.037100Z"
    }
   },
   "outputs": [],
   "source": [
    "data.groupby('target').size()"
   ]
  },
  {
   "cell_type": "code",
   "execution_count": 12,
   "id": "f2aa5eda",
   "metadata": {
    "ExecuteTime": {
     "end_time": "2021-05-21T02:11:10.452175Z",
     "start_time": "2021-05-21T02:11:10.417722Z"
    }
   },
   "outputs": [],
   "source": [
    "def change_name(df):\n",
    "    column_names=[]\n",
    "    for i in df.columns:\n",
    "        k=i.replace('.','_').replace(\"#\",'_')\n",
    "        df.rename(columns = {i:k}, inplace = True)\n",
    "    return df\n",
    "data=change_name(data)"
   ]
  },
  {
   "cell_type": "code",
   "execution_count": 19,
   "id": "a75d4c9a",
   "metadata": {
    "ExecuteTime": {
     "end_time": "2021-05-21T02:11:49.884457Z",
     "start_time": "2021-05-21T02:11:49.875169Z"
    }
   },
   "outputs": [],
   "source": [
    "data=data[data['target']!='Bus']\n",
    "data=data[data['target']!='Train']"
   ]
  },
  {
   "cell_type": "code",
   "execution_count": null,
   "id": "ac49865e",
   "metadata": {
    "ExecuteTime": {
     "end_time": "2021-05-20T19:03:22.367323Z",
     "start_time": "2021-05-20T19:03:22.360386Z"
    }
   },
   "outputs": [],
   "source": [
    "features=['android_sensor_gyroscope_mean',\n",
    "'android_sensor_accelerometer_std',\n",
    "'android_sensor_gyroscope_uncalibrated_mean',\n",
    "'android_sensor_linear_acceleration_mean',\n",
    "'android_sensor_gyroscope_uncalibrated_max',\n",
    "'android_sensor_gyroscope_max',\n",
    "'speed_max'  ,  \n",
    "'android_sensor_rotation_vector_mean'   ,\n",
    "'android_sensor_accelerometer_min',\n",
    "'android_sensor_magnetic_field_uncalibrated_min',\n",
    "'sound_min',\n",
    "'target',\n",
    "'user']"
   ]
  },
  {
   "cell_type": "code",
   "execution_count": null,
   "id": "75d8f22d",
   "metadata": {
    "ExecuteTime": {
     "end_time": "2021-05-20T19:03:25.132308Z",
     "start_time": "2021-05-20T19:03:25.126648Z"
    }
   },
   "outputs": [],
   "source": [
    "# data=data[features]"
   ]
  },
  {
   "cell_type": "code",
   "execution_count": 20,
   "id": "283b2327",
   "metadata": {
    "ExecuteTime": {
     "end_time": "2021-05-21T02:11:51.854088Z",
     "start_time": "2021-05-21T02:11:51.849741Z"
    }
   },
   "outputs": [],
   "source": [
    "# create test data from some user \n",
    "def split_data(df):\n",
    "    l=df.user.unique().tolist()\n",
    "    # create random list of indi\n",
    "    shuffle(l)\n",
    "    train_user=l[2:]\n",
    "    test_user=l[:2]\n",
    "    # get splitting indicies\n",
    "#     train=data[data['user'].isin(train_user)]\n",
    "#     test = data[data['user'].isin(test_user)]\n",
    "    train=df[df['user']!='IvanHeibi']\n",
    "    test=df[df['user']=='IvanHeibi'] \n",
    "    return train, test"
   ]
  },
  {
   "cell_type": "code",
   "execution_count": 21,
   "id": "dca72c91",
   "metadata": {
    "ExecuteTime": {
     "end_time": "2021-05-21T02:11:53.812325Z",
     "start_time": "2021-05-21T02:11:53.803223Z"
    }
   },
   "outputs": [],
   "source": [
    "df_train,df_test=split_data(data)\n"
   ]
  },
  {
   "cell_type": "code",
   "execution_count": 22,
   "id": "01585afb",
   "metadata": {
    "ExecuteTime": {
     "end_time": "2021-05-21T02:11:54.549163Z",
     "start_time": "2021-05-21T02:11:54.533470Z"
    }
   },
   "outputs": [
    {
     "name": "stdout",
     "output_type": "stream",
     "text": [
      "There are 8 columns with more than 75% missing values\n"
     ]
    }
   ],
   "source": [
    "train_missing = (df_train.isnull().sum() / len(df_train)).sort_values(ascending = False)\n",
    "test_missing = (df_test.isnull().sum() / len(df_test)).sort_values(ascending = False)\n",
    "\n",
    "train_missing = train_missing.index[train_missing > 0.75]\n",
    "test_missing = test_missing.index[test_missing > 0.75]\n",
    "\n",
    "all_missing = list(set(set(train_missing) | set(test_missing)))\n",
    "print('There are %d columns with more than 75%% missing values' % len(all_missing))"
   ]
  },
  {
   "cell_type": "code",
   "execution_count": 23,
   "id": "bb7b0935",
   "metadata": {
    "ExecuteTime": {
     "end_time": "2021-05-21T02:11:56.117817Z",
     "start_time": "2021-05-21T02:11:56.109429Z"
    }
   },
   "outputs": [],
   "source": [
    "# Drop missing data \n",
    "df_train = df_train.drop(all_missing,axis=1)\n",
    "df_test  = df_test.drop(all_missing,axis=1)\n"
   ]
  },
  {
   "cell_type": "code",
   "execution_count": 24,
   "id": "f6a123ae",
   "metadata": {
    "ExecuteTime": {
     "end_time": "2021-05-21T02:11:57.458963Z",
     "start_time": "2021-05-21T02:11:57.452343Z"
    }
   },
   "outputs": [],
   "source": [
    "unimp    = ['user','id','time']\n",
    "df_train = df_train.drop(unimp,axis=1)\n",
    "df_test  = df_test.drop(unimp,axis=1)"
   ]
  },
  {
   "cell_type": "code",
   "execution_count": 25,
   "id": "9eb621de",
   "metadata": {
    "ExecuteTime": {
     "end_time": "2021-05-21T02:11:58.693054Z",
     "start_time": "2021-05-21T02:11:58.688948Z"
    }
   },
   "outputs": [
    {
     "name": "stdout",
     "output_type": "stream",
     "text": [
      "(3265, 59)\n",
      "(271, 59)\n"
     ]
    }
   ],
   "source": [
    "print(df_train.shape)\n",
    "print(df_test.shape)"
   ]
  },
  {
   "cell_type": "code",
   "execution_count": 26,
   "id": "39653391",
   "metadata": {
    "ExecuteTime": {
     "end_time": "2021-05-21T02:12:00.102620Z",
     "start_time": "2021-05-21T02:12:00.090785Z"
    }
   },
   "outputs": [],
   "source": [
    "X=df_train.drop('target',axis=1)\n",
    "y=df_train.target\n",
    "X_test=df_test.drop('target',axis=1)\n",
    "y_test=df_test.target"
   ]
  },
  {
   "cell_type": "code",
   "execution_count": 32,
   "id": "39edca24",
   "metadata": {
    "ExecuteTime": {
     "end_time": "2021-05-21T02:13:06.228666Z",
     "start_time": "2021-05-21T02:13:06.220885Z"
    },
    "code_folding": []
   },
   "outputs": [],
   "source": [
    "# pipline and PcA\n",
    "# pca=PCA(n_components=15)\n",
    "# scaler=StandardScaler()\n",
    "# encoder = LabelEncoder()\n",
    "# onecoder=OneHotEncoder()\n",
    "num_var=X.columns.to_list()\n",
    "num_pip=Pipeline([('imputer',impute.SimpleImputer(strategy='median')),\n",
    "                   ('scalar',MinMaxScaler(feature_range=(0,10))),\n",
    "                   ('PCA' ,PCA(n_components = 'mle' , svd_solver = 'full'))\n",
    "               ]) \n",
    "preprocessor=compose.ColumnTransformer([\n",
    "    ('num',num_pip,num_var)\n",
    "])"
   ]
  },
  {
   "cell_type": "code",
   "execution_count": null,
   "id": "d15d3b55",
   "metadata": {
    "ExecuteTime": {
     "end_time": "2021-05-20T17:17:14.171748Z",
     "start_time": "2021-05-20T17:17:14.166692Z"
    }
   },
   "outputs": [],
   "source": [
    "# X_sc=preprocessor.fit_transform(X)\n",
    "# X_test_sc=preprocessor.fit_transform(X_test)\n",
    "# X_sc = pd.DataFrame(X_sc, columns=X.columns)\n",
    "# X_test_sc = pd.DataFrame(X_test_sc, columns=X_test.columns)"
   ]
  },
  {
   "cell_type": "code",
   "execution_count": null,
   "id": "182957c3",
   "metadata": {
    "ExecuteTime": {
     "end_time": "2021-05-20T14:49:07.977762Z",
     "start_time": "2021-05-20T14:49:07.975390Z"
    }
   },
   "outputs": [],
   "source": [
    "# y_train = np.reshape(y_train, (y_train.shape[0]))\n",
    "# y_test = np.reshape(y_test, (y_test.shape[0]))"
   ]
  },
  {
   "cell_type": "code",
   "execution_count": 33,
   "id": "a03dae39",
   "metadata": {
    "ExecuteTime": {
     "end_time": "2021-05-21T02:13:07.953657Z",
     "start_time": "2021-05-21T02:13:07.895698Z"
    }
   },
   "outputs": [
    {
     "data": {
      "text/html": [
       "<style>#sk-50600233-6dad-43e4-af46-43e7a235ca59 {color: black;background-color: white;}#sk-50600233-6dad-43e4-af46-43e7a235ca59 pre{padding: 0;}#sk-50600233-6dad-43e4-af46-43e7a235ca59 div.sk-toggleable {background-color: white;}#sk-50600233-6dad-43e4-af46-43e7a235ca59 label.sk-toggleable__label {cursor: pointer;display: block;width: 100%;margin-bottom: 0;padding: 0.2em 0.3em;box-sizing: border-box;text-align: center;}#sk-50600233-6dad-43e4-af46-43e7a235ca59 div.sk-toggleable__content {max-height: 0;max-width: 0;overflow: hidden;text-align: left;background-color: #f0f8ff;}#sk-50600233-6dad-43e4-af46-43e7a235ca59 div.sk-toggleable__content pre {margin: 0.2em;color: black;border-radius: 0.25em;background-color: #f0f8ff;}#sk-50600233-6dad-43e4-af46-43e7a235ca59 input.sk-toggleable__control:checked~div.sk-toggleable__content {max-height: 200px;max-width: 100%;overflow: auto;}#sk-50600233-6dad-43e4-af46-43e7a235ca59 div.sk-estimator input.sk-toggleable__control:checked~label.sk-toggleable__label {background-color: #d4ebff;}#sk-50600233-6dad-43e4-af46-43e7a235ca59 div.sk-label input.sk-toggleable__control:checked~label.sk-toggleable__label {background-color: #d4ebff;}#sk-50600233-6dad-43e4-af46-43e7a235ca59 input.sk-hidden--visually {border: 0;clip: rect(1px 1px 1px 1px);clip: rect(1px, 1px, 1px, 1px);height: 1px;margin: -1px;overflow: hidden;padding: 0;position: absolute;width: 1px;}#sk-50600233-6dad-43e4-af46-43e7a235ca59 div.sk-estimator {font-family: monospace;background-color: #f0f8ff;margin: 0.25em 0.25em;border: 1px dotted black;border-radius: 0.25em;box-sizing: border-box;}#sk-50600233-6dad-43e4-af46-43e7a235ca59 div.sk-estimator:hover {background-color: #d4ebff;}#sk-50600233-6dad-43e4-af46-43e7a235ca59 div.sk-parallel-item::after {content: \"\";width: 100%;border-bottom: 1px solid gray;flex-grow: 1;}#sk-50600233-6dad-43e4-af46-43e7a235ca59 div.sk-label:hover label.sk-toggleable__label {background-color: #d4ebff;}#sk-50600233-6dad-43e4-af46-43e7a235ca59 div.sk-serial::before {content: \"\";position: absolute;border-left: 1px solid gray;box-sizing: border-box;top: 2em;bottom: 0;left: 50%;}#sk-50600233-6dad-43e4-af46-43e7a235ca59 div.sk-serial {display: flex;flex-direction: column;align-items: center;background-color: white;}#sk-50600233-6dad-43e4-af46-43e7a235ca59 div.sk-item {z-index: 1;}#sk-50600233-6dad-43e4-af46-43e7a235ca59 div.sk-parallel {display: flex;align-items: stretch;justify-content: center;background-color: white;}#sk-50600233-6dad-43e4-af46-43e7a235ca59 div.sk-parallel-item {display: flex;flex-direction: column;position: relative;background-color: white;}#sk-50600233-6dad-43e4-af46-43e7a235ca59 div.sk-parallel-item:first-child::after {align-self: flex-end;width: 50%;}#sk-50600233-6dad-43e4-af46-43e7a235ca59 div.sk-parallel-item:last-child::after {align-self: flex-start;width: 50%;}#sk-50600233-6dad-43e4-af46-43e7a235ca59 div.sk-parallel-item:only-child::after {width: 0;}#sk-50600233-6dad-43e4-af46-43e7a235ca59 div.sk-dashed-wrapped {border: 1px dashed gray;margin: 0.2em;box-sizing: border-box;padding-bottom: 0.1em;background-color: white;position: relative;}#sk-50600233-6dad-43e4-af46-43e7a235ca59 div.sk-label label {font-family: monospace;font-weight: bold;background-color: white;display: inline-block;line-height: 1.2em;}#sk-50600233-6dad-43e4-af46-43e7a235ca59 div.sk-label-container {position: relative;z-index: 2;text-align: center;}#sk-50600233-6dad-43e4-af46-43e7a235ca59 div.sk-container {display: inline-block;position: relative;}</style><div id=\"sk-50600233-6dad-43e4-af46-43e7a235ca59\" class\"sk-top-container\"><div class=\"sk-container\"><div class=\"sk-item sk-dashed-wrapped\"><div class=\"sk-label-container\"><div class=\"sk-label sk-toggleable\"><input class=\"sk-toggleable__control sk-hidden--visually\" id=\"0914877d-10da-4ffa-b9a2-68bdae839bf8\" type=\"checkbox\" ><label class=\"sk-toggleable__label\" for=\"0914877d-10da-4ffa-b9a2-68bdae839bf8\">Pipeline</label><div class=\"sk-toggleable__content\"><pre>Pipeline(steps=[('columntransformer',\n",
       "                 ColumnTransformer(transformers=[('num',\n",
       "                                                  Pipeline(steps=[('imputer',\n",
       "                                                                   SimpleImputer(strategy='median')),\n",
       "                                                                  ('scalar',\n",
       "                                                                   MinMaxScaler(feature_range=(0,\n",
       "                                                                                               10))),\n",
       "                                                                  ('PCA',\n",
       "                                                                   PCA(n_components='mle',\n",
       "                                                                       svd_solver='full'))]),\n",
       "                                                  ['activityrecognition_1',\n",
       "                                                   'android_sensor_accelerometer_mean',\n",
       "                                                   'android_sensor_accelerometer_min',\n",
       "                                                   'android_sensor_acc...\n",
       "                                                   'android_sensor_light_min',\n",
       "                                                   'android_sensor_light_max',\n",
       "                                                   'android_sensor_light_std',\n",
       "                                                   'android_sensor_linear_acceleration_mean',\n",
       "                                                   'android_sensor_linear_acceleration_min',\n",
       "                                                   'android_sensor_linear_acceleration_max',\n",
       "                                                   'android_sensor_linear_acceleration_std',\n",
       "                                                   'android_sensor_magnetic_field_mean', ...])])),\n",
       "                ('gradientboostingclassifier', GradientBoostingClassifier())])</pre></div></div></div><div class=\"sk-serial\"><div class=\"sk-item sk-dashed-wrapped\"><div class=\"sk-label-container\"><div class=\"sk-label sk-toggleable\"><input class=\"sk-toggleable__control sk-hidden--visually\" id=\"bc84f546-8308-4247-9600-b6b5e51f6a3e\" type=\"checkbox\" ><label class=\"sk-toggleable__label\" for=\"bc84f546-8308-4247-9600-b6b5e51f6a3e\">columntransformer: ColumnTransformer</label><div class=\"sk-toggleable__content\"><pre>ColumnTransformer(transformers=[('num',\n",
       "                                 Pipeline(steps=[('imputer',\n",
       "                                                  SimpleImputer(strategy='median')),\n",
       "                                                 ('scalar',\n",
       "                                                  MinMaxScaler(feature_range=(0,\n",
       "                                                                              10))),\n",
       "                                                 ('PCA',\n",
       "                                                  PCA(n_components='mle',\n",
       "                                                      svd_solver='full'))]),\n",
       "                                 ['activityrecognition_1',\n",
       "                                  'android_sensor_accelerometer_mean',\n",
       "                                  'android_sensor_accelerometer_min',\n",
       "                                  'android_sensor_accelerometer_max',\n",
       "                                  'android_sensor_accel...\n",
       "                                  'android_sensor_gyroscope_uncalibrated_std',\n",
       "                                  'android_sensor_light_mean',\n",
       "                                  'android_sensor_light_min',\n",
       "                                  'android_sensor_light_max',\n",
       "                                  'android_sensor_light_std',\n",
       "                                  'android_sensor_linear_acceleration_mean',\n",
       "                                  'android_sensor_linear_acceleration_min',\n",
       "                                  'android_sensor_linear_acceleration_max',\n",
       "                                  'android_sensor_linear_acceleration_std',\n",
       "                                  'android_sensor_magnetic_field_mean', ...])])</pre></div></div></div><div class=\"sk-parallel\"><div class=\"sk-parallel-item\"><div class=\"sk-item\"><div class=\"sk-label-container\"><div class=\"sk-label sk-toggleable\"><input class=\"sk-toggleable__control sk-hidden--visually\" id=\"488bcb37-9a8e-4259-99a0-c29c29be0d02\" type=\"checkbox\" ><label class=\"sk-toggleable__label\" for=\"488bcb37-9a8e-4259-99a0-c29c29be0d02\">num</label><div class=\"sk-toggleable__content\"><pre>['activityrecognition_1', 'android_sensor_accelerometer_mean', 'android_sensor_accelerometer_min', 'android_sensor_accelerometer_max', 'android_sensor_accelerometer_std', 'android_sensor_game_rotation_vector_mean', 'android_sensor_game_rotation_vector_min', 'android_sensor_game_rotation_vector_max', 'android_sensor_game_rotation_vector_std', 'android_sensor_gravity_mean', 'android_sensor_gravity_min', 'android_sensor_gravity_max', 'android_sensor_gravity_std', 'android_sensor_gyroscope_mean', 'android_sensor_gyroscope_min', 'android_sensor_gyroscope_max', 'android_sensor_gyroscope_std', 'android_sensor_gyroscope_uncalibrated_mean', 'android_sensor_gyroscope_uncalibrated_min', 'android_sensor_gyroscope_uncalibrated_max', 'android_sensor_gyroscope_uncalibrated_std', 'android_sensor_light_mean', 'android_sensor_light_min', 'android_sensor_light_max', 'android_sensor_light_std', 'android_sensor_linear_acceleration_mean', 'android_sensor_linear_acceleration_min', 'android_sensor_linear_acceleration_max', 'android_sensor_linear_acceleration_std', 'android_sensor_magnetic_field_mean', 'android_sensor_magnetic_field_min', 'android_sensor_magnetic_field_max', 'android_sensor_magnetic_field_std', 'android_sensor_magnetic_field_uncalibrated_mean', 'android_sensor_magnetic_field_uncalibrated_min', 'android_sensor_magnetic_field_uncalibrated_max', 'android_sensor_magnetic_field_uncalibrated_std', 'android_sensor_orientation_mean', 'android_sensor_orientation_min', 'android_sensor_orientation_max', 'android_sensor_orientation_std', 'android_sensor_pressure_mean', 'android_sensor_pressure_min', 'android_sensor_pressure_max', 'android_sensor_rotation_vector_mean', 'android_sensor_rotation_vector_min', 'android_sensor_rotation_vector_max', 'android_sensor_rotation_vector_std', 'android_sensor_step_counter_mean', 'android_sensor_step_counter_min', 'android_sensor_step_counter_max', 'sound_mean', 'sound_min', 'sound_max', 'sound_std', 'speed_mean', 'speed_min', 'speed_max']</pre></div></div></div><div class=\"sk-serial\"><div class=\"sk-item\"><div class=\"sk-serial\"><div class=\"sk-item\"><div class=\"sk-estimator sk-toggleable\"><input class=\"sk-toggleable__control sk-hidden--visually\" id=\"07216484-84aa-40db-86d8-9d47df5a575e\" type=\"checkbox\" ><label class=\"sk-toggleable__label\" for=\"07216484-84aa-40db-86d8-9d47df5a575e\">SimpleImputer</label><div class=\"sk-toggleable__content\"><pre>SimpleImputer(strategy='median')</pre></div></div></div><div class=\"sk-item\"><div class=\"sk-estimator sk-toggleable\"><input class=\"sk-toggleable__control sk-hidden--visually\" id=\"e0b40727-b11b-4a5c-b69f-76663dc8d88a\" type=\"checkbox\" ><label class=\"sk-toggleable__label\" for=\"e0b40727-b11b-4a5c-b69f-76663dc8d88a\">MinMaxScaler</label><div class=\"sk-toggleable__content\"><pre>MinMaxScaler(feature_range=(0, 10))</pre></div></div></div><div class=\"sk-item\"><div class=\"sk-estimator sk-toggleable\"><input class=\"sk-toggleable__control sk-hidden--visually\" id=\"32d1a820-4782-4971-8922-9c06e738351c\" type=\"checkbox\" ><label class=\"sk-toggleable__label\" for=\"32d1a820-4782-4971-8922-9c06e738351c\">PCA</label><div class=\"sk-toggleable__content\"><pre>PCA(n_components='mle', svd_solver='full')</pre></div></div></div></div></div></div></div></div></div></div><div class=\"sk-item\"><div class=\"sk-estimator sk-toggleable\"><input class=\"sk-toggleable__control sk-hidden--visually\" id=\"7d33255a-6d7b-478f-8758-5b92f2bdec2c\" type=\"checkbox\" ><label class=\"sk-toggleable__label\" for=\"7d33255a-6d7b-478f-8758-5b92f2bdec2c\">GradientBoostingClassifier</label><div class=\"sk-toggleable__content\"><pre>GradientBoostingClassifier()</pre></div></div></div></div></div></div></div>"
      ],
      "text/plain": [
       "Pipeline(steps=[('columntransformer',\n",
       "                 ColumnTransformer(transformers=[('num',\n",
       "                                                  Pipeline(steps=[('imputer',\n",
       "                                                                   SimpleImputer(strategy='median')),\n",
       "                                                                  ('scalar',\n",
       "                                                                   MinMaxScaler(feature_range=(0,\n",
       "                                                                                               10))),\n",
       "                                                                  ('PCA',\n",
       "                                                                   PCA(n_components='mle',\n",
       "                                                                       svd_solver='full'))]),\n",
       "                                                  ['activityrecognition_1',\n",
       "                                                   'android_sensor_accelerometer_mean',\n",
       "                                                   'android_sensor_accelerometer_min',\n",
       "                                                   'android_sensor_acc...\n",
       "                                                   'android_sensor_light_min',\n",
       "                                                   'android_sensor_light_max',\n",
       "                                                   'android_sensor_light_std',\n",
       "                                                   'android_sensor_linear_acceleration_mean',\n",
       "                                                   'android_sensor_linear_acceleration_min',\n",
       "                                                   'android_sensor_linear_acceleration_max',\n",
       "                                                   'android_sensor_linear_acceleration_std',\n",
       "                                                   'android_sensor_magnetic_field_mean', ...])])),\n",
       "                ('gradientboostingclassifier', GradientBoostingClassifier())])"
      ]
     },
     "execution_count": 33,
     "metadata": {},
     "output_type": "execute_result"
    }
   ],
   "source": [
    "models = {\n",
    "\"DecisionTreeClassifier\": DecisionTreeClassifier(),\n",
    "'KNeighborsClassifier':KNeighborsClassifier(6),\n",
    "'LogisticRegression':LogisticRegression(),\n",
    "\"RandomForestClassifier\":RandomForestClassifier(),\n",
    "\"GradientBoostingClassifier\":GradientBoostingClassifier(),\n",
    "\"XGBClassifier\":XGBClassifier(),\n",
    "\"LGBMClassifier\":LGBMClassifier(),\n",
    "'GaussianNB':GaussianNB(),\n",
    "\n",
    "}\n",
    "# make pipline with  preprocessing \n",
    "classifiers = {name:make_pipeline(preprocessor, model) for name, model in models.items()}\n",
    "classifiers[\"GradientBoostingClassifier\"]"
   ]
  },
  {
   "cell_type": "code",
   "execution_count": 29,
   "id": "fe97feec",
   "metadata": {
    "ExecuteTime": {
     "end_time": "2021-05-21T02:12:28.428838Z",
     "start_time": "2021-05-21T02:12:06.978403Z"
    }
   },
   "outputs": [
    {
     "name": "stdout",
     "output_type": "stream",
     "text": [
      "[06:12:23] WARNING: ../src/learner.cc:1095: Starting in XGBoost 1.3.0, the default evaluation metric used with the objective 'multi:softprob' was changed from 'merror' to 'mlogloss'. Explicitly set eval_metric if you'd like to restore the old behavior.\n"
     ]
    },
    {
     "data": {
      "text/html": [
       "<style  type=\"text/css\" >\n",
       "#T_73e04_row0_col1,#T_73e04_row0_col2,#T_73e04_row1_col1,#T_73e04_row1_col2{\n",
       "            width:  10em;\n",
       "             height:  80%;\n",
       "            background:  linear-gradient(90deg,#5fba7d 98.6%, transparent 98.6%);\n",
       "        }#T_73e04_row2_col1,#T_73e04_row2_col2{\n",
       "            width:  10em;\n",
       "             height:  80%;\n",
       "            background:  linear-gradient(90deg,#5fba7d 98.2%, transparent 98.2%);\n",
       "        }#T_73e04_row3_col1,#T_73e04_row3_col2{\n",
       "            width:  10em;\n",
       "             height:  80%;\n",
       "            background:  linear-gradient(90deg,#5fba7d 98.0%, transparent 98.0%);\n",
       "        }#T_73e04_row4_col1{\n",
       "            width:  10em;\n",
       "             height:  80%;\n",
       "            background:  linear-gradient(90deg,#5fba7d 97.9%, transparent 97.9%);\n",
       "        }#T_73e04_row4_col2{\n",
       "            width:  10em;\n",
       "             height:  80%;\n",
       "            background:  linear-gradient(90deg,#5fba7d 97.8%, transparent 97.8%);\n",
       "        }#T_73e04_row5_col1{\n",
       "            width:  10em;\n",
       "             height:  80%;\n",
       "            background:  linear-gradient(90deg,#5fba7d 93.7%, transparent 93.7%);\n",
       "        }#T_73e04_row5_col2{\n",
       "            width:  10em;\n",
       "             height:  80%;\n",
       "            background:  linear-gradient(90deg,#5fba7d 93.8%, transparent 93.8%);\n",
       "        }#T_73e04_row6_col1{\n",
       "            width:  10em;\n",
       "             height:  80%;\n",
       "            background:  linear-gradient(90deg,#5fba7d 92.2%, transparent 92.2%);\n",
       "        }#T_73e04_row6_col2{\n",
       "            width:  10em;\n",
       "             height:  80%;\n",
       "            background:  linear-gradient(90deg,#5fba7d 92.1%, transparent 92.1%);\n",
       "        }#T_73e04_row7_col1{\n",
       "            width:  10em;\n",
       "             height:  80%;\n",
       "            background:  linear-gradient(90deg,#5fba7d 67.5%, transparent 67.5%);\n",
       "        }#T_73e04_row7_col2{\n",
       "            width:  10em;\n",
       "             height:  80%;\n",
       "            background:  linear-gradient(90deg,#5fba7d 68.3%, transparent 68.3%);\n",
       "        }</style><table id=\"T_73e04_\" ><thead>    <tr>        <th class=\"blank level0\" ></th>        <th class=\"col_heading level0 col0\" >Model</th>        <th class=\"col_heading level0 col1\" >Accuracy</th>        <th class=\"col_heading level0 col2\" >Bal Acc.</th>        <th class=\"col_heading level0 col3\" >Time</th>    </tr></thead><tbody>\n",
       "                <tr>\n",
       "                        <th id=\"T_73e04_level0_row0\" class=\"row_heading level0 row0\" >1</th>\n",
       "                        <td id=\"T_73e04_row0_col0\" class=\"data row0 col0\" >XGBClassifier</td>\n",
       "                        <td id=\"T_73e04_row0_col1\" class=\"data row0 col1\" >98.621746</td>\n",
       "                        <td id=\"T_73e04_row0_col2\" class=\"data row0 col2\" >98.609717</td>\n",
       "                        <td id=\"T_73e04_row0_col3\" class=\"data row0 col3\" >3.664858</td>\n",
       "            </tr>\n",
       "            <tr>\n",
       "                        <th id=\"T_73e04_level0_row1\" class=\"row_heading level0 row1\" >2</th>\n",
       "                        <td id=\"T_73e04_row1_col0\" class=\"data row1 col0\" >LGBMClassifier</td>\n",
       "                        <td id=\"T_73e04_row1_col1\" class=\"data row1 col1\" >98.621746</td>\n",
       "                        <td id=\"T_73e04_row1_col2\" class=\"data row1 col2\" >98.636496</td>\n",
       "                        <td id=\"T_73e04_row1_col3\" class=\"data row1 col3\" >1.686806</td>\n",
       "            </tr>\n",
       "            <tr>\n",
       "                        <th id=\"T_73e04_level0_row2\" class=\"row_heading level0 row2\" >3</th>\n",
       "                        <td id=\"T_73e04_row2_col0\" class=\"data row2 col0\" >GradientBoostingClassifier</td>\n",
       "                        <td id=\"T_73e04_row2_col1\" class=\"data row2 col1\" >98.162328</td>\n",
       "                        <td id=\"T_73e04_row2_col2\" class=\"data row2 col2\" >98.176800</td>\n",
       "                        <td id=\"T_73e04_row2_col3\" class=\"data row2 col3\" >12.313479</td>\n",
       "            </tr>\n",
       "            <tr>\n",
       "                        <th id=\"T_73e04_level0_row3\" class=\"row_heading level0 row3\" >4</th>\n",
       "                        <td id=\"T_73e04_row3_col0\" class=\"data row3 col0\" >RandomForestClassifier</td>\n",
       "                        <td id=\"T_73e04_row3_col1\" class=\"data row3 col1\" >98.009188</td>\n",
       "                        <td id=\"T_73e04_row3_col2\" class=\"data row3 col2\" >97.965253</td>\n",
       "                        <td id=\"T_73e04_row3_col3\" class=\"data row3 col3\" >1.894873</td>\n",
       "            </tr>\n",
       "            <tr>\n",
       "                        <th id=\"T_73e04_level0_row4\" class=\"row_heading level0 row4\" >5</th>\n",
       "                        <td id=\"T_73e04_row4_col0\" class=\"data row4 col0\" >KNeighborsClassifier</td>\n",
       "                        <td id=\"T_73e04_row4_col1\" class=\"data row4 col1\" >97.856049</td>\n",
       "                        <td id=\"T_73e04_row4_col2\" class=\"data row4 col2\" >97.824057</td>\n",
       "                        <td id=\"T_73e04_row4_col3\" class=\"data row4 col3\" >0.180282</td>\n",
       "            </tr>\n",
       "            <tr>\n",
       "                        <th id=\"T_73e04_level0_row5\" class=\"row_heading level0 row5\" >6</th>\n",
       "                        <td id=\"T_73e04_row5_col0\" class=\"data row5 col0\" >LogisticRegression</td>\n",
       "                        <td id=\"T_73e04_row5_col1\" class=\"data row5 col1\" >93.721286</td>\n",
       "                        <td id=\"T_73e04_row5_col2\" class=\"data row5 col2\" >93.752206</td>\n",
       "                        <td id=\"T_73e04_row5_col3\" class=\"data row5 col3\" >0.768497</td>\n",
       "            </tr>\n",
       "            <tr>\n",
       "                        <th id=\"T_73e04_level0_row6\" class=\"row_heading level0 row6\" >7</th>\n",
       "                        <td id=\"T_73e04_row6_col0\" class=\"data row6 col0\" >DecisionTreeClassifier</td>\n",
       "                        <td id=\"T_73e04_row6_col1\" class=\"data row6 col1\" >92.189893</td>\n",
       "                        <td id=\"T_73e04_row6_col2\" class=\"data row6 col2\" >92.093085</td>\n",
       "                        <td id=\"T_73e04_row6_col3\" class=\"data row6 col3\" >0.342421</td>\n",
       "            </tr>\n",
       "            <tr>\n",
       "                        <th id=\"T_73e04_level0_row7\" class=\"row_heading level0 row7\" >8</th>\n",
       "                        <td id=\"T_73e04_row7_col0\" class=\"data row7 col0\" >GaussianNB</td>\n",
       "                        <td id=\"T_73e04_row7_col1\" class=\"data row7 col1\" >67.534456</td>\n",
       "                        <td id=\"T_73e04_row7_col2\" class=\"data row7 col2\" >68.294327</td>\n",
       "                        <td id=\"T_73e04_row7_col3\" class=\"data row7 col3\" >0.165170</td>\n",
       "            </tr>\n",
       "    </tbody></table>"
      ],
      "text/plain": [
       "<pandas.io.formats.style.Styler at 0x7f2d013ae040>"
      ]
     },
     "execution_count": 29,
     "metadata": {},
     "output_type": "execute_result"
    }
   ],
   "source": [
    "x_train, x_val, y_train, y_val = train_test_split(X, y,test_size=0.2,stratify = y,random_state=10 )\n",
    "results = pd.DataFrame({'Model': [], 'Accuracy': [], 'Bal Acc.': [],'Time': []})\n",
    "for  name ,model in classifiers.items():\n",
    "    start_time = time.time()\n",
    "    model.fit(x_train, y_train)\n",
    "    total_time = time.time() - start_time\n",
    "    valid_pred = model.predict(x_val)\n",
    "    results = results.append({\"Model\":    name,\n",
    "                              \"Accuracy\": accuracy_score(y_val, valid_pred)*100,\n",
    "                              \"Bal Acc.\": balanced_accuracy_score(y_val, valid_pred)*100,\n",
    "                    \n",
    "                              \"Time\":     total_time},\n",
    "                              ignore_index=True)\n",
    "results_ord = results.sort_values(by=['Accuracy'], ascending=False, ignore_index=True)\n",
    "results_ord.index += 1 \n",
    "results_ord.style.bar(subset=['Accuracy', 'Bal Acc.'], vmin=0, vmax=100, color='#5fba7d')"
   ]
  },
  {
   "cell_type": "code",
   "execution_count": 36,
   "id": "52a07025",
   "metadata": {
    "ExecuteTime": {
     "end_time": "2021-05-21T02:13:38.308882Z",
     "start_time": "2021-05-21T02:13:38.304422Z"
    }
   },
   "outputs": [],
   "source": [
    "best_model=XGBClassifier(max_depth= 28\n",
    ", n_estimators= 300, num_leaves=70,min_data_in_leaf=110,learning_rate= 0.069)\n",
    "name='LGBMClassifier'\n",
    "clf=Pipeline([('pre',preprocessor),('classification',best_model)])\n",
    "# 'boosting_type': 'gbdt', 'max_depth': 28, 'n_estimators': 388, 'learning_rate': 0.03432830269529964, 'min_data_in_leaf': 104"
   ]
  },
  {
   "cell_type": "code",
   "execution_count": 37,
   "id": "2435f442",
   "metadata": {
    "ExecuteTime": {
     "end_time": "2021-05-21T02:13:55.448447Z",
     "start_time": "2021-05-21T02:13:39.925721Z"
    }
   },
   "outputs": [
    {
     "name": "stdout",
     "output_type": "stream",
     "text": [
      "[06:13:39] WARNING: ../src/learner.cc:573: \n",
      "Parameters: { \"min_data_in_leaf\", \"num_leaves\" } might not be used.\n",
      "\n",
      "  This may not be accurate due to some parameters are only used in language bindings but\n",
      "  passed down to XGBoost core.  Or some parameters are not used but slip through this\n",
      "  verification. Please open an issue if you find above cases.\n",
      "\n",
      "\n",
      "[06:13:40] WARNING: ../src/learner.cc:1095: Starting in XGBoost 1.3.0, the default evaluation metric used with the objective 'multi:softprob' was changed from 'merror' to 'mlogloss'. Explicitly set eval_metric if you'd like to restore the old behavior.\n"
     ]
    },
    {
     "data": {
      "text/html": [
       "<style  type=\"text/css\" >\n",
       "#T_f244c_row0_col1{\n",
       "            width:  10em;\n",
       "             height:  80%;\n",
       "            background:  linear-gradient(90deg,#5fba7d 97.0%, transparent 97.0%);\n",
       "        }#T_f244c_row0_col2{\n",
       "            width:  10em;\n",
       "             height:  80%;\n",
       "            background:  linear-gradient(90deg,#5fba7d 94.0%, transparent 94.0%);\n",
       "        }</style><table id=\"T_f244c_\" ><thead>    <tr>        <th class=\"blank level0\" ></th>        <th class=\"col_heading level0 col0\" >Model</th>        <th class=\"col_heading level0 col1\" >Accuracy</th>        <th class=\"col_heading level0 col2\" >Bal Acc.</th>        <th class=\"col_heading level0 col3\" >Time</th>    </tr></thead><tbody>\n",
       "                <tr>\n",
       "                        <th id=\"T_f244c_level0_row0\" class=\"row_heading level0 row0\" >1</th>\n",
       "                        <td id=\"T_f244c_row0_col0\" class=\"data row0 col0\" >LGBMClassifier</td>\n",
       "                        <td id=\"T_f244c_row0_col1\" class=\"data row0 col1\" >97.047970</td>\n",
       "                        <td id=\"T_f244c_row0_col2\" class=\"data row0 col2\" >94.000000</td>\n",
       "                        <td id=\"T_f244c_row0_col3\" class=\"data row0 col3\" >15.496175</td>\n",
       "            </tr>\n",
       "    </tbody></table>"
      ],
      "text/plain": [
       "<pandas.io.formats.style.Styler at 0x7f2d2a2a2d30>"
      ]
     },
     "execution_count": 37,
     "metadata": {},
     "output_type": "execute_result"
    }
   ],
   "source": [
    "test_result = pd.DataFrame({'Model': [], 'Accuracy': [], 'Bal Acc.': [],'Time': []})\n",
    "start_time = time.time()\n",
    "best_model.fit(X, y)\n",
    "total_time = time.time() - start_time\n",
    "pred = best_model.predict(X_test)\n",
    "test_result = test_result.append({\"Model\":    name,\n",
    "                          \"Accuracy\": accuracy_score(y_test, pred)*100,\n",
    "                          \"Bal Acc.\": balanced_accuracy_score(y_test, pred)*100,\n",
    "                          \"Time\":     total_time},\n",
    "                          ignore_index=True)\n",
    "test_result_ord = test_result.sort_values(by=['Accuracy'], ascending=False, ignore_index=True)\n",
    "test_result_ord.index += 1 \n",
    "test_result_ord.style.bar(subset=['Accuracy', 'Bal Acc.'], vmin=0, vmax=100, color='#5fba7d')\n"
   ]
  },
  {
   "cell_type": "code",
   "execution_count": null,
   "id": "a90ffaf9",
   "metadata": {
    "ExecuteTime": {
     "end_time": "2021-05-20T19:05:55.237704Z",
     "start_time": "2021-05-20T19:05:55.209610Z"
    }
   },
   "outputs": [],
   "source": [
    "print(classification_report(y_test, pred))\n",
    "print()\n",
    "print(confusion_matrix(y_test, pred))"
   ]
  },
  {
   "cell_type": "markdown",
   "id": "c1bbee38",
   "metadata": {
    "cell_id": "00037-e70c6258-4570-472e-8bf4-63f3ff95d82a",
    "deepnote_cell_type": "markdown",
    "tags": []
   },
   "source": [
    "# Optuna find best parameter for selected model"
   ]
  },
  {
   "cell_type": "code",
   "execution_count": null,
   "id": "cc25b971",
   "metadata": {
    "ExecuteTime": {
     "start_time": "2021-05-21T02:14:11.165Z"
    },
    "cell_id": "00039-d6a8eb4b-d580-445d-9240-d2166c9bd4c8",
    "deepnote_cell_type": "code",
    "tags": []
   },
   "outputs": [
    {
     "name": "stderr",
     "output_type": "stream",
     "text": [
      "\u001b[32m[I 2021-05-21 06:14:11,177]\u001b[0m A new study created in memory with name: no-name-ceb8f8d1-f41e-4030-be5a-aa6f5dc26f11\u001b[0m\n",
      "\u001b[32m[I 2021-05-21 06:14:35,740]\u001b[0m Trial 0 finished with value: 0.9865233601095061 and parameters: {'boosting_type': 'rf', 'max_depth': 30, 'n_estimators': 209, 'learning_rate': 0.05538545627580765, 'min_data_in_leaf': 66}. Best is trial 0 with value: 0.9865233601095061.\u001b[0m\n",
      "\u001b[32m[I 2021-05-21 06:14:57,126]\u001b[0m Trial 1 finished with value: 0.9862169875604865 and parameters: {'boosting_type': 'gbdt', 'max_depth': 30, 'n_estimators': 205, 'learning_rate': 0.06581707090622893, 'min_data_in_leaf': 334}. Best is trial 0 with value: 0.9865233601095061.\u001b[0m\n",
      "\u001b[32m[I 2021-05-21 06:15:19,395]\u001b[0m Trial 2 finished with value: 0.9862169875604865 and parameters: {'boosting_type': 'gbdt', 'max_depth': 13, 'n_estimators': 448, 'learning_rate': 0.07275692352413653, 'min_data_in_leaf': 289}. Best is trial 0 with value: 0.9865233601095061.\u001b[0m\n",
      "\u001b[32m[I 2021-05-21 06:16:42,087]\u001b[0m Trial 3 finished with value: 0.9856046176890843 and parameters: {'boosting_type': 'gbdt', 'max_depth': 12, 'n_estimators': 483, 'learning_rate': 0.01368510333764035, 'min_data_in_leaf': 179}. Best is trial 0 with value: 0.9865233601095061.\u001b[0m\n",
      "\u001b[32m[I 2021-05-21 06:17:03,494]\u001b[0m Trial 4 finished with value: 0.9684509443703997 and parameters: {'boosting_type': 'gbdt', 'max_depth': 3, 'n_estimators': 265, 'learning_rate': 0.010135469662230768, 'min_data_in_leaf': 241}. Best is trial 0 with value: 0.9865233601095061.\u001b[0m\n",
      "\u001b[32m[I 2021-05-21 06:17:38,962]\u001b[0m Trial 5 finished with value: 0.9865233601095061 and parameters: {'boosting_type': 'rf', 'max_depth': 17, 'n_estimators': 317, 'learning_rate': 0.06747421371713742, 'min_data_in_leaf': 398}. Best is trial 0 with value: 0.9865233601095061.\u001b[0m\n",
      "\u001b[32m[I 2021-05-21 06:18:16,735]\u001b[0m Trial 6 finished with value: 0.9865227972695507 and parameters: {'boosting_type': 'gbdt', 'max_depth': 5, 'n_estimators': 468, 'learning_rate': 0.044354521814520764, 'min_data_in_leaf': 235}. Best is trial 0 with value: 0.9865233601095061.\u001b[0m\n",
      "\u001b[32m[I 2021-05-21 06:19:27,677]\u001b[0m Trial 7 finished with value: 0.9859109902381038 and parameters: {'boosting_type': 'rf', 'max_depth': 28, 'n_estimators': 461, 'learning_rate': 0.015726786061177393, 'min_data_in_leaf': 404}. Best is trial 0 with value: 0.9865233601095061.\u001b[0m\n",
      "\u001b[32m[I 2021-05-21 06:19:41,091]\u001b[0m Trial 8 finished with value: 0.9773355606786499 and parameters: {'boosting_type': 'gbdt', 'max_depth': 1, 'n_estimators': 480, 'learning_rate': 0.07154814091025773, 'min_data_in_leaf': 459}. Best is trial 0 with value: 0.9865233601095061.\u001b[0m\n",
      "\u001b[32m[I 2021-05-21 06:20:29,793]\u001b[0m Trial 9 finished with value: 0.9865233601095061 and parameters: {'boosting_type': 'gbdt', 'max_depth': 23, 'n_estimators': 467, 'learning_rate': 0.04121686636385071, 'min_data_in_leaf': 249}. Best is trial 0 with value: 0.9865233601095061.\u001b[0m\n",
      "\u001b[32m[I 2021-05-21 06:20:50,850]\u001b[0m Trial 10 finished with value: 0.9865233601095061 and parameters: {'boosting_type': 'rf', 'max_depth': 32, 'n_estimators': 120, 'learning_rate': 0.09928141554539074, 'min_data_in_leaf': 24}. Best is trial 0 with value: 0.9865233601095061.\u001b[0m\n",
      "\u001b[32m[I 2021-05-21 06:21:11,123]\u001b[0m Trial 11 finished with value: 0.9859106150114669 and parameters: {'boosting_type': 'rf', 'max_depth': 21, 'n_estimators': 352, 'learning_rate': 0.09311775778821588, 'min_data_in_leaf': 16}. Best is trial 0 with value: 0.9865233601095061.\u001b[0m\n",
      "\u001b[32m[I 2021-05-21 06:21:37,664]\u001b[0m Trial 12 finished with value: 0.9865233601095061 and parameters: {'boosting_type': 'rf', 'max_depth': 20, 'n_estimators': 356, 'learning_rate': 0.0584407995079143, 'min_data_in_leaf': 115}. Best is trial 0 with value: 0.9865233601095061.\u001b[0m\n",
      "\u001b[32m[I 2021-05-21 06:21:55,813]\u001b[0m Trial 13 finished with value: 0.986217175173805 and parameters: {'boosting_type': 'rf', 'max_depth': 10, 'n_estimators': 177, 'learning_rate': 0.08331710823192984, 'min_data_in_leaf': 494}. Best is trial 0 with value: 0.9865233601095061.\u001b[0m\n"
     ]
    }
   ],
   "source": [
    "\n",
    "def objective(trial):\n",
    "\n",
    "    boosting_type = trial.suggest_categorical(\"boosting_type\", [\"gbdt\", \"rf\"])\n",
    "    max_depth = trial.suggest_int('max_depth', 1, 32)\n",
    "    n_estimators = trial.suggest_int(\"n_estimators\", 100,500)\n",
    "    learning_rate=trial.suggest_float(\"learning_rate\", 0.001,0.1)\n",
    "    min_data_in_leaf= trial.suggest_int(\"min_data_in_leaf\", 10,500)\n",
    "    \n",
    "    lg_lgbm = XGBClassifier( boosting_type=boosting_type, max_depth=max_depth, \n",
    "            n_estimators=n_estimators,learning_rate=learning_rate,min_data_in_leaf=min_data_in_leaf\n",
    "        )\n",
    "\n",
    "    score = cross_val_score(lg_lgbm, X,y, n_jobs=-1, cv=2)\n",
    "    accuracy = score.mean()\n",
    "    return accuracy\n",
    "\n",
    "study = optuna.create_study(direction=\"maximize\")\n",
    "study.optimize(objective, n_trials=100)\n",
    "\n",
    "trial = study.best_trial\n",
    "print('Accuracy: {}'.format(trial.value))\n",
    "print(\"Best hyperparameters: {}\".format(trial.params))\n"
   ]
  }
 ],
 "metadata": {
  "deepnote": {},
  "deepnote_execution_queue": [
   {
    "cellId": "00036-f8044fff-4d29-45bd-8ff8-21846e0256f1",
    "msgId": "a0eefad6-7bbd-4603-8fed-2940de8884ea",
    "sessionId": "a4c44e80-405a-43fc-968f-79577dc2c4bf"
   }
  ],
  "deepnote_notebook_id": "4d03dad0-0d4b-4262-80a0-cfac3bff1f59",
  "hide_input": false,
  "kernelspec": {
   "display_name": "Python 3",
   "language": "python",
   "name": "python3"
  },
  "language_info": {
   "codemirror_mode": {
    "name": "ipython",
    "version": 3
   },
   "file_extension": ".py",
   "mimetype": "text/x-python",
   "name": "python",
   "nbconvert_exporter": "python",
   "pygments_lexer": "ipython3",
   "version": "3.8.2"
  },
  "toc": {
   "base_numbering": 1,
   "nav_menu": {},
   "number_sections": true,
   "sideBar": true,
   "skip_h1_title": false,
   "title_cell": "Table of Contents",
   "title_sidebar": "Contents",
   "toc_cell": false,
   "toc_position": {},
   "toc_section_display": true,
   "toc_window_display": false
  },
  "varInspector": {
   "cols": {
    "lenName": 16,
    "lenType": 16,
    "lenVar": 40
   },
   "kernels_config": {
    "python": {
     "delete_cmd_postfix": "",
     "delete_cmd_prefix": "del ",
     "library": "var_list.py",
     "varRefreshCmd": "print(var_dic_list())"
    },
    "r": {
     "delete_cmd_postfix": ") ",
     "delete_cmd_prefix": "rm(",
     "library": "var_list.r",
     "varRefreshCmd": "cat(var_dic_list()) "
    }
   },
   "types_to_exclude": [
    "module",
    "function",
    "builtin_function_or_method",
    "instance",
    "_Feature"
   ],
   "window_display": false
  }
 },
 "nbformat": 4,
 "nbformat_minor": 5
}
