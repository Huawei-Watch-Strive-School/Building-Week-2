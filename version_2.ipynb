{
 "cells": [
  {
   "cell_type": "code",
   "execution_count": 1,
   "id": "1c774f0f",
   "metadata": {
    "ExecuteTime": {
     "end_time": "2021-05-21T01:53:08.579582Z",
     "start_time": "2021-05-21T01:53:06.892118Z"
    },
    "cell_id": "00000-8c7c8fca-1c70-4587-91f3-3db57bfd28d0",
    "deepnote_cell_type": "code",
    "deepnote_to_be_reexecuted": false,
    "execution_millis": 5,
    "execution_start": 1621413648486,
    "source_hash": "570c8184"
   },
   "outputs": [
    {
     "name": "stdout",
     "output_type": "stream",
     "text": [
      "Pandas   1.2.4\n",
      "Sklearn  0.24.2\n"
     ]
    }
   ],
   "source": [
    "import time\n",
    "from IPython.display import clear_output\n",
    "import numpy    as np\n",
    "import pandas   as pd\n",
    "\n",
    "import optuna\n",
    "from random import shuffle\n",
    "from sklearn.decomposition import PCA\n",
    "from sklearn.metrics import classification_report,confusion_matrix\n",
    "from sklearn.ensemble import RandomForestClassifier,GradientBoostingClassifier\n",
    "from sklearn.pipeline import Pipeline ,make_pipeline\n",
    "from sklearn import impute\n",
    "from sklearn import compose\n",
    "from sklearn.model_selection import train_test_split,cross_val_score\n",
    "from sklearn.metrics import accuracy_score, balanced_accuracy_score, plot_confusion_matrix,roc_auc_score\n",
    "from sklearn import set_config\n",
    "import warnings\n",
    "warnings.filterwarnings('ignore')\n",
    "from sklearn.preprocessing import MinMaxScaler,Normalizer,PowerTransformer,QuantileTransformer, RobustScaler,StandardScaler,LabelEncoder, OneHotEncoder,OrdinalEncoder\n",
    "from sklearn.tree          import DecisionTreeClassifier\n",
    "from sklearn.linear_model  import LogisticRegression    \n",
    "from xgboost               import XGBClassifier\n",
    "from lightgbm              import LGBMClassifier\n",
    "from sklearn.neighbors import KNeighborsClassifier\n",
    "from sklearn.naive_bayes import GaussianNB\n",
    "import sklearn\n",
    "set_config(display='diagram') # Useful for display the pipeline\n",
    "print(\"Pandas  \", pd.__version__)\n",
    "print(\"Sklearn \", sklearn.__version__) # Try to use 0.24\n",
    "\n"
   ]
  },
  {
   "cell_type": "code",
   "execution_count": 2,
   "id": "341b1505",
   "metadata": {
    "ExecuteTime": {
     "end_time": "2021-05-21T01:53:09.849138Z",
     "start_time": "2021-05-21T01:53:09.740572Z"
    },
    "cell_id": "00001-06e6221d-0730-4e01-9045-bce276c93090",
    "deepnote_cell_type": "code",
    "deepnote_to_be_reexecuted": false,
    "execution_millis": 165,
    "execution_start": 1621413555476,
    "source_hash": "31454d99"
   },
   "outputs": [
    {
     "data": {
      "text/html": [
       "<div>\n",
       "<style scoped>\n",
       "    .dataframe tbody tr th:only-of-type {\n",
       "        vertical-align: middle;\n",
       "    }\n",
       "\n",
       "    .dataframe tbody tr th {\n",
       "        vertical-align: top;\n",
       "    }\n",
       "\n",
       "    .dataframe thead th {\n",
       "        text-align: right;\n",
       "    }\n",
       "</style>\n",
       "<table border=\"1\" class=\"dataframe\">\n",
       "  <thead>\n",
       "    <tr style=\"text-align: right;\">\n",
       "      <th></th>\n",
       "      <th>id</th>\n",
       "      <th>time</th>\n",
       "      <th>activityrecognition#0</th>\n",
       "      <th>activityrecognition#1</th>\n",
       "      <th>android.sensor.accelerometer#mean</th>\n",
       "      <th>android.sensor.accelerometer#min</th>\n",
       "      <th>android.sensor.accelerometer#max</th>\n",
       "      <th>android.sensor.accelerometer#std</th>\n",
       "      <th>android.sensor.game_rotation_vector#mean</th>\n",
       "      <th>android.sensor.game_rotation_vector#min</th>\n",
       "      <th>...</th>\n",
       "      <th>sound#mean</th>\n",
       "      <th>sound#min</th>\n",
       "      <th>sound#max</th>\n",
       "      <th>sound#std</th>\n",
       "      <th>speed#mean</th>\n",
       "      <th>speed#min</th>\n",
       "      <th>speed#max</th>\n",
       "      <th>speed#std</th>\n",
       "      <th>target</th>\n",
       "      <th>user</th>\n",
       "    </tr>\n",
       "  </thead>\n",
       "  <tbody>\n",
       "    <tr>\n",
       "      <th>0</th>\n",
       "      <td>16170</td>\n",
       "      <td>78.0</td>\n",
       "      <td>NaN</td>\n",
       "      <td>100.0</td>\n",
       "      <td>9.811476</td>\n",
       "      <td>9.758895</td>\n",
       "      <td>9.849411</td>\n",
       "      <td>0.014626</td>\n",
       "      <td>0.029340</td>\n",
       "      <td>0.029014</td>\n",
       "      <td>...</td>\n",
       "      <td>NaN</td>\n",
       "      <td>NaN</td>\n",
       "      <td>NaN</td>\n",
       "      <td>NaN</td>\n",
       "      <td>0.000000</td>\n",
       "      <td>0.000000</td>\n",
       "      <td>0.000000</td>\n",
       "      <td>0.000000</td>\n",
       "      <td>Still</td>\n",
       "      <td>Luca</td>\n",
       "    </tr>\n",
       "    <tr>\n",
       "      <th>1</th>\n",
       "      <td>15871</td>\n",
       "      <td>145.0</td>\n",
       "      <td>NaN</td>\n",
       "      <td>100.0</td>\n",
       "      <td>9.939207</td>\n",
       "      <td>7.707437</td>\n",
       "      <td>17.146631</td>\n",
       "      <td>1.775944</td>\n",
       "      <td>0.999925</td>\n",
       "      <td>0.999903</td>\n",
       "      <td>...</td>\n",
       "      <td>89.200210</td>\n",
       "      <td>89.065143</td>\n",
       "      <td>89.335277</td>\n",
       "      <td>0.191013</td>\n",
       "      <td>16.539349</td>\n",
       "      <td>16.539349</td>\n",
       "      <td>16.539349</td>\n",
       "      <td>0.628595</td>\n",
       "      <td>Car</td>\n",
       "      <td>Luca</td>\n",
       "    </tr>\n",
       "    <tr>\n",
       "      <th>2</th>\n",
       "      <td>16811</td>\n",
       "      <td>150.0</td>\n",
       "      <td>NaN</td>\n",
       "      <td>100.0</td>\n",
       "      <td>9.827178</td>\n",
       "      <td>9.804817</td>\n",
       "      <td>9.849262</td>\n",
       "      <td>0.011199</td>\n",
       "      <td>0.665215</td>\n",
       "      <td>0.665213</td>\n",
       "      <td>...</td>\n",
       "      <td>NaN</td>\n",
       "      <td>NaN</td>\n",
       "      <td>NaN</td>\n",
       "      <td>NaN</td>\n",
       "      <td>0.000000</td>\n",
       "      <td>0.000000</td>\n",
       "      <td>0.000000</td>\n",
       "      <td>0.000000</td>\n",
       "      <td>Still</td>\n",
       "      <td>Luca</td>\n",
       "    </tr>\n",
       "    <tr>\n",
       "      <th>3</th>\n",
       "      <td>15831</td>\n",
       "      <td>105.0</td>\n",
       "      <td>NaN</td>\n",
       "      <td>77.0</td>\n",
       "      <td>9.673039</td>\n",
       "      <td>7.659674</td>\n",
       "      <td>12.304298</td>\n",
       "      <td>0.862553</td>\n",
       "      <td>0.996221</td>\n",
       "      <td>0.993781</td>\n",
       "      <td>...</td>\n",
       "      <td>87.470377</td>\n",
       "      <td>87.470377</td>\n",
       "      <td>87.470377</td>\n",
       "      <td>2.284186</td>\n",
       "      <td>17.739895</td>\n",
       "      <td>17.739895</td>\n",
       "      <td>17.739895</td>\n",
       "      <td>0.628595</td>\n",
       "      <td>Car</td>\n",
       "      <td>Luca</td>\n",
       "    </tr>\n",
       "    <tr>\n",
       "      <th>4</th>\n",
       "      <td>876</td>\n",
       "      <td>77.0</td>\n",
       "      <td>NaN</td>\n",
       "      <td>100.0</td>\n",
       "      <td>9.993466</td>\n",
       "      <td>8.965621</td>\n",
       "      <td>10.891645</td>\n",
       "      <td>0.504117</td>\n",
       "      <td>0.563792</td>\n",
       "      <td>0.521799</td>\n",
       "      <td>...</td>\n",
       "      <td>89.770732</td>\n",
       "      <td>89.770732</td>\n",
       "      <td>89.770732</td>\n",
       "      <td>0.006389</td>\n",
       "      <td>9.000000</td>\n",
       "      <td>9.000000</td>\n",
       "      <td>9.000000</td>\n",
       "      <td>NaN</td>\n",
       "      <td>Car</td>\n",
       "      <td>andrea</td>\n",
       "    </tr>\n",
       "  </tbody>\n",
       "</table>\n",
       "<p>5 rows × 70 columns</p>\n",
       "</div>"
      ],
      "text/plain": [
       "      id   time  activityrecognition#0  activityrecognition#1  \\\n",
       "0  16170   78.0                    NaN                  100.0   \n",
       "1  15871  145.0                    NaN                  100.0   \n",
       "2  16811  150.0                    NaN                  100.0   \n",
       "3  15831  105.0                    NaN                   77.0   \n",
       "4    876   77.0                    NaN                  100.0   \n",
       "\n",
       "   android.sensor.accelerometer#mean  android.sensor.accelerometer#min  \\\n",
       "0                           9.811476                          9.758895   \n",
       "1                           9.939207                          7.707437   \n",
       "2                           9.827178                          9.804817   \n",
       "3                           9.673039                          7.659674   \n",
       "4                           9.993466                          8.965621   \n",
       "\n",
       "   android.sensor.accelerometer#max  android.sensor.accelerometer#std  \\\n",
       "0                          9.849411                          0.014626   \n",
       "1                         17.146631                          1.775944   \n",
       "2                          9.849262                          0.011199   \n",
       "3                         12.304298                          0.862553   \n",
       "4                         10.891645                          0.504117   \n",
       "\n",
       "   android.sensor.game_rotation_vector#mean  \\\n",
       "0                                  0.029340   \n",
       "1                                  0.999925   \n",
       "2                                  0.665215   \n",
       "3                                  0.996221   \n",
       "4                                  0.563792   \n",
       "\n",
       "   android.sensor.game_rotation_vector#min  ...  sound#mean  sound#min  \\\n",
       "0                                 0.029014  ...         NaN        NaN   \n",
       "1                                 0.999903  ...   89.200210  89.065143   \n",
       "2                                 0.665213  ...         NaN        NaN   \n",
       "3                                 0.993781  ...   87.470377  87.470377   \n",
       "4                                 0.521799  ...   89.770732  89.770732   \n",
       "\n",
       "   sound#max  sound#std  speed#mean  speed#min  speed#max  speed#std  target  \\\n",
       "0        NaN        NaN    0.000000   0.000000   0.000000   0.000000   Still   \n",
       "1  89.335277   0.191013   16.539349  16.539349  16.539349   0.628595     Car   \n",
       "2        NaN        NaN    0.000000   0.000000   0.000000   0.000000   Still   \n",
       "3  87.470377   2.284186   17.739895  17.739895  17.739895   0.628595     Car   \n",
       "4  89.770732   0.006389    9.000000   9.000000   9.000000        NaN     Car   \n",
       "\n",
       "     user  \n",
       "0    Luca  \n",
       "1    Luca  \n",
       "2    Luca  \n",
       "3    Luca  \n",
       "4  andrea  \n",
       "\n",
       "[5 rows x 70 columns]"
      ]
     },
     "execution_count": 2,
     "metadata": {},
     "output_type": "execute_result"
    }
   ],
   "source": [
    "data = pd.read_csv('./data/data_5secondWindow .csv')\n",
    "data.head(5)"
   ]
  },
  {
   "cell_type": "code",
   "execution_count": null,
   "id": "725906f0",
   "metadata": {
    "ExecuteTime": {
     "end_time": "2021-05-20T19:03:16.813469Z",
     "start_time": "2021-05-20T19:03:16.517158Z"
    },
    "scrolled": true
   },
   "outputs": [],
   "source": [
    "data.describe()"
   ]
  },
  {
   "cell_type": "code",
   "execution_count": null,
   "id": "95ab423d",
   "metadata": {
    "ExecuteTime": {
     "end_time": "2021-05-20T17:52:24.050518Z",
     "start_time": "2021-05-20T17:52:24.037100Z"
    }
   },
   "outputs": [],
   "source": [
    "data.groupby('target').size()"
   ]
  },
  {
   "cell_type": "code",
   "execution_count": 3,
   "id": "f2aa5eda",
   "metadata": {
    "ExecuteTime": {
     "end_time": "2021-05-21T01:53:12.875182Z",
     "start_time": "2021-05-21T01:53:12.837271Z"
    }
   },
   "outputs": [],
   "source": [
    "def change_name(df):\n",
    "    column_names=[]\n",
    "    for i in df.columns:\n",
    "        k=i.replace('.','_').replace(\"#\",'_')\n",
    "        df.rename(columns = {i:k}, inplace = True)\n",
    "    return df\n",
    "data=change_name(data)"
   ]
  },
  {
   "cell_type": "code",
   "execution_count": null,
   "id": "a75d4c9a",
   "metadata": {
    "ExecuteTime": {
     "end_time": "2021-05-20T19:03:21.415283Z",
     "start_time": "2021-05-20T19:03:21.400215Z"
    }
   },
   "outputs": [],
   "source": [
    "data=data[data['target']!='Bus']\n",
    "data=data[data['target']!='Train']"
   ]
  },
  {
   "cell_type": "code",
   "execution_count": null,
   "id": "ac49865e",
   "metadata": {
    "ExecuteTime": {
     "end_time": "2021-05-20T19:03:22.367323Z",
     "start_time": "2021-05-20T19:03:22.360386Z"
    }
   },
   "outputs": [],
   "source": [
    "features=['android_sensor_gyroscope_mean',\n",
    "'android_sensor_accelerometer_std',\n",
    "'android_sensor_gyroscope_uncalibrated_mean',\n",
    "'android_sensor_linear_acceleration_mean',\n",
    "'android_sensor_gyroscope_uncalibrated_max',\n",
    "'android_sensor_gyroscope_max',\n",
    "'speed_max'  ,  \n",
    "'android_sensor_rotation_vector_mean'   ,\n",
    "'android_sensor_accelerometer_min',\n",
    "'android_sensor_magnetic_field_uncalibrated_min',\n",
    "'sound_min',\n",
    "'target',\n",
    "'user']"
   ]
  },
  {
   "cell_type": "code",
   "execution_count": null,
   "id": "75d8f22d",
   "metadata": {
    "ExecuteTime": {
     "end_time": "2021-05-20T19:03:25.132308Z",
     "start_time": "2021-05-20T19:03:25.126648Z"
    }
   },
   "outputs": [],
   "source": [
    "# data=data[features]"
   ]
  },
  {
   "cell_type": "code",
   "execution_count": 4,
   "id": "283b2327",
   "metadata": {
    "ExecuteTime": {
     "end_time": "2021-05-21T01:53:19.826386Z",
     "start_time": "2021-05-21T01:53:19.818041Z"
    }
   },
   "outputs": [],
   "source": [
    "# create test data from some user \n",
    "def split_data(df):\n",
    "    l=df.user.unique().tolist()\n",
    "    # create random list of indi\n",
    "    shuffle(l)\n",
    "    train_user=l[2:]\n",
    "    test_user=l[:2]\n",
    "    # get splitting indicies\n",
    "#     train=data[data['user'].isin(train_user)]\n",
    "#     test = data[data['user'].isin(test_user)]\n",
    "    train=df[df['user']!='IvanHeibi']\n",
    "    test=df[df['user']=='IvanHeibi'] \n",
    "    return train, test"
   ]
  },
  {
   "cell_type": "code",
   "execution_count": 5,
   "id": "dca72c91",
   "metadata": {
    "ExecuteTime": {
     "end_time": "2021-05-21T01:53:21.430216Z",
     "start_time": "2021-05-21T01:53:21.419250Z"
    }
   },
   "outputs": [],
   "source": [
    "df_train,df_test=split_data(data)\n"
   ]
  },
  {
   "cell_type": "code",
   "execution_count": 6,
   "id": "01585afb",
   "metadata": {
    "ExecuteTime": {
     "end_time": "2021-05-21T01:53:23.164585Z",
     "start_time": "2021-05-21T01:53:23.144740Z"
    }
   },
   "outputs": [
    {
     "name": "stdout",
     "output_type": "stream",
     "text": [
      "There are 11 columns with more than 75% missing values\n"
     ]
    }
   ],
   "source": [
    "train_missing = (df_train.isnull().sum() / len(df_train)).sort_values(ascending = False)\n",
    "test_missing = (df_test.isnull().sum() / len(df_test)).sort_values(ascending = False)\n",
    "\n",
    "train_missing = train_missing.index[train_missing > 0.75]\n",
    "test_missing = test_missing.index[test_missing > 0.75]\n",
    "\n",
    "all_missing = list(set(set(train_missing) | set(test_missing)))\n",
    "print('There are %d columns with more than 75%% missing values' % len(all_missing))"
   ]
  },
  {
   "cell_type": "code",
   "execution_count": 7,
   "id": "bb7b0935",
   "metadata": {
    "ExecuteTime": {
     "end_time": "2021-05-21T01:53:24.515094Z",
     "start_time": "2021-05-21T01:53:24.507783Z"
    }
   },
   "outputs": [],
   "source": [
    "# Drop missing data \n",
    "df_train = df_train.drop(all_missing,axis=1)\n",
    "df_test  = df_test.drop(all_missing,axis=1)\n"
   ]
  },
  {
   "cell_type": "code",
   "execution_count": 8,
   "id": "f6a123ae",
   "metadata": {
    "ExecuteTime": {
     "end_time": "2021-05-21T01:53:49.232698Z",
     "start_time": "2021-05-21T01:53:49.221617Z"
    }
   },
   "outputs": [],
   "source": [
    "unimp    = ['user','id','time']\n",
    "df_train = df_train.drop(unimp,axis=1)\n",
    "df_test  = df_test.drop(unimp,axis=1)"
   ]
  },
  {
   "cell_type": "code",
   "execution_count": 9,
   "id": "9eb621de",
   "metadata": {
    "ExecuteTime": {
     "end_time": "2021-05-21T01:53:51.337665Z",
     "start_time": "2021-05-21T01:53:51.332079Z"
    }
   },
   "outputs": [
    {
     "name": "stdout",
     "output_type": "stream",
     "text": [
      "(5622, 56)\n",
      "(271, 56)\n"
     ]
    }
   ],
   "source": [
    "print(df_train.shape)\n",
    "print(df_test.shape)"
   ]
  },
  {
   "cell_type": "code",
   "execution_count": 10,
   "id": "39653391",
   "metadata": {
    "ExecuteTime": {
     "end_time": "2021-05-21T01:53:52.850460Z",
     "start_time": "2021-05-21T01:53:52.838051Z"
    }
   },
   "outputs": [],
   "source": [
    "X=df_train.drop('target',axis=1)\n",
    "y=df_train.target\n",
    "X_test=df_test.drop('target',axis=1)\n",
    "y_test=df_test.target"
   ]
  },
  {
   "cell_type": "code",
   "execution_count": 21,
   "id": "39edca24",
   "metadata": {
    "ExecuteTime": {
     "end_time": "2021-05-21T01:56:08.803768Z",
     "start_time": "2021-05-21T01:56:08.797583Z"
    },
    "code_folding": []
   },
   "outputs": [],
   "source": [
    "# pipline and PcA\n",
    "# pca=PCA(n_components=15)\n",
    "# scaler=StandardScaler()\n",
    "# encoder = LabelEncoder()\n",
    "# onecoder=OneHotEncoder()\n",
    "num_var=X.columns.to_list()\n",
    "num_pip=Pipeline([('imputer',impute.SimpleImputer(strategy='mean')),\n",
    "                   ('scalar',StandardScaler()),\n",
    "#                  ('PCA' ,PCA(n_components=10)),\n",
    "               ]) \n",
    "preprocessor=compose.ColumnTransformer([\n",
    "    ('num',num_pip,num_var)\n",
    "])"
   ]
  },
  {
   "cell_type": "code",
   "execution_count": null,
   "id": "d15d3b55",
   "metadata": {
    "ExecuteTime": {
     "end_time": "2021-05-20T17:17:14.171748Z",
     "start_time": "2021-05-20T17:17:14.166692Z"
    }
   },
   "outputs": [],
   "source": [
    "# X_sc=preprocessor.fit_transform(X)\n",
    "# X_test_sc=preprocessor.fit_transform(X_test)\n",
    "# X_sc = pd.DataFrame(X_sc, columns=X.columns)\n",
    "# X_test_sc = pd.DataFrame(X_test_sc, columns=X_test.columns)"
   ]
  },
  {
   "cell_type": "code",
   "execution_count": null,
   "id": "182957c3",
   "metadata": {
    "ExecuteTime": {
     "end_time": "2021-05-20T14:49:07.977762Z",
     "start_time": "2021-05-20T14:49:07.975390Z"
    }
   },
   "outputs": [],
   "source": [
    "# y_train = np.reshape(y_train, (y_train.shape[0]))\n",
    "# y_test = np.reshape(y_test, (y_test.shape[0]))"
   ]
  },
  {
   "cell_type": "code",
   "execution_count": 22,
   "id": "a03dae39",
   "metadata": {
    "ExecuteTime": {
     "end_time": "2021-05-21T01:56:11.382574Z",
     "start_time": "2021-05-21T01:56:11.330606Z"
    }
   },
   "outputs": [
    {
     "data": {
      "text/html": [
       "<style>#sk-c9af41de-3ea2-4d4d-8c9f-9e8e16d0813c {color: black;background-color: white;}#sk-c9af41de-3ea2-4d4d-8c9f-9e8e16d0813c pre{padding: 0;}#sk-c9af41de-3ea2-4d4d-8c9f-9e8e16d0813c div.sk-toggleable {background-color: white;}#sk-c9af41de-3ea2-4d4d-8c9f-9e8e16d0813c label.sk-toggleable__label {cursor: pointer;display: block;width: 100%;margin-bottom: 0;padding: 0.2em 0.3em;box-sizing: border-box;text-align: center;}#sk-c9af41de-3ea2-4d4d-8c9f-9e8e16d0813c div.sk-toggleable__content {max-height: 0;max-width: 0;overflow: hidden;text-align: left;background-color: #f0f8ff;}#sk-c9af41de-3ea2-4d4d-8c9f-9e8e16d0813c div.sk-toggleable__content pre {margin: 0.2em;color: black;border-radius: 0.25em;background-color: #f0f8ff;}#sk-c9af41de-3ea2-4d4d-8c9f-9e8e16d0813c input.sk-toggleable__control:checked~div.sk-toggleable__content {max-height: 200px;max-width: 100%;overflow: auto;}#sk-c9af41de-3ea2-4d4d-8c9f-9e8e16d0813c div.sk-estimator input.sk-toggleable__control:checked~label.sk-toggleable__label {background-color: #d4ebff;}#sk-c9af41de-3ea2-4d4d-8c9f-9e8e16d0813c div.sk-label input.sk-toggleable__control:checked~label.sk-toggleable__label {background-color: #d4ebff;}#sk-c9af41de-3ea2-4d4d-8c9f-9e8e16d0813c input.sk-hidden--visually {border: 0;clip: rect(1px 1px 1px 1px);clip: rect(1px, 1px, 1px, 1px);height: 1px;margin: -1px;overflow: hidden;padding: 0;position: absolute;width: 1px;}#sk-c9af41de-3ea2-4d4d-8c9f-9e8e16d0813c div.sk-estimator {font-family: monospace;background-color: #f0f8ff;margin: 0.25em 0.25em;border: 1px dotted black;border-radius: 0.25em;box-sizing: border-box;}#sk-c9af41de-3ea2-4d4d-8c9f-9e8e16d0813c div.sk-estimator:hover {background-color: #d4ebff;}#sk-c9af41de-3ea2-4d4d-8c9f-9e8e16d0813c div.sk-parallel-item::after {content: \"\";width: 100%;border-bottom: 1px solid gray;flex-grow: 1;}#sk-c9af41de-3ea2-4d4d-8c9f-9e8e16d0813c div.sk-label:hover label.sk-toggleable__label {background-color: #d4ebff;}#sk-c9af41de-3ea2-4d4d-8c9f-9e8e16d0813c div.sk-serial::before {content: \"\";position: absolute;border-left: 1px solid gray;box-sizing: border-box;top: 2em;bottom: 0;left: 50%;}#sk-c9af41de-3ea2-4d4d-8c9f-9e8e16d0813c div.sk-serial {display: flex;flex-direction: column;align-items: center;background-color: white;}#sk-c9af41de-3ea2-4d4d-8c9f-9e8e16d0813c div.sk-item {z-index: 1;}#sk-c9af41de-3ea2-4d4d-8c9f-9e8e16d0813c div.sk-parallel {display: flex;align-items: stretch;justify-content: center;background-color: white;}#sk-c9af41de-3ea2-4d4d-8c9f-9e8e16d0813c div.sk-parallel-item {display: flex;flex-direction: column;position: relative;background-color: white;}#sk-c9af41de-3ea2-4d4d-8c9f-9e8e16d0813c div.sk-parallel-item:first-child::after {align-self: flex-end;width: 50%;}#sk-c9af41de-3ea2-4d4d-8c9f-9e8e16d0813c div.sk-parallel-item:last-child::after {align-self: flex-start;width: 50%;}#sk-c9af41de-3ea2-4d4d-8c9f-9e8e16d0813c div.sk-parallel-item:only-child::after {width: 0;}#sk-c9af41de-3ea2-4d4d-8c9f-9e8e16d0813c div.sk-dashed-wrapped {border: 1px dashed gray;margin: 0.2em;box-sizing: border-box;padding-bottom: 0.1em;background-color: white;position: relative;}#sk-c9af41de-3ea2-4d4d-8c9f-9e8e16d0813c div.sk-label label {font-family: monospace;font-weight: bold;background-color: white;display: inline-block;line-height: 1.2em;}#sk-c9af41de-3ea2-4d4d-8c9f-9e8e16d0813c div.sk-label-container {position: relative;z-index: 2;text-align: center;}#sk-c9af41de-3ea2-4d4d-8c9f-9e8e16d0813c div.sk-container {display: inline-block;position: relative;}</style><div id=\"sk-c9af41de-3ea2-4d4d-8c9f-9e8e16d0813c\" class\"sk-top-container\"><div class=\"sk-container\"><div class=\"sk-item sk-dashed-wrapped\"><div class=\"sk-label-container\"><div class=\"sk-label sk-toggleable\"><input class=\"sk-toggleable__control sk-hidden--visually\" id=\"6e8e9a88-6a45-4ac9-a1ee-d01b595f3eaf\" type=\"checkbox\" ><label class=\"sk-toggleable__label\" for=\"6e8e9a88-6a45-4ac9-a1ee-d01b595f3eaf\">Pipeline</label><div class=\"sk-toggleable__content\"><pre>Pipeline(steps=[('columntransformer',\n",
       "                 ColumnTransformer(transformers=[('num',\n",
       "                                                  Pipeline(steps=[('imputer',\n",
       "                                                                   SimpleImputer()),\n",
       "                                                                  ('scalar',\n",
       "                                                                   StandardScaler())]),\n",
       "                                                  ['activityrecognition_1',\n",
       "                                                   'android_sensor_accelerometer_mean',\n",
       "                                                   'android_sensor_accelerometer_min',\n",
       "                                                   'android_sensor_accelerometer_max',\n",
       "                                                   'android_sensor_accelerometer_std',\n",
       "                                                   'android_sensor_game_rotation_vect...\n",
       "                                                   'android_sensor_light_min',\n",
       "                                                   'android_sensor_light_max',\n",
       "                                                   'android_sensor_light_std',\n",
       "                                                   'android_sensor_linear_acceleration_mean',\n",
       "                                                   'android_sensor_linear_acceleration_min',\n",
       "                                                   'android_sensor_linear_acceleration_max',\n",
       "                                                   'android_sensor_linear_acceleration_std',\n",
       "                                                   'android_sensor_magnetic_field_mean', ...])])),\n",
       "                ('gradientboostingclassifier', GradientBoostingClassifier())])</pre></div></div></div><div class=\"sk-serial\"><div class=\"sk-item sk-dashed-wrapped\"><div class=\"sk-label-container\"><div class=\"sk-label sk-toggleable\"><input class=\"sk-toggleable__control sk-hidden--visually\" id=\"fcf672fc-dd01-4898-acc8-6097ad8870ee\" type=\"checkbox\" ><label class=\"sk-toggleable__label\" for=\"fcf672fc-dd01-4898-acc8-6097ad8870ee\">columntransformer: ColumnTransformer</label><div class=\"sk-toggleable__content\"><pre>ColumnTransformer(transformers=[('num',\n",
       "                                 Pipeline(steps=[('imputer', SimpleImputer()),\n",
       "                                                 ('scalar', StandardScaler())]),\n",
       "                                 ['activityrecognition_1',\n",
       "                                  'android_sensor_accelerometer_mean',\n",
       "                                  'android_sensor_accelerometer_min',\n",
       "                                  'android_sensor_accelerometer_max',\n",
       "                                  'android_sensor_accelerometer_std',\n",
       "                                  'android_sensor_game_rotation_vector_mean',\n",
       "                                  'android_sensor_game_rotatio...\n",
       "                                  'android_sensor_gyroscope_uncalibrated_std',\n",
       "                                  'android_sensor_light_mean',\n",
       "                                  'android_sensor_light_min',\n",
       "                                  'android_sensor_light_max',\n",
       "                                  'android_sensor_light_std',\n",
       "                                  'android_sensor_linear_acceleration_mean',\n",
       "                                  'android_sensor_linear_acceleration_min',\n",
       "                                  'android_sensor_linear_acceleration_max',\n",
       "                                  'android_sensor_linear_acceleration_std',\n",
       "                                  'android_sensor_magnetic_field_mean', ...])])</pre></div></div></div><div class=\"sk-parallel\"><div class=\"sk-parallel-item\"><div class=\"sk-item\"><div class=\"sk-label-container\"><div class=\"sk-label sk-toggleable\"><input class=\"sk-toggleable__control sk-hidden--visually\" id=\"c7725081-262a-4df2-9d8f-a97de586d62c\" type=\"checkbox\" ><label class=\"sk-toggleable__label\" for=\"c7725081-262a-4df2-9d8f-a97de586d62c\">num</label><div class=\"sk-toggleable__content\"><pre>['activityrecognition_1', 'android_sensor_accelerometer_mean', 'android_sensor_accelerometer_min', 'android_sensor_accelerometer_max', 'android_sensor_accelerometer_std', 'android_sensor_game_rotation_vector_mean', 'android_sensor_game_rotation_vector_min', 'android_sensor_game_rotation_vector_max', 'android_sensor_game_rotation_vector_std', 'android_sensor_gravity_mean', 'android_sensor_gravity_min', 'android_sensor_gravity_max', 'android_sensor_gravity_std', 'android_sensor_gyroscope_mean', 'android_sensor_gyroscope_min', 'android_sensor_gyroscope_max', 'android_sensor_gyroscope_std', 'android_sensor_gyroscope_uncalibrated_mean', 'android_sensor_gyroscope_uncalibrated_min', 'android_sensor_gyroscope_uncalibrated_max', 'android_sensor_gyroscope_uncalibrated_std', 'android_sensor_light_mean', 'android_sensor_light_min', 'android_sensor_light_max', 'android_sensor_light_std', 'android_sensor_linear_acceleration_mean', 'android_sensor_linear_acceleration_min', 'android_sensor_linear_acceleration_max', 'android_sensor_linear_acceleration_std', 'android_sensor_magnetic_field_mean', 'android_sensor_magnetic_field_min', 'android_sensor_magnetic_field_max', 'android_sensor_magnetic_field_std', 'android_sensor_magnetic_field_uncalibrated_mean', 'android_sensor_magnetic_field_uncalibrated_min', 'android_sensor_magnetic_field_uncalibrated_max', 'android_sensor_magnetic_field_uncalibrated_std', 'android_sensor_orientation_mean', 'android_sensor_orientation_min', 'android_sensor_orientation_max', 'android_sensor_orientation_std', 'android_sensor_pressure_mean', 'android_sensor_pressure_min', 'android_sensor_pressure_max', 'android_sensor_rotation_vector_mean', 'android_sensor_rotation_vector_min', 'android_sensor_rotation_vector_max', 'android_sensor_rotation_vector_std', 'sound_mean', 'sound_min', 'sound_max', 'sound_std', 'speed_mean', 'speed_min', 'speed_max']</pre></div></div></div><div class=\"sk-serial\"><div class=\"sk-item\"><div class=\"sk-serial\"><div class=\"sk-item\"><div class=\"sk-estimator sk-toggleable\"><input class=\"sk-toggleable__control sk-hidden--visually\" id=\"366bc248-77b3-436a-bce7-25aab3b90d9b\" type=\"checkbox\" ><label class=\"sk-toggleable__label\" for=\"366bc248-77b3-436a-bce7-25aab3b90d9b\">SimpleImputer</label><div class=\"sk-toggleable__content\"><pre>SimpleImputer()</pre></div></div></div><div class=\"sk-item\"><div class=\"sk-estimator sk-toggleable\"><input class=\"sk-toggleable__control sk-hidden--visually\" id=\"40f3ad98-1328-4238-b534-f8d413090cec\" type=\"checkbox\" ><label class=\"sk-toggleable__label\" for=\"40f3ad98-1328-4238-b534-f8d413090cec\">StandardScaler</label><div class=\"sk-toggleable__content\"><pre>StandardScaler()</pre></div></div></div></div></div></div></div></div></div></div><div class=\"sk-item\"><div class=\"sk-estimator sk-toggleable\"><input class=\"sk-toggleable__control sk-hidden--visually\" id=\"7ad432d1-1929-425f-9fea-95082ad21163\" type=\"checkbox\" ><label class=\"sk-toggleable__label\" for=\"7ad432d1-1929-425f-9fea-95082ad21163\">GradientBoostingClassifier</label><div class=\"sk-toggleable__content\"><pre>GradientBoostingClassifier()</pre></div></div></div></div></div></div></div>"
      ],
      "text/plain": [
       "Pipeline(steps=[('columntransformer',\n",
       "                 ColumnTransformer(transformers=[('num',\n",
       "                                                  Pipeline(steps=[('imputer',\n",
       "                                                                   SimpleImputer()),\n",
       "                                                                  ('scalar',\n",
       "                                                                   StandardScaler())]),\n",
       "                                                  ['activityrecognition_1',\n",
       "                                                   'android_sensor_accelerometer_mean',\n",
       "                                                   'android_sensor_accelerometer_min',\n",
       "                                                   'android_sensor_accelerometer_max',\n",
       "                                                   'android_sensor_accelerometer_std',\n",
       "                                                   'android_sensor_game_rotation_vect...\n",
       "                                                   'android_sensor_light_min',\n",
       "                                                   'android_sensor_light_max',\n",
       "                                                   'android_sensor_light_std',\n",
       "                                                   'android_sensor_linear_acceleration_mean',\n",
       "                                                   'android_sensor_linear_acceleration_min',\n",
       "                                                   'android_sensor_linear_acceleration_max',\n",
       "                                                   'android_sensor_linear_acceleration_std',\n",
       "                                                   'android_sensor_magnetic_field_mean', ...])])),\n",
       "                ('gradientboostingclassifier', GradientBoostingClassifier())])"
      ]
     },
     "execution_count": 22,
     "metadata": {},
     "output_type": "execute_result"
    }
   ],
   "source": [
    "models = {\n",
    "\"DecisionTreeClassifier\": DecisionTreeClassifier(),\n",
    "'KNeighborsClassifier':KNeighborsClassifier(6),\n",
    "'LogisticRegression':LogisticRegression(),\n",
    "\"RandomForestClassifier\":RandomForestClassifier(),\n",
    "\"GradientBoostingClassifier\":GradientBoostingClassifier(),\n",
    "\"XGBClassifier\":XGBClassifier(),\n",
    "\"LGBMClassifier\":LGBMClassifier(),\n",
    "'GaussianNB':GaussianNB(),\n",
    "\n",
    "}\n",
    "# make pipline with  preprocessing \n",
    "classifiers = {name:make_pipeline(preprocessor, model) for name, model in models.items()}\n",
    "classifiers[\"GradientBoostingClassifier\"]"
   ]
  },
  {
   "cell_type": "code",
   "execution_count": 23,
   "id": "fe97feec",
   "metadata": {
    "ExecuteTime": {
     "end_time": "2021-05-21T01:56:58.348742Z",
     "start_time": "2021-05-21T01:56:13.647503Z"
    }
   },
   "outputs": [
    {
     "name": "stdout",
     "output_type": "stream",
     "text": [
      "[05:56:47] WARNING: ../src/learner.cc:1095: Starting in XGBoost 1.3.0, the default evaluation metric used with the objective 'multi:softprob' was changed from 'merror' to 'mlogloss'. Explicitly set eval_metric if you'd like to restore the old behavior.\n"
     ]
    },
    {
     "data": {
      "text/html": [
       "<style  type=\"text/css\" >\n",
       "#T_2c5f9_row0_col1,#T_2c5f9_row0_col2{\n",
       "            width:  10em;\n",
       "             height:  80%;\n",
       "            background:  linear-gradient(90deg,#5fba7d 99.0%, transparent 99.0%);\n",
       "        }#T_2c5f9_row1_col1{\n",
       "            width:  10em;\n",
       "             height:  80%;\n",
       "            background:  linear-gradient(90deg,#5fba7d 98.8%, transparent 98.8%);\n",
       "        }#T_2c5f9_row1_col2{\n",
       "            width:  10em;\n",
       "             height:  80%;\n",
       "            background:  linear-gradient(90deg,#5fba7d 98.7%, transparent 98.7%);\n",
       "        }#T_2c5f9_row2_col1,#T_2c5f9_row2_col2{\n",
       "            width:  10em;\n",
       "             height:  80%;\n",
       "            background:  linear-gradient(90deg,#5fba7d 98.3%, transparent 98.3%);\n",
       "        }#T_2c5f9_row3_col1{\n",
       "            width:  10em;\n",
       "             height:  80%;\n",
       "            background:  linear-gradient(90deg,#5fba7d 97.4%, transparent 97.4%);\n",
       "        }#T_2c5f9_row3_col2{\n",
       "            width:  10em;\n",
       "             height:  80%;\n",
       "            background:  linear-gradient(90deg,#5fba7d 97.5%, transparent 97.5%);\n",
       "        }#T_2c5f9_row4_col1,#T_2c5f9_row4_col2{\n",
       "            width:  10em;\n",
       "             height:  80%;\n",
       "            background:  linear-gradient(90deg,#5fba7d 95.4%, transparent 95.4%);\n",
       "        }#T_2c5f9_row5_col1{\n",
       "            width:  10em;\n",
       "             height:  80%;\n",
       "            background:  linear-gradient(90deg,#5fba7d 92.4%, transparent 92.4%);\n",
       "        }#T_2c5f9_row5_col2{\n",
       "            width:  10em;\n",
       "             height:  80%;\n",
       "            background:  linear-gradient(90deg,#5fba7d 92.3%, transparent 92.3%);\n",
       "        }#T_2c5f9_row6_col1{\n",
       "            width:  10em;\n",
       "             height:  80%;\n",
       "            background:  linear-gradient(90deg,#5fba7d 83.8%, transparent 83.8%);\n",
       "        }#T_2c5f9_row6_col2{\n",
       "            width:  10em;\n",
       "             height:  80%;\n",
       "            background:  linear-gradient(90deg,#5fba7d 84.1%, transparent 84.1%);\n",
       "        }#T_2c5f9_row7_col1{\n",
       "            width:  10em;\n",
       "             height:  80%;\n",
       "            background:  linear-gradient(90deg,#5fba7d 70.2%, transparent 70.2%);\n",
       "        }#T_2c5f9_row7_col2{\n",
       "            width:  10em;\n",
       "             height:  80%;\n",
       "            background:  linear-gradient(90deg,#5fba7d 70.9%, transparent 70.9%);\n",
       "        }</style><table id=\"T_2c5f9_\" ><thead>    <tr>        <th class=\"blank level0\" ></th>        <th class=\"col_heading level0 col0\" >Model</th>        <th class=\"col_heading level0 col1\" >Accuracy</th>        <th class=\"col_heading level0 col2\" >Bal Acc.</th>        <th class=\"col_heading level0 col3\" >Time</th>    </tr></thead><tbody>\n",
       "                <tr>\n",
       "                        <th id=\"T_2c5f9_level0_row0\" class=\"row_heading level0 row0\" >1</th>\n",
       "                        <td id=\"T_2c5f9_row0_col0\" class=\"data row0 col0\" >LGBMClassifier</td>\n",
       "                        <td id=\"T_2c5f9_row0_col1\" class=\"data row0 col1\" >99.022222</td>\n",
       "                        <td id=\"T_2c5f9_row0_col2\" class=\"data row0 col2\" >98.958634</td>\n",
       "                        <td id=\"T_2c5f9_row0_col3\" class=\"data row0 col3\" >3.479900</td>\n",
       "            </tr>\n",
       "            <tr>\n",
       "                        <th id=\"T_2c5f9_level0_row1\" class=\"row_heading level0 row1\" >2</th>\n",
       "                        <td id=\"T_2c5f9_row1_col0\" class=\"data row1 col0\" >XGBClassifier</td>\n",
       "                        <td id=\"T_2c5f9_row1_col1\" class=\"data row1 col1\" >98.755556</td>\n",
       "                        <td id=\"T_2c5f9_row1_col2\" class=\"data row1 col2\" >98.739862</td>\n",
       "                        <td id=\"T_2c5f9_row1_col3\" class=\"data row1 col3\" >7.373478</td>\n",
       "            </tr>\n",
       "            <tr>\n",
       "                        <th id=\"T_2c5f9_level0_row2\" class=\"row_heading level0 row2\" >3</th>\n",
       "                        <td id=\"T_2c5f9_row2_col0\" class=\"data row2 col0\" >RandomForestClassifier</td>\n",
       "                        <td id=\"T_2c5f9_row2_col1\" class=\"data row2 col1\" >98.311111</td>\n",
       "                        <td id=\"T_2c5f9_row2_col2\" class=\"data row2 col2\" >98.314008</td>\n",
       "                        <td id=\"T_2c5f9_row2_col3\" class=\"data row2 col3\" >1.966138</td>\n",
       "            </tr>\n",
       "            <tr>\n",
       "                        <th id=\"T_2c5f9_level0_row3\" class=\"row_heading level0 row3\" >4</th>\n",
       "                        <td id=\"T_2c5f9_row3_col0\" class=\"data row3 col0\" >GradientBoostingClassifier</td>\n",
       "                        <td id=\"T_2c5f9_row3_col1\" class=\"data row3 col1\" >97.422222</td>\n",
       "                        <td id=\"T_2c5f9_row3_col2\" class=\"data row3 col2\" >97.480464</td>\n",
       "                        <td id=\"T_2c5f9_row3_col3\" class=\"data row3 col3\" >30.325497</td>\n",
       "            </tr>\n",
       "            <tr>\n",
       "                        <th id=\"T_2c5f9_level0_row4\" class=\"row_heading level0 row4\" >5</th>\n",
       "                        <td id=\"T_2c5f9_row4_col0\" class=\"data row4 col0\" >KNeighborsClassifier</td>\n",
       "                        <td id=\"T_2c5f9_row4_col1\" class=\"data row4 col1\" >95.377778</td>\n",
       "                        <td id=\"T_2c5f9_row4_col2\" class=\"data row4 col2\" >95.403400</td>\n",
       "                        <td id=\"T_2c5f9_row4_col3\" class=\"data row4 col3\" >0.020228</td>\n",
       "            </tr>\n",
       "            <tr>\n",
       "                        <th id=\"T_2c5f9_level0_row5\" class=\"row_heading level0 row5\" >6</th>\n",
       "                        <td id=\"T_2c5f9_row5_col0\" class=\"data row5 col0\" >DecisionTreeClassifier</td>\n",
       "                        <td id=\"T_2c5f9_row5_col1\" class=\"data row5 col1\" >92.355556</td>\n",
       "                        <td id=\"T_2c5f9_row5_col2\" class=\"data row5 col2\" >92.344134</td>\n",
       "                        <td id=\"T_2c5f9_row5_col3\" class=\"data row5 col3\" >0.304243</td>\n",
       "            </tr>\n",
       "            <tr>\n",
       "                        <th id=\"T_2c5f9_level0_row6\" class=\"row_heading level0 row6\" >7</th>\n",
       "                        <td id=\"T_2c5f9_row6_col0\" class=\"data row6 col0\" >LogisticRegression</td>\n",
       "                        <td id=\"T_2c5f9_row6_col1\" class=\"data row6 col1\" >83.822222</td>\n",
       "                        <td id=\"T_2c5f9_row6_col2\" class=\"data row6 col2\" >84.107886</td>\n",
       "                        <td id=\"T_2c5f9_row6_col3\" class=\"data row6 col3\" >0.721546</td>\n",
       "            </tr>\n",
       "            <tr>\n",
       "                        <th id=\"T_2c5f9_level0_row7\" class=\"row_heading level0 row7\" >8</th>\n",
       "                        <td id=\"T_2c5f9_row7_col0\" class=\"data row7 col0\" >GaussianNB</td>\n",
       "                        <td id=\"T_2c5f9_row7_col1\" class=\"data row7 col1\" >70.222222</td>\n",
       "                        <td id=\"T_2c5f9_row7_col2\" class=\"data row7 col2\" >70.870428</td>\n",
       "                        <td id=\"T_2c5f9_row7_col3\" class=\"data row7 col3\" >0.025395</td>\n",
       "            </tr>\n",
       "    </tbody></table>"
      ],
      "text/plain": [
       "<pandas.io.formats.style.Styler at 0x7fbe72128b80>"
      ]
     },
     "execution_count": 23,
     "metadata": {},
     "output_type": "execute_result"
    }
   ],
   "source": [
    "x_train, x_val, y_train, y_val = train_test_split(X, y,test_size=0.2,stratify = y,random_state=10 )\n",
    "results = pd.DataFrame({'Model': [], 'Accuracy': [], 'Bal Acc.': [],'Time': []})\n",
    "for  name ,model in classifiers.items():\n",
    "    start_time = time.time()\n",
    "    model.fit(x_train, y_train)\n",
    "    total_time = time.time() - start_time\n",
    "    valid_pred = model.predict(x_val)\n",
    "    results = results.append({\"Model\":    name,\n",
    "                              \"Accuracy\": accuracy_score(y_val, valid_pred)*100,\n",
    "                              \"Bal Acc.\": balanced_accuracy_score(y_val, valid_pred)*100,\n",
    "                    \n",
    "                              \"Time\":     total_time},\n",
    "                              ignore_index=True)\n",
    "results_ord = results.sort_values(by=['Accuracy'], ascending=False, ignore_index=True)\n",
    "results_ord.index += 1 \n",
    "results_ord.style.bar(subset=['Accuracy', 'Bal Acc.'], vmin=0, vmax=100, color='#5fba7d')"
   ]
  },
  {
   "cell_type": "code",
   "execution_count": 24,
   "id": "52a07025",
   "metadata": {
    "ExecuteTime": {
     "end_time": "2021-05-21T01:58:01.427627Z",
     "start_time": "2021-05-21T01:58:01.419372Z"
    }
   },
   "outputs": [],
   "source": [
    "best_model=LGBMClassifier(max_depth= 28\n",
    ", n_estimators= 300, num_leaves=70,min_data_in_leaf=110,learning_rate= 0.069)\n",
    "name='LGBMClassifier'\n",
    "clf=Pipeline([('pre',preprocessor),('classification',best_model)])\n",
    "# 'boosting_type': 'gbdt', 'max_depth': 28, 'n_estimators': 388, 'learning_rate': 0.03432830269529964, 'min_data_in_leaf': 104"
   ]
  },
  {
   "cell_type": "code",
   "execution_count": null,
   "id": "2435f442",
   "metadata": {
    "ExecuteTime": {
     "start_time": "2021-05-21T01:58:02.344Z"
    }
   },
   "outputs": [
    {
     "name": "stdout",
     "output_type": "stream",
     "text": [
      "[LightGBM] [Warning] min_data_in_leaf is set=110, min_child_samples=20 will be ignored. Current value: min_data_in_leaf=110\n"
     ]
    }
   ],
   "source": [
    "test_result = pd.DataFrame({'Model': [], 'Accuracy': [], 'Bal Acc.': [],'Time': []})\n",
    "start_time = time.time()\n",
    "best_model.fit(X, y)\n",
    "total_time = time.time() - start_time\n",
    "pred = best_model.predict(X_test)\n",
    "test_result = test_result.append({\"Model\":    name,\n",
    "                          \"Accuracy\": accuracy_score(y_test, pred)*100,\n",
    "                          \"Bal Acc.\": balanced_accuracy_score(y_test, pred)*100,\n",
    "                          \"Time\":     total_time},\n",
    "                          ignore_index=True)\n",
    "test_result_ord = test_result.sort_values(by=['Accuracy'], ascending=False, ignore_index=True)\n",
    "test_result_ord.index += 1 \n",
    "test_result_ord.style.bar(subset=['Accuracy', 'Bal Acc.'], vmin=0, vmax=100, color='#5fba7d')\n"
   ]
  },
  {
   "cell_type": "code",
   "execution_count": null,
   "id": "a90ffaf9",
   "metadata": {
    "ExecuteTime": {
     "end_time": "2021-05-20T19:05:55.237704Z",
     "start_time": "2021-05-20T19:05:55.209610Z"
    }
   },
   "outputs": [],
   "source": [
    "print(classification_report(y_test, pred))\n",
    "print()\n",
    "print(confusion_matrix(y_test, pred))"
   ]
  },
  {
   "cell_type": "markdown",
   "id": "c1bbee38",
   "metadata": {
    "cell_id": "00037-e70c6258-4570-472e-8bf4-63f3ff95d82a",
    "deepnote_cell_type": "markdown",
    "tags": []
   },
   "source": [
    "# Optuna find best parameter for selected model"
   ]
  },
  {
   "cell_type": "code",
   "execution_count": null,
   "id": "cc25b971",
   "metadata": {
    "ExecuteTime": {
     "end_time": "2021-05-20T17:21:40.568026Z",
     "start_time": "2021-05-20T17:20:59.248883Z"
    },
    "cell_id": "00039-d6a8eb4b-d580-445d-9240-d2166c9bd4c8",
    "deepnote_cell_type": "code",
    "tags": []
   },
   "outputs": [],
   "source": [
    "\n",
    "def objective(trial):\n",
    "\n",
    "    boosting_type = trial.suggest_categorical(\"boosting_type\", [\"gbdt\", \"rf\"])\n",
    "    max_depth = trial.suggest_int('max_depth', 1, 32)\n",
    "    n_estimators = trial.suggest_int(\"n_estimators\", 100,500)\n",
    "    learning_rate=trial.suggest_float(\"learning_rate\", 0.001,0.1)\n",
    "    min_data_in_leaf= trial.suggest_int(\"min_data_in_leaf\", 10,500)\n",
    "    \n",
    "    lg_lgbm = LGBMClassifier( boosting_type=boosting_type, max_depth=max_depth, \n",
    "            n_estimators=n_estimators,learning_rate=learning_rate,min_data_in_leaf=min_data_in_leaf\n",
    "        )\n",
    "\n",
    "    score = cross_val_score(lg_lgbm, X,y, n_jobs=-1, cv=2)\n",
    "    accuracy = score.mean()\n",
    "    return accuracy\n",
    "\n",
    "study = optuna.create_study(direction=\"maximize\")\n",
    "study.optimize(objective, n_trials=100)\n",
    "\n",
    "trial = study.best_trial\n",
    "print('Accuracy: {}'.format(trial.value))\n",
    "print(\"Best hyperparameters: {}\".format(trial.params))\n"
   ]
  }
 ],
 "metadata": {
  "deepnote": {},
  "deepnote_execution_queue": [
   {
    "cellId": "00036-f8044fff-4d29-45bd-8ff8-21846e0256f1",
    "msgId": "a0eefad6-7bbd-4603-8fed-2940de8884ea",
    "sessionId": "a4c44e80-405a-43fc-968f-79577dc2c4bf"
   }
  ],
  "deepnote_notebook_id": "4d03dad0-0d4b-4262-80a0-cfac3bff1f59",
  "hide_input": false,
  "kernelspec": {
   "display_name": "Python 3",
   "language": "python",
   "name": "python3"
  },
  "language_info": {
   "codemirror_mode": {
    "name": "ipython",
    "version": 3
   },
   "file_extension": ".py",
   "mimetype": "text/x-python",
   "name": "python",
   "nbconvert_exporter": "python",
   "pygments_lexer": "ipython3",
   "version": "3.8.2"
  },
  "toc": {
   "base_numbering": 1,
   "nav_menu": {},
   "number_sections": true,
   "sideBar": true,
   "skip_h1_title": false,
   "title_cell": "Table of Contents",
   "title_sidebar": "Contents",
   "toc_cell": false,
   "toc_position": {},
   "toc_section_display": true,
   "toc_window_display": false
  },
  "varInspector": {
   "cols": {
    "lenName": 16,
    "lenType": 16,
    "lenVar": 40
   },
   "kernels_config": {
    "python": {
     "delete_cmd_postfix": "",
     "delete_cmd_prefix": "del ",
     "library": "var_list.py",
     "varRefreshCmd": "print(var_dic_list())"
    },
    "r": {
     "delete_cmd_postfix": ") ",
     "delete_cmd_prefix": "rm(",
     "library": "var_list.r",
     "varRefreshCmd": "cat(var_dic_list()) "
    }
   },
   "types_to_exclude": [
    "module",
    "function",
    "builtin_function_or_method",
    "instance",
    "_Feature"
   ],
   "window_display": false
  }
 },
 "nbformat": 4,
 "nbformat_minor": 5
}
