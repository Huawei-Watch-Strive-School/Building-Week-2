{
 "cells": [
  {
   "cell_type": "markdown",
   "metadata": {
    "cell_id": "00000-0098fd9d-b493-4486-8796-f2b5893a43df",
    "deepnote_cell_type": "text-cell-h1",
    "tags": []
   },
   "source": [
    "# Create Pipeline"
   ]
  },
  {
   "cell_type": "code",
   "execution_count": 27,
   "metadata": {
    "cell_id": "00000-087b2213-aa63-4f3b-a8b9-fe4ecaf36bd5",
    "deepnote_cell_type": "code",
    "deepnote_to_be_reexecuted": false,
    "execution_millis": 11,
    "execution_start": 1621261862561,
    "source_hash": "76a90baa",
    "tags": []
   },
   "outputs": [
    {
     "name": "stdout",
     "output_type": "stream",
     "text": [
      "Pandas   1.2.4\n",
      "Sklearn  0.24.2\n"
     ]
    }
   ],
   "source": [
    "import numpy as np\n",
    "import pandas as pd\n",
    "import time \n",
    "import sklearn\n",
    "from sklearn import pipeline  ,ensemble \n",
    "from sklearn.pipeline import Pipeline \n",
    "from sklearn import impute\n",
    "from sklearn import compose\n",
    "from sklearn.model_selection import train_test_split\n",
    "from sklearn.metrics import accuracy_score, balanced_accuracy_score, plot_confusion_matrix,roc_auc_score\n",
    "from sklearn import set_config\n",
    "import warnings\n",
    "warnings.filterwarnings('ignore')\n",
    "\n",
    "from sklearn.preprocessing import Normalizer,PowerTransformer,QuantileTransformer, RobustScaler,StandardScaler,LabelEncoder, OneHotEncoder,OrdinalEncoder\n",
    "from sklearn.tree          import DecisionTreeClassifier\n",
    "from sklearn.linear_model  import LogisticRegression    \n",
    "from sklearn.experimental  import enable_hist_gradient_boosting # Necesary for HistGradientBoostingClassifier\n",
    "from xgboost               import XGBClassifier\n",
    "from lightgbm              import LGBMClassifier\n",
    "# from catboost              import CatBoostClassifier\n",
    "from sklearn.neighbors import KNeighborsClassifier\n",
    "set_config(display='diagram') # Useful for display the pipeline\n",
    "print(\"Pandas  \", pd.__version__)\n",
    "print(\"Sklearn \", sklearn.__version__) # Try to use 0.24\n",
    "\n"
   ]
  },
  {
   "cell_type": "code",
   "execution_count": 43,
   "metadata": {
    "cell_id": "00002-d3e510b9-bfa1-4619-91ae-bf5a14193b44",
    "deepnote_cell_type": "code",
    "deepnote_to_be_reexecuted": false,
    "execution_millis": 0,
    "execution_start": 1621269323722,
    "source_hash": "d8bcfeb0",
    "tags": []
   },
   "outputs": [],
   "source": [
    "df=pd.read_csv('data_selected_feature.csv')"
   ]
  },
  {
   "cell_type": "code",
   "execution_count": 44,
   "metadata": {
    "cell_id": "00003-51f5d671-9f96-4e62-a823-34afa49b9c95",
    "deepnote_cell_type": "code",
    "deepnote_to_be_reexecuted": false,
    "execution_millis": 56,
    "execution_start": 1621269326743,
    "source_hash": "d794f466",
    "tags": []
   },
   "outputs": [
    {
     "data": {
      "text/plain": [
       "id                                                  0\n",
       "user                                                0\n",
       "android_sensor_gyroscope_mean                     720\n",
       "android_sensor_accelerometer_std                    0\n",
       "android_sensor_gyroscope_std                      721\n",
       "android_sensor_gyroscope_uncalibrated_mean        799\n",
       "android_sensor_accelerometer_max                    0\n",
       "android_sensor_linear_acceleration_mean           494\n",
       "speed_mean                                          0\n",
       "android_sensor_rotation_vector_mean               721\n",
       "android_sensor_rotation_vector_max                721\n",
       "android_sensor_accelerometer_min                    0\n",
       "android_sensor_magnetic_field_uncalibrated_min    799\n",
       "sound_min                                         994\n",
       "target                                              0\n",
       "dtype: int64"
      ]
     },
     "execution_count": 44,
     "metadata": {},
     "output_type": "execute_result"
    }
   ],
   "source": [
    "df.isna().sum()"
   ]
  },
  {
   "cell_type": "code",
   "execution_count": 35,
   "metadata": {
    "cell_id": "00004-5d31169f-4518-4c3e-a1f6-f5d6241e521e",
    "deepnote_cell_type": "code",
    "deepnote_to_be_reexecuted": false,
    "execution_millis": 0,
    "execution_start": 1621262368741,
    "source_hash": "2f88c77a",
    "tags": []
   },
   "outputs": [
    {
     "data": {
      "text/plain": [
       "5893"
      ]
     },
     "execution_count": 35,
     "metadata": {},
     "output_type": "execute_result"
    }
   ],
   "source": [
    "len(df)"
   ]
  },
  {
   "cell_type": "code",
   "execution_count": 34,
   "metadata": {
    "cell_id": "00004-f7840fa4-de14-4708-a4f9-794ecbde592d",
    "deepnote_cell_type": "code",
    "deepnote_to_be_reexecuted": false,
    "execution_millis": 2,
    "execution_start": 1621262324164,
    "source_hash": "6c8b9936",
    "tags": []
   },
   "outputs": [],
   "source": [
    "#drop bus, train from the data because we are only classifying the rest for now\n",
    "\n"
   ]
  },
  {
   "cell_type": "code",
   "execution_count": 42,
   "metadata": {
    "cell_id": "00006-8bb5fa62-e2f8-4880-9cf3-73d77665ac34",
    "deepnote_cell_type": "code",
    "deepnote_to_be_reexecuted": false,
    "execution_millis": 11,
    "execution_start": 1621267033863,
    "source_hash": "14f60b8f",
    "tags": []
   },
   "outputs": [
    {
     "data": {
      "text/plain": [
       "(5893, 13)"
      ]
     },
     "execution_count": 42,
     "metadata": {},
     "output_type": "execute_result"
    }
   ],
   "source": [
    "df.shape"
   ]
  },
  {
   "cell_type": "code",
   "execution_count": 21,
   "metadata": {
    "cell_id": "00004-2636c852-e09e-42be-92a0-db2914e24f85",
    "deepnote_cell_type": "code",
    "deepnote_to_be_reexecuted": false,
    "execution_millis": 0,
    "execution_start": 1621261803254,
    "source_hash": "693bbdfe",
    "tags": []
   },
   "outputs": [],
   "source": [
    "test=df.iloc[]\n",
    "X=test.drop('target',axis=1)\n",
    "y=test.target\n"
   ]
  },
  {
   "cell_type": "code",
   "execution_count": 32,
   "metadata": {
    "cell_id": "00005-d3cc56e2-36b0-4128-a9f7-28fcd4f1233c",
    "deepnote_cell_type": "code",
    "deepnote_to_be_reexecuted": false,
    "execution_millis": 10,
    "execution_start": 1621262223150,
    "source_hash": "ce04b77e",
    "tags": []
   },
   "outputs": [
    {
     "data": {
      "text/plain": [
       "0         Still\n",
       "1           Car\n",
       "2         Still\n",
       "3           Car\n",
       "4           Car\n",
       "         ...   \n",
       "5888    Walking\n",
       "5889      Train\n",
       "5890      Still\n",
       "5891      Still\n",
       "5892    Walking\n",
       "Name: target, Length: 5893, dtype: object"
      ]
     },
     "execution_count": 32,
     "metadata": {},
     "output_type": "execute_result"
    }
   ],
   "source": [
    "y"
   ]
  },
  {
   "cell_type": "code",
   "execution_count": 23,
   "metadata": {
    "cell_id": "00005-da822bcb-60ab-49ed-bdc5-1a919cf9edb2",
    "deepnote_cell_type": "code",
    "deepnote_to_be_reexecuted": false,
    "execution_millis": 1,
    "execution_start": 1621261809113,
    "source_hash": "bdbbf8b3",
    "tags": []
   },
   "outputs": [],
   "source": [
    "num_features=X.columns"
   ]
  },
  {
   "cell_type": "code",
   "execution_count": 24,
   "metadata": {
    "cell_id": "00002-69b361f3-d9cf-4279-a883-802b5b5db692",
    "deepnote_cell_type": "code",
    "deepnote_to_be_reexecuted": false,
    "execution_millis": 9,
    "execution_start": 1621261811283,
    "source_hash": "fdc286d9",
    "tags": []
   },
   "outputs": [
    {
     "data": {
      "text/html": [
       "<style>#sk-1945c007-2291-468c-9358-81ce82a7566b {color: black;background-color: white;}#sk-1945c007-2291-468c-9358-81ce82a7566b pre{padding: 0;}#sk-1945c007-2291-468c-9358-81ce82a7566b div.sk-toggleable {background-color: white;}#sk-1945c007-2291-468c-9358-81ce82a7566b label.sk-toggleable__label {cursor: pointer;display: block;width: 100%;margin-bottom: 0;padding: 0.2em 0.3em;box-sizing: border-box;text-align: center;}#sk-1945c007-2291-468c-9358-81ce82a7566b div.sk-toggleable__content {max-height: 0;max-width: 0;overflow: hidden;text-align: left;background-color: #f0f8ff;}#sk-1945c007-2291-468c-9358-81ce82a7566b div.sk-toggleable__content pre {margin: 0.2em;color: black;border-radius: 0.25em;background-color: #f0f8ff;}#sk-1945c007-2291-468c-9358-81ce82a7566b input.sk-toggleable__control:checked~div.sk-toggleable__content {max-height: 200px;max-width: 100%;overflow: auto;}#sk-1945c007-2291-468c-9358-81ce82a7566b div.sk-estimator input.sk-toggleable__control:checked~label.sk-toggleable__label {background-color: #d4ebff;}#sk-1945c007-2291-468c-9358-81ce82a7566b div.sk-label input.sk-toggleable__control:checked~label.sk-toggleable__label {background-color: #d4ebff;}#sk-1945c007-2291-468c-9358-81ce82a7566b input.sk-hidden--visually {border: 0;clip: rect(1px 1px 1px 1px);clip: rect(1px, 1px, 1px, 1px);height: 1px;margin: -1px;overflow: hidden;padding: 0;position: absolute;width: 1px;}#sk-1945c007-2291-468c-9358-81ce82a7566b div.sk-estimator {font-family: monospace;background-color: #f0f8ff;margin: 0.25em 0.25em;border: 1px dotted black;border-radius: 0.25em;box-sizing: border-box;}#sk-1945c007-2291-468c-9358-81ce82a7566b div.sk-estimator:hover {background-color: #d4ebff;}#sk-1945c007-2291-468c-9358-81ce82a7566b div.sk-parallel-item::after {content: \"\";width: 100%;border-bottom: 1px solid gray;flex-grow: 1;}#sk-1945c007-2291-468c-9358-81ce82a7566b div.sk-label:hover label.sk-toggleable__label {background-color: #d4ebff;}#sk-1945c007-2291-468c-9358-81ce82a7566b div.sk-serial::before {content: \"\";position: absolute;border-left: 1px solid gray;box-sizing: border-box;top: 2em;bottom: 0;left: 50%;}#sk-1945c007-2291-468c-9358-81ce82a7566b div.sk-serial {display: flex;flex-direction: column;align-items: center;background-color: white;}#sk-1945c007-2291-468c-9358-81ce82a7566b div.sk-item {z-index: 1;}#sk-1945c007-2291-468c-9358-81ce82a7566b div.sk-parallel {display: flex;align-items: stretch;justify-content: center;background-color: white;}#sk-1945c007-2291-468c-9358-81ce82a7566b div.sk-parallel-item {display: flex;flex-direction: column;position: relative;background-color: white;}#sk-1945c007-2291-468c-9358-81ce82a7566b div.sk-parallel-item:first-child::after {align-self: flex-end;width: 50%;}#sk-1945c007-2291-468c-9358-81ce82a7566b div.sk-parallel-item:last-child::after {align-self: flex-start;width: 50%;}#sk-1945c007-2291-468c-9358-81ce82a7566b div.sk-parallel-item:only-child::after {width: 0;}#sk-1945c007-2291-468c-9358-81ce82a7566b div.sk-dashed-wrapped {border: 1px dashed gray;margin: 0.2em;box-sizing: border-box;padding-bottom: 0.1em;background-color: white;position: relative;}#sk-1945c007-2291-468c-9358-81ce82a7566b div.sk-label label {font-family: monospace;font-weight: bold;background-color: white;display: inline-block;line-height: 1.2em;}#sk-1945c007-2291-468c-9358-81ce82a7566b div.sk-label-container {position: relative;z-index: 2;text-align: center;}#sk-1945c007-2291-468c-9358-81ce82a7566b div.sk-container {display: inline-block;position: relative;}</style><div id=\"sk-1945c007-2291-468c-9358-81ce82a7566b\" class\"sk-top-container\"><div class=\"sk-container\"><div class=\"sk-item sk-dashed-wrapped\"><div class=\"sk-label-container\"><div class=\"sk-label sk-toggleable\"><input class=\"sk-toggleable__control sk-hidden--visually\" id=\"15971433-7b2c-413f-903b-8d258139e8ea\" type=\"checkbox\" ><label class=\"sk-toggleable__label\" for=\"15971433-7b2c-413f-903b-8d258139e8ea\">ColumnTransformer</label><div class=\"sk-toggleable__content\"><pre>ColumnTransformer(remainder='passthrough',\n",
       "                  transformers=[('num',\n",
       "                                 Pipeline(steps=[('imputer',\n",
       "                                                  SimpleImputer(fill_value='missing',\n",
       "                                                                strategy='most_frequent')),\n",
       "                                                 ('scalar', StandardScaler()),\n",
       "                                                 ('Normalizer',\n",
       "                                                  RobustScaler())]),\n",
       "                                 Index(['android_sensor_gyroscope_mean', 'android_sensor_accelerometer_std',\n",
       "       'android_sensor_gyroscope_std',\n",
       "       'android_sensor_gyroscope_uncalibrated_mean',\n",
       "       'android_sensor_accelerometer_max',\n",
       "       'android_sensor_linear_acceleration_mean', 'speed_mean',\n",
       "       'android_sensor_rotation_vector_mean',\n",
       "       'android_sensor_rotation_vector_max',\n",
       "       'android_sensor_accelerometer_min',\n",
       "       'android_sensor_magnetic_field_uncalibrated_min', 'sound_min'],\n",
       "      dtype='object'))])</pre></div></div></div><div class=\"sk-parallel\"><div class=\"sk-parallel-item\"><div class=\"sk-item\"><div class=\"sk-label-container\"><div class=\"sk-label sk-toggleable\"><input class=\"sk-toggleable__control sk-hidden--visually\" id=\"2942a922-b632-41e3-9028-7dcbee21608e\" type=\"checkbox\" ><label class=\"sk-toggleable__label\" for=\"2942a922-b632-41e3-9028-7dcbee21608e\">num</label><div class=\"sk-toggleable__content\"><pre>Index(['android_sensor_gyroscope_mean', 'android_sensor_accelerometer_std',\n",
       "       'android_sensor_gyroscope_std',\n",
       "       'android_sensor_gyroscope_uncalibrated_mean',\n",
       "       'android_sensor_accelerometer_max',\n",
       "       'android_sensor_linear_acceleration_mean', 'speed_mean',\n",
       "       'android_sensor_rotation_vector_mean',\n",
       "       'android_sensor_rotation_vector_max',\n",
       "       'android_sensor_accelerometer_min',\n",
       "       'android_sensor_magnetic_field_uncalibrated_min', 'sound_min'],\n",
       "      dtype='object')</pre></div></div></div><div class=\"sk-serial\"><div class=\"sk-item\"><div class=\"sk-serial\"><div class=\"sk-item\"><div class=\"sk-estimator sk-toggleable\"><input class=\"sk-toggleable__control sk-hidden--visually\" id=\"13be9778-1bf0-4eaf-a06c-224d74b96b0c\" type=\"checkbox\" ><label class=\"sk-toggleable__label\" for=\"13be9778-1bf0-4eaf-a06c-224d74b96b0c\">SimpleImputer</label><div class=\"sk-toggleable__content\"><pre>SimpleImputer(fill_value='missing', strategy='most_frequent')</pre></div></div></div><div class=\"sk-item\"><div class=\"sk-estimator sk-toggleable\"><input class=\"sk-toggleable__control sk-hidden--visually\" id=\"1ddd2b79-9656-46d2-be37-0f1c50444e70\" type=\"checkbox\" ><label class=\"sk-toggleable__label\" for=\"1ddd2b79-9656-46d2-be37-0f1c50444e70\">StandardScaler</label><div class=\"sk-toggleable__content\"><pre>StandardScaler()</pre></div></div></div><div class=\"sk-item\"><div class=\"sk-estimator sk-toggleable\"><input class=\"sk-toggleable__control sk-hidden--visually\" id=\"ab58b751-909a-4105-91b8-a3cd9d6c718d\" type=\"checkbox\" ><label class=\"sk-toggleable__label\" for=\"ab58b751-909a-4105-91b8-a3cd9d6c718d\">RobustScaler</label><div class=\"sk-toggleable__content\"><pre>RobustScaler()</pre></div></div></div></div></div></div></div></div><div class=\"sk-parallel-item\"><div class=\"sk-item\"><div class=\"sk-label-container\"><div class=\"sk-label sk-toggleable\"><input class=\"sk-toggleable__control sk-hidden--visually\" id=\"cc1677d0-1265-4913-b53d-8ff1b850ed4b\" type=\"checkbox\" ><label class=\"sk-toggleable__label\" for=\"cc1677d0-1265-4913-b53d-8ff1b850ed4b\">remainder</label><div class=\"sk-toggleable__content\"><pre></pre></div></div></div><div class=\"sk-serial\"><div class=\"sk-item\"><div class=\"sk-estimator sk-toggleable\"><input class=\"sk-toggleable__control sk-hidden--visually\" id=\"63f3303a-61dd-4b8d-a105-39764d40a180\" type=\"checkbox\" ><label class=\"sk-toggleable__label\" for=\"63f3303a-61dd-4b8d-a105-39764d40a180\">passthrough</label><div class=\"sk-toggleable__content\"><pre>passthrough</pre></div></div></div></div></div></div></div></div></div></div>"
      ],
      "text/plain": [
       "ColumnTransformer(remainder='passthrough',\n",
       "                  transformers=[('num',\n",
       "                                 Pipeline(steps=[('imputer',\n",
       "                                                  SimpleImputer(fill_value='missing',\n",
       "                                                                strategy='most_frequent')),\n",
       "                                                 ('scalar', StandardScaler()),\n",
       "                                                 ('Normalizer',\n",
       "                                                  RobustScaler())]),\n",
       "                                 Index(['android_sensor_gyroscope_mean', 'android_sensor_accelerometer_std',\n",
       "       'android_sensor_gyroscope_std',\n",
       "       'android_sensor_gyroscope_uncalibrated_mean',\n",
       "       'android_sensor_accelerometer_max',\n",
       "       'android_sensor_linear_acceleration_mean', 'speed_mean',\n",
       "       'android_sensor_rotation_vector_mean',\n",
       "       'android_sensor_rotation_vector_max',\n",
       "       'android_sensor_accelerometer_min',\n",
       "       'android_sensor_magnetic_field_uncalibrated_min', 'sound_min'],\n",
       "      dtype='object'))])"
      ]
     },
     "execution_count": 24,
     "metadata": {},
     "output_type": "execute_result"
    }
   ],
   "source": [
    "num_4_Models = pipeline.Pipeline(steps=[\n",
    "    ('imputer',impute.SimpleImputer(strategy='most_frequent', fill_value='missing')),\n",
    "    ('scalar',StandardScaler()),\n",
    "    ('Normalizer',RobustScaler())\n",
    "])\n",
    "\n",
    "\n",
    "preprocessor = compose.ColumnTransformer(transformers=[\n",
    "    ('num', num_4_Models, num_features),\n",
    "    # ('cat', cat_4_Models, cat_vars),\n",
    "], remainder='passthrough') # Drop other vars not specified in num_vars or cat_vars\n",
    "preprocessor\n"
   ]
  },
  {
   "cell_type": "code",
   "execution_count": 25,
   "metadata": {
    "cell_id": "00003-5d726120-579a-4d4c-8eca-298c40cf4e25",
    "deepnote_cell_type": "code",
    "deepnote_to_be_reexecuted": false,
    "execution_millis": 73,
    "execution_start": 1621261829853,
    "source_hash": "736fe8c4",
    "tags": []
   },
   "outputs": [
    {
     "data": {
      "text/html": [
       "<style>#sk-d06e634a-ed5c-43e3-ad9e-10506faee42a {color: black;background-color: white;}#sk-d06e634a-ed5c-43e3-ad9e-10506faee42a pre{padding: 0;}#sk-d06e634a-ed5c-43e3-ad9e-10506faee42a div.sk-toggleable {background-color: white;}#sk-d06e634a-ed5c-43e3-ad9e-10506faee42a label.sk-toggleable__label {cursor: pointer;display: block;width: 100%;margin-bottom: 0;padding: 0.2em 0.3em;box-sizing: border-box;text-align: center;}#sk-d06e634a-ed5c-43e3-ad9e-10506faee42a div.sk-toggleable__content {max-height: 0;max-width: 0;overflow: hidden;text-align: left;background-color: #f0f8ff;}#sk-d06e634a-ed5c-43e3-ad9e-10506faee42a div.sk-toggleable__content pre {margin: 0.2em;color: black;border-radius: 0.25em;background-color: #f0f8ff;}#sk-d06e634a-ed5c-43e3-ad9e-10506faee42a input.sk-toggleable__control:checked~div.sk-toggleable__content {max-height: 200px;max-width: 100%;overflow: auto;}#sk-d06e634a-ed5c-43e3-ad9e-10506faee42a div.sk-estimator input.sk-toggleable__control:checked~label.sk-toggleable__label {background-color: #d4ebff;}#sk-d06e634a-ed5c-43e3-ad9e-10506faee42a div.sk-label input.sk-toggleable__control:checked~label.sk-toggleable__label {background-color: #d4ebff;}#sk-d06e634a-ed5c-43e3-ad9e-10506faee42a input.sk-hidden--visually {border: 0;clip: rect(1px 1px 1px 1px);clip: rect(1px, 1px, 1px, 1px);height: 1px;margin: -1px;overflow: hidden;padding: 0;position: absolute;width: 1px;}#sk-d06e634a-ed5c-43e3-ad9e-10506faee42a div.sk-estimator {font-family: monospace;background-color: #f0f8ff;margin: 0.25em 0.25em;border: 1px dotted black;border-radius: 0.25em;box-sizing: border-box;}#sk-d06e634a-ed5c-43e3-ad9e-10506faee42a div.sk-estimator:hover {background-color: #d4ebff;}#sk-d06e634a-ed5c-43e3-ad9e-10506faee42a div.sk-parallel-item::after {content: \"\";width: 100%;border-bottom: 1px solid gray;flex-grow: 1;}#sk-d06e634a-ed5c-43e3-ad9e-10506faee42a div.sk-label:hover label.sk-toggleable__label {background-color: #d4ebff;}#sk-d06e634a-ed5c-43e3-ad9e-10506faee42a div.sk-serial::before {content: \"\";position: absolute;border-left: 1px solid gray;box-sizing: border-box;top: 2em;bottom: 0;left: 50%;}#sk-d06e634a-ed5c-43e3-ad9e-10506faee42a div.sk-serial {display: flex;flex-direction: column;align-items: center;background-color: white;}#sk-d06e634a-ed5c-43e3-ad9e-10506faee42a div.sk-item {z-index: 1;}#sk-d06e634a-ed5c-43e3-ad9e-10506faee42a div.sk-parallel {display: flex;align-items: stretch;justify-content: center;background-color: white;}#sk-d06e634a-ed5c-43e3-ad9e-10506faee42a div.sk-parallel-item {display: flex;flex-direction: column;position: relative;background-color: white;}#sk-d06e634a-ed5c-43e3-ad9e-10506faee42a div.sk-parallel-item:first-child::after {align-self: flex-end;width: 50%;}#sk-d06e634a-ed5c-43e3-ad9e-10506faee42a div.sk-parallel-item:last-child::after {align-self: flex-start;width: 50%;}#sk-d06e634a-ed5c-43e3-ad9e-10506faee42a div.sk-parallel-item:only-child::after {width: 0;}#sk-d06e634a-ed5c-43e3-ad9e-10506faee42a div.sk-dashed-wrapped {border: 1px dashed gray;margin: 0.2em;box-sizing: border-box;padding-bottom: 0.1em;background-color: white;position: relative;}#sk-d06e634a-ed5c-43e3-ad9e-10506faee42a div.sk-label label {font-family: monospace;font-weight: bold;background-color: white;display: inline-block;line-height: 1.2em;}#sk-d06e634a-ed5c-43e3-ad9e-10506faee42a div.sk-label-container {position: relative;z-index: 2;text-align: center;}#sk-d06e634a-ed5c-43e3-ad9e-10506faee42a div.sk-container {display: inline-block;position: relative;}</style><div id=\"sk-d06e634a-ed5c-43e3-ad9e-10506faee42a\" class\"sk-top-container\"><div class=\"sk-container\"><div class=\"sk-item sk-dashed-wrapped\"><div class=\"sk-label-container\"><div class=\"sk-label sk-toggleable\"><input class=\"sk-toggleable__control sk-hidden--visually\" id=\"fb15bcb0-b777-45cf-a0ed-fd30910703a2\" type=\"checkbox\" ><label class=\"sk-toggleable__label\" for=\"fb15bcb0-b777-45cf-a0ed-fd30910703a2\">Pipeline</label><div class=\"sk-toggleable__content\"><pre>Pipeline(steps=[('columntransformer',\n",
       "                 ColumnTransformer(remainder='passthrough',\n",
       "                                   transformers=[('num',\n",
       "                                                  Pipeline(steps=[('imputer',\n",
       "                                                                   SimpleImputer(fill_value='missing',\n",
       "                                                                                 strategy='most_frequent')),\n",
       "                                                                  ('scalar',\n",
       "                                                                   StandardScaler()),\n",
       "                                                                  ('Normalizer',\n",
       "                                                                   RobustScaler())]),\n",
       "                                                  Index(['android_sensor_gyroscope_mean', 'android_sensor_accelerometer_std',\n",
       "       'android_sensor_gyroscope_s...\n",
       "       'android_sensor_gyroscope_uncalibrated_mean',\n",
       "       'android_sensor_accelerometer_max',\n",
       "       'android_sensor_linear_acceleration_mean', 'speed_mean',\n",
       "       'android_sensor_rotation_vector_mean',\n",
       "       'android_sensor_rotation_vector_max',\n",
       "       'android_sensor_accelerometer_min',\n",
       "       'android_sensor_magnetic_field_uncalibrated_min', 'sound_min'],\n",
       "      dtype='object'))])),\n",
       "                ('gradientboostingclassifier', GradientBoostingClassifier())])</pre></div></div></div><div class=\"sk-serial\"><div class=\"sk-item sk-dashed-wrapped\"><div class=\"sk-label-container\"><div class=\"sk-label sk-toggleable\"><input class=\"sk-toggleable__control sk-hidden--visually\" id=\"7589643a-389e-42f0-a134-cfcdbef07219\" type=\"checkbox\" ><label class=\"sk-toggleable__label\" for=\"7589643a-389e-42f0-a134-cfcdbef07219\">columntransformer: ColumnTransformer</label><div class=\"sk-toggleable__content\"><pre>ColumnTransformer(remainder='passthrough',\n",
       "                  transformers=[('num',\n",
       "                                 Pipeline(steps=[('imputer',\n",
       "                                                  SimpleImputer(fill_value='missing',\n",
       "                                                                strategy='most_frequent')),\n",
       "                                                 ('scalar', StandardScaler()),\n",
       "                                                 ('Normalizer',\n",
       "                                                  RobustScaler())]),\n",
       "                                 Index(['android_sensor_gyroscope_mean', 'android_sensor_accelerometer_std',\n",
       "       'android_sensor_gyroscope_std',\n",
       "       'android_sensor_gyroscope_uncalibrated_mean',\n",
       "       'android_sensor_accelerometer_max',\n",
       "       'android_sensor_linear_acceleration_mean', 'speed_mean',\n",
       "       'android_sensor_rotation_vector_mean',\n",
       "       'android_sensor_rotation_vector_max',\n",
       "       'android_sensor_accelerometer_min',\n",
       "       'android_sensor_magnetic_field_uncalibrated_min', 'sound_min'],\n",
       "      dtype='object'))])</pre></div></div></div><div class=\"sk-parallel\"><div class=\"sk-parallel-item\"><div class=\"sk-item\"><div class=\"sk-label-container\"><div class=\"sk-label sk-toggleable\"><input class=\"sk-toggleable__control sk-hidden--visually\" id=\"b33fc9e3-32a5-4a72-bc00-263a4c6db79f\" type=\"checkbox\" ><label class=\"sk-toggleable__label\" for=\"b33fc9e3-32a5-4a72-bc00-263a4c6db79f\">num</label><div class=\"sk-toggleable__content\"><pre>Index(['android_sensor_gyroscope_mean', 'android_sensor_accelerometer_std',\n",
       "       'android_sensor_gyroscope_std',\n",
       "       'android_sensor_gyroscope_uncalibrated_mean',\n",
       "       'android_sensor_accelerometer_max',\n",
       "       'android_sensor_linear_acceleration_mean', 'speed_mean',\n",
       "       'android_sensor_rotation_vector_mean',\n",
       "       'android_sensor_rotation_vector_max',\n",
       "       'android_sensor_accelerometer_min',\n",
       "       'android_sensor_magnetic_field_uncalibrated_min', 'sound_min'],\n",
       "      dtype='object')</pre></div></div></div><div class=\"sk-serial\"><div class=\"sk-item\"><div class=\"sk-serial\"><div class=\"sk-item\"><div class=\"sk-estimator sk-toggleable\"><input class=\"sk-toggleable__control sk-hidden--visually\" id=\"81bc279a-ff5c-4f17-88d9-c62eaa138d36\" type=\"checkbox\" ><label class=\"sk-toggleable__label\" for=\"81bc279a-ff5c-4f17-88d9-c62eaa138d36\">SimpleImputer</label><div class=\"sk-toggleable__content\"><pre>SimpleImputer(fill_value='missing', strategy='most_frequent')</pre></div></div></div><div class=\"sk-item\"><div class=\"sk-estimator sk-toggleable\"><input class=\"sk-toggleable__control sk-hidden--visually\" id=\"ade21a05-5bd3-4801-ac03-b899ee0695d7\" type=\"checkbox\" ><label class=\"sk-toggleable__label\" for=\"ade21a05-5bd3-4801-ac03-b899ee0695d7\">StandardScaler</label><div class=\"sk-toggleable__content\"><pre>StandardScaler()</pre></div></div></div><div class=\"sk-item\"><div class=\"sk-estimator sk-toggleable\"><input class=\"sk-toggleable__control sk-hidden--visually\" id=\"128dd204-6e29-4fa2-8ad5-8580a59ada44\" type=\"checkbox\" ><label class=\"sk-toggleable__label\" for=\"128dd204-6e29-4fa2-8ad5-8580a59ada44\">RobustScaler</label><div class=\"sk-toggleable__content\"><pre>RobustScaler()</pre></div></div></div></div></div></div></div></div><div class=\"sk-parallel-item\"><div class=\"sk-item\"><div class=\"sk-label-container\"><div class=\"sk-label sk-toggleable\"><input class=\"sk-toggleable__control sk-hidden--visually\" id=\"ebc9c671-ecf0-4976-8542-21fe5cd6d0a0\" type=\"checkbox\" ><label class=\"sk-toggleable__label\" for=\"ebc9c671-ecf0-4976-8542-21fe5cd6d0a0\">remainder</label><div class=\"sk-toggleable__content\"><pre></pre></div></div></div><div class=\"sk-serial\"><div class=\"sk-item\"><div class=\"sk-estimator sk-toggleable\"><input class=\"sk-toggleable__control sk-hidden--visually\" id=\"65c411af-5ad4-47d8-a629-452fcc2680ad\" type=\"checkbox\" ><label class=\"sk-toggleable__label\" for=\"65c411af-5ad4-47d8-a629-452fcc2680ad\">passthrough</label><div class=\"sk-toggleable__content\"><pre>passthrough</pre></div></div></div></div></div></div></div></div><div class=\"sk-item\"><div class=\"sk-estimator sk-toggleable\"><input class=\"sk-toggleable__control sk-hidden--visually\" id=\"444fef5e-3928-4d5b-8a7f-ae1f631f46fb\" type=\"checkbox\" ><label class=\"sk-toggleable__label\" for=\"444fef5e-3928-4d5b-8a7f-ae1f631f46fb\">GradientBoostingClassifier</label><div class=\"sk-toggleable__content\"><pre>GradientBoostingClassifier()</pre></div></div></div></div></div></div></div>"
      ],
      "text/plain": [
       "Pipeline(steps=[('columntransformer',\n",
       "                 ColumnTransformer(remainder='passthrough',\n",
       "                                   transformers=[('num',\n",
       "                                                  Pipeline(steps=[('imputer',\n",
       "                                                                   SimpleImputer(fill_value='missing',\n",
       "                                                                                 strategy='most_frequent')),\n",
       "                                                                  ('scalar',\n",
       "                                                                   StandardScaler()),\n",
       "                                                                  ('Normalizer',\n",
       "                                                                   RobustScaler())]),\n",
       "                                                  Index(['android_sensor_gyroscope_mean', 'android_sensor_accelerometer_std',\n",
       "       'android_sensor_gyroscope_s...\n",
       "       'android_sensor_gyroscope_uncalibrated_mean',\n",
       "       'android_sensor_accelerometer_max',\n",
       "       'android_sensor_linear_acceleration_mean', 'speed_mean',\n",
       "       'android_sensor_rotation_vector_mean',\n",
       "       'android_sensor_rotation_vector_max',\n",
       "       'android_sensor_accelerometer_min',\n",
       "       'android_sensor_magnetic_field_uncalibrated_min', 'sound_min'],\n",
       "      dtype='object'))])),\n",
       "                ('gradientboostingclassifier', GradientBoostingClassifier())])"
      ]
     },
     "execution_count": 25,
     "metadata": {},
     "output_type": "execute_result"
    }
   ],
   "source": [
    "classifier_models = {\n",
    "\"DecisionTreeClassifier\": DecisionTreeClassifier(),\n",
    "'KNeighborsClassifier':KNeighborsClassifier(6),\n",
    "'LogisticRegression':LogisticRegression(),\n",
    "\"RandomForestClassifier\":ensemble.RandomForestClassifier(),\n",
    "\"AdaBoostClassifier\":ensemble.AdaBoostClassifier(),\n",
    "\"GradientBoostingClassifier\":ensemble.GradientBoostingClassifier(),\n",
    "\"XGBClassifier\":XGBClassifier(),\n",
    "\"LGBMClassifier\":LGBMClassifier(),\n",
    "# \"CatBoostClassifier\":CatBoostClassifier(),\n",
    "\n",
    "}\n",
    "# make pipline with  preprocessing \n",
    "classifier_models = {name: pipeline.make_pipeline(preprocessor, model) for name, model in classifier_models.items()}\n",
    "classifier_models[\"GradientBoostingClassifier\"]"
   ]
  },
  {
   "cell_type": "code",
   "execution_count": 30,
   "metadata": {
    "cell_id": "00004-352852e8-9144-4a39-b749-26bb2456f313",
    "deepnote_cell_type": "code",
    "deepnote_to_be_reexecuted": false,
    "execution_millis": 11378,
    "execution_start": 1621262105469,
    "source_hash": "e78783a4",
    "tags": []
   },
   "outputs": [
    {
     "name": "stdout",
     "output_type": "stream",
     "text": [
      "[14:35:14] WARNING: ../src/learner.cc:1095: Starting in XGBoost 1.3.0, the default evaluation metric used with the objective 'multi:softprob' was changed from 'merror' to 'mlogloss'. Explicitly set eval_metric if you'd like to restore the old behavior.\n"
     ]
    },
    {
     "data": {
      "text/html": [
       "<style  type=\"text/css\" >\n",
       "#T_37da4_row0_col1,#T_37da4_row0_col2,#T_37da4_row1_col1,#T_37da4_row1_col2,#T_37da4_row2_col1,#T_37da4_row2_col2,#T_37da4_row3_col1,#T_37da4_row3_col2,#T_37da4_row4_col1,#T_37da4_row4_col2{\n",
       "            width:  10em;\n",
       "             height:  80%;\n",
       "            background:  linear-gradient(90deg,#5fba7d 100.0%, transparent 100.0%);\n",
       "        }#T_37da4_row5_col1,#T_37da4_row5_col2{\n",
       "            width:  10em;\n",
       "             height:  80%;\n",
       "            background:  linear-gradient(90deg,#5fba7d 97.5%, transparent 97.5%);\n",
       "        }#T_37da4_row6_col1,#T_37da4_row6_col2{\n",
       "            width:  10em;\n",
       "             height:  80%;\n",
       "            background:  linear-gradient(90deg,#5fba7d 96.4%, transparent 96.4%);\n",
       "        }#T_37da4_row7_col1{\n",
       "            width:  10em;\n",
       "             height:  80%;\n",
       "            background:  linear-gradient(90deg,#5fba7d 80.1%, transparent 80.1%);\n",
       "        }#T_37da4_row7_col2{\n",
       "            width:  10em;\n",
       "             height:  80%;\n",
       "            background:  linear-gradient(90deg,#5fba7d 80.0%, transparent 80.0%);\n",
       "        }</style><table id=\"T_37da4_\" ><thead>    <tr>        <th class=\"blank level0\" ></th>        <th class=\"col_heading level0 col0\" >Model</th>        <th class=\"col_heading level0 col1\" >Accuracy</th>        <th class=\"col_heading level0 col2\" >Bal Acc.</th>        <th class=\"col_heading level0 col3\" >Time</th>    </tr></thead><tbody>\n",
       "                <tr>\n",
       "                        <th id=\"T_37da4_level0_row0\" class=\"row_heading level0 row0\" >1</th>\n",
       "                        <td id=\"T_37da4_row0_col0\" class=\"data row0 col0\" >DecisionTreeClassifier</td>\n",
       "                        <td id=\"T_37da4_row0_col1\" class=\"data row0 col1\" >100.000000</td>\n",
       "                        <td id=\"T_37da4_row0_col2\" class=\"data row0 col2\" >100.000000</td>\n",
       "                        <td id=\"T_37da4_row0_col3\" class=\"data row0 col3\" >0.032273</td>\n",
       "            </tr>\n",
       "            <tr>\n",
       "                        <th id=\"T_37da4_level0_row1\" class=\"row_heading level0 row1\" >2</th>\n",
       "                        <td id=\"T_37da4_row1_col0\" class=\"data row1 col0\" >RandomForestClassifier</td>\n",
       "                        <td id=\"T_37da4_row1_col1\" class=\"data row1 col1\" >100.000000</td>\n",
       "                        <td id=\"T_37da4_row1_col2\" class=\"data row1 col2\" >100.000000</td>\n",
       "                        <td id=\"T_37da4_row1_col3\" class=\"data row1 col3\" >0.775448</td>\n",
       "            </tr>\n",
       "            <tr>\n",
       "                        <th id=\"T_37da4_level0_row2\" class=\"row_heading level0 row2\" >3</th>\n",
       "                        <td id=\"T_37da4_row2_col0\" class=\"data row2 col0\" >GradientBoostingClassifier</td>\n",
       "                        <td id=\"T_37da4_row2_col1\" class=\"data row2 col1\" >100.000000</td>\n",
       "                        <td id=\"T_37da4_row2_col2\" class=\"data row2 col2\" >100.000000</td>\n",
       "                        <td id=\"T_37da4_row2_col3\" class=\"data row2 col3\" >7.218642</td>\n",
       "            </tr>\n",
       "            <tr>\n",
       "                        <th id=\"T_37da4_level0_row3\" class=\"row_heading level0 row3\" >4</th>\n",
       "                        <td id=\"T_37da4_row3_col0\" class=\"data row3 col0\" >XGBClassifier</td>\n",
       "                        <td id=\"T_37da4_row3_col1\" class=\"data row3 col1\" >100.000000</td>\n",
       "                        <td id=\"T_37da4_row3_col2\" class=\"data row3 col2\" >100.000000</td>\n",
       "                        <td id=\"T_37da4_row3_col3\" class=\"data row3 col3\" >1.076977</td>\n",
       "            </tr>\n",
       "            <tr>\n",
       "                        <th id=\"T_37da4_level0_row4\" class=\"row_heading level0 row4\" >5</th>\n",
       "                        <td id=\"T_37da4_row4_col0\" class=\"data row4 col0\" >LGBMClassifier</td>\n",
       "                        <td id=\"T_37da4_row4_col1\" class=\"data row4 col1\" >100.000000</td>\n",
       "                        <td id=\"T_37da4_row4_col2\" class=\"data row4 col2\" >100.000000</td>\n",
       "                        <td id=\"T_37da4_row4_col3\" class=\"data row4 col3\" >0.885108</td>\n",
       "            </tr>\n",
       "            <tr>\n",
       "                        <th id=\"T_37da4_level0_row5\" class=\"row_heading level0 row5\" >6</th>\n",
       "                        <td id=\"T_37da4_row5_col0\" class=\"data row5 col0\" >LogisticRegression</td>\n",
       "                        <td id=\"T_37da4_row5_col1\" class=\"data row5 col1\" >97.540288</td>\n",
       "                        <td id=\"T_37da4_row5_col2\" class=\"data row5 col2\" >97.532997</td>\n",
       "                        <td id=\"T_37da4_row5_col3\" class=\"data row5 col3\" >0.500671</td>\n",
       "            </tr>\n",
       "            <tr>\n",
       "                        <th id=\"T_37da4_level0_row6\" class=\"row_heading level0 row6\" >7</th>\n",
       "                        <td id=\"T_37da4_row6_col0\" class=\"data row6 col0\" >KNeighborsClassifier</td>\n",
       "                        <td id=\"T_37da4_row6_col1\" class=\"data row6 col1\" >96.352841</td>\n",
       "                        <td id=\"T_37da4_row6_col2\" class=\"data row6 col2\" >96.350523</td>\n",
       "                        <td id=\"T_37da4_row6_col3\" class=\"data row6 col3\" >0.024224</td>\n",
       "            </tr>\n",
       "            <tr>\n",
       "                        <th id=\"T_37da4_level0_row7\" class=\"row_heading level0 row7\" >8</th>\n",
       "                        <td id=\"T_37da4_row7_col0\" class=\"data row7 col0\" >AdaBoostClassifier</td>\n",
       "                        <td id=\"T_37da4_row7_col1\" class=\"data row7 col1\" >80.067854</td>\n",
       "                        <td id=\"T_37da4_row7_col2\" class=\"data row7 col2\" >80.000000</td>\n",
       "                        <td id=\"T_37da4_row7_col3\" class=\"data row7 col3\" >0.649859</td>\n",
       "            </tr>\n",
       "    </tbody></table>"
      ],
      "text/plain": [
       "<pandas.io.formats.style.Styler at 0x7f2ec06c2190>"
      ]
     },
     "execution_count": 30,
     "metadata": {},
     "output_type": "execute_result"
    }
   ],
   "source": [
    "# # x=df_train_m.drop('Survived',axis=1)\n",
    "# # y=df_train_m['Survived']\n",
    "# x=imputed_x\n",
    "# y=df_train['Survived']\n",
    "X_train, X_test, y_train, y_test = train_test_split(X, y,test_size=0.2,stratify = y,random_state=10 )\n",
    "results = pd.DataFrame({'Model': [], 'Accuracy': [], 'Bal Acc.': [],'Time': []})\n",
    "for model_name, model in classifier_models.items():\n",
    "    start_time = time.time()\n",
    "    model.fit(x_train, y_train)\n",
    "    total_time = time.time() - start_time\n",
    "    valid_pred = model.predict(x_val)\n",
    "    results = results.append({\"Model\":    model_name,\n",
    "                              \"Accuracy\": accuracy_score(y_val, valid_pred)*100,\n",
    "                              \"Bal Acc.\": balanced_accuracy_score(y_val, valid_pred)*100,\n",
    "                    \n",
    "                              \"Time\":     total_time},\n",
    "                              ignore_index=True)\n",
    "results_ord = results.sort_values(by=['Accuracy'], ascending=False, ignore_index=True)\n",
    "results_ord.index += 1 \n",
    "results_ord.style.bar(subset=['Accuracy', 'Bal Acc.'], vmin=0, vmax=100, color='#5fba7d')"
   ]
  },
  {
   "cell_type": "code",
   "execution_count": 31,
   "metadata": {
    "cell_id": "00010-0a577f6f-b942-4004-a3bb-59ee9c9b37fd",
    "deepnote_cell_type": "code",
    "deepnote_to_be_reexecuted": false,
    "execution_millis": 78,
    "execution_start": 1621262125873,
    "source_hash": "abb428ea",
    "tags": []
   },
   "outputs": [
    {
     "name": "stdout",
     "output_type": "stream",
     "text": [
      "model score: 1.000\n",
      "              precision    recall  f1-score   support\n",
      "\n",
      "         Bus       1.00      1.00      1.00       236\n",
      "         Car       1.00      1.00      1.00       236\n",
      "       Still       1.00      1.00      1.00       236\n",
      "       Train       1.00      1.00      1.00       236\n",
      "     Walking       1.00      1.00      1.00       235\n",
      "\n",
      "    accuracy                           1.00      1179\n",
      "   macro avg       1.00      1.00      1.00      1179\n",
      "weighted avg       1.00      1.00      1.00      1179\n",
      "\n",
      "\n",
      "[[236   0   0   0   0]\n",
      " [  0 236   0   0   0]\n",
      " [  0   0 236   0   0]\n",
      " [  0   0   0 236   0]\n",
      " [  0   0   0   0 235]]\n"
     ]
    }
   ],
   "source": [
    "#confusion matrix\n",
    "\n",
    "from sklearn.metrics import classification_report,confusion_matrix\n",
    "#with the best  paramaters\n",
    "classifier=DecisionTreeClassifier()\n",
    "tuning_model=Pipeline(steps=[('preprocessor', preprocessor),('classifier',classifier )])\n",
    "tuning_model.fit(X_train,y_train)\n",
    "pred=tuning_model.predict(X_test)\n",
    "print(\"model score: %.3f\" % tuning_model.score(X_test, y_test))\n",
    "print(classification_report(y_test, pred))\n",
    "print()\n",
    "print(confusion_matrix(y_test, pred))"
   ]
  },
  {
   "cell_type": "code",
   "execution_count": 40,
   "metadata": {
    "cell_id": "00011-1dd50821-a554-46b8-b9ac-808966d1cf9f",
    "deepnote_cell_type": "code",
    "deepnote_to_be_reexecuted": false,
    "execution_millis": 241,
    "execution_start": 1621266939160,
    "source_hash": "69f088ee",
    "tags": []
   },
   "outputs": [
    {
     "name": "stdout",
     "output_type": "stream",
     "text": [
      "[1. 1. 1. 1. 1.]\n"
     ]
    }
   ],
   "source": [
    "\n",
    "from sklearn.model_selection import cross_val_score\n",
    "print(cross_val_score(tuning_model, X, y, cv=5))"
   ]
  },
  {
   "cell_type": "code",
   "execution_count": null,
   "metadata": {
    "cell_id": "00014-0707b153-7eea-4a28-9ce8-e227a544ca9b",
    "deepnote_cell_type": "code",
    "tags": []
   },
   "outputs": [],
   "source": []
  },
  {
   "cell_type": "markdown",
   "metadata": {
    "created_in_deepnote_cell": true,
    "deepnote_cell_type": "markdown",
    "tags": []
   },
   "source": [
    "<a style='text-decoration:none;line-height:16px;display:flex;color:#5B5B62;padding:10px;justify-content:end;' href='https://deepnote.com?utm_source=created-in-deepnote-cell&projectId=3e7089f3-11a5-48ad-89c4-39a166311a14' target=\"_blank\">\n",
    "<img alt='Created in deepnote.com' style='display:inline;max-height:16px;margin:0px;margin-right:7.5px;' src='data:image/svg+xml;base64,PD94bWwgdmVyc2lvbj0iMS4wIiBlbmNvZGluZz0iVVRGLTgiPz4KPHN2ZyB3aWR0aD0iODBweCIgaGVpZ2h0PSI4MHB4IiB2aWV3Qm94PSIwIDAgODAgODAiIHZlcnNpb249IjEuMSIgeG1sbnM9Imh0dHA6Ly93d3cudzMub3JnLzIwMDAvc3ZnIiB4bWxuczp4bGluaz0iaHR0cDovL3d3dy53My5vcmcvMTk5OS94bGluayI+CiAgICA8IS0tIEdlbmVyYXRvcjogU2tldGNoIDU0LjEgKDc2NDkwKSAtIGh0dHBzOi8vc2tldGNoYXBwLmNvbSAtLT4KICAgIDx0aXRsZT5Hcm91cCAzPC90aXRsZT4KICAgIDxkZXNjPkNyZWF0ZWQgd2l0aCBTa2V0Y2guPC9kZXNjPgogICAgPGcgaWQ9IkxhbmRpbmciIHN0cm9rZT0ibm9uZSIgc3Ryb2tlLXdpZHRoPSIxIiBmaWxsPSJub25lIiBmaWxsLXJ1bGU9ImV2ZW5vZGQiPgogICAgICAgIDxnIGlkPSJBcnRib2FyZCIgdHJhbnNmb3JtPSJ0cmFuc2xhdGUoLTEyMzUuMDAwMDAwLCAtNzkuMDAwMDAwKSI+CiAgICAgICAgICAgIDxnIGlkPSJHcm91cC0zIiB0cmFuc2Zvcm09InRyYW5zbGF0ZSgxMjM1LjAwMDAwMCwgNzkuMDAwMDAwKSI+CiAgICAgICAgICAgICAgICA8cG9seWdvbiBpZD0iUGF0aC0yMCIgZmlsbD0iIzAyNjVCNCIgcG9pbnRzPSIyLjM3NjIzNzYyIDgwIDM4LjA0NzY2NjcgODAgNTcuODIxNzgyMiA3My44MDU3NTkyIDU3LjgyMTc4MjIgMzIuNzU5MjczOSAzOS4xNDAyMjc4IDMxLjY4MzE2ODMiPjwvcG9seWdvbj4KICAgICAgICAgICAgICAgIDxwYXRoIGQ9Ik0zNS4wMDc3MTgsODAgQzQyLjkwNjIwMDcsNzYuNDU0OTM1OCA0Ny41NjQ5MTY3LDcxLjU0MjI2NzEgNDguOTgzODY2LDY1LjI2MTk5MzkgQzUxLjExMjI4OTksNTUuODQxNTg0MiA0MS42NzcxNzk1LDQ5LjIxMjIyODQgMjUuNjIzOTg0Niw0OS4yMTIyMjg0IEMyNS40ODQ5Mjg5LDQ5LjEyNjg0NDggMjkuODI2MTI5Niw0My4yODM4MjQ4IDM4LjY0NzU4NjksMzEuNjgzMTY4MyBMNzIuODcxMjg3MSwzMi41NTQ0MjUgTDY1LjI4MDk3Myw2Ny42NzYzNDIxIEw1MS4xMTIyODk5LDc3LjM3NjE0NCBMMzUuMDA3NzE4LDgwIFoiIGlkPSJQYXRoLTIyIiBmaWxsPSIjMDAyODY4Ij48L3BhdGg+CiAgICAgICAgICAgICAgICA8cGF0aCBkPSJNMCwzNy43MzA0NDA1IEwyNy4xMTQ1MzcsMC4yNTcxMTE0MzYgQzYyLjM3MTUxMjMsLTEuOTkwNzE3MDEgODAsMTAuNTAwMzkyNyA4MCwzNy43MzA0NDA1IEM4MCw2NC45NjA0ODgyIDY0Ljc3NjUwMzgsNzkuMDUwMzQxNCAzNC4zMjk1MTEzLDgwIEM0Ny4wNTUzNDg5LDc3LjU2NzA4MDggNTMuNDE4MjY3Nyw3MC4zMTM2MTAzIDUzLjQxODI2NzcsNTguMjM5NTg4NSBDNTMuNDE4MjY3Nyw0MC4xMjg1NTU3IDM2LjMwMzk1NDQsMzcuNzMwNDQwNSAyNS4yMjc0MTcsMzcuNzMwNDQwNSBDMTcuODQzMDU4NiwzNy43MzA0NDA1IDkuNDMzOTE5NjYsMzcuNzMwNDQwNSAwLDM3LjczMDQ0MDUgWiIgaWQ9IlBhdGgtMTkiIGZpbGw9IiMzNzkzRUYiPjwvcGF0aD4KICAgICAgICAgICAgPC9nPgogICAgICAgIDwvZz4KICAgIDwvZz4KPC9zdmc+' > </img>\n",
    "Created in <span style='font-weight:600;margin-left:4px;'>Deepnote</span></a>"
   ]
  }
 ],
 "metadata": {
  "deepnote": {
   "is_reactive": false
  },
  "deepnote_execution_queue": [],
  "deepnote_notebook_id": "d9fc0b79-657d-408c-8dfe-df766a6af051",
  "hide_input": false,
  "kernelspec": {
   "display_name": "Python 3",
   "language": "python",
   "name": "python3"
  },
  "language_info": {
   "codemirror_mode": {
    "name": "ipython",
    "version": 3
   },
   "file_extension": ".py",
   "mimetype": "text/x-python",
   "name": "python",
   "nbconvert_exporter": "python",
   "pygments_lexer": "ipython3",
   "version": "3.8.2"
  },
  "toc": {
   "base_numbering": 1,
   "nav_menu": {},
   "number_sections": true,
   "sideBar": true,
   "skip_h1_title": false,
   "title_cell": "Table of Contents",
   "title_sidebar": "Contents",
   "toc_cell": false,
   "toc_position": {},
   "toc_section_display": true,
   "toc_window_display": false
  },
  "varInspector": {
   "cols": {
    "lenName": 16,
    "lenType": 16,
    "lenVar": 40
   },
   "kernels_config": {
    "python": {
     "delete_cmd_postfix": "",
     "delete_cmd_prefix": "del ",
     "library": "var_list.py",
     "varRefreshCmd": "print(var_dic_list())"
    },
    "r": {
     "delete_cmd_postfix": ") ",
     "delete_cmd_prefix": "rm(",
     "library": "var_list.r",
     "varRefreshCmd": "cat(var_dic_list()) "
    }
   },
   "types_to_exclude": [
    "module",
    "function",
    "builtin_function_or_method",
    "instance",
    "_Feature"
   ],
   "window_display": false
  }
 },
 "nbformat": 4,
 "nbformat_minor": 2
}
