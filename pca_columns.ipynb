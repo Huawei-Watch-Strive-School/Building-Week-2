{
 "cells": [
  {
   "cell_type": "code",
   "execution_count": 1,
   "metadata": {
    "cell_id": "00000-b10d068c-29d2-42a5-9225-407a52e62648",
    "deepnote_cell_type": "code",
    "deepnote_to_be_reexecuted": false,
    "execution_millis": 991,
    "execution_start": 1621329192031,
    "source_hash": "8e5c5de5",
    "tags": []
   },
   "outputs": [
    {
     "name": "stdout",
     "output_type": "stream",
     "text": [
      "Pandas   1.2.4\n",
      "Sklearn  0.24.2\n"
     ]
    }
   ],
   "source": [
    "import numpy as np\n",
    "import pandas as pd\n",
    "import time \n",
    "import sklearn\n",
    "from sklearn import pipeline  ,ensemble \n",
    "from sklearn.pipeline import Pipeline \n",
    "from sklearn import impute\n",
    "from sklearn import compose\n",
    "from sklearn.model_selection import train_test_split,cross_val_score\n",
    "from sklearn.metrics import accuracy_score, balanced_accuracy_score, plot_confusion_matrix,roc_auc_score\n",
    "from sklearn import set_config\n",
    "import warnings\n",
    "warnings.filterwarnings('ignore')\n",
    "\n",
    "from sklearn.preprocessing import Normalizer,PowerTransformer,QuantileTransformer, RobustScaler,StandardScaler,LabelEncoder, OneHotEncoder,OrdinalEncoder\n",
    "from sklearn.tree          import DecisionTreeClassifier\n",
    "from sklearn.linear_model  import LogisticRegression    \n",
    "from sklearn.experimental  import enable_hist_gradient_boosting # Necesary for HistGradientBoostingClassifier\n",
    "from xgboost               import XGBClassifier\n",
    "from lightgbm              import LGBMClassifier\n",
    "# from catboost              import CatBoostClassifier\n",
    "from sklearn.neighbors import KNeighborsClassifier\n",
    "set_config(display='diagram') # Useful for display the pipeline\n",
    "print(\"Pandas  \", pd.__version__)\n",
    "print(\"Sklearn \", sklearn.__version__) # Try to use 0.24\n",
    "\n"
   ]
  },
  {
   "cell_type": "code",
   "execution_count": 4,
   "metadata": {
    "cell_id": "00001-30b20d19-9541-4d67-9c87-1ca6bec55513",
    "deepnote_cell_type": "code",
    "deepnote_to_be_reexecuted": false,
    "execution_millis": 0,
    "execution_start": 1621329260506,
    "source_hash": "52a8af0c",
    "tags": []
   },
   "outputs": [],
   "source": [
    "data=pd.read_csv('pca_dataset.csv')"
   ]
  },
  {
   "cell_type": "code",
   "execution_count": 5,
   "metadata": {
    "cell_id": "00002-e1256183-ad26-4839-bad5-46825c01cd2f",
    "deepnote_cell_type": "code",
    "deepnote_to_be_reexecuted": false,
    "execution_millis": 11,
    "execution_start": 1621329262197,
    "source_hash": "41313cfa",
    "tags": []
   },
   "outputs": [
    {
     "data": {
      "application/vnd.deepnote.dataframe.v2+json": {
       "column_count": 7,
       "columns": [
        {
         "dtype": "float64",
         "name": "PC1",
         "stats": {
          "histogram": [
           {
            "bin_end": -1.643163626600348,
            "bin_start": -1.8730835441537497,
            "count": 1
           },
           {
            "bin_end": -1.4132437090469465,
            "bin_start": -1.643163626600348,
            "count": 0
           },
           {
            "bin_end": -1.1833237914935448,
            "bin_start": -1.4132437090469465,
            "count": 1
           },
           {
            "bin_end": -0.9534038739401433,
            "bin_start": -1.1833237914935448,
            "count": 0
           },
           {
            "bin_end": -0.7234839563867417,
            "bin_start": -0.9534038739401433,
            "count": 0
           },
           {
            "bin_end": -0.49356403883334,
            "bin_start": -0.7234839563867417,
            "count": 1
           },
           {
            "bin_end": -0.2636441212799385,
            "bin_start": -0.49356403883334,
            "count": 0
           },
           {
            "bin_end": -0.03372420372653684,
            "bin_start": -0.2636441212799385,
            "count": 1
           },
           {
            "bin_end": 0.19619571382686485,
            "bin_start": -0.03372420372653684,
            "count": 0
           },
           {
            "bin_end": 0.4261156313802665,
            "bin_start": 0.19619571382686485,
            "count": 1
           }
          ],
          "max": "0.4261156313802665",
          "min": "-1.8730835441537497",
          "nan_count": 0,
          "unique_count": 5
         }
        },
        {
         "dtype": "float64",
         "name": "PC2",
         "stats": {
          "histogram": [
           {
            "bin_end": -1.0444282381642607,
            "bin_start": -1.3393833050183217,
            "count": 2
           },
           {
            "bin_end": -0.7494731713101995,
            "bin_start": -1.0444282381642607,
            "count": 0
           },
           {
            "bin_end": -0.4545181044561384,
            "bin_start": -0.7494731713101995,
            "count": 1
           },
           {
            "bin_end": -0.15956303760207735,
            "bin_start": -0.4545181044561384,
            "count": 0
           },
           {
            "bin_end": 0.13539202925198368,
            "bin_start": -0.15956303760207735,
            "count": 0
           },
           {
            "bin_end": 0.43034709610604494,
            "bin_start": 0.13539202925198368,
            "count": 0
           },
           {
            "bin_end": 0.7253021629601057,
            "bin_start": 0.43034709610604494,
            "count": 0
           },
           {
            "bin_end": 1.020257229814167,
            "bin_start": 0.7253021629601057,
            "count": 0
           },
           {
            "bin_end": 1.3152122966682283,
            "bin_start": 1.020257229814167,
            "count": 1
           },
           {
            "bin_end": 1.6101673635222888,
            "bin_start": 1.3152122966682283,
            "count": 1
           }
          ],
          "max": "1.6101673635222888",
          "min": "-1.3393833050183217",
          "nan_count": 0,
          "unique_count": 5
         }
        },
        {
         "dtype": "float64",
         "name": "PC3",
         "stats": {
          "histogram": [
           {
            "bin_end": -1.3015014519283516,
            "bin_start": -1.36653832147296,
            "count": 1
           },
           {
            "bin_end": -1.2364645823837435,
            "bin_start": -1.3015014519283516,
            "count": 2
           },
           {
            "bin_end": -1.1714277128391353,
            "bin_start": -1.2364645823837435,
            "count": 0
           },
           {
            "bin_end": -1.1063908432945269,
            "bin_start": -1.1714277128391353,
            "count": 0
           },
           {
            "bin_end": -1.0413539737499184,
            "bin_start": -1.1063908432945269,
            "count": 0
           },
           {
            "bin_end": -0.9763171042053103,
            "bin_start": -1.0413539737499184,
            "count": 1
           },
           {
            "bin_end": -0.911280234660702,
            "bin_start": -0.9763171042053103,
            "count": 0
           },
           {
            "bin_end": -0.8462433651160937,
            "bin_start": -0.911280234660702,
            "count": 0
           },
           {
            "bin_end": -0.7812064955714854,
            "bin_start": -0.8462433651160937,
            "count": 0
           },
           {
            "bin_end": -0.7161696260268771,
            "bin_start": -0.7812064955714854,
            "count": 1
           }
          ],
          "max": "-0.7161696260268771",
          "min": "-1.36653832147296",
          "nan_count": 0,
          "unique_count": 5
         }
        },
        {
         "dtype": "float64",
         "name": "PC4",
         "stats": {
          "histogram": [
           {
            "bin_end": -2.1716940192618543,
            "bin_start": -2.52910331944915,
            "count": 1
           },
           {
            "bin_end": -1.8142847190745588,
            "bin_start": -2.1716940192618543,
            "count": 0
           },
           {
            "bin_end": -1.4568754188872632,
            "bin_start": -1.8142847190745588,
            "count": 0
           },
           {
            "bin_end": -1.0994661186999677,
            "bin_start": -1.4568754188872632,
            "count": 1
           },
           {
            "bin_end": -0.7420568185126721,
            "bin_start": -1.0994661186999677,
            "count": 0
           },
           {
            "bin_end": -0.3846475183253766,
            "bin_start": -0.7420568185126721,
            "count": 1
           },
           {
            "bin_end": -0.027238218138081027,
            "bin_start": -0.3846475183253766,
            "count": 0
           },
           {
            "bin_end": 0.3301710820492145,
            "bin_start": -0.027238218138081027,
            "count": 0
           },
           {
            "bin_end": 0.6875803822365101,
            "bin_start": 0.3301710820492145,
            "count": 0
           },
           {
            "bin_end": 1.0449896824238056,
            "bin_start": 0.6875803822365101,
            "count": 2
           }
          ],
          "max": "1.0449896824238056",
          "min": "-2.52910331944915",
          "nan_count": 0,
          "unique_count": 5
         }
        },
        {
         "dtype": "float64",
         "name": "PC5",
         "stats": {
          "histogram": [
           {
            "bin_end": -0.023784645043850056,
            "bin_start": -0.0938969070694853,
            "count": 2
           },
           {
            "bin_end": 0.04632761698178518,
            "bin_start": -0.023784645043850056,
            "count": 0
           },
           {
            "bin_end": 0.11643987900742041,
            "bin_start": 0.04632761698178518,
            "count": 1
           },
           {
            "bin_end": 0.18655214103305567,
            "bin_start": 0.11643987900742041,
            "count": 0
           },
           {
            "bin_end": 0.2566644030586909,
            "bin_start": 0.18655214103305567,
            "count": 0
           },
           {
            "bin_end": 0.3267766650843261,
            "bin_start": 0.2566644030586909,
            "count": 1
           },
           {
            "bin_end": 0.3968889271099614,
            "bin_start": 0.3267766650843261,
            "count": 0
           },
           {
            "bin_end": 0.46700118913559663,
            "bin_start": 0.3968889271099614,
            "count": 0
           },
           {
            "bin_end": 0.5371134511612319,
            "bin_start": 0.46700118913559663,
            "count": 0
           },
           {
            "bin_end": 0.6072257131868671,
            "bin_start": 0.5371134511612319,
            "count": 1
           }
          ],
          "max": "0.6072257131868671",
          "min": "-0.0938969070694853",
          "nan_count": 0,
          "unique_count": 5
         }
        },
        {
         "dtype": "float64",
         "name": "PC6",
         "stats": {
          "histogram": [
           {
            "bin_end": -1.0904998754953483,
            "bin_start": -1.273448732587988,
            "count": 1
           },
           {
            "bin_end": -0.9075510184027089,
            "bin_start": -1.0904998754953483,
            "count": 0
           },
           {
            "bin_end": -0.7246021613100693,
            "bin_start": -0.9075510184027089,
            "count": 1
           },
           {
            "bin_end": -0.5416533042174297,
            "bin_start": -0.7246021613100693,
            "count": 0
           },
           {
            "bin_end": -0.3587044471247902,
            "bin_start": -0.5416533042174297,
            "count": 0
           },
           {
            "bin_end": -0.17575559003215058,
            "bin_start": -0.3587044471247902,
            "count": 0
           },
           {
            "bin_end": 0.007193267060488839,
            "bin_start": -0.17575559003215058,
            "count": 1
           },
           {
            "bin_end": 0.19014212415312848,
            "bin_start": 0.007193267060488839,
            "count": 0
           },
           {
            "bin_end": 0.3730909812457681,
            "bin_start": 0.19014212415312848,
            "count": 1
           },
           {
            "bin_end": 0.5560398383384076,
            "bin_start": 0.3730909812457681,
            "count": 1
           }
          ],
          "max": "0.5560398383384076",
          "min": "-1.273448732587988",
          "nan_count": 0,
          "unique_count": 5
         }
        },
        {
         "dtype": "object",
         "name": "target",
         "stats": {
          "categories": [
           {
            "count": 3,
            "name": "Car"
           },
           {
            "count": 2,
            "name": "Still"
           }
          ],
          "nan_count": 0,
          "unique_count": 2
         }
        },
        {
         "dtype": "int64",
         "name": "_deepnote_index_column"
        }
       ],
       "row_count": 5,
       "rows_bottom": null,
       "rows_top": [
        {
         "PC1": -1.8730835441537497,
         "PC2": 1.6101673635222888,
         "PC3": -1.3004228206699626,
         "PC4": -2.52910331944915,
         "PC5": 0.6072257131868671,
         "PC6": 0.2833596530106876,
         "_deepnote_index_column": 0,
         "target": "Still"
        },
        {
         "PC1": 0.4261156313802665,
         "PC2": -1.2462835019841878,
         "PC3": -1.36653832147296,
         "PC4": 0.8828656242997021,
         "PC5": -0.0618550816080946,
         "PC6": -1.273448732587988,
         "_deepnote_index_column": 1,
         "target": "Car"
        },
        {
         "PC1": -1.3550568451540308,
         "PC2": -0.6398976774270689,
         "PC3": -0.7161696260268771,
         "PC4": -1.4121416269276643,
         "PC5": 0.2639940848994407,
         "PC6": -0.0024483089252374,
         "_deepnote_index_column": 2,
         "target": "Still"
        },
        {
         "PC1": -0.0480811684174724,
         "PC2": -1.3393833050183217,
         "PC3": -1.248335489092388,
         "PC4": 1.0449896824238056,
         "PC5": 0.0760586645473849,
         "PC6": -0.7587646469079556,
         "_deepnote_index_column": 3,
         "target": "Car"
        },
        {
         "PC1": -0.6915875437012716,
         "PC2": 1.253835321047335,
         "PC3": -1.0202327822122916,
         "PC4": -0.6335997193260592,
         "PC5": -0.0938969070694853,
         "PC6": 0.5560398383384076,
         "_deepnote_index_column": 4,
         "target": "Car"
        }
       ]
      },
      "text/html": [
       "<div>\n",
       "<style scoped>\n",
       "    .dataframe tbody tr th:only-of-type {\n",
       "        vertical-align: middle;\n",
       "    }\n",
       "\n",
       "    .dataframe tbody tr th {\n",
       "        vertical-align: top;\n",
       "    }\n",
       "\n",
       "    .dataframe thead th {\n",
       "        text-align: right;\n",
       "    }\n",
       "</style>\n",
       "<table border=\"1\" class=\"dataframe\">\n",
       "  <thead>\n",
       "    <tr style=\"text-align: right;\">\n",
       "      <th></th>\n",
       "      <th>PC1</th>\n",
       "      <th>PC2</th>\n",
       "      <th>PC3</th>\n",
       "      <th>PC4</th>\n",
       "      <th>PC5</th>\n",
       "      <th>PC6</th>\n",
       "      <th>target</th>\n",
       "    </tr>\n",
       "  </thead>\n",
       "  <tbody>\n",
       "    <tr>\n",
       "      <th>0</th>\n",
       "      <td>-1.873084</td>\n",
       "      <td>1.610167</td>\n",
       "      <td>-1.300423</td>\n",
       "      <td>-2.529103</td>\n",
       "      <td>0.607226</td>\n",
       "      <td>0.283360</td>\n",
       "      <td>Still</td>\n",
       "    </tr>\n",
       "    <tr>\n",
       "      <th>1</th>\n",
       "      <td>0.426116</td>\n",
       "      <td>-1.246284</td>\n",
       "      <td>-1.366538</td>\n",
       "      <td>0.882866</td>\n",
       "      <td>-0.061855</td>\n",
       "      <td>-1.273449</td>\n",
       "      <td>Car</td>\n",
       "    </tr>\n",
       "    <tr>\n",
       "      <th>2</th>\n",
       "      <td>-1.355057</td>\n",
       "      <td>-0.639898</td>\n",
       "      <td>-0.716170</td>\n",
       "      <td>-1.412142</td>\n",
       "      <td>0.263994</td>\n",
       "      <td>-0.002448</td>\n",
       "      <td>Still</td>\n",
       "    </tr>\n",
       "    <tr>\n",
       "      <th>3</th>\n",
       "      <td>-0.048081</td>\n",
       "      <td>-1.339383</td>\n",
       "      <td>-1.248335</td>\n",
       "      <td>1.044990</td>\n",
       "      <td>0.076059</td>\n",
       "      <td>-0.758765</td>\n",
       "      <td>Car</td>\n",
       "    </tr>\n",
       "    <tr>\n",
       "      <th>4</th>\n",
       "      <td>-0.691588</td>\n",
       "      <td>1.253835</td>\n",
       "      <td>-1.020233</td>\n",
       "      <td>-0.633600</td>\n",
       "      <td>-0.093897</td>\n",
       "      <td>0.556040</td>\n",
       "      <td>Car</td>\n",
       "    </tr>\n",
       "  </tbody>\n",
       "</table>\n",
       "</div>"
      ],
      "text/plain": [
       "        PC1       PC2       PC3       PC4       PC5       PC6 target\n",
       "0 -1.873084  1.610167 -1.300423 -2.529103  0.607226  0.283360  Still\n",
       "1  0.426116 -1.246284 -1.366538  0.882866 -0.061855 -1.273449    Car\n",
       "2 -1.355057 -0.639898 -0.716170 -1.412142  0.263994 -0.002448  Still\n",
       "3 -0.048081 -1.339383 -1.248335  1.044990  0.076059 -0.758765    Car\n",
       "4 -0.691588  1.253835 -1.020233 -0.633600 -0.093897  0.556040    Car"
      ]
     },
     "execution_count": 5,
     "metadata": {},
     "output_type": "execute_result"
    }
   ],
   "source": [
    "data.head()"
   ]
  },
  {
   "cell_type": "code",
   "execution_count": 8,
   "metadata": {
    "cell_id": "00003-ab3ba8dc-7d00-4a8e-b632-39c706b53b95",
    "deepnote_cell_type": "code",
    "deepnote_to_be_reexecuted": false,
    "execution_millis": 1,
    "execution_start": 1621329412895,
    "source_hash": "856e2d1c",
    "tags": []
   },
   "outputs": [],
   "source": [
    "X=data.drop('target',axis=1)\n",
    "y=data.target\n",
    "num_features=X.columns"
   ]
  },
  {
   "cell_type": "code",
   "execution_count": 16,
   "metadata": {
    "cell_id": "00003-99ac49e2-6490-46a7-99f7-4bd4ac5380dd",
    "deepnote_cell_type": "code",
    "deepnote_to_be_reexecuted": false,
    "execution_millis": 55,
    "execution_start": 1621330397663,
    "source_hash": "5d92dcfd",
    "tags": []
   },
   "outputs": [
    {
     "data": {
      "text/html": [
       "<style>#sk-43264bd7-a59d-4ac2-ab2f-5ae6e86ba1c4 {color: black;background-color: white;}#sk-43264bd7-a59d-4ac2-ab2f-5ae6e86ba1c4 pre{padding: 0;}#sk-43264bd7-a59d-4ac2-ab2f-5ae6e86ba1c4 div.sk-toggleable {background-color: white;}#sk-43264bd7-a59d-4ac2-ab2f-5ae6e86ba1c4 label.sk-toggleable__label {cursor: pointer;display: block;width: 100%;margin-bottom: 0;padding: 0.2em 0.3em;box-sizing: border-box;text-align: center;}#sk-43264bd7-a59d-4ac2-ab2f-5ae6e86ba1c4 div.sk-toggleable__content {max-height: 0;max-width: 0;overflow: hidden;text-align: left;background-color: #f0f8ff;}#sk-43264bd7-a59d-4ac2-ab2f-5ae6e86ba1c4 div.sk-toggleable__content pre {margin: 0.2em;color: black;border-radius: 0.25em;background-color: #f0f8ff;}#sk-43264bd7-a59d-4ac2-ab2f-5ae6e86ba1c4 input.sk-toggleable__control:checked~div.sk-toggleable__content {max-height: 200px;max-width: 100%;overflow: auto;}#sk-43264bd7-a59d-4ac2-ab2f-5ae6e86ba1c4 div.sk-estimator input.sk-toggleable__control:checked~label.sk-toggleable__label {background-color: #d4ebff;}#sk-43264bd7-a59d-4ac2-ab2f-5ae6e86ba1c4 div.sk-label input.sk-toggleable__control:checked~label.sk-toggleable__label {background-color: #d4ebff;}#sk-43264bd7-a59d-4ac2-ab2f-5ae6e86ba1c4 input.sk-hidden--visually {border: 0;clip: rect(1px 1px 1px 1px);clip: rect(1px, 1px, 1px, 1px);height: 1px;margin: -1px;overflow: hidden;padding: 0;position: absolute;width: 1px;}#sk-43264bd7-a59d-4ac2-ab2f-5ae6e86ba1c4 div.sk-estimator {font-family: monospace;background-color: #f0f8ff;margin: 0.25em 0.25em;border: 1px dotted black;border-radius: 0.25em;box-sizing: border-box;}#sk-43264bd7-a59d-4ac2-ab2f-5ae6e86ba1c4 div.sk-estimator:hover {background-color: #d4ebff;}#sk-43264bd7-a59d-4ac2-ab2f-5ae6e86ba1c4 div.sk-parallel-item::after {content: \"\";width: 100%;border-bottom: 1px solid gray;flex-grow: 1;}#sk-43264bd7-a59d-4ac2-ab2f-5ae6e86ba1c4 div.sk-label:hover label.sk-toggleable__label {background-color: #d4ebff;}#sk-43264bd7-a59d-4ac2-ab2f-5ae6e86ba1c4 div.sk-serial::before {content: \"\";position: absolute;border-left: 1px solid gray;box-sizing: border-box;top: 2em;bottom: 0;left: 50%;}#sk-43264bd7-a59d-4ac2-ab2f-5ae6e86ba1c4 div.sk-serial {display: flex;flex-direction: column;align-items: center;background-color: white;}#sk-43264bd7-a59d-4ac2-ab2f-5ae6e86ba1c4 div.sk-item {z-index: 1;}#sk-43264bd7-a59d-4ac2-ab2f-5ae6e86ba1c4 div.sk-parallel {display: flex;align-items: stretch;justify-content: center;background-color: white;}#sk-43264bd7-a59d-4ac2-ab2f-5ae6e86ba1c4 div.sk-parallel-item {display: flex;flex-direction: column;position: relative;background-color: white;}#sk-43264bd7-a59d-4ac2-ab2f-5ae6e86ba1c4 div.sk-parallel-item:first-child::after {align-self: flex-end;width: 50%;}#sk-43264bd7-a59d-4ac2-ab2f-5ae6e86ba1c4 div.sk-parallel-item:last-child::after {align-self: flex-start;width: 50%;}#sk-43264bd7-a59d-4ac2-ab2f-5ae6e86ba1c4 div.sk-parallel-item:only-child::after {width: 0;}#sk-43264bd7-a59d-4ac2-ab2f-5ae6e86ba1c4 div.sk-dashed-wrapped {border: 1px dashed gray;margin: 0.2em;box-sizing: border-box;padding-bottom: 0.1em;background-color: white;position: relative;}#sk-43264bd7-a59d-4ac2-ab2f-5ae6e86ba1c4 div.sk-label label {font-family: monospace;font-weight: bold;background-color: white;display: inline-block;line-height: 1.2em;}#sk-43264bd7-a59d-4ac2-ab2f-5ae6e86ba1c4 div.sk-label-container {position: relative;z-index: 2;text-align: center;}#sk-43264bd7-a59d-4ac2-ab2f-5ae6e86ba1c4 div.sk-container {display: inline-block;position: relative;}</style><div id=\"sk-43264bd7-a59d-4ac2-ab2f-5ae6e86ba1c4\" class\"sk-top-container\"><div class=\"sk-container\"><div class=\"sk-item sk-dashed-wrapped\"><div class=\"sk-label-container\"><div class=\"sk-label sk-toggleable\"><input class=\"sk-toggleable__control sk-hidden--visually\" id=\"e35a3177-eab6-4de2-94ca-5c86fd2717cc\" type=\"checkbox\" ><label class=\"sk-toggleable__label\" for=\"e35a3177-eab6-4de2-94ca-5c86fd2717cc\">ColumnTransformer</label><div class=\"sk-toggleable__content\"><pre>ColumnTransformer(remainder='passthrough',\n",
       "                  transformers=[('num',\n",
       "                                 Pipeline(steps=[('imputer',\n",
       "                                                  SimpleImputer(fill_value='missing')),\n",
       "                                                 ('scalar', StandardScaler())]),\n",
       "                                 Index(['PC1', 'PC2', 'PC3', 'PC4', 'PC5', 'PC6'], dtype='object'))])</pre></div></div></div><div class=\"sk-parallel\"><div class=\"sk-parallel-item\"><div class=\"sk-item\"><div class=\"sk-label-container\"><div class=\"sk-label sk-toggleable\"><input class=\"sk-toggleable__control sk-hidden--visually\" id=\"e7553aba-009c-4f02-ba35-98f885ce5326\" type=\"checkbox\" ><label class=\"sk-toggleable__label\" for=\"e7553aba-009c-4f02-ba35-98f885ce5326\">num</label><div class=\"sk-toggleable__content\"><pre>Index(['PC1', 'PC2', 'PC3', 'PC4', 'PC5', 'PC6'], dtype='object')</pre></div></div></div><div class=\"sk-serial\"><div class=\"sk-item\"><div class=\"sk-serial\"><div class=\"sk-item\"><div class=\"sk-estimator sk-toggleable\"><input class=\"sk-toggleable__control sk-hidden--visually\" id=\"cec8c2fc-310a-4667-a1e1-721b2931a724\" type=\"checkbox\" ><label class=\"sk-toggleable__label\" for=\"cec8c2fc-310a-4667-a1e1-721b2931a724\">SimpleImputer</label><div class=\"sk-toggleable__content\"><pre>SimpleImputer(fill_value='missing')</pre></div></div></div><div class=\"sk-item\"><div class=\"sk-estimator sk-toggleable\"><input class=\"sk-toggleable__control sk-hidden--visually\" id=\"07f7047a-02ed-4d6c-b54f-d826c948ed39\" type=\"checkbox\" ><label class=\"sk-toggleable__label\" for=\"07f7047a-02ed-4d6c-b54f-d826c948ed39\">StandardScaler</label><div class=\"sk-toggleable__content\"><pre>StandardScaler()</pre></div></div></div></div></div></div></div></div><div class=\"sk-parallel-item\"><div class=\"sk-item\"><div class=\"sk-label-container\"><div class=\"sk-label sk-toggleable\"><input class=\"sk-toggleable__control sk-hidden--visually\" id=\"8a1d58af-42a0-45ea-b2a2-776293cab9c8\" type=\"checkbox\" ><label class=\"sk-toggleable__label\" for=\"8a1d58af-42a0-45ea-b2a2-776293cab9c8\">remainder</label><div class=\"sk-toggleable__content\"><pre></pre></div></div></div><div class=\"sk-serial\"><div class=\"sk-item\"><div class=\"sk-estimator sk-toggleable\"><input class=\"sk-toggleable__control sk-hidden--visually\" id=\"59c83d1e-203c-42c0-8436-4af2e5f62ff9\" type=\"checkbox\" ><label class=\"sk-toggleable__label\" for=\"59c83d1e-203c-42c0-8436-4af2e5f62ff9\">passthrough</label><div class=\"sk-toggleable__content\"><pre>passthrough</pre></div></div></div></div></div></div></div></div></div></div>"
      ],
      "text/plain": [
       "ColumnTransformer(remainder='passthrough',\n",
       "                  transformers=[('num',\n",
       "                                 Pipeline(steps=[('imputer',\n",
       "                                                  SimpleImputer(fill_value='missing')),\n",
       "                                                 ('scalar', StandardScaler())]),\n",
       "                                 Index(['PC1', 'PC2', 'PC3', 'PC4', 'PC5', 'PC6'], dtype='object'))])"
      ]
     },
     "execution_count": 16,
     "metadata": {},
     "output_type": "execute_result"
    }
   ],
   "source": [
    "num_4_Models = pipeline.Pipeline(steps=[\n",
    "    ('imputer',impute.SimpleImputer(strategy='mean', fill_value='missing')),\n",
    "    ('scalar',StandardScaler()),\n",
    "])\n",
    "\n",
    "\n",
    "preprocessor = compose.ColumnTransformer(transformers=[\n",
    "    ('num', num_4_Models, num_features),\n",
    "    # ('cat', cat_4_Models, cat_vars),\n",
    "], remainder='passthrough') # Drop other vars not specified in num_vars or cat_vars\n",
    "preprocessor"
   ]
  },
  {
   "cell_type": "code",
   "execution_count": 17,
   "metadata": {
    "cell_id": "00004-7ddc334b-f99d-48f2-afa6-d45749a970f1",
    "deepnote_cell_type": "code",
    "deepnote_to_be_reexecuted": false,
    "execution_millis": 43,
    "execution_start": 1621330400186,
    "source_hash": "736fe8c4",
    "tags": []
   },
   "outputs": [
    {
     "data": {
      "text/html": [
       "<style>#sk-a165e995-b387-4a29-8b31-472c0e175e8a {color: black;background-color: white;}#sk-a165e995-b387-4a29-8b31-472c0e175e8a pre{padding: 0;}#sk-a165e995-b387-4a29-8b31-472c0e175e8a div.sk-toggleable {background-color: white;}#sk-a165e995-b387-4a29-8b31-472c0e175e8a label.sk-toggleable__label {cursor: pointer;display: block;width: 100%;margin-bottom: 0;padding: 0.2em 0.3em;box-sizing: border-box;text-align: center;}#sk-a165e995-b387-4a29-8b31-472c0e175e8a div.sk-toggleable__content {max-height: 0;max-width: 0;overflow: hidden;text-align: left;background-color: #f0f8ff;}#sk-a165e995-b387-4a29-8b31-472c0e175e8a div.sk-toggleable__content pre {margin: 0.2em;color: black;border-radius: 0.25em;background-color: #f0f8ff;}#sk-a165e995-b387-4a29-8b31-472c0e175e8a input.sk-toggleable__control:checked~div.sk-toggleable__content {max-height: 200px;max-width: 100%;overflow: auto;}#sk-a165e995-b387-4a29-8b31-472c0e175e8a div.sk-estimator input.sk-toggleable__control:checked~label.sk-toggleable__label {background-color: #d4ebff;}#sk-a165e995-b387-4a29-8b31-472c0e175e8a div.sk-label input.sk-toggleable__control:checked~label.sk-toggleable__label {background-color: #d4ebff;}#sk-a165e995-b387-4a29-8b31-472c0e175e8a input.sk-hidden--visually {border: 0;clip: rect(1px 1px 1px 1px);clip: rect(1px, 1px, 1px, 1px);height: 1px;margin: -1px;overflow: hidden;padding: 0;position: absolute;width: 1px;}#sk-a165e995-b387-4a29-8b31-472c0e175e8a div.sk-estimator {font-family: monospace;background-color: #f0f8ff;margin: 0.25em 0.25em;border: 1px dotted black;border-radius: 0.25em;box-sizing: border-box;}#sk-a165e995-b387-4a29-8b31-472c0e175e8a div.sk-estimator:hover {background-color: #d4ebff;}#sk-a165e995-b387-4a29-8b31-472c0e175e8a div.sk-parallel-item::after {content: \"\";width: 100%;border-bottom: 1px solid gray;flex-grow: 1;}#sk-a165e995-b387-4a29-8b31-472c0e175e8a div.sk-label:hover label.sk-toggleable__label {background-color: #d4ebff;}#sk-a165e995-b387-4a29-8b31-472c0e175e8a div.sk-serial::before {content: \"\";position: absolute;border-left: 1px solid gray;box-sizing: border-box;top: 2em;bottom: 0;left: 50%;}#sk-a165e995-b387-4a29-8b31-472c0e175e8a div.sk-serial {display: flex;flex-direction: column;align-items: center;background-color: white;}#sk-a165e995-b387-4a29-8b31-472c0e175e8a div.sk-item {z-index: 1;}#sk-a165e995-b387-4a29-8b31-472c0e175e8a div.sk-parallel {display: flex;align-items: stretch;justify-content: center;background-color: white;}#sk-a165e995-b387-4a29-8b31-472c0e175e8a div.sk-parallel-item {display: flex;flex-direction: column;position: relative;background-color: white;}#sk-a165e995-b387-4a29-8b31-472c0e175e8a div.sk-parallel-item:first-child::after {align-self: flex-end;width: 50%;}#sk-a165e995-b387-4a29-8b31-472c0e175e8a div.sk-parallel-item:last-child::after {align-self: flex-start;width: 50%;}#sk-a165e995-b387-4a29-8b31-472c0e175e8a div.sk-parallel-item:only-child::after {width: 0;}#sk-a165e995-b387-4a29-8b31-472c0e175e8a div.sk-dashed-wrapped {border: 1px dashed gray;margin: 0.2em;box-sizing: border-box;padding-bottom: 0.1em;background-color: white;position: relative;}#sk-a165e995-b387-4a29-8b31-472c0e175e8a div.sk-label label {font-family: monospace;font-weight: bold;background-color: white;display: inline-block;line-height: 1.2em;}#sk-a165e995-b387-4a29-8b31-472c0e175e8a div.sk-label-container {position: relative;z-index: 2;text-align: center;}#sk-a165e995-b387-4a29-8b31-472c0e175e8a div.sk-container {display: inline-block;position: relative;}</style><div id=\"sk-a165e995-b387-4a29-8b31-472c0e175e8a\" class\"sk-top-container\"><div class=\"sk-container\"><div class=\"sk-item sk-dashed-wrapped\"><div class=\"sk-label-container\"><div class=\"sk-label sk-toggleable\"><input class=\"sk-toggleable__control sk-hidden--visually\" id=\"6f84c182-ba6a-4420-902f-b7a9c6b94867\" type=\"checkbox\" ><label class=\"sk-toggleable__label\" for=\"6f84c182-ba6a-4420-902f-b7a9c6b94867\">Pipeline</label><div class=\"sk-toggleable__content\"><pre>Pipeline(steps=[('columntransformer',\n",
       "                 ColumnTransformer(remainder='passthrough',\n",
       "                                   transformers=[('num',\n",
       "                                                  Pipeline(steps=[('imputer',\n",
       "                                                                   SimpleImputer(fill_value='missing')),\n",
       "                                                                  ('scalar',\n",
       "                                                                   StandardScaler())]),\n",
       "                                                  Index(['PC1', 'PC2', 'PC3', 'PC4', 'PC5', 'PC6'], dtype='object'))])),\n",
       "                ('gradientboostingclassifier', GradientBoostingClassifier())])</pre></div></div></div><div class=\"sk-serial\"><div class=\"sk-item sk-dashed-wrapped\"><div class=\"sk-label-container\"><div class=\"sk-label sk-toggleable\"><input class=\"sk-toggleable__control sk-hidden--visually\" id=\"4ac16c7c-e330-4151-97aa-d92c48e2e8fb\" type=\"checkbox\" ><label class=\"sk-toggleable__label\" for=\"4ac16c7c-e330-4151-97aa-d92c48e2e8fb\">columntransformer: ColumnTransformer</label><div class=\"sk-toggleable__content\"><pre>ColumnTransformer(remainder='passthrough',\n",
       "                  transformers=[('num',\n",
       "                                 Pipeline(steps=[('imputer',\n",
       "                                                  SimpleImputer(fill_value='missing')),\n",
       "                                                 ('scalar', StandardScaler())]),\n",
       "                                 Index(['PC1', 'PC2', 'PC3', 'PC4', 'PC5', 'PC6'], dtype='object'))])</pre></div></div></div><div class=\"sk-parallel\"><div class=\"sk-parallel-item\"><div class=\"sk-item\"><div class=\"sk-label-container\"><div class=\"sk-label sk-toggleable\"><input class=\"sk-toggleable__control sk-hidden--visually\" id=\"3431b6c7-c5a2-4a60-bce0-983b3b85cb44\" type=\"checkbox\" ><label class=\"sk-toggleable__label\" for=\"3431b6c7-c5a2-4a60-bce0-983b3b85cb44\">num</label><div class=\"sk-toggleable__content\"><pre>Index(['PC1', 'PC2', 'PC3', 'PC4', 'PC5', 'PC6'], dtype='object')</pre></div></div></div><div class=\"sk-serial\"><div class=\"sk-item\"><div class=\"sk-serial\"><div class=\"sk-item\"><div class=\"sk-estimator sk-toggleable\"><input class=\"sk-toggleable__control sk-hidden--visually\" id=\"58e3e79e-dbb4-429e-a8de-50fff963a594\" type=\"checkbox\" ><label class=\"sk-toggleable__label\" for=\"58e3e79e-dbb4-429e-a8de-50fff963a594\">SimpleImputer</label><div class=\"sk-toggleable__content\"><pre>SimpleImputer(fill_value='missing')</pre></div></div></div><div class=\"sk-item\"><div class=\"sk-estimator sk-toggleable\"><input class=\"sk-toggleable__control sk-hidden--visually\" id=\"fa794486-3d8d-40dd-9a29-0a58677cae23\" type=\"checkbox\" ><label class=\"sk-toggleable__label\" for=\"fa794486-3d8d-40dd-9a29-0a58677cae23\">StandardScaler</label><div class=\"sk-toggleable__content\"><pre>StandardScaler()</pre></div></div></div></div></div></div></div></div><div class=\"sk-parallel-item\"><div class=\"sk-item\"><div class=\"sk-label-container\"><div class=\"sk-label sk-toggleable\"><input class=\"sk-toggleable__control sk-hidden--visually\" id=\"66a5386a-efe6-4815-aafc-deaa3dede77b\" type=\"checkbox\" ><label class=\"sk-toggleable__label\" for=\"66a5386a-efe6-4815-aafc-deaa3dede77b\">remainder</label><div class=\"sk-toggleable__content\"><pre></pre></div></div></div><div class=\"sk-serial\"><div class=\"sk-item\"><div class=\"sk-estimator sk-toggleable\"><input class=\"sk-toggleable__control sk-hidden--visually\" id=\"b8ca31e8-8874-49c9-92a4-168c82e6d1a8\" type=\"checkbox\" ><label class=\"sk-toggleable__label\" for=\"b8ca31e8-8874-49c9-92a4-168c82e6d1a8\">passthrough</label><div class=\"sk-toggleable__content\"><pre>passthrough</pre></div></div></div></div></div></div></div></div><div class=\"sk-item\"><div class=\"sk-estimator sk-toggleable\"><input class=\"sk-toggleable__control sk-hidden--visually\" id=\"c58f8ae0-9fa1-4a24-a9df-9e7c60ad7162\" type=\"checkbox\" ><label class=\"sk-toggleable__label\" for=\"c58f8ae0-9fa1-4a24-a9df-9e7c60ad7162\">GradientBoostingClassifier</label><div class=\"sk-toggleable__content\"><pre>GradientBoostingClassifier()</pre></div></div></div></div></div></div></div>"
      ],
      "text/plain": [
       "Pipeline(steps=[('columntransformer',\n",
       "                 ColumnTransformer(remainder='passthrough',\n",
       "                                   transformers=[('num',\n",
       "                                                  Pipeline(steps=[('imputer',\n",
       "                                                                   SimpleImputer(fill_value='missing')),\n",
       "                                                                  ('scalar',\n",
       "                                                                   StandardScaler())]),\n",
       "                                                  Index(['PC1', 'PC2', 'PC3', 'PC4', 'PC5', 'PC6'], dtype='object'))])),\n",
       "                ('gradientboostingclassifier', GradientBoostingClassifier())])"
      ]
     },
     "execution_count": 17,
     "metadata": {},
     "output_type": "execute_result"
    }
   ],
   "source": [
    "classifier_models = {\n",
    "\"DecisionTreeClassifier\": DecisionTreeClassifier(),\n",
    "'KNeighborsClassifier':KNeighborsClassifier(6),\n",
    "'LogisticRegression':LogisticRegression(),\n",
    "\"RandomForestClassifier\":ensemble.RandomForestClassifier(),\n",
    "\"AdaBoostClassifier\":ensemble.AdaBoostClassifier(),\n",
    "\"GradientBoostingClassifier\":ensemble.GradientBoostingClassifier(),\n",
    "\"XGBClassifier\":XGBClassifier(),\n",
    "\"LGBMClassifier\":LGBMClassifier(),\n",
    "# \"CatBoostClassifier\":CatBoostClassifier(),\n",
    "\n",
    "}\n",
    "# make pipline with  preprocessing \n",
    "classifier_models = {name: pipeline.make_pipeline(preprocessor, model) for name, model in classifier_models.items()}\n",
    "classifier_models[\"GradientBoostingClassifier\"]"
   ]
  },
  {
   "cell_type": "code",
   "execution_count": 18,
   "metadata": {
    "cell_id": "00006-f887cd99-cbfc-4cb9-875f-ea5b8a75f9ca",
    "deepnote_cell_type": "code",
    "deepnote_to_be_reexecuted": false,
    "execution_millis": 11933,
    "execution_start": 1621330402819,
    "source_hash": "c59def0a",
    "tags": []
   },
   "outputs": [
    {
     "name": "stdout",
     "output_type": "stream",
     "text": [
      "[09:33:30] WARNING: ../src/learner.cc:1095: Starting in XGBoost 1.3.0, the default evaluation metric used with the objective 'multi:softprob' was changed from 'merror' to 'mlogloss'. Explicitly set eval_metric if you'd like to restore the old behavior.\n"
     ]
    },
    {
     "data": {
      "text/html": [
       "<style  type=\"text/css\" >\n",
       "#T_d612a_row0_col1,#T_d612a_row0_col2{\n",
       "            width:  10em;\n",
       "             height:  80%;\n",
       "            background:  linear-gradient(90deg,#5fba7d 91.2%, transparent 91.2%);\n",
       "        }#T_d612a_row1_col1,#T_d612a_row1_col2{\n",
       "            width:  10em;\n",
       "             height:  80%;\n",
       "            background:  linear-gradient(90deg,#5fba7d 90.7%, transparent 90.7%);\n",
       "        }#T_d612a_row2_col1,#T_d612a_row2_col2{\n",
       "            width:  10em;\n",
       "             height:  80%;\n",
       "            background:  linear-gradient(90deg,#5fba7d 90.6%, transparent 90.6%);\n",
       "        }#T_d612a_row3_col1,#T_d612a_row3_col2{\n",
       "            width:  10em;\n",
       "             height:  80%;\n",
       "            background:  linear-gradient(90deg,#5fba7d 88.7%, transparent 88.7%);\n",
       "        }#T_d612a_row4_col1,#T_d612a_row4_col2{\n",
       "            width:  10em;\n",
       "             height:  80%;\n",
       "            background:  linear-gradient(90deg,#5fba7d 86.3%, transparent 86.3%);\n",
       "        }#T_d612a_row5_col1,#T_d612a_row5_col2{\n",
       "            width:  10em;\n",
       "             height:  80%;\n",
       "            background:  linear-gradient(90deg,#5fba7d 85.4%, transparent 85.4%);\n",
       "        }#T_d612a_row6_col1,#T_d612a_row6_col2{\n",
       "            width:  10em;\n",
       "             height:  80%;\n",
       "            background:  linear-gradient(90deg,#5fba7d 65.4%, transparent 65.4%);\n",
       "        }#T_d612a_row7_col1,#T_d612a_row7_col2{\n",
       "            width:  10em;\n",
       "             height:  80%;\n",
       "            background:  linear-gradient(90deg,#5fba7d 62.8%, transparent 62.8%);\n",
       "        }</style><table id=\"T_d612a_\" ><thead>    <tr>        <th class=\"blank level0\" ></th>        <th class=\"col_heading level0 col0\" >Model</th>        <th class=\"col_heading level0 col1\" >Accuracy</th>        <th class=\"col_heading level0 col2\" >Bal Acc.</th>        <th class=\"col_heading level0 col3\" >Time</th>    </tr></thead><tbody>\n",
       "                <tr>\n",
       "                        <th id=\"T_d612a_level0_row0\" class=\"row_heading level0 row0\" >1</th>\n",
       "                        <td id=\"T_d612a_row0_col0\" class=\"data row0 col0\" >RandomForestClassifier</td>\n",
       "                        <td id=\"T_d612a_row0_col1\" class=\"data row0 col1\" >91.178965</td>\n",
       "                        <td id=\"T_d612a_row0_col2\" class=\"data row0 col2\" >91.181753</td>\n",
       "                        <td id=\"T_d612a_row0_col3\" class=\"data row0 col3\" >0.939646</td>\n",
       "            </tr>\n",
       "            <tr>\n",
       "                        <th id=\"T_d612a_level0_row1\" class=\"row_heading level0 row1\" >2</th>\n",
       "                        <td id=\"T_d612a_row1_col0\" class=\"data row1 col0\" >XGBClassifier</td>\n",
       "                        <td id=\"T_d612a_row1_col1\" class=\"data row1 col1\" >90.670059</td>\n",
       "                        <td id=\"T_d612a_row1_col2\" class=\"data row1 col2\" >90.672196</td>\n",
       "                        <td id=\"T_d612a_row1_col3\" class=\"data row1 col3\" >3.917173</td>\n",
       "            </tr>\n",
       "            <tr>\n",
       "                        <th id=\"T_d612a_level0_row2\" class=\"row_heading level0 row2\" >3</th>\n",
       "                        <td id=\"T_d612a_row2_col0\" class=\"data row2 col0\" >LGBMClassifier</td>\n",
       "                        <td id=\"T_d612a_row2_col1\" class=\"data row2 col1\" >90.585242</td>\n",
       "                        <td id=\"T_d612a_row2_col2\" class=\"data row2 col2\" >90.586008</td>\n",
       "                        <td id=\"T_d612a_row2_col3\" class=\"data row2 col3\" >0.800398</td>\n",
       "            </tr>\n",
       "            <tr>\n",
       "                        <th id=\"T_d612a_level0_row3\" class=\"row_heading level0 row3\" >4</th>\n",
       "                        <td id=\"T_d612a_row3_col0\" class=\"data row3 col0\" >KNeighborsClassifier</td>\n",
       "                        <td id=\"T_d612a_row3_col1\" class=\"data row3 col1\" >88.719254</td>\n",
       "                        <td id=\"T_d612a_row3_col2\" class=\"data row3 col2\" >88.717634</td>\n",
       "                        <td id=\"T_d612a_row3_col3\" class=\"data row3 col3\" >0.012390</td>\n",
       "            </tr>\n",
       "            <tr>\n",
       "                        <th id=\"T_d612a_level0_row4\" class=\"row_heading level0 row4\" >5</th>\n",
       "                        <td id=\"T_d612a_row4_col0\" class=\"data row4 col0\" >GradientBoostingClassifier</td>\n",
       "                        <td id=\"T_d612a_row4_col1\" class=\"data row4 col1\" >86.259542</td>\n",
       "                        <td id=\"T_d612a_row4_col2\" class=\"data row4 col2\" >86.261810</td>\n",
       "                        <td id=\"T_d612a_row4_col3\" class=\"data row4 col3\" >5.330233</td>\n",
       "            </tr>\n",
       "            <tr>\n",
       "                        <th id=\"T_d612a_level0_row5\" class=\"row_heading level0 row5\" >6</th>\n",
       "                        <td id=\"T_d612a_row5_col0\" class=\"data row5 col0\" >DecisionTreeClassifier</td>\n",
       "                        <td id=\"T_d612a_row5_col1\" class=\"data row5 col1\" >85.411366</td>\n",
       "                        <td id=\"T_d612a_row5_col2\" class=\"data row5 col2\" >85.412550</td>\n",
       "                        <td id=\"T_d612a_row5_col3\" class=\"data row5 col3\" >0.048832</td>\n",
       "            </tr>\n",
       "            <tr>\n",
       "                        <th id=\"T_d612a_level0_row6\" class=\"row_heading level0 row6\" >7</th>\n",
       "                        <td id=\"T_d612a_row6_col0\" class=\"data row6 col0\" >AdaBoostClassifier</td>\n",
       "                        <td id=\"T_d612a_row6_col1\" class=\"data row6 col1\" >65.394402</td>\n",
       "                        <td id=\"T_d612a_row6_col2\" class=\"data row6 col2\" >65.404616</td>\n",
       "                        <td id=\"T_d612a_row6_col3\" class=\"data row6 col3\" >0.513449</td>\n",
       "            </tr>\n",
       "            <tr>\n",
       "                        <th id=\"T_d612a_level0_row7\" class=\"row_heading level0 row7\" >8</th>\n",
       "                        <td id=\"T_d612a_row7_col0\" class=\"data row7 col0\" >LogisticRegression</td>\n",
       "                        <td id=\"T_d612a_row7_col1\" class=\"data row7 col1\" >62.765055</td>\n",
       "                        <td id=\"T_d612a_row7_col2\" class=\"data row7 col2\" >62.784710</td>\n",
       "                        <td id=\"T_d612a_row7_col3\" class=\"data row7 col3\" >0.119329</td>\n",
       "            </tr>\n",
       "    </tbody></table>"
      ],
      "text/plain": [
       "<pandas.io.formats.style.Styler at 0x7f6eb2f46a10>"
      ]
     },
     "execution_count": 18,
     "metadata": {},
     "output_type": "execute_result"
    }
   ],
   "source": [
    "\n",
    "X_train, X_test, y_train, y_test = train_test_split(X, y,test_size=0.2,stratify = y,random_state=10 )\n",
    "results = pd.DataFrame({'Model': [], 'Accuracy': [], 'Bal Acc.': [],'Time': []})\n",
    "for model_name, model in classifier_models.items():\n",
    "    start_time = time.time()\n",
    "    model.fit(X_train, y_train)\n",
    "    total_time = time.time() - start_time\n",
    "    valid_pred = model.predict(X_test)\n",
    "    results = results.append({\"Model\":    model_name,\n",
    "                              \"Accuracy\": accuracy_score(y_test, valid_pred)*100,\n",
    "                              \"Bal Acc.\": balanced_accuracy_score(y_test, valid_pred)*100,\n",
    "                    \n",
    "                              \"Time\":     total_time},\n",
    "                              ignore_index=True)\n",
    "results_ord = results.sort_values(by=['Accuracy'], ascending=False, ignore_index=True)\n",
    "results_ord.index += 1 \n",
    "results_ord.style.bar(subset=['Accuracy', 'Bal Acc.'], vmin=0, vmax=100, color='#5fba7d')"
   ]
  },
  {
   "cell_type": "code",
   "execution_count": 20,
   "metadata": {
    "cell_id": "00005-2743aa20-ab08-4c2f-b167-a9fdcbf1fbcf",
    "deepnote_cell_type": "code",
    "deepnote_to_be_reexecuted": false,
    "execution_millis": 989,
    "execution_start": 1621330441465,
    "source_hash": "10a01b5c",
    "tags": []
   },
   "outputs": [
    {
     "name": "stdout",
     "output_type": "stream",
     "text": [
      "model score: 0.911\n",
      "              precision    recall  f1-score   support\n",
      "\n",
      "         Bus       0.90      0.88      0.89       236\n",
      "         Car       0.89      0.89      0.89       236\n",
      "       Still       0.93      0.94      0.93       236\n",
      "       Train       0.91      0.91      0.91       236\n",
      "     Walking       0.92      0.93      0.93       235\n",
      "\n",
      "    accuracy                           0.91      1179\n",
      "   macro avg       0.91      0.91      0.91      1179\n",
      "weighted avg       0.91      0.91      0.91      1179\n",
      "\n",
      "\n",
      "[[208  12   2   4  10]\n",
      " [ 12 210   5   6   3]\n",
      " [  0   3 222  10   1]\n",
      " [  5   6   6 215   4]\n",
      " [  7   5   4   0 219]]\n"
     ]
    }
   ],
   "source": [
    "from sklearn.metrics import classification_report,confusion_matrix\n",
    "#with the best  paramaters\n",
    "classifier=ensemble.RandomForestClassifier()\n",
    "tuning_model=Pipeline(steps=[('preprocessor', preprocessor),('classifier',classifier )])\n",
    "tuning_model.fit(X_train,y_train)\n",
    "pred=tuning_model.predict(X_test)\n",
    "print(\"model score: %.3f\" % tuning_model.score(X_test, y_test))\n",
    "print(classification_report(y_test, pred))\n",
    "print()\n",
    "print(confusion_matrix(y_test, pred))"
   ]
  },
  {
   "cell_type": "markdown",
   "metadata": {
    "created_in_deepnote_cell": true,
    "deepnote_cell_type": "markdown",
    "tags": []
   },
   "source": [
    "<a style='text-decoration:none;line-height:16px;display:flex;color:#5B5B62;padding:10px;justify-content:end;' href='https://deepnote.com?utm_source=created-in-deepnote-cell&projectId=3e7089f3-11a5-48ad-89c4-39a166311a14' target=\"_blank\">\n",
    "<img alt='Created in deepnote.com' style='display:inline;max-height:16px;margin:0px;margin-right:7.5px;' src='data:image/svg+xml;base64,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' > </img>\n",
    "Created in <span style='font-weight:600;margin-left:4px;'>Deepnote</span></a>"
   ]
  }
 ],
 "metadata": {
  "deepnote": {
   "is_reactive": false
  },
  "deepnote_execution_queue": [],
  "deepnote_notebook_id": "d5633450-8100-4790-ad78-b4d97102437b",
  "hide_input": false,
  "kernelspec": {
   "display_name": "Python 3",
   "language": "python",
   "name": "python3"
  },
  "language_info": {
   "codemirror_mode": {
    "name": "ipython",
    "version": 3
   },
   "file_extension": ".py",
   "mimetype": "text/x-python",
   "name": "python",
   "nbconvert_exporter": "python",
   "pygments_lexer": "ipython3",
   "version": "3.8.2"
  },
  "toc": {
   "base_numbering": 1,
   "nav_menu": {},
   "number_sections": true,
   "sideBar": true,
   "skip_h1_title": false,
   "title_cell": "Table of Contents",
   "title_sidebar": "Contents",
   "toc_cell": false,
   "toc_position": {},
   "toc_section_display": true,
   "toc_window_display": false
  },
  "varInspector": {
   "cols": {
    "lenName": 16,
    "lenType": 16,
    "lenVar": 40
   },
   "kernels_config": {
    "python": {
     "delete_cmd_postfix": "",
     "delete_cmd_prefix": "del ",
     "library": "var_list.py",
     "varRefreshCmd": "print(var_dic_list())"
    },
    "r": {
     "delete_cmd_postfix": ") ",
     "delete_cmd_prefix": "rm(",
     "library": "var_list.r",
     "varRefreshCmd": "cat(var_dic_list()) "
    }
   },
   "types_to_exclude": [
    "module",
    "function",
    "builtin_function_or_method",
    "instance",
    "_Feature"
   ],
   "window_display": false
  }
 },
 "nbformat": 4,
 "nbformat_minor": 2
}
