{
 "cells": [
  {
   "cell_type": "code",
   "execution_count": 1,
   "id": "1c774f0f",
   "metadata": {
    "ExecuteTime": {
     "end_time": "2021-05-19T15:52:40.536598Z",
     "start_time": "2021-05-19T15:52:39.543634Z"
    },
    "cell_id": "00000-8c7c8fca-1c70-4587-91f3-3db57bfd28d0",
    "deepnote_cell_type": "code",
    "deepnote_to_be_reexecuted": false,
    "execution_millis": 5,
    "execution_start": 1621413648486,
    "source_hash": "570c8184"
   },
   "outputs": [
    {
     "name": "stdout",
     "output_type": "stream",
     "text": [
      "Pandas   1.2.4\n",
      "Sklearn  0.24.2\n"
     ]
    }
   ],
   "source": [
    "import time\n",
    "from IPython.display import clear_output\n",
    "import numpy    as np\n",
    "import pandas   as pd\n",
    "from sklearn.decomposition import PCA\n",
    "from sklearn.metrics import classification_report,confusion_matrix\n",
    "from sklearn.ensemble import RandomForestClassifier,GradientBoostingClassifier\n",
    "from sklearn.pipeline import Pipeline ,make_pipeline\n",
    "from sklearn import impute\n",
    "from sklearn import compose\n",
    "from sklearn.model_selection import train_test_split,cross_val_score\n",
    "from sklearn.metrics import accuracy_score, balanced_accuracy_score, plot_confusion_matrix,roc_auc_score\n",
    "from sklearn import set_config\n",
    "import warnings\n",
    "warnings.filterwarnings('ignore')\n",
    "from sklearn.preprocessing import MinMaxScaler,Normalizer,PowerTransformer,QuantileTransformer, RobustScaler,StandardScaler,LabelEncoder, OneHotEncoder,OrdinalEncoder\n",
    "from sklearn.tree          import DecisionTreeClassifier\n",
    "from sklearn.linear_model  import LogisticRegression    \n",
    "from xgboost               import XGBClassifier\n",
    "from lightgbm              import LGBMClassifier\n",
    "from sklearn.neighbors import KNeighborsClassifier\n",
    "from sklearn.naive_bayes import GaussianNB\n",
    "import sklearn\n",
    "set_config(display='diagram') # Useful for display the pipeline\n",
    "print(\"Pandas  \", pd.__version__)\n",
    "print(\"Sklearn \", sklearn.__version__) # Try to use 0.24\n",
    "\n"
   ]
  },
  {
   "cell_type": "code",
   "execution_count": 2,
   "id": "341b1505",
   "metadata": {
    "ExecuteTime": {
     "end_time": "2021-05-19T15:52:41.988394Z",
     "start_time": "2021-05-19T15:52:41.844397Z"
    },
    "cell_id": "00001-06e6221d-0730-4e01-9045-bce276c93090",
    "deepnote_cell_type": "code",
    "deepnote_to_be_reexecuted": false,
    "execution_millis": 165,
    "execution_start": 1621413555476,
    "source_hash": "31454d99"
   },
   "outputs": [
    {
     "data": {
      "text/html": [
       "<div>\n",
       "<style scoped>\n",
       "    .dataframe tbody tr th:only-of-type {\n",
       "        vertical-align: middle;\n",
       "    }\n",
       "\n",
       "    .dataframe tbody tr th {\n",
       "        vertical-align: top;\n",
       "    }\n",
       "\n",
       "    .dataframe thead th {\n",
       "        text-align: right;\n",
       "    }\n",
       "</style>\n",
       "<table border=\"1\" class=\"dataframe\">\n",
       "  <thead>\n",
       "    <tr style=\"text-align: right;\">\n",
       "      <th></th>\n",
       "      <th>id</th>\n",
       "      <th>time</th>\n",
       "      <th>activityrecognition#0</th>\n",
       "      <th>activityrecognition#1</th>\n",
       "      <th>android.sensor.accelerometer#mean</th>\n",
       "      <th>android.sensor.accelerometer#min</th>\n",
       "      <th>android.sensor.accelerometer#max</th>\n",
       "      <th>android.sensor.accelerometer#std</th>\n",
       "      <th>android.sensor.game_rotation_vector#mean</th>\n",
       "      <th>android.sensor.game_rotation_vector#min</th>\n",
       "      <th>...</th>\n",
       "      <th>sound#mean</th>\n",
       "      <th>sound#min</th>\n",
       "      <th>sound#max</th>\n",
       "      <th>sound#std</th>\n",
       "      <th>speed#mean</th>\n",
       "      <th>speed#min</th>\n",
       "      <th>speed#max</th>\n",
       "      <th>speed#std</th>\n",
       "      <th>target</th>\n",
       "      <th>user</th>\n",
       "    </tr>\n",
       "  </thead>\n",
       "  <tbody>\n",
       "    <tr>\n",
       "      <th>0</th>\n",
       "      <td>16170</td>\n",
       "      <td>78.0</td>\n",
       "      <td>NaN</td>\n",
       "      <td>100.0</td>\n",
       "      <td>9.811476</td>\n",
       "      <td>9.758895</td>\n",
       "      <td>9.849411</td>\n",
       "      <td>0.014626</td>\n",
       "      <td>0.029340</td>\n",
       "      <td>0.029014</td>\n",
       "      <td>...</td>\n",
       "      <td>NaN</td>\n",
       "      <td>NaN</td>\n",
       "      <td>NaN</td>\n",
       "      <td>NaN</td>\n",
       "      <td>0.000000</td>\n",
       "      <td>0.000000</td>\n",
       "      <td>0.000000</td>\n",
       "      <td>0.000000</td>\n",
       "      <td>Still</td>\n",
       "      <td>Luca</td>\n",
       "    </tr>\n",
       "    <tr>\n",
       "      <th>1</th>\n",
       "      <td>15871</td>\n",
       "      <td>145.0</td>\n",
       "      <td>NaN</td>\n",
       "      <td>100.0</td>\n",
       "      <td>9.939207</td>\n",
       "      <td>7.707437</td>\n",
       "      <td>17.146631</td>\n",
       "      <td>1.775944</td>\n",
       "      <td>0.999925</td>\n",
       "      <td>0.999903</td>\n",
       "      <td>...</td>\n",
       "      <td>89.200210</td>\n",
       "      <td>89.065143</td>\n",
       "      <td>89.335277</td>\n",
       "      <td>0.191013</td>\n",
       "      <td>16.539349</td>\n",
       "      <td>16.539349</td>\n",
       "      <td>16.539349</td>\n",
       "      <td>0.628595</td>\n",
       "      <td>Car</td>\n",
       "      <td>Luca</td>\n",
       "    </tr>\n",
       "    <tr>\n",
       "      <th>2</th>\n",
       "      <td>16811</td>\n",
       "      <td>150.0</td>\n",
       "      <td>NaN</td>\n",
       "      <td>100.0</td>\n",
       "      <td>9.827178</td>\n",
       "      <td>9.804817</td>\n",
       "      <td>9.849262</td>\n",
       "      <td>0.011199</td>\n",
       "      <td>0.665215</td>\n",
       "      <td>0.665213</td>\n",
       "      <td>...</td>\n",
       "      <td>NaN</td>\n",
       "      <td>NaN</td>\n",
       "      <td>NaN</td>\n",
       "      <td>NaN</td>\n",
       "      <td>0.000000</td>\n",
       "      <td>0.000000</td>\n",
       "      <td>0.000000</td>\n",
       "      <td>0.000000</td>\n",
       "      <td>Still</td>\n",
       "      <td>Luca</td>\n",
       "    </tr>\n",
       "    <tr>\n",
       "      <th>3</th>\n",
       "      <td>15831</td>\n",
       "      <td>105.0</td>\n",
       "      <td>NaN</td>\n",
       "      <td>77.0</td>\n",
       "      <td>9.673039</td>\n",
       "      <td>7.659674</td>\n",
       "      <td>12.304298</td>\n",
       "      <td>0.862553</td>\n",
       "      <td>0.996221</td>\n",
       "      <td>0.993781</td>\n",
       "      <td>...</td>\n",
       "      <td>87.470377</td>\n",
       "      <td>87.470377</td>\n",
       "      <td>87.470377</td>\n",
       "      <td>2.284186</td>\n",
       "      <td>17.739895</td>\n",
       "      <td>17.739895</td>\n",
       "      <td>17.739895</td>\n",
       "      <td>0.628595</td>\n",
       "      <td>Car</td>\n",
       "      <td>Luca</td>\n",
       "    </tr>\n",
       "    <tr>\n",
       "      <th>4</th>\n",
       "      <td>876</td>\n",
       "      <td>77.0</td>\n",
       "      <td>NaN</td>\n",
       "      <td>100.0</td>\n",
       "      <td>9.993466</td>\n",
       "      <td>8.965621</td>\n",
       "      <td>10.891645</td>\n",
       "      <td>0.504117</td>\n",
       "      <td>0.563792</td>\n",
       "      <td>0.521799</td>\n",
       "      <td>...</td>\n",
       "      <td>89.770732</td>\n",
       "      <td>89.770732</td>\n",
       "      <td>89.770732</td>\n",
       "      <td>0.006389</td>\n",
       "      <td>9.000000</td>\n",
       "      <td>9.000000</td>\n",
       "      <td>9.000000</td>\n",
       "      <td>NaN</td>\n",
       "      <td>Car</td>\n",
       "      <td>andrea</td>\n",
       "    </tr>\n",
       "  </tbody>\n",
       "</table>\n",
       "<p>5 rows × 70 columns</p>\n",
       "</div>"
      ],
      "text/plain": [
       "      id   time  activityrecognition#0  activityrecognition#1  \\\n",
       "0  16170   78.0                    NaN                  100.0   \n",
       "1  15871  145.0                    NaN                  100.0   \n",
       "2  16811  150.0                    NaN                  100.0   \n",
       "3  15831  105.0                    NaN                   77.0   \n",
       "4    876   77.0                    NaN                  100.0   \n",
       "\n",
       "   android.sensor.accelerometer#mean  android.sensor.accelerometer#min  \\\n",
       "0                           9.811476                          9.758895   \n",
       "1                           9.939207                          7.707437   \n",
       "2                           9.827178                          9.804817   \n",
       "3                           9.673039                          7.659674   \n",
       "4                           9.993466                          8.965621   \n",
       "\n",
       "   android.sensor.accelerometer#max  android.sensor.accelerometer#std  \\\n",
       "0                          9.849411                          0.014626   \n",
       "1                         17.146631                          1.775944   \n",
       "2                          9.849262                          0.011199   \n",
       "3                         12.304298                          0.862553   \n",
       "4                         10.891645                          0.504117   \n",
       "\n",
       "   android.sensor.game_rotation_vector#mean  \\\n",
       "0                                  0.029340   \n",
       "1                                  0.999925   \n",
       "2                                  0.665215   \n",
       "3                                  0.996221   \n",
       "4                                  0.563792   \n",
       "\n",
       "   android.sensor.game_rotation_vector#min  ...  sound#mean  sound#min  \\\n",
       "0                                 0.029014  ...         NaN        NaN   \n",
       "1                                 0.999903  ...   89.200210  89.065143   \n",
       "2                                 0.665213  ...         NaN        NaN   \n",
       "3                                 0.993781  ...   87.470377  87.470377   \n",
       "4                                 0.521799  ...   89.770732  89.770732   \n",
       "\n",
       "   sound#max  sound#std  speed#mean  speed#min  speed#max  speed#std  target  \\\n",
       "0        NaN        NaN    0.000000   0.000000   0.000000   0.000000   Still   \n",
       "1  89.335277   0.191013   16.539349  16.539349  16.539349   0.628595     Car   \n",
       "2        NaN        NaN    0.000000   0.000000   0.000000   0.000000   Still   \n",
       "3  87.470377   2.284186   17.739895  17.739895  17.739895   0.628595     Car   \n",
       "4  89.770732   0.006389    9.000000   9.000000   9.000000        NaN     Car   \n",
       "\n",
       "     user  \n",
       "0    Luca  \n",
       "1    Luca  \n",
       "2    Luca  \n",
       "3    Luca  \n",
       "4  andrea  \n",
       "\n",
       "[5 rows x 70 columns]"
      ]
     },
     "execution_count": 2,
     "metadata": {},
     "output_type": "execute_result"
    }
   ],
   "source": [
    "data = pd.read_csv('./data/data_5secondWindow .csv')\n",
    "data.head(5)"
   ]
  },
  {
   "cell_type": "code",
   "execution_count": 3,
   "id": "ad599a89",
   "metadata": {
    "ExecuteTime": {
     "end_time": "2021-05-19T15:52:43.355714Z",
     "start_time": "2021-05-19T15:52:43.310818Z"
    }
   },
   "outputs": [],
   "source": [
    "# change name of columns \n",
    "def change_name(df):\n",
    "    column_names=[]\n",
    "    for i in df.columns:\n",
    "        k=i.replace('.','_').replace(\"#\",'_')\n",
    "        df.rename(columns = {i:k}, inplace = True)\n",
    "    return df\n",
    "data=change_name(data)"
   ]
  },
  {
   "cell_type": "code",
   "execution_count": 4,
   "id": "4b4d57f5",
   "metadata": {
    "ExecuteTime": {
     "end_time": "2021-05-19T15:52:44.861574Z",
     "start_time": "2021-05-19T15:52:44.859017Z"
    }
   },
   "outputs": [],
   "source": [
    "# data=data[features]"
   ]
  },
  {
   "cell_type": "markdown",
   "id": "be77317a",
   "metadata": {
    "cell_id": "00003-e5ab99da-fe36-44fe-9a13-cc69469addea",
    "deepnote_cell_type": "markdown"
   },
   "source": [
    "# Create test data "
   ]
  },
  {
   "cell_type": "code",
   "execution_count": 5,
   "id": "6807fe9b",
   "metadata": {
    "ExecuteTime": {
     "end_time": "2021-05-19T15:52:46.418687Z",
     "start_time": "2021-05-19T15:52:46.351447Z"
    },
    "cell_id": "00004-673f68c6-55b2-41ac-90a1-90f8c4713ada",
    "deepnote_cell_type": "code",
    "deepnote_to_be_reexecuted": false,
    "execution_millis": 116,
    "execution_start": 1621413569436,
    "source_hash": "d1d762a3"
   },
   "outputs": [
    {
     "data": {
      "text/html": [
       "<div>\n",
       "<style scoped>\n",
       "    .dataframe tbody tr th:only-of-type {\n",
       "        vertical-align: middle;\n",
       "    }\n",
       "\n",
       "    .dataframe tbody tr th {\n",
       "        vertical-align: top;\n",
       "    }\n",
       "\n",
       "    .dataframe thead th {\n",
       "        text-align: right;\n",
       "    }\n",
       "</style>\n",
       "<table border=\"1\" class=\"dataframe\">\n",
       "  <thead>\n",
       "    <tr style=\"text-align: right;\">\n",
       "      <th></th>\n",
       "      <th>id</th>\n",
       "      <th>time</th>\n",
       "      <th>activityrecognition_0</th>\n",
       "      <th>activityrecognition_1</th>\n",
       "      <th>android_sensor_accelerometer_mean</th>\n",
       "      <th>android_sensor_accelerometer_min</th>\n",
       "      <th>android_sensor_accelerometer_max</th>\n",
       "      <th>android_sensor_accelerometer_std</th>\n",
       "      <th>android_sensor_game_rotation_vector_mean</th>\n",
       "      <th>android_sensor_game_rotation_vector_min</th>\n",
       "      <th>...</th>\n",
       "      <th>sound_mean</th>\n",
       "      <th>sound_min</th>\n",
       "      <th>sound_max</th>\n",
       "      <th>sound_std</th>\n",
       "      <th>speed_mean</th>\n",
       "      <th>speed_min</th>\n",
       "      <th>speed_max</th>\n",
       "      <th>speed_std</th>\n",
       "      <th>target</th>\n",
       "      <th>user</th>\n",
       "    </tr>\n",
       "  </thead>\n",
       "  <tbody>\n",
       "    <tr>\n",
       "      <th>33</th>\n",
       "      <td>19919</td>\n",
       "      <td>260.0</td>\n",
       "      <td>NaN</td>\n",
       "      <td>5.0</td>\n",
       "      <td>11.068949</td>\n",
       "      <td>9.764513</td>\n",
       "      <td>14.028126</td>\n",
       "      <td>1.283204</td>\n",
       "      <td>0.943836</td>\n",
       "      <td>0.936799</td>\n",
       "      <td>...</td>\n",
       "      <td>77.064227</td>\n",
       "      <td>77.064227</td>\n",
       "      <td>77.064227</td>\n",
       "      <td>4.549349</td>\n",
       "      <td>1.191050</td>\n",
       "      <td>1.191050</td>\n",
       "      <td>1.191050</td>\n",
       "      <td>NaN</td>\n",
       "      <td>Walking</td>\n",
       "      <td>Pierpaolo</td>\n",
       "    </tr>\n",
       "    <tr>\n",
       "      <th>54</th>\n",
       "      <td>19494</td>\n",
       "      <td>78.0</td>\n",
       "      <td>NaN</td>\n",
       "      <td>75.0</td>\n",
       "      <td>9.263056</td>\n",
       "      <td>8.712177</td>\n",
       "      <td>9.963264</td>\n",
       "      <td>0.361961</td>\n",
       "      <td>0.894102</td>\n",
       "      <td>0.894102</td>\n",
       "      <td>...</td>\n",
       "      <td>74.178611</td>\n",
       "      <td>74.178611</td>\n",
       "      <td>74.178611</td>\n",
       "      <td>0.149748</td>\n",
       "      <td>0.000000</td>\n",
       "      <td>0.000000</td>\n",
       "      <td>0.000000</td>\n",
       "      <td>NaN</td>\n",
       "      <td>Bus</td>\n",
       "      <td>Pierpaolo</td>\n",
       "    </tr>\n",
       "    <tr>\n",
       "      <th>102</th>\n",
       "      <td>20104</td>\n",
       "      <td>445.0</td>\n",
       "      <td>NaN</td>\n",
       "      <td>5.0</td>\n",
       "      <td>9.075213</td>\n",
       "      <td>9.012243</td>\n",
       "      <td>9.187340</td>\n",
       "      <td>0.070605</td>\n",
       "      <td>0.907671</td>\n",
       "      <td>0.905519</td>\n",
       "      <td>...</td>\n",
       "      <td>6.020600</td>\n",
       "      <td>6.020600</td>\n",
       "      <td>6.020600</td>\n",
       "      <td>0.000000</td>\n",
       "      <td>0.000000</td>\n",
       "      <td>0.000000</td>\n",
       "      <td>0.000000</td>\n",
       "      <td>0.0</td>\n",
       "      <td>Walking</td>\n",
       "      <td>Pierpaolo</td>\n",
       "    </tr>\n",
       "    <tr>\n",
       "      <th>121</th>\n",
       "      <td>19436</td>\n",
       "      <td>20.0</td>\n",
       "      <td>NaN</td>\n",
       "      <td>100.0</td>\n",
       "      <td>9.061146</td>\n",
       "      <td>8.246220</td>\n",
       "      <td>9.563967</td>\n",
       "      <td>0.451773</td>\n",
       "      <td>0.997597</td>\n",
       "      <td>0.997312</td>\n",
       "      <td>...</td>\n",
       "      <td>72.559600</td>\n",
       "      <td>72.559600</td>\n",
       "      <td>72.559600</td>\n",
       "      <td>NaN</td>\n",
       "      <td>7.800006</td>\n",
       "      <td>7.800006</td>\n",
       "      <td>7.800006</td>\n",
       "      <td>NaN</td>\n",
       "      <td>Bus</td>\n",
       "      <td>Pierpaolo</td>\n",
       "    </tr>\n",
       "    <tr>\n",
       "      <th>172</th>\n",
       "      <td>20245</td>\n",
       "      <td>6.0</td>\n",
       "      <td>NaN</td>\n",
       "      <td>100.0</td>\n",
       "      <td>10.335784</td>\n",
       "      <td>3.332163</td>\n",
       "      <td>17.743662</td>\n",
       "      <td>4.272022</td>\n",
       "      <td>0.991409</td>\n",
       "      <td>0.988798</td>\n",
       "      <td>...</td>\n",
       "      <td>73.702289</td>\n",
       "      <td>73.702289</td>\n",
       "      <td>73.702289</td>\n",
       "      <td>NaN</td>\n",
       "      <td>1.250000</td>\n",
       "      <td>1.250000</td>\n",
       "      <td>1.250000</td>\n",
       "      <td>NaN</td>\n",
       "      <td>Walking</td>\n",
       "      <td>Pierpaolo</td>\n",
       "    </tr>\n",
       "  </tbody>\n",
       "</table>\n",
       "<p>5 rows × 70 columns</p>\n",
       "</div>"
      ],
      "text/plain": [
       "        id   time  activityrecognition_0  activityrecognition_1  \\\n",
       "33   19919  260.0                    NaN                    5.0   \n",
       "54   19494   78.0                    NaN                   75.0   \n",
       "102  20104  445.0                    NaN                    5.0   \n",
       "121  19436   20.0                    NaN                  100.0   \n",
       "172  20245    6.0                    NaN                  100.0   \n",
       "\n",
       "     android_sensor_accelerometer_mean  android_sensor_accelerometer_min  \\\n",
       "33                           11.068949                          9.764513   \n",
       "54                            9.263056                          8.712177   \n",
       "102                           9.075213                          9.012243   \n",
       "121                           9.061146                          8.246220   \n",
       "172                          10.335784                          3.332163   \n",
       "\n",
       "     android_sensor_accelerometer_max  android_sensor_accelerometer_std  \\\n",
       "33                          14.028126                          1.283204   \n",
       "54                           9.963264                          0.361961   \n",
       "102                          9.187340                          0.070605   \n",
       "121                          9.563967                          0.451773   \n",
       "172                         17.743662                          4.272022   \n",
       "\n",
       "     android_sensor_game_rotation_vector_mean  \\\n",
       "33                                   0.943836   \n",
       "54                                   0.894102   \n",
       "102                                  0.907671   \n",
       "121                                  0.997597   \n",
       "172                                  0.991409   \n",
       "\n",
       "     android_sensor_game_rotation_vector_min  ...  sound_mean  sound_min  \\\n",
       "33                                  0.936799  ...   77.064227  77.064227   \n",
       "54                                  0.894102  ...   74.178611  74.178611   \n",
       "102                                 0.905519  ...    6.020600   6.020600   \n",
       "121                                 0.997312  ...   72.559600  72.559600   \n",
       "172                                 0.988798  ...   73.702289  73.702289   \n",
       "\n",
       "     sound_max  sound_std  speed_mean  speed_min  speed_max  speed_std  \\\n",
       "33   77.064227   4.549349    1.191050   1.191050   1.191050        NaN   \n",
       "54   74.178611   0.149748    0.000000   0.000000   0.000000        NaN   \n",
       "102   6.020600   0.000000    0.000000   0.000000   0.000000        0.0   \n",
       "121  72.559600        NaN    7.800006   7.800006   7.800006        NaN   \n",
       "172  73.702289        NaN    1.250000   1.250000   1.250000        NaN   \n",
       "\n",
       "      target       user  \n",
       "33   Walking  Pierpaolo  \n",
       "54       Bus  Pierpaolo  \n",
       "102  Walking  Pierpaolo  \n",
       "121      Bus  Pierpaolo  \n",
       "172  Walking  Pierpaolo  \n",
       "\n",
       "[5 rows x 70 columns]"
      ]
     },
     "execution_count": 5,
     "metadata": {},
     "output_type": "execute_result"
    }
   ],
   "source": [
    "# create test data from some user \n",
    "df=data.copy()\n",
    "user1=df[df['user']=='Pierpaolo']\n",
    "user2=df[df['user']=='IvanHeibi']\n",
    "user3=df[df['user']=='AndreaCarpineti']\n",
    "user4=df[df['user']=='Elena']\n",
    "users=[user1,user2,user3,user4]\n",
    "df_test=pd.concat(users)\n",
    "df_test.head(5)"
   ]
  },
  {
   "cell_type": "markdown",
   "id": "9a63a2a7",
   "metadata": {
    "cell_id": "00005-47202497-afc2-4356-824f-3bbd975e589c",
    "deepnote_cell_type": "markdown"
   },
   "source": [
    "## Subtract test data from data "
   ]
  },
  {
   "cell_type": "code",
   "execution_count": 6,
   "id": "7adda55e",
   "metadata": {
    "ExecuteTime": {
     "end_time": "2021-05-19T15:52:49.847763Z",
     "start_time": "2021-05-19T15:52:49.654451Z"
    },
    "cell_id": "00006-82751ddb-183c-49b1-9019-2563ba949634",
    "deepnote_cell_type": "code",
    "deepnote_to_be_reexecuted": false,
    "execution_millis": 244,
    "execution_start": 1621413573168,
    "source_hash": "23a3e567"
   },
   "outputs": [
    {
     "data": {
      "text/html": [
       "<div>\n",
       "<style scoped>\n",
       "    .dataframe tbody tr th:only-of-type {\n",
       "        vertical-align: middle;\n",
       "    }\n",
       "\n",
       "    .dataframe tbody tr th {\n",
       "        vertical-align: top;\n",
       "    }\n",
       "\n",
       "    .dataframe thead th {\n",
       "        text-align: right;\n",
       "    }\n",
       "</style>\n",
       "<table border=\"1\" class=\"dataframe\">\n",
       "  <thead>\n",
       "    <tr style=\"text-align: right;\">\n",
       "      <th></th>\n",
       "      <th>id</th>\n",
       "      <th>time</th>\n",
       "      <th>activityrecognition_0</th>\n",
       "      <th>activityrecognition_1</th>\n",
       "      <th>android_sensor_accelerometer_mean</th>\n",
       "      <th>android_sensor_accelerometer_min</th>\n",
       "      <th>android_sensor_accelerometer_max</th>\n",
       "      <th>android_sensor_accelerometer_std</th>\n",
       "      <th>android_sensor_game_rotation_vector_mean</th>\n",
       "      <th>android_sensor_game_rotation_vector_min</th>\n",
       "      <th>...</th>\n",
       "      <th>sound_mean</th>\n",
       "      <th>sound_min</th>\n",
       "      <th>sound_max</th>\n",
       "      <th>sound_std</th>\n",
       "      <th>speed_mean</th>\n",
       "      <th>speed_min</th>\n",
       "      <th>speed_max</th>\n",
       "      <th>speed_std</th>\n",
       "      <th>target</th>\n",
       "      <th>user</th>\n",
       "    </tr>\n",
       "  </thead>\n",
       "  <tbody>\n",
       "    <tr>\n",
       "      <th>0</th>\n",
       "      <td>16170</td>\n",
       "      <td>78.0</td>\n",
       "      <td>NaN</td>\n",
       "      <td>100.0</td>\n",
       "      <td>9.811476</td>\n",
       "      <td>9.758895</td>\n",
       "      <td>9.849411</td>\n",
       "      <td>0.014626</td>\n",
       "      <td>0.029340</td>\n",
       "      <td>0.029014</td>\n",
       "      <td>...</td>\n",
       "      <td>NaN</td>\n",
       "      <td>NaN</td>\n",
       "      <td>NaN</td>\n",
       "      <td>NaN</td>\n",
       "      <td>0.000000</td>\n",
       "      <td>0.000000</td>\n",
       "      <td>0.000000</td>\n",
       "      <td>0.000000</td>\n",
       "      <td>Still</td>\n",
       "      <td>Luca</td>\n",
       "    </tr>\n",
       "    <tr>\n",
       "      <th>1</th>\n",
       "      <td>15871</td>\n",
       "      <td>145.0</td>\n",
       "      <td>NaN</td>\n",
       "      <td>100.0</td>\n",
       "      <td>9.939207</td>\n",
       "      <td>7.707437</td>\n",
       "      <td>17.146631</td>\n",
       "      <td>1.775944</td>\n",
       "      <td>0.999925</td>\n",
       "      <td>0.999903</td>\n",
       "      <td>...</td>\n",
       "      <td>89.200210</td>\n",
       "      <td>89.065143</td>\n",
       "      <td>89.335277</td>\n",
       "      <td>0.191013</td>\n",
       "      <td>16.539349</td>\n",
       "      <td>16.539349</td>\n",
       "      <td>16.539349</td>\n",
       "      <td>0.628595</td>\n",
       "      <td>Car</td>\n",
       "      <td>Luca</td>\n",
       "    </tr>\n",
       "    <tr>\n",
       "      <th>2</th>\n",
       "      <td>16811</td>\n",
       "      <td>150.0</td>\n",
       "      <td>NaN</td>\n",
       "      <td>100.0</td>\n",
       "      <td>9.827178</td>\n",
       "      <td>9.804817</td>\n",
       "      <td>9.849262</td>\n",
       "      <td>0.011199</td>\n",
       "      <td>0.665215</td>\n",
       "      <td>0.665213</td>\n",
       "      <td>...</td>\n",
       "      <td>NaN</td>\n",
       "      <td>NaN</td>\n",
       "      <td>NaN</td>\n",
       "      <td>NaN</td>\n",
       "      <td>0.000000</td>\n",
       "      <td>0.000000</td>\n",
       "      <td>0.000000</td>\n",
       "      <td>0.000000</td>\n",
       "      <td>Still</td>\n",
       "      <td>Luca</td>\n",
       "    </tr>\n",
       "    <tr>\n",
       "      <th>3</th>\n",
       "      <td>15831</td>\n",
       "      <td>105.0</td>\n",
       "      <td>NaN</td>\n",
       "      <td>77.0</td>\n",
       "      <td>9.673039</td>\n",
       "      <td>7.659674</td>\n",
       "      <td>12.304298</td>\n",
       "      <td>0.862553</td>\n",
       "      <td>0.996221</td>\n",
       "      <td>0.993781</td>\n",
       "      <td>...</td>\n",
       "      <td>87.470377</td>\n",
       "      <td>87.470377</td>\n",
       "      <td>87.470377</td>\n",
       "      <td>2.284186</td>\n",
       "      <td>17.739895</td>\n",
       "      <td>17.739895</td>\n",
       "      <td>17.739895</td>\n",
       "      <td>0.628595</td>\n",
       "      <td>Car</td>\n",
       "      <td>Luca</td>\n",
       "    </tr>\n",
       "    <tr>\n",
       "      <th>4</th>\n",
       "      <td>876</td>\n",
       "      <td>77.0</td>\n",
       "      <td>NaN</td>\n",
       "      <td>100.0</td>\n",
       "      <td>9.993466</td>\n",
       "      <td>8.965621</td>\n",
       "      <td>10.891645</td>\n",
       "      <td>0.504117</td>\n",
       "      <td>0.563792</td>\n",
       "      <td>0.521799</td>\n",
       "      <td>...</td>\n",
       "      <td>89.770732</td>\n",
       "      <td>89.770732</td>\n",
       "      <td>89.770732</td>\n",
       "      <td>0.006389</td>\n",
       "      <td>9.000000</td>\n",
       "      <td>9.000000</td>\n",
       "      <td>9.000000</td>\n",
       "      <td>NaN</td>\n",
       "      <td>Car</td>\n",
       "      <td>andrea</td>\n",
       "    </tr>\n",
       "  </tbody>\n",
       "</table>\n",
       "<p>5 rows × 70 columns</p>\n",
       "</div>"
      ],
      "text/plain": [
       "      id   time  activityrecognition_0  activityrecognition_1  \\\n",
       "0  16170   78.0                    NaN                  100.0   \n",
       "1  15871  145.0                    NaN                  100.0   \n",
       "2  16811  150.0                    NaN                  100.0   \n",
       "3  15831  105.0                    NaN                   77.0   \n",
       "4    876   77.0                    NaN                  100.0   \n",
       "\n",
       "   android_sensor_accelerometer_mean  android_sensor_accelerometer_min  \\\n",
       "0                           9.811476                          9.758895   \n",
       "1                           9.939207                          7.707437   \n",
       "2                           9.827178                          9.804817   \n",
       "3                           9.673039                          7.659674   \n",
       "4                           9.993466                          8.965621   \n",
       "\n",
       "   android_sensor_accelerometer_max  android_sensor_accelerometer_std  \\\n",
       "0                          9.849411                          0.014626   \n",
       "1                         17.146631                          1.775944   \n",
       "2                          9.849262                          0.011199   \n",
       "3                         12.304298                          0.862553   \n",
       "4                         10.891645                          0.504117   \n",
       "\n",
       "   android_sensor_game_rotation_vector_mean  \\\n",
       "0                                  0.029340   \n",
       "1                                  0.999925   \n",
       "2                                  0.665215   \n",
       "3                                  0.996221   \n",
       "4                                  0.563792   \n",
       "\n",
       "   android_sensor_game_rotation_vector_min  ...  sound_mean  sound_min  \\\n",
       "0                                 0.029014  ...         NaN        NaN   \n",
       "1                                 0.999903  ...   89.200210  89.065143   \n",
       "2                                 0.665213  ...         NaN        NaN   \n",
       "3                                 0.993781  ...   87.470377  87.470377   \n",
       "4                                 0.521799  ...   89.770732  89.770732   \n",
       "\n",
       "   sound_max  sound_std  speed_mean  speed_min  speed_max  speed_std  target  \\\n",
       "0        NaN        NaN    0.000000   0.000000   0.000000   0.000000   Still   \n",
       "1  89.335277   0.191013   16.539349  16.539349  16.539349   0.628595     Car   \n",
       "2        NaN        NaN    0.000000   0.000000   0.000000   0.000000   Still   \n",
       "3  87.470377   2.284186   17.739895  17.739895  17.739895   0.628595     Car   \n",
       "4  89.770732   0.006389    9.000000   9.000000   9.000000        NaN     Car   \n",
       "\n",
       "     user  \n",
       "0    Luca  \n",
       "1    Luca  \n",
       "2    Luca  \n",
       "3    Luca  \n",
       "4  andrea  \n",
       "\n",
       "[5 rows x 70 columns]"
      ]
     },
     "execution_count": 6,
     "metadata": {},
     "output_type": "execute_result"
    }
   ],
   "source": [
    "df_train = df.merge(df_test, how='left', indicator=True)\n",
    "df_train = df_train[df_train['_merge'] == 'left_only']\n",
    "df_train=df_train.drop('_merge',axis=1)\n",
    "df_train.head(5)"
   ]
  },
  {
   "cell_type": "code",
   "execution_count": 7,
   "id": "fc4ea9ed",
   "metadata": {
    "ExecuteTime": {
     "end_time": "2021-05-19T15:52:51.809678Z",
     "start_time": "2021-05-19T15:52:51.800080Z"
    },
    "cell_id": "00009-0d70d803-3143-4480-9a4e-f2a94e1e970c",
    "deepnote_cell_type": "code",
    "deepnote_to_be_reexecuted": false,
    "execution_millis": 21,
    "execution_start": 1621413585036,
    "source_hash": "f72c817d"
   },
   "outputs": [
    {
     "name": "stdout",
     "output_type": "stream",
     "text": [
      "(4985, 70)\n",
      "(908, 70)\n"
     ]
    }
   ],
   "source": [
    "print(df_train.shape)\n",
    "print(df_test.shape)"
   ]
  },
  {
   "cell_type": "code",
   "execution_count": 8,
   "id": "c34f52b6",
   "metadata": {
    "ExecuteTime": {
     "end_time": "2021-05-19T15:52:53.939540Z",
     "start_time": "2021-05-19T15:52:53.913394Z"
    }
   },
   "outputs": [
    {
     "name": "stdout",
     "output_type": "stream",
     "text": [
      "There are 11 columns with more than 75% missing values\n"
     ]
    }
   ],
   "source": [
    "\n",
    "train_missing = (df_train.isnull().sum() / len(df_train)).sort_values(ascending = False)\n",
    "test_missing = (df_test.isnull().sum() / len(df_test)).sort_values(ascending = False)\n",
    "\n",
    "train_missing = train_missing.index[train_missing > 0.75]\n",
    "test_missing = test_missing.index[test_missing > 0.75]\n",
    "\n",
    "all_missing = list(set(set(train_missing) | set(test_missing)))\n",
    "print('There are %d columns with more than 75%% missing values' % len(all_missing))"
   ]
  },
  {
   "cell_type": "code",
   "execution_count": 9,
   "id": "a5b2f71e",
   "metadata": {
    "ExecuteTime": {
     "end_time": "2021-05-19T15:52:57.023749Z",
     "start_time": "2021-05-19T15:52:57.003534Z"
    }
   },
   "outputs": [],
   "source": [
    "# Drop missing data \n",
    "df_train = df_train.drop(all_missing,axis=1)\n",
    "df_test  = df_test.drop(all_missing,axis=1)"
   ]
  },
  {
   "cell_type": "markdown",
   "id": "42bdd9f0",
   "metadata": {
    "cell_id": "00010-2e02d6fa-4fc3-4b99-9575-91242ed9448b",
    "deepnote_cell_type": "markdown"
   },
   "source": [
    "## drop id ,time, user columns"
   ]
  },
  {
   "cell_type": "code",
   "execution_count": null,
   "id": "f28ccc06",
   "metadata": {
    "ExecuteTime": {
     "end_time": "2021-05-19T15:53:01.196325Z",
     "start_time": "2021-05-19T15:53:01.060509Z"
    },
    "cell_id": "00011-54861700-319b-4d36-932c-c220912069f7",
    "deepnote_cell_type": "code",
    "deepnote_to_be_reexecuted": false,
    "execution_millis": 0,
    "execution_start": 1621413588029,
    "source_hash": "17352a22"
   },
   "outputs": [],
   "source": [
    "unimp    = ['id','user','time']\n",
    "df_train = df_train.drop(unimp,axis=1)\n",
    "df_test  = df_test.drop(unimp,axis=1)"
   ]
  },
  {
   "cell_type": "code",
   "execution_count": null,
   "id": "ed481694",
   "metadata": {
    "ExecuteTime": {
     "end_time": "2021-05-19T15:30:18.865353Z",
     "start_time": "2021-05-19T15:30:18.860636Z"
    },
    "cell_id": "00009-aa841b9d-ba02-4d48-af4d-6643e1832c79",
    "deepnote_cell_type": "code",
    "deepnote_to_be_reexecuted": false,
    "execution_millis": 3,
    "execution_start": 1621413604296,
    "source_hash": "f39bcc7b",
    "tags": []
   },
   "outputs": [],
   "source": [
    "# df_train=df_train.drop('speed_mean',axis=1)\n",
    "# df_test=df_test.drop('speed_mean',axis=1)"
   ]
  },
  {
   "cell_type": "code",
   "execution_count": 12,
   "id": "73de009c",
   "metadata": {
    "ExecuteTime": {
     "end_time": "2021-05-19T15:53:16.451153Z",
     "start_time": "2021-05-19T15:53:16.446309Z"
    },
    "cell_id": "00012-d0bf41ef-aa79-41f7-9c4d-e7c195432593",
    "deepnote_cell_type": "code",
    "deepnote_to_be_reexecuted": false,
    "execution_millis": 10,
    "execution_start": 1621413606677,
    "source_hash": "f72c817d"
   },
   "outputs": [
    {
     "name": "stdout",
     "output_type": "stream",
     "text": [
      "(4985, 56)\n",
      "(908, 56)\n"
     ]
    }
   ],
   "source": [
    "print(df_train.shape)\n",
    "print(df_test.shape)"
   ]
  },
  {
   "cell_type": "code",
   "execution_count": 13,
   "id": "a15623ab",
   "metadata": {
    "ExecuteTime": {
     "end_time": "2021-05-19T15:53:18.887151Z",
     "start_time": "2021-05-19T15:53:18.874144Z"
    }
   },
   "outputs": [],
   "source": [
    "X=df_train.drop('target',axis=1)\n",
    "y=df_train.target\n",
    "X_test=df_test.drop('target',axis=1)\n",
    "y_test=df_test.target"
   ]
  },
  {
   "cell_type": "markdown",
   "id": "6ffb375c",
   "metadata": {},
   "source": [
    "# Feature Engineering  and PCA anlysis"
   ]
  },
  {
   "cell_type": "code",
   "execution_count": 18,
   "id": "3fd4bc97",
   "metadata": {
    "ExecuteTime": {
     "end_time": "2021-05-19T15:54:14.123303Z",
     "start_time": "2021-05-19T15:54:14.119650Z"
    }
   },
   "outputs": [],
   "source": [
    "pca=PCA(n_components=15)"
   ]
  },
  {
   "cell_type": "code",
   "execution_count": 24,
   "id": "81f5adff",
   "metadata": {
    "ExecuteTime": {
     "end_time": "2021-05-19T15:56:41.887326Z",
     "start_time": "2021-05-19T15:56:41.838832Z"
    }
   },
   "outputs": [
    {
     "data": {
      "text/html": [
       "<div>\n",
       "<style scoped>\n",
       "    .dataframe tbody tr th:only-of-type {\n",
       "        vertical-align: middle;\n",
       "    }\n",
       "\n",
       "    .dataframe tbody tr th {\n",
       "        vertical-align: top;\n",
       "    }\n",
       "\n",
       "    .dataframe thead th {\n",
       "        text-align: right;\n",
       "    }\n",
       "</style>\n",
       "<table border=\"1\" class=\"dataframe\">\n",
       "  <thead>\n",
       "    <tr style=\"text-align: right;\">\n",
       "      <th></th>\n",
       "      <th>activityrecognition_1</th>\n",
       "      <th>android_sensor_accelerometer_mean</th>\n",
       "      <th>android_sensor_accelerometer_min</th>\n",
       "      <th>android_sensor_accelerometer_max</th>\n",
       "      <th>android_sensor_accelerometer_std</th>\n",
       "      <th>android_sensor_game_rotation_vector_mean</th>\n",
       "      <th>android_sensor_game_rotation_vector_min</th>\n",
       "      <th>android_sensor_game_rotation_vector_max</th>\n",
       "      <th>android_sensor_game_rotation_vector_std</th>\n",
       "      <th>android_sensor_gravity_mean</th>\n",
       "      <th>...</th>\n",
       "      <th>android_sensor_rotation_vector_min</th>\n",
       "      <th>android_sensor_rotation_vector_max</th>\n",
       "      <th>android_sensor_rotation_vector_std</th>\n",
       "      <th>sound_mean</th>\n",
       "      <th>sound_min</th>\n",
       "      <th>sound_max</th>\n",
       "      <th>sound_std</th>\n",
       "      <th>speed_mean</th>\n",
       "      <th>speed_min</th>\n",
       "      <th>speed_max</th>\n",
       "    </tr>\n",
       "  </thead>\n",
       "  <tbody>\n",
       "    <tr>\n",
       "      <th>0</th>\n",
       "      <td>1.00</td>\n",
       "      <td>0.217871</td>\n",
       "      <td>0.841930</td>\n",
       "      <td>0.008168</td>\n",
       "      <td>0.001036</td>\n",
       "      <td>0.021740</td>\n",
       "      <td>0.021563</td>\n",
       "      <td>0.021824</td>\n",
       "      <td>0.000366</td>\n",
       "      <td>0.999902</td>\n",
       "      <td>...</td>\n",
       "      <td>0.044777</td>\n",
       "      <td>0.007820</td>\n",
       "      <td>0.004798</td>\n",
       "      <td>0.946127</td>\n",
       "      <td>0.947858</td>\n",
       "      <td>0.947703</td>\n",
       "      <td>0.019466</td>\n",
       "      <td>0.000000</td>\n",
       "      <td>0.000000</td>\n",
       "      <td>0.000000</td>\n",
       "    </tr>\n",
       "    <tr>\n",
       "      <th>1</th>\n",
       "      <td>1.00</td>\n",
       "      <td>0.230989</td>\n",
       "      <td>0.658611</td>\n",
       "      <td>0.135062</td>\n",
       "      <td>0.137799</td>\n",
       "      <td>0.999924</td>\n",
       "      <td>0.999903</td>\n",
       "      <td>0.999945</td>\n",
       "      <td>0.000093</td>\n",
       "      <td>0.997412</td>\n",
       "      <td>...</td>\n",
       "      <td>0.999963</td>\n",
       "      <td>0.999999</td>\n",
       "      <td>0.000058</td>\n",
       "      <td>0.983550</td>\n",
       "      <td>0.982312</td>\n",
       "      <td>0.985554</td>\n",
       "      <td>0.007118</td>\n",
       "      <td>0.328735</td>\n",
       "      <td>0.328735</td>\n",
       "      <td>0.328735</td>\n",
       "    </tr>\n",
       "    <tr>\n",
       "      <th>2</th>\n",
       "      <td>1.00</td>\n",
       "      <td>0.219484</td>\n",
       "      <td>0.846034</td>\n",
       "      <td>0.008166</td>\n",
       "      <td>0.000770</td>\n",
       "      <td>0.662594</td>\n",
       "      <td>0.662643</td>\n",
       "      <td>0.662561</td>\n",
       "      <td>0.000012</td>\n",
       "      <td>0.999909</td>\n",
       "      <td>...</td>\n",
       "      <td>0.610456</td>\n",
       "      <td>0.590422</td>\n",
       "      <td>0.025732</td>\n",
       "      <td>0.946127</td>\n",
       "      <td>0.947858</td>\n",
       "      <td>0.947703</td>\n",
       "      <td>0.019466</td>\n",
       "      <td>0.000000</td>\n",
       "      <td>0.000000</td>\n",
       "      <td>0.000000</td>\n",
       "    </tr>\n",
       "    <tr>\n",
       "      <th>3</th>\n",
       "      <td>0.75</td>\n",
       "      <td>0.203654</td>\n",
       "      <td>0.654343</td>\n",
       "      <td>0.050857</td>\n",
       "      <td>0.066876</td>\n",
       "      <td>0.996191</td>\n",
       "      <td>0.993733</td>\n",
       "      <td>0.998650</td>\n",
       "      <td>0.010635</td>\n",
       "      <td>0.998713</td>\n",
       "      <td>...</td>\n",
       "      <td>0.998113</td>\n",
       "      <td>0.998015</td>\n",
       "      <td>0.006341</td>\n",
       "      <td>0.957879</td>\n",
       "      <td>0.959630</td>\n",
       "      <td>0.957879</td>\n",
       "      <td>0.085118</td>\n",
       "      <td>0.352597</td>\n",
       "      <td>0.352597</td>\n",
       "      <td>0.352597</td>\n",
       "    </tr>\n",
       "    <tr>\n",
       "      <th>4</th>\n",
       "      <td>1.00</td>\n",
       "      <td>0.236561</td>\n",
       "      <td>0.771043</td>\n",
       "      <td>0.026292</td>\n",
       "      <td>0.039044</td>\n",
       "      <td>0.560376</td>\n",
       "      <td>0.518129</td>\n",
       "      <td>0.670066</td>\n",
       "      <td>0.199688</td>\n",
       "      <td>0.999902</td>\n",
       "      <td>...</td>\n",
       "      <td>0.308055</td>\n",
       "      <td>0.346214</td>\n",
       "      <td>0.058249</td>\n",
       "      <td>0.992016</td>\n",
       "      <td>0.992348</td>\n",
       "      <td>0.992016</td>\n",
       "      <td>0.000238</td>\n",
       "      <td>0.178883</td>\n",
       "      <td>0.178883</td>\n",
       "      <td>0.178883</td>\n",
       "    </tr>\n",
       "  </tbody>\n",
       "</table>\n",
       "<p>5 rows × 55 columns</p>\n",
       "</div>"
      ],
      "text/plain": [
       "   activityrecognition_1  android_sensor_accelerometer_mean  \\\n",
       "0                   1.00                           0.217871   \n",
       "1                   1.00                           0.230989   \n",
       "2                   1.00                           0.219484   \n",
       "3                   0.75                           0.203654   \n",
       "4                   1.00                           0.236561   \n",
       "\n",
       "   android_sensor_accelerometer_min  android_sensor_accelerometer_max  \\\n",
       "0                          0.841930                          0.008168   \n",
       "1                          0.658611                          0.135062   \n",
       "2                          0.846034                          0.008166   \n",
       "3                          0.654343                          0.050857   \n",
       "4                          0.771043                          0.026292   \n",
       "\n",
       "   android_sensor_accelerometer_std  android_sensor_game_rotation_vector_mean  \\\n",
       "0                          0.001036                                  0.021740   \n",
       "1                          0.137799                                  0.999924   \n",
       "2                          0.000770                                  0.662594   \n",
       "3                          0.066876                                  0.996191   \n",
       "4                          0.039044                                  0.560376   \n",
       "\n",
       "   android_sensor_game_rotation_vector_min  \\\n",
       "0                                 0.021563   \n",
       "1                                 0.999903   \n",
       "2                                 0.662643   \n",
       "3                                 0.993733   \n",
       "4                                 0.518129   \n",
       "\n",
       "   android_sensor_game_rotation_vector_max  \\\n",
       "0                                 0.021824   \n",
       "1                                 0.999945   \n",
       "2                                 0.662561   \n",
       "3                                 0.998650   \n",
       "4                                 0.670066   \n",
       "\n",
       "   android_sensor_game_rotation_vector_std  android_sensor_gravity_mean  ...  \\\n",
       "0                                 0.000366                     0.999902  ...   \n",
       "1                                 0.000093                     0.997412  ...   \n",
       "2                                 0.000012                     0.999909  ...   \n",
       "3                                 0.010635                     0.998713  ...   \n",
       "4                                 0.199688                     0.999902  ...   \n",
       "\n",
       "   android_sensor_rotation_vector_min  android_sensor_rotation_vector_max  \\\n",
       "0                            0.044777                            0.007820   \n",
       "1                            0.999963                            0.999999   \n",
       "2                            0.610456                            0.590422   \n",
       "3                            0.998113                            0.998015   \n",
       "4                            0.308055                            0.346214   \n",
       "\n",
       "   android_sensor_rotation_vector_std  sound_mean  sound_min  sound_max  \\\n",
       "0                            0.004798    0.946127   0.947858   0.947703   \n",
       "1                            0.000058    0.983550   0.982312   0.985554   \n",
       "2                            0.025732    0.946127   0.947858   0.947703   \n",
       "3                            0.006341    0.957879   0.959630   0.957879   \n",
       "4                            0.058249    0.992016   0.992348   0.992016   \n",
       "\n",
       "   sound_std  speed_mean  speed_min  speed_max  \n",
       "0   0.019466    0.000000   0.000000   0.000000  \n",
       "1   0.007118    0.328735   0.328735   0.328735  \n",
       "2   0.019466    0.000000   0.000000   0.000000  \n",
       "3   0.085118    0.352597   0.352597   0.352597  \n",
       "4   0.000238    0.178883   0.178883   0.178883  \n",
       "\n",
       "[5 rows x 55 columns]"
      ]
     },
     "execution_count": 24,
     "metadata": {},
     "output_type": "execute_result"
    }
   ],
   "source": [
    "X_pre=preprocessor.fit_transform(X)\n",
    "X_pre = pd.DataFrame(X_pre, columns=X.columns)\n",
    "X_pre.head(5)"
   ]
  },
  {
   "cell_type": "code",
   "execution_count": 25,
   "id": "7c4f6e0f",
   "metadata": {
    "ExecuteTime": {
     "end_time": "2021-05-19T15:57:37.359012Z",
     "start_time": "2021-05-19T15:57:37.330848Z"
    }
   },
   "outputs": [],
   "source": [
    "X_test_pre=preprocessor.fit_transform(X_test)\n",
    "X_test_pre = pd.DataFrame(X_test_pre, columns=X_test.columns)"
   ]
  },
  {
   "cell_type": "code",
   "execution_count": 20,
   "id": "e54cd91b",
   "metadata": {
    "ExecuteTime": {
     "end_time": "2021-05-19T15:54:23.393366Z",
     "start_time": "2021-05-19T15:54:23.182427Z"
    }
   },
   "outputs": [
    {
     "data": {
      "text/html": [
       "<div>\n",
       "<style scoped>\n",
       "    .dataframe tbody tr th:only-of-type {\n",
       "        vertical-align: middle;\n",
       "    }\n",
       "\n",
       "    .dataframe tbody tr th {\n",
       "        vertical-align: top;\n",
       "    }\n",
       "\n",
       "    .dataframe thead th {\n",
       "        text-align: right;\n",
       "    }\n",
       "</style>\n",
       "<table border=\"1\" class=\"dataframe\">\n",
       "  <thead>\n",
       "    <tr style=\"text-align: right;\">\n",
       "      <th></th>\n",
       "      <th>PC1</th>\n",
       "      <th>PC2</th>\n",
       "      <th>PC3</th>\n",
       "      <th>PC4</th>\n",
       "      <th>PC5</th>\n",
       "      <th>PC6</th>\n",
       "      <th>PC7</th>\n",
       "      <th>PC8</th>\n",
       "      <th>PC9</th>\n",
       "      <th>PC10</th>\n",
       "      <th>PC11</th>\n",
       "      <th>PC12</th>\n",
       "      <th>PC13</th>\n",
       "      <th>PC14</th>\n",
       "      <th>PC15</th>\n",
       "    </tr>\n",
       "  </thead>\n",
       "  <tbody>\n",
       "    <tr>\n",
       "      <th>0</th>\n",
       "      <td>1.683524</td>\n",
       "      <td>0.881994</td>\n",
       "      <td>0.250285</td>\n",
       "      <td>0.144500</td>\n",
       "      <td>0.068060</td>\n",
       "      <td>-0.250828</td>\n",
       "      <td>-0.167341</td>\n",
       "      <td>-0.177521</td>\n",
       "      <td>-0.026939</td>\n",
       "      <td>-0.054568</td>\n",
       "      <td>0.057763</td>\n",
       "      <td>-0.020892</td>\n",
       "      <td>0.014479</td>\n",
       "      <td>0.047987</td>\n",
       "      <td>0.015107</td>\n",
       "    </tr>\n",
       "    <tr>\n",
       "      <th>1</th>\n",
       "      <td>-0.573963</td>\n",
       "      <td>0.384962</td>\n",
       "      <td>-0.191346</td>\n",
       "      <td>-0.465608</td>\n",
       "      <td>0.267633</td>\n",
       "      <td>0.130270</td>\n",
       "      <td>-0.194475</td>\n",
       "      <td>-0.023276</td>\n",
       "      <td>-0.107417</td>\n",
       "      <td>-0.070354</td>\n",
       "      <td>-0.107379</td>\n",
       "      <td>0.054578</td>\n",
       "      <td>-0.067669</td>\n",
       "      <td>0.010564</td>\n",
       "      <td>-0.010241</td>\n",
       "    </tr>\n",
       "    <tr>\n",
       "      <th>2</th>\n",
       "      <td>0.370593</td>\n",
       "      <td>-0.479655</td>\n",
       "      <td>-0.043069</td>\n",
       "      <td>0.203463</td>\n",
       "      <td>-0.087013</td>\n",
       "      <td>-0.337108</td>\n",
       "      <td>-0.267827</td>\n",
       "      <td>-0.155805</td>\n",
       "      <td>-0.132868</td>\n",
       "      <td>-0.011130</td>\n",
       "      <td>0.011236</td>\n",
       "      <td>-0.022479</td>\n",
       "      <td>0.021036</td>\n",
       "      <td>0.007768</td>\n",
       "      <td>0.007666</td>\n",
       "    </tr>\n",
       "    <tr>\n",
       "      <th>3</th>\n",
       "      <td>-0.594812</td>\n",
       "      <td>0.549087</td>\n",
       "      <td>-0.154997</td>\n",
       "      <td>-0.566263</td>\n",
       "      <td>0.264433</td>\n",
       "      <td>0.113646</td>\n",
       "      <td>0.052333</td>\n",
       "      <td>-0.085709</td>\n",
       "      <td>-0.091477</td>\n",
       "      <td>-0.004769</td>\n",
       "      <td>-0.052232</td>\n",
       "      <td>0.085462</td>\n",
       "      <td>-0.066417</td>\n",
       "      <td>0.006423</td>\n",
       "      <td>-0.025402</td>\n",
       "    </tr>\n",
       "    <tr>\n",
       "      <th>4</th>\n",
       "      <td>0.746642</td>\n",
       "      <td>0.159602</td>\n",
       "      <td>-0.438574</td>\n",
       "      <td>0.217792</td>\n",
       "      <td>-0.090761</td>\n",
       "      <td>0.035052</td>\n",
       "      <td>-0.102617</td>\n",
       "      <td>-0.075340</td>\n",
       "      <td>0.124871</td>\n",
       "      <td>0.820423</td>\n",
       "      <td>-0.087164</td>\n",
       "      <td>0.035346</td>\n",
       "      <td>0.017638</td>\n",
       "      <td>0.058006</td>\n",
       "      <td>-0.045441</td>\n",
       "    </tr>\n",
       "    <tr>\n",
       "      <th>...</th>\n",
       "      <td>...</td>\n",
       "      <td>...</td>\n",
       "      <td>...</td>\n",
       "      <td>...</td>\n",
       "      <td>...</td>\n",
       "      <td>...</td>\n",
       "      <td>...</td>\n",
       "      <td>...</td>\n",
       "      <td>...</td>\n",
       "      <td>...</td>\n",
       "      <td>...</td>\n",
       "      <td>...</td>\n",
       "      <td>...</td>\n",
       "      <td>...</td>\n",
       "      <td>...</td>\n",
       "    </tr>\n",
       "    <tr>\n",
       "      <th>4980</th>\n",
       "      <td>-0.564811</td>\n",
       "      <td>-0.009050</td>\n",
       "      <td>-0.002912</td>\n",
       "      <td>-0.207020</td>\n",
       "      <td>-0.026508</td>\n",
       "      <td>-0.344947</td>\n",
       "      <td>0.036146</td>\n",
       "      <td>-0.004608</td>\n",
       "      <td>0.012175</td>\n",
       "      <td>0.009065</td>\n",
       "      <td>-0.013294</td>\n",
       "      <td>-0.038719</td>\n",
       "      <td>0.052133</td>\n",
       "      <td>-0.015422</td>\n",
       "      <td>-0.026939</td>\n",
       "    </tr>\n",
       "    <tr>\n",
       "      <th>4981</th>\n",
       "      <td>0.089343</td>\n",
       "      <td>-0.395043</td>\n",
       "      <td>0.262236</td>\n",
       "      <td>0.176203</td>\n",
       "      <td>0.138323</td>\n",
       "      <td>-0.099562</td>\n",
       "      <td>-0.017679</td>\n",
       "      <td>0.633673</td>\n",
       "      <td>-0.089167</td>\n",
       "      <td>0.048825</td>\n",
       "      <td>-0.023533</td>\n",
       "      <td>0.016951</td>\n",
       "      <td>0.016641</td>\n",
       "      <td>0.048487</td>\n",
       "      <td>-0.015982</td>\n",
       "    </tr>\n",
       "    <tr>\n",
       "      <th>4982</th>\n",
       "      <td>1.686849</td>\n",
       "      <td>0.881502</td>\n",
       "      <td>0.254992</td>\n",
       "      <td>0.147561</td>\n",
       "      <td>0.074095</td>\n",
       "      <td>-0.250722</td>\n",
       "      <td>-0.166513</td>\n",
       "      <td>-0.176964</td>\n",
       "      <td>-0.026607</td>\n",
       "      <td>-0.053439</td>\n",
       "      <td>0.058099</td>\n",
       "      <td>-0.020698</td>\n",
       "      <td>0.015763</td>\n",
       "      <td>0.046907</td>\n",
       "      <td>0.015026</td>\n",
       "    </tr>\n",
       "    <tr>\n",
       "      <th>4983</th>\n",
       "      <td>1.034987</td>\n",
       "      <td>-0.579024</td>\n",
       "      <td>-0.164913</td>\n",
       "      <td>0.292200</td>\n",
       "      <td>-0.291973</td>\n",
       "      <td>-0.294940</td>\n",
       "      <td>-0.100247</td>\n",
       "      <td>0.062202</td>\n",
       "      <td>0.322671</td>\n",
       "      <td>-0.021213</td>\n",
       "      <td>-0.001310</td>\n",
       "      <td>-0.017264</td>\n",
       "      <td>0.001516</td>\n",
       "      <td>-0.027401</td>\n",
       "      <td>-0.082382</td>\n",
       "    </tr>\n",
       "    <tr>\n",
       "      <th>4984</th>\n",
       "      <td>-0.670760</td>\n",
       "      <td>0.413476</td>\n",
       "      <td>-0.302301</td>\n",
       "      <td>0.587632</td>\n",
       "      <td>0.081355</td>\n",
       "      <td>0.234027</td>\n",
       "      <td>-0.082043</td>\n",
       "      <td>0.003762</td>\n",
       "      <td>0.080907</td>\n",
       "      <td>0.391105</td>\n",
       "      <td>0.000776</td>\n",
       "      <td>-0.061592</td>\n",
       "      <td>-0.198877</td>\n",
       "      <td>0.122559</td>\n",
       "      <td>-0.027419</td>\n",
       "    </tr>\n",
       "  </tbody>\n",
       "</table>\n",
       "<p>4985 rows × 15 columns</p>\n",
       "</div>"
      ],
      "text/plain": [
       "           PC1       PC2       PC3       PC4       PC5       PC6       PC7  \\\n",
       "0     1.683524  0.881994  0.250285  0.144500  0.068060 -0.250828 -0.167341   \n",
       "1    -0.573963  0.384962 -0.191346 -0.465608  0.267633  0.130270 -0.194475   \n",
       "2     0.370593 -0.479655 -0.043069  0.203463 -0.087013 -0.337108 -0.267827   \n",
       "3    -0.594812  0.549087 -0.154997 -0.566263  0.264433  0.113646  0.052333   \n",
       "4     0.746642  0.159602 -0.438574  0.217792 -0.090761  0.035052 -0.102617   \n",
       "...        ...       ...       ...       ...       ...       ...       ...   \n",
       "4980 -0.564811 -0.009050 -0.002912 -0.207020 -0.026508 -0.344947  0.036146   \n",
       "4981  0.089343 -0.395043  0.262236  0.176203  0.138323 -0.099562 -0.017679   \n",
       "4982  1.686849  0.881502  0.254992  0.147561  0.074095 -0.250722 -0.166513   \n",
       "4983  1.034987 -0.579024 -0.164913  0.292200 -0.291973 -0.294940 -0.100247   \n",
       "4984 -0.670760  0.413476 -0.302301  0.587632  0.081355  0.234027 -0.082043   \n",
       "\n",
       "           PC8       PC9      PC10      PC11      PC12      PC13      PC14  \\\n",
       "0    -0.177521 -0.026939 -0.054568  0.057763 -0.020892  0.014479  0.047987   \n",
       "1    -0.023276 -0.107417 -0.070354 -0.107379  0.054578 -0.067669  0.010564   \n",
       "2    -0.155805 -0.132868 -0.011130  0.011236 -0.022479  0.021036  0.007768   \n",
       "3    -0.085709 -0.091477 -0.004769 -0.052232  0.085462 -0.066417  0.006423   \n",
       "4    -0.075340  0.124871  0.820423 -0.087164  0.035346  0.017638  0.058006   \n",
       "...        ...       ...       ...       ...       ...       ...       ...   \n",
       "4980 -0.004608  0.012175  0.009065 -0.013294 -0.038719  0.052133 -0.015422   \n",
       "4981  0.633673 -0.089167  0.048825 -0.023533  0.016951  0.016641  0.048487   \n",
       "4982 -0.176964 -0.026607 -0.053439  0.058099 -0.020698  0.015763  0.046907   \n",
       "4983  0.062202  0.322671 -0.021213 -0.001310 -0.017264  0.001516 -0.027401   \n",
       "4984  0.003762  0.080907  0.391105  0.000776 -0.061592 -0.198877  0.122559   \n",
       "\n",
       "          PC15  \n",
       "0     0.015107  \n",
       "1    -0.010241  \n",
       "2     0.007666  \n",
       "3    -0.025402  \n",
       "4    -0.045441  \n",
       "...        ...  \n",
       "4980 -0.026939  \n",
       "4981 -0.015982  \n",
       "4982  0.015026  \n",
       "4983 -0.082382  \n",
       "4984 -0.027419  \n",
       "\n",
       "[4985 rows x 15 columns]"
      ]
     },
     "execution_count": 20,
     "metadata": {},
     "output_type": "execute_result"
    }
   ],
   "source": [
    "X_pca = pca.fit_transform(X_pre)\n",
    "\n",
    "component_names = [f\"PC{i+1}\" for i in range(X_pca.shape[1])]\n",
    "X_pca = pd.DataFrame(X_pca, columns=component_names)\n",
    "X_pca"
   ]
  },
  {
   "cell_type": "code",
   "execution_count": 26,
   "id": "425b56a3",
   "metadata": {
    "ExecuteTime": {
     "end_time": "2021-05-19T15:58:28.306068Z",
     "start_time": "2021-05-19T15:58:28.155737Z"
    }
   },
   "outputs": [
    {
     "data": {
      "text/html": [
       "<div>\n",
       "<style scoped>\n",
       "    .dataframe tbody tr th:only-of-type {\n",
       "        vertical-align: middle;\n",
       "    }\n",
       "\n",
       "    .dataframe tbody tr th {\n",
       "        vertical-align: top;\n",
       "    }\n",
       "\n",
       "    .dataframe thead th {\n",
       "        text-align: right;\n",
       "    }\n",
       "</style>\n",
       "<table border=\"1\" class=\"dataframe\">\n",
       "  <thead>\n",
       "    <tr style=\"text-align: right;\">\n",
       "      <th></th>\n",
       "      <th>PC1</th>\n",
       "      <th>PC2</th>\n",
       "      <th>PC3</th>\n",
       "      <th>PC4</th>\n",
       "      <th>PC5</th>\n",
       "      <th>PC6</th>\n",
       "      <th>PC7</th>\n",
       "      <th>PC8</th>\n",
       "      <th>PC9</th>\n",
       "      <th>PC10</th>\n",
       "      <th>PC11</th>\n",
       "      <th>PC12</th>\n",
       "      <th>PC13</th>\n",
       "      <th>PC14</th>\n",
       "      <th>PC15</th>\n",
       "    </tr>\n",
       "  </thead>\n",
       "  <tbody>\n",
       "    <tr>\n",
       "      <th>0</th>\n",
       "      <td>0.043879</td>\n",
       "      <td>0.134256</td>\n",
       "      <td>-0.416156</td>\n",
       "      <td>0.565973</td>\n",
       "      <td>-0.063020</td>\n",
       "      <td>-0.013787</td>\n",
       "      <td>-0.108990</td>\n",
       "      <td>0.334384</td>\n",
       "      <td>0.385447</td>\n",
       "      <td>-0.305429</td>\n",
       "      <td>0.291735</td>\n",
       "      <td>0.053534</td>\n",
       "      <td>-0.210200</td>\n",
       "      <td>-0.139653</td>\n",
       "      <td>0.048591</td>\n",
       "    </tr>\n",
       "    <tr>\n",
       "      <th>1</th>\n",
       "      <td>0.040352</td>\n",
       "      <td>-0.273592</td>\n",
       "      <td>-0.288441</td>\n",
       "      <td>-0.004068</td>\n",
       "      <td>-0.122546</td>\n",
       "      <td>0.210776</td>\n",
       "      <td>-0.040133</td>\n",
       "      <td>0.121909</td>\n",
       "      <td>0.061674</td>\n",
       "      <td>-0.107799</td>\n",
       "      <td>0.062197</td>\n",
       "      <td>-0.128443</td>\n",
       "      <td>-0.039132</td>\n",
       "      <td>0.127449</td>\n",
       "      <td>-0.022130</td>\n",
       "    </tr>\n",
       "    <tr>\n",
       "      <th>2</th>\n",
       "      <td>0.567872</td>\n",
       "      <td>-0.458496</td>\n",
       "      <td>-0.552001</td>\n",
       "      <td>0.948605</td>\n",
       "      <td>0.621741</td>\n",
       "      <td>-0.180775</td>\n",
       "      <td>-0.223973</td>\n",
       "      <td>0.005393</td>\n",
       "      <td>-0.358092</td>\n",
       "      <td>-0.082086</td>\n",
       "      <td>-0.164960</td>\n",
       "      <td>0.081803</td>\n",
       "      <td>0.201511</td>\n",
       "      <td>0.125648</td>\n",
       "      <td>0.125084</td>\n",
       "    </tr>\n",
       "    <tr>\n",
       "      <th>3</th>\n",
       "      <td>-0.045109</td>\n",
       "      <td>-0.666351</td>\n",
       "      <td>-0.093764</td>\n",
       "      <td>-0.143843</td>\n",
       "      <td>-0.154209</td>\n",
       "      <td>0.025808</td>\n",
       "      <td>-0.127842</td>\n",
       "      <td>0.170694</td>\n",
       "      <td>0.077381</td>\n",
       "      <td>-0.129222</td>\n",
       "      <td>-0.087620</td>\n",
       "      <td>-0.085806</td>\n",
       "      <td>0.121822</td>\n",
       "      <td>0.070228</td>\n",
       "      <td>-0.066680</td>\n",
       "    </tr>\n",
       "    <tr>\n",
       "      <th>4</th>\n",
       "      <td>-0.914716</td>\n",
       "      <td>0.156736</td>\n",
       "      <td>0.170152</td>\n",
       "      <td>0.210352</td>\n",
       "      <td>-0.150251</td>\n",
       "      <td>0.073408</td>\n",
       "      <td>-0.159443</td>\n",
       "      <td>-0.062807</td>\n",
       "      <td>-0.004428</td>\n",
       "      <td>-0.087833</td>\n",
       "      <td>-0.303733</td>\n",
       "      <td>0.043667</td>\n",
       "      <td>0.034343</td>\n",
       "      <td>0.079673</td>\n",
       "      <td>0.052543</td>\n",
       "    </tr>\n",
       "    <tr>\n",
       "      <th>...</th>\n",
       "      <td>...</td>\n",
       "      <td>...</td>\n",
       "      <td>...</td>\n",
       "      <td>...</td>\n",
       "      <td>...</td>\n",
       "      <td>...</td>\n",
       "      <td>...</td>\n",
       "      <td>...</td>\n",
       "      <td>...</td>\n",
       "      <td>...</td>\n",
       "      <td>...</td>\n",
       "      <td>...</td>\n",
       "      <td>...</td>\n",
       "      <td>...</td>\n",
       "      <td>...</td>\n",
       "    </tr>\n",
       "    <tr>\n",
       "      <th>903</th>\n",
       "      <td>0.716639</td>\n",
       "      <td>0.299646</td>\n",
       "      <td>-0.824356</td>\n",
       "      <td>0.245414</td>\n",
       "      <td>-0.749586</td>\n",
       "      <td>0.097653</td>\n",
       "      <td>0.078652</td>\n",
       "      <td>-0.138676</td>\n",
       "      <td>-0.053249</td>\n",
       "      <td>-0.099074</td>\n",
       "      <td>-0.203692</td>\n",
       "      <td>-0.024318</td>\n",
       "      <td>-0.143933</td>\n",
       "      <td>0.049584</td>\n",
       "      <td>-0.063852</td>\n",
       "    </tr>\n",
       "    <tr>\n",
       "      <th>904</th>\n",
       "      <td>0.728376</td>\n",
       "      <td>0.280595</td>\n",
       "      <td>-0.773459</td>\n",
       "      <td>0.256668</td>\n",
       "      <td>-0.572162</td>\n",
       "      <td>0.022111</td>\n",
       "      <td>0.048311</td>\n",
       "      <td>-0.113653</td>\n",
       "      <td>-0.053275</td>\n",
       "      <td>-0.052533</td>\n",
       "      <td>-0.139432</td>\n",
       "      <td>0.004302</td>\n",
       "      <td>-0.123075</td>\n",
       "      <td>0.007359</td>\n",
       "      <td>-0.035121</td>\n",
       "    </tr>\n",
       "    <tr>\n",
       "      <th>905</th>\n",
       "      <td>1.093231</td>\n",
       "      <td>0.425264</td>\n",
       "      <td>-0.644806</td>\n",
       "      <td>0.597267</td>\n",
       "      <td>-0.584005</td>\n",
       "      <td>-0.156680</td>\n",
       "      <td>0.430577</td>\n",
       "      <td>-0.215820</td>\n",
       "      <td>-0.201107</td>\n",
       "      <td>0.296436</td>\n",
       "      <td>-0.315756</td>\n",
       "      <td>-0.117974</td>\n",
       "      <td>0.064987</td>\n",
       "      <td>-0.001157</td>\n",
       "      <td>-0.041529</td>\n",
       "    </tr>\n",
       "    <tr>\n",
       "      <th>906</th>\n",
       "      <td>0.662637</td>\n",
       "      <td>0.266876</td>\n",
       "      <td>-0.744841</td>\n",
       "      <td>0.282244</td>\n",
       "      <td>-0.472858</td>\n",
       "      <td>0.013291</td>\n",
       "      <td>-0.008367</td>\n",
       "      <td>-0.094607</td>\n",
       "      <td>-0.030710</td>\n",
       "      <td>-0.092242</td>\n",
       "      <td>-0.118901</td>\n",
       "      <td>0.034251</td>\n",
       "      <td>-0.112193</td>\n",
       "      <td>0.027457</td>\n",
       "      <td>-0.000768</td>\n",
       "    </tr>\n",
       "    <tr>\n",
       "      <th>907</th>\n",
       "      <td>-0.391247</td>\n",
       "      <td>0.229292</td>\n",
       "      <td>-0.014948</td>\n",
       "      <td>-0.157086</td>\n",
       "      <td>0.064574</td>\n",
       "      <td>-0.022540</td>\n",
       "      <td>-0.036631</td>\n",
       "      <td>0.041237</td>\n",
       "      <td>0.012778</td>\n",
       "      <td>-0.026327</td>\n",
       "      <td>-0.069208</td>\n",
       "      <td>0.021345</td>\n",
       "      <td>0.018197</td>\n",
       "      <td>-0.061644</td>\n",
       "      <td>0.146184</td>\n",
       "    </tr>\n",
       "  </tbody>\n",
       "</table>\n",
       "<p>908 rows × 15 columns</p>\n",
       "</div>"
      ],
      "text/plain": [
       "          PC1       PC2       PC3       PC4       PC5       PC6       PC7  \\\n",
       "0    0.043879  0.134256 -0.416156  0.565973 -0.063020 -0.013787 -0.108990   \n",
       "1    0.040352 -0.273592 -0.288441 -0.004068 -0.122546  0.210776 -0.040133   \n",
       "2    0.567872 -0.458496 -0.552001  0.948605  0.621741 -0.180775 -0.223973   \n",
       "3   -0.045109 -0.666351 -0.093764 -0.143843 -0.154209  0.025808 -0.127842   \n",
       "4   -0.914716  0.156736  0.170152  0.210352 -0.150251  0.073408 -0.159443   \n",
       "..        ...       ...       ...       ...       ...       ...       ...   \n",
       "903  0.716639  0.299646 -0.824356  0.245414 -0.749586  0.097653  0.078652   \n",
       "904  0.728376  0.280595 -0.773459  0.256668 -0.572162  0.022111  0.048311   \n",
       "905  1.093231  0.425264 -0.644806  0.597267 -0.584005 -0.156680  0.430577   \n",
       "906  0.662637  0.266876 -0.744841  0.282244 -0.472858  0.013291 -0.008367   \n",
       "907 -0.391247  0.229292 -0.014948 -0.157086  0.064574 -0.022540 -0.036631   \n",
       "\n",
       "          PC8       PC9      PC10      PC11      PC12      PC13      PC14  \\\n",
       "0    0.334384  0.385447 -0.305429  0.291735  0.053534 -0.210200 -0.139653   \n",
       "1    0.121909  0.061674 -0.107799  0.062197 -0.128443 -0.039132  0.127449   \n",
       "2    0.005393 -0.358092 -0.082086 -0.164960  0.081803  0.201511  0.125648   \n",
       "3    0.170694  0.077381 -0.129222 -0.087620 -0.085806  0.121822  0.070228   \n",
       "4   -0.062807 -0.004428 -0.087833 -0.303733  0.043667  0.034343  0.079673   \n",
       "..        ...       ...       ...       ...       ...       ...       ...   \n",
       "903 -0.138676 -0.053249 -0.099074 -0.203692 -0.024318 -0.143933  0.049584   \n",
       "904 -0.113653 -0.053275 -0.052533 -0.139432  0.004302 -0.123075  0.007359   \n",
       "905 -0.215820 -0.201107  0.296436 -0.315756 -0.117974  0.064987 -0.001157   \n",
       "906 -0.094607 -0.030710 -0.092242 -0.118901  0.034251 -0.112193  0.027457   \n",
       "907  0.041237  0.012778 -0.026327 -0.069208  0.021345  0.018197 -0.061644   \n",
       "\n",
       "         PC15  \n",
       "0    0.048591  \n",
       "1   -0.022130  \n",
       "2    0.125084  \n",
       "3   -0.066680  \n",
       "4    0.052543  \n",
       "..        ...  \n",
       "903 -0.063852  \n",
       "904 -0.035121  \n",
       "905 -0.041529  \n",
       "906 -0.000768  \n",
       "907  0.146184  \n",
       "\n",
       "[908 rows x 15 columns]"
      ]
     },
     "execution_count": 26,
     "metadata": {},
     "output_type": "execute_result"
    }
   ],
   "source": [
    "X_test_pca = pca.fit_transform(X_test_pre)\n",
    "\n",
    "component_names = [f\"PC{i+1}\" for i in range(X_test_pca.shape[1])]\n",
    "X_test_pca = pd.DataFrame(X_test_pca, columns=component_names)\n",
    "X_test_pca"
   ]
  },
  {
   "cell_type": "markdown",
   "id": "8f307a4c",
   "metadata": {
    "cell_id": "00015-bf364553-c6b4-45e8-abcd-b7ac3e001671",
    "deepnote_cell_type": "markdown"
   },
   "source": [
    "# Pipeline "
   ]
  },
  {
   "cell_type": "code",
   "execution_count": 15,
   "id": "ecc45311",
   "metadata": {
    "ExecuteTime": {
     "end_time": "2021-05-19T15:53:26.735253Z",
     "start_time": "2021-05-19T15:53:26.730403Z"
    },
    "cell_id": "00016-e5f545c7-96b3-4abe-bb52-f939b9258cd9",
    "code_folding": [],
    "deepnote_cell_type": "code",
    "deepnote_to_be_reexecuted": false,
    "execution_millis": 1,
    "execution_start": 1621413615690,
    "source_hash": "c46b4aee"
   },
   "outputs": [],
   "source": [
    "num_var=X.columns.to_list()\n",
    "num_pip=Pipeline([('imputer',impute.SimpleImputer(strategy='median')),\n",
    "                  ('scalar',MinMaxScaler()),\n",
    "               ]) \n",
    "preprocessor=compose.ColumnTransformer([\n",
    "    ('num',num_pip,num_var)\n",
    "])"
   ]
  },
  {
   "cell_type": "code",
   "execution_count": null,
   "id": "c513fadf",
   "metadata": {
    "ExecuteTime": {
     "end_time": "2021-05-19T15:40:24.135812Z",
     "start_time": "2021-05-19T15:40:24.133521Z"
    },
    "cell_id": "00017-92beb382-8adc-4eec-8c37-8da7367daf18",
    "code_folding": [
     0
    ],
    "deepnote_cell_type": "code",
    "deepnote_to_be_reexecuted": false,
    "execution_millis": 100,
    "execution_start": 1621417526522,
    "source_hash": "5ce2e3a"
   },
   "outputs": [],
   "source": [
    "# # pipeline for model\n",
    "# classifier_models = {\n",
    "# \"DecisionTreeClassifier\": DecisionTreeClassifier(),\n",
    "# 'KNeighborsClassifier':KNeighborsClassifier(6),\n",
    "# 'LogisticRegression':LogisticRegression(),\n",
    "# \"RandomForestClassifier\":RandomForestClassifier(),\n",
    "# \"GradientBoostingClassifier\":GradientBoostingClassifier(),\n",
    "# \"XGBClassifier\":XGBClassifier(),\n",
    "# \"LGBMClassifier\":LGBMClassifier(),\n",
    "# 'GaussianNB':GaussianNB(),\n",
    "\n",
    "# }\n",
    "# # make pipline with  preprocessing \n",
    "# classifier_models = {name: make_pipeline(preprocessor, model) for name, model in classifier_models.items()}\n",
    "# classifier_models[\"GradientBoostingClassifier\"]"
   ]
  },
  {
   "cell_type": "code",
   "execution_count": 21,
   "id": "aa849fe0",
   "metadata": {
    "ExecuteTime": {
     "end_time": "2021-05-19T15:55:22.072268Z",
     "start_time": "2021-05-19T15:55:22.066895Z"
    }
   },
   "outputs": [],
   "source": [
    "models = {\n",
    "\"DecisionTreeClassifier\": DecisionTreeClassifier(),\n",
    "'KNeighborsClassifier':KNeighborsClassifier(6),\n",
    "'LogisticRegression':LogisticRegression(),\n",
    "\"RandomForestClassifier\":RandomForestClassifier(),\n",
    "\"GradientBoostingClassifier\":GradientBoostingClassifier(),\n",
    "\"XGBClassifier\":XGBClassifier(),\n",
    "\"LGBMClassifier\":LGBMClassifier(),\n",
    "'GaussianNB':GaussianNB(),\n",
    "\n",
    "}"
   ]
  },
  {
   "cell_type": "markdown",
   "id": "7fa94750",
   "metadata": {},
   "source": [
    " # Lets do test  models"
   ]
  },
  {
   "cell_type": "code",
   "execution_count": 22,
   "id": "fe4fd1dc",
   "metadata": {
    "ExecuteTime": {
     "end_time": "2021-05-19T15:55:29.720811Z",
     "start_time": "2021-05-19T15:55:29.701635Z"
    }
   },
   "outputs": [],
   "source": [
    "x_train, x_val, y_train, y_val = train_test_split(X_pca, y,\n",
    "                                                  test_size=0.4,\n",
    "                                                  stratify = y,random_state=10 )\n"
   ]
  },
  {
   "cell_type": "code",
   "execution_count": null,
   "id": "cff2d247",
   "metadata": {
    "ExecuteTime": {
     "end_time": "2021-05-19T15:43:06.703794Z",
     "start_time": "2021-05-19T15:43:06.698701Z"
    },
    "cell_id": "00018-a223c62b-d005-4dca-9b28-e4a8facfdae7",
    "code_folding": [
     0
    ],
    "deepnote_cell_type": "code",
    "deepnote_to_be_reexecuted": false,
    "execution_millis": 44618,
    "execution_start": 1621413664253,
    "source_hash": "9af53d33"
   },
   "outputs": [],
   "source": [
    "# results = pd.DataFrame({'Model': [], 'Accuracy': [], 'Bal Acc.': [],'Time': []})\n",
    "# for model_name, model in classifier_models.items():\n",
    "#     start_time = time.time()\n",
    "#     model.fit(x_train, y_train)\n",
    "#     total_time = time.time() - start_time\n",
    "#     valid_pred = model.predict(x_val)\n",
    "#     results = results.append({\"Model\":    model_name,\n",
    "#                               \"Accuracy\": accuracy_score(y_val, valid_pred)*100,\n",
    "#                               \"Bal Acc.\": balanced_accuracy_score(y_val, valid_pred)*100,\n",
    "                    \n",
    "#                               \"Time\":     total_time},\n",
    "#                               ignore_index=True)\n",
    "# results_ord = results.sort_values(by=['Accuracy'], ascending=False, ignore_index=True)\n",
    "# results_ord.index += 1 \n",
    "# results_ord.style.bar(subset=['Accuracy', 'Bal Acc.'], vmin=0, vmax=100, color='#5fba7d')\n"
   ]
  },
  {
   "cell_type": "code",
   "execution_count": 23,
   "id": "418f9c6e",
   "metadata": {
    "ExecuteTime": {
     "end_time": "2021-05-19T15:55:51.078115Z",
     "start_time": "2021-05-19T15:55:36.663276Z"
    }
   },
   "outputs": [
    {
     "name": "stdout",
     "output_type": "stream",
     "text": [
      "[19:55:46] WARNING: ../src/learner.cc:1095: Starting in XGBoost 1.3.0, the default evaluation metric used with the objective 'multi:softprob' was changed from 'merror' to 'mlogloss'. Explicitly set eval_metric if you'd like to restore the old behavior.\n"
     ]
    },
    {
     "data": {
      "text/html": [
       "<style  type=\"text/css\" >\n",
       "#T_a40f2_row0_col1{\n",
       "            width:  10em;\n",
       "             height:  80%;\n",
       "            background:  linear-gradient(90deg,#5fba7d 95.4%, transparent 95.4%);\n",
       "        }#T_a40f2_row0_col2{\n",
       "            width:  10em;\n",
       "             height:  80%;\n",
       "            background:  linear-gradient(90deg,#5fba7d 95.0%, transparent 95.0%);\n",
       "        }#T_a40f2_row1_col1,#T_a40f2_row2_col1{\n",
       "            width:  10em;\n",
       "             height:  80%;\n",
       "            background:  linear-gradient(90deg,#5fba7d 95.2%, transparent 95.2%);\n",
       "        }#T_a40f2_row1_col2{\n",
       "            width:  10em;\n",
       "             height:  80%;\n",
       "            background:  linear-gradient(90deg,#5fba7d 94.8%, transparent 94.8%);\n",
       "        }#T_a40f2_row2_col2{\n",
       "            width:  10em;\n",
       "             height:  80%;\n",
       "            background:  linear-gradient(90deg,#5fba7d 94.9%, transparent 94.9%);\n",
       "        }#T_a40f2_row3_col1{\n",
       "            width:  10em;\n",
       "             height:  80%;\n",
       "            background:  linear-gradient(90deg,#5fba7d 93.5%, transparent 93.5%);\n",
       "        }#T_a40f2_row3_col2{\n",
       "            width:  10em;\n",
       "             height:  80%;\n",
       "            background:  linear-gradient(90deg,#5fba7d 93.2%, transparent 93.2%);\n",
       "        }#T_a40f2_row4_col1{\n",
       "            width:  10em;\n",
       "             height:  80%;\n",
       "            background:  linear-gradient(90deg,#5fba7d 92.7%, transparent 92.7%);\n",
       "        }#T_a40f2_row4_col2{\n",
       "            width:  10em;\n",
       "             height:  80%;\n",
       "            background:  linear-gradient(90deg,#5fba7d 92.6%, transparent 92.6%);\n",
       "        }#T_a40f2_row5_col1{\n",
       "            width:  10em;\n",
       "             height:  80%;\n",
       "            background:  linear-gradient(90deg,#5fba7d 88.5%, transparent 88.5%);\n",
       "        }#T_a40f2_row5_col2{\n",
       "            width:  10em;\n",
       "             height:  80%;\n",
       "            background:  linear-gradient(90deg,#5fba7d 88.6%, transparent 88.6%);\n",
       "        }#T_a40f2_row6_col1{\n",
       "            width:  10em;\n",
       "             height:  80%;\n",
       "            background:  linear-gradient(90deg,#5fba7d 74.3%, transparent 74.3%);\n",
       "        }#T_a40f2_row6_col2{\n",
       "            width:  10em;\n",
       "             height:  80%;\n",
       "            background:  linear-gradient(90deg,#5fba7d 75.3%, transparent 75.3%);\n",
       "        }#T_a40f2_row7_col1{\n",
       "            width:  10em;\n",
       "             height:  80%;\n",
       "            background:  linear-gradient(90deg,#5fba7d 67.9%, transparent 67.9%);\n",
       "        }#T_a40f2_row7_col2{\n",
       "            width:  10em;\n",
       "             height:  80%;\n",
       "            background:  linear-gradient(90deg,#5fba7d 69.8%, transparent 69.8%);\n",
       "        }</style><table id=\"T_a40f2_\" ><thead>    <tr>        <th class=\"blank level0\" ></th>        <th class=\"col_heading level0 col0\" >Model</th>        <th class=\"col_heading level0 col1\" >Accuracy</th>        <th class=\"col_heading level0 col2\" >Bal Acc.</th>        <th class=\"col_heading level0 col3\" >Time</th>    </tr></thead><tbody>\n",
       "                <tr>\n",
       "                        <th id=\"T_a40f2_level0_row0\" class=\"row_heading level0 row0\" >1</th>\n",
       "                        <td id=\"T_a40f2_row0_col0\" class=\"data row0 col0\" >RandomForestClassifier</td>\n",
       "                        <td id=\"T_a40f2_row0_col1\" class=\"data row0 col1\" >95.436309</td>\n",
       "                        <td id=\"T_a40f2_row0_col2\" class=\"data row0 col2\" >95.043948</td>\n",
       "                        <td id=\"T_a40f2_row0_col3\" class=\"data row0 col3\" >0.977099</td>\n",
       "            </tr>\n",
       "            <tr>\n",
       "                        <th id=\"T_a40f2_level0_row1\" class=\"row_heading level0 row1\" >2</th>\n",
       "                        <td id=\"T_a40f2_row1_col0\" class=\"data row1 col0\" >LGBMClassifier</td>\n",
       "                        <td id=\"T_a40f2_row1_col1\" class=\"data row1 col1\" >95.235707</td>\n",
       "                        <td id=\"T_a40f2_row1_col2\" class=\"data row1 col2\" >94.847844</td>\n",
       "                        <td id=\"T_a40f2_row1_col3\" class=\"data row1 col3\" >1.350383</td>\n",
       "            </tr>\n",
       "            <tr>\n",
       "                        <th id=\"T_a40f2_level0_row2\" class=\"row_heading level0 row2\" >3</th>\n",
       "                        <td id=\"T_a40f2_row2_col0\" class=\"data row2 col0\" >XGBClassifier</td>\n",
       "                        <td id=\"T_a40f2_row2_col1\" class=\"data row2 col1\" >95.185557</td>\n",
       "                        <td id=\"T_a40f2_row2_col2\" class=\"data row2 col2\" >94.905258</td>\n",
       "                        <td id=\"T_a40f2_row2_col3\" class=\"data row2 col3\" >3.302656</td>\n",
       "            </tr>\n",
       "            <tr>\n",
       "                        <th id=\"T_a40f2_level0_row3\" class=\"row_heading level0 row3\" >4</th>\n",
       "                        <td id=\"T_a40f2_row3_col0\" class=\"data row3 col0\" >GradientBoostingClassifier</td>\n",
       "                        <td id=\"T_a40f2_row3_col1\" class=\"data row3 col1\" >93.530592</td>\n",
       "                        <td id=\"T_a40f2_row3_col2\" class=\"data row3 col2\" >93.247811</td>\n",
       "                        <td id=\"T_a40f2_row3_col3\" class=\"data row3 col3\" >7.925669</td>\n",
       "            </tr>\n",
       "            <tr>\n",
       "                        <th id=\"T_a40f2_level0_row4\" class=\"row_heading level0 row4\" >5</th>\n",
       "                        <td id=\"T_a40f2_row4_col0\" class=\"data row4 col0\" >KNeighborsClassifier</td>\n",
       "                        <td id=\"T_a40f2_row4_col1\" class=\"data row4 col1\" >92.678034</td>\n",
       "                        <td id=\"T_a40f2_row4_col2\" class=\"data row4 col2\" >92.570976</td>\n",
       "                        <td id=\"T_a40f2_row4_col3\" class=\"data row4 col3\" >0.009795</td>\n",
       "            </tr>\n",
       "            <tr>\n",
       "                        <th id=\"T_a40f2_level0_row5\" class=\"row_heading level0 row5\" >6</th>\n",
       "                        <td id=\"T_a40f2_row5_col0\" class=\"data row5 col0\" >DecisionTreeClassifier</td>\n",
       "                        <td id=\"T_a40f2_row5_col1\" class=\"data row5 col1\" >88.515547</td>\n",
       "                        <td id=\"T_a40f2_row5_col2\" class=\"data row5 col2\" >88.609585</td>\n",
       "                        <td id=\"T_a40f2_row5_col3\" class=\"data row5 col3\" >0.069848</td>\n",
       "            </tr>\n",
       "            <tr>\n",
       "                        <th id=\"T_a40f2_level0_row6\" class=\"row_heading level0 row6\" >7</th>\n",
       "                        <td id=\"T_a40f2_row6_col0\" class=\"data row6 col0\" >LogisticRegression</td>\n",
       "                        <td id=\"T_a40f2_row6_col1\" class=\"data row6 col1\" >74.322969</td>\n",
       "                        <td id=\"T_a40f2_row6_col2\" class=\"data row6 col2\" >75.256566</td>\n",
       "                        <td id=\"T_a40f2_row6_col3\" class=\"data row6 col3\" >0.181978</td>\n",
       "            </tr>\n",
       "            <tr>\n",
       "                        <th id=\"T_a40f2_level0_row7\" class=\"row_heading level0 row7\" >8</th>\n",
       "                        <td id=\"T_a40f2_row7_col0\" class=\"data row7 col0\" >GaussianNB</td>\n",
       "                        <td id=\"T_a40f2_row7_col1\" class=\"data row7 col1\" >67.853561</td>\n",
       "                        <td id=\"T_a40f2_row7_col2\" class=\"data row7 col2\" >69.809621</td>\n",
       "                        <td id=\"T_a40f2_row7_col3\" class=\"data row7 col3\" >0.007590</td>\n",
       "            </tr>\n",
       "    </tbody></table>"
      ],
      "text/plain": [
       "<pandas.io.formats.style.Styler at 0x7f250168be20>"
      ]
     },
     "execution_count": 23,
     "metadata": {},
     "output_type": "execute_result"
    }
   ],
   "source": [
    "results = pd.DataFrame({'Model': [], 'Accuracy': [], 'Bal Acc.': [],'Time': []})\n",
    "for  name ,model in models.items():\n",
    "    start_time = time.time()\n",
    "    model.fit(x_train, y_train)\n",
    "    total_time = time.time() - start_time\n",
    "    valid_pred = model.predict(x_val)\n",
    "    results = results.append({\"Model\":    name,\n",
    "                              \"Accuracy\": accuracy_score(y_val, valid_pred)*100,\n",
    "                              \"Bal Acc.\": balanced_accuracy_score(y_val, valid_pred)*100,\n",
    "                    \n",
    "                              \"Time\":     total_time},\n",
    "                              ignore_index=True)\n",
    "results_ord = results.sort_values(by=['Accuracy'], ascending=False, ignore_index=True)\n",
    "results_ord.index += 1 \n",
    "results_ord.style.bar(subset=['Accuracy', 'Bal Acc.'], vmin=0, vmax=100, color='#5fba7d')\n"
   ]
  },
  {
   "cell_type": "markdown",
   "id": "ff0e00aa",
   "metadata": {
    "cell_id": "00019-f27d4a7c-807c-40af-a2ec-086ee9c96b8a",
    "deepnote_cell_type": "markdown"
   },
   "source": [
    "# Best model for test data  "
   ]
  },
  {
   "cell_type": "code",
   "execution_count": 28,
   "id": "c6fea1f7",
   "metadata": {
    "ExecuteTime": {
     "end_time": "2021-05-19T15:58:51.053292Z",
     "start_time": "2021-05-19T15:58:51.049516Z"
    },
    "cell_id": "00021-ba896ca9-57d8-4edc-a023-b613bfc8d3dc",
    "deepnote_cell_type": "code",
    "deepnote_to_be_reexecuted": false,
    "execution_millis": 1,
    "execution_start": 1621413753530,
    "source_hash": "55e59264"
   },
   "outputs": [],
   "source": [
    "best_model=XGBClassifier()\n",
    "name='XGBClassifier'"
   ]
  },
  {
   "cell_type": "code",
   "execution_count": 30,
   "id": "f46aa7cd",
   "metadata": {
    "ExecuteTime": {
     "end_time": "2021-05-19T16:00:00.615863Z",
     "start_time": "2021-05-19T15:59:47.084094Z"
    },
    "cell_id": "00023-55ac1e59-0241-48dc-97aa-db64bdc9bc4b",
    "deepnote_cell_type": "code",
    "deepnote_to_be_reexecuted": false,
    "execution_millis": 177600,
    "execution_start": 1621417545124,
    "source_hash": "419bd42d"
   },
   "outputs": [
    {
     "name": "stdout",
     "output_type": "stream",
     "text": [
      "[19:59:47] WARNING: ../src/learner.cc:1095: Starting in XGBoost 1.3.0, the default evaluation metric used with the objective 'multi:softprob' was changed from 'merror' to 'mlogloss'. Explicitly set eval_metric if you'd like to restore the old behavior.\n"
     ]
    },
    {
     "ename": "ValueError",
     "evalue": "Feature shape mismatch, expected: 55, got 908",
     "output_type": "error",
     "traceback": [
      "\u001b[0;31m---------------------------------------------------------------------------\u001b[0m",
      "\u001b[0;31mValueError\u001b[0m                                Traceback (most recent call last)",
      "\u001b[0;32m<ipython-input-30-2c6d08ef4620>\u001b[0m in \u001b[0;36m<module>\u001b[0;34m\u001b[0m\n\u001b[1;32m      4\u001b[0m \u001b[0mclf\u001b[0m\u001b[0;34m.\u001b[0m\u001b[0mfit\u001b[0m\u001b[0;34m(\u001b[0m\u001b[0mX\u001b[0m\u001b[0;34m,\u001b[0m \u001b[0my\u001b[0m\u001b[0;34m)\u001b[0m\u001b[0;34m\u001b[0m\u001b[0;34m\u001b[0m\u001b[0m\n\u001b[1;32m      5\u001b[0m \u001b[0mtotal_time\u001b[0m \u001b[0;34m=\u001b[0m \u001b[0mtime\u001b[0m\u001b[0;34m.\u001b[0m\u001b[0mtime\u001b[0m\u001b[0;34m(\u001b[0m\u001b[0;34m)\u001b[0m \u001b[0;34m-\u001b[0m \u001b[0mstart_time\u001b[0m\u001b[0;34m\u001b[0m\u001b[0;34m\u001b[0m\u001b[0m\n\u001b[0;32m----> 6\u001b[0;31m \u001b[0mpred\u001b[0m \u001b[0;34m=\u001b[0m \u001b[0mclf\u001b[0m\u001b[0;34m.\u001b[0m\u001b[0mpredict\u001b[0m\u001b[0;34m(\u001b[0m\u001b[0mX_test_pca\u001b[0m\u001b[0;34m)\u001b[0m\u001b[0;34m\u001b[0m\u001b[0;34m\u001b[0m\u001b[0m\n\u001b[0m\u001b[1;32m      7\u001b[0m test_result = test_result.append({\"Model\":    name,\n\u001b[1;32m      8\u001b[0m                           \u001b[0;34m\"Accuracy\"\u001b[0m\u001b[0;34m:\u001b[0m \u001b[0maccuracy_score\u001b[0m\u001b[0;34m(\u001b[0m\u001b[0my_test\u001b[0m\u001b[0;34m,\u001b[0m \u001b[0mpred\u001b[0m\u001b[0;34m)\u001b[0m\u001b[0;34m*\u001b[0m\u001b[0;36m100\u001b[0m\u001b[0;34m,\u001b[0m\u001b[0;34m\u001b[0m\u001b[0;34m\u001b[0m\u001b[0m\n",
      "\u001b[0;32m~/anaconda3/envs/aienv/lib/python3.8/site-packages/sklearn/utils/metaestimators.py\u001b[0m in \u001b[0;36m<lambda>\u001b[0;34m(*args, **kwargs)\u001b[0m\n\u001b[1;32m    118\u001b[0m \u001b[0;34m\u001b[0m\u001b[0m\n\u001b[1;32m    119\u001b[0m         \u001b[0;31m# lambda, but not partial, allows help() to work with update_wrapper\u001b[0m\u001b[0;34m\u001b[0m\u001b[0;34m\u001b[0m\u001b[0;34m\u001b[0m\u001b[0m\n\u001b[0;32m--> 120\u001b[0;31m         \u001b[0mout\u001b[0m \u001b[0;34m=\u001b[0m \u001b[0;32mlambda\u001b[0m \u001b[0;34m*\u001b[0m\u001b[0margs\u001b[0m\u001b[0;34m,\u001b[0m \u001b[0;34m**\u001b[0m\u001b[0mkwargs\u001b[0m\u001b[0;34m:\u001b[0m \u001b[0mself\u001b[0m\u001b[0;34m.\u001b[0m\u001b[0mfn\u001b[0m\u001b[0;34m(\u001b[0m\u001b[0mobj\u001b[0m\u001b[0;34m,\u001b[0m \u001b[0;34m*\u001b[0m\u001b[0margs\u001b[0m\u001b[0;34m,\u001b[0m \u001b[0;34m**\u001b[0m\u001b[0mkwargs\u001b[0m\u001b[0;34m)\u001b[0m\u001b[0;34m\u001b[0m\u001b[0;34m\u001b[0m\u001b[0m\n\u001b[0m\u001b[1;32m    121\u001b[0m         \u001b[0;31m# update the docstring of the returned function\u001b[0m\u001b[0;34m\u001b[0m\u001b[0;34m\u001b[0m\u001b[0;34m\u001b[0m\u001b[0m\n\u001b[1;32m    122\u001b[0m         \u001b[0mupdate_wrapper\u001b[0m\u001b[0;34m(\u001b[0m\u001b[0mout\u001b[0m\u001b[0;34m,\u001b[0m \u001b[0mself\u001b[0m\u001b[0;34m.\u001b[0m\u001b[0mfn\u001b[0m\u001b[0;34m)\u001b[0m\u001b[0;34m\u001b[0m\u001b[0;34m\u001b[0m\u001b[0m\n",
      "\u001b[0;32m~/anaconda3/envs/aienv/lib/python3.8/site-packages/sklearn/pipeline.py\u001b[0m in \u001b[0;36mpredict\u001b[0;34m(self, X, **predict_params)\u001b[0m\n\u001b[1;32m    417\u001b[0m         \u001b[0;32mfor\u001b[0m \u001b[0m_\u001b[0m\u001b[0;34m,\u001b[0m \u001b[0mname\u001b[0m\u001b[0;34m,\u001b[0m \u001b[0mtransform\u001b[0m \u001b[0;32min\u001b[0m \u001b[0mself\u001b[0m\u001b[0;34m.\u001b[0m\u001b[0m_iter\u001b[0m\u001b[0;34m(\u001b[0m\u001b[0mwith_final\u001b[0m\u001b[0;34m=\u001b[0m\u001b[0;32mFalse\u001b[0m\u001b[0;34m)\u001b[0m\u001b[0;34m:\u001b[0m\u001b[0;34m\u001b[0m\u001b[0;34m\u001b[0m\u001b[0m\n\u001b[1;32m    418\u001b[0m             \u001b[0mXt\u001b[0m \u001b[0;34m=\u001b[0m \u001b[0mtransform\u001b[0m\u001b[0;34m.\u001b[0m\u001b[0mtransform\u001b[0m\u001b[0;34m(\u001b[0m\u001b[0mXt\u001b[0m\u001b[0;34m)\u001b[0m\u001b[0;34m\u001b[0m\u001b[0;34m\u001b[0m\u001b[0m\n\u001b[0;32m--> 419\u001b[0;31m         \u001b[0;32mreturn\u001b[0m \u001b[0mself\u001b[0m\u001b[0;34m.\u001b[0m\u001b[0msteps\u001b[0m\u001b[0;34m[\u001b[0m\u001b[0;34m-\u001b[0m\u001b[0;36m1\u001b[0m\u001b[0;34m]\u001b[0m\u001b[0;34m[\u001b[0m\u001b[0;34m-\u001b[0m\u001b[0;36m1\u001b[0m\u001b[0;34m]\u001b[0m\u001b[0;34m.\u001b[0m\u001b[0mpredict\u001b[0m\u001b[0;34m(\u001b[0m\u001b[0mXt\u001b[0m\u001b[0;34m,\u001b[0m \u001b[0;34m**\u001b[0m\u001b[0mpredict_params\u001b[0m\u001b[0;34m)\u001b[0m\u001b[0;34m\u001b[0m\u001b[0;34m\u001b[0m\u001b[0m\n\u001b[0m\u001b[1;32m    420\u001b[0m \u001b[0;34m\u001b[0m\u001b[0m\n\u001b[1;32m    421\u001b[0m     \u001b[0;34m@\u001b[0m\u001b[0mif_delegate_has_method\u001b[0m\u001b[0;34m(\u001b[0m\u001b[0mdelegate\u001b[0m\u001b[0;34m=\u001b[0m\u001b[0;34m'_final_estimator'\u001b[0m\u001b[0;34m)\u001b[0m\u001b[0;34m\u001b[0m\u001b[0;34m\u001b[0m\u001b[0m\n",
      "\u001b[0;32m~/anaconda3/envs/aienv/lib/python3.8/site-packages/xgboost/sklearn.py\u001b[0m in \u001b[0;36mpredict\u001b[0;34m(self, X, output_margin, ntree_limit, validate_features, base_margin, iteration_range)\u001b[0m\n\u001b[1;32m   1207\u001b[0m         \u001b[0miteration_range\u001b[0m\u001b[0;34m:\u001b[0m \u001b[0mOptional\u001b[0m\u001b[0;34m[\u001b[0m\u001b[0mTuple\u001b[0m\u001b[0;34m[\u001b[0m\u001b[0mint\u001b[0m\u001b[0;34m,\u001b[0m \u001b[0mint\u001b[0m\u001b[0;34m]\u001b[0m\u001b[0;34m]\u001b[0m \u001b[0;34m=\u001b[0m \u001b[0;32mNone\u001b[0m\u001b[0;34m,\u001b[0m\u001b[0;34m\u001b[0m\u001b[0;34m\u001b[0m\u001b[0m\n\u001b[1;32m   1208\u001b[0m     ):\n\u001b[0;32m-> 1209\u001b[0;31m         class_probs = super().predict(\n\u001b[0m\u001b[1;32m   1210\u001b[0m             \u001b[0mX\u001b[0m\u001b[0;34m=\u001b[0m\u001b[0mX\u001b[0m\u001b[0;34m,\u001b[0m\u001b[0;34m\u001b[0m\u001b[0;34m\u001b[0m\u001b[0m\n\u001b[1;32m   1211\u001b[0m             \u001b[0moutput_margin\u001b[0m\u001b[0;34m=\u001b[0m\u001b[0moutput_margin\u001b[0m\u001b[0;34m,\u001b[0m\u001b[0;34m\u001b[0m\u001b[0;34m\u001b[0m\u001b[0m\n",
      "\u001b[0;32m~/anaconda3/envs/aienv/lib/python3.8/site-packages/xgboost/sklearn.py\u001b[0m in \u001b[0;36mpredict\u001b[0;34m(self, X, output_margin, ntree_limit, validate_features, base_margin, iteration_range)\u001b[0m\n\u001b[1;32m    818\u001b[0m         \u001b[0;32mif\u001b[0m \u001b[0mself\u001b[0m\u001b[0;34m.\u001b[0m\u001b[0m_can_use_inplace_predict\u001b[0m\u001b[0;34m(\u001b[0m\u001b[0;34m)\u001b[0m\u001b[0;34m:\u001b[0m\u001b[0;34m\u001b[0m\u001b[0;34m\u001b[0m\u001b[0m\n\u001b[1;32m    819\u001b[0m             \u001b[0;32mtry\u001b[0m\u001b[0;34m:\u001b[0m\u001b[0;34m\u001b[0m\u001b[0;34m\u001b[0m\u001b[0m\n\u001b[0;32m--> 820\u001b[0;31m                 predts = self.get_booster().inplace_predict(\n\u001b[0m\u001b[1;32m    821\u001b[0m                     \u001b[0mdata\u001b[0m\u001b[0;34m=\u001b[0m\u001b[0mX\u001b[0m\u001b[0;34m,\u001b[0m\u001b[0;34m\u001b[0m\u001b[0;34m\u001b[0m\u001b[0m\n\u001b[1;32m    822\u001b[0m                     \u001b[0miteration_range\u001b[0m\u001b[0;34m=\u001b[0m\u001b[0miteration_range\u001b[0m\u001b[0;34m,\u001b[0m\u001b[0;34m\u001b[0m\u001b[0;34m\u001b[0m\u001b[0m\n",
      "\u001b[0;32m~/anaconda3/envs/aienv/lib/python3.8/site-packages/xgboost/core.py\u001b[0m in \u001b[0;36minplace_predict\u001b[0;34m(self, data, iteration_range, predict_type, missing, validate_features, base_margin, strict_shape)\u001b[0m\n\u001b[1;32m   1836\u001b[0m         \u001b[0;32mif\u001b[0m \u001b[0mvalidate_features\u001b[0m\u001b[0;34m:\u001b[0m\u001b[0;34m\u001b[0m\u001b[0;34m\u001b[0m\u001b[0m\n\u001b[1;32m   1837\u001b[0m             \u001b[0;32mif\u001b[0m \u001b[0mlen\u001b[0m\u001b[0;34m(\u001b[0m\u001b[0mdata\u001b[0m\u001b[0;34m.\u001b[0m\u001b[0mshape\u001b[0m\u001b[0;34m)\u001b[0m \u001b[0;34m!=\u001b[0m \u001b[0;36m1\u001b[0m \u001b[0;32mand\u001b[0m \u001b[0mself\u001b[0m\u001b[0;34m.\u001b[0m\u001b[0mnum_features\u001b[0m\u001b[0;34m(\u001b[0m\u001b[0;34m)\u001b[0m \u001b[0;34m!=\u001b[0m \u001b[0mdata\u001b[0m\u001b[0;34m.\u001b[0m\u001b[0mshape\u001b[0m\u001b[0;34m[\u001b[0m\u001b[0;36m1\u001b[0m\u001b[0;34m]\u001b[0m\u001b[0;34m:\u001b[0m\u001b[0;34m\u001b[0m\u001b[0;34m\u001b[0m\u001b[0m\n\u001b[0;32m-> 1838\u001b[0;31m                 raise ValueError(\n\u001b[0m\u001b[1;32m   1839\u001b[0m                     \u001b[0;34mf\"Feature shape mismatch, expected: {self.num_features()}, \"\u001b[0m\u001b[0;34m\u001b[0m\u001b[0;34m\u001b[0m\u001b[0m\n\u001b[1;32m   1840\u001b[0m                     \u001b[0;34mf\"got {data.shape[0]}\"\u001b[0m\u001b[0;34m\u001b[0m\u001b[0;34m\u001b[0m\u001b[0m\n",
      "\u001b[0;31mValueError\u001b[0m: Feature shape mismatch, expected: 55, got 908"
     ]
    }
   ],
   "source": [
    "# clf=Pipeline([('classification',best_model)])\n",
    "test_result = pd.DataFrame({'Model': [], 'Accuracy': [], 'Bal Acc.': [],'Time': []})\n",
    "start_time = time.time()\n",
    "best_model.fit(X, y)\n",
    "total_time = time.time() - start_time\n",
    "pred = clf.predict(X_test_pca)\n",
    "test_result = test_result.append({\"Model\":    name,\n",
    "                          \"Accuracy\": accuracy_score(y_test, pred)*100,\n",
    "                          \"Bal Acc.\": balanced_accuracy_score(y_test, pred)*100,\n",
    "                          \"Time\":     total_time},\n",
    "                          ignore_index=True)\n",
    "test_result_ord = test_result.sort_values(by=['Accuracy'], ascending=False, ignore_index=True)\n",
    "test_result_ord.index += 1 \n",
    "test_result_ord.style.bar(subset=['Accuracy', 'Bal Acc.'], vmin=0, vmax=100, color='#5fba7d')\n",
    "\n"
   ]
  },
  {
   "cell_type": "code",
   "execution_count": null,
   "id": "318f7333",
   "metadata": {
    "ExecuteTime": {
     "end_time": "2021-05-19T15:27:39.081488Z",
     "start_time": "2021-05-19T15:27:39.032235Z"
    }
   },
   "outputs": [],
   "source": [
    "print(classification_report(y_test, pred))\n",
    "print()\n",
    "print(confusion_matrix(y_test, pred))"
   ]
  },
  {
   "cell_type": "markdown",
   "id": "c4e819b1",
   "metadata": {},
   "source": [
    "# with optuna paramater"
   ]
  },
  {
   "cell_type": "code",
   "execution_count": null,
   "id": "a9a18084",
   "metadata": {
    "ExecuteTime": {
     "end_time": "2021-05-19T15:27:47.785311Z",
     "start_time": "2021-05-19T15:27:47.781595Z"
    }
   },
   "outputs": [],
   "source": [
    "\n",
    "m_=LGBMClassifier()\n",
    "model_m=Pipeline([('preprocess',preprocessor),('classification',m_)])"
   ]
  },
  {
   "cell_type": "code",
   "execution_count": null,
   "id": "bc7a5069",
   "metadata": {
    "ExecuteTime": {
     "end_time": "2021-05-19T15:27:54.910391Z",
     "start_time": "2021-05-19T15:27:49.261554Z"
    }
   },
   "outputs": [],
   "source": [
    "model_m.fit(X,y)"
   ]
  },
  {
   "cell_type": "code",
   "execution_count": null,
   "id": "187ec41d",
   "metadata": {
    "ExecuteTime": {
     "end_time": "2021-05-19T15:27:56.784400Z",
     "start_time": "2021-05-19T15:27:56.699588Z"
    }
   },
   "outputs": [],
   "source": [
    "pred_=model_m.predict(X_test)\n",
    "print(f\"Accuracy {accuracy_score(y_test, pred_)*100}\")\n",
    "print(classification_report(y_test, pred_))\n",
    "print()\n",
    "print(confusion_matrix(y_test, pred_))"
   ]
  },
  {
   "cell_type": "markdown",
   "id": "703b919e",
   "metadata": {
    "cell_id": "00025-04dcb31f-2c66-4c89-956a-0e50837401d2",
    "deepnote_cell_type": "text-cell-h1",
    "tags": []
   },
   "source": [
    "#  Drop some feature from target  beacuse of confusion materix result \n",
    "\n",
    "## Drop car  category "
   ]
  },
  {
   "cell_type": "code",
   "execution_count": null,
   "id": "67678327",
   "metadata": {
    "ExecuteTime": {
     "end_time": "2021-05-19T15:28:03.185520Z",
     "start_time": "2021-05-19T15:28:03.176770Z"
    },
    "cell_id": "00026-4e8ec8d9-73fe-4098-a104-b64f1b201dee",
    "deepnote_cell_type": "code",
    "deepnote_to_be_reexecuted": false,
    "execution_millis": 0,
    "execution_start": 1621414154518,
    "source_hash": "1307de0a",
    "tags": []
   },
   "outputs": [],
   "source": [
    "df_test_1   =df_test[df_test['target']!='Car']\n",
    "df_train_1  =df_train[df_train['target']!='Car']"
   ]
  },
  {
   "cell_type": "code",
   "execution_count": null,
   "id": "6ccf49c5",
   "metadata": {
    "ExecuteTime": {
     "end_time": "2021-05-19T15:28:04.723311Z",
     "start_time": "2021-05-19T15:28:04.719348Z"
    },
    "cell_id": "00027-6a8851e1-bdec-4889-941b-a4753e4207ed",
    "deepnote_cell_type": "code",
    "deepnote_to_be_reexecuted": false,
    "execution_millis": 15,
    "execution_start": 1621414157127,
    "source_hash": "946fc65d",
    "tags": []
   },
   "outputs": [],
   "source": [
    "print(df_test.shape)\n",
    "print(df_train.shape)"
   ]
  },
  {
   "cell_type": "markdown",
   "id": "6d999a5c",
   "metadata": {
    "cell_id": "00024-137a78bb-5756-467f-ad76-5bbfd5d04862",
    "deepnote_cell_type": "text-cell-h1",
    "tags": []
   },
   "source": [
    "# How much info reduced "
   ]
  },
  {
   "cell_type": "code",
   "execution_count": null,
   "id": "08ab8be5",
   "metadata": {
    "ExecuteTime": {
     "end_time": "2021-05-19T15:28:20.776091Z",
     "start_time": "2021-05-19T15:28:20.771495Z"
    },
    "cell_id": "00028-4a7805db-604d-4700-a90b-0bc2dbd69c7c",
    "deepnote_cell_type": "code",
    "deepnote_to_be_reexecuted": false,
    "execution_millis": 0,
    "execution_start": 1621414246188,
    "source_hash": "35b01305",
    "tags": []
   },
   "outputs": [],
   "source": [
    "print(f\" After drop Car category we  reduce \\n test data {100-df_test_1.shape[0]/df_test.shape[0]*100} % \\n train data {100-df_train_1.shape[0]/df_train.shape[0]*100} %\")"
   ]
  },
  {
   "cell_type": "code",
   "execution_count": null,
   "id": "f65f29c9",
   "metadata": {
    "ExecuteTime": {
     "end_time": "2021-05-19T15:28:22.558217Z",
     "start_time": "2021-05-19T15:28:22.552256Z"
    },
    "cell_id": "00029-c900fbeb-079d-40a0-a81f-d8dff5cd5a68",
    "deepnote_cell_type": "code",
    "deepnote_to_be_reexecuted": false,
    "execution_millis": 8,
    "execution_start": 1621414252239,
    "source_hash": "38cdb65c",
    "tags": []
   },
   "outputs": [],
   "source": [
    "print(df_train_1.shape)\n",
    "print(df_test_1.shape)"
   ]
  },
  {
   "cell_type": "code",
   "execution_count": null,
   "id": "e63b29b2",
   "metadata": {
    "ExecuteTime": {
     "end_time": "2021-05-19T15:28:24.189816Z",
     "start_time": "2021-05-19T15:28:24.183798Z"
    },
    "cell_id": "00030-08ed8b21-f737-4e2d-90e4-bff9013a959c",
    "deepnote_cell_type": "code",
    "deepnote_to_be_reexecuted": false,
    "execution_millis": 5,
    "execution_start": 1621414258916,
    "source_hash": "917bd436",
    "tags": []
   },
   "outputs": [],
   "source": [
    "X_=df_train_1.drop('target',axis=1)\n",
    "y_=df_train_1.target\n",
    "X_test_=df_test_1.drop('target',axis=1)\n",
    "y_test_=df_test_1.target"
   ]
  },
  {
   "cell_type": "markdown",
   "id": "cb285e71",
   "metadata": {
    "cell_id": "00033-7cac29db-3436-4297-88eb-77d5b0a5b039",
    "deepnote_cell_type": "text-cell-h1",
    "tags": []
   },
   "source": [
    "# train data "
   ]
  },
  {
   "cell_type": "code",
   "execution_count": null,
   "id": "11792314",
   "metadata": {
    "ExecuteTime": {
     "end_time": "2021-05-19T15:28:47.389670Z",
     "start_time": "2021-05-19T15:28:25.923922Z"
    },
    "cell_id": "00034-ee0da9f9-3225-4109-baf7-3d8082760483",
    "deepnote_cell_type": "code",
    "deepnote_to_be_reexecuted": false,
    "execution_millis": 34209,
    "execution_start": 1621414428155,
    "source_hash": "28cdafb0",
    "tags": []
   },
   "outputs": [],
   "source": [
    "x_train_, x_val_, y_train_, y_val_ = train_test_split(X_, y_,test_size=0.4,stratify = y_,random_state=10 )\n",
    "result_new = pd.DataFrame({'Model': [], 'Accuracy': [], 'Bal Acc.': [],'Time': []})\n",
    "for model_name, model in classifier_models.items():\n",
    "    start_time_ = time.time()\n",
    "    model.fit(x_train_, y_train_)\n",
    "    total_time_= time.time() - start_time_\n",
    "    valid_pred_new = model.predict(x_val_)\n",
    "    result_new = result_new.append({\"Model\":    model_name,\n",
    "                              \"Accuracy\": accuracy_score(y_val_, valid_pred_new)*100,\n",
    "                              \"Bal Acc.\": balanced_accuracy_score(y_val_, valid_pred_new)*100,\n",
    "                              \"Time\":     total_time_},\n",
    "                              ignore_index=True)\n",
    "result_new_ord = result_new.sort_values(by=['Accuracy'], ascending=False, ignore_index=True)\n",
    "result_new_ord.index += 1 \n",
    "result_new_ord.style.bar(subset=['Accuracy', 'Bal Acc.'], vmin=0, vmax=100, color='#5fba7d')"
   ]
  },
  {
   "cell_type": "markdown",
   "id": "11a880a3",
   "metadata": {
    "ExecuteTime": {
     "end_time": "2021-05-19T13:05:39.089930Z",
     "start_time": "2021-05-19T13:05:39.082455Z"
    }
   },
   "source": [
    "#  The highest accuracy model selected  manual tuning "
   ]
  },
  {
   "cell_type": "code",
   "execution_count": null,
   "id": "b9d9e072",
   "metadata": {
    "ExecuteTime": {
     "end_time": "2021-05-19T15:28:53.182026Z",
     "start_time": "2021-05-19T15:28:53.172619Z"
    }
   },
   "outputs": [],
   "source": [
    "\n",
    "best_=LGBMClassifier(boosting_type='gbdt', num_leaves=60, max_depth=5, learning_rate=0.069,\n",
    "                          n_estimators=300, subsample_for_bin=200000, objective=None, class_weight=None,\n",
    "                          min_split_gain=0.0, min_child_weight=0.001, min_child_samples=20, subsample=1.0, \n",
    "                          subsample_freq=0, colsample_bytree=1.0, reg_alpha=0.0, reg_lambda=0.0, \n",
    "                          random_state=None, n_jobs=- 1, silent=True, importance_type='split')\n",
    "model_=Pipeline([('preprocess',preprocessor),('classification',best_)])"
   ]
  },
  {
   "cell_type": "code",
   "execution_count": null,
   "id": "95d0d3e5",
   "metadata": {
    "ExecuteTime": {
     "end_time": "2021-05-19T15:29:01.006431Z",
     "start_time": "2021-05-19T15:28:57.072813Z"
    }
   },
   "outputs": [],
   "source": [
    "model_.fit(X_,y_)\n",
    "pred_test_1=model_.predict(X_test_)"
   ]
  },
  {
   "cell_type": "code",
   "execution_count": null,
   "id": "9b2223c1",
   "metadata": {
    "ExecuteTime": {
     "end_time": "2021-05-19T15:29:02.826288Z",
     "start_time": "2021-05-19T15:29:02.815111Z"
    }
   },
   "outputs": [],
   "source": [
    "accuracy_score(y_test_, pred_test_1)*100,"
   ]
  },
  {
   "cell_type": "code",
   "execution_count": null,
   "id": "e8c199a7",
   "metadata": {
    "ExecuteTime": {
     "end_time": "2021-05-19T15:29:08.065420Z",
     "start_time": "2021-05-19T15:29:08.014758Z"
    }
   },
   "outputs": [],
   "source": [
    "print(classification_report(y_test_, pred_test_1))\n",
    "print()\n",
    "print(confusion_matrix(y_test_, pred_test_1))"
   ]
  },
  {
   "cell_type": "markdown",
   "id": "c1bbee38",
   "metadata": {
    "cell_id": "00037-e70c6258-4570-472e-8bf4-63f3ff95d82a",
    "deepnote_cell_type": "markdown",
    "tags": []
   },
   "source": [
    "# Optuna find best parameter for selected model"
   ]
  },
  {
   "cell_type": "code",
   "execution_count": null,
   "id": "4aac4aab",
   "metadata": {
    "ExecuteTime": {
     "end_time": "2021-05-19T15:29:16.184618Z",
     "start_time": "2021-05-19T15:29:15.735551Z"
    },
    "cell_id": "00037-7a05efdd-b501-4d42-befd-a080b34f4d43",
    "deepnote_cell_type": "code",
    "tags": []
   },
   "outputs": [],
   "source": [
    "from sklearn.calibration import CalibratedClassifierCV\n",
    "import optuna"
   ]
  },
  {
   "cell_type": "code",
   "execution_count": null,
   "id": "e139f4da",
   "metadata": {
    "ExecuteTime": {
     "end_time": "2021-05-19T15:12:25.964505Z",
     "start_time": "2021-05-19T15:12:25.960939Z"
    },
    "cell_id": "00039-2b834df7-891b-498b-ab27-bda93dcfbaba",
    "deepnote_cell_type": "code",
    "tags": []
   },
   "outputs": [],
   "source": [
    "oth=Pipeline([('preprocess',preprocessor),('classification',GaussianNB())])"
   ]
  },
  {
   "cell_type": "code",
   "execution_count": null,
   "id": "cc25b971",
   "metadata": {
    "ExecuteTime": {
     "end_time": "2021-05-19T15:13:18.930865Z",
     "start_time": "2021-05-19T15:12:42.525872Z"
    },
    "cell_id": "00039-d6a8eb4b-d580-445d-9240-d2166c9bd4c8",
    "deepnote_cell_type": "code",
    "tags": []
   },
   "outputs": [],
   "source": [
    "import optuna\n",
    "\n",
    "def objective(trial):\n",
    "\n",
    "    boosting_type = trial.suggest_categorical(\"boosting_type\", [\"gbdt\", \"rf\"])\n",
    "    max_depth = trial.suggest_int('max_depth', 1, 32)\n",
    "    n_estimators = trial.suggest_int(\"n_estimators\", 100,500)\n",
    "    learning_rate=trial.suggest_float(\"learning_rate\", 0.001,0.1)\n",
    "    min_data_in_leaf= trial.suggest_int(\"min_data_in_leaf\", 10,500)\n",
    "    \n",
    "    lg_lgbm = LGBMClassifier( boosting_type=boosting_type, max_depth=max_depth, \n",
    "            n_estimators=n_estimators,learning_rate=learning_rate,min_data_in_leaf=min_data_in_leaf\n",
    "        )\n",
    "\n",
    "    score = cross_val_score(lg_lgbm, X_,y_, n_jobs=-1, cv=3)\n",
    "    accuracy = score.mean()\n",
    "    return accuracy\n",
    "\n",
    "study = optuna.create_study(direction=\"maximize\")\n",
    "study.optimize(objective, n_trials=100)\n",
    "\n",
    "trial = study.best_trial\n",
    "print('Accuracy: {}'.format(trial.value))\n",
    "print(\"Best hyperparameters: {}\".format(trial.params))\n"
   ]
  },
  {
   "cell_type": "markdown",
   "id": "f3d12fbf",
   "metadata": {},
   "source": [
    "# With optuna best parameter"
   ]
  },
  {
   "cell_type": "markdown",
   "id": "ee9d06b3",
   "metadata": {},
   "source": [
    " the best accuracy  **91.18993135011442**  in max_depth= 5, n_estimators= 300, num_leaves=70,min_data_in_leaf=60,learning_rate= 0.069"
   ]
  },
  {
   "cell_type": "code",
   "execution_count": null,
   "id": "d4198190",
   "metadata": {
    "ExecuteTime": {
     "end_time": "2021-05-19T15:29:20.073472Z",
     "start_time": "2021-05-19T15:29:20.069498Z"
    }
   },
   "outputs": [],
   "source": [
    "\n",
    "lgb_af_=LGBMClassifier( max_depth= 5\n",
    ", n_estimators= 300, num_leaves=70,min_data_in_leaf=60,learning_rate= 0.069)\n",
    "model_end=Pipeline([('preprocess',preprocessor),('classification',lgb_af_)])"
   ]
  },
  {
   "cell_type": "code",
   "execution_count": null,
   "id": "edf5e85e",
   "metadata": {
    "ExecuteTime": {
     "end_time": "2021-05-19T15:29:25.722308Z",
     "start_time": "2021-05-19T15:29:21.871212Z"
    }
   },
   "outputs": [],
   "source": [
    "model_end.fit(X_,y_)\n",
    "pred_test_end=model_end.predict(X_test_)"
   ]
  },
  {
   "cell_type": "code",
   "execution_count": null,
   "id": "477c7401",
   "metadata": {
    "ExecuteTime": {
     "end_time": "2021-05-19T15:29:27.936960Z",
     "start_time": "2021-05-19T15:29:27.897622Z"
    }
   },
   "outputs": [],
   "source": [
    "print(f\"Accuracy {accuracy_score(y_test_, pred_test_end)*100}\")\n",
    "print(classification_report(y_test_, pred_test_end))\n",
    "print()\n",
    "print(confusion_matrix(y_test_, pred_test_end))"
   ]
  },
  {
   "cell_type": "markdown",
   "id": "8cd59e17",
   "metadata": {
    "created_in_deepnote_cell": true,
    "deepnote_cell_type": "markdown",
    "tags": []
   },
   "source": [
    "<a style='text-decoration:none;line-height:16px;display:flex;color:#5B5B62;padding:10px;justify-content:end;' href='https://deepnote.com?utm_source=created-in-deepnote-cell&projectId=3e7089f3-11a5-48ad-89c4-39a166311a14' target=\"_blank\">\n",
    "<img alt='Created in deepnote.com' style='display:inline;max-height:16px;margin:0px;margin-right:7.5px;' src='data:image/svg+xml;base64,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' > </img>\n",
    "Created in <span style='font-weight:600;margin-left:4px;'>Deepnote</span></a>"
   ]
  }
 ],
 "metadata": {
  "deepnote": {},
  "deepnote_execution_queue": [
   {
    "cellId": "00036-f8044fff-4d29-45bd-8ff8-21846e0256f1",
    "msgId": "a0eefad6-7bbd-4603-8fed-2940de8884ea",
    "sessionId": "a4c44e80-405a-43fc-968f-79577dc2c4bf"
   }
  ],
  "deepnote_notebook_id": "4d03dad0-0d4b-4262-80a0-cfac3bff1f59",
  "hide_input": false,
  "kernelspec": {
   "display_name": "Python 3",
   "language": "python",
   "name": "python3"
  },
  "language_info": {
   "codemirror_mode": {
    "name": "ipython",
    "version": 3
   },
   "file_extension": ".py",
   "mimetype": "text/x-python",
   "name": "python",
   "nbconvert_exporter": "python",
   "pygments_lexer": "ipython3",
   "version": "3.8.2"
  },
  "toc": {
   "base_numbering": 1,
   "nav_menu": {},
   "number_sections": true,
   "sideBar": true,
   "skip_h1_title": false,
   "title_cell": "Table of Contents",
   "title_sidebar": "Contents",
   "toc_cell": false,
   "toc_position": {},
   "toc_section_display": true,
   "toc_window_display": false
  },
  "varInspector": {
   "cols": {
    "lenName": 16,
    "lenType": 16,
    "lenVar": 40
   },
   "kernels_config": {
    "python": {
     "delete_cmd_postfix": "",
     "delete_cmd_prefix": "del ",
     "library": "var_list.py",
     "varRefreshCmd": "print(var_dic_list())"
    },
    "r": {
     "delete_cmd_postfix": ") ",
     "delete_cmd_prefix": "rm(",
     "library": "var_list.r",
     "varRefreshCmd": "cat(var_dic_list()) "
    }
   },
   "types_to_exclude": [
    "module",
    "function",
    "builtin_function_or_method",
    "instance",
    "_Feature"
   ],
   "window_display": false
  }
 },
 "nbformat": 4,
 "nbformat_minor": 5
}
