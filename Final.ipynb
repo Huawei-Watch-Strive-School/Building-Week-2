{
 "cells": [
  {
   "cell_type": "code",
   "execution_count": 2,
   "id": "1c774f0f",
   "metadata": {
    "ExecuteTime": {
     "end_time": "2021-05-19T11:35:30.186443Z",
     "start_time": "2021-05-19T11:35:30.177170Z"
    },
    "cell_id": "00000-8c7c8fca-1c70-4587-91f3-3db57bfd28d0",
    "deepnote_cell_type": "code",
    "deepnote_to_be_reexecuted": false,
    "execution_millis": 5,
    "execution_start": 1621413648486,
    "source_hash": "570c8184"
   },
   "outputs": [
    {
     "name": "stdout",
     "output_type": "stream",
     "text": [
      "Pandas   1.2.4\n",
      "Sklearn  0.24.2\n"
     ]
    }
   ],
   "source": [
    "import time\n",
    "from IPython.display import clear_output\n",
    "import numpy    as np\n",
    "import pandas   as pd\n",
    "from sklearn.decomposition import PCA\n",
    "from sklearn.metrics import classification_report,confusion_matrix\n",
    "from sklearn.ensemble import RandomForestClassifier,GradientBoostingClassifier\n",
    "from sklearn.pipeline import Pipeline ,make_pipeline\n",
    "from sklearn import impute\n",
    "from sklearn import compose\n",
    "from sklearn.model_selection import train_test_split,cross_val_score\n",
    "from sklearn.metrics import accuracy_score, balanced_accuracy_score, plot_confusion_matrix,roc_auc_score\n",
    "from sklearn import set_config\n",
    "import warnings\n",
    "warnings.filterwarnings('ignore')\n",
    "from sklearn.preprocessing import MinMaxScaler,Normalizer,PowerTransformer,QuantileTransformer, RobustScaler,StandardScaler,LabelEncoder, OneHotEncoder,OrdinalEncoder\n",
    "from sklearn.tree          import DecisionTreeClassifier\n",
    "from sklearn.linear_model  import LogisticRegression    \n",
    "from xgboost               import XGBClassifier\n",
    "from lightgbm              import LGBMClassifier\n",
    "from sklearn.neighbors import KNeighborsClassifier\n",
    "from sklearn.naive_bayes import GaussianNB\n",
    "import sklearn\n",
    "set_config(display='diagram') # Useful for display the pipeline\n",
    "print(\"Pandas  \", pd.__version__)\n",
    "print(\"Sklearn \", sklearn.__version__) # Try to use 0.24\n",
    "\n"
   ]
  },
  {
   "cell_type": "code",
   "execution_count": 4,
   "id": "341b1505",
   "metadata": {
    "ExecuteTime": {
     "end_time": "2021-05-19T11:36:19.359289Z",
     "start_time": "2021-05-19T11:36:19.293403Z"
    },
    "cell_id": "00001-06e6221d-0730-4e01-9045-bce276c93090",
    "deepnote_cell_type": "code",
    "deepnote_to_be_reexecuted": false,
    "execution_millis": 165,
    "execution_start": 1621413555476,
    "source_hash": "31454d99"
   },
   "outputs": [
    {
     "data": {
      "text/html": [
       "<div>\n",
       "<style scoped>\n",
       "    .dataframe tbody tr th:only-of-type {\n",
       "        vertical-align: middle;\n",
       "    }\n",
       "\n",
       "    .dataframe tbody tr th {\n",
       "        vertical-align: top;\n",
       "    }\n",
       "\n",
       "    .dataframe thead th {\n",
       "        text-align: right;\n",
       "    }\n",
       "</style>\n",
       "<table border=\"1\" class=\"dataframe\">\n",
       "  <thead>\n",
       "    <tr style=\"text-align: right;\">\n",
       "      <th></th>\n",
       "      <th>id</th>\n",
       "      <th>user</th>\n",
       "      <th>android_sensor_gyroscope_mean</th>\n",
       "      <th>android_sensor_accelerometer_std</th>\n",
       "      <th>android_sensor_gyroscope_std</th>\n",
       "      <th>android_sensor_gyroscope_uncalibrated_mean</th>\n",
       "      <th>android_sensor_accelerometer_max</th>\n",
       "      <th>android_sensor_linear_acceleration_mean</th>\n",
       "      <th>speed_mean</th>\n",
       "      <th>android_sensor_rotation_vector_mean</th>\n",
       "      <th>android_sensor_rotation_vector_max</th>\n",
       "      <th>android_sensor_accelerometer_min</th>\n",
       "      <th>android_sensor_magnetic_field_uncalibrated_min</th>\n",
       "      <th>sound_min</th>\n",
       "      <th>target</th>\n",
       "      <th>acc_gyro</th>\n",
       "      <th>Lin_speed</th>\n",
       "    </tr>\n",
       "  </thead>\n",
       "  <tbody>\n",
       "    <tr>\n",
       "      <th>0</th>\n",
       "      <td>16170</td>\n",
       "      <td>Luca</td>\n",
       "      <td>0.001651</td>\n",
       "      <td>0.014626</td>\n",
       "      <td>0.000737</td>\n",
       "      <td>0.016221</td>\n",
       "      <td>9.849411</td>\n",
       "      <td>0.020978</td>\n",
       "      <td>0.180379</td>\n",
       "      <td>0.050413</td>\n",
       "      <td>0.056351</td>\n",
       "      <td>9.758895</td>\n",
       "      <td>51.199707</td>\n",
       "      <td>NaN</td>\n",
       "      <td>Still</td>\n",
       "      <td>0.000083</td>\n",
       "      <td>0.003784</td>\n",
       "    </tr>\n",
       "    <tr>\n",
       "      <th>1</th>\n",
       "      <td>15871</td>\n",
       "      <td>Luca</td>\n",
       "      <td>0.036326</td>\n",
       "      <td>1.775944</td>\n",
       "      <td>0.020290</td>\n",
       "      <td>0.039023</td>\n",
       "      <td>17.146631</td>\n",
       "      <td>0.879220</td>\n",
       "      <td>14.679876</td>\n",
       "      <td>0.999981</td>\n",
       "      <td>0.999999</td>\n",
       "      <td>7.707437</td>\n",
       "      <td>82.409890</td>\n",
       "      <td>89.065143</td>\n",
       "      <td>Car</td>\n",
       "      <td>0.036325</td>\n",
       "      <td>12.906844</td>\n",
       "    </tr>\n",
       "    <tr>\n",
       "      <th>2</th>\n",
       "      <td>16811</td>\n",
       "      <td>Luca</td>\n",
       "      <td>0.001525</td>\n",
       "      <td>0.011199</td>\n",
       "      <td>0.000713</td>\n",
       "      <td>0.016302</td>\n",
       "      <td>9.849262</td>\n",
       "      <td>0.034110</td>\n",
       "      <td>0.180379</td>\n",
       "      <td>0.610456</td>\n",
       "      <td>0.610456</td>\n",
       "      <td>9.804817</td>\n",
       "      <td>55.501802</td>\n",
       "      <td>NaN</td>\n",
       "      <td>Still</td>\n",
       "      <td>0.000931</td>\n",
       "      <td>0.006153</td>\n",
       "    </tr>\n",
       "    <tr>\n",
       "      <th>3</th>\n",
       "      <td>15831</td>\n",
       "      <td>Luca</td>\n",
       "      <td>0.036440</td>\n",
       "      <td>0.862553</td>\n",
       "      <td>0.010553</td>\n",
       "      <td>0.050759</td>\n",
       "      <td>12.304298</td>\n",
       "      <td>1.488361</td>\n",
       "      <td>14.679876</td>\n",
       "      <td>0.998112</td>\n",
       "      <td>0.998112</td>\n",
       "      <td>7.659674</td>\n",
       "      <td>95.664309</td>\n",
       "      <td>87.470377</td>\n",
       "      <td>Car</td>\n",
       "      <td>0.036372</td>\n",
       "      <td>21.848949</td>\n",
       "    </tr>\n",
       "    <tr>\n",
       "      <th>4</th>\n",
       "      <td>876</td>\n",
       "      <td>andrea</td>\n",
       "      <td>0.183202</td>\n",
       "      <td>0.504117</td>\n",
       "      <td>0.098819</td>\n",
       "      <td>0.265652</td>\n",
       "      <td>10.891645</td>\n",
       "      <td>1.658308</td>\n",
       "      <td>14.679876</td>\n",
       "      <td>0.322242</td>\n",
       "      <td>0.378193</td>\n",
       "      <td>8.965621</td>\n",
       "      <td>156.795909</td>\n",
       "      <td>89.770732</td>\n",
       "      <td>Car</td>\n",
       "      <td>0.059035</td>\n",
       "      <td>24.343749</td>\n",
       "    </tr>\n",
       "  </tbody>\n",
       "</table>\n",
       "</div>"
      ],
      "text/plain": [
       "      id    user  android_sensor_gyroscope_mean  \\\n",
       "0  16170    Luca                       0.001651   \n",
       "1  15871    Luca                       0.036326   \n",
       "2  16811    Luca                       0.001525   \n",
       "3  15831    Luca                       0.036440   \n",
       "4    876  andrea                       0.183202   \n",
       "\n",
       "   android_sensor_accelerometer_std  android_sensor_gyroscope_std  \\\n",
       "0                          0.014626                      0.000737   \n",
       "1                          1.775944                      0.020290   \n",
       "2                          0.011199                      0.000713   \n",
       "3                          0.862553                      0.010553   \n",
       "4                          0.504117                      0.098819   \n",
       "\n",
       "   android_sensor_gyroscope_uncalibrated_mean  \\\n",
       "0                                    0.016221   \n",
       "1                                    0.039023   \n",
       "2                                    0.016302   \n",
       "3                                    0.050759   \n",
       "4                                    0.265652   \n",
       "\n",
       "   android_sensor_accelerometer_max  android_sensor_linear_acceleration_mean  \\\n",
       "0                          9.849411                                 0.020978   \n",
       "1                         17.146631                                 0.879220   \n",
       "2                          9.849262                                 0.034110   \n",
       "3                         12.304298                                 1.488361   \n",
       "4                         10.891645                                 1.658308   \n",
       "\n",
       "   speed_mean  android_sensor_rotation_vector_mean  \\\n",
       "0    0.180379                             0.050413   \n",
       "1   14.679876                             0.999981   \n",
       "2    0.180379                             0.610456   \n",
       "3   14.679876                             0.998112   \n",
       "4   14.679876                             0.322242   \n",
       "\n",
       "   android_sensor_rotation_vector_max  android_sensor_accelerometer_min  \\\n",
       "0                            0.056351                          9.758895   \n",
       "1                            0.999999                          7.707437   \n",
       "2                            0.610456                          9.804817   \n",
       "3                            0.998112                          7.659674   \n",
       "4                            0.378193                          8.965621   \n",
       "\n",
       "   android_sensor_magnetic_field_uncalibrated_min  sound_min target  acc_gyro  \\\n",
       "0                                       51.199707        NaN  Still  0.000083   \n",
       "1                                       82.409890  89.065143    Car  0.036325   \n",
       "2                                       55.501802        NaN  Still  0.000931   \n",
       "3                                       95.664309  87.470377    Car  0.036372   \n",
       "4                                      156.795909  89.770732    Car  0.059035   \n",
       "\n",
       "   Lin_speed  \n",
       "0   0.003784  \n",
       "1  12.906844  \n",
       "2   0.006153  \n",
       "3  21.848949  \n",
       "4  24.343749  "
      ]
     },
     "execution_count": 4,
     "metadata": {},
     "output_type": "execute_result"
    }
   ],
   "source": [
    "data = pd.read_csv('./data/feature_eng.csv')\n",
    "data.head(5)"
   ]
  },
  {
   "cell_type": "markdown",
   "id": "be77317a",
   "metadata": {
    "cell_id": "00003-e5ab99da-fe36-44fe-9a13-cc69469addea",
    "deepnote_cell_type": "markdown"
   },
   "source": [
    "# Create test data "
   ]
  },
  {
   "cell_type": "code",
   "execution_count": 5,
   "id": "6807fe9b",
   "metadata": {
    "ExecuteTime": {
     "end_time": "2021-05-19T11:36:23.534923Z",
     "start_time": "2021-05-19T11:36:23.487045Z"
    },
    "cell_id": "00004-673f68c6-55b2-41ac-90a1-90f8c4713ada",
    "deepnote_cell_type": "code",
    "deepnote_to_be_reexecuted": false,
    "execution_millis": 116,
    "execution_start": 1621413569436,
    "source_hash": "d1d762a3"
   },
   "outputs": [
    {
     "data": {
      "text/html": [
       "<div>\n",
       "<style scoped>\n",
       "    .dataframe tbody tr th:only-of-type {\n",
       "        vertical-align: middle;\n",
       "    }\n",
       "\n",
       "    .dataframe tbody tr th {\n",
       "        vertical-align: top;\n",
       "    }\n",
       "\n",
       "    .dataframe thead th {\n",
       "        text-align: right;\n",
       "    }\n",
       "</style>\n",
       "<table border=\"1\" class=\"dataframe\">\n",
       "  <thead>\n",
       "    <tr style=\"text-align: right;\">\n",
       "      <th></th>\n",
       "      <th>id</th>\n",
       "      <th>user</th>\n",
       "      <th>android_sensor_gyroscope_mean</th>\n",
       "      <th>android_sensor_accelerometer_std</th>\n",
       "      <th>android_sensor_gyroscope_std</th>\n",
       "      <th>android_sensor_gyroscope_uncalibrated_mean</th>\n",
       "      <th>android_sensor_accelerometer_max</th>\n",
       "      <th>android_sensor_linear_acceleration_mean</th>\n",
       "      <th>speed_mean</th>\n",
       "      <th>android_sensor_rotation_vector_mean</th>\n",
       "      <th>android_sensor_rotation_vector_max</th>\n",
       "      <th>android_sensor_accelerometer_min</th>\n",
       "      <th>android_sensor_magnetic_field_uncalibrated_min</th>\n",
       "      <th>sound_min</th>\n",
       "      <th>target</th>\n",
       "      <th>acc_gyro</th>\n",
       "      <th>Lin_speed</th>\n",
       "    </tr>\n",
       "  </thead>\n",
       "  <tbody>\n",
       "    <tr>\n",
       "      <th>33</th>\n",
       "      <td>19919</td>\n",
       "      <td>Pierpaolo</td>\n",
       "      <td>0.615399</td>\n",
       "      <td>1.283204</td>\n",
       "      <td>0.655962</td>\n",
       "      <td>0.778458</td>\n",
       "      <td>14.028126</td>\n",
       "      <td>1.721314</td>\n",
       "      <td>1.120206</td>\n",
       "      <td>0.955202</td>\n",
       "      <td>0.955202</td>\n",
       "      <td>9.764513</td>\n",
       "      <td>36.378866</td>\n",
       "      <td>77.064227</td>\n",
       "      <td>Walking</td>\n",
       "      <td>0.587830</td>\n",
       "      <td>1.928226</td>\n",
       "    </tr>\n",
       "    <tr>\n",
       "      <th>54</th>\n",
       "      <td>19494</td>\n",
       "      <td>Pierpaolo</td>\n",
       "      <td>0.447802</td>\n",
       "      <td>0.361961</td>\n",
       "      <td>0.116564</td>\n",
       "      <td>0.334574</td>\n",
       "      <td>9.963264</td>\n",
       "      <td>0.958200</td>\n",
       "      <td>5.368554</td>\n",
       "      <td>0.983561</td>\n",
       "      <td>0.989576</td>\n",
       "      <td>8.712177</td>\n",
       "      <td>77.496043</td>\n",
       "      <td>74.178611</td>\n",
       "      <td>Bus</td>\n",
       "      <td>0.440440</td>\n",
       "      <td>5.144149</td>\n",
       "    </tr>\n",
       "    <tr>\n",
       "      <th>102</th>\n",
       "      <td>20104</td>\n",
       "      <td>Pierpaolo</td>\n",
       "      <td>0.069503</td>\n",
       "      <td>0.070605</td>\n",
       "      <td>0.048140</td>\n",
       "      <td>0.078626</td>\n",
       "      <td>9.187340</td>\n",
       "      <td>0.868719</td>\n",
       "      <td>1.120206</td>\n",
       "      <td>0.787570</td>\n",
       "      <td>0.802811</td>\n",
       "      <td>9.012243</td>\n",
       "      <td>91.951478</td>\n",
       "      <td>6.020600</td>\n",
       "      <td>Walking</td>\n",
       "      <td>0.054738</td>\n",
       "      <td>0.973144</td>\n",
       "    </tr>\n",
       "    <tr>\n",
       "      <th>121</th>\n",
       "      <td>19436</td>\n",
       "      <td>Pierpaolo</td>\n",
       "      <td>0.045041</td>\n",
       "      <td>0.451773</td>\n",
       "      <td>0.027367</td>\n",
       "      <td>0.038644</td>\n",
       "      <td>9.563967</td>\n",
       "      <td>0.958079</td>\n",
       "      <td>5.368554</td>\n",
       "      <td>0.993876</td>\n",
       "      <td>0.996117</td>\n",
       "      <td>8.246220</td>\n",
       "      <td>70.436446</td>\n",
       "      <td>72.559600</td>\n",
       "      <td>Bus</td>\n",
       "      <td>0.044765</td>\n",
       "      <td>5.143499</td>\n",
       "    </tr>\n",
       "    <tr>\n",
       "      <th>172</th>\n",
       "      <td>20245</td>\n",
       "      <td>Pierpaolo</td>\n",
       "      <td>1.734294</td>\n",
       "      <td>4.272022</td>\n",
       "      <td>1.400249</td>\n",
       "      <td>1.331566</td>\n",
       "      <td>17.743662</td>\n",
       "      <td>8.823918</td>\n",
       "      <td>1.120206</td>\n",
       "      <td>0.985658</td>\n",
       "      <td>0.993053</td>\n",
       "      <td>3.332163</td>\n",
       "      <td>90.118737</td>\n",
       "      <td>73.702289</td>\n",
       "      <td>Walking</td>\n",
       "      <td>1.709421</td>\n",
       "      <td>9.884602</td>\n",
       "    </tr>\n",
       "  </tbody>\n",
       "</table>\n",
       "</div>"
      ],
      "text/plain": [
       "        id       user  android_sensor_gyroscope_mean  \\\n",
       "33   19919  Pierpaolo                       0.615399   \n",
       "54   19494  Pierpaolo                       0.447802   \n",
       "102  20104  Pierpaolo                       0.069503   \n",
       "121  19436  Pierpaolo                       0.045041   \n",
       "172  20245  Pierpaolo                       1.734294   \n",
       "\n",
       "     android_sensor_accelerometer_std  android_sensor_gyroscope_std  \\\n",
       "33                           1.283204                      0.655962   \n",
       "54                           0.361961                      0.116564   \n",
       "102                          0.070605                      0.048140   \n",
       "121                          0.451773                      0.027367   \n",
       "172                          4.272022                      1.400249   \n",
       "\n",
       "     android_sensor_gyroscope_uncalibrated_mean  \\\n",
       "33                                     0.778458   \n",
       "54                                     0.334574   \n",
       "102                                    0.078626   \n",
       "121                                    0.038644   \n",
       "172                                    1.331566   \n",
       "\n",
       "     android_sensor_accelerometer_max  \\\n",
       "33                          14.028126   \n",
       "54                           9.963264   \n",
       "102                          9.187340   \n",
       "121                          9.563967   \n",
       "172                         17.743662   \n",
       "\n",
       "     android_sensor_linear_acceleration_mean  speed_mean  \\\n",
       "33                                  1.721314    1.120206   \n",
       "54                                  0.958200    5.368554   \n",
       "102                                 0.868719    1.120206   \n",
       "121                                 0.958079    5.368554   \n",
       "172                                 8.823918    1.120206   \n",
       "\n",
       "     android_sensor_rotation_vector_mean  android_sensor_rotation_vector_max  \\\n",
       "33                              0.955202                            0.955202   \n",
       "54                              0.983561                            0.989576   \n",
       "102                             0.787570                            0.802811   \n",
       "121                             0.993876                            0.996117   \n",
       "172                             0.985658                            0.993053   \n",
       "\n",
       "     android_sensor_accelerometer_min  \\\n",
       "33                           9.764513   \n",
       "54                           8.712177   \n",
       "102                          9.012243   \n",
       "121                          8.246220   \n",
       "172                          3.332163   \n",
       "\n",
       "     android_sensor_magnetic_field_uncalibrated_min  sound_min   target  \\\n",
       "33                                        36.378866  77.064227  Walking   \n",
       "54                                        77.496043  74.178611      Bus   \n",
       "102                                       91.951478   6.020600  Walking   \n",
       "121                                       70.436446  72.559600      Bus   \n",
       "172                                       90.118737  73.702289  Walking   \n",
       "\n",
       "     acc_gyro  Lin_speed  \n",
       "33   0.587830   1.928226  \n",
       "54   0.440440   5.144149  \n",
       "102  0.054738   0.973144  \n",
       "121  0.044765   5.143499  \n",
       "172  1.709421   9.884602  "
      ]
     },
     "execution_count": 5,
     "metadata": {},
     "output_type": "execute_result"
    }
   ],
   "source": [
    "# create test data from some user \n",
    "df=data.copy()\n",
    "user1=df[df['user']=='Pierpaolo']\n",
    "user2=df[df['user']=='IvanHeibi']\n",
    "user3=df[df['user']=='AndreaCarpineti']\n",
    "user4=df[df['user']=='Elena']\n",
    "users=[user1,user2,user3,user4]\n",
    "df_test=pd.concat(users)\n",
    "df_test.head(5)"
   ]
  },
  {
   "cell_type": "markdown",
   "id": "9a63a2a7",
   "metadata": {
    "cell_id": "00005-47202497-afc2-4356-824f-3bbd975e589c",
    "deepnote_cell_type": "markdown"
   },
   "source": [
    "## Subtract test data from data "
   ]
  },
  {
   "cell_type": "code",
   "execution_count": 6,
   "id": "7adda55e",
   "metadata": {
    "ExecuteTime": {
     "end_time": "2021-05-19T11:36:25.482202Z",
     "start_time": "2021-05-19T11:36:25.399284Z"
    },
    "cell_id": "00006-82751ddb-183c-49b1-9019-2563ba949634",
    "deepnote_cell_type": "code",
    "deepnote_to_be_reexecuted": false,
    "execution_millis": 244,
    "execution_start": 1621413573168,
    "source_hash": "23a3e567"
   },
   "outputs": [
    {
     "data": {
      "text/html": [
       "<div>\n",
       "<style scoped>\n",
       "    .dataframe tbody tr th:only-of-type {\n",
       "        vertical-align: middle;\n",
       "    }\n",
       "\n",
       "    .dataframe tbody tr th {\n",
       "        vertical-align: top;\n",
       "    }\n",
       "\n",
       "    .dataframe thead th {\n",
       "        text-align: right;\n",
       "    }\n",
       "</style>\n",
       "<table border=\"1\" class=\"dataframe\">\n",
       "  <thead>\n",
       "    <tr style=\"text-align: right;\">\n",
       "      <th></th>\n",
       "      <th>id</th>\n",
       "      <th>user</th>\n",
       "      <th>android_sensor_gyroscope_mean</th>\n",
       "      <th>android_sensor_accelerometer_std</th>\n",
       "      <th>android_sensor_gyroscope_std</th>\n",
       "      <th>android_sensor_gyroscope_uncalibrated_mean</th>\n",
       "      <th>android_sensor_accelerometer_max</th>\n",
       "      <th>android_sensor_linear_acceleration_mean</th>\n",
       "      <th>speed_mean</th>\n",
       "      <th>android_sensor_rotation_vector_mean</th>\n",
       "      <th>android_sensor_rotation_vector_max</th>\n",
       "      <th>android_sensor_accelerometer_min</th>\n",
       "      <th>android_sensor_magnetic_field_uncalibrated_min</th>\n",
       "      <th>sound_min</th>\n",
       "      <th>target</th>\n",
       "      <th>acc_gyro</th>\n",
       "      <th>Lin_speed</th>\n",
       "    </tr>\n",
       "  </thead>\n",
       "  <tbody>\n",
       "    <tr>\n",
       "      <th>0</th>\n",
       "      <td>16170</td>\n",
       "      <td>Luca</td>\n",
       "      <td>0.001651</td>\n",
       "      <td>0.014626</td>\n",
       "      <td>0.000737</td>\n",
       "      <td>0.016221</td>\n",
       "      <td>9.849411</td>\n",
       "      <td>0.020978</td>\n",
       "      <td>0.180379</td>\n",
       "      <td>0.050413</td>\n",
       "      <td>0.056351</td>\n",
       "      <td>9.758895</td>\n",
       "      <td>51.199707</td>\n",
       "      <td>NaN</td>\n",
       "      <td>Still</td>\n",
       "      <td>0.000083</td>\n",
       "      <td>0.003784</td>\n",
       "    </tr>\n",
       "    <tr>\n",
       "      <th>1</th>\n",
       "      <td>15871</td>\n",
       "      <td>Luca</td>\n",
       "      <td>0.036326</td>\n",
       "      <td>1.775944</td>\n",
       "      <td>0.020290</td>\n",
       "      <td>0.039023</td>\n",
       "      <td>17.146631</td>\n",
       "      <td>0.879220</td>\n",
       "      <td>14.679876</td>\n",
       "      <td>0.999981</td>\n",
       "      <td>0.999999</td>\n",
       "      <td>7.707437</td>\n",
       "      <td>82.409890</td>\n",
       "      <td>89.065143</td>\n",
       "      <td>Car</td>\n",
       "      <td>0.036325</td>\n",
       "      <td>12.906844</td>\n",
       "    </tr>\n",
       "    <tr>\n",
       "      <th>2</th>\n",
       "      <td>16811</td>\n",
       "      <td>Luca</td>\n",
       "      <td>0.001525</td>\n",
       "      <td>0.011199</td>\n",
       "      <td>0.000713</td>\n",
       "      <td>0.016302</td>\n",
       "      <td>9.849262</td>\n",
       "      <td>0.034110</td>\n",
       "      <td>0.180379</td>\n",
       "      <td>0.610456</td>\n",
       "      <td>0.610456</td>\n",
       "      <td>9.804817</td>\n",
       "      <td>55.501802</td>\n",
       "      <td>NaN</td>\n",
       "      <td>Still</td>\n",
       "      <td>0.000931</td>\n",
       "      <td>0.006153</td>\n",
       "    </tr>\n",
       "    <tr>\n",
       "      <th>3</th>\n",
       "      <td>15831</td>\n",
       "      <td>Luca</td>\n",
       "      <td>0.036440</td>\n",
       "      <td>0.862553</td>\n",
       "      <td>0.010553</td>\n",
       "      <td>0.050759</td>\n",
       "      <td>12.304298</td>\n",
       "      <td>1.488361</td>\n",
       "      <td>14.679876</td>\n",
       "      <td>0.998112</td>\n",
       "      <td>0.998112</td>\n",
       "      <td>7.659674</td>\n",
       "      <td>95.664309</td>\n",
       "      <td>87.470377</td>\n",
       "      <td>Car</td>\n",
       "      <td>0.036372</td>\n",
       "      <td>21.848949</td>\n",
       "    </tr>\n",
       "    <tr>\n",
       "      <th>4</th>\n",
       "      <td>876</td>\n",
       "      <td>andrea</td>\n",
       "      <td>0.183202</td>\n",
       "      <td>0.504117</td>\n",
       "      <td>0.098819</td>\n",
       "      <td>0.265652</td>\n",
       "      <td>10.891645</td>\n",
       "      <td>1.658308</td>\n",
       "      <td>14.679876</td>\n",
       "      <td>0.322242</td>\n",
       "      <td>0.378193</td>\n",
       "      <td>8.965621</td>\n",
       "      <td>156.795909</td>\n",
       "      <td>89.770732</td>\n",
       "      <td>Car</td>\n",
       "      <td>0.059035</td>\n",
       "      <td>24.343749</td>\n",
       "    </tr>\n",
       "  </tbody>\n",
       "</table>\n",
       "</div>"
      ],
      "text/plain": [
       "      id    user  android_sensor_gyroscope_mean  \\\n",
       "0  16170    Luca                       0.001651   \n",
       "1  15871    Luca                       0.036326   \n",
       "2  16811    Luca                       0.001525   \n",
       "3  15831    Luca                       0.036440   \n",
       "4    876  andrea                       0.183202   \n",
       "\n",
       "   android_sensor_accelerometer_std  android_sensor_gyroscope_std  \\\n",
       "0                          0.014626                      0.000737   \n",
       "1                          1.775944                      0.020290   \n",
       "2                          0.011199                      0.000713   \n",
       "3                          0.862553                      0.010553   \n",
       "4                          0.504117                      0.098819   \n",
       "\n",
       "   android_sensor_gyroscope_uncalibrated_mean  \\\n",
       "0                                    0.016221   \n",
       "1                                    0.039023   \n",
       "2                                    0.016302   \n",
       "3                                    0.050759   \n",
       "4                                    0.265652   \n",
       "\n",
       "   android_sensor_accelerometer_max  android_sensor_linear_acceleration_mean  \\\n",
       "0                          9.849411                                 0.020978   \n",
       "1                         17.146631                                 0.879220   \n",
       "2                          9.849262                                 0.034110   \n",
       "3                         12.304298                                 1.488361   \n",
       "4                         10.891645                                 1.658308   \n",
       "\n",
       "   speed_mean  android_sensor_rotation_vector_mean  \\\n",
       "0    0.180379                             0.050413   \n",
       "1   14.679876                             0.999981   \n",
       "2    0.180379                             0.610456   \n",
       "3   14.679876                             0.998112   \n",
       "4   14.679876                             0.322242   \n",
       "\n",
       "   android_sensor_rotation_vector_max  android_sensor_accelerometer_min  \\\n",
       "0                            0.056351                          9.758895   \n",
       "1                            0.999999                          7.707437   \n",
       "2                            0.610456                          9.804817   \n",
       "3                            0.998112                          7.659674   \n",
       "4                            0.378193                          8.965621   \n",
       "\n",
       "   android_sensor_magnetic_field_uncalibrated_min  sound_min target  acc_gyro  \\\n",
       "0                                       51.199707        NaN  Still  0.000083   \n",
       "1                                       82.409890  89.065143    Car  0.036325   \n",
       "2                                       55.501802        NaN  Still  0.000931   \n",
       "3                                       95.664309  87.470377    Car  0.036372   \n",
       "4                                      156.795909  89.770732    Car  0.059035   \n",
       "\n",
       "   Lin_speed  \n",
       "0   0.003784  \n",
       "1  12.906844  \n",
       "2   0.006153  \n",
       "3  21.848949  \n",
       "4  24.343749  "
      ]
     },
     "execution_count": 6,
     "metadata": {},
     "output_type": "execute_result"
    }
   ],
   "source": [
    "df_train = df.merge(df_test, how='left', indicator=True)\n",
    "df_train = df_train[df_train['_merge'] == 'left_only']\n",
    "df_train=df_train.drop('_merge',axis=1)\n",
    "df_train.head(5)"
   ]
  },
  {
   "cell_type": "code",
   "execution_count": 7,
   "id": "fc4ea9ed",
   "metadata": {
    "ExecuteTime": {
     "end_time": "2021-05-19T11:36:26.932599Z",
     "start_time": "2021-05-19T11:36:26.928063Z"
    },
    "cell_id": "00009-0d70d803-3143-4480-9a4e-f2a94e1e970c",
    "deepnote_cell_type": "code",
    "deepnote_to_be_reexecuted": false,
    "execution_millis": 21,
    "execution_start": 1621413585036,
    "source_hash": "f72c817d"
   },
   "outputs": [
    {
     "name": "stdout",
     "output_type": "stream",
     "text": [
      "(4985, 17)\n",
      "(908, 17)\n"
     ]
    }
   ],
   "source": [
    "print(df_train.shape)\n",
    "print(df_test.shape)"
   ]
  },
  {
   "cell_type": "markdown",
   "id": "42bdd9f0",
   "metadata": {
    "cell_id": "00010-2e02d6fa-4fc3-4b99-9575-91242ed9448b",
    "deepnote_cell_type": "markdown"
   },
   "source": [
    "## drop id ,time, user columns"
   ]
  },
  {
   "cell_type": "code",
   "execution_count": 8,
   "id": "f28ccc06",
   "metadata": {
    "ExecuteTime": {
     "end_time": "2021-05-19T11:36:29.801059Z",
     "start_time": "2021-05-19T11:36:29.793730Z"
    },
    "cell_id": "00011-54861700-319b-4d36-932c-c220912069f7",
    "deepnote_cell_type": "code",
    "deepnote_to_be_reexecuted": false,
    "execution_millis": 0,
    "execution_start": 1621413588029,
    "source_hash": "17352a22"
   },
   "outputs": [],
   "source": [
    "unimp    = ['id','user']\n",
    "df_train = df_train.drop(unimp,axis=1)\n",
    "df_test  = df_test.drop(unimp,axis=1)"
   ]
  },
  {
   "cell_type": "code",
   "execution_count": 9,
   "id": "ed481694",
   "metadata": {
    "ExecuteTime": {
     "end_time": "2021-05-19T11:36:30.823697Z",
     "start_time": "2021-05-19T11:36:30.817380Z"
    },
    "cell_id": "00009-aa841b9d-ba02-4d48-af4d-6643e1832c79",
    "deepnote_cell_type": "code",
    "deepnote_to_be_reexecuted": false,
    "execution_millis": 3,
    "execution_start": 1621413604296,
    "source_hash": "f39bcc7b",
    "tags": []
   },
   "outputs": [],
   "source": [
    "df_train=df_train.drop('speed_mean',axis=1)\n",
    "df_test=df_test.drop('speed_mean',axis=1)"
   ]
  },
  {
   "cell_type": "code",
   "execution_count": 10,
   "id": "73de009c",
   "metadata": {
    "ExecuteTime": {
     "end_time": "2021-05-19T11:36:31.996312Z",
     "start_time": "2021-05-19T11:36:31.991798Z"
    },
    "cell_id": "00012-d0bf41ef-aa79-41f7-9c4d-e7c195432593",
    "deepnote_cell_type": "code",
    "deepnote_to_be_reexecuted": false,
    "execution_millis": 10,
    "execution_start": 1621413606677,
    "source_hash": "f72c817d"
   },
   "outputs": [
    {
     "name": "stdout",
     "output_type": "stream",
     "text": [
      "(4985, 14)\n",
      "(908, 14)\n"
     ]
    }
   ],
   "source": [
    "print(df_train.shape)\n",
    "print(df_test.shape)"
   ]
  },
  {
   "cell_type": "code",
   "execution_count": 11,
   "id": "00daf36c",
   "metadata": {
    "ExecuteTime": {
     "end_time": "2021-05-19T11:36:33.227174Z",
     "start_time": "2021-05-19T11:36:33.220233Z"
    },
    "cell_id": "00014-739c687f-8a17-4109-b725-39f731c97ffc",
    "deepnote_cell_type": "code",
    "deepnote_to_be_reexecuted": false,
    "execution_millis": 9,
    "execution_start": 1621413612666,
    "source_hash": "87e2a165"
   },
   "outputs": [],
   "source": [
    "X=df_train.drop('target',axis=1)\n",
    "y=df_train.target\n",
    "X_test=df_test.drop('target',axis=1)\n",
    "y_test=df_test.target"
   ]
  },
  {
   "cell_type": "markdown",
   "id": "8f307a4c",
   "metadata": {
    "cell_id": "00015-bf364553-c6b4-45e8-abcd-b7ac3e001671",
    "deepnote_cell_type": "markdown"
   },
   "source": [
    "# Pipeline "
   ]
  },
  {
   "cell_type": "code",
   "execution_count": 12,
   "id": "ecc45311",
   "metadata": {
    "ExecuteTime": {
     "end_time": "2021-05-19T11:36:34.417149Z",
     "start_time": "2021-05-19T11:36:34.410653Z"
    },
    "cell_id": "00016-e5f545c7-96b3-4abe-bb52-f939b9258cd9",
    "deepnote_cell_type": "code",
    "deepnote_to_be_reexecuted": false,
    "execution_millis": 1,
    "execution_start": 1621413615690,
    "source_hash": "c46b4aee"
   },
   "outputs": [],
   "source": [
    "num_attribs=df_train.drop('target',axis=1).columns.to_list()\n",
    "num_pip=Pipeline([('imputer',impute.SimpleImputer(strategy='median')),\n",
    "                  ('scalar',MinMaxScaler()),\n",
    "               ])  # ('PCA',PCA(n_components=12))\n",
    "preprocessor=compose.ColumnTransformer([\n",
    "    ('num',num_pip,num_attribs)\n",
    "])"
   ]
  },
  {
   "cell_type": "code",
   "execution_count": 13,
   "id": "c513fadf",
   "metadata": {
    "ExecuteTime": {
     "end_time": "2021-05-19T11:36:35.616218Z",
     "start_time": "2021-05-19T11:36:35.561674Z"
    },
    "cell_id": "00017-92beb382-8adc-4eec-8c37-8da7367daf18",
    "deepnote_cell_type": "code",
    "deepnote_to_be_reexecuted": false,
    "execution_millis": 100,
    "execution_start": 1621417526522,
    "source_hash": "5ce2e3a"
   },
   "outputs": [
    {
     "data": {
      "text/html": [
       "<style>#sk-aff860d6-b908-4274-8b30-aa985a888e46 {color: black;background-color: white;}#sk-aff860d6-b908-4274-8b30-aa985a888e46 pre{padding: 0;}#sk-aff860d6-b908-4274-8b30-aa985a888e46 div.sk-toggleable {background-color: white;}#sk-aff860d6-b908-4274-8b30-aa985a888e46 label.sk-toggleable__label {cursor: pointer;display: block;width: 100%;margin-bottom: 0;padding: 0.2em 0.3em;box-sizing: border-box;text-align: center;}#sk-aff860d6-b908-4274-8b30-aa985a888e46 div.sk-toggleable__content {max-height: 0;max-width: 0;overflow: hidden;text-align: left;background-color: #f0f8ff;}#sk-aff860d6-b908-4274-8b30-aa985a888e46 div.sk-toggleable__content pre {margin: 0.2em;color: black;border-radius: 0.25em;background-color: #f0f8ff;}#sk-aff860d6-b908-4274-8b30-aa985a888e46 input.sk-toggleable__control:checked~div.sk-toggleable__content {max-height: 200px;max-width: 100%;overflow: auto;}#sk-aff860d6-b908-4274-8b30-aa985a888e46 div.sk-estimator input.sk-toggleable__control:checked~label.sk-toggleable__label {background-color: #d4ebff;}#sk-aff860d6-b908-4274-8b30-aa985a888e46 div.sk-label input.sk-toggleable__control:checked~label.sk-toggleable__label {background-color: #d4ebff;}#sk-aff860d6-b908-4274-8b30-aa985a888e46 input.sk-hidden--visually {border: 0;clip: rect(1px 1px 1px 1px);clip: rect(1px, 1px, 1px, 1px);height: 1px;margin: -1px;overflow: hidden;padding: 0;position: absolute;width: 1px;}#sk-aff860d6-b908-4274-8b30-aa985a888e46 div.sk-estimator {font-family: monospace;background-color: #f0f8ff;margin: 0.25em 0.25em;border: 1px dotted black;border-radius: 0.25em;box-sizing: border-box;}#sk-aff860d6-b908-4274-8b30-aa985a888e46 div.sk-estimator:hover {background-color: #d4ebff;}#sk-aff860d6-b908-4274-8b30-aa985a888e46 div.sk-parallel-item::after {content: \"\";width: 100%;border-bottom: 1px solid gray;flex-grow: 1;}#sk-aff860d6-b908-4274-8b30-aa985a888e46 div.sk-label:hover label.sk-toggleable__label {background-color: #d4ebff;}#sk-aff860d6-b908-4274-8b30-aa985a888e46 div.sk-serial::before {content: \"\";position: absolute;border-left: 1px solid gray;box-sizing: border-box;top: 2em;bottom: 0;left: 50%;}#sk-aff860d6-b908-4274-8b30-aa985a888e46 div.sk-serial {display: flex;flex-direction: column;align-items: center;background-color: white;}#sk-aff860d6-b908-4274-8b30-aa985a888e46 div.sk-item {z-index: 1;}#sk-aff860d6-b908-4274-8b30-aa985a888e46 div.sk-parallel {display: flex;align-items: stretch;justify-content: center;background-color: white;}#sk-aff860d6-b908-4274-8b30-aa985a888e46 div.sk-parallel-item {display: flex;flex-direction: column;position: relative;background-color: white;}#sk-aff860d6-b908-4274-8b30-aa985a888e46 div.sk-parallel-item:first-child::after {align-self: flex-end;width: 50%;}#sk-aff860d6-b908-4274-8b30-aa985a888e46 div.sk-parallel-item:last-child::after {align-self: flex-start;width: 50%;}#sk-aff860d6-b908-4274-8b30-aa985a888e46 div.sk-parallel-item:only-child::after {width: 0;}#sk-aff860d6-b908-4274-8b30-aa985a888e46 div.sk-dashed-wrapped {border: 1px dashed gray;margin: 0.2em;box-sizing: border-box;padding-bottom: 0.1em;background-color: white;position: relative;}#sk-aff860d6-b908-4274-8b30-aa985a888e46 div.sk-label label {font-family: monospace;font-weight: bold;background-color: white;display: inline-block;line-height: 1.2em;}#sk-aff860d6-b908-4274-8b30-aa985a888e46 div.sk-label-container {position: relative;z-index: 2;text-align: center;}#sk-aff860d6-b908-4274-8b30-aa985a888e46 div.sk-container {display: inline-block;position: relative;}</style><div id=\"sk-aff860d6-b908-4274-8b30-aa985a888e46\" class\"sk-top-container\"><div class=\"sk-container\"><div class=\"sk-item sk-dashed-wrapped\"><div class=\"sk-label-container\"><div class=\"sk-label sk-toggleable\"><input class=\"sk-toggleable__control sk-hidden--visually\" id=\"a6f9c79c-96a0-425f-bb4f-517935a2313c\" type=\"checkbox\" ><label class=\"sk-toggleable__label\" for=\"a6f9c79c-96a0-425f-bb4f-517935a2313c\">Pipeline</label><div class=\"sk-toggleable__content\"><pre>Pipeline(steps=[('columntransformer',\n",
       "                 ColumnTransformer(transformers=[('num',\n",
       "                                                  Pipeline(steps=[('imputer',\n",
       "                                                                   SimpleImputer(strategy='median')),\n",
       "                                                                  ('scalar',\n",
       "                                                                   MinMaxScaler())]),\n",
       "                                                  ['android_sensor_gyroscope_mean',\n",
       "                                                   'android_sensor_accelerometer_std',\n",
       "                                                   'android_sensor_gyroscope_std',\n",
       "                                                   'android_sensor_gyroscope_uncalibrated_mean',\n",
       "                                                   'android_sensor_accelerometer_max',\n",
       "                                                   'android_sensor_linear_acceleration_mean',\n",
       "                                                   'android_sensor_rotation_vector_mean',\n",
       "                                                   'android_sensor_rotation_vector_max',\n",
       "                                                   'android_sensor_accelerometer_min',\n",
       "                                                   'android_sensor_magnetic_field_uncalibrated_min',\n",
       "                                                   'sound_min', 'acc_gyro',\n",
       "                                                   'Lin_speed'])])),\n",
       "                ('gradientboostingclassifier', GradientBoostingClassifier())])</pre></div></div></div><div class=\"sk-serial\"><div class=\"sk-item sk-dashed-wrapped\"><div class=\"sk-label-container\"><div class=\"sk-label sk-toggleable\"><input class=\"sk-toggleable__control sk-hidden--visually\" id=\"c280f535-b4e8-490e-b681-c41be3ff5ed3\" type=\"checkbox\" ><label class=\"sk-toggleable__label\" for=\"c280f535-b4e8-490e-b681-c41be3ff5ed3\">columntransformer: ColumnTransformer</label><div class=\"sk-toggleable__content\"><pre>ColumnTransformer(transformers=[('num',\n",
       "                                 Pipeline(steps=[('imputer',\n",
       "                                                  SimpleImputer(strategy='median')),\n",
       "                                                 ('scalar', MinMaxScaler())]),\n",
       "                                 ['android_sensor_gyroscope_mean',\n",
       "                                  'android_sensor_accelerometer_std',\n",
       "                                  'android_sensor_gyroscope_std',\n",
       "                                  'android_sensor_gyroscope_uncalibrated_mean',\n",
       "                                  'android_sensor_accelerometer_max',\n",
       "                                  'android_sensor_linear_acceleration_mean',\n",
       "                                  'android_sensor_rotation_vector_mean',\n",
       "                                  'android_sensor_rotation_vector_max',\n",
       "                                  'android_sensor_accelerometer_min',\n",
       "                                  'android_sensor_magnetic_field_uncalibrated_min',\n",
       "                                  'sound_min', 'acc_gyro', 'Lin_speed'])])</pre></div></div></div><div class=\"sk-parallel\"><div class=\"sk-parallel-item\"><div class=\"sk-item\"><div class=\"sk-label-container\"><div class=\"sk-label sk-toggleable\"><input class=\"sk-toggleable__control sk-hidden--visually\" id=\"a1cfdc21-234c-4b7e-9f80-ed21513e32b0\" type=\"checkbox\" ><label class=\"sk-toggleable__label\" for=\"a1cfdc21-234c-4b7e-9f80-ed21513e32b0\">num</label><div class=\"sk-toggleable__content\"><pre>['android_sensor_gyroscope_mean', 'android_sensor_accelerometer_std', 'android_sensor_gyroscope_std', 'android_sensor_gyroscope_uncalibrated_mean', 'android_sensor_accelerometer_max', 'android_sensor_linear_acceleration_mean', 'android_sensor_rotation_vector_mean', 'android_sensor_rotation_vector_max', 'android_sensor_accelerometer_min', 'android_sensor_magnetic_field_uncalibrated_min', 'sound_min', 'acc_gyro', 'Lin_speed']</pre></div></div></div><div class=\"sk-serial\"><div class=\"sk-item\"><div class=\"sk-serial\"><div class=\"sk-item\"><div class=\"sk-estimator sk-toggleable\"><input class=\"sk-toggleable__control sk-hidden--visually\" id=\"0c5034eb-caf6-430b-8c01-2d32e7615ace\" type=\"checkbox\" ><label class=\"sk-toggleable__label\" for=\"0c5034eb-caf6-430b-8c01-2d32e7615ace\">SimpleImputer</label><div class=\"sk-toggleable__content\"><pre>SimpleImputer(strategy='median')</pre></div></div></div><div class=\"sk-item\"><div class=\"sk-estimator sk-toggleable\"><input class=\"sk-toggleable__control sk-hidden--visually\" id=\"5b173272-42ed-49ad-8e34-d33bd9f48c6f\" type=\"checkbox\" ><label class=\"sk-toggleable__label\" for=\"5b173272-42ed-49ad-8e34-d33bd9f48c6f\">MinMaxScaler</label><div class=\"sk-toggleable__content\"><pre>MinMaxScaler()</pre></div></div></div></div></div></div></div></div></div></div><div class=\"sk-item\"><div class=\"sk-estimator sk-toggleable\"><input class=\"sk-toggleable__control sk-hidden--visually\" id=\"3ec8b7f1-c39b-42b2-a4f4-375487dbb86c\" type=\"checkbox\" ><label class=\"sk-toggleable__label\" for=\"3ec8b7f1-c39b-42b2-a4f4-375487dbb86c\">GradientBoostingClassifier</label><div class=\"sk-toggleable__content\"><pre>GradientBoostingClassifier()</pre></div></div></div></div></div></div></div>"
      ],
      "text/plain": [
       "Pipeline(steps=[('columntransformer',\n",
       "                 ColumnTransformer(transformers=[('num',\n",
       "                                                  Pipeline(steps=[('imputer',\n",
       "                                                                   SimpleImputer(strategy='median')),\n",
       "                                                                  ('scalar',\n",
       "                                                                   MinMaxScaler())]),\n",
       "                                                  ['android_sensor_gyroscope_mean',\n",
       "                                                   'android_sensor_accelerometer_std',\n",
       "                                                   'android_sensor_gyroscope_std',\n",
       "                                                   'android_sensor_gyroscope_uncalibrated_mean',\n",
       "                                                   'android_sensor_accelerometer_max',\n",
       "                                                   'android_sensor_linear_acceleration_mean',\n",
       "                                                   'android_sensor_rotation_vector_mean',\n",
       "                                                   'android_sensor_rotation_vector_max',\n",
       "                                                   'android_sensor_accelerometer_min',\n",
       "                                                   'android_sensor_magnetic_field_uncalibrated_min',\n",
       "                                                   'sound_min', 'acc_gyro',\n",
       "                                                   'Lin_speed'])])),\n",
       "                ('gradientboostingclassifier', GradientBoostingClassifier())])"
      ]
     },
     "execution_count": 13,
     "metadata": {},
     "output_type": "execute_result"
    }
   ],
   "source": [
    "# pipeline for model\n",
    "classifier_models = {\n",
    "\"DecisionTreeClassifier\": DecisionTreeClassifier(),\n",
    "'KNeighborsClassifier':KNeighborsClassifier(),\n",
    "'LogisticRegression':LogisticRegression(),\n",
    "\"RandomForestClassifier\":RandomForestClassifier(),\n",
    "\"GradientBoostingClassifier\":GradientBoostingClassifier(),\n",
    "\"XGBClassifier\":XGBClassifier(),\n",
    "\"LGBMClassifier\":LGBMClassifier(),\n",
    "'GaussianNB':GaussianNB(),\n",
    "\n",
    "}\n",
    "# make pipline with  preprocessing \n",
    "classifier_models = {name: make_pipeline(preprocessor, model) for name, model in classifier_models.items()}\n",
    "classifier_models[\"GradientBoostingClassifier\"]"
   ]
  },
  {
   "cell_type": "code",
   "execution_count": 14,
   "id": "cff2d247",
   "metadata": {
    "ExecuteTime": {
     "end_time": "2021-05-19T11:36:49.166427Z",
     "start_time": "2021-05-19T11:36:38.601071Z"
    },
    "cell_id": "00018-a223c62b-d005-4dca-9b28-e4a8facfdae7",
    "deepnote_cell_type": "code",
    "deepnote_to_be_reexecuted": false,
    "execution_millis": 44618,
    "execution_start": 1621413664253,
    "source_hash": "9af53d33"
   },
   "outputs": [
    {
     "name": "stdout",
     "output_type": "stream",
     "text": [
      "[15:36:46] WARNING: ../src/learner.cc:1095: Starting in XGBoost 1.3.0, the default evaluation metric used with the objective 'multi:softprob' was changed from 'merror' to 'mlogloss'. Explicitly set eval_metric if you'd like to restore the old behavior.\n"
     ]
    },
    {
     "data": {
      "text/html": [
       "<style  type=\"text/css\" >\n",
       "#T_f5c22_row0_col1,#T_f5c22_row0_col2{\n",
       "            width:  10em;\n",
       "             height:  80%;\n",
       "            background:  linear-gradient(90deg,#5fba7d 96.8%, transparent 96.8%);\n",
       "        }#T_f5c22_row1_col1,#T_f5c22_row1_col2{\n",
       "            width:  10em;\n",
       "             height:  80%;\n",
       "            background:  linear-gradient(90deg,#5fba7d 96.2%, transparent 96.2%);\n",
       "        }#T_f5c22_row2_col1{\n",
       "            width:  10em;\n",
       "             height:  80%;\n",
       "            background:  linear-gradient(90deg,#5fba7d 95.4%, transparent 95.4%);\n",
       "        }#T_f5c22_row2_col2{\n",
       "            width:  10em;\n",
       "             height:  80%;\n",
       "            background:  linear-gradient(90deg,#5fba7d 95.1%, transparent 95.1%);\n",
       "        }#T_f5c22_row3_col1{\n",
       "            width:  10em;\n",
       "             height:  80%;\n",
       "            background:  linear-gradient(90deg,#5fba7d 95.0%, transparent 95.0%);\n",
       "        }#T_f5c22_row3_col2{\n",
       "            width:  10em;\n",
       "             height:  80%;\n",
       "            background:  linear-gradient(90deg,#5fba7d 94.9%, transparent 94.9%);\n",
       "        }#T_f5c22_row4_col1{\n",
       "            width:  10em;\n",
       "             height:  80%;\n",
       "            background:  linear-gradient(90deg,#5fba7d 94.3%, transparent 94.3%);\n",
       "        }#T_f5c22_row4_col2{\n",
       "            width:  10em;\n",
       "             height:  80%;\n",
       "            background:  linear-gradient(90deg,#5fba7d 94.5%, transparent 94.5%);\n",
       "        }#T_f5c22_row5_col1{\n",
       "            width:  10em;\n",
       "             height:  80%;\n",
       "            background:  linear-gradient(90deg,#5fba7d 87.1%, transparent 87.1%);\n",
       "        }#T_f5c22_row5_col2{\n",
       "            width:  10em;\n",
       "             height:  80%;\n",
       "            background:  linear-gradient(90deg,#5fba7d 87.5%, transparent 87.5%);\n",
       "        }#T_f5c22_row6_col1{\n",
       "            width:  10em;\n",
       "             height:  80%;\n",
       "            background:  linear-gradient(90deg,#5fba7d 68.7%, transparent 68.7%);\n",
       "        }#T_f5c22_row6_col2{\n",
       "            width:  10em;\n",
       "             height:  80%;\n",
       "            background:  linear-gradient(90deg,#5fba7d 70.0%, transparent 70.0%);\n",
       "        }#T_f5c22_row7_col1{\n",
       "            width:  10em;\n",
       "             height:  80%;\n",
       "            background:  linear-gradient(90deg,#5fba7d 63.3%, transparent 63.3%);\n",
       "        }#T_f5c22_row7_col2{\n",
       "            width:  10em;\n",
       "             height:  80%;\n",
       "            background:  linear-gradient(90deg,#5fba7d 65.0%, transparent 65.0%);\n",
       "        }</style><table id=\"T_f5c22_\" ><thead>    <tr>        <th class=\"blank level0\" ></th>        <th class=\"col_heading level0 col0\" >Model</th>        <th class=\"col_heading level0 col1\" >Accuracy</th>        <th class=\"col_heading level0 col2\" >Bal Acc.</th>        <th class=\"col_heading level0 col3\" >Time</th>    </tr></thead><tbody>\n",
       "                <tr>\n",
       "                        <th id=\"T_f5c22_level0_row0\" class=\"row_heading level0 row0\" >1</th>\n",
       "                        <td id=\"T_f5c22_row0_col0\" class=\"data row0 col0\" >LGBMClassifier</td>\n",
       "                        <td id=\"T_f5c22_row0_col1\" class=\"data row0 col1\" >96.840522</td>\n",
       "                        <td id=\"T_f5c22_row0_col2\" class=\"data row0 col2\" >96.798966</td>\n",
       "                        <td id=\"T_f5c22_row0_col3\" class=\"data row0 col3\" >0.965629</td>\n",
       "            </tr>\n",
       "            <tr>\n",
       "                        <th id=\"T_f5c22_level0_row1\" class=\"row_heading level0 row1\" >2</th>\n",
       "                        <td id=\"T_f5c22_row1_col0\" class=\"data row1 col0\" >XGBClassifier</td>\n",
       "                        <td id=\"T_f5c22_row1_col1\" class=\"data row1 col1\" >96.188566</td>\n",
       "                        <td id=\"T_f5c22_row1_col2\" class=\"data row1 col2\" >96.225113</td>\n",
       "                        <td id=\"T_f5c22_row1_col3\" class=\"data row1 col3\" >1.793139</td>\n",
       "            </tr>\n",
       "            <tr>\n",
       "                        <th id=\"T_f5c22_level0_row2\" class=\"row_heading level0 row2\" >3</th>\n",
       "                        <td id=\"T_f5c22_row2_col0\" class=\"data row2 col0\" >GradientBoostingClassifier</td>\n",
       "                        <td id=\"T_f5c22_row2_col1\" class=\"data row2 col1\" >95.436309</td>\n",
       "                        <td id=\"T_f5c22_row2_col2\" class=\"data row2 col2\" >95.096696</td>\n",
       "                        <td id=\"T_f5c22_row2_col3\" class=\"data row2 col3\" >6.033553</td>\n",
       "            </tr>\n",
       "            <tr>\n",
       "                        <th id=\"T_f5c22_level0_row3\" class=\"row_heading level0 row3\" >4</th>\n",
       "                        <td id=\"T_f5c22_row3_col0\" class=\"data row3 col0\" >RandomForestClassifier</td>\n",
       "                        <td id=\"T_f5c22_row3_col1\" class=\"data row3 col1\" >95.035105</td>\n",
       "                        <td id=\"T_f5c22_row3_col2\" class=\"data row3 col2\" >94.929522</td>\n",
       "                        <td id=\"T_f5c22_row3_col3\" class=\"data row3 col3\" >0.650320</td>\n",
       "            </tr>\n",
       "            <tr>\n",
       "                        <th id=\"T_f5c22_level0_row4\" class=\"row_heading level0 row4\" >5</th>\n",
       "                        <td id=\"T_f5c22_row4_col0\" class=\"data row4 col0\" >DecisionTreeClassifier</td>\n",
       "                        <td id=\"T_f5c22_row4_col1\" class=\"data row4 col1\" >94.282849</td>\n",
       "                        <td id=\"T_f5c22_row4_col2\" class=\"data row4 col2\" >94.541477</td>\n",
       "                        <td id=\"T_f5c22_row4_col3\" class=\"data row4 col3\" >0.042946</td>\n",
       "            </tr>\n",
       "            <tr>\n",
       "                        <th id=\"T_f5c22_level0_row5\" class=\"row_heading level0 row5\" >6</th>\n",
       "                        <td id=\"T_f5c22_row5_col0\" class=\"data row5 col0\" >KNeighborsClassifier</td>\n",
       "                        <td id=\"T_f5c22_row5_col1\" class=\"data row5 col1\" >87.061184</td>\n",
       "                        <td id=\"T_f5c22_row5_col2\" class=\"data row5 col2\" >87.473061</td>\n",
       "                        <td id=\"T_f5c22_row5_col3\" class=\"data row5 col3\" >0.018347</td>\n",
       "            </tr>\n",
       "            <tr>\n",
       "                        <th id=\"T_f5c22_level0_row6\" class=\"row_heading level0 row6\" >7</th>\n",
       "                        <td id=\"T_f5c22_row6_col0\" class=\"data row6 col0\" >LogisticRegression</td>\n",
       "                        <td id=\"T_f5c22_row6_col1\" class=\"data row6 col1\" >68.706118</td>\n",
       "                        <td id=\"T_f5c22_row6_col2\" class=\"data row6 col2\" >70.018030</td>\n",
       "                        <td id=\"T_f5c22_row6_col3\" class=\"data row6 col3\" >0.305470</td>\n",
       "            </tr>\n",
       "            <tr>\n",
       "                        <th id=\"T_f5c22_level0_row7\" class=\"row_heading level0 row7\" >8</th>\n",
       "                        <td id=\"T_f5c22_row7_col0\" class=\"data row7 col0\" >GaussianNB</td>\n",
       "                        <td id=\"T_f5c22_row7_col1\" class=\"data row7 col1\" >63.289870</td>\n",
       "                        <td id=\"T_f5c22_row7_col2\" class=\"data row7 col2\" >65.032958</td>\n",
       "                        <td id=\"T_f5c22_row7_col3\" class=\"data row7 col3\" >0.014976</td>\n",
       "            </tr>\n",
       "    </tbody></table>"
      ],
      "text/plain": [
       "<pandas.io.formats.style.Styler at 0x7f2463dac640>"
      ]
     },
     "execution_count": 14,
     "metadata": {},
     "output_type": "execute_result"
    }
   ],
   "source": [
    "\n",
    "\n",
    "x_train, x_val, y_train, y_val = train_test_split(X, y,test_size=0.4,stratify = y,random_state=10 )\n",
    "results = pd.DataFrame({'Model': [], 'Accuracy': [], 'Bal Acc.': [],'Time': []})\n",
    "for model_name, model in classifier_models.items():\n",
    "    start_time = time.time()\n",
    "    model.fit(x_train, y_train)\n",
    "    total_time = time.time() - start_time\n",
    "    valid_pred = model.predict(x_val)\n",
    "    results = results.append({\"Model\":    model_name,\n",
    "                              \"Accuracy\": accuracy_score(y_val, valid_pred)*100,\n",
    "                              \"Bal Acc.\": balanced_accuracy_score(y_val, valid_pred)*100,\n",
    "                    \n",
    "                              \"Time\":     total_time},\n",
    "                              ignore_index=True)\n",
    "results_ord = results.sort_values(by=['Accuracy'], ascending=False, ignore_index=True)\n",
    "results_ord.index += 1 \n",
    "results_ord.style.bar(subset=['Accuracy', 'Bal Acc.'], vmin=0, vmax=100, color='#5fba7d')\n"
   ]
  },
  {
   "cell_type": "markdown",
   "id": "ff0e00aa",
   "metadata": {
    "cell_id": "00019-f27d4a7c-807c-40af-a2ec-086ee9c96b8a",
    "deepnote_cell_type": "markdown"
   },
   "source": [
    "# Best model for test data  "
   ]
  },
  {
   "cell_type": "code",
   "execution_count": 15,
   "id": "c6fea1f7",
   "metadata": {
    "ExecuteTime": {
     "end_time": "2021-05-19T11:36:51.939775Z",
     "start_time": "2021-05-19T11:36:51.936584Z"
    },
    "cell_id": "00021-ba896ca9-57d8-4edc-a023-b613bfc8d3dc",
    "deepnote_cell_type": "code",
    "deepnote_to_be_reexecuted": false,
    "execution_millis": 1,
    "execution_start": 1621413753530,
    "source_hash": "55e59264"
   },
   "outputs": [],
   "source": [
    "best_model=LGBMClassifier()\n",
    "name='LGBMClassifier'"
   ]
  },
  {
   "cell_type": "code",
   "execution_count": 16,
   "id": "9ff4a360",
   "metadata": {
    "ExecuteTime": {
     "end_time": "2021-05-19T11:36:53.525286Z",
     "start_time": "2021-05-19T11:36:53.518732Z"
    },
    "cell_id": "00022-3bd4bf33-bea3-41f7-be97-07d996302aa5",
    "deepnote_cell_type": "code",
    "deepnote_to_be_reexecuted": false,
    "execution_millis": 0,
    "execution_start": 1621413735197,
    "source_hash": "82d06185"
   },
   "outputs": [],
   "source": [
    "clf=Pipeline([('preprocess',preprocessor),('classification',best_model)])"
   ]
  },
  {
   "cell_type": "code",
   "execution_count": 17,
   "id": "f46aa7cd",
   "metadata": {
    "ExecuteTime": {
     "end_time": "2021-05-19T11:37:10.339564Z",
     "start_time": "2021-05-19T11:36:55.146074Z"
    },
    "cell_id": "00023-55ac1e59-0241-48dc-97aa-db64bdc9bc4b",
    "deepnote_cell_type": "code",
    "deepnote_to_be_reexecuted": false,
    "execution_millis": 177600,
    "execution_start": 1621417545124,
    "source_hash": "419bd42d"
   },
   "outputs": [
    {
     "name": "stdout",
     "output_type": "stream",
     "text": [
      "[15:37:06] WARNING: ../src/learner.cc:1095: Starting in XGBoost 1.3.0, the default evaluation metric used with the objective 'multi:softprob' was changed from 'merror' to 'mlogloss'. Explicitly set eval_metric if you'd like to restore the old behavior.\n"
     ]
    },
    {
     "data": {
      "text/html": [
       "<style  type=\"text/css\" >\n",
       "#T_678c7_row0_col1{\n",
       "            width:  10em;\n",
       "             height:  80%;\n",
       "            background:  linear-gradient(90deg,#5fba7d 83.8%, transparent 83.8%);\n",
       "        }#T_678c7_row0_col2{\n",
       "            width:  10em;\n",
       "             height:  80%;\n",
       "            background:  linear-gradient(90deg,#5fba7d 93.1%, transparent 93.1%);\n",
       "        }#T_678c7_row1_col1{\n",
       "            width:  10em;\n",
       "             height:  80%;\n",
       "            background:  linear-gradient(90deg,#5fba7d 76.2%, transparent 76.2%);\n",
       "        }#T_678c7_row1_col2{\n",
       "            width:  10em;\n",
       "             height:  80%;\n",
       "            background:  linear-gradient(90deg,#5fba7d 83.2%, transparent 83.2%);\n",
       "        }#T_678c7_row2_col1{\n",
       "            width:  10em;\n",
       "             height:  80%;\n",
       "            background:  linear-gradient(90deg,#5fba7d 72.9%, transparent 72.9%);\n",
       "        }#T_678c7_row2_col2{\n",
       "            width:  10em;\n",
       "             height:  80%;\n",
       "            background:  linear-gradient(90deg,#5fba7d 81.4%, transparent 81.4%);\n",
       "        }#T_678c7_row3_col1{\n",
       "            width:  10em;\n",
       "             height:  80%;\n",
       "            background:  linear-gradient(90deg,#5fba7d 70.0%, transparent 70.0%);\n",
       "        }#T_678c7_row3_col2{\n",
       "            width:  10em;\n",
       "             height:  80%;\n",
       "            background:  linear-gradient(90deg,#5fba7d 78.7%, transparent 78.7%);\n",
       "        }#T_678c7_row4_col1{\n",
       "            width:  10em;\n",
       "             height:  80%;\n",
       "            background:  linear-gradient(90deg,#5fba7d 63.8%, transparent 63.8%);\n",
       "        }#T_678c7_row4_col2{\n",
       "            width:  10em;\n",
       "             height:  80%;\n",
       "            background:  linear-gradient(90deg,#5fba7d 63.5%, transparent 63.5%);\n",
       "        }#T_678c7_row5_col1{\n",
       "            width:  10em;\n",
       "             height:  80%;\n",
       "            background:  linear-gradient(90deg,#5fba7d 62.1%, transparent 62.1%);\n",
       "        }#T_678c7_row5_col2{\n",
       "            width:  10em;\n",
       "             height:  80%;\n",
       "            background:  linear-gradient(90deg,#5fba7d 70.8%, transparent 70.8%);\n",
       "        }#T_678c7_row6_col1{\n",
       "            width:  10em;\n",
       "             height:  80%;\n",
       "            background:  linear-gradient(90deg,#5fba7d 47.1%, transparent 47.1%);\n",
       "        }#T_678c7_row6_col2{\n",
       "            width:  10em;\n",
       "             height:  80%;\n",
       "            background:  linear-gradient(90deg,#5fba7d 53.9%, transparent 53.9%);\n",
       "        }#T_678c7_row7_col1{\n",
       "            width:  10em;\n",
       "             height:  80%;\n",
       "            background:  linear-gradient(90deg,#5fba7d 41.5%, transparent 41.5%);\n",
       "        }#T_678c7_row7_col2{\n",
       "            width:  10em;\n",
       "             height:  80%;\n",
       "            background:  linear-gradient(90deg,#5fba7d 42.6%, transparent 42.6%);\n",
       "        }</style><table id=\"T_678c7_\" ><thead>    <tr>        <th class=\"blank level0\" ></th>        <th class=\"col_heading level0 col0\" >Model</th>        <th class=\"col_heading level0 col1\" >Accuracy</th>        <th class=\"col_heading level0 col2\" >Bal Acc.</th>        <th class=\"col_heading level0 col3\" >Time</th>    </tr></thead><tbody>\n",
       "                <tr>\n",
       "                        <th id=\"T_678c7_level0_row0\" class=\"row_heading level0 row0\" >1</th>\n",
       "                        <td id=\"T_678c7_row0_col0\" class=\"data row0 col0\" >LGBMClassifier</td>\n",
       "                        <td id=\"T_678c7_row0_col1\" class=\"data row0 col1\" >83.810573</td>\n",
       "                        <td id=\"T_678c7_row0_col2\" class=\"data row0 col2\" >93.101400</td>\n",
       "                        <td id=\"T_678c7_row0_col3\" class=\"data row0 col3\" >0.792724</td>\n",
       "            </tr>\n",
       "            <tr>\n",
       "                        <th id=\"T_678c7_level0_row1\" class=\"row_heading level0 row1\" >2</th>\n",
       "                        <td id=\"T_678c7_row1_col0\" class=\"data row1 col0\" >XGBClassifier</td>\n",
       "                        <td id=\"T_678c7_row1_col1\" class=\"data row1 col1\" >76.211454</td>\n",
       "                        <td id=\"T_678c7_row1_col2\" class=\"data row1 col2\" >83.216316</td>\n",
       "                        <td id=\"T_678c7_row1_col3\" class=\"data row1 col3\" >2.823000</td>\n",
       "            </tr>\n",
       "            <tr>\n",
       "                        <th id=\"T_678c7_level0_row2\" class=\"row_heading level0 row2\" >3</th>\n",
       "                        <td id=\"T_678c7_row2_col0\" class=\"data row2 col0\" >GradientBoostingClassifier</td>\n",
       "                        <td id=\"T_678c7_row2_col1\" class=\"data row2 col1\" >72.907489</td>\n",
       "                        <td id=\"T_678c7_row2_col2\" class=\"data row2 col2\" >81.412635</td>\n",
       "                        <td id=\"T_678c7_row2_col3\" class=\"data row2 col3\" >9.623890</td>\n",
       "            </tr>\n",
       "            <tr>\n",
       "                        <th id=\"T_678c7_level0_row3\" class=\"row_heading level0 row3\" >4</th>\n",
       "                        <td id=\"T_678c7_row3_col0\" class=\"data row3 col0\" >DecisionTreeClassifier</td>\n",
       "                        <td id=\"T_678c7_row3_col1\" class=\"data row3 col1\" >70.044053</td>\n",
       "                        <td id=\"T_678c7_row3_col2\" class=\"data row3 col2\" >78.656704</td>\n",
       "                        <td id=\"T_678c7_row3_col3\" class=\"data row3 col3\" >0.081050</td>\n",
       "            </tr>\n",
       "            <tr>\n",
       "                        <th id=\"T_678c7_level0_row4\" class=\"row_heading level0 row4\" >5</th>\n",
       "                        <td id=\"T_678c7_row4_col0\" class=\"data row4 col0\" >GaussianNB</td>\n",
       "                        <td id=\"T_678c7_row4_col1\" class=\"data row4 col1\" >63.766520</td>\n",
       "                        <td id=\"T_678c7_row4_col2\" class=\"data row4 col2\" >63.456833</td>\n",
       "                        <td id=\"T_678c7_row4_col3\" class=\"data row4 col3\" >0.018884</td>\n",
       "            </tr>\n",
       "            <tr>\n",
       "                        <th id=\"T_678c7_level0_row5\" class=\"row_heading level0 row5\" >6</th>\n",
       "                        <td id=\"T_678c7_row5_col0\" class=\"data row5 col0\" >RandomForestClassifier</td>\n",
       "                        <td id=\"T_678c7_row5_col1\" class=\"data row5 col1\" >62.114537</td>\n",
       "                        <td id=\"T_678c7_row5_col2\" class=\"data row5 col2\" >70.770068</td>\n",
       "                        <td id=\"T_678c7_row5_col3\" class=\"data row5 col3\" >1.140600</td>\n",
       "            </tr>\n",
       "            <tr>\n",
       "                        <th id=\"T_678c7_level0_row6\" class=\"row_heading level0 row6\" >7</th>\n",
       "                        <td id=\"T_678c7_row6_col0\" class=\"data row6 col0\" >LogisticRegression</td>\n",
       "                        <td id=\"T_678c7_row6_col1\" class=\"data row6 col1\" >47.136564</td>\n",
       "                        <td id=\"T_678c7_row6_col2\" class=\"data row6 col2\" >53.901479</td>\n",
       "                        <td id=\"T_678c7_row6_col3\" class=\"data row6 col3\" >0.441061</td>\n",
       "            </tr>\n",
       "            <tr>\n",
       "                        <th id=\"T_678c7_level0_row7\" class=\"row_heading level0 row7\" >8</th>\n",
       "                        <td id=\"T_678c7_row7_col0\" class=\"data row7 col0\" >KNeighborsClassifier</td>\n",
       "                        <td id=\"T_678c7_row7_col1\" class=\"data row7 col1\" >41.519824</td>\n",
       "                        <td id=\"T_678c7_row7_col2\" class=\"data row7 col2\" >42.627665</td>\n",
       "                        <td id=\"T_678c7_row7_col3\" class=\"data row7 col3\" >0.027158</td>\n",
       "            </tr>\n",
       "    </tbody></table>"
      ],
      "text/plain": [
       "<pandas.io.formats.style.Styler at 0x7f2463d93190>"
      ]
     },
     "execution_count": 17,
     "metadata": {},
     "output_type": "execute_result"
    }
   ],
   "source": [
    "\n",
    "test_result = pd.DataFrame({'Model': [], 'Accuracy': [], 'Bal Acc.': [],'Time': []})\n",
    "for model_name, model in classifier_models.items():\n",
    "    start_time = time.time()\n",
    "    model.fit(X, y)\n",
    "    total_time = time.time() - start_time\n",
    "    pred = model.predict(X_test)\n",
    "    test_result = test_result.append({\"Model\":    model_name,\n",
    "                              \"Accuracy\": accuracy_score(y_test, pred)*100,\n",
    "                              \"Bal Acc.\": balanced_accuracy_score(y_test, pred)*100,\n",
    "                              \"Time\":     total_time},\n",
    "                              ignore_index=True)\n",
    "test_result_ord = test_result.sort_values(by=['Accuracy'], ascending=False, ignore_index=True)\n",
    "test_result_ord.index += 1 \n",
    "test_result_ord.style.bar(subset=['Accuracy', 'Bal Acc.'], vmin=0, vmax=100, color='#5fba7d')\n"
   ]
  },
  {
   "cell_type": "code",
   "execution_count": 18,
   "id": "5a40e494",
   "metadata": {
    "ExecuteTime": {
     "end_time": "2021-05-19T11:37:12.988261Z",
     "start_time": "2021-05-19T11:37:12.956243Z"
    },
    "cell_id": "00024-be510553-ffa9-4232-9c75-cc78fefd53ae",
    "deepnote_cell_type": "code",
    "deepnote_to_be_reexecuted": false,
    "execution_millis": 32,
    "execution_start": 1621411498507,
    "source_hash": "807607c0"
   },
   "outputs": [
    {
     "name": "stdout",
     "output_type": "stream",
     "text": [
      "              precision    recall  f1-score   support\n",
      "\n",
      "         Bus       0.48      0.36      0.41       164\n",
      "         Car       0.11      0.35      0.16        34\n",
      "       Still       0.50      0.96      0.66        76\n",
      "       Train       0.49      0.84      0.62        86\n",
      "     Walking       0.96      0.66      0.78       548\n",
      "\n",
      "    accuracy                           0.64       908\n",
      "   macro avg       0.51      0.63      0.53       908\n",
      "weighted avg       0.76      0.64      0.67       908\n",
      "\n",
      "\n",
      "[[ 59  36   1  52  16]\n",
      " [  5  12   0  17   0]\n",
      " [  1   0  73   1   1]\n",
      " [  0  14   0  72   0]\n",
      " [ 58  50  72   5 363]]\n"
     ]
    }
   ],
   "source": [
    "print(classification_report(y_test, pred))\n",
    "print()\n",
    "print(confusion_matrix(y_test, pred))"
   ]
  },
  {
   "cell_type": "markdown",
   "id": "703b919e",
   "metadata": {
    "cell_id": "00025-04dcb31f-2c66-4c89-956a-0e50837401d2",
    "deepnote_cell_type": "text-cell-h1",
    "tags": []
   },
   "source": [
    "# Drop car  category "
   ]
  },
  {
   "cell_type": "code",
   "execution_count": 19,
   "id": "67678327",
   "metadata": {
    "ExecuteTime": {
     "end_time": "2021-05-19T11:37:40.835823Z",
     "start_time": "2021-05-19T11:37:40.827351Z"
    },
    "cell_id": "00026-4e8ec8d9-73fe-4098-a104-b64f1b201dee",
    "deepnote_cell_type": "code",
    "deepnote_to_be_reexecuted": false,
    "execution_millis": 0,
    "execution_start": 1621414154518,
    "source_hash": "1307de0a",
    "tags": []
   },
   "outputs": [],
   "source": [
    "df_test_1   =df_test[df_test['target']!='Car']\n",
    "df_train_1  =df_train[df_train['target']!='Car']"
   ]
  },
  {
   "cell_type": "code",
   "execution_count": 21,
   "id": "6ccf49c5",
   "metadata": {
    "ExecuteTime": {
     "end_time": "2021-05-19T11:37:50.049528Z",
     "start_time": "2021-05-19T11:37:50.045596Z"
    },
    "cell_id": "00027-6a8851e1-bdec-4889-941b-a4753e4207ed",
    "deepnote_cell_type": "code",
    "deepnote_to_be_reexecuted": false,
    "execution_millis": 15,
    "execution_start": 1621414157127,
    "source_hash": "946fc65d",
    "tags": []
   },
   "outputs": [
    {
     "name": "stdout",
     "output_type": "stream",
     "text": [
      "(908, 14)\n",
      "(4985, 14)\n"
     ]
    }
   ],
   "source": [
    "print(df_test.shape)\n",
    "print(df_train.shape)"
   ]
  },
  {
   "cell_type": "markdown",
   "id": "6d999a5c",
   "metadata": {
    "cell_id": "00024-137a78bb-5756-467f-ad76-5bbfd5d04862",
    "deepnote_cell_type": "text-cell-h1",
    "tags": []
   },
   "source": [
    "# How much info reduced "
   ]
  },
  {
   "cell_type": "code",
   "execution_count": 22,
   "id": "08ab8be5",
   "metadata": {
    "ExecuteTime": {
     "end_time": "2021-05-19T11:37:52.018394Z",
     "start_time": "2021-05-19T11:37:52.014612Z"
    },
    "cell_id": "00028-4a7805db-604d-4700-a90b-0bc2dbd69c7c",
    "deepnote_cell_type": "code",
    "deepnote_to_be_reexecuted": false,
    "execution_millis": 0,
    "execution_start": 1621414246188,
    "source_hash": "35b01305",
    "tags": []
   },
   "outputs": [
    {
     "name": "stdout",
     "output_type": "stream",
     "text": [
      " After drop Car category we  reduce \n",
      " test data 3.7444933920704813 % \n",
      " train data 22.988966900702096 %\n"
     ]
    }
   ],
   "source": [
    "print(f\" After drop Car category we  reduce \\n test data {100-df_test_1.shape[0]/df_test.shape[0]*100} % \\n train data {100-df_train_1.shape[0]/df_train.shape[0]*100} %\")"
   ]
  },
  {
   "cell_type": "code",
   "execution_count": 23,
   "id": "f65f29c9",
   "metadata": {
    "ExecuteTime": {
     "end_time": "2021-05-19T11:37:53.717627Z",
     "start_time": "2021-05-19T11:37:53.713592Z"
    },
    "cell_id": "00029-c900fbeb-079d-40a0-a81f-d8dff5cd5a68",
    "deepnote_cell_type": "code",
    "deepnote_to_be_reexecuted": false,
    "execution_millis": 8,
    "execution_start": 1621414252239,
    "source_hash": "38cdb65c",
    "tags": []
   },
   "outputs": [
    {
     "name": "stdout",
     "output_type": "stream",
     "text": [
      "(3839, 14)\n",
      "(874, 14)\n"
     ]
    }
   ],
   "source": [
    "print(df_train_1.shape)\n",
    "print(df_test_1.shape)"
   ]
  },
  {
   "cell_type": "code",
   "execution_count": 24,
   "id": "e63b29b2",
   "metadata": {
    "ExecuteTime": {
     "end_time": "2021-05-19T11:37:55.075744Z",
     "start_time": "2021-05-19T11:37:55.068345Z"
    },
    "cell_id": "00030-08ed8b21-f737-4e2d-90e4-bff9013a959c",
    "deepnote_cell_type": "code",
    "deepnote_to_be_reexecuted": false,
    "execution_millis": 5,
    "execution_start": 1621414258916,
    "source_hash": "917bd436",
    "tags": []
   },
   "outputs": [],
   "source": [
    "X_=df_train_1.drop('target',axis=1)\n",
    "y_=df_train_1.target\n",
    "X_test_=df_test_1.drop('target',axis=1)\n",
    "y_test_=df_test_1.target"
   ]
  },
  {
   "cell_type": "markdown",
   "id": "cb285e71",
   "metadata": {
    "cell_id": "00033-7cac29db-3436-4297-88eb-77d5b0a5b039",
    "deepnote_cell_type": "text-cell-h1",
    "tags": []
   },
   "source": [
    "# train data "
   ]
  },
  {
   "cell_type": "code",
   "execution_count": 25,
   "id": "11792314",
   "metadata": {
    "ExecuteTime": {
     "end_time": "2021-05-19T11:38:02.481229Z",
     "start_time": "2021-05-19T11:37:56.557862Z"
    },
    "cell_id": "00034-ee0da9f9-3225-4109-baf7-3d8082760483",
    "deepnote_cell_type": "code",
    "deepnote_to_be_reexecuted": false,
    "execution_millis": 34209,
    "execution_start": 1621414428155,
    "source_hash": "28cdafb0",
    "tags": []
   },
   "outputs": [
    {
     "name": "stdout",
     "output_type": "stream",
     "text": [
      "[15:38:01] WARNING: ../src/learner.cc:1095: Starting in XGBoost 1.3.0, the default evaluation metric used with the objective 'multi:softprob' was changed from 'merror' to 'mlogloss'. Explicitly set eval_metric if you'd like to restore the old behavior.\n"
     ]
    },
    {
     "data": {
      "text/html": [
       "<style  type=\"text/css\" >\n",
       "#T_957b1_row0_col1{\n",
       "            width:  10em;\n",
       "             height:  80%;\n",
       "            background:  linear-gradient(90deg,#5fba7d 98.4%, transparent 98.4%);\n",
       "        }#T_957b1_row0_col2,#T_957b1_row1_col1,#T_957b1_row1_col2{\n",
       "            width:  10em;\n",
       "             height:  80%;\n",
       "            background:  linear-gradient(90deg,#5fba7d 98.3%, transparent 98.3%);\n",
       "        }#T_957b1_row2_col1{\n",
       "            width:  10em;\n",
       "             height:  80%;\n",
       "            background:  linear-gradient(90deg,#5fba7d 98.2%, transparent 98.2%);\n",
       "        }#T_957b1_row2_col2{\n",
       "            width:  10em;\n",
       "             height:  80%;\n",
       "            background:  linear-gradient(90deg,#5fba7d 98.0%, transparent 98.0%);\n",
       "        }#T_957b1_row3_col1{\n",
       "            width:  10em;\n",
       "             height:  80%;\n",
       "            background:  linear-gradient(90deg,#5fba7d 97.5%, transparent 97.5%);\n",
       "        }#T_957b1_row3_col2{\n",
       "            width:  10em;\n",
       "             height:  80%;\n",
       "            background:  linear-gradient(90deg,#5fba7d 97.4%, transparent 97.4%);\n",
       "        }#T_957b1_row4_col1,#T_957b1_row4_col2{\n",
       "            width:  10em;\n",
       "             height:  80%;\n",
       "            background:  linear-gradient(90deg,#5fba7d 96.5%, transparent 96.5%);\n",
       "        }#T_957b1_row5_col1{\n",
       "            width:  10em;\n",
       "             height:  80%;\n",
       "            background:  linear-gradient(90deg,#5fba7d 93.9%, transparent 93.9%);\n",
       "        }#T_957b1_row5_col2{\n",
       "            width:  10em;\n",
       "             height:  80%;\n",
       "            background:  linear-gradient(90deg,#5fba7d 94.0%, transparent 94.0%);\n",
       "        }#T_957b1_row6_col1{\n",
       "            width:  10em;\n",
       "             height:  80%;\n",
       "            background:  linear-gradient(90deg,#5fba7d 78.2%, transparent 78.2%);\n",
       "        }#T_957b1_row6_col2{\n",
       "            width:  10em;\n",
       "             height:  80%;\n",
       "            background:  linear-gradient(90deg,#5fba7d 79.2%, transparent 79.2%);\n",
       "        }#T_957b1_row7_col1{\n",
       "            width:  10em;\n",
       "             height:  80%;\n",
       "            background:  linear-gradient(90deg,#5fba7d 74.9%, transparent 74.9%);\n",
       "        }#T_957b1_row7_col2{\n",
       "            width:  10em;\n",
       "             height:  80%;\n",
       "            background:  linear-gradient(90deg,#5fba7d 76.1%, transparent 76.1%);\n",
       "        }</style><table id=\"T_957b1_\" ><thead>    <tr>        <th class=\"blank level0\" ></th>        <th class=\"col_heading level0 col0\" >Model</th>        <th class=\"col_heading level0 col1\" >Accuracy</th>        <th class=\"col_heading level0 col2\" >Bal Acc.</th>        <th class=\"col_heading level0 col3\" >Time</th>    </tr></thead><tbody>\n",
       "                <tr>\n",
       "                        <th id=\"T_957b1_level0_row0\" class=\"row_heading level0 row0\" >1</th>\n",
       "                        <td id=\"T_957b1_row0_col0\" class=\"data row0 col0\" >LGBMClassifier</td>\n",
       "                        <td id=\"T_957b1_row0_col1\" class=\"data row0 col1\" >98.372396</td>\n",
       "                        <td id=\"T_957b1_row0_col2\" class=\"data row0 col2\" >98.330783</td>\n",
       "                        <td id=\"T_957b1_row0_col3\" class=\"data row0 col3\" >0.602918</td>\n",
       "            </tr>\n",
       "            <tr>\n",
       "                        <th id=\"T_957b1_level0_row1\" class=\"row_heading level0 row1\" >2</th>\n",
       "                        <td id=\"T_957b1_row1_col0\" class=\"data row1 col0\" >XGBClassifier</td>\n",
       "                        <td id=\"T_957b1_row1_col1\" class=\"data row1 col1\" >98.307292</td>\n",
       "                        <td id=\"T_957b1_row1_col2\" class=\"data row1 col2\" >98.260990</td>\n",
       "                        <td id=\"T_957b1_row1_col3\" class=\"data row1 col3\" >0.804626</td>\n",
       "            </tr>\n",
       "            <tr>\n",
       "                        <th id=\"T_957b1_level0_row2\" class=\"row_heading level0 row2\" >3</th>\n",
       "                        <td id=\"T_957b1_row2_col0\" class=\"data row2 col0\" >GradientBoostingClassifier</td>\n",
       "                        <td id=\"T_957b1_row2_col1\" class=\"data row2 col1\" >98.177083</td>\n",
       "                        <td id=\"T_957b1_row2_col2\" class=\"data row2 col2\" >97.958423</td>\n",
       "                        <td id=\"T_957b1_row2_col3\" class=\"data row2 col3\" >3.559644</td>\n",
       "            </tr>\n",
       "            <tr>\n",
       "                        <th id=\"T_957b1_level0_row3\" class=\"row_heading level0 row3\" >4</th>\n",
       "                        <td id=\"T_957b1_row3_col0\" class=\"data row3 col0\" >RandomForestClassifier</td>\n",
       "                        <td id=\"T_957b1_row3_col1\" class=\"data row3 col1\" >97.460938</td>\n",
       "                        <td id=\"T_957b1_row3_col2\" class=\"data row3 col2\" >97.402191</td>\n",
       "                        <td id=\"T_957b1_row3_col3\" class=\"data row3 col3\" >0.508297</td>\n",
       "            </tr>\n",
       "            <tr>\n",
       "                        <th id=\"T_957b1_level0_row4\" class=\"row_heading level0 row4\" >5</th>\n",
       "                        <td id=\"T_957b1_row4_col0\" class=\"data row4 col0\" >DecisionTreeClassifier</td>\n",
       "                        <td id=\"T_957b1_row4_col1\" class=\"data row4 col1\" >96.484375</td>\n",
       "                        <td id=\"T_957b1_row4_col2\" class=\"data row4 col2\" >96.490002</td>\n",
       "                        <td id=\"T_957b1_row4_col3\" class=\"data row4 col3\" >0.038843</td>\n",
       "            </tr>\n",
       "            <tr>\n",
       "                        <th id=\"T_957b1_level0_row5\" class=\"row_heading level0 row5\" >6</th>\n",
       "                        <td id=\"T_957b1_row5_col0\" class=\"data row5 col0\" >KNeighborsClassifier</td>\n",
       "                        <td id=\"T_957b1_row5_col1\" class=\"data row5 col1\" >93.880208</td>\n",
       "                        <td id=\"T_957b1_row5_col2\" class=\"data row5 col2\" >94.015472</td>\n",
       "                        <td id=\"T_957b1_row5_col3\" class=\"data row5 col3\" >0.013182</td>\n",
       "            </tr>\n",
       "            <tr>\n",
       "                        <th id=\"T_957b1_level0_row6\" class=\"row_heading level0 row6\" >7</th>\n",
       "                        <td id=\"T_957b1_row6_col0\" class=\"data row6 col0\" >LogisticRegression</td>\n",
       "                        <td id=\"T_957b1_row6_col1\" class=\"data row6 col1\" >78.190104</td>\n",
       "                        <td id=\"T_957b1_row6_col2\" class=\"data row6 col2\" >79.199020</td>\n",
       "                        <td id=\"T_957b1_row6_col3\" class=\"data row6 col3\" >0.128224</td>\n",
       "            </tr>\n",
       "            <tr>\n",
       "                        <th id=\"T_957b1_level0_row7\" class=\"row_heading level0 row7\" >8</th>\n",
       "                        <td id=\"T_957b1_row7_col0\" class=\"data row7 col0\" >GaussianNB</td>\n",
       "                        <td id=\"T_957b1_row7_col1\" class=\"data row7 col1\" >74.869792</td>\n",
       "                        <td id=\"T_957b1_row7_col2\" class=\"data row7 col2\" >76.068988</td>\n",
       "                        <td id=\"T_957b1_row7_col3\" class=\"data row7 col3\" >0.011535</td>\n",
       "            </tr>\n",
       "    </tbody></table>"
      ],
      "text/plain": [
       "<pandas.io.formats.style.Styler at 0x7f2433faa4f0>"
      ]
     },
     "execution_count": 25,
     "metadata": {},
     "output_type": "execute_result"
    }
   ],
   "source": [
    "x_train_, x_val_, y_train_, y_val_ = train_test_split(X_, y_,test_size=0.4,stratify = y_,random_state=10 )\n",
    "result_new = pd.DataFrame({'Model': [], 'Accuracy': [], 'Bal Acc.': [],'Time': []})\n",
    "for model_name, model in classifier_models.items():\n",
    "    start_time_ = time.time()\n",
    "    model.fit(x_train_, y_train_)\n",
    "    total_time_= time.time() - start_time_\n",
    "    valid_pred_new = model.predict(x_val_)\n",
    "    result_new = result_new.append({\"Model\":    model_name,\n",
    "                              \"Accuracy\": accuracy_score(y_val_, valid_pred_new)*100,\n",
    "                              \"Bal Acc.\": balanced_accuracy_score(y_val_, valid_pred_new)*100,\n",
    "                              \"Time\":     total_time_},\n",
    "                              ignore_index=True)\n",
    "result_new_ord = result_new.sort_values(by=['Accuracy'], ascending=False, ignore_index=True)\n",
    "result_new_ord.index += 1 \n",
    "result_new_ord.style.bar(subset=['Accuracy', 'Bal Acc.'], vmin=0, vmax=100, color='#5fba7d')"
   ]
  },
  {
   "cell_type": "markdown",
   "id": "d8b9e2e0",
   "metadata": {
    "cell_id": "00035-90357c0d-657a-4201-bd8f-293c0bab04ce",
    "deepnote_cell_type": "text-cell-h1",
    "tags": []
   },
   "source": [
    "# for test "
   ]
  },
  {
   "cell_type": "code",
   "execution_count": 26,
   "id": "6fc36b93",
   "metadata": {
    "ExecuteTime": {
     "end_time": "2021-05-19T11:38:14.472530Z",
     "start_time": "2021-05-19T11:38:05.140972Z"
    },
    "cell_id": "00036-d9239013-4583-4475-83c6-33fae7438f84",
    "deepnote_cell_type": "code",
    "deepnote_to_be_reexecuted": false,
    "execution_millis": 26820,
    "execution_start": 1621414566433,
    "source_hash": "268c5720",
    "tags": []
   },
   "outputs": [
    {
     "name": "stdout",
     "output_type": "stream",
     "text": [
      "[15:38:12] WARNING: ../src/learner.cc:1095: Starting in XGBoost 1.3.0, the default evaluation metric used with the objective 'multi:softprob' was changed from 'merror' to 'mlogloss'. Explicitly set eval_metric if you'd like to restore the old behavior.\n"
     ]
    },
    {
     "data": {
      "text/html": [
       "<style  type=\"text/css\" >\n",
       "#T_bd6bb_row0_col1{\n",
       "            width:  10em;\n",
       "             height:  80%;\n",
       "            background:  linear-gradient(90deg,#5fba7d 86.7%, transparent 86.7%);\n",
       "        }#T_bd6bb_row0_col2{\n",
       "            width:  10em;\n",
       "             height:  80%;\n",
       "            background:  linear-gradient(90deg,#5fba7d 93.7%, transparent 93.7%);\n",
       "        }#T_bd6bb_row1_col1{\n",
       "            width:  10em;\n",
       "             height:  80%;\n",
       "            background:  linear-gradient(90deg,#5fba7d 85.9%, transparent 85.9%);\n",
       "        }#T_bd6bb_row1_col2{\n",
       "            width:  10em;\n",
       "             height:  80%;\n",
       "            background:  linear-gradient(90deg,#5fba7d 92.3%, transparent 92.3%);\n",
       "        }#T_bd6bb_row2_col1{\n",
       "            width:  10em;\n",
       "             height:  80%;\n",
       "            background:  linear-gradient(90deg,#5fba7d 80.8%, transparent 80.8%);\n",
       "        }#T_bd6bb_row2_col2{\n",
       "            width:  10em;\n",
       "             height:  80%;\n",
       "            background:  linear-gradient(90deg,#5fba7d 89.6%, transparent 89.6%);\n",
       "        }#T_bd6bb_row3_col1{\n",
       "            width:  10em;\n",
       "             height:  80%;\n",
       "            background:  linear-gradient(90deg,#5fba7d 74.4%, transparent 74.4%);\n",
       "        }#T_bd6bb_row3_col2{\n",
       "            width:  10em;\n",
       "             height:  80%;\n",
       "            background:  linear-gradient(90deg,#5fba7d 87.0%, transparent 87.0%);\n",
       "        }#T_bd6bb_row4_col1{\n",
       "            width:  10em;\n",
       "             height:  80%;\n",
       "            background:  linear-gradient(90deg,#5fba7d 71.6%, transparent 71.6%);\n",
       "        }#T_bd6bb_row4_col2{\n",
       "            width:  10em;\n",
       "             height:  80%;\n",
       "            background:  linear-gradient(90deg,#5fba7d 81.0%, transparent 81.0%);\n",
       "        }#T_bd6bb_row5_col1{\n",
       "            width:  10em;\n",
       "             height:  80%;\n",
       "            background:  linear-gradient(90deg,#5fba7d 69.6%, transparent 69.6%);\n",
       "        }#T_bd6bb_row5_col2{\n",
       "            width:  10em;\n",
       "             height:  80%;\n",
       "            background:  linear-gradient(90deg,#5fba7d 78.5%, transparent 78.5%);\n",
       "        }#T_bd6bb_row6_col1{\n",
       "            width:  10em;\n",
       "             height:  80%;\n",
       "            background:  linear-gradient(90deg,#5fba7d 53.9%, transparent 53.9%);\n",
       "        }#T_bd6bb_row6_col2{\n",
       "            width:  10em;\n",
       "             height:  80%;\n",
       "            background:  linear-gradient(90deg,#5fba7d 63.1%, transparent 63.1%);\n",
       "        }#T_bd6bb_row7_col1{\n",
       "            width:  10em;\n",
       "             height:  80%;\n",
       "            background:  linear-gradient(90deg,#5fba7d 51.3%, transparent 51.3%);\n",
       "        }#T_bd6bb_row7_col2{\n",
       "            width:  10em;\n",
       "             height:  80%;\n",
       "            background:  linear-gradient(90deg,#5fba7d 69.9%, transparent 69.9%);\n",
       "        }</style><table id=\"T_bd6bb_\" ><thead>    <tr>        <th class=\"blank level0\" ></th>        <th class=\"col_heading level0 col0\" >Model</th>        <th class=\"col_heading level0 col1\" >Accuracy</th>        <th class=\"col_heading level0 col2\" >Bal Acc.</th>        <th class=\"col_heading level0 col3\" >Time</th>    </tr></thead><tbody>\n",
       "                <tr>\n",
       "                        <th id=\"T_bd6bb_level0_row0\" class=\"row_heading level0 row0\" >1</th>\n",
       "                        <td id=\"T_bd6bb_row0_col0\" class=\"data row0 col0\" >LGBMClassifier</td>\n",
       "                        <td id=\"T_bd6bb_row0_col1\" class=\"data row0 col1\" >86.727689</td>\n",
       "                        <td id=\"T_bd6bb_row0_col2\" class=\"data row0 col2\" >93.676972</td>\n",
       "                        <td id=\"T_bd6bb_row0_col3\" class=\"data row0 col3\" >0.662900</td>\n",
       "            </tr>\n",
       "            <tr>\n",
       "                        <th id=\"T_bd6bb_level0_row1\" class=\"row_heading level0 row1\" >2</th>\n",
       "                        <td id=\"T_bd6bb_row1_col0\" class=\"data row1 col0\" >XGBClassifier</td>\n",
       "                        <td id=\"T_bd6bb_row1_col1\" class=\"data row1 col1\" >85.926773</td>\n",
       "                        <td id=\"T_bd6bb_row1_col2\" class=\"data row1 col2\" >92.289443</td>\n",
       "                        <td id=\"T_bd6bb_row1_col3\" class=\"data row1 col3\" >1.415797</td>\n",
       "            </tr>\n",
       "            <tr>\n",
       "                        <th id=\"T_bd6bb_level0_row2\" class=\"row_heading level0 row2\" >3</th>\n",
       "                        <td id=\"T_bd6bb_row2_col0\" class=\"data row2 col0\" >GradientBoostingClassifier</td>\n",
       "                        <td id=\"T_bd6bb_row2_col1\" class=\"data row2 col1\" >80.778032</td>\n",
       "                        <td id=\"T_bd6bb_row2_col2\" class=\"data row2 col2\" >89.595612</td>\n",
       "                        <td id=\"T_bd6bb_row2_col3\" class=\"data row2 col3\" >5.886485</td>\n",
       "            </tr>\n",
       "            <tr>\n",
       "                        <th id=\"T_bd6bb_level0_row3\" class=\"row_heading level0 row3\" >4</th>\n",
       "                        <td id=\"T_bd6bb_row3_col0\" class=\"data row3 col0\" >DecisionTreeClassifier</td>\n",
       "                        <td id=\"T_bd6bb_row3_col1\" class=\"data row3 col1\" >74.370709</td>\n",
       "                        <td id=\"T_bd6bb_row3_col2\" class=\"data row3 col2\" >86.971178</td>\n",
       "                        <td id=\"T_bd6bb_row3_col3\" class=\"data row3 col3\" >0.067177</td>\n",
       "            </tr>\n",
       "            <tr>\n",
       "                        <th id=\"T_bd6bb_level0_row4\" class=\"row_heading level0 row4\" >5</th>\n",
       "                        <td id=\"T_bd6bb_row4_col0\" class=\"data row4 col0\" >RandomForestClassifier</td>\n",
       "                        <td id=\"T_bd6bb_row4_col1\" class=\"data row4 col1\" >71.624714</td>\n",
       "                        <td id=\"T_bd6bb_row4_col2\" class=\"data row4 col2\" >80.962632</td>\n",
       "                        <td id=\"T_bd6bb_row4_col3\" class=\"data row4 col3\" >0.845451</td>\n",
       "            </tr>\n",
       "            <tr>\n",
       "                        <th id=\"T_bd6bb_level0_row5\" class=\"row_heading level0 row5\" >6</th>\n",
       "                        <td id=\"T_bd6bb_row5_col0\" class=\"data row5 col0\" >GaussianNB</td>\n",
       "                        <td id=\"T_bd6bb_row5_col1\" class=\"data row5 col1\" >69.565217</td>\n",
       "                        <td id=\"T_bd6bb_row5_col2\" class=\"data row5 col2\" >78.544874</td>\n",
       "                        <td id=\"T_bd6bb_row5_col3\" class=\"data row5 col3\" >0.015469</td>\n",
       "            </tr>\n",
       "            <tr>\n",
       "                        <th id=\"T_bd6bb_level0_row6\" class=\"row_heading level0 row6\" >7</th>\n",
       "                        <td id=\"T_bd6bb_row6_col0\" class=\"data row6 col0\" >KNeighborsClassifier</td>\n",
       "                        <td id=\"T_bd6bb_row6_col1\" class=\"data row6 col1\" >53.890160</td>\n",
       "                        <td id=\"T_bd6bb_row6_col2\" class=\"data row6 col2\" >63.141572</td>\n",
       "                        <td id=\"T_bd6bb_row6_col3\" class=\"data row6 col3\" >0.021664</td>\n",
       "            </tr>\n",
       "            <tr>\n",
       "                        <th id=\"T_bd6bb_level0_row7\" class=\"row_heading level0 row7\" >8</th>\n",
       "                        <td id=\"T_bd6bb_row7_col0\" class=\"data row7 col0\" >LogisticRegression</td>\n",
       "                        <td id=\"T_bd6bb_row7_col1\" class=\"data row7 col1\" >51.258581</td>\n",
       "                        <td id=\"T_bd6bb_row7_col2\" class=\"data row7 col2\" >69.888403</td>\n",
       "                        <td id=\"T_bd6bb_row7_col3\" class=\"data row7 col3\" >0.195711</td>\n",
       "            </tr>\n",
       "    </tbody></table>"
      ],
      "text/plain": [
       "<pandas.io.formats.style.Styler at 0x7f2433fa7a30>"
      ]
     },
     "execution_count": 26,
     "metadata": {},
     "output_type": "execute_result"
    }
   ],
   "source": [
    "\n",
    "test = pd.DataFrame({'Model': [], 'Accuracy': [], 'Bal Acc.': [],'Time': []})\n",
    "for model_name, model in classifier_models.items():\n",
    "    start_time_ = time.time()\n",
    "    model.fit(X_, y_)\n",
    "    total_time_ = time.time() - start_time_\n",
    "    pred_test = model.predict(X_test_)\n",
    "    test = test.append({\"Model\":    model_name,\n",
    "                              \"Accuracy\": accuracy_score(y_test_, pred_test)*100,\n",
    "                              \"Bal Acc.\": balanced_accuracy_score(y_test_, pred_test)*100,\n",
    "                              \"Time\":     total_time_},\n",
    "                              ignore_index=True)\n",
    "test_ord = test.sort_values(by=['Accuracy'], ascending=False, ignore_index=True)\n",
    "test_ord.index += 1 \n",
    "test_ord.style.bar(subset=['Accuracy', 'Bal Acc.'], vmin=0, vmax=100, color='#5fba7d')"
   ]
  },
  {
   "cell_type": "code",
   "execution_count": 27,
   "id": "46df424d",
   "metadata": {
    "ExecuteTime": {
     "end_time": "2021-05-19T11:38:17.160139Z",
     "start_time": "2021-05-19T11:38:17.122267Z"
    },
    "cell_id": "00037-98f7624c-ea20-4943-856d-2e598eb50c70",
    "deepnote_cell_type": "code",
    "deepnote_to_be_reexecuted": false,
    "execution_millis": 72,
    "execution_start": 1621414613166,
    "source_hash": "48452361",
    "tags": []
   },
   "outputs": [
    {
     "name": "stdout",
     "output_type": "stream",
     "text": [
      "              precision    recall  f1-score   support\n",
      "\n",
      "         Bus       0.45      0.53      0.49       164\n",
      "       Still       0.49      0.96      0.65        76\n",
      "       Train       0.57      0.99      0.72        86\n",
      "     Walking       0.95      0.66      0.78       548\n",
      "\n",
      "    accuracy                           0.70       874\n",
      "   macro avg       0.61      0.79      0.66       874\n",
      "weighted avg       0.78      0.70      0.71       874\n",
      "\n",
      "\n",
      "[[ 87   1  59  17]\n",
      " [  1  73   1   1]\n",
      " [  1   0  85   0]\n",
      " [104  76   5 363]]\n"
     ]
    }
   ],
   "source": [
    "print(classification_report(y_test_, pred_test))\n",
    "print()\n",
    "print(confusion_matrix(y_test_, pred_test))"
   ]
  },
  {
   "cell_type": "markdown",
   "id": "7b47215f",
   "metadata": {},
   "source": [
    "#  The highest accuracy model selected "
   ]
  },
  {
   "cell_type": "code",
   "execution_count": 93,
   "id": "ac8dab93",
   "metadata": {
    "ExecuteTime": {
     "end_time": "2021-05-19T12:34:18.780866Z",
     "start_time": "2021-05-19T12:34:18.769533Z"
    }
   },
   "outputs": [],
   "source": [
    "best_=LGBMClassifier(boosting_type='gbdt', num_leaves=60, max_depth=6, learning_rate=0.07,\n",
    "                          n_estimators=300, subsample_for_bin=200000, objective=None, class_weight=None,\n",
    "                          min_split_gain=0.0, min_child_weight=0.001, min_child_samples=20, subsample=1.0, \n",
    "                          subsample_freq=0, colsample_bytree=1.0, reg_alpha=0.0, reg_lambda=0.0, \n",
    "                          random_state=None, n_jobs=- 1, silent=True, importance_type='split')\n",
    "model=Pipeline([('preprocess',preprocessor),('classification',best_)])"
   ]
  },
  {
   "cell_type": "code",
   "execution_count": 94,
   "id": "f2cee4a7",
   "metadata": {
    "ExecuteTime": {
     "end_time": "2021-05-19T12:34:21.378076Z",
     "start_time": "2021-05-19T12:34:19.842141Z"
    }
   },
   "outputs": [],
   "source": [
    "model.fit(X_,y_)\n",
    "pred_test_1=model.predict(X_test_)"
   ]
  },
  {
   "cell_type": "code",
   "execution_count": 95,
   "id": "da02e0da",
   "metadata": {
    "ExecuteTime": {
     "end_time": "2021-05-19T12:34:22.283672Z",
     "start_time": "2021-05-19T12:34:22.275884Z"
    }
   },
   "outputs": [
    {
     "data": {
      "text/plain": [
       "(89.58810068649885,)"
      ]
     },
     "execution_count": 95,
     "metadata": {},
     "output_type": "execute_result"
    }
   ],
   "source": [
    "accuracy_score(y_test_, pred_test_1)*100,"
   ]
  },
  {
   "cell_type": "code",
   "execution_count": 96,
   "id": "6607e351",
   "metadata": {
    "ExecuteTime": {
     "end_time": "2021-05-19T12:34:27.231608Z",
     "start_time": "2021-05-19T12:34:27.177254Z"
    }
   },
   "outputs": [
    {
     "name": "stdout",
     "output_type": "stream",
     "text": [
      "              precision    recall  f1-score   support\n",
      "\n",
      "         Bus       0.78      0.96      0.86       164\n",
      "       Still       0.65      0.99      0.78        76\n",
      "       Train       1.00      1.00      1.00        86\n",
      "     Walking       0.99      0.85      0.91       548\n",
      "\n",
      "    accuracy                           0.90       874\n",
      "   macro avg       0.85      0.95      0.89       874\n",
      "weighted avg       0.92      0.90      0.90       874\n",
      "\n",
      "\n",
      "[[158   1   0   5]\n",
      " [  0  75   0   1]\n",
      " [  0   0  86   0]\n",
      " [ 44  40   0 464]]\n"
     ]
    }
   ],
   "source": [
    "print(classification_report(y_test_, pred_test_1))\n",
    "print()\n",
    "print(confusion_matrix(y_test_, pred_test_1))"
   ]
  },
  {
   "cell_type": "markdown",
   "id": "0930e8bd",
   "metadata": {
    "cell_id": "00033-86daab12-348a-422f-9e2b-a9dea7d59a67",
    "deepnote_cell_type": "text-cell-h1",
    "tags": []
   },
   "source": [
    "# The best model and tuning  "
   ]
  },
  {
   "cell_type": "code",
   "execution_count": 36,
   "id": "453a4083",
   "metadata": {
    "ExecuteTime": {
     "end_time": "2021-05-19T12:13:20.408209Z",
     "start_time": "2021-05-19T12:13:20.401002Z"
    },
    "cell_id": "00033-9613eac0-2346-48c0-aa16-526ca1a2eb4a",
    "deepnote_cell_type": "code",
    "deepnote_to_be_reexecuted": false,
    "execution_millis": 2,
    "execution_start": 1621421565186,
    "source_hash": "da0ee58b",
    "tags": []
   },
   "outputs": [],
   "source": [
    "from sklearn.model_selection import GridSearchCV,RandomizedSearchCV\n",
    "best_model=LGBMClassifier(oosting_type='gbdt', num_leaves=31, max_depth=- 1, learning_rate=0.05,\n",
    "                          n_estimators=100, subsample_for_bin=200000, objective=None, class_weight=None,\n",
    "                          min_split_gain=0.0, min_child_weight=0.001, min_child_samples=20, subsample=1.0, \n",
    "                          subsample_freq=0, colsample_bytree=1.0, reg_alpha=0.0, reg_lambda=0.0, \n",
    "                          random_state=None, n_jobs=- 1, silent=True, importance_type='split')\n",
    "clf=Pipeline([('preprocess',preprocessor),('classification',best_model)])"
   ]
  },
  {
   "cell_type": "code",
   "execution_count": 30,
   "id": "cf8ea86b",
   "metadata": {
    "ExecuteTime": {
     "end_time": "2021-05-19T12:09:47.626174Z",
     "start_time": "2021-05-19T11:40:47.985364Z"
    },
    "cell_id": "00036-f8044fff-4d29-45bd-8ff8-21846e0256f1",
    "deepnote_cell_type": "code",
    "deepnote_to_be_reexecuted": false,
    "execution_millis": 56,
    "execution_start": 1621422690558,
    "source_hash": "71b25ff3",
    "tags": []
   },
   "outputs": [
    {
     "ename": "KeyboardInterrupt",
     "evalue": "",
     "output_type": "error",
     "traceback": [
      "\u001b[0;31m---------------------------------------------------------------------------\u001b[0m",
      "\u001b[0;31mKeyboardInterrupt\u001b[0m                         Traceback (most recent call last)",
      "\u001b[0;32m<ipython-input-30-8c3a63ab1c2d>\u001b[0m in \u001b[0;36m<module>\u001b[0;34m\u001b[0m\n\u001b[1;32m     10\u001b[0m }\n\u001b[1;32m     11\u001b[0m \u001b[0mgsearch\u001b[0m \u001b[0;34m=\u001b[0m \u001b[0mGridSearchCV\u001b[0m\u001b[0;34m(\u001b[0m\u001b[0mestimator\u001b[0m\u001b[0;34m=\u001b[0m\u001b[0mbest_model\u001b[0m\u001b[0;34m,\u001b[0m \u001b[0mparam_grid\u001b[0m\u001b[0;34m=\u001b[0m\u001b[0mparams\u001b[0m\u001b[0;34m)\u001b[0m\u001b[0;34m\u001b[0m\u001b[0;34m\u001b[0m\u001b[0m\n\u001b[0;32m---> 12\u001b[0;31m \u001b[0mlgb_model\u001b[0m \u001b[0;34m=\u001b[0m \u001b[0mgsearch\u001b[0m\u001b[0;34m.\u001b[0m\u001b[0mfit\u001b[0m\u001b[0;34m(\u001b[0m\u001b[0mX_\u001b[0m\u001b[0;34m,\u001b[0m \u001b[0my_\u001b[0m\u001b[0;34m)\u001b[0m\u001b[0;34m\u001b[0m\u001b[0;34m\u001b[0m\u001b[0m\n\u001b[0m\u001b[1;32m     13\u001b[0m \u001b[0mprint\u001b[0m\u001b[0;34m(\u001b[0m\u001b[0mlgb_model\u001b[0m\u001b[0;34m.\u001b[0m\u001b[0mbest_params_\u001b[0m\u001b[0;34m,\u001b[0m \u001b[0mlgb_model\u001b[0m\u001b[0;34m.\u001b[0m\u001b[0mbest_score_\u001b[0m\u001b[0;34m)\u001b[0m\u001b[0;34m\u001b[0m\u001b[0;34m\u001b[0m\u001b[0m\n",
      "\u001b[0;32m~/anaconda3/envs/aienv/lib/python3.8/site-packages/sklearn/utils/validation.py\u001b[0m in \u001b[0;36minner_f\u001b[0;34m(*args, **kwargs)\u001b[0m\n\u001b[1;32m     61\u001b[0m             \u001b[0mextra_args\u001b[0m \u001b[0;34m=\u001b[0m \u001b[0mlen\u001b[0m\u001b[0;34m(\u001b[0m\u001b[0margs\u001b[0m\u001b[0;34m)\u001b[0m \u001b[0;34m-\u001b[0m \u001b[0mlen\u001b[0m\u001b[0;34m(\u001b[0m\u001b[0mall_args\u001b[0m\u001b[0;34m)\u001b[0m\u001b[0;34m\u001b[0m\u001b[0;34m\u001b[0m\u001b[0m\n\u001b[1;32m     62\u001b[0m             \u001b[0;32mif\u001b[0m \u001b[0mextra_args\u001b[0m \u001b[0;34m<=\u001b[0m \u001b[0;36m0\u001b[0m\u001b[0;34m:\u001b[0m\u001b[0;34m\u001b[0m\u001b[0;34m\u001b[0m\u001b[0m\n\u001b[0;32m---> 63\u001b[0;31m                 \u001b[0;32mreturn\u001b[0m \u001b[0mf\u001b[0m\u001b[0;34m(\u001b[0m\u001b[0;34m*\u001b[0m\u001b[0margs\u001b[0m\u001b[0;34m,\u001b[0m \u001b[0;34m**\u001b[0m\u001b[0mkwargs\u001b[0m\u001b[0;34m)\u001b[0m\u001b[0;34m\u001b[0m\u001b[0;34m\u001b[0m\u001b[0m\n\u001b[0m\u001b[1;32m     64\u001b[0m \u001b[0;34m\u001b[0m\u001b[0m\n\u001b[1;32m     65\u001b[0m             \u001b[0;31m# extra_args > 0\u001b[0m\u001b[0;34m\u001b[0m\u001b[0;34m\u001b[0m\u001b[0;34m\u001b[0m\u001b[0m\n",
      "\u001b[0;32m~/anaconda3/envs/aienv/lib/python3.8/site-packages/sklearn/model_selection/_search.py\u001b[0m in \u001b[0;36mfit\u001b[0;34m(self, X, y, groups, **fit_params)\u001b[0m\n\u001b[1;32m    839\u001b[0m                 \u001b[0;32mreturn\u001b[0m \u001b[0mresults\u001b[0m\u001b[0;34m\u001b[0m\u001b[0;34m\u001b[0m\u001b[0m\n\u001b[1;32m    840\u001b[0m \u001b[0;34m\u001b[0m\u001b[0m\n\u001b[0;32m--> 841\u001b[0;31m             \u001b[0mself\u001b[0m\u001b[0;34m.\u001b[0m\u001b[0m_run_search\u001b[0m\u001b[0;34m(\u001b[0m\u001b[0mevaluate_candidates\u001b[0m\u001b[0;34m)\u001b[0m\u001b[0;34m\u001b[0m\u001b[0;34m\u001b[0m\u001b[0m\n\u001b[0m\u001b[1;32m    842\u001b[0m \u001b[0;34m\u001b[0m\u001b[0m\n\u001b[1;32m    843\u001b[0m             \u001b[0;31m# multimetric is determined here because in the case of a callable\u001b[0m\u001b[0;34m\u001b[0m\u001b[0;34m\u001b[0m\u001b[0;34m\u001b[0m\u001b[0m\n",
      "\u001b[0;32m~/anaconda3/envs/aienv/lib/python3.8/site-packages/sklearn/model_selection/_search.py\u001b[0m in \u001b[0;36m_run_search\u001b[0;34m(self, evaluate_candidates)\u001b[0m\n\u001b[1;32m   1294\u001b[0m     \u001b[0;32mdef\u001b[0m \u001b[0m_run_search\u001b[0m\u001b[0;34m(\u001b[0m\u001b[0mself\u001b[0m\u001b[0;34m,\u001b[0m \u001b[0mevaluate_candidates\u001b[0m\u001b[0;34m)\u001b[0m\u001b[0;34m:\u001b[0m\u001b[0;34m\u001b[0m\u001b[0;34m\u001b[0m\u001b[0m\n\u001b[1;32m   1295\u001b[0m         \u001b[0;34m\"\"\"Search all candidates in param_grid\"\"\"\u001b[0m\u001b[0;34m\u001b[0m\u001b[0;34m\u001b[0m\u001b[0m\n\u001b[0;32m-> 1296\u001b[0;31m         \u001b[0mevaluate_candidates\u001b[0m\u001b[0;34m(\u001b[0m\u001b[0mParameterGrid\u001b[0m\u001b[0;34m(\u001b[0m\u001b[0mself\u001b[0m\u001b[0;34m.\u001b[0m\u001b[0mparam_grid\u001b[0m\u001b[0;34m)\u001b[0m\u001b[0;34m)\u001b[0m\u001b[0;34m\u001b[0m\u001b[0;34m\u001b[0m\u001b[0m\n\u001b[0m\u001b[1;32m   1297\u001b[0m \u001b[0;34m\u001b[0m\u001b[0m\n\u001b[1;32m   1298\u001b[0m \u001b[0;34m\u001b[0m\u001b[0m\n",
      "\u001b[0;32m~/anaconda3/envs/aienv/lib/python3.8/site-packages/sklearn/model_selection/_search.py\u001b[0m in \u001b[0;36mevaluate_candidates\u001b[0;34m(candidate_params, cv, more_results)\u001b[0m\n\u001b[1;32m    793\u001b[0m                               n_splits, n_candidates, n_candidates * n_splits))\n\u001b[1;32m    794\u001b[0m \u001b[0;34m\u001b[0m\u001b[0m\n\u001b[0;32m--> 795\u001b[0;31m                 out = parallel(delayed(_fit_and_score)(clone(base_estimator),\n\u001b[0m\u001b[1;32m    796\u001b[0m                                                        \u001b[0mX\u001b[0m\u001b[0;34m,\u001b[0m \u001b[0my\u001b[0m\u001b[0;34m,\u001b[0m\u001b[0;34m\u001b[0m\u001b[0;34m\u001b[0m\u001b[0m\n\u001b[1;32m    797\u001b[0m                                                        \u001b[0mtrain\u001b[0m\u001b[0;34m=\u001b[0m\u001b[0mtrain\u001b[0m\u001b[0;34m,\u001b[0m \u001b[0mtest\u001b[0m\u001b[0;34m=\u001b[0m\u001b[0mtest\u001b[0m\u001b[0;34m,\u001b[0m\u001b[0;34m\u001b[0m\u001b[0;34m\u001b[0m\u001b[0m\n",
      "\u001b[0;32m~/anaconda3/envs/aienv/lib/python3.8/site-packages/joblib/parallel.py\u001b[0m in \u001b[0;36m__call__\u001b[0;34m(self, iterable)\u001b[0m\n\u001b[1;32m   1042\u001b[0m                 \u001b[0mself\u001b[0m\u001b[0;34m.\u001b[0m\u001b[0m_iterating\u001b[0m \u001b[0;34m=\u001b[0m \u001b[0mself\u001b[0m\u001b[0;34m.\u001b[0m\u001b[0m_original_iterator\u001b[0m \u001b[0;32mis\u001b[0m \u001b[0;32mnot\u001b[0m \u001b[0;32mNone\u001b[0m\u001b[0;34m\u001b[0m\u001b[0;34m\u001b[0m\u001b[0m\n\u001b[1;32m   1043\u001b[0m \u001b[0;34m\u001b[0m\u001b[0m\n\u001b[0;32m-> 1044\u001b[0;31m             \u001b[0;32mwhile\u001b[0m \u001b[0mself\u001b[0m\u001b[0;34m.\u001b[0m\u001b[0mdispatch_one_batch\u001b[0m\u001b[0;34m(\u001b[0m\u001b[0miterator\u001b[0m\u001b[0;34m)\u001b[0m\u001b[0;34m:\u001b[0m\u001b[0;34m\u001b[0m\u001b[0;34m\u001b[0m\u001b[0m\n\u001b[0m\u001b[1;32m   1045\u001b[0m                 \u001b[0;32mpass\u001b[0m\u001b[0;34m\u001b[0m\u001b[0;34m\u001b[0m\u001b[0m\n\u001b[1;32m   1046\u001b[0m \u001b[0;34m\u001b[0m\u001b[0m\n",
      "\u001b[0;32m~/anaconda3/envs/aienv/lib/python3.8/site-packages/joblib/parallel.py\u001b[0m in \u001b[0;36mdispatch_one_batch\u001b[0;34m(self, iterator)\u001b[0m\n\u001b[1;32m    857\u001b[0m                 \u001b[0;32mreturn\u001b[0m \u001b[0;32mFalse\u001b[0m\u001b[0;34m\u001b[0m\u001b[0;34m\u001b[0m\u001b[0m\n\u001b[1;32m    858\u001b[0m             \u001b[0;32melse\u001b[0m\u001b[0;34m:\u001b[0m\u001b[0;34m\u001b[0m\u001b[0;34m\u001b[0m\u001b[0m\n\u001b[0;32m--> 859\u001b[0;31m                 \u001b[0mself\u001b[0m\u001b[0;34m.\u001b[0m\u001b[0m_dispatch\u001b[0m\u001b[0;34m(\u001b[0m\u001b[0mtasks\u001b[0m\u001b[0;34m)\u001b[0m\u001b[0;34m\u001b[0m\u001b[0;34m\u001b[0m\u001b[0m\n\u001b[0m\u001b[1;32m    860\u001b[0m                 \u001b[0;32mreturn\u001b[0m \u001b[0;32mTrue\u001b[0m\u001b[0;34m\u001b[0m\u001b[0;34m\u001b[0m\u001b[0m\n\u001b[1;32m    861\u001b[0m \u001b[0;34m\u001b[0m\u001b[0m\n",
      "\u001b[0;32m~/anaconda3/envs/aienv/lib/python3.8/site-packages/joblib/parallel.py\u001b[0m in \u001b[0;36m_dispatch\u001b[0;34m(self, batch)\u001b[0m\n\u001b[1;32m    775\u001b[0m         \u001b[0;32mwith\u001b[0m \u001b[0mself\u001b[0m\u001b[0;34m.\u001b[0m\u001b[0m_lock\u001b[0m\u001b[0;34m:\u001b[0m\u001b[0;34m\u001b[0m\u001b[0;34m\u001b[0m\u001b[0m\n\u001b[1;32m    776\u001b[0m             \u001b[0mjob_idx\u001b[0m \u001b[0;34m=\u001b[0m \u001b[0mlen\u001b[0m\u001b[0;34m(\u001b[0m\u001b[0mself\u001b[0m\u001b[0;34m.\u001b[0m\u001b[0m_jobs\u001b[0m\u001b[0;34m)\u001b[0m\u001b[0;34m\u001b[0m\u001b[0;34m\u001b[0m\u001b[0m\n\u001b[0;32m--> 777\u001b[0;31m             \u001b[0mjob\u001b[0m \u001b[0;34m=\u001b[0m \u001b[0mself\u001b[0m\u001b[0;34m.\u001b[0m\u001b[0m_backend\u001b[0m\u001b[0;34m.\u001b[0m\u001b[0mapply_async\u001b[0m\u001b[0;34m(\u001b[0m\u001b[0mbatch\u001b[0m\u001b[0;34m,\u001b[0m \u001b[0mcallback\u001b[0m\u001b[0;34m=\u001b[0m\u001b[0mcb\u001b[0m\u001b[0;34m)\u001b[0m\u001b[0;34m\u001b[0m\u001b[0;34m\u001b[0m\u001b[0m\n\u001b[0m\u001b[1;32m    778\u001b[0m             \u001b[0;31m# A job can complete so quickly than its callback is\u001b[0m\u001b[0;34m\u001b[0m\u001b[0;34m\u001b[0m\u001b[0;34m\u001b[0m\u001b[0m\n\u001b[1;32m    779\u001b[0m             \u001b[0;31m# called before we get here, causing self._jobs to\u001b[0m\u001b[0;34m\u001b[0m\u001b[0;34m\u001b[0m\u001b[0;34m\u001b[0m\u001b[0m\n",
      "\u001b[0;32m~/anaconda3/envs/aienv/lib/python3.8/site-packages/joblib/_parallel_backends.py\u001b[0m in \u001b[0;36mapply_async\u001b[0;34m(self, func, callback)\u001b[0m\n\u001b[1;32m    206\u001b[0m     \u001b[0;32mdef\u001b[0m \u001b[0mapply_async\u001b[0m\u001b[0;34m(\u001b[0m\u001b[0mself\u001b[0m\u001b[0;34m,\u001b[0m \u001b[0mfunc\u001b[0m\u001b[0;34m,\u001b[0m \u001b[0mcallback\u001b[0m\u001b[0;34m=\u001b[0m\u001b[0;32mNone\u001b[0m\u001b[0;34m)\u001b[0m\u001b[0;34m:\u001b[0m\u001b[0;34m\u001b[0m\u001b[0;34m\u001b[0m\u001b[0m\n\u001b[1;32m    207\u001b[0m         \u001b[0;34m\"\"\"Schedule a func to be run\"\"\"\u001b[0m\u001b[0;34m\u001b[0m\u001b[0;34m\u001b[0m\u001b[0m\n\u001b[0;32m--> 208\u001b[0;31m         \u001b[0mresult\u001b[0m \u001b[0;34m=\u001b[0m \u001b[0mImmediateResult\u001b[0m\u001b[0;34m(\u001b[0m\u001b[0mfunc\u001b[0m\u001b[0;34m)\u001b[0m\u001b[0;34m\u001b[0m\u001b[0;34m\u001b[0m\u001b[0m\n\u001b[0m\u001b[1;32m    209\u001b[0m         \u001b[0;32mif\u001b[0m \u001b[0mcallback\u001b[0m\u001b[0;34m:\u001b[0m\u001b[0;34m\u001b[0m\u001b[0;34m\u001b[0m\u001b[0m\n\u001b[1;32m    210\u001b[0m             \u001b[0mcallback\u001b[0m\u001b[0;34m(\u001b[0m\u001b[0mresult\u001b[0m\u001b[0;34m)\u001b[0m\u001b[0;34m\u001b[0m\u001b[0;34m\u001b[0m\u001b[0m\n",
      "\u001b[0;32m~/anaconda3/envs/aienv/lib/python3.8/site-packages/joblib/_parallel_backends.py\u001b[0m in \u001b[0;36m__init__\u001b[0;34m(self, batch)\u001b[0m\n\u001b[1;32m    570\u001b[0m         \u001b[0;31m# Don't delay the application, to avoid keeping the input\u001b[0m\u001b[0;34m\u001b[0m\u001b[0;34m\u001b[0m\u001b[0;34m\u001b[0m\u001b[0m\n\u001b[1;32m    571\u001b[0m         \u001b[0;31m# arguments in memory\u001b[0m\u001b[0;34m\u001b[0m\u001b[0;34m\u001b[0m\u001b[0;34m\u001b[0m\u001b[0m\n\u001b[0;32m--> 572\u001b[0;31m         \u001b[0mself\u001b[0m\u001b[0;34m.\u001b[0m\u001b[0mresults\u001b[0m \u001b[0;34m=\u001b[0m \u001b[0mbatch\u001b[0m\u001b[0;34m(\u001b[0m\u001b[0;34m)\u001b[0m\u001b[0;34m\u001b[0m\u001b[0;34m\u001b[0m\u001b[0m\n\u001b[0m\u001b[1;32m    573\u001b[0m \u001b[0;34m\u001b[0m\u001b[0m\n\u001b[1;32m    574\u001b[0m     \u001b[0;32mdef\u001b[0m \u001b[0mget\u001b[0m\u001b[0;34m(\u001b[0m\u001b[0mself\u001b[0m\u001b[0;34m)\u001b[0m\u001b[0;34m:\u001b[0m\u001b[0;34m\u001b[0m\u001b[0;34m\u001b[0m\u001b[0m\n",
      "\u001b[0;32m~/anaconda3/envs/aienv/lib/python3.8/site-packages/joblib/parallel.py\u001b[0m in \u001b[0;36m__call__\u001b[0;34m(self)\u001b[0m\n\u001b[1;32m    260\u001b[0m         \u001b[0;31m# change the default number of processes to -1\u001b[0m\u001b[0;34m\u001b[0m\u001b[0;34m\u001b[0m\u001b[0;34m\u001b[0m\u001b[0m\n\u001b[1;32m    261\u001b[0m         \u001b[0;32mwith\u001b[0m \u001b[0mparallel_backend\u001b[0m\u001b[0;34m(\u001b[0m\u001b[0mself\u001b[0m\u001b[0;34m.\u001b[0m\u001b[0m_backend\u001b[0m\u001b[0;34m,\u001b[0m \u001b[0mn_jobs\u001b[0m\u001b[0;34m=\u001b[0m\u001b[0mself\u001b[0m\u001b[0;34m.\u001b[0m\u001b[0m_n_jobs\u001b[0m\u001b[0;34m)\u001b[0m\u001b[0;34m:\u001b[0m\u001b[0;34m\u001b[0m\u001b[0;34m\u001b[0m\u001b[0m\n\u001b[0;32m--> 262\u001b[0;31m             return [func(*args, **kwargs)\n\u001b[0m\u001b[1;32m    263\u001b[0m                     for func, args, kwargs in self.items]\n\u001b[1;32m    264\u001b[0m \u001b[0;34m\u001b[0m\u001b[0m\n",
      "\u001b[0;32m~/anaconda3/envs/aienv/lib/python3.8/site-packages/joblib/parallel.py\u001b[0m in \u001b[0;36m<listcomp>\u001b[0;34m(.0)\u001b[0m\n\u001b[1;32m    260\u001b[0m         \u001b[0;31m# change the default number of processes to -1\u001b[0m\u001b[0;34m\u001b[0m\u001b[0;34m\u001b[0m\u001b[0;34m\u001b[0m\u001b[0m\n\u001b[1;32m    261\u001b[0m         \u001b[0;32mwith\u001b[0m \u001b[0mparallel_backend\u001b[0m\u001b[0;34m(\u001b[0m\u001b[0mself\u001b[0m\u001b[0;34m.\u001b[0m\u001b[0m_backend\u001b[0m\u001b[0;34m,\u001b[0m \u001b[0mn_jobs\u001b[0m\u001b[0;34m=\u001b[0m\u001b[0mself\u001b[0m\u001b[0;34m.\u001b[0m\u001b[0m_n_jobs\u001b[0m\u001b[0;34m)\u001b[0m\u001b[0;34m:\u001b[0m\u001b[0;34m\u001b[0m\u001b[0;34m\u001b[0m\u001b[0m\n\u001b[0;32m--> 262\u001b[0;31m             return [func(*args, **kwargs)\n\u001b[0m\u001b[1;32m    263\u001b[0m                     for func, args, kwargs in self.items]\n\u001b[1;32m    264\u001b[0m \u001b[0;34m\u001b[0m\u001b[0m\n",
      "\u001b[0;32m~/anaconda3/envs/aienv/lib/python3.8/site-packages/sklearn/utils/fixes.py\u001b[0m in \u001b[0;36m__call__\u001b[0;34m(self, *args, **kwargs)\u001b[0m\n\u001b[1;32m    220\u001b[0m     \u001b[0;32mdef\u001b[0m \u001b[0m__call__\u001b[0m\u001b[0;34m(\u001b[0m\u001b[0mself\u001b[0m\u001b[0;34m,\u001b[0m \u001b[0;34m*\u001b[0m\u001b[0margs\u001b[0m\u001b[0;34m,\u001b[0m \u001b[0;34m**\u001b[0m\u001b[0mkwargs\u001b[0m\u001b[0;34m)\u001b[0m\u001b[0;34m:\u001b[0m\u001b[0;34m\u001b[0m\u001b[0;34m\u001b[0m\u001b[0m\n\u001b[1;32m    221\u001b[0m         \u001b[0;32mwith\u001b[0m \u001b[0mconfig_context\u001b[0m\u001b[0;34m(\u001b[0m\u001b[0;34m**\u001b[0m\u001b[0mself\u001b[0m\u001b[0;34m.\u001b[0m\u001b[0mconfig\u001b[0m\u001b[0;34m)\u001b[0m\u001b[0;34m:\u001b[0m\u001b[0;34m\u001b[0m\u001b[0;34m\u001b[0m\u001b[0m\n\u001b[0;32m--> 222\u001b[0;31m             \u001b[0;32mreturn\u001b[0m \u001b[0mself\u001b[0m\u001b[0;34m.\u001b[0m\u001b[0mfunction\u001b[0m\u001b[0;34m(\u001b[0m\u001b[0;34m*\u001b[0m\u001b[0margs\u001b[0m\u001b[0;34m,\u001b[0m \u001b[0;34m**\u001b[0m\u001b[0mkwargs\u001b[0m\u001b[0;34m)\u001b[0m\u001b[0;34m\u001b[0m\u001b[0;34m\u001b[0m\u001b[0m\n\u001b[0m",
      "\u001b[0;32m~/anaconda3/envs/aienv/lib/python3.8/site-packages/sklearn/model_selection/_validation.py\u001b[0m in \u001b[0;36m_fit_and_score\u001b[0;34m(estimator, X, y, scorer, train, test, verbose, parameters, fit_params, return_train_score, return_parameters, return_n_test_samples, return_times, return_estimator, split_progress, candidate_progress, error_score)\u001b[0m\n\u001b[1;32m    596\u001b[0m             \u001b[0mestimator\u001b[0m\u001b[0;34m.\u001b[0m\u001b[0mfit\u001b[0m\u001b[0;34m(\u001b[0m\u001b[0mX_train\u001b[0m\u001b[0;34m,\u001b[0m \u001b[0;34m**\u001b[0m\u001b[0mfit_params\u001b[0m\u001b[0;34m)\u001b[0m\u001b[0;34m\u001b[0m\u001b[0;34m\u001b[0m\u001b[0m\n\u001b[1;32m    597\u001b[0m         \u001b[0;32melse\u001b[0m\u001b[0;34m:\u001b[0m\u001b[0;34m\u001b[0m\u001b[0;34m\u001b[0m\u001b[0m\n\u001b[0;32m--> 598\u001b[0;31m             \u001b[0mestimator\u001b[0m\u001b[0;34m.\u001b[0m\u001b[0mfit\u001b[0m\u001b[0;34m(\u001b[0m\u001b[0mX_train\u001b[0m\u001b[0;34m,\u001b[0m \u001b[0my_train\u001b[0m\u001b[0;34m,\u001b[0m \u001b[0;34m**\u001b[0m\u001b[0mfit_params\u001b[0m\u001b[0;34m)\u001b[0m\u001b[0;34m\u001b[0m\u001b[0;34m\u001b[0m\u001b[0m\n\u001b[0m\u001b[1;32m    599\u001b[0m \u001b[0;34m\u001b[0m\u001b[0m\n\u001b[1;32m    600\u001b[0m     \u001b[0;32mexcept\u001b[0m \u001b[0mException\u001b[0m \u001b[0;32mas\u001b[0m \u001b[0me\u001b[0m\u001b[0;34m:\u001b[0m\u001b[0;34m\u001b[0m\u001b[0;34m\u001b[0m\u001b[0m\n",
      "\u001b[0;32m~/anaconda3/envs/aienv/lib/python3.8/site-packages/lightgbm/sklearn.py\u001b[0m in \u001b[0;36mfit\u001b[0;34m(self, X, y, sample_weight, init_score, eval_set, eval_names, eval_sample_weight, eval_class_weight, eval_init_score, eval_metric, early_stopping_rounds, verbose, feature_name, categorical_feature, callbacks, init_model)\u001b[0m\n\u001b[1;32m    888\u001b[0m                     \u001b[0mvalid_sets\u001b[0m\u001b[0;34m[\u001b[0m\u001b[0mi\u001b[0m\u001b[0;34m]\u001b[0m \u001b[0;34m=\u001b[0m \u001b[0;34m(\u001b[0m\u001b[0mvalid_x\u001b[0m\u001b[0;34m,\u001b[0m \u001b[0mself\u001b[0m\u001b[0;34m.\u001b[0m\u001b[0m_le\u001b[0m\u001b[0;34m.\u001b[0m\u001b[0mtransform\u001b[0m\u001b[0;34m(\u001b[0m\u001b[0mvalid_y\u001b[0m\u001b[0;34m)\u001b[0m\u001b[0;34m)\u001b[0m\u001b[0;34m\u001b[0m\u001b[0;34m\u001b[0m\u001b[0m\n\u001b[1;32m    889\u001b[0m \u001b[0;34m\u001b[0m\u001b[0m\n\u001b[0;32m--> 890\u001b[0;31m         super().fit(X, _y, sample_weight=sample_weight, init_score=init_score, eval_set=valid_sets,\n\u001b[0m\u001b[1;32m    891\u001b[0m                     \u001b[0meval_names\u001b[0m\u001b[0;34m=\u001b[0m\u001b[0meval_names\u001b[0m\u001b[0;34m,\u001b[0m \u001b[0meval_sample_weight\u001b[0m\u001b[0;34m=\u001b[0m\u001b[0meval_sample_weight\u001b[0m\u001b[0;34m,\u001b[0m\u001b[0;34m\u001b[0m\u001b[0;34m\u001b[0m\u001b[0m\n\u001b[1;32m    892\u001b[0m                     \u001b[0meval_class_weight\u001b[0m\u001b[0;34m=\u001b[0m\u001b[0meval_class_weight\u001b[0m\u001b[0;34m,\u001b[0m \u001b[0meval_init_score\u001b[0m\u001b[0;34m=\u001b[0m\u001b[0meval_init_score\u001b[0m\u001b[0;34m,\u001b[0m\u001b[0;34m\u001b[0m\u001b[0;34m\u001b[0m\u001b[0m\n",
      "\u001b[0;32m~/anaconda3/envs/aienv/lib/python3.8/site-packages/lightgbm/sklearn.py\u001b[0m in \u001b[0;36mfit\u001b[0;34m(self, X, y, sample_weight, init_score, group, eval_set, eval_names, eval_sample_weight, eval_class_weight, eval_init_score, eval_group, eval_metric, early_stopping_rounds, verbose, feature_name, categorical_feature, callbacks, init_model)\u001b[0m\n\u001b[1;32m    681\u001b[0m             \u001b[0minit_model\u001b[0m \u001b[0;34m=\u001b[0m \u001b[0minit_model\u001b[0m\u001b[0;34m.\u001b[0m\u001b[0mbooster_\u001b[0m\u001b[0;34m\u001b[0m\u001b[0;34m\u001b[0m\u001b[0m\n\u001b[1;32m    682\u001b[0m \u001b[0;34m\u001b[0m\u001b[0m\n\u001b[0;32m--> 683\u001b[0;31m         self._Booster = train(params, train_set,\n\u001b[0m\u001b[1;32m    684\u001b[0m                               \u001b[0mself\u001b[0m\u001b[0;34m.\u001b[0m\u001b[0mn_estimators\u001b[0m\u001b[0;34m,\u001b[0m \u001b[0mvalid_sets\u001b[0m\u001b[0;34m=\u001b[0m\u001b[0mvalid_sets\u001b[0m\u001b[0;34m,\u001b[0m \u001b[0mvalid_names\u001b[0m\u001b[0;34m=\u001b[0m\u001b[0meval_names\u001b[0m\u001b[0;34m,\u001b[0m\u001b[0;34m\u001b[0m\u001b[0;34m\u001b[0m\u001b[0m\n\u001b[1;32m    685\u001b[0m                               \u001b[0mearly_stopping_rounds\u001b[0m\u001b[0;34m=\u001b[0m\u001b[0mearly_stopping_rounds\u001b[0m\u001b[0;34m,\u001b[0m\u001b[0;34m\u001b[0m\u001b[0;34m\u001b[0m\u001b[0m\n",
      "\u001b[0;32m~/anaconda3/envs/aienv/lib/python3.8/site-packages/lightgbm/engine.py\u001b[0m in \u001b[0;36mtrain\u001b[0;34m(params, train_set, num_boost_round, valid_sets, valid_names, fobj, feval, init_model, feature_name, categorical_feature, early_stopping_rounds, evals_result, verbose_eval, learning_rates, keep_training_booster, callbacks)\u001b[0m\n\u001b[1;32m    247\u001b[0m                                     evaluation_result_list=None))\n\u001b[1;32m    248\u001b[0m \u001b[0;34m\u001b[0m\u001b[0m\n\u001b[0;32m--> 249\u001b[0;31m         \u001b[0mbooster\u001b[0m\u001b[0;34m.\u001b[0m\u001b[0mupdate\u001b[0m\u001b[0;34m(\u001b[0m\u001b[0mfobj\u001b[0m\u001b[0;34m=\u001b[0m\u001b[0mfobj\u001b[0m\u001b[0;34m)\u001b[0m\u001b[0;34m\u001b[0m\u001b[0;34m\u001b[0m\u001b[0m\n\u001b[0m\u001b[1;32m    250\u001b[0m \u001b[0;34m\u001b[0m\u001b[0m\n\u001b[1;32m    251\u001b[0m         \u001b[0mevaluation_result_list\u001b[0m \u001b[0;34m=\u001b[0m \u001b[0;34m[\u001b[0m\u001b[0;34m]\u001b[0m\u001b[0;34m\u001b[0m\u001b[0;34m\u001b[0m\u001b[0m\n",
      "\u001b[0;32m~/anaconda3/envs/aienv/lib/python3.8/site-packages/lightgbm/basic.py\u001b[0m in \u001b[0;36mupdate\u001b[0;34m(self, train_set, fobj)\u001b[0m\n\u001b[1;32m   2641\u001b[0m             \u001b[0;32mif\u001b[0m \u001b[0mself\u001b[0m\u001b[0;34m.\u001b[0m\u001b[0m__set_objective_to_none\u001b[0m\u001b[0;34m:\u001b[0m\u001b[0;34m\u001b[0m\u001b[0;34m\u001b[0m\u001b[0m\n\u001b[1;32m   2642\u001b[0m                 \u001b[0;32mraise\u001b[0m \u001b[0mLightGBMError\u001b[0m\u001b[0;34m(\u001b[0m\u001b[0;34m'Cannot update due to null objective function.'\u001b[0m\u001b[0;34m)\u001b[0m\u001b[0;34m\u001b[0m\u001b[0;34m\u001b[0m\u001b[0m\n\u001b[0;32m-> 2643\u001b[0;31m             _safe_call(_LIB.LGBM_BoosterUpdateOneIter(\n\u001b[0m\u001b[1;32m   2644\u001b[0m                 \u001b[0mself\u001b[0m\u001b[0;34m.\u001b[0m\u001b[0mhandle\u001b[0m\u001b[0;34m,\u001b[0m\u001b[0;34m\u001b[0m\u001b[0;34m\u001b[0m\u001b[0m\n\u001b[1;32m   2645\u001b[0m                 ctypes.byref(is_finished)))\n",
      "\u001b[0;31mKeyboardInterrupt\u001b[0m: "
     ]
    }
   ],
   "source": [
    "params = {\n",
    "'boosting_type': ['gbdt'],\n",
    "'objective': ['multiclass'],\n",
    "'metric': ['multi_logloss'],\n",
    "'num_class':[5,7,8,10],\n",
    "'max_depth':[6,7,9,10],\n",
    "'num_leaves':[100,150,200,300],\n",
    "'learning_rate': [0.03,0.05,0.1],\n",
    "'n_estimators':[100,200,300,500]\n",
    "}\n",
    "gsearch = GridSearchCV(estimator=best_model, param_grid=params)\n",
    "lgb_model = gsearch.fit(X_, y_)\n",
    "print(lgb_model.best_params_, lgb_model.best_score_)\n"
   ]
  },
  {
   "cell_type": "markdown",
   "id": "c1bbee38",
   "metadata": {
    "cell_id": "00037-e70c6258-4570-472e-8bf4-63f3ff95d82a",
    "deepnote_cell_type": "markdown",
    "tags": []
   },
   "source": [
    "# Other methods "
   ]
  },
  {
   "cell_type": "code",
   "execution_count": 105,
   "id": "4aac4aab",
   "metadata": {
    "ExecuteTime": {
     "end_time": "2021-05-19T12:38:41.032421Z",
     "start_time": "2021-05-19T12:38:40.596607Z"
    },
    "cell_id": "00037-7a05efdd-b501-4d42-befd-a080b34f4d43",
    "deepnote_cell_type": "code",
    "tags": []
   },
   "outputs": [],
   "source": [
    "from sklearn.calibration import CalibratedClassifierCV\n",
    "import optuna"
   ]
  },
  {
   "cell_type": "code",
   "execution_count": 97,
   "id": "e139f4da",
   "metadata": {
    "ExecuteTime": {
     "end_time": "2021-05-19T12:35:59.030201Z",
     "start_time": "2021-05-19T12:35:59.023644Z"
    },
    "cell_id": "00039-2b834df7-891b-498b-ab27-bda93dcfbaba",
    "deepnote_cell_type": "code",
    "tags": []
   },
   "outputs": [],
   "source": [
    "oth=Pipeline([('preprocess',preprocessor),('classification',GaussianNB())])"
   ]
  },
  {
   "cell_type": "code",
   "execution_count": 113,
   "id": "cc25b971",
   "metadata": {
    "ExecuteTime": {
     "end_time": "2021-05-19T12:50:01.109641Z",
     "start_time": "2021-05-19T12:50:01.059022Z"
    },
    "cell_id": "00039-d6a8eb4b-d580-445d-9240-d2166c9bd4c8",
    "deepnote_cell_type": "code",
    "tags": []
   },
   "outputs": [
    {
     "name": "stderr",
     "output_type": "stream",
     "text": [
      "\u001b[32m[I 2021-05-19 16:50:01,062]\u001b[0m A new study created in memory with name: no-name-884165cc-e81c-4bdd-b53b-54b73b61fd79\u001b[0m\n",
      "\u001b[33m[W 2021-05-19 16:50:01,069]\u001b[0m Trial 0 failed because of the following error: TypeError(\"suggest_int() missing 1 required positional argument: 'high'\")\n",
      "Traceback (most recent call last):\n",
      "  File \"/home/nsarkhanov/anaconda3/envs/aienv/lib/python3.8/site-packages/optuna/_optimize.py\", line 217, in _run_trial\n",
      "    value_or_values = func(trial)\n",
      "  File \"<ipython-input-113-1b69b8f85c14>\", line 8, in objective\n",
      "    learning_rate =trial.suggest_int(\"learning_rate\",[ 0.001,0.1])\n",
      "TypeError: suggest_int() missing 1 required positional argument: 'high'\u001b[0m\n"
     ]
    },
    {
     "ename": "TypeError",
     "evalue": "suggest_int() missing 1 required positional argument: 'high'",
     "output_type": "error",
     "traceback": [
      "\u001b[0;31m---------------------------------------------------------------------------\u001b[0m",
      "\u001b[0;31mTypeError\u001b[0m                                 Traceback (most recent call last)",
      "\u001b[0;32m<ipython-input-113-1b69b8f85c14>\u001b[0m in \u001b[0;36m<module>\u001b[0;34m\u001b[0m\n\u001b[1;32m     17\u001b[0m \u001b[0;34m\u001b[0m\u001b[0m\n\u001b[1;32m     18\u001b[0m \u001b[0mstudy\u001b[0m \u001b[0;34m=\u001b[0m \u001b[0moptuna\u001b[0m\u001b[0;34m.\u001b[0m\u001b[0mcreate_study\u001b[0m\u001b[0;34m(\u001b[0m\u001b[0mdirection\u001b[0m\u001b[0;34m=\u001b[0m\u001b[0;34m\"maximize\"\u001b[0m\u001b[0;34m)\u001b[0m\u001b[0;34m\u001b[0m\u001b[0;34m\u001b[0m\u001b[0m\n\u001b[0;32m---> 19\u001b[0;31m \u001b[0mstudy\u001b[0m\u001b[0;34m.\u001b[0m\u001b[0moptimize\u001b[0m\u001b[0;34m(\u001b[0m\u001b[0mobjective\u001b[0m\u001b[0;34m,\u001b[0m \u001b[0mn_trials\u001b[0m\u001b[0;34m=\u001b[0m\u001b[0;36m20\u001b[0m\u001b[0;34m)\u001b[0m\u001b[0;34m\u001b[0m\u001b[0;34m\u001b[0m\u001b[0m\n\u001b[0m\u001b[1;32m     20\u001b[0m \u001b[0;34m\u001b[0m\u001b[0m\n\u001b[1;32m     21\u001b[0m \u001b[0mtrial\u001b[0m \u001b[0;34m=\u001b[0m \u001b[0mstudy\u001b[0m\u001b[0;34m.\u001b[0m\u001b[0mbest_trial\u001b[0m\u001b[0;34m\u001b[0m\u001b[0;34m\u001b[0m\u001b[0m\n",
      "\u001b[0;32m~/anaconda3/envs/aienv/lib/python3.8/site-packages/optuna/study.py\u001b[0m in \u001b[0;36moptimize\u001b[0;34m(self, func, n_trials, timeout, n_jobs, catch, callbacks, gc_after_trial, show_progress_bar)\u001b[0m\n\u001b[1;32m    398\u001b[0m             )\n\u001b[1;32m    399\u001b[0m \u001b[0;34m\u001b[0m\u001b[0m\n\u001b[0;32m--> 400\u001b[0;31m         _optimize(\n\u001b[0m\u001b[1;32m    401\u001b[0m             \u001b[0mstudy\u001b[0m\u001b[0;34m=\u001b[0m\u001b[0mself\u001b[0m\u001b[0;34m,\u001b[0m\u001b[0;34m\u001b[0m\u001b[0;34m\u001b[0m\u001b[0m\n\u001b[1;32m    402\u001b[0m             \u001b[0mfunc\u001b[0m\u001b[0;34m=\u001b[0m\u001b[0mfunc\u001b[0m\u001b[0;34m,\u001b[0m\u001b[0;34m\u001b[0m\u001b[0;34m\u001b[0m\u001b[0m\n",
      "\u001b[0;32m~/anaconda3/envs/aienv/lib/python3.8/site-packages/optuna/_optimize.py\u001b[0m in \u001b[0;36m_optimize\u001b[0;34m(study, func, n_trials, timeout, n_jobs, catch, callbacks, gc_after_trial, show_progress_bar)\u001b[0m\n\u001b[1;32m     64\u001b[0m     \u001b[0;32mtry\u001b[0m\u001b[0;34m:\u001b[0m\u001b[0;34m\u001b[0m\u001b[0;34m\u001b[0m\u001b[0m\n\u001b[1;32m     65\u001b[0m         \u001b[0;32mif\u001b[0m \u001b[0mn_jobs\u001b[0m \u001b[0;34m==\u001b[0m \u001b[0;36m1\u001b[0m\u001b[0;34m:\u001b[0m\u001b[0;34m\u001b[0m\u001b[0;34m\u001b[0m\u001b[0m\n\u001b[0;32m---> 66\u001b[0;31m             _optimize_sequential(\n\u001b[0m\u001b[1;32m     67\u001b[0m                 \u001b[0mstudy\u001b[0m\u001b[0;34m,\u001b[0m\u001b[0;34m\u001b[0m\u001b[0;34m\u001b[0m\u001b[0m\n\u001b[1;32m     68\u001b[0m                 \u001b[0mfunc\u001b[0m\u001b[0;34m,\u001b[0m\u001b[0;34m\u001b[0m\u001b[0;34m\u001b[0m\u001b[0m\n",
      "\u001b[0;32m~/anaconda3/envs/aienv/lib/python3.8/site-packages/optuna/_optimize.py\u001b[0m in \u001b[0;36m_optimize_sequential\u001b[0;34m(study, func, n_trials, timeout, catch, callbacks, gc_after_trial, reseed_sampler_rng, time_start, progress_bar)\u001b[0m\n\u001b[1;32m    161\u001b[0m \u001b[0;34m\u001b[0m\u001b[0m\n\u001b[1;32m    162\u001b[0m         \u001b[0;32mtry\u001b[0m\u001b[0;34m:\u001b[0m\u001b[0;34m\u001b[0m\u001b[0;34m\u001b[0m\u001b[0m\n\u001b[0;32m--> 163\u001b[0;31m             \u001b[0mtrial\u001b[0m \u001b[0;34m=\u001b[0m \u001b[0m_run_trial\u001b[0m\u001b[0;34m(\u001b[0m\u001b[0mstudy\u001b[0m\u001b[0;34m,\u001b[0m \u001b[0mfunc\u001b[0m\u001b[0;34m,\u001b[0m \u001b[0mcatch\u001b[0m\u001b[0;34m)\u001b[0m\u001b[0;34m\u001b[0m\u001b[0;34m\u001b[0m\u001b[0m\n\u001b[0m\u001b[1;32m    164\u001b[0m         \u001b[0;32mexcept\u001b[0m \u001b[0mException\u001b[0m\u001b[0;34m:\u001b[0m\u001b[0;34m\u001b[0m\u001b[0;34m\u001b[0m\u001b[0m\n\u001b[1;32m    165\u001b[0m             \u001b[0;32mraise\u001b[0m\u001b[0;34m\u001b[0m\u001b[0;34m\u001b[0m\u001b[0m\n",
      "\u001b[0;32m~/anaconda3/envs/aienv/lib/python3.8/site-packages/optuna/_optimize.py\u001b[0m in \u001b[0;36m_run_trial\u001b[0;34m(study, func, catch)\u001b[0m\n\u001b[1;32m    266\u001b[0m \u001b[0;34m\u001b[0m\u001b[0m\n\u001b[1;32m    267\u001b[0m     \u001b[0;32mif\u001b[0m \u001b[0mstate\u001b[0m \u001b[0;34m==\u001b[0m \u001b[0mTrialState\u001b[0m\u001b[0;34m.\u001b[0m\u001b[0mFAIL\u001b[0m \u001b[0;32mand\u001b[0m \u001b[0mfunc_err\u001b[0m \u001b[0;32mis\u001b[0m \u001b[0;32mnot\u001b[0m \u001b[0;32mNone\u001b[0m \u001b[0;32mand\u001b[0m \u001b[0;32mnot\u001b[0m \u001b[0misinstance\u001b[0m\u001b[0;34m(\u001b[0m\u001b[0mfunc_err\u001b[0m\u001b[0;34m,\u001b[0m \u001b[0mcatch\u001b[0m\u001b[0;34m)\u001b[0m\u001b[0;34m:\u001b[0m\u001b[0;34m\u001b[0m\u001b[0;34m\u001b[0m\u001b[0m\n\u001b[0;32m--> 268\u001b[0;31m         \u001b[0;32mraise\u001b[0m \u001b[0mfunc_err\u001b[0m\u001b[0;34m\u001b[0m\u001b[0;34m\u001b[0m\u001b[0m\n\u001b[0m\u001b[1;32m    269\u001b[0m     \u001b[0;32mreturn\u001b[0m \u001b[0mtrial\u001b[0m\u001b[0;34m\u001b[0m\u001b[0;34m\u001b[0m\u001b[0m\n\u001b[1;32m    270\u001b[0m \u001b[0;34m\u001b[0m\u001b[0m\n",
      "\u001b[0;32m~/anaconda3/envs/aienv/lib/python3.8/site-packages/optuna/_optimize.py\u001b[0m in \u001b[0;36m_run_trial\u001b[0;34m(study, func, catch)\u001b[0m\n\u001b[1;32m    215\u001b[0m \u001b[0;34m\u001b[0m\u001b[0m\n\u001b[1;32m    216\u001b[0m     \u001b[0;32mtry\u001b[0m\u001b[0;34m:\u001b[0m\u001b[0;34m\u001b[0m\u001b[0;34m\u001b[0m\u001b[0m\n\u001b[0;32m--> 217\u001b[0;31m         \u001b[0mvalue_or_values\u001b[0m \u001b[0;34m=\u001b[0m \u001b[0mfunc\u001b[0m\u001b[0;34m(\u001b[0m\u001b[0mtrial\u001b[0m\u001b[0;34m)\u001b[0m\u001b[0;34m\u001b[0m\u001b[0;34m\u001b[0m\u001b[0m\n\u001b[0m\u001b[1;32m    218\u001b[0m     \u001b[0;32mexcept\u001b[0m \u001b[0mexceptions\u001b[0m\u001b[0;34m.\u001b[0m\u001b[0mTrialPruned\u001b[0m \u001b[0;32mas\u001b[0m \u001b[0me\u001b[0m\u001b[0;34m:\u001b[0m\u001b[0;34m\u001b[0m\u001b[0;34m\u001b[0m\u001b[0m\n\u001b[1;32m    219\u001b[0m         \u001b[0;31m# TODO(mamu): Handle multi-objective cases.\u001b[0m\u001b[0;34m\u001b[0m\u001b[0;34m\u001b[0m\u001b[0;34m\u001b[0m\u001b[0m\n",
      "\u001b[0;32m<ipython-input-113-1b69b8f85c14>\u001b[0m in \u001b[0;36mobjective\u001b[0;34m(trial)\u001b[0m\n\u001b[1;32m      6\u001b[0m     \u001b[0mmax_depth\u001b[0m \u001b[0;34m=\u001b[0m \u001b[0mtrial\u001b[0m\u001b[0;34m.\u001b[0m\u001b[0msuggest_int\u001b[0m\u001b[0;34m(\u001b[0m\u001b[0;34m\"max_depth\"\u001b[0m\u001b[0;34m,\u001b[0m \u001b[0;36m2\u001b[0m\u001b[0;34m,\u001b[0m \u001b[0;36m60\u001b[0m\u001b[0;34m,\u001b[0m \u001b[0mlog\u001b[0m\u001b[0;34m=\u001b[0m\u001b[0;32mTrue\u001b[0m\u001b[0;34m)\u001b[0m\u001b[0;34m\u001b[0m\u001b[0;34m\u001b[0m\u001b[0m\n\u001b[1;32m      7\u001b[0m     \u001b[0mn_estimators\u001b[0m \u001b[0;34m=\u001b[0m \u001b[0mtrial\u001b[0m\u001b[0;34m.\u001b[0m\u001b[0msuggest_int\u001b[0m\u001b[0;34m(\u001b[0m\u001b[0;34m\"n_estimators\"\u001b[0m\u001b[0;34m,\u001b[0m \u001b[0;36m100\u001b[0m\u001b[0;34m,\u001b[0m\u001b[0;36m500\u001b[0m\u001b[0;34m)\u001b[0m\u001b[0;34m\u001b[0m\u001b[0;34m\u001b[0m\u001b[0m\n\u001b[0;32m----> 8\u001b[0;31m     \u001b[0mlearning_rate\u001b[0m \u001b[0;34m=\u001b[0m\u001b[0mtrial\u001b[0m\u001b[0;34m.\u001b[0m\u001b[0msuggest_int\u001b[0m\u001b[0;34m(\u001b[0m\u001b[0;34m\"learning_rate\"\u001b[0m\u001b[0;34m,\u001b[0m\u001b[0;34m[\u001b[0m \u001b[0;36m0.001\u001b[0m\u001b[0;34m,\u001b[0m\u001b[0;36m0.1\u001b[0m\u001b[0;34m]\u001b[0m\u001b[0;34m)\u001b[0m\u001b[0;34m\u001b[0m\u001b[0;34m\u001b[0m\u001b[0m\n\u001b[0m\u001b[1;32m      9\u001b[0m \u001b[0;34m\u001b[0m\u001b[0m\n\u001b[1;32m     10\u001b[0m     lg_lgbm = LGBMClassifier( boosting_type=criterion, max_depth=max_depth, \n",
      "\u001b[0;31mTypeError\u001b[0m: suggest_int() missing 1 required positional argument: 'high'"
     ]
    }
   ],
   "source": [
    "import optuna\n",
    "\n",
    "def objective(trial):\n",
    "\n",
    "    criterion = trial.suggest_categorical(\"boosting_type\", [\"gbdt\", \"rf\"])\n",
    "    max_depth = trial.suggest_int(\"max_depth\", 2, 60, log=True)\n",
    "    n_estimators = trial.suggest_int(\"n_estimators\", 100,500)\n",
    "    learning_rate =trial.suggest_int(\"learning_rate\",[ 0.001,0.1])\n",
    "\n",
    "    lg_lgbm = LGBMClassifier( boosting_type=criterion, max_depth=max_depth, \n",
    "            n_estimators=n_estimators,learning_rate=learning_rate\n",
    "        )\n",
    "\n",
    "    score = cross_val_score(lg_lgbm, X_,y_, n_jobs=-1, cv=3)\n",
    "    accuracy = score.mean()\n",
    "    return accuracy\n",
    "\n",
    "study = optuna.create_study(direction=\"maximize\")\n",
    "study.optimize(objective, n_trials=20)\n",
    "\n",
    "trial = study.best_trial\n",
    "print('Accuracy: {}'.format(trial.value))\n",
    "print(\"Best hyperparameters: {}\".format(trial.params))\n"
   ]
  },
  {
   "cell_type": "code",
   "execution_count": null,
   "id": "c011dfa2",
   "metadata": {
    "cell_id": "00039-beeb8b56-6f31-4dc0-8697-bed86b06ca5d",
    "deepnote_cell_type": "code",
    "tags": []
   },
   "outputs": [],
   "source": [
    "# clf_isotonic_score = brier_score_loss(y_test, prob_pos_isotonic,\n",
    "#                                       sample_weight=sw_test)\n",
    "# print(\"With isotonic calibration: %1.3f\" % clf_isotonic_score"
   ]
  },
  {
   "cell_type": "markdown",
   "id": "8cd59e17",
   "metadata": {
    "created_in_deepnote_cell": true,
    "deepnote_cell_type": "markdown",
    "tags": []
   },
   "source": [
    "<a style='text-decoration:none;line-height:16px;display:flex;color:#5B5B62;padding:10px;justify-content:end;' href='https://deepnote.com?utm_source=created-in-deepnote-cell&projectId=3e7089f3-11a5-48ad-89c4-39a166311a14' target=\"_blank\">\n",
    "<img alt='Created in deepnote.com' style='display:inline;max-height:16px;margin:0px;margin-right:7.5px;' src='data:image/svg+xml;base64,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' > </img>\n",
    "Created in <span style='font-weight:600;margin-left:4px;'>Deepnote</span></a>"
   ]
  }
 ],
 "metadata": {
  "deepnote": {},
  "deepnote_execution_queue": [
   {
    "cellId": "00036-f8044fff-4d29-45bd-8ff8-21846e0256f1",
    "msgId": "a0eefad6-7bbd-4603-8fed-2940de8884ea",
    "sessionId": "a4c44e80-405a-43fc-968f-79577dc2c4bf"
   }
  ],
  "deepnote_notebook_id": "4d03dad0-0d4b-4262-80a0-cfac3bff1f59",
  "hide_input": false,
  "kernelspec": {
   "display_name": "Python 3",
   "language": "python",
   "name": "python3"
  },
  "language_info": {
   "codemirror_mode": {
    "name": "ipython",
    "version": 3
   },
   "file_extension": ".py",
   "mimetype": "text/x-python",
   "name": "python",
   "nbconvert_exporter": "python",
   "pygments_lexer": "ipython3",
   "version": "3.8.2"
  },
  "toc": {
   "base_numbering": 1,
   "nav_menu": {},
   "number_sections": true,
   "sideBar": true,
   "skip_h1_title": false,
   "title_cell": "Table of Contents",
   "title_sidebar": "Contents",
   "toc_cell": false,
   "toc_position": {},
   "toc_section_display": true,
   "toc_window_display": false
  },
  "varInspector": {
   "cols": {
    "lenName": 16,
    "lenType": 16,
    "lenVar": 40
   },
   "kernels_config": {
    "python": {
     "delete_cmd_postfix": "",
     "delete_cmd_prefix": "del ",
     "library": "var_list.py",
     "varRefreshCmd": "print(var_dic_list())"
    },
    "r": {
     "delete_cmd_postfix": ") ",
     "delete_cmd_prefix": "rm(",
     "library": "var_list.r",
     "varRefreshCmd": "cat(var_dic_list()) "
    }
   },
   "types_to_exclude": [
    "module",
    "function",
    "builtin_function_or_method",
    "instance",
    "_Feature"
   ],
   "window_display": false
  }
 },
 "nbformat": 4,
 "nbformat_minor": 5
}
