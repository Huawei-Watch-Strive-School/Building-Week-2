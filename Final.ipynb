{
 "cells": [
  {
   "cell_type": "code",
   "execution_count": 1,
   "id": "1c774f0f",
   "metadata": {
    "ExecuteTime": {
     "end_time": "2021-05-20T10:59:12.627537Z",
     "start_time": "2021-05-20T10:59:11.463260Z"
    },
    "cell_id": "00000-8c7c8fca-1c70-4587-91f3-3db57bfd28d0",
    "deepnote_cell_type": "code",
    "deepnote_to_be_reexecuted": false,
    "execution_millis": 5,
    "execution_start": 1621413648486,
    "source_hash": "570c8184"
   },
   "outputs": [
    {
     "name": "stdout",
     "output_type": "stream",
     "text": [
      "Pandas   1.2.4\n",
      "Sklearn  0.24.2\n"
     ]
    }
   ],
   "source": [
    "import time\n",
    "from IPython.display import clear_output\n",
    "import numpy    as np\n",
    "import pandas   as pd\n",
    "from sklearn.decomposition import PCA\n",
    "from sklearn.metrics import classification_report,confusion_matrix\n",
    "from sklearn.ensemble import RandomForestClassifier,GradientBoostingClassifier\n",
    "from sklearn.pipeline import Pipeline ,make_pipeline\n",
    "from sklearn import impute\n",
    "from sklearn import compose\n",
    "from sklearn.model_selection import train_test_split,cross_val_score\n",
    "from sklearn.metrics import accuracy_score, balanced_accuracy_score, plot_confusion_matrix,roc_auc_score\n",
    "from sklearn import set_config\n",
    "import warnings\n",
    "warnings.filterwarnings('ignore')\n",
    "from sklearn.preprocessing import MinMaxScaler,Normalizer,PowerTransformer,QuantileTransformer, RobustScaler,StandardScaler,LabelEncoder, OneHotEncoder,OrdinalEncoder\n",
    "from sklearn.tree          import DecisionTreeClassifier\n",
    "from sklearn.linear_model  import LogisticRegression    \n",
    "from xgboost               import XGBClassifier\n",
    "from lightgbm              import LGBMClassifier\n",
    "from sklearn.neighbors import KNeighborsClassifier\n",
    "from sklearn.naive_bayes import GaussianNB\n",
    "import sklearn\n",
    "set_config(display='diagram') # Useful for display the pipeline\n",
    "print(\"Pandas  \", pd.__version__)\n",
    "print(\"Sklearn \", sklearn.__version__) # Try to use 0.24\n",
    "\n"
   ]
  },
  {
   "cell_type": "code",
   "execution_count": 2,
   "id": "341b1505",
   "metadata": {
    "ExecuteTime": {
     "end_time": "2021-05-20T10:59:17.052209Z",
     "start_time": "2021-05-20T10:59:16.876344Z"
    },
    "cell_id": "00001-06e6221d-0730-4e01-9045-bce276c93090",
    "deepnote_cell_type": "code",
    "deepnote_to_be_reexecuted": false,
    "execution_millis": 165,
    "execution_start": 1621413555476,
    "source_hash": "31454d99"
   },
   "outputs": [
    {
     "data": {
      "text/html": [
       "<div>\n",
       "<style scoped>\n",
       "    .dataframe tbody tr th:only-of-type {\n",
       "        vertical-align: middle;\n",
       "    }\n",
       "\n",
       "    .dataframe tbody tr th {\n",
       "        vertical-align: top;\n",
       "    }\n",
       "\n",
       "    .dataframe thead th {\n",
       "        text-align: right;\n",
       "    }\n",
       "</style>\n",
       "<table border=\"1\" class=\"dataframe\">\n",
       "  <thead>\n",
       "    <tr style=\"text-align: right;\">\n",
       "      <th></th>\n",
       "      <th>id</th>\n",
       "      <th>time</th>\n",
       "      <th>activityrecognition#0</th>\n",
       "      <th>activityrecognition#1</th>\n",
       "      <th>android.sensor.accelerometer#mean</th>\n",
       "      <th>android.sensor.accelerometer#min</th>\n",
       "      <th>android.sensor.accelerometer#max</th>\n",
       "      <th>android.sensor.accelerometer#std</th>\n",
       "      <th>android.sensor.game_rotation_vector#mean</th>\n",
       "      <th>android.sensor.game_rotation_vector#min</th>\n",
       "      <th>...</th>\n",
       "      <th>sound#mean</th>\n",
       "      <th>sound#min</th>\n",
       "      <th>sound#max</th>\n",
       "      <th>sound#std</th>\n",
       "      <th>speed#mean</th>\n",
       "      <th>speed#min</th>\n",
       "      <th>speed#max</th>\n",
       "      <th>speed#std</th>\n",
       "      <th>target</th>\n",
       "      <th>user</th>\n",
       "    </tr>\n",
       "  </thead>\n",
       "  <tbody>\n",
       "    <tr>\n",
       "      <th>0</th>\n",
       "      <td>16170</td>\n",
       "      <td>78.0</td>\n",
       "      <td>NaN</td>\n",
       "      <td>100.0</td>\n",
       "      <td>9.811476</td>\n",
       "      <td>9.758895</td>\n",
       "      <td>9.849411</td>\n",
       "      <td>0.014626</td>\n",
       "      <td>0.029340</td>\n",
       "      <td>0.029014</td>\n",
       "      <td>...</td>\n",
       "      <td>NaN</td>\n",
       "      <td>NaN</td>\n",
       "      <td>NaN</td>\n",
       "      <td>NaN</td>\n",
       "      <td>0.000000</td>\n",
       "      <td>0.000000</td>\n",
       "      <td>0.000000</td>\n",
       "      <td>0.000000</td>\n",
       "      <td>Still</td>\n",
       "      <td>Luca</td>\n",
       "    </tr>\n",
       "    <tr>\n",
       "      <th>1</th>\n",
       "      <td>15871</td>\n",
       "      <td>145.0</td>\n",
       "      <td>NaN</td>\n",
       "      <td>100.0</td>\n",
       "      <td>9.939207</td>\n",
       "      <td>7.707437</td>\n",
       "      <td>17.146631</td>\n",
       "      <td>1.775944</td>\n",
       "      <td>0.999925</td>\n",
       "      <td>0.999903</td>\n",
       "      <td>...</td>\n",
       "      <td>89.200210</td>\n",
       "      <td>89.065143</td>\n",
       "      <td>89.335277</td>\n",
       "      <td>0.191013</td>\n",
       "      <td>16.539349</td>\n",
       "      <td>16.539349</td>\n",
       "      <td>16.539349</td>\n",
       "      <td>0.628595</td>\n",
       "      <td>Car</td>\n",
       "      <td>Luca</td>\n",
       "    </tr>\n",
       "    <tr>\n",
       "      <th>2</th>\n",
       "      <td>16811</td>\n",
       "      <td>150.0</td>\n",
       "      <td>NaN</td>\n",
       "      <td>100.0</td>\n",
       "      <td>9.827178</td>\n",
       "      <td>9.804817</td>\n",
       "      <td>9.849262</td>\n",
       "      <td>0.011199</td>\n",
       "      <td>0.665215</td>\n",
       "      <td>0.665213</td>\n",
       "      <td>...</td>\n",
       "      <td>NaN</td>\n",
       "      <td>NaN</td>\n",
       "      <td>NaN</td>\n",
       "      <td>NaN</td>\n",
       "      <td>0.000000</td>\n",
       "      <td>0.000000</td>\n",
       "      <td>0.000000</td>\n",
       "      <td>0.000000</td>\n",
       "      <td>Still</td>\n",
       "      <td>Luca</td>\n",
       "    </tr>\n",
       "    <tr>\n",
       "      <th>3</th>\n",
       "      <td>15831</td>\n",
       "      <td>105.0</td>\n",
       "      <td>NaN</td>\n",
       "      <td>77.0</td>\n",
       "      <td>9.673039</td>\n",
       "      <td>7.659674</td>\n",
       "      <td>12.304298</td>\n",
       "      <td>0.862553</td>\n",
       "      <td>0.996221</td>\n",
       "      <td>0.993781</td>\n",
       "      <td>...</td>\n",
       "      <td>87.470377</td>\n",
       "      <td>87.470377</td>\n",
       "      <td>87.470377</td>\n",
       "      <td>2.284186</td>\n",
       "      <td>17.739895</td>\n",
       "      <td>17.739895</td>\n",
       "      <td>17.739895</td>\n",
       "      <td>0.628595</td>\n",
       "      <td>Car</td>\n",
       "      <td>Luca</td>\n",
       "    </tr>\n",
       "    <tr>\n",
       "      <th>4</th>\n",
       "      <td>876</td>\n",
       "      <td>77.0</td>\n",
       "      <td>NaN</td>\n",
       "      <td>100.0</td>\n",
       "      <td>9.993466</td>\n",
       "      <td>8.965621</td>\n",
       "      <td>10.891645</td>\n",
       "      <td>0.504117</td>\n",
       "      <td>0.563792</td>\n",
       "      <td>0.521799</td>\n",
       "      <td>...</td>\n",
       "      <td>89.770732</td>\n",
       "      <td>89.770732</td>\n",
       "      <td>89.770732</td>\n",
       "      <td>0.006389</td>\n",
       "      <td>9.000000</td>\n",
       "      <td>9.000000</td>\n",
       "      <td>9.000000</td>\n",
       "      <td>NaN</td>\n",
       "      <td>Car</td>\n",
       "      <td>andrea</td>\n",
       "    </tr>\n",
       "  </tbody>\n",
       "</table>\n",
       "<p>5 rows × 70 columns</p>\n",
       "</div>"
      ],
      "text/plain": [
       "      id   time  activityrecognition#0  activityrecognition#1  \\\n",
       "0  16170   78.0                    NaN                  100.0   \n",
       "1  15871  145.0                    NaN                  100.0   \n",
       "2  16811  150.0                    NaN                  100.0   \n",
       "3  15831  105.0                    NaN                   77.0   \n",
       "4    876   77.0                    NaN                  100.0   \n",
       "\n",
       "   android.sensor.accelerometer#mean  android.sensor.accelerometer#min  \\\n",
       "0                           9.811476                          9.758895   \n",
       "1                           9.939207                          7.707437   \n",
       "2                           9.827178                          9.804817   \n",
       "3                           9.673039                          7.659674   \n",
       "4                           9.993466                          8.965621   \n",
       "\n",
       "   android.sensor.accelerometer#max  android.sensor.accelerometer#std  \\\n",
       "0                          9.849411                          0.014626   \n",
       "1                         17.146631                          1.775944   \n",
       "2                          9.849262                          0.011199   \n",
       "3                         12.304298                          0.862553   \n",
       "4                         10.891645                          0.504117   \n",
       "\n",
       "   android.sensor.game_rotation_vector#mean  \\\n",
       "0                                  0.029340   \n",
       "1                                  0.999925   \n",
       "2                                  0.665215   \n",
       "3                                  0.996221   \n",
       "4                                  0.563792   \n",
       "\n",
       "   android.sensor.game_rotation_vector#min  ...  sound#mean  sound#min  \\\n",
       "0                                 0.029014  ...         NaN        NaN   \n",
       "1                                 0.999903  ...   89.200210  89.065143   \n",
       "2                                 0.665213  ...         NaN        NaN   \n",
       "3                                 0.993781  ...   87.470377  87.470377   \n",
       "4                                 0.521799  ...   89.770732  89.770732   \n",
       "\n",
       "   sound#max  sound#std  speed#mean  speed#min  speed#max  speed#std  target  \\\n",
       "0        NaN        NaN    0.000000   0.000000   0.000000   0.000000   Still   \n",
       "1  89.335277   0.191013   16.539349  16.539349  16.539349   0.628595     Car   \n",
       "2        NaN        NaN    0.000000   0.000000   0.000000   0.000000   Still   \n",
       "3  87.470377   2.284186   17.739895  17.739895  17.739895   0.628595     Car   \n",
       "4  89.770732   0.006389    9.000000   9.000000   9.000000        NaN     Car   \n",
       "\n",
       "     user  \n",
       "0    Luca  \n",
       "1    Luca  \n",
       "2    Luca  \n",
       "3    Luca  \n",
       "4  andrea  \n",
       "\n",
       "[5 rows x 70 columns]"
      ]
     },
     "execution_count": 2,
     "metadata": {},
     "output_type": "execute_result"
    }
   ],
   "source": [
    "data = pd.read_csv('./data/data_5secondWindow .csv')\n",
    "data.head(5)"
   ]
  },
  {
   "cell_type": "code",
   "execution_count": null,
   "id": "ad6e175f",
   "metadata": {
    "ExecuteTime": {
     "end_time": "2021-05-20T10:20:08.827247Z",
     "start_time": "2021-05-20T10:20:08.621464Z"
    }
   },
   "outputs": [],
   "source": [
    "data.describe()"
   ]
  },
  {
   "cell_type": "code",
   "execution_count": 3,
   "id": "6eb5ef60",
   "metadata": {
    "ExecuteTime": {
     "end_time": "2021-05-20T10:59:20.952786Z",
     "start_time": "2021-05-20T10:59:20.949175Z"
    }
   },
   "outputs": [],
   "source": [
    "from random import shuffle"
   ]
  },
  {
   "cell_type": "code",
   "execution_count": 6,
   "id": "7d296bb1",
   "metadata": {
    "ExecuteTime": {
     "end_time": "2021-05-20T10:59:38.766124Z",
     "start_time": "2021-05-20T10:59:38.758919Z"
    }
   },
   "outputs": [
    {
     "data": {
      "text/plain": [
       "['Luca',\n",
       " 'andrea',\n",
       " 'Federica',\n",
       " 'michelangelo',\n",
       " 'Damiano',\n",
       " 'Claudio',\n",
       " 'Vincenzo',\n",
       " 'Serena',\n",
       " 'Pierpaolo',\n",
       " 'IvanHeibi',\n",
       " 'AndreaCarpineti',\n",
       " 'Elena',\n",
       " 'Riccardo']"
      ]
     },
     "execution_count": 6,
     "metadata": {},
     "output_type": "execute_result"
    }
   ],
   "source": [
    "l = data.user.unique().tolist()\n",
    "l"
   ]
  },
  {
   "cell_type": "code",
   "execution_count": 7,
   "id": "b1df4334",
   "metadata": {
    "ExecuteTime": {
     "end_time": "2021-05-20T10:59:41.888442Z",
     "start_time": "2021-05-20T10:59:41.882862Z"
    }
   },
   "outputs": [],
   "source": [
    "shuffle(l)\n"
   ]
  },
  {
   "cell_type": "code",
   "execution_count": 8,
   "id": "ae375f93",
   "metadata": {
    "ExecuteTime": {
     "end_time": "2021-05-20T10:59:43.395444Z",
     "start_time": "2021-05-20T10:59:43.389104Z"
    }
   },
   "outputs": [
    {
     "data": {
      "text/plain": [
       "['Luca',\n",
       " 'andrea',\n",
       " 'Vincenzo',\n",
       " 'Serena',\n",
       " 'Federica',\n",
       " 'IvanHeibi',\n",
       " 'Damiano',\n",
       " 'Riccardo',\n",
       " 'michelangelo',\n",
       " 'Elena',\n",
       " 'Claudio',\n",
       " 'Pierpaolo',\n",
       " 'AndreaCarpineti']"
      ]
     },
     "execution_count": 8,
     "metadata": {},
     "output_type": "execute_result"
    }
   ],
   "source": [
    "l"
   ]
  },
  {
   "cell_type": "markdown",
   "id": "be77317a",
   "metadata": {
    "cell_id": "00003-e5ab99da-fe36-44fe-9a13-cc69469addea",
    "deepnote_cell_type": "markdown"
   },
   "source": [
    "# Create test data "
   ]
  },
  {
   "cell_type": "code",
   "execution_count": 9,
   "id": "6807fe9b",
   "metadata": {
    "ExecuteTime": {
     "end_time": "2021-05-20T11:00:14.235994Z",
     "start_time": "2021-05-20T11:00:14.231162Z"
    },
    "cell_id": "00004-673f68c6-55b2-41ac-90a1-90f8c4713ada",
    "deepnote_cell_type": "code",
    "deepnote_to_be_reexecuted": false,
    "execution_millis": 116,
    "execution_start": 1621413569436,
    "source_hash": "d1d762a3"
   },
   "outputs": [],
   "source": [
    "# create test data from some user \n",
    "def split_data(df,l):\n",
    "   \n",
    "    # create random list of indi\n",
    "    train_user=l[2:]\n",
    "    test_user=l[:2]\n",
    "    # get splitting indicies\n",
    "    train=data[data['user'].isin(train_user)]\n",
    "    test = data[data['user'].isin(test_user)]\n",
    "    return train, test\n"
   ]
  },
  {
   "cell_type": "code",
   "execution_count": 11,
   "id": "744a5527",
   "metadata": {
    "ExecuteTime": {
     "end_time": "2021-05-20T11:00:40.702936Z",
     "start_time": "2021-05-20T11:00:40.691341Z"
    }
   },
   "outputs": [],
   "source": [
    "df_train,df_test=split_data(data,l)"
   ]
  },
  {
   "cell_type": "markdown",
   "id": "9a63a2a7",
   "metadata": {
    "cell_id": "00005-47202497-afc2-4356-824f-3bbd975e589c",
    "deepnote_cell_type": "markdown"
   },
   "source": [
    "## Subtract test data from data "
   ]
  },
  {
   "cell_type": "code",
   "execution_count": 12,
   "id": "fc4ea9ed",
   "metadata": {
    "ExecuteTime": {
     "end_time": "2021-05-20T11:00:51.372326Z",
     "start_time": "2021-05-20T11:00:51.367555Z"
    },
    "cell_id": "00009-0d70d803-3143-4480-9a4e-f2a94e1e970c",
    "deepnote_cell_type": "code",
    "deepnote_to_be_reexecuted": false,
    "execution_millis": 21,
    "execution_start": 1621413585036,
    "source_hash": "f72c817d"
   },
   "outputs": [
    {
     "name": "stdout",
     "output_type": "stream",
     "text": [
      "(2603, 70)\n",
      "(3290, 70)\n"
     ]
    }
   ],
   "source": [
    "print(df_train.shape)\n",
    "print(df_test.shape)"
   ]
  },
  {
   "cell_type": "markdown",
   "id": "42bdd9f0",
   "metadata": {
    "cell_id": "00010-2e02d6fa-4fc3-4b99-9575-91242ed9448b",
    "deepnote_cell_type": "markdown"
   },
   "source": [
    "## drop id ,time, user columns"
   ]
  },
  {
   "cell_type": "code",
   "execution_count": 13,
   "id": "f28ccc06",
   "metadata": {
    "ExecuteTime": {
     "end_time": "2021-05-20T11:01:05.888269Z",
     "start_time": "2021-05-20T11:01:05.877303Z"
    },
    "cell_id": "00011-54861700-319b-4d36-932c-c220912069f7",
    "deepnote_cell_type": "code",
    "deepnote_to_be_reexecuted": false,
    "execution_millis": 0,
    "execution_start": 1621413588029,
    "source_hash": "17352a22"
   },
   "outputs": [],
   "source": [
    "unimp    = ['id','user','time']\n",
    "df_train = df_train.drop(unimp,axis=1)\n",
    "df_test  = df_test.drop(unimp,axis=1)"
   ]
  },
  {
   "cell_type": "code",
   "execution_count": null,
   "id": "ed481694",
   "metadata": {
    "ExecuteTime": {
     "end_time": "2021-05-20T07:11:18.120462Z",
     "start_time": "2021-05-20T07:11:18.113274Z"
    },
    "cell_id": "00009-aa841b9d-ba02-4d48-af4d-6643e1832c79",
    "deepnote_cell_type": "code",
    "deepnote_to_be_reexecuted": false,
    "execution_millis": 3,
    "execution_start": 1621413604296,
    "source_hash": "f39bcc7b",
    "tags": []
   },
   "outputs": [],
   "source": [
    "# df_train=df_train.drop('speed_mean',axis=1)\n",
    "# df_test=df_test.drop('speed_mean',axis=1)"
   ]
  },
  {
   "cell_type": "code",
   "execution_count": 14,
   "id": "73de009c",
   "metadata": {
    "ExecuteTime": {
     "end_time": "2021-05-20T11:01:29.603243Z",
     "start_time": "2021-05-20T11:01:29.600041Z"
    },
    "cell_id": "00012-d0bf41ef-aa79-41f7-9c4d-e7c195432593",
    "deepnote_cell_type": "code",
    "deepnote_to_be_reexecuted": false,
    "execution_millis": 10,
    "execution_start": 1621413606677,
    "source_hash": "f72c817d"
   },
   "outputs": [
    {
     "name": "stdout",
     "output_type": "stream",
     "text": [
      "(2603, 67)\n",
      "(3290, 67)\n"
     ]
    }
   ],
   "source": [
    "print(df_train.shape)\n",
    "print(df_test.shape)"
   ]
  },
  {
   "cell_type": "code",
   "execution_count": 15,
   "id": "78041597",
   "metadata": {
    "ExecuteTime": {
     "end_time": "2021-05-20T11:01:31.162554Z",
     "start_time": "2021-05-20T11:01:31.156484Z"
    }
   },
   "outputs": [],
   "source": [
    "def fill_nan_with_mean_training(training, test):\n",
    "    trainingFill = training.copy()\n",
    "    testFill = test.copy()\n",
    "    trainingFill = trainingFill.fillna(trainingFill.mean())\n",
    "    trainingFill = trainingFill.fillna(0)\n",
    "    testFill = testFill.fillna(trainingFill.mean())\n",
    "    testFill = testFill.fillna(0)\n",
    "    return trainingFill, testFill\n",
    "\n",
    "def scale_features(train, test):\n",
    "    # build scaler to apply on training and test the same transformation\n",
    "    scaler = StandardScaler().fit(train)\n",
    "    train_features_scaled = scaler.transform(train)\n",
    "    test_features_scaled = scaler.transform(test)\n",
    "    return train_features_scaled, test_features_scaled"
   ]
  },
  {
   "cell_type": "code",
   "execution_count": 16,
   "id": "62016131",
   "metadata": {
    "ExecuteTime": {
     "end_time": "2021-05-20T11:01:33.303560Z",
     "start_time": "2021-05-20T11:01:33.235289Z"
    }
   },
   "outputs": [],
   "source": [
    "df_train_fill,df_test_fill=fill_nan_with_mean_training(df_train,df_test)"
   ]
  },
  {
   "cell_type": "code",
   "execution_count": null,
   "id": "c53347ea",
   "metadata": {
    "ExecuteTime": {
     "end_time": "2021-05-20T10:00:01.698563Z",
     "start_time": "2021-05-20T10:00:01.672123Z"
    }
   },
   "outputs": [],
   "source": []
  },
  {
   "cell_type": "code",
   "execution_count": 17,
   "id": "00daf36c",
   "metadata": {
    "ExecuteTime": {
     "end_time": "2021-05-20T11:01:34.933976Z",
     "start_time": "2021-05-20T11:01:34.925045Z"
    },
    "cell_id": "00014-739c687f-8a17-4109-b725-39f731c97ffc",
    "deepnote_cell_type": "code",
    "deepnote_to_be_reexecuted": false,
    "execution_millis": 9,
    "execution_start": 1621413612666,
    "source_hash": "87e2a165"
   },
   "outputs": [],
   "source": [
    "X=df_train_fill.drop('target',axis=1)\n",
    "y=df_train_fill.target\n",
    "X_test=df_test_fill.drop('target',axis=1)\n",
    "y_test=df_test_fill.target"
   ]
  },
  {
   "cell_type": "code",
   "execution_count": 18,
   "id": "54778541",
   "metadata": {
    "ExecuteTime": {
     "end_time": "2021-05-20T11:01:36.568954Z",
     "start_time": "2021-05-20T11:01:36.540293Z"
    }
   },
   "outputs": [],
   "source": [
    "X_sc,X_test_sc=scale_features(X, X_test)"
   ]
  },
  {
   "cell_type": "markdown",
   "id": "8f307a4c",
   "metadata": {
    "cell_id": "00015-bf364553-c6b4-45e8-abcd-b7ac3e001671",
    "deepnote_cell_type": "markdown"
   },
   "source": [
    "# Pipeline "
   ]
  },
  {
   "cell_type": "code",
   "execution_count": null,
   "id": "ecc45311",
   "metadata": {
    "ExecuteTime": {
     "end_time": "2021-05-20T07:11:45.641897Z",
     "start_time": "2021-05-20T07:11:45.635731Z"
    },
    "cell_id": "00016-e5f545c7-96b3-4abe-bb52-f939b9258cd9",
    "deepnote_cell_type": "code",
    "deepnote_to_be_reexecuted": false,
    "execution_millis": 1,
    "execution_start": 1621413615690,
    "source_hash": "c46b4aee"
   },
   "outputs": [],
   "source": [
    "# num_attribs=df_train.drop('target',axis=1).columns.to_list()\n",
    "# num_pip=Pipeline([('imputer',impute.SimpleImputer(strategy='median')),\n",
    "#                   ('scalar',MinMaxScaler()),\n",
    "#                ])  # ('PCA',PCA(n_components=12))\n",
    "# preprocessor=compose.ColumnTransformer([\n",
    "#     ('num',num_pip,num_attribs)\n",
    "# ])"
   ]
  },
  {
   "cell_type": "code",
   "execution_count": null,
   "id": "c513fadf",
   "metadata": {
    "ExecuteTime": {
     "start_time": "2021-05-20T11:01:38.282Z"
    },
    "cell_id": "00017-92beb382-8adc-4eec-8c37-8da7367daf18",
    "deepnote_cell_type": "code",
    "deepnote_to_be_reexecuted": false,
    "execution_millis": 100,
    "execution_start": 1621417526522,
    "source_hash": "5ce2e3a"
   },
   "outputs": [],
   "source": [
    "# pipeline for model\n",
    "classifier_models = {\n",
    "\"DecisionTreeClassifier\": DecisionTreeClassifier(),\n",
    "'KNeighborsClassifier':KNeighborsClassifier(6),\n",
    "'LogisticRegression':LogisticRegression(),\n",
    "\"RandomForestClassifier\":RandomForestClassifier(),\n",
    "\"GradientBoostingClassifier\":GradientBoostingClassifier(),\n",
    "\"XGBClassifier\":XGBClassifier(),\n",
    "\"LGBMClassifier\":LGBMClassifier(),\n",
    "'GaussianNB':GaussianNB(),\n",
    "\n",
    "}\n",
    "# make pipline with  preprocessing \n",
    "classifier_models = {name: make_pipeline( model) for name, model in classifier_models.items()}\n",
    "classifier_models[\"GradientBoostingClassifier\"]"
   ]
  },
  {
   "cell_type": "code",
   "execution_count": null,
   "id": "cff2d247",
   "metadata": {
    "ExecuteTime": {
     "end_time": "2021-05-20T10:44:15.652343Z",
     "start_time": "2021-05-20T10:42:50.393593Z"
    },
    "cell_id": "00018-a223c62b-d005-4dca-9b28-e4a8facfdae7",
    "deepnote_cell_type": "code",
    "deepnote_to_be_reexecuted": false,
    "execution_millis": 44618,
    "execution_start": 1621413664253,
    "source_hash": "9af53d33"
   },
   "outputs": [],
   "source": [
    "\n",
    "\n",
    "x_train, x_val, y_train, y_val = train_test_split(X_sc, y,test_size=0.4,stratify = y,random_state=10 )\n",
    "results = pd.DataFrame({'Model': [], 'Accuracy': [], 'Bal Acc.': [],'Time': []})\n",
    "for model_name, model in classifier_models.items():\n",
    "    start_time = time.time()\n",
    "    model.fit(x_train, y_train)\n",
    "    total_time = time.time() - start_time\n",
    "    valid_pred = model.predict(x_val)\n",
    "    results = results.append({\"Model\":    model_name,\n",
    "                              \"Accuracy\": accuracy_score(y_val, valid_pred)*100,\n",
    "                              \"Bal Acc.\": balanced_accuracy_score(y_val, valid_pred)*100,\n",
    "                    \n",
    "                              \"Time\":     total_time},\n",
    "                              ignore_index=True)\n",
    "results_ord = results.sort_values(by=['Accuracy'], ascending=False, ignore_index=True)\n",
    "results_ord.index += 1 \n",
    "results_ord.style.bar(subset=['Accuracy', 'Bal Acc.'], vmin=0, vmax=100, color='#5fba7d')\n"
   ]
  },
  {
   "cell_type": "markdown",
   "id": "ff0e00aa",
   "metadata": {
    "cell_id": "00019-f27d4a7c-807c-40af-a2ec-086ee9c96b8a",
    "deepnote_cell_type": "markdown"
   },
   "source": [
    "# Best model for test data  "
   ]
  },
  {
   "cell_type": "code",
   "execution_count": null,
   "id": "c6fea1f7",
   "metadata": {
    "ExecuteTime": {
     "end_time": "2021-05-20T10:45:05.350846Z",
     "start_time": "2021-05-20T10:45:05.347509Z"
    },
    "cell_id": "00021-ba896ca9-57d8-4edc-a023-b613bfc8d3dc",
    "deepnote_cell_type": "code",
    "deepnote_to_be_reexecuted": false,
    "execution_millis": 1,
    "execution_start": 1621413753530,
    "source_hash": "55e59264"
   },
   "outputs": [],
   "source": [
    "best_model=LGBMClassifier()\n",
    "name='LGBMClassifier'"
   ]
  },
  {
   "cell_type": "code",
   "execution_count": null,
   "id": "f46aa7cd",
   "metadata": {
    "ExecuteTime": {
     "end_time": "2021-05-20T10:49:13.140024Z",
     "start_time": "2021-05-20T10:48:50.004196Z"
    },
    "cell_id": "00023-55ac1e59-0241-48dc-97aa-db64bdc9bc4b",
    "deepnote_cell_type": "code",
    "deepnote_to_be_reexecuted": false,
    "execution_millis": 177600,
    "execution_start": 1621417545124,
    "source_hash": "419bd42d"
   },
   "outputs": [],
   "source": [
    "clf=Pipeline([('classification',best_model)])\n",
    "test_result = pd.DataFrame({'Model': [], 'Accuracy': [], 'Bal Acc.': [],'Time': []})\n",
    "start_time = time.time()\n",
    "clf.fit(X_sc, y)\n",
    "total_time = time.time() - start_time\n",
    "pred = clf.predict(X_test_sc)\n",
    "test_result = test_result.append({\"Model\":    name,\n",
    "                          \"Accuracy\": accuracy_score(y_test, pred)*100,\n",
    "                          \"Bal Acc.\": balanced_accuracy_score(y_test, pred)*100,\n",
    "                          \"Time\":     total_time},\n",
    "                          ignore_index=True)\n",
    "test_result_ord = test_result.sort_values(by=['Accuracy'], ascending=False, ignore_index=True)\n",
    "test_result_ord.index += 1 \n",
    "test_result_ord.style.bar(subset=['Accuracy', 'Bal Acc.'], vmin=0, vmax=100, color='#5fba7d')\n",
    "\n"
   ]
  },
  {
   "cell_type": "code",
   "execution_count": null,
   "id": "176389e8",
   "metadata": {
    "ExecuteTime": {
     "end_time": "2021-05-20T10:49:19.232780Z",
     "start_time": "2021-05-20T10:49:19.186478Z"
    }
   },
   "outputs": [],
   "source": [
    "print(classification_report(y_test, pred))\n",
    "print()\n",
    "print(confusion_matrix(y_test, pred))"
   ]
  },
  {
   "cell_type": "markdown",
   "id": "a1d01663",
   "metadata": {},
   "source": [
    "# with optuna paramater"
   ]
  },
  {
   "cell_type": "code",
   "execution_count": null,
   "id": "190b500e",
   "metadata": {
    "ExecuteTime": {
     "end_time": "2021-05-19T15:01:59.953163Z",
     "start_time": "2021-05-19T15:01:59.946109Z"
    }
   },
   "outputs": [],
   "source": [
    "\n",
    "m_=LGBMClassifier()\n",
    "model_m=Pipeline([('preprocess',preprocessor),('classification',m_)])"
   ]
  },
  {
   "cell_type": "code",
   "execution_count": null,
   "id": "04289310",
   "metadata": {
    "ExecuteTime": {
     "end_time": "2021-05-19T15:02:03.285703Z",
     "start_time": "2021-05-19T15:02:01.729538Z"
    }
   },
   "outputs": [],
   "source": [
    "model_m.fit(X,y)"
   ]
  },
  {
   "cell_type": "code",
   "execution_count": null,
   "id": "c930934b",
   "metadata": {
    "ExecuteTime": {
     "end_time": "2021-05-19T15:02:04.903398Z",
     "start_time": "2021-05-19T15:02:04.823786Z"
    }
   },
   "outputs": [],
   "source": [
    "pred_=model_.predict(X_test)\n",
    "print(f\"Accuracy {accuracy_score(y_test, pred_)*100}\")\n",
    "print(classification_report(y_test, pred_))\n",
    "print()\n",
    "print(confusion_matrix(y_test, pred_))"
   ]
  },
  {
   "cell_type": "code",
   "execution_count": null,
   "id": "38507d17",
   "metadata": {},
   "outputs": [],
   "source": []
  },
  {
   "cell_type": "code",
   "execution_count": null,
   "id": "6e9ab024",
   "metadata": {},
   "outputs": [],
   "source": []
  },
  {
   "cell_type": "markdown",
   "id": "703b919e",
   "metadata": {
    "cell_id": "00025-04dcb31f-2c66-4c89-956a-0e50837401d2",
    "deepnote_cell_type": "text-cell-h1",
    "tags": []
   },
   "source": [
    "#  Drop some feature from target  beacuse of confusion materix result \n",
    "\n",
    "## Drop car  category "
   ]
  },
  {
   "cell_type": "code",
   "execution_count": null,
   "id": "67678327",
   "metadata": {
    "ExecuteTime": {
     "end_time": "2021-05-19T15:02:14.908600Z",
     "start_time": "2021-05-19T15:02:14.901906Z"
    },
    "cell_id": "00026-4e8ec8d9-73fe-4098-a104-b64f1b201dee",
    "deepnote_cell_type": "code",
    "deepnote_to_be_reexecuted": false,
    "execution_millis": 0,
    "execution_start": 1621414154518,
    "source_hash": "1307de0a",
    "tags": []
   },
   "outputs": [],
   "source": [
    "df_test_1   =df_test[df_test['target']!='Car']\n",
    "df_train_1  =df_train[df_train['target']!='Car']"
   ]
  },
  {
   "cell_type": "code",
   "execution_count": null,
   "id": "6ccf49c5",
   "metadata": {
    "ExecuteTime": {
     "end_time": "2021-05-19T15:02:16.438678Z",
     "start_time": "2021-05-19T15:02:16.433506Z"
    },
    "cell_id": "00027-6a8851e1-bdec-4889-941b-a4753e4207ed",
    "deepnote_cell_type": "code",
    "deepnote_to_be_reexecuted": false,
    "execution_millis": 15,
    "execution_start": 1621414157127,
    "source_hash": "946fc65d",
    "tags": []
   },
   "outputs": [],
   "source": [
    "print(df_test.shape)\n",
    "print(df_train.shape)"
   ]
  },
  {
   "cell_type": "markdown",
   "id": "6d999a5c",
   "metadata": {
    "cell_id": "00024-137a78bb-5756-467f-ad76-5bbfd5d04862",
    "deepnote_cell_type": "text-cell-h1",
    "tags": []
   },
   "source": [
    "# How much info reduced "
   ]
  },
  {
   "cell_type": "code",
   "execution_count": null,
   "id": "08ab8be5",
   "metadata": {
    "ExecuteTime": {
     "end_time": "2021-05-19T15:02:20.022027Z",
     "start_time": "2021-05-19T15:02:20.014352Z"
    },
    "cell_id": "00028-4a7805db-604d-4700-a90b-0bc2dbd69c7c",
    "deepnote_cell_type": "code",
    "deepnote_to_be_reexecuted": false,
    "execution_millis": 0,
    "execution_start": 1621414246188,
    "source_hash": "35b01305",
    "tags": []
   },
   "outputs": [],
   "source": [
    "print(f\" After drop Car category we  reduce \\n test data {100-df_test_1.shape[0]/df_test.shape[0]*100} % \\n train data {100-df_train_1.shape[0]/df_train.shape[0]*100} %\")"
   ]
  },
  {
   "cell_type": "code",
   "execution_count": null,
   "id": "f65f29c9",
   "metadata": {
    "ExecuteTime": {
     "end_time": "2021-05-19T15:02:22.238467Z",
     "start_time": "2021-05-19T15:02:22.233503Z"
    },
    "cell_id": "00029-c900fbeb-079d-40a0-a81f-d8dff5cd5a68",
    "deepnote_cell_type": "code",
    "deepnote_to_be_reexecuted": false,
    "execution_millis": 8,
    "execution_start": 1621414252239,
    "source_hash": "38cdb65c",
    "tags": []
   },
   "outputs": [],
   "source": [
    "print(df_train_1.shape)\n",
    "print(df_test_1.shape)"
   ]
  },
  {
   "cell_type": "code",
   "execution_count": null,
   "id": "e63b29b2",
   "metadata": {
    "ExecuteTime": {
     "end_time": "2021-05-19T15:02:23.954836Z",
     "start_time": "2021-05-19T15:02:23.949067Z"
    },
    "cell_id": "00030-08ed8b21-f737-4e2d-90e4-bff9013a959c",
    "deepnote_cell_type": "code",
    "deepnote_to_be_reexecuted": false,
    "execution_millis": 5,
    "execution_start": 1621414258916,
    "source_hash": "917bd436",
    "tags": []
   },
   "outputs": [],
   "source": [
    "X_=df_train_1.drop('target',axis=1)\n",
    "y_=df_train_1.target\n",
    "X_test_=df_test_1.drop('target',axis=1)\n",
    "y_test_=df_test_1.target"
   ]
  },
  {
   "cell_type": "markdown",
   "id": "cb285e71",
   "metadata": {
    "cell_id": "00033-7cac29db-3436-4297-88eb-77d5b0a5b039",
    "deepnote_cell_type": "text-cell-h1",
    "tags": []
   },
   "source": [
    "# train data "
   ]
  },
  {
   "cell_type": "code",
   "execution_count": null,
   "id": "11792314",
   "metadata": {
    "ExecuteTime": {
     "end_time": "2021-05-19T15:02:33.975557Z",
     "start_time": "2021-05-19T15:02:25.520835Z"
    },
    "cell_id": "00034-ee0da9f9-3225-4109-baf7-3d8082760483",
    "deepnote_cell_type": "code",
    "deepnote_to_be_reexecuted": false,
    "execution_millis": 34209,
    "execution_start": 1621414428155,
    "source_hash": "28cdafb0",
    "tags": []
   },
   "outputs": [],
   "source": [
    "x_train_, x_val_, y_train_, y_val_ = train_test_split(X_, y_,test_size=0.4,stratify = y_,random_state=10 )\n",
    "result_new = pd.DataFrame({'Model': [], 'Accuracy': [], 'Bal Acc.': [],'Time': []})\n",
    "for model_name, model in classifier_models.items():\n",
    "    start_time_ = time.time()\n",
    "    model.fit(x_train_, y_train_)\n",
    "    total_time_= time.time() - start_time_\n",
    "    valid_pred_new = model.predict(x_val_)\n",
    "    result_new = result_new.append({\"Model\":    model_name,\n",
    "                              \"Accuracy\": accuracy_score(y_val_, valid_pred_new)*100,\n",
    "                              \"Bal Acc.\": balanced_accuracy_score(y_val_, valid_pred_new)*100,\n",
    "                              \"Time\":     total_time_},\n",
    "                              ignore_index=True)\n",
    "result_new_ord = result_new.sort_values(by=['Accuracy'], ascending=False, ignore_index=True)\n",
    "result_new_ord.index += 1 \n",
    "result_new_ord.style.bar(subset=['Accuracy', 'Bal Acc.'], vmin=0, vmax=100, color='#5fba7d')"
   ]
  },
  {
   "cell_type": "markdown",
   "id": "9a94b55e",
   "metadata": {
    "ExecuteTime": {
     "end_time": "2021-05-19T13:05:39.089930Z",
     "start_time": "2021-05-19T13:05:39.082455Z"
    }
   },
   "source": [
    "#  The highest accuracy model selected  manual tuning "
   ]
  },
  {
   "cell_type": "code",
   "execution_count": null,
   "id": "537a7277",
   "metadata": {
    "ExecuteTime": {
     "end_time": "2021-05-19T15:00:40.922904Z",
     "start_time": "2021-05-19T15:00:40.918306Z"
    }
   },
   "outputs": [],
   "source": [
    "\n",
    "best_=LGBMClassifier(boosting_type='gbdt', num_leaves=60, max_depth=6, learning_rate=0.07,\n",
    "                          n_estimators=300, subsample_for_bin=200000, objective=None, class_weight=None,\n",
    "                          min_split_gain=0.0, min_child_weight=0.001, min_child_samples=20, subsample=1.0, \n",
    "                          subsample_freq=0, colsample_bytree=1.0, reg_alpha=0.0, reg_lambda=0.0, \n",
    "                          random_state=None, n_jobs=- 1, silent=True, importance_type='split')\n",
    "model_=Pipeline([('preprocess',preprocessor),('classification',best_)])"
   ]
  },
  {
   "cell_type": "code",
   "execution_count": null,
   "id": "d6395a2d",
   "metadata": {
    "ExecuteTime": {
     "end_time": "2021-05-19T15:06:50.142367Z",
     "start_time": "2021-05-19T15:06:47.852508Z"
    }
   },
   "outputs": [],
   "source": [
    "model_.fit(X_,y_)\n",
    "pred_test_1=model_.predict(X_test_)"
   ]
  },
  {
   "cell_type": "code",
   "execution_count": null,
   "id": "d2d1eab0",
   "metadata": {
    "ExecuteTime": {
     "end_time": "2021-05-19T15:00:49.774074Z",
     "start_time": "2021-05-19T15:00:49.764739Z"
    }
   },
   "outputs": [],
   "source": [
    "accuracy_score(y_test_, pred_test_1)*100,"
   ]
  },
  {
   "cell_type": "code",
   "execution_count": null,
   "id": "05df9510",
   "metadata": {
    "ExecuteTime": {
     "end_time": "2021-05-19T15:00:51.628395Z",
     "start_time": "2021-05-19T15:00:51.588093Z"
    }
   },
   "outputs": [],
   "source": [
    "print(classification_report(y_test_, pred_test_1))\n",
    "print()\n",
    "print(confusion_matrix(y_test_, pred_test_1))"
   ]
  },
  {
   "cell_type": "markdown",
   "id": "c1bbee38",
   "metadata": {
    "cell_id": "00037-e70c6258-4570-472e-8bf4-63f3ff95d82a",
    "deepnote_cell_type": "markdown",
    "tags": []
   },
   "source": [
    "# Optuna find best parameter for selected model"
   ]
  },
  {
   "cell_type": "code",
   "execution_count": null,
   "id": "4aac4aab",
   "metadata": {
    "ExecuteTime": {
     "end_time": "2021-05-19T15:00:53.755756Z",
     "start_time": "2021-05-19T15:00:53.221269Z"
    },
    "cell_id": "00037-7a05efdd-b501-4d42-befd-a080b34f4d43",
    "deepnote_cell_type": "code",
    "tags": []
   },
   "outputs": [],
   "source": [
    "from sklearn.calibration import CalibratedClassifierCV\n",
    "import optuna"
   ]
  },
  {
   "cell_type": "code",
   "execution_count": null,
   "id": "e139f4da",
   "metadata": {
    "ExecuteTime": {
     "end_time": "2021-05-19T15:00:55.593170Z",
     "start_time": "2021-05-19T15:00:55.588016Z"
    },
    "cell_id": "00039-2b834df7-891b-498b-ab27-bda93dcfbaba",
    "deepnote_cell_type": "code",
    "tags": []
   },
   "outputs": [],
   "source": [
    "oth=Pipeline([('preprocess',preprocessor),('classification',GaussianNB())])"
   ]
  },
  {
   "cell_type": "code",
   "execution_count": null,
   "id": "d795b2cd",
   "metadata": {},
   "outputs": [],
   "source": [
    " n_estimators = trial.suggest_int('n_estimators', 2, 20)\n",
    "max_depth = int(trial.suggest_loguniform('max_depth', 1, 32))"
   ]
  },
  {
   "cell_type": "code",
   "execution_count": null,
   "id": "cc25b971",
   "metadata": {
    "ExecuteTime": {
     "end_time": "2021-05-19T13:30:31.381709Z",
     "start_time": "2021-05-19T13:30:08.710516Z"
    },
    "cell_id": "00039-d6a8eb4b-d580-445d-9240-d2166c9bd4c8",
    "deepnote_cell_type": "code",
    "tags": []
   },
   "outputs": [],
   "source": [
    "import optuna\n",
    "\n",
    "def objective(trial):\n",
    "\n",
    "    boosting_type = trial.suggest_categorical(\"boosting_type\", [\"gbdt\", \"rf\"])\n",
    "    max_depth = trial.suggest_int('max_depth', 1, 32)\n",
    "    n_estimators = trial.suggest_int(\"n_estimators\", 100,500)\n",
    "    learning_rate=trial.suggest_float(\"learning_rate\", 0.001,0.1)\n",
    "    min_data_in_leaf= trial.suggest_int(\"min_data_in_leaf\", 10,500)\n",
    "    \n",
    "    lg_lgbm = LGBMClassifier( boosting_type=boosting_type, max_depth=max_depth, \n",
    "            n_estimators=n_estimators,learning_rate=learning_rate,min_data_in_leaf=min_data_in_leaf\n",
    "        )\n",
    "\n",
    "    score = cross_val_score(lg_lgbm, X_,y_, n_jobs=-1, cv=3)\n",
    "    accuracy = score.mean()\n",
    "    return accuracy\n",
    "\n",
    "study = optuna.create_study(direction=\"maximize\")\n",
    "study.optimize(objective, n_trials=100)\n",
    "\n",
    "trial = study.best_trial\n",
    "print('Accuracy: {}'.format(trial.value))\n",
    "print(\"Best hyperparameters: {}\".format(trial.params))\n"
   ]
  },
  {
   "cell_type": "markdown",
   "id": "dc154090",
   "metadata": {},
   "source": [
    "# With optuna best parameter"
   ]
  },
  {
   "cell_type": "markdown",
   "id": "92a3cc82",
   "metadata": {},
   "source": [
    " the best accuracy  **91.18993135011442**  in max_depth= 5, n_estimators= 300, num_leaves=70,min_data_in_leaf=60,learning_rate= 0.069"
   ]
  },
  {
   "cell_type": "code",
   "execution_count": null,
   "id": "d38945a7",
   "metadata": {
    "ExecuteTime": {
     "end_time": "2021-05-19T14:02:12.118462Z",
     "start_time": "2021-05-19T14:02:12.112028Z"
    }
   },
   "outputs": [],
   "source": [
    "\n",
    "lgb_af_=LGBMClassifier( max_depth= 5\n",
    ", n_estimators= 300, num_leaves=70,min_data_in_leaf=60,learning_rate= 0.069)\n",
    "model_end=Pipeline([('preprocess',preprocessor),('classification',lgb_af_)])"
   ]
  },
  {
   "cell_type": "code",
   "execution_count": null,
   "id": "ec95b590",
   "metadata": {
    "ExecuteTime": {
     "end_time": "2021-05-19T14:02:14.559985Z",
     "start_time": "2021-05-19T14:02:13.198585Z"
    }
   },
   "outputs": [],
   "source": [
    "model_end.fit(X_,y_)\n",
    "pred_test_end=model_end.predict(X_test_)"
   ]
  },
  {
   "cell_type": "code",
   "execution_count": null,
   "id": "7bbc6750",
   "metadata": {
    "ExecuteTime": {
     "end_time": "2021-05-19T14:02:15.569645Z",
     "start_time": "2021-05-19T14:02:15.533253Z"
    }
   },
   "outputs": [],
   "source": [
    "print(f\"Accuracy {accuracy_score(y_test_, pred_test_end)*100}\")\n",
    "print(classification_report(y_test_, pred_test_end))\n",
    "print()\n",
    "print(confusion_matrix(y_test_, pred_test_end))"
   ]
  },
  {
   "cell_type": "markdown",
   "id": "8cd59e17",
   "metadata": {
    "created_in_deepnote_cell": true,
    "deepnote_cell_type": "markdown",
    "tags": []
   },
   "source": [
    "<a style='text-decoration:none;line-height:16px;display:flex;color:#5B5B62;padding:10px;justify-content:end;' href='https://deepnote.com?utm_source=created-in-deepnote-cell&projectId=3e7089f3-11a5-48ad-89c4-39a166311a14' target=\"_blank\">\n",
    "<img alt='Created in deepnote.com' style='display:inline;max-height:16px;margin:0px;margin-right:7.5px;' src='data:image/svg+xml;base64,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' > </img>\n",
    "Created in <span style='font-weight:600;margin-left:4px;'>Deepnote</span></a>"
   ]
  }
 ],
 "metadata": {
  "deepnote": {},
  "deepnote_execution_queue": [
   {
    "cellId": "00036-f8044fff-4d29-45bd-8ff8-21846e0256f1",
    "msgId": "a0eefad6-7bbd-4603-8fed-2940de8884ea",
    "sessionId": "a4c44e80-405a-43fc-968f-79577dc2c4bf"
   }
  ],
  "deepnote_notebook_id": "4d03dad0-0d4b-4262-80a0-cfac3bff1f59",
  "hide_input": false,
  "kernelspec": {
   "display_name": "Python 3",
   "language": "python",
   "name": "python3"
  },
  "language_info": {
   "codemirror_mode": {
    "name": "ipython",
    "version": 3
   },
   "file_extension": ".py",
   "mimetype": "text/x-python",
   "name": "python",
   "nbconvert_exporter": "python",
   "pygments_lexer": "ipython3",
   "version": "3.8.2"
  },
  "toc": {
   "base_numbering": 1,
   "nav_menu": {},
   "number_sections": true,
   "sideBar": true,
   "skip_h1_title": false,
   "title_cell": "Table of Contents",
   "title_sidebar": "Contents",
   "toc_cell": false,
   "toc_position": {},
   "toc_section_display": true,
   "toc_window_display": false
  },
  "varInspector": {
   "cols": {
    "lenName": 16,
    "lenType": 16,
    "lenVar": 40
   },
   "kernels_config": {
    "python": {
     "delete_cmd_postfix": "",
     "delete_cmd_prefix": "del ",
     "library": "var_list.py",
     "varRefreshCmd": "print(var_dic_list())"
    },
    "r": {
     "delete_cmd_postfix": ") ",
     "delete_cmd_prefix": "rm(",
     "library": "var_list.r",
     "varRefreshCmd": "cat(var_dic_list()) "
    }
   },
   "types_to_exclude": [
    "module",
    "function",
    "builtin_function_or_method",
    "instance",
    "_Feature"
   ],
   "window_display": false
  }
 },
 "nbformat": 4,
 "nbformat_minor": 5
}
