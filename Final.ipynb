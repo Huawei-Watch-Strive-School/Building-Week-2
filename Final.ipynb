{
 "cells": [
  {
   "cell_type": "code",
   "execution_count": 1,
   "id": "1c774f0f",
   "metadata": {
    "ExecuteTime": {
     "end_time": "2021-05-20T11:33:34.149229Z",
     "start_time": "2021-05-20T11:33:33.048018Z"
    },
    "cell_id": "00000-8c7c8fca-1c70-4587-91f3-3db57bfd28d0",
    "deepnote_cell_type": "code",
    "deepnote_to_be_reexecuted": false,
    "execution_millis": 5,
    "execution_start": 1621413648486,
    "source_hash": "570c8184"
   },
   "outputs": [
    {
     "name": "stdout",
     "output_type": "stream",
     "text": [
      "Pandas   1.2.4\n",
      "Sklearn  0.24.2\n"
     ]
    }
   ],
   "source": [
    "import time\n",
    "from IPython.display import clear_output\n",
    "import numpy    as np\n",
    "import pandas   as pd\n",
    "from sklearn.decomposition import PCA\n",
    "from sklearn.metrics import classification_report,confusion_matrix\n",
    "from sklearn.ensemble import RandomForestClassifier,GradientBoostingClassifier\n",
    "from sklearn.pipeline import Pipeline ,make_pipeline\n",
    "from sklearn import impute\n",
    "from sklearn import compose\n",
    "from sklearn.model_selection import train_test_split,cross_val_score\n",
    "from sklearn.metrics import accuracy_score, balanced_accuracy_score, plot_confusion_matrix,roc_auc_score\n",
    "from sklearn import set_config\n",
    "import warnings\n",
    "warnings.filterwarnings('ignore')\n",
    "from sklearn.preprocessing import MinMaxScaler,Normalizer,PowerTransformer,QuantileTransformer, RobustScaler,StandardScaler,LabelEncoder, OneHotEncoder,OrdinalEncoder\n",
    "from sklearn.tree          import DecisionTreeClassifier\n",
    "from sklearn.linear_model  import LogisticRegression    \n",
    "from xgboost               import XGBClassifier\n",
    "from lightgbm              import LGBMClassifier\n",
    "from sklearn.neighbors import KNeighborsClassifier\n",
    "from sklearn.naive_bayes import GaussianNB\n",
    "import sklearn\n",
    "set_config(display='diagram') # Useful for display the pipeline\n",
    "print(\"Pandas  \", pd.__version__)\n",
    "print(\"Sklearn \", sklearn.__version__) # Try to use 0.24\n",
    "\n"
   ]
  },
  {
   "cell_type": "code",
   "execution_count": 2,
   "id": "341b1505",
   "metadata": {
    "ExecuteTime": {
     "end_time": "2021-05-20T11:33:54.414329Z",
     "start_time": "2021-05-20T11:33:54.268702Z"
    },
    "cell_id": "00001-06e6221d-0730-4e01-9045-bce276c93090",
    "deepnote_cell_type": "code",
    "deepnote_to_be_reexecuted": false,
    "execution_millis": 165,
    "execution_start": 1621413555476,
    "source_hash": "31454d99"
   },
   "outputs": [
    {
     "data": {
      "text/html": [
       "<div>\n",
       "<style scoped>\n",
       "    .dataframe tbody tr th:only-of-type {\n",
       "        vertical-align: middle;\n",
       "    }\n",
       "\n",
       "    .dataframe tbody tr th {\n",
       "        vertical-align: top;\n",
       "    }\n",
       "\n",
       "    .dataframe thead th {\n",
       "        text-align: right;\n",
       "    }\n",
       "</style>\n",
       "<table border=\"1\" class=\"dataframe\">\n",
       "  <thead>\n",
       "    <tr style=\"text-align: right;\">\n",
       "      <th></th>\n",
       "      <th>id</th>\n",
       "      <th>time</th>\n",
       "      <th>activityrecognition#0</th>\n",
       "      <th>activityrecognition#1</th>\n",
       "      <th>android.sensor.accelerometer#mean</th>\n",
       "      <th>android.sensor.accelerometer#min</th>\n",
       "      <th>android.sensor.accelerometer#max</th>\n",
       "      <th>android.sensor.accelerometer#std</th>\n",
       "      <th>android.sensor.game_rotation_vector#mean</th>\n",
       "      <th>android.sensor.game_rotation_vector#min</th>\n",
       "      <th>...</th>\n",
       "      <th>sound#mean</th>\n",
       "      <th>sound#min</th>\n",
       "      <th>sound#max</th>\n",
       "      <th>sound#std</th>\n",
       "      <th>speed#mean</th>\n",
       "      <th>speed#min</th>\n",
       "      <th>speed#max</th>\n",
       "      <th>speed#std</th>\n",
       "      <th>target</th>\n",
       "      <th>user</th>\n",
       "    </tr>\n",
       "  </thead>\n",
       "  <tbody>\n",
       "    <tr>\n",
       "      <th>0</th>\n",
       "      <td>16170</td>\n",
       "      <td>78.0</td>\n",
       "      <td>NaN</td>\n",
       "      <td>100.0</td>\n",
       "      <td>9.811476</td>\n",
       "      <td>9.758895</td>\n",
       "      <td>9.849411</td>\n",
       "      <td>0.014626</td>\n",
       "      <td>0.029340</td>\n",
       "      <td>0.029014</td>\n",
       "      <td>...</td>\n",
       "      <td>NaN</td>\n",
       "      <td>NaN</td>\n",
       "      <td>NaN</td>\n",
       "      <td>NaN</td>\n",
       "      <td>0.000000</td>\n",
       "      <td>0.000000</td>\n",
       "      <td>0.000000</td>\n",
       "      <td>0.000000</td>\n",
       "      <td>Still</td>\n",
       "      <td>Luca</td>\n",
       "    </tr>\n",
       "    <tr>\n",
       "      <th>1</th>\n",
       "      <td>15871</td>\n",
       "      <td>145.0</td>\n",
       "      <td>NaN</td>\n",
       "      <td>100.0</td>\n",
       "      <td>9.939207</td>\n",
       "      <td>7.707437</td>\n",
       "      <td>17.146631</td>\n",
       "      <td>1.775944</td>\n",
       "      <td>0.999925</td>\n",
       "      <td>0.999903</td>\n",
       "      <td>...</td>\n",
       "      <td>89.200210</td>\n",
       "      <td>89.065143</td>\n",
       "      <td>89.335277</td>\n",
       "      <td>0.191013</td>\n",
       "      <td>16.539349</td>\n",
       "      <td>16.539349</td>\n",
       "      <td>16.539349</td>\n",
       "      <td>0.628595</td>\n",
       "      <td>Car</td>\n",
       "      <td>Luca</td>\n",
       "    </tr>\n",
       "    <tr>\n",
       "      <th>2</th>\n",
       "      <td>16811</td>\n",
       "      <td>150.0</td>\n",
       "      <td>NaN</td>\n",
       "      <td>100.0</td>\n",
       "      <td>9.827178</td>\n",
       "      <td>9.804817</td>\n",
       "      <td>9.849262</td>\n",
       "      <td>0.011199</td>\n",
       "      <td>0.665215</td>\n",
       "      <td>0.665213</td>\n",
       "      <td>...</td>\n",
       "      <td>NaN</td>\n",
       "      <td>NaN</td>\n",
       "      <td>NaN</td>\n",
       "      <td>NaN</td>\n",
       "      <td>0.000000</td>\n",
       "      <td>0.000000</td>\n",
       "      <td>0.000000</td>\n",
       "      <td>0.000000</td>\n",
       "      <td>Still</td>\n",
       "      <td>Luca</td>\n",
       "    </tr>\n",
       "    <tr>\n",
       "      <th>3</th>\n",
       "      <td>15831</td>\n",
       "      <td>105.0</td>\n",
       "      <td>NaN</td>\n",
       "      <td>77.0</td>\n",
       "      <td>9.673039</td>\n",
       "      <td>7.659674</td>\n",
       "      <td>12.304298</td>\n",
       "      <td>0.862553</td>\n",
       "      <td>0.996221</td>\n",
       "      <td>0.993781</td>\n",
       "      <td>...</td>\n",
       "      <td>87.470377</td>\n",
       "      <td>87.470377</td>\n",
       "      <td>87.470377</td>\n",
       "      <td>2.284186</td>\n",
       "      <td>17.739895</td>\n",
       "      <td>17.739895</td>\n",
       "      <td>17.739895</td>\n",
       "      <td>0.628595</td>\n",
       "      <td>Car</td>\n",
       "      <td>Luca</td>\n",
       "    </tr>\n",
       "    <tr>\n",
       "      <th>4</th>\n",
       "      <td>876</td>\n",
       "      <td>77.0</td>\n",
       "      <td>NaN</td>\n",
       "      <td>100.0</td>\n",
       "      <td>9.993466</td>\n",
       "      <td>8.965621</td>\n",
       "      <td>10.891645</td>\n",
       "      <td>0.504117</td>\n",
       "      <td>0.563792</td>\n",
       "      <td>0.521799</td>\n",
       "      <td>...</td>\n",
       "      <td>89.770732</td>\n",
       "      <td>89.770732</td>\n",
       "      <td>89.770732</td>\n",
       "      <td>0.006389</td>\n",
       "      <td>9.000000</td>\n",
       "      <td>9.000000</td>\n",
       "      <td>9.000000</td>\n",
       "      <td>NaN</td>\n",
       "      <td>Car</td>\n",
       "      <td>andrea</td>\n",
       "    </tr>\n",
       "  </tbody>\n",
       "</table>\n",
       "<p>5 rows × 70 columns</p>\n",
       "</div>"
      ],
      "text/plain": [
       "      id   time  activityrecognition#0  activityrecognition#1  \\\n",
       "0  16170   78.0                    NaN                  100.0   \n",
       "1  15871  145.0                    NaN                  100.0   \n",
       "2  16811  150.0                    NaN                  100.0   \n",
       "3  15831  105.0                    NaN                   77.0   \n",
       "4    876   77.0                    NaN                  100.0   \n",
       "\n",
       "   android.sensor.accelerometer#mean  android.sensor.accelerometer#min  \\\n",
       "0                           9.811476                          9.758895   \n",
       "1                           9.939207                          7.707437   \n",
       "2                           9.827178                          9.804817   \n",
       "3                           9.673039                          7.659674   \n",
       "4                           9.993466                          8.965621   \n",
       "\n",
       "   android.sensor.accelerometer#max  android.sensor.accelerometer#std  \\\n",
       "0                          9.849411                          0.014626   \n",
       "1                         17.146631                          1.775944   \n",
       "2                          9.849262                          0.011199   \n",
       "3                         12.304298                          0.862553   \n",
       "4                         10.891645                          0.504117   \n",
       "\n",
       "   android.sensor.game_rotation_vector#mean  \\\n",
       "0                                  0.029340   \n",
       "1                                  0.999925   \n",
       "2                                  0.665215   \n",
       "3                                  0.996221   \n",
       "4                                  0.563792   \n",
       "\n",
       "   android.sensor.game_rotation_vector#min  ...  sound#mean  sound#min  \\\n",
       "0                                 0.029014  ...         NaN        NaN   \n",
       "1                                 0.999903  ...   89.200210  89.065143   \n",
       "2                                 0.665213  ...         NaN        NaN   \n",
       "3                                 0.993781  ...   87.470377  87.470377   \n",
       "4                                 0.521799  ...   89.770732  89.770732   \n",
       "\n",
       "   sound#max  sound#std  speed#mean  speed#min  speed#max  speed#std  target  \\\n",
       "0        NaN        NaN    0.000000   0.000000   0.000000   0.000000   Still   \n",
       "1  89.335277   0.191013   16.539349  16.539349  16.539349   0.628595     Car   \n",
       "2        NaN        NaN    0.000000   0.000000   0.000000   0.000000   Still   \n",
       "3  87.470377   2.284186   17.739895  17.739895  17.739895   0.628595     Car   \n",
       "4  89.770732   0.006389    9.000000   9.000000   9.000000        NaN     Car   \n",
       "\n",
       "     user  \n",
       "0    Luca  \n",
       "1    Luca  \n",
       "2    Luca  \n",
       "3    Luca  \n",
       "4  andrea  \n",
       "\n",
       "[5 rows x 70 columns]"
      ]
     },
     "execution_count": 2,
     "metadata": {},
     "output_type": "execute_result"
    }
   ],
   "source": [
    "data = pd.read_csv('./data/data_5secondWindow .csv')\n",
    "data.head(5)"
   ]
  },
  {
   "cell_type": "code",
   "execution_count": null,
   "id": "6005ddd5",
   "metadata": {
    "ExecuteTime": {
     "end_time": "2021-05-20T10:20:08.827247Z",
     "start_time": "2021-05-20T10:20:08.621464Z"
    }
   },
   "outputs": [],
   "source": [
    "data.describe()"
   ]
  },
  {
   "cell_type": "code",
   "execution_count": 3,
   "id": "d5806705",
   "metadata": {
    "ExecuteTime": {
     "end_time": "2021-05-20T11:34:06.676764Z",
     "start_time": "2021-05-20T11:34:06.673723Z"
    }
   },
   "outputs": [],
   "source": [
    "from random import shuffle"
   ]
  },
  {
   "cell_type": "code",
   "execution_count": 21,
   "id": "0af09386",
   "metadata": {
    "ExecuteTime": {
     "end_time": "2021-05-20T11:37:35.924341Z",
     "start_time": "2021-05-20T11:37:35.915355Z"
    }
   },
   "outputs": [
    {
     "data": {
      "text/plain": [
       "['Luca',\n",
       " 'andrea',\n",
       " 'Federica',\n",
       " 'michelangelo',\n",
       " 'Damiano',\n",
       " 'Claudio',\n",
       " 'Vincenzo',\n",
       " 'Serena',\n",
       " 'Pierpaolo',\n",
       " 'IvanHeibi',\n",
       " 'AndreaCarpineti',\n",
       " 'Elena',\n",
       " 'Riccardo']"
      ]
     },
     "execution_count": 21,
     "metadata": {},
     "output_type": "execute_result"
    }
   ],
   "source": [
    "l = data.user.unique().tolist()\n",
    "l"
   ]
  },
  {
   "cell_type": "code",
   "execution_count": 54,
   "id": "4c0408fc",
   "metadata": {
    "ExecuteTime": {
     "end_time": "2021-05-20T11:40:10.958989Z",
     "start_time": "2021-05-20T11:40:10.956403Z"
    }
   },
   "outputs": [],
   "source": [
    "shuffle(l)\n"
   ]
  },
  {
   "cell_type": "markdown",
   "id": "be77317a",
   "metadata": {
    "cell_id": "00003-e5ab99da-fe36-44fe-9a13-cc69469addea",
    "deepnote_cell_type": "markdown"
   },
   "source": [
    "# Create test data "
   ]
  },
  {
   "cell_type": "code",
   "execution_count": 74,
   "id": "6807fe9b",
   "metadata": {
    "ExecuteTime": {
     "end_time": "2021-05-20T11:43:27.907540Z",
     "start_time": "2021-05-20T11:43:27.902529Z"
    },
    "cell_id": "00004-673f68c6-55b2-41ac-90a1-90f8c4713ada",
    "code_folding": [],
    "deepnote_cell_type": "code",
    "deepnote_to_be_reexecuted": false,
    "execution_millis": 116,
    "execution_start": 1621413569436,
    "source_hash": "d1d762a3"
   },
   "outputs": [],
   "source": [
    "# create test data from some user \n",
    "def split_data(df,l):\n",
    "   \n",
    "    # create random list of indi\n",
    "    train_user=l[1:]\n",
    "    test_user=l[:1]\n",
    "    # get splitting indicies\n",
    "    train=data[data['user'].isin(train_user)]\n",
    "    test = data[data['user'].isin(test_user)]\n",
    "    return train, test"
   ]
  },
  {
   "cell_type": "code",
   "execution_count": 76,
   "id": "e0ca979e",
   "metadata": {
    "ExecuteTime": {
     "end_time": "2021-05-20T11:43:30.887649Z",
     "start_time": "2021-05-20T11:43:30.872858Z"
    }
   },
   "outputs": [
    {
     "name": "stdout",
     "output_type": "stream",
     "text": [
      "(5622, 67)\n",
      "(271, 67)\n"
     ]
    }
   ],
   "source": [
    "shuffle(l)\n",
    "df_train,df_test=split_data(data,l)\n",
    "unimp    = ['id','user','time']\n",
    "df_train = df_train.drop(unimp,axis=1)\n",
    "df_test  = df_test.drop(unimp,axis=1)\n",
    "print(df_train.shape)\n",
    "print(df_test.shape)"
   ]
  },
  {
   "cell_type": "code",
   "execution_count": 84,
   "id": "66369e05",
   "metadata": {
    "ExecuteTime": {
     "end_time": "2021-05-20T11:45:11.335516Z",
     "start_time": "2021-05-20T11:45:11.290411Z"
    }
   },
   "outputs": [
    {
     "data": {
      "text/html": [
       "<div>\n",
       "<style scoped>\n",
       "    .dataframe tbody tr th:only-of-type {\n",
       "        vertical-align: middle;\n",
       "    }\n",
       "\n",
       "    .dataframe tbody tr th {\n",
       "        vertical-align: top;\n",
       "    }\n",
       "\n",
       "    .dataframe thead th {\n",
       "        text-align: right;\n",
       "    }\n",
       "</style>\n",
       "<table border=\"1\" class=\"dataframe\">\n",
       "  <thead>\n",
       "    <tr style=\"text-align: right;\">\n",
       "      <th></th>\n",
       "      <th>activityrecognition#0</th>\n",
       "      <th>activityrecognition#1</th>\n",
       "      <th>android.sensor.accelerometer#mean</th>\n",
       "      <th>android.sensor.accelerometer#min</th>\n",
       "      <th>android.sensor.accelerometer#max</th>\n",
       "      <th>android.sensor.accelerometer#std</th>\n",
       "      <th>android.sensor.game_rotation_vector#mean</th>\n",
       "      <th>android.sensor.game_rotation_vector#min</th>\n",
       "      <th>android.sensor.game_rotation_vector#max</th>\n",
       "      <th>android.sensor.game_rotation_vector#std</th>\n",
       "      <th>...</th>\n",
       "      <th>android.sensor.step_counter#std</th>\n",
       "      <th>sound#mean</th>\n",
       "      <th>sound#min</th>\n",
       "      <th>sound#max</th>\n",
       "      <th>sound#std</th>\n",
       "      <th>speed#mean</th>\n",
       "      <th>speed#min</th>\n",
       "      <th>speed#max</th>\n",
       "      <th>speed#std</th>\n",
       "      <th>target</th>\n",
       "    </tr>\n",
       "  </thead>\n",
       "  <tbody>\n",
       "    <tr>\n",
       "      <th>49</th>\n",
       "      <td>NaN</td>\n",
       "      <td>100.0</td>\n",
       "      <td>10.413624</td>\n",
       "      <td>3.324387</td>\n",
       "      <td>14.608536</td>\n",
       "      <td>4.031835</td>\n",
       "      <td>0.995565</td>\n",
       "      <td>0.995565</td>\n",
       "      <td>0.995565</td>\n",
       "      <td>0.004182</td>\n",
       "      <td>...</td>\n",
       "      <td>NaN</td>\n",
       "      <td>77.221125</td>\n",
       "      <td>77.221125</td>\n",
       "      <td>77.221125</td>\n",
       "      <td>NaN</td>\n",
       "      <td>NaN</td>\n",
       "      <td>NaN</td>\n",
       "      <td>NaN</td>\n",
       "      <td>NaN</td>\n",
       "      <td>Walking</td>\n",
       "    </tr>\n",
       "    <tr>\n",
       "      <th>56</th>\n",
       "      <td>NaN</td>\n",
       "      <td>3.0</td>\n",
       "      <td>9.918021</td>\n",
       "      <td>5.371977</td>\n",
       "      <td>15.088214</td>\n",
       "      <td>3.438894</td>\n",
       "      <td>0.999042</td>\n",
       "      <td>0.997809</td>\n",
       "      <td>0.999737</td>\n",
       "      <td>0.001071</td>\n",
       "      <td>...</td>\n",
       "      <td>NaN</td>\n",
       "      <td>79.330518</td>\n",
       "      <td>78.588379</td>\n",
       "      <td>80.072657</td>\n",
       "      <td>1.049543</td>\n",
       "      <td>1.200</td>\n",
       "      <td>1.20</td>\n",
       "      <td>1.20</td>\n",
       "      <td>NaN</td>\n",
       "      <td>Walking</td>\n",
       "    </tr>\n",
       "    <tr>\n",
       "      <th>61</th>\n",
       "      <td>NaN</td>\n",
       "      <td>92.0</td>\n",
       "      <td>10.397982</td>\n",
       "      <td>2.866489</td>\n",
       "      <td>15.540415</td>\n",
       "      <td>4.675462</td>\n",
       "      <td>0.980540</td>\n",
       "      <td>0.962893</td>\n",
       "      <td>0.989908</td>\n",
       "      <td>0.012693</td>\n",
       "      <td>...</td>\n",
       "      <td>6.363961</td>\n",
       "      <td>78.195398</td>\n",
       "      <td>78.195398</td>\n",
       "      <td>78.195398</td>\n",
       "      <td>3.664411</td>\n",
       "      <td>0.395</td>\n",
       "      <td>0.39</td>\n",
       "      <td>0.40</td>\n",
       "      <td>0.007071</td>\n",
       "      <td>Walking</td>\n",
       "    </tr>\n",
       "    <tr>\n",
       "      <th>90</th>\n",
       "      <td>NaN</td>\n",
       "      <td>100.0</td>\n",
       "      <td>9.117016</td>\n",
       "      <td>4.277544</td>\n",
       "      <td>13.888088</td>\n",
       "      <td>3.758204</td>\n",
       "      <td>0.823188</td>\n",
       "      <td>0.823188</td>\n",
       "      <td>0.823188</td>\n",
       "      <td>0.000227</td>\n",
       "      <td>...</td>\n",
       "      <td>NaN</td>\n",
       "      <td>82.598307</td>\n",
       "      <td>82.598307</td>\n",
       "      <td>82.598307</td>\n",
       "      <td>NaN</td>\n",
       "      <td>1.740</td>\n",
       "      <td>1.74</td>\n",
       "      <td>1.74</td>\n",
       "      <td>NaN</td>\n",
       "      <td>Walking</td>\n",
       "    </tr>\n",
       "    <tr>\n",
       "      <th>94</th>\n",
       "      <td>NaN</td>\n",
       "      <td>100.0</td>\n",
       "      <td>10.683149</td>\n",
       "      <td>2.207763</td>\n",
       "      <td>14.429910</td>\n",
       "      <td>4.189774</td>\n",
       "      <td>0.962968</td>\n",
       "      <td>0.940205</td>\n",
       "      <td>0.985731</td>\n",
       "      <td>0.032191</td>\n",
       "      <td>...</td>\n",
       "      <td>NaN</td>\n",
       "      <td>76.875864</td>\n",
       "      <td>76.875864</td>\n",
       "      <td>76.875864</td>\n",
       "      <td>NaN</td>\n",
       "      <td>1.710</td>\n",
       "      <td>1.71</td>\n",
       "      <td>1.71</td>\n",
       "      <td>NaN</td>\n",
       "      <td>Walking</td>\n",
       "    </tr>\n",
       "    <tr>\n",
       "      <th>...</th>\n",
       "      <td>...</td>\n",
       "      <td>...</td>\n",
       "      <td>...</td>\n",
       "      <td>...</td>\n",
       "      <td>...</td>\n",
       "      <td>...</td>\n",
       "      <td>...</td>\n",
       "      <td>...</td>\n",
       "      <td>...</td>\n",
       "      <td>...</td>\n",
       "      <td>...</td>\n",
       "      <td>...</td>\n",
       "      <td>...</td>\n",
       "      <td>...</td>\n",
       "      <td>...</td>\n",
       "      <td>...</td>\n",
       "      <td>...</td>\n",
       "      <td>...</td>\n",
       "      <td>...</td>\n",
       "      <td>...</td>\n",
       "      <td>...</td>\n",
       "    </tr>\n",
       "    <tr>\n",
       "      <th>5759</th>\n",
       "      <td>NaN</td>\n",
       "      <td>3.0</td>\n",
       "      <td>10.190591</td>\n",
       "      <td>5.715392</td>\n",
       "      <td>14.813796</td>\n",
       "      <td>3.931166</td>\n",
       "      <td>0.971048</td>\n",
       "      <td>0.940473</td>\n",
       "      <td>0.994049</td>\n",
       "      <td>0.027579</td>\n",
       "      <td>...</td>\n",
       "      <td>NaN</td>\n",
       "      <td>86.247356</td>\n",
       "      <td>86.247356</td>\n",
       "      <td>86.247356</td>\n",
       "      <td>NaN</td>\n",
       "      <td>1.200</td>\n",
       "      <td>1.20</td>\n",
       "      <td>1.20</td>\n",
       "      <td>NaN</td>\n",
       "      <td>Walking</td>\n",
       "    </tr>\n",
       "    <tr>\n",
       "      <th>5779</th>\n",
       "      <td>NaN</td>\n",
       "      <td>100.0</td>\n",
       "      <td>10.074729</td>\n",
       "      <td>3.764139</td>\n",
       "      <td>13.486513</td>\n",
       "      <td>3.110941</td>\n",
       "      <td>0.998394</td>\n",
       "      <td>0.996488</td>\n",
       "      <td>0.999452</td>\n",
       "      <td>0.001307</td>\n",
       "      <td>...</td>\n",
       "      <td>NaN</td>\n",
       "      <td>81.107567</td>\n",
       "      <td>81.107567</td>\n",
       "      <td>81.107567</td>\n",
       "      <td>0.322535</td>\n",
       "      <td>1.130</td>\n",
       "      <td>1.13</td>\n",
       "      <td>1.13</td>\n",
       "      <td>NaN</td>\n",
       "      <td>Walking</td>\n",
       "    </tr>\n",
       "    <tr>\n",
       "      <th>5852</th>\n",
       "      <td>NaN</td>\n",
       "      <td>92.0</td>\n",
       "      <td>11.187854</td>\n",
       "      <td>6.020127</td>\n",
       "      <td>14.333121</td>\n",
       "      <td>3.055832</td>\n",
       "      <td>0.950652</td>\n",
       "      <td>0.942595</td>\n",
       "      <td>0.962863</td>\n",
       "      <td>0.007540</td>\n",
       "      <td>...</td>\n",
       "      <td>NaN</td>\n",
       "      <td>80.372346</td>\n",
       "      <td>80.372346</td>\n",
       "      <td>80.372346</td>\n",
       "      <td>1.688938</td>\n",
       "      <td>1.660</td>\n",
       "      <td>1.66</td>\n",
       "      <td>1.66</td>\n",
       "      <td>NaN</td>\n",
       "      <td>Walking</td>\n",
       "    </tr>\n",
       "    <tr>\n",
       "      <th>5875</th>\n",
       "      <td>NaN</td>\n",
       "      <td>15.0</td>\n",
       "      <td>9.497735</td>\n",
       "      <td>9.455685</td>\n",
       "      <td>9.543818</td>\n",
       "      <td>0.040397</td>\n",
       "      <td>0.645792</td>\n",
       "      <td>0.645769</td>\n",
       "      <td>0.645816</td>\n",
       "      <td>0.000033</td>\n",
       "      <td>...</td>\n",
       "      <td>NaN</td>\n",
       "      <td>56.028074</td>\n",
       "      <td>56.028074</td>\n",
       "      <td>56.028074</td>\n",
       "      <td>NaN</td>\n",
       "      <td>NaN</td>\n",
       "      <td>NaN</td>\n",
       "      <td>NaN</td>\n",
       "      <td>NaN</td>\n",
       "      <td>Still</td>\n",
       "    </tr>\n",
       "    <tr>\n",
       "      <th>5888</th>\n",
       "      <td>NaN</td>\n",
       "      <td>100.0</td>\n",
       "      <td>10.066610</td>\n",
       "      <td>4.564648</td>\n",
       "      <td>13.414389</td>\n",
       "      <td>3.373972</td>\n",
       "      <td>0.986319</td>\n",
       "      <td>0.974523</td>\n",
       "      <td>0.992084</td>\n",
       "      <td>0.007186</td>\n",
       "      <td>...</td>\n",
       "      <td>NaN</td>\n",
       "      <td>NaN</td>\n",
       "      <td>NaN</td>\n",
       "      <td>NaN</td>\n",
       "      <td>NaN</td>\n",
       "      <td>NaN</td>\n",
       "      <td>NaN</td>\n",
       "      <td>NaN</td>\n",
       "      <td>NaN</td>\n",
       "      <td>Walking</td>\n",
       "    </tr>\n",
       "  </tbody>\n",
       "</table>\n",
       "<p>271 rows × 67 columns</p>\n",
       "</div>"
      ],
      "text/plain": [
       "      activityrecognition#0  activityrecognition#1  \\\n",
       "49                      NaN                  100.0   \n",
       "56                      NaN                    3.0   \n",
       "61                      NaN                   92.0   \n",
       "90                      NaN                  100.0   \n",
       "94                      NaN                  100.0   \n",
       "...                     ...                    ...   \n",
       "5759                    NaN                    3.0   \n",
       "5779                    NaN                  100.0   \n",
       "5852                    NaN                   92.0   \n",
       "5875                    NaN                   15.0   \n",
       "5888                    NaN                  100.0   \n",
       "\n",
       "      android.sensor.accelerometer#mean  android.sensor.accelerometer#min  \\\n",
       "49                            10.413624                          3.324387   \n",
       "56                             9.918021                          5.371977   \n",
       "61                            10.397982                          2.866489   \n",
       "90                             9.117016                          4.277544   \n",
       "94                            10.683149                          2.207763   \n",
       "...                                 ...                               ...   \n",
       "5759                          10.190591                          5.715392   \n",
       "5779                          10.074729                          3.764139   \n",
       "5852                          11.187854                          6.020127   \n",
       "5875                           9.497735                          9.455685   \n",
       "5888                          10.066610                          4.564648   \n",
       "\n",
       "      android.sensor.accelerometer#max  android.sensor.accelerometer#std  \\\n",
       "49                           14.608536                          4.031835   \n",
       "56                           15.088214                          3.438894   \n",
       "61                           15.540415                          4.675462   \n",
       "90                           13.888088                          3.758204   \n",
       "94                           14.429910                          4.189774   \n",
       "...                                ...                               ...   \n",
       "5759                         14.813796                          3.931166   \n",
       "5779                         13.486513                          3.110941   \n",
       "5852                         14.333121                          3.055832   \n",
       "5875                          9.543818                          0.040397   \n",
       "5888                         13.414389                          3.373972   \n",
       "\n",
       "      android.sensor.game_rotation_vector#mean  \\\n",
       "49                                    0.995565   \n",
       "56                                    0.999042   \n",
       "61                                    0.980540   \n",
       "90                                    0.823188   \n",
       "94                                    0.962968   \n",
       "...                                        ...   \n",
       "5759                                  0.971048   \n",
       "5779                                  0.998394   \n",
       "5852                                  0.950652   \n",
       "5875                                  0.645792   \n",
       "5888                                  0.986319   \n",
       "\n",
       "      android.sensor.game_rotation_vector#min  \\\n",
       "49                                   0.995565   \n",
       "56                                   0.997809   \n",
       "61                                   0.962893   \n",
       "90                                   0.823188   \n",
       "94                                   0.940205   \n",
       "...                                       ...   \n",
       "5759                                 0.940473   \n",
       "5779                                 0.996488   \n",
       "5852                                 0.942595   \n",
       "5875                                 0.645769   \n",
       "5888                                 0.974523   \n",
       "\n",
       "      android.sensor.game_rotation_vector#max  \\\n",
       "49                                   0.995565   \n",
       "56                                   0.999737   \n",
       "61                                   0.989908   \n",
       "90                                   0.823188   \n",
       "94                                   0.985731   \n",
       "...                                       ...   \n",
       "5759                                 0.994049   \n",
       "5779                                 0.999452   \n",
       "5852                                 0.962863   \n",
       "5875                                 0.645816   \n",
       "5888                                 0.992084   \n",
       "\n",
       "      android.sensor.game_rotation_vector#std  ...  \\\n",
       "49                                   0.004182  ...   \n",
       "56                                   0.001071  ...   \n",
       "61                                   0.012693  ...   \n",
       "90                                   0.000227  ...   \n",
       "94                                   0.032191  ...   \n",
       "...                                       ...  ...   \n",
       "5759                                 0.027579  ...   \n",
       "5779                                 0.001307  ...   \n",
       "5852                                 0.007540  ...   \n",
       "5875                                 0.000033  ...   \n",
       "5888                                 0.007186  ...   \n",
       "\n",
       "      android.sensor.step_counter#std  sound#mean  sound#min  sound#max  \\\n",
       "49                                NaN   77.221125  77.221125  77.221125   \n",
       "56                                NaN   79.330518  78.588379  80.072657   \n",
       "61                           6.363961   78.195398  78.195398  78.195398   \n",
       "90                                NaN   82.598307  82.598307  82.598307   \n",
       "94                                NaN   76.875864  76.875864  76.875864   \n",
       "...                               ...         ...        ...        ...   \n",
       "5759                              NaN   86.247356  86.247356  86.247356   \n",
       "5779                              NaN   81.107567  81.107567  81.107567   \n",
       "5852                              NaN   80.372346  80.372346  80.372346   \n",
       "5875                              NaN   56.028074  56.028074  56.028074   \n",
       "5888                              NaN         NaN        NaN        NaN   \n",
       "\n",
       "      sound#std  speed#mean  speed#min  speed#max  speed#std   target  \n",
       "49          NaN         NaN        NaN        NaN        NaN  Walking  \n",
       "56     1.049543       1.200       1.20       1.20        NaN  Walking  \n",
       "61     3.664411       0.395       0.39       0.40   0.007071  Walking  \n",
       "90          NaN       1.740       1.74       1.74        NaN  Walking  \n",
       "94          NaN       1.710       1.71       1.71        NaN  Walking  \n",
       "...         ...         ...        ...        ...        ...      ...  \n",
       "5759        NaN       1.200       1.20       1.20        NaN  Walking  \n",
       "5779   0.322535       1.130       1.13       1.13        NaN  Walking  \n",
       "5852   1.688938       1.660       1.66       1.66        NaN  Walking  \n",
       "5875        NaN         NaN        NaN        NaN        NaN    Still  \n",
       "5888        NaN         NaN        NaN        NaN        NaN  Walking  \n",
       "\n",
       "[271 rows x 67 columns]"
      ]
     },
     "execution_count": 84,
     "metadata": {},
     "output_type": "execute_result"
    }
   ],
   "source": [
    "df_test"
   ]
  },
  {
   "cell_type": "code",
   "execution_count": 77,
   "id": "73de009c",
   "metadata": {
    "ExecuteTime": {
     "end_time": "2021-05-20T11:43:38.305766Z",
     "start_time": "2021-05-20T11:43:38.302283Z"
    },
    "cell_id": "00012-d0bf41ef-aa79-41f7-9c4d-e7c195432593",
    "deepnote_cell_type": "code",
    "deepnote_to_be_reexecuted": false,
    "execution_millis": 10,
    "execution_start": 1621413606677,
    "source_hash": "f72c817d"
   },
   "outputs": [
    {
     "name": "stdout",
     "output_type": "stream",
     "text": [
      "(5622, 67)\n",
      "(271, 67)\n"
     ]
    }
   ],
   "source": [
    "print(df_train.shape)\n",
    "print(df_test.shape)"
   ]
  },
  {
   "cell_type": "code",
   "execution_count": 10,
   "id": "e86ab9ae",
   "metadata": {
    "ExecuteTime": {
     "end_time": "2021-05-20T11:34:24.312121Z",
     "start_time": "2021-05-20T11:34:24.307043Z"
    },
    "code_folding": [
     0,
     9
    ]
   },
   "outputs": [],
   "source": [
    "def fill_nan_with_mean_training(training, test):\n",
    "    trainingFill = training.copy()\n",
    "    testFill = test.copy()\n",
    "    trainingFill = trainingFill.fillna(trainingFill.mean())\n",
    "    trainingFill = trainingFill.fillna(0)\n",
    "    testFill = testFill.fillna(trainingFill.mean())\n",
    "    testFill = testFill.fillna(0)\n",
    "    return trainingFill, testFill\n",
    "\n",
    "def scale_features(train, test):\n",
    "    # build scaler to apply on training and test the same transformation\n",
    "    scaler = StandardScaler().fit(train)\n",
    "    train_features_scaled = scaler.transform(train)\n",
    "    test_features_scaled = scaler.transform(test)\n",
    "    return train_features_scaled, test_features_scaled"
   ]
  },
  {
   "cell_type": "code",
   "execution_count": 78,
   "id": "b19ed58a",
   "metadata": {
    "ExecuteTime": {
     "end_time": "2021-05-20T11:43:43.812703Z",
     "start_time": "2021-05-20T11:43:43.755365Z"
    }
   },
   "outputs": [],
   "source": [
    "df_train_fill,df_test_fill=fill_nan_with_mean_training(df_train,df_test)"
   ]
  },
  {
   "cell_type": "code",
   "execution_count": 79,
   "id": "b23dbe29",
   "metadata": {
    "ExecuteTime": {
     "end_time": "2021-05-20T11:43:45.469528Z",
     "start_time": "2021-05-20T11:43:45.439178Z"
    }
   },
   "outputs": [],
   "source": [
    "X=df_train_fill.drop('target',axis=1)\n",
    "y=df_train_fill.target\n",
    "X_test=df_test_fill.drop('target',axis=1)\n",
    "\n",
    "y_test=df_test_fill.target\n",
    "X_sc,X_test_sc=scale_features(X, X_test)"
   ]
  },
  {
   "cell_type": "markdown",
   "id": "8f307a4c",
   "metadata": {
    "cell_id": "00015-bf364553-c6b4-45e8-abcd-b7ac3e001671",
    "deepnote_cell_type": "markdown"
   },
   "source": [
    "# Pipeline "
   ]
  },
  {
   "cell_type": "code",
   "execution_count": null,
   "id": "ecc45311",
   "metadata": {
    "ExecuteTime": {
     "end_time": "2021-05-20T07:11:45.641897Z",
     "start_time": "2021-05-20T07:11:45.635731Z"
    },
    "cell_id": "00016-e5f545c7-96b3-4abe-bb52-f939b9258cd9",
    "code_folding": [
     0
    ],
    "deepnote_cell_type": "code",
    "deepnote_to_be_reexecuted": false,
    "execution_millis": 1,
    "execution_start": 1621413615690,
    "source_hash": "c46b4aee"
   },
   "outputs": [],
   "source": [
    "# num_attribs=df_train.drop('target',axis=1).columns.to_list()\n",
    "# num_pip=Pipeline([('imputer',impute.SimpleImputer(strategy='median')),\n",
    "#                   ('scalar',MinMaxScaler()),\n",
    "#                ])  # ('PCA',PCA(n_components=12))\n",
    "# preprocessor=compose.ColumnTransformer([\n",
    "#     ('num',num_pip,num_attribs)\n",
    "# ])"
   ]
  },
  {
   "cell_type": "code",
   "execution_count": 16,
   "id": "c513fadf",
   "metadata": {
    "ExecuteTime": {
     "end_time": "2021-05-20T11:36:00.055640Z",
     "start_time": "2021-05-20T11:36:00.033160Z"
    },
    "cell_id": "00017-92beb382-8adc-4eec-8c37-8da7367daf18",
    "code_folding": [
     0
    ],
    "deepnote_cell_type": "code",
    "deepnote_to_be_reexecuted": false,
    "execution_millis": 100,
    "execution_start": 1621417526522,
    "source_hash": "5ce2e3a"
   },
   "outputs": [
    {
     "data": {
      "text/html": [
       "<style>#sk-26b79203-fe29-497c-bbae-994ef94da65e {color: black;background-color: white;}#sk-26b79203-fe29-497c-bbae-994ef94da65e pre{padding: 0;}#sk-26b79203-fe29-497c-bbae-994ef94da65e div.sk-toggleable {background-color: white;}#sk-26b79203-fe29-497c-bbae-994ef94da65e label.sk-toggleable__label {cursor: pointer;display: block;width: 100%;margin-bottom: 0;padding: 0.2em 0.3em;box-sizing: border-box;text-align: center;}#sk-26b79203-fe29-497c-bbae-994ef94da65e div.sk-toggleable__content {max-height: 0;max-width: 0;overflow: hidden;text-align: left;background-color: #f0f8ff;}#sk-26b79203-fe29-497c-bbae-994ef94da65e div.sk-toggleable__content pre {margin: 0.2em;color: black;border-radius: 0.25em;background-color: #f0f8ff;}#sk-26b79203-fe29-497c-bbae-994ef94da65e input.sk-toggleable__control:checked~div.sk-toggleable__content {max-height: 200px;max-width: 100%;overflow: auto;}#sk-26b79203-fe29-497c-bbae-994ef94da65e div.sk-estimator input.sk-toggleable__control:checked~label.sk-toggleable__label {background-color: #d4ebff;}#sk-26b79203-fe29-497c-bbae-994ef94da65e div.sk-label input.sk-toggleable__control:checked~label.sk-toggleable__label {background-color: #d4ebff;}#sk-26b79203-fe29-497c-bbae-994ef94da65e input.sk-hidden--visually {border: 0;clip: rect(1px 1px 1px 1px);clip: rect(1px, 1px, 1px, 1px);height: 1px;margin: -1px;overflow: hidden;padding: 0;position: absolute;width: 1px;}#sk-26b79203-fe29-497c-bbae-994ef94da65e div.sk-estimator {font-family: monospace;background-color: #f0f8ff;margin: 0.25em 0.25em;border: 1px dotted black;border-radius: 0.25em;box-sizing: border-box;}#sk-26b79203-fe29-497c-bbae-994ef94da65e div.sk-estimator:hover {background-color: #d4ebff;}#sk-26b79203-fe29-497c-bbae-994ef94da65e div.sk-parallel-item::after {content: \"\";width: 100%;border-bottom: 1px solid gray;flex-grow: 1;}#sk-26b79203-fe29-497c-bbae-994ef94da65e div.sk-label:hover label.sk-toggleable__label {background-color: #d4ebff;}#sk-26b79203-fe29-497c-bbae-994ef94da65e div.sk-serial::before {content: \"\";position: absolute;border-left: 1px solid gray;box-sizing: border-box;top: 2em;bottom: 0;left: 50%;}#sk-26b79203-fe29-497c-bbae-994ef94da65e div.sk-serial {display: flex;flex-direction: column;align-items: center;background-color: white;}#sk-26b79203-fe29-497c-bbae-994ef94da65e div.sk-item {z-index: 1;}#sk-26b79203-fe29-497c-bbae-994ef94da65e div.sk-parallel {display: flex;align-items: stretch;justify-content: center;background-color: white;}#sk-26b79203-fe29-497c-bbae-994ef94da65e div.sk-parallel-item {display: flex;flex-direction: column;position: relative;background-color: white;}#sk-26b79203-fe29-497c-bbae-994ef94da65e div.sk-parallel-item:first-child::after {align-self: flex-end;width: 50%;}#sk-26b79203-fe29-497c-bbae-994ef94da65e div.sk-parallel-item:last-child::after {align-self: flex-start;width: 50%;}#sk-26b79203-fe29-497c-bbae-994ef94da65e div.sk-parallel-item:only-child::after {width: 0;}#sk-26b79203-fe29-497c-bbae-994ef94da65e div.sk-dashed-wrapped {border: 1px dashed gray;margin: 0.2em;box-sizing: border-box;padding-bottom: 0.1em;background-color: white;position: relative;}#sk-26b79203-fe29-497c-bbae-994ef94da65e div.sk-label label {font-family: monospace;font-weight: bold;background-color: white;display: inline-block;line-height: 1.2em;}#sk-26b79203-fe29-497c-bbae-994ef94da65e div.sk-label-container {position: relative;z-index: 2;text-align: center;}#sk-26b79203-fe29-497c-bbae-994ef94da65e div.sk-container {display: inline-block;position: relative;}</style><div id=\"sk-26b79203-fe29-497c-bbae-994ef94da65e\" class\"sk-top-container\"><div class=\"sk-container\"><div class=\"sk-item sk-dashed-wrapped\"><div class=\"sk-label-container\"><div class=\"sk-label sk-toggleable\"><input class=\"sk-toggleable__control sk-hidden--visually\" id=\"b3eaa168-17a6-4137-ae7a-62deaa5d50d2\" type=\"checkbox\" ><label class=\"sk-toggleable__label\" for=\"b3eaa168-17a6-4137-ae7a-62deaa5d50d2\">Pipeline</label><div class=\"sk-toggleable__content\"><pre>Pipeline(steps=[('gradientboostingclassifier', GradientBoostingClassifier())])</pre></div></div></div><div class=\"sk-serial\"><div class=\"sk-item\"><div class=\"sk-estimator sk-toggleable\"><input class=\"sk-toggleable__control sk-hidden--visually\" id=\"0991665e-fa5f-46f9-9507-be00f4a781b0\" type=\"checkbox\" ><label class=\"sk-toggleable__label\" for=\"0991665e-fa5f-46f9-9507-be00f4a781b0\">GradientBoostingClassifier</label><div class=\"sk-toggleable__content\"><pre>GradientBoostingClassifier()</pre></div></div></div></div></div></div></div>"
      ],
      "text/plain": [
       "Pipeline(steps=[('gradientboostingclassifier', GradientBoostingClassifier())])"
      ]
     },
     "execution_count": 16,
     "metadata": {},
     "output_type": "execute_result"
    }
   ],
   "source": [
    "# pipeline for model\n",
    "classifier_models = {\n",
    "\"DecisionTreeClassifier\": DecisionTreeClassifier(),\n",
    "'KNeighborsClassifier':KNeighborsClassifier(6),\n",
    "'LogisticRegression':LogisticRegression(),\n",
    "\"RandomForestClassifier\":RandomForestClassifier(),\n",
    "\"GradientBoostingClassifier\":GradientBoostingClassifier(),\n",
    "\"XGBClassifier\":XGBClassifier(),\n",
    "\"LGBMClassifier\":LGBMClassifier(),\n",
    "'GaussianNB':GaussianNB(),\n",
    "\n",
    "}\n",
    "# make pipline with  preprocessing \n",
    "classifier_models = {name: make_pipeline( model) for name, model in classifier_models.items()}\n",
    "classifier_models[\"GradientBoostingClassifier\"]"
   ]
  },
  {
   "cell_type": "code",
   "execution_count": 38,
   "id": "cff2d247",
   "metadata": {
    "ExecuteTime": {
     "end_time": "2021-05-20T11:38:59.315371Z",
     "start_time": "2021-05-20T11:38:27.510448Z"
    },
    "cell_id": "00018-a223c62b-d005-4dca-9b28-e4a8facfdae7",
    "code_folding": [
     4
    ],
    "deepnote_cell_type": "code",
    "deepnote_to_be_reexecuted": false,
    "execution_millis": 44618,
    "execution_start": 1621413664253,
    "source_hash": "9af53d33"
   },
   "outputs": [
    {
     "name": "stdout",
     "output_type": "stream",
     "text": [
      "[15:38:50] WARNING: ../src/learner.cc:1095: Starting in XGBoost 1.3.0, the default evaluation metric used with the objective 'multi:softprob' was changed from 'merror' to 'mlogloss'. Explicitly set eval_metric if you'd like to restore the old behavior.\n"
     ]
    },
    {
     "data": {
      "text/html": [
       "<style  type=\"text/css\" >\n",
       "#T_ab8bd_row0_col1,#T_ab8bd_row0_col2{\n",
       "            width:  10em;\n",
       "             height:  80%;\n",
       "            background:  linear-gradient(90deg,#5fba7d 99.0%, transparent 99.0%);\n",
       "        }#T_ab8bd_row1_col1,#T_ab8bd_row1_col2{\n",
       "            width:  10em;\n",
       "             height:  80%;\n",
       "            background:  linear-gradient(90deg,#5fba7d 98.7%, transparent 98.7%);\n",
       "        }#T_ab8bd_row2_col1,#T_ab8bd_row2_col2,#T_ab8bd_row3_col1,#T_ab8bd_row3_col2{\n",
       "            width:  10em;\n",
       "             height:  80%;\n",
       "            background:  linear-gradient(90deg,#5fba7d 98.4%, transparent 98.4%);\n",
       "        }#T_ab8bd_row4_col1,#T_ab8bd_row4_col2{\n",
       "            width:  10em;\n",
       "             height:  80%;\n",
       "            background:  linear-gradient(90deg,#5fba7d 94.3%, transparent 94.3%);\n",
       "        }#T_ab8bd_row5_col1,#T_ab8bd_row5_col2{\n",
       "            width:  10em;\n",
       "             height:  80%;\n",
       "            background:  linear-gradient(90deg,#5fba7d 94.1%, transparent 94.1%);\n",
       "        }#T_ab8bd_row6_col1{\n",
       "            width:  10em;\n",
       "             height:  80%;\n",
       "            background:  linear-gradient(90deg,#5fba7d 85.8%, transparent 85.8%);\n",
       "        }#T_ab8bd_row6_col2{\n",
       "            width:  10em;\n",
       "             height:  80%;\n",
       "            background:  linear-gradient(90deg,#5fba7d 85.7%, transparent 85.7%);\n",
       "        }#T_ab8bd_row7_col1{\n",
       "            width:  10em;\n",
       "             height:  80%;\n",
       "            background:  linear-gradient(90deg,#5fba7d 68.2%, transparent 68.2%);\n",
       "        }#T_ab8bd_row7_col2{\n",
       "            width:  10em;\n",
       "             height:  80%;\n",
       "            background:  linear-gradient(90deg,#5fba7d 67.0%, transparent 67.0%);\n",
       "        }</style><table id=\"T_ab8bd_\" ><thead>    <tr>        <th class=\"blank level0\" ></th>        <th class=\"col_heading level0 col0\" >Model</th>        <th class=\"col_heading level0 col1\" >Accuracy</th>        <th class=\"col_heading level0 col2\" >Bal Acc.</th>        <th class=\"col_heading level0 col3\" >Time</th>    </tr></thead><tbody>\n",
       "                <tr>\n",
       "                        <th id=\"T_ab8bd_level0_row0\" class=\"row_heading level0 row0\" >1</th>\n",
       "                        <td id=\"T_ab8bd_row0_col0\" class=\"data row0 col0\" >LGBMClassifier</td>\n",
       "                        <td id=\"T_ab8bd_row0_col1\" class=\"data row0 col1\" >99.047141</td>\n",
       "                        <td id=\"T_ab8bd_row0_col2\" class=\"data row0 col2\" >99.025332</td>\n",
       "                        <td id=\"T_ab8bd_row0_col3\" class=\"data row0 col3\" >3.487152</td>\n",
       "            </tr>\n",
       "            <tr>\n",
       "                        <th id=\"T_ab8bd_level0_row1\" class=\"row_heading level0 row1\" >2</th>\n",
       "                        <td id=\"T_ab8bd_row1_col0\" class=\"data row1 col0\" >XGBClassifier</td>\n",
       "                        <td id=\"T_ab8bd_row1_col1\" class=\"data row1 col1\" >98.696088</td>\n",
       "                        <td id=\"T_ab8bd_row1_col2\" class=\"data row1 col2\" >98.679681</td>\n",
       "                        <td id=\"T_ab8bd_row1_col3\" class=\"data row1 col3\" >4.990760</td>\n",
       "            </tr>\n",
       "            <tr>\n",
       "                        <th id=\"T_ab8bd_level0_row2\" class=\"row_heading level0 row2\" >3</th>\n",
       "                        <td id=\"T_ab8bd_row2_col0\" class=\"data row2 col0\" >RandomForestClassifier</td>\n",
       "                        <td id=\"T_ab8bd_row2_col1\" class=\"data row2 col1\" >98.445336</td>\n",
       "                        <td id=\"T_ab8bd_row2_col2\" class=\"data row2 col2\" >98.413381</td>\n",
       "                        <td id=\"T_ab8bd_row2_col3\" class=\"data row2 col3\" >1.302627</td>\n",
       "            </tr>\n",
       "            <tr>\n",
       "                        <th id=\"T_ab8bd_level0_row3\" class=\"row_heading level0 row3\" >4</th>\n",
       "                        <td id=\"T_ab8bd_row3_col0\" class=\"data row3 col0\" >GradientBoostingClassifier</td>\n",
       "                        <td id=\"T_ab8bd_row3_col1\" class=\"data row3 col1\" >98.395186</td>\n",
       "                        <td id=\"T_ab8bd_row3_col2\" class=\"data row3 col2\" >98.352888</td>\n",
       "                        <td id=\"T_ab8bd_row3_col3\" class=\"data row3 col3\" >20.763938</td>\n",
       "            </tr>\n",
       "            <tr>\n",
       "                        <th id=\"T_ab8bd_level0_row4\" class=\"row_heading level0 row4\" >5</th>\n",
       "                        <td id=\"T_ab8bd_row4_col0\" class=\"data row4 col0\" >KNeighborsClassifier</td>\n",
       "                        <td id=\"T_ab8bd_row4_col1\" class=\"data row4 col1\" >94.282849</td>\n",
       "                        <td id=\"T_ab8bd_row4_col2\" class=\"data row4 col2\" >94.255064</td>\n",
       "                        <td id=\"T_ab8bd_row4_col3\" class=\"data row4 col3\" >0.004057</td>\n",
       "            </tr>\n",
       "            <tr>\n",
       "                        <th id=\"T_ab8bd_level0_row5\" class=\"row_heading level0 row5\" >6</th>\n",
       "                        <td id=\"T_ab8bd_row5_col0\" class=\"data row5 col0\" >DecisionTreeClassifier</td>\n",
       "                        <td id=\"T_ab8bd_row5_col1\" class=\"data row5 col1\" >94.132397</td>\n",
       "                        <td id=\"T_ab8bd_row5_col2\" class=\"data row5 col2\" >94.095578</td>\n",
       "                        <td id=\"T_ab8bd_row5_col3\" class=\"data row5 col3\" >0.150912</td>\n",
       "            </tr>\n",
       "            <tr>\n",
       "                        <th id=\"T_ab8bd_level0_row6\" class=\"row_heading level0 row6\" >7</th>\n",
       "                        <td id=\"T_ab8bd_row6_col0\" class=\"data row6 col0\" >LogisticRegression</td>\n",
       "                        <td id=\"T_ab8bd_row6_col1\" class=\"data row6 col1\" >85.807422</td>\n",
       "                        <td id=\"T_ab8bd_row6_col2\" class=\"data row6 col2\" >85.748511</td>\n",
       "                        <td id=\"T_ab8bd_row6_col3\" class=\"data row6 col3\" >0.557232</td>\n",
       "            </tr>\n",
       "            <tr>\n",
       "                        <th id=\"T_ab8bd_level0_row7\" class=\"row_heading level0 row7\" >8</th>\n",
       "                        <td id=\"T_ab8bd_row7_col0\" class=\"data row7 col0\" >GaussianNB</td>\n",
       "                        <td id=\"T_ab8bd_row7_col1\" class=\"data row7 col1\" >68.204614</td>\n",
       "                        <td id=\"T_ab8bd_row7_col2\" class=\"data row7 col2\" >66.958617</td>\n",
       "                        <td id=\"T_ab8bd_row7_col3\" class=\"data row7 col3\" >0.006358</td>\n",
       "            </tr>\n",
       "    </tbody></table>"
      ],
      "text/plain": [
       "<pandas.io.formats.style.Styler at 0x7f766bac5460>"
      ]
     },
     "execution_count": 38,
     "metadata": {},
     "output_type": "execute_result"
    }
   ],
   "source": [
    "x_train, x_val, y_train, y_val = train_test_split(X_sc, y,test_size=0.4,stratify = y,random_state=10 )\n",
    "results = pd.DataFrame({'Model': [], 'Accuracy': [], 'Bal Acc.': [],'Time': []})\n",
    "for model_name, model in classifier_models.items():\n",
    "    start_time = time.time()\n",
    "    model.fit(x_train, y_train)\n",
    "    total_time = time.time() - start_time\n",
    "    valid_pred = model.predict(x_val)\n",
    "    results = results.append({\"Model\":    model_name,\n",
    "                              \"Accuracy\": accuracy_score(y_val, valid_pred)*100,\n",
    "                              \"Bal Acc.\": balanced_accuracy_score(y_val, valid_pred)*100,\n",
    "                    \n",
    "                              \"Time\":     total_time},\n",
    "                              ignore_index=True)\n",
    "results_ord = results.sort_values(by=['Accuracy'], ascending=False, ignore_index=True)\n",
    "results_ord.index += 1 \n",
    "results_ord.style.bar(subset=['Accuracy', 'Bal Acc.'], vmin=0, vmax=100, color='#5fba7d')\n"
   ]
  },
  {
   "cell_type": "markdown",
   "id": "ff0e00aa",
   "metadata": {
    "cell_id": "00019-f27d4a7c-807c-40af-a2ec-086ee9c96b8a",
    "deepnote_cell_type": "markdown"
   },
   "source": [
    "# Best model for test data  "
   ]
  },
  {
   "cell_type": "code",
   "execution_count": 80,
   "id": "c6fea1f7",
   "metadata": {
    "ExecuteTime": {
     "end_time": "2021-05-20T11:43:54.171271Z",
     "start_time": "2021-05-20T11:43:54.167407Z"
    },
    "cell_id": "00021-ba896ca9-57d8-4edc-a023-b613bfc8d3dc",
    "deepnote_cell_type": "code",
    "deepnote_to_be_reexecuted": false,
    "execution_millis": 1,
    "execution_start": 1621413753530,
    "source_hash": "55e59264"
   },
   "outputs": [],
   "source": [
    "best_model=LGBMClassifier()\n",
    "name='LGBMClassifier'"
   ]
  },
  {
   "cell_type": "code",
   "execution_count": 81,
   "id": "f46aa7cd",
   "metadata": {
    "ExecuteTime": {
     "end_time": "2021-05-20T11:43:59.488788Z",
     "start_time": "2021-05-20T11:43:55.107707Z"
    },
    "cell_id": "00023-55ac1e59-0241-48dc-97aa-db64bdc9bc4b",
    "deepnote_cell_type": "code",
    "deepnote_to_be_reexecuted": false,
    "execution_millis": 177600,
    "execution_start": 1621417545124,
    "source_hash": "419bd42d"
   },
   "outputs": [
    {
     "data": {
      "text/html": [
       "<style  type=\"text/css\" >\n",
       "#T_461ce_row0_col1{\n",
       "            width:  10em;\n",
       "             height:  80%;\n",
       "            background:  linear-gradient(90deg,#5fba7d 89.3%, transparent 89.3%);\n",
       "        }#T_461ce_row0_col2{\n",
       "            width:  10em;\n",
       "             height:  80%;\n",
       "            background:  linear-gradient(90deg,#5fba7d 66.8%, transparent 66.8%);\n",
       "        }</style><table id=\"T_461ce_\" ><thead>    <tr>        <th class=\"blank level0\" ></th>        <th class=\"col_heading level0 col0\" >Model</th>        <th class=\"col_heading level0 col1\" >Accuracy</th>        <th class=\"col_heading level0 col2\" >Bal Acc.</th>        <th class=\"col_heading level0 col3\" >Time</th>    </tr></thead><tbody>\n",
       "                <tr>\n",
       "                        <th id=\"T_461ce_level0_row0\" class=\"row_heading level0 row0\" >1</th>\n",
       "                        <td id=\"T_461ce_row0_col0\" class=\"data row0 col0\" >LGBMClassifier</td>\n",
       "                        <td id=\"T_461ce_row0_col1\" class=\"data row0 col1\" >89.298893</td>\n",
       "                        <td id=\"T_461ce_row0_col2\" class=\"data row0 col2\" >66.777778</td>\n",
       "                        <td id=\"T_461ce_row0_col3\" class=\"data row0 col3\" >4.352133</td>\n",
       "            </tr>\n",
       "    </tbody></table>"
      ],
      "text/plain": [
       "<pandas.io.formats.style.Styler at 0x7f766baad7f0>"
      ]
     },
     "execution_count": 81,
     "metadata": {},
     "output_type": "execute_result"
    }
   ],
   "source": [
    "clf=Pipeline([('classification',best_model)])\n",
    "test_result = pd.DataFrame({'Model': [], 'Accuracy': [], 'Bal Acc.': [],'Time': []})\n",
    "start_time = time.time()\n",
    "clf.fit(X_sc, y)\n",
    "total_time = time.time() - start_time\n",
    "pred = clf.predict(X_test_sc)\n",
    "test_result = test_result.append({\"Model\":    name,\n",
    "                          \"Accuracy\": accuracy_score(y_test, pred)*100,\n",
    "                          \"Bal Acc.\": balanced_accuracy_score(y_test, pred)*100,\n",
    "                          \"Time\":     total_time},\n",
    "                          ignore_index=True)\n",
    "test_result_ord = test_result.sort_values(by=['Accuracy'], ascending=False, ignore_index=True)\n",
    "test_result_ord.index += 1 \n",
    "test_result_ord.style.bar(subset=['Accuracy', 'Bal Acc.'], vmin=0, vmax=100, color='#5fba7d')\n",
    "\n"
   ]
  },
  {
   "cell_type": "code",
   "execution_count": 82,
   "id": "176389e8",
   "metadata": {
    "ExecuteTime": {
     "end_time": "2021-05-20T11:44:09.446777Z",
     "start_time": "2021-05-20T11:44:09.414907Z"
    }
   },
   "outputs": [
    {
     "name": "stdout",
     "output_type": "stream",
     "text": [
      "              precision    recall  f1-score   support\n",
      "\n",
      "         Bus       0.00      0.00      0.00         0\n",
      "         Car       0.92      0.75      0.83        16\n",
      "       Still       0.89      0.27      0.41        30\n",
      "       Train       0.00      0.00      0.00         0\n",
      "     Walking       0.99      0.99      0.99       225\n",
      "\n",
      "    accuracy                           0.89       271\n",
      "   macro avg       0.56      0.40      0.45       271\n",
      "weighted avg       0.98      0.89      0.92       271\n",
      "\n",
      "\n",
      "[[  0   0   0   0   0]\n",
      " [  1  12   0   2   1]\n",
      " [  3   0   8  18   1]\n",
      " [  0   0   0   0   0]\n",
      " [  1   1   1   0 222]]\n"
     ]
    }
   ],
   "source": [
    "print(classification_report(y_test, pred))\n",
    "print()\n",
    "print(confusion_matrix(y_test, pred))"
   ]
  },
  {
   "cell_type": "markdown",
   "id": "a1d01663",
   "metadata": {},
   "source": [
    "# with optuna paramater"
   ]
  },
  {
   "cell_type": "code",
   "execution_count": null,
   "id": "190b500e",
   "metadata": {
    "ExecuteTime": {
     "end_time": "2021-05-19T15:01:59.953163Z",
     "start_time": "2021-05-19T15:01:59.946109Z"
    }
   },
   "outputs": [],
   "source": [
    "\n",
    "m_=LGBMClassifier()\n",
    "model_m=Pipeline([('preprocess',preprocessor),('classification',m_)])"
   ]
  },
  {
   "cell_type": "code",
   "execution_count": null,
   "id": "04289310",
   "metadata": {
    "ExecuteTime": {
     "end_time": "2021-05-19T15:02:03.285703Z",
     "start_time": "2021-05-19T15:02:01.729538Z"
    }
   },
   "outputs": [],
   "source": [
    "model_m.fit(X,y)"
   ]
  },
  {
   "cell_type": "code",
   "execution_count": null,
   "id": "c930934b",
   "metadata": {
    "ExecuteTime": {
     "end_time": "2021-05-19T15:02:04.903398Z",
     "start_time": "2021-05-19T15:02:04.823786Z"
    }
   },
   "outputs": [],
   "source": [
    "pred_=model_.predict(X_test)\n",
    "print(f\"Accuracy {accuracy_score(y_test, pred_)*100}\")\n",
    "print(classification_report(y_test, pred_))\n",
    "print()\n",
    "print(confusion_matrix(y_test, pred_))"
   ]
  },
  {
   "cell_type": "code",
   "execution_count": null,
   "id": "38507d17",
   "metadata": {},
   "outputs": [],
   "source": []
  },
  {
   "cell_type": "code",
   "execution_count": null,
   "id": "6e9ab024",
   "metadata": {},
   "outputs": [],
   "source": []
  },
  {
   "cell_type": "markdown",
   "id": "703b919e",
   "metadata": {
    "cell_id": "00025-04dcb31f-2c66-4c89-956a-0e50837401d2",
    "deepnote_cell_type": "text-cell-h1",
    "tags": []
   },
   "source": [
    "#  Drop some feature from target  beacuse of confusion materix result \n",
    "\n",
    "## Drop car  category "
   ]
  },
  {
   "cell_type": "code",
   "execution_count": null,
   "id": "67678327",
   "metadata": {
    "ExecuteTime": {
     "end_time": "2021-05-19T15:02:14.908600Z",
     "start_time": "2021-05-19T15:02:14.901906Z"
    },
    "cell_id": "00026-4e8ec8d9-73fe-4098-a104-b64f1b201dee",
    "deepnote_cell_type": "code",
    "deepnote_to_be_reexecuted": false,
    "execution_millis": 0,
    "execution_start": 1621414154518,
    "source_hash": "1307de0a",
    "tags": []
   },
   "outputs": [],
   "source": [
    "df_test_1   =df_test[df_test['target']!='Car']\n",
    "df_train_1  =df_train[df_train['target']!='Car']"
   ]
  },
  {
   "cell_type": "code",
   "execution_count": null,
   "id": "6ccf49c5",
   "metadata": {
    "ExecuteTime": {
     "end_time": "2021-05-19T15:02:16.438678Z",
     "start_time": "2021-05-19T15:02:16.433506Z"
    },
    "cell_id": "00027-6a8851e1-bdec-4889-941b-a4753e4207ed",
    "deepnote_cell_type": "code",
    "deepnote_to_be_reexecuted": false,
    "execution_millis": 15,
    "execution_start": 1621414157127,
    "source_hash": "946fc65d",
    "tags": []
   },
   "outputs": [],
   "source": [
    "print(df_test.shape)\n",
    "print(df_train.shape)"
   ]
  },
  {
   "cell_type": "markdown",
   "id": "6d999a5c",
   "metadata": {
    "cell_id": "00024-137a78bb-5756-467f-ad76-5bbfd5d04862",
    "deepnote_cell_type": "text-cell-h1",
    "tags": []
   },
   "source": [
    "# How much info reduced "
   ]
  },
  {
   "cell_type": "code",
   "execution_count": null,
   "id": "08ab8be5",
   "metadata": {
    "ExecuteTime": {
     "end_time": "2021-05-19T15:02:20.022027Z",
     "start_time": "2021-05-19T15:02:20.014352Z"
    },
    "cell_id": "00028-4a7805db-604d-4700-a90b-0bc2dbd69c7c",
    "deepnote_cell_type": "code",
    "deepnote_to_be_reexecuted": false,
    "execution_millis": 0,
    "execution_start": 1621414246188,
    "source_hash": "35b01305",
    "tags": []
   },
   "outputs": [],
   "source": [
    "print(f\" After drop Car category we  reduce \\n test data {100-df_test_1.shape[0]/df_test.shape[0]*100} % \\n train data {100-df_train_1.shape[0]/df_train.shape[0]*100} %\")"
   ]
  },
  {
   "cell_type": "code",
   "execution_count": null,
   "id": "f65f29c9",
   "metadata": {
    "ExecuteTime": {
     "end_time": "2021-05-19T15:02:22.238467Z",
     "start_time": "2021-05-19T15:02:22.233503Z"
    },
    "cell_id": "00029-c900fbeb-079d-40a0-a81f-d8dff5cd5a68",
    "deepnote_cell_type": "code",
    "deepnote_to_be_reexecuted": false,
    "execution_millis": 8,
    "execution_start": 1621414252239,
    "source_hash": "38cdb65c",
    "tags": []
   },
   "outputs": [],
   "source": [
    "print(df_train_1.shape)\n",
    "print(df_test_1.shape)"
   ]
  },
  {
   "cell_type": "code",
   "execution_count": null,
   "id": "e63b29b2",
   "metadata": {
    "ExecuteTime": {
     "end_time": "2021-05-19T15:02:23.954836Z",
     "start_time": "2021-05-19T15:02:23.949067Z"
    },
    "cell_id": "00030-08ed8b21-f737-4e2d-90e4-bff9013a959c",
    "deepnote_cell_type": "code",
    "deepnote_to_be_reexecuted": false,
    "execution_millis": 5,
    "execution_start": 1621414258916,
    "source_hash": "917bd436",
    "tags": []
   },
   "outputs": [],
   "source": [
    "X_=df_train_1.drop('target',axis=1)\n",
    "y_=df_train_1.target\n",
    "X_test_=df_test_1.drop('target',axis=1)\n",
    "y_test_=df_test_1.target"
   ]
  },
  {
   "cell_type": "markdown",
   "id": "cb285e71",
   "metadata": {
    "cell_id": "00033-7cac29db-3436-4297-88eb-77d5b0a5b039",
    "deepnote_cell_type": "text-cell-h1",
    "tags": []
   },
   "source": [
    "# train data "
   ]
  },
  {
   "cell_type": "code",
   "execution_count": null,
   "id": "11792314",
   "metadata": {
    "ExecuteTime": {
     "end_time": "2021-05-19T15:02:33.975557Z",
     "start_time": "2021-05-19T15:02:25.520835Z"
    },
    "cell_id": "00034-ee0da9f9-3225-4109-baf7-3d8082760483",
    "deepnote_cell_type": "code",
    "deepnote_to_be_reexecuted": false,
    "execution_millis": 34209,
    "execution_start": 1621414428155,
    "source_hash": "28cdafb0",
    "tags": []
   },
   "outputs": [],
   "source": [
    "x_train_, x_val_, y_train_, y_val_ = train_test_split(X_, y_,test_size=0.4,stratify = y_,random_state=10 )\n",
    "result_new = pd.DataFrame({'Model': [], 'Accuracy': [], 'Bal Acc.': [],'Time': []})\n",
    "for model_name, model in classifier_models.items():\n",
    "    start_time_ = time.time()\n",
    "    model.fit(x_train_, y_train_)\n",
    "    total_time_= time.time() - start_time_\n",
    "    valid_pred_new = model.predict(x_val_)\n",
    "    result_new = result_new.append({\"Model\":    model_name,\n",
    "                              \"Accuracy\": accuracy_score(y_val_, valid_pred_new)*100,\n",
    "                              \"Bal Acc.\": balanced_accuracy_score(y_val_, valid_pred_new)*100,\n",
    "                              \"Time\":     total_time_},\n",
    "                              ignore_index=True)\n",
    "result_new_ord = result_new.sort_values(by=['Accuracy'], ascending=False, ignore_index=True)\n",
    "result_new_ord.index += 1 \n",
    "result_new_ord.style.bar(subset=['Accuracy', 'Bal Acc.'], vmin=0, vmax=100, color='#5fba7d')"
   ]
  },
  {
   "cell_type": "markdown",
   "id": "9a94b55e",
   "metadata": {
    "ExecuteTime": {
     "end_time": "2021-05-19T13:05:39.089930Z",
     "start_time": "2021-05-19T13:05:39.082455Z"
    }
   },
   "source": [
    "#  The highest accuracy model selected  manual tuning "
   ]
  },
  {
   "cell_type": "code",
   "execution_count": null,
   "id": "537a7277",
   "metadata": {
    "ExecuteTime": {
     "end_time": "2021-05-19T15:00:40.922904Z",
     "start_time": "2021-05-19T15:00:40.918306Z"
    }
   },
   "outputs": [],
   "source": [
    "\n",
    "best_=LGBMClassifier(boosting_type='gbdt', num_leaves=60, max_depth=6, learning_rate=0.07,\n",
    "                          n_estimators=300, subsample_for_bin=200000, objective=None, class_weight=None,\n",
    "                          min_split_gain=0.0, min_child_weight=0.001, min_child_samples=20, subsample=1.0, \n",
    "                          subsample_freq=0, colsample_bytree=1.0, reg_alpha=0.0, reg_lambda=0.0, \n",
    "                          random_state=None, n_jobs=- 1, silent=True, importance_type='split')\n",
    "model_=Pipeline([('preprocess',preprocessor),('classification',best_)])"
   ]
  },
  {
   "cell_type": "code",
   "execution_count": null,
   "id": "d6395a2d",
   "metadata": {
    "ExecuteTime": {
     "end_time": "2021-05-19T15:06:50.142367Z",
     "start_time": "2021-05-19T15:06:47.852508Z"
    }
   },
   "outputs": [],
   "source": [
    "model_.fit(X_,y_)\n",
    "pred_test_1=model_.predict(X_test_)"
   ]
  },
  {
   "cell_type": "code",
   "execution_count": null,
   "id": "d2d1eab0",
   "metadata": {
    "ExecuteTime": {
     "end_time": "2021-05-19T15:00:49.774074Z",
     "start_time": "2021-05-19T15:00:49.764739Z"
    }
   },
   "outputs": [],
   "source": [
    "accuracy_score(y_test_, pred_test_1)*100,"
   ]
  },
  {
   "cell_type": "code",
   "execution_count": null,
   "id": "05df9510",
   "metadata": {
    "ExecuteTime": {
     "end_time": "2021-05-19T15:00:51.628395Z",
     "start_time": "2021-05-19T15:00:51.588093Z"
    }
   },
   "outputs": [],
   "source": [
    "print(classification_report(y_test_, pred_test_1))\n",
    "print()\n",
    "print(confusion_matrix(y_test_, pred_test_1))"
   ]
  },
  {
   "cell_type": "markdown",
   "id": "c1bbee38",
   "metadata": {
    "cell_id": "00037-e70c6258-4570-472e-8bf4-63f3ff95d82a",
    "deepnote_cell_type": "markdown",
    "tags": []
   },
   "source": [
    "# Optuna find best parameter for selected model"
   ]
  },
  {
   "cell_type": "code",
   "execution_count": null,
   "id": "4aac4aab",
   "metadata": {
    "ExecuteTime": {
     "end_time": "2021-05-19T15:00:53.755756Z",
     "start_time": "2021-05-19T15:00:53.221269Z"
    },
    "cell_id": "00037-7a05efdd-b501-4d42-befd-a080b34f4d43",
    "deepnote_cell_type": "code",
    "tags": []
   },
   "outputs": [],
   "source": [
    "from sklearn.calibration import CalibratedClassifierCV\n",
    "import optuna"
   ]
  },
  {
   "cell_type": "code",
   "execution_count": null,
   "id": "e139f4da",
   "metadata": {
    "ExecuteTime": {
     "end_time": "2021-05-19T15:00:55.593170Z",
     "start_time": "2021-05-19T15:00:55.588016Z"
    },
    "cell_id": "00039-2b834df7-891b-498b-ab27-bda93dcfbaba",
    "deepnote_cell_type": "code",
    "tags": []
   },
   "outputs": [],
   "source": [
    "oth=Pipeline([('preprocess',preprocessor),('classification',GaussianNB())])"
   ]
  },
  {
   "cell_type": "code",
   "execution_count": null,
   "id": "d795b2cd",
   "metadata": {},
   "outputs": [],
   "source": [
    " n_estimators = trial.suggest_int('n_estimators', 2, 20)\n",
    "max_depth = int(trial.suggest_loguniform('max_depth', 1, 32))"
   ]
  },
  {
   "cell_type": "code",
   "execution_count": null,
   "id": "cc25b971",
   "metadata": {
    "ExecuteTime": {
     "end_time": "2021-05-19T13:30:31.381709Z",
     "start_time": "2021-05-19T13:30:08.710516Z"
    },
    "cell_id": "00039-d6a8eb4b-d580-445d-9240-d2166c9bd4c8",
    "deepnote_cell_type": "code",
    "tags": []
   },
   "outputs": [],
   "source": [
    "import optuna\n",
    "\n",
    "def objective(trial):\n",
    "\n",
    "    boosting_type = trial.suggest_categorical(\"boosting_type\", [\"gbdt\", \"rf\"])\n",
    "    max_depth = trial.suggest_int('max_depth', 1, 32)\n",
    "    n_estimators = trial.suggest_int(\"n_estimators\", 100,500)\n",
    "    learning_rate=trial.suggest_float(\"learning_rate\", 0.001,0.1)\n",
    "    min_data_in_leaf= trial.suggest_int(\"min_data_in_leaf\", 10,500)\n",
    "    \n",
    "    lg_lgbm = LGBMClassifier( boosting_type=boosting_type, max_depth=max_depth, \n",
    "            n_estimators=n_estimators,learning_rate=learning_rate,min_data_in_leaf=min_data_in_leaf\n",
    "        )\n",
    "\n",
    "    score = cross_val_score(lg_lgbm, X_,y_, n_jobs=-1, cv=3)\n",
    "    accuracy = score.mean()\n",
    "    return accuracy\n",
    "\n",
    "study = optuna.create_study(direction=\"maximize\")\n",
    "study.optimize(objective, n_trials=100)\n",
    "\n",
    "trial = study.best_trial\n",
    "print('Accuracy: {}'.format(trial.value))\n",
    "print(\"Best hyperparameters: {}\".format(trial.params))\n"
   ]
  },
  {
   "cell_type": "markdown",
   "id": "dc154090",
   "metadata": {},
   "source": [
    "# With optuna best parameter"
   ]
  },
  {
   "cell_type": "markdown",
   "id": "92a3cc82",
   "metadata": {},
   "source": [
    " the best accuracy  **91.18993135011442**  in max_depth= 5, n_estimators= 300, num_leaves=70,min_data_in_leaf=60,learning_rate= 0.069"
   ]
  },
  {
   "cell_type": "code",
   "execution_count": null,
   "id": "d38945a7",
   "metadata": {
    "ExecuteTime": {
     "end_time": "2021-05-19T14:02:12.118462Z",
     "start_time": "2021-05-19T14:02:12.112028Z"
    }
   },
   "outputs": [],
   "source": [
    "\n",
    "lgb_af_=LGBMClassifier( max_depth= 5\n",
    ", n_estimators= 300, num_leaves=70,min_data_in_leaf=60,learning_rate= 0.069)\n",
    "model_end=Pipeline([('preprocess',preprocessor),('classification',lgb_af_)])"
   ]
  },
  {
   "cell_type": "code",
   "execution_count": null,
   "id": "ec95b590",
   "metadata": {
    "ExecuteTime": {
     "end_time": "2021-05-19T14:02:14.559985Z",
     "start_time": "2021-05-19T14:02:13.198585Z"
    }
   },
   "outputs": [],
   "source": [
    "model_end.fit(X_,y_)\n",
    "pred_test_end=model_end.predict(X_test_)"
   ]
  },
  {
   "cell_type": "code",
   "execution_count": null,
   "id": "7bbc6750",
   "metadata": {
    "ExecuteTime": {
     "end_time": "2021-05-19T14:02:15.569645Z",
     "start_time": "2021-05-19T14:02:15.533253Z"
    }
   },
   "outputs": [],
   "source": [
    "print(f\"Accuracy {accuracy_score(y_test_, pred_test_end)*100}\")\n",
    "print(classification_report(y_test_, pred_test_end))\n",
    "print()\n",
    "print(confusion_matrix(y_test_, pred_test_end))"
   ]
  },
  {
   "cell_type": "markdown",
   "id": "8cd59e17",
   "metadata": {
    "created_in_deepnote_cell": true,
    "deepnote_cell_type": "markdown",
    "tags": []
   },
   "source": [
    "<a style='text-decoration:none;line-height:16px;display:flex;color:#5B5B62;padding:10px;justify-content:end;' href='https://deepnote.com?utm_source=created-in-deepnote-cell&projectId=3e7089f3-11a5-48ad-89c4-39a166311a14' target=\"_blank\">\n",
    "<img alt='Created in deepnote.com' style='display:inline;max-height:16px;margin:0px;margin-right:7.5px;' src='data:image/svg+xml;base64,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' > </img>\n",
    "Created in <span style='font-weight:600;margin-left:4px;'>Deepnote</span></a>"
   ]
  }
 ],
 "metadata": {
  "deepnote": {},
  "deepnote_execution_queue": [
   {
    "cellId": "00036-f8044fff-4d29-45bd-8ff8-21846e0256f1",
    "msgId": "a0eefad6-7bbd-4603-8fed-2940de8884ea",
    "sessionId": "a4c44e80-405a-43fc-968f-79577dc2c4bf"
   }
  ],
  "deepnote_notebook_id": "4d03dad0-0d4b-4262-80a0-cfac3bff1f59",
  "hide_input": false,
  "kernelspec": {
   "display_name": "Python 3",
   "language": "python",
   "name": "python3"
  },
  "language_info": {
   "codemirror_mode": {
    "name": "ipython",
    "version": 3
   },
   "file_extension": ".py",
   "mimetype": "text/x-python",
   "name": "python",
   "nbconvert_exporter": "python",
   "pygments_lexer": "ipython3",
   "version": "3.8.2"
  },
  "toc": {
   "base_numbering": 1,
   "nav_menu": {},
   "number_sections": true,
   "sideBar": true,
   "skip_h1_title": false,
   "title_cell": "Table of Contents",
   "title_sidebar": "Contents",
   "toc_cell": false,
   "toc_position": {},
   "toc_section_display": true,
   "toc_window_display": false
  },
  "varInspector": {
   "cols": {
    "lenName": 16,
    "lenType": 16,
    "lenVar": 40
   },
   "kernels_config": {
    "python": {
     "delete_cmd_postfix": "",
     "delete_cmd_prefix": "del ",
     "library": "var_list.py",
     "varRefreshCmd": "print(var_dic_list())"
    },
    "r": {
     "delete_cmd_postfix": ") ",
     "delete_cmd_prefix": "rm(",
     "library": "var_list.r",
     "varRefreshCmd": "cat(var_dic_list()) "
    }
   },
   "types_to_exclude": [
    "module",
    "function",
    "builtin_function_or_method",
    "instance",
    "_Feature"
   ],
   "window_display": false
  }
 },
 "nbformat": 4,
 "nbformat_minor": 5
}
