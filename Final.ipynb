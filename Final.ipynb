{
 "cells": [
  {
   "cell_type": "code",
   "execution_count": 1,
   "id": "1c774f0f",
   "metadata": {
    "ExecuteTime": {
     "end_time": "2021-05-20T09:54:17.125222Z",
     "start_time": "2021-05-20T09:54:15.983170Z"
    },
    "cell_id": "00000-8c7c8fca-1c70-4587-91f3-3db57bfd28d0",
    "deepnote_cell_type": "code",
    "deepnote_to_be_reexecuted": false,
    "execution_millis": 5,
    "execution_start": 1621413648486,
    "source_hash": "570c8184"
   },
   "outputs": [
    {
     "name": "stdout",
     "output_type": "stream",
     "text": [
      "Pandas   1.2.4\n",
      "Sklearn  0.24.2\n"
     ]
    }
   ],
   "source": [
    "import time\n",
    "from IPython.display import clear_output\n",
    "import numpy    as np\n",
    "import pandas   as pd\n",
    "from sklearn.decomposition import PCA\n",
    "from sklearn.metrics import classification_report,confusion_matrix\n",
    "from sklearn.ensemble import RandomForestClassifier,GradientBoostingClassifier\n",
    "from sklearn.pipeline import Pipeline ,make_pipeline\n",
    "from sklearn import impute\n",
    "from sklearn import compose\n",
    "from sklearn.model_selection import train_test_split,cross_val_score\n",
    "from sklearn.metrics import accuracy_score, balanced_accuracy_score, plot_confusion_matrix,roc_auc_score\n",
    "from sklearn import set_config\n",
    "import warnings\n",
    "warnings.filterwarnings('ignore')\n",
    "from sklearn.preprocessing import MinMaxScaler,Normalizer,PowerTransformer,QuantileTransformer, RobustScaler,StandardScaler,LabelEncoder, OneHotEncoder,OrdinalEncoder\n",
    "from sklearn.tree          import DecisionTreeClassifier\n",
    "from sklearn.linear_model  import LogisticRegression    \n",
    "from xgboost               import XGBClassifier\n",
    "from lightgbm              import LGBMClassifier\n",
    "from sklearn.neighbors import KNeighborsClassifier\n",
    "from sklearn.naive_bayes import GaussianNB\n",
    "import sklearn\n",
    "set_config(display='diagram') # Useful for display the pipeline\n",
    "print(\"Pandas  \", pd.__version__)\n",
    "print(\"Sklearn \", sklearn.__version__) # Try to use 0.24\n",
    "\n"
   ]
  },
  {
   "cell_type": "code",
   "execution_count": 71,
   "id": "341b1505",
   "metadata": {
    "ExecuteTime": {
     "end_time": "2021-05-20T10:20:06.491733Z",
     "start_time": "2021-05-20T10:20:06.376070Z"
    },
    "cell_id": "00001-06e6221d-0730-4e01-9045-bce276c93090",
    "deepnote_cell_type": "code",
    "deepnote_to_be_reexecuted": false,
    "execution_millis": 165,
    "execution_start": 1621413555476,
    "source_hash": "31454d99"
   },
   "outputs": [
    {
     "data": {
      "text/html": [
       "<div>\n",
       "<style scoped>\n",
       "    .dataframe tbody tr th:only-of-type {\n",
       "        vertical-align: middle;\n",
       "    }\n",
       "\n",
       "    .dataframe tbody tr th {\n",
       "        vertical-align: top;\n",
       "    }\n",
       "\n",
       "    .dataframe thead th {\n",
       "        text-align: right;\n",
       "    }\n",
       "</style>\n",
       "<table border=\"1\" class=\"dataframe\">\n",
       "  <thead>\n",
       "    <tr style=\"text-align: right;\">\n",
       "      <th></th>\n",
       "      <th>id</th>\n",
       "      <th>time</th>\n",
       "      <th>activityrecognition#0</th>\n",
       "      <th>activityrecognition#1</th>\n",
       "      <th>android.sensor.accelerometer#mean</th>\n",
       "      <th>android.sensor.accelerometer#min</th>\n",
       "      <th>android.sensor.accelerometer#max</th>\n",
       "      <th>android.sensor.accelerometer#std</th>\n",
       "      <th>android.sensor.game_rotation_vector#mean</th>\n",
       "      <th>android.sensor.game_rotation_vector#min</th>\n",
       "      <th>...</th>\n",
       "      <th>sound#mean</th>\n",
       "      <th>sound#min</th>\n",
       "      <th>sound#max</th>\n",
       "      <th>sound#std</th>\n",
       "      <th>speed#mean</th>\n",
       "      <th>speed#min</th>\n",
       "      <th>speed#max</th>\n",
       "      <th>speed#std</th>\n",
       "      <th>target</th>\n",
       "      <th>user</th>\n",
       "    </tr>\n",
       "  </thead>\n",
       "  <tbody>\n",
       "    <tr>\n",
       "      <th>0</th>\n",
       "      <td>16170</td>\n",
       "      <td>78.0</td>\n",
       "      <td>NaN</td>\n",
       "      <td>100.0</td>\n",
       "      <td>9.811476</td>\n",
       "      <td>9.758895</td>\n",
       "      <td>9.849411</td>\n",
       "      <td>0.014626</td>\n",
       "      <td>0.029340</td>\n",
       "      <td>0.029014</td>\n",
       "      <td>...</td>\n",
       "      <td>NaN</td>\n",
       "      <td>NaN</td>\n",
       "      <td>NaN</td>\n",
       "      <td>NaN</td>\n",
       "      <td>0.000000</td>\n",
       "      <td>0.000000</td>\n",
       "      <td>0.000000</td>\n",
       "      <td>0.000000</td>\n",
       "      <td>Still</td>\n",
       "      <td>Luca</td>\n",
       "    </tr>\n",
       "    <tr>\n",
       "      <th>1</th>\n",
       "      <td>15871</td>\n",
       "      <td>145.0</td>\n",
       "      <td>NaN</td>\n",
       "      <td>100.0</td>\n",
       "      <td>9.939207</td>\n",
       "      <td>7.707437</td>\n",
       "      <td>17.146631</td>\n",
       "      <td>1.775944</td>\n",
       "      <td>0.999925</td>\n",
       "      <td>0.999903</td>\n",
       "      <td>...</td>\n",
       "      <td>89.200210</td>\n",
       "      <td>89.065143</td>\n",
       "      <td>89.335277</td>\n",
       "      <td>0.191013</td>\n",
       "      <td>16.539349</td>\n",
       "      <td>16.539349</td>\n",
       "      <td>16.539349</td>\n",
       "      <td>0.628595</td>\n",
       "      <td>Car</td>\n",
       "      <td>Luca</td>\n",
       "    </tr>\n",
       "    <tr>\n",
       "      <th>2</th>\n",
       "      <td>16811</td>\n",
       "      <td>150.0</td>\n",
       "      <td>NaN</td>\n",
       "      <td>100.0</td>\n",
       "      <td>9.827178</td>\n",
       "      <td>9.804817</td>\n",
       "      <td>9.849262</td>\n",
       "      <td>0.011199</td>\n",
       "      <td>0.665215</td>\n",
       "      <td>0.665213</td>\n",
       "      <td>...</td>\n",
       "      <td>NaN</td>\n",
       "      <td>NaN</td>\n",
       "      <td>NaN</td>\n",
       "      <td>NaN</td>\n",
       "      <td>0.000000</td>\n",
       "      <td>0.000000</td>\n",
       "      <td>0.000000</td>\n",
       "      <td>0.000000</td>\n",
       "      <td>Still</td>\n",
       "      <td>Luca</td>\n",
       "    </tr>\n",
       "    <tr>\n",
       "      <th>3</th>\n",
       "      <td>15831</td>\n",
       "      <td>105.0</td>\n",
       "      <td>NaN</td>\n",
       "      <td>77.0</td>\n",
       "      <td>9.673039</td>\n",
       "      <td>7.659674</td>\n",
       "      <td>12.304298</td>\n",
       "      <td>0.862553</td>\n",
       "      <td>0.996221</td>\n",
       "      <td>0.993781</td>\n",
       "      <td>...</td>\n",
       "      <td>87.470377</td>\n",
       "      <td>87.470377</td>\n",
       "      <td>87.470377</td>\n",
       "      <td>2.284186</td>\n",
       "      <td>17.739895</td>\n",
       "      <td>17.739895</td>\n",
       "      <td>17.739895</td>\n",
       "      <td>0.628595</td>\n",
       "      <td>Car</td>\n",
       "      <td>Luca</td>\n",
       "    </tr>\n",
       "    <tr>\n",
       "      <th>4</th>\n",
       "      <td>876</td>\n",
       "      <td>77.0</td>\n",
       "      <td>NaN</td>\n",
       "      <td>100.0</td>\n",
       "      <td>9.993466</td>\n",
       "      <td>8.965621</td>\n",
       "      <td>10.891645</td>\n",
       "      <td>0.504117</td>\n",
       "      <td>0.563792</td>\n",
       "      <td>0.521799</td>\n",
       "      <td>...</td>\n",
       "      <td>89.770732</td>\n",
       "      <td>89.770732</td>\n",
       "      <td>89.770732</td>\n",
       "      <td>0.006389</td>\n",
       "      <td>9.000000</td>\n",
       "      <td>9.000000</td>\n",
       "      <td>9.000000</td>\n",
       "      <td>NaN</td>\n",
       "      <td>Car</td>\n",
       "      <td>andrea</td>\n",
       "    </tr>\n",
       "  </tbody>\n",
       "</table>\n",
       "<p>5 rows × 70 columns</p>\n",
       "</div>"
      ],
      "text/plain": [
       "      id   time  activityrecognition#0  activityrecognition#1  \\\n",
       "0  16170   78.0                    NaN                  100.0   \n",
       "1  15871  145.0                    NaN                  100.0   \n",
       "2  16811  150.0                    NaN                  100.0   \n",
       "3  15831  105.0                    NaN                   77.0   \n",
       "4    876   77.0                    NaN                  100.0   \n",
       "\n",
       "   android.sensor.accelerometer#mean  android.sensor.accelerometer#min  \\\n",
       "0                           9.811476                          9.758895   \n",
       "1                           9.939207                          7.707437   \n",
       "2                           9.827178                          9.804817   \n",
       "3                           9.673039                          7.659674   \n",
       "4                           9.993466                          8.965621   \n",
       "\n",
       "   android.sensor.accelerometer#max  android.sensor.accelerometer#std  \\\n",
       "0                          9.849411                          0.014626   \n",
       "1                         17.146631                          1.775944   \n",
       "2                          9.849262                          0.011199   \n",
       "3                         12.304298                          0.862553   \n",
       "4                         10.891645                          0.504117   \n",
       "\n",
       "   android.sensor.game_rotation_vector#mean  \\\n",
       "0                                  0.029340   \n",
       "1                                  0.999925   \n",
       "2                                  0.665215   \n",
       "3                                  0.996221   \n",
       "4                                  0.563792   \n",
       "\n",
       "   android.sensor.game_rotation_vector#min  ...  sound#mean  sound#min  \\\n",
       "0                                 0.029014  ...         NaN        NaN   \n",
       "1                                 0.999903  ...   89.200210  89.065143   \n",
       "2                                 0.665213  ...         NaN        NaN   \n",
       "3                                 0.993781  ...   87.470377  87.470377   \n",
       "4                                 0.521799  ...   89.770732  89.770732   \n",
       "\n",
       "   sound#max  sound#std  speed#mean  speed#min  speed#max  speed#std  target  \\\n",
       "0        NaN        NaN    0.000000   0.000000   0.000000   0.000000   Still   \n",
       "1  89.335277   0.191013   16.539349  16.539349  16.539349   0.628595     Car   \n",
       "2        NaN        NaN    0.000000   0.000000   0.000000   0.000000   Still   \n",
       "3  87.470377   2.284186   17.739895  17.739895  17.739895   0.628595     Car   \n",
       "4  89.770732   0.006389    9.000000   9.000000   9.000000        NaN     Car   \n",
       "\n",
       "     user  \n",
       "0    Luca  \n",
       "1    Luca  \n",
       "2    Luca  \n",
       "3    Luca  \n",
       "4  andrea  \n",
       "\n",
       "[5 rows x 70 columns]"
      ]
     },
     "execution_count": 71,
     "metadata": {},
     "output_type": "execute_result"
    }
   ],
   "source": [
    "data = pd.read_csv('./data/data_5secondWindow .csv')\n",
    "data.head(5)"
   ]
  },
  {
   "cell_type": "code",
   "execution_count": 72,
   "id": "040f8715",
   "metadata": {
    "ExecuteTime": {
     "end_time": "2021-05-20T10:20:08.827247Z",
     "start_time": "2021-05-20T10:20:08.621464Z"
    }
   },
   "outputs": [
    {
     "data": {
      "text/html": [
       "<div>\n",
       "<style scoped>\n",
       "    .dataframe tbody tr th:only-of-type {\n",
       "        vertical-align: middle;\n",
       "    }\n",
       "\n",
       "    .dataframe tbody tr th {\n",
       "        vertical-align: top;\n",
       "    }\n",
       "\n",
       "    .dataframe thead th {\n",
       "        text-align: right;\n",
       "    }\n",
       "</style>\n",
       "<table border=\"1\" class=\"dataframe\">\n",
       "  <thead>\n",
       "    <tr style=\"text-align: right;\">\n",
       "      <th></th>\n",
       "      <th>id</th>\n",
       "      <th>time</th>\n",
       "      <th>activityrecognition#0</th>\n",
       "      <th>activityrecognition#1</th>\n",
       "      <th>android.sensor.accelerometer#mean</th>\n",
       "      <th>android.sensor.accelerometer#min</th>\n",
       "      <th>android.sensor.accelerometer#max</th>\n",
       "      <th>android.sensor.accelerometer#std</th>\n",
       "      <th>android.sensor.game_rotation_vector#mean</th>\n",
       "      <th>android.sensor.game_rotation_vector#min</th>\n",
       "      <th>...</th>\n",
       "      <th>android.sensor.step_counter#max</th>\n",
       "      <th>android.sensor.step_counter#std</th>\n",
       "      <th>sound#mean</th>\n",
       "      <th>sound#min</th>\n",
       "      <th>sound#max</th>\n",
       "      <th>sound#std</th>\n",
       "      <th>speed#mean</th>\n",
       "      <th>speed#min</th>\n",
       "      <th>speed#max</th>\n",
       "      <th>speed#std</th>\n",
       "    </tr>\n",
       "  </thead>\n",
       "  <tbody>\n",
       "    <tr>\n",
       "      <th>count</th>\n",
       "      <td>5893.000000</td>\n",
       "      <td>5893.000000</td>\n",
       "      <td>0.0</td>\n",
       "      <td>5893.000000</td>\n",
       "      <td>5893.000000</td>\n",
       "      <td>5893.000000</td>\n",
       "      <td>5893.000000</td>\n",
       "      <td>5893.000000</td>\n",
       "      <td>5094.000000</td>\n",
       "      <td>5094.000000</td>\n",
       "      <td>...</td>\n",
       "      <td>1487.000000</td>\n",
       "      <td>232.000000</td>\n",
       "      <td>4899.000000</td>\n",
       "      <td>4899.000000</td>\n",
       "      <td>4899.000000</td>\n",
       "      <td>4062.000000</td>\n",
       "      <td>3520.000000</td>\n",
       "      <td>3520.000000</td>\n",
       "      <td>3520.000000</td>\n",
       "      <td>1318.000000</td>\n",
       "    </tr>\n",
       "    <tr>\n",
       "      <th>mean</th>\n",
       "      <td>10685.407263</td>\n",
       "      <td>117.731716</td>\n",
       "      <td>NaN</td>\n",
       "      <td>87.718310</td>\n",
       "      <td>10.007976</td>\n",
       "      <td>8.426262</td>\n",
       "      <td>12.247691</td>\n",
       "      <td>0.982987</td>\n",
       "      <td>0.759280</td>\n",
       "      <td>0.743872</td>\n",
       "      <td>...</td>\n",
       "      <td>10112.769334</td>\n",
       "      <td>2.959475</td>\n",
       "      <td>78.724855</td>\n",
       "      <td>78.451658</td>\n",
       "      <td>78.997213</td>\n",
       "      <td>1.913065</td>\n",
       "      <td>8.235254</td>\n",
       "      <td>8.216747</td>\n",
       "      <td>8.253528</td>\n",
       "      <td>0.236959</td>\n",
       "    </tr>\n",
       "    <tr>\n",
       "      <th>std</th>\n",
       "      <td>6921.229833</td>\n",
       "      <td>126.474151</td>\n",
       "      <td>NaN</td>\n",
       "      <td>24.562728</td>\n",
       "      <td>0.655949</td>\n",
       "      <td>1.783007</td>\n",
       "      <td>5.178436</td>\n",
       "      <td>1.505615</td>\n",
       "      <td>0.251174</td>\n",
       "      <td>0.255232</td>\n",
       "      <td>...</td>\n",
       "      <td>11067.568076</td>\n",
       "      <td>1.365350</td>\n",
       "      <td>14.025440</td>\n",
       "      <td>14.262912</td>\n",
       "      <td>13.889766</td>\n",
       "      <td>3.290193</td>\n",
       "      <td>11.870711</td>\n",
       "      <td>11.866102</td>\n",
       "      <td>11.877158</td>\n",
       "      <td>0.453205</td>\n",
       "    </tr>\n",
       "    <tr>\n",
       "      <th>min</th>\n",
       "      <td>0.000000</td>\n",
       "      <td>3.000000</td>\n",
       "      <td>NaN</td>\n",
       "      <td>3.000000</td>\n",
       "      <td>7.369055</td>\n",
       "      <td>0.337166</td>\n",
       "      <td>8.801019</td>\n",
       "      <td>0.001286</td>\n",
       "      <td>0.007770</td>\n",
       "      <td>0.007616</td>\n",
       "      <td>...</td>\n",
       "      <td>28.000000</td>\n",
       "      <td>1.414214</td>\n",
       "      <td>0.000000</td>\n",
       "      <td>0.000000</td>\n",
       "      <td>0.000000</td>\n",
       "      <td>0.000000</td>\n",
       "      <td>0.000000</td>\n",
       "      <td>0.000000</td>\n",
       "      <td>0.000000</td>\n",
       "      <td>0.000000</td>\n",
       "    </tr>\n",
       "    <tr>\n",
       "      <th>25%</th>\n",
       "      <td>4502.000000</td>\n",
       "      <td>31.000000</td>\n",
       "      <td>NaN</td>\n",
       "      <td>90.000000</td>\n",
       "      <td>9.737143</td>\n",
       "      <td>7.805295</td>\n",
       "      <td>10.015566</td>\n",
       "      <td>0.078055</td>\n",
       "      <td>0.640486</td>\n",
       "      <td>0.612155</td>\n",
       "      <td>...</td>\n",
       "      <td>1767.000000</td>\n",
       "      <td>1.414214</td>\n",
       "      <td>72.834623</td>\n",
       "      <td>72.233399</td>\n",
       "      <td>73.302235</td>\n",
       "      <td>0.034126</td>\n",
       "      <td>0.000431</td>\n",
       "      <td>0.000000</td>\n",
       "      <td>0.000431</td>\n",
       "      <td>0.000000</td>\n",
       "    </tr>\n",
       "    <tr>\n",
       "      <th>50%</th>\n",
       "      <td>10959.000000</td>\n",
       "      <td>70.000000</td>\n",
       "      <td>NaN</td>\n",
       "      <td>100.000000</td>\n",
       "      <td>9.850143</td>\n",
       "      <td>9.123124</td>\n",
       "      <td>10.602081</td>\n",
       "      <td>0.369163</td>\n",
       "      <td>0.840643</td>\n",
       "      <td>0.818037</td>\n",
       "      <td>...</td>\n",
       "      <td>6096.000000</td>\n",
       "      <td>3.027650</td>\n",
       "      <td>84.035672</td>\n",
       "      <td>83.859708</td>\n",
       "      <td>84.496874</td>\n",
       "      <td>0.806102</td>\n",
       "      <td>1.710000</td>\n",
       "      <td>1.700000</td>\n",
       "      <td>1.710000</td>\n",
       "      <td>0.018236</td>\n",
       "    </tr>\n",
       "    <tr>\n",
       "      <th>75%</th>\n",
       "      <td>17049.000000</td>\n",
       "      <td>152.000000</td>\n",
       "      <td>NaN</td>\n",
       "      <td>100.000000</td>\n",
       "      <td>10.078998</td>\n",
       "      <td>9.691731</td>\n",
       "      <td>12.291575</td>\n",
       "      <td>1.058376</td>\n",
       "      <td>0.963207</td>\n",
       "      <td>0.960858</td>\n",
       "      <td>...</td>\n",
       "      <td>12995.000000</td>\n",
       "      <td>3.593976</td>\n",
       "      <td>89.746162</td>\n",
       "      <td>89.743333</td>\n",
       "      <td>89.747576</td>\n",
       "      <td>2.253633</td>\n",
       "      <td>10.250000</td>\n",
       "      <td>10.250000</td>\n",
       "      <td>10.250000</td>\n",
       "      <td>0.252936</td>\n",
       "    </tr>\n",
       "    <tr>\n",
       "      <th>max</th>\n",
       "      <td>22045.000000</td>\n",
       "      <td>682.000000</td>\n",
       "      <td>NaN</td>\n",
       "      <td>100.000000</td>\n",
       "      <td>17.427391</td>\n",
       "      <td>12.115013</td>\n",
       "      <td>66.886376</td>\n",
       "      <td>12.879851</td>\n",
       "      <td>1.000000</td>\n",
       "      <td>1.000000</td>\n",
       "      <td>...</td>\n",
       "      <td>33355.000000</td>\n",
       "      <td>6.363961</td>\n",
       "      <td>90.308734</td>\n",
       "      <td>90.308734</td>\n",
       "      <td>90.308734</td>\n",
       "      <td>26.835546</td>\n",
       "      <td>51.360060</td>\n",
       "      <td>51.360060</td>\n",
       "      <td>51.360060</td>\n",
       "      <td>3.842801</td>\n",
       "    </tr>\n",
       "  </tbody>\n",
       "</table>\n",
       "<p>8 rows × 68 columns</p>\n",
       "</div>"
      ],
      "text/plain": [
       "                 id         time  activityrecognition#0  \\\n",
       "count   5893.000000  5893.000000                    0.0   \n",
       "mean   10685.407263   117.731716                    NaN   \n",
       "std     6921.229833   126.474151                    NaN   \n",
       "min        0.000000     3.000000                    NaN   \n",
       "25%     4502.000000    31.000000                    NaN   \n",
       "50%    10959.000000    70.000000                    NaN   \n",
       "75%    17049.000000   152.000000                    NaN   \n",
       "max    22045.000000   682.000000                    NaN   \n",
       "\n",
       "       activityrecognition#1  android.sensor.accelerometer#mean  \\\n",
       "count            5893.000000                        5893.000000   \n",
       "mean               87.718310                          10.007976   \n",
       "std                24.562728                           0.655949   \n",
       "min                 3.000000                           7.369055   \n",
       "25%                90.000000                           9.737143   \n",
       "50%               100.000000                           9.850143   \n",
       "75%               100.000000                          10.078998   \n",
       "max               100.000000                          17.427391   \n",
       "\n",
       "       android.sensor.accelerometer#min  android.sensor.accelerometer#max  \\\n",
       "count                       5893.000000                       5893.000000   \n",
       "mean                           8.426262                         12.247691   \n",
       "std                            1.783007                          5.178436   \n",
       "min                            0.337166                          8.801019   \n",
       "25%                            7.805295                         10.015566   \n",
       "50%                            9.123124                         10.602081   \n",
       "75%                            9.691731                         12.291575   \n",
       "max                           12.115013                         66.886376   \n",
       "\n",
       "       android.sensor.accelerometer#std  \\\n",
       "count                       5893.000000   \n",
       "mean                           0.982987   \n",
       "std                            1.505615   \n",
       "min                            0.001286   \n",
       "25%                            0.078055   \n",
       "50%                            0.369163   \n",
       "75%                            1.058376   \n",
       "max                           12.879851   \n",
       "\n",
       "       android.sensor.game_rotation_vector#mean  \\\n",
       "count                               5094.000000   \n",
       "mean                                   0.759280   \n",
       "std                                    0.251174   \n",
       "min                                    0.007770   \n",
       "25%                                    0.640486   \n",
       "50%                                    0.840643   \n",
       "75%                                    0.963207   \n",
       "max                                    1.000000   \n",
       "\n",
       "       android.sensor.game_rotation_vector#min  ...  \\\n",
       "count                              5094.000000  ...   \n",
       "mean                                  0.743872  ...   \n",
       "std                                   0.255232  ...   \n",
       "min                                   0.007616  ...   \n",
       "25%                                   0.612155  ...   \n",
       "50%                                   0.818037  ...   \n",
       "75%                                   0.960858  ...   \n",
       "max                                   1.000000  ...   \n",
       "\n",
       "       android.sensor.step_counter#max  android.sensor.step_counter#std  \\\n",
       "count                      1487.000000                       232.000000   \n",
       "mean                      10112.769334                         2.959475   \n",
       "std                       11067.568076                         1.365350   \n",
       "min                          28.000000                         1.414214   \n",
       "25%                        1767.000000                         1.414214   \n",
       "50%                        6096.000000                         3.027650   \n",
       "75%                       12995.000000                         3.593976   \n",
       "max                       33355.000000                         6.363961   \n",
       "\n",
       "        sound#mean    sound#min    sound#max    sound#std   speed#mean  \\\n",
       "count  4899.000000  4899.000000  4899.000000  4062.000000  3520.000000   \n",
       "mean     78.724855    78.451658    78.997213     1.913065     8.235254   \n",
       "std      14.025440    14.262912    13.889766     3.290193    11.870711   \n",
       "min       0.000000     0.000000     0.000000     0.000000     0.000000   \n",
       "25%      72.834623    72.233399    73.302235     0.034126     0.000431   \n",
       "50%      84.035672    83.859708    84.496874     0.806102     1.710000   \n",
       "75%      89.746162    89.743333    89.747576     2.253633    10.250000   \n",
       "max      90.308734    90.308734    90.308734    26.835546    51.360060   \n",
       "\n",
       "         speed#min    speed#max    speed#std  \n",
       "count  3520.000000  3520.000000  1318.000000  \n",
       "mean      8.216747     8.253528     0.236959  \n",
       "std      11.866102    11.877158     0.453205  \n",
       "min       0.000000     0.000000     0.000000  \n",
       "25%       0.000000     0.000431     0.000000  \n",
       "50%       1.700000     1.710000     0.018236  \n",
       "75%      10.250000    10.250000     0.252936  \n",
       "max      51.360060    51.360060     3.842801  \n",
       "\n",
       "[8 rows x 68 columns]"
      ]
     },
     "execution_count": 72,
     "metadata": {},
     "output_type": "execute_result"
    }
   ],
   "source": [
    "data.describe()"
   ]
  },
  {
   "cell_type": "code",
   "execution_count": 91,
   "id": "02894e7b",
   "metadata": {
    "ExecuteTime": {
     "end_time": "2021-05-20T10:33:16.471341Z",
     "start_time": "2021-05-20T10:33:16.468523Z"
    }
   },
   "outputs": [],
   "source": [
    "from random import shuffle"
   ]
  },
  {
   "cell_type": "markdown",
   "id": "be77317a",
   "metadata": {
    "cell_id": "00003-e5ab99da-fe36-44fe-9a13-cc69469addea",
    "deepnote_cell_type": "markdown"
   },
   "source": [
    "# Create test data "
   ]
  },
  {
   "cell_type": "code",
   "execution_count": 115,
   "id": "6807fe9b",
   "metadata": {
    "ExecuteTime": {
     "end_time": "2021-05-20T10:37:25.083486Z",
     "start_time": "2021-05-20T10:37:25.070653Z"
    },
    "cell_id": "00004-673f68c6-55b2-41ac-90a1-90f8c4713ada",
    "deepnote_cell_type": "code",
    "deepnote_to_be_reexecuted": false,
    "execution_millis": 116,
    "execution_start": 1621413569436,
    "source_hash": "d1d762a3"
   },
   "outputs": [],
   "source": [
    "# create test data from some user \n",
    "def split_data(df):\n",
    "   \n",
    "    # create random list of indices\n",
    "    l = df.user.unique().tolist()\n",
    "    shuffle(l)\n",
    "    train_user=l[2:]\n",
    "    test_user=l[:2]\n",
    "    # get splitting indicies\n",
    "    train=data[data['user'].isin(train_user)]\n",
    "    test = data[data['user'].isin(test_user)]\n",
    "    return train, test\n"
   ]
  },
  {
   "cell_type": "code",
   "execution_count": 116,
   "id": "64bd3464",
   "metadata": {
    "ExecuteTime": {
     "end_time": "2021-05-20T10:37:27.045291Z",
     "start_time": "2021-05-20T10:37:27.022226Z"
    }
   },
   "outputs": [],
   "source": [
    "df_train,df_test=split_data(data)"
   ]
  },
  {
   "cell_type": "markdown",
   "id": "9a63a2a7",
   "metadata": {
    "cell_id": "00005-47202497-afc2-4356-824f-3bbd975e589c",
    "deepnote_cell_type": "markdown"
   },
   "source": [
    "## Subtract test data from data "
   ]
  },
  {
   "cell_type": "code",
   "execution_count": 117,
   "id": "7adda55e",
   "metadata": {
    "ExecuteTime": {
     "end_time": "2021-05-20T10:37:28.907596Z",
     "start_time": "2021-05-20T10:37:28.858792Z"
    },
    "cell_id": "00006-82751ddb-183c-49b1-9019-2563ba949634",
    "deepnote_cell_type": "code",
    "deepnote_to_be_reexecuted": false,
    "execution_millis": 244,
    "execution_start": 1621413573168,
    "source_hash": "23a3e567"
   },
   "outputs": [
    {
     "data": {
      "text/html": [
       "<div>\n",
       "<style scoped>\n",
       "    .dataframe tbody tr th:only-of-type {\n",
       "        vertical-align: middle;\n",
       "    }\n",
       "\n",
       "    .dataframe tbody tr th {\n",
       "        vertical-align: top;\n",
       "    }\n",
       "\n",
       "    .dataframe thead th {\n",
       "        text-align: right;\n",
       "    }\n",
       "</style>\n",
       "<table border=\"1\" class=\"dataframe\">\n",
       "  <thead>\n",
       "    <tr style=\"text-align: right;\">\n",
       "      <th></th>\n",
       "      <th>id</th>\n",
       "      <th>time</th>\n",
       "      <th>activityrecognition#0</th>\n",
       "      <th>activityrecognition#1</th>\n",
       "      <th>android.sensor.accelerometer#mean</th>\n",
       "      <th>android.sensor.accelerometer#min</th>\n",
       "      <th>android.sensor.accelerometer#max</th>\n",
       "      <th>android.sensor.accelerometer#std</th>\n",
       "      <th>android.sensor.game_rotation_vector#mean</th>\n",
       "      <th>android.sensor.game_rotation_vector#min</th>\n",
       "      <th>...</th>\n",
       "      <th>sound#mean</th>\n",
       "      <th>sound#min</th>\n",
       "      <th>sound#max</th>\n",
       "      <th>sound#std</th>\n",
       "      <th>speed#mean</th>\n",
       "      <th>speed#min</th>\n",
       "      <th>speed#max</th>\n",
       "      <th>speed#std</th>\n",
       "      <th>target</th>\n",
       "      <th>user</th>\n",
       "    </tr>\n",
       "  </thead>\n",
       "  <tbody>\n",
       "    <tr>\n",
       "      <th>0</th>\n",
       "      <td>16170</td>\n",
       "      <td>78.0</td>\n",
       "      <td>NaN</td>\n",
       "      <td>100.0</td>\n",
       "      <td>9.811476</td>\n",
       "      <td>9.758895</td>\n",
       "      <td>9.849411</td>\n",
       "      <td>0.014626</td>\n",
       "      <td>0.029340</td>\n",
       "      <td>0.029014</td>\n",
       "      <td>...</td>\n",
       "      <td>NaN</td>\n",
       "      <td>NaN</td>\n",
       "      <td>NaN</td>\n",
       "      <td>NaN</td>\n",
       "      <td>0.000000</td>\n",
       "      <td>0.000000</td>\n",
       "      <td>0.000000</td>\n",
       "      <td>0.000000</td>\n",
       "      <td>Still</td>\n",
       "      <td>Luca</td>\n",
       "    </tr>\n",
       "    <tr>\n",
       "      <th>1</th>\n",
       "      <td>15871</td>\n",
       "      <td>145.0</td>\n",
       "      <td>NaN</td>\n",
       "      <td>100.0</td>\n",
       "      <td>9.939207</td>\n",
       "      <td>7.707437</td>\n",
       "      <td>17.146631</td>\n",
       "      <td>1.775944</td>\n",
       "      <td>0.999925</td>\n",
       "      <td>0.999903</td>\n",
       "      <td>...</td>\n",
       "      <td>89.200210</td>\n",
       "      <td>89.065143</td>\n",
       "      <td>89.335277</td>\n",
       "      <td>0.191013</td>\n",
       "      <td>16.539349</td>\n",
       "      <td>16.539349</td>\n",
       "      <td>16.539349</td>\n",
       "      <td>0.628595</td>\n",
       "      <td>Car</td>\n",
       "      <td>Luca</td>\n",
       "    </tr>\n",
       "    <tr>\n",
       "      <th>2</th>\n",
       "      <td>16811</td>\n",
       "      <td>150.0</td>\n",
       "      <td>NaN</td>\n",
       "      <td>100.0</td>\n",
       "      <td>9.827178</td>\n",
       "      <td>9.804817</td>\n",
       "      <td>9.849262</td>\n",
       "      <td>0.011199</td>\n",
       "      <td>0.665215</td>\n",
       "      <td>0.665213</td>\n",
       "      <td>...</td>\n",
       "      <td>NaN</td>\n",
       "      <td>NaN</td>\n",
       "      <td>NaN</td>\n",
       "      <td>NaN</td>\n",
       "      <td>0.000000</td>\n",
       "      <td>0.000000</td>\n",
       "      <td>0.000000</td>\n",
       "      <td>0.000000</td>\n",
       "      <td>Still</td>\n",
       "      <td>Luca</td>\n",
       "    </tr>\n",
       "    <tr>\n",
       "      <th>3</th>\n",
       "      <td>15831</td>\n",
       "      <td>105.0</td>\n",
       "      <td>NaN</td>\n",
       "      <td>77.0</td>\n",
       "      <td>9.673039</td>\n",
       "      <td>7.659674</td>\n",
       "      <td>12.304298</td>\n",
       "      <td>0.862553</td>\n",
       "      <td>0.996221</td>\n",
       "      <td>0.993781</td>\n",
       "      <td>...</td>\n",
       "      <td>87.470377</td>\n",
       "      <td>87.470377</td>\n",
       "      <td>87.470377</td>\n",
       "      <td>2.284186</td>\n",
       "      <td>17.739895</td>\n",
       "      <td>17.739895</td>\n",
       "      <td>17.739895</td>\n",
       "      <td>0.628595</td>\n",
       "      <td>Car</td>\n",
       "      <td>Luca</td>\n",
       "    </tr>\n",
       "    <tr>\n",
       "      <th>4</th>\n",
       "      <td>876</td>\n",
       "      <td>77.0</td>\n",
       "      <td>NaN</td>\n",
       "      <td>100.0</td>\n",
       "      <td>9.993466</td>\n",
       "      <td>8.965621</td>\n",
       "      <td>10.891645</td>\n",
       "      <td>0.504117</td>\n",
       "      <td>0.563792</td>\n",
       "      <td>0.521799</td>\n",
       "      <td>...</td>\n",
       "      <td>89.770732</td>\n",
       "      <td>89.770732</td>\n",
       "      <td>89.770732</td>\n",
       "      <td>0.006389</td>\n",
       "      <td>9.000000</td>\n",
       "      <td>9.000000</td>\n",
       "      <td>9.000000</td>\n",
       "      <td>NaN</td>\n",
       "      <td>Car</td>\n",
       "      <td>andrea</td>\n",
       "    </tr>\n",
       "    <tr>\n",
       "      <th>...</th>\n",
       "      <td>...</td>\n",
       "      <td>...</td>\n",
       "      <td>...</td>\n",
       "      <td>...</td>\n",
       "      <td>...</td>\n",
       "      <td>...</td>\n",
       "      <td>...</td>\n",
       "      <td>...</td>\n",
       "      <td>...</td>\n",
       "      <td>...</td>\n",
       "      <td>...</td>\n",
       "      <td>...</td>\n",
       "      <td>...</td>\n",
       "      <td>...</td>\n",
       "      <td>...</td>\n",
       "      <td>...</td>\n",
       "      <td>...</td>\n",
       "      <td>...</td>\n",
       "      <td>...</td>\n",
       "      <td>...</td>\n",
       "      <td>...</td>\n",
       "    </tr>\n",
       "    <tr>\n",
       "      <th>5888</th>\n",
       "      <td>14125</td>\n",
       "      <td>4.0</td>\n",
       "      <td>NaN</td>\n",
       "      <td>100.0</td>\n",
       "      <td>10.066610</td>\n",
       "      <td>4.564648</td>\n",
       "      <td>13.414389</td>\n",
       "      <td>3.373972</td>\n",
       "      <td>0.986319</td>\n",
       "      <td>0.974523</td>\n",
       "      <td>...</td>\n",
       "      <td>NaN</td>\n",
       "      <td>NaN</td>\n",
       "      <td>NaN</td>\n",
       "      <td>NaN</td>\n",
       "      <td>NaN</td>\n",
       "      <td>NaN</td>\n",
       "      <td>NaN</td>\n",
       "      <td>NaN</td>\n",
       "      <td>Walking</td>\n",
       "      <td>IvanHeibi</td>\n",
       "    </tr>\n",
       "    <tr>\n",
       "      <th>5889</th>\n",
       "      <td>19582</td>\n",
       "      <td>32.0</td>\n",
       "      <td>NaN</td>\n",
       "      <td>10.0</td>\n",
       "      <td>9.964271</td>\n",
       "      <td>8.768007</td>\n",
       "      <td>11.454213</td>\n",
       "      <td>0.665529</td>\n",
       "      <td>0.648602</td>\n",
       "      <td>0.648343</td>\n",
       "      <td>...</td>\n",
       "      <td>NaN</td>\n",
       "      <td>NaN</td>\n",
       "      <td>NaN</td>\n",
       "      <td>NaN</td>\n",
       "      <td>31.960054</td>\n",
       "      <td>31.960054</td>\n",
       "      <td>31.960054</td>\n",
       "      <td>NaN</td>\n",
       "      <td>Train</td>\n",
       "      <td>Pierpaolo</td>\n",
       "    </tr>\n",
       "    <tr>\n",
       "      <th>5890</th>\n",
       "      <td>16178</td>\n",
       "      <td>86.0</td>\n",
       "      <td>NaN</td>\n",
       "      <td>100.0</td>\n",
       "      <td>9.812893</td>\n",
       "      <td>9.772881</td>\n",
       "      <td>9.862587</td>\n",
       "      <td>0.017633</td>\n",
       "      <td>0.024392</td>\n",
       "      <td>0.024081</td>\n",
       "      <td>...</td>\n",
       "      <td>NaN</td>\n",
       "      <td>NaN</td>\n",
       "      <td>NaN</td>\n",
       "      <td>NaN</td>\n",
       "      <td>0.000000</td>\n",
       "      <td>0.000000</td>\n",
       "      <td>0.000000</td>\n",
       "      <td>0.000000</td>\n",
       "      <td>Still</td>\n",
       "      <td>Luca</td>\n",
       "    </tr>\n",
       "    <tr>\n",
       "      <th>5891</th>\n",
       "      <td>10973</td>\n",
       "      <td>199.0</td>\n",
       "      <td>NaN</td>\n",
       "      <td>100.0</td>\n",
       "      <td>9.831144</td>\n",
       "      <td>9.807347</td>\n",
       "      <td>9.874450</td>\n",
       "      <td>0.013485</td>\n",
       "      <td>0.481212</td>\n",
       "      <td>0.481209</td>\n",
       "      <td>...</td>\n",
       "      <td>NaN</td>\n",
       "      <td>NaN</td>\n",
       "      <td>NaN</td>\n",
       "      <td>NaN</td>\n",
       "      <td>1.090415</td>\n",
       "      <td>1.090415</td>\n",
       "      <td>1.090415</td>\n",
       "      <td>NaN</td>\n",
       "      <td>Still</td>\n",
       "      <td>Damiano</td>\n",
       "    </tr>\n",
       "    <tr>\n",
       "      <th>5892</th>\n",
       "      <td>8278</td>\n",
       "      <td>55.0</td>\n",
       "      <td>NaN</td>\n",
       "      <td>100.0</td>\n",
       "      <td>11.051009</td>\n",
       "      <td>5.203285</td>\n",
       "      <td>19.921068</td>\n",
       "      <td>4.745098</td>\n",
       "      <td>0.919815</td>\n",
       "      <td>0.892571</td>\n",
       "      <td>...</td>\n",
       "      <td>89.712441</td>\n",
       "      <td>89.712441</td>\n",
       "      <td>89.712441</td>\n",
       "      <td>0.006400</td>\n",
       "      <td>0.750000</td>\n",
       "      <td>0.750000</td>\n",
       "      <td>0.750000</td>\n",
       "      <td>NaN</td>\n",
       "      <td>Walking</td>\n",
       "      <td>andrea</td>\n",
       "    </tr>\n",
       "  </tbody>\n",
       "</table>\n",
       "<p>5709 rows × 70 columns</p>\n",
       "</div>"
      ],
      "text/plain": [
       "         id   time  activityrecognition#0  activityrecognition#1  \\\n",
       "0     16170   78.0                    NaN                  100.0   \n",
       "1     15871  145.0                    NaN                  100.0   \n",
       "2     16811  150.0                    NaN                  100.0   \n",
       "3     15831  105.0                    NaN                   77.0   \n",
       "4       876   77.0                    NaN                  100.0   \n",
       "...     ...    ...                    ...                    ...   \n",
       "5888  14125    4.0                    NaN                  100.0   \n",
       "5889  19582   32.0                    NaN                   10.0   \n",
       "5890  16178   86.0                    NaN                  100.0   \n",
       "5891  10973  199.0                    NaN                  100.0   \n",
       "5892   8278   55.0                    NaN                  100.0   \n",
       "\n",
       "      android.sensor.accelerometer#mean  android.sensor.accelerometer#min  \\\n",
       "0                              9.811476                          9.758895   \n",
       "1                              9.939207                          7.707437   \n",
       "2                              9.827178                          9.804817   \n",
       "3                              9.673039                          7.659674   \n",
       "4                              9.993466                          8.965621   \n",
       "...                                 ...                               ...   \n",
       "5888                          10.066610                          4.564648   \n",
       "5889                           9.964271                          8.768007   \n",
       "5890                           9.812893                          9.772881   \n",
       "5891                           9.831144                          9.807347   \n",
       "5892                          11.051009                          5.203285   \n",
       "\n",
       "      android.sensor.accelerometer#max  android.sensor.accelerometer#std  \\\n",
       "0                             9.849411                          0.014626   \n",
       "1                            17.146631                          1.775944   \n",
       "2                             9.849262                          0.011199   \n",
       "3                            12.304298                          0.862553   \n",
       "4                            10.891645                          0.504117   \n",
       "...                                ...                               ...   \n",
       "5888                         13.414389                          3.373972   \n",
       "5889                         11.454213                          0.665529   \n",
       "5890                          9.862587                          0.017633   \n",
       "5891                          9.874450                          0.013485   \n",
       "5892                         19.921068                          4.745098   \n",
       "\n",
       "      android.sensor.game_rotation_vector#mean  \\\n",
       "0                                     0.029340   \n",
       "1                                     0.999925   \n",
       "2                                     0.665215   \n",
       "3                                     0.996221   \n",
       "4                                     0.563792   \n",
       "...                                        ...   \n",
       "5888                                  0.986319   \n",
       "5889                                  0.648602   \n",
       "5890                                  0.024392   \n",
       "5891                                  0.481212   \n",
       "5892                                  0.919815   \n",
       "\n",
       "      android.sensor.game_rotation_vector#min  ...  sound#mean  sound#min  \\\n",
       "0                                    0.029014  ...         NaN        NaN   \n",
       "1                                    0.999903  ...   89.200210  89.065143   \n",
       "2                                    0.665213  ...         NaN        NaN   \n",
       "3                                    0.993781  ...   87.470377  87.470377   \n",
       "4                                    0.521799  ...   89.770732  89.770732   \n",
       "...                                       ...  ...         ...        ...   \n",
       "5888                                 0.974523  ...         NaN        NaN   \n",
       "5889                                 0.648343  ...         NaN        NaN   \n",
       "5890                                 0.024081  ...         NaN        NaN   \n",
       "5891                                 0.481209  ...         NaN        NaN   \n",
       "5892                                 0.892571  ...   89.712441  89.712441   \n",
       "\n",
       "      sound#max  sound#std  speed#mean  speed#min  speed#max  speed#std  \\\n",
       "0           NaN        NaN    0.000000   0.000000   0.000000   0.000000   \n",
       "1     89.335277   0.191013   16.539349  16.539349  16.539349   0.628595   \n",
       "2           NaN        NaN    0.000000   0.000000   0.000000   0.000000   \n",
       "3     87.470377   2.284186   17.739895  17.739895  17.739895   0.628595   \n",
       "4     89.770732   0.006389    9.000000   9.000000   9.000000        NaN   \n",
       "...         ...        ...         ...        ...        ...        ...   \n",
       "5888        NaN        NaN         NaN        NaN        NaN        NaN   \n",
       "5889        NaN        NaN   31.960054  31.960054  31.960054        NaN   \n",
       "5890        NaN        NaN    0.000000   0.000000   0.000000   0.000000   \n",
       "5891        NaN        NaN    1.090415   1.090415   1.090415        NaN   \n",
       "5892  89.712441   0.006400    0.750000   0.750000   0.750000        NaN   \n",
       "\n",
       "       target       user  \n",
       "0       Still       Luca  \n",
       "1         Car       Luca  \n",
       "2       Still       Luca  \n",
       "3         Car       Luca  \n",
       "4         Car     andrea  \n",
       "...       ...        ...  \n",
       "5888  Walking  IvanHeibi  \n",
       "5889    Train  Pierpaolo  \n",
       "5890    Still       Luca  \n",
       "5891    Still    Damiano  \n",
       "5892  Walking     andrea  \n",
       "\n",
       "[5709 rows x 70 columns]"
      ]
     },
     "execution_count": 117,
     "metadata": {},
     "output_type": "execute_result"
    }
   ],
   "source": [
    "df_train"
   ]
  },
  {
   "cell_type": "code",
   "execution_count": 103,
   "id": "fc4ea9ed",
   "metadata": {
    "ExecuteTime": {
     "end_time": "2021-05-20T10:35:08.719842Z",
     "start_time": "2021-05-20T10:35:08.714934Z"
    },
    "cell_id": "00009-0d70d803-3143-4480-9a4e-f2a94e1e970c",
    "deepnote_cell_type": "code",
    "deepnote_to_be_reexecuted": false,
    "execution_millis": 21,
    "execution_start": 1621413585036,
    "source_hash": "f72c817d"
   },
   "outputs": [
    {
     "name": "stdout",
     "output_type": "stream",
     "text": [
      "(5447, 70)\n",
      "(446, 70)\n"
     ]
    }
   ],
   "source": [
    "print(df_train.shape)\n",
    "print(df_test.shape)"
   ]
  },
  {
   "cell_type": "markdown",
   "id": "42bdd9f0",
   "metadata": {
    "cell_id": "00010-2e02d6fa-4fc3-4b99-9575-91242ed9448b",
    "deepnote_cell_type": "markdown"
   },
   "source": [
    "## drop id ,time, user columns"
   ]
  },
  {
   "cell_type": "code",
   "execution_count": 118,
   "id": "f28ccc06",
   "metadata": {
    "ExecuteTime": {
     "end_time": "2021-05-20T10:38:13.209177Z",
     "start_time": "2021-05-20T10:38:13.200965Z"
    },
    "cell_id": "00011-54861700-319b-4d36-932c-c220912069f7",
    "deepnote_cell_type": "code",
    "deepnote_to_be_reexecuted": false,
    "execution_millis": 0,
    "execution_start": 1621413588029,
    "source_hash": "17352a22"
   },
   "outputs": [],
   "source": [
    "unimp    = ['id','user','time']\n",
    "df_train = df_train.drop(unimp,axis=1)\n",
    "df_test  = df_test.drop(unimp,axis=1)"
   ]
  },
  {
   "cell_type": "code",
   "execution_count": null,
   "id": "ed481694",
   "metadata": {
    "ExecuteTime": {
     "end_time": "2021-05-20T07:11:18.120462Z",
     "start_time": "2021-05-20T07:11:18.113274Z"
    },
    "cell_id": "00009-aa841b9d-ba02-4d48-af4d-6643e1832c79",
    "deepnote_cell_type": "code",
    "deepnote_to_be_reexecuted": false,
    "execution_millis": 3,
    "execution_start": 1621413604296,
    "source_hash": "f39bcc7b",
    "tags": []
   },
   "outputs": [],
   "source": [
    "# df_train=df_train.drop('speed_mean',axis=1)\n",
    "# df_test=df_test.drop('speed_mean',axis=1)"
   ]
  },
  {
   "cell_type": "code",
   "execution_count": 119,
   "id": "73de009c",
   "metadata": {
    "ExecuteTime": {
     "end_time": "2021-05-20T10:38:15.681913Z",
     "start_time": "2021-05-20T10:38:15.676965Z"
    },
    "cell_id": "00012-d0bf41ef-aa79-41f7-9c4d-e7c195432593",
    "deepnote_cell_type": "code",
    "deepnote_to_be_reexecuted": false,
    "execution_millis": 10,
    "execution_start": 1621413606677,
    "source_hash": "f72c817d"
   },
   "outputs": [
    {
     "name": "stdout",
     "output_type": "stream",
     "text": [
      "(5709, 67)\n",
      "(184, 67)\n"
     ]
    }
   ],
   "source": [
    "print(df_train.shape)\n",
    "print(df_test.shape)"
   ]
  },
  {
   "cell_type": "code",
   "execution_count": 106,
   "id": "fe1da127",
   "metadata": {
    "ExecuteTime": {
     "end_time": "2021-05-20T10:35:35.345180Z",
     "start_time": "2021-05-20T10:35:35.337839Z"
    }
   },
   "outputs": [],
   "source": [
    "def fill_nan_with_mean_training(training, test):\n",
    "    trainingFill = training.copy()\n",
    "    testFill = test.copy()\n",
    "    trainingFill = trainingFill.fillna(trainingFill.mean())\n",
    "    trainingFill = trainingFill.fillna(0)\n",
    "    testFill = testFill.fillna(trainingFill.mean())\n",
    "    testFill = testFill.fillna(0)\n",
    "    return trainingFill, testFill\n",
    "\n",
    "def scale_features(train, test):\n",
    "    # build scaler to apply on training and test the same transformation\n",
    "    scaler = StandardScaler().fit(train)\n",
    "    train_features_scaled = scaler.transform(train)\n",
    "    test_features_scaled = scaler.transform(test)\n",
    "    return train_features_scaled, test_features_scaled"
   ]
  },
  {
   "cell_type": "code",
   "execution_count": 120,
   "id": "8019b454",
   "metadata": {
    "ExecuteTime": {
     "end_time": "2021-05-20T10:38:24.504340Z",
     "start_time": "2021-05-20T10:38:24.431866Z"
    }
   },
   "outputs": [],
   "source": [
    "df_train_fill,df_test_fill=fill_nan_with_mean_training(df_train,df_test)"
   ]
  },
  {
   "cell_type": "code",
   "execution_count": 22,
   "id": "fef65801",
   "metadata": {
    "ExecuteTime": {
     "end_time": "2021-05-20T10:00:01.698563Z",
     "start_time": "2021-05-20T10:00:01.672123Z"
    }
   },
   "outputs": [],
   "source": []
  },
  {
   "cell_type": "code",
   "execution_count": 126,
   "id": "00daf36c",
   "metadata": {
    "ExecuteTime": {
     "end_time": "2021-05-20T10:39:22.459627Z",
     "start_time": "2021-05-20T10:39:22.451716Z"
    },
    "cell_id": "00014-739c687f-8a17-4109-b725-39f731c97ffc",
    "deepnote_cell_type": "code",
    "deepnote_to_be_reexecuted": false,
    "execution_millis": 9,
    "execution_start": 1621413612666,
    "source_hash": "87e2a165"
   },
   "outputs": [],
   "source": [
    "X=df_train_fill.drop('target',axis=1)\n",
    "y=df_train_fill.target\n",
    "X_test=df_test_fill.drop('target',axis=1)\n",
    "y_test=df_test_fill.target"
   ]
  },
  {
   "cell_type": "code",
   "execution_count": 127,
   "id": "ac81dcd2",
   "metadata": {
    "ExecuteTime": {
     "end_time": "2021-05-20T10:39:23.448743Z",
     "start_time": "2021-05-20T10:39:23.421945Z"
    }
   },
   "outputs": [],
   "source": [
    "X_sc,X_test_sc=scale_features(X, X_test)"
   ]
  },
  {
   "cell_type": "markdown",
   "id": "8f307a4c",
   "metadata": {
    "cell_id": "00015-bf364553-c6b4-45e8-abcd-b7ac3e001671",
    "deepnote_cell_type": "markdown"
   },
   "source": [
    "# Pipeline "
   ]
  },
  {
   "cell_type": "code",
   "execution_count": null,
   "id": "ecc45311",
   "metadata": {
    "ExecuteTime": {
     "end_time": "2021-05-20T07:11:45.641897Z",
     "start_time": "2021-05-20T07:11:45.635731Z"
    },
    "cell_id": "00016-e5f545c7-96b3-4abe-bb52-f939b9258cd9",
    "deepnote_cell_type": "code",
    "deepnote_to_be_reexecuted": false,
    "execution_millis": 1,
    "execution_start": 1621413615690,
    "source_hash": "c46b4aee"
   },
   "outputs": [],
   "source": [
    "# num_attribs=df_train.drop('target',axis=1).columns.to_list()\n",
    "# num_pip=Pipeline([('imputer',impute.SimpleImputer(strategy='median')),\n",
    "#                   ('scalar',MinMaxScaler()),\n",
    "#                ])  # ('PCA',PCA(n_components=12))\n",
    "# preprocessor=compose.ColumnTransformer([\n",
    "#     ('num',num_pip,num_attribs)\n",
    "# ])"
   ]
  },
  {
   "cell_type": "code",
   "execution_count": 128,
   "id": "c513fadf",
   "metadata": {
    "ExecuteTime": {
     "end_time": "2021-05-20T10:39:25.469808Z",
     "start_time": "2021-05-20T10:39:25.452141Z"
    },
    "cell_id": "00017-92beb382-8adc-4eec-8c37-8da7367daf18",
    "deepnote_cell_type": "code",
    "deepnote_to_be_reexecuted": false,
    "execution_millis": 100,
    "execution_start": 1621417526522,
    "source_hash": "5ce2e3a"
   },
   "outputs": [
    {
     "data": {
      "text/html": [
       "<style>#sk-379f2b7d-d0e2-4577-92e6-e987009d067b {color: black;background-color: white;}#sk-379f2b7d-d0e2-4577-92e6-e987009d067b pre{padding: 0;}#sk-379f2b7d-d0e2-4577-92e6-e987009d067b div.sk-toggleable {background-color: white;}#sk-379f2b7d-d0e2-4577-92e6-e987009d067b label.sk-toggleable__label {cursor: pointer;display: block;width: 100%;margin-bottom: 0;padding: 0.2em 0.3em;box-sizing: border-box;text-align: center;}#sk-379f2b7d-d0e2-4577-92e6-e987009d067b div.sk-toggleable__content {max-height: 0;max-width: 0;overflow: hidden;text-align: left;background-color: #f0f8ff;}#sk-379f2b7d-d0e2-4577-92e6-e987009d067b div.sk-toggleable__content pre {margin: 0.2em;color: black;border-radius: 0.25em;background-color: #f0f8ff;}#sk-379f2b7d-d0e2-4577-92e6-e987009d067b input.sk-toggleable__control:checked~div.sk-toggleable__content {max-height: 200px;max-width: 100%;overflow: auto;}#sk-379f2b7d-d0e2-4577-92e6-e987009d067b div.sk-estimator input.sk-toggleable__control:checked~label.sk-toggleable__label {background-color: #d4ebff;}#sk-379f2b7d-d0e2-4577-92e6-e987009d067b div.sk-label input.sk-toggleable__control:checked~label.sk-toggleable__label {background-color: #d4ebff;}#sk-379f2b7d-d0e2-4577-92e6-e987009d067b input.sk-hidden--visually {border: 0;clip: rect(1px 1px 1px 1px);clip: rect(1px, 1px, 1px, 1px);height: 1px;margin: -1px;overflow: hidden;padding: 0;position: absolute;width: 1px;}#sk-379f2b7d-d0e2-4577-92e6-e987009d067b div.sk-estimator {font-family: monospace;background-color: #f0f8ff;margin: 0.25em 0.25em;border: 1px dotted black;border-radius: 0.25em;box-sizing: border-box;}#sk-379f2b7d-d0e2-4577-92e6-e987009d067b div.sk-estimator:hover {background-color: #d4ebff;}#sk-379f2b7d-d0e2-4577-92e6-e987009d067b div.sk-parallel-item::after {content: \"\";width: 100%;border-bottom: 1px solid gray;flex-grow: 1;}#sk-379f2b7d-d0e2-4577-92e6-e987009d067b div.sk-label:hover label.sk-toggleable__label {background-color: #d4ebff;}#sk-379f2b7d-d0e2-4577-92e6-e987009d067b div.sk-serial::before {content: \"\";position: absolute;border-left: 1px solid gray;box-sizing: border-box;top: 2em;bottom: 0;left: 50%;}#sk-379f2b7d-d0e2-4577-92e6-e987009d067b div.sk-serial {display: flex;flex-direction: column;align-items: center;background-color: white;}#sk-379f2b7d-d0e2-4577-92e6-e987009d067b div.sk-item {z-index: 1;}#sk-379f2b7d-d0e2-4577-92e6-e987009d067b div.sk-parallel {display: flex;align-items: stretch;justify-content: center;background-color: white;}#sk-379f2b7d-d0e2-4577-92e6-e987009d067b div.sk-parallel-item {display: flex;flex-direction: column;position: relative;background-color: white;}#sk-379f2b7d-d0e2-4577-92e6-e987009d067b div.sk-parallel-item:first-child::after {align-self: flex-end;width: 50%;}#sk-379f2b7d-d0e2-4577-92e6-e987009d067b div.sk-parallel-item:last-child::after {align-self: flex-start;width: 50%;}#sk-379f2b7d-d0e2-4577-92e6-e987009d067b div.sk-parallel-item:only-child::after {width: 0;}#sk-379f2b7d-d0e2-4577-92e6-e987009d067b div.sk-dashed-wrapped {border: 1px dashed gray;margin: 0.2em;box-sizing: border-box;padding-bottom: 0.1em;background-color: white;position: relative;}#sk-379f2b7d-d0e2-4577-92e6-e987009d067b div.sk-label label {font-family: monospace;font-weight: bold;background-color: white;display: inline-block;line-height: 1.2em;}#sk-379f2b7d-d0e2-4577-92e6-e987009d067b div.sk-label-container {position: relative;z-index: 2;text-align: center;}#sk-379f2b7d-d0e2-4577-92e6-e987009d067b div.sk-container {display: inline-block;position: relative;}</style><div id=\"sk-379f2b7d-d0e2-4577-92e6-e987009d067b\" class\"sk-top-container\"><div class=\"sk-container\"><div class=\"sk-item sk-dashed-wrapped\"><div class=\"sk-label-container\"><div class=\"sk-label sk-toggleable\"><input class=\"sk-toggleable__control sk-hidden--visually\" id=\"92ae5b5c-0e49-44f1-b2a0-745cfeaa0340\" type=\"checkbox\" ><label class=\"sk-toggleable__label\" for=\"92ae5b5c-0e49-44f1-b2a0-745cfeaa0340\">Pipeline</label><div class=\"sk-toggleable__content\"><pre>Pipeline(steps=[('gradientboostingclassifier', GradientBoostingClassifier())])</pre></div></div></div><div class=\"sk-serial\"><div class=\"sk-item\"><div class=\"sk-estimator sk-toggleable\"><input class=\"sk-toggleable__control sk-hidden--visually\" id=\"e7d5bbd9-2a7a-42fa-84bf-1eefb4219d5b\" type=\"checkbox\" ><label class=\"sk-toggleable__label\" for=\"e7d5bbd9-2a7a-42fa-84bf-1eefb4219d5b\">GradientBoostingClassifier</label><div class=\"sk-toggleable__content\"><pre>GradientBoostingClassifier()</pre></div></div></div></div></div></div></div>"
      ],
      "text/plain": [
       "Pipeline(steps=[('gradientboostingclassifier', GradientBoostingClassifier())])"
      ]
     },
     "execution_count": 128,
     "metadata": {},
     "output_type": "execute_result"
    }
   ],
   "source": [
    "# pipeline for model\n",
    "classifier_models = {\n",
    "\"DecisionTreeClassifier\": DecisionTreeClassifier(),\n",
    "'KNeighborsClassifier':KNeighborsClassifier(6),\n",
    "'LogisticRegression':LogisticRegression(),\n",
    "\"RandomForestClassifier\":RandomForestClassifier(),\n",
    "\"GradientBoostingClassifier\":GradientBoostingClassifier(),\n",
    "\"XGBClassifier\":XGBClassifier(),\n",
    "\"LGBMClassifier\":LGBMClassifier(),\n",
    "'GaussianNB':GaussianNB(),\n",
    "\n",
    "}\n",
    "# make pipline with  preprocessing \n",
    "classifier_models = {name: make_pipeline( model) for name, model in classifier_models.items()}\n",
    "classifier_models[\"GradientBoostingClassifier\"]"
   ]
  },
  {
   "cell_type": "code",
   "execution_count": null,
   "id": "cff2d247",
   "metadata": {
    "ExecuteTime": {
     "start_time": "2021-05-20T10:39:27.419Z"
    },
    "cell_id": "00018-a223c62b-d005-4dca-9b28-e4a8facfdae7",
    "deepnote_cell_type": "code",
    "deepnote_to_be_reexecuted": false,
    "execution_millis": 44618,
    "execution_start": 1621413664253,
    "source_hash": "9af53d33"
   },
   "outputs": [],
   "source": [
    "\n",
    "\n",
    "x_train, x_val, y_train, y_val = train_test_split(X_sc, y,test_size=0.4,stratify = y,random_state=10 )\n",
    "results = pd.DataFrame({'Model': [], 'Accuracy': [], 'Bal Acc.': [],'Time': []})\n",
    "for model_name, model in classifier_models.items():\n",
    "    start_time = time.time()\n",
    "    model.fit(x_train, y_train)\n",
    "    total_time = time.time() - start_time\n",
    "    valid_pred = model.predict(x_val)\n",
    "    results = results.append({\"Model\":    model_name,\n",
    "                              \"Accuracy\": accuracy_score(y_val, valid_pred)*100,\n",
    "                              \"Bal Acc.\": balanced_accuracy_score(y_val, valid_pred)*100,\n",
    "                    \n",
    "                              \"Time\":     total_time},\n",
    "                              ignore_index=True)\n",
    "results_ord = results.sort_values(by=['Accuracy'], ascending=False, ignore_index=True)\n",
    "results_ord.index += 1 \n",
    "results_ord.style.bar(subset=['Accuracy', 'Bal Acc.'], vmin=0, vmax=100, color='#5fba7d')\n"
   ]
  },
  {
   "cell_type": "markdown",
   "id": "ff0e00aa",
   "metadata": {
    "cell_id": "00019-f27d4a7c-807c-40af-a2ec-086ee9c96b8a",
    "deepnote_cell_type": "markdown"
   },
   "source": [
    "# Best model for test data  "
   ]
  },
  {
   "cell_type": "code",
   "execution_count": 123,
   "id": "c6fea1f7",
   "metadata": {
    "ExecuteTime": {
     "end_time": "2021-05-20T10:38:56.302539Z",
     "start_time": "2021-05-20T10:38:56.299052Z"
    },
    "cell_id": "00021-ba896ca9-57d8-4edc-a023-b613bfc8d3dc",
    "deepnote_cell_type": "code",
    "deepnote_to_be_reexecuted": false,
    "execution_millis": 1,
    "execution_start": 1621413753530,
    "source_hash": "55e59264"
   },
   "outputs": [],
   "source": [
    "best_model=LGBMClassifier()\n",
    "name='LGBMClassifier'"
   ]
  },
  {
   "cell_type": "code",
   "execution_count": 124,
   "id": "f46aa7cd",
   "metadata": {
    "ExecuteTime": {
     "end_time": "2021-05-20T10:38:57.505011Z",
     "start_time": "2021-05-20T10:38:57.437971Z"
    },
    "cell_id": "00023-55ac1e59-0241-48dc-97aa-db64bdc9bc4b",
    "deepnote_cell_type": "code",
    "deepnote_to_be_reexecuted": false,
    "execution_millis": 177600,
    "execution_start": 1621417545124,
    "source_hash": "419bd42d"
   },
   "outputs": [
    {
     "ename": "ValueError",
     "evalue": "Found input variables with inconsistent numbers of samples: [5447, 5709]",
     "output_type": "error",
     "traceback": [
      "\u001b[0;31m---------------------------------------------------------------------------\u001b[0m",
      "\u001b[0;31mValueError\u001b[0m                                Traceback (most recent call last)",
      "\u001b[0;32m<ipython-input-124-6473185c3eaf>\u001b[0m in \u001b[0;36m<module>\u001b[0;34m\u001b[0m\n\u001b[1;32m      2\u001b[0m \u001b[0mtest_result\u001b[0m \u001b[0;34m=\u001b[0m \u001b[0mpd\u001b[0m\u001b[0;34m.\u001b[0m\u001b[0mDataFrame\u001b[0m\u001b[0;34m(\u001b[0m\u001b[0;34m{\u001b[0m\u001b[0;34m'Model'\u001b[0m\u001b[0;34m:\u001b[0m \u001b[0;34m[\u001b[0m\u001b[0;34m]\u001b[0m\u001b[0;34m,\u001b[0m \u001b[0;34m'Accuracy'\u001b[0m\u001b[0;34m:\u001b[0m \u001b[0;34m[\u001b[0m\u001b[0;34m]\u001b[0m\u001b[0;34m,\u001b[0m \u001b[0;34m'Bal Acc.'\u001b[0m\u001b[0;34m:\u001b[0m \u001b[0;34m[\u001b[0m\u001b[0;34m]\u001b[0m\u001b[0;34m,\u001b[0m\u001b[0;34m'Time'\u001b[0m\u001b[0;34m:\u001b[0m \u001b[0;34m[\u001b[0m\u001b[0;34m]\u001b[0m\u001b[0;34m}\u001b[0m\u001b[0;34m)\u001b[0m\u001b[0;34m\u001b[0m\u001b[0;34m\u001b[0m\u001b[0m\n\u001b[1;32m      3\u001b[0m \u001b[0mstart_time\u001b[0m \u001b[0;34m=\u001b[0m \u001b[0mtime\u001b[0m\u001b[0;34m.\u001b[0m\u001b[0mtime\u001b[0m\u001b[0;34m(\u001b[0m\u001b[0;34m)\u001b[0m\u001b[0;34m\u001b[0m\u001b[0;34m\u001b[0m\u001b[0m\n\u001b[0;32m----> 4\u001b[0;31m \u001b[0mclf\u001b[0m\u001b[0;34m.\u001b[0m\u001b[0mfit\u001b[0m\u001b[0;34m(\u001b[0m\u001b[0mX_sc\u001b[0m\u001b[0;34m,\u001b[0m \u001b[0my\u001b[0m\u001b[0;34m)\u001b[0m\u001b[0;34m\u001b[0m\u001b[0;34m\u001b[0m\u001b[0m\n\u001b[0m\u001b[1;32m      5\u001b[0m \u001b[0mtotal_time\u001b[0m \u001b[0;34m=\u001b[0m \u001b[0mtime\u001b[0m\u001b[0;34m.\u001b[0m\u001b[0mtime\u001b[0m\u001b[0;34m(\u001b[0m\u001b[0;34m)\u001b[0m \u001b[0;34m-\u001b[0m \u001b[0mstart_time\u001b[0m\u001b[0;34m\u001b[0m\u001b[0;34m\u001b[0m\u001b[0m\n\u001b[1;32m      6\u001b[0m \u001b[0mpred\u001b[0m \u001b[0;34m=\u001b[0m \u001b[0mclf\u001b[0m\u001b[0;34m.\u001b[0m\u001b[0mpredict\u001b[0m\u001b[0;34m(\u001b[0m\u001b[0mX_test_sc\u001b[0m\u001b[0;34m)\u001b[0m\u001b[0;34m\u001b[0m\u001b[0;34m\u001b[0m\u001b[0m\n",
      "\u001b[0;32m~/anaconda3/envs/aienv/lib/python3.8/site-packages/sklearn/pipeline.py\u001b[0m in \u001b[0;36mfit\u001b[0;34m(self, X, y, **fit_params)\u001b[0m\n\u001b[1;32m    344\u001b[0m             \u001b[0;32mif\u001b[0m \u001b[0mself\u001b[0m\u001b[0;34m.\u001b[0m\u001b[0m_final_estimator\u001b[0m \u001b[0;34m!=\u001b[0m \u001b[0;34m'passthrough'\u001b[0m\u001b[0;34m:\u001b[0m\u001b[0;34m\u001b[0m\u001b[0;34m\u001b[0m\u001b[0m\n\u001b[1;32m    345\u001b[0m                 \u001b[0mfit_params_last_step\u001b[0m \u001b[0;34m=\u001b[0m \u001b[0mfit_params_steps\u001b[0m\u001b[0;34m[\u001b[0m\u001b[0mself\u001b[0m\u001b[0;34m.\u001b[0m\u001b[0msteps\u001b[0m\u001b[0;34m[\u001b[0m\u001b[0;34m-\u001b[0m\u001b[0;36m1\u001b[0m\u001b[0;34m]\u001b[0m\u001b[0;34m[\u001b[0m\u001b[0;36m0\u001b[0m\u001b[0;34m]\u001b[0m\u001b[0;34m]\u001b[0m\u001b[0;34m\u001b[0m\u001b[0;34m\u001b[0m\u001b[0m\n\u001b[0;32m--> 346\u001b[0;31m                 \u001b[0mself\u001b[0m\u001b[0;34m.\u001b[0m\u001b[0m_final_estimator\u001b[0m\u001b[0;34m.\u001b[0m\u001b[0mfit\u001b[0m\u001b[0;34m(\u001b[0m\u001b[0mXt\u001b[0m\u001b[0;34m,\u001b[0m \u001b[0my\u001b[0m\u001b[0;34m,\u001b[0m \u001b[0;34m**\u001b[0m\u001b[0mfit_params_last_step\u001b[0m\u001b[0;34m)\u001b[0m\u001b[0;34m\u001b[0m\u001b[0;34m\u001b[0m\u001b[0m\n\u001b[0m\u001b[1;32m    347\u001b[0m \u001b[0;34m\u001b[0m\u001b[0m\n\u001b[1;32m    348\u001b[0m         \u001b[0;32mreturn\u001b[0m \u001b[0mself\u001b[0m\u001b[0;34m\u001b[0m\u001b[0;34m\u001b[0m\u001b[0m\n",
      "\u001b[0;32m~/anaconda3/envs/aienv/lib/python3.8/site-packages/lightgbm/sklearn.py\u001b[0m in \u001b[0;36mfit\u001b[0;34m(self, X, y, sample_weight, init_score, eval_set, eval_names, eval_sample_weight, eval_class_weight, eval_init_score, eval_metric, early_stopping_rounds, verbose, feature_name, categorical_feature, callbacks, init_model)\u001b[0m\n\u001b[1;32m    888\u001b[0m                     \u001b[0mvalid_sets\u001b[0m\u001b[0;34m[\u001b[0m\u001b[0mi\u001b[0m\u001b[0;34m]\u001b[0m \u001b[0;34m=\u001b[0m \u001b[0;34m(\u001b[0m\u001b[0mvalid_x\u001b[0m\u001b[0;34m,\u001b[0m \u001b[0mself\u001b[0m\u001b[0;34m.\u001b[0m\u001b[0m_le\u001b[0m\u001b[0;34m.\u001b[0m\u001b[0mtransform\u001b[0m\u001b[0;34m(\u001b[0m\u001b[0mvalid_y\u001b[0m\u001b[0;34m)\u001b[0m\u001b[0;34m)\u001b[0m\u001b[0;34m\u001b[0m\u001b[0;34m\u001b[0m\u001b[0m\n\u001b[1;32m    889\u001b[0m \u001b[0;34m\u001b[0m\u001b[0m\n\u001b[0;32m--> 890\u001b[0;31m         super().fit(X, _y, sample_weight=sample_weight, init_score=init_score, eval_set=valid_sets,\n\u001b[0m\u001b[1;32m    891\u001b[0m                     \u001b[0meval_names\u001b[0m\u001b[0;34m=\u001b[0m\u001b[0meval_names\u001b[0m\u001b[0;34m,\u001b[0m \u001b[0meval_sample_weight\u001b[0m\u001b[0;34m=\u001b[0m\u001b[0meval_sample_weight\u001b[0m\u001b[0;34m,\u001b[0m\u001b[0;34m\u001b[0m\u001b[0;34m\u001b[0m\u001b[0m\n\u001b[1;32m    892\u001b[0m                     \u001b[0meval_class_weight\u001b[0m\u001b[0;34m=\u001b[0m\u001b[0meval_class_weight\u001b[0m\u001b[0;34m,\u001b[0m \u001b[0meval_init_score\u001b[0m\u001b[0;34m=\u001b[0m\u001b[0meval_init_score\u001b[0m\u001b[0;34m,\u001b[0m\u001b[0;34m\u001b[0m\u001b[0;34m\u001b[0m\u001b[0m\n",
      "\u001b[0;32m~/anaconda3/envs/aienv/lib/python3.8/site-packages/lightgbm/sklearn.py\u001b[0m in \u001b[0;36mfit\u001b[0;34m(self, X, y, sample_weight, init_score, group, eval_set, eval_names, eval_sample_weight, eval_class_weight, eval_init_score, eval_group, eval_metric, early_stopping_rounds, verbose, feature_name, categorical_feature, callbacks, init_model)\u001b[0m\n\u001b[1;32m    614\u001b[0m \u001b[0;34m\u001b[0m\u001b[0m\n\u001b[1;32m    615\u001b[0m         \u001b[0;32mif\u001b[0m \u001b[0;32mnot\u001b[0m \u001b[0misinstance\u001b[0m\u001b[0;34m(\u001b[0m\u001b[0mX\u001b[0m\u001b[0;34m,\u001b[0m \u001b[0;34m(\u001b[0m\u001b[0mpd_DataFrame\u001b[0m\u001b[0;34m,\u001b[0m \u001b[0mdt_DataTable\u001b[0m\u001b[0;34m)\u001b[0m\u001b[0;34m)\u001b[0m\u001b[0;34m:\u001b[0m\u001b[0;34m\u001b[0m\u001b[0;34m\u001b[0m\u001b[0m\n\u001b[0;32m--> 616\u001b[0;31m             \u001b[0m_X\u001b[0m\u001b[0;34m,\u001b[0m \u001b[0m_y\u001b[0m \u001b[0;34m=\u001b[0m \u001b[0m_LGBMCheckXY\u001b[0m\u001b[0;34m(\u001b[0m\u001b[0mX\u001b[0m\u001b[0;34m,\u001b[0m \u001b[0my\u001b[0m\u001b[0;34m,\u001b[0m \u001b[0maccept_sparse\u001b[0m\u001b[0;34m=\u001b[0m\u001b[0;32mTrue\u001b[0m\u001b[0;34m,\u001b[0m \u001b[0mforce_all_finite\u001b[0m\u001b[0;34m=\u001b[0m\u001b[0;32mFalse\u001b[0m\u001b[0;34m,\u001b[0m \u001b[0mensure_min_samples\u001b[0m\u001b[0;34m=\u001b[0m\u001b[0;36m2\u001b[0m\u001b[0;34m)\u001b[0m\u001b[0;34m\u001b[0m\u001b[0;34m\u001b[0m\u001b[0m\n\u001b[0m\u001b[1;32m    617\u001b[0m             \u001b[0;32mif\u001b[0m \u001b[0msample_weight\u001b[0m \u001b[0;32mis\u001b[0m \u001b[0;32mnot\u001b[0m \u001b[0;32mNone\u001b[0m\u001b[0;34m:\u001b[0m\u001b[0;34m\u001b[0m\u001b[0;34m\u001b[0m\u001b[0m\n\u001b[1;32m    618\u001b[0m                 \u001b[0msample_weight\u001b[0m \u001b[0;34m=\u001b[0m \u001b[0m_LGBMCheckSampleWeight\u001b[0m\u001b[0;34m(\u001b[0m\u001b[0msample_weight\u001b[0m\u001b[0;34m,\u001b[0m \u001b[0m_X\u001b[0m\u001b[0;34m)\u001b[0m\u001b[0;34m\u001b[0m\u001b[0;34m\u001b[0m\u001b[0m\n",
      "\u001b[0;32m~/anaconda3/envs/aienv/lib/python3.8/site-packages/sklearn/utils/validation.py\u001b[0m in \u001b[0;36minner_f\u001b[0;34m(*args, **kwargs)\u001b[0m\n\u001b[1;32m     61\u001b[0m             \u001b[0mextra_args\u001b[0m \u001b[0;34m=\u001b[0m \u001b[0mlen\u001b[0m\u001b[0;34m(\u001b[0m\u001b[0margs\u001b[0m\u001b[0;34m)\u001b[0m \u001b[0;34m-\u001b[0m \u001b[0mlen\u001b[0m\u001b[0;34m(\u001b[0m\u001b[0mall_args\u001b[0m\u001b[0;34m)\u001b[0m\u001b[0;34m\u001b[0m\u001b[0;34m\u001b[0m\u001b[0m\n\u001b[1;32m     62\u001b[0m             \u001b[0;32mif\u001b[0m \u001b[0mextra_args\u001b[0m \u001b[0;34m<=\u001b[0m \u001b[0;36m0\u001b[0m\u001b[0;34m:\u001b[0m\u001b[0;34m\u001b[0m\u001b[0;34m\u001b[0m\u001b[0m\n\u001b[0;32m---> 63\u001b[0;31m                 \u001b[0;32mreturn\u001b[0m \u001b[0mf\u001b[0m\u001b[0;34m(\u001b[0m\u001b[0;34m*\u001b[0m\u001b[0margs\u001b[0m\u001b[0;34m,\u001b[0m \u001b[0;34m**\u001b[0m\u001b[0mkwargs\u001b[0m\u001b[0;34m)\u001b[0m\u001b[0;34m\u001b[0m\u001b[0;34m\u001b[0m\u001b[0m\n\u001b[0m\u001b[1;32m     64\u001b[0m \u001b[0;34m\u001b[0m\u001b[0m\n\u001b[1;32m     65\u001b[0m             \u001b[0;31m# extra_args > 0\u001b[0m\u001b[0;34m\u001b[0m\u001b[0;34m\u001b[0m\u001b[0;34m\u001b[0m\u001b[0m\n",
      "\u001b[0;32m~/anaconda3/envs/aienv/lib/python3.8/site-packages/sklearn/utils/validation.py\u001b[0m in \u001b[0;36mcheck_X_y\u001b[0;34m(X, y, accept_sparse, accept_large_sparse, dtype, order, copy, force_all_finite, ensure_2d, allow_nd, multi_output, ensure_min_samples, ensure_min_features, y_numeric, estimator)\u001b[0m\n\u001b[1;32m    886\u001b[0m         \u001b[0my\u001b[0m \u001b[0;34m=\u001b[0m \u001b[0my\u001b[0m\u001b[0;34m.\u001b[0m\u001b[0mastype\u001b[0m\u001b[0;34m(\u001b[0m\u001b[0mnp\u001b[0m\u001b[0;34m.\u001b[0m\u001b[0mfloat64\u001b[0m\u001b[0;34m)\u001b[0m\u001b[0;34m\u001b[0m\u001b[0;34m\u001b[0m\u001b[0m\n\u001b[1;32m    887\u001b[0m \u001b[0;34m\u001b[0m\u001b[0m\n\u001b[0;32m--> 888\u001b[0;31m     \u001b[0mcheck_consistent_length\u001b[0m\u001b[0;34m(\u001b[0m\u001b[0mX\u001b[0m\u001b[0;34m,\u001b[0m \u001b[0my\u001b[0m\u001b[0;34m)\u001b[0m\u001b[0;34m\u001b[0m\u001b[0;34m\u001b[0m\u001b[0m\n\u001b[0m\u001b[1;32m    889\u001b[0m \u001b[0;34m\u001b[0m\u001b[0m\n\u001b[1;32m    890\u001b[0m     \u001b[0;32mreturn\u001b[0m \u001b[0mX\u001b[0m\u001b[0;34m,\u001b[0m \u001b[0my\u001b[0m\u001b[0;34m\u001b[0m\u001b[0;34m\u001b[0m\u001b[0m\n",
      "\u001b[0;32m~/anaconda3/envs/aienv/lib/python3.8/site-packages/sklearn/utils/validation.py\u001b[0m in \u001b[0;36mcheck_consistent_length\u001b[0;34m(*arrays)\u001b[0m\n\u001b[1;32m    317\u001b[0m     \u001b[0muniques\u001b[0m \u001b[0;34m=\u001b[0m \u001b[0mnp\u001b[0m\u001b[0;34m.\u001b[0m\u001b[0munique\u001b[0m\u001b[0;34m(\u001b[0m\u001b[0mlengths\u001b[0m\u001b[0;34m)\u001b[0m\u001b[0;34m\u001b[0m\u001b[0;34m\u001b[0m\u001b[0m\n\u001b[1;32m    318\u001b[0m     \u001b[0;32mif\u001b[0m \u001b[0mlen\u001b[0m\u001b[0;34m(\u001b[0m\u001b[0muniques\u001b[0m\u001b[0;34m)\u001b[0m \u001b[0;34m>\u001b[0m \u001b[0;36m1\u001b[0m\u001b[0;34m:\u001b[0m\u001b[0;34m\u001b[0m\u001b[0;34m\u001b[0m\u001b[0m\n\u001b[0;32m--> 319\u001b[0;31m         raise ValueError(\"Found input variables with inconsistent numbers of\"\n\u001b[0m\u001b[1;32m    320\u001b[0m                          \" samples: %r\" % [int(l) for l in lengths])\n\u001b[1;32m    321\u001b[0m \u001b[0;34m\u001b[0m\u001b[0m\n",
      "\u001b[0;31mValueError\u001b[0m: Found input variables with inconsistent numbers of samples: [5447, 5709]"
     ]
    }
   ],
   "source": [
    "clf=Pipeline([('classification',best_model)])\n",
    "test_result = pd.DataFrame({'Model': [], 'Accuracy': [], 'Bal Acc.': [],'Time': []})\n",
    "start_time = time.time()\n",
    "clf.fit(X_sc, y)\n",
    "total_time = time.time() - start_time\n",
    "pred = clf.predict(X_test_sc)\n",
    "test_result = test_result.append({\"Model\":    name,\n",
    "                          \"Accuracy\": accuracy_score(y_test, pred)*100,\n",
    "                          \"Bal Acc.\": balanced_accuracy_score(y_test, pred)*100,\n",
    "                          \"Time\":     total_time},\n",
    "                          ignore_index=True)\n",
    "test_result_ord = test_result.sort_values(by=['Accuracy'], ascending=False, ignore_index=True)\n",
    "test_result_ord.index += 1 \n",
    "test_result_ord.style.bar(subset=['Accuracy', 'Bal Acc.'], vmin=0, vmax=100, color='#5fba7d')\n",
    "\n"
   ]
  },
  {
   "cell_type": "code",
   "execution_count": 114,
   "id": "176389e8",
   "metadata": {
    "ExecuteTime": {
     "end_time": "2021-05-20T10:36:36.855864Z",
     "start_time": "2021-05-20T10:36:36.824984Z"
    }
   },
   "outputs": [
    {
     "name": "stdout",
     "output_type": "stream",
     "text": [
      "              precision    recall  f1-score   support\n",
      "\n",
      "         Bus       0.00      0.00      0.00        81\n",
      "         Car       0.55      0.92      0.68       224\n",
      "       Still       0.87      0.90      0.88        51\n",
      "       Train       0.00      0.00      0.00        72\n",
      "     Walking       0.00      0.00      0.00        18\n",
      "\n",
      "    accuracy                           0.56       446\n",
      "   macro avg       0.28      0.36      0.31       446\n",
      "weighted avg       0.37      0.56      0.44       446\n",
      "\n",
      "\n",
      "[[  0  76   5   0   0]\n",
      " [ 10 205   2   7   0]\n",
      " [  0   5  46   0   0]\n",
      " [  0  72   0   0   0]\n",
      " [  0  18   0   0   0]]\n"
     ]
    }
   ],
   "source": [
    "print(classification_report(y_test, pred))\n",
    "print()\n",
    "print(confusion_matrix(y_test, pred))"
   ]
  },
  {
   "cell_type": "markdown",
   "id": "a1d01663",
   "metadata": {},
   "source": [
    "# with optuna paramater"
   ]
  },
  {
   "cell_type": "code",
   "execution_count": null,
   "id": "190b500e",
   "metadata": {
    "ExecuteTime": {
     "end_time": "2021-05-19T15:01:59.953163Z",
     "start_time": "2021-05-19T15:01:59.946109Z"
    }
   },
   "outputs": [],
   "source": [
    "\n",
    "m_=LGBMClassifier()\n",
    "model_m=Pipeline([('preprocess',preprocessor),('classification',m_)])"
   ]
  },
  {
   "cell_type": "code",
   "execution_count": null,
   "id": "04289310",
   "metadata": {
    "ExecuteTime": {
     "end_time": "2021-05-19T15:02:03.285703Z",
     "start_time": "2021-05-19T15:02:01.729538Z"
    }
   },
   "outputs": [],
   "source": [
    "model_m.fit(X,y)"
   ]
  },
  {
   "cell_type": "code",
   "execution_count": null,
   "id": "c930934b",
   "metadata": {
    "ExecuteTime": {
     "end_time": "2021-05-19T15:02:04.903398Z",
     "start_time": "2021-05-19T15:02:04.823786Z"
    }
   },
   "outputs": [],
   "source": [
    "pred_=model_.predict(X_test)\n",
    "print(f\"Accuracy {accuracy_score(y_test, pred_)*100}\")\n",
    "print(classification_report(y_test, pred_))\n",
    "print()\n",
    "print(confusion_matrix(y_test, pred_))"
   ]
  },
  {
   "cell_type": "code",
   "execution_count": null,
   "id": "38507d17",
   "metadata": {},
   "outputs": [],
   "source": []
  },
  {
   "cell_type": "code",
   "execution_count": null,
   "id": "6e9ab024",
   "metadata": {},
   "outputs": [],
   "source": []
  },
  {
   "cell_type": "markdown",
   "id": "703b919e",
   "metadata": {
    "cell_id": "00025-04dcb31f-2c66-4c89-956a-0e50837401d2",
    "deepnote_cell_type": "text-cell-h1",
    "tags": []
   },
   "source": [
    "#  Drop some feature from target  beacuse of confusion materix result \n",
    "\n",
    "## Drop car  category "
   ]
  },
  {
   "cell_type": "code",
   "execution_count": null,
   "id": "67678327",
   "metadata": {
    "ExecuteTime": {
     "end_time": "2021-05-19T15:02:14.908600Z",
     "start_time": "2021-05-19T15:02:14.901906Z"
    },
    "cell_id": "00026-4e8ec8d9-73fe-4098-a104-b64f1b201dee",
    "deepnote_cell_type": "code",
    "deepnote_to_be_reexecuted": false,
    "execution_millis": 0,
    "execution_start": 1621414154518,
    "source_hash": "1307de0a",
    "tags": []
   },
   "outputs": [],
   "source": [
    "df_test_1   =df_test[df_test['target']!='Car']\n",
    "df_train_1  =df_train[df_train['target']!='Car']"
   ]
  },
  {
   "cell_type": "code",
   "execution_count": null,
   "id": "6ccf49c5",
   "metadata": {
    "ExecuteTime": {
     "end_time": "2021-05-19T15:02:16.438678Z",
     "start_time": "2021-05-19T15:02:16.433506Z"
    },
    "cell_id": "00027-6a8851e1-bdec-4889-941b-a4753e4207ed",
    "deepnote_cell_type": "code",
    "deepnote_to_be_reexecuted": false,
    "execution_millis": 15,
    "execution_start": 1621414157127,
    "source_hash": "946fc65d",
    "tags": []
   },
   "outputs": [],
   "source": [
    "print(df_test.shape)\n",
    "print(df_train.shape)"
   ]
  },
  {
   "cell_type": "markdown",
   "id": "6d999a5c",
   "metadata": {
    "cell_id": "00024-137a78bb-5756-467f-ad76-5bbfd5d04862",
    "deepnote_cell_type": "text-cell-h1",
    "tags": []
   },
   "source": [
    "# How much info reduced "
   ]
  },
  {
   "cell_type": "code",
   "execution_count": null,
   "id": "08ab8be5",
   "metadata": {
    "ExecuteTime": {
     "end_time": "2021-05-19T15:02:20.022027Z",
     "start_time": "2021-05-19T15:02:20.014352Z"
    },
    "cell_id": "00028-4a7805db-604d-4700-a90b-0bc2dbd69c7c",
    "deepnote_cell_type": "code",
    "deepnote_to_be_reexecuted": false,
    "execution_millis": 0,
    "execution_start": 1621414246188,
    "source_hash": "35b01305",
    "tags": []
   },
   "outputs": [],
   "source": [
    "print(f\" After drop Car category we  reduce \\n test data {100-df_test_1.shape[0]/df_test.shape[0]*100} % \\n train data {100-df_train_1.shape[0]/df_train.shape[0]*100} %\")"
   ]
  },
  {
   "cell_type": "code",
   "execution_count": null,
   "id": "f65f29c9",
   "metadata": {
    "ExecuteTime": {
     "end_time": "2021-05-19T15:02:22.238467Z",
     "start_time": "2021-05-19T15:02:22.233503Z"
    },
    "cell_id": "00029-c900fbeb-079d-40a0-a81f-d8dff5cd5a68",
    "deepnote_cell_type": "code",
    "deepnote_to_be_reexecuted": false,
    "execution_millis": 8,
    "execution_start": 1621414252239,
    "source_hash": "38cdb65c",
    "tags": []
   },
   "outputs": [],
   "source": [
    "print(df_train_1.shape)\n",
    "print(df_test_1.shape)"
   ]
  },
  {
   "cell_type": "code",
   "execution_count": null,
   "id": "e63b29b2",
   "metadata": {
    "ExecuteTime": {
     "end_time": "2021-05-19T15:02:23.954836Z",
     "start_time": "2021-05-19T15:02:23.949067Z"
    },
    "cell_id": "00030-08ed8b21-f737-4e2d-90e4-bff9013a959c",
    "deepnote_cell_type": "code",
    "deepnote_to_be_reexecuted": false,
    "execution_millis": 5,
    "execution_start": 1621414258916,
    "source_hash": "917bd436",
    "tags": []
   },
   "outputs": [],
   "source": [
    "X_=df_train_1.drop('target',axis=1)\n",
    "y_=df_train_1.target\n",
    "X_test_=df_test_1.drop('target',axis=1)\n",
    "y_test_=df_test_1.target"
   ]
  },
  {
   "cell_type": "markdown",
   "id": "cb285e71",
   "metadata": {
    "cell_id": "00033-7cac29db-3436-4297-88eb-77d5b0a5b039",
    "deepnote_cell_type": "text-cell-h1",
    "tags": []
   },
   "source": [
    "# train data "
   ]
  },
  {
   "cell_type": "code",
   "execution_count": null,
   "id": "11792314",
   "metadata": {
    "ExecuteTime": {
     "end_time": "2021-05-19T15:02:33.975557Z",
     "start_time": "2021-05-19T15:02:25.520835Z"
    },
    "cell_id": "00034-ee0da9f9-3225-4109-baf7-3d8082760483",
    "deepnote_cell_type": "code",
    "deepnote_to_be_reexecuted": false,
    "execution_millis": 34209,
    "execution_start": 1621414428155,
    "source_hash": "28cdafb0",
    "tags": []
   },
   "outputs": [],
   "source": [
    "x_train_, x_val_, y_train_, y_val_ = train_test_split(X_, y_,test_size=0.4,stratify = y_,random_state=10 )\n",
    "result_new = pd.DataFrame({'Model': [], 'Accuracy': [], 'Bal Acc.': [],'Time': []})\n",
    "for model_name, model in classifier_models.items():\n",
    "    start_time_ = time.time()\n",
    "    model.fit(x_train_, y_train_)\n",
    "    total_time_= time.time() - start_time_\n",
    "    valid_pred_new = model.predict(x_val_)\n",
    "    result_new = result_new.append({\"Model\":    model_name,\n",
    "                              \"Accuracy\": accuracy_score(y_val_, valid_pred_new)*100,\n",
    "                              \"Bal Acc.\": balanced_accuracy_score(y_val_, valid_pred_new)*100,\n",
    "                              \"Time\":     total_time_},\n",
    "                              ignore_index=True)\n",
    "result_new_ord = result_new.sort_values(by=['Accuracy'], ascending=False, ignore_index=True)\n",
    "result_new_ord.index += 1 \n",
    "result_new_ord.style.bar(subset=['Accuracy', 'Bal Acc.'], vmin=0, vmax=100, color='#5fba7d')"
   ]
  },
  {
   "cell_type": "markdown",
   "id": "9a94b55e",
   "metadata": {
    "ExecuteTime": {
     "end_time": "2021-05-19T13:05:39.089930Z",
     "start_time": "2021-05-19T13:05:39.082455Z"
    }
   },
   "source": [
    "#  The highest accuracy model selected  manual tuning "
   ]
  },
  {
   "cell_type": "code",
   "execution_count": null,
   "id": "537a7277",
   "metadata": {
    "ExecuteTime": {
     "end_time": "2021-05-19T15:00:40.922904Z",
     "start_time": "2021-05-19T15:00:40.918306Z"
    }
   },
   "outputs": [],
   "source": [
    "\n",
    "best_=LGBMClassifier(boosting_type='gbdt', num_leaves=60, max_depth=6, learning_rate=0.07,\n",
    "                          n_estimators=300, subsample_for_bin=200000, objective=None, class_weight=None,\n",
    "                          min_split_gain=0.0, min_child_weight=0.001, min_child_samples=20, subsample=1.0, \n",
    "                          subsample_freq=0, colsample_bytree=1.0, reg_alpha=0.0, reg_lambda=0.0, \n",
    "                          random_state=None, n_jobs=- 1, silent=True, importance_type='split')\n",
    "model_=Pipeline([('preprocess',preprocessor),('classification',best_)])"
   ]
  },
  {
   "cell_type": "code",
   "execution_count": null,
   "id": "d6395a2d",
   "metadata": {
    "ExecuteTime": {
     "end_time": "2021-05-19T15:06:50.142367Z",
     "start_time": "2021-05-19T15:06:47.852508Z"
    }
   },
   "outputs": [],
   "source": [
    "model_.fit(X_,y_)\n",
    "pred_test_1=model_.predict(X_test_)"
   ]
  },
  {
   "cell_type": "code",
   "execution_count": null,
   "id": "d2d1eab0",
   "metadata": {
    "ExecuteTime": {
     "end_time": "2021-05-19T15:00:49.774074Z",
     "start_time": "2021-05-19T15:00:49.764739Z"
    }
   },
   "outputs": [],
   "source": [
    "accuracy_score(y_test_, pred_test_1)*100,"
   ]
  },
  {
   "cell_type": "code",
   "execution_count": null,
   "id": "05df9510",
   "metadata": {
    "ExecuteTime": {
     "end_time": "2021-05-19T15:00:51.628395Z",
     "start_time": "2021-05-19T15:00:51.588093Z"
    }
   },
   "outputs": [],
   "source": [
    "print(classification_report(y_test_, pred_test_1))\n",
    "print()\n",
    "print(confusion_matrix(y_test_, pred_test_1))"
   ]
  },
  {
   "cell_type": "markdown",
   "id": "c1bbee38",
   "metadata": {
    "cell_id": "00037-e70c6258-4570-472e-8bf4-63f3ff95d82a",
    "deepnote_cell_type": "markdown",
    "tags": []
   },
   "source": [
    "# Optuna find best parameter for selected model"
   ]
  },
  {
   "cell_type": "code",
   "execution_count": null,
   "id": "4aac4aab",
   "metadata": {
    "ExecuteTime": {
     "end_time": "2021-05-19T15:00:53.755756Z",
     "start_time": "2021-05-19T15:00:53.221269Z"
    },
    "cell_id": "00037-7a05efdd-b501-4d42-befd-a080b34f4d43",
    "deepnote_cell_type": "code",
    "tags": []
   },
   "outputs": [],
   "source": [
    "from sklearn.calibration import CalibratedClassifierCV\n",
    "import optuna"
   ]
  },
  {
   "cell_type": "code",
   "execution_count": null,
   "id": "e139f4da",
   "metadata": {
    "ExecuteTime": {
     "end_time": "2021-05-19T15:00:55.593170Z",
     "start_time": "2021-05-19T15:00:55.588016Z"
    },
    "cell_id": "00039-2b834df7-891b-498b-ab27-bda93dcfbaba",
    "deepnote_cell_type": "code",
    "tags": []
   },
   "outputs": [],
   "source": [
    "oth=Pipeline([('preprocess',preprocessor),('classification',GaussianNB())])"
   ]
  },
  {
   "cell_type": "code",
   "execution_count": null,
   "id": "d795b2cd",
   "metadata": {},
   "outputs": [],
   "source": [
    " n_estimators = trial.suggest_int('n_estimators', 2, 20)\n",
    "max_depth = int(trial.suggest_loguniform('max_depth', 1, 32))"
   ]
  },
  {
   "cell_type": "code",
   "execution_count": null,
   "id": "cc25b971",
   "metadata": {
    "ExecuteTime": {
     "end_time": "2021-05-19T13:30:31.381709Z",
     "start_time": "2021-05-19T13:30:08.710516Z"
    },
    "cell_id": "00039-d6a8eb4b-d580-445d-9240-d2166c9bd4c8",
    "deepnote_cell_type": "code",
    "tags": []
   },
   "outputs": [],
   "source": [
    "import optuna\n",
    "\n",
    "def objective(trial):\n",
    "\n",
    "    boosting_type = trial.suggest_categorical(\"boosting_type\", [\"gbdt\", \"rf\"])\n",
    "    max_depth = trial.suggest_int('max_depth', 1, 32)\n",
    "    n_estimators = trial.suggest_int(\"n_estimators\", 100,500)\n",
    "    learning_rate=trial.suggest_float(\"learning_rate\", 0.001,0.1)\n",
    "    min_data_in_leaf= trial.suggest_int(\"min_data_in_leaf\", 10,500)\n",
    "    \n",
    "    lg_lgbm = LGBMClassifier( boosting_type=boosting_type, max_depth=max_depth, \n",
    "            n_estimators=n_estimators,learning_rate=learning_rate,min_data_in_leaf=min_data_in_leaf\n",
    "        )\n",
    "\n",
    "    score = cross_val_score(lg_lgbm, X_,y_, n_jobs=-1, cv=3)\n",
    "    accuracy = score.mean()\n",
    "    return accuracy\n",
    "\n",
    "study = optuna.create_study(direction=\"maximize\")\n",
    "study.optimize(objective, n_trials=100)\n",
    "\n",
    "trial = study.best_trial\n",
    "print('Accuracy: {}'.format(trial.value))\n",
    "print(\"Best hyperparameters: {}\".format(trial.params))\n"
   ]
  },
  {
   "cell_type": "markdown",
   "id": "dc154090",
   "metadata": {},
   "source": [
    "# With optuna best parameter"
   ]
  },
  {
   "cell_type": "markdown",
   "id": "92a3cc82",
   "metadata": {},
   "source": [
    " the best accuracy  **91.18993135011442**  in max_depth= 5, n_estimators= 300, num_leaves=70,min_data_in_leaf=60,learning_rate= 0.069"
   ]
  },
  {
   "cell_type": "code",
   "execution_count": null,
   "id": "d38945a7",
   "metadata": {
    "ExecuteTime": {
     "end_time": "2021-05-19T14:02:12.118462Z",
     "start_time": "2021-05-19T14:02:12.112028Z"
    }
   },
   "outputs": [],
   "source": [
    "\n",
    "lgb_af_=LGBMClassifier( max_depth= 5\n",
    ", n_estimators= 300, num_leaves=70,min_data_in_leaf=60,learning_rate= 0.069)\n",
    "model_end=Pipeline([('preprocess',preprocessor),('classification',lgb_af_)])"
   ]
  },
  {
   "cell_type": "code",
   "execution_count": null,
   "id": "ec95b590",
   "metadata": {
    "ExecuteTime": {
     "end_time": "2021-05-19T14:02:14.559985Z",
     "start_time": "2021-05-19T14:02:13.198585Z"
    }
   },
   "outputs": [],
   "source": [
    "model_end.fit(X_,y_)\n",
    "pred_test_end=model_end.predict(X_test_)"
   ]
  },
  {
   "cell_type": "code",
   "execution_count": null,
   "id": "7bbc6750",
   "metadata": {
    "ExecuteTime": {
     "end_time": "2021-05-19T14:02:15.569645Z",
     "start_time": "2021-05-19T14:02:15.533253Z"
    }
   },
   "outputs": [],
   "source": [
    "print(f\"Accuracy {accuracy_score(y_test_, pred_test_end)*100}\")\n",
    "print(classification_report(y_test_, pred_test_end))\n",
    "print()\n",
    "print(confusion_matrix(y_test_, pred_test_end))"
   ]
  },
  {
   "cell_type": "markdown",
   "id": "8cd59e17",
   "metadata": {
    "created_in_deepnote_cell": true,
    "deepnote_cell_type": "markdown",
    "tags": []
   },
   "source": [
    "<a style='text-decoration:none;line-height:16px;display:flex;color:#5B5B62;padding:10px;justify-content:end;' href='https://deepnote.com?utm_source=created-in-deepnote-cell&projectId=3e7089f3-11a5-48ad-89c4-39a166311a14' target=\"_blank\">\n",
    "<img alt='Created in deepnote.com' style='display:inline;max-height:16px;margin:0px;margin-right:7.5px;' src='data:image/svg+xml;base64,PD94bWwgdmVyc2lvbj0iMS4wIiBlbmNvZGluZz0iVVRGLTgiPz4KPHN2ZyB3aWR0aD0iODBweCIgaGVpZ2h0PSI4MHB4IiB2aWV3Qm94PSIwIDAgODAgODAiIHZlcnNpb249IjEuMSIgeG1sbnM9Imh0dHA6Ly93d3cudzMub3JnLzIwMDAvc3ZnIiB4bWxuczp4bGluaz0iaHR0cDovL3d3dy53My5vcmcvMTk5OS94bGluayI+CiAgICA8IS0tIEdlbmVyYXRvcjogU2tldGNoIDU0LjEgKDc2NDkwKSAtIGh0dHBzOi8vc2tldGNoYXBwLmNvbSAtLT4KICAgIDx0aXRsZT5Hcm91cCAzPC90aXRsZT4KICAgIDxkZXNjPkNyZWF0ZWQgd2l0aCBTa2V0Y2guPC9kZXNjPgogICAgPGcgaWQ9IkxhbmRpbmciIHN0cm9rZT0ibm9uZSIgc3Ryb2tlLXdpZHRoPSIxIiBmaWxsPSJub25lIiBmaWxsLXJ1bGU9ImV2ZW5vZGQiPgogICAgICAgIDxnIGlkPSJBcnRib2FyZCIgdHJhbnNmb3JtPSJ0cmFuc2xhdGUoLTEyMzUuMDAwMDAwLCAtNzkuMDAwMDAwKSI+CiAgICAgICAgICAgIDxnIGlkPSJHcm91cC0zIiB0cmFuc2Zvcm09InRyYW5zbGF0ZSgxMjM1LjAwMDAwMCwgNzkuMDAwMDAwKSI+CiAgICAgICAgICAgICAgICA8cG9seWdvbiBpZD0iUGF0aC0yMCIgZmlsbD0iIzAyNjVCNCIgcG9pbnRzPSIyLjM3NjIzNzYyIDgwIDM4LjA0NzY2NjcgODAgNTcuODIxNzgyMiA3My44MDU3NTkyIDU3LjgyMTc4MjIgMzIuNzU5MjczOSAzOS4xNDAyMjc4IDMxLjY4MzE2ODMiPjwvcG9seWdvbj4KICAgICAgICAgICAgICAgIDxwYXRoIGQ9Ik0zNS4wMDc3MTgsODAgQzQyLjkwNjIwMDcsNzYuNDU0OTM1OCA0Ny41NjQ5MTY3LDcxLjU0MjI2NzEgNDguOTgzODY2LDY1LjI2MTk5MzkgQzUxLjExMjI4OTksNTUuODQxNTg0MiA0MS42NzcxNzk1LDQ5LjIxMjIyODQgMjUuNjIzOTg0Niw0OS4yMTIyMjg0IEMyNS40ODQ5Mjg5LDQ5LjEyNjg0NDggMjkuODI2MTI5Niw0My4yODM4MjQ4IDM4LjY0NzU4NjksMzEuNjgzMTY4MyBMNzIuODcxMjg3MSwzMi41NTQ0MjUgTDY1LjI4MDk3Myw2Ny42NzYzNDIxIEw1MS4xMTIyODk5LDc3LjM3NjE0NCBMMzUuMDA3NzE4LDgwIFoiIGlkPSJQYXRoLTIyIiBmaWxsPSIjMDAyODY4Ij48L3BhdGg+CiAgICAgICAgICAgICAgICA8cGF0aCBkPSJNMCwzNy43MzA0NDA1IEwyNy4xMTQ1MzcsMC4yNTcxMTE0MzYgQzYyLjM3MTUxMjMsLTEuOTkwNzE3MDEgODAsMTAuNTAwMzkyNyA4MCwzNy43MzA0NDA1IEM4MCw2NC45NjA0ODgyIDY0Ljc3NjUwMzgsNzkuMDUwMzQxNCAzNC4zMjk1MTEzLDgwIEM0Ny4wNTUzNDg5LDc3LjU2NzA4MDggNTMuNDE4MjY3Nyw3MC4zMTM2MTAzIDUzLjQxODI2NzcsNTguMjM5NTg4NSBDNTMuNDE4MjY3Nyw0MC4xMjg1NTU3IDM2LjMwMzk1NDQsMzcuNzMwNDQwNSAyNS4yMjc0MTcsMzcuNzMwNDQwNSBDMTcuODQzMDU4NiwzNy43MzA0NDA1IDkuNDMzOTE5NjYsMzcuNzMwNDQwNSAwLDM3LjczMDQ0MDUgWiIgaWQ9IlBhdGgtMTkiIGZpbGw9IiMzNzkzRUYiPjwvcGF0aD4KICAgICAgICAgICAgPC9nPgogICAgICAgIDwvZz4KICAgIDwvZz4KPC9zdmc+' > </img>\n",
    "Created in <span style='font-weight:600;margin-left:4px;'>Deepnote</span></a>"
   ]
  }
 ],
 "metadata": {
  "deepnote": {},
  "deepnote_execution_queue": [
   {
    "cellId": "00036-f8044fff-4d29-45bd-8ff8-21846e0256f1",
    "msgId": "a0eefad6-7bbd-4603-8fed-2940de8884ea",
    "sessionId": "a4c44e80-405a-43fc-968f-79577dc2c4bf"
   }
  ],
  "deepnote_notebook_id": "4d03dad0-0d4b-4262-80a0-cfac3bff1f59",
  "hide_input": false,
  "kernelspec": {
   "display_name": "Python 3",
   "language": "python",
   "name": "python3"
  },
  "language_info": {
   "codemirror_mode": {
    "name": "ipython",
    "version": 3
   },
   "file_extension": ".py",
   "mimetype": "text/x-python",
   "name": "python",
   "nbconvert_exporter": "python",
   "pygments_lexer": "ipython3",
   "version": "3.8.2"
  },
  "toc": {
   "base_numbering": 1,
   "nav_menu": {},
   "number_sections": true,
   "sideBar": true,
   "skip_h1_title": false,
   "title_cell": "Table of Contents",
   "title_sidebar": "Contents",
   "toc_cell": false,
   "toc_position": {},
   "toc_section_display": true,
   "toc_window_display": false
  },
  "varInspector": {
   "cols": {
    "lenName": 16,
    "lenType": 16,
    "lenVar": 40
   },
   "kernels_config": {
    "python": {
     "delete_cmd_postfix": "",
     "delete_cmd_prefix": "del ",
     "library": "var_list.py",
     "varRefreshCmd": "print(var_dic_list())"
    },
    "r": {
     "delete_cmd_postfix": ") ",
     "delete_cmd_prefix": "rm(",
     "library": "var_list.r",
     "varRefreshCmd": "cat(var_dic_list()) "
    }
   },
   "types_to_exclude": [
    "module",
    "function",
    "builtin_function_or_method",
    "instance",
    "_Feature"
   ],
   "window_display": false
  }
 },
 "nbformat": 4,
 "nbformat_minor": 5
}
